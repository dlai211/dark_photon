{
 "cells": [
  {
   "cell_type": "code",
   "execution_count": 1,
   "metadata": {},
   "outputs": [
    {
     "name": "stdout",
     "output_type": "stream",
     "text": [
      "The history saving thread hit an unexpected error (OperationalError('attempt to write a readonly database')).History will not be written to the database.\n"
     ]
    }
   ],
   "source": [
    "# import modules\n",
    "import uproot, sys, time, math\n",
    "import numpy as np\n",
    "import matplotlib.pyplot as plt\n",
    "import pandas as pd\n",
    "import awkward as ak\n",
    "from tqdm import tqdm\n",
    "import seaborn as sns\n",
    "from sklearn.metrics import roc_curve, auc\n",
    "from sklearn.model_selection import train_test_split\n",
    "from matplotlib.ticker import FormatStrFormatter\n",
    "import matplotlib.ticker as ticker\n",
    "from scipy.special import betainc\n",
    "from scipy.stats import norm\n",
    "\n",
    "# import config functions\n",
    "from plot_config import getWeight, zbi, sample_dict, getVarDict\n",
    "from plot_var import variables, ntuple_name, ntuple_name_BDT\n",
    "\n",
    "\n",
    "# Set up plot defaults\n",
    "import matplotlib as mpl\n",
    "mpl.rcParams['figure.figsize'] = 14.0,10.0  # Roughly 11 cm wde by 8 cm high\n",
    "mpl.rcParams['font.size'] = 20.0 # Use 14 point font\n",
    "sns.set(style=\"whitegrid\")\n",
    "\n",
    "font_size = {\n",
    "    \"xlabel\": 17,\n",
    "    \"ylabel\": 17,\n",
    "    \"xticks\": 15,\n",
    "    \"yticks\": 15,\n",
    "    \"legend\": 14\n",
    "}\n",
    "\n",
    "plt.rcParams.update({\n",
    "    \"axes.labelsize\": font_size[\"xlabel\"],  # X and Y axis labels\n",
    "    \"xtick.labelsize\": font_size[\"xticks\"],  # X ticks\n",
    "    \"ytick.labelsize\": font_size[\"yticks\"],  # Y ticks\n",
    "    \"legend.fontsize\": font_size[\"legend\"]  # Legend\n",
    "})"
   ]
  },
  {
   "cell_type": "code",
   "execution_count": 2,
   "metadata": {},
   "outputs": [
    {
     "name": "stdout",
     "output_type": "stream",
     "text": [
      "processing file:  /data/tmathew/ntups/mc23d/ggHyyd_y.root\n",
      "Unweighted Events before cut:  225374\n",
      "Weighted Events before cut:  22918.521\n",
      "Unweighted Events after cut:  4575\n",
      "Weighted Events after cut:  460.70255\n",
      "Number of none values:  0\n",
      "Reading Time for ggHyyd: 4.226085186004639 seconds\n",
      "\n",
      "processing file:  /data/tmathew/ntups/mc23d/Zjets_y.root\n",
      "Unweighted Events before cut:  11544081\n",
      "Weighted Events before cut:  1739103.6\n",
      "Unweighted Events after cut:  31608\n",
      "Weighted Events after cut:  3366.5044\n",
      "Number of none values:  0\n",
      "Reading Time for Zjets: 128.04662704467773 seconds\n",
      "\n",
      "processing file:  /data/tmathew/ntups/mc23d/Zgamma_y.root\n",
      "Unweighted Events before cut:  4341141\n",
      "Weighted Events before cut:  310120.2\n",
      "Unweighted Events after cut:  1712923\n",
      "Weighted Events after cut:  52604.98\n",
      "Number of none values:  0\n",
      "Reading Time for Zgamma: 70.11236619949341 seconds\n",
      "\n",
      "processing file:  /data/tmathew/ntups/mc23d/Wgamma_y.root\n",
      "Unweighted Events before cut:  1772654\n",
      "Weighted Events before cut:  567686.56\n",
      "Unweighted Events after cut:  297006\n",
      "Weighted Events after cut:  36437.637\n",
      "Number of none values:  0\n",
      "Reading Time for Wgamma: 19.930838584899902 seconds\n",
      "\n",
      "processing file:  /data/tmathew/ntups/mc23d/Wjets_y.root\n",
      "Unweighted Events before cut:  3041984\n",
      "Weighted Events before cut:  3974293.0\n",
      "Unweighted Events after cut:  53025\n",
      "Weighted Events after cut:  46580.875\n",
      "Number of none values:  0\n",
      "Reading Time for Wjets: 32.51702928543091 seconds\n",
      "\n",
      "processing file:  /data/tmathew/ntups/mc23d/gammajet_direct_y.root\n",
      "Unweighted Events before cut:  13721741\n",
      "Weighted Events before cut:  172729870.0\n",
      "Unweighted Events after cut:  1135000\n",
      "Weighted Events after cut:  929430.2\n",
      "Number of none values:  0\n",
      "Reading Time for gammajet_direct: 126.91062331199646 seconds\n",
      "\n",
      "processing file:  /data/tmathew/ntups/mc23d/gammajet_frag_y.root\n",
      "Unweighted Events before cut:  9857767\n",
      "Weighted Events before cut:  148784560.0\n",
      "Unweighted Events after cut:  394482\n",
      "Weighted Events after cut:  653013.56\n",
      "Number of none values:  0\n",
      "Reading Time for gammajet_frag: 83.45392537117004 seconds\n",
      "\n",
      "processing file:  /data/tmathew/ntups/mc23d/dijet_y.root\n",
      "Unweighted Events before cut:  2191941\n",
      "Weighted Events before cut:  23179661000.0\n",
      "Unweighted Events after cut:  180915\n",
      "Weighted Events after cut:  588100800.0\n",
      "Number of none values:  0\n",
      "Reading Time for dijet: 27.818782329559326 seconds\n",
      "\n"
     ]
    }
   ],
   "source": [
    "tot = []\n",
    "data = pd.DataFrame()\n",
    "unweighted_bcut, weighted_bcut, unweighted_acut, weighted_acut = [], [], [], []\n",
    "\n",
    "def test(fb):\n",
    "    # checking if there are any none values\n",
    "    mask = ak.is_none(fb['met_tst_et'])\n",
    "    n_none = ak.sum(mask)\n",
    "    print(\"Number of none values: \", n_none)\n",
    "    # if n_none > 0:\n",
    "    #     fb = fb[~mask]\n",
    "    # print(\"Events after removing none values: \", len(fb), ak.sum(ak.is_none(fb['met_tst_et'])))\n",
    "\n",
    "# i = 0\n",
    "for i in range(len(ntuple_name)):\n",
    "    ucut, wcut = [], []\n",
    "    start_time = time.time()\n",
    "    path = f\"/data/tmathew/ntups/mc23d/{ntuple_name[i]}_y.root\" \n",
    "    path_BDT = f\"/data/fpiazza/ggHyyd/Ntuples/MC23d/withVertexBDT/mc23d_{ntuple_name_BDT[i]}_y_BDT_score.root\" \n",
    "    print('processing file: ', path)\n",
    "    f = uproot.open(path)['nominal']\n",
    "    fb = f.arrays(variables, library=\"ak\")\n",
    "\n",
    "    # add BDT score to fb\n",
    "    f_BDT = uproot.open(path_BDT)['nominal']\n",
    "    fb_BDT = f_BDT.arrays([\"event\", \"BDTScore\"], library=\"ak\")\n",
    "    tmp = fb[\"event\"] == fb_BDT[\"event\"]\n",
    "    if np.all(tmp) == True:\n",
    "        fb[\"BDTScore\"] = fb_BDT[\"BDTScore\"]\n",
    "    else: \n",
    "        print(\"Something is wrong, need arranging\")\n",
    "    \n",
    "\n",
    "    print(\"Unweighted Events before cut: \", len(fb))\n",
    "    print(\"Weighted Events before cut: \", sum(getWeight(fb, ntuple_name[i])))\n",
    "    unweighted_bcut.append(len(fb))\n",
    "    weighted_bcut.append(sum(getWeight(fb, ntuple_name[i])))\n",
    "\n",
    "\n",
    "    fb = fb[fb['n_ph_baseline'] == 1]\n",
    "    fb = fb[fb['n_ph'] == 1]\n",
    "    fb = fb[fb['n_mu_baseline'] == 0]\n",
    "    fb = fb[fb['n_el_baseline'] == 0]\n",
    "    fb = fb[fb['n_tau_baseline'] == 0]\n",
    "    fb = fb[fb['trigger_HLT_g50_tight_xe40_cell_xe70_pfopufit_80mTAC_L1eEM26M']==1]\n",
    "    fb = fb[ak.num(fb['ph_pt']) > 0] # prevent none values in Tbranch\n",
    "    fb = fb[fb['met_tst_et'] >= 100000] # MET cut (basic cut)\n",
    "    fb = fb[ak.firsts(fb['ph_pt']) >= 50000] # ph_pt cut (basic cut)\n",
    "    fb = fb[fb['n_jet_central'] <= 4] # n_jet_central cut (basic cut)\n",
    "    # goodPV on signal only\n",
    "    if ntuple_name[i] == 'ggHyyd':\n",
    "        fb = fb[ak.num(fb['pv_z']) > 0]\n",
    "        good_pv_tmp = (np.abs(ak.firsts(fb['pv_truth_z']) - ak.firsts(fb['pv_z'])) <= 0.5)\n",
    "        fb = fb[good_pv_tmp]\n",
    "\n",
    "    mt_tmp = np.sqrt(2 * fb['met_tst_et'] * ak.firsts(fb['ph_pt']) * \n",
    "                            (1 - np.cos(fb['met_tst_phi'] - ak.firsts(fb['ph_phi'])))) / 1000\n",
    "    mask1 = mt_tmp >= 100 # trigger cut\n",
    "    fb = fb[mask1]\n",
    "    ucut.append(len(fb))\n",
    "    wcut.append(sum(getWeight(fb, ntuple_name[i])))\n",
    "\n",
    "    # fb = fb[fb['BDTScore'] >= 0.1] # added cut 1\n",
    "    # ucut.append(len(fb))\n",
    "    # wcut.append(sum(getWeight(fb, ntuple_name[i])))\n",
    "\n",
    "\n",
    "    # metsig_tmp = fb['met_tst_sig'] # added cut 2 \n",
    "    # mask1 = metsig_tmp >= 7\n",
    "    # fb = fb[mask1]\n",
    "    # ucut.append(len(fb))\n",
    "    # wcut.append(sum(getWeight(fb, ntuple_name[i])))\n",
    "\n",
    "\n",
    "    # dphi_met_phterm_tmp = np.arccos(np.cos(fb['met_tst_phi'] - fb['met_phterm_phi'])) # added cut 3\n",
    "    # fb = fb[dphi_met_phterm_tmp >= 1.35]\n",
    "    # ucut.append(len(fb))\n",
    "    # wcut.append(sum(getWeight(fb, ntuple_name[i])))\n",
    "\n",
    "\n",
    "    # dmet_tmp = fb['met_tst_noJVT_et'] - fb['met_tst_et'] # added cut 4\n",
    "    # mask1 = dmet_tmp >= -20000\n",
    "    # mask2 = dmet_tmp <= 50000\n",
    "    # fb = fb[mask1 * mask2]\n",
    "    # ucut.append(len(fb))\n",
    "    # wcut.append(sum(getWeight(fb, ntuple_name[i])))\n",
    "\n",
    "\n",
    "    # dphi_met_jetterm_tmp = np.where(fb['met_jetterm_et'] != 0,   # added cut 5\n",
    "    #                         np.arccos(np.cos(fb['met_tst_phi'] - fb['met_jetterm_phi'])),\n",
    "    #                         -999)\n",
    "    # fb = fb[dphi_met_jetterm_tmp <= 0.7]\n",
    "    # ucut.append(len(fb))\n",
    "    # wcut.append(sum(getWeight(fb, ntuple_name[i])))\n",
    "\n",
    "\n",
    "    # ph_eta_tmp = np.abs(ak.firsts(fb['ph_eta'])) # added cut 6\n",
    "    # fb = fb[ph_eta_tmp <= 1.75]\n",
    "    # ucut.append(len(fb))\n",
    "    # wcut.append(sum(getWeight(fb, ntuple_name[i])))\n",
    "\n",
    "\n",
    "    # phi1_tmp = ak.firsts(fb['jet_central_phi']) # added cut 7\n",
    "    # phi2_tmp = ak.mask(fb['jet_central_phi'], ak.num(fb['jet_central_phi']) >= 2)[:, 1] \n",
    "    # dphi_tmp = np.arccos(np.cos(phi1_tmp - phi2_tmp))\n",
    "    # dphi_jj_tmp = ak.fill_none(dphi_tmp, -999)\n",
    "    # fb = fb[dphi_jj_tmp <= 2.5]\n",
    "    # ucut.append(len(fb))\n",
    "    # wcut.append(sum(getWeight(fb, ntuple_name[i])))\n",
    "\n",
    "\n",
    "    # jet_sum_tmp = ak.sum(fb['jet_central_pt'], axis=-1)\n",
    "    # expr = (fb['met_tst_et'] + ak.firsts(fb['ph_pt'])) / ak.where(jet_sum_tmp != 0, jet_sum_tmp, 1)\n",
    "    # balance_tmp = ak.where(jet_sum_tmp != 0, expr, 999) \n",
    "    # fb = fb[balance_tmp >= 0.65]\n",
    "    # ucut.append(len(fb))\n",
    "    # wcut.append(sum(getWeight(fb, ntuple_name[i])))\n",
    "\n",
    "    # mt_tmp = np.sqrt(2 * fb['met_tst_et'] * ak.firsts(fb['ph_pt']) * \n",
    "    #                     (1 - np.cos(fb['met_tst_phi'] - ak.firsts(fb['ph_phi'])))) / 1000\n",
    "    # mask1 = mt_tmp >= 95\n",
    "    # fb = fb[mask1]\n",
    "\n",
    "    print(\"Unweighted Events after cut: \", len(fb))\n",
    "    print(\"Weighted Events after cut: \", sum(getWeight(fb, ntuple_name[i])))\n",
    "    ucut.append(len(fb))\n",
    "    wcut.append(sum(getWeight(fb, ntuple_name[i])))\n",
    "\n",
    "\n",
    "    unweighted_acut.append(ucut)\n",
    "    # unweighted_acut.append(len(fb))\n",
    "    weighted_acut.append(wcut)\n",
    "    test(fb) # check for none value\n",
    "\n",
    "    print(f\"Reading Time for {ntuple_name[i]}: {(time.time()-start_time)} seconds\\n\")\n",
    "\n",
    "\n",
    "\n",
    "    tot.append(fb)\n",
    "\n",
    "    fb = 0\n",
    "    fb_BDT = 0\n",
    "    tmp = 0\n"
   ]
  },
  {
   "cell_type": "code",
   "execution_count": null,
   "metadata": {},
   "outputs": [
    {
     "data": {
      "text/html": [
       "<div>\n",
       "<style scoped>\n",
       "    .dataframe tbody tr th:only-of-type {\n",
       "        vertical-align: middle;\n",
       "    }\n",
       "\n",
       "    .dataframe tbody tr th {\n",
       "        vertical-align: top;\n",
       "    }\n",
       "\n",
       "    .dataframe thead th {\n",
       "        text-align: right;\n",
       "    }\n",
       "</style>\n",
       "<table border=\"1\" class=\"dataframe\">\n",
       "  <thead>\n",
       "    <tr style=\"text-align: right;\">\n",
       "      <th></th>\n",
       "      <th>process_file</th>\n",
       "      <th>before_cut</th>\n",
       "      <th>basic_cut</th>\n",
       "      <th>BDTScore_cut</th>\n",
       "      <th>metsig_cut</th>\n",
       "      <th>dphi_met_phterm_cut</th>\n",
       "      <th>dmet_cut</th>\n",
       "      <th>dphi_met_jetterm_cut</th>\n",
       "      <th>ph_eta_cut</th>\n",
       "      <th>dphi_jj_cut</th>\n",
       "      <th>balance_cut</th>\n",
       "    </tr>\n",
       "  </thead>\n",
       "  <tbody>\n",
       "    <tr>\n",
       "      <th>0</th>\n",
       "      <td>ggHyyd</td>\n",
       "      <td>2.291852e+04</td>\n",
       "      <td>4.607025e+02</td>\n",
       "      <td>374.836853</td>\n",
       "      <td>297.170380</td>\n",
       "      <td>254.443542</td>\n",
       "      <td>252.465546</td>\n",
       "      <td>242.986328</td>\n",
       "      <td>213.228012</td>\n",
       "      <td>203.699371</td>\n",
       "      <td>201.364838</td>\n",
       "    </tr>\n",
       "    <tr>\n",
       "      <th>1</th>\n",
       "      <td>Zjets</td>\n",
       "      <td>1.739104e+06</td>\n",
       "      <td>3.366504e+03</td>\n",
       "      <td>836.129150</td>\n",
       "      <td>651.355225</td>\n",
       "      <td>106.291389</td>\n",
       "      <td>104.371712</td>\n",
       "      <td>75.640579</td>\n",
       "      <td>59.042686</td>\n",
       "      <td>53.870728</td>\n",
       "      <td>54.017796</td>\n",
       "    </tr>\n",
       "    <tr>\n",
       "      <th>2</th>\n",
       "      <td>Zgamma</td>\n",
       "      <td>3.101202e+05</td>\n",
       "      <td>5.260498e+04</td>\n",
       "      <td>16731.757812</td>\n",
       "      <td>15201.710938</td>\n",
       "      <td>1892.964966</td>\n",
       "      <td>1863.441284</td>\n",
       "      <td>1551.648682</td>\n",
       "      <td>1197.343140</td>\n",
       "      <td>1048.782471</td>\n",
       "      <td>1011.876404</td>\n",
       "    </tr>\n",
       "    <tr>\n",
       "      <th>3</th>\n",
       "      <td>Wgamma</td>\n",
       "      <td>5.676866e+05</td>\n",
       "      <td>3.643764e+04</td>\n",
       "      <td>15610.069336</td>\n",
       "      <td>13061.702148</td>\n",
       "      <td>3335.884277</td>\n",
       "      <td>3231.913086</td>\n",
       "      <td>2673.809326</td>\n",
       "      <td>2035.458496</td>\n",
       "      <td>1790.489868</td>\n",
       "      <td>1729.088623</td>\n",
       "    </tr>\n",
       "    <tr>\n",
       "      <th>4</th>\n",
       "      <td>Wjets</td>\n",
       "      <td>3.974293e+06</td>\n",
       "      <td>4.658088e+04</td>\n",
       "      <td>15982.568359</td>\n",
       "      <td>12688.290039</td>\n",
       "      <td>2631.153809</td>\n",
       "      <td>2545.381104</td>\n",
       "      <td>2341.007568</td>\n",
       "      <td>1325.884644</td>\n",
       "      <td>1221.256836</td>\n",
       "      <td>1166.873413</td>\n",
       "    </tr>\n",
       "    <tr>\n",
       "      <th>5</th>\n",
       "      <td>gammajet_direct</td>\n",
       "      <td>1.727299e+08</td>\n",
       "      <td>9.294302e+05</td>\n",
       "      <td>59343.796875</td>\n",
       "      <td>14698.438477</td>\n",
       "      <td>431.961609</td>\n",
       "      <td>311.335022</td>\n",
       "      <td>95.636482</td>\n",
       "      <td>61.321941</td>\n",
       "      <td>55.431190</td>\n",
       "      <td>55.418091</td>\n",
       "    </tr>\n",
       "    <tr>\n",
       "      <th>6</th>\n",
       "      <td>gammajet_frag</td>\n",
       "      <td>1.487846e+08</td>\n",
       "      <td>6.530136e+05</td>\n",
       "      <td>118698.351562</td>\n",
       "      <td>17928.494141</td>\n",
       "      <td>2309.002197</td>\n",
       "      <td>2187.309326</td>\n",
       "      <td>1922.665894</td>\n",
       "      <td>1467.255005</td>\n",
       "      <td>524.293640</td>\n",
       "      <td>357.506653</td>\n",
       "    </tr>\n",
       "    <tr>\n",
       "      <th>7</th>\n",
       "      <td>dijet</td>\n",
       "      <td>2.317966e+10</td>\n",
       "      <td>5.881008e+08</td>\n",
       "      <td>255957.625000</td>\n",
       "      <td>19266.144531</td>\n",
       "      <td>1123.979126</td>\n",
       "      <td>762.453430</td>\n",
       "      <td>306.960083</td>\n",
       "      <td>275.131866</td>\n",
       "      <td>14.460024</td>\n",
       "      <td>8.355230</td>\n",
       "    </tr>\n",
       "  </tbody>\n",
       "</table>\n",
       "</div>"
      ],
      "text/plain": [
       "      process_file    before_cut     basic_cut   BDTScore_cut    metsig_cut  \\\n",
       "0           ggHyyd  2.291852e+04  4.607025e+02     374.836853    297.170380   \n",
       "1            Zjets  1.739104e+06  3.366504e+03     836.129150    651.355225   \n",
       "2           Zgamma  3.101202e+05  5.260498e+04   16731.757812  15201.710938   \n",
       "3           Wgamma  5.676866e+05  3.643764e+04   15610.069336  13061.702148   \n",
       "4            Wjets  3.974293e+06  4.658088e+04   15982.568359  12688.290039   \n",
       "5  gammajet_direct  1.727299e+08  9.294302e+05   59343.796875  14698.438477   \n",
       "6    gammajet_frag  1.487846e+08  6.530136e+05  118698.351562  17928.494141   \n",
       "7            dijet  2.317966e+10  5.881008e+08  255957.625000  19266.144531   \n",
       "\n",
       "   dphi_met_phterm_cut     dmet_cut  dphi_met_jetterm_cut   ph_eta_cut  \\\n",
       "0           254.443542   252.465546            242.986328   213.228012   \n",
       "1           106.291389   104.371712             75.640579    59.042686   \n",
       "2          1892.964966  1863.441284           1551.648682  1197.343140   \n",
       "3          3335.884277  3231.913086           2673.809326  2035.458496   \n",
       "4          2631.153809  2545.381104           2341.007568  1325.884644   \n",
       "5           431.961609   311.335022             95.636482    61.321941   \n",
       "6          2309.002197  2187.309326           1922.665894  1467.255005   \n",
       "7          1123.979126   762.453430            306.960083   275.131866   \n",
       "\n",
       "   dphi_jj_cut  balance_cut  \n",
       "0   203.699371   201.364838  \n",
       "1    53.870728    54.017796  \n",
       "2  1048.782471  1011.876404  \n",
       "3  1790.489868  1729.088623  \n",
       "4  1221.256836  1166.873413  \n",
       "5    55.431190    55.418091  \n",
       "6   524.293640   357.506653  \n",
       "7    14.460024     8.355230  "
      ]
     },
     "execution_count": 6,
     "metadata": {},
     "output_type": "execute_result"
    }
   ],
   "source": [
    "# Table of before and after cut unweighted and weighted event\n",
    "pd.DataFrame({\n",
    "    'process_file': ntuple_name,\n",
    "    'before_cut': weighted_bcut,\n",
    "    'basic_cut': transposed_acut[0],\n",
    "    'BDTScore_cut': transposed_acut[1],\n",
    "    'metsig_cut': transposed_acut[2],\n",
    "    'dphi_met_phterm_cut': transposed_acut[3],\n",
    "    'dmet_cut': transposed_acut[4],\n",
    "    'dphi_met_jetterm_cut': transposed_acut[5],\n",
    "    'ph_eta_cut': transposed_acut[6],\n",
    "    'dphi_jj_cut': transposed_acut[7],\n",
    "    'balance_cut': transposed_acut[8]\n",
    "    # 'selection ratio': np.array(weighted_acut)/np.array(weighted_bcut) * 100\n",
    "\n",
    "    # 'weighted_before_cut': weighted_bcut,\n",
    "    # 'after': unweighted_acut,\n",
    "    # 'weighted_acut': weighted_acut,\n",
    "})"
   ]
  },
  {
   "cell_type": "code",
   "execution_count": 4,
   "metadata": {},
   "outputs": [
    {
     "name": "stdout",
     "output_type": "stream",
     "text": [
      "successfully saved to sigstudy/mc23d_selectioncut/vtx_sumPt_nodijet.png\n"
     ]
    },
    {
     "name": "stderr",
     "output_type": "stream",
     "text": [
      "/home/jlai/.local/lib/python3.9/site-packages/awkward/_nplikes/array_module.py:251: RuntimeWarning: invalid value encountered in divide\n",
      "  return impl(*broadcasted_args, **(kwargs or {}))\n"
     ]
    },
    {
     "name": "stdout",
     "output_type": "stream",
     "text": [
      "successfully saved to sigstudy/mc23d_selectioncut/n_ph_nodijet.png\n"
     ]
    },
    {
     "name": "stderr",
     "output_type": "stream",
     "text": [
      "/home/jlai/.local/lib/python3.9/site-packages/awkward/_nplikes/array_module.py:251: RuntimeWarning: invalid value encountered in divide\n",
      "  return impl(*broadcasted_args, **(kwargs or {}))\n"
     ]
    },
    {
     "name": "stdout",
     "output_type": "stream",
     "text": [
      "successfully saved to sigstudy/mc23d_selectioncut/n_ph_baseline_nodijet.png\n"
     ]
    },
    {
     "name": "stderr",
     "output_type": "stream",
     "text": [
      "/home/jlai/.local/lib/python3.9/site-packages/awkward/_nplikes/array_module.py:251: RuntimeWarning: invalid value encountered in divide\n",
      "  return impl(*broadcasted_args, **(kwargs or {}))\n"
     ]
    },
    {
     "name": "stdout",
     "output_type": "stream",
     "text": [
      "successfully saved to sigstudy/mc23d_selectioncut/n_el_baseline_nodijet.png\n"
     ]
    },
    {
     "name": "stderr",
     "output_type": "stream",
     "text": [
      "/home/jlai/.local/lib/python3.9/site-packages/awkward/_nplikes/array_module.py:251: RuntimeWarning: invalid value encountered in divide\n",
      "  return impl(*broadcasted_args, **(kwargs or {}))\n"
     ]
    },
    {
     "name": "stdout",
     "output_type": "stream",
     "text": [
      "successfully saved to sigstudy/mc23d_selectioncut/n_mu_baseline_nodijet.png\n"
     ]
    },
    {
     "name": "stderr",
     "output_type": "stream",
     "text": [
      "/home/jlai/.local/lib/python3.9/site-packages/awkward/_nplikes/array_module.py:251: RuntimeWarning: invalid value encountered in divide\n",
      "  return impl(*broadcasted_args, **(kwargs or {}))\n"
     ]
    },
    {
     "name": "stdout",
     "output_type": "stream",
     "text": [
      "successfully saved to sigstudy/mc23d_selectioncut/n_tau_baseline_nodijet.png\n"
     ]
    },
    {
     "name": "stderr",
     "output_type": "stream",
     "text": [
      "/home/jlai/.local/lib/python3.9/site-packages/awkward/_nplikes/array_module.py:251: RuntimeWarning: invalid value encountered in sqrt\n",
      "  return impl(*broadcasted_args, **(kwargs or {}))\n",
      "/home/jlai/.local/lib/python3.9/site-packages/awkward/_nplikes/array_module.py:251: RuntimeWarning: invalid value encountered in divide\n",
      "  return impl(*broadcasted_args, **(kwargs or {}))\n"
     ]
    },
    {
     "name": "stdout",
     "output_type": "stream",
     "text": [
      "successfully saved to sigstudy/mc23d_selectioncut/puWeight_nodijet.png\n"
     ]
    },
    {
     "name": "stderr",
     "output_type": "stream",
     "text": [
      "/home/jlai/.local/lib/python3.9/site-packages/awkward/_nplikes/array_module.py:251: RuntimeWarning: invalid value encountered in sqrt\n",
      "  return impl(*broadcasted_args, **(kwargs or {}))\n",
      "/home/jlai/.local/lib/python3.9/site-packages/awkward/_nplikes/array_module.py:251: RuntimeWarning: invalid value encountered in divide\n",
      "  return impl(*broadcasted_args, **(kwargs or {}))\n"
     ]
    },
    {
     "name": "stdout",
     "output_type": "stream",
     "text": [
      "successfully saved to sigstudy/mc23d_selectioncut/actualIntPerXing_nodijet.png\n"
     ]
    },
    {
     "name": "stderr",
     "output_type": "stream",
     "text": [
      "/home/jlai/.local/lib/python3.9/site-packages/awkward/_nplikes/array_module.py:251: RuntimeWarning: invalid value encountered in divide\n",
      "  return impl(*broadcasted_args, **(kwargs or {}))\n"
     ]
    },
    {
     "name": "stdout",
     "output_type": "stream",
     "text": [
      "successfully saved to sigstudy/mc23d_selectioncut/mt_nodijet.png\n"
     ]
    },
    {
     "name": "stderr",
     "output_type": "stream",
     "text": [
      "/home/jlai/.local/lib/python3.9/site-packages/awkward/_nplikes/array_module.py:251: RuntimeWarning: invalid value encountered in divide\n",
      "  return impl(*broadcasted_args, **(kwargs or {}))\n"
     ]
    },
    {
     "name": "stdout",
     "output_type": "stream",
     "text": [
      "successfully saved to sigstudy/mc23d_selectioncut/metsig_nodijet.png\n"
     ]
    },
    {
     "name": "stderr",
     "output_type": "stream",
     "text": [
      "/home/jlai/.local/lib/python3.9/site-packages/awkward/_nplikes/array_module.py:251: RuntimeWarning: invalid value encountered in sqrt\n",
      "  return impl(*broadcasted_args, **(kwargs or {}))\n",
      "/home/jlai/.local/lib/python3.9/site-packages/awkward/_nplikes/array_module.py:251: RuntimeWarning: invalid value encountered in divide\n",
      "  return impl(*broadcasted_args, **(kwargs or {}))\n"
     ]
    },
    {
     "name": "stdout",
     "output_type": "stream",
     "text": [
      "successfully saved to sigstudy/mc23d_selectioncut/metsigres_nodijet.png\n"
     ]
    },
    {
     "name": "stderr",
     "output_type": "stream",
     "text": [
      "/home/jlai/.local/lib/python3.9/site-packages/awkward/_nplikes/array_module.py:251: RuntimeWarning: invalid value encountered in divide\n",
      "  return impl(*broadcasted_args, **(kwargs or {}))\n"
     ]
    },
    {
     "name": "stdout",
     "output_type": "stream",
     "text": [
      "successfully saved to sigstudy/mc23d_selectioncut/met_nodijet.png\n"
     ]
    },
    {
     "name": "stderr",
     "output_type": "stream",
     "text": [
      "/home/jlai/.local/lib/python3.9/site-packages/awkward/_nplikes/array_module.py:251: RuntimeWarning: invalid value encountered in divide\n",
      "  return impl(*broadcasted_args, **(kwargs or {}))\n"
     ]
    },
    {
     "name": "stdout",
     "output_type": "stream",
     "text": [
      "successfully saved to sigstudy/mc23d_selectioncut/met_noJVT_nodijet.png\n"
     ]
    },
    {
     "name": "stderr",
     "output_type": "stream",
     "text": [
      "/home/jlai/.local/lib/python3.9/site-packages/awkward/_nplikes/array_module.py:251: RuntimeWarning: invalid value encountered in divide\n",
      "  return impl(*broadcasted_args, **(kwargs or {}))\n"
     ]
    },
    {
     "name": "stdout",
     "output_type": "stream",
     "text": [
      "successfully saved to sigstudy/mc23d_selectioncut/met_cst_nodijet.png\n"
     ]
    },
    {
     "name": "stderr",
     "output_type": "stream",
     "text": [
      "/home/jlai/.local/lib/python3.9/site-packages/awkward/_nplikes/array_module.py:251: RuntimeWarning: invalid value encountered in sqrt\n",
      "  return impl(*broadcasted_args, **(kwargs or {}))\n",
      "/home/jlai/.local/lib/python3.9/site-packages/awkward/_nplikes/array_module.py:251: RuntimeWarning: invalid value encountered in divide\n",
      "  return impl(*broadcasted_args, **(kwargs or {}))\n"
     ]
    },
    {
     "name": "stdout",
     "output_type": "stream",
     "text": [
      "successfully saved to sigstudy/mc23d_selectioncut/met_track_nodijet.png\n"
     ]
    },
    {
     "name": "stderr",
     "output_type": "stream",
     "text": [
      "/home/jlai/.local/lib/python3.9/site-packages/awkward/_nplikes/array_module.py:251: RuntimeWarning: invalid value encountered in divide\n",
      "  return impl(*broadcasted_args, **(kwargs or {}))\n"
     ]
    },
    {
     "name": "stdout",
     "output_type": "stream",
     "text": [
      "successfully saved to sigstudy/mc23d_selectioncut/dmet_nodijet.png\n"
     ]
    },
    {
     "name": "stderr",
     "output_type": "stream",
     "text": [
      "/home/jlai/.local/lib/python3.9/site-packages/awkward/_nplikes/array_module.py:251: RuntimeWarning: invalid value encountered in divide\n",
      "  return impl(*broadcasted_args, **(kwargs or {}))\n"
     ]
    },
    {
     "name": "stdout",
     "output_type": "stream",
     "text": [
      "successfully saved to sigstudy/mc23d_selectioncut/ph_pt_nodijet.png\n"
     ]
    },
    {
     "name": "stderr",
     "output_type": "stream",
     "text": [
      "/home/jlai/.local/lib/python3.9/site-packages/awkward/_nplikes/array_module.py:251: RuntimeWarning: invalid value encountered in divide\n",
      "  return impl(*broadcasted_args, **(kwargs or {}))\n"
     ]
    },
    {
     "name": "stdout",
     "output_type": "stream",
     "text": [
      "successfully saved to sigstudy/mc23d_selectioncut/ph_eta_nodijet.png\n"
     ]
    },
    {
     "name": "stderr",
     "output_type": "stream",
     "text": [
      "/home/jlai/.local/lib/python3.9/site-packages/awkward/_nplikes/array_module.py:251: RuntimeWarning: invalid value encountered in divide\n",
      "  return impl(*broadcasted_args, **(kwargs or {}))\n"
     ]
    },
    {
     "name": "stdout",
     "output_type": "stream",
     "text": [
      "successfully saved to sigstudy/mc23d_selectioncut/ph_phi_nodijet.png\n"
     ]
    },
    {
     "name": "stderr",
     "output_type": "stream",
     "text": [
      "/home/jlai/.local/lib/python3.9/site-packages/awkward/_nplikes/array_module.py:251: RuntimeWarning: invalid value encountered in divide\n",
      "  return impl(*broadcasted_args, **(kwargs or {}))\n"
     ]
    },
    {
     "name": "stdout",
     "output_type": "stream",
     "text": [
      "successfully saved to sigstudy/mc23d_selectioncut/jet_central_eta_nodijet.png\n"
     ]
    },
    {
     "name": "stderr",
     "output_type": "stream",
     "text": [
      "/home/jlai/.local/lib/python3.9/site-packages/awkward/_nplikes/array_module.py:251: RuntimeWarning: invalid value encountered in divide\n",
      "  return impl(*broadcasted_args, **(kwargs or {}))\n"
     ]
    },
    {
     "name": "stdout",
     "output_type": "stream",
     "text": [
      "successfully saved to sigstudy/mc23d_selectioncut/jet_central_pt1_nodijet.png\n"
     ]
    },
    {
     "name": "stderr",
     "output_type": "stream",
     "text": [
      "/home/jlai/.local/lib/python3.9/site-packages/awkward/_nplikes/array_module.py:251: RuntimeWarning: invalid value encountered in divide\n",
      "  return impl(*broadcasted_args, **(kwargs or {}))\n"
     ]
    },
    {
     "name": "stdout",
     "output_type": "stream",
     "text": [
      "successfully saved to sigstudy/mc23d_selectioncut/jet_central_pt2_nodijet.png\n"
     ]
    },
    {
     "name": "stderr",
     "output_type": "stream",
     "text": [
      "/home/jlai/.local/lib/python3.9/site-packages/awkward/_nplikes/array_module.py:251: RuntimeWarning: invalid value encountered in divide\n",
      "  return impl(*broadcasted_args, **(kwargs or {}))\n"
     ]
    },
    {
     "name": "stdout",
     "output_type": "stream",
     "text": [
      "successfully saved to sigstudy/mc23d_selectioncut/jet_central_pt_nodijet.png\n"
     ]
    },
    {
     "name": "stderr",
     "output_type": "stream",
     "text": [
      "/home/jlai/.local/lib/python3.9/site-packages/awkward/_nplikes/array_module.py:251: RuntimeWarning: invalid value encountered in divide\n",
      "  return impl(*broadcasted_args, **(kwargs or {}))\n"
     ]
    },
    {
     "name": "stdout",
     "output_type": "stream",
     "text": [
      "successfully saved to sigstudy/mc23d_selectioncut/dphi_met_phterm_nodijet.png\n"
     ]
    },
    {
     "name": "stderr",
     "output_type": "stream",
     "text": [
      "/home/jlai/.local/lib/python3.9/site-packages/awkward/_nplikes/array_module.py:251: RuntimeWarning: invalid value encountered in sqrt\n",
      "  return impl(*broadcasted_args, **(kwargs or {}))\n",
      "/home/jlai/.local/lib/python3.9/site-packages/awkward/_nplikes/array_module.py:251: RuntimeWarning: invalid value encountered in divide\n",
      "  return impl(*broadcasted_args, **(kwargs or {}))\n"
     ]
    },
    {
     "name": "stdout",
     "output_type": "stream",
     "text": [
      "successfully saved to sigstudy/mc23d_selectioncut/dphi_met_ph_nodijet.png\n"
     ]
    },
    {
     "name": "stderr",
     "output_type": "stream",
     "text": [
      "/home/jlai/.local/lib/python3.9/site-packages/awkward/_nplikes/array_module.py:251: RuntimeWarning: invalid value encountered in divide\n",
      "  return impl(*broadcasted_args, **(kwargs or {}))\n"
     ]
    },
    {
     "name": "stdout",
     "output_type": "stream",
     "text": [
      "successfully saved to sigstudy/mc23d_selectioncut/dphi_met_jetterm_nodijet.png\n"
     ]
    },
    {
     "name": "stderr",
     "output_type": "stream",
     "text": [
      "/home/jlai/.local/lib/python3.9/site-packages/awkward/_nplikes/array_module.py:251: RuntimeWarning: invalid value encountered in divide\n",
      "  return impl(*broadcasted_args, **(kwargs or {}))\n"
     ]
    },
    {
     "name": "stdout",
     "output_type": "stream",
     "text": [
      "successfully saved to sigstudy/mc23d_selectioncut/dphi_phterm_jetterm_nodijet.png\n"
     ]
    },
    {
     "name": "stderr",
     "output_type": "stream",
     "text": [
      "/home/jlai/.local/lib/python3.9/site-packages/awkward/_nplikes/array_module.py:251: RuntimeWarning: invalid value encountered in sqrt\n",
      "  return impl(*broadcasted_args, **(kwargs or {}))\n",
      "/home/jlai/.local/lib/python3.9/site-packages/awkward/_nplikes/array_module.py:251: RuntimeWarning: invalid value encountered in divide\n",
      "  return impl(*broadcasted_args, **(kwargs or {}))\n"
     ]
    },
    {
     "name": "stdout",
     "output_type": "stream",
     "text": [
      "successfully saved to sigstudy/mc23d_selectioncut/dphi_met_phterm_minus_dphi_met_jetterm_nodijet.png\n"
     ]
    },
    {
     "name": "stderr",
     "output_type": "stream",
     "text": [
      "/home/jlai/.local/lib/python3.9/site-packages/awkward/_nplikes/array_module.py:251: RuntimeWarning: invalid value encountered in divide\n",
      "  return impl(*broadcasted_args, **(kwargs or {}))\n"
     ]
    },
    {
     "name": "stdout",
     "output_type": "stream",
     "text": [
      "successfully saved to sigstudy/mc23d_selectioncut/dphi_met_phterm_divide_dphi_met_jetterm_nodijet.png\n"
     ]
    },
    {
     "name": "stderr",
     "output_type": "stream",
     "text": [
      "/home/jlai/.local/lib/python3.9/site-packages/awkward/_nplikes/array_module.py:251: RuntimeWarning: invalid value encountered in sqrt\n",
      "  return impl(*broadcasted_args, **(kwargs or {}))\n",
      "/home/jlai/.local/lib/python3.9/site-packages/awkward/_nplikes/array_module.py:251: RuntimeWarning: invalid value encountered in divide\n",
      "  return impl(*broadcasted_args, **(kwargs or {}))\n"
     ]
    },
    {
     "name": "stdout",
     "output_type": "stream",
     "text": [
      "successfully saved to sigstudy/mc23d_selectioncut/dphi_ph_centraljet1_nodijet.png\n"
     ]
    },
    {
     "name": "stderr",
     "output_type": "stream",
     "text": [
      "/home/jlai/.local/lib/python3.9/site-packages/awkward/_nplikes/array_module.py:251: RuntimeWarning: invalid value encountered in sqrt\n",
      "  return impl(*broadcasted_args, **(kwargs or {}))\n",
      "/home/jlai/.local/lib/python3.9/site-packages/awkward/_nplikes/array_module.py:251: RuntimeWarning: invalid value encountered in divide\n",
      "  return impl(*broadcasted_args, **(kwargs or {}))\n"
     ]
    },
    {
     "name": "stdout",
     "output_type": "stream",
     "text": [
      "successfully saved to sigstudy/mc23d_selectioncut/dphi_ph_jet1_nodijet.png\n"
     ]
    },
    {
     "name": "stderr",
     "output_type": "stream",
     "text": [
      "/home/jlai/.local/lib/python3.9/site-packages/awkward/_nplikes/array_module.py:251: RuntimeWarning: invalid value encountered in divide\n",
      "  return impl(*broadcasted_args, **(kwargs or {}))\n"
     ]
    },
    {
     "name": "stdout",
     "output_type": "stream",
     "text": [
      "successfully saved to sigstudy/mc23d_selectioncut/metplusph_nodijet.png\n"
     ]
    },
    {
     "name": "stderr",
     "output_type": "stream",
     "text": [
      "/home/jlai/.local/lib/python3.9/site-packages/awkward/_nplikes/array_module.py:251: RuntimeWarning: invalid value encountered in divide\n",
      "  return impl(*broadcasted_args, **(kwargs or {}))\n"
     ]
    },
    {
     "name": "stdout",
     "output_type": "stream",
     "text": [
      "successfully saved to sigstudy/mc23d_selectioncut/failJVT_jet_pt_nodijet.png\n"
     ]
    },
    {
     "name": "stderr",
     "output_type": "stream",
     "text": [
      "/home/jlai/.local/lib/python3.9/site-packages/awkward/_nplikes/array_module.py:251: RuntimeWarning: invalid value encountered in sqrt\n",
      "  return impl(*broadcasted_args, **(kwargs or {}))\n"
     ]
    },
    {
     "name": "stdout",
     "output_type": "stream",
     "text": [
      "successfully saved to sigstudy/mc23d_selectioncut/failJVT_jet_pt1_nodijet.png\n"
     ]
    },
    {
     "name": "stderr",
     "output_type": "stream",
     "text": [
      "/home/jlai/.local/lib/python3.9/site-packages/awkward/_nplikes/array_module.py:251: RuntimeWarning: invalid value encountered in divide\n",
      "  return impl(*broadcasted_args, **(kwargs or {}))\n"
     ]
    },
    {
     "name": "stdout",
     "output_type": "stream",
     "text": [
      "successfully saved to sigstudy/mc23d_selectioncut/softerm_nodijet.png\n"
     ]
    },
    {
     "name": "stderr",
     "output_type": "stream",
     "text": [
      "/home/jlai/.local/lib/python3.9/site-packages/awkward/_nplikes/array_module.py:251: RuntimeWarning: invalid value encountered in divide\n",
      "  return impl(*broadcasted_args, **(kwargs or {}))\n"
     ]
    },
    {
     "name": "stdout",
     "output_type": "stream",
     "text": [
      "successfully saved to sigstudy/mc23d_selectioncut/jetterm_nodijet.png\n"
     ]
    },
    {
     "name": "stderr",
     "output_type": "stream",
     "text": [
      "/home/jlai/.local/lib/python3.9/site-packages/awkward/_nplikes/array_module.py:251: RuntimeWarning: invalid value encountered in divide\n",
      "  return impl(*broadcasted_args, **(kwargs or {}))\n"
     ]
    },
    {
     "name": "stdout",
     "output_type": "stream",
     "text": [
      "successfully saved to sigstudy/mc23d_selectioncut/jetterm_sumet_nodijet.png\n"
     ]
    },
    {
     "name": "stderr",
     "output_type": "stream",
     "text": [
      "/home/jlai/.local/lib/python3.9/site-packages/awkward/_nplikes/array_module.py:251: RuntimeWarning: invalid value encountered in divide\n",
      "  return impl(*broadcasted_args, **(kwargs or {}))\n"
     ]
    },
    {
     "name": "stdout",
     "output_type": "stream",
     "text": [
      "successfully saved to sigstudy/mc23d_selectioncut/n_jet_nodijet.png\n"
     ]
    },
    {
     "name": "stderr",
     "output_type": "stream",
     "text": [
      "/home/jlai/.local/lib/python3.9/site-packages/awkward/_nplikes/array_module.py:251: RuntimeWarning: invalid value encountered in divide\n",
      "  return impl(*broadcasted_args, **(kwargs or {}))\n"
     ]
    },
    {
     "name": "stdout",
     "output_type": "stream",
     "text": [
      "successfully saved to sigstudy/mc23d_selectioncut/n_jet_central_nodijet.png\n",
      "successfully saved to sigstudy/mc23d_selectioncut/n_jet_fwd_nodijet.png\n"
     ]
    },
    {
     "name": "stderr",
     "output_type": "stream",
     "text": [
      "/home/jlai/.local/lib/python3.9/site-packages/matplotlib/axes/_axes.py:6986: RuntimeWarning: Converting input from bool to <class 'numpy.uint8'> for compatibility.\n",
      "  bins = np.histogram_bin_edges(\n",
      "/home/jlai/.local/lib/python3.9/site-packages/matplotlib/axes/_axes.py:7001: RuntimeWarning: Converting input from bool to <class 'numpy.uint8'> for compatibility.\n",
      "  m, bins = np.histogram(x[i], bins, weights=w[i], **hist_kwargs)\n",
      "/home/jlai/.local/lib/python3.9/site-packages/awkward/_connect/numpy.py:112: RuntimeWarning: Converting input from bool to <class 'numpy.uint8'> for compatibility.\n",
      "  result = func(*rectilinear_args, **rectilinear_kwargs)\n"
     ]
    },
    {
     "name": "stdout",
     "output_type": "stream",
     "text": [
      "successfully saved to sigstudy/mc23d_selectioncut/goodPV_nodijet.png\n"
     ]
    },
    {
     "name": "stderr",
     "output_type": "stream",
     "text": [
      "/home/jlai/.local/lib/python3.9/site-packages/awkward/_nplikes/array_module.py:251: RuntimeWarning: invalid value encountered in sqrt\n",
      "  return impl(*broadcasted_args, **(kwargs or {}))\n",
      "/home/jlai/.local/lib/python3.9/site-packages/awkward/_nplikes/array_module.py:251: RuntimeWarning: invalid value encountered in divide\n",
      "  return impl(*broadcasted_args, **(kwargs or {}))\n"
     ]
    },
    {
     "name": "stdout",
     "output_type": "stream",
     "text": [
      "successfully saved to sigstudy/mc23d_selectioncut/dphi_met_central_jet_nodijet.png\n"
     ]
    },
    {
     "name": "stderr",
     "output_type": "stream",
     "text": [
      "/home/jlai/.local/lib/python3.9/site-packages/awkward/_nplikes/array_module.py:251: RuntimeWarning: invalid value encountered in sqrt\n",
      "  return impl(*broadcasted_args, **(kwargs or {}))\n",
      "/home/jlai/.local/lib/python3.9/site-packages/awkward/_nplikes/array_module.py:251: RuntimeWarning: invalid value encountered in divide\n",
      "  return impl(*broadcasted_args, **(kwargs or {}))\n"
     ]
    },
    {
     "name": "stdout",
     "output_type": "stream",
     "text": [
      "successfully saved to sigstudy/mc23d_selectioncut/jet_central_timing1_nodijet.png\n"
     ]
    },
    {
     "name": "stderr",
     "output_type": "stream",
     "text": [
      "/home/jlai/.local/lib/python3.9/site-packages/awkward/_nplikes/array_module.py:251: RuntimeWarning: invalid value encountered in sqrt\n",
      "  return impl(*broadcasted_args, **(kwargs or {}))\n",
      "/home/jlai/.local/lib/python3.9/site-packages/awkward/_nplikes/array_module.py:251: RuntimeWarning: invalid value encountered in divide\n",
      "  return impl(*broadcasted_args, **(kwargs or {}))\n"
     ]
    },
    {
     "name": "stdout",
     "output_type": "stream",
     "text": [
      "successfully saved to sigstudy/mc23d_selectioncut/jet_central_timing_nodijet.png\n"
     ]
    },
    {
     "name": "stderr",
     "output_type": "stream",
     "text": [
      "/home/jlai/.local/lib/python3.9/site-packages/awkward/_nplikes/array_module.py:251: RuntimeWarning: invalid value encountered in divide\n",
      "  return impl(*broadcasted_args, **(kwargs or {}))\n"
     ]
    },
    {
     "name": "stdout",
     "output_type": "stream",
     "text": [
      "successfully saved to sigstudy/mc23d_selectioncut/jet_central_emfrac_nodijet.png\n"
     ]
    },
    {
     "name": "stderr",
     "output_type": "stream",
     "text": [
      "/home/jlai/.local/lib/python3.9/site-packages/awkward/_nplikes/array_module.py:251: RuntimeWarning: invalid value encountered in sqrt\n",
      "  return impl(*broadcasted_args, **(kwargs or {}))\n",
      "/home/jlai/.local/lib/python3.9/site-packages/awkward/_nplikes/array_module.py:251: RuntimeWarning: invalid value encountered in divide\n",
      "  return impl(*broadcasted_args, **(kwargs or {}))\n"
     ]
    },
    {
     "name": "stdout",
     "output_type": "stream",
     "text": [
      "successfully saved to sigstudy/mc23d_selectioncut/balance_nodijet.png\n"
     ]
    },
    {
     "name": "stderr",
     "output_type": "stream",
     "text": [
      "/home/jlai/.local/lib/python3.9/site-packages/awkward/_nplikes/array_module.py:251: RuntimeWarning: invalid value encountered in divide\n",
      "  return impl(*broadcasted_args, **(kwargs or {}))\n"
     ]
    },
    {
     "name": "stdout",
     "output_type": "stream",
     "text": [
      "successfully saved to sigstudy/mc23d_selectioncut/balance_sumet_nodijet.png\n"
     ]
    },
    {
     "name": "stderr",
     "output_type": "stream",
     "text": [
      "/home/jlai/.local/lib/python3.9/site-packages/awkward/_nplikes/array_module.py:251: RuntimeWarning: invalid value encountered in divide\n",
      "  return impl(*broadcasted_args, **(kwargs or {}))\n"
     ]
    },
    {
     "name": "stdout",
     "output_type": "stream",
     "text": [
      "successfully saved to sigstudy/mc23d_selectioncut/central_jets_fraction_nodijet.png\n"
     ]
    },
    {
     "name": "stderr",
     "output_type": "stream",
     "text": [
      "/home/jlai/.local/lib/python3.9/site-packages/awkward/_nplikes/array_module.py:251: RuntimeWarning: invalid value encountered in divide\n",
      "  return impl(*broadcasted_args, **(kwargs or {}))\n"
     ]
    },
    {
     "name": "stdout",
     "output_type": "stream",
     "text": [
      "successfully saved to sigstudy/mc23d_selectioncut/trigger_nodijet.png\n"
     ]
    },
    {
     "name": "stderr",
     "output_type": "stream",
     "text": [
      "/home/jlai/.local/lib/python3.9/site-packages/awkward/_nplikes/array_module.py:251: RuntimeWarning: invalid value encountered in divide\n",
      "  return impl(*broadcasted_args, **(kwargs or {}))\n"
     ]
    },
    {
     "name": "stdout",
     "output_type": "stream",
     "text": [
      "successfully saved to sigstudy/mc23d_selectioncut/dphi_jj_nodijet.png\n"
     ]
    },
    {
     "name": "stderr",
     "output_type": "stream",
     "text": [
      "/home/jlai/.local/lib/python3.9/site-packages/awkward/_nplikes/array_module.py:251: RuntimeWarning: invalid value encountered in divide\n",
      "  return impl(*broadcasted_args, **(kwargs or {}))\n"
     ]
    },
    {
     "name": "stdout",
     "output_type": "stream",
     "text": [
      "successfully saved to sigstudy/mc23d_selectioncut/BDTScore_nodijet.png\n"
     ]
    }
   ],
   "source": [
    "def sel(tot):\n",
    "    tot2 = []\n",
    "    for i in range(len(tot)):\n",
    "        fb2 = tot[i]\n",
    "\n",
    "        # dphi_met_phterm_minus_dphi_met_jetterm_tmp =  np.where(fb2['met_jetterm_et'] > 0,\n",
    "        #                     np.arccos(np.cos(fb2['met_tst_phi'] - fb2['met_phterm_phi'])) -\n",
    "        #                     np.arccos(np.cos(fb2['met_tst_phi'] - fb2['met_jetterm_phi'])),\n",
    "        #                     -999)\n",
    "        # mask1 = dphi_met_phterm_minus_dphi_met_jetterm_tmp >= 0.8\n",
    "        # mask2 = dphi_met_phterm_minus_dphi_met_jetterm_tmp == -999\n",
    "        # fb2 = fb2[mask1 | mask2]\n",
    "\n",
    "        jet_sum_tmp = ak.sum(fb2['jet_central_pt'], axis=-1)\n",
    "        expr = (fb2['met_tst_et'] + ak.firsts(fb2['ph_pt'])) / ak.where(jet_sum_tmp != 0, jet_sum_tmp, 1)\n",
    "        balance_tmp = ak.where(jet_sum_tmp != 0, expr, -999)\n",
    "        mask1 = balance_tmp >= 0.65\n",
    "        mask2 = balance_tmp == -999\n",
    "        fb2 = fb2[mask1 | mask2]\n",
    "        \n",
    "        metsig_tmp = fb2['met_tst_sig'] \n",
    "        mask1 = metsig_tmp >= 7\n",
    "        mask2 = metsig_tmp <= 13\n",
    "        fb2 = fb2[mask1 * mask2]\n",
    "        \n",
    "        ph_eta_tmp = np.abs(ak.firsts(fb2['ph_eta']))\n",
    "        fb2 = fb2[ph_eta_tmp <= 1.75]\n",
    "\n",
    "        dphi_met_phterm_tmp = np.arccos(np.cos(fb2['met_tst_phi'] - fb2['met_phterm_phi'])) # added cut 3\n",
    "        fb2 = fb2[dphi_met_phterm_tmp >= 1.35]\n",
    "\n",
    "        dmet_tmp = fb2['met_tst_noJVT_et'] - fb2['met_tst_et']\n",
    "        mask1 = dmet_tmp >= -20000\n",
    "        mask2 = dmet_tmp <= 50000\n",
    "        fb2 = fb2[mask1 * mask2]\n",
    "\n",
    "        phi1_tmp = ak.firsts(fb2['jet_central_phi']) # added cut 7\n",
    "        phi2_tmp = ak.mask(fb2['jet_central_phi'], ak.num(fb2['jet_central_phi']) >= 2)[:, 1] \n",
    "        dphi_tmp = np.arccos(np.cos(phi1_tmp - phi2_tmp))\n",
    "        dphi_jj_tmp = ak.fill_none(dphi_tmp, -999)\n",
    "        fb2 = fb2[dphi_jj_tmp <= 2.5]\n",
    "\n",
    "        dphi_met_jetterm_tmp = np.where(fb2['met_jetterm_et'] != 0,   # added cut 5\n",
    "                            np.arccos(np.cos(fb2['met_tst_phi'] - fb2['met_jetterm_phi'])),\n",
    "                            -999)\n",
    "        fb2 = fb2[dphi_met_jetterm_tmp <= 0.70]\n",
    "\n",
    "        # mt_tmp = np.sqrt(2 * fb2['met_tst_et'] * ak.firsts(fb2['ph_pt']) * \n",
    "        #                     (1 - np.cos(fb2['met_tst_phi'] - ak.firsts(fb2['ph_phi'])))) / 1000\n",
    "        # mask1 = mt_tmp >= 95\n",
    "        # fb2 = fb2[mask1]\n",
    "\n",
    "        \n",
    "        tot2.append(fb2)\n",
    "    return tot2\n",
    "\n",
    "tot2 = sel(tot)\n",
    "# tot2 = tot\n",
    "\n",
    "cut_name = 'selection'\n",
    "# var_config = getVarDict(tot2[0], 'ggHyyd', var_name='balance')\n",
    "# cut_name = 'mt2'\n",
    "var_config = getVarDict(tot2[0], 'ggHyyd')\n",
    "\n",
    "\n",
    "for var in var_config:\n",
    "    # print(var)\n",
    "    bg_values = []     \n",
    "    bg_weights = []    \n",
    "    bg_colors = []     \n",
    "    bg_labels = []     \n",
    "\n",
    "    signal_values = [] \n",
    "    signal_weights = []\n",
    "    signal_color = None \n",
    "    signal_label = None\n",
    "\n",
    "    # for j in range(len(ntuple_name)):\n",
    "    for j in range(len(ntuple_name)-1): # leave dijet out\n",
    "        process = ntuple_name[j]\n",
    "        fb = tot2[j]  # TTree\n",
    "        var_config = getVarDict(fb, process, var_name=var)\n",
    "\n",
    "        x = var_config[var]['var'] # TBranch\n",
    "        bins = var_config[var]['bins'] \n",
    "\n",
    "        if 'weight' in var_config[var]:  # If weight is there\n",
    "            weights = var_config[var]['weight']\n",
    "        else:\n",
    "            weights = getWeight(fb, process)\n",
    "        # findnone(x)\n",
    "        # findnone(weights)\n",
    "\n",
    "        # mask = x != -999 # **Apply Cut: Remove -999 values**\n",
    "        # x = x[mask]\n",
    "        # weights = weights[mask]\n",
    "\n",
    "        # weights = abs(weights) # Study of abosolute weight\n",
    "        \n",
    "        sample_info = sample_dict[process]\n",
    "        color = sample_info['color']\n",
    "        legend = sample_info['legend']\n",
    "\n",
    "        \n",
    "        if process == 'ggHyyd':  # signal\n",
    "            signal_values.append(x)\n",
    "            signal_weights.append(weights)\n",
    "            signal_color = color\n",
    "            signal_label = legend\n",
    "        else:   # background\n",
    "            bg_values.append(x)\n",
    "            bg_weights.append(weights)\n",
    "            bg_colors.append(color)\n",
    "            bg_labels.append(legend)\n",
    "\n",
    "    fig, (ax_top, ax_bot) = plt.subplots(2, 1, figsize=(12, 13), gridspec_kw={'height_ratios': [9, 4]})\n",
    "\n",
    "    ax_top.hist(bg_values, bins=bins, weights=bg_weights, color=bg_colors,\n",
    "                label=bg_labels, stacked=True)\n",
    "\n",
    "    ax_top.hist(signal_values, bins=bins, weights=signal_weights, color=signal_color,\n",
    "                label=signal_label, histtype='step', linewidth=2)\n",
    "\n",
    "    signal_all = np.concatenate(signal_values) if len(signal_values) > 0 else np.array([])\n",
    "    signal_weights_all = np.concatenate(signal_weights) if len(signal_weights) > 0 else np.array([])\n",
    "\n",
    "    # Add error bar for signal (top plot)\n",
    "    if len(signal_all) > 0:\n",
    "        signal_counts, bin_edges = np.histogram(signal_all, bins=bins, weights=signal_weights_all)\n",
    "        sum_weights_sq, _ = np.histogram(signal_all, bins=bins, weights=signal_weights_all**2)\n",
    "        bin_centers = (bin_edges[:-1] + bin_edges[1:]) / 2\n",
    "        signal_errors = np.sqrt(sum_weights_sq)  # Poisson error sqrt(N)\n",
    "\n",
    "        ax_top.errorbar(bin_centers, signal_counts, yerr=signal_errors, fmt='.', linewidth=2,\n",
    "                        color=signal_color, capsize=0)\n",
    "\n",
    "    ax_top.set_yscale('log')\n",
    "    ax_top.set_ylim(0.0001, 1e11)\n",
    "    ax_top.set_xlim(bins[0], bins[-1])\n",
    "    ax_top.minorticks_on()\n",
    "    ax_top.grid(True, which=\"both\", linestyle=\"--\", linewidth=0.5)\n",
    "    ax_top.set_ylabel(\"Events\")\n",
    "    ax_top.legend(ncol=2)\n",
    "    # ax_top.set_title(\"vtx_sumPt distribution\")\n",
    "\n",
    "    bg_all = np.concatenate(bg_values) if len(bg_values) > 0 else np.array([])\n",
    "    bg_weights_all = np.concatenate(bg_weights) if len(bg_weights) > 0 else np.array([])\n",
    "\n",
    "    # Compute the weighted histogram counts using np.histogram\n",
    "    S_counts, _ = np.histogram(signal_all, bins=bins, weights=signal_weights_all)\n",
    "    B_counts, _ = np.histogram(bg_all, bins=bins, weights=bg_weights_all)     \n",
    "\n",
    "    # Compute per-bin significance\n",
    "    sig_simple = np.zeros_like(S_counts, dtype=float)\n",
    "    sig_s_plus_b = np.zeros_like(S_counts, dtype=float)\n",
    "    sig_s_plus_1p3b = np.zeros_like(S_counts, dtype=float)\n",
    "\n",
    "    sqrt_B = np.sqrt(B_counts)\n",
    "    sqrt_SplusB = np.sqrt(S_counts + B_counts)\n",
    "    sqrt_Splus1p3B = np.sqrt(S_counts + 1.3 * B_counts)\n",
    "\n",
    "    # Avoid division by zero safely\n",
    "    sig_simple = np.where(B_counts > 0, S_counts / sqrt_B, 0)\n",
    "    sig_s_plus_b = np.where((S_counts + B_counts) > 0, S_counts / sqrt_SplusB, 0)\n",
    "    sig_s_plus_1p3b = np.where((S_counts + 1.3 * B_counts) > 0, S_counts / sqrt_Splus1p3B, 0)\n",
    "\n",
    "    # Add Binomial ExpZ per bin\n",
    "    zbi_per_bin = np.array([\n",
    "        zbi(S_counts[i], B_counts[i], sigma_b_frac=0.3)\n",
    "        for i in range(len(S_counts))\n",
    "    ])\n",
    "\n",
    "    # Compute the bin centers for plotting\n",
    "    bin_centers = 0.5 * (bins[:-1] + bins[1:])\n",
    "\n",
    "    # Compute the total significance: total S / sqrt(total B)\n",
    "    total_signal = np.sum(S_counts)\n",
    "    total_bkg = np.sum(B_counts)\n",
    "\n",
    "    if total_bkg > 0:\n",
    "        total_sig_simple = total_signal / np.sqrt(total_bkg)\n",
    "        total_sig_s_plus_b = total_signal / np.sqrt(total_signal + total_bkg)\n",
    "        total_sig_s_plus_1p3b = total_signal / np.sqrt(total_signal + 1.3 * total_bkg)\n",
    "        total_sig_binomial = zbi(total_signal, total_bkg, sigma_b_frac=0.3)\n",
    "    else:\n",
    "        total_sig_simple = total_sig_s_plus_b = total_sig_s_plus_1p3b = total_sig_binomial = 0\n",
    "\n",
    "    # --- Plot all significance curves ---\n",
    "    ax_bot.step(bin_centers, sig_simple, where='mid', color='chocolate', linewidth=2,\n",
    "                label=f\"S/√B = {total_sig_simple:.4f}\")\n",
    "    ax_bot.step(bin_centers, sig_s_plus_b, where='mid', color='tomato', linewidth=2,\n",
    "                label=f\"S/√(S+B) = {total_sig_s_plus_b:.4f}\")\n",
    "    ax_bot.step(bin_centers, sig_s_plus_1p3b, where='mid', color='orange', linewidth=2,\n",
    "                label=f\"S/√(S+1.3B) = {total_sig_s_plus_1p3b:.4f}\")\n",
    "    ax_bot.step(bin_centers, zbi_per_bin, where='mid', color='plum', linewidth=2,\n",
    "                label=f\"Binomial ExpZ = {total_sig_binomial:.4f}\")\n",
    "\n",
    "    ax_bot.set_xlabel(var_config[var]['title'])\n",
    "    # ax_bot.set_xticks(np.linspace(bins[0], bins[-1], 11))\n",
    "    ax_bot.set_ylabel(\"Significance\")\n",
    "    ax_bot.set_ylim(-0.8, 2)\n",
    "    ax_top.set_xlim(bins[0], bins[-1])\n",
    "\n",
    "    # Do not set a title on the bottom plot.\n",
    "    ax_bot.set_title(\"\")\n",
    "\n",
    "    # Draw a legend with purple text.\n",
    "    leg = ax_bot.legend()\n",
    "    for text in leg.get_texts():\n",
    "        text.set_color('purple')\n",
    "\n",
    "    plt.xlim(bins[0], bins[-1])\n",
    "    plt.tight_layout()\n",
    "    plt.savefig(f\"../test/sigstudy/mc23d_{cut_name}cut/{var}_nodijet.png\")\n",
    "    print(f\"successfully saved to sigstudy/mc23d_{cut_name}cut/{var}_nodijet.png\")\n",
    "    plt.close()\n",
    "    # plt.show()\n",
    "\n",
    "    y_true = np.concatenate([np.ones_like(signal_all), np.zeros_like(bg_all)])\n",
    "    # Use the vtx_sumPt values as the classifier output.\n",
    "    y_scores = np.concatenate([signal_all, bg_all])\n",
    "    # Combine the weights for all events.\n",
    "    y_weights = np.concatenate([signal_weights_all, bg_weights_all])\n",
    "\n",
    "    # Compute the weighted ROC curve.\n",
    "    fpr, tpr, thresholds = roc_curve(y_true, y_scores, sample_weight=y_weights)\n",
    "    sorted_indices = np.argsort(fpr)\n",
    "    fpr_sorted = fpr[sorted_indices]\n",
    "    tpr_sorted = tpr[sorted_indices]\n",
    "\n",
    "    roc_auc = auc(fpr_sorted, tpr_sorted)\n",
    "\n",
    "    # Create a new figure for the ROC curve.\n",
    "    plt.figure(figsize=(8, 8))\n",
    "    plt.plot(fpr, tpr, lw=2, color='red', label=f'ROC curve (AUC = {roc_auc:.5f})')\n",
    "    plt.plot([0, 1], [0, 1], linestyle='--', color='gray', label='Random chance')\n",
    "    plt.xlabel(\"False Positive Rate\")\n",
    "    plt.ylabel(\"True Positive Rate\")\n",
    "    plt.title(f\"ROC Curve for {var}\")\n",
    "    plt.legend(loc=\"lower right\")\n",
    "    plt.grid(True, which=\"both\", linestyle=\"--\", linewidth=0.5)\n",
    "    plt.tight_layout()    \n",
    "    plt.savefig(f\"../test/sigstudy/mc23d_{cut_name}cut/roc_curve_{var}.png\")\n",
    "    # print(f\"successfully saved to ../test/dphi_diff/mc23d_{cut_name}cut/roc_curve_{var}.png\")\n",
    "    plt.close()\n",
    "    # plt.show()\n"
   ]
  },
  {
   "cell_type": "code",
   "execution_count": null,
   "metadata": {},
   "outputs": [
    {
     "name": "stdout",
     "output_type": "stream",
     "text": [
      "'mc23d_balancecut/vtx_sumPt_nodijet.png',\n",
      "'mc23d_abs_weight_selectioncut/vtx_sumPt_absWeightSelection.png',\n",
      "'mc23d_balancecut/n_ph_nodijet.png',\n",
      "'mc23d_abs_weight_selectioncut/n_ph_absWeightSelection.png',\n",
      "'mc23d_balancecut/n_ph_baseline_nodijet.png',\n",
      "'mc23d_abs_weight_selectioncut/n_ph_baseline_absWeightSelection.png',\n",
      "'mc23d_balancecut/n_el_baseline_nodijet.png',\n",
      "'mc23d_abs_weight_selectioncut/n_el_baseline_absWeightSelection.png',\n",
      "'mc23d_balancecut/n_mu_baseline_nodijet.png',\n",
      "'mc23d_abs_weight_selectioncut/n_mu_baseline_absWeightSelection.png',\n",
      "'mc23d_balancecut/n_tau_baseline_nodijet.png',\n",
      "'mc23d_abs_weight_selectioncut/n_tau_baseline_absWeightSelection.png',\n",
      "'mc23d_balancecut/puWeight_nodijet.png',\n",
      "'mc23d_abs_weight_selectioncut/puWeight_absWeightSelection.png',\n",
      "'mc23d_balancecut/actualIntPerXing_nodijet.png',\n",
      "'mc23d_abs_weight_selectioncut/actualIntPerXing_absWeightSelection.png',\n",
      "'mc23d_balancecut/mt_nodijet.png',\n",
      "'mc23d_abs_weight_selectioncut/mt_absWeightSelection.png',\n",
      "'mc23d_balancecut/metsig_nodijet.png',\n",
      "'mc23d_abs_weight_selectioncut/metsig_absWeightSelection.png',\n",
      "'mc23d_balancecut/metsigres_nodijet.png',\n",
      "'mc23d_abs_weight_selectioncut/metsigres_absWeightSelection.png',\n",
      "'mc23d_balancecut/met_nodijet.png',\n",
      "'mc23d_abs_weight_selectioncut/met_absWeightSelection.png',\n",
      "'mc23d_balancecut/met_noJVT_nodijet.png',\n",
      "'mc23d_abs_weight_selectioncut/met_noJVT_absWeightSelection.png',\n",
      "'mc23d_balancecut/met_cst_nodijet.png',\n",
      "'mc23d_abs_weight_selectioncut/met_cst_absWeightSelection.png',\n",
      "'mc23d_balancecut/met_track_nodijet.png',\n",
      "'mc23d_abs_weight_selectioncut/met_track_absWeightSelection.png',\n",
      "'mc23d_balancecut/dmet_nodijet.png',\n",
      "'mc23d_abs_weight_selectioncut/dmet_absWeightSelection.png',\n",
      "'mc23d_balancecut/ph_pt_nodijet.png',\n",
      "'mc23d_abs_weight_selectioncut/ph_pt_absWeightSelection.png',\n",
      "'mc23d_balancecut/ph_eta_nodijet.png',\n",
      "'mc23d_abs_weight_selectioncut/ph_eta_absWeightSelection.png',\n",
      "'mc23d_balancecut/ph_phi_nodijet.png',\n",
      "'mc23d_abs_weight_selectioncut/ph_phi_absWeightSelection.png',\n",
      "'mc23d_balancecut/jet_central_eta_nodijet.png',\n",
      "'mc23d_abs_weight_selectioncut/jet_central_eta_absWeightSelection.png',\n",
      "'mc23d_balancecut/jet_central_pt1_nodijet.png',\n",
      "'mc23d_abs_weight_selectioncut/jet_central_pt1_absWeightSelection.png',\n",
      "'mc23d_balancecut/jet_central_pt2_nodijet.png',\n",
      "'mc23d_abs_weight_selectioncut/jet_central_pt2_absWeightSelection.png',\n",
      "'mc23d_balancecut/jet_central_pt_nodijet.png',\n",
      "'mc23d_abs_weight_selectioncut/jet_central_pt_absWeightSelection.png',\n",
      "'mc23d_balancecut/dphi_met_phterm_nodijet.png',\n",
      "'mc23d_abs_weight_selectioncut/dphi_met_phterm_absWeightSelection.png',\n",
      "'mc23d_balancecut/dphi_met_ph_nodijet.png',\n",
      "'mc23d_abs_weight_selectioncut/dphi_met_ph_absWeightSelection.png',\n",
      "'mc23d_balancecut/dphi_met_jetterm_nodijet.png',\n",
      "'mc23d_abs_weight_selectioncut/dphi_met_jetterm_absWeightSelection.png',\n",
      "'mc23d_balancecut/dphi_phterm_jetterm_nodijet.png',\n",
      "'mc23d_abs_weight_selectioncut/dphi_phterm_jetterm_absWeightSelection.png',\n",
      "'mc23d_balancecut/dphi_ph_centraljet1_nodijet.png',\n",
      "'mc23d_abs_weight_selectioncut/dphi_ph_centraljet1_absWeightSelection.png',\n",
      "'mc23d_balancecut/dphi_ph_jet1_nodijet.png',\n",
      "'mc23d_abs_weight_selectioncut/dphi_ph_jet1_absWeightSelection.png',\n",
      "'mc23d_balancecut/metplusph_nodijet.png',\n",
      "'mc23d_abs_weight_selectioncut/metplusph_absWeightSelection.png',\n",
      "'mc23d_balancecut/failJVT_jet_pt_nodijet.png',\n",
      "'mc23d_abs_weight_selectioncut/failJVT_jet_pt_absWeightSelection.png',\n",
      "'mc23d_balancecut/failJVT_jet_pt1_nodijet.png',\n",
      "'mc23d_abs_weight_selectioncut/failJVT_jet_pt1_absWeightSelection.png',\n",
      "'mc23d_balancecut/softerm_nodijet.png',\n",
      "'mc23d_abs_weight_selectioncut/softerm_absWeightSelection.png',\n",
      "'mc23d_balancecut/jetterm_nodijet.png',\n",
      "'mc23d_abs_weight_selectioncut/jetterm_absWeightSelection.png',\n",
      "'mc23d_balancecut/jetterm_sumet_nodijet.png',\n",
      "'mc23d_abs_weight_selectioncut/jetterm_sumet_absWeightSelection.png',\n",
      "'mc23d_balancecut/n_jet_nodijet.png',\n",
      "'mc23d_abs_weight_selectioncut/n_jet_absWeightSelection.png',\n",
      "'mc23d_balancecut/n_jet_central_nodijet.png',\n",
      "'mc23d_abs_weight_selectioncut/n_jet_central_absWeightSelection.png',\n",
      "'mc23d_balancecut/n_jet_fwd_nodijet.png',\n",
      "'mc23d_abs_weight_selectioncut/n_jet_fwd_absWeightSelection.png',\n",
      "'mc23d_balancecut/goodPV_nodijet.png',\n",
      "'mc23d_abs_weight_selectioncut/goodPV_absWeightSelection.png',\n",
      "'mc23d_balancecut/dphi_met_central_jet_nodijet.png',\n",
      "'mc23d_abs_weight_selectioncut/dphi_met_central_jet_absWeightSelection.png',\n",
      "'mc23d_balancecut/jet_central_timing1_nodijet.png',\n",
      "'mc23d_abs_weight_selectioncut/jet_central_timing1_absWeightSelection.png',\n",
      "'mc23d_balancecut/jet_central_timing_nodijet.png',\n",
      "'mc23d_abs_weight_selectioncut/jet_central_timing_absWeightSelection.png',\n",
      "'mc23d_balancecut/jet_central_emfrac_nodijet.png',\n",
      "'mc23d_abs_weight_selectioncut/jet_central_emfrac_absWeightSelection.png',\n",
      "'mc23d_balancecut/balance_nodijet.png',\n",
      "'mc23d_abs_weight_selectioncut/balance_absWeightSelection.png',\n",
      "'mc23d_balancecut/balance_sumet_nodijet.png',\n",
      "'mc23d_abs_weight_selectioncut/balance_sumet_absWeightSelection.png',\n",
      "'mc23d_balancecut/central_jets_fraction_nodijet.png',\n",
      "'mc23d_abs_weight_selectioncut/central_jets_fraction_absWeightSelection.png',\n",
      "'mc23d_balancecut/trigger_nodijet.png',\n",
      "'mc23d_abs_weight_selectioncut/trigger_absWeightSelection.png',\n",
      "'mc23d_balancecut/dphi_jj_nodijet.png',\n",
      "'mc23d_abs_weight_selectioncut/dphi_jj_absWeightSelection.png',\n",
      "'mc23d_balancecut/BDTScore_nodijet.png',\n",
      "'mc23d_abs_weight_selectioncut/BDTScore_absWeightSelection.png',\n"
     ]
    }
   ],
   "source": [
    "# print out the image list in common_config.js\n",
    "var_config = getVarDict(tot2[0], 'ggHyyd')\n",
    "\n",
    "for var in var_config:\n",
    "\n",
    "    print(f\"'mc23d_balancecut/{var}_nodijet.png',\")\n",
    "    print(f\"'mc23d_abs_weight_selectioncut/{var}_absWeightSelection.png',\")"
   ]
  },
  {
   "cell_type": "markdown",
   "metadata": {},
   "source": [
    "## Back-up"
   ]
  },
  {
   "cell_type": "code",
   "execution_count": null,
   "metadata": {},
   "outputs": [],
   "source": [
    "\n",
    "    var = {\n",
    "        'vtx_sumPt': ak.flatten(fb['vtx_sumPt']),\n",
    "        'n_ph': fb['n_ph'],\n",
    "        'n_ph_baseline': fb['n_ph_baseline'],\n",
    "        'n_el_baseline': fb['n_el_baseline'],\n",
    "        'n_mu_baseline': fb['n_mu_baseline'],\n",
    "        'n_tau_baseline': fb['n_tau_baseline'],\n",
    "        'puWeight': fb['pu_weight'],\n",
    "        'actualIntPerXing': fb['actualIntPerXing'],\n",
    "        'mt': np.sqrt(2 * fb['met_tst_et'] * ak.firsts(fb['ph_pt']) * (1 - np.cos(fb['met_tst_phi'] - ak.firsts(fb['ph_phi'])))) / 1000,\n",
    "        'metsig': fb['met_tst_sig'],\n",
    "        'metsigres': fb['met_tst_et'] / fb['met_tst_sig'],\n",
    "        'met': fb['met_tst_et'],  # applying the '+50000' shift\n",
    "        'met_noJVT': fb['met_tst_noJVT_et'],\n",
    "        'met_cst': fb['met_cst_et'],\n",
    "        'met_track': fb['met_track_et'],\n",
    "        'dmet': fb['met_tst_noJVT_et'] - fb['met_tst_et'],\n",
    "        'ph_pt': ak.firsts(fb['ph_pt']),  # applying the '-150000' shift\n",
    "        'ph_eta': np.abs(ak.firsts(fb['ph_eta'])),\n",
    "        'ph_phi': ak.firsts(fb['ph_phi']),\n",
    "        # 'jet_central_eta': ak.firsts(fb['jet_central_eta']),\n",
    "        # 'jet_central_pt1': ak.firsts(fb['jet_central_pt']),\n",
    "        # 'jet_central_pt2': fb['jet_central_pt'][ak.num(fb['jet_central_pt']) >= 2][:, 1],\n",
    "        # 'jet_central_pt': fb['jet_central_pt'],\n",
    "        'dphi_met_phterm': np.arccos(np.cos(fb['met_tst_phi'] - fb['met_phterm_phi'])),\n",
    "        'dphi_met_ph': np.arccos(np.cos(fb['met_tst_phi'] - ak.firsts(fb['ph_phi']))),\n",
    "        'dphi_met_jetterm': np.where(fb['met_jetterm_et'] != 0,\n",
    "                                    np.arccos(np.cos(fb['met_tst_phi'] - fb['met_jetterm_phi'])),\n",
    "                                    0),\n",
    "        'dphi_phterm_jetterm': np.where(fb['met_jetterm_et'] > 0,\n",
    "                                        np.arccos(np.cos(fb['met_phterm_phi'] - fb['met_jetterm_phi'])),\n",
    "                                        4),\n",
    "        # 'dphi_ph_centraljet1': np.arccos(np.cos(ak.firsts(fb['ph_phi']) - ak.firsts(fb['jet_central_phi']))),\n",
    "        # 'dphi_ph_jet1': np.arccos(np.cos(ak.firsts(fb['ph_phi']) - ak.firsts(fb['jet_central_phi']))),\n",
    "        # 'dphi_central_jet1_jet2': np.arccos(np.cos(fb['jet_central_phi'][ak.num(fb['jet_central_phi']) >= 2][:, 0] - fb['jet_central_phi'][ak.num(fb['jet_central_phi']) >= 2][:, 1])),\n",
    "        'metplusph': fb['met_tst_et'] + ak.firsts(fb['ph_pt']),\n",
    "        # 'failJVT_jet_pt': fb['failJVT_jet_pt'],\n",
    "        # 'failJVT_jet_pt1': ak.firsts(fb['failJVT_jet_pt']),\n",
    "        'softerm': fb['met_softerm_tst_et'],\n",
    "        'jetterm': fb['met_jetterm_et'],\n",
    "        'jetterm_sumet': fb['met_jetterm_sumet'],\n",
    "        'n_jet': fb['n_jet'],\n",
    "        'n_jet_central': fb['n_jet_central'],\n",
    "        'n_jet_fwd': fb['n_jet'] - fb['n_jet_central'],\n",
    "        'vertex': np.abs(ak.firsts(fb['pv_truth_z']) - ak.firsts(fb['pv_z'])) == np.min(np.abs(ak.firsts(fb['pv_truth_z']) - fb['pv_z'])),\n",
    "        'goodPV': np.abs(ak.firsts(fb['pv_truth_z']) - ak.firsts(fb['pv_z'])) <= 0.5,\n",
    "        # 'dphi_met_central_jet': np.arccos(np.cos(fb['met_tst_phi'] - ak.firsts(fb['jet_central_phi']))),\n",
    "        # 'counts': 0.5,\n",
    "        # 'jet_central_timing1': ak.firsts(fb['jet_central_timing']),\n",
    "        # 'jet_central_timing': fb['jet_central_timing'],\n",
    "        # 'jet_central_emfrac': fb['jet_central_emfrac'],\n",
    "        # 'jet_central_emfrac1': ak.firsts(fb['jet_central_emfrac']),\n",
    "        'balance': (fb['met_tst_et'] + ak.firsts(fb['ph_pt'])) / np.sum(fb['jet_central_pt']), # need fixing \n",
    "        'balance_sumet': (fb['met_tst_et'] + ak.firsts(fb['ph_pt'])) / fb['met_jetterm_sumet'],\n",
    "        'central_jets_fraction': np.where(fb['n_jet'] > 0, fb['n_jet_central'] / fb['n_jet'], -1),\n",
    "        'trigger': fb['trigger_HLT_g50_tight_xe40_cell_xe70_pfopufit_80mTAC_L1eEM26M'],\n",
    "        # 'dphi_jj': ak.Array([np.arccos(np.cos(phi[1] - phi[0])) if len(phi) > 1 else -1 for phi in fb['jet_central_phi']])\n",
    "    }\n",
    "\n",
    "    df = pd.DataFrame(var)\n",
    "\n",
    "    data = pd.concat([data, df], ignore_index=True)\n",
    "\n",
    "\n",
    "    # for key, value in var.items():\n",
    "    #     try:\n",
    "    #         print(f\"{key:30s}: {len(value)}\")\n",
    "    #         print(f\"{key:30s}: {value[:5]}\")\n",
    "\n",
    "    #     except Exception as e:\n",
    "    #         print(f\"{key:30s}: error getting length ({e})\")\n",
    "\n",
    "print(data.head())\n"
   ]
  }
 ],
 "metadata": {
  "kernelspec": {
   "display_name": "Python 3",
   "language": "python",
   "name": "python3"
  },
  "language_info": {
   "codemirror_mode": {
    "name": "ipython",
    "version": 3
   },
   "file_extension": ".py",
   "mimetype": "text/x-python",
   "name": "python",
   "nbconvert_exporter": "python",
   "pygments_lexer": "ipython3",
   "version": "3.9.21"
  }
 },
 "nbformat": 4,
 "nbformat_minor": 2
}
