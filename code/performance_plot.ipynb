{
 "cells": [
  {
   "cell_type": "code",
   "execution_count": 1,
   "metadata": {},
   "outputs": [],
   "source": [
    "# import modules\n",
    "import uproot, sys, time, math\n",
    "import numpy as np\n",
    "import matplotlib.pyplot as plt\n",
    "import pandas as pd\n",
    "import awkward as ak\n",
    "from tqdm import tqdm\n",
    "import seaborn as sns\n",
    "from sklearn.metrics import roc_curve, auc\n",
    "from sklearn.model_selection import train_test_split\n",
    "from matplotlib.ticker import FormatStrFormatter\n",
    "import matplotlib.ticker as ticker\n",
    "from scipy.special import betainc\n",
    "from scipy.stats import norm\n",
    "\n",
    "# import config functions\n",
    "from plot_config import getWeight, zbi, sample_dict, getVarDict\n",
    "from plot_var import variables, ntuple_names, ntuple_names_BDT\n",
    "\n",
    "\n",
    "# Set up plot defaults\n",
    "import matplotlib as mpl\n",
    "mpl.rcParams['figure.figsize'] = 14.0,10.0  # Roughly 11 cm wde by 8 cm high\n",
    "mpl.rcParams['font.size'] = 20.0 # Use 14 point font\n",
    "sns.set(style=\"whitegrid\")\n",
    "\n",
    "font_size = {\n",
    "    \"xlabel\": 17,\n",
    "    \"ylabel\": 17,\n",
    "    \"xticks\": 15,\n",
    "    \"yticks\": 15,\n",
    "    \"legend\": 14\n",
    "}\n",
    "\n",
    "plt.rcParams.update({\n",
    "    \"axes.labelsize\": font_size[\"xlabel\"],  # X and Y axis labels\n",
    "    \"xtick.labelsize\": font_size[\"xticks\"],  # X ticks\n",
    "    \"ytick.labelsize\": font_size[\"yticks\"],  # Y ticks\n",
    "    \"legend.fontsize\": font_size[\"legend\"]  # Legend\n",
    "})"
   ]
  },
  {
   "cell_type": "code",
   "execution_count": 3,
   "metadata": {},
   "outputs": [
    {
     "name": "stdout",
     "output_type": "stream",
     "text": [
      "processing file:  /data/projects/campfire-workshop/dark_photon/ntups/mc23d/ggHyyd_y.root\n",
      "Unweighted Events before cut:  225374\n",
      "Weighted Events before cut:  22918.521\n",
      "Unweighted Events after cut:  4575\n",
      "Weighted Events after cut:  460.70255\n",
      "Number of none values:  0\n",
      "Reading Time for ggHyyd: 16.13039469718933 seconds\n",
      "\n",
      "processing file:  /data/projects/campfire-workshop/dark_photon/ntups/mc23d/Zjets_y.root\n"
     ]
    },
    {
     "ename": "",
     "evalue": "",
     "output_type": "error",
     "traceback": [
      "\u001b[1;31mThe Kernel crashed while executing code in the current cell or a previous cell. \n",
      "\u001b[1;31mPlease review the code in the cell(s) to identify a possible cause of the failure. \n",
      "\u001b[1;31mClick <a href='https://aka.ms/vscodeJupyterKernelCrash'>here</a> for more info. \n",
      "\u001b[1;31mView Jupyter <a href='command:jupyter.viewOutput'>log</a> for further details."
     ]
    }
   ],
   "source": [
    "tot = []\n",
    "data = pd.DataFrame()\n",
    "unweighted_bcut, weighted_bcut, unweighted_acut, weighted_acut = [], [], [], []\n",
    "\n",
    "def test(fb):\n",
    "    # checking if there are any none values\n",
    "    mask = ak.is_none(fb['met_tst_et'])\n",
    "    n_none = ak.sum(mask)\n",
    "    print(\"Number of none values: \", n_none)\n",
    "    # if n_none > 0:\n",
    "    #     fb = fb[~mask]\n",
    "    # print(\"Events after removing none values: \", len(fb), ak.sum(ak.is_none(fb['met_tst_et'])))\n",
    "\n",
    "# i = 0\n",
    "for i in range(len(ntuple_names)):\n",
    "    ucut, wcut = [], []\n",
    "    start_time = time.time()\n",
    "    ntuple_name = ntuple_names[i]\n",
    "    path = f\"/data/projects/campfire-workshop/dark_photon/ntups/mc23d/{ntuple_names[i]}_y.root\" \n",
    "    path_BDT = f\"/data/projects/campfire-workshop/dark_photon/ntups/withVertexBDT/mc23d_{ntuple_names_BDT[i]}_y_BDT_score.root\" \n",
    "    print('processing file: ', path)\n",
    "    f = uproot.open(path)['nominal']\n",
    "    fb = f.arrays(variables, library=\"ak\")\n",
    "\n",
    "    # add BDT score to fb\n",
    "    f_BDT = uproot.open(path_BDT)['nominal']\n",
    "    fb_BDT = f_BDT.arrays([\"event\", \"BDTScore\"], library=\"ak\")\n",
    "    tmp = fb[\"event\"] == fb_BDT[\"event\"]\n",
    "    if np.all(tmp) == True:\n",
    "        fb[\"BDTScore\"] = fb_BDT[\"BDTScore\"]\n",
    "    else: \n",
    "        print(\"Something is wrong, need arranging\")\n",
    "    \n",
    "\n",
    "    print(\"Unweighted Events before cut: \", len(fb))\n",
    "    print(\"Weighted Events before cut: \", sum(getWeight(fb, ntuple_name)))\n",
    "    unweighted_bcut.append(len(fb))\n",
    "    weighted_bcut.append(sum(getWeight(fb, ntuple_name)))\n",
    "\n",
    "\n",
    "    fb = fb[fb['n_ph_baseline'] == 1]\n",
    "    fb = fb[fb['n_ph'] == 1]\n",
    "    fb = fb[fb['n_mu_baseline'] == 0]\n",
    "    fb = fb[fb['n_el_baseline'] == 0]\n",
    "    fb = fb[fb['n_tau_baseline'] == 0]\n",
    "    fb = fb[fb['trigger_HLT_g50_tight_xe40_cell_xe70_pfopufit_80mTAC_L1eEM26M']==1]\n",
    "    fb = fb[ak.num(fb['ph_pt']) > 0] # prevent none values in Tbranch\n",
    "    fb = fb[fb['met_tst_et'] >= 100000] # MET cut (basic cut)\n",
    "    fb = fb[ak.firsts(fb['ph_pt']) >= 50000] # ph_pt cut (basic cut)\n",
    "    fb = fb[fb['n_jet_central'] <= 4] # n_jet_central cut (basic cut)\n",
    "    # goodPV on signal only\n",
    "    if ntuple_name == 'ggHyyd':\n",
    "        fb = fb[ak.num(fb['pv_z']) > 0]\n",
    "        good_pv_tmp = (np.abs(ak.firsts(fb['pv_truth_z']) - ak.firsts(fb['pv_z'])) <= 0.5)\n",
    "        fb = fb[good_pv_tmp]\n",
    "\n",
    "    mt_tmp = np.sqrt(2 * fb['met_tst_et'] * ak.firsts(fb['ph_pt']) * \n",
    "                            (1 - np.cos(fb['met_tst_phi'] - ak.firsts(fb['ph_phi'])))) / 1000\n",
    "    mask1 = mt_tmp >= 100 # trigger cut\n",
    "    fb = fb[mask1]\n",
    "    ucut.append(len(fb))\n",
    "    wcut.append(sum(getWeight(fb, ntuple_name)))\n",
    "\n",
    "\n",
    "    print(\"Unweighted Events after cut: \", len(fb))\n",
    "    print(\"Weighted Events after cut: \", sum(getWeight(fb, ntuple_name)))\n",
    "    ucut.append(len(fb))\n",
    "    wcut.append(sum(getWeight(fb, ntuple_name)))\n",
    "\n",
    "    unweighted_acut.append(ucut)\n",
    "    # unweighted_acut.append(len(fb))\n",
    "    weighted_acut.append(wcut)\n",
    "    test(fb) # check for none value\n",
    "\n",
    "    print(f\"Reading Time for {ntuple_name}: {(time.time()-start_time)} seconds\\n\")\n",
    "\n",
    "\n",
    "\n",
    "    tot.append(fb)\n",
    "\n",
    "    fb = 0\n",
    "    fb_BDT = 0\n",
    "    tmp = 0\n"
   ]
  },
  {
   "cell_type": "code",
   "execution_count": null,
   "metadata": {},
   "outputs": [
    {
     "name": "stdout",
     "output_type": "stream",
     "text": [
      "successfully saved to sigstudy/mc23d_selectioncut/vtx_sumPt_nodijet.png\n"
     ]
    },
    {
     "name": "stderr",
     "output_type": "stream",
     "text": [
      "/home/jlai/.local/lib/python3.9/site-packages/awkward/_nplikes/array_module.py:251: RuntimeWarning: invalid value encountered in divide\n",
      "  return impl(*broadcasted_args, **(kwargs or {}))\n"
     ]
    },
    {
     "name": "stdout",
     "output_type": "stream",
     "text": [
      "successfully saved to sigstudy/mc23d_selectioncut/n_ph_nodijet.png\n"
     ]
    },
    {
     "name": "stderr",
     "output_type": "stream",
     "text": [
      "/home/jlai/.local/lib/python3.9/site-packages/awkward/_nplikes/array_module.py:251: RuntimeWarning: invalid value encountered in divide\n",
      "  return impl(*broadcasted_args, **(kwargs or {}))\n"
     ]
    },
    {
     "name": "stdout",
     "output_type": "stream",
     "text": [
      "successfully saved to sigstudy/mc23d_selectioncut/n_ph_baseline_nodijet.png\n"
     ]
    },
    {
     "name": "stderr",
     "output_type": "stream",
     "text": [
      "/home/jlai/.local/lib/python3.9/site-packages/awkward/_nplikes/array_module.py:251: RuntimeWarning: invalid value encountered in divide\n",
      "  return impl(*broadcasted_args, **(kwargs or {}))\n"
     ]
    },
    {
     "name": "stdout",
     "output_type": "stream",
     "text": [
      "successfully saved to sigstudy/mc23d_selectioncut/n_el_baseline_nodijet.png\n"
     ]
    },
    {
     "name": "stderr",
     "output_type": "stream",
     "text": [
      "/home/jlai/.local/lib/python3.9/site-packages/awkward/_nplikes/array_module.py:251: RuntimeWarning: invalid value encountered in divide\n",
      "  return impl(*broadcasted_args, **(kwargs or {}))\n"
     ]
    },
    {
     "name": "stdout",
     "output_type": "stream",
     "text": [
      "successfully saved to sigstudy/mc23d_selectioncut/n_mu_baseline_nodijet.png\n"
     ]
    },
    {
     "name": "stderr",
     "output_type": "stream",
     "text": [
      "/home/jlai/.local/lib/python3.9/site-packages/awkward/_nplikes/array_module.py:251: RuntimeWarning: invalid value encountered in divide\n",
      "  return impl(*broadcasted_args, **(kwargs or {}))\n"
     ]
    },
    {
     "name": "stdout",
     "output_type": "stream",
     "text": [
      "successfully saved to sigstudy/mc23d_selectioncut/n_tau_baseline_nodijet.png\n"
     ]
    },
    {
     "name": "stderr",
     "output_type": "stream",
     "text": [
      "/home/jlai/.local/lib/python3.9/site-packages/awkward/_nplikes/array_module.py:251: RuntimeWarning: invalid value encountered in sqrt\n",
      "  return impl(*broadcasted_args, **(kwargs or {}))\n",
      "/home/jlai/.local/lib/python3.9/site-packages/awkward/_nplikes/array_module.py:251: RuntimeWarning: invalid value encountered in divide\n",
      "  return impl(*broadcasted_args, **(kwargs or {}))\n"
     ]
    },
    {
     "name": "stdout",
     "output_type": "stream",
     "text": [
      "successfully saved to sigstudy/mc23d_selectioncut/puWeight_nodijet.png\n"
     ]
    },
    {
     "name": "stderr",
     "output_type": "stream",
     "text": [
      "/home/jlai/.local/lib/python3.9/site-packages/awkward/_nplikes/array_module.py:251: RuntimeWarning: invalid value encountered in sqrt\n",
      "  return impl(*broadcasted_args, **(kwargs or {}))\n",
      "/home/jlai/.local/lib/python3.9/site-packages/awkward/_nplikes/array_module.py:251: RuntimeWarning: invalid value encountered in divide\n",
      "  return impl(*broadcasted_args, **(kwargs or {}))\n"
     ]
    },
    {
     "name": "stdout",
     "output_type": "stream",
     "text": [
      "successfully saved to sigstudy/mc23d_selectioncut/actualIntPerXing_nodijet.png\n"
     ]
    },
    {
     "name": "stderr",
     "output_type": "stream",
     "text": [
      "/home/jlai/.local/lib/python3.9/site-packages/awkward/_nplikes/array_module.py:251: RuntimeWarning: invalid value encountered in divide\n",
      "  return impl(*broadcasted_args, **(kwargs or {}))\n"
     ]
    },
    {
     "name": "stdout",
     "output_type": "stream",
     "text": [
      "successfully saved to sigstudy/mc23d_selectioncut/mt_nodijet.png\n"
     ]
    },
    {
     "name": "stderr",
     "output_type": "stream",
     "text": [
      "/home/jlai/.local/lib/python3.9/site-packages/awkward/_nplikes/array_module.py:251: RuntimeWarning: invalid value encountered in divide\n",
      "  return impl(*broadcasted_args, **(kwargs or {}))\n"
     ]
    },
    {
     "name": "stdout",
     "output_type": "stream",
     "text": [
      "successfully saved to sigstudy/mc23d_selectioncut/metsig_nodijet.png\n"
     ]
    },
    {
     "name": "stderr",
     "output_type": "stream",
     "text": [
      "/home/jlai/.local/lib/python3.9/site-packages/awkward/_nplikes/array_module.py:251: RuntimeWarning: invalid value encountered in sqrt\n",
      "  return impl(*broadcasted_args, **(kwargs or {}))\n",
      "/home/jlai/.local/lib/python3.9/site-packages/awkward/_nplikes/array_module.py:251: RuntimeWarning: invalid value encountered in divide\n",
      "  return impl(*broadcasted_args, **(kwargs or {}))\n"
     ]
    },
    {
     "name": "stdout",
     "output_type": "stream",
     "text": [
      "successfully saved to sigstudy/mc23d_selectioncut/metsigres_nodijet.png\n"
     ]
    },
    {
     "name": "stderr",
     "output_type": "stream",
     "text": [
      "/home/jlai/.local/lib/python3.9/site-packages/awkward/_nplikes/array_module.py:251: RuntimeWarning: invalid value encountered in divide\n",
      "  return impl(*broadcasted_args, **(kwargs or {}))\n"
     ]
    },
    {
     "name": "stdout",
     "output_type": "stream",
     "text": [
      "successfully saved to sigstudy/mc23d_selectioncut/met_nodijet.png\n"
     ]
    },
    {
     "name": "stderr",
     "output_type": "stream",
     "text": [
      "/home/jlai/.local/lib/python3.9/site-packages/awkward/_nplikes/array_module.py:251: RuntimeWarning: invalid value encountered in divide\n",
      "  return impl(*broadcasted_args, **(kwargs or {}))\n"
     ]
    },
    {
     "name": "stdout",
     "output_type": "stream",
     "text": [
      "successfully saved to sigstudy/mc23d_selectioncut/met_noJVT_nodijet.png\n"
     ]
    },
    {
     "name": "stderr",
     "output_type": "stream",
     "text": [
      "/home/jlai/.local/lib/python3.9/site-packages/awkward/_nplikes/array_module.py:251: RuntimeWarning: invalid value encountered in divide\n",
      "  return impl(*broadcasted_args, **(kwargs or {}))\n"
     ]
    },
    {
     "name": "stdout",
     "output_type": "stream",
     "text": [
      "successfully saved to sigstudy/mc23d_selectioncut/met_cst_nodijet.png\n"
     ]
    },
    {
     "name": "stderr",
     "output_type": "stream",
     "text": [
      "/home/jlai/.local/lib/python3.9/site-packages/awkward/_nplikes/array_module.py:251: RuntimeWarning: invalid value encountered in sqrt\n",
      "  return impl(*broadcasted_args, **(kwargs or {}))\n",
      "/home/jlai/.local/lib/python3.9/site-packages/awkward/_nplikes/array_module.py:251: RuntimeWarning: invalid value encountered in divide\n",
      "  return impl(*broadcasted_args, **(kwargs or {}))\n"
     ]
    },
    {
     "name": "stdout",
     "output_type": "stream",
     "text": [
      "successfully saved to sigstudy/mc23d_selectioncut/met_track_nodijet.png\n"
     ]
    },
    {
     "name": "stderr",
     "output_type": "stream",
     "text": [
      "/home/jlai/.local/lib/python3.9/site-packages/awkward/_nplikes/array_module.py:251: RuntimeWarning: invalid value encountered in divide\n",
      "  return impl(*broadcasted_args, **(kwargs or {}))\n"
     ]
    },
    {
     "name": "stdout",
     "output_type": "stream",
     "text": [
      "successfully saved to sigstudy/mc23d_selectioncut/dmet_nodijet.png\n"
     ]
    },
    {
     "name": "stderr",
     "output_type": "stream",
     "text": [
      "/home/jlai/.local/lib/python3.9/site-packages/awkward/_nplikes/array_module.py:251: RuntimeWarning: invalid value encountered in divide\n",
      "  return impl(*broadcasted_args, **(kwargs or {}))\n"
     ]
    },
    {
     "name": "stdout",
     "output_type": "stream",
     "text": [
      "successfully saved to sigstudy/mc23d_selectioncut/ph_pt_nodijet.png\n"
     ]
    },
    {
     "name": "stderr",
     "output_type": "stream",
     "text": [
      "/home/jlai/.local/lib/python3.9/site-packages/awkward/_nplikes/array_module.py:251: RuntimeWarning: invalid value encountered in divide\n",
      "  return impl(*broadcasted_args, **(kwargs or {}))\n"
     ]
    },
    {
     "name": "stdout",
     "output_type": "stream",
     "text": [
      "successfully saved to sigstudy/mc23d_selectioncut/ph_eta_nodijet.png\n"
     ]
    },
    {
     "name": "stderr",
     "output_type": "stream",
     "text": [
      "/home/jlai/.local/lib/python3.9/site-packages/awkward/_nplikes/array_module.py:251: RuntimeWarning: invalid value encountered in divide\n",
      "  return impl(*broadcasted_args, **(kwargs or {}))\n"
     ]
    },
    {
     "name": "stdout",
     "output_type": "stream",
     "text": [
      "successfully saved to sigstudy/mc23d_selectioncut/ph_phi_nodijet.png\n"
     ]
    },
    {
     "name": "stderr",
     "output_type": "stream",
     "text": [
      "/home/jlai/.local/lib/python3.9/site-packages/awkward/_nplikes/array_module.py:251: RuntimeWarning: invalid value encountered in divide\n",
      "  return impl(*broadcasted_args, **(kwargs or {}))\n"
     ]
    },
    {
     "name": "stdout",
     "output_type": "stream",
     "text": [
      "successfully saved to sigstudy/mc23d_selectioncut/jet_central_eta_nodijet.png\n"
     ]
    },
    {
     "name": "stderr",
     "output_type": "stream",
     "text": [
      "/home/jlai/.local/lib/python3.9/site-packages/awkward/_nplikes/array_module.py:251: RuntimeWarning: invalid value encountered in divide\n",
      "  return impl(*broadcasted_args, **(kwargs or {}))\n"
     ]
    },
    {
     "name": "stdout",
     "output_type": "stream",
     "text": [
      "successfully saved to sigstudy/mc23d_selectioncut/jet_central_pt1_nodijet.png\n"
     ]
    },
    {
     "name": "stderr",
     "output_type": "stream",
     "text": [
      "/home/jlai/.local/lib/python3.9/site-packages/awkward/_nplikes/array_module.py:251: RuntimeWarning: invalid value encountered in divide\n",
      "  return impl(*broadcasted_args, **(kwargs or {}))\n"
     ]
    },
    {
     "name": "stdout",
     "output_type": "stream",
     "text": [
      "successfully saved to sigstudy/mc23d_selectioncut/jet_central_pt2_nodijet.png\n"
     ]
    },
    {
     "name": "stderr",
     "output_type": "stream",
     "text": [
      "/home/jlai/.local/lib/python3.9/site-packages/awkward/_nplikes/array_module.py:251: RuntimeWarning: invalid value encountered in divide\n",
      "  return impl(*broadcasted_args, **(kwargs or {}))\n"
     ]
    },
    {
     "name": "stdout",
     "output_type": "stream",
     "text": [
      "successfully saved to sigstudy/mc23d_selectioncut/jet_central_pt_nodijet.png\n"
     ]
    },
    {
     "name": "stderr",
     "output_type": "stream",
     "text": [
      "/home/jlai/.local/lib/python3.9/site-packages/awkward/_nplikes/array_module.py:251: RuntimeWarning: invalid value encountered in divide\n",
      "  return impl(*broadcasted_args, **(kwargs or {}))\n"
     ]
    },
    {
     "name": "stdout",
     "output_type": "stream",
     "text": [
      "successfully saved to sigstudy/mc23d_selectioncut/dphi_met_phterm_nodijet.png\n"
     ]
    },
    {
     "name": "stderr",
     "output_type": "stream",
     "text": [
      "/home/jlai/.local/lib/python3.9/site-packages/awkward/_nplikes/array_module.py:251: RuntimeWarning: invalid value encountered in sqrt\n",
      "  return impl(*broadcasted_args, **(kwargs or {}))\n",
      "/home/jlai/.local/lib/python3.9/site-packages/awkward/_nplikes/array_module.py:251: RuntimeWarning: invalid value encountered in divide\n",
      "  return impl(*broadcasted_args, **(kwargs or {}))\n"
     ]
    },
    {
     "name": "stdout",
     "output_type": "stream",
     "text": [
      "successfully saved to sigstudy/mc23d_selectioncut/dphi_met_ph_nodijet.png\n"
     ]
    },
    {
     "name": "stderr",
     "output_type": "stream",
     "text": [
      "/home/jlai/.local/lib/python3.9/site-packages/awkward/_nplikes/array_module.py:251: RuntimeWarning: invalid value encountered in divide\n",
      "  return impl(*broadcasted_args, **(kwargs or {}))\n"
     ]
    },
    {
     "name": "stdout",
     "output_type": "stream",
     "text": [
      "successfully saved to sigstudy/mc23d_selectioncut/dphi_met_jetterm_nodijet.png\n"
     ]
    },
    {
     "name": "stderr",
     "output_type": "stream",
     "text": [
      "/home/jlai/.local/lib/python3.9/site-packages/awkward/_nplikes/array_module.py:251: RuntimeWarning: invalid value encountered in divide\n",
      "  return impl(*broadcasted_args, **(kwargs or {}))\n"
     ]
    },
    {
     "name": "stdout",
     "output_type": "stream",
     "text": [
      "successfully saved to sigstudy/mc23d_selectioncut/dphi_phterm_jetterm_nodijet.png\n"
     ]
    },
    {
     "name": "stderr",
     "output_type": "stream",
     "text": [
      "/home/jlai/.local/lib/python3.9/site-packages/awkward/_nplikes/array_module.py:251: RuntimeWarning: invalid value encountered in sqrt\n",
      "  return impl(*broadcasted_args, **(kwargs or {}))\n",
      "/home/jlai/.local/lib/python3.9/site-packages/awkward/_nplikes/array_module.py:251: RuntimeWarning: invalid value encountered in divide\n",
      "  return impl(*broadcasted_args, **(kwargs or {}))\n"
     ]
    },
    {
     "name": "stdout",
     "output_type": "stream",
     "text": [
      "successfully saved to sigstudy/mc23d_selectioncut/dphi_met_phterm_minus_dphi_met_jetterm_nodijet.png\n"
     ]
    },
    {
     "name": "stderr",
     "output_type": "stream",
     "text": [
      "/home/jlai/.local/lib/python3.9/site-packages/awkward/_nplikes/array_module.py:251: RuntimeWarning: invalid value encountered in divide\n",
      "  return impl(*broadcasted_args, **(kwargs or {}))\n"
     ]
    },
    {
     "name": "stdout",
     "output_type": "stream",
     "text": [
      "successfully saved to sigstudy/mc23d_selectioncut/dphi_met_phterm_divide_dphi_met_jetterm_nodijet.png\n"
     ]
    },
    {
     "name": "stderr",
     "output_type": "stream",
     "text": [
      "/home/jlai/.local/lib/python3.9/site-packages/awkward/_nplikes/array_module.py:251: RuntimeWarning: invalid value encountered in sqrt\n",
      "  return impl(*broadcasted_args, **(kwargs or {}))\n",
      "/home/jlai/.local/lib/python3.9/site-packages/awkward/_nplikes/array_module.py:251: RuntimeWarning: invalid value encountered in divide\n",
      "  return impl(*broadcasted_args, **(kwargs or {}))\n"
     ]
    },
    {
     "name": "stdout",
     "output_type": "stream",
     "text": [
      "successfully saved to sigstudy/mc23d_selectioncut/dphi_ph_centraljet1_nodijet.png\n"
     ]
    },
    {
     "name": "stderr",
     "output_type": "stream",
     "text": [
      "/home/jlai/.local/lib/python3.9/site-packages/awkward/_nplikes/array_module.py:251: RuntimeWarning: invalid value encountered in sqrt\n",
      "  return impl(*broadcasted_args, **(kwargs or {}))\n",
      "/home/jlai/.local/lib/python3.9/site-packages/awkward/_nplikes/array_module.py:251: RuntimeWarning: invalid value encountered in divide\n",
      "  return impl(*broadcasted_args, **(kwargs or {}))\n"
     ]
    },
    {
     "name": "stdout",
     "output_type": "stream",
     "text": [
      "successfully saved to sigstudy/mc23d_selectioncut/dphi_ph_jet1_nodijet.png\n"
     ]
    },
    {
     "name": "stderr",
     "output_type": "stream",
     "text": [
      "/home/jlai/.local/lib/python3.9/site-packages/awkward/_nplikes/array_module.py:251: RuntimeWarning: invalid value encountered in divide\n",
      "  return impl(*broadcasted_args, **(kwargs or {}))\n"
     ]
    },
    {
     "name": "stdout",
     "output_type": "stream",
     "text": [
      "successfully saved to sigstudy/mc23d_selectioncut/metplusph_nodijet.png\n"
     ]
    },
    {
     "name": "stderr",
     "output_type": "stream",
     "text": [
      "/home/jlai/.local/lib/python3.9/site-packages/awkward/_nplikes/array_module.py:251: RuntimeWarning: invalid value encountered in divide\n",
      "  return impl(*broadcasted_args, **(kwargs or {}))\n"
     ]
    },
    {
     "name": "stdout",
     "output_type": "stream",
     "text": [
      "successfully saved to sigstudy/mc23d_selectioncut/failJVT_jet_pt_nodijet.png\n"
     ]
    },
    {
     "name": "stderr",
     "output_type": "stream",
     "text": [
      "/home/jlai/.local/lib/python3.9/site-packages/awkward/_nplikes/array_module.py:251: RuntimeWarning: invalid value encountered in sqrt\n",
      "  return impl(*broadcasted_args, **(kwargs or {}))\n"
     ]
    },
    {
     "name": "stdout",
     "output_type": "stream",
     "text": [
      "successfully saved to sigstudy/mc23d_selectioncut/failJVT_jet_pt1_nodijet.png\n"
     ]
    },
    {
     "name": "stderr",
     "output_type": "stream",
     "text": [
      "/home/jlai/.local/lib/python3.9/site-packages/awkward/_nplikes/array_module.py:251: RuntimeWarning: invalid value encountered in divide\n",
      "  return impl(*broadcasted_args, **(kwargs or {}))\n"
     ]
    },
    {
     "name": "stdout",
     "output_type": "stream",
     "text": [
      "successfully saved to sigstudy/mc23d_selectioncut/softerm_nodijet.png\n"
     ]
    },
    {
     "name": "stderr",
     "output_type": "stream",
     "text": [
      "/home/jlai/.local/lib/python3.9/site-packages/awkward/_nplikes/array_module.py:251: RuntimeWarning: invalid value encountered in divide\n",
      "  return impl(*broadcasted_args, **(kwargs or {}))\n"
     ]
    },
    {
     "name": "stdout",
     "output_type": "stream",
     "text": [
      "successfully saved to sigstudy/mc23d_selectioncut/jetterm_nodijet.png\n"
     ]
    },
    {
     "name": "stderr",
     "output_type": "stream",
     "text": [
      "/home/jlai/.local/lib/python3.9/site-packages/awkward/_nplikes/array_module.py:251: RuntimeWarning: invalid value encountered in divide\n",
      "  return impl(*broadcasted_args, **(kwargs or {}))\n"
     ]
    },
    {
     "name": "stdout",
     "output_type": "stream",
     "text": [
      "successfully saved to sigstudy/mc23d_selectioncut/jetterm_sumet_nodijet.png\n"
     ]
    },
    {
     "name": "stderr",
     "output_type": "stream",
     "text": [
      "/home/jlai/.local/lib/python3.9/site-packages/awkward/_nplikes/array_module.py:251: RuntimeWarning: invalid value encountered in divide\n",
      "  return impl(*broadcasted_args, **(kwargs or {}))\n"
     ]
    },
    {
     "name": "stdout",
     "output_type": "stream",
     "text": [
      "successfully saved to sigstudy/mc23d_selectioncut/n_jet_nodijet.png\n"
     ]
    },
    {
     "name": "stderr",
     "output_type": "stream",
     "text": [
      "/home/jlai/.local/lib/python3.9/site-packages/awkward/_nplikes/array_module.py:251: RuntimeWarning: invalid value encountered in divide\n",
      "  return impl(*broadcasted_args, **(kwargs or {}))\n"
     ]
    },
    {
     "name": "stdout",
     "output_type": "stream",
     "text": [
      "successfully saved to sigstudy/mc23d_selectioncut/n_jet_central_nodijet.png\n",
      "successfully saved to sigstudy/mc23d_selectioncut/n_jet_fwd_nodijet.png\n"
     ]
    },
    {
     "name": "stderr",
     "output_type": "stream",
     "text": [
      "/home/jlai/.local/lib/python3.9/site-packages/matplotlib/axes/_axes.py:6986: RuntimeWarning: Converting input from bool to <class 'numpy.uint8'> for compatibility.\n",
      "  bins = np.histogram_bin_edges(\n",
      "/home/jlai/.local/lib/python3.9/site-packages/matplotlib/axes/_axes.py:7001: RuntimeWarning: Converting input from bool to <class 'numpy.uint8'> for compatibility.\n",
      "  m, bins = np.histogram(x[i], bins, weights=w[i], **hist_kwargs)\n",
      "/home/jlai/.local/lib/python3.9/site-packages/awkward/_connect/numpy.py:112: RuntimeWarning: Converting input from bool to <class 'numpy.uint8'> for compatibility.\n",
      "  result = func(*rectilinear_args, **rectilinear_kwargs)\n"
     ]
    },
    {
     "name": "stdout",
     "output_type": "stream",
     "text": [
      "successfully saved to sigstudy/mc23d_selectioncut/goodPV_nodijet.png\n"
     ]
    },
    {
     "name": "stderr",
     "output_type": "stream",
     "text": [
      "/home/jlai/.local/lib/python3.9/site-packages/awkward/_nplikes/array_module.py:251: RuntimeWarning: invalid value encountered in sqrt\n",
      "  return impl(*broadcasted_args, **(kwargs or {}))\n",
      "/home/jlai/.local/lib/python3.9/site-packages/awkward/_nplikes/array_module.py:251: RuntimeWarning: invalid value encountered in divide\n",
      "  return impl(*broadcasted_args, **(kwargs or {}))\n"
     ]
    },
    {
     "name": "stdout",
     "output_type": "stream",
     "text": [
      "successfully saved to sigstudy/mc23d_selectioncut/dphi_met_central_jet_nodijet.png\n"
     ]
    },
    {
     "name": "stderr",
     "output_type": "stream",
     "text": [
      "/home/jlai/.local/lib/python3.9/site-packages/awkward/_nplikes/array_module.py:251: RuntimeWarning: invalid value encountered in sqrt\n",
      "  return impl(*broadcasted_args, **(kwargs or {}))\n",
      "/home/jlai/.local/lib/python3.9/site-packages/awkward/_nplikes/array_module.py:251: RuntimeWarning: invalid value encountered in divide\n",
      "  return impl(*broadcasted_args, **(kwargs or {}))\n"
     ]
    },
    {
     "name": "stdout",
     "output_type": "stream",
     "text": [
      "successfully saved to sigstudy/mc23d_selectioncut/jet_central_timing1_nodijet.png\n"
     ]
    },
    {
     "name": "stderr",
     "output_type": "stream",
     "text": [
      "/home/jlai/.local/lib/python3.9/site-packages/awkward/_nplikes/array_module.py:251: RuntimeWarning: invalid value encountered in sqrt\n",
      "  return impl(*broadcasted_args, **(kwargs or {}))\n",
      "/home/jlai/.local/lib/python3.9/site-packages/awkward/_nplikes/array_module.py:251: RuntimeWarning: invalid value encountered in divide\n",
      "  return impl(*broadcasted_args, **(kwargs or {}))\n"
     ]
    },
    {
     "name": "stdout",
     "output_type": "stream",
     "text": [
      "successfully saved to sigstudy/mc23d_selectioncut/jet_central_timing_nodijet.png\n"
     ]
    },
    {
     "name": "stderr",
     "output_type": "stream",
     "text": [
      "/home/jlai/.local/lib/python3.9/site-packages/awkward/_nplikes/array_module.py:251: RuntimeWarning: invalid value encountered in divide\n",
      "  return impl(*broadcasted_args, **(kwargs or {}))\n"
     ]
    },
    {
     "name": "stdout",
     "output_type": "stream",
     "text": [
      "successfully saved to sigstudy/mc23d_selectioncut/jet_central_emfrac_nodijet.png\n"
     ]
    },
    {
     "name": "stderr",
     "output_type": "stream",
     "text": [
      "/home/jlai/.local/lib/python3.9/site-packages/awkward/_nplikes/array_module.py:251: RuntimeWarning: invalid value encountered in sqrt\n",
      "  return impl(*broadcasted_args, **(kwargs or {}))\n",
      "/home/jlai/.local/lib/python3.9/site-packages/awkward/_nplikes/array_module.py:251: RuntimeWarning: invalid value encountered in divide\n",
      "  return impl(*broadcasted_args, **(kwargs or {}))\n"
     ]
    },
    {
     "name": "stdout",
     "output_type": "stream",
     "text": [
      "successfully saved to sigstudy/mc23d_selectioncut/balance_nodijet.png\n"
     ]
    },
    {
     "name": "stderr",
     "output_type": "stream",
     "text": [
      "/home/jlai/.local/lib/python3.9/site-packages/awkward/_nplikes/array_module.py:251: RuntimeWarning: invalid value encountered in divide\n",
      "  return impl(*broadcasted_args, **(kwargs or {}))\n"
     ]
    },
    {
     "name": "stdout",
     "output_type": "stream",
     "text": [
      "successfully saved to sigstudy/mc23d_selectioncut/balance_sumet_nodijet.png\n"
     ]
    },
    {
     "name": "stderr",
     "output_type": "stream",
     "text": [
      "/home/jlai/.local/lib/python3.9/site-packages/awkward/_nplikes/array_module.py:251: RuntimeWarning: invalid value encountered in divide\n",
      "  return impl(*broadcasted_args, **(kwargs or {}))\n"
     ]
    },
    {
     "name": "stdout",
     "output_type": "stream",
     "text": [
      "successfully saved to sigstudy/mc23d_selectioncut/central_jets_fraction_nodijet.png\n"
     ]
    },
    {
     "name": "stderr",
     "output_type": "stream",
     "text": [
      "/home/jlai/.local/lib/python3.9/site-packages/awkward/_nplikes/array_module.py:251: RuntimeWarning: invalid value encountered in divide\n",
      "  return impl(*broadcasted_args, **(kwargs or {}))\n"
     ]
    },
    {
     "name": "stdout",
     "output_type": "stream",
     "text": [
      "successfully saved to sigstudy/mc23d_selectioncut/trigger_nodijet.png\n"
     ]
    },
    {
     "name": "stderr",
     "output_type": "stream",
     "text": [
      "/home/jlai/.local/lib/python3.9/site-packages/awkward/_nplikes/array_module.py:251: RuntimeWarning: invalid value encountered in divide\n",
      "  return impl(*broadcasted_args, **(kwargs or {}))\n"
     ]
    },
    {
     "name": "stdout",
     "output_type": "stream",
     "text": [
      "successfully saved to sigstudy/mc23d_selectioncut/dphi_jj_nodijet.png\n"
     ]
    },
    {
     "name": "stderr",
     "output_type": "stream",
     "text": [
      "/home/jlai/.local/lib/python3.9/site-packages/awkward/_nplikes/array_module.py:251: RuntimeWarning: invalid value encountered in divide\n",
      "  return impl(*broadcasted_args, **(kwargs or {}))\n"
     ]
    },
    {
     "name": "stdout",
     "output_type": "stream",
     "text": [
      "successfully saved to sigstudy/mc23d_selectioncut/BDTScore_nodijet.png\n"
     ]
    }
   ],
   "source": [
    "def sel(tot):\n",
    "    tot2 = []\n",
    "    for i in range(len(tot)):\n",
    "        fb2 = tot[i]\n",
    "\n",
    "        # dphi_met_phterm_minus_dphi_met_jetterm_tmp =  np.where(fb2['met_jetterm_et'] > 0,\n",
    "        #                     np.arccos(np.cos(fb2['met_tst_phi'] - fb2['met_phterm_phi'])) -\n",
    "        #                     np.arccos(np.cos(fb2['met_tst_phi'] - fb2['met_jetterm_phi'])),\n",
    "        #                     -999)\n",
    "        # mask1 = dphi_met_phterm_minus_dphi_met_jetterm_tmp >= 0.8\n",
    "        # mask2 = dphi_met_phterm_minus_dphi_met_jetterm_tmp == -999\n",
    "        # fb2 = fb2[mask1 | mask2]\n",
    "\n",
    "        # jet_sum_tmp = ak.sum(fb2['jet_central_pt'], axis=-1)\n",
    "        # expr = (fb2['met_tst_et'] + ak.firsts(fb2['ph_pt'])) / ak.where(jet_sum_tmp != 0, jet_sum_tmp, 1)\n",
    "        # balance_tmp = ak.where(jet_sum_tmp != 0, expr, -999)\n",
    "        # mask1 = balance_tmp >= 0.65\n",
    "        # mask2 = balance_tmp == -999\n",
    "        # fb2 = fb2[mask1 | mask2]\n",
    "        \n",
    "        # metsig_tmp = fb2['met_tst_sig'] \n",
    "        # mask1 = metsig_tmp >= 7\n",
    "        # mask2 = metsig_tmp <= 13\n",
    "        # fb2 = fb2[mask1 * mask2]\n",
    "        \n",
    "        # ph_eta_tmp = np.abs(ak.firsts(fb2['ph_eta']))\n",
    "        # fb2 = fb2[ph_eta_tmp <= 1.75]\n",
    "\n",
    "        # dphi_met_phterm_tmp = np.arccos(np.cos(fb2['met_tst_phi'] - fb2['met_phterm_phi'])) # added cut 3\n",
    "        # fb2 = fb2[dphi_met_phterm_tmp >= 1.35]\n",
    "\n",
    "        # dmet_tmp = fb2['met_tst_noJVT_et'] - fb2['met_tst_et']\n",
    "        # mask1 = dmet_tmp >= -20000\n",
    "        # mask2 = dmet_tmp <= 50000\n",
    "        # fb2 = fb2[mask1 * mask2]\n",
    "\n",
    "        # phi1_tmp = ak.firsts(fb2['jet_central_phi']) # added cut 7\n",
    "        # phi2_tmp = ak.mask(fb2['jet_central_phi'], ak.num(fb2['jet_central_phi']) >= 2)[:, 1] \n",
    "        # dphi_tmp = np.arccos(np.cos(phi1_tmp - phi2_tmp))\n",
    "        # dphi_jj_tmp = ak.fill_none(dphi_tmp, -999)\n",
    "        # fb2 = fb2[dphi_jj_tmp <= 2.5]\n",
    "\n",
    "        # dphi_met_jetterm_tmp = np.where(fb2['met_jetterm_et'] != 0,   # added cut 5\n",
    "        #                     np.arccos(np.cos(fb2['met_tst_phi'] - fb2['met_jetterm_phi'])),\n",
    "        #                     -999)\n",
    "        # fb2 = fb2[dphi_met_jetterm_tmp <= 0.70]\n",
    "\n",
    "        # mt_tmp = np.sqrt(2 * fb2['met_tst_et'] * ak.firsts(fb2['ph_pt']) * \n",
    "        #                     (1 - np.cos(fb2['met_tst_phi'] - ak.firsts(fb2['ph_phi'])))) / 1000\n",
    "        # mask1 = mt_tmp >= 95\n",
    "        # fb2 = fb2[mask1]\n",
    "\n",
    "        \n",
    "        tot2.append(fb2)\n",
    "    return tot2\n",
    "\n",
    "# tot2 = sel(tot)\n",
    "tot2 = tot\n",
    "\n",
    "cut_name = 'basic'\n",
    "var_config = getVarDict(tot2[0], 'ggHyyd')\n",
    "\n",
    "\n",
    "for var in var_config:\n",
    "    # print(var)\n",
    "    bg_values = []     \n",
    "    bg_weights = []    \n",
    "    bg_colors = []     \n",
    "    bg_labels = []     \n",
    "\n",
    "    signal_values = [] \n",
    "    signal_weights = []\n",
    "    signal_color = None \n",
    "    signal_label = None\n",
    "\n",
    "    # for j in range(len(ntuple_name)):\n",
    "    for j in range(len(ntuple_name)-1): # leave dijet out\n",
    "        process = ntuple_name[j]\n",
    "        fb = tot2[j]  # TTree\n",
    "        var_config = getVarDict(fb, process, var_name=var)\n",
    "\n",
    "        x = var_config[var]['var'] # TBranch\n",
    "        bins = var_config[var]['bins'] \n",
    "\n",
    "        if 'weight' in var_config[var]:  # If weight is there\n",
    "            weights = var_config[var]['weight']\n",
    "        else:\n",
    "            weights = getWeight(fb, process)\n",
    "        # findnone(x)\n",
    "        # findnone(weights)\n",
    "\n",
    "        # mask = x != -999 # **Apply Cut: Remove -999 values**\n",
    "        # x = x[mask]\n",
    "        # weights = weights[mask]\n",
    "\n",
    "        # weights = abs(weights) # Study of abosolute weight\n",
    "        \n",
    "        sample_info = sample_dict[process]\n",
    "        color = sample_info['color']\n",
    "        legend = sample_info['legend']\n",
    "\n",
    "        \n",
    "        if process == 'ggHyyd':  # signal\n",
    "            signal_values.append(x)\n",
    "            signal_weights.append(weights)\n",
    "            signal_color = color\n",
    "            signal_label = legend\n",
    "        else:   # background\n",
    "            bg_values.append(x)\n",
    "            bg_weights.append(weights)\n",
    "            bg_colors.append(color)\n",
    "            bg_labels.append(legend)\n",
    "\n",
    "    fig, (ax_top, ax_bot) = plt.subplots(2, 1, figsize=(12, 13), gridspec_kw={'height_ratios': [9, 4]})\n",
    "\n",
    "    ax_top.hist(bg_values, bins=bins, weights=bg_weights, color=bg_colors,\n",
    "                label=bg_labels, stacked=True)\n",
    "\n",
    "    ax_top.hist(signal_values, bins=bins, weights=signal_weights, color=signal_color,\n",
    "                label=signal_label, histtype='step', linewidth=2)\n",
    "\n",
    "    signal_all = np.concatenate(signal_values) if len(signal_values) > 0 else np.array([])\n",
    "    signal_weights_all = np.concatenate(signal_weights) if len(signal_weights) > 0 else np.array([])\n",
    "\n",
    "    # Add error bar for signal (top plot)\n",
    "    if len(signal_all) > 0:\n",
    "        signal_counts, bin_edges = np.histogram(signal_all, bins=bins, weights=signal_weights_all)\n",
    "        sum_weights_sq, _ = np.histogram(signal_all, bins=bins, weights=signal_weights_all**2)\n",
    "        bin_centers = (bin_edges[:-1] + bin_edges[1:]) / 2\n",
    "        signal_errors = np.sqrt(sum_weights_sq)  # Poisson error sqrt(N)\n",
    "\n",
    "        ax_top.errorbar(bin_centers, signal_counts, yerr=signal_errors, fmt='.', linewidth=2,\n",
    "                        color=signal_color, capsize=0)\n",
    "\n",
    "    ax_top.set_yscale('log')\n",
    "    ax_top.set_ylim(0.0001, 1e11)\n",
    "    ax_top.set_xlim(bins[0], bins[-1])\n",
    "    ax_top.minorticks_on()\n",
    "    ax_top.grid(True, which=\"both\", linestyle=\"--\", linewidth=0.5)\n",
    "    ax_top.set_ylabel(\"Events\")\n",
    "    ax_top.legend(ncol=2)\n",
    "    # ax_top.set_title(\"vtx_sumPt distribution\")\n",
    "\n",
    "    bg_all = np.concatenate(bg_values) if len(bg_values) > 0 else np.array([])\n",
    "    bg_weights_all = np.concatenate(bg_weights) if len(bg_weights) > 0 else np.array([])\n",
    "\n",
    "    # Compute the weighted histogram counts using np.histogram\n",
    "    S_counts, _ = np.histogram(signal_all, bins=bins, weights=signal_weights_all)\n",
    "    B_counts, _ = np.histogram(bg_all, bins=bins, weights=bg_weights_all)     \n",
    "\n",
    "    # Compute per-bin significance\n",
    "    sig_simple = np.zeros_like(S_counts, dtype=float)\n",
    "    sig_s_plus_b = np.zeros_like(S_counts, dtype=float)\n",
    "    sig_s_plus_1p3b = np.zeros_like(S_counts, dtype=float)\n",
    "\n",
    "    sqrt_B = np.sqrt(B_counts)\n",
    "    sqrt_SplusB = np.sqrt(S_counts + B_counts)\n",
    "    sqrt_Splus1p3B = np.sqrt(S_counts + 1.3 * B_counts)\n",
    "\n",
    "    # Avoid division by zero safely\n",
    "    sig_simple = np.where(B_counts > 0, S_counts / sqrt_B, 0)\n",
    "    sig_s_plus_b = np.where((S_counts + B_counts) > 0, S_counts / sqrt_SplusB, 0)\n",
    "    sig_s_plus_1p3b = np.where((S_counts + 1.3 * B_counts) > 0, S_counts / sqrt_Splus1p3B, 0)\n",
    "\n",
    "    # Add Binomial ExpZ per bin\n",
    "    zbi_per_bin = np.array([\n",
    "        zbi(S_counts[i], B_counts[i], sigma_b_frac=0.3)\n",
    "        for i in range(len(S_counts))\n",
    "    ])\n",
    "\n",
    "    # Compute the bin centers for plotting\n",
    "    bin_centers = 0.5 * (bins[:-1] + bins[1:])\n",
    "\n",
    "    # Compute the total significance: total S / sqrt(total B)\n",
    "    total_signal = np.sum(S_counts)\n",
    "    total_bkg = np.sum(B_counts)\n",
    "\n",
    "    if total_bkg > 0:\n",
    "        total_sig_simple = total_signal / np.sqrt(total_bkg)\n",
    "        total_sig_s_plus_b = total_signal / np.sqrt(total_signal + total_bkg)\n",
    "        total_sig_s_plus_1p3b = total_signal / np.sqrt(total_signal + 1.3 * total_bkg)\n",
    "        total_sig_binomial = zbi(total_signal, total_bkg, sigma_b_frac=0.3)\n",
    "    else:\n",
    "        total_sig_simple = total_sig_s_plus_b = total_sig_s_plus_1p3b = total_sig_binomial = 0\n",
    "\n",
    "    # --- Plot all significance curves ---\n",
    "    ax_bot.step(bin_centers, sig_simple, where='mid', color='chocolate', linewidth=2,\n",
    "                label=f\"S/√B = {total_sig_simple:.4f}\")\n",
    "    ax_bot.step(bin_centers, sig_s_plus_b, where='mid', color='tomato', linewidth=2,\n",
    "                label=f\"S/√(S+B) = {total_sig_s_plus_b:.4f}\")\n",
    "    ax_bot.step(bin_centers, sig_s_plus_1p3b, where='mid', color='orange', linewidth=2,\n",
    "                label=f\"S/√(S+1.3B) = {total_sig_s_plus_1p3b:.4f}\")\n",
    "    ax_bot.step(bin_centers, zbi_per_bin, where='mid', color='plum', linewidth=2,\n",
    "                label=f\"Binomial ExpZ = {total_sig_binomial:.4f}\")\n",
    "\n",
    "    ax_bot.set_xlabel(var_config[var]['title'])\n",
    "    # ax_bot.set_xticks(np.linspace(bins[0], bins[-1], 11))\n",
    "    ax_bot.set_ylabel(\"Significance\")\n",
    "    ax_bot.set_ylim(-0.8, 2)\n",
    "    ax_top.set_xlim(bins[0], bins[-1])\n",
    "\n",
    "    # Do not set a title on the bottom plot.\n",
    "    ax_bot.set_title(\"\")\n",
    "\n",
    "    # Draw a legend with purple text.\n",
    "    leg = ax_bot.legend()\n",
    "    for text in leg.get_texts():\n",
    "        text.set_color('purple')\n",
    "\n",
    "    plt.xlim(bins[0], bins[-1])\n",
    "    plt.tight_layout()\n",
    "    plt.savefig(f\"/data/projects/campfire-workshop/dark_photon/plots/mc23d_{cut_name}cut/{var}_nodijet.png\")\n",
    "    print(f\"successfully saved to /data/projects/campfire-workshop/dark_photon/plots/mc23d_{cut_name}cut/{var}_nodijet.png\")\n",
    "    plt.close()\n",
    "    # plt.show()\n",
    "\n",
    "    y_true = np.concatenate([np.ones_like(signal_all), np.zeros_like(bg_all)])\n",
    "    y_scores = np.concatenate([signal_all, bg_all])\n",
    "    # Combine the weights for all events.\n",
    "    y_weights = np.concatenate([signal_weights_all, bg_weights_all])\n",
    "\n",
    "    # Compute the weighted ROC curve.\n",
    "    fpr, tpr, thresholds = roc_curve(y_true, y_scores, sample_weight=y_weights)\n",
    "    sorted_indices = np.argsort(fpr)\n",
    "    fpr_sorted = fpr[sorted_indices]\n",
    "    tpr_sorted = tpr[sorted_indices]\n",
    "\n",
    "    roc_auc = auc(fpr_sorted, tpr_sorted)\n",
    "\n",
    "    # Create a new figure for the ROC curve.\n",
    "    plt.figure(figsize=(8, 8))\n",
    "    plt.plot(fpr, tpr, lw=2, color='red', label=f'ROC curve (AUC = {roc_auc:.5f})')\n",
    "    plt.plot([0, 1], [0, 1], linestyle='--', color='gray', label='Random chance')\n",
    "    plt.xlabel(\"False Positive Rate\")\n",
    "    plt.ylabel(\"True Positive Rate\")\n",
    "    plt.title(f\"ROC Curve for {var}\")\n",
    "    plt.legend(loc=\"lower right\")\n",
    "    plt.grid(True, which=\"both\", linestyle=\"--\", linewidth=0.5)\n",
    "    plt.tight_layout()    \n",
    "    plt.savefig(f\"/data/projects/campfire-workshop/dark_photon/plots/mc23d_{cut_name}cut/roc_curve_{var}.png\")\n",
    "    print(f\"successfully saved to /data/projects/campfire-workshop/dark_photon/plots//mc23d_{cut_name}cut/roc_curve_{var}.png\")\n",
    "    plt.close()\n",
    "    # plt.show()\n"
   ]
  }
 ],
 "metadata": {
  "kernelspec": {
   "display_name": "Python 3",
   "language": "python",
   "name": "python3"
  },
  "language_info": {
   "codemirror_mode": {
    "name": "ipython",
    "version": 3
   },
   "file_extension": ".py",
   "mimetype": "text/x-python",
   "name": "python",
   "nbconvert_exporter": "python",
   "pygments_lexer": "ipython3",
   "version": "3.9.21"
  }
 },
 "nbformat": 4,
 "nbformat_minor": 2
}
