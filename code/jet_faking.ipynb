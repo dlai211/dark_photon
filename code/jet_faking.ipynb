{
 "cells": [
  {
   "cell_type": "code",
   "execution_count": 1,
   "metadata": {},
   "outputs": [],
   "source": [
    "# import modules\n",
    "import uproot, sys, time, math\n",
    "import numpy as np\n",
    "import matplotlib.pyplot as plt\n",
    "import pandas as pd\n",
    "import awkward as ak\n",
    "from tqdm import tqdm\n",
    "import seaborn as sns\n",
    "from sklearn.metrics import roc_curve, auc\n",
    "from sklearn.model_selection import train_test_split\n",
    "from matplotlib.ticker import FormatStrFormatter\n",
    "import matplotlib.ticker as ticker\n",
    "from scipy.special import betainc\n",
    "from scipy.stats import norm\n",
    "\n",
    "# import config functions\n",
    "from jet_faking_plot_config import getWeight, zbi, sample_dict, getVarDict\n",
    "from plot_var import variables, variables_data, ntuple_names, ntuple_names_BDT\n",
    "\n",
    "\n",
    "# Set up plot defaults\n",
    "import matplotlib as mpl\n",
    "mpl.rcParams['figure.figsize'] = 14.0,10.0  # Roughly 11 cm wde by 8 cm high\n",
    "mpl.rcParams['font.size'] = 20.0 # Use 14 point font\n",
    "sns.set(style=\"whitegrid\")\n",
    "\n",
    "font_size = {\n",
    "    \"xlabel\": 17,\n",
    "    \"ylabel\": 17,\n",
    "    \"xticks\": 15,\n",
    "    \"yticks\": 15,\n",
    "    \"legend\": 14\n",
    "}\n",
    "\n",
    "plt.rcParams.update({\n",
    "    \"axes.labelsize\": font_size[\"xlabel\"],  # X and Y axis labels\n",
    "    \"xtick.labelsize\": font_size[\"xticks\"],  # X ticks\n",
    "    \"ytick.labelsize\": font_size[\"yticks\"],  # Y ticks\n",
    "    \"legend.fontsize\": font_size[\"legend\"]  # Legend\n",
    "})"
   ]
  },
  {
   "cell_type": "code",
   "execution_count": 2,
   "metadata": {},
   "outputs": [
    {
     "data": {
      "text/plain": [
       "['run',\n",
       " 'randomRunNumber',\n",
       " 'event',\n",
       " 'year',\n",
       " 'averageIntPerXing',\n",
       " 'actualIntPerXing',\n",
       " 'corAverageIntPerXing',\n",
       " 'corActualIntPerXing',\n",
       " 'trigger_HLT_g100_loose_L1EM22VHI',\n",
       " 'trigger_HLT_g100_loose_L1eEM26M',\n",
       " 'trigger_HLT_g100_loose_L1eEM28M',\n",
       " 'trigger_HLT_g120_loose_L1EM22VHI',\n",
       " 'trigger_HLT_g120_loose_L1eEM26M',\n",
       " 'trigger_HLT_g120_loose_L1eEM28MHLT_g25_loose_L1EM20VH',\n",
       " 'trigger_HLT_g140_loose_L1EM22VHI',\n",
       " 'trigger_HLT_g140_loose_L1eEM26M',\n",
       " 'trigger_HLT_g25_loose_L1eEM24L',\n",
       " 'trigger_HLT_g30_loose_L1EM20VH',\n",
       " 'trigger_HLT_g30_loose_L1eEM24L',\n",
       " 'trigger_HLT_g40_loose_L1EM20VH',\n",
       " 'trigger_HLT_g40_loose_L1eEM24L',\n",
       " 'trigger_HLT_g50_loose_L1EM20VH',\n",
       " 'trigger_HLT_g50_loose_L1eEM24L',\n",
       " 'trigger_HLT_g50_tight_xe40_cell_xe50_pfopufit_80mTAC_EM22VHI',\n",
       " 'trigger_HLT_g50_tight_xe40_cell_xe50_pfopufit_80mTAC_L1eEM26M',\n",
       " 'trigger_HLT_g50_tight_xe40_cell_xe60_pfopufit_80mTAC_EM22VHI',\n",
       " 'trigger_HLT_g50_tight_xe40_cell_xe60_pfopufit_80mTAC_L1eEM26M',\n",
       " 'trigger_HLT_g50_tight_xe40_cell_xe70_pfopufit_80mTAC_EM22VHI',\n",
       " 'trigger_HLT_g50_tight_xe40_cell_xe70_pfopufit_80mTAC_L1eEM26M',\n",
       " 'trigger_HLT_g60_loose_L1EM22VHI',\n",
       " 'trigger_HLT_g60_loose_L1eEM26M',\n",
       " 'trigger_HLT_g60_loose_L1eEM28M',\n",
       " 'trigger_HLT_g80_loose_L1EM22VHI',\n",
       " 'trigger_HLT_g80_loose_L1eEM26M',\n",
       " 'trigger_HLT_g80_loose_L1eEM28M',\n",
       " 'trigger_HLT_g90_loose_xe90_cell_EM22VHI',\n",
       " 'trigger_HLT_xe55_cell_xe70_tcpufit_xe90_pfsum_vssk_L1XE50',\n",
       " 'trigger_HLT_xe55_cell_xe70_tcpufit_xe95_pfsum_cssk_L1XE50',\n",
       " 'trigger_HLT_xe60_cell_xe95_pfsum_cssk_L1XE50',\n",
       " 'trigger_HLT_xe65_cell_xe100_mhtpufit_pf_L1XE50',\n",
       " 'trigger_HLT_xe65_cell_xe105_mhtpufit_em_L1XE50',\n",
       " 'trigger_HLT_xe65_cell_xe90_pfopufit_L1XE50',\n",
       " 'trigger_HLT_xe75_cell_xe65_tcpufit_xe90_trkmht_L1XE50',\n",
       " 'trigger_HLT_xe80_cell_xe115_tcpufit_L1XE50',\n",
       " 'trigger_single_el',\n",
       " 'trigger_single_mu',\n",
       " 'trigger_diel',\n",
       " 'trigger_dimu',\n",
       " 'trigger_matched_el',\n",
       " 'trigger_matched_mu',\n",
       " 'mconly_weight',\n",
       " 'pu_weight',\n",
       " 'jvt_weight',\n",
       " 'el_SF_weight',\n",
       " 'mu_SF_weight',\n",
       " 'ph_baseline_SF_weight',\n",
       " 'ph_loose_SF_weight',\n",
       " 'n_jet',\n",
       " 'n_jet_central',\n",
       " 'n_jet_fwd',\n",
       " 'n_jet_failJVT',\n",
       " 'n_bjet',\n",
       " 'n_ph',\n",
       " 'n_ph_baseline',\n",
       " 'n_ph_loose',\n",
       " 'n_el',\n",
       " 'n_el_baseline',\n",
       " 'n_mu',\n",
       " 'n_mu_baseline',\n",
       " 'n_tau',\n",
       " 'n_tau_baseline',\n",
       " 'met_tst_sig',\n",
       " 'met_tst_noJVT_sig',\n",
       " 'met_tst_nomuon_sig',\n",
       " 'met_tst_std_sig',\n",
       " 'jet_vecSumPt',\n",
       " 'failJVT_jet_vecSumPt',\n",
       " 'jet_vecSumPhi',\n",
       " 'failJVT_jet_vecSumPhi',\n",
       " 'jet_vecSumEta',\n",
       " 'failJVT_jet_vecSumEta',\n",
       " 'jet_sumPt',\n",
       " 'failJVT_jet_sumPt',\n",
       " 'jet_central_vecSumPt',\n",
       " 'jet_central_vecSumPhi',\n",
       " 'jet_central_vecSumEta',\n",
       " 'jet_central_sumPt',\n",
       " 'jet_fwd_vecSumPt',\n",
       " 'jet_fwd_vecSumPhi',\n",
       " 'jet_fwd_vecSumEta',\n",
       " 'jet_fwd_sumPt',\n",
       " 'n_pv',\n",
       " 'pv_x',\n",
       " 'pv_y',\n",
       " 'pv_z',\n",
       " 'pv_type',\n",
       " 'pv_truth_z',\n",
       " 'pv_ntracks',\n",
       " 'vtx_sumPt',\n",
       " 'vtx_sumPt2',\n",
       " 'z_asym',\n",
       " 'z_kurt',\n",
       " 'z_skew',\n",
       " 'vtx_Phi',\n",
       " 'met_cst_et',\n",
       " 'met_cst_phi',\n",
       " 'met_cst_sumet',\n",
       " 'met_eleterm_et',\n",
       " 'met_eleterm_phi',\n",
       " 'met_eleterm_sumet',\n",
       " 'met_jetterm_et',\n",
       " 'met_jetterm_phi',\n",
       " 'met_jetterm_sumet',\n",
       " 'met_jetterm_cst_et',\n",
       " 'met_jetterm_cst_phi',\n",
       " 'met_jetterm_cst_sumet',\n",
       " 'met_jetterm_noJVT_et',\n",
       " 'met_jetterm_noJVT_phi',\n",
       " 'met_jetterm_noJVT_sumet',\n",
       " 'met_muonterm_et',\n",
       " 'met_muonterm_phi',\n",
       " 'met_muonterm_sumet',\n",
       " 'met_phterm_et',\n",
       " 'met_phterm_phi',\n",
       " 'met_phterm_sumet',\n",
       " 'met_softerm_cst_et',\n",
       " 'met_softerm_cst_phi',\n",
       " 'met_softerm_cst_sumet',\n",
       " 'met_softerm_noJVT_et',\n",
       " 'met_softerm_noJVT_phi',\n",
       " 'met_softerm_noJVT_sumet',\n",
       " 'met_softerm_tst_et',\n",
       " 'met_softerm_tst_phi',\n",
       " 'met_softerm_tst_sumet',\n",
       " 'met_track_et',\n",
       " 'met_track_phi',\n",
       " 'met_track_sumet',\n",
       " 'met_truth_et',\n",
       " 'met_truth_phi',\n",
       " 'met_truth_sumet',\n",
       " 'met_tst_et',\n",
       " 'met_tst_phi',\n",
       " 'met_tst_sumet',\n",
       " 'met_tst_noJVT_et',\n",
       " 'met_tst_noJVT_phi',\n",
       " 'met_tst_noJVT_sumet',\n",
       " 'met_tst_nomuon_et',\n",
       " 'met_tst_nomuon_phi',\n",
       " 'met_tst_nomuon_sumet',\n",
       " 'met_tst_std_et',\n",
       " 'met_tst_std_phi',\n",
       " 'met_tst_std_sumet',\n",
       " 'mu_pt',\n",
       " 'mu_eta',\n",
       " 'mu_phi',\n",
       " 'mu_charge',\n",
       " 'mu_truth_type',\n",
       " 'mu_truth_origin',\n",
       " 'el_pt',\n",
       " 'el_eta',\n",
       " 'el_phi',\n",
       " 'el_charge',\n",
       " 'el_author',\n",
       " 'el_isConv',\n",
       " 'el_truth_status',\n",
       " 'el_truth_type',\n",
       " 'el_truth_origin',\n",
       " 'el__zvx',\n",
       " 'el__zvx_err',\n",
       " 'failJVT_jet_pt',\n",
       " 'failJVT_jet_eta',\n",
       " 'failJVT_jet_phi',\n",
       " 'failJVT_jet_m',\n",
       " 'failJVT_jet_timing',\n",
       " 'failJVT_jet_emfrac',\n",
       " 'failJVT_jet_jvt',\n",
       " 'failJVT_jet_fjvt',\n",
       " 'failJVT_jet_isFwd',\n",
       " 'failJVT_jet_isBjet',\n",
       " 'failJVT_jet_PartonTruthLabelID',\n",
       " 'ph_pt',\n",
       " 'ph_eta',\n",
       " 'ph_eta2',\n",
       " 'ph_phi',\n",
       " 'ph_ptcone20',\n",
       " 'ph_topoetcone40',\n",
       " 'ph_isEM',\n",
       " 'ph_author',\n",
       " 'ph_isConv',\n",
       " 'ph_truth_type',\n",
       " 'ph_truth_origin',\n",
       " 'ph_pdgId',\n",
       " 'ph_ZVtx',\n",
       " 'ph_ZVtx_err',\n",
       " 'ph_truth_pt',\n",
       " 'ph_truth_eta',\n",
       " 'ph_truth_phi',\n",
       " 'ph_truth_status',\n",
       " 'ph_loose_pt',\n",
       " 'ph_loose_eta',\n",
       " 'ph_loose_eta2',\n",
       " 'ph_loose_phi',\n",
       " 'ph_loose_ptcone20',\n",
       " 'ph_loose_topoetcone40',\n",
       " 'ph_loose_isEM',\n",
       " 'ph_loose_author',\n",
       " 'ph_loose_isConv',\n",
       " 'ph_loose_truth_type',\n",
       " 'ph_loose_truth_origin',\n",
       " 'ph_loose_pdgId',\n",
       " 'tau_charge',\n",
       " 'tau_pt',\n",
       " 'tau_eta',\n",
       " 'tau_phi',\n",
       " 'year',\n",
       " 'mc_weight_sum',\n",
       " 'xsec_ami',\n",
       " 'filter_eff_ami',\n",
       " 'kfactor_ami',\n",
       " 'dmet',\n",
       " 'dphi_met_jetterm',\n",
       " 'dphi_met_phterm',\n",
       " 'dphi_met_eleterm',\n",
       " 'dphi_jj',\n",
       " 'm_jj',\n",
       " 'dphi_central_jj',\n",
       " 'm_central_jj',\n",
       " 'central_balance',\n",
       " 'vector_central_balance',\n",
       " 'vector_balance',\n",
       " 'balance',\n",
       " 'jet_central_pt',\n",
       " 'jet_central_eta',\n",
       " 'jet_central_phi',\n",
       " 'jet_central_m',\n",
       " 'jet_central_timing',\n",
       " 'jet_central_emfrac',\n",
       " 'jet_central_jvt',\n",
       " 'jet_central_isBjet',\n",
       " 'jet_central_PartonTruthLabelID',\n",
       " 'jet_fwd_pt',\n",
       " 'jet_fwd_eta',\n",
       " 'jet_fwd_phi',\n",
       " 'jet_fwd_m',\n",
       " 'jet_fwd_timing',\n",
       " 'jet_fwd_emfrac',\n",
       " 'jet_fwd_jvt',\n",
       " 'jet_fwd_isBjet',\n",
       " 'jet_fwd_PartonTruthLabelID',\n",
       " 'BDTScore']"
      ]
     },
     "execution_count": 2,
     "metadata": {},
     "output_type": "execute_result"
    }
   ],
   "source": [
    "path = \"/data/tmathew/ntups/mc23d/ggHyyd_y.root\"\n",
    "path = \"/data/fpiazza/ggHyyd/Ntuples/MC23d/withVertexBDT/mc23d_ggHyyd_y_BDT_score.root\"\n",
    "f = uproot.open(path)['nominal']\n",
    "f.keys()"
   ]
  },
  {
   "cell_type": "code",
   "execution_count": 26,
   "metadata": {},
   "outputs": [
    {
     "name": "stdout",
     "output_type": "stream",
     "text": [
      "processing file:  /data/tmathew/ntups/mc23d/Zjets_y.root\n",
      "Unweighted Events before cut:  4089643\n",
      "Weighted Events before cut:  8518457.689883482\n",
      "processing file:  /data/tmathew/ntups/mc23d/Wjets_y.root\n",
      "Unweighted Events before cut:  2463995\n",
      "Weighted Events before cut:  5147548.389972768\n"
     ]
    }
   ],
   "source": [
    "tot = []\n",
    "data = pd.DataFrame()\n",
    "unweighted_bcut, weighted_bcut, unweighted_acut, weighted_acut = [], [], [], []\n",
    "ntuple_names = ['ggHyyd','Zjets','Zgamma','Wgamma','Wjets','gammajet_direct', 'data23']\n",
    "\n",
    "def test(fb):\n",
    "    # checking if there are any none values\n",
    "    mask = ak.is_none(fb['met_tst_et'])\n",
    "    n_none = ak.sum(mask)\n",
    "    print(\"Number of none values: \", n_none)\n",
    "    # if n_none > 0:\n",
    "    #     fb = fb[~mask]\n",
    "    # print(\"Events after removing none values: \", len(fb), ak.sum(ak.is_none(fb['met_tst_et'])))\n",
    "\n",
    "# i = 0\n",
    "for i in [1, 4]:\n",
    "    ucut, wcut = [], []\n",
    "    start_time = time.time()\n",
    "    ntuple_name = ntuple_names[i]\n",
    "    if ntuple_name == 'data23':\n",
    "        path = f\"/data/fpiazza/ggHyyd/Ntuples/MC23d/withVertexBDT/data23_y_BDT_score.root\" \n",
    "        print('processing file: ', path)\n",
    "        f = uproot.open(path)['nominal']\n",
    "        fb = f.arrays(variables+['event', 'BDTScore'], library=\"ak\")\n",
    "    else:\n",
    "        path = f\"/data/tmathew/ntups/mc23d/{ntuple_name}_y.root\" \n",
    "        path_BDT = f\"/data/fpiazza/ggHyyd/Ntuples/MC23d/withVertexBDT/mc23d_{ntuple_name}_y_BDT_score.root\" \n",
    "        print('processing file: ', path)\n",
    "        f = uproot.open(path)['nominal']\n",
    "        fb = f.arrays(variables, library=\"ak\")\n",
    "\n",
    "        # add BDT score to fb\n",
    "        f_BDT = uproot.open(path_BDT)['nominal']\n",
    "        fb_BDT = f_BDT.arrays([\"event\", \"BDTScore\"], library=\"ak\")\n",
    "        tmp = fb[\"event\"] == fb_BDT[\"event\"]\n",
    "        if np.all(tmp) == True:\n",
    "            fb[\"BDTScore\"] = fb_BDT[\"BDTScore\"]\n",
    "        else: \n",
    "            print(\"Something is wrong, need arranging\")\n",
    "\n",
    "\n",
    "    # for abs(ak.firsts(fb['ph_eta'])) to have value to the reweighting\n",
    "    fb = fb[ak.num(fb['ph_eta']) > 0]\n",
    "    # Zjets and Wjets (rule out everything except for e->gamma)\n",
    "    if ntuple_name == 'Zjets' or ntuple_name == 'Wjets':\n",
    "        mask1 = ak.firsts(fb['ph_truth_type']) >= 1\n",
    "        mask2 = ak.firsts(fb['ph_truth_type']) <= 4\n",
    "        fb = fb[mask1 & mask2]\n",
    "\n",
    "    print(\"Unweighted Events before cut: \", len(fb))\n",
    "    print(\"Weighted Events before cut: \", sum(getWeight(fb, ntuple_name, jet_faking=True)))\n",
    "\n",
    "    tot.append(fb)\n",
    "\n",
    "    fb = 0\n",
    "    fb_BDT = 0\n",
    "    tmp = 0\n",
    "\n"
   ]
  },
  {
   "cell_type": "code",
   "execution_count": null,
   "metadata": {},
   "outputs": [
    {
     "data": {
      "image/png": "[encoded data removed]",
      "text/plain": [
       "<Figure size 1400x1000 with 1 Axes>"
      ]
     },
     "metadata": {},
     "output_type": "display_data"
    }
   ],
   "source": [
    "truth_type_map = {\n",
    "    0: \"Unknown\",\n",
    "    1: \"UnknownElectron\",\n",
    "    2: \"IsoElectron\",\n",
    "    3: \"NonIsoElectron\",\n",
    "    4: \"BkgElectron\",\n",
    "    5: \"UnknownMuon\",\n",
    "    6: \"IsoMuon\",\n",
    "    7: \"NonIsoMuon\",\n",
    "    8: \"BkgMuon\",\n",
    "    9: \"UnknownTau\",\n",
    "    10: \"IsoTau\",\n",
    "    11: \"NonIsoTau\",\n",
    "    12: \"BkgTau\",\n",
    "    13: \"UnknownPhoton\",\n",
    "    14: \"IsoPhoton\",\n",
    "    15: \"NonIsoPhoton\",\n",
    "    16: \"BkgPhoton\",\n",
    "    17: \"Hadron\",\n",
    "    18: \"Neutrino\",\n",
    "}\n",
    "\n",
    "bins = np.arange(-0.5, 19.5, 1)\n",
    "\n",
    "# Histogram 1: Zjets\n",
    "fb = tot[0]\n",
    "data_zjets = ak.firsts(fb['ph_truth_type'])\n",
    "counts_zjets, _ = np.histogram(data_zjets, bins=bins)\n",
    "plt.hist(data_zjets, bins=bins, linewidth=2, histtype='step', alpha=0.7, label=\"Zjets\")\n",
    "\n",
    "# Histogram 2: Wjets\n",
    "fb = tot[1]\n",
    "data_wjets = ak.firsts(fb['ph_truth_type'])\n",
    "counts_wjets, _ = np.histogram(data_wjets, bins=bins)\n",
    "plt.hist(data_wjets, bins=bins, linewidth=2, histtype='step', alpha=0.7, label=\"Wjets\")\n",
    "\n",
    "# Label non-zero bins\n",
    "bin_centers = 0.5 * (bins[:-1] + bins[1:])\n",
    "total_counts = counts_zjets + counts_wjets\n",
    "for i, count in enumerate(total_counts):\n",
    "    if count > 0 and i in truth_type_map:\n",
    "        plt.text(bin_centers[i], count*0.5, truth_type_map[i],\n",
    "                 ha='center', va='bottom', color='purple', fontsize=12)\n",
    "\n",
    "plt.xticks(np.arange(0, 19, 1))\n",
    "plt.xlabel(\"ph_truth_type\")\n",
    "plt.legend()\n",
    "plt.tight_layout()\n",
    "plt.show()\n"
   ]
  },
  {
   "cell_type": "code",
   "execution_count": 27,
   "metadata": {},
   "outputs": [
    {
     "name": "stdout",
     "output_type": "stream",
     "text": [
      "processing file:  /data/tmathew/ntups/mc23d/ggHyyd_y.root\n",
      "Unweighted Events before cut:  195671\n",
      "Weighted Events before cut:  19979.121\n",
      "Unweighted Events after basic cut:  3729\n",
      "Weighted Events after basic cut:  375.93835\n",
      "Number of none values:  0\n",
      "Reading Time for ggHyyd: 1.3622899055480957 seconds\n",
      "\n",
      "processing file:  /data/tmathew/ntups/mc23d/Zjets_y.root\n",
      "Unweighted Events before cut:  3242488\n",
      "Weighted Events before cut:  674497.9\n",
      "Unweighted Events after basic cut:  5164\n",
      "Weighted Events after basic cut:  124.29326\n",
      "Number of none values:  0\n",
      "Reading Time for Zjets: 88.61976885795593 seconds\n",
      "\n",
      "processing file:  /data/tmathew/ntups/mc23d/Zgamma_y.root\n",
      "Unweighted Events before cut:  3423357\n",
      "Weighted Events before cut:  249515.86\n",
      "Unweighted Events after basic cut:  704359\n",
      "Weighted Events after basic cut:  16750.656\n",
      "Number of none values:  0\n",
      "Reading Time for Zgamma: 34.93812298774719 seconds\n",
      "\n",
      "processing file:  /data/tmathew/ntups/mc23d/Wgamma_y.root\n",
      "Unweighted Events before cut:  1308982\n",
      "Weighted Events before cut:  427789.75\n",
      "Unweighted Events after basic cut:  169968\n",
      "Weighted Events after basic cut:  15736.289\n",
      "Number of none values:  0\n",
      "Reading Time for Wgamma: 12.183310508728027 seconds\n",
      "\n",
      "processing file:  /data/tmathew/ntups/mc23d/Wjets_y.root\n",
      "Unweighted Events before cut:  1962593\n",
      "Weighted Events before cut:  2811573.2\n",
      "Unweighted Events after basic cut:  32512\n",
      "Weighted Events after basic cut:  14099.505\n",
      "Number of none values:  0\n",
      "Reading Time for Wjets: 32.966963052749634 seconds\n",
      "\n",
      "processing file:  /data/tmathew/ntups/mc23d/gammajet_direct_y.root\n",
      "Unweighted Events before cut:  12921098\n",
      "Weighted Events before cut:  145885300.0\n",
      "Unweighted Events after basic cut:  1072422\n",
      "Weighted Events after basic cut:  59503.31\n",
      "Number of none values:  0\n",
      "Reading Time for gammajet_direct: 123.32439470291138 seconds\n",
      "\n",
      "processing file:  /data/fpiazza/ggHyyd/Ntuples/MC23d/withVertexBDT/data23_y_BDT_score.root\n",
      "Unweighted Events before cut:  16269333\n",
      "Weighted Events before cut:  33466244.772483986\n",
      "Unweighted Events after basic cut:  61241\n",
      "Weighted Events after basic cut:  125606.7300000043\n",
      "Number of none values:  0\n",
      "Reading Time for data23: 174.51735854148865 seconds\n",
      "\n"
     ]
    }
   ],
   "source": [
    "tot = []\n",
    "data = pd.DataFrame()\n",
    "unweighted_bcut, weighted_bcut, unweighted_acut, weighted_acut = [], [], [], []\n",
    "ntuple_names = ['ggHyyd','Zjets','Zgamma','Wgamma','Wjets','gammajet_direct', 'data23']\n",
    "\n",
    "def test(fb):\n",
    "    # checking if there are any none values\n",
    "    mask = ak.is_none(fb['met_tst_et'])\n",
    "    n_none = ak.sum(mask)\n",
    "    print(\"Number of none values: \", n_none)\n",
    "    # if n_none > 0:\n",
    "    #     fb = fb[~mask]\n",
    "    # print(\"Events after removing none values: \", len(fb), ak.sum(ak.is_none(fb['met_tst_et'])))\n",
    "\n",
    "def print_cut(ntuple_name, fb, label):\n",
    "    print(f\"Unweighted Events {label}: \", len(fb))\n",
    "    if ntuple_name == 'data23':\n",
    "        print(f\"Weighted Events {label}: \", sum(getWeight(fb, ntuple_name, jet_faking=True)))\n",
    "    else: \n",
    "        print(f\"Weighted Events {label}: \", sum(getWeight(fb, ntuple_name)))\n",
    "\n",
    "for i in range(len(ntuple_names)):\n",
    "    ucut, wcut = [], []\n",
    "    start_time = time.time()\n",
    "    ntuple_name = ntuple_names[i]\n",
    "    if ntuple_name == 'data23': # data\n",
    "        path = f\"/data/fpiazza/ggHyyd/Ntuples/MC23d/withVertexBDT/data23_y_BDT_score.root\" \n",
    "        print('processing file: ', path)\n",
    "        f = uproot.open(path)['nominal']\n",
    "        fb = f.arrays(variables_data, library=\"ak\")\n",
    "        fb = fb[ak.num(fb['ph_eta']) > 0]     # for abs(ak.firsts(fb['ph_eta'])) to have value to the reweighting\n",
    "                \n",
    "        mask1 = (ak.firsts(fb['ph_topoetcone40'])-2450.)/ak.firsts(fb['ph_pt']) < 0.1   # jet_faking_photon cut\n",
    "        fb = fb[mask1]\n",
    "        fb = fb[fb['n_ph_baseline'] == 1]\n",
    "\n",
    "    else: # MC\n",
    "        path = f\"/data/tmathew/ntups/mc23d/{ntuple_name}_y.root\" \n",
    "        path_BDT = f\"/data/fpiazza/ggHyyd/Ntuples/MC23d/withVertexBDT/mc23d_{ntuple_name}_y_BDT_score.root\" \n",
    "        print('processing file: ', path)\n",
    "        f = uproot.open(path)['nominal']\n",
    "        fb = f.arrays(variables, library=\"ak\")\n",
    "\n",
    "        # add BDT score to fb\n",
    "        f_BDT = uproot.open(path_BDT)['nominal']\n",
    "        fb_BDT = f_BDT.arrays([\"event\", \"BDTScore\"], library=\"ak\")\n",
    "        tmp = fb[\"event\"] == fb_BDT[\"event\"]\n",
    "        if np.all(tmp) == True:\n",
    "            fb[\"BDTScore\"] = fb_BDT[\"BDTScore\"]\n",
    "        else: \n",
    "            print(\"Something is wrong, need arranging\")\n",
    "\n",
    "        fb = fb[ak.num(fb['ph_eta']) > 0]     # for abs(ak.firsts(fb['ph_eta'])) to have value to the reweighting\n",
    "        fb = fb[fb['n_ph'] == 1]\n",
    "\n",
    "    \n",
    "\n",
    "    # Zjets and Wjets (rule out everything except for e->gamma)\n",
    "    if ntuple_name == 'Zjets' or ntuple_name == 'Wjets':\n",
    "        mask1 = ak.firsts(fb['ph_truth_type']) == 2\n",
    "        mask2 = ak.firsts(fb['ph_truth_type']) == 2\n",
    "        fb = fb[mask1 & mask2]\n",
    "    \n",
    "    print_cut(ntuple_name, fb, 'before cut')\n",
    "\n",
    "\n",
    "    fb = fb[fb['n_mu_baseline'] == 0]\n",
    "    fb = fb[fb['n_el_baseline'] == 0]\n",
    "    fb = fb[fb['n_tau_baseline'] == 0]\n",
    "    fb = fb[fb['trigger_HLT_g50_tight_xe40_cell_xe70_pfopufit_80mTAC_L1eEM26M']==1]\n",
    "    fb = fb[ak.num(fb['ph_pt']) > 0] # prevent none values in Tbranch\n",
    "    fb = fb[fb['met_tst_et'] >= 100000] # MET cut (basic cut)\n",
    "    fb = fb[ak.firsts(fb['ph_pt']) >= 50000] # ph_pt cut (basic cut)\n",
    "    fb = fb[fb['n_jet_central'] <= 4] # n_jet_central cut (basic cut)\n",
    "    # goodPV on signal only\n",
    "    if ntuple_name == 'ggHyyd':\n",
    "        fb = fb[ak.num(fb['pv_z']) > 0]\n",
    "        good_pv_tmp = (np.abs(ak.firsts(fb['pv_truth_z']) - ak.firsts(fb['pv_z'])) <= 0.5)\n",
    "        fb = fb[good_pv_tmp]\n",
    "\n",
    "    mt_tmp = np.sqrt(2 * fb['met_tst_et'] * ak.firsts(fb['ph_pt']) * \n",
    "                            (1 - np.cos(fb['met_tst_phi'] - ak.firsts(fb['ph_phi'])))) / 1000\n",
    "    mask1 = mt_tmp >= 100 # trigger cut\n",
    "    fb = fb[mask1]\n",
    "    \n",
    "    fb = fb[fb['BDTScore'] >= 0.1] # added cut 1\n",
    "\n",
    "    print_cut(ntuple_name, fb, 'after basic cut')\n",
    "\n",
    "\n",
    "    # metsig_tmp = fb['met_tst_sig'] # added cut 2 \n",
    "    # mask1 = metsig_tmp >= 7\n",
    "    # fb = fb[mask1]\n",
    "    # ucut.append(len(fb))\n",
    "    # wcut.append(sum(getWeight(fb, ntuple_name)))\n",
    "\n",
    "\n",
    "    # dphi_met_phterm_tmp = np.arccos(np.cos(fb['met_tst_phi'] - fb['met_phterm_phi'])) # added cut 3\n",
    "    # fb = fb[dphi_met_phterm_tmp >= 1.35]\n",
    "    # ucut.append(len(fb))\n",
    "    # wcut.append(sum(getWeight(fb, ntuple_name)))\n",
    "\n",
    "\n",
    "    # dmet_tmp = fb['met_tst_noJVT_et'] - fb['met_tst_et'] # added cut 4\n",
    "    # mask1 = dmet_tmp >= -20000\n",
    "    # mask2 = dmet_tmp <= 50000\n",
    "    # fb = fb[mask1 * mask2]\n",
    "    # ucut.append(len(fb))\n",
    "    # wcut.append(sum(getWeight(fb, ntuple_name)))\n",
    "\n",
    "\n",
    "    # dphi_met_jetterm_tmp = np.where(fb['met_jetterm_et'] != 0,   # added cut 5\n",
    "    #                         np.arccos(np.cos(fb['met_tst_phi'] - fb['met_jetterm_phi'])),\n",
    "    #                         -999)\n",
    "    # fb = fb[dphi_met_jetterm_tmp <= 0.7]\n",
    "    # ucut.append(len(fb))\n",
    "    # wcut.append(sum(getWeight(fb, ntuple_name)))\n",
    "\n",
    "\n",
    "    # ph_eta_tmp = np.abs(ak.firsts(fb['ph_eta'])) # added cut 6\n",
    "    # fb = fb[ph_eta_tmp <= 1.75]\n",
    "    # ucut.append(len(fb))\n",
    "    # wcut.append(sum(getWeight(fb, ntuple_name)))\n",
    "\n",
    "\n",
    "    # phi1_tmp = ak.firsts(fb['jet_central_phi']) # added cut 7\n",
    "    # phi2_tmp = ak.mask(fb['jet_central_phi'], ak.num(fb['jet_central_phi']) >= 2)[:, 1] \n",
    "    # dphi_tmp = np.arccos(np.cos(phi1_tmp - phi2_tmp))\n",
    "    # dphi_jj_tmp = ak.fill_none(dphi_tmp, -999)\n",
    "    # fb = fb[dphi_jj_tmp <= 2.5]\n",
    "    # ucut.append(len(fb))\n",
    "    # wcut.append(sum(getWeight(fb, ntuple_name)))\n",
    "\n",
    "\n",
    "    # jet_sum_tmp = ak.sum(fb['jet_central_pt'], axis=-1)\n",
    "    # expr = (fb['met_tst_et'] + ak.firsts(fb['ph_pt'])) / ak.where(jet_sum_tmp != 0, jet_sum_tmp, 1)\n",
    "    # balance_tmp = ak.where(jet_sum_tmp != 0, expr, 999) \n",
    "    # fb = fb[balance_tmp >= 0.65]\n",
    "    # ucut.append(len(fb))\n",
    "    # wcut.append(sum(getWeight(fb, ntuple_name)))\n",
    "\n",
    "    # mt_tmp = np.sqrt(2 * fb['met_tst_et'] * ak.firsts(fb['ph_pt']) * \n",
    "    #                     (1 - np.cos(fb['met_tst_phi'] - ak.firsts(fb['ph_phi'])))) / 1000\n",
    "    # mask1 = mt_tmp >= 95\n",
    "    # fb = fb[mask1]\n",
    "\n",
    "    # print_cut(ntuple_name, fb)\n",
    "    ucut.append(len(fb))\n",
    "    if ntuple_name == 'data23':\n",
    "        wcut.append(sum(getWeight(fb, ntuple_name, jet_faking=True)))\n",
    "    else: \n",
    "        wcut.append(sum(getWeight(fb, ntuple_name)))\n",
    "\n",
    "\n",
    "    unweighted_acut.append(ucut)\n",
    "    weighted_acut.append(wcut)\n",
    "    test(fb) # check for none value\n",
    "\n",
    "    print(f\"Reading Time for {ntuple_name}: {(time.time()-start_time)} seconds\\n\")\n",
    "\n",
    "\n",
    "\n",
    "    tot.append(fb)\n",
    "\n",
    "    fb = 0\n",
    "    fb_BDT = 0\n",
    "    tmp = 0\n"
   ]
  },
  {
   "cell_type": "code",
   "execution_count": 30,
   "metadata": {},
   "outputs": [],
   "source": [
    "Vars = [\n",
    "    'metsig',\n",
    "    'metsigres',\n",
    "    'met',\n",
    "    'met_noJVT',\n",
    "    'dmet',\n",
    "    'ph_pt',\n",
    "    'ph_eta',\n",
    "    'ph_phi',\n",
    "    'jet_central_eta',\n",
    "    'jet_central_pt1',\n",
    "    'jet_central_pt2',\n",
    "    'dphi_met_phterm',\n",
    "    'dphi_met_ph',\n",
    "    'dphi_met_jetterm',\n",
    "    'dphi_phterm_jetterm',\n",
    "    'dphi_ph_centraljet1',\n",
    "    'dphi_ph_jet1',\n",
    "    'metplusph',\n",
    "    'failJVT_jet_pt1',\n",
    "    'softerm',\n",
    "    'jetterm',\n",
    "    'jetterm_sumet',\n",
    "    'dphi_met_central_jet',\n",
    "    'balance',\n",
    "    'dphi_jj',\n",
    "    'BDTScore',\n",
    "    'n_jet_central'\n",
    "]\n",
    "\n",
    "data_list = []\n",
    "\n",
    "for j in range(len(ntuple_names)):\n",
    "    process = ntuple_names[j]\n",
    "    fb = tot[j] \n",
    "    \n",
    "    data_dict = {}\n",
    "    \n",
    "    for var in Vars:\n",
    "        var_config = getVarDict(fb, process, var_name=var)\n",
    "        data_dict[var] = var_config[var]['var']\n",
    "    \n",
    "    weights = getWeight(fb, process)\n",
    "    data_dict['weights'] = weights\n",
    "    \n",
    "    n_events = len(weights)\n",
    "    data_dict['process'] = [process] * n_events\n",
    "    label = 1 if process == 'ggHyyd' else 0\n",
    "    data_dict['label'] = [label] * n_events\n",
    "    \n",
    "    df_temp = pd.DataFrame(data_dict)\n",
    "    data_list.append(df_temp)\n",
    "\n",
    "df_all = pd.concat(data_list, ignore_index=True)\n",
    "df_all.head()\n",
    "\n",
    "df_all.to_csv(\"/data/jlai/ntups/csv/jet_faking_BDT_input_basic.csv\", index=False)\n"
   ]
  },
  {
   "cell_type": "code",
   "execution_count": 31,
   "metadata": {},
   "outputs": [
    {
     "name": "stdout",
     "output_type": "stream",
     "text": [
      "successfully saved to ../jets_faking_photons/lumi135/mc23d_metsigcut/vtx_sumPt_nodijet.png\n",
      "successfully saved to ../jets_faking_photons/lumi135/mc23d_metsigcut/roc_curve_vtx_sumPt.png\n"
     ]
    },
    {
     "name": "stderr",
     "output_type": "stream",
     "text": [
      "/home/jlai/.local/lib/python3.9/site-packages/awkward/_nplikes/array_module.py:251: RuntimeWarning: invalid value encountered in divide\n",
      "  return impl(*broadcasted_args, **(kwargs or {}))\n"
     ]
    },
    {
     "name": "stdout",
     "output_type": "stream",
     "text": [
      "successfully saved to ../jets_faking_photons/lumi135/mc23d_metsigcut/n_ph_nodijet.png\n",
      "successfully saved to ../jets_faking_photons/lumi135/mc23d_metsigcut/roc_curve_n_ph.png\n"
     ]
    },
    {
     "name": "stderr",
     "output_type": "stream",
     "text": [
      "/home/jlai/.local/lib/python3.9/site-packages/awkward/_nplikes/array_module.py:251: RuntimeWarning: invalid value encountered in divide\n",
      "  return impl(*broadcasted_args, **(kwargs or {}))\n"
     ]
    },
    {
     "name": "stdout",
     "output_type": "stream",
     "text": [
      "successfully saved to ../jets_faking_photons/lumi135/mc23d_metsigcut/n_ph_baseline_nodijet.png\n",
      "successfully saved to ../jets_faking_photons/lumi135/mc23d_metsigcut/roc_curve_n_ph_baseline.png\n"
     ]
    },
    {
     "name": "stderr",
     "output_type": "stream",
     "text": [
      "/home/jlai/.local/lib/python3.9/site-packages/awkward/_nplikes/array_module.py:251: RuntimeWarning: invalid value encountered in divide\n",
      "  return impl(*broadcasted_args, **(kwargs or {}))\n"
     ]
    },
    {
     "name": "stdout",
     "output_type": "stream",
     "text": [
      "successfully saved to ../jets_faking_photons/lumi135/mc23d_metsigcut/n_el_baseline_nodijet.png\n",
      "successfully saved to ../jets_faking_photons/lumi135/mc23d_metsigcut/roc_curve_n_el_baseline.png\n"
     ]
    },
    {
     "name": "stderr",
     "output_type": "stream",
     "text": [
      "/home/jlai/.local/lib/python3.9/site-packages/awkward/_nplikes/array_module.py:251: RuntimeWarning: invalid value encountered in divide\n",
      "  return impl(*broadcasted_args, **(kwargs or {}))\n"
     ]
    },
    {
     "name": "stdout",
     "output_type": "stream",
     "text": [
      "successfully saved to ../jets_faking_photons/lumi135/mc23d_metsigcut/n_mu_baseline_nodijet.png\n",
      "successfully saved to ../jets_faking_photons/lumi135/mc23d_metsigcut/roc_curve_n_mu_baseline.png\n"
     ]
    },
    {
     "name": "stderr",
     "output_type": "stream",
     "text": [
      "/home/jlai/.local/lib/python3.9/site-packages/awkward/_nplikes/array_module.py:251: RuntimeWarning: invalid value encountered in divide\n",
      "  return impl(*broadcasted_args, **(kwargs or {}))\n"
     ]
    },
    {
     "name": "stdout",
     "output_type": "stream",
     "text": [
      "successfully saved to ../jets_faking_photons/lumi135/mc23d_metsigcut/n_tau_baseline_nodijet.png\n",
      "successfully saved to ../jets_faking_photons/lumi135/mc23d_metsigcut/roc_curve_n_tau_baseline.png\n"
     ]
    },
    {
     "name": "stderr",
     "output_type": "stream",
     "text": [
      "/home/jlai/.local/lib/python3.9/site-packages/awkward/_nplikes/array_module.py:251: RuntimeWarning: invalid value encountered in divide\n",
      "  return impl(*broadcasted_args, **(kwargs or {}))\n"
     ]
    },
    {
     "name": "stdout",
     "output_type": "stream",
     "text": [
      "successfully saved to ../jets_faking_photons/lumi135/mc23d_metsigcut/mt_nodijet.png\n",
      "successfully saved to ../jets_faking_photons/lumi135/mc23d_metsigcut/roc_curve_mt.png\n"
     ]
    },
    {
     "name": "stderr",
     "output_type": "stream",
     "text": [
      "/home/jlai/.local/lib/python3.9/site-packages/awkward/_nplikes/array_module.py:251: RuntimeWarning: invalid value encountered in divide\n",
      "  return impl(*broadcasted_args, **(kwargs or {}))\n"
     ]
    },
    {
     "name": "stdout",
     "output_type": "stream",
     "text": [
      "successfully saved to ../jets_faking_photons/lumi135/mc23d_metsigcut/metsig_nodijet.png\n",
      "successfully saved to ../jets_faking_photons/lumi135/mc23d_metsigcut/roc_curve_metsig.png\n"
     ]
    },
    {
     "name": "stderr",
     "output_type": "stream",
     "text": [
      "/home/jlai/.local/lib/python3.9/site-packages/awkward/_nplikes/array_module.py:251: RuntimeWarning: invalid value encountered in sqrt\n",
      "  return impl(*broadcasted_args, **(kwargs or {}))\n",
      "/home/jlai/.local/lib/python3.9/site-packages/awkward/_nplikes/array_module.py:251: RuntimeWarning: invalid value encountered in divide\n",
      "  return impl(*broadcasted_args, **(kwargs or {}))\n"
     ]
    },
    {
     "name": "stdout",
     "output_type": "stream",
     "text": [
      "successfully saved to ../jets_faking_photons/lumi135/mc23d_metsigcut/metsigres_nodijet.png\n",
      "successfully saved to ../jets_faking_photons/lumi135/mc23d_metsigcut/roc_curve_metsigres.png\n"
     ]
    },
    {
     "name": "stderr",
     "output_type": "stream",
     "text": [
      "/home/jlai/.local/lib/python3.9/site-packages/awkward/_nplikes/array_module.py:251: RuntimeWarning: invalid value encountered in divide\n",
      "  return impl(*broadcasted_args, **(kwargs or {}))\n"
     ]
    },
    {
     "name": "stdout",
     "output_type": "stream",
     "text": [
      "successfully saved to ../jets_faking_photons/lumi135/mc23d_metsigcut/met_nodijet.png\n",
      "successfully saved to ../jets_faking_photons/lumi135/mc23d_metsigcut/roc_curve_met.png\n"
     ]
    },
    {
     "name": "stderr",
     "output_type": "stream",
     "text": [
      "/home/jlai/.local/lib/python3.9/site-packages/awkward/_nplikes/array_module.py:251: RuntimeWarning: invalid value encountered in divide\n",
      "  return impl(*broadcasted_args, **(kwargs or {}))\n"
     ]
    },
    {
     "name": "stdout",
     "output_type": "stream",
     "text": [
      "successfully saved to ../jets_faking_photons/lumi135/mc23d_metsigcut/met_noJVT_nodijet.png\n",
      "successfully saved to ../jets_faking_photons/lumi135/mc23d_metsigcut/roc_curve_met_noJVT.png\n"
     ]
    },
    {
     "name": "stderr",
     "output_type": "stream",
     "text": [
      "/home/jlai/.local/lib/python3.9/site-packages/awkward/_nplikes/array_module.py:251: RuntimeWarning: invalid value encountered in sqrt\n",
      "  return impl(*broadcasted_args, **(kwargs or {}))\n",
      "/home/jlai/.local/lib/python3.9/site-packages/awkward/_nplikes/array_module.py:251: RuntimeWarning: invalid value encountered in divide\n",
      "  return impl(*broadcasted_args, **(kwargs or {}))\n"
     ]
    },
    {
     "name": "stdout",
     "output_type": "stream",
     "text": [
      "successfully saved to ../jets_faking_photons/lumi135/mc23d_metsigcut/met_cst_nodijet.png\n",
      "successfully saved to ../jets_faking_photons/lumi135/mc23d_metsigcut/roc_curve_met_cst.png\n"
     ]
    },
    {
     "name": "stderr",
     "output_type": "stream",
     "text": [
      "/home/jlai/.local/lib/python3.9/site-packages/awkward/_nplikes/array_module.py:251: RuntimeWarning: invalid value encountered in sqrt\n",
      "  return impl(*broadcasted_args, **(kwargs or {}))\n"
     ]
    },
    {
     "name": "stdout",
     "output_type": "stream",
     "text": [
      "successfully saved to ../jets_faking_photons/lumi135/mc23d_metsigcut/met_track_nodijet.png\n",
      "successfully saved to ../jets_faking_photons/lumi135/mc23d_metsigcut/roc_curve_met_track.png\n"
     ]
    },
    {
     "name": "stderr",
     "output_type": "stream",
     "text": [
      "/home/jlai/.local/lib/python3.9/site-packages/awkward/_nplikes/array_module.py:251: RuntimeWarning: invalid value encountered in divide\n",
      "  return impl(*broadcasted_args, **(kwargs or {}))\n"
     ]
    },
    {
     "name": "stdout",
     "output_type": "stream",
     "text": [
      "successfully saved to ../jets_faking_photons/lumi135/mc23d_metsigcut/dmet_nodijet.png\n",
      "successfully saved to ../jets_faking_photons/lumi135/mc23d_metsigcut/roc_curve_dmet.png\n"
     ]
    },
    {
     "name": "stderr",
     "output_type": "stream",
     "text": [
      "/home/jlai/.local/lib/python3.9/site-packages/awkward/_nplikes/array_module.py:251: RuntimeWarning: invalid value encountered in divide\n",
      "  return impl(*broadcasted_args, **(kwargs or {}))\n"
     ]
    },
    {
     "name": "stdout",
     "output_type": "stream",
     "text": [
      "successfully saved to ../jets_faking_photons/lumi135/mc23d_metsigcut/ph_pt_nodijet.png\n",
      "successfully saved to ../jets_faking_photons/lumi135/mc23d_metsigcut/roc_curve_ph_pt.png\n"
     ]
    },
    {
     "name": "stderr",
     "output_type": "stream",
     "text": [
      "/home/jlai/.local/lib/python3.9/site-packages/awkward/_nplikes/array_module.py:251: RuntimeWarning: invalid value encountered in divide\n",
      "  return impl(*broadcasted_args, **(kwargs or {}))\n"
     ]
    },
    {
     "name": "stdout",
     "output_type": "stream",
     "text": [
      "successfully saved to ../jets_faking_photons/lumi135/mc23d_metsigcut/ph_eta_nodijet.png\n",
      "successfully saved to ../jets_faking_photons/lumi135/mc23d_metsigcut/roc_curve_ph_eta.png\n"
     ]
    },
    {
     "name": "stderr",
     "output_type": "stream",
     "text": [
      "/home/jlai/.local/lib/python3.9/site-packages/awkward/_nplikes/array_module.py:251: RuntimeWarning: invalid value encountered in divide\n",
      "  return impl(*broadcasted_args, **(kwargs or {}))\n"
     ]
    },
    {
     "name": "stdout",
     "output_type": "stream",
     "text": [
      "successfully saved to ../jets_faking_photons/lumi135/mc23d_metsigcut/ph_phi_nodijet.png\n",
      "successfully saved to ../jets_faking_photons/lumi135/mc23d_metsigcut/roc_curve_ph_phi.png\n"
     ]
    },
    {
     "name": "stderr",
     "output_type": "stream",
     "text": [
      "/home/jlai/.local/lib/python3.9/site-packages/awkward/_nplikes/array_module.py:251: RuntimeWarning: invalid value encountered in divide\n",
      "  return impl(*broadcasted_args, **(kwargs or {}))\n"
     ]
    },
    {
     "name": "stdout",
     "output_type": "stream",
     "text": [
      "successfully saved to ../jets_faking_photons/lumi135/mc23d_metsigcut/jet_central_eta_nodijet.png\n",
      "successfully saved to ../jets_faking_photons/lumi135/mc23d_metsigcut/roc_curve_jet_central_eta.png\n"
     ]
    },
    {
     "name": "stderr",
     "output_type": "stream",
     "text": [
      "/home/jlai/.local/lib/python3.9/site-packages/awkward/_nplikes/array_module.py:251: RuntimeWarning: invalid value encountered in divide\n",
      "  return impl(*broadcasted_args, **(kwargs or {}))\n"
     ]
    },
    {
     "name": "stdout",
     "output_type": "stream",
     "text": [
      "successfully saved to ../jets_faking_photons/lumi135/mc23d_metsigcut/jet_central_pt1_nodijet.png\n",
      "successfully saved to ../jets_faking_photons/lumi135/mc23d_metsigcut/roc_curve_jet_central_pt1.png\n"
     ]
    },
    {
     "name": "stderr",
     "output_type": "stream",
     "text": [
      "/home/jlai/.local/lib/python3.9/site-packages/awkward/_nplikes/array_module.py:251: RuntimeWarning: invalid value encountered in divide\n",
      "  return impl(*broadcasted_args, **(kwargs or {}))\n"
     ]
    },
    {
     "name": "stdout",
     "output_type": "stream",
     "text": [
      "successfully saved to ../jets_faking_photons/lumi135/mc23d_metsigcut/jet_central_pt2_nodijet.png\n",
      "successfully saved to ../jets_faking_photons/lumi135/mc23d_metsigcut/roc_curve_jet_central_pt2.png\n"
     ]
    },
    {
     "name": "stderr",
     "output_type": "stream",
     "text": [
      "/home/jlai/.local/lib/python3.9/site-packages/awkward/_nplikes/array_module.py:251: RuntimeWarning: invalid value encountered in divide\n",
      "  return impl(*broadcasted_args, **(kwargs or {}))\n"
     ]
    },
    {
     "name": "stdout",
     "output_type": "stream",
     "text": [
      "successfully saved to ../jets_faking_photons/lumi135/mc23d_metsigcut/jet_central_pt_nodijet.png\n",
      "successfully saved to ../jets_faking_photons/lumi135/mc23d_metsigcut/roc_curve_jet_central_pt.png\n"
     ]
    },
    {
     "name": "stderr",
     "output_type": "stream",
     "text": [
      "/home/jlai/.local/lib/python3.9/site-packages/awkward/_nplikes/array_module.py:251: RuntimeWarning: invalid value encountered in divide\n",
      "  return impl(*broadcasted_args, **(kwargs or {}))\n"
     ]
    },
    {
     "name": "stdout",
     "output_type": "stream",
     "text": [
      "successfully saved to ../jets_faking_photons/lumi135/mc23d_metsigcut/dphi_met_phterm_nodijet.png\n",
      "successfully saved to ../jets_faking_photons/lumi135/mc23d_metsigcut/roc_curve_dphi_met_phterm.png\n"
     ]
    },
    {
     "name": "stderr",
     "output_type": "stream",
     "text": [
      "/home/jlai/.local/lib/python3.9/site-packages/awkward/_nplikes/array_module.py:251: RuntimeWarning: invalid value encountered in divide\n",
      "  return impl(*broadcasted_args, **(kwargs or {}))\n"
     ]
    },
    {
     "name": "stdout",
     "output_type": "stream",
     "text": [
      "successfully saved to ../jets_faking_photons/lumi135/mc23d_metsigcut/dphi_met_ph_nodijet.png\n",
      "successfully saved to ../jets_faking_photons/lumi135/mc23d_metsigcut/roc_curve_dphi_met_ph.png\n"
     ]
    },
    {
     "name": "stderr",
     "output_type": "stream",
     "text": [
      "/home/jlai/.local/lib/python3.9/site-packages/awkward/_nplikes/array_module.py:251: RuntimeWarning: invalid value encountered in divide\n",
      "  return impl(*broadcasted_args, **(kwargs or {}))\n"
     ]
    },
    {
     "name": "stdout",
     "output_type": "stream",
     "text": [
      "successfully saved to ../jets_faking_photons/lumi135/mc23d_metsigcut/dphi_met_jetterm_nodijet.png\n",
      "successfully saved to ../jets_faking_photons/lumi135/mc23d_metsigcut/roc_curve_dphi_met_jetterm.png\n"
     ]
    },
    {
     "name": "stderr",
     "output_type": "stream",
     "text": [
      "/home/jlai/.local/lib/python3.9/site-packages/awkward/_nplikes/array_module.py:251: RuntimeWarning: invalid value encountered in divide\n",
      "  return impl(*broadcasted_args, **(kwargs or {}))\n"
     ]
    },
    {
     "name": "stdout",
     "output_type": "stream",
     "text": [
      "successfully saved to ../jets_faking_photons/lumi135/mc23d_metsigcut/dphi_phterm_jetterm_nodijet.png\n",
      "successfully saved to ../jets_faking_photons/lumi135/mc23d_metsigcut/roc_curve_dphi_phterm_jetterm.png\n"
     ]
    },
    {
     "name": "stderr",
     "output_type": "stream",
     "text": [
      "/home/jlai/.local/lib/python3.9/site-packages/awkward/_nplikes/array_module.py:251: RuntimeWarning: invalid value encountered in divide\n",
      "  return impl(*broadcasted_args, **(kwargs or {}))\n"
     ]
    },
    {
     "name": "stdout",
     "output_type": "stream",
     "text": [
      "successfully saved to ../jets_faking_photons/lumi135/mc23d_metsigcut/dphi_ph_centraljet1_nodijet.png\n",
      "successfully saved to ../jets_faking_photons/lumi135/mc23d_metsigcut/roc_curve_dphi_ph_centraljet1.png\n"
     ]
    },
    {
     "name": "stderr",
     "output_type": "stream",
     "text": [
      "/home/jlai/.local/lib/python3.9/site-packages/awkward/_nplikes/array_module.py:251: RuntimeWarning: invalid value encountered in divide\n",
      "  return impl(*broadcasted_args, **(kwargs or {}))\n"
     ]
    },
    {
     "name": "stdout",
     "output_type": "stream",
     "text": [
      "successfully saved to ../jets_faking_photons/lumi135/mc23d_metsigcut/dphi_ph_jet1_nodijet.png\n",
      "successfully saved to ../jets_faking_photons/lumi135/mc23d_metsigcut/roc_curve_dphi_ph_jet1.png\n"
     ]
    },
    {
     "name": "stderr",
     "output_type": "stream",
     "text": [
      "/home/jlai/.local/lib/python3.9/site-packages/awkward/_nplikes/array_module.py:251: RuntimeWarning: invalid value encountered in divide\n",
      "  return impl(*broadcasted_args, **(kwargs or {}))\n"
     ]
    },
    {
     "name": "stdout",
     "output_type": "stream",
     "text": [
      "successfully saved to ../jets_faking_photons/lumi135/mc23d_metsigcut/metplusph_nodijet.png\n",
      "successfully saved to ../jets_faking_photons/lumi135/mc23d_metsigcut/roc_curve_metplusph.png\n"
     ]
    },
    {
     "name": "stderr",
     "output_type": "stream",
     "text": [
      "/home/jlai/.local/lib/python3.9/site-packages/awkward/_nplikes/array_module.py:251: RuntimeWarning: invalid value encountered in divide\n",
      "  return impl(*broadcasted_args, **(kwargs or {}))\n"
     ]
    },
    {
     "name": "stdout",
     "output_type": "stream",
     "text": [
      "successfully saved to ../jets_faking_photons/lumi135/mc23d_metsigcut/failJVT_jet_pt_nodijet.png\n",
      "successfully saved to ../jets_faking_photons/lumi135/mc23d_metsigcut/roc_curve_failJVT_jet_pt.png\n",
      "successfully saved to ../jets_faking_photons/lumi135/mc23d_metsigcut/failJVT_jet_pt1_nodijet.png\n",
      "successfully saved to ../jets_faking_photons/lumi135/mc23d_metsigcut/roc_curve_failJVT_jet_pt1.png\n"
     ]
    },
    {
     "name": "stderr",
     "output_type": "stream",
     "text": [
      "/home/jlai/.local/lib/python3.9/site-packages/awkward/_nplikes/array_module.py:251: RuntimeWarning: invalid value encountered in divide\n",
      "  return impl(*broadcasted_args, **(kwargs or {}))\n"
     ]
    },
    {
     "name": "stdout",
     "output_type": "stream",
     "text": [
      "successfully saved to ../jets_faking_photons/lumi135/mc23d_metsigcut/softerm_nodijet.png\n",
      "successfully saved to ../jets_faking_photons/lumi135/mc23d_metsigcut/roc_curve_softerm.png\n"
     ]
    },
    {
     "name": "stderr",
     "output_type": "stream",
     "text": [
      "/home/jlai/.local/lib/python3.9/site-packages/awkward/_nplikes/array_module.py:251: RuntimeWarning: invalid value encountered in divide\n",
      "  return impl(*broadcasted_args, **(kwargs or {}))\n"
     ]
    },
    {
     "name": "stdout",
     "output_type": "stream",
     "text": [
      "successfully saved to ../jets_faking_photons/lumi135/mc23d_metsigcut/jetterm_nodijet.png\n",
      "successfully saved to ../jets_faking_photons/lumi135/mc23d_metsigcut/roc_curve_jetterm.png\n"
     ]
    },
    {
     "name": "stderr",
     "output_type": "stream",
     "text": [
      "/home/jlai/.local/lib/python3.9/site-packages/awkward/_nplikes/array_module.py:251: RuntimeWarning: invalid value encountered in divide\n",
      "  return impl(*broadcasted_args, **(kwargs or {}))\n"
     ]
    },
    {
     "name": "stdout",
     "output_type": "stream",
     "text": [
      "successfully saved to ../jets_faking_photons/lumi135/mc23d_metsigcut/jetterm_sumet_nodijet.png\n",
      "successfully saved to ../jets_faking_photons/lumi135/mc23d_metsigcut/roc_curve_jetterm_sumet.png\n",
      "successfully saved to ../jets_faking_photons/lumi135/mc23d_metsigcut/n_jet_nodijet.png\n",
      "successfully saved to ../jets_faking_photons/lumi135/mc23d_metsigcut/roc_curve_n_jet.png\n"
     ]
    },
    {
     "name": "stderr",
     "output_type": "stream",
     "text": [
      "/home/jlai/.local/lib/python3.9/site-packages/awkward/_nplikes/array_module.py:251: RuntimeWarning: invalid value encountered in divide\n",
      "  return impl(*broadcasted_args, **(kwargs or {}))\n"
     ]
    },
    {
     "name": "stdout",
     "output_type": "stream",
     "text": [
      "successfully saved to ../jets_faking_photons/lumi135/mc23d_metsigcut/n_jet_central_nodijet.png\n",
      "successfully saved to ../jets_faking_photons/lumi135/mc23d_metsigcut/roc_curve_n_jet_central.png\n",
      "successfully saved to ../jets_faking_photons/lumi135/mc23d_metsigcut/n_jet_fwd_nodijet.png\n",
      "successfully saved to ../jets_faking_photons/lumi135/mc23d_metsigcut/roc_curve_n_jet_fwd.png\n"
     ]
    },
    {
     "name": "stderr",
     "output_type": "stream",
     "text": [
      "/home/jlai/.local/lib/python3.9/site-packages/awkward/_nplikes/array_module.py:251: RuntimeWarning: invalid value encountered in divide\n",
      "  return impl(*broadcasted_args, **(kwargs or {}))\n"
     ]
    },
    {
     "name": "stdout",
     "output_type": "stream",
     "text": [
      "successfully saved to ../jets_faking_photons/lumi135/mc23d_metsigcut/dphi_met_central_jet_nodijet.png\n",
      "successfully saved to ../jets_faking_photons/lumi135/mc23d_metsigcut/roc_curve_dphi_met_central_jet.png\n"
     ]
    },
    {
     "name": "stderr",
     "output_type": "stream",
     "text": [
      "/home/jlai/.local/lib/python3.9/site-packages/awkward/_nplikes/array_module.py:251: RuntimeWarning: invalid value encountered in sqrt\n",
      "  return impl(*broadcasted_args, **(kwargs or {}))\n",
      "/home/jlai/.local/lib/python3.9/site-packages/awkward/_nplikes/array_module.py:251: RuntimeWarning: invalid value encountered in divide\n",
      "  return impl(*broadcasted_args, **(kwargs or {}))\n"
     ]
    },
    {
     "name": "stdout",
     "output_type": "stream",
     "text": [
      "successfully saved to ../jets_faking_photons/lumi135/mc23d_metsigcut/jet_central_timing1_nodijet.png\n",
      "successfully saved to ../jets_faking_photons/lumi135/mc23d_metsigcut/roc_curve_jet_central_timing1.png\n"
     ]
    },
    {
     "name": "stderr",
     "output_type": "stream",
     "text": [
      "/home/jlai/.local/lib/python3.9/site-packages/awkward/_nplikes/array_module.py:251: RuntimeWarning: invalid value encountered in sqrt\n",
      "  return impl(*broadcasted_args, **(kwargs or {}))\n",
      "/home/jlai/.local/lib/python3.9/site-packages/awkward/_nplikes/array_module.py:251: RuntimeWarning: invalid value encountered in divide\n",
      "  return impl(*broadcasted_args, **(kwargs or {}))\n"
     ]
    },
    {
     "name": "stdout",
     "output_type": "stream",
     "text": [
      "successfully saved to ../jets_faking_photons/lumi135/mc23d_metsigcut/jet_central_timing_nodijet.png\n",
      "successfully saved to ../jets_faking_photons/lumi135/mc23d_metsigcut/roc_curve_jet_central_timing.png\n"
     ]
    },
    {
     "name": "stderr",
     "output_type": "stream",
     "text": [
      "/home/jlai/.local/lib/python3.9/site-packages/awkward/_nplikes/array_module.py:251: RuntimeWarning: invalid value encountered in divide\n",
      "  return impl(*broadcasted_args, **(kwargs or {}))\n"
     ]
    },
    {
     "name": "stdout",
     "output_type": "stream",
     "text": [
      "successfully saved to ../jets_faking_photons/lumi135/mc23d_metsigcut/jet_central_emfrac_nodijet.png\n",
      "successfully saved to ../jets_faking_photons/lumi135/mc23d_metsigcut/roc_curve_jet_central_emfrac.png\n"
     ]
    },
    {
     "name": "stderr",
     "output_type": "stream",
     "text": [
      "/home/jlai/.local/lib/python3.9/site-packages/awkward/_nplikes/array_module.py:251: RuntimeWarning: invalid value encountered in sqrt\n",
      "  return impl(*broadcasted_args, **(kwargs or {}))\n",
      "/home/jlai/.local/lib/python3.9/site-packages/awkward/_nplikes/array_module.py:251: RuntimeWarning: invalid value encountered in divide\n",
      "  return impl(*broadcasted_args, **(kwargs or {}))\n"
     ]
    },
    {
     "name": "stdout",
     "output_type": "stream",
     "text": [
      "successfully saved to ../jets_faking_photons/lumi135/mc23d_metsigcut/balance_nodijet.png\n",
      "successfully saved to ../jets_faking_photons/lumi135/mc23d_metsigcut/roc_curve_balance.png\n"
     ]
    },
    {
     "name": "stderr",
     "output_type": "stream",
     "text": [
      "/home/jlai/.local/lib/python3.9/site-packages/awkward/_nplikes/array_module.py:251: RuntimeWarning: invalid value encountered in divide\n",
      "  return impl(*broadcasted_args, **(kwargs or {}))\n"
     ]
    },
    {
     "name": "stdout",
     "output_type": "stream",
     "text": [
      "successfully saved to ../jets_faking_photons/lumi135/mc23d_metsigcut/balance_sumet_nodijet.png\n",
      "successfully saved to ../jets_faking_photons/lumi135/mc23d_metsigcut/roc_curve_balance_sumet.png\n"
     ]
    },
    {
     "name": "stderr",
     "output_type": "stream",
     "text": [
      "/home/jlai/.local/lib/python3.9/site-packages/awkward/_nplikes/array_module.py:251: RuntimeWarning: invalid value encountered in divide\n",
      "  return impl(*broadcasted_args, **(kwargs or {}))\n"
     ]
    },
    {
     "name": "stdout",
     "output_type": "stream",
     "text": [
      "successfully saved to ../jets_faking_photons/lumi135/mc23d_metsigcut/central_jets_fraction_nodijet.png\n",
      "successfully saved to ../jets_faking_photons/lumi135/mc23d_metsigcut/roc_curve_central_jets_fraction.png\n"
     ]
    },
    {
     "name": "stderr",
     "output_type": "stream",
     "text": [
      "/home/jlai/.local/lib/python3.9/site-packages/awkward/_nplikes/array_module.py:251: RuntimeWarning: invalid value encountered in divide\n",
      "  return impl(*broadcasted_args, **(kwargs or {}))\n"
     ]
    },
    {
     "name": "stdout",
     "output_type": "stream",
     "text": [
      "successfully saved to ../jets_faking_photons/lumi135/mc23d_metsigcut/trigger_nodijet.png\n",
      "successfully saved to ../jets_faking_photons/lumi135/mc23d_metsigcut/roc_curve_trigger.png\n"
     ]
    },
    {
     "name": "stderr",
     "output_type": "stream",
     "text": [
      "/home/jlai/.local/lib/python3.9/site-packages/awkward/_nplikes/array_module.py:251: RuntimeWarning: invalid value encountered in divide\n",
      "  return impl(*broadcasted_args, **(kwargs or {}))\n"
     ]
    },
    {
     "name": "stdout",
     "output_type": "stream",
     "text": [
      "successfully saved to ../jets_faking_photons/lumi135/mc23d_metsigcut/dphi_jj_nodijet.png\n",
      "successfully saved to ../jets_faking_photons/lumi135/mc23d_metsigcut/roc_curve_dphi_jj.png\n"
     ]
    },
    {
     "name": "stderr",
     "output_type": "stream",
     "text": [
      "/home/jlai/.local/lib/python3.9/site-packages/awkward/_nplikes/array_module.py:251: RuntimeWarning: invalid value encountered in divide\n",
      "  return impl(*broadcasted_args, **(kwargs or {}))\n"
     ]
    },
    {
     "name": "stdout",
     "output_type": "stream",
     "text": [
      "successfully saved to ../jets_faking_photons/lumi135/mc23d_metsigcut/BDTScore_nodijet.png\n",
      "successfully saved to ../jets_faking_photons/lumi135/mc23d_metsigcut/roc_curve_BDTScore.png\n"
     ]
    }
   ],
   "source": [
    "def sel(tot):\n",
    "    tot2 = []\n",
    "    for i in range(len(tot)):\n",
    "        fb2 = tot[i]\n",
    "\n",
    "        # jet_sum_tmp = ak.sum(fb2['jet_central_pt'], axis=-1)\n",
    "        # expr = (fb2['met_tst_et'] + ak.firsts(fb2['ph_pt'])) / ak.where(jet_sum_tmp != 0, jet_sum_tmp, 1)\n",
    "        # balance_tmp = ak.where(jet_sum_tmp != 0, expr, -999)\n",
    "        # mask1 = balance_tmp >= 0.65\n",
    "        # mask2 = balance_tmp == -999\n",
    "        # fb2 = fb2[mask1 | mask2]\n",
    "        \n",
    "        metsig_tmp = fb2['met_tst_sig'] \n",
    "        mask1 = metsig_tmp >= 7\n",
    "        fb2 = fb2[mask1]\n",
    "        # mask2 = metsig_tmp <= 13\n",
    "        # fb2 = fb2[mask1 * mask2]\n",
    "        \n",
    "        # ph_eta_tmp = np.abs(ak.firsts(fb2['ph_eta']))\n",
    "        # fb2 = fb2[ph_eta_tmp <= 1.75]\n",
    "\n",
    "        dphi_met_phterm_tmp = np.arccos(np.cos(fb2['met_tst_phi'] - fb2['met_phterm_phi'])) # added cut 3\n",
    "        fb2 = fb2[dphi_met_phterm_tmp >= 1.55]\n",
    "\n",
    "        # dmet_tmp = fb2['met_tst_noJVT_et'] - fb2['met_tst_et']\n",
    "        # mask1 = dmet_tmp >= -20000\n",
    "        # mask2 = dmet_tmp <= 50000\n",
    "        # fb2 = fb2[mask1 * mask2]\n",
    "\n",
    "        # phi1_tmp = ak.firsts(fb2['jet_central_phi']) # added cut 7\n",
    "        # phi2_tmp = ak.mask(fb2['jet_central_phi'], ak.num(fb2['jet_central_phi']) >= 2)[:, 1] \n",
    "        # dphi_tmp = np.arccos(np.cos(phi1_tmp - phi2_tmp))\n",
    "        # dphi_jj_tmp = ak.fill_none(dphi_tmp, -999)\n",
    "        # fb2 = fb2[dphi_jj_tmp <= 2.5]\n",
    "\n",
    "        # dphi_met_jetterm_tmp = np.where(fb2['met_jetterm_et'] != 0,   # added cut 5\n",
    "        #                     np.arccos(np.cos(fb2['met_tst_phi'] - fb2['met_jetterm_phi'])),\n",
    "        #                     -999)\n",
    "        # fb2 = fb2[dphi_met_jetterm_tmp <= 0.70]\n",
    "\n",
    "        # mt_tmp = np.sqrt(2 * fb2['met_tst_et'] * ak.firsts(fb2['ph_pt']) * \n",
    "        #                     (1 - np.cos(fb2['met_tst_phi'] - ak.firsts(fb2['ph_phi'])))) / 1000\n",
    "        # mask1 = mt_tmp >= 95\n",
    "        # fb2 = fb2[mask1]\n",
    "\n",
    "        \n",
    "        tot2.append(fb2)\n",
    "    return tot2\n",
    "\n",
    "tot2 = sel(tot)\n",
    "# tot2 = tot\n",
    "\n",
    "cut_name = 'metsig'\n",
    "# var_config = getVarDict(tot2[0], 'ggHyyd', var_name='balance')\n",
    "# cut_name = 'mt2'\n",
    "var_config = getVarDict(tot2[0], 'ggHyyd')\n",
    "\n",
    "\n",
    "for var in var_config:\n",
    "    # print(var)\n",
    "    bg_values = []     \n",
    "    bg_weights = []    \n",
    "    bg_colors = []     \n",
    "    bg_labels = []     \n",
    "\n",
    "    signal_values = [] \n",
    "    signal_weights = []\n",
    "    signal_color = None \n",
    "    signal_label = None\n",
    "\n",
    "    for j in range(len(ntuple_names)):\n",
    "    # for j in range(len(ntuple_names)-1): # leave dijet out\n",
    "        process = ntuple_names[j]\n",
    "        fb = tot2[j]  # TTree\n",
    "        var_config = getVarDict(fb, process, var_name=var)\n",
    "\n",
    "        x = var_config[var]['var'] # TBranch\n",
    "        bins = var_config[var]['bins'] \n",
    "\n",
    "        if 'weight' in var_config[var]:  # If weight is there\n",
    "            weights = var_config[var]['weight']\n",
    "        else:\n",
    "            weights = getWeight(fb, process)\n",
    "        \n",
    "        sample_info = sample_dict[process]\n",
    "        color = sample_info['color']\n",
    "        legend = sample_info['legend']\n",
    "\n",
    "        \n",
    "        if process == 'ggHyyd':  # signal\n",
    "            signal_values.append(x)\n",
    "            signal_weights.append(weights)\n",
    "            signal_color = color\n",
    "            signal_label = legend\n",
    "        else:   # background\n",
    "            bg_values.append(x)\n",
    "            bg_weights.append(weights)\n",
    "            bg_colors.append(color)\n",
    "            bg_labels.append(legend)\n",
    "\n",
    "    fig, (ax_top, ax_bot) = plt.subplots(2, 1, figsize=(12, 13), gridspec_kw={'height_ratios': [9, 4]})\n",
    "\n",
    "    ax_top.hist(bg_values, bins=bins, weights=bg_weights, color=bg_colors,\n",
    "                label=bg_labels, stacked=True)\n",
    "\n",
    "    ax_top.hist(signal_values, bins=bins, weights=signal_weights, color=signal_color,\n",
    "                label=signal_label, histtype='step', linewidth=2)\n",
    "\n",
    "    signal_all = np.concatenate(signal_values) if len(signal_values) > 0 else np.array([])\n",
    "    signal_weights_all = np.concatenate(signal_weights) if len(signal_weights) > 0 else np.array([])\n",
    "\n",
    "    # Add error bar for signal (top plot)\n",
    "    if len(signal_all) > 0:\n",
    "        signal_counts, bin_edges = np.histogram(signal_all, bins=bins, weights=signal_weights_all)\n",
    "        sum_weights_sq, _ = np.histogram(signal_all, bins=bins, weights=signal_weights_all**2)\n",
    "        bin_centers = (bin_edges[:-1] + bin_edges[1:]) / 2\n",
    "        signal_errors = np.sqrt(sum_weights_sq)  # Poisson error sqrt(N)\n",
    "\n",
    "        ax_top.errorbar(bin_centers, signal_counts, yerr=signal_errors, fmt='.', linewidth=2,\n",
    "                        color=signal_color, capsize=0)\n",
    "\n",
    "    ax_top.set_yscale('log')\n",
    "    ax_top.set_ylim(0.0001, 1e11)\n",
    "    ax_top.set_xlim(bins[0], bins[-1])\n",
    "    ax_top.minorticks_on()\n",
    "    ax_top.grid(True, which=\"both\", linestyle=\"--\", linewidth=0.5)\n",
    "    ax_top.set_ylabel(\"Events\")\n",
    "    ax_top.legend(ncol=2)\n",
    "    # ax_top.set_title(\"vtx_sumPt distribution\")\n",
    "\n",
    "    bg_all = np.concatenate(bg_values) if len(bg_values) > 0 else np.array([])\n",
    "    bg_weights_all = np.concatenate(bg_weights) if len(bg_weights) > 0 else np.array([])\n",
    "\n",
    "    # Compute the weighted histogram counts using np.histogram\n",
    "    S_counts, _ = np.histogram(signal_all, bins=bins, weights=signal_weights_all)\n",
    "    B_counts, _ = np.histogram(bg_all, bins=bins, weights=bg_weights_all)     \n",
    "\n",
    "    # Compute per-bin significance\n",
    "    sig_simple = np.zeros_like(S_counts, dtype=float)\n",
    "    sig_s_plus_b = np.zeros_like(S_counts, dtype=float)\n",
    "    sig_s_plus_1p3b = np.zeros_like(S_counts, dtype=float)\n",
    "\n",
    "    sqrt_B = np.sqrt(B_counts)\n",
    "    sqrt_SplusB = np.sqrt(S_counts + B_counts)\n",
    "    sqrt_Splus1p3B = np.sqrt(S_counts + 1.3 * B_counts)\n",
    "\n",
    "    # Avoid division by zero safely\n",
    "    sig_simple = np.where(B_counts > 0, S_counts / sqrt_B, 0)\n",
    "    sig_s_plus_b = np.where((S_counts + B_counts) > 0, S_counts / sqrt_SplusB, 0)\n",
    "    sig_s_plus_1p3b = np.where((S_counts + 1.3 * B_counts) > 0, S_counts / sqrt_Splus1p3B, 0)\n",
    "\n",
    "    # Add Binomial ExpZ per bin\n",
    "    zbi_per_bin = np.array([\n",
    "        zbi(S_counts[i], B_counts[i], sigma_b_frac=0.3)\n",
    "        for i in range(len(S_counts))\n",
    "    ])\n",
    "\n",
    "    # Compute the bin centers for plotting\n",
    "    bin_centers = 0.5 * (bins[:-1] + bins[1:])\n",
    "\n",
    "    # Compute the total significance: total S / sqrt(total B)\n",
    "    total_signal = np.sum(S_counts)\n",
    "    total_bkg = np.sum(B_counts)\n",
    "\n",
    "    if total_bkg > 0:\n",
    "        total_sig_simple = total_signal / np.sqrt(total_bkg)\n",
    "        total_sig_s_plus_b = total_signal / np.sqrt(total_signal + total_bkg)\n",
    "        total_sig_s_plus_1p3b = total_signal / np.sqrt(total_signal + 1.3 * total_bkg)\n",
    "        total_sig_binomial = zbi(total_signal, total_bkg, sigma_b_frac=0.3)\n",
    "    else:\n",
    "        total_sig_simple = total_sig_s_plus_b = total_sig_s_plus_1p3b = total_sig_binomial = 0\n",
    "\n",
    "    # --- Plot all significance curves ---\n",
    "    ax_bot.step(bin_centers, sig_simple, where='mid', color='chocolate', linewidth=2,\n",
    "                label=f\"S/√B = {total_sig_simple:.4f}\")\n",
    "    ax_bot.step(bin_centers, sig_s_plus_b, where='mid', color='tomato', linewidth=2,\n",
    "                label=f\"S/√(S+B) = {total_sig_s_plus_b:.4f}\")\n",
    "    ax_bot.step(bin_centers, sig_s_plus_1p3b, where='mid', color='orange', linewidth=2,\n",
    "                label=f\"S/√(S+1.3B) = {total_sig_s_plus_1p3b:.4f}\")\n",
    "    ax_bot.step(bin_centers, zbi_per_bin, where='mid', color='plum', linewidth=2,\n",
    "                label=f\"Binomial ExpZ = {total_sig_binomial:.4f}\")\n",
    "\n",
    "    ax_bot.set_xlabel(var_config[var]['title'])\n",
    "    # ax_bot.set_xticks(np.linspace(bins[0], bins[-1], 11))\n",
    "    ax_bot.set_ylabel(\"Significance\")\n",
    "    ax_bot.set_ylim(-0.8, 2)\n",
    "    ax_top.set_xlim(bins[0], bins[-1])\n",
    "\n",
    "    # Do not set a title on the bottom plot.\n",
    "    ax_bot.set_title(\"\")\n",
    "\n",
    "    # Draw a legend with purple text.\n",
    "    leg = ax_bot.legend()\n",
    "    for text in leg.get_texts():\n",
    "        text.set_color('purple')\n",
    "\n",
    "    plt.xlim(bins[0], bins[-1])\n",
    "    plt.tight_layout()\n",
    "    plt.savefig(f\"../jets_faking_photons/lumi135/mc23d_{cut_name}cut/{var}_nodijet.png\")\n",
    "    print(f\"successfully saved to ../jets_faking_photons/lumi135/mc23d_{cut_name}cut/{var}_nodijet.png\")\n",
    "    plt.close()\n",
    "    # plt.show()\n",
    "\n",
    "    y_true = np.concatenate([np.ones_like(signal_all), np.zeros_like(bg_all)])\n",
    "    # Use the vtx_sumPt values as the classifier output.\n",
    "    y_scores = np.concatenate([signal_all, bg_all])\n",
    "    # Combine the weights for all events.\n",
    "    y_weights = np.concatenate([signal_weights_all, bg_weights_all])\n",
    "\n",
    "    # Compute the weighted ROC curve.\n",
    "    fpr, tpr, thresholds = roc_curve(y_true, y_scores, sample_weight=y_weights)\n",
    "    sorted_indices = np.argsort(fpr)\n",
    "    fpr_sorted = fpr[sorted_indices]\n",
    "    tpr_sorted = tpr[sorted_indices]\n",
    "\n",
    "    roc_auc = auc(fpr_sorted, tpr_sorted)\n",
    "\n",
    "    # Create a new figure for the ROC curve.\n",
    "    plt.figure(figsize=(8, 8))\n",
    "    plt.plot(fpr, tpr, lw=2, color='red', label=f'ROC curve (AUC = {roc_auc:.5f})')\n",
    "    plt.plot([0, 1], [0, 1], linestyle='--', color='gray', label='Random chance')\n",
    "    plt.xlabel(\"False Positive Rate\")\n",
    "    plt.ylabel(\"True Positive Rate\")\n",
    "    plt.title(f\"ROC Curve for {var}\")\n",
    "    plt.legend(loc=\"lower right\")\n",
    "    plt.grid(True, which=\"both\", linestyle=\"--\", linewidth=0.5)\n",
    "    plt.tight_layout()    \n",
    "    plt.savefig(f\"../jets_faking_photons/lumi135/mc23d_{cut_name}cut/roc_curve_{var}.png\")\n",
    "    print(f\"successfully saved to ../jets_faking_photons/lumi135/mc23d_{cut_name}cut/roc_curve_{var}.png\")\n",
    "    plt.close()\n",
    "    # plt.show()\n"
   ]
  },
  {
   "cell_type": "code",
   "execution_count": 9,
   "metadata": {},
   "outputs": [
    {
     "data": {
      "text/plain": [
       "'d'"
      ]
     },
     "execution_count": 9,
     "metadata": {},
     "output_type": "execute_result"
    }
   ],
   "source": [
    "process"
   ]
  },
  {
   "cell_type": "code",
   "execution_count": null,
   "metadata": {},
   "outputs": [
    {
     "name": "stdout",
     "output_type": "stream",
     "text": [
      "'mc23d_balancecut/vtx_sumPt_nodijet.png',\n",
      "'mc23d_abs_weight_selectioncut/vtx_sumPt_absWeightSelection.png',\n",
      "'mc23d_balancecut/n_ph_nodijet.png',\n",
      "'mc23d_abs_weight_selectioncut/n_ph_absWeightSelection.png',\n",
      "'mc23d_balancecut/n_ph_baseline_nodijet.png',\n",
      "'mc23d_abs_weight_selectioncut/n_ph_baseline_absWeightSelection.png',\n",
      "'mc23d_balancecut/n_el_baseline_nodijet.png',\n",
      "'mc23d_abs_weight_selectioncut/n_el_baseline_absWeightSelection.png',\n",
      "'mc23d_balancecut/n_mu_baseline_nodijet.png',\n",
      "'mc23d_abs_weight_selectioncut/n_mu_baseline_absWeightSelection.png',\n",
      "'mc23d_balancecut/n_tau_baseline_nodijet.png',\n",
      "'mc23d_abs_weight_selectioncut/n_tau_baseline_absWeightSelection.png',\n",
      "'mc23d_balancecut/puWeight_nodijet.png',\n",
      "'mc23d_abs_weight_selectioncut/puWeight_absWeightSelection.png',\n",
      "'mc23d_balancecut/actualIntPerXing_nodijet.png',\n",
      "'mc23d_abs_weight_selectioncut/actualIntPerXing_absWeightSelection.png',\n",
      "'mc23d_balancecut/mt_nodijet.png',\n",
      "'mc23d_abs_weight_selectioncut/mt_absWeightSelection.png',\n",
      "'mc23d_balancecut/metsig_nodijet.png',\n",
      "'mc23d_abs_weight_selectioncut/metsig_absWeightSelection.png',\n",
      "'mc23d_balancecut/metsigres_nodijet.png',\n",
      "'mc23d_abs_weight_selectioncut/metsigres_absWeightSelection.png',\n",
      "'mc23d_balancecut/met_nodijet.png',\n",
      "'mc23d_abs_weight_selectioncut/met_absWeightSelection.png',\n",
      "'mc23d_balancecut/met_noJVT_nodijet.png',\n",
      "'mc23d_abs_weight_selectioncut/met_noJVT_absWeightSelection.png',\n",
      "'mc23d_balancecut/met_cst_nodijet.png',\n",
      "'mc23d_abs_weight_selectioncut/met_cst_absWeightSelection.png',\n",
      "'mc23d_balancecut/met_track_nodijet.png',\n",
      "'mc23d_abs_weight_selectioncut/met_track_absWeightSelection.png',\n",
      "'mc23d_balancecut/dmet_nodijet.png',\n",
      "'mc23d_abs_weight_selectioncut/dmet_absWeightSelection.png',\n",
      "'mc23d_balancecut/ph_pt_nodijet.png',\n",
      "'mc23d_abs_weight_selectioncut/ph_pt_absWeightSelection.png',\n",
      "'mc23d_balancecut/ph_eta_nodijet.png',\n",
      "'mc23d_abs_weight_selectioncut/ph_eta_absWeightSelection.png',\n",
      "'mc23d_balancecut/ph_phi_nodijet.png',\n",
      "'mc23d_abs_weight_selectioncut/ph_phi_absWeightSelection.png',\n",
      "'mc23d_balancecut/jet_central_eta_nodijet.png',\n",
      "'mc23d_abs_weight_selectioncut/jet_central_eta_absWeightSelection.png',\n",
      "'mc23d_balancecut/jet_central_pt1_nodijet.png',\n",
      "'mc23d_abs_weight_selectioncut/jet_central_pt1_absWeightSelection.png',\n",
      "'mc23d_balancecut/jet_central_pt2_nodijet.png',\n",
      "'mc23d_abs_weight_selectioncut/jet_central_pt2_absWeightSelection.png',\n",
      "'mc23d_balancecut/jet_central_pt_nodijet.png',\n",
      "'mc23d_abs_weight_selectioncut/jet_central_pt_absWeightSelection.png',\n",
      "'mc23d_balancecut/dphi_met_phterm_nodijet.png',\n",
      "'mc23d_abs_weight_selectioncut/dphi_met_phterm_absWeightSelection.png',\n",
      "'mc23d_balancecut/dphi_met_ph_nodijet.png',\n",
      "'mc23d_abs_weight_selectioncut/dphi_met_ph_absWeightSelection.png',\n",
      "'mc23d_balancecut/dphi_met_jetterm_nodijet.png',\n",
      "'mc23d_abs_weight_selectioncut/dphi_met_jetterm_absWeightSelection.png',\n",
      "'mc23d_balancecut/dphi_phterm_jetterm_nodijet.png',\n",
      "'mc23d_abs_weight_selectioncut/dphi_phterm_jetterm_absWeightSelection.png',\n",
      "'mc23d_balancecut/dphi_ph_centraljet1_nodijet.png',\n",
      "'mc23d_abs_weight_selectioncut/dphi_ph_centraljet1_absWeightSelection.png',\n",
      "'mc23d_balancecut/dphi_ph_jet1_nodijet.png',\n",
      "'mc23d_abs_weight_selectioncut/dphi_ph_jet1_absWeightSelection.png',\n",
      "'mc23d_balancecut/metplusph_nodijet.png',\n",
      "'mc23d_abs_weight_selectioncut/metplusph_absWeightSelection.png',\n",
      "'mc23d_balancecut/failJVT_jet_pt_nodijet.png',\n",
      "'mc23d_abs_weight_selectioncut/failJVT_jet_pt_absWeightSelection.png',\n",
      "'mc23d_balancecut/failJVT_jet_pt1_nodijet.png',\n",
      "'mc23d_abs_weight_selectioncut/failJVT_jet_pt1_absWeightSelection.png',\n",
      "'mc23d_balancecut/softerm_nodijet.png',\n",
      "'mc23d_abs_weight_selectioncut/softerm_absWeightSelection.png',\n",
      "'mc23d_balancecut/jetterm_nodijet.png',\n",
      "'mc23d_abs_weight_selectioncut/jetterm_absWeightSelection.png',\n",
      "'mc23d_balancecut/jetterm_sumet_nodijet.png',\n",
      "'mc23d_abs_weight_selectioncut/jetterm_sumet_absWeightSelection.png',\n",
      "'mc23d_balancecut/n_jet_nodijet.png',\n",
      "'mc23d_abs_weight_selectioncut/n_jet_absWeightSelection.png',\n",
      "'mc23d_balancecut/n_jet_central_nodijet.png',\n",
      "'mc23d_abs_weight_selectioncut/n_jet_central_absWeightSelection.png',\n",
      "'mc23d_balancecut/n_jet_fwd_nodijet.png',\n",
      "'mc23d_abs_weight_selectioncut/n_jet_fwd_absWeightSelection.png',\n",
      "'mc23d_balancecut/goodPV_nodijet.png',\n",
      "'mc23d_abs_weight_selectioncut/goodPV_absWeightSelection.png',\n",
      "'mc23d_balancecut/dphi_met_central_jet_nodijet.png',\n",
      "'mc23d_abs_weight_selectioncut/dphi_met_central_jet_absWeightSelection.png',\n",
      "'mc23d_balancecut/jet_central_timing1_nodijet.png',\n",
      "'mc23d_abs_weight_selectioncut/jet_central_timing1_absWeightSelection.png',\n",
      "'mc23d_balancecut/jet_central_timing_nodijet.png',\n",
      "'mc23d_abs_weight_selectioncut/jet_central_timing_absWeightSelection.png',\n",
      "'mc23d_balancecut/jet_central_emfrac_nodijet.png',\n",
      "'mc23d_abs_weight_selectioncut/jet_central_emfrac_absWeightSelection.png',\n",
      "'mc23d_balancecut/balance_nodijet.png',\n",
      "'mc23d_abs_weight_selectioncut/balance_absWeightSelection.png',\n",
      "'mc23d_balancecut/balance_sumet_nodijet.png',\n",
      "'mc23d_abs_weight_selectioncut/balance_sumet_absWeightSelection.png',\n",
      "'mc23d_balancecut/central_jets_fraction_nodijet.png',\n",
      "'mc23d_abs_weight_selectioncut/central_jets_fraction_absWeightSelection.png',\n",
      "'mc23d_balancecut/trigger_nodijet.png',\n",
      "'mc23d_abs_weight_selectioncut/trigger_absWeightSelection.png',\n",
      "'mc23d_balancecut/dphi_jj_nodijet.png',\n",
      "'mc23d_abs_weight_selectioncut/dphi_jj_absWeightSelection.png',\n",
      "'mc23d_balancecut/BDTScore_nodijet.png',\n",
      "'mc23d_abs_weight_selectioncut/BDTScore_absWeightSelection.png',\n"
     ]
    }
   ],
   "source": [
    "# print out the image list in common_config.js\n",
    "var_config = getVarDict(tot2[0], 'ggHyyd')\n",
    "\n",
    "for var in var_config:\n",
    "\n",
    "    print(f\"'mc23d_balancecut/{var}_nodijet.png',\")\n",
    "    print(f\"'mc23d_abs_weight_selectioncut/{var}_absWeightSelection.png',\")"
   ]
  },
  {
   "cell_type": "markdown",
   "metadata": {},
   "source": [
    "## Back-up"
   ]
  },
  {
   "cell_type": "code",
   "execution_count": null,
   "metadata": {},
   "outputs": [],
   "source": [
    "\n",
    "    var = {\n",
    "        'vtx_sumPt': ak.flatten(fb['vtx_sumPt']),\n",
    "        'n_ph': fb['n_ph'],\n",
    "        'n_ph_baseline': fb['n_ph_baseline'],\n",
    "        'n_el_baseline': fb['n_el_baseline'],\n",
    "        'n_mu_baseline': fb['n_mu_baseline'],\n",
    "        'n_tau_baseline': fb['n_tau_baseline'],\n",
    "        'puWeight': fb['pu_weight'],\n",
    "        'actualIntPerXing': fb['actualIntPerXing'],\n",
    "        'mt': np.sqrt(2 * fb['met_tst_et'] * ak.firsts(fb['ph_pt']) * (1 - np.cos(fb['met_tst_phi'] - ak.firsts(fb['ph_phi'])))) / 1000,\n",
    "        'metsig': fb['met_tst_sig'],\n",
    "        'metsigres': fb['met_tst_et'] / fb['met_tst_sig'],\n",
    "        'met': fb['met_tst_et'],  # applying the '+50000' shift\n",
    "        'met_noJVT': fb['met_tst_noJVT_et'],\n",
    "        'met_cst': fb['met_cst_et'],\n",
    "        'met_track': fb['met_track_et'],\n",
    "        'dmet': fb['met_tst_noJVT_et'] - fb['met_tst_et'],\n",
    "        'ph_pt': ak.firsts(fb['ph_pt']),  # applying the '-150000' shift\n",
    "        'ph_eta': np.abs(ak.firsts(fb['ph_eta'])),\n",
    "        'ph_phi': ak.firsts(fb['ph_phi']),\n",
    "        # 'jet_central_eta': ak.firsts(fb['jet_central_eta']),\n",
    "        # 'jet_central_pt1': ak.firsts(fb['jet_central_pt']),\n",
    "        # 'jet_central_pt2': fb['jet_central_pt'][ak.num(fb['jet_central_pt']) >= 2][:, 1],\n",
    "        # 'jet_central_pt': fb['jet_central_pt'],\n",
    "        'dphi_met_phterm': np.arccos(np.cos(fb['met_tst_phi'] - fb['met_phterm_phi'])),\n",
    "        'dphi_met_ph': np.arccos(np.cos(fb['met_tst_phi'] - ak.firsts(fb['ph_phi']))),\n",
    "        'dphi_met_jetterm': np.where(fb['met_jetterm_et'] != 0,\n",
    "                                    np.arccos(np.cos(fb['met_tst_phi'] - fb['met_jetterm_phi'])),\n",
    "                                    0),\n",
    "        'dphi_phterm_jetterm': np.where(fb['met_jetterm_et'] > 0,\n",
    "                                        np.arccos(np.cos(fb['met_phterm_phi'] - fb['met_jetterm_phi'])),\n",
    "                                        4),\n",
    "        # 'dphi_ph_centraljet1': np.arccos(np.cos(ak.firsts(fb['ph_phi']) - ak.firsts(fb['jet_central_phi']))),\n",
    "        # 'dphi_ph_jet1': np.arccos(np.cos(ak.firsts(fb['ph_phi']) - ak.firsts(fb['jet_central_phi']))),\n",
    "        # 'dphi_central_jet1_jet2': np.arccos(np.cos(fb['jet_central_phi'][ak.num(fb['jet_central_phi']) >= 2][:, 0] - fb['jet_central_phi'][ak.num(fb['jet_central_phi']) >= 2][:, 1])),\n",
    "        'metplusph': fb['met_tst_et'] + ak.firsts(fb['ph_pt']),\n",
    "        # 'failJVT_jet_pt': fb['failJVT_jet_pt'],\n",
    "        # 'failJVT_jet_pt1': ak.firsts(fb['failJVT_jet_pt']),\n",
    "        'softerm': fb['met_softerm_tst_et'],\n",
    "        'jetterm': fb['met_jetterm_et'],\n",
    "        'jetterm_sumet': fb['met_jetterm_sumet'],\n",
    "        'n_jet': fb['n_jet'],\n",
    "        'n_jet_central': fb['n_jet_central'],\n",
    "        'n_jet_fwd': fb['n_jet'] - fb['n_jet_central'],\n",
    "        'vertex': np.abs(ak.firsts(fb['pv_truth_z']) - ak.firsts(fb['pv_z'])) == np.min(np.abs(ak.firsts(fb['pv_truth_z']) - fb['pv_z'])),\n",
    "        'goodPV': np.abs(ak.firsts(fb['pv_truth_z']) - ak.firsts(fb['pv_z'])) <= 0.5,\n",
    "        # 'dphi_met_central_jet': np.arccos(np.cos(fb['met_tst_phi'] - ak.firsts(fb['jet_central_phi']))),\n",
    "        # 'counts': 0.5,\n",
    "        # 'jet_central_timing1': ak.firsts(fb['jet_central_timing']),\n",
    "        # 'jet_central_timing': fb['jet_central_timing'],\n",
    "        # 'jet_central_emfrac': fb['jet_central_emfrac'],\n",
    "        # 'jet_central_emfrac1': ak.firsts(fb['jet_central_emfrac']),\n",
    "        'balance': (fb['met_tst_et'] + ak.firsts(fb['ph_pt'])) / np.sum(fb['jet_central_pt']), # need fixing \n",
    "        'balance_sumet': (fb['met_tst_et'] + ak.firsts(fb['ph_pt'])) / fb['met_jetterm_sumet'],\n",
    "        'central_jets_fraction': np.where(fb['n_jet'] > 0, fb['n_jet_central'] / fb['n_jet'], -1),\n",
    "        'trigger': fb['trigger_HLT_g50_tight_xe40_cell_xe70_pfopufit_80mTAC_L1eEM26M'],\n",
    "        # 'dphi_jj': ak.Array([np.arccos(np.cos(phi[1] - phi[0])) if len(phi) > 1 else -1 for phi in fb['jet_central_phi']])\n",
    "    }\n",
    "\n",
    "    df = pd.DataFrame(var)\n",
    "\n",
    "    data = pd.concat([data, df], ignore_index=True)\n",
    "\n",
    "\n",
    "    # for key, value in var.items():\n",
    "    #     try:\n",
    "    #         print(f\"{key:30s}: {len(value)}\")\n",
    "    #         print(f\"{key:30s}: {value[:5]}\")\n",
    "\n",
    "    #     except Exception as e:\n",
    "    #         print(f\"{key:30s}: error getting length ({e})\")\n",
    "\n",
    "print(data.head())\n"
   ]
  }
 ],
 "metadata": {
  "kernelspec": {
   "display_name": "Python 3",
   "language": "python",
   "name": "python3"
  },
  "language_info": {
   "codemirror_mode": {
    "name": "ipython",
    "version": 3
   },
   "file_extension": ".py",
   "mimetype": "text/x-python",
   "name": "python",
   "nbconvert_exporter": "python",
   "pygments_lexer": "ipython3",
   "version": "3.9.21"
  }
 },
 "nbformat": 4,
 "nbformat_minor": 2
}
