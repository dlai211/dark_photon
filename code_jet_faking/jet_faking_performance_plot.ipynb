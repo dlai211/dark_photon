{
 "cells": [
  {
   "cell_type": "code",
   "execution_count": 2,
   "metadata": {},
   "outputs": [],
   "source": [
    "# import modules\n",
    "import uproot, sys, time, math\n",
    "import numpy as np\n",
    "import matplotlib.pyplot as plt\n",
    "import pandas as pd\n",
    "import awkward as ak\n",
    "from tqdm import tqdm\n",
    "import seaborn as sns\n",
    "from sklearn.metrics import roc_curve, auc\n",
    "from sklearn.model_selection import train_test_split\n",
    "from matplotlib.ticker import FormatStrFormatter\n",
    "import matplotlib.ticker as ticker\n",
    "from scipy.special import betainc\n",
    "from scipy.stats import norm\n",
    "\n",
    "# import config functions\n",
    "from jet_faking_plot_config import getWeight, zbi, sample_dict, getVarDict\n",
    "from plot_var import variables, variables_data, ntuple_names, ntuple_names_BDT\n",
    "\n",
    "\n",
    "# Set up plot defaults\n",
    "import matplotlib as mpl\n",
    "mpl.rcParams['figure.figsize'] = 14.0,10.0  # Roughly 11 cm wde by 8 cm high\n",
    "mpl.rcParams['font.size'] = 20.0 # Use 14 point font\n",
    "sns.set(style=\"whitegrid\")\n",
    "\n",
    "font_size = {\n",
    "    \"xlabel\": 17,\n",
    "    \"ylabel\": 17,\n",
    "    \"xticks\": 15,\n",
    "    \"yticks\": 15,\n",
    "    \"legend\": 14\n",
    "}\n",
    "\n",
    "plt.rcParams.update({\n",
    "    \"axes.labelsize\": font_size[\"xlabel\"],  # X and Y axis labels\n",
    "    \"xtick.labelsize\": font_size[\"xticks\"],  # X ticks\n",
    "    \"ytick.labelsize\": font_size[\"yticks\"],  # Y ticks\n",
    "    \"legend.fontsize\": font_size[\"legend\"]  # Legend\n",
    "})"
   ]
  },
  {
   "cell_type": "code",
   "execution_count": 5,
   "metadata": {},
   "outputs": [],
   "source": [
    "path = \"/data/tmathew/ntups/mc23d/ggHyyd_y.root\"\n",
    "path = \"/data/fpiazza/ggHyyd/Ntuples/MC23d/withVertexBDT/mc23d_ggHyyd_y_BDT_score.root\"\n",
    "f = uproot.open(path)['nominal']\n",
    "f.keys()\n",
    "fb = f.arrays(['run', 'jet_central_phi', 'jet_central_pt', 'dphi_central_jj', 'dphi_jj'], library='ak')\n",
    "# fb['dphi_central_jj'], fb['dphi_jj']"
   ]
  },
  {
   "cell_type": "code",
   "execution_count": 3,
   "metadata": {},
   "outputs": [
    {
     "name": "stdout",
     "output_type": "stream",
     "text": [
      "processing file:  /data/tmathew/ntups/mc23d/ggHyyd_y.root\n",
      "Unweighted Events before cut:  86910\n",
      "Weighted Events before cut:  8732.756\n",
      "Unweighted Events after basic cut:  4587\n",
      "Weighted Events after basic cut:  461.92218\n",
      "Number of none values:  0\n",
      "Reading Time for ggHyyd: 3.649345636367798 seconds\n",
      "\n",
      "processing file:  /data/tmathew/ntups/mc23d/Zjets_y.root\n",
      "Unweighted Events before cut:  3242488\n",
      "Weighted Events before cut:  674497.9\n",
      "Unweighted Events after basic cut:  9208\n",
      "Weighted Events after basic cut:  706.2252\n",
      "Number of none values:  0\n",
      "Reading Time for Zjets: 92.12926077842712 seconds\n",
      "\n",
      "processing file:  /data/tmathew/ntups/mc23d/Zgamma_y.root\n",
      "Unweighted Events before cut:  3423357\n",
      "Weighted Events before cut:  249515.86\n",
      "Unweighted Events after basic cut:  1715357\n",
      "Weighted Events after basic cut:  52655.82\n",
      "Number of none values:  0\n",
      "Reading Time for Zgamma: 42.215800523757935 seconds\n",
      "\n",
      "processing file:  /data/tmathew/ntups/mc23d/Wgamma_y.root\n",
      "Unweighted Events before cut:  1308982\n",
      "Weighted Events before cut:  427789.75\n",
      "Unweighted Events after basic cut:  300189\n",
      "Weighted Events after basic cut:  36743.523\n",
      "Number of none values:  0\n",
      "Reading Time for Wgamma: 16.422049522399902 seconds\n",
      "\n",
      "processing file:  /data/tmathew/ntups/mc23d/Wjets_y.root\n",
      "Unweighted Events before cut:  1962593\n",
      "Weighted Events before cut:  2811573.2\n",
      "Unweighted Events after basic cut:  40245\n",
      "Weighted Events after basic cut:  39018.887\n",
      "Number of none values:  0\n",
      "Reading Time for Wjets: 36.50109672546387 seconds\n",
      "\n",
      "processing file:  /data/tmathew/ntups/mc23d/gammajet_direct_y.root\n",
      "Unweighted Events before cut:  12921098\n",
      "Weighted Events before cut:  145885300.0\n",
      "Unweighted Events after basic cut:  1143608\n",
      "Weighted Events after basic cut:  930780.9\n",
      "Number of none values:  0\n",
      "Reading Time for gammajet_direct: 94.433180809021 seconds\n",
      "\n",
      "processing file:  /data/fpiazza/ggHyyd/Ntuples/MC23d/withVertexBDT/data23_y_BDT_score.root\n",
      "Unweighted Events before cut:  3354286\n",
      "Weighted Events before cut:  36165772.75273502\n",
      "Unweighted Events after basic cut:  86539\n",
      "Weighted Events after basic cut:  929869.6264678327\n",
      "Number of none values:  0\n",
      "Reading Time for data23: 83.90788125991821 seconds\n",
      "\n"
     ]
    }
   ],
   "source": [
    "tot = []\n",
    "data = pd.DataFrame()\n",
    "unweighted_bcut, weighted_bcut, unweighted_acut, weighted_acut = [], [], [], []\n",
    "ntuple_names = ['ggHyyd','Zjets','Zgamma','Wgamma','Wjets','gammajet_direct', 'data23']\n",
    "\n",
    "def test(fb):\n",
    "    # checking if there are any none values\n",
    "    mask = ak.is_none(fb['met_tst_et'])\n",
    "    n_none = ak.sum(mask)\n",
    "    print(\"Number of none values: \", n_none)\n",
    "    # if n_none > 0:\n",
    "    #     fb = fb[~mask]\n",
    "    # print(\"Events after removing none values: \", len(fb), ak.sum(ak.is_none(fb['met_tst_et'])))\n",
    "\n",
    "def print_cut(ntuple_name, fb, label):\n",
    "    print(f\"Unweighted Events {label}: \", len(fb))\n",
    "    if ntuple_name == 'data23':\n",
    "        print(f\"Weighted Events {label}: \", sum(getWeight(fb, ntuple_name, jet_faking=True)))\n",
    "    else: \n",
    "        print(f\"Weighted Events {label}: \", sum(getWeight(fb, ntuple_name)))\n",
    "\n",
    "for i in range(len(ntuple_names)):\n",
    "    ucut, wcut = [], []\n",
    "    start_time = time.time()\n",
    "    ntuple_name = ntuple_names[i]\n",
    "    if ntuple_name == 'data23': # data\n",
    "        path = f\"/data/fpiazza/ggHyyd/Ntuples/MC23d/withVertexBDT/data23_y_BDT_score.root\" \n",
    "        print('processing file: ', path)\n",
    "        f = uproot.open(path)['nominal']\n",
    "        fb = f.arrays(variables_data, library=\"ak\")\n",
    "        fb = fb[ak.num(fb['ph_eta']) > 0]     # for abs(ak.firsts(fb['ph_eta'])) to have value to the reweighting\n",
    "                \n",
    "        mask1 = (ak.firsts(fb['ph_topoetcone40'])-2450.)/ak.firsts(fb['ph_pt']) > 0.1   # jet_faking_photon cut\n",
    "        fb = fb[mask1]\n",
    "        fb = fb[fb['n_ph_baseline'] == 1]\n",
    "\n",
    "    else: # MC\n",
    "        path = f\"/data/tmathew/ntups/mc23d/{ntuple_name}_y.root\" \n",
    "        path_BDT = f\"/data/fpiazza/ggHyyd/Ntuples/MC23d/withVertexBDT/mc23d_{ntuple_name}_y_BDT_score.root\" \n",
    "        print('processing file: ', path)\n",
    "        f = uproot.open(path)['nominal']\n",
    "        fb = f.arrays(variables, library=\"ak\")\n",
    "\n",
    "        # add BDT score to fb\n",
    "        f_BDT = uproot.open(path_BDT)['nominal']\n",
    "        fb_BDT = f_BDT.arrays([\"event\", \"BDTScore\"], library=\"ak\")\n",
    "        tmp = fb[\"event\"] == fb_BDT[\"event\"]\n",
    "        if np.all(tmp) == True:\n",
    "            fb[\"BDTScore\"] = fb_BDT[\"BDTScore\"]\n",
    "        else: \n",
    "            print(\"Something is wrong, need arranging\")\n",
    "\n",
    "        fb = fb[ak.num(fb['ph_eta']) > 0]     # for abs(ak.firsts(fb['ph_eta'])) to have value to the reweighting\n",
    "        fb = fb[fb['n_ph'] == 1]\n",
    "        \n",
    "        # Zjets and Wjets (rule out everything except for e->gamma)\n",
    "        if ntuple_name == 'Zjets' or ntuple_name == 'Wjets':\n",
    "            mask = ak.firsts(fb['ph_truth_type']) == 2\n",
    "            fb = fb[mask]\n",
    "        \n",
    "        # goodPV on signal only\n",
    "        if ntuple_name == 'ggHyyd':\n",
    "            fb = fb[ak.num(fb['pv_z']) > 0]\n",
    "            good_pv_tmp = (np.abs(ak.firsts(fb['pv_truth_z']) - ak.firsts(fb['pv_z'])) <= 0.5)\n",
    "            fb = fb[good_pv_tmp]\n",
    "\n",
    "    print_cut(ntuple_name, fb, 'before cut')\n",
    "\n",
    "    fb = fb[fb['n_mu_baseline'] == 0]\n",
    "    fb = fb[fb['n_el_baseline'] == 0]\n",
    "    fb = fb[fb['n_tau_baseline'] == 0]\n",
    "    fb = fb[fb['trigger_HLT_g50_tight_xe40_cell_xe70_pfopufit_80mTAC_L1eEM26M']==1]\n",
    "    fb = fb[ak.num(fb['ph_pt']) > 0] # prevent none values in Tbranch\n",
    "    fb = fb[ak.firsts(fb['ph_pt']) >= 50000] # ph_pt cut (basic cut)\n",
    "    fb = fb[fb['met_tst_et'] >= 100000] # MET cut (basic cut)\n",
    "    fb = fb[fb['n_jet_central'] <= 4] # n_jet_central cut (basic cut)\n",
    "\n",
    "    mt_tmp = np.sqrt(2 * fb['met_tst_et'] * ak.firsts(fb['ph_pt']) * \n",
    "                            (1 - np.cos(fb['met_tst_phi'] - ak.firsts(fb['ph_phi'])))) / 1000\n",
    "    mask1 = mt_tmp >= 100 # trigger cut\n",
    "    fb = fb[mask1]\n",
    "\n",
    "    # fb = fb[fb['BDTScore'] >= 0.1] # added cut 1\n",
    "    \n",
    "\n",
    "    print_cut(ntuple_name, fb, 'after basic cut')\n",
    "\n",
    "\n",
    "    ucut.append(len(fb))\n",
    "\n",
    "    unweighted_acut.append(ucut)\n",
    "    weighted_acut.append(wcut)\n",
    "    test(fb) # check for none value\n",
    "\n",
    "    print(f\"Reading Time for {ntuple_name}: {(time.time()-start_time)} seconds\\n\")\n",
    "\n",
    "\n",
    "\n",
    "    tot.append(fb)\n",
    "\n",
    "    fb = 0\n",
    "    fb_BDT = 0\n",
    "    tmp = 0\n"
   ]
  },
  {
   "cell_type": "code",
   "execution_count": 7,
   "metadata": {},
   "outputs": [],
   "source": [
    "# Save data after basic cut to a csv file for BDT input\n",
    "Vars = [\n",
    "    'balance', \n",
    "    'BDTScore',\n",
    "    'dmet',\n",
    "    'dphi_jj',\n",
    "    'dphi_met_central_jet',\n",
    "    'dphi_met_phterm',\n",
    "    'dphi_met_ph',\n",
    "    'dphi_met_jetterm',\n",
    "    'dphi_phterm_jetterm',\n",
    "    'dphi_ph_centraljet1',\n",
    "    'ph_pt',\n",
    "    'ph_eta',\n",
    "    'ph_phi',\n",
    "    'jet_central_eta',\n",
    "    'jet_central_pt1',\n",
    "    'jet_central_pt2',\n",
    "    'jetterm',\n",
    "    'jetterm_sumet',\n",
    "    'metsig',\n",
    "    'metsigres',\n",
    "    'met',\n",
    "    'met_noJVT',\n",
    "    'metplusph',\n",
    "    'failJVT_jet_pt1',\n",
    "    'softerm',\n",
    "    'n_jet_central'\n",
    "]\n",
    "\n",
    "data_list = []\n",
    "\n",
    "for j in range(len(ntuple_names)):\n",
    "    process = ntuple_names[j]\n",
    "    fb = tot[j] \n",
    "    \n",
    "    data_dict = {}\n",
    "    \n",
    "    for var in Vars:\n",
    "        var_config = getVarDict(fb, process, var_name=var)\n",
    "        data_dict[var] = var_config[var]['var']\n",
    "    \n",
    "    weights = getWeight(fb, process)\n",
    "    data_dict['weights'] = weights\n",
    "    \n",
    "    n_events = len(weights)\n",
    "    data_dict['process'] = [process] * n_events\n",
    "    label = 1 if process == 'ggHyyd' else 0\n",
    "    data_dict['label'] = [label] * n_events\n",
    "    \n",
    "    df_temp = pd.DataFrame(data_dict)\n",
    "    data_list.append(df_temp)\n",
    "\n",
    "df_all = pd.concat(data_list, ignore_index=True)\n",
    "df_all.head()\n",
    "\n",
    "df_all.to_csv(\"/data/jlai/ntups/csv/jet_faking_BDT_input_basic.csv\", index=False)\n"
   ]
  },
  {
   "cell_type": "code",
   "execution_count": 34,
   "metadata": {},
   "outputs": [
    {
     "name": "stdout",
     "output_type": "stream",
     "text": [
      "ggHyyd\n",
      "(<Array [0, 1, 2, 3, 4, ..., 4581, 4583, 4584, 4585, 4586] type='3797 * int64'>,)\n",
      "(<Array [1, 2, 4, 5, 9, ..., 4576, 4578, 4580, 4585, 4586] type='3334 * int64'>,)\n",
      "Zjets\n",
      "(<Array [0, 3, 5, 7, 8, ..., 9201, 9203, 9204, 9206, 9207] type='4923 * int64'>,)\n",
      "(<Array [0, 3, 5, 7, 8, ..., 9201, 9203, 9204, 9206, 9207] type='4021 * int64'>,)\n",
      "Zgamma\n",
      "(<Array [0, 5, 8, 12, ..., 1715350, 1715351, 1715353] type='1412345 * int64'>,)\n",
      "(<Array [0, 5, 8, 12, ..., 1715350, 1715351, 1715353] type='1277425 * int64'>,)\n",
      "Wgamma\n",
      "(<Array [0, 1, 3, 4, ..., 300185, 300186, 300187, 300188] type='236524 * int64'>,)\n",
      "(<Array [0, 1, 3, 4, ..., 300184, 300185, 300187, 300188] type='211113 * int64'>,)\n",
      "Wjets\n",
      "(<Array [0, 1, 2, 3, 4, ..., 40238, 40239, 40241, 40244] type='30433 * int64'>,)\n",
      "(<Array [0, 2, 3, 4, 5, ..., 40237, 40238, 40241, 40244] type='26289 * int64'>,)\n",
      "gammajet_direct\n",
      "(<Array [3, 10, 11, 14, ..., 1143605, 1143606, 1143607] type='881981 * int64'>,)\n",
      "(<Array [3, 10, 11, 14, ..., 1143602, 1143603, 1143606] type='770398 * int64'>,)\n",
      "data23\n",
      "(<Array [0, 2, 5, 7, 9, ..., 86528, 86532, 86536, 86537] type='41633 * int64'>,)\n",
      "(<Array [4, 7, 9, 10, 13, ..., 86528, 86532, 86536, 86537] type='29466 * int64'>,)\n"
     ]
    }
   ],
   "source": [
    "dmet_tot = ak.Array([])\n",
    "failJVT_jet_pt_tot = ak.Array([])\n",
    "for i in range(len(tot)):\n",
    "    fb = tot[i]\n",
    "    ntuple_name = ntuple_names[i]\n",
    "    print(ntuple_name)\n",
    "    dmet_tmp = fb['met_tst_noJVT_et'] - fb['met_tst_et']\n",
    "    dmet_tot = ak.concatenate([dmet_tot, dmet_tmp], axis=0)\n",
    "    print(ak.where(dmet_tmp == 0))\n",
    "\n",
    "    failJVT_jet_pt_tmp = ak.firsts(fb['failJVT_jet_pt'])\n",
    "    failJVT_jet_pt_tot = ak.concatenate([failJVT_jet_pt_tot, failJVT_jet_pt_tmp], axis=0)\n",
    "    print(ak.where(ak.is_none(failJVT_jet_pt_tmp)))\n",
    "\n"
   ]
  },
  {
   "cell_type": "code",
   "execution_count": 31,
   "metadata": {},
   "outputs": [
    {
     "name": "stdout",
     "output_type": "stream",
     "text": [
      "(<Array [0, 1, 2, 3, ..., 3299726, 3299730, 3299731] type='2611636 * int64'>,)\n",
      "(<Array [1, 2, 4, 5, ..., 3299726, 3299730, 3299731] type='2322046 * int64'>,) (<Array [] type='0 * int64'>,)\n"
     ]
    }
   ],
   "source": [
    "print(ak.where(dmet_tot == 0)[:1])\n",
    "mask1 = ak.where(ak.is_none(failJVT_jet_pt_tot))\n",
    "failJVT_jet_pt_tot_tmp = failJVT_jet_pt_tot[~ak.is_none(failJVT_jet_pt_tot)]\n",
    "mask2 = ak.where(failJVT_jet_pt_tot_tmp == 0)\n",
    "print(mask1, mask2)"
   ]
  },
  {
   "cell_type": "code",
   "execution_count": 41,
   "metadata": {},
   "outputs": [
    {
     "name": "stdout",
     "output_type": "stream",
     "text": [
      "successfully saved to ../jets_faking_photons/lumi135/mc23d_dphi_jjcut/vtx_sumPt_nodijet.png\n",
      "successfully saved to ../jets_faking_photons/lumi135/mc23d_dphi_jjcut/roc_curve_vtx_sumPt.png\n"
     ]
    },
    {
     "name": "stderr",
     "output_type": "stream",
     "text": [
      "/home/jlai/.local/lib/python3.9/site-packages/awkward/_nplikes/array_module.py:251: RuntimeWarning: invalid value encountered in divide\n",
      "  return impl(*broadcasted_args, **(kwargs or {}))\n"
     ]
    },
    {
     "name": "stdout",
     "output_type": "stream",
     "text": [
      "successfully saved to ../jets_faking_photons/lumi135/mc23d_dphi_jjcut/n_ph_nodijet.png\n",
      "successfully saved to ../jets_faking_photons/lumi135/mc23d_dphi_jjcut/roc_curve_n_ph.png\n"
     ]
    },
    {
     "name": "stderr",
     "output_type": "stream",
     "text": [
      "/home/jlai/.local/lib/python3.9/site-packages/awkward/_nplikes/array_module.py:251: RuntimeWarning: invalid value encountered in divide\n",
      "  return impl(*broadcasted_args, **(kwargs or {}))\n"
     ]
    },
    {
     "name": "stdout",
     "output_type": "stream",
     "text": [
      "successfully saved to ../jets_faking_photons/lumi135/mc23d_dphi_jjcut/n_ph_baseline_nodijet.png\n",
      "successfully saved to ../jets_faking_photons/lumi135/mc23d_dphi_jjcut/roc_curve_n_ph_baseline.png\n"
     ]
    },
    {
     "name": "stderr",
     "output_type": "stream",
     "text": [
      "/home/jlai/.local/lib/python3.9/site-packages/awkward/_nplikes/array_module.py:251: RuntimeWarning: invalid value encountered in divide\n",
      "  return impl(*broadcasted_args, **(kwargs or {}))\n"
     ]
    },
    {
     "name": "stdout",
     "output_type": "stream",
     "text": [
      "successfully saved to ../jets_faking_photons/lumi135/mc23d_dphi_jjcut/n_el_baseline_nodijet.png\n",
      "successfully saved to ../jets_faking_photons/lumi135/mc23d_dphi_jjcut/roc_curve_n_el_baseline.png\n"
     ]
    },
    {
     "name": "stderr",
     "output_type": "stream",
     "text": [
      "/home/jlai/.local/lib/python3.9/site-packages/awkward/_nplikes/array_module.py:251: RuntimeWarning: invalid value encountered in divide\n",
      "  return impl(*broadcasted_args, **(kwargs or {}))\n"
     ]
    },
    {
     "name": "stdout",
     "output_type": "stream",
     "text": [
      "successfully saved to ../jets_faking_photons/lumi135/mc23d_dphi_jjcut/n_mu_baseline_nodijet.png\n",
      "successfully saved to ../jets_faking_photons/lumi135/mc23d_dphi_jjcut/roc_curve_n_mu_baseline.png\n"
     ]
    },
    {
     "name": "stderr",
     "output_type": "stream",
     "text": [
      "/home/jlai/.local/lib/python3.9/site-packages/awkward/_nplikes/array_module.py:251: RuntimeWarning: invalid value encountered in divide\n",
      "  return impl(*broadcasted_args, **(kwargs or {}))\n"
     ]
    },
    {
     "name": "stdout",
     "output_type": "stream",
     "text": [
      "successfully saved to ../jets_faking_photons/lumi135/mc23d_dphi_jjcut/n_tau_baseline_nodijet.png\n",
      "successfully saved to ../jets_faking_photons/lumi135/mc23d_dphi_jjcut/roc_curve_n_tau_baseline.png\n"
     ]
    },
    {
     "name": "stderr",
     "output_type": "stream",
     "text": [
      "/home/jlai/.local/lib/python3.9/site-packages/awkward/_nplikes/array_module.py:251: RuntimeWarning: invalid value encountered in divide\n",
      "  return impl(*broadcasted_args, **(kwargs or {}))\n"
     ]
    },
    {
     "name": "stdout",
     "output_type": "stream",
     "text": [
      "successfully saved to ../jets_faking_photons/lumi135/mc23d_dphi_jjcut/mt_nodijet.png\n",
      "successfully saved to ../jets_faking_photons/lumi135/mc23d_dphi_jjcut/roc_curve_mt.png\n"
     ]
    },
    {
     "name": "stderr",
     "output_type": "stream",
     "text": [
      "/home/jlai/.local/lib/python3.9/site-packages/awkward/_nplikes/array_module.py:251: RuntimeWarning: invalid value encountered in divide\n",
      "  return impl(*broadcasted_args, **(kwargs or {}))\n"
     ]
    },
    {
     "name": "stdout",
     "output_type": "stream",
     "text": [
      "successfully saved to ../jets_faking_photons/lumi135/mc23d_dphi_jjcut/metsig_nodijet.png\n",
      "successfully saved to ../jets_faking_photons/lumi135/mc23d_dphi_jjcut/roc_curve_metsig.png\n"
     ]
    },
    {
     "name": "stderr",
     "output_type": "stream",
     "text": [
      "/home/jlai/.local/lib/python3.9/site-packages/awkward/_nplikes/array_module.py:251: RuntimeWarning: invalid value encountered in sqrt\n",
      "  return impl(*broadcasted_args, **(kwargs or {}))\n",
      "/home/jlai/.local/lib/python3.9/site-packages/awkward/_nplikes/array_module.py:251: RuntimeWarning: invalid value encountered in divide\n",
      "  return impl(*broadcasted_args, **(kwargs or {}))\n"
     ]
    },
    {
     "name": "stdout",
     "output_type": "stream",
     "text": [
      "successfully saved to ../jets_faking_photons/lumi135/mc23d_dphi_jjcut/metsigres_nodijet.png\n",
      "successfully saved to ../jets_faking_photons/lumi135/mc23d_dphi_jjcut/roc_curve_metsigres.png\n"
     ]
    },
    {
     "name": "stderr",
     "output_type": "stream",
     "text": [
      "/home/jlai/.local/lib/python3.9/site-packages/awkward/_nplikes/array_module.py:251: RuntimeWarning: invalid value encountered in divide\n",
      "  return impl(*broadcasted_args, **(kwargs or {}))\n"
     ]
    },
    {
     "name": "stdout",
     "output_type": "stream",
     "text": [
      "successfully saved to ../jets_faking_photons/lumi135/mc23d_dphi_jjcut/met_nodijet.png\n",
      "successfully saved to ../jets_faking_photons/lumi135/mc23d_dphi_jjcut/roc_curve_met.png\n"
     ]
    },
    {
     "name": "stderr",
     "output_type": "stream",
     "text": [
      "/home/jlai/.local/lib/python3.9/site-packages/awkward/_nplikes/array_module.py:251: RuntimeWarning: invalid value encountered in divide\n",
      "  return impl(*broadcasted_args, **(kwargs or {}))\n"
     ]
    },
    {
     "name": "stdout",
     "output_type": "stream",
     "text": [
      "successfully saved to ../jets_faking_photons/lumi135/mc23d_dphi_jjcut/met_noJVT_nodijet.png\n",
      "successfully saved to ../jets_faking_photons/lumi135/mc23d_dphi_jjcut/roc_curve_met_noJVT.png\n"
     ]
    },
    {
     "name": "stderr",
     "output_type": "stream",
     "text": [
      "/home/jlai/.local/lib/python3.9/site-packages/awkward/_nplikes/array_module.py:251: RuntimeWarning: invalid value encountered in divide\n",
      "  return impl(*broadcasted_args, **(kwargs or {}))\n"
     ]
    },
    {
     "name": "stdout",
     "output_type": "stream",
     "text": [
      "successfully saved to ../jets_faking_photons/lumi135/mc23d_dphi_jjcut/met_cst_nodijet.png\n",
      "successfully saved to ../jets_faking_photons/lumi135/mc23d_dphi_jjcut/roc_curve_met_cst.png\n"
     ]
    },
    {
     "name": "stderr",
     "output_type": "stream",
     "text": [
      "/home/jlai/.local/lib/python3.9/site-packages/awkward/_nplikes/array_module.py:251: RuntimeWarning: invalid value encountered in sqrt\n",
      "  return impl(*broadcasted_args, **(kwargs or {}))\n"
     ]
    },
    {
     "name": "stdout",
     "output_type": "stream",
     "text": [
      "successfully saved to ../jets_faking_photons/lumi135/mc23d_dphi_jjcut/met_track_nodijet.png\n",
      "successfully saved to ../jets_faking_photons/lumi135/mc23d_dphi_jjcut/roc_curve_met_track.png\n"
     ]
    },
    {
     "name": "stderr",
     "output_type": "stream",
     "text": [
      "/home/jlai/.local/lib/python3.9/site-packages/awkward/_nplikes/array_module.py:251: RuntimeWarning: invalid value encountered in divide\n",
      "  return impl(*broadcasted_args, **(kwargs or {}))\n"
     ]
    },
    {
     "name": "stdout",
     "output_type": "stream",
     "text": [
      "successfully saved to ../jets_faking_photons/lumi135/mc23d_dphi_jjcut/dmet_nodijet.png\n",
      "successfully saved to ../jets_faking_photons/lumi135/mc23d_dphi_jjcut/roc_curve_dmet.png\n"
     ]
    },
    {
     "name": "stderr",
     "output_type": "stream",
     "text": [
      "/home/jlai/.local/lib/python3.9/site-packages/awkward/_nplikes/array_module.py:251: RuntimeWarning: invalid value encountered in divide\n",
      "  return impl(*broadcasted_args, **(kwargs or {}))\n"
     ]
    },
    {
     "name": "stdout",
     "output_type": "stream",
     "text": [
      "successfully saved to ../jets_faking_photons/lumi135/mc23d_dphi_jjcut/ph_pt_nodijet.png\n",
      "successfully saved to ../jets_faking_photons/lumi135/mc23d_dphi_jjcut/roc_curve_ph_pt.png\n"
     ]
    },
    {
     "name": "stderr",
     "output_type": "stream",
     "text": [
      "/home/jlai/.local/lib/python3.9/site-packages/awkward/_nplikes/array_module.py:251: RuntimeWarning: invalid value encountered in divide\n",
      "  return impl(*broadcasted_args, **(kwargs or {}))\n"
     ]
    },
    {
     "name": "stdout",
     "output_type": "stream",
     "text": [
      "successfully saved to ../jets_faking_photons/lumi135/mc23d_dphi_jjcut/ph_eta_nodijet.png\n",
      "successfully saved to ../jets_faking_photons/lumi135/mc23d_dphi_jjcut/roc_curve_ph_eta.png\n"
     ]
    },
    {
     "name": "stderr",
     "output_type": "stream",
     "text": [
      "/home/jlai/.local/lib/python3.9/site-packages/awkward/_nplikes/array_module.py:251: RuntimeWarning: invalid value encountered in divide\n",
      "  return impl(*broadcasted_args, **(kwargs or {}))\n"
     ]
    },
    {
     "name": "stdout",
     "output_type": "stream",
     "text": [
      "successfully saved to ../jets_faking_photons/lumi135/mc23d_dphi_jjcut/ph_phi_nodijet.png\n",
      "successfully saved to ../jets_faking_photons/lumi135/mc23d_dphi_jjcut/roc_curve_ph_phi.png\n"
     ]
    },
    {
     "name": "stderr",
     "output_type": "stream",
     "text": [
      "/home/jlai/.local/lib/python3.9/site-packages/awkward/_nplikes/array_module.py:251: RuntimeWarning: invalid value encountered in divide\n",
      "  return impl(*broadcasted_args, **(kwargs or {}))\n"
     ]
    },
    {
     "name": "stdout",
     "output_type": "stream",
     "text": [
      "successfully saved to ../jets_faking_photons/lumi135/mc23d_dphi_jjcut/jet_central_eta_nodijet.png\n",
      "successfully saved to ../jets_faking_photons/lumi135/mc23d_dphi_jjcut/roc_curve_jet_central_eta.png\n"
     ]
    },
    {
     "name": "stderr",
     "output_type": "stream",
     "text": [
      "/home/jlai/.local/lib/python3.9/site-packages/awkward/_nplikes/array_module.py:251: RuntimeWarning: invalid value encountered in divide\n",
      "  return impl(*broadcasted_args, **(kwargs or {}))\n"
     ]
    },
    {
     "name": "stdout",
     "output_type": "stream",
     "text": [
      "successfully saved to ../jets_faking_photons/lumi135/mc23d_dphi_jjcut/jet_central_pt1_nodijet.png\n",
      "successfully saved to ../jets_faking_photons/lumi135/mc23d_dphi_jjcut/roc_curve_jet_central_pt1.png\n"
     ]
    },
    {
     "name": "stderr",
     "output_type": "stream",
     "text": [
      "/home/jlai/.local/lib/python3.9/site-packages/awkward/_nplikes/array_module.py:251: RuntimeWarning: invalid value encountered in divide\n",
      "  return impl(*broadcasted_args, **(kwargs or {}))\n"
     ]
    },
    {
     "name": "stdout",
     "output_type": "stream",
     "text": [
      "successfully saved to ../jets_faking_photons/lumi135/mc23d_dphi_jjcut/jet_central_pt2_nodijet.png\n",
      "successfully saved to ../jets_faking_photons/lumi135/mc23d_dphi_jjcut/roc_curve_jet_central_pt2.png\n"
     ]
    },
    {
     "name": "stderr",
     "output_type": "stream",
     "text": [
      "/home/jlai/.local/lib/python3.9/site-packages/awkward/_nplikes/array_module.py:251: RuntimeWarning: invalid value encountered in divide\n",
      "  return impl(*broadcasted_args, **(kwargs or {}))\n"
     ]
    },
    {
     "name": "stdout",
     "output_type": "stream",
     "text": [
      "successfully saved to ../jets_faking_photons/lumi135/mc23d_dphi_jjcut/jet_central_pt_nodijet.png\n",
      "successfully saved to ../jets_faking_photons/lumi135/mc23d_dphi_jjcut/roc_curve_jet_central_pt.png\n"
     ]
    },
    {
     "name": "stderr",
     "output_type": "stream",
     "text": [
      "/home/jlai/.local/lib/python3.9/site-packages/awkward/_nplikes/array_module.py:251: RuntimeWarning: invalid value encountered in divide\n",
      "  return impl(*broadcasted_args, **(kwargs or {}))\n"
     ]
    },
    {
     "name": "stdout",
     "output_type": "stream",
     "text": [
      "successfully saved to ../jets_faking_photons/lumi135/mc23d_dphi_jjcut/dphi_met_phterm_nodijet.png\n",
      "successfully saved to ../jets_faking_photons/lumi135/mc23d_dphi_jjcut/roc_curve_dphi_met_phterm.png\n"
     ]
    },
    {
     "name": "stderr",
     "output_type": "stream",
     "text": [
      "/home/jlai/.local/lib/python3.9/site-packages/awkward/_nplikes/array_module.py:251: RuntimeWarning: invalid value encountered in sqrt\n",
      "  return impl(*broadcasted_args, **(kwargs or {}))\n",
      "/home/jlai/.local/lib/python3.9/site-packages/awkward/_nplikes/array_module.py:251: RuntimeWarning: invalid value encountered in divide\n",
      "  return impl(*broadcasted_args, **(kwargs or {}))\n"
     ]
    },
    {
     "name": "stdout",
     "output_type": "stream",
     "text": [
      "successfully saved to ../jets_faking_photons/lumi135/mc23d_dphi_jjcut/dphi_met_ph_nodijet.png\n",
      "successfully saved to ../jets_faking_photons/lumi135/mc23d_dphi_jjcut/roc_curve_dphi_met_ph.png\n"
     ]
    },
    {
     "name": "stderr",
     "output_type": "stream",
     "text": [
      "/home/jlai/.local/lib/python3.9/site-packages/awkward/_nplikes/array_module.py:251: RuntimeWarning: invalid value encountered in divide\n",
      "  return impl(*broadcasted_args, **(kwargs or {}))\n"
     ]
    },
    {
     "name": "stdout",
     "output_type": "stream",
     "text": [
      "successfully saved to ../jets_faking_photons/lumi135/mc23d_dphi_jjcut/dphi_met_jetterm_nodijet.png\n",
      "successfully saved to ../jets_faking_photons/lumi135/mc23d_dphi_jjcut/roc_curve_dphi_met_jetterm.png\n"
     ]
    },
    {
     "name": "stderr",
     "output_type": "stream",
     "text": [
      "/home/jlai/.local/lib/python3.9/site-packages/awkward/_nplikes/array_module.py:251: RuntimeWarning: invalid value encountered in divide\n",
      "  return impl(*broadcasted_args, **(kwargs or {}))\n"
     ]
    },
    {
     "name": "stdout",
     "output_type": "stream",
     "text": [
      "successfully saved to ../jets_faking_photons/lumi135/mc23d_dphi_jjcut/dphi_phterm_jetterm_nodijet.png\n",
      "successfully saved to ../jets_faking_photons/lumi135/mc23d_dphi_jjcut/roc_curve_dphi_phterm_jetterm.png\n"
     ]
    },
    {
     "name": "stderr",
     "output_type": "stream",
     "text": [
      "/home/jlai/.local/lib/python3.9/site-packages/awkward/_nplikes/array_module.py:251: RuntimeWarning: invalid value encountered in divide\n",
      "  return impl(*broadcasted_args, **(kwargs or {}))\n"
     ]
    },
    {
     "name": "stdout",
     "output_type": "stream",
     "text": [
      "successfully saved to ../jets_faking_photons/lumi135/mc23d_dphi_jjcut/dphi_ph_centraljet1_nodijet.png\n",
      "successfully saved to ../jets_faking_photons/lumi135/mc23d_dphi_jjcut/roc_curve_dphi_ph_centraljet1.png\n"
     ]
    },
    {
     "name": "stderr",
     "output_type": "stream",
     "text": [
      "/home/jlai/.local/lib/python3.9/site-packages/awkward/_nplikes/array_module.py:251: RuntimeWarning: invalid value encountered in divide\n",
      "  return impl(*broadcasted_args, **(kwargs or {}))\n"
     ]
    },
    {
     "name": "stdout",
     "output_type": "stream",
     "text": [
      "successfully saved to ../jets_faking_photons/lumi135/mc23d_dphi_jjcut/dphi_ph_jet1_nodijet.png\n",
      "successfully saved to ../jets_faking_photons/lumi135/mc23d_dphi_jjcut/roc_curve_dphi_ph_jet1.png\n"
     ]
    },
    {
     "name": "stderr",
     "output_type": "stream",
     "text": [
      "/home/jlai/.local/lib/python3.9/site-packages/awkward/_nplikes/array_module.py:251: RuntimeWarning: invalid value encountered in divide\n",
      "  return impl(*broadcasted_args, **(kwargs or {}))\n"
     ]
    },
    {
     "name": "stdout",
     "output_type": "stream",
     "text": [
      "successfully saved to ../jets_faking_photons/lumi135/mc23d_dphi_jjcut/metplusph_nodijet.png\n",
      "successfully saved to ../jets_faking_photons/lumi135/mc23d_dphi_jjcut/roc_curve_metplusph.png\n"
     ]
    },
    {
     "name": "stderr",
     "output_type": "stream",
     "text": [
      "/home/jlai/.local/lib/python3.9/site-packages/awkward/_nplikes/array_module.py:251: RuntimeWarning: invalid value encountered in divide\n",
      "  return impl(*broadcasted_args, **(kwargs or {}))\n"
     ]
    },
    {
     "name": "stdout",
     "output_type": "stream",
     "text": [
      "successfully saved to ../jets_faking_photons/lumi135/mc23d_dphi_jjcut/failJVT_jet_pt_nodijet.png\n",
      "successfully saved to ../jets_faking_photons/lumi135/mc23d_dphi_jjcut/roc_curve_failJVT_jet_pt.png\n"
     ]
    },
    {
     "name": "stderr",
     "output_type": "stream",
     "text": [
      "/home/jlai/.local/lib/python3.9/site-packages/awkward/_nplikes/array_module.py:251: RuntimeWarning: invalid value encountered in sqrt\n",
      "  return impl(*broadcasted_args, **(kwargs or {}))\n"
     ]
    },
    {
     "name": "stdout",
     "output_type": "stream",
     "text": [
      "successfully saved to ../jets_faking_photons/lumi135/mc23d_dphi_jjcut/failJVT_jet_pt1_nodijet.png\n",
      "successfully saved to ../jets_faking_photons/lumi135/mc23d_dphi_jjcut/roc_curve_failJVT_jet_pt1.png\n"
     ]
    },
    {
     "name": "stderr",
     "output_type": "stream",
     "text": [
      "/home/jlai/.local/lib/python3.9/site-packages/awkward/_nplikes/array_module.py:251: RuntimeWarning: invalid value encountered in divide\n",
      "  return impl(*broadcasted_args, **(kwargs or {}))\n"
     ]
    },
    {
     "name": "stdout",
     "output_type": "stream",
     "text": [
      "successfully saved to ../jets_faking_photons/lumi135/mc23d_dphi_jjcut/softerm_nodijet.png\n",
      "successfully saved to ../jets_faking_photons/lumi135/mc23d_dphi_jjcut/roc_curve_softerm.png\n"
     ]
    },
    {
     "name": "stderr",
     "output_type": "stream",
     "text": [
      "/home/jlai/.local/lib/python3.9/site-packages/awkward/_nplikes/array_module.py:251: RuntimeWarning: invalid value encountered in divide\n",
      "  return impl(*broadcasted_args, **(kwargs or {}))\n"
     ]
    },
    {
     "name": "stdout",
     "output_type": "stream",
     "text": [
      "successfully saved to ../jets_faking_photons/lumi135/mc23d_dphi_jjcut/jetterm_nodijet.png\n",
      "successfully saved to ../jets_faking_photons/lumi135/mc23d_dphi_jjcut/roc_curve_jetterm.png\n"
     ]
    },
    {
     "name": "stderr",
     "output_type": "stream",
     "text": [
      "/home/jlai/.local/lib/python3.9/site-packages/awkward/_nplikes/array_module.py:251: RuntimeWarning: invalid value encountered in divide\n",
      "  return impl(*broadcasted_args, **(kwargs or {}))\n"
     ]
    },
    {
     "name": "stdout",
     "output_type": "stream",
     "text": [
      "successfully saved to ../jets_faking_photons/lumi135/mc23d_dphi_jjcut/jetterm_sumet_nodijet.png\n",
      "successfully saved to ../jets_faking_photons/lumi135/mc23d_dphi_jjcut/roc_curve_jetterm_sumet.png\n",
      "successfully saved to ../jets_faking_photons/lumi135/mc23d_dphi_jjcut/n_jet_nodijet.png\n",
      "successfully saved to ../jets_faking_photons/lumi135/mc23d_dphi_jjcut/roc_curve_n_jet.png\n"
     ]
    },
    {
     "name": "stderr",
     "output_type": "stream",
     "text": [
      "/home/jlai/.local/lib/python3.9/site-packages/awkward/_nplikes/array_module.py:251: RuntimeWarning: invalid value encountered in divide\n",
      "  return impl(*broadcasted_args, **(kwargs or {}))\n"
     ]
    },
    {
     "name": "stdout",
     "output_type": "stream",
     "text": [
      "successfully saved to ../jets_faking_photons/lumi135/mc23d_dphi_jjcut/n_jet_central_nodijet.png\n",
      "successfully saved to ../jets_faking_photons/lumi135/mc23d_dphi_jjcut/roc_curve_n_jet_central.png\n",
      "successfully saved to ../jets_faking_photons/lumi135/mc23d_dphi_jjcut/n_jet_fwd_nodijet.png\n",
      "successfully saved to ../jets_faking_photons/lumi135/mc23d_dphi_jjcut/roc_curve_n_jet_fwd.png\n"
     ]
    },
    {
     "name": "stderr",
     "output_type": "stream",
     "text": [
      "/home/jlai/.local/lib/python3.9/site-packages/awkward/_nplikes/array_module.py:251: RuntimeWarning: invalid value encountered in divide\n",
      "  return impl(*broadcasted_args, **(kwargs or {}))\n"
     ]
    },
    {
     "name": "stdout",
     "output_type": "stream",
     "text": [
      "successfully saved to ../jets_faking_photons/lumi135/mc23d_dphi_jjcut/dphi_met_central_jet_nodijet.png\n",
      "successfully saved to ../jets_faking_photons/lumi135/mc23d_dphi_jjcut/roc_curve_dphi_met_central_jet.png\n"
     ]
    },
    {
     "name": "stderr",
     "output_type": "stream",
     "text": [
      "/home/jlai/.local/lib/python3.9/site-packages/awkward/_nplikes/array_module.py:251: RuntimeWarning: invalid value encountered in sqrt\n",
      "  return impl(*broadcasted_args, **(kwargs or {}))\n",
      "/home/jlai/.local/lib/python3.9/site-packages/awkward/_nplikes/array_module.py:251: RuntimeWarning: invalid value encountered in divide\n",
      "  return impl(*broadcasted_args, **(kwargs or {}))\n"
     ]
    },
    {
     "name": "stdout",
     "output_type": "stream",
     "text": [
      "successfully saved to ../jets_faking_photons/lumi135/mc23d_dphi_jjcut/jet_central_timing1_nodijet.png\n",
      "successfully saved to ../jets_faking_photons/lumi135/mc23d_dphi_jjcut/roc_curve_jet_central_timing1.png\n"
     ]
    },
    {
     "name": "stderr",
     "output_type": "stream",
     "text": [
      "/home/jlai/.local/lib/python3.9/site-packages/awkward/_nplikes/array_module.py:251: RuntimeWarning: invalid value encountered in sqrt\n",
      "  return impl(*broadcasted_args, **(kwargs or {}))\n",
      "/home/jlai/.local/lib/python3.9/site-packages/awkward/_nplikes/array_module.py:251: RuntimeWarning: invalid value encountered in divide\n",
      "  return impl(*broadcasted_args, **(kwargs or {}))\n"
     ]
    },
    {
     "name": "stdout",
     "output_type": "stream",
     "text": [
      "successfully saved to ../jets_faking_photons/lumi135/mc23d_dphi_jjcut/jet_central_timing_nodijet.png\n",
      "successfully saved to ../jets_faking_photons/lumi135/mc23d_dphi_jjcut/roc_curve_jet_central_timing.png\n"
     ]
    },
    {
     "name": "stderr",
     "output_type": "stream",
     "text": [
      "/home/jlai/.local/lib/python3.9/site-packages/awkward/_nplikes/array_module.py:251: RuntimeWarning: invalid value encountered in sqrt\n",
      "  return impl(*broadcasted_args, **(kwargs or {}))\n",
      "/home/jlai/.local/lib/python3.9/site-packages/awkward/_nplikes/array_module.py:251: RuntimeWarning: invalid value encountered in divide\n",
      "  return impl(*broadcasted_args, **(kwargs or {}))\n"
     ]
    },
    {
     "name": "stdout",
     "output_type": "stream",
     "text": [
      "successfully saved to ../jets_faking_photons/lumi135/mc23d_dphi_jjcut/jet_central_emfrac_nodijet.png\n",
      "successfully saved to ../jets_faking_photons/lumi135/mc23d_dphi_jjcut/roc_curve_jet_central_emfrac.png\n"
     ]
    },
    {
     "name": "stderr",
     "output_type": "stream",
     "text": [
      "/home/jlai/.local/lib/python3.9/site-packages/awkward/_nplikes/array_module.py:251: RuntimeWarning: invalid value encountered in sqrt\n",
      "  return impl(*broadcasted_args, **(kwargs or {}))\n",
      "/home/jlai/.local/lib/python3.9/site-packages/awkward/_nplikes/array_module.py:251: RuntimeWarning: invalid value encountered in divide\n",
      "  return impl(*broadcasted_args, **(kwargs or {}))\n"
     ]
    },
    {
     "name": "stdout",
     "output_type": "stream",
     "text": [
      "successfully saved to ../jets_faking_photons/lumi135/mc23d_dphi_jjcut/balance_nodijet.png\n",
      "successfully saved to ../jets_faking_photons/lumi135/mc23d_dphi_jjcut/roc_curve_balance.png\n"
     ]
    },
    {
     "name": "stderr",
     "output_type": "stream",
     "text": [
      "/home/jlai/.local/lib/python3.9/site-packages/awkward/_nplikes/array_module.py:251: RuntimeWarning: invalid value encountered in divide\n",
      "  return impl(*broadcasted_args, **(kwargs or {}))\n"
     ]
    },
    {
     "name": "stdout",
     "output_type": "stream",
     "text": [
      "successfully saved to ../jets_faking_photons/lumi135/mc23d_dphi_jjcut/balance_sumet_nodijet.png\n",
      "successfully saved to ../jets_faking_photons/lumi135/mc23d_dphi_jjcut/roc_curve_balance_sumet.png\n"
     ]
    },
    {
     "name": "stderr",
     "output_type": "stream",
     "text": [
      "/home/jlai/.local/lib/python3.9/site-packages/awkward/_nplikes/array_module.py:251: RuntimeWarning: invalid value encountered in divide\n",
      "  return impl(*broadcasted_args, **(kwargs or {}))\n"
     ]
    },
    {
     "name": "stdout",
     "output_type": "stream",
     "text": [
      "successfully saved to ../jets_faking_photons/lumi135/mc23d_dphi_jjcut/central_jets_fraction_nodijet.png\n",
      "successfully saved to ../jets_faking_photons/lumi135/mc23d_dphi_jjcut/roc_curve_central_jets_fraction.png\n"
     ]
    },
    {
     "name": "stderr",
     "output_type": "stream",
     "text": [
      "/home/jlai/.local/lib/python3.9/site-packages/awkward/_nplikes/array_module.py:251: RuntimeWarning: invalid value encountered in divide\n",
      "  return impl(*broadcasted_args, **(kwargs or {}))\n"
     ]
    },
    {
     "name": "stdout",
     "output_type": "stream",
     "text": [
      "successfully saved to ../jets_faking_photons/lumi135/mc23d_dphi_jjcut/trigger_nodijet.png\n",
      "successfully saved to ../jets_faking_photons/lumi135/mc23d_dphi_jjcut/roc_curve_trigger.png\n"
     ]
    },
    {
     "name": "stderr",
     "output_type": "stream",
     "text": [
      "/home/jlai/.local/lib/python3.9/site-packages/awkward/_nplikes/array_module.py:251: RuntimeWarning: invalid value encountered in divide\n",
      "  return impl(*broadcasted_args, **(kwargs or {}))\n"
     ]
    },
    {
     "name": "stdout",
     "output_type": "stream",
     "text": [
      "successfully saved to ../jets_faking_photons/lumi135/mc23d_dphi_jjcut/dphi_jj_nodijet.png\n",
      "successfully saved to ../jets_faking_photons/lumi135/mc23d_dphi_jjcut/roc_curve_dphi_jj.png\n"
     ]
    },
    {
     "name": "stderr",
     "output_type": "stream",
     "text": [
      "/home/jlai/.local/lib/python3.9/site-packages/awkward/_nplikes/array_module.py:251: RuntimeWarning: invalid value encountered in divide\n",
      "  return impl(*broadcasted_args, **(kwargs or {}))\n"
     ]
    },
    {
     "name": "stdout",
     "output_type": "stream",
     "text": [
      "successfully saved to ../jets_faking_photons/lumi135/mc23d_dphi_jjcut/BDTScore_nodijet.png\n",
      "successfully saved to ../jets_faking_photons/lumi135/mc23d_dphi_jjcut/roc_curve_BDTScore.png\n"
     ]
    }
   ],
   "source": [
    "def sel(tot):\n",
    "    tot2 = []\n",
    "    for i in range(len(tot)):\n",
    "        fb2 = tot[i]\n",
    "\n",
    "        fb2 = fb2[fb2['BDTScore'] >= 0.1]\n",
    "\n",
    "        dphi_met_phterm_tmp = np.arccos(np.cos(fb2['met_tst_phi'] - fb2['met_phterm_phi']))\n",
    "        fb2 = fb2[dphi_met_phterm_tmp >= 1.35]\n",
    "\n",
    "\n",
    "\n",
    "        metsig_tmp = fb2['met_tst_sig'] \n",
    "        mask1 = metsig_tmp >= 5\n",
    "        mask2 = metsig_tmp <= 16\n",
    "        fb2 = fb2[mask1 * mask2]\n",
    "    \n",
    "        ph_eta_tmp = np.abs(ak.firsts(fb2['ph_eta']))\n",
    "        fb2 = fb2[ph_eta_tmp <= 1.75]\n",
    "\n",
    "        dmet_tmp = fb2['met_tst_noJVT_et'] - fb2['met_tst_et']\n",
    "        mask1 = dmet_tmp >= -20000\n",
    "        mask2 = dmet_tmp <= 50000\n",
    "        fb2 = fb2[mask1 * mask2]\n",
    "\n",
    "        dphi_met_jetterm_tmp = np.where(fb2['met_jetterm_et'] != 0,   # added cut 5\n",
    "                                np.arccos(np.cos(fb2['met_tst_phi'] - fb2['met_jetterm_phi'])),\n",
    "                                -999)\n",
    "        fb2 = fb2[dphi_met_jetterm_tmp <= 0.65]\n",
    "\n",
    "        jet_sum_tmp = ak.sum(fb2['jet_central_pt'], axis=-1)\n",
    "        expr = (fb2['met_tst_et'] + ak.firsts(fb2['ph_pt'])) / ak.where(jet_sum_tmp != 0, jet_sum_tmp, 1)\n",
    "        balance_tmp = ak.where(jet_sum_tmp != 0, expr, -999)\n",
    "        mask1 = balance_tmp >= 0.70\n",
    "        mask2 = balance_tmp == -999\n",
    "        fb2 = fb2[mask1 | mask2]\n",
    "\n",
    "        dphi_jj_tmp = fb2['dphi_central_jj']\n",
    "        dphi_jj_tmp = ak.where(dphi_jj_tmp == -10, -999, dphi_jj_tmp)\n",
    "        fb2 = fb2[dphi_jj_tmp <= 2.4]\n",
    "        \n",
    "        tot2.append(fb2)\n",
    "    return tot2\n",
    "\n",
    "tot2 = sel(tot)\n",
    "# tot2 = tot\n",
    "\n",
    "cut_name = 'dphi_jj'\n",
    "# var_config = getVarDict(tot2[0], 'ggHyyd', var_name='balance')\n",
    "var_config = getVarDict(tot2[0], 'ggHyyd')\n",
    "\n",
    "\n",
    "for var in var_config:\n",
    "    # print(var)\n",
    "    bg_values = []     \n",
    "    bg_weights = []    \n",
    "    bg_colors = []     \n",
    "    bg_labels = []     \n",
    "\n",
    "    signal_values = [] \n",
    "    signal_weights = []\n",
    "    signal_color = None \n",
    "    signal_label = None\n",
    "\n",
    "    for j in range(len(ntuple_names)):\n",
    "    # for j in range(len(ntuple_names)-1): # leave dijet out\n",
    "        process = ntuple_names[j]\n",
    "        fb = tot2[j]  # TTree\n",
    "        var_config = getVarDict(fb, process, var_name=var)\n",
    "\n",
    "        x = var_config[var]['var'] # TBranch\n",
    "        bins = var_config[var]['bins'] \n",
    "\n",
    "        if 'weight' in var_config[var]:  # If weight is there\n",
    "            weights = var_config[var]['weight']\n",
    "        else:\n",
    "            weights = getWeight(fb, process)\n",
    "        \n",
    "        sample_info = sample_dict[process]\n",
    "        color = sample_info['color']\n",
    "        legend = sample_info['legend']\n",
    "\n",
    "        \n",
    "        if process == 'ggHyyd':  # signal\n",
    "            signal_values.append(x)\n",
    "            signal_weights.append(weights)\n",
    "            signal_color = color\n",
    "            signal_label = legend\n",
    "        else:   # background\n",
    "            bg_values.append(x)\n",
    "            bg_weights.append(weights)\n",
    "            bg_colors.append(color)\n",
    "            bg_labels.append(legend)\n",
    "\n",
    "    fig, (ax_top, ax_bot) = plt.subplots(2, 1, figsize=(12, 13), gridspec_kw={'height_ratios': [9, 4]})\n",
    "\n",
    "    ax_top.hist(bg_values, bins=bins, weights=bg_weights, color=bg_colors,\n",
    "                label=bg_labels, stacked=True)\n",
    "\n",
    "    ax_top.hist(signal_values, bins=bins, weights=signal_weights, color=signal_color,\n",
    "                label=signal_label, histtype='step', linewidth=2)\n",
    "\n",
    "    signal_all = np.concatenate(signal_values) if len(signal_values) > 0 else np.array([])\n",
    "    signal_weights_all = np.concatenate(signal_weights) if len(signal_weights) > 0 else np.array([])\n",
    "\n",
    "    # Add error bar for signal (top plot)\n",
    "    if len(signal_all) > 0:\n",
    "        signal_counts, bin_edges = np.histogram(signal_all, bins=bins, weights=signal_weights_all)\n",
    "        sum_weights_sq, _ = np.histogram(signal_all, bins=bins, weights=signal_weights_all**2)\n",
    "        bin_centers = (bin_edges[:-1] + bin_edges[1:]) / 2\n",
    "        signal_errors = np.sqrt(sum_weights_sq)  # Poisson error sqrt(N)\n",
    "\n",
    "        ax_top.errorbar(bin_centers, signal_counts, yerr=signal_errors, fmt='.', linewidth=2,\n",
    "                        color=signal_color, capsize=0)\n",
    "\n",
    "    ax_top.set_yscale('log')\n",
    "    ax_top.set_ylim(0.0001, 1e11)\n",
    "    ax_top.set_xlim(bins[0], bins[-1])\n",
    "    ax_top.minorticks_on()\n",
    "    ax_top.grid(True, which=\"both\", linestyle=\"--\", linewidth=0.5)\n",
    "    ax_top.set_ylabel(\"Events\")\n",
    "    ax_top.legend(ncol=2)\n",
    "    # ax_top.set_title(\"vtx_sumPt distribution\")\n",
    "\n",
    "    bg_all = np.concatenate(bg_values) if len(bg_values) > 0 else np.array([])\n",
    "    bg_weights_all = np.concatenate(bg_weights) if len(bg_weights) > 0 else np.array([])\n",
    "\n",
    "    # Compute the weighted histogram counts using np.histogram\n",
    "    S_counts, _ = np.histogram(signal_all, bins=bins, weights=signal_weights_all)\n",
    "    B_counts, _ = np.histogram(bg_all, bins=bins, weights=bg_weights_all)     \n",
    "\n",
    "    # Compute per-bin significance\n",
    "    sig_simple = np.zeros_like(S_counts, dtype=float)\n",
    "    sig_s_plus_b = np.zeros_like(S_counts, dtype=float)\n",
    "    sig_s_plus_1p3b = np.zeros_like(S_counts, dtype=float)\n",
    "\n",
    "    sqrt_B = np.sqrt(B_counts)\n",
    "    sqrt_SplusB = np.sqrt(S_counts + B_counts)\n",
    "    sqrt_Splus1p3B = np.sqrt(S_counts + 1.3 * B_counts)\n",
    "\n",
    "    # Avoid division by zero safely\n",
    "    sig_simple = np.where(B_counts > 0, S_counts / sqrt_B, 0)\n",
    "    sig_s_plus_b = np.where((S_counts + B_counts) > 0, S_counts / sqrt_SplusB, 0)\n",
    "    sig_s_plus_1p3b = np.where((S_counts + 1.3 * B_counts) > 0, S_counts / sqrt_Splus1p3B, 0)\n",
    "\n",
    "    # Add Binomial ExpZ per bin\n",
    "    zbi_per_bin = np.array([\n",
    "        zbi(S_counts[i], B_counts[i], sigma_b_frac=0.3)\n",
    "        for i in range(len(S_counts))\n",
    "    ])\n",
    "\n",
    "    # Compute the bin centers for plotting\n",
    "    bin_centers = 0.5 * (bins[:-1] + bins[1:])\n",
    "\n",
    "    # Compute the total significance: total S / sqrt(total B)\n",
    "    total_signal = np.sum(S_counts)\n",
    "    total_bkg = np.sum(B_counts)\n",
    "\n",
    "    if total_bkg > 0:\n",
    "        total_sig_simple = total_signal / np.sqrt(total_bkg)\n",
    "        total_sig_s_plus_b = total_signal / np.sqrt(total_signal + total_bkg)\n",
    "        total_sig_s_plus_1p3b = total_signal / np.sqrt(total_signal + 1.3 * total_bkg)\n",
    "        total_sig_binomial = zbi(total_signal, total_bkg, sigma_b_frac=0.3)\n",
    "    else:\n",
    "        total_sig_simple = total_sig_s_plus_b = total_sig_s_plus_1p3b = total_sig_binomial = 0\n",
    "\n",
    "    # --- Plot all significance curves ---\n",
    "    ax_bot.step(bin_centers, sig_simple, where='mid', color='chocolate', linewidth=2,\n",
    "                label=f\"S/√B = {total_sig_simple:.4f}\")\n",
    "    ax_bot.step(bin_centers, sig_s_plus_b, where='mid', color='tomato', linewidth=2,\n",
    "                label=f\"S/√(S+B) = {total_sig_s_plus_b:.4f}\")\n",
    "    ax_bot.step(bin_centers, sig_s_plus_1p3b, where='mid', color='orange', linewidth=2,\n",
    "                label=f\"S/√(S+1.3B) = {total_sig_s_plus_1p3b:.4f}\")\n",
    "    ax_bot.step(bin_centers, zbi_per_bin, where='mid', color='plum', linewidth=2,\n",
    "                label=f\"Binomial ExpZ = {total_sig_binomial:.4f}\")\n",
    "\n",
    "    ax_bot.set_xlabel(var_config[var]['title'])\n",
    "    # ax_bot.set_xticks(np.linspace(bins[0], bins[-1], 11))\n",
    "    ax_bot.set_ylabel(\"Significance\")\n",
    "    ax_bot.set_ylim(-0.8, 2)\n",
    "    ax_top.set_xlim(bins[0], bins[-1])\n",
    "\n",
    "    # Do not set a title on the bottom plot.\n",
    "    ax_bot.set_title(\"\")\n",
    "\n",
    "    # Draw a legend with purple text.\n",
    "    leg = ax_bot.legend()\n",
    "    for text in leg.get_texts():\n",
    "        text.set_color('purple')\n",
    "\n",
    "    plt.xlim(bins[0], bins[-1])\n",
    "    plt.tight_layout()\n",
    "    plt.savefig(f\"../jets_faking_photons/lumi135/mc23d_{cut_name}cut/{var}_nodijet.png\")\n",
    "    print(f\"successfully saved to ../jets_faking_photons/lumi135/mc23d_{cut_name}cut/{var}_nodijet.png\")\n",
    "    plt.close()\n",
    "    # plt.show()\n",
    "\n",
    "    y_true = np.concatenate([np.ones_like(signal_all), np.zeros_like(bg_all)])\n",
    "    # Use the vtx_sumPt values as the classifier output.\n",
    "    y_scores = np.concatenate([signal_all, bg_all])\n",
    "    # Combine the weights for all events.\n",
    "    y_weights = np.concatenate([signal_weights_all, bg_weights_all])\n",
    "\n",
    "    # Compute the weighted ROC curve.\n",
    "    fpr, tpr, thresholds = roc_curve(y_true, y_scores, sample_weight=y_weights)\n",
    "    sorted_indices = np.argsort(fpr)\n",
    "    fpr_sorted = fpr[sorted_indices]\n",
    "    tpr_sorted = tpr[sorted_indices]\n",
    "\n",
    "    roc_auc = auc(fpr_sorted, tpr_sorted)\n",
    "\n",
    "    # Create a new figure for the ROC curve.\n",
    "    plt.figure(figsize=(8, 8))\n",
    "    plt.plot(fpr, tpr, lw=2, color='red', label=f'ROC curve (AUC = {roc_auc:.5f})')\n",
    "    plt.plot([0, 1], [0, 1], linestyle='--', color='gray', label='Random chance')\n",
    "    plt.xlabel(\"False Positive Rate\")\n",
    "    plt.ylabel(\"True Positive Rate\")\n",
    "    plt.title(f\"ROC Curve for {var}\")\n",
    "    plt.legend(loc=\"lower right\")\n",
    "    plt.grid(True, which=\"both\", linestyle=\"--\", linewidth=0.5)\n",
    "    plt.tight_layout()    \n",
    "    plt.savefig(f\"../jets_faking_photons/lumi135/mc23d_{cut_name}cut/roc_curve_{var}.png\")\n",
    "    print(f\"successfully saved to ../jets_faking_photons/lumi135/mc23d_{cut_name}cut/roc_curve_{var}.png\")\n",
    "    plt.close()\n",
    "    # plt.show()\n"
   ]
  },
  {
   "cell_type": "code",
   "execution_count": null,
   "metadata": {},
   "outputs": [
    {
     "name": "stdout",
     "output_type": "stream",
     "text": [
      "'mc23d_balancecut/vtx_sumPt_nodijet.png',\n",
      "'mc23d_abs_weight_selectioncut/vtx_sumPt_absWeightSelection.png',\n",
      "'mc23d_balancecut/n_ph_nodijet.png',\n",
      "'mc23d_abs_weight_selectioncut/n_ph_absWeightSelection.png',\n",
      "'mc23d_balancecut/n_ph_baseline_nodijet.png',\n",
      "'mc23d_abs_weight_selectioncut/n_ph_baseline_absWeightSelection.png',\n",
      "'mc23d_balancecut/n_el_baseline_nodijet.png',\n",
      "'mc23d_abs_weight_selectioncut/n_el_baseline_absWeightSelection.png',\n",
      "'mc23d_balancecut/n_mu_baseline_nodijet.png',\n",
      "'mc23d_abs_weight_selectioncut/n_mu_baseline_absWeightSelection.png',\n",
      "'mc23d_balancecut/n_tau_baseline_nodijet.png',\n",
      "'mc23d_abs_weight_selectioncut/n_tau_baseline_absWeightSelection.png',\n",
      "'mc23d_balancecut/puWeight_nodijet.png',\n",
      "'mc23d_abs_weight_selectioncut/puWeight_absWeightSelection.png',\n",
      "'mc23d_balancecut/actualIntPerXing_nodijet.png',\n",
      "'mc23d_abs_weight_selectioncut/actualIntPerXing_absWeightSelection.png',\n",
      "'mc23d_balancecut/mt_nodijet.png',\n",
      "'mc23d_abs_weight_selectioncut/mt_absWeightSelection.png',\n",
      "'mc23d_balancecut/metsig_nodijet.png',\n",
      "'mc23d_abs_weight_selectioncut/metsig_absWeightSelection.png',\n",
      "'mc23d_balancecut/metsigres_nodijet.png',\n",
      "'mc23d_abs_weight_selectioncut/metsigres_absWeightSelection.png',\n",
      "'mc23d_balancecut/met_nodijet.png',\n",
      "'mc23d_abs_weight_selectioncut/met_absWeightSelection.png',\n",
      "'mc23d_balancecut/met_noJVT_nodijet.png',\n",
      "'mc23d_abs_weight_selectioncut/met_noJVT_absWeightSelection.png',\n",
      "'mc23d_balancecut/met_cst_nodijet.png',\n",
      "'mc23d_abs_weight_selectioncut/met_cst_absWeightSelection.png',\n",
      "'mc23d_balancecut/met_track_nodijet.png',\n",
      "'mc23d_abs_weight_selectioncut/met_track_absWeightSelection.png',\n",
      "'mc23d_balancecut/dmet_nodijet.png',\n",
      "'mc23d_abs_weight_selectioncut/dmet_absWeightSelection.png',\n",
      "'mc23d_balancecut/ph_pt_nodijet.png',\n",
      "'mc23d_abs_weight_selectioncut/ph_pt_absWeightSelection.png',\n",
      "'mc23d_balancecut/ph_eta_nodijet.png',\n",
      "'mc23d_abs_weight_selectioncut/ph_eta_absWeightSelection.png',\n",
      "'mc23d_balancecut/ph_phi_nodijet.png',\n",
      "'mc23d_abs_weight_selectioncut/ph_phi_absWeightSelection.png',\n",
      "'mc23d_balancecut/jet_central_eta_nodijet.png',\n",
      "'mc23d_abs_weight_selectioncut/jet_central_eta_absWeightSelection.png',\n",
      "'mc23d_balancecut/jet_central_pt1_nodijet.png',\n",
      "'mc23d_abs_weight_selectioncut/jet_central_pt1_absWeightSelection.png',\n",
      "'mc23d_balancecut/jet_central_pt2_nodijet.png',\n",
      "'mc23d_abs_weight_selectioncut/jet_central_pt2_absWeightSelection.png',\n",
      "'mc23d_balancecut/jet_central_pt_nodijet.png',\n",
      "'mc23d_abs_weight_selectioncut/jet_central_pt_absWeightSelection.png',\n",
      "'mc23d_balancecut/dphi_met_phterm_nodijet.png',\n",
      "'mc23d_abs_weight_selectioncut/dphi_met_phterm_absWeightSelection.png',\n",
      "'mc23d_balancecut/dphi_met_ph_nodijet.png',\n",
      "'mc23d_abs_weight_selectioncut/dphi_met_ph_absWeightSelection.png',\n",
      "'mc23d_balancecut/dphi_met_jetterm_nodijet.png',\n",
      "'mc23d_abs_weight_selectioncut/dphi_met_jetterm_absWeightSelection.png',\n",
      "'mc23d_balancecut/dphi_phterm_jetterm_nodijet.png',\n",
      "'mc23d_abs_weight_selectioncut/dphi_phterm_jetterm_absWeightSelection.png',\n",
      "'mc23d_balancecut/dphi_ph_centraljet1_nodijet.png',\n",
      "'mc23d_abs_weight_selectioncut/dphi_ph_centraljet1_absWeightSelection.png',\n",
      "'mc23d_balancecut/dphi_ph_jet1_nodijet.png',\n",
      "'mc23d_abs_weight_selectioncut/dphi_ph_jet1_absWeightSelection.png',\n",
      "'mc23d_balancecut/metplusph_nodijet.png',\n",
      "'mc23d_abs_weight_selectioncut/metplusph_absWeightSelection.png',\n",
      "'mc23d_balancecut/failJVT_jet_pt_nodijet.png',\n",
      "'mc23d_abs_weight_selectioncut/failJVT_jet_pt_absWeightSelection.png',\n",
      "'mc23d_balancecut/failJVT_jet_pt1_nodijet.png',\n",
      "'mc23d_abs_weight_selectioncut/failJVT_jet_pt1_absWeightSelection.png',\n",
      "'mc23d_balancecut/softerm_nodijet.png',\n",
      "'mc23d_abs_weight_selectioncut/softerm_absWeightSelection.png',\n",
      "'mc23d_balancecut/jetterm_nodijet.png',\n",
      "'mc23d_abs_weight_selectioncut/jetterm_absWeightSelection.png',\n",
      "'mc23d_balancecut/jetterm_sumet_nodijet.png',\n",
      "'mc23d_abs_weight_selectioncut/jetterm_sumet_absWeightSelection.png',\n",
      "'mc23d_balancecut/n_jet_nodijet.png',\n",
      "'mc23d_abs_weight_selectioncut/n_jet_absWeightSelection.png',\n",
      "'mc23d_balancecut/n_jet_central_nodijet.png',\n",
      "'mc23d_abs_weight_selectioncut/n_jet_central_absWeightSelection.png',\n",
      "'mc23d_balancecut/n_jet_fwd_nodijet.png',\n",
      "'mc23d_abs_weight_selectioncut/n_jet_fwd_absWeightSelection.png',\n",
      "'mc23d_balancecut/goodPV_nodijet.png',\n",
      "'mc23d_abs_weight_selectioncut/goodPV_absWeightSelection.png',\n",
      "'mc23d_balancecut/dphi_met_central_jet_nodijet.png',\n",
      "'mc23d_abs_weight_selectioncut/dphi_met_central_jet_absWeightSelection.png',\n",
      "'mc23d_balancecut/jet_central_timing1_nodijet.png',\n",
      "'mc23d_abs_weight_selectioncut/jet_central_timing1_absWeightSelection.png',\n",
      "'mc23d_balancecut/jet_central_timing_nodijet.png',\n",
      "'mc23d_abs_weight_selectioncut/jet_central_timing_absWeightSelection.png',\n",
      "'mc23d_balancecut/jet_central_emfrac_nodijet.png',\n",
      "'mc23d_abs_weight_selectioncut/jet_central_emfrac_absWeightSelection.png',\n",
      "'mc23d_balancecut/balance_nodijet.png',\n",
      "'mc23d_abs_weight_selectioncut/balance_absWeightSelection.png',\n",
      "'mc23d_balancecut/balance_sumet_nodijet.png',\n",
      "'mc23d_abs_weight_selectioncut/balance_sumet_absWeightSelection.png',\n",
      "'mc23d_balancecut/central_jets_fraction_nodijet.png',\n",
      "'mc23d_abs_weight_selectioncut/central_jets_fraction_absWeightSelection.png',\n",
      "'mc23d_balancecut/trigger_nodijet.png',\n",
      "'mc23d_abs_weight_selectioncut/trigger_absWeightSelection.png',\n",
      "'mc23d_balancecut/dphi_jj_nodijet.png',\n",
      "'mc23d_abs_weight_selectioncut/dphi_jj_absWeightSelection.png',\n",
      "'mc23d_balancecut/BDTScore_nodijet.png',\n",
      "'mc23d_abs_weight_selectioncut/BDTScore_absWeightSelection.png',\n"
     ]
    }
   ],
   "source": [
    "# print out the image list in common_config.js\n",
    "var_config = getVarDict(tot2[0], 'ggHyyd')\n",
    "\n",
    "for var in var_config:\n",
    "\n",
    "    print(f\"'mc23d_balancecut/{var}_nodijet.png',\")\n",
    "    print(f\"'mc23d_abs_weight_selectioncut/{var}_absWeightSelection.png',\")"
   ]
  }
 ],
 "metadata": {
  "kernelspec": {
   "display_name": "Python 3",
   "language": "python",
   "name": "python3"
  },
  "language_info": {
   "codemirror_mode": {
    "name": "ipython",
    "version": 3
   },
   "file_extension": ".py",
   "mimetype": "text/x-python",
   "name": "python",
   "nbconvert_exporter": "python",
   "pygments_lexer": "ipython3",
   "version": "3.9.21"
  }
 },
 "nbformat": 4,
 "nbformat_minor": 2
}
