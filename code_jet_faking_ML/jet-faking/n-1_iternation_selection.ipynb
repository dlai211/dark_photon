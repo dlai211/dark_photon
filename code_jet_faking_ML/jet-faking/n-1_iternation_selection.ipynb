{
 "cells": [
  {
   "cell_type": "code",
   "execution_count": 1,
   "id": "68b353b7-b507-4881-9f15-bc69b0de3806",
   "metadata": {},
   "outputs": [
    {
     "name": "stdout",
     "output_type": "stream",
     "text": [
      "processing file:  /data/tmathew/ntups/mc23d/ggHyyd_y.root\n",
      "Unweighted Events before cut:  86910\n",
      "Weighted Events before cut:  8732.987955115426\n",
      "Unweighted Events after basic cut:  4587\n",
      "Weighted Events after basic cut:  461.9221957176054\n",
      "Number of none values:  0\n",
      "Reading Time for ggHyyd: 7.100672721862793 seconds\n",
      "\n",
      "processing file:  /data/tmathew/ntups/mc23d/Zjets_y.root\n",
      "Unweighted Events before cut:  3242488\n",
      "Weighted Events before cut:  676616.903247458\n",
      "Unweighted Events after basic cut:  9208\n",
      "Weighted Events after basic cut:  706.2264841437278\n",
      "Number of none values:  0\n",
      "Reading Time for Zjets: 168.94695448875427 seconds\n",
      "\n",
      "processing file:  /data/tmathew/ntups/mc23d/Zgamma_y.root\n",
      "Unweighted Events before cut:  3423357\n",
      "Weighted Events before cut:  249851.55031619867\n",
      "Unweighted Events after basic cut:  1715357\n",
      "Weighted Events after basic cut:  52667.25081568077\n",
      "Number of none values:  0\n",
      "Reading Time for Zgamma: 143.32745480537415 seconds\n",
      "\n",
      "processing file:  /data/tmathew/ntups/mc23d/Wgamma_y.root\n",
      "Unweighted Events before cut:  1308982\n",
      "Weighted Events before cut:  427927.31994993926\n",
      "Unweighted Events after basic cut:  300189\n",
      "Weighted Events after basic cut:  36744.18677581012\n",
      "Number of none values:  0\n",
      "Reading Time for Wgamma: 43.344850301742554 seconds\n",
      "\n",
      "processing file:  /data/tmathew/ntups/mc23d/Wjets_y.root\n",
      "Unweighted Events before cut:  1962593\n",
      "Weighted Events before cut:  2815306.4335920406\n",
      "Unweighted Events after basic cut:  40245\n",
      "Weighted Events after basic cut:  39018.8441385545\n",
      "Number of none values:  0\n",
      "Reading Time for Wjets: 109.65438604354858 seconds\n",
      "\n",
      "processing file:  /data/tmathew/ntups/mc23d/gammajet_direct_y.root\n",
      "Unweighted Events before cut:  12921098\n",
      "Weighted Events before cut:  147918307.09228534\n",
      "Unweighted Events after basic cut:  1143608\n",
      "Weighted Events after basic cut:  932745.4635000072\n",
      "Number of none values:  0\n",
      "Reading Time for gammajet_direct: 315.53292298316956 seconds\n",
      "\n",
      "processing file:  /data/fpiazza/ggHyyd/Ntuples/MC23d/withVertexBDT/data23_y_BDT_score.root\n",
      "Unweighted Events before cut:  3354286\n",
      "Weighted Events before cut:  36165772.75273502\n",
      "Unweighted Events after basic cut:  86539\n",
      "Weighted Events after basic cut:  929869.6264678327\n",
      "Number of none values:  0\n",
      "Reading Time for data23: 212.43316674232483 seconds\n",
      "\n"
     ]
    }
   ],
   "source": [
    "# import modules\n",
    "import uproot, sys, time, math, pickle, os\n",
    "import numpy as np\n",
    "import matplotlib.pyplot as plt\n",
    "import pandas as pd\n",
    "import awkward as ak\n",
    "from tqdm import tqdm\n",
    "import seaborn as sns\n",
    "from sklearn.metrics import roc_curve, auc\n",
    "from sklearn.model_selection import train_test_split\n",
    "from matplotlib.ticker import FormatStrFormatter\n",
    "import matplotlib.ticker as ticker\n",
    "from scipy.special import betainc\n",
    "from scipy.stats import norm\n",
    "\n",
    "# import config functions\n",
    "from jet_faking_plot_config import getWeight, zbi, sample_dict, getVarDict\n",
    "from plot_var import variables, variables_data, ntuple_names, ntuple_names_BDT\n",
    "from n_1_iteration_functions import get_best_cut, calculate_significance, apply_cut_to_fb, apply_all_cuts, compute_total_significance, n_minus_1_optimizer\n",
    "# from cut_config import cut_config\n",
    "\n",
    "# Set up plot defaults\n",
    "import matplotlib as mpl\n",
    "mpl.rcParams['figure.figsize'] = 14.0,10.0  # Roughly 11 cm wde by 8 cm high  \n",
    "mpl.rcParams['font.size'] = 20.0 # Use 14 point font\n",
    "sns.set(style=\"whitegrid\")\n",
    "\n",
    "font_size = {\n",
    "    \"xlabel\": 17,\n",
    "    \"ylabel\": 17,\n",
    "    \"xticks\": 15,\n",
    "    \"yticks\": 15,\n",
    "    \"legend\": 14\n",
    "}\n",
    "\n",
    "plt.rcParams.update({\n",
    "    \"axes.labelsize\": font_size[\"xlabel\"],  # X and Y axis labels\n",
    "    \"xtick.labelsize\": font_size[\"xticks\"],  # X ticks\n",
    "    \"ytick.labelsize\": font_size[\"yticks\"],  # Y ticks\n",
    "    \"legend.fontsize\": font_size[\"legend\"]  # Legend\n",
    "})\n",
    "\n",
    "tot = []\n",
    "data = pd.DataFrame()\n",
    "unweighted_bcut, weighted_bcut, unweighted_acut, weighted_acut = [], [], [], []\n",
    "ntuple_names = ['ggHyyd','Zjets','Zgamma','Wgamma','Wjets','gammajet_direct', 'data23']\n",
    "\n",
    "def test(fb):\n",
    "    # checking if there are any none values\n",
    "    mask = ak.is_none(fb['met_tst_et'])\n",
    "    n_none = ak.sum(mask)\n",
    "    print(\"Number of none values: \", n_none)\n",
    "    # if n_none > 0:\n",
    "    #     fb = fb[~mask]\n",
    "    # print(\"Events after removing none values: \", len(fb), ak.sum(ak.is_none(fb['met_tst_et'])))\n",
    "\n",
    "def print_cut(ntuple_name, fb, label):\n",
    "    print(f\"Unweighted Events {label}: \", len(fb))\n",
    "    if ntuple_name == 'data23':\n",
    "        print(f\"Weighted Events {label}: \", sum(getWeight(fb, ntuple_name, jet_faking=True)))\n",
    "    else: \n",
    "        print(f\"Weighted Events {label}: \", sum(getWeight(fb, ntuple_name)))\n",
    "\n",
    "for i in range(len(ntuple_names)):\n",
    "    ucut, wcut = [], []\n",
    "    start_time = time.time()\n",
    "    ntuple_name = ntuple_names[i]\n",
    "    if ntuple_name == 'data23': # data\n",
    "        path = f\"/data/fpiazza/ggHyyd/Ntuples/MC23d/withVertexBDT/data23_y_BDT_score.root\" \n",
    "        print('processing file: ', path)\n",
    "        f = uproot.open(path)['nominal']\n",
    "        fb = f.arrays(variables_data, library=\"ak\")\n",
    "        fb['VertexBDTScore'] = fb['BDTScore'] # renaming BDTScore to ensure this is recognized as Vertex BDT Score\n",
    "        \n",
    "        fb = fb[ak.num(fb['ph_eta']) > 0]     # for abs(ak.firsts(fb['ph_eta'])) to have value to the reweighting\n",
    "                \n",
    "        mask1 = (ak.firsts(fb['ph_topoetcone40'])-2450.)/ak.firsts(fb['ph_pt']) > 0.1   # jet_faking_photon cut\n",
    "        fb = fb[mask1]\n",
    "        fb = fb[fb['n_ph_baseline'] == 1]\n",
    "\n",
    "    else: # MC\n",
    "        path = f\"/data/tmathew/ntups/mc23d/{ntuple_name}_y.root\" \n",
    "        path_BDT = f\"/data/fpiazza/ggHyyd/Ntuples/MC23d/withVertexBDT/mc23d_{ntuple_name}_y_BDT_score.root\" \n",
    "        print('processing file: ', path)\n",
    "        f = uproot.open(path)['nominal']\n",
    "        fb = f.arrays(variables, library=\"ak\")\n",
    "\n",
    "        # add BDT score to fb\n",
    "        f_BDT = uproot.open(path_BDT)['nominal']\n",
    "        fb_BDT = f_BDT.arrays([\"event\", \"BDTScore\"], library=\"ak\")\n",
    "        tmp = fb[\"event\"] == fb_BDT[\"event\"]\n",
    "        if np.all(tmp) == True:\n",
    "            fb[\"VertexBDTScore\"] = fb_BDT[\"BDTScore\"]\n",
    "        else: \n",
    "            print(\"Something is wrong, need arranging\")\n",
    "\n",
    "        fb = fb[ak.num(fb['ph_eta']) > 0]     # for abs(ak.firsts(fb['ph_eta'])) to have value to the reweighting\n",
    "        fb = fb[fb['n_ph'] == 1]\n",
    "        \n",
    "        # Zjets and Wjets (rule out everything except for e->gamma)\n",
    "        if ntuple_name == 'Zjets' or ntuple_name == 'Wjets':\n",
    "            mask = ak.firsts(fb['ph_truth_type']) == 2\n",
    "            fb = fb[mask]\n",
    "        \n",
    "        # goodPV on signal only\n",
    "        if ntuple_name == 'ggHyyd':\n",
    "            fb = fb[ak.num(fb['pv_z']) > 0]\n",
    "            good_pv_tmp = (np.abs(ak.firsts(fb['pv_truth_z']) - ak.firsts(fb['pv_z'])) <= 0.5)\n",
    "            fb = fb[good_pv_tmp]\n",
    "\n",
    "    print_cut(ntuple_name, fb, 'before cut')\n",
    "    wcut.append(sum(getWeight(fb, ntuple_name)))\n",
    "\n",
    "    fb = fb[fb['n_mu_baseline'] == 0]\n",
    "    wcut.append(sum(getWeight(fb, ntuple_name)))\n",
    "    fb = fb[fb['n_el_baseline'] == 0]\n",
    "    wcut.append(sum(getWeight(fb, ntuple_name)))\n",
    "    fb = fb[fb['n_tau_baseline'] == 0]\n",
    "    wcut.append(sum(getWeight(fb, ntuple_name)))\n",
    "    fb = fb[fb['trigger_HLT_g50_tight_xe40_cell_xe70_pfopufit_80mTAC_L1eEM26M']==1]\n",
    "    wcut.append(sum(getWeight(fb, ntuple_name)))\n",
    "    fb = fb[ak.num(fb['ph_pt']) > 0] # prevent none values in Tbranch\n",
    "    fb = fb[ak.firsts(fb['ph_pt']) >= 50000] # ph_pt cut (basic cut)\n",
    "    wcut.append(sum(getWeight(fb, ntuple_name)))\n",
    "    fb = fb[fb['met_tst_et'] >= 100000] # MET cut (basic cut)\n",
    "    wcut.append(sum(getWeight(fb, ntuple_name)))\n",
    "    fb = fb[fb['n_jet_central'] <= 4] # n_jet_central cut (basic cut)\n",
    "    wcut.append(sum(getWeight(fb, ntuple_name)))\n",
    "\n",
    "    mt_tmp = np.sqrt(2 * fb['met_tst_et'] * ak.firsts(fb['ph_pt']) * \n",
    "                            (1 - np.cos(fb['met_tst_phi'] - ak.firsts(fb['ph_phi'])))) / 1000\n",
    "    mask1 = mt_tmp >= 100 # trigger cut\n",
    "    fb = fb[mask1]\n",
    "    wcut.append(sum(getWeight(fb, ntuple_name)))\n",
    "\n",
    "    print_cut(ntuple_name, fb, 'after basic cut')\n",
    "\n",
    "\n",
    "    ucut.append(len(fb))\n",
    "\n",
    "    unweighted_acut.append(ucut)\n",
    "    weighted_acut.append(wcut)\n",
    "    test(fb) # check for none value\n",
    "\n",
    "    print(f\"Reading Time for {ntuple_name}: {(time.time()-start_time)} seconds\\n\")\n",
    "\n",
    "\n",
    "\n",
    "    tot.append(fb)\n",
    "\n",
    "    fb = 0\n",
    "    fb_BDT = 0\n",
    "    tmp = 0\n"
   ]
  },
  {
   "cell_type": "code",
   "execution_count": 2,
   "id": "3c56a867-2cb8-4eba-ad46-5ac101d46b40",
   "metadata": {},
   "outputs": [],
   "source": [
    "def getCutDict():\n",
    "    cut_dict = {}\n",
    "signal_name = 'ggHyyd'  # Define signal dataset\n",
    "cut_name = 'basic'\n",
    "\n",
    "def getCutDict():\n",
    "    cut_dict = {}\n",
    "    # Reduced Features\n",
    "    cut_dict['VertexBDTScore'] = {\n",
    "        'lowercut': np.arange(0, 0.3+0.01, 0.01) # VertexBDTScore > cut\n",
    "    }\n",
    "    cut_dict['balance'] = {\n",
    "        'lowercut': np.arange(0, 1.5 + 0.01, 0.01), # balance > cut\n",
    "        'uppercut': np.arange(1.5, 9, 0.05) # balance < cut\n",
    "    }\n",
    "    cut_dict['dmet'] = {\n",
    "        'lowercut': np.arange(-30000, 10000 + 100, 100), # dmet > cut\n",
    "        'uppercut': np.arange(10000, 100000 + 100, 100), # -10000 < dmet < cut\n",
    "    }\n",
    "    cut_dict['metsig'] = {\n",
    "        'lowercut': np.arange(0, 10 + 1, 1), # metsig > cut\n",
    "        'uppercut': np.arange(10, 30 + 1, 1), # metsig < cut \n",
    "    }\n",
    "    cut_dict['jetterm'] = {\n",
    "        'lowercut': np.arange(0, 150000+500, 500) # jetterm > cut\n",
    "    }\n",
    "    cut_dict['dphi_met_phterm'] = {\n",
    "        'lowercut': np.arange(1, 2 + 0.01, 0.01), # dphi_met_phterm > cut\n",
    "    }\n",
    "    cut_dict['dphi_met_central_jet'] = {\n",
    "        'lowercut': np.arange(1.5, 2.8, 0.01)\n",
    "    }\n",
    "    cut_dict['ph_eta'] = {\n",
    "        'uppercut': np.arange(1, 2.5 + 0.01, 0.01), # ph_eta < cut\n",
    "    }\n",
    "    cut_dict['ph_pt'] = {\n",
    "        'lowercut': np.arange(50000, 100000 + 1000, 1000),  # ph_pt > cut\n",
    "        'uppercut': np.arange(100000, 300000 + 1000, 1000),  # ph_pt > cut\n",
    "    }\n",
    "\n",
    "    # Other Features\n",
    "    cut_dict['dphi_jj'] = {\n",
    "        'uppercut': np.arange(1, 3.14 + 0.01, 0.01) # dphi_jj < cut\n",
    "    }\n",
    "    cut_dict['dphi_phterm_jetterm'] = {\n",
    "        'lowercut': np.arange(1, 2.5 + 0.05, 0.05), # dphi_phterm_jetterm > cut\n",
    "        'uppercut': np.arange(2, 4 + 0.1, 0.1) # dphi_phterm_jetterm < cut\n",
    "    }\n",
    "    cut_dict['jet_central_eta'] = {\n",
    "        'lowercut': np.arange(-2.5, 0+0.01, 0.01), # jet_central_eta > cut\n",
    "        'uppercut': np.arange(0, 2.5+0.01, 0.01) # jet_central_eta < cut\n",
    "    }\n",
    "    cut_dict['jet_central_pt2'] = {\n",
    "        'lowercut': np.arange(20000, 100000+1000, 1000) # jet_central_pt2 > cut\n",
    "    }\n",
    "    cut_dict['metsigres'] = {\n",
    "        'lowercut': np.arange(8600, 15000, 100),\n",
    "        'uppercut': np.arange(12000, 60000, 100)\n",
    "    }\n",
    "    cut_dict['met_noJVT'] = {\n",
    "        'lowercut': np.arange(50000, 120000, 100),\n",
    "        'uppercut': np.arange(100000, 250000, 100)\n",
    "    }\n",
    "    cut_dict['softerm'] = {\n",
    "        'uppercut': np.arange(10000, 40000, 100)\n",
    "    }\n",
    "    cut_dict['n_jet_central'] = {\n",
    "        'uppercut': np.arange(0, 8+1, 1) # njet < cut\n",
    "    }\n",
    "\n",
    "    return cut_dict\n",
    "cut_config = getCutDict()"
   ]
  },
  {
   "cell_type": "code",
   "execution_count": 3,
   "id": "7be48719-8c9e-4e53-93ce-d47b794e63e6",
   "metadata": {},
   "outputs": [
    {
     "name": "stdout",
     "output_type": "stream",
     "text": [
      "{'cut_var': 'VertexBDTScore', 'cut_type': 'lowercut', 'best_cut': 0.09, 'best_sig_x_acc': 0.5300952216935515, 'significance': 0.6397698893038751, 'acceptance': 82.85716951611163}\n",
      "{'cut_var': 'balance', 'cut_type': 'lowercut', 'best_cut': 0.3, 'best_sig_x_acc': 0.3680869481323753, 'significance': 0.36821775624246844, 'acceptance': 99.96447533887883}\n",
      "{'cut_var': 'balance', 'cut_type': 'uppercut', 'best_cut': 1.8000000000000003, 'best_sig_x_acc': 0.46134525047490643, 'significance': 0.5780321697227262, 'acceptance': 79.81307523008748}\n",
      "{'cut_var': 'dmet', 'cut_type': 'lowercut', 'best_cut': -16600, 'best_sig_x_acc': 0.4129232806067522, 'significance': 0.43106329002235677, 'acceptance': 95.79179906164968}\n",
      "{'cut_var': 'dmet', 'cut_type': 'uppercut', 'best_cut': 48900, 'best_sig_x_acc': 0.3275416905797266, 'significance': 0.32754170160018753, 'acceptance': 99.99999663540218}\n",
      "{'cut_var': 'metsig', 'cut_type': 'lowercut', 'best_cut': 4, 'best_sig_x_acc': 0.361979872020551, 'significance': 0.3762631656440832, 'acceptance': 96.20390861298308}\n",
      "{'cut_var': 'metsig', 'cut_type': 'uppercut', 'best_cut': 16, 'best_sig_x_acc': 0.32891264455019487, 'significance': 0.32963109766265414, 'acceptance': 99.78204328488614}\n",
      "{'cut_var': 'jetterm', 'cut_type': 'lowercut', 'best_cut': 112500, 'best_sig_x_acc': 0.6170280208057991, 'significance': 0.8533237610937329, 'acceptance': 72.30878230965163}\n",
      "{'cut_var': 'dphi_met_phterm', 'cut_type': 'lowercut', 'best_cut': 1.2100000000000002, 'best_sig_x_acc': 1.0638434968720643, 'significance': 1.4013201328526186, 'acceptance': 75.91723489381653}\n",
      "{'cut_var': 'dphi_met_central_jet', 'cut_type': 'lowercut', 'best_cut': 1.7800000000000002, 'best_sig_x_acc': 0.4670900271506345, 'significance': 0.49522069603742874, 'acceptance': 94.31956921189172}\n",
      "{'cut_var': 'ph_eta', 'cut_type': 'uppercut', 'best_cut': 2.370000000000001, 'best_sig_x_acc': 0.32749738874809065, 'significance': 0.32749739976706105, 'acceptance': 99.99999663540218}\n",
      "ph_pt 0 51\n",
      "ph_pt 200 201\n",
      "{'cut_var': 'dphi_jj', 'cut_type': 'uppercut', 'best_cut': 2.7600000000000016, 'best_sig_x_acc': 0.3486244955136403, 'significance': 0.3722073510197181, 'acceptance': 93.6640543392093}\n",
      "{'cut_var': 'dphi_phterm_jetterm', 'cut_type': 'lowercut', 'best_cut': 1.4500000000000004, 'best_sig_x_acc': 0.5118064096607197, 'significance': 0.6000596689628758, 'acceptance': 85.29258607653298}\n",
      "{'cut_var': 'dphi_phterm_jetterm', 'cut_type': 'uppercut', 'best_cut': 3.000000000000001, 'best_sig_x_acc': 0.3464933370130756, 'significance': 0.3475026838622216, 'acceptance': 99.70954271836754}\n",
      "jet_central_eta 0 251\n",
      "jet_central_eta 250 251\n",
      "jet_central_pt2 0 81\n",
      "{'cut_var': 'metsigres', 'cut_type': 'lowercut', 'best_cut': 10300, 'best_sig_x_acc': 0.3561096438700701, 'significance': 0.36114757116108814, 'acceptance': 98.60502251896057}\n",
      "{'cut_var': 'metsigres', 'cut_type': 'uppercut', 'best_cut': 34200, 'best_sig_x_acc': 0.352821986471691, 'significance': 0.36368004520505426, 'acceptance': 97.01439249237853}\n",
      "{'cut_var': 'met_noJVT', 'cut_type': 'lowercut', 'best_cut': 100000, 'best_sig_x_acc': 0.39697413113028845, 'significance': 0.4111651505188965, 'acceptance': 96.54858409797164}\n",
      "{'cut_var': 'met_noJVT', 'cut_type': 'uppercut', 'best_cut': 249100, 'best_sig_x_acc': 0.30492096917730693, 'significance': 0.31645089168218166, 'acceptance': 96.35648917164231}\n",
      "softerm 299 300\n",
      "{'cut_var': 'n_jet_central', 'cut_type': 'uppercut', 'best_cut': 4, 'best_sig_x_acc': 0.3274664572853601, 'significance': 0.3274664683032898, 'acceptance': 99.99999663540218}\n",
      "CPU times: user 2h 15min 27s, sys: 1min 19s, total: 2h 16min 47s\n",
      "Wall time: 2h 17min 33s\n"
     ]
    }
   ],
   "source": [
    "%%time\n",
    "signal_name='ggHyyd'\n",
    "initial_cut = []\n",
    "tot2 = tot\n",
    "\n",
    "# < -- Initial Cut on all variables (maximize the significance * acceptance) -- > \n",
    "for cut_var, cut_types in cut_config.items():\n",
    "    for cut_type, cut_values in cut_types.items():\n",
    "        sig_simple_list, sigacc_simple_list, acceptance_values = calculate_significance(\n",
    "            cut_var, cut_type, cut_values, tot2, ntuple_names, signal_name, getVarDict, getWeight\n",
    "        )\n",
    "\n",
    "        best_cut, best_sig, idx = get_best_cut(cut_values, sigacc_simple_list) \n",
    "        \n",
    "        if idx == 0 or idx == len(sigacc_simple_list) - 1: # I chose to use index to indicate not to make unnecessary cut (for initial cut)\n",
    "            print(cut_var, idx, len(sigacc_simple_list))\n",
    "            continue\n",
    "            \n",
    "        result = {\n",
    "            \"cut_var\": cut_var,\n",
    "            \"cut_type\": cut_type,\n",
    "            \"best_cut\": best_cut,\n",
    "            \"best_sig_x_acc\": best_sig,\n",
    "            \"significance\": sig_simple_list[idx],\n",
    "            \"acceptance\": acceptance_values[idx]\n",
    "        }\n",
    "\n",
    "        print(result)\n",
    "        initial_cut.append(dict(list(result.items())[:3]))"
   ]
  },
  {
   "cell_type": "code",
   "execution_count": 4,
   "id": "e9fa4546-3a23-4915-a9c6-96e8fd16e7e2",
   "metadata": {},
   "outputs": [
    {
     "name": "stdout",
     "output_type": "stream",
     "text": [
      "after initial cutting, signficance:  1.8098839816515948\n"
     ]
    }
   ],
   "source": [
    "tot2_initial_cut = apply_all_cuts(tot2, ntuple_names, initial_cut, getVarDict)\n",
    "final_significance = compute_total_significance(tot2_initial_cut, ntuple_names, signal_name, getVarDict, getWeight)\n",
    "print('after initial cutting, signficance: ', final_significance)"
   ]
  },
  {
   "cell_type": "code",
   "execution_count": 5,
   "id": "e4bd9ee6-5854-42d9-bcc5-82f4f08a347e",
   "metadata": {},
   "outputs": [
    {
     "name": "stdout",
     "output_type": "stream",
     "text": [
      "\n",
      "--- Iteration 1 ---\n",
      "Updating VertexBDTScore (lowercut): 0.09 → 0.12  (sig 1.81 → 1.81)\n",
      "Updating balance (lowercut): 0.3 → 0.72  (sig 1.81 → 1.88)\n",
      "Updating balance (uppercut): 1.8000000000000003 → 5.2500000000000036  (sig 1.88 → 1.90)\n",
      "Updating dmet (lowercut): -16600 → -19500  (sig 1.90 → 1.90)\n",
      "Updating metsig (lowercut): 4 → 5  (sig 1.90 → 1.95)\n",
      "Updating metsig (uppercut): 16 → 12  (sig 1.95 → 1.99)\n",
      "Updating jetterm (lowercut): 112500 → 81500  (sig 1.99 → 2.06)\n",
      "Updating dphi_met_phterm (lowercut): 1.2100000000000002 → 1.4300000000000004  (sig 2.06 → 2.14)\n",
      "Updating dphi_met_central_jet (lowercut): 1.7800000000000002 → 2.0800000000000005  (sig 2.14 → 2.19)\n",
      "Updating ph_eta (uppercut): 2.370000000000001 → 1.6500000000000006  (sig 2.19 → 2.31)\n",
      "Updating dphi_jj (uppercut): 2.7600000000000016 → 3.140000000000002  (sig 2.31 → 2.33)\n",
      "Updating dphi_phterm_jetterm (lowercut): 1.4500000000000004 → 1.7500000000000007  (sig 2.33 → 2.34)\n",
      "Updating metsigres (lowercut): 10300 → 10700  (sig 2.34 → 2.34)\n",
      "Updating metsigres (uppercut): 34200 → 33600  (sig 2.34 → 2.34)\n",
      "Updating met_noJVT (lowercut): 100000 → 100300  (sig 2.34 → 2.37)\n",
      "Updating met_noJVT (uppercut): 249100 → 242400  (sig 2.37 → 2.37)\n",
      "\n",
      "--- Iteration 2 ---\n",
      "Updating VertexBDTScore (lowercut): 0.12 → 0.06  (sig 2.37 → 2.38)\n",
      "Updating balance (lowercut): 0.72 → 0.8  (sig 2.38 → 2.41)\n",
      "Updating balance (uppercut): 5.2500000000000036 → 4.000000000000002  (sig 2.41 → 2.42)\n",
      "Updating dmet (lowercut): -19500 → -19100  (sig 2.42 → 2.42)\n",
      "Updating jetterm (lowercut): 81500 → 86500  (sig 2.42 → 2.42)\n",
      "Updating dphi_met_phterm (lowercut): 1.4300000000000004 → 1.5400000000000005  (sig 2.42 → 2.44)\n",
      "Updating dphi_met_central_jet (lowercut): 2.0800000000000005 → 2.0500000000000007  (sig 2.44 → 2.44)\n",
      "Updating dphi_phterm_jetterm (lowercut): 1.7500000000000007 → 1.8500000000000008  (sig 2.44 → 2.44)\n",
      "Updating metsigres (lowercut): 10700 → 10400  (sig 2.44 → 2.44)\n",
      "Updating met_noJVT (lowercut): 100300 → 102600  (sig 2.44 → 2.44)\n",
      "\n",
      "--- Iteration 3 ---\n",
      "Updating VertexBDTScore (lowercut): 0.06 → 0.11  (sig 2.44 → 2.45)\n",
      "\n",
      "--- Iteration 4 ---\n",
      " optimized cuts, end of iteration \n",
      "after optimized cutting, signficance:  2.4479681389997188\n",
      "CPU times: user 1h 35min 57s, sys: 34.7 s, total: 1h 36min 31s\n",
      "Wall time: 1h 37min 5s\n"
     ]
    }
   ],
   "source": [
    "%%time\n",
    "# < -- n-1 iterations until no further improvement (max significance) -- >\n",
    "optimized_cuts, final_significance = n_minus_1_optimizer(\n",
    "    initial_cut, cut_config, tot2, ntuple_names, signal_name, getVarDict, getWeight, final_significance\n",
    ")\n",
    "print('after optimized cutting, signficance: ', final_significance)\n"
   ]
  },
  {
   "cell_type": "code",
   "execution_count": 6,
   "id": "acc19fe8-0dbe-4441-8a77-b03d462bf77e",
   "metadata": {},
   "outputs": [
    {
     "name": "stdout",
     "output_type": "stream",
     "text": [
      " < -- Final Optimized Cuts -- > \n",
      "VertexBDTScore >= 0.11\n",
      "balance >= 0.8\n",
      "balance <= 4.000000000000002\n",
      "dmet >= -19100\n",
      "dmet <= 48900\n",
      "metsig >= 5\n",
      "metsig <= 12\n",
      "jetterm >= 86500\n",
      "dphi_met_phterm >= 1.5400000000000005\n",
      "dphi_met_central_jet >= 2.0500000000000007\n",
      "ph_eta <= 1.6500000000000006\n",
      "dphi_jj <= 3.140000000000002\n",
      "dphi_phterm_jetterm >= 1.8500000000000008\n",
      "dphi_phterm_jetterm <= 3.000000000000001\n",
      "metsigres >= 10400\n",
      "metsigres <= 33600\n",
      "met_noJVT >= 102600\n",
      "met_noJVT <= 242400\n",
      "n_jet_central <= 4\n",
      "after optimized cutting, signficance:  2.4479681389997188\n"
     ]
    }
   ],
   "source": [
    "print( ' < -- Final Optimized Cuts -- > ')\n",
    "# print(optimized_cuts)\n",
    "\n",
    "for cut in optimized_cuts:\n",
    "    var = cut['cut_var']\n",
    "    val = cut['best_cut']\n",
    "    if cut['cut_type'] == 'uppercut':\n",
    "        print(f\"{var} <= {val}\")\n",
    "    elif cut['cut_type'] == 'lowercut':\n",
    "        print(f\"{var} >= {val}\")\n",
    "        \n",
    "print('after optimized cutting, signficance: ', final_significance)\n"
   ]
  },
  {
   "cell_type": "code",
   "execution_count": 7,
   "id": "a0608ca9-e414-4aa7-9718-bb6a17c402ea",
   "metadata": {},
   "outputs": [],
   "source": [
    "tot2_optimized_cuts = apply_all_cuts(tot2, ntuple_names, optimized_cuts, getVarDict)"
   ]
  },
  {
   "cell_type": "code",
   "execution_count": 8,
   "id": "14f5e0f0-9014-49ce-a39e-af5b88bee5d5",
   "metadata": {},
   "outputs": [
    {
     "data": {
      "text/plain": [
       "[<Array [{actualIntPerXing: 56.5, ...}, ...] type='1157 * ?{actualIntPerXing...'>,\n",
       " <Array [{actualIntPerXing: 56.5, ...}, ...] type='30 * ?{actualIntPerXing: ...'>,\n",
       " <Array [{actualIntPerXing: 50.5, ...}, ...] type='8575 * ?{actualIntPerXing...'>,\n",
       " <Array [{actualIntPerXing: 64.5, ...}, ...] type='6605 * ?{actualIntPerXing...'>,\n",
       " <Array [{actualIntPerXing: 66.5, ...}, ...] type='2209 * ?{actualIntPerXing...'>,\n",
       " <Array [{actualIntPerXing: 51.5, ...}, ...] type='420 * ?{actualIntPerXing:...'>,\n",
       " <Array [{actualIntPerXing: 57.6, ...}, ...] type='30 * ?{actualIntPerXing: ...'>]"
      ]
     },
     "execution_count": 8,
     "metadata": {},
     "output_type": "execute_result"
    }
   ],
   "source": [
    "tot2_optimized_cuts"
   ]
  },
  {
   "cell_type": "code",
   "execution_count": 17,
   "id": "69e045eb-63f7-40ef-bbc9-f1689de5bafd",
   "metadata": {},
   "outputs": [
    {
     "name": "stdout",
     "output_type": "stream",
     "text": [
      "< -- Sum of weight each process -- >\n",
      "ggHyyd 117.65650455146829\n",
      "Zjets 2.3715278876334196\n",
      "Zgamma 382.2246941178605\n",
      "Wgamma 848.8890796693562\n",
      "Wjets 556.5861277854304\n",
      "gammajet_direct 202.48297826768368\n",
      "data23 317.4929659454739\n"
     ]
    }
   ],
   "source": [
    "print('< -- Sum of weight each process -- >')\n",
    "\n",
    "for i in range(len(tot2_optimized_cuts)):\n",
    "    print(ntuple_names[i], sum(getWeight(tot2_optimized_cuts[i], ntuple_names[i])))"
   ]
  },
  {
   "cell_type": "code",
   "execution_count": 14,
   "id": "99a8599f-1d93-45a4-8ab7-ed36bf5a4eca",
   "metadata": {},
   "outputs": [],
   "source": [
    "# < -- Save data after cuts to a csv file for BDT input -- >\n",
    "Vars = [\n",
    "    'balance', \n",
    "    'VertexBDTScore',\n",
    "    'dmet',\n",
    "    'dphi_jj',\n",
    "    'dphi_met_central_jet',\n",
    "    'dphi_met_phterm',\n",
    "    'dphi_met_ph',\n",
    "    'dphi_met_jetterm',\n",
    "    'dphi_phterm_jetterm',\n",
    "    'dphi_ph_centraljet1',\n",
    "    'ph_pt',\n",
    "    'ph_eta',\n",
    "    'ph_phi',\n",
    "    'jet_central_eta',\n",
    "    'jet_central_pt1',\n",
    "    'jet_central_pt2',\n",
    "    'jetterm',\n",
    "    'jetterm_sumet',\n",
    "    'metsig',\n",
    "    'metsigres',\n",
    "    'met',\n",
    "    'met_noJVT',\n",
    "    'metplusph',\n",
    "    'failJVT_jet_pt1',\n",
    "    'softerm',\n",
    "    'n_jet_central'\n",
    "]\n",
    "\n",
    "data_list = []\n",
    "\n",
    "for j in range(len(ntuple_names)):\n",
    "    process = ntuple_names[j]\n",
    "    fb = tot2_optimized_cuts[j] \n",
    "    \n",
    "    data_dict = {}\n",
    "    \n",
    "    for var in Vars:\n",
    "        var_config = getVarDict(fb, process, var_name=var)\n",
    "        data_dict[var] = var_config[var]['var']\n",
    "    \n",
    "    weights = getWeight(fb, process)\n",
    "    data_dict['weights'] = weights\n",
    "    \n",
    "    n_events = len(weights)\n",
    "    data_dict['process'] = [process] * n_events\n",
    "    label = 1 if process == 'ggHyyd' else 0\n",
    "    data_dict['label'] = [label] * n_events\n",
    "    \n",
    "    df_temp = pd.DataFrame(data_dict)\n",
    "    data_list.append(df_temp)\n",
    "\n",
    "df_all = pd.concat(data_list, ignore_index=True)\n",
    "df_all.head()\n",
    "\n",
    "df_all.to_csv(\"/data/jlai/ntups/csv/jet_faking_BDT_input_basic_reduced2.csv\", index=False)"
   ]
  },
  {
   "cell_type": "code",
   "execution_count": 18,
   "id": "34cd8084-3a18-44ec-b9df-7aed63835f49",
   "metadata": {},
   "outputs": [
    {
     "name": "stderr",
     "output_type": "stream",
     "text": [
      "/home/jlai/.local/lib/python3.8/site-packages/awkward/_nplikes/array_module.py:251: RuntimeWarning: invalid value encountered in divide\n",
      "  return impl(*broadcasted_args, **(kwargs or {}))\n"
     ]
    },
    {
     "name": "stdout",
     "output_type": "stream",
     "text": [
      "successfully saved to /data/jlai/dark_photon/jets_faking_photons/lumi135/mc23d_selectioncut/vtx_sumPt_nodijet.png\n",
      "successfully saved to /data/jlai/dark_photon/jets_faking_photons/lumi135/mc23d_selectioncut/roc_curve_vtx_sumPt.png\n"
     ]
    },
    {
     "name": "stderr",
     "output_type": "stream",
     "text": [
      "/home/jlai/.local/lib/python3.8/site-packages/awkward/_nplikes/array_module.py:251: RuntimeWarning: invalid value encountered in divide\n",
      "  return impl(*broadcasted_args, **(kwargs or {}))\n"
     ]
    },
    {
     "name": "stdout",
     "output_type": "stream",
     "text": [
      "successfully saved to /data/jlai/dark_photon/jets_faking_photons/lumi135/mc23d_selectioncut/n_ph_nodijet.png\n",
      "successfully saved to /data/jlai/dark_photon/jets_faking_photons/lumi135/mc23d_selectioncut/roc_curve_n_ph.png\n"
     ]
    },
    {
     "name": "stderr",
     "output_type": "stream",
     "text": [
      "/home/jlai/.local/lib/python3.8/site-packages/awkward/_nplikes/array_module.py:251: RuntimeWarning: invalid value encountered in divide\n",
      "  return impl(*broadcasted_args, **(kwargs or {}))\n"
     ]
    },
    {
     "name": "stdout",
     "output_type": "stream",
     "text": [
      "successfully saved to /data/jlai/dark_photon/jets_faking_photons/lumi135/mc23d_selectioncut/n_ph_baseline_nodijet.png\n",
      "successfully saved to /data/jlai/dark_photon/jets_faking_photons/lumi135/mc23d_selectioncut/roc_curve_n_ph_baseline.png\n"
     ]
    },
    {
     "name": "stderr",
     "output_type": "stream",
     "text": [
      "/home/jlai/.local/lib/python3.8/site-packages/awkward/_nplikes/array_module.py:251: RuntimeWarning: invalid value encountered in divide\n",
      "  return impl(*broadcasted_args, **(kwargs or {}))\n"
     ]
    },
    {
     "name": "stdout",
     "output_type": "stream",
     "text": [
      "successfully saved to /data/jlai/dark_photon/jets_faking_photons/lumi135/mc23d_selectioncut/n_el_baseline_nodijet.png\n",
      "successfully saved to /data/jlai/dark_photon/jets_faking_photons/lumi135/mc23d_selectioncut/roc_curve_n_el_baseline.png\n"
     ]
    },
    {
     "name": "stderr",
     "output_type": "stream",
     "text": [
      "/home/jlai/.local/lib/python3.8/site-packages/awkward/_nplikes/array_module.py:251: RuntimeWarning: invalid value encountered in divide\n",
      "  return impl(*broadcasted_args, **(kwargs or {}))\n"
     ]
    },
    {
     "name": "stdout",
     "output_type": "stream",
     "text": [
      "successfully saved to /data/jlai/dark_photon/jets_faking_photons/lumi135/mc23d_selectioncut/n_mu_baseline_nodijet.png\n",
      "successfully saved to /data/jlai/dark_photon/jets_faking_photons/lumi135/mc23d_selectioncut/roc_curve_n_mu_baseline.png\n"
     ]
    },
    {
     "name": "stderr",
     "output_type": "stream",
     "text": [
      "/home/jlai/.local/lib/python3.8/site-packages/awkward/_nplikes/array_module.py:251: RuntimeWarning: invalid value encountered in divide\n",
      "  return impl(*broadcasted_args, **(kwargs or {}))\n"
     ]
    },
    {
     "name": "stdout",
     "output_type": "stream",
     "text": [
      "successfully saved to /data/jlai/dark_photon/jets_faking_photons/lumi135/mc23d_selectioncut/n_tau_baseline_nodijet.png\n",
      "successfully saved to /data/jlai/dark_photon/jets_faking_photons/lumi135/mc23d_selectioncut/roc_curve_n_tau_baseline.png\n"
     ]
    },
    {
     "name": "stderr",
     "output_type": "stream",
     "text": [
      "/home/jlai/.local/lib/python3.8/site-packages/awkward/_nplikes/array_module.py:251: RuntimeWarning: invalid value encountered in divide\n",
      "  return impl(*broadcasted_args, **(kwargs or {}))\n"
     ]
    },
    {
     "name": "stdout",
     "output_type": "stream",
     "text": [
      "successfully saved to /data/jlai/dark_photon/jets_faking_photons/lumi135/mc23d_selectioncut/mt_nodijet.png\n",
      "successfully saved to /data/jlai/dark_photon/jets_faking_photons/lumi135/mc23d_selectioncut/roc_curve_mt.png\n"
     ]
    },
    {
     "name": "stderr",
     "output_type": "stream",
     "text": [
      "/home/jlai/.local/lib/python3.8/site-packages/awkward/_nplikes/array_module.py:251: RuntimeWarning: invalid value encountered in divide\n",
      "  return impl(*broadcasted_args, **(kwargs or {}))\n"
     ]
    },
    {
     "name": "stdout",
     "output_type": "stream",
     "text": [
      "successfully saved to /data/jlai/dark_photon/jets_faking_photons/lumi135/mc23d_selectioncut/metsig_nodijet.png\n",
      "successfully saved to /data/jlai/dark_photon/jets_faking_photons/lumi135/mc23d_selectioncut/roc_curve_metsig.png\n"
     ]
    },
    {
     "name": "stderr",
     "output_type": "stream",
     "text": [
      "/home/jlai/.local/lib/python3.8/site-packages/awkward/_nplikes/array_module.py:251: RuntimeWarning: invalid value encountered in divide\n",
      "  return impl(*broadcasted_args, **(kwargs or {}))\n"
     ]
    },
    {
     "name": "stdout",
     "output_type": "stream",
     "text": [
      "successfully saved to /data/jlai/dark_photon/jets_faking_photons/lumi135/mc23d_selectioncut/metsigres_nodijet.png\n",
      "successfully saved to /data/jlai/dark_photon/jets_faking_photons/lumi135/mc23d_selectioncut/roc_curve_metsigres.png\n"
     ]
    },
    {
     "name": "stderr",
     "output_type": "stream",
     "text": [
      "/home/jlai/.local/lib/python3.8/site-packages/awkward/_nplikes/array_module.py:251: RuntimeWarning: invalid value encountered in sqrt\n",
      "  return impl(*broadcasted_args, **(kwargs or {}))\n",
      "/home/jlai/.local/lib/python3.8/site-packages/awkward/_nplikes/array_module.py:251: RuntimeWarning: invalid value encountered in divide\n",
      "  return impl(*broadcasted_args, **(kwargs or {}))\n"
     ]
    },
    {
     "name": "stdout",
     "output_type": "stream",
     "text": [
      "successfully saved to /data/jlai/dark_photon/jets_faking_photons/lumi135/mc23d_selectioncut/met_nodijet.png\n",
      "successfully saved to /data/jlai/dark_photon/jets_faking_photons/lumi135/mc23d_selectioncut/roc_curve_met.png\n"
     ]
    },
    {
     "name": "stderr",
     "output_type": "stream",
     "text": [
      "/home/jlai/.local/lib/python3.8/site-packages/awkward/_nplikes/array_module.py:251: RuntimeWarning: invalid value encountered in divide\n",
      "  return impl(*broadcasted_args, **(kwargs or {}))\n"
     ]
    },
    {
     "name": "stdout",
     "output_type": "stream",
     "text": [
      "successfully saved to /data/jlai/dark_photon/jets_faking_photons/lumi135/mc23d_selectioncut/met_noJVT_nodijet.png\n",
      "successfully saved to /data/jlai/dark_photon/jets_faking_photons/lumi135/mc23d_selectioncut/roc_curve_met_noJVT.png\n"
     ]
    },
    {
     "name": "stderr",
     "output_type": "stream",
     "text": [
      "/home/jlai/.local/lib/python3.8/site-packages/awkward/_nplikes/array_module.py:251: RuntimeWarning: invalid value encountered in divide\n",
      "  return impl(*broadcasted_args, **(kwargs or {}))\n"
     ]
    },
    {
     "name": "stdout",
     "output_type": "stream",
     "text": [
      "successfully saved to /data/jlai/dark_photon/jets_faking_photons/lumi135/mc23d_selectioncut/met_cst_nodijet.png\n",
      "successfully saved to /data/jlai/dark_photon/jets_faking_photons/lumi135/mc23d_selectioncut/roc_curve_met_cst.png\n"
     ]
    },
    {
     "name": "stderr",
     "output_type": "stream",
     "text": [
      "/home/jlai/.local/lib/python3.8/site-packages/awkward/_nplikes/array_module.py:251: RuntimeWarning: invalid value encountered in sqrt\n",
      "  return impl(*broadcasted_args, **(kwargs or {}))\n",
      "/home/jlai/.local/lib/python3.8/site-packages/awkward/_nplikes/array_module.py:251: RuntimeWarning: invalid value encountered in divide\n",
      "  return impl(*broadcasted_args, **(kwargs or {}))\n"
     ]
    },
    {
     "name": "stdout",
     "output_type": "stream",
     "text": [
      "successfully saved to /data/jlai/dark_photon/jets_faking_photons/lumi135/mc23d_selectioncut/met_track_nodijet.png\n",
      "successfully saved to /data/jlai/dark_photon/jets_faking_photons/lumi135/mc23d_selectioncut/roc_curve_met_track.png\n"
     ]
    },
    {
     "name": "stderr",
     "output_type": "stream",
     "text": [
      "/home/jlai/.local/lib/python3.8/site-packages/awkward/_nplikes/array_module.py:251: RuntimeWarning: invalid value encountered in divide\n",
      "  return impl(*broadcasted_args, **(kwargs or {}))\n"
     ]
    },
    {
     "name": "stdout",
     "output_type": "stream",
     "text": [
      "successfully saved to /data/jlai/dark_photon/jets_faking_photons/lumi135/mc23d_selectioncut/dmet_nodijet.png\n",
      "successfully saved to /data/jlai/dark_photon/jets_faking_photons/lumi135/mc23d_selectioncut/roc_curve_dmet.png\n"
     ]
    },
    {
     "name": "stderr",
     "output_type": "stream",
     "text": [
      "/home/jlai/.local/lib/python3.8/site-packages/awkward/_nplikes/array_module.py:251: RuntimeWarning: invalid value encountered in divide\n",
      "  return impl(*broadcasted_args, **(kwargs or {}))\n"
     ]
    },
    {
     "name": "stdout",
     "output_type": "stream",
     "text": [
      "successfully saved to /data/jlai/dark_photon/jets_faking_photons/lumi135/mc23d_selectioncut/ph_pt_nodijet.png\n",
      "successfully saved to /data/jlai/dark_photon/jets_faking_photons/lumi135/mc23d_selectioncut/roc_curve_ph_pt.png\n"
     ]
    },
    {
     "name": "stderr",
     "output_type": "stream",
     "text": [
      "/home/jlai/.local/lib/python3.8/site-packages/awkward/_nplikes/array_module.py:251: RuntimeWarning: invalid value encountered in divide\n",
      "  return impl(*broadcasted_args, **(kwargs or {}))\n"
     ]
    },
    {
     "name": "stdout",
     "output_type": "stream",
     "text": [
      "successfully saved to /data/jlai/dark_photon/jets_faking_photons/lumi135/mc23d_selectioncut/ph_eta_nodijet.png\n",
      "successfully saved to /data/jlai/dark_photon/jets_faking_photons/lumi135/mc23d_selectioncut/roc_curve_ph_eta.png\n"
     ]
    },
    {
     "name": "stderr",
     "output_type": "stream",
     "text": [
      "/home/jlai/.local/lib/python3.8/site-packages/awkward/_nplikes/array_module.py:251: RuntimeWarning: invalid value encountered in divide\n",
      "  return impl(*broadcasted_args, **(kwargs or {}))\n"
     ]
    },
    {
     "name": "stdout",
     "output_type": "stream",
     "text": [
      "successfully saved to /data/jlai/dark_photon/jets_faking_photons/lumi135/mc23d_selectioncut/ph_phi_nodijet.png\n",
      "successfully saved to /data/jlai/dark_photon/jets_faking_photons/lumi135/mc23d_selectioncut/roc_curve_ph_phi.png\n"
     ]
    },
    {
     "name": "stderr",
     "output_type": "stream",
     "text": [
      "/home/jlai/.local/lib/python3.8/site-packages/awkward/_nplikes/array_module.py:251: RuntimeWarning: invalid value encountered in divide\n",
      "  return impl(*broadcasted_args, **(kwargs or {}))\n"
     ]
    },
    {
     "name": "stdout",
     "output_type": "stream",
     "text": [
      "successfully saved to /data/jlai/dark_photon/jets_faking_photons/lumi135/mc23d_selectioncut/jet_central_eta_nodijet.png\n",
      "successfully saved to /data/jlai/dark_photon/jets_faking_photons/lumi135/mc23d_selectioncut/roc_curve_jet_central_eta.png\n"
     ]
    },
    {
     "name": "stderr",
     "output_type": "stream",
     "text": [
      "/home/jlai/.local/lib/python3.8/site-packages/awkward/_nplikes/array_module.py:251: RuntimeWarning: invalid value encountered in divide\n",
      "  return impl(*broadcasted_args, **(kwargs or {}))\n"
     ]
    },
    {
     "name": "stdout",
     "output_type": "stream",
     "text": [
      "successfully saved to /data/jlai/dark_photon/jets_faking_photons/lumi135/mc23d_selectioncut/jet_central_pt1_nodijet.png\n",
      "successfully saved to /data/jlai/dark_photon/jets_faking_photons/lumi135/mc23d_selectioncut/roc_curve_jet_central_pt1.png\n"
     ]
    },
    {
     "name": "stderr",
     "output_type": "stream",
     "text": [
      "/home/jlai/.local/lib/python3.8/site-packages/awkward/_nplikes/array_module.py:251: RuntimeWarning: invalid value encountered in divide\n",
      "  return impl(*broadcasted_args, **(kwargs or {}))\n"
     ]
    },
    {
     "name": "stdout",
     "output_type": "stream",
     "text": [
      "successfully saved to /data/jlai/dark_photon/jets_faking_photons/lumi135/mc23d_selectioncut/jet_central_pt2_nodijet.png\n",
      "successfully saved to /data/jlai/dark_photon/jets_faking_photons/lumi135/mc23d_selectioncut/roc_curve_jet_central_pt2.png\n"
     ]
    },
    {
     "name": "stderr",
     "output_type": "stream",
     "text": [
      "/home/jlai/.local/lib/python3.8/site-packages/awkward/_nplikes/array_module.py:251: RuntimeWarning: invalid value encountered in divide\n",
      "  return impl(*broadcasted_args, **(kwargs or {}))\n"
     ]
    },
    {
     "name": "stdout",
     "output_type": "stream",
     "text": [
      "successfully saved to /data/jlai/dark_photon/jets_faking_photons/lumi135/mc23d_selectioncut/jet_central_pt_nodijet.png\n",
      "successfully saved to /data/jlai/dark_photon/jets_faking_photons/lumi135/mc23d_selectioncut/roc_curve_jet_central_pt.png\n"
     ]
    },
    {
     "name": "stderr",
     "output_type": "stream",
     "text": [
      "/home/jlai/.local/lib/python3.8/site-packages/awkward/_nplikes/array_module.py:251: RuntimeWarning: invalid value encountered in divide\n",
      "  return impl(*broadcasted_args, **(kwargs or {}))\n"
     ]
    },
    {
     "name": "stdout",
     "output_type": "stream",
     "text": [
      "successfully saved to /data/jlai/dark_photon/jets_faking_photons/lumi135/mc23d_selectioncut/dphi_met_phterm_nodijet.png\n",
      "successfully saved to /data/jlai/dark_photon/jets_faking_photons/lumi135/mc23d_selectioncut/roc_curve_dphi_met_phterm.png\n"
     ]
    },
    {
     "name": "stderr",
     "output_type": "stream",
     "text": [
      "/home/jlai/.local/lib/python3.8/site-packages/awkward/_nplikes/array_module.py:251: RuntimeWarning: invalid value encountered in sqrt\n",
      "  return impl(*broadcasted_args, **(kwargs or {}))\n",
      "/home/jlai/.local/lib/python3.8/site-packages/awkward/_nplikes/array_module.py:251: RuntimeWarning: invalid value encountered in divide\n",
      "  return impl(*broadcasted_args, **(kwargs or {}))\n"
     ]
    },
    {
     "name": "stdout",
     "output_type": "stream",
     "text": [
      "successfully saved to /data/jlai/dark_photon/jets_faking_photons/lumi135/mc23d_selectioncut/dphi_met_ph_nodijet.png\n",
      "successfully saved to /data/jlai/dark_photon/jets_faking_photons/lumi135/mc23d_selectioncut/roc_curve_dphi_met_ph.png\n"
     ]
    },
    {
     "name": "stderr",
     "output_type": "stream",
     "text": [
      "/home/jlai/.local/lib/python3.8/site-packages/awkward/_nplikes/array_module.py:251: RuntimeWarning: invalid value encountered in divide\n",
      "  return impl(*broadcasted_args, **(kwargs or {}))\n"
     ]
    },
    {
     "name": "stdout",
     "output_type": "stream",
     "text": [
      "successfully saved to /data/jlai/dark_photon/jets_faking_photons/lumi135/mc23d_selectioncut/dphi_met_jetterm_nodijet.png\n",
      "successfully saved to /data/jlai/dark_photon/jets_faking_photons/lumi135/mc23d_selectioncut/roc_curve_dphi_met_jetterm.png\n"
     ]
    },
    {
     "name": "stderr",
     "output_type": "stream",
     "text": [
      "/home/jlai/.local/lib/python3.8/site-packages/awkward/_nplikes/array_module.py:251: RuntimeWarning: invalid value encountered in divide\n",
      "  return impl(*broadcasted_args, **(kwargs or {}))\n"
     ]
    },
    {
     "name": "stdout",
     "output_type": "stream",
     "text": [
      "successfully saved to /data/jlai/dark_photon/jets_faking_photons/lumi135/mc23d_selectioncut/dphi_phterm_jetterm_nodijet.png\n",
      "successfully saved to /data/jlai/dark_photon/jets_faking_photons/lumi135/mc23d_selectioncut/roc_curve_dphi_phterm_jetterm.png\n"
     ]
    },
    {
     "name": "stderr",
     "output_type": "stream",
     "text": [
      "/home/jlai/.local/lib/python3.8/site-packages/awkward/_nplikes/array_module.py:251: RuntimeWarning: invalid value encountered in divide\n",
      "  return impl(*broadcasted_args, **(kwargs or {}))\n"
     ]
    },
    {
     "name": "stdout",
     "output_type": "stream",
     "text": [
      "successfully saved to /data/jlai/dark_photon/jets_faking_photons/lumi135/mc23d_selectioncut/dphi_ph_centraljet1_nodijet.png\n",
      "successfully saved to /data/jlai/dark_photon/jets_faking_photons/lumi135/mc23d_selectioncut/roc_curve_dphi_ph_centraljet1.png\n"
     ]
    },
    {
     "name": "stderr",
     "output_type": "stream",
     "text": [
      "/home/jlai/.local/lib/python3.8/site-packages/awkward/_nplikes/array_module.py:251: RuntimeWarning: invalid value encountered in divide\n",
      "  return impl(*broadcasted_args, **(kwargs or {}))\n"
     ]
    },
    {
     "name": "stdout",
     "output_type": "stream",
     "text": [
      "successfully saved to /data/jlai/dark_photon/jets_faking_photons/lumi135/mc23d_selectioncut/dphi_ph_jet1_nodijet.png\n",
      "successfully saved to /data/jlai/dark_photon/jets_faking_photons/lumi135/mc23d_selectioncut/roc_curve_dphi_ph_jet1.png\n"
     ]
    },
    {
     "name": "stderr",
     "output_type": "stream",
     "text": [
      "/home/jlai/.local/lib/python3.8/site-packages/awkward/_nplikes/array_module.py:251: RuntimeWarning: invalid value encountered in divide\n",
      "  return impl(*broadcasted_args, **(kwargs or {}))\n"
     ]
    },
    {
     "name": "stdout",
     "output_type": "stream",
     "text": [
      "successfully saved to /data/jlai/dark_photon/jets_faking_photons/lumi135/mc23d_selectioncut/metplusph_nodijet.png\n",
      "successfully saved to /data/jlai/dark_photon/jets_faking_photons/lumi135/mc23d_selectioncut/roc_curve_metplusph.png\n"
     ]
    },
    {
     "name": "stderr",
     "output_type": "stream",
     "text": [
      "/home/jlai/.local/lib/python3.8/site-packages/awkward/_nplikes/array_module.py:251: RuntimeWarning: invalid value encountered in divide\n",
      "  return impl(*broadcasted_args, **(kwargs or {}))\n"
     ]
    },
    {
     "name": "stdout",
     "output_type": "stream",
     "text": [
      "successfully saved to /data/jlai/dark_photon/jets_faking_photons/lumi135/mc23d_selectioncut/failJVT_jet_pt_nodijet.png\n",
      "successfully saved to /data/jlai/dark_photon/jets_faking_photons/lumi135/mc23d_selectioncut/roc_curve_failJVT_jet_pt.png\n"
     ]
    },
    {
     "name": "stderr",
     "output_type": "stream",
     "text": [
      "/home/jlai/.local/lib/python3.8/site-packages/awkward/_nplikes/array_module.py:251: RuntimeWarning: invalid value encountered in sqrt\n",
      "  return impl(*broadcasted_args, **(kwargs or {}))\n"
     ]
    },
    {
     "name": "stdout",
     "output_type": "stream",
     "text": [
      "successfully saved to /data/jlai/dark_photon/jets_faking_photons/lumi135/mc23d_selectioncut/failJVT_jet_pt1_nodijet.png\n",
      "successfully saved to /data/jlai/dark_photon/jets_faking_photons/lumi135/mc23d_selectioncut/roc_curve_failJVT_jet_pt1.png\n"
     ]
    },
    {
     "name": "stderr",
     "output_type": "stream",
     "text": [
      "/home/jlai/.local/lib/python3.8/site-packages/awkward/_nplikes/array_module.py:251: RuntimeWarning: invalid value encountered in sqrt\n",
      "  return impl(*broadcasted_args, **(kwargs or {}))\n",
      "/home/jlai/.local/lib/python3.8/site-packages/awkward/_nplikes/array_module.py:251: RuntimeWarning: invalid value encountered in divide\n",
      "  return impl(*broadcasted_args, **(kwargs or {}))\n"
     ]
    },
    {
     "name": "stdout",
     "output_type": "stream",
     "text": [
      "successfully saved to /data/jlai/dark_photon/jets_faking_photons/lumi135/mc23d_selectioncut/softerm_nodijet.png\n",
      "successfully saved to /data/jlai/dark_photon/jets_faking_photons/lumi135/mc23d_selectioncut/roc_curve_softerm.png\n"
     ]
    },
    {
     "name": "stderr",
     "output_type": "stream",
     "text": [
      "/home/jlai/.local/lib/python3.8/site-packages/awkward/_nplikes/array_module.py:251: RuntimeWarning: invalid value encountered in sqrt\n",
      "  return impl(*broadcasted_args, **(kwargs or {}))\n",
      "/home/jlai/.local/lib/python3.8/site-packages/awkward/_nplikes/array_module.py:251: RuntimeWarning: invalid value encountered in divide\n",
      "  return impl(*broadcasted_args, **(kwargs or {}))\n"
     ]
    },
    {
     "name": "stdout",
     "output_type": "stream",
     "text": [
      "successfully saved to /data/jlai/dark_photon/jets_faking_photons/lumi135/mc23d_selectioncut/jetterm_nodijet.png\n",
      "successfully saved to /data/jlai/dark_photon/jets_faking_photons/lumi135/mc23d_selectioncut/roc_curve_jetterm.png\n"
     ]
    },
    {
     "name": "stderr",
     "output_type": "stream",
     "text": [
      "/home/jlai/.local/lib/python3.8/site-packages/awkward/_nplikes/array_module.py:251: RuntimeWarning: invalid value encountered in sqrt\n",
      "  return impl(*broadcasted_args, **(kwargs or {}))\n",
      "/home/jlai/.local/lib/python3.8/site-packages/awkward/_nplikes/array_module.py:251: RuntimeWarning: invalid value encountered in divide\n",
      "  return impl(*broadcasted_args, **(kwargs or {}))\n"
     ]
    },
    {
     "name": "stdout",
     "output_type": "stream",
     "text": [
      "successfully saved to /data/jlai/dark_photon/jets_faking_photons/lumi135/mc23d_selectioncut/jetterm_sumet_nodijet.png\n",
      "successfully saved to /data/jlai/dark_photon/jets_faking_photons/lumi135/mc23d_selectioncut/roc_curve_jetterm_sumet.png\n"
     ]
    },
    {
     "name": "stderr",
     "output_type": "stream",
     "text": [
      "/home/jlai/.local/lib/python3.8/site-packages/awkward/_nplikes/array_module.py:251: RuntimeWarning: invalid value encountered in divide\n",
      "  return impl(*broadcasted_args, **(kwargs or {}))\n"
     ]
    },
    {
     "name": "stdout",
     "output_type": "stream",
     "text": [
      "successfully saved to /data/jlai/dark_photon/jets_faking_photons/lumi135/mc23d_selectioncut/n_jet_nodijet.png\n",
      "successfully saved to /data/jlai/dark_photon/jets_faking_photons/lumi135/mc23d_selectioncut/roc_curve_n_jet.png\n"
     ]
    },
    {
     "name": "stderr",
     "output_type": "stream",
     "text": [
      "/home/jlai/.local/lib/python3.8/site-packages/awkward/_nplikes/array_module.py:251: RuntimeWarning: invalid value encountered in divide\n",
      "  return impl(*broadcasted_args, **(kwargs or {}))\n"
     ]
    },
    {
     "name": "stdout",
     "output_type": "stream",
     "text": [
      "successfully saved to /data/jlai/dark_photon/jets_faking_photons/lumi135/mc23d_selectioncut/n_jet_central_nodijet.png\n",
      "successfully saved to /data/jlai/dark_photon/jets_faking_photons/lumi135/mc23d_selectioncut/roc_curve_n_jet_central.png\n",
      "successfully saved to /data/jlai/dark_photon/jets_faking_photons/lumi135/mc23d_selectioncut/n_jet_fwd_nodijet.png\n",
      "successfully saved to /data/jlai/dark_photon/jets_faking_photons/lumi135/mc23d_selectioncut/roc_curve_n_jet_fwd.png\n"
     ]
    },
    {
     "name": "stderr",
     "output_type": "stream",
     "text": [
      "/home/jlai/.local/lib/python3.8/site-packages/awkward/_nplikes/array_module.py:251: RuntimeWarning: invalid value encountered in divide\n",
      "  return impl(*broadcasted_args, **(kwargs or {}))\n"
     ]
    },
    {
     "name": "stdout",
     "output_type": "stream",
     "text": [
      "successfully saved to /data/jlai/dark_photon/jets_faking_photons/lumi135/mc23d_selectioncut/dphi_met_central_jet_nodijet.png\n",
      "successfully saved to /data/jlai/dark_photon/jets_faking_photons/lumi135/mc23d_selectioncut/roc_curve_dphi_met_central_jet.png\n"
     ]
    },
    {
     "name": "stderr",
     "output_type": "stream",
     "text": [
      "/home/jlai/.local/lib/python3.8/site-packages/awkward/_nplikes/array_module.py:251: RuntimeWarning: invalid value encountered in sqrt\n",
      "  return impl(*broadcasted_args, **(kwargs or {}))\n",
      "/home/jlai/.local/lib/python3.8/site-packages/awkward/_nplikes/array_module.py:251: RuntimeWarning: invalid value encountered in divide\n",
      "  return impl(*broadcasted_args, **(kwargs or {}))\n"
     ]
    },
    {
     "name": "stdout",
     "output_type": "stream",
     "text": [
      "successfully saved to /data/jlai/dark_photon/jets_faking_photons/lumi135/mc23d_selectioncut/jet_central_timing1_nodijet.png\n",
      "successfully saved to /data/jlai/dark_photon/jets_faking_photons/lumi135/mc23d_selectioncut/roc_curve_jet_central_timing1.png\n"
     ]
    },
    {
     "name": "stderr",
     "output_type": "stream",
     "text": [
      "/home/jlai/.local/lib/python3.8/site-packages/awkward/_nplikes/array_module.py:251: RuntimeWarning: invalid value encountered in sqrt\n",
      "  return impl(*broadcasted_args, **(kwargs or {}))\n",
      "/home/jlai/.local/lib/python3.8/site-packages/awkward/_nplikes/array_module.py:251: RuntimeWarning: invalid value encountered in divide\n",
      "  return impl(*broadcasted_args, **(kwargs or {}))\n"
     ]
    },
    {
     "name": "stdout",
     "output_type": "stream",
     "text": [
      "successfully saved to /data/jlai/dark_photon/jets_faking_photons/lumi135/mc23d_selectioncut/jet_central_timing_nodijet.png\n",
      "successfully saved to /data/jlai/dark_photon/jets_faking_photons/lumi135/mc23d_selectioncut/roc_curve_jet_central_timing.png\n"
     ]
    },
    {
     "name": "stderr",
     "output_type": "stream",
     "text": [
      "/home/jlai/.local/lib/python3.8/site-packages/awkward/_nplikes/array_module.py:251: RuntimeWarning: invalid value encountered in divide\n",
      "  return impl(*broadcasted_args, **(kwargs or {}))\n"
     ]
    },
    {
     "name": "stdout",
     "output_type": "stream",
     "text": [
      "successfully saved to /data/jlai/dark_photon/jets_faking_photons/lumi135/mc23d_selectioncut/jet_central_emfrac_nodijet.png\n",
      "successfully saved to /data/jlai/dark_photon/jets_faking_photons/lumi135/mc23d_selectioncut/roc_curve_jet_central_emfrac.png\n"
     ]
    },
    {
     "name": "stderr",
     "output_type": "stream",
     "text": [
      "/home/jlai/.local/lib/python3.8/site-packages/awkward/_nplikes/array_module.py:251: RuntimeWarning: invalid value encountered in sqrt\n",
      "  return impl(*broadcasted_args, **(kwargs or {}))\n",
      "/home/jlai/.local/lib/python3.8/site-packages/awkward/_nplikes/array_module.py:251: RuntimeWarning: divide by zero encountered in divide\n",
      "  return impl(*broadcasted_args, **(kwargs or {}))\n",
      "/home/jlai/.local/lib/python3.8/site-packages/awkward/_nplikes/array_module.py:251: RuntimeWarning: invalid value encountered in divide\n",
      "  return impl(*broadcasted_args, **(kwargs or {}))\n"
     ]
    },
    {
     "name": "stdout",
     "output_type": "stream",
     "text": [
      "successfully saved to /data/jlai/dark_photon/jets_faking_photons/lumi135/mc23d_selectioncut/balance_nodijet.png\n",
      "successfully saved to /data/jlai/dark_photon/jets_faking_photons/lumi135/mc23d_selectioncut/roc_curve_balance.png\n"
     ]
    },
    {
     "name": "stderr",
     "output_type": "stream",
     "text": [
      "/home/jlai/.local/lib/python3.8/site-packages/awkward/_nplikes/array_module.py:251: RuntimeWarning: invalid value encountered in divide\n",
      "  return impl(*broadcasted_args, **(kwargs or {}))\n"
     ]
    },
    {
     "name": "stdout",
     "output_type": "stream",
     "text": [
      "successfully saved to /data/jlai/dark_photon/jets_faking_photons/lumi135/mc23d_selectioncut/balance_sumet_nodijet.png\n",
      "successfully saved to /data/jlai/dark_photon/jets_faking_photons/lumi135/mc23d_selectioncut/roc_curve_balance_sumet.png\n"
     ]
    },
    {
     "name": "stderr",
     "output_type": "stream",
     "text": [
      "/home/jlai/.local/lib/python3.8/site-packages/awkward/_nplikes/array_module.py:251: RuntimeWarning: invalid value encountered in divide\n",
      "  return impl(*broadcasted_args, **(kwargs or {}))\n"
     ]
    },
    {
     "name": "stdout",
     "output_type": "stream",
     "text": [
      "successfully saved to /data/jlai/dark_photon/jets_faking_photons/lumi135/mc23d_selectioncut/central_jets_fraction_nodijet.png\n",
      "successfully saved to /data/jlai/dark_photon/jets_faking_photons/lumi135/mc23d_selectioncut/roc_curve_central_jets_fraction.png\n"
     ]
    },
    {
     "name": "stderr",
     "output_type": "stream",
     "text": [
      "/home/jlai/.local/lib/python3.8/site-packages/awkward/_nplikes/array_module.py:251: RuntimeWarning: invalid value encountered in divide\n",
      "  return impl(*broadcasted_args, **(kwargs or {}))\n"
     ]
    },
    {
     "name": "stdout",
     "output_type": "stream",
     "text": [
      "successfully saved to /data/jlai/dark_photon/jets_faking_photons/lumi135/mc23d_selectioncut/trigger_nodijet.png\n",
      "successfully saved to /data/jlai/dark_photon/jets_faking_photons/lumi135/mc23d_selectioncut/roc_curve_trigger.png\n"
     ]
    },
    {
     "name": "stderr",
     "output_type": "stream",
     "text": [
      "/home/jlai/.local/lib/python3.8/site-packages/awkward/_nplikes/array_module.py:251: RuntimeWarning: invalid value encountered in divide\n",
      "  return impl(*broadcasted_args, **(kwargs or {}))\n"
     ]
    },
    {
     "name": "stdout",
     "output_type": "stream",
     "text": [
      "successfully saved to /data/jlai/dark_photon/jets_faking_photons/lumi135/mc23d_selectioncut/dphi_jj_nodijet.png\n",
      "successfully saved to /data/jlai/dark_photon/jets_faking_photons/lumi135/mc23d_selectioncut/roc_curve_dphi_jj.png\n"
     ]
    },
    {
     "name": "stderr",
     "output_type": "stream",
     "text": [
      "/home/jlai/.local/lib/python3.8/site-packages/awkward/_nplikes/array_module.py:251: RuntimeWarning: invalid value encountered in divide\n",
      "  return impl(*broadcasted_args, **(kwargs or {}))\n"
     ]
    },
    {
     "name": "stdout",
     "output_type": "stream",
     "text": [
      "successfully saved to /data/jlai/dark_photon/jets_faking_photons/lumi135/mc23d_selectioncut/VertexBDTScore_nodijet.png\n",
      "successfully saved to /data/jlai/dark_photon/jets_faking_photons/lumi135/mc23d_selectioncut/roc_curve_VertexBDTScore.png\n"
     ]
    }
   ],
   "source": [
    "tot2 = tot2_optimized_cuts\n",
    "cut_name = 'selection'\n",
    "var_config = getVarDict(tot2[0], 'ggHyyd')\n",
    "\n",
    "\n",
    "for var in var_config:\n",
    "    # print(var)\n",
    "    bg_values = []     \n",
    "    bg_weights = []    \n",
    "    bg_colors = []     \n",
    "    bg_labels = []     \n",
    "\n",
    "    signal_values = [] \n",
    "    signal_weights = []\n",
    "    signal_color = None \n",
    "    signal_label = None\n",
    "\n",
    "    for j in range(len(ntuple_names)):\n",
    "    # for j in range(len(ntuple_names)-1): # leave dijet out\n",
    "        process = ntuple_names[j]\n",
    "        fb = tot2[j]  # TTree\n",
    "        var_config = getVarDict(fb, process, var_name=var)\n",
    "\n",
    "        x = var_config[var]['var'] # TBranch\n",
    "        bins = var_config[var]['bins'] \n",
    "\n",
    "        if 'weight' in var_config[var]:  # If weight is there\n",
    "            weights = var_config[var]['weight']\n",
    "        else:\n",
    "            weights = getWeight(fb, process)\n",
    "        \n",
    "        sample_info = sample_dict[process]\n",
    "        color = sample_info['color']\n",
    "        legend = sample_info['legend']\n",
    "\n",
    "        \n",
    "        if process == 'ggHyyd':  # signal\n",
    "            signal_values.append(x)\n",
    "            signal_weights.append(weights)\n",
    "            signal_color = color\n",
    "            signal_label = legend\n",
    "        else:   # background\n",
    "            bg_values.append(x)\n",
    "            bg_weights.append(weights)\n",
    "            bg_colors.append(color)\n",
    "            bg_labels.append(legend)\n",
    "\n",
    "    fig, (ax_top, ax_bot) = plt.subplots(2, 1, figsize=(12, 13), gridspec_kw={'height_ratios': [9, 4]})\n",
    "\n",
    "    ax_top.hist(bg_values, bins=bins, weights=bg_weights, color=bg_colors,\n",
    "                label=bg_labels, stacked=True)\n",
    "\n",
    "    ax_top.hist(signal_values, bins=bins, weights=signal_weights, color=signal_color,\n",
    "                label=signal_label, histtype='step', linewidth=2)\n",
    "\n",
    "    signal_all = np.concatenate(signal_values) if len(signal_values) > 0 else np.array([])\n",
    "    signal_weights_all = np.concatenate(signal_weights) if len(signal_weights) > 0 else np.array([])\n",
    "\n",
    "    # Add error bar for signal (top plot)\n",
    "    if len(signal_all) > 0:\n",
    "        signal_counts, bin_edges = np.histogram(signal_all, bins=bins, weights=signal_weights_all)\n",
    "        sum_weights_sq, _ = np.histogram(signal_all, bins=bins, weights=signal_weights_all**2)\n",
    "        bin_centers = (bin_edges[:-1] + bin_edges[1:]) / 2\n",
    "        signal_errors = np.sqrt(sum_weights_sq)  # Poisson error sqrt(N)\n",
    "\n",
    "        ax_top.errorbar(bin_centers, signal_counts, yerr=signal_errors, fmt='.', linewidth=2,\n",
    "                        color=signal_color, capsize=0)\n",
    "\n",
    "    ax_top.set_yscale('log')\n",
    "    ax_top.set_ylim(0.0001, 1e11)\n",
    "    ax_top.set_xlim(bins[0], bins[-1])\n",
    "    ax_top.minorticks_on()\n",
    "    ax_top.grid(True, which=\"both\", linestyle=\"--\", linewidth=0.5)\n",
    "    ax_top.set_ylabel(\"Events\")\n",
    "    ax_top.legend(ncol=2)\n",
    "    # ax_top.set_title(\"vtx_sumPt distribution\")\n",
    "\n",
    "    bg_all = np.concatenate(bg_values) if len(bg_values) > 0 else np.array([])\n",
    "    bg_weights_all = np.concatenate(bg_weights) if len(bg_weights) > 0 else np.array([])\n",
    "\n",
    "    # Compute the weighted histogram counts using np.histogram\n",
    "    S_counts, _ = np.histogram(signal_all, bins=bins, weights=signal_weights_all)\n",
    "    B_counts, _ = np.histogram(bg_all, bins=bins, weights=bg_weights_all)     \n",
    "\n",
    "    # Compute per-bin significance\n",
    "    sig_simple = np.zeros_like(S_counts, dtype=float)\n",
    "    sig_s_plus_b = np.zeros_like(S_counts, dtype=float)\n",
    "    sig_s_plus_1p3b = np.zeros_like(S_counts, dtype=float)\n",
    "\n",
    "    sqrt_B = np.sqrt(B_counts)\n",
    "    sqrt_SplusB = np.sqrt(S_counts + B_counts)\n",
    "    sqrt_Splus1p3B = np.sqrt(S_counts + 1.3 * B_counts)\n",
    "\n",
    "    # Avoid division by zero safely\n",
    "    sig_simple = np.where(B_counts > 0, S_counts / sqrt_B, 0)\n",
    "    sig_s_plus_b = np.where((S_counts + B_counts) > 0, S_counts / sqrt_SplusB, 0)\n",
    "    sig_s_plus_1p3b = np.where((S_counts + 1.3 * B_counts) > 0, S_counts / sqrt_Splus1p3B, 0)\n",
    "\n",
    "    # Add Binomial ExpZ per bin\n",
    "    zbi_per_bin = np.array([\n",
    "        zbi(S_counts[i], B_counts[i], sigma_b_frac=0.3)\n",
    "        for i in range(len(S_counts))\n",
    "    ])\n",
    "\n",
    "    # Compute the bin centers for plotting\n",
    "    bin_centers = 0.5 * (bins[:-1] + bins[1:])\n",
    "\n",
    "    # Compute the total significance: total S / sqrt(total B)\n",
    "    total_signal = np.sum(S_counts)\n",
    "    total_bkg = np.sum(B_counts)\n",
    "\n",
    "    if total_bkg > 0:\n",
    "        total_sig_simple = total_signal / np.sqrt(total_bkg)\n",
    "        total_sig_s_plus_b = total_signal / np.sqrt(total_signal + total_bkg)\n",
    "        total_sig_s_plus_1p3b = total_signal / np.sqrt(total_signal + 1.3 * total_bkg)\n",
    "        total_sig_binomial = zbi(total_signal, total_bkg, sigma_b_frac=0.3)\n",
    "    else:\n",
    "        total_sig_simple = total_sig_s_plus_b = total_sig_s_plus_1p3b = total_sig_binomial = 0\n",
    "\n",
    "    # --- Plot all significance curves ---\n",
    "    ax_bot.step(bin_centers, sig_simple, where='mid', color='chocolate', linewidth=2,\n",
    "                label=f\"S/√B = {total_sig_simple:.4f}\")\n",
    "    ax_bot.step(bin_centers, sig_s_plus_b, where='mid', color='tomato', linewidth=2,\n",
    "                label=f\"S/√(S+B) = {total_sig_s_plus_b:.4f}\")\n",
    "    ax_bot.step(bin_centers, sig_s_plus_1p3b, where='mid', color='orange', linewidth=2,\n",
    "                label=f\"S/√(S+1.3B) = {total_sig_s_plus_1p3b:.4f}\")\n",
    "    ax_bot.step(bin_centers, zbi_per_bin, where='mid', color='plum', linewidth=2,\n",
    "                label=f\"Binomial ExpZ = {total_sig_binomial:.4f}\")\n",
    "\n",
    "    ax_bot.set_xlabel(var_config[var]['title'])\n",
    "    # ax_bot.set_xticks(np.linspace(bins[0], bins[-1], 11))\n",
    "    ax_bot.set_ylabel(\"Significance\")\n",
    "    ax_bot.set_ylim(-0.8, 2)\n",
    "    ax_top.set_xlim(bins[0], bins[-1])\n",
    "\n",
    "    # Do not set a title on the bottom plot.\n",
    "    ax_bot.set_title(\"\")\n",
    "\n",
    "    # Draw a legend with purple text.\n",
    "    leg = ax_bot.legend()\n",
    "    for text in leg.get_texts():\n",
    "        text.set_color('purple')\n",
    "\n",
    "    plt.xlim(bins[0], bins[-1])\n",
    "    plt.tight_layout()\n",
    "    plt.savefig(f\"/data/jlai/dark_photon/jets_faking_photons/lumi135/mc23d_{cut_name}cut/{var}_nodijet.png\")\n",
    "    print(f\"successfully saved to /data/jlai/dark_photon/jets_faking_photons/lumi135/mc23d_{cut_name}cut/{var}_nodijet.png\")\n",
    "    plt.close()\n",
    "    # plt.show()\n",
    "\n",
    "    y_true = np.concatenate([np.ones_like(signal_all), np.zeros_like(bg_all)])\n",
    "    # Use the vtx_sumPt values as the classifier output.\n",
    "    y_scores = np.concatenate([signal_all, bg_all])\n",
    "    # Combine the weights for all events.\n",
    "    y_weights = np.concatenate([signal_weights_all, bg_weights_all])\n",
    "\n",
    "    # Compute the weighted ROC curve.\n",
    "    fpr, tpr, thresholds = roc_curve(y_true, y_scores, sample_weight=y_weights)\n",
    "    sorted_indices = np.argsort(fpr)\n",
    "    fpr_sorted = fpr[sorted_indices]\n",
    "    tpr_sorted = tpr[sorted_indices]\n",
    "\n",
    "    roc_auc = auc(fpr_sorted, tpr_sorted)\n",
    "\n",
    "    # Create a new figure for the ROC curve.\n",
    "    plt.figure(figsize=(8, 8))\n",
    "    plt.plot(fpr, tpr, lw=2, color='red', label=f'ROC curve (AUC = {roc_auc:.5f})')\n",
    "    plt.plot([0, 1], [0, 1], linestyle='--', color='gray', label='Random chance')\n",
    "    plt.xlabel(\"False Positive Rate\")\n",
    "    plt.ylabel(\"True Positive Rate\")\n",
    "    plt.title(f\"ROC Curve for {var}\")\n",
    "    plt.legend(loc=\"lower right\")\n",
    "    plt.grid(True, which=\"both\", linestyle=\"--\", linewidth=0.5)\n",
    "    plt.tight_layout()    \n",
    "    plt.savefig(f\"/data/jlai/dark_photon/jets_faking_photons/lumi135/mc23d_{cut_name}cut/roc_curve_{var}.png\")\n",
    "    print(f\"successfully saved to /data/jlai/dark_photon/jets_faking_photons/lumi135/mc23d_{cut_name}cut/roc_curve_{var}.png\")\n",
    "    plt.close()\n",
    "    # plt.show()\n"
   ]
  },
  {
   "cell_type": "code",
   "execution_count": null,
   "id": "4c7f3179-ac24-4b32-8ec2-2d32b2dcd3e0",
   "metadata": {},
   "outputs": [],
   "source": []
  }
 ],
 "metadata": {
  "kernelspec": {
   "display_name": "Python 3 (ipykernel)",
   "language": "python",
   "name": "python3"
  },
  "language_info": {
   "codemirror_mode": {
    "name": "ipython",
    "version": 3
   },
   "file_extension": ".py",
   "mimetype": "text/x-python",
   "name": "python",
   "nbconvert_exporter": "python",
   "pygments_lexer": "ipython3",
   "version": "3.8.10"
  }
 },
 "nbformat": 4,
 "nbformat_minor": 5
}
