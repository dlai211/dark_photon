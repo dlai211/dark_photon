{
 "cells": [
  {
   "cell_type": "code",
   "execution_count": 1,
   "id": "1a2792ed-2270-418d-ab56-df5991c8a74e",
   "metadata": {
    "scrolled": true
   },
   "outputs": [
    {
     "name": "stderr",
     "output_type": "stream",
     "text": [
      "2025-08-21 04:31:47.195160: E external/local_xla/xla/stream_executor/cuda/cuda_fft.cc:477] Unable to register cuFFT factory: Attempting to register factory for plugin cuFFT when one has already been registered\n",
      "WARNING: All log messages before absl::InitializeLog() is called are written to STDERR\n",
      "E0000 00:00:1755750707.212318     894 cuda_dnn.cc:8310] Unable to register cuDNN factory: Attempting to register factory for plugin cuDNN when one has already been registered\n",
      "E0000 00:00:1755750707.218532     894 cuda_blas.cc:1418] Unable to register cuBLAS factory: Attempting to register factory for plugin cuBLAS when one has already been registered\n",
      "2025-08-21 04:31:47.236514: I tensorflow/core/platform/cpu_feature_guard.cc:210] This TensorFlow binary is optimized to use available CPU instructions in performance-critical operations.\n",
      "To enable the following instructions: AVX512F, in other operations, rebuild TensorFlow with the appropriate compiler flags.\n"
     ]
    }
   ],
   "source": [
    "import numpy as np\n",
    "import pandas as pd\n",
    "import matplotlib.pyplot as plt\n",
    "import seaborn as sns\n",
    "import uproot, wandb, os, logging, json, random\n",
    "import awkward as ak\n",
    "from copy import deepcopy\n",
    "from matplotlib.ticker import FormatStrFormatter\n",
    "from scipy.stats import randint, uniform\n",
    "\n",
    "# ML\n",
    "from sklearn.metrics import roc_curve, roc_auc_score, auc, accuracy_score, log_loss, classification_report\n",
    "from sklearn.model_selection import train_test_split\n",
    "from xgboost import XGBClassifier\n",
    "from sklearn.model_selection import RandomizedSearchCV, GridSearchCV, train_test_split\n",
    "from sklearn.impute import SimpleImputer\n",
    "from sklearn.preprocessing import StandardScaler, OneHotEncoder\n",
    "from sklearn.compose import ColumnTransformer\n",
    "from sklearn.pipeline import Pipeline\n",
    "\n",
    "# ML model\n",
    "from sklearn.model_selection import train_test_split, RandomizedSearchCV\n",
    "from sklearn.metrics import roc_auc_score, roc_curve, log_loss, accuracy_score\n",
    "from sklearn.neural_network import MLPClassifier\n",
    "from sklearn.linear_model import LogisticRegression\n",
    "from sklearn.ensemble import RandomForestClassifier\n",
    "from xgboost import XGBClassifier\n",
    "from lightgbm import LGBMClassifier\n",
    "\n",
    "# Tensorflow\n",
    "import os\n",
    "os.environ[\"XLA_FLAGS\"] = \"--xla_gpu_cuda_data_dir=/home/jlai/.local/share/mamba/envs/tf-gpu\"\n",
    "\n",
    "import tensorflow as tf\n",
    "from tensorflow.keras.models import Sequential\n",
    "from tensorflow.keras.layers import Dense, Dropout\n",
    "from tensorflow.keras.callbacks import EarlyStopping\n",
    "from tensorflow.keras.models import load_model\n",
    "\n",
    "# wandb\n",
    "import wandb\n",
    "from wandb.integration.keras import WandbMetricsLogger\n",
    "\n",
    "# Config\n",
    "from bdt_config import sample_dict, zbi, getVarDict\n",
    "from bdt_config import Vars, Vars2, Vars3, Vars_drop, Vars_plot\n",
    "from bdt_config import variables, ntuple_name, ntuple_name_BDT\n",
    "\n",
    "# Set up plot defaults\n",
    "import matplotlib as mpl\n",
    "mpl.rcParams['figure.figsize'] = 12.0,8.0  # Roughly 11 cm wde by 8 cm high\n",
    "mpl.rcParams['font.size'] = 14.0 # Use 14 point font\n",
    "sns.set(style=\"whitegrid\")\n",
    "\n",
    "# Check for gpu\n",
    "# torch.cuda.is_available()"
   ]
  },
  {
   "cell_type": "code",
   "execution_count": 2,
   "id": "f0ec91f9-634a-466f-9b31-74604db43044",
   "metadata": {},
   "outputs": [
    {
     "data": {
      "text/html": [
       "<div>\n",
       "<style scoped>\n",
       "    .dataframe tbody tr th:only-of-type {\n",
       "        vertical-align: middle;\n",
       "    }\n",
       "\n",
       "    .dataframe tbody tr th {\n",
       "        vertical-align: top;\n",
       "    }\n",
       "\n",
       "    .dataframe thead th {\n",
       "        text-align: right;\n",
       "    }\n",
       "</style>\n",
       "<table border=\"1\" class=\"dataframe\">\n",
       "  <thead>\n",
       "    <tr style=\"text-align: right;\">\n",
       "      <th></th>\n",
       "      <th>balance</th>\n",
       "      <th>BDTScore</th>\n",
       "      <th>dmet</th>\n",
       "      <th>dphi_jj</th>\n",
       "      <th>dphi_met_central_jet</th>\n",
       "      <th>dphi_met_phterm</th>\n",
       "      <th>dphi_met_ph</th>\n",
       "      <th>dphi_met_jetterm</th>\n",
       "      <th>dphi_phterm_jetterm</th>\n",
       "      <th>dphi_ph_centraljet1</th>\n",
       "      <th>...</th>\n",
       "      <th>metsig</th>\n",
       "      <th>metsigres</th>\n",
       "      <th>met</th>\n",
       "      <th>met_noJVT</th>\n",
       "      <th>metplusph</th>\n",
       "      <th>failJVT_jet_pt1</th>\n",
       "      <th>softerm</th>\n",
       "      <th>n_jet_central</th>\n",
       "      <th>weights</th>\n",
       "      <th>label</th>\n",
       "    </tr>\n",
       "  </thead>\n",
       "  <tbody>\n",
       "    <tr>\n",
       "      <th>count</th>\n",
       "      <td>3.299733e+06</td>\n",
       "      <td>3.299733e+06</td>\n",
       "      <td>3.299733e+06</td>\n",
       "      <td>3.299733e+06</td>\n",
       "      <td>3.299733e+06</td>\n",
       "      <td>3.299733e+06</td>\n",
       "      <td>3.299733e+06</td>\n",
       "      <td>3.299733e+06</td>\n",
       "      <td>3.299733e+06</td>\n",
       "      <td>3.299733e+06</td>\n",
       "      <td>...</td>\n",
       "      <td>3.299733e+06</td>\n",
       "      <td>3.299733e+06</td>\n",
       "      <td>3.299733e+06</td>\n",
       "      <td>3.299733e+06</td>\n",
       "      <td>3.299733e+06</td>\n",
       "      <td>3.299733e+06</td>\n",
       "      <td>3.299733e+06</td>\n",
       "      <td>3.299733e+06</td>\n",
       "      <td>3.299733e+06</td>\n",
       "      <td>3.299733e+06</td>\n",
       "    </tr>\n",
       "    <tr>\n",
       "      <th>mean</th>\n",
       "      <td>-1.745489e+02</td>\n",
       "      <td>1.251438e-01</td>\n",
       "      <td>-1.663472e+03</td>\n",
       "      <td>-4.654471e+02</td>\n",
       "      <td>-1.848742e+02</td>\n",
       "      <td>4.027364e-01</td>\n",
       "      <td>2.738863e+00</td>\n",
       "      <td>-1.317202e+02</td>\n",
       "      <td>-1.313245e+02</td>\n",
       "      <td>-1.842713e+02</td>\n",
       "      <td>...</td>\n",
       "      <td>1.190690e+01</td>\n",
       "      <td>2.709180e+04</td>\n",
       "      <td>1.947991e+05</td>\n",
       "      <td>1.931356e+05</td>\n",
       "      <td>8.173447e+05</td>\n",
       "      <td>8.082155e+03</td>\n",
       "      <td>9.400769e+03</td>\n",
       "      <td>1.752871e+00</td>\n",
       "      <td>6.037499e-01</td>\n",
       "      <td>1.390112e-03</td>\n",
       "    </tr>\n",
       "    <tr>\n",
       "      <th>std</th>\n",
       "      <td>3.835393e+02</td>\n",
       "      <td>1.348625e-01</td>\n",
       "      <td>1.103691e+04</td>\n",
       "      <td>4.990919e+02</td>\n",
       "      <td>3.894295e+02</td>\n",
       "      <td>6.314438e-01</td>\n",
       "      <td>6.313106e-01</td>\n",
       "      <td>3.400961e+02</td>\n",
       "      <td>3.402509e+02</td>\n",
       "      <td>3.897176e+02</td>\n",
       "      <td>...</td>\n",
       "      <td>1.038910e+01</td>\n",
       "      <td>2.307818e+04</td>\n",
       "      <td>1.623949e+05</td>\n",
       "      <td>1.632818e+05</td>\n",
       "      <td>8.139494e+05</td>\n",
       "      <td>1.485037e+04</td>\n",
       "      <td>5.880428e+03</td>\n",
       "      <td>1.232225e+00</td>\n",
       "      <td>7.646898e+00</td>\n",
       "      <td>3.725829e-02</td>\n",
       "    </tr>\n",
       "    <tr>\n",
       "      <th>min</th>\n",
       "      <td>-9.990000e+02</td>\n",
       "      <td>-3.265468e-01</td>\n",
       "      <td>-1.712589e+05</td>\n",
       "      <td>-9.990000e+02</td>\n",
       "      <td>-9.990000e+02</td>\n",
       "      <td>0.000000e+00</td>\n",
       "      <td>1.167295e-02</td>\n",
       "      <td>-9.990000e+02</td>\n",
       "      <td>-9.990000e+02</td>\n",
       "      <td>-9.990000e+02</td>\n",
       "      <td>...</td>\n",
       "      <td>2.269695e-01</td>\n",
       "      <td>8.526343e+03</td>\n",
       "      <td>1.000000e+05</td>\n",
       "      <td>2.001940e+03</td>\n",
       "      <td>1.500329e+05</td>\n",
       "      <td>-9.990000e+02</td>\n",
       "      <td>0.000000e+00</td>\n",
       "      <td>0.000000e+00</td>\n",
       "      <td>-9.143369e+01</td>\n",
       "      <td>0.000000e+00</td>\n",
       "    </tr>\n",
       "    <tr>\n",
       "      <th>25%</th>\n",
       "      <td>9.546858e-01</td>\n",
       "      <td>8.068899e-03</td>\n",
       "      <td>0.000000e+00</td>\n",
       "      <td>-9.990000e+02</td>\n",
       "      <td>4.369926e-02</td>\n",
       "      <td>5.094965e-02</td>\n",
       "      <td>2.728096e+00</td>\n",
       "      <td>2.204334e-01</td>\n",
       "      <td>5.477069e-01</td>\n",
       "      <td>3.878704e-01</td>\n",
       "      <td>...</td>\n",
       "      <td>3.802686e+00</td>\n",
       "      <td>1.057160e+04</td>\n",
       "      <td>1.177408e+05</td>\n",
       "      <td>1.162434e+05</td>\n",
       "      <td>2.738635e+05</td>\n",
       "      <td>-9.990000e+02</td>\n",
       "      <td>4.993511e+03</td>\n",
       "      <td>1.000000e+00</td>\n",
       "      <td>1.026595e-04</td>\n",
       "      <td>0.000000e+00</td>\n",
       "    </tr>\n",
       "    <tr>\n",
       "      <th>50%</th>\n",
       "      <td>1.283851e+00</td>\n",
       "      <td>1.647640e-01</td>\n",
       "      <td>0.000000e+00</td>\n",
       "      <td>1.517193e-01</td>\n",
       "      <td>4.694079e-01</td>\n",
       "      <td>1.503438e-01</td>\n",
       "      <td>2.991172e+00</td>\n",
       "      <td>1.017702e+00</td>\n",
       "      <td>2.089735e+00</td>\n",
       "      <td>2.023582e+00</td>\n",
       "      <td>...</td>\n",
       "      <td>1.024574e+01</td>\n",
       "      <td>1.767059e+04</td>\n",
       "      <td>1.480967e+05</td>\n",
       "      <td>1.473863e+05</td>\n",
       "      <td>4.551331e+05</td>\n",
       "      <td>-9.990000e+02</td>\n",
       "      <td>8.329055e+03</td>\n",
       "      <td>2.000000e+00</td>\n",
       "      <td>1.174600e-02</td>\n",
       "      <td>0.000000e+00</td>\n",
       "    </tr>\n",
       "    <tr>\n",
       "      <th>75%</th>\n",
       "      <td>2.922425e+00</td>\n",
       "      <td>2.371679e-01</td>\n",
       "      <td>0.000000e+00</td>\n",
       "      <td>1.378248e+00</td>\n",
       "      <td>2.476912e+00</td>\n",
       "      <td>4.133940e-01</td>\n",
       "      <td>3.090613e+00</td>\n",
       "      <td>2.863652e+00</td>\n",
       "      <td>3.105098e+00</td>\n",
       "      <td>3.039348e+00</td>\n",
       "      <td>...</td>\n",
       "      <td>1.590387e+01</td>\n",
       "      <td>3.643209e+04</td>\n",
       "      <td>2.160463e+05</td>\n",
       "      <td>2.158321e+05</td>\n",
       "      <td>1.013744e+06</td>\n",
       "      <td>2.159741e+04</td>\n",
       "      <td>1.265224e+04</td>\n",
       "      <td>3.000000e+00</td>\n",
       "      <td>5.386639e-02</td>\n",
       "      <td>0.000000e+00</td>\n",
       "    </tr>\n",
       "    <tr>\n",
       "      <th>max</th>\n",
       "      <td>2.663229e+02</td>\n",
       "      <td>4.375860e-01</td>\n",
       "      <td>1.246841e+05</td>\n",
       "      <td>3.141591e+00</td>\n",
       "      <td>3.141592e+00</td>\n",
       "      <td>3.141593e+00</td>\n",
       "      <td>3.141593e+00</td>\n",
       "      <td>3.141593e+00</td>\n",
       "      <td>3.141593e+00</td>\n",
       "      <td>3.141592e+00</td>\n",
       "      <td>...</td>\n",
       "      <td>2.823775e+02</td>\n",
       "      <td>6.173285e+06</td>\n",
       "      <td>1.470684e+08</td>\n",
       "      <td>1.470684e+08</td>\n",
       "      <td>1.490961e+08</td>\n",
       "      <td>5.999986e+04</td>\n",
       "      <td>1.022158e+05</td>\n",
       "      <td>4.000000e+00</td>\n",
       "      <td>1.221239e+04</td>\n",
       "      <td>1.000000e+00</td>\n",
       "    </tr>\n",
       "  </tbody>\n",
       "</table>\n",
       "<p>8 rows × 28 columns</p>\n",
       "</div>"
      ],
      "text/plain": [
       "            balance      BDTScore          dmet       dphi_jj  \\\n",
       "count  3.299733e+06  3.299733e+06  3.299733e+06  3.299733e+06   \n",
       "mean  -1.745489e+02  1.251438e-01 -1.663472e+03 -4.654471e+02   \n",
       "std    3.835393e+02  1.348625e-01  1.103691e+04  4.990919e+02   \n",
       "min   -9.990000e+02 -3.265468e-01 -1.712589e+05 -9.990000e+02   \n",
       "25%    9.546858e-01  8.068899e-03  0.000000e+00 -9.990000e+02   \n",
       "50%    1.283851e+00  1.647640e-01  0.000000e+00  1.517193e-01   \n",
       "75%    2.922425e+00  2.371679e-01  0.000000e+00  1.378248e+00   \n",
       "max    2.663229e+02  4.375860e-01  1.246841e+05  3.141591e+00   \n",
       "\n",
       "       dphi_met_central_jet  dphi_met_phterm   dphi_met_ph  dphi_met_jetterm  \\\n",
       "count          3.299733e+06     3.299733e+06  3.299733e+06      3.299733e+06   \n",
       "mean          -1.848742e+02     4.027364e-01  2.738863e+00     -1.317202e+02   \n",
       "std            3.894295e+02     6.314438e-01  6.313106e-01      3.400961e+02   \n",
       "min           -9.990000e+02     0.000000e+00  1.167295e-02     -9.990000e+02   \n",
       "25%            4.369926e-02     5.094965e-02  2.728096e+00      2.204334e-01   \n",
       "50%            4.694079e-01     1.503438e-01  2.991172e+00      1.017702e+00   \n",
       "75%            2.476912e+00     4.133940e-01  3.090613e+00      2.863652e+00   \n",
       "max            3.141592e+00     3.141593e+00  3.141593e+00      3.141593e+00   \n",
       "\n",
       "       dphi_phterm_jetterm  dphi_ph_centraljet1  ...        metsig  \\\n",
       "count         3.299733e+06         3.299733e+06  ...  3.299733e+06   \n",
       "mean         -1.313245e+02        -1.842713e+02  ...  1.190690e+01   \n",
       "std           3.402509e+02         3.897176e+02  ...  1.038910e+01   \n",
       "min          -9.990000e+02        -9.990000e+02  ...  2.269695e-01   \n",
       "25%           5.477069e-01         3.878704e-01  ...  3.802686e+00   \n",
       "50%           2.089735e+00         2.023582e+00  ...  1.024574e+01   \n",
       "75%           3.105098e+00         3.039348e+00  ...  1.590387e+01   \n",
       "max           3.141593e+00         3.141592e+00  ...  2.823775e+02   \n",
       "\n",
       "          metsigres           met     met_noJVT     metplusph  \\\n",
       "count  3.299733e+06  3.299733e+06  3.299733e+06  3.299733e+06   \n",
       "mean   2.709180e+04  1.947991e+05  1.931356e+05  8.173447e+05   \n",
       "std    2.307818e+04  1.623949e+05  1.632818e+05  8.139494e+05   \n",
       "min    8.526343e+03  1.000000e+05  2.001940e+03  1.500329e+05   \n",
       "25%    1.057160e+04  1.177408e+05  1.162434e+05  2.738635e+05   \n",
       "50%    1.767059e+04  1.480967e+05  1.473863e+05  4.551331e+05   \n",
       "75%    3.643209e+04  2.160463e+05  2.158321e+05  1.013744e+06   \n",
       "max    6.173285e+06  1.470684e+08  1.470684e+08  1.490961e+08   \n",
       "\n",
       "       failJVT_jet_pt1       softerm  n_jet_central       weights  \\\n",
       "count     3.299733e+06  3.299733e+06   3.299733e+06  3.299733e+06   \n",
       "mean      8.082155e+03  9.400769e+03   1.752871e+00  6.037499e-01   \n",
       "std       1.485037e+04  5.880428e+03   1.232225e+00  7.646898e+00   \n",
       "min      -9.990000e+02  0.000000e+00   0.000000e+00 -9.143369e+01   \n",
       "25%      -9.990000e+02  4.993511e+03   1.000000e+00  1.026595e-04   \n",
       "50%      -9.990000e+02  8.329055e+03   2.000000e+00  1.174600e-02   \n",
       "75%       2.159741e+04  1.265224e+04   3.000000e+00  5.386639e-02   \n",
       "max       5.999986e+04  1.022158e+05   4.000000e+00  1.221239e+04   \n",
       "\n",
       "              label  \n",
       "count  3.299733e+06  \n",
       "mean   1.390112e-03  \n",
       "std    3.725829e-02  \n",
       "min    0.000000e+00  \n",
       "25%    0.000000e+00  \n",
       "50%    0.000000e+00  \n",
       "75%    0.000000e+00  \n",
       "max    1.000000e+00  \n",
       "\n",
       "[8 rows x 28 columns]"
      ]
     },
     "execution_count": 2,
     "metadata": {},
     "output_type": "execute_result"
    }
   ],
   "source": [
    "# path = '/data/projects/campfire-workshop/dark_photon/ML_input/BDT_input_basic.csv'\n",
    "path = '/data/jlai/ntups/csv/jet_faking_BDT_input_basic2.csv'  \n",
    "df = pd.read_csv(path)\n",
    "df.describe()"
   ]
  },
  {
   "cell_type": "code",
   "execution_count": 3,
   "id": "3b1d6946-1e2d-4e5b-8cf6-53a43bd6d5fd",
   "metadata": {},
   "outputs": [
    {
     "name": "stdout",
     "output_type": "stream",
     "text": [
      "Number of event with negative weights : 218306\n",
      "signal sum weight after: 461.92219571760535  bkg sum weight:  2044177.3406631786\n",
      "signal sum weight after: 2044177.3406631823  bkg sum weight:  2044177.3406631786\n",
      "Number of nan in each variable: \n",
      "balance                  586964\n",
      "BDTScore                      0\n",
      "dmet                          1\n",
      "dphi_jj                 1539870\n",
      "dphi_met_central_jet     614421\n",
      "dphi_met_phterm               0\n",
      "dphi_phterm_jetterm      439783\n",
      "ph_phi                        0\n",
      "jet_central_eta          586964\n",
      "jet_central_pt2         1539870\n",
      "jetterm                       0\n",
      "metsig                        0\n",
      "metsigres                     0\n",
      "met_noJVT                     0\n",
      "softerm                       0\n",
      "n_jet_central                 0\n",
      "weights                       0\n",
      "label                         0\n",
      "process                       0\n",
      "ph_eta                        0\n",
      "ph_pt                         0\n",
      "dtype: int64\n"
     ]
    }
   ],
   "source": [
    "# === Data Perparation ===\n",
    "df_Vars2 = df[Vars2].copy()  # upright variables\n",
    "df_Vars3 = df[Vars3].copy()  # inversed variables\n",
    "df_Vars3.replace(-999, np.nan, inplace=True)\n",
    "df_Vars3_inverted = 1 / df_Vars3.replace({0: np.nan})  # Avoid division by zero\n",
    "\n",
    "df_ml_input = pd.concat([df_Vars2, df_Vars3_inverted], axis=1)\n",
    "df_ml_input.replace(-999, np.nan, inplace=True)\n",
    "print(\"Number of event with negative weights :\", np.sum(df_ml_input.weights < 0))\n",
    "df_ml_input[\"weights\"] = df_ml_input[\"weights\"].abs() # some of the weights are negative\n",
    "\n",
    "# Renormalize weighting for signal and bkg\n",
    "sum_weights_signal = sum(df_ml_input[df_ml_input.label == 1].weights)\n",
    "sum_weights_bkg = sum(df_ml_input[df_ml_input.label == 0].weights)\n",
    "df_ml_input2 = df_ml_input.copy()\n",
    "mask_sig = df_ml_input2.label == 1\n",
    "df_ml_input2.loc[mask_sig, 'weights'] = df_ml_input.loc[mask_sig, 'weights'] * (sum_weights_bkg / sum_weights_signal)\n",
    "print('signal sum weight after:', sum(df_ml_input[df_ml_input.label == 1].weights), ' bkg sum weight: ', sum(df_ml_input[df_ml_input.label == 0].weights))\n",
    "print('signal sum weight after:', sum(df_ml_input2[df_ml_input2.label == 1].weights), ' bkg sum weight: ', sum(df_ml_input2[df_ml_input2.label == 0].weights))\n",
    "\n",
    "print(\"Number of nan in each variable: \")\n",
    "print(df_ml_input.isna().sum())\n",
    "\n",
    "X = df_ml_input.drop(Vars_drop, axis=1)\n",
    "non_zero_nan = X.isna().sum()\n",
    "non_zero_nan_loc = np.where(np.array(non_zero_nan) != 0)\n",
    "non_zero_nan_keys = non_zero_nan.keys()[non_zero_nan_loc]\n",
    "for key in non_zero_nan_keys:\n",
    "    X[key+\"_is_nan\"] = X[key].isnull().astype(int)\n",
    "\n",
    "y = df_ml_input['label']\n",
    "weights = df_ml_input['weights']\n",
    "\n",
    "scaler = StandardScaler()\n",
    "X_scaled = scaler.fit_transform(X) # mean = 0, sigma = 1\n",
    "X_scaled[np.isnan(X_scaled)] = 2.5  # setting the nan values to 2.5 sigma (still within the range)\n",
    "\n",
    "feature_names = list(X.columns)\n",
    "\n",
    "X_train, X_test, y_train, y_test, w_train, w_test = train_test_split(\n",
    "    X_scaled, y, weights, test_size=0.3, stratify=y, random_state=42\n",
    ")"
   ]
  },
  {
   "cell_type": "code",
   "execution_count": 4,
   "id": "f9d32c7d-ccb2-4019-856c-5af3ce48443d",
   "metadata": {},
   "outputs": [
    {
     "name": "stdout",
     "output_type": "stream",
     "text": [
      "Create sweep with ID: rg1dnn5u\n",
      "Sweep URL: https://wandb.ai/dlai211/tf-dnn-weighted-classifier/sweeps/rg1dnn5u\n"
     ]
    },
    {
     "name": "stderr",
     "output_type": "stream",
     "text": [
      "\u001b[34m\u001b[1mwandb\u001b[0m: Agent Starting Run: siefxoek with config:\n",
      "\u001b[34m\u001b[1mwandb\u001b[0m: \tbatch_size: 1024\n",
      "\u001b[34m\u001b[1mwandb\u001b[0m: \tdropout: 0.4566775965699654\n",
      "\u001b[34m\u001b[1mwandb\u001b[0m: \tepochs: 50\n",
      "\u001b[34m\u001b[1mwandb\u001b[0m: \tlayer_1: 128\n",
      "\u001b[34m\u001b[1mwandb\u001b[0m: \tlayer_2: 384\n",
      "\u001b[34m\u001b[1mwandb\u001b[0m: \tlayer_3: 768\n",
      "\u001b[34m\u001b[1mwandb\u001b[0m: \tlayer_4: 512\n",
      "\u001b[34m\u001b[1mwandb\u001b[0m: \tlayer_5: 64\n",
      "\u001b[34m\u001b[1mwandb\u001b[0m: \tlr: 0.0035245432915081637\n",
      "\u001b[34m\u001b[1mwandb\u001b[0m: Currently logged in as: \u001b[33mdlai211\u001b[0m to \u001b[32mhttps://api.wandb.ai\u001b[0m. Use \u001b[1m`wandb login --relogin`\u001b[0m to force relogin\n"
     ]
    },
    {
     "data": {
      "text/html": [
       "Ignoring project 'tf-dnn-weighted-classifier' when running a sweep."
      ],
      "text/plain": [
       "<IPython.core.display.HTML object>"
      ]
     },
     "metadata": {},
     "output_type": "display_data"
    },
    {
     "data": {
      "text/html": [
       "Tracking run with wandb version 0.21.0"
      ],
      "text/plain": [
       "<IPython.core.display.HTML object>"
      ]
     },
     "metadata": {},
     "output_type": "display_data"
    },
    {
     "data": {
      "text/html": [
       "Run data is saved locally in <code>/home/jlai/ML/jet_faking/wandb/run-20250821_043216-siefxoek</code>"
      ],
      "text/plain": [
       "<IPython.core.display.HTML object>"
      ]
     },
     "metadata": {},
     "output_type": "display_data"
    },
    {
     "data": {
      "text/html": [
       "Syncing run <strong><a href='https://wandb.ai/dlai211/tf-dnn-weighted-classifier/runs/siefxoek' target=\"_blank\">true-sweep-1</a></strong> to <a href='https://wandb.ai/dlai211/tf-dnn-weighted-classifier' target=\"_blank\">Weights & Biases</a> (<a href='https://wandb.me/developer-guide' target=\"_blank\">docs</a>)<br>Sweep page: <a href='https://wandb.ai/dlai211/tf-dnn-weighted-classifier/sweeps/rg1dnn5u' target=\"_blank\">https://wandb.ai/dlai211/tf-dnn-weighted-classifier/sweeps/rg1dnn5u</a>"
      ],
      "text/plain": [
       "<IPython.core.display.HTML object>"
      ]
     },
     "metadata": {},
     "output_type": "display_data"
    },
    {
     "data": {
      "text/html": [
       " View project at <a href='https://wandb.ai/dlai211/tf-dnn-weighted-classifier' target=\"_blank\">https://wandb.ai/dlai211/tf-dnn-weighted-classifier</a>"
      ],
      "text/plain": [
       "<IPython.core.display.HTML object>"
      ]
     },
     "metadata": {},
     "output_type": "display_data"
    },
    {
     "data": {
      "text/html": [
       " View sweep at <a href='https://wandb.ai/dlai211/tf-dnn-weighted-classifier/sweeps/rg1dnn5u' target=\"_blank\">https://wandb.ai/dlai211/tf-dnn-weighted-classifier/sweeps/rg1dnn5u</a>"
      ],
      "text/plain": [
       "<IPython.core.display.HTML object>"
      ]
     },
     "metadata": {},
     "output_type": "display_data"
    },
    {
     "data": {
      "text/html": [
       " View run at <a href='https://wandb.ai/dlai211/tf-dnn-weighted-classifier/runs/siefxoek' target=\"_blank\">https://wandb.ai/dlai211/tf-dnn-weighted-classifier/runs/siefxoek</a>"
      ],
      "text/plain": [
       "<IPython.core.display.HTML object>"
      ]
     },
     "metadata": {},
     "output_type": "display_data"
    },
    {
     "name": "stderr",
     "output_type": "stream",
     "text": [
      "/home/jlai/.local/share/mamba/envs/tf-gpu/lib/python3.10/site-packages/keras/src/layers/core/dense.py:93: UserWarning: Do not pass an `input_shape`/`input_dim` argument to a layer. When using Sequential models, prefer using an `Input(shape)` object as the first layer in the model instead.\n",
      "  super().__init__(activity_regularizer=activity_regularizer, **kwargs)\n",
      "I0000 00:00:1755750737.846000     961 gpu_device.cc:2022] Created device /job:localhost/replica:0/task:0/device:GPU:0 with 9615 MB memory:  -> device: 0, name: NVIDIA GeForce RTX 2080 Ti, pci bus id: 0000:89:00.0, compute capability: 7.5\n"
     ]
    },
    {
     "name": "stdout",
     "output_type": "stream",
     "text": [
      "Epoch 1/50\n"
     ]
    },
    {
     "name": "stderr",
     "output_type": "stream",
     "text": [
      "I0000 00:00:1755750740.583615    1100 service.cc:148] XLA service 0x7fb7e4002360 initialized for platform CUDA (this does not guarantee that XLA will be used). Devices:\n",
      "I0000 00:00:1755750740.583652    1100 service.cc:156]   StreamExecutor device (0): NVIDIA GeForce RTX 2080 Ti, Compute Capability 7.5\n",
      "2025-08-21 04:32:20.627376: I tensorflow/compiler/mlir/tensorflow/utils/dump_mlir_util.cc:268] disabling MLIR crash reproducer, set env var `MLIR_CRASH_REPRODUCER_DIRECTORY` to enable.\n",
      "I0000 00:00:1755750740.832789    1100 cuda_dnn.cc:529] Loaded cuDNN version 91001\n"
     ]
    },
    {
     "name": "stdout",
     "output_type": "stream",
     "text": [
      "\u001b[1m  62/2256\u001b[0m \u001b[37m━━━━━━━━━━━━━━━━━━━━\u001b[0m \u001b[1m5s\u001b[0m 3ms/step - auc: 0.5131 - loss: 0.0431 - weighted_auc: 0.5102"
     ]
    },
    {
     "name": "stderr",
     "output_type": "stream",
     "text": [
      "I0000 00:00:1755750743.584845    1100 device_compiler.h:188] Compiled cluster using XLA!  This line is logged at most once for the lifetime of the process.\n"
     ]
    },
    {
     "name": "stdout",
     "output_type": "stream",
     "text": [
      "\u001b[1m2256/2256\u001b[0m \u001b[32m━━━━━━━━━━━━━━━━━━━━\u001b[0m\u001b[37m\u001b[0m \u001b[1m15s\u001b[0m 5ms/step - auc: 0.6854 - loss: 0.0035 - weighted_auc: 0.6942 - val_auc: 0.7760 - val_loss: 9.3207e-04 - val_weighted_auc: 0.7903\n",
      "Epoch 2/50\n",
      "\u001b[1m2256/2256\u001b[0m \u001b[32m━━━━━━━━━━━━━━━━━━━━\u001b[0m\u001b[37m\u001b[0m \u001b[1m6s\u001b[0m 3ms/step - auc: 0.7356 - loss: 0.0012 - weighted_auc: 0.7456 - val_auc: 0.5820 - val_loss: 0.0015 - val_weighted_auc: 0.5828\n",
      "Epoch 3/50\n",
      "\u001b[1m2256/2256\u001b[0m \u001b[32m━━━━━━━━━━━━━━━━━━━━\u001b[0m\u001b[37m\u001b[0m \u001b[1m6s\u001b[0m 3ms/step - auc: 0.7574 - loss: 0.0012 - weighted_auc: 0.7662 - val_auc: 0.7646 - val_loss: 0.0010 - val_weighted_auc: 0.7733\n",
      "Epoch 4/50\n",
      "\u001b[1m2256/2256\u001b[0m \u001b[32m━━━━━━━━━━━━━━━━━━━━\u001b[0m\u001b[37m\u001b[0m \u001b[1m7s\u001b[0m 3ms/step - auc: 0.7917 - loss: 0.0011 - weighted_auc: 0.8017 - val_auc: 0.8026 - val_loss: 9.8101e-04 - val_weighted_auc: 0.8097\n",
      "Epoch 5/50\n",
      "\u001b[1m2256/2256\u001b[0m \u001b[32m━━━━━━━━━━━━━━━━━━━━\u001b[0m\u001b[37m\u001b[0m \u001b[1m7s\u001b[0m 3ms/step - auc: 0.8152 - loss: 0.0010 - weighted_auc: 0.8249 - val_auc: 0.8083 - val_loss: 8.7928e-04 - val_weighted_auc: 0.8165\n",
      "Epoch 6/50\n",
      "\u001b[1m2256/2256\u001b[0m \u001b[32m━━━━━━━━━━━━━━━━━━━━\u001b[0m\u001b[37m\u001b[0m \u001b[1m7s\u001b[0m 3ms/step - auc: 0.8252 - loss: 0.0010 - weighted_auc: 0.8324 - val_auc: 0.7242 - val_loss: 9.6301e-04 - val_weighted_auc: 0.7376\n",
      "Epoch 7/50\n",
      "\u001b[1m2256/2256\u001b[0m \u001b[32m━━━━━━━━━━━━━━━━━━━━\u001b[0m\u001b[37m\u001b[0m \u001b[1m7s\u001b[0m 3ms/step - auc: 0.8306 - loss: 0.0010 - weighted_auc: 0.8435 - val_auc: 0.8092 - val_loss: 9.5185e-04 - val_weighted_auc: 0.8173\n",
      "Epoch 8/50\n",
      "\u001b[1m2256/2256\u001b[0m \u001b[32m━━━━━━━━━━━━━━━━━━━━\u001b[0m\u001b[37m\u001b[0m \u001b[1m6s\u001b[0m 3ms/step - auc: 0.8381 - loss: 0.0011 - weighted_auc: 0.8499 - val_auc: 0.8501 - val_loss: 9.2274e-04 - val_weighted_auc: 0.8623\n",
      "Epoch 9/50\n",
      "\u001b[1m2256/2256\u001b[0m \u001b[32m━━━━━━━━━━━━━━━━━━━━\u001b[0m\u001b[37m\u001b[0m \u001b[1m6s\u001b[0m 3ms/step - auc: 0.7160 - loss: 0.0011 - weighted_auc: 0.7176 - val_auc: 0.8659 - val_loss: 9.5007e-04 - val_weighted_auc: 0.8781\n",
      "Epoch 10/50\n",
      "\u001b[1m2256/2256\u001b[0m \u001b[32m━━━━━━━━━━━━━━━━━━━━\u001b[0m\u001b[37m\u001b[0m \u001b[1m6s\u001b[0m 3ms/step - auc: 0.5163 - loss: 0.0012 - weighted_auc: 0.5177 - val_auc: 0.5000 - val_loss: 0.0010 - val_weighted_auc: 0.5000\n",
      "Epoch 11/50\n",
      "\u001b[1m2256/2256\u001b[0m \u001b[32m━━━━━━━━━━━━━━━━━━━━\u001b[0m\u001b[37m\u001b[0m \u001b[1m7s\u001b[0m 3ms/step - auc: 0.5723 - loss: 0.0011 - weighted_auc: 0.5762 - val_auc: 0.5000 - val_loss: 9.4612e-04 - val_weighted_auc: 0.5000\n",
      "Epoch 12/50\n",
      "\u001b[1m2256/2256\u001b[0m \u001b[32m━━━━━━━━━━━━━━━━━━━━\u001b[0m\u001b[37m\u001b[0m \u001b[1m7s\u001b[0m 3ms/step - auc: 0.5803 - loss: 0.0011 - weighted_auc: 0.5824 - val_auc: 0.7561 - val_loss: 9.8724e-04 - val_weighted_auc: 0.7672\n",
      "Epoch 13/50\n",
      "\u001b[1m2256/2256\u001b[0m \u001b[32m━━━━━━━━━━━━━━━━━━━━\u001b[0m\u001b[37m\u001b[0m \u001b[1m7s\u001b[0m 3ms/step - auc: 0.7955 - loss: 0.0011 - weighted_auc: 0.8059 - val_auc: 0.7870 - val_loss: 9.5434e-04 - val_weighted_auc: 0.8022\n",
      "Epoch 14/50\n",
      "\u001b[1m2256/2256\u001b[0m \u001b[32m━━━━━━━━━━━━━━━━━━━━\u001b[0m\u001b[37m\u001b[0m \u001b[1m7s\u001b[0m 3ms/step - auc: 0.8374 - loss: 0.0011 - weighted_auc: 0.8483 - val_auc: 0.8203 - val_loss: 9.6325e-04 - val_weighted_auc: 0.8326\n",
      "\u001b[1m30935/30935\u001b[0m \u001b[32m━━━━━━━━━━━━━━━━━━━━\u001b[0m\u001b[37m\u001b[0m \u001b[1m21s\u001b[0m 676us/step\n",
      "\u001b[1m3223/3223\u001b[0m \u001b[32m━━━━━━━━━━━━━━━━━━━━\u001b[0m\u001b[37m\u001b[0m \u001b[1m3s\u001b[0m 996us/step\n"
     ]
    },
    {
     "data": {
      "text/html": [],
      "text/plain": [
       "<IPython.core.display.HTML object>"
      ]
     },
     "metadata": {},
     "output_type": "display_data"
    },
    {
     "data": {
      "text/html": [
       "<br>    <style><br>        .wandb-row {<br>            display: flex;<br>            flex-direction: row;<br>            flex-wrap: wrap;<br>            justify-content: flex-start;<br>            width: 100%;<br>        }<br>        .wandb-col {<br>            display: flex;<br>            flex-direction: column;<br>            flex-basis: 100%;<br>            flex: 1;<br>            padding: 10px;<br>        }<br>    </style><br><div class=\"wandb-row\"><div class=\"wandb-col\"><h3>Run history:</h3><br/><table class=\"wandb\"><tr><td>epoch/auc</td><td>▆▆▇▇████▅▁▃▅▇█</td></tr><tr><td>epoch/epoch</td><td>▁▂▂▃▃▄▄▅▅▆▆▇▇█</td></tr><tr><td>epoch/learning_rate</td><td>▁▁▁▁▁▁▁▁▁▁▁▁▁▁</td></tr><tr><td>epoch/loss</td><td>█▄▃▂▁▁▁▃▂▃▂▂▂▂</td></tr><tr><td>epoch/val_auc</td><td>▆▃▆▇▇▅▇██▁▁▆▆▇</td></tr><tr><td>epoch/val_loss</td><td>▂█▃▂▁▂▂▂▂▃▂▂▂▂</td></tr><tr><td>epoch/val_weighted_auc</td><td>▆▃▆▇▇▅▇██▁▁▆▇▇</td></tr><tr><td>epoch/weighted_auc</td><td>▆▆▇▇████▅▁▃▅▇█</td></tr><tr><td>final_val_roc_auc</td><td>▁</td></tr></table><br/></div><div class=\"wandb-col\"><h3>Run summary:</h3><br/><table class=\"wandb\"><tr><td>epoch/auc</td><td>0.8224</td></tr><tr><td>epoch/epoch</td><td>13</td></tr><tr><td>epoch/learning_rate</td><td>0.00352</td></tr><tr><td>epoch/loss</td><td>0.00108</td></tr><tr><td>epoch/val_auc</td><td>0.82035</td></tr><tr><td>epoch/val_loss</td><td>0.00096</td></tr><tr><td>epoch/val_weighted_auc</td><td>0.83259</td></tr><tr><td>epoch/weighted_auc</td><td>0.83306</td></tr><tr><td>final_val_roc_auc</td><td>0.9635</td></tr></table><br/></div></div>"
      ],
      "text/plain": [
       "<IPython.core.display.HTML object>"
      ]
     },
     "metadata": {},
     "output_type": "display_data"
    },
    {
     "data": {
      "text/html": [
       " View run <strong style=\"color:#cdcd00\">true-sweep-1</strong> at: <a href='https://wandb.ai/dlai211/tf-dnn-weighted-classifier/runs/siefxoek' target=\"_blank\">https://wandb.ai/dlai211/tf-dnn-weighted-classifier/runs/siefxoek</a><br> View project at: <a href='https://wandb.ai/dlai211/tf-dnn-weighted-classifier' target=\"_blank\">https://wandb.ai/dlai211/tf-dnn-weighted-classifier</a><br>Synced 5 W&B file(s), 1 media file(s), 0 artifact file(s) and 0 other file(s)"
      ],
      "text/plain": [
       "<IPython.core.display.HTML object>"
      ]
     },
     "metadata": {},
     "output_type": "display_data"
    },
    {
     "data": {
      "text/html": [
       "Find logs at: <code>./wandb/run-20250821_043216-siefxoek/logs</code>"
      ],
      "text/plain": [
       "<IPython.core.display.HTML object>"
      ]
     },
     "metadata": {},
     "output_type": "display_data"
    },
    {
     "name": "stderr",
     "output_type": "stream",
     "text": [
      "\u001b[34m\u001b[1mwandb\u001b[0m: \u001b[32m\u001b[41mERROR\u001b[0m Run siefxoek errored:\n",
      "\u001b[34m\u001b[1mwandb\u001b[0m: \u001b[32m\u001b[41mERROR\u001b[0m Traceback (most recent call last):\n",
      "\u001b[34m\u001b[1mwandb\u001b[0m: \u001b[32m\u001b[41mERROR\u001b[0m   File \"/home/jlai/.local/share/mamba/envs/tf-gpu/lib/python3.10/site-packages/pandas/core/indexes/base.py\", line 3812, in get_loc\n",
      "\u001b[34m\u001b[1mwandb\u001b[0m: \u001b[32m\u001b[41mERROR\u001b[0m     return self._engine.get_loc(casted_key)\n",
      "\u001b[34m\u001b[1mwandb\u001b[0m: \u001b[32m\u001b[41mERROR\u001b[0m   File \"pandas/_libs/index.pyx\", line 167, in pandas._libs.index.IndexEngine.get_loc\n",
      "\u001b[34m\u001b[1mwandb\u001b[0m: \u001b[32m\u001b[41mERROR\u001b[0m   File \"pandas/_libs/index.pyx\", line 196, in pandas._libs.index.IndexEngine.get_loc\n",
      "\u001b[34m\u001b[1mwandb\u001b[0m: \u001b[32m\u001b[41mERROR\u001b[0m   File \"pandas/_libs/hashtable_class_helper.pxi\", line 7088, in pandas._libs.hashtable.PyObjectHashTable.get_item\n",
      "\u001b[34m\u001b[1mwandb\u001b[0m: \u001b[32m\u001b[41mERROR\u001b[0m   File \"pandas/_libs/hashtable_class_helper.pxi\", line 7096, in pandas._libs.hashtable.PyObjectHashTable.get_item\n",
      "\u001b[34m\u001b[1mwandb\u001b[0m: \u001b[32m\u001b[41mERROR\u001b[0m KeyError: 'nn_scores'\n",
      "\u001b[34m\u001b[1mwandb\u001b[0m: \u001b[32m\u001b[41mERROR\u001b[0m \n",
      "\u001b[34m\u001b[1mwandb\u001b[0m: \u001b[32m\u001b[41mERROR\u001b[0m The above exception was the direct cause of the following exception:\n",
      "\u001b[34m\u001b[1mwandb\u001b[0m: \u001b[32m\u001b[41mERROR\u001b[0m \n",
      "\u001b[34m\u001b[1mwandb\u001b[0m: \u001b[32m\u001b[41mERROR\u001b[0m Traceback (most recent call last):\n",
      "\u001b[34m\u001b[1mwandb\u001b[0m: \u001b[32m\u001b[41mERROR\u001b[0m   File \"/home/jlai/.local/share/mamba/envs/tf-gpu/lib/python3.10/site-packages/wandb/agents/pyagent.py\", line 302, in _run_job\n",
      "\u001b[34m\u001b[1mwandb\u001b[0m: \u001b[32m\u001b[41mERROR\u001b[0m     self._function()\n",
      "\u001b[34m\u001b[1mwandb\u001b[0m: \u001b[32m\u001b[41mERROR\u001b[0m   File \"/tmp/ipykernel_894/3010497279.py\", line 118, in train\n",
      "\u001b[34m\u001b[1mwandb\u001b[0m: \u001b[32m\u001b[41mERROR\u001b[0m     sig, acc = compute_significance(df_tmp, score_column=\"nn_scores\", cut=cut)\n",
      "\u001b[34m\u001b[1mwandb\u001b[0m: \u001b[32m\u001b[41mERROR\u001b[0m   File \"/tmp/ipykernel_894/3010497279.py\", line 43, in compute_significance\n",
      "\u001b[34m\u001b[1mwandb\u001b[0m: \u001b[32m\u001b[41mERROR\u001b[0m     sig = df[(df[\"label\"] == 1) & (df[score_column] >= cut)][\"weights\"].sum()\n",
      "\u001b[34m\u001b[1mwandb\u001b[0m: \u001b[32m\u001b[41mERROR\u001b[0m   File \"/home/jlai/.local/share/mamba/envs/tf-gpu/lib/python3.10/site-packages/pandas/core/frame.py\", line 4107, in __getitem__\n",
      "\u001b[34m\u001b[1mwandb\u001b[0m: \u001b[32m\u001b[41mERROR\u001b[0m     indexer = self.columns.get_loc(key)\n",
      "\u001b[34m\u001b[1mwandb\u001b[0m: \u001b[32m\u001b[41mERROR\u001b[0m   File \"/home/jlai/.local/share/mamba/envs/tf-gpu/lib/python3.10/site-packages/pandas/core/indexes/base.py\", line 3819, in get_loc\n",
      "\u001b[34m\u001b[1mwandb\u001b[0m: \u001b[32m\u001b[41mERROR\u001b[0m     raise KeyError(key) from err\n",
      "\u001b[34m\u001b[1mwandb\u001b[0m: \u001b[32m\u001b[41mERROR\u001b[0m KeyError: 'nn_scores'\n",
      "\u001b[34m\u001b[1mwandb\u001b[0m: \u001b[32m\u001b[41mERROR\u001b[0m \n",
      "\u001b[34m\u001b[1mwandb\u001b[0m: Sweep Agent: Waiting for job.\n",
      "\u001b[34m\u001b[1mwandb\u001b[0m: Job received.\n",
      "\u001b[34m\u001b[1mwandb\u001b[0m: Agent Starting Run: jrtaohko with config:\n",
      "\u001b[34m\u001b[1mwandb\u001b[0m: \tbatch_size: 1024\n",
      "\u001b[34m\u001b[1mwandb\u001b[0m: \tdropout: 0.12434169123015935\n",
      "\u001b[34m\u001b[1mwandb\u001b[0m: \tepochs: 50\n",
      "\u001b[34m\u001b[1mwandb\u001b[0m: \tlayer_1: 64\n",
      "\u001b[34m\u001b[1mwandb\u001b[0m: \tlayer_2: 128\n",
      "\u001b[34m\u001b[1mwandb\u001b[0m: \tlayer_3: 512\n",
      "\u001b[34m\u001b[1mwandb\u001b[0m: \tlayer_4: 256\n",
      "\u001b[34m\u001b[1mwandb\u001b[0m: \tlayer_5: 32\n",
      "\u001b[34m\u001b[1mwandb\u001b[0m: \tlr: 0.0008438444864933106\n"
     ]
    },
    {
     "data": {
      "text/html": [
       "Ignoring project 'tf-dnn-weighted-classifier' when running a sweep."
      ],
      "text/plain": [
       "<IPython.core.display.HTML object>"
      ]
     },
     "metadata": {},
     "output_type": "display_data"
    },
    {
     "data": {
      "text/html": [
       "Tracking run with wandb version 0.21.0"
      ],
      "text/plain": [
       "<IPython.core.display.HTML object>"
      ]
     },
     "metadata": {},
     "output_type": "display_data"
    },
    {
     "data": {
      "text/html": [
       "Run data is saved locally in <code>/home/jlai/ML/jet_faking/wandb/run-20250821_043454-jrtaohko</code>"
      ],
      "text/plain": [
       "<IPython.core.display.HTML object>"
      ]
     },
     "metadata": {},
     "output_type": "display_data"
    },
    {
     "data": {
      "text/html": [
       "Syncing run <strong><a href='https://wandb.ai/dlai211/tf-dnn-weighted-classifier/runs/jrtaohko' target=\"_blank\">radiant-sweep-2</a></strong> to <a href='https://wandb.ai/dlai211/tf-dnn-weighted-classifier' target=\"_blank\">Weights & Biases</a> (<a href='https://wandb.me/developer-guide' target=\"_blank\">docs</a>)<br>Sweep page: <a href='https://wandb.ai/dlai211/tf-dnn-weighted-classifier/sweeps/rg1dnn5u' target=\"_blank\">https://wandb.ai/dlai211/tf-dnn-weighted-classifier/sweeps/rg1dnn5u</a>"
      ],
      "text/plain": [
       "<IPython.core.display.HTML object>"
      ]
     },
     "metadata": {},
     "output_type": "display_data"
    },
    {
     "data": {
      "text/html": [
       " View project at <a href='https://wandb.ai/dlai211/tf-dnn-weighted-classifier' target=\"_blank\">https://wandb.ai/dlai211/tf-dnn-weighted-classifier</a>"
      ],
      "text/plain": [
       "<IPython.core.display.HTML object>"
      ]
     },
     "metadata": {},
     "output_type": "display_data"
    },
    {
     "data": {
      "text/html": [
       " View sweep at <a href='https://wandb.ai/dlai211/tf-dnn-weighted-classifier/sweeps/rg1dnn5u' target=\"_blank\">https://wandb.ai/dlai211/tf-dnn-weighted-classifier/sweeps/rg1dnn5u</a>"
      ],
      "text/plain": [
       "<IPython.core.display.HTML object>"
      ]
     },
     "metadata": {},
     "output_type": "display_data"
    },
    {
     "data": {
      "text/html": [
       " View run at <a href='https://wandb.ai/dlai211/tf-dnn-weighted-classifier/runs/jrtaohko' target=\"_blank\">https://wandb.ai/dlai211/tf-dnn-weighted-classifier/runs/jrtaohko</a>"
      ],
      "text/plain": [
       "<IPython.core.display.HTML object>"
      ]
     },
     "metadata": {},
     "output_type": "display_data"
    },
    {
     "name": "stderr",
     "output_type": "stream",
     "text": [
      "/home/jlai/.local/share/mamba/envs/tf-gpu/lib/python3.10/site-packages/keras/src/layers/core/dense.py:93: UserWarning: Do not pass an `input_shape`/`input_dim` argument to a layer. When using Sequential models, prefer using an `Input(shape)` object as the first layer in the model instead.\n",
      "  super().__init__(activity_regularizer=activity_regularizer, **kwargs)\n"
     ]
    },
    {
     "name": "stdout",
     "output_type": "stream",
     "text": [
      "Epoch 1/50\n",
      "\u001b[1m2256/2256\u001b[0m \u001b[32m━━━━━━━━━━━━━━━━━━━━\u001b[0m\u001b[37m\u001b[0m \u001b[1m14s\u001b[0m 4ms/step - auc: 0.6851 - loss: 0.0053 - weighted_auc: 0.6977 - val_auc: 0.8177 - val_loss: 8.7150e-04 - val_weighted_auc: 0.8278\n",
      "Epoch 2/50\n",
      "\u001b[1m2256/2256\u001b[0m \u001b[32m━━━━━━━━━━━━━━━━━━━━\u001b[0m\u001b[37m\u001b[0m \u001b[1m5s\u001b[0m 2ms/step - auc: 0.8117 - loss: 8.8872e-04 - weighted_auc: 0.8212 - val_auc: 0.8335 - val_loss: 8.5727e-04 - val_weighted_auc: 0.8406\n",
      "Epoch 3/50\n",
      "\u001b[1m2256/2256\u001b[0m \u001b[32m━━━━━━━━━━━━━━━━━━━━\u001b[0m\u001b[37m\u001b[0m \u001b[1m5s\u001b[0m 2ms/step - auc: 0.8309 - loss: 8.7361e-04 - weighted_auc: 0.8387 - val_auc: 0.8184 - val_loss: 8.6064e-04 - val_weighted_auc: 0.8256\n",
      "Epoch 4/50\n",
      "\u001b[1m2256/2256\u001b[0m \u001b[32m━━━━━━━━━━━━━━━━━━━━\u001b[0m\u001b[37m\u001b[0m \u001b[1m6s\u001b[0m 2ms/step - auc: 0.8280 - loss: 8.7262e-04 - weighted_auc: 0.8346 - val_auc: 0.8095 - val_loss: 8.6595e-04 - val_weighted_auc: 0.8149\n",
      "Epoch 5/50\n",
      "\u001b[1m2256/2256\u001b[0m \u001b[32m━━━━━━━━━━━━━━━━━━━━\u001b[0m\u001b[37m\u001b[0m \u001b[1m6s\u001b[0m 3ms/step - auc: 0.8423 - loss: 8.6429e-04 - weighted_auc: 0.8497 - val_auc: 0.8142 - val_loss: 8.5842e-04 - val_weighted_auc: 0.8194\n",
      "Epoch 6/50\n",
      "\u001b[1m2256/2256\u001b[0m \u001b[32m━━━━━━━━━━━━━━━━━━━━\u001b[0m\u001b[37m\u001b[0m \u001b[1m5s\u001b[0m 2ms/step - auc: 0.8361 - loss: 8.5992e-04 - weighted_auc: 0.8438 - val_auc: 0.8097 - val_loss: 8.5257e-04 - val_weighted_auc: 0.8182\n",
      "Epoch 7/50\n",
      "\u001b[1m2256/2256\u001b[0m \u001b[32m━━━━━━━━━━━━━━━━━━━━\u001b[0m\u001b[37m\u001b[0m \u001b[1m5s\u001b[0m 2ms/step - auc: 0.8376 - loss: 8.5194e-04 - weighted_auc: 0.8432 - val_auc: 0.8218 - val_loss: 8.4902e-04 - val_weighted_auc: 0.8274\n",
      "\u001b[1m30935/30935\u001b[0m \u001b[32m━━━━━━━━━━━━━━━━━━━━\u001b[0m\u001b[37m\u001b[0m \u001b[1m21s\u001b[0m 668us/step\n",
      "\u001b[1m3223/3223\u001b[0m \u001b[32m━━━━━━━━━━━━━━━━━━━━\u001b[0m\u001b[37m\u001b[0m \u001b[1m3s\u001b[0m 810us/step\n"
     ]
    },
    {
     "data": {
      "text/html": [],
      "text/plain": [
       "<IPython.core.display.HTML object>"
      ]
     },
     "metadata": {},
     "output_type": "display_data"
    },
    {
     "data": {
      "text/html": [
       "<br>    <style><br>        .wandb-row {<br>            display: flex;<br>            flex-direction: row;<br>            flex-wrap: wrap;<br>            justify-content: flex-start;<br>            width: 100%;<br>        }<br>        .wandb-col {<br>            display: flex;<br>            flex-direction: column;<br>            flex-basis: 100%;<br>            flex: 1;<br>            padding: 10px;<br>        }<br>    </style><br><div class=\"wandb-row\"><div class=\"wandb-col\"><h3>Run history:</h3><br/><table class=\"wandb\"><tr><td>Acceptance</td><td>▁</td></tr><tr><td>Max S/sqrt(B)</td><td>▁</td></tr><tr><td>epoch/auc</td><td>▁▆▇▇███</td></tr><tr><td>epoch/epoch</td><td>▁▂▃▅▆▇█</td></tr><tr><td>epoch/learning_rate</td><td>▁▁▁▁▁▁▁</td></tr><tr><td>epoch/loss</td><td>█▁▁▁▁▁▁</td></tr><tr><td>epoch/val_auc</td><td>▃█▄▁▂▁▅</td></tr><tr><td>epoch/val_loss</td><td>█▄▅▆▄▂▁</td></tr><tr><td>epoch/val_weighted_auc</td><td>▅█▄▁▂▂▄</td></tr><tr><td>epoch/weighted_auc</td><td>▁▆▇▇███</td></tr><tr><td>final_val_roc_auc</td><td>▁</td></tr><tr><td>nnScore cut</td><td>▁</td></tr></table><br/></div><div class=\"wandb-col\"><h3>Run summary:</h3><br/><table class=\"wandb\"><tr><td>Acceptance</td><td>1</td></tr><tr><td>Max S/sqrt(B)</td><td>0.32308</td></tr><tr><td>epoch/auc</td><td>0.83662</td></tr><tr><td>epoch/epoch</td><td>6</td></tr><tr><td>epoch/learning_rate</td><td>0.00084</td></tr><tr><td>epoch/loss</td><td>0.00086</td></tr><tr><td>epoch/val_auc</td><td>0.82182</td></tr><tr><td>epoch/val_loss</td><td>0.00085</td></tr><tr><td>epoch/val_weighted_auc</td><td>0.82744</td></tr><tr><td>epoch/weighted_auc</td><td>0.84674</td></tr><tr><td>final_val_roc_auc</td><td>0.97335</td></tr><tr><td>nnScore cut</td><td>0</td></tr></table><br/></div></div>"
      ],
      "text/plain": [
       "<IPython.core.display.HTML object>"
      ]
     },
     "metadata": {},
     "output_type": "display_data"
    },
    {
     "data": {
      "text/html": [
       " View run <strong style=\"color:#cdcd00\">radiant-sweep-2</strong> at: <a href='https://wandb.ai/dlai211/tf-dnn-weighted-classifier/runs/jrtaohko' target=\"_blank\">https://wandb.ai/dlai211/tf-dnn-weighted-classifier/runs/jrtaohko</a><br> View project at: <a href='https://wandb.ai/dlai211/tf-dnn-weighted-classifier' target=\"_blank\">https://wandb.ai/dlai211/tf-dnn-weighted-classifier</a><br>Synced 5 W&B file(s), 1 media file(s), 0 artifact file(s) and 0 other file(s)"
      ],
      "text/plain": [
       "<IPython.core.display.HTML object>"
      ]
     },
     "metadata": {},
     "output_type": "display_data"
    },
    {
     "data": {
      "text/html": [
       "Find logs at: <code>./wandb/run-20250821_043454-jrtaohko/logs</code>"
      ],
      "text/plain": [
       "<IPython.core.display.HTML object>"
      ]
     },
     "metadata": {},
     "output_type": "display_data"
    },
    {
     "name": "stderr",
     "output_type": "stream",
     "text": [
      "\u001b[34m\u001b[1mwandb\u001b[0m: Sweep Agent: Waiting for job.\n",
      "\u001b[34m\u001b[1mwandb\u001b[0m: Job received.\n",
      "\u001b[34m\u001b[1mwandb\u001b[0m: Agent Starting Run: pjkqqbz9 with config:\n",
      "\u001b[34m\u001b[1mwandb\u001b[0m: \tbatch_size: 1024\n",
      "\u001b[34m\u001b[1mwandb\u001b[0m: \tdropout: 0.37748983780020906\n",
      "\u001b[34m\u001b[1mwandb\u001b[0m: \tepochs: 50\n",
      "\u001b[34m\u001b[1mwandb\u001b[0m: \tlayer_1: 64\n",
      "\u001b[34m\u001b[1mwandb\u001b[0m: \tlayer_2: 512\n",
      "\u001b[34m\u001b[1mwandb\u001b[0m: \tlayer_3: 2048\n",
      "\u001b[34m\u001b[1mwandb\u001b[0m: \tlayer_4: 384\n",
      "\u001b[34m\u001b[1mwandb\u001b[0m: \tlayer_5: 96\n",
      "\u001b[34m\u001b[1mwandb\u001b[0m: \tlr: 0.0006104769970961368\n"
     ]
    },
    {
     "data": {
      "text/html": [
       "Ignoring project 'tf-dnn-weighted-classifier' when running a sweep."
      ],
      "text/plain": [
       "<IPython.core.display.HTML object>"
      ]
     },
     "metadata": {},
     "output_type": "display_data"
    },
    {
     "data": {
      "text/html": [
       "Tracking run with wandb version 0.21.0"
      ],
      "text/plain": [
       "<IPython.core.display.HTML object>"
      ]
     },
     "metadata": {},
     "output_type": "display_data"
    },
    {
     "data": {
      "text/html": [
       "Run data is saved locally in <code>/home/jlai/ML/jet_faking/wandb/run-20250821_043636-pjkqqbz9</code>"
      ],
      "text/plain": [
       "<IPython.core.display.HTML object>"
      ]
     },
     "metadata": {},
     "output_type": "display_data"
    },
    {
     "data": {
      "text/html": [
       "Syncing run <strong><a href='https://wandb.ai/dlai211/tf-dnn-weighted-classifier/runs/pjkqqbz9' target=\"_blank\">iconic-sweep-3</a></strong> to <a href='https://wandb.ai/dlai211/tf-dnn-weighted-classifier' target=\"_blank\">Weights & Biases</a> (<a href='https://wandb.me/developer-guide' target=\"_blank\">docs</a>)<br>Sweep page: <a href='https://wandb.ai/dlai211/tf-dnn-weighted-classifier/sweeps/rg1dnn5u' target=\"_blank\">https://wandb.ai/dlai211/tf-dnn-weighted-classifier/sweeps/rg1dnn5u</a>"
      ],
      "text/plain": [
       "<IPython.core.display.HTML object>"
      ]
     },
     "metadata": {},
     "output_type": "display_data"
    },
    {
     "data": {
      "text/html": [
       " View project at <a href='https://wandb.ai/dlai211/tf-dnn-weighted-classifier' target=\"_blank\">https://wandb.ai/dlai211/tf-dnn-weighted-classifier</a>"
      ],
      "text/plain": [
       "<IPython.core.display.HTML object>"
      ]
     },
     "metadata": {},
     "output_type": "display_data"
    },
    {
     "data": {
      "text/html": [
       " View sweep at <a href='https://wandb.ai/dlai211/tf-dnn-weighted-classifier/sweeps/rg1dnn5u' target=\"_blank\">https://wandb.ai/dlai211/tf-dnn-weighted-classifier/sweeps/rg1dnn5u</a>"
      ],
      "text/plain": [
       "<IPython.core.display.HTML object>"
      ]
     },
     "metadata": {},
     "output_type": "display_data"
    },
    {
     "data": {
      "text/html": [
       " View run at <a href='https://wandb.ai/dlai211/tf-dnn-weighted-classifier/runs/pjkqqbz9' target=\"_blank\">https://wandb.ai/dlai211/tf-dnn-weighted-classifier/runs/pjkqqbz9</a>"
      ],
      "text/plain": [
       "<IPython.core.display.HTML object>"
      ]
     },
     "metadata": {},
     "output_type": "display_data"
    },
    {
     "name": "stderr",
     "output_type": "stream",
     "text": [
      "/home/jlai/.local/share/mamba/envs/tf-gpu/lib/python3.10/site-packages/keras/src/layers/core/dense.py:93: UserWarning: Do not pass an `input_shape`/`input_dim` argument to a layer. When using Sequential models, prefer using an `Input(shape)` object as the first layer in the model instead.\n",
      "  super().__init__(activity_regularizer=activity_regularizer, **kwargs)\n"
     ]
    },
    {
     "name": "stdout",
     "output_type": "stream",
     "text": [
      "Epoch 1/50\n",
      "\u001b[1m2256/2256\u001b[0m \u001b[32m━━━━━━━━━━━━━━━━━━━━\u001b[0m\u001b[37m\u001b[0m \u001b[1m17s\u001b[0m 6ms/step - auc: 0.6531 - loss: 0.0044 - weighted_auc: 0.6652 - val_auc: 0.8763 - val_loss: 0.0010 - val_weighted_auc: 0.8922\n",
      "Epoch 2/50\n",
      "\u001b[1m2256/2256\u001b[0m \u001b[32m━━━━━━━━━━━━━━━━━━━━\u001b[0m\u001b[37m\u001b[0m \u001b[1m8s\u001b[0m 4ms/step - auc: 0.7740 - loss: 9.5780e-04 - weighted_auc: 0.7860 - val_auc: 0.8323 - val_loss: 8.7293e-04 - val_weighted_auc: 0.8427\n",
      "Epoch 3/50\n",
      "\u001b[1m2256/2256\u001b[0m \u001b[32m━━━━━━━━━━━━━━━━━━━━\u001b[0m\u001b[37m\u001b[0m \u001b[1m8s\u001b[0m 4ms/step - auc: 0.7939 - loss: 9.4073e-04 - weighted_auc: 0.8051 - val_auc: 0.8217 - val_loss: 8.6548e-04 - val_weighted_auc: 0.8280\n",
      "Epoch 4/50\n",
      "\u001b[1m2256/2256\u001b[0m \u001b[32m━━━━━━━━━━━━━━━━━━━━\u001b[0m\u001b[37m\u001b[0m \u001b[1m8s\u001b[0m 4ms/step - auc: 0.8166 - loss: 9.1117e-04 - weighted_auc: 0.8252 - val_auc: 0.8308 - val_loss: 8.5505e-04 - val_weighted_auc: 0.8394\n",
      "Epoch 5/50\n",
      "\u001b[1m2256/2256\u001b[0m \u001b[32m━━━━━━━━━━━━━━━━━━━━\u001b[0m\u001b[37m\u001b[0m \u001b[1m8s\u001b[0m 4ms/step - auc: 0.8218 - loss: 9.1162e-04 - weighted_auc: 0.8304 - val_auc: 0.8174 - val_loss: 8.4872e-04 - val_weighted_auc: 0.8251\n",
      "Epoch 6/50\n",
      "\u001b[1m2256/2256\u001b[0m \u001b[32m━━━━━━━━━━━━━━━━━━━━\u001b[0m\u001b[37m\u001b[0m \u001b[1m8s\u001b[0m 4ms/step - auc: 0.8323 - loss: 8.8342e-04 - weighted_auc: 0.8383 - val_auc: 0.8139 - val_loss: 8.4792e-04 - val_weighted_auc: 0.8236\n",
      "\u001b[1m30935/30935\u001b[0m \u001b[32m━━━━━━━━━━━━━━━━━━━━\u001b[0m\u001b[37m\u001b[0m \u001b[1m20s\u001b[0m 651us/step\n",
      "\u001b[1m3223/3223\u001b[0m \u001b[32m━━━━━━━━━━━━━━━━━━━━\u001b[0m\u001b[37m\u001b[0m \u001b[1m4s\u001b[0m 1ms/step\n"
     ]
    },
    {
     "data": {
      "text/html": [],
      "text/plain": [
       "<IPython.core.display.HTML object>"
      ]
     },
     "metadata": {},
     "output_type": "display_data"
    },
    {
     "data": {
      "text/html": [
       "<br>    <style><br>        .wandb-row {<br>            display: flex;<br>            flex-direction: row;<br>            flex-wrap: wrap;<br>            justify-content: flex-start;<br>            width: 100%;<br>        }<br>        .wandb-col {<br>            display: flex;<br>            flex-direction: column;<br>            flex-basis: 100%;<br>            flex: 1;<br>            padding: 10px;<br>        }<br>    </style><br><div class=\"wandb-row\"><div class=\"wandb-col\"><h3>Run history:</h3><br/><table class=\"wandb\"><tr><td>Acceptance</td><td>▁</td></tr><tr><td>Max S/sqrt(B)</td><td>▁</td></tr><tr><td>epoch/auc</td><td>▁▅▆▇▇█</td></tr><tr><td>epoch/epoch</td><td>▁▂▄▅▇█</td></tr><tr><td>epoch/learning_rate</td><td>▁▁▁▁▁▁</td></tr><tr><td>epoch/loss</td><td>█▂▂▁▁▁</td></tr><tr><td>epoch/val_auc</td><td>█▃▂▃▁▁</td></tr><tr><td>epoch/val_loss</td><td>█▂▂▁▁▁</td></tr><tr><td>epoch/val_weighted_auc</td><td>█▃▁▃▁▁</td></tr><tr><td>epoch/weighted_auc</td><td>▁▅▆▇▇█</td></tr><tr><td>final_val_roc_auc</td><td>▁</td></tr><tr><td>nnScore cut</td><td>▁</td></tr></table><br/></div><div class=\"wandb-col\"><h3>Run summary:</h3><br/><table class=\"wandb\"><tr><td>Acceptance</td><td>0.49954</td></tr><tr><td>Max S/sqrt(B)</td><td>2.71998</td></tr><tr><td>epoch/auc</td><td>0.82898</td></tr><tr><td>epoch/epoch</td><td>5</td></tr><tr><td>epoch/learning_rate</td><td>0.00061</td></tr><tr><td>epoch/loss</td><td>0.0009</td></tr><tr><td>epoch/val_auc</td><td>0.81392</td></tr><tr><td>epoch/val_loss</td><td>0.00085</td></tr><tr><td>epoch/val_weighted_auc</td><td>0.82359</td></tr><tr><td>epoch/weighted_auc</td><td>0.84015</td></tr><tr><td>final_val_roc_auc</td><td>0.96952</td></tr><tr><td>nnScore cut</td><td>0.02</td></tr></table><br/></div></div>"
      ],
      "text/plain": [
       "<IPython.core.display.HTML object>"
      ]
     },
     "metadata": {},
     "output_type": "display_data"
    },
    {
     "data": {
      "text/html": [
       " View run <strong style=\"color:#cdcd00\">iconic-sweep-3</strong> at: <a href='https://wandb.ai/dlai211/tf-dnn-weighted-classifier/runs/pjkqqbz9' target=\"_blank\">https://wandb.ai/dlai211/tf-dnn-weighted-classifier/runs/pjkqqbz9</a><br> View project at: <a href='https://wandb.ai/dlai211/tf-dnn-weighted-classifier' target=\"_blank\">https://wandb.ai/dlai211/tf-dnn-weighted-classifier</a><br>Synced 5 W&B file(s), 1 media file(s), 0 artifact file(s) and 0 other file(s)"
      ],
      "text/plain": [
       "<IPython.core.display.HTML object>"
      ]
     },
     "metadata": {},
     "output_type": "display_data"
    },
    {
     "data": {
      "text/html": [
       "Find logs at: <code>./wandb/run-20250821_043636-pjkqqbz9/logs</code>"
      ],
      "text/plain": [
       "<IPython.core.display.HTML object>"
      ]
     },
     "metadata": {},
     "output_type": "display_data"
    },
    {
     "name": "stderr",
     "output_type": "stream",
     "text": [
      "\u001b[34m\u001b[1mwandb\u001b[0m: Agent Starting Run: 53dej73j with config:\n",
      "\u001b[34m\u001b[1mwandb\u001b[0m: \tbatch_size: 256\n",
      "\u001b[34m\u001b[1mwandb\u001b[0m: \tdropout: 0.39233580466086726\n",
      "\u001b[34m\u001b[1mwandb\u001b[0m: \tepochs: 50\n",
      "\u001b[34m\u001b[1mwandb\u001b[0m: \tlayer_1: 128\n",
      "\u001b[34m\u001b[1mwandb\u001b[0m: \tlayer_2: 384\n",
      "\u001b[34m\u001b[1mwandb\u001b[0m: \tlayer_3: 1536\n",
      "\u001b[34m\u001b[1mwandb\u001b[0m: \tlayer_4: 256\n",
      "\u001b[34m\u001b[1mwandb\u001b[0m: \tlayer_5: 32\n",
      "\u001b[34m\u001b[1mwandb\u001b[0m: \tlr: 0.0007843230141473128\n"
     ]
    },
    {
     "data": {
      "text/html": [
       "Ignoring project 'tf-dnn-weighted-classifier' when running a sweep."
      ],
      "text/plain": [
       "<IPython.core.display.HTML object>"
      ]
     },
     "metadata": {},
     "output_type": "display_data"
    },
    {
     "data": {
      "text/html": [
       "Tracking run with wandb version 0.21.0"
      ],
      "text/plain": [
       "<IPython.core.display.HTML object>"
      ]
     },
     "metadata": {},
     "output_type": "display_data"
    },
    {
     "data": {
      "text/html": [
       "Run data is saved locally in <code>/home/jlai/ML/jet_faking/wandb/run-20250821_043821-53dej73j</code>"
      ],
      "text/plain": [
       "<IPython.core.display.HTML object>"
      ]
     },
     "metadata": {},
     "output_type": "display_data"
    },
    {
     "data": {
      "text/html": [
       "Syncing run <strong><a href='https://wandb.ai/dlai211/tf-dnn-weighted-classifier/runs/53dej73j' target=\"_blank\">lilac-sweep-4</a></strong> to <a href='https://wandb.ai/dlai211/tf-dnn-weighted-classifier' target=\"_blank\">Weights & Biases</a> (<a href='https://wandb.me/developer-guide' target=\"_blank\">docs</a>)<br>Sweep page: <a href='https://wandb.ai/dlai211/tf-dnn-weighted-classifier/sweeps/rg1dnn5u' target=\"_blank\">https://wandb.ai/dlai211/tf-dnn-weighted-classifier/sweeps/rg1dnn5u</a>"
      ],
      "text/plain": [
       "<IPython.core.display.HTML object>"
      ]
     },
     "metadata": {},
     "output_type": "display_data"
    },
    {
     "data": {
      "text/html": [
       " View project at <a href='https://wandb.ai/dlai211/tf-dnn-weighted-classifier' target=\"_blank\">https://wandb.ai/dlai211/tf-dnn-weighted-classifier</a>"
      ],
      "text/plain": [
       "<IPython.core.display.HTML object>"
      ]
     },
     "metadata": {},
     "output_type": "display_data"
    },
    {
     "data": {
      "text/html": [
       " View sweep at <a href='https://wandb.ai/dlai211/tf-dnn-weighted-classifier/sweeps/rg1dnn5u' target=\"_blank\">https://wandb.ai/dlai211/tf-dnn-weighted-classifier/sweeps/rg1dnn5u</a>"
      ],
      "text/plain": [
       "<IPython.core.display.HTML object>"
      ]
     },
     "metadata": {},
     "output_type": "display_data"
    },
    {
     "data": {
      "text/html": [
       " View run at <a href='https://wandb.ai/dlai211/tf-dnn-weighted-classifier/runs/53dej73j' target=\"_blank\">https://wandb.ai/dlai211/tf-dnn-weighted-classifier/runs/53dej73j</a>"
      ],
      "text/plain": [
       "<IPython.core.display.HTML object>"
      ]
     },
     "metadata": {},
     "output_type": "display_data"
    },
    {
     "name": "stderr",
     "output_type": "stream",
     "text": [
      "/home/jlai/.local/share/mamba/envs/tf-gpu/lib/python3.10/site-packages/keras/src/layers/core/dense.py:93: UserWarning: Do not pass an `input_shape`/`input_dim` argument to a layer. When using Sequential models, prefer using an `Input(shape)` object as the first layer in the model instead.\n",
      "  super().__init__(activity_regularizer=activity_regularizer, **kwargs)\n"
     ]
    },
    {
     "name": "stdout",
     "output_type": "stream",
     "text": [
      "Epoch 1/50\n",
      "\u001b[1m9023/9023\u001b[0m \u001b[32m━━━━━━━━━━━━━━━━━━━━\u001b[0m\u001b[37m\u001b[0m \u001b[1m30s\u001b[0m 3ms/step - auc: 0.6804 - loss: 0.0026 - weighted_auc: 0.6936 - val_auc: 0.6814 - val_loss: 0.0011 - val_weighted_auc: 0.6880\n",
      "Epoch 2/50\n",
      "\u001b[1m9023/9023\u001b[0m \u001b[32m━━━━━━━━━━━━━━━━━━━━\u001b[0m\u001b[37m\u001b[0m \u001b[1m21s\u001b[0m 2ms/step - auc: 0.7858 - loss: 0.0011 - weighted_auc: 0.7961 - val_auc: 0.7588 - val_loss: 9.9024e-04 - val_weighted_auc: 0.7672\n",
      "Epoch 3/50\n",
      "\u001b[1m9023/9023\u001b[0m \u001b[32m━━━━━━━━━━━━━━━━━━━━\u001b[0m\u001b[37m\u001b[0m \u001b[1m21s\u001b[0m 2ms/step - auc: 0.8202 - loss: 9.8345e-04 - weighted_auc: 0.8294 - val_auc: 0.7654 - val_loss: 9.9838e-04 - val_weighted_auc: 0.7710\n",
      "Epoch 4/50\n",
      "\u001b[1m9023/9023\u001b[0m \u001b[32m━━━━━━━━━━━━━━━━━━━━\u001b[0m\u001b[37m\u001b[0m \u001b[1m21s\u001b[0m 2ms/step - auc: 0.8351 - loss: 9.3851e-04 - weighted_auc: 0.8458 - val_auc: 0.7772 - val_loss: 9.8082e-04 - val_weighted_auc: 0.7855\n",
      "Epoch 5/50\n",
      "\u001b[1m9023/9023\u001b[0m \u001b[32m━━━━━━━━━━━━━━━━━━━━\u001b[0m\u001b[37m\u001b[0m \u001b[1m21s\u001b[0m 2ms/step - auc: 0.8407 - loss: 9.2989e-04 - weighted_auc: 0.8454 - val_auc: 0.7577 - val_loss: 0.0010 - val_weighted_auc: 0.7642\n",
      "Epoch 6/50\n",
      "\u001b[1m9023/9023\u001b[0m \u001b[32m━━━━━━━━━━━━━━━━━━━━\u001b[0m\u001b[37m\u001b[0m \u001b[1m22s\u001b[0m 2ms/step - auc: 0.8452 - loss: 9.1103e-04 - weighted_auc: 0.8530 - val_auc: 0.8108 - val_loss: 8.8664e-04 - val_weighted_auc: 0.8192\n",
      "Epoch 7/50\n",
      "\u001b[1m9023/9023\u001b[0m \u001b[32m━━━━━━━━━━━━━━━━━━━━\u001b[0m\u001b[37m\u001b[0m \u001b[1m21s\u001b[0m 2ms/step - auc: 0.8467 - loss: 8.9337e-04 - weighted_auc: 0.8524 - val_auc: 0.8099 - val_loss: 9.2158e-04 - val_weighted_auc: 0.8167\n",
      "Epoch 8/50\n",
      "\u001b[1m9023/9023\u001b[0m \u001b[32m━━━━━━━━━━━━━━━━━━━━\u001b[0m\u001b[37m\u001b[0m \u001b[1m23s\u001b[0m 3ms/step - auc: 0.8486 - loss: 9.0053e-04 - weighted_auc: 0.8548 - val_auc: 0.7976 - val_loss: 8.9154e-04 - val_weighted_auc: 0.8032\n",
      "Epoch 9/50\n",
      "\u001b[1m9023/9023\u001b[0m \u001b[32m━━━━━━━━━━━━━━━━━━━━\u001b[0m\u001b[37m\u001b[0m \u001b[1m22s\u001b[0m 2ms/step - auc: 0.8411 - loss: 9.0324e-04 - weighted_auc: 0.8480 - val_auc: 0.8000 - val_loss: 9.2487e-04 - val_weighted_auc: 0.8089\n",
      "Epoch 10/50\n",
      "\u001b[1m9023/9023\u001b[0m \u001b[32m━━━━━━━━━━━━━━━━━━━━\u001b[0m\u001b[37m\u001b[0m \u001b[1m21s\u001b[0m 2ms/step - auc: 0.8494 - loss: 9.0319e-04 - weighted_auc: 0.8563 - val_auc: 0.7862 - val_loss: 8.8958e-04 - val_weighted_auc: 0.7922\n",
      "Epoch 11/50\n",
      "\u001b[1m9023/9023\u001b[0m \u001b[32m━━━━━━━━━━━━━━━━━━━━\u001b[0m\u001b[37m\u001b[0m \u001b[1m21s\u001b[0m 2ms/step - auc: 0.8431 - loss: 8.9468e-04 - weighted_auc: 0.8473 - val_auc: 0.8130 - val_loss: 8.9800e-04 - val_weighted_auc: 0.8206\n",
      "Epoch 12/50\n",
      "\u001b[1m9023/9023\u001b[0m \u001b[32m━━━━━━━━━━━━━━━━━━━━\u001b[0m\u001b[37m\u001b[0m \u001b[1m21s\u001b[0m 2ms/step - auc: 0.8463 - loss: 8.9298e-04 - weighted_auc: 0.8536 - val_auc: 0.8092 - val_loss: 8.8777e-04 - val_weighted_auc: 0.8155\n",
      "Epoch 13/50\n",
      "\u001b[1m9023/9023\u001b[0m \u001b[32m━━━━━━━━━━━━━━━━━━━━\u001b[0m\u001b[37m\u001b[0m \u001b[1m21s\u001b[0m 2ms/step - auc: 0.8380 - loss: 8.9877e-04 - weighted_auc: 0.8452 - val_auc: 0.8067 - val_loss: 8.8631e-04 - val_weighted_auc: 0.8127\n",
      "Epoch 14/50\n",
      "\u001b[1m9023/9023\u001b[0m \u001b[32m━━━━━━━━━━━━━━━━━━━━\u001b[0m\u001b[37m\u001b[0m \u001b[1m22s\u001b[0m 2ms/step - auc: 0.8290 - loss: 8.9679e-04 - weighted_auc: 0.8350 - val_auc: 0.8330 - val_loss: 8.7714e-04 - val_weighted_auc: 0.8401\n",
      "Epoch 15/50\n",
      "\u001b[1m9023/9023\u001b[0m \u001b[32m━━━━━━━━━━━━━━━━━━━━\u001b[0m\u001b[37m\u001b[0m \u001b[1m22s\u001b[0m 2ms/step - auc: 0.8368 - loss: 8.9878e-04 - weighted_auc: 0.8420 - val_auc: 0.8285 - val_loss: 8.8971e-04 - val_weighted_auc: 0.8342\n",
      "Epoch 16/50\n",
      "\u001b[1m9023/9023\u001b[0m \u001b[32m━━━━━━━━━━━━━━━━━━━━\u001b[0m\u001b[37m\u001b[0m \u001b[1m21s\u001b[0m 2ms/step - auc: 0.8334 - loss: 8.9276e-04 - weighted_auc: 0.8382 - val_auc: 0.8082 - val_loss: 8.8027e-04 - val_weighted_auc: 0.8158\n",
      "Epoch 17/50\n",
      "\u001b[1m9023/9023\u001b[0m \u001b[32m━━━━━━━━━━━━━━━━━━━━\u001b[0m\u001b[37m\u001b[0m \u001b[1m21s\u001b[0m 2ms/step - auc: 0.8282 - loss: 8.8896e-04 - weighted_auc: 0.8351 - val_auc: 0.8157 - val_loss: 8.7692e-04 - val_weighted_auc: 0.8214\n",
      "Epoch 18/50\n",
      "\u001b[1m9023/9023\u001b[0m \u001b[32m━━━━━━━━━━━━━━━━━━━━\u001b[0m\u001b[37m\u001b[0m \u001b[1m22s\u001b[0m 2ms/step - auc: 0.8243 - loss: 8.8712e-04 - weighted_auc: 0.8326 - val_auc: 0.8149 - val_loss: 8.7327e-04 - val_weighted_auc: 0.8192\n",
      "Epoch 19/50\n",
      "\u001b[1m9023/9023\u001b[0m \u001b[32m━━━━━━━━━━━━━━━━━━━━\u001b[0m\u001b[37m\u001b[0m \u001b[1m21s\u001b[0m 2ms/step - auc: 0.8359 - loss: 9.2148e-04 - weighted_auc: 0.8448 - val_auc: 0.8219 - val_loss: 8.8407e-04 - val_weighted_auc: 0.8288\n",
      "\u001b[1m30935/30935\u001b[0m \u001b[32m━━━━━━━━━━━━━━━━━━━━\u001b[0m\u001b[37m\u001b[0m \u001b[1m21s\u001b[0m 658us/step\n",
      "\u001b[1m12890/12890\u001b[0m \u001b[32m━━━━━━━━━━━━━━━━━━━━\u001b[0m\u001b[37m\u001b[0m \u001b[1m9s\u001b[0m 716us/step\n"
     ]
    },
    {
     "data": {
      "text/html": [],
      "text/plain": [
       "<IPython.core.display.HTML object>"
      ]
     },
     "metadata": {},
     "output_type": "display_data"
    },
    {
     "data": {
      "text/html": [
       "<br>    <style><br>        .wandb-row {<br>            display: flex;<br>            flex-direction: row;<br>            flex-wrap: wrap;<br>            justify-content: flex-start;<br>            width: 100%;<br>        }<br>        .wandb-col {<br>            display: flex;<br>            flex-direction: column;<br>            flex-basis: 100%;<br>            flex: 1;<br>            padding: 10px;<br>        }<br>    </style><br><div class=\"wandb-row\"><div class=\"wandb-col\"><h3>Run history:</h3><br/><table class=\"wandb\"><tr><td>Acceptance</td><td>▁</td></tr><tr><td>Max S/sqrt(B)</td><td>▁</td></tr><tr><td>epoch/auc</td><td>▁▅▇▇████████▇▇▇▇▇▇▇</td></tr><tr><td>epoch/epoch</td><td>▁▁▂▂▃▃▃▄▄▅▅▅▆▆▆▇▇██</td></tr><tr><td>epoch/learning_rate</td><td>▁▁▁▁▁▁▁▁▁▁▁▁▁▁▁▁▁▁▁</td></tr><tr><td>epoch/loss</td><td>█▃▂▂▁▁▁▁▁▁▁▁▁▁▁▁▁▁▁</td></tr><tr><td>epoch/val_auc</td><td>▁▅▅▅▅▇▇▆▆▆▇▇▇██▇▇▇▇</td></tr><tr><td>epoch/val_loss</td><td>█▄▅▄▅▁▂▂▂▁▂▁▁▁▁▁▁▁▁</td></tr><tr><td>epoch/val_weighted_auc</td><td>▁▅▅▅▅▇▇▆▇▆▇▇▇██▇▇▇▇</td></tr><tr><td>epoch/weighted_auc</td><td>▁▅▇▇████████▇▇▇▇▆▇▇</td></tr><tr><td>final_val_roc_auc</td><td>▁</td></tr><tr><td>nnScore cut</td><td>▁</td></tr></table><br/></div><div class=\"wandb-col\"><h3>Run summary:</h3><br/><table class=\"wandb\"><tr><td>Acceptance</td><td>0.52472</td></tr><tr><td>Max S/sqrt(B)</td><td>2.40994</td></tr><tr><td>epoch/auc</td><td>0.82318</td></tr><tr><td>epoch/epoch</td><td>18</td></tr><tr><td>epoch/learning_rate</td><td>0.00078</td></tr><tr><td>epoch/loss</td><td>0.00092</td></tr><tr><td>epoch/val_auc</td><td>0.82186</td></tr><tr><td>epoch/val_loss</td><td>0.00088</td></tr><tr><td>epoch/val_weighted_auc</td><td>0.8288</td></tr><tr><td>epoch/weighted_auc</td><td>0.83514</td></tr><tr><td>final_val_roc_auc</td><td>0.97416</td></tr><tr><td>nnScore cut</td><td>0.04</td></tr></table><br/></div></div>"
      ],
      "text/plain": [
       "<IPython.core.display.HTML object>"
      ]
     },
     "metadata": {},
     "output_type": "display_data"
    },
    {
     "data": {
      "text/html": [
       " View run <strong style=\"color:#cdcd00\">lilac-sweep-4</strong> at: <a href='https://wandb.ai/dlai211/tf-dnn-weighted-classifier/runs/53dej73j' target=\"_blank\">https://wandb.ai/dlai211/tf-dnn-weighted-classifier/runs/53dej73j</a><br> View project at: <a href='https://wandb.ai/dlai211/tf-dnn-weighted-classifier' target=\"_blank\">https://wandb.ai/dlai211/tf-dnn-weighted-classifier</a><br>Synced 5 W&B file(s), 1 media file(s), 0 artifact file(s) and 0 other file(s)"
      ],
      "text/plain": [
       "<IPython.core.display.HTML object>"
      ]
     },
     "metadata": {},
     "output_type": "display_data"
    },
    {
     "data": {
      "text/html": [
       "Find logs at: <code>./wandb/run-20250821_043821-53dej73j/logs</code>"
      ],
      "text/plain": [
       "<IPython.core.display.HTML object>"
      ]
     },
     "metadata": {},
     "output_type": "display_data"
    },
    {
     "name": "stderr",
     "output_type": "stream",
     "text": [
      "\u001b[34m\u001b[1mwandb\u001b[0m: Sweep Agent: Waiting for job.\n",
      "\u001b[34m\u001b[1mwandb\u001b[0m: Job received.\n",
      "\u001b[34m\u001b[1mwandb\u001b[0m: Agent Starting Run: 71uc3dyx with config:\n",
      "\u001b[34m\u001b[1mwandb\u001b[0m: \tbatch_size: 256\n",
      "\u001b[34m\u001b[1mwandb\u001b[0m: \tdropout: 0.4065197866245005\n",
      "\u001b[34m\u001b[1mwandb\u001b[0m: \tepochs: 50\n",
      "\u001b[34m\u001b[1mwandb\u001b[0m: \tlayer_1: 128\n",
      "\u001b[34m\u001b[1mwandb\u001b[0m: \tlayer_2: 384\n",
      "\u001b[34m\u001b[1mwandb\u001b[0m: \tlayer_3: 1536\n",
      "\u001b[34m\u001b[1mwandb\u001b[0m: \tlayer_4: 384\n",
      "\u001b[34m\u001b[1mwandb\u001b[0m: \tlayer_5: 64\n",
      "\u001b[34m\u001b[1mwandb\u001b[0m: \tlr: 0.001388345467610422\n"
     ]
    },
    {
     "data": {
      "text/html": [
       "Ignoring project 'tf-dnn-weighted-classifier' when running a sweep."
      ],
      "text/plain": [
       "<IPython.core.display.HTML object>"
      ]
     },
     "metadata": {},
     "output_type": "display_data"
    },
    {
     "data": {
      "text/html": [
       "Tracking run with wandb version 0.21.0"
      ],
      "text/plain": [
       "<IPython.core.display.HTML object>"
      ]
     },
     "metadata": {},
     "output_type": "display_data"
    },
    {
     "data": {
      "text/html": [
       "Run data is saved locally in <code>/home/jlai/ML/jet_faking/wandb/run-20250821_044635-71uc3dyx</code>"
      ],
      "text/plain": [
       "<IPython.core.display.HTML object>"
      ]
     },
     "metadata": {},
     "output_type": "display_data"
    },
    {
     "data": {
      "text/html": [
       "Syncing run <strong><a href='https://wandb.ai/dlai211/tf-dnn-weighted-classifier/runs/71uc3dyx' target=\"_blank\">drawn-sweep-5</a></strong> to <a href='https://wandb.ai/dlai211/tf-dnn-weighted-classifier' target=\"_blank\">Weights & Biases</a> (<a href='https://wandb.me/developer-guide' target=\"_blank\">docs</a>)<br>Sweep page: <a href='https://wandb.ai/dlai211/tf-dnn-weighted-classifier/sweeps/rg1dnn5u' target=\"_blank\">https://wandb.ai/dlai211/tf-dnn-weighted-classifier/sweeps/rg1dnn5u</a>"
      ],
      "text/plain": [
       "<IPython.core.display.HTML object>"
      ]
     },
     "metadata": {},
     "output_type": "display_data"
    },
    {
     "data": {
      "text/html": [
       " View project at <a href='https://wandb.ai/dlai211/tf-dnn-weighted-classifier' target=\"_blank\">https://wandb.ai/dlai211/tf-dnn-weighted-classifier</a>"
      ],
      "text/plain": [
       "<IPython.core.display.HTML object>"
      ]
     },
     "metadata": {},
     "output_type": "display_data"
    },
    {
     "data": {
      "text/html": [
       " View sweep at <a href='https://wandb.ai/dlai211/tf-dnn-weighted-classifier/sweeps/rg1dnn5u' target=\"_blank\">https://wandb.ai/dlai211/tf-dnn-weighted-classifier/sweeps/rg1dnn5u</a>"
      ],
      "text/plain": [
       "<IPython.core.display.HTML object>"
      ]
     },
     "metadata": {},
     "output_type": "display_data"
    },
    {
     "data": {
      "text/html": [
       " View run at <a href='https://wandb.ai/dlai211/tf-dnn-weighted-classifier/runs/71uc3dyx' target=\"_blank\">https://wandb.ai/dlai211/tf-dnn-weighted-classifier/runs/71uc3dyx</a>"
      ],
      "text/plain": [
       "<IPython.core.display.HTML object>"
      ]
     },
     "metadata": {},
     "output_type": "display_data"
    },
    {
     "name": "stderr",
     "output_type": "stream",
     "text": [
      "/home/jlai/.local/share/mamba/envs/tf-gpu/lib/python3.10/site-packages/keras/src/layers/core/dense.py:93: UserWarning: Do not pass an `input_shape`/`input_dim` argument to a layer. When using Sequential models, prefer using an `Input(shape)` object as the first layer in the model instead.\n",
      "  super().__init__(activity_regularizer=activity_regularizer, **kwargs)\n"
     ]
    },
    {
     "name": "stdout",
     "output_type": "stream",
     "text": [
      "Epoch 1/50\n",
      "\u001b[1m9023/9023\u001b[0m \u001b[32m━━━━━━━━━━━━━━━━━━━━\u001b[0m\u001b[37m\u001b[0m \u001b[1m30s\u001b[0m 3ms/step - auc: 0.6930 - loss: 0.0021 - weighted_auc: 0.6998 - val_auc: 0.7613 - val_loss: 0.0010 - val_weighted_auc: 0.7722\n",
      "Epoch 2/50\n",
      "\u001b[1m9023/9023\u001b[0m \u001b[32m━━━━━━━━━━━━━━━━━━━━\u001b[0m\u001b[37m\u001b[0m \u001b[1m23s\u001b[0m 2ms/step - auc: 0.7816 - loss: 0.0011 - weighted_auc: 0.7934 - val_auc: 0.7488 - val_loss: 0.0010 - val_weighted_auc: 0.7568\n",
      "Epoch 3/50\n",
      "\u001b[1m9023/9023\u001b[0m \u001b[32m━━━━━━━━━━━━━━━━━━━━\u001b[0m\u001b[37m\u001b[0m \u001b[1m23s\u001b[0m 3ms/step - auc: 0.8188 - loss: 0.0010 - weighted_auc: 0.8254 - val_auc: 0.7752 - val_loss: 0.0010 - val_weighted_auc: 0.7853\n",
      "Epoch 4/50\n",
      "\u001b[1m9023/9023\u001b[0m \u001b[32m━━━━━━━━━━━━━━━━━━━━\u001b[0m\u001b[37m\u001b[0m \u001b[1m23s\u001b[0m 2ms/step - auc: 0.8311 - loss: 9.6618e-04 - weighted_auc: 0.8426 - val_auc: 0.7265 - val_loss: 9.8228e-04 - val_weighted_auc: 0.7354\n",
      "Epoch 5/50\n",
      "\u001b[1m9023/9023\u001b[0m \u001b[32m━━━━━━━━━━━━━━━━━━━━\u001b[0m\u001b[37m\u001b[0m \u001b[1m23s\u001b[0m 3ms/step - auc: 0.8303 - loss: 9.7453e-04 - weighted_auc: 0.8372 - val_auc: 0.7588 - val_loss: 9.2508e-04 - val_weighted_auc: 0.7658\n",
      "Epoch 6/50\n",
      "\u001b[1m9023/9023\u001b[0m \u001b[32m━━━━━━━━━━━━━━━━━━━━\u001b[0m\u001b[37m\u001b[0m \u001b[1m22s\u001b[0m 2ms/step - auc: 0.8327 - loss: 9.8555e-04 - weighted_auc: 0.8394 - val_auc: 0.7425 - val_loss: 9.5211e-04 - val_weighted_auc: 0.7480\n",
      "Epoch 7/50\n",
      "\u001b[1m9023/9023\u001b[0m \u001b[32m━━━━━━━━━━━━━━━━━━━━\u001b[0m\u001b[37m\u001b[0m \u001b[1m23s\u001b[0m 3ms/step - auc: 0.8153 - loss: 9.6341e-04 - weighted_auc: 0.8209 - val_auc: 0.7885 - val_loss: 9.4241e-04 - val_weighted_auc: 0.7957\n",
      "Epoch 8/50\n",
      "\u001b[1m9023/9023\u001b[0m \u001b[32m━━━━━━━━━━━━━━━━━━━━\u001b[0m\u001b[37m\u001b[0m \u001b[1m23s\u001b[0m 2ms/step - auc: 0.8179 - loss: 9.7917e-04 - weighted_auc: 0.8254 - val_auc: 0.7747 - val_loss: 9.4070e-04 - val_weighted_auc: 0.7806\n",
      "Epoch 9/50\n",
      "\u001b[1m9023/9023\u001b[0m \u001b[32m━━━━━━━━━━━━━━━━━━━━\u001b[0m\u001b[37m\u001b[0m \u001b[1m23s\u001b[0m 2ms/step - auc: 0.8066 - loss: 9.7783e-04 - weighted_auc: 0.8130 - val_auc: 0.7831 - val_loss: 9.2751e-04 - val_weighted_auc: 0.7899\n",
      "Epoch 10/50\n",
      "\u001b[1m9023/9023\u001b[0m \u001b[32m━━━━━━━━━━━━━━━━━━━━\u001b[0m\u001b[37m\u001b[0m \u001b[1m23s\u001b[0m 3ms/step - auc: 0.7998 - loss: 9.8807e-04 - weighted_auc: 0.8081 - val_auc: 0.7817 - val_loss: 9.1079e-04 - val_weighted_auc: 0.7880\n",
      "Epoch 11/50\n",
      "\u001b[1m9023/9023\u001b[0m \u001b[32m━━━━━━━━━━━━━━━━━━━━\u001b[0m\u001b[37m\u001b[0m \u001b[1m22s\u001b[0m 2ms/step - auc: 0.7986 - loss: 9.6026e-04 - weighted_auc: 0.8043 - val_auc: 0.8013 - val_loss: 8.8393e-04 - val_weighted_auc: 0.8095\n",
      "Epoch 12/50\n",
      "\u001b[1m9023/9023\u001b[0m \u001b[32m━━━━━━━━━━━━━━━━━━━━\u001b[0m\u001b[37m\u001b[0m \u001b[1m23s\u001b[0m 3ms/step - auc: 0.8033 - loss: 9.7534e-04 - weighted_auc: 0.8128 - val_auc: 0.7873 - val_loss: 9.3410e-04 - val_weighted_auc: 0.7971\n",
      "Epoch 13/50\n",
      "\u001b[1m9023/9023\u001b[0m \u001b[32m━━━━━━━━━━━━━━━━━━━━\u001b[0m\u001b[37m\u001b[0m \u001b[1m22s\u001b[0m 2ms/step - auc: 0.7945 - loss: 0.0010 - weighted_auc: 0.8044 - val_auc: 0.7789 - val_loss: 9.3411e-04 - val_weighted_auc: 0.7859\n",
      "Epoch 14/50\n",
      "\u001b[1m9023/9023\u001b[0m \u001b[32m━━━━━━━━━━━━━━━━━━━━\u001b[0m\u001b[37m\u001b[0m \u001b[1m23s\u001b[0m 2ms/step - auc: 0.7820 - loss: 9.9192e-04 - weighted_auc: 0.7879 - val_auc: 0.7594 - val_loss: 9.1446e-04 - val_weighted_auc: 0.7691\n",
      "Epoch 15/50\n",
      "\u001b[1m9023/9023\u001b[0m \u001b[32m━━━━━━━━━━━━━━━━━━━━\u001b[0m\u001b[37m\u001b[0m \u001b[1m23s\u001b[0m 3ms/step - auc: 0.7618 - loss: 9.6398e-04 - weighted_auc: 0.7671 - val_auc: 0.7787 - val_loss: 8.9414e-04 - val_weighted_auc: 0.7871\n",
      "Epoch 16/50\n",
      "\u001b[1m9023/9023\u001b[0m \u001b[32m━━━━━━━━━━━━━━━━━━━━\u001b[0m\u001b[37m\u001b[0m \u001b[1m23s\u001b[0m 2ms/step - auc: 0.7878 - loss: 9.7378e-04 - weighted_auc: 0.7961 - val_auc: 0.7676 - val_loss: 9.0995e-04 - val_weighted_auc: 0.7726\n",
      "\u001b[1m30935/30935\u001b[0m \u001b[32m━━━━━━━━━━━━━━━━━━━━\u001b[0m\u001b[37m\u001b[0m \u001b[1m20s\u001b[0m 646us/step\n",
      "\u001b[1m12890/12890\u001b[0m \u001b[32m━━━━━━━━━━━━━━━━━━━━\u001b[0m\u001b[37m\u001b[0m \u001b[1m10s\u001b[0m 740us/step\n"
     ]
    },
    {
     "data": {
      "text/html": [],
      "text/plain": [
       "<IPython.core.display.HTML object>"
      ]
     },
     "metadata": {},
     "output_type": "display_data"
    },
    {
     "data": {
      "text/html": [
       "<br>    <style><br>        .wandb-row {<br>            display: flex;<br>            flex-direction: row;<br>            flex-wrap: wrap;<br>            justify-content: flex-start;<br>            width: 100%;<br>        }<br>        .wandb-col {<br>            display: flex;<br>            flex-direction: column;<br>            flex-basis: 100%;<br>            flex: 1;<br>            padding: 10px;<br>        }<br>    </style><br><div class=\"wandb-row\"><div class=\"wandb-col\"><h3>Run history:</h3><br/><table class=\"wandb\"><tr><td>Acceptance</td><td>▁</td></tr><tr><td>Max S/sqrt(B)</td><td>▁</td></tr><tr><td>epoch/auc</td><td>▁▅▇███▇▇▆▅▅▆▅▄▃▄</td></tr><tr><td>epoch/epoch</td><td>▁▁▂▂▃▃▄▄▅▅▆▆▇▇██</td></tr><tr><td>epoch/learning_rate</td><td>▁▁▁▁▁▁▁▁▁▁▁▁▁▁▁▁</td></tr><tr><td>epoch/loss</td><td>█▃▂▁▁▁▁▂▁▂▁▂▂▂▁▁</td></tr><tr><td>epoch/val_auc</td><td>▄▃▆▁▄▂▇▆▆▆█▇▆▄▆▅</td></tr><tr><td>epoch/val_loss</td><td>█▇▇▅▃▄▃▃▃▂▁▃▃▂▁▂</td></tr><tr><td>epoch/val_weighted_auc</td><td>▄▃▆▁▄▂▇▅▆▆█▇▆▄▆▅</td></tr><tr><td>epoch/weighted_auc</td><td>▁▅████▇▇▆▅▅▆▅▄▃▄</td></tr><tr><td>final_val_roc_auc</td><td>▁</td></tr><tr><td>nnScore cut</td><td>▁</td></tr></table><br/></div><div class=\"wandb-col\"><h3>Run summary:</h3><br/><table class=\"wandb\"><tr><td>Acceptance</td><td>0.55511</td></tr><tr><td>Max S/sqrt(B)</td><td>2.74217</td></tr><tr><td>epoch/auc</td><td>0.77775</td></tr><tr><td>epoch/epoch</td><td>15</td></tr><tr><td>epoch/learning_rate</td><td>0.00139</td></tr><tr><td>epoch/loss</td><td>0.001</td></tr><tr><td>epoch/val_auc</td><td>0.76764</td></tr><tr><td>epoch/val_loss</td><td>0.00091</td></tr><tr><td>epoch/val_weighted_auc</td><td>0.77259</td></tr><tr><td>epoch/weighted_auc</td><td>0.78732</td></tr><tr><td>final_val_roc_auc</td><td>0.97268</td></tr><tr><td>nnScore cut</td><td>0.01</td></tr></table><br/></div></div>"
      ],
      "text/plain": [
       "<IPython.core.display.HTML object>"
      ]
     },
     "metadata": {},
     "output_type": "display_data"
    },
    {
     "data": {
      "text/html": [
       " View run <strong style=\"color:#cdcd00\">drawn-sweep-5</strong> at: <a href='https://wandb.ai/dlai211/tf-dnn-weighted-classifier/runs/71uc3dyx' target=\"_blank\">https://wandb.ai/dlai211/tf-dnn-weighted-classifier/runs/71uc3dyx</a><br> View project at: <a href='https://wandb.ai/dlai211/tf-dnn-weighted-classifier' target=\"_blank\">https://wandb.ai/dlai211/tf-dnn-weighted-classifier</a><br>Synced 5 W&B file(s), 1 media file(s), 0 artifact file(s) and 0 other file(s)"
      ],
      "text/plain": [
       "<IPython.core.display.HTML object>"
      ]
     },
     "metadata": {},
     "output_type": "display_data"
    },
    {
     "data": {
      "text/html": [
       "Find logs at: <code>./wandb/run-20250821_044635-71uc3dyx/logs</code>"
      ],
      "text/plain": [
       "<IPython.core.display.HTML object>"
      ]
     },
     "metadata": {},
     "output_type": "display_data"
    },
    {
     "name": "stderr",
     "output_type": "stream",
     "text": [
      "\u001b[34m\u001b[1mwandb\u001b[0m: Sweep Agent: Waiting for job.\n",
      "\u001b[34m\u001b[1mwandb\u001b[0m: Job received.\n",
      "\u001b[34m\u001b[1mwandb\u001b[0m: Agent Starting Run: 3qzm9qxb with config:\n",
      "\u001b[34m\u001b[1mwandb\u001b[0m: \tbatch_size: 256\n",
      "\u001b[34m\u001b[1mwandb\u001b[0m: \tdropout: 0.31662188665364754\n",
      "\u001b[34m\u001b[1mwandb\u001b[0m: \tepochs: 50\n",
      "\u001b[34m\u001b[1mwandb\u001b[0m: \tlayer_1: 64\n",
      "\u001b[34m\u001b[1mwandb\u001b[0m: \tlayer_2: 384\n",
      "\u001b[34m\u001b[1mwandb\u001b[0m: \tlayer_3: 2048\n",
      "\u001b[34m\u001b[1mwandb\u001b[0m: \tlayer_4: 256\n",
      "\u001b[34m\u001b[1mwandb\u001b[0m: \tlayer_5: 32\n",
      "\u001b[34m\u001b[1mwandb\u001b[0m: \tlr: 0.0005105124510948377\n"
     ]
    },
    {
     "data": {
      "text/html": [
       "Ignoring project 'tf-dnn-weighted-classifier' when running a sweep."
      ],
      "text/plain": [
       "<IPython.core.display.HTML object>"
      ]
     },
     "metadata": {},
     "output_type": "display_data"
    },
    {
     "data": {
      "text/html": [
       "Tracking run with wandb version 0.21.0"
      ],
      "text/plain": [
       "<IPython.core.display.HTML object>"
      ]
     },
     "metadata": {},
     "output_type": "display_data"
    },
    {
     "data": {
      "text/html": [
       "Run data is saved locally in <code>/home/jlai/ML/jet_faking/wandb/run-20250821_045420-3qzm9qxb</code>"
      ],
      "text/plain": [
       "<IPython.core.display.HTML object>"
      ]
     },
     "metadata": {},
     "output_type": "display_data"
    },
    {
     "data": {
      "text/html": [
       "Syncing run <strong><a href='https://wandb.ai/dlai211/tf-dnn-weighted-classifier/runs/3qzm9qxb' target=\"_blank\">proud-sweep-6</a></strong> to <a href='https://wandb.ai/dlai211/tf-dnn-weighted-classifier' target=\"_blank\">Weights & Biases</a> (<a href='https://wandb.me/developer-guide' target=\"_blank\">docs</a>)<br>Sweep page: <a href='https://wandb.ai/dlai211/tf-dnn-weighted-classifier/sweeps/rg1dnn5u' target=\"_blank\">https://wandb.ai/dlai211/tf-dnn-weighted-classifier/sweeps/rg1dnn5u</a>"
      ],
      "text/plain": [
       "<IPython.core.display.HTML object>"
      ]
     },
     "metadata": {},
     "output_type": "display_data"
    },
    {
     "data": {
      "text/html": [
       " View project at <a href='https://wandb.ai/dlai211/tf-dnn-weighted-classifier' target=\"_blank\">https://wandb.ai/dlai211/tf-dnn-weighted-classifier</a>"
      ],
      "text/plain": [
       "<IPython.core.display.HTML object>"
      ]
     },
     "metadata": {},
     "output_type": "display_data"
    },
    {
     "data": {
      "text/html": [
       " View sweep at <a href='https://wandb.ai/dlai211/tf-dnn-weighted-classifier/sweeps/rg1dnn5u' target=\"_blank\">https://wandb.ai/dlai211/tf-dnn-weighted-classifier/sweeps/rg1dnn5u</a>"
      ],
      "text/plain": [
       "<IPython.core.display.HTML object>"
      ]
     },
     "metadata": {},
     "output_type": "display_data"
    },
    {
     "data": {
      "text/html": [
       " View run at <a href='https://wandb.ai/dlai211/tf-dnn-weighted-classifier/runs/3qzm9qxb' target=\"_blank\">https://wandb.ai/dlai211/tf-dnn-weighted-classifier/runs/3qzm9qxb</a>"
      ],
      "text/plain": [
       "<IPython.core.display.HTML object>"
      ]
     },
     "metadata": {},
     "output_type": "display_data"
    },
    {
     "name": "stderr",
     "output_type": "stream",
     "text": [
      "/home/jlai/.local/share/mamba/envs/tf-gpu/lib/python3.10/site-packages/keras/src/layers/core/dense.py:93: UserWarning: Do not pass an `input_shape`/`input_dim` argument to a layer. When using Sequential models, prefer using an `Input(shape)` object as the first layer in the model instead.\n",
      "  super().__init__(activity_regularizer=activity_regularizer, **kwargs)\n"
     ]
    },
    {
     "name": "stdout",
     "output_type": "stream",
     "text": [
      "Epoch 1/50\n",
      "\u001b[1m9023/9023\u001b[0m \u001b[32m━━━━━━━━━━━━━━━━━━━━\u001b[0m\u001b[37m\u001b[0m \u001b[1m30s\u001b[0m 3ms/step - auc: 0.6744 - loss: 0.0025 - weighted_auc: 0.6870 - val_auc: 0.7291 - val_loss: 9.7839e-04 - val_weighted_auc: 0.7394\n",
      "Epoch 2/50\n",
      "\u001b[1m9023/9023\u001b[0m \u001b[32m━━━━━━━━━━━━━━━━━━━━\u001b[0m\u001b[37m\u001b[0m \u001b[1m22s\u001b[0m 2ms/step - auc: 0.7948 - loss: 9.8289e-04 - weighted_auc: 0.8064 - val_auc: 0.7964 - val_loss: 9.2388e-04 - val_weighted_auc: 0.8053\n",
      "Epoch 3/50\n",
      "\u001b[1m9023/9023\u001b[0m \u001b[32m━━━━━━━━━━━━━━━━━━━━\u001b[0m\u001b[37m\u001b[0m \u001b[1m22s\u001b[0m 2ms/step - auc: 0.8075 - loss: 9.5910e-04 - weighted_auc: 0.8199 - val_auc: 0.7695 - val_loss: 9.4718e-04 - val_weighted_auc: 0.7764\n",
      "Epoch 4/50\n",
      "\u001b[1m9023/9023\u001b[0m \u001b[32m━━━━━━━━━━━━━━━━━━━━\u001b[0m\u001b[37m\u001b[0m \u001b[1m22s\u001b[0m 2ms/step - auc: 0.8334 - loss: 9.1768e-04 - weighted_auc: 0.8425 - val_auc: 0.8014 - val_loss: 9.1647e-04 - val_weighted_auc: 0.8091\n",
      "Epoch 5/50\n",
      "\u001b[1m9023/9023\u001b[0m \u001b[32m━━━━━━━━━━━━━━━━━━━━\u001b[0m\u001b[37m\u001b[0m \u001b[1m22s\u001b[0m 2ms/step - auc: 0.8319 - loss: 8.9874e-04 - weighted_auc: 0.8414 - val_auc: 0.7981 - val_loss: 9.0077e-04 - val_weighted_auc: 0.8044\n",
      "Epoch 6/50\n",
      "\u001b[1m9023/9023\u001b[0m \u001b[32m━━━━━━━━━━━━━━━━━━━━\u001b[0m\u001b[37m\u001b[0m \u001b[1m22s\u001b[0m 2ms/step - auc: 0.8371 - loss: 8.8312e-04 - weighted_auc: 0.8445 - val_auc: 0.7970 - val_loss: 8.9431e-04 - val_weighted_auc: 0.8047\n",
      "Epoch 7/50\n",
      "\u001b[1m9023/9023\u001b[0m \u001b[32m━━━━━━━━━━━━━━━━━━━━\u001b[0m\u001b[37m\u001b[0m \u001b[1m22s\u001b[0m 2ms/step - auc: 0.8378 - loss: 8.7845e-04 - weighted_auc: 0.8453 - val_auc: 0.8109 - val_loss: 8.7284e-04 - val_weighted_auc: 0.8171\n",
      "Epoch 8/50\n",
      "\u001b[1m9023/9023\u001b[0m \u001b[32m━━━━━━━━━━━━━━━━━━━━\u001b[0m\u001b[37m\u001b[0m \u001b[1m22s\u001b[0m 2ms/step - auc: 0.8460 - loss: 8.6985e-04 - weighted_auc: 0.8509 - val_auc: 0.7732 - val_loss: 8.9822e-04 - val_weighted_auc: 0.7801\n",
      "Epoch 9/50\n",
      "\u001b[1m9023/9023\u001b[0m \u001b[32m━━━━━━━━━━━━━━━━━━━━\u001b[0m\u001b[37m\u001b[0m \u001b[1m22s\u001b[0m 2ms/step - auc: 0.8418 - loss: 8.6822e-04 - weighted_auc: 0.8459 - val_auc: 0.8163 - val_loss: 8.6727e-04 - val_weighted_auc: 0.8224\n",
      "Epoch 10/50\n",
      "\u001b[1m9023/9023\u001b[0m \u001b[32m━━━━━━━━━━━━━━━━━━━━\u001b[0m\u001b[37m\u001b[0m \u001b[1m22s\u001b[0m 2ms/step - auc: 0.8493 - loss: 8.6106e-04 - weighted_auc: 0.8531 - val_auc: 0.8177 - val_loss: 8.6709e-04 - val_weighted_auc: 0.8239\n",
      "Epoch 11/50\n",
      "\u001b[1m9023/9023\u001b[0m \u001b[32m━━━━━━━━━━━━━━━━━━━━\u001b[0m\u001b[37m\u001b[0m \u001b[1m22s\u001b[0m 2ms/step - auc: 0.8506 - loss: 8.4802e-04 - weighted_auc: 0.8558 - val_auc: 0.8084 - val_loss: 8.6630e-04 - val_weighted_auc: 0.8179\n",
      "Epoch 12/50\n",
      "\u001b[1m9023/9023\u001b[0m \u001b[32m━━━━━━━━━━━━━━━━━━━━\u001b[0m\u001b[37m\u001b[0m \u001b[1m22s\u001b[0m 2ms/step - auc: 0.8505 - loss: 8.4967e-04 - weighted_auc: 0.8581 - val_auc: 0.8003 - val_loss: 8.7245e-04 - val_weighted_auc: 0.8092\n",
      "Epoch 13/50\n",
      "\u001b[1m9023/9023\u001b[0m \u001b[32m━━━━━━━━━━━━━━━━━━━━\u001b[0m\u001b[37m\u001b[0m \u001b[1m22s\u001b[0m 2ms/step - auc: 0.8494 - loss: 8.4930e-04 - weighted_auc: 0.8550 - val_auc: 0.8042 - val_loss: 8.7907e-04 - val_weighted_auc: 0.8105\n",
      "Epoch 14/50\n",
      "\u001b[1m9023/9023\u001b[0m \u001b[32m━━━━━━━━━━━━━━━━━━━━\u001b[0m\u001b[37m\u001b[0m \u001b[1m22s\u001b[0m 2ms/step - auc: 0.8503 - loss: 8.4733e-04 - weighted_auc: 0.8581 - val_auc: 0.8217 - val_loss: 8.6136e-04 - val_weighted_auc: 0.8279\n",
      "Epoch 15/50\n",
      "\u001b[1m9023/9023\u001b[0m \u001b[32m━━━━━━━━━━━━━━━━━━━━\u001b[0m\u001b[37m\u001b[0m \u001b[1m22s\u001b[0m 2ms/step - auc: 0.8510 - loss: 8.4435e-04 - weighted_auc: 0.8551 - val_auc: 0.8026 - val_loss: 8.7417e-04 - val_weighted_auc: 0.8061\n",
      "Epoch 16/50\n",
      "\u001b[1m9023/9023\u001b[0m \u001b[32m━━━━━━━━━━━━━━━━━━━━\u001b[0m\u001b[37m\u001b[0m \u001b[1m22s\u001b[0m 2ms/step - auc: 0.8483 - loss: 8.4833e-04 - weighted_auc: 0.8535 - val_auc: 0.8205 - val_loss: 8.6079e-04 - val_weighted_auc: 0.8268\n",
      "Epoch 17/50\n",
      "\u001b[1m9023/9023\u001b[0m \u001b[32m━━━━━━━━━━━━━━━━━━━━\u001b[0m\u001b[37m\u001b[0m \u001b[1m22s\u001b[0m 2ms/step - auc: 0.8520 - loss: 8.5143e-04 - weighted_auc: 0.8574 - val_auc: 0.8145 - val_loss: 8.5108e-04 - val_weighted_auc: 0.8198\n",
      "Epoch 18/50\n",
      "\u001b[1m9023/9023\u001b[0m \u001b[32m━━━━━━━━━━━━━━━━━━━━\u001b[0m\u001b[37m\u001b[0m \u001b[1m22s\u001b[0m 2ms/step - auc: 0.8488 - loss: 8.5262e-04 - weighted_auc: 0.8544 - val_auc: 0.8252 - val_loss: 8.6767e-04 - val_weighted_auc: 0.8319\n",
      "Epoch 19/50\n",
      "\u001b[1m9023/9023\u001b[0m \u001b[32m━━━━━━━━━━━━━━━━━━━━\u001b[0m\u001b[37m\u001b[0m \u001b[1m22s\u001b[0m 2ms/step - auc: 0.8521 - loss: 8.5280e-04 - weighted_auc: 0.8580 - val_auc: 0.8300 - val_loss: 8.5081e-04 - val_weighted_auc: 0.8357\n",
      "Epoch 20/50\n",
      "\u001b[1m9023/9023\u001b[0m \u001b[32m━━━━━━━━━━━━━━━━━━━━\u001b[0m\u001b[37m\u001b[0m \u001b[1m22s\u001b[0m 2ms/step - auc: 0.8492 - loss: 8.5134e-04 - weighted_auc: 0.8552 - val_auc: 0.8073 - val_loss: 8.6004e-04 - val_weighted_auc: 0.8162\n",
      "Epoch 21/50\n",
      "\u001b[1m9023/9023\u001b[0m \u001b[32m━━━━━━━━━━━━━━━━━━━━\u001b[0m\u001b[37m\u001b[0m \u001b[1m22s\u001b[0m 2ms/step - auc: 0.8508 - loss: 8.5327e-04 - weighted_auc: 0.8572 - val_auc: 0.8036 - val_loss: 8.6427e-04 - val_weighted_auc: 0.8095\n",
      "Epoch 22/50\n",
      "\u001b[1m9023/9023\u001b[0m \u001b[32m━━━━━━━━━━━━━━━━━━━━\u001b[0m\u001b[37m\u001b[0m \u001b[1m22s\u001b[0m 2ms/step - auc: 0.8488 - loss: 8.4842e-04 - weighted_auc: 0.8548 - val_auc: 0.8045 - val_loss: 8.6614e-04 - val_weighted_auc: 0.8101\n",
      "Epoch 23/50\n",
      "\u001b[1m9023/9023\u001b[0m \u001b[32m━━━━━━━━━━━━━━━━━━━━\u001b[0m\u001b[37m\u001b[0m \u001b[1m22s\u001b[0m 2ms/step - auc: 0.8483 - loss: 8.4986e-04 - weighted_auc: 0.8542 - val_auc: 0.8054 - val_loss: 8.6407e-04 - val_weighted_auc: 0.8115\n",
      "Epoch 24/50\n",
      "\u001b[1m9023/9023\u001b[0m \u001b[32m━━━━━━━━━━━━━━━━━━━━\u001b[0m\u001b[37m\u001b[0m \u001b[1m22s\u001b[0m 2ms/step - auc: 0.8470 - loss: 8.4235e-04 - weighted_auc: 0.8553 - val_auc: 0.8127 - val_loss: 8.6618e-04 - val_weighted_auc: 0.8186\n",
      "\u001b[1m30935/30935\u001b[0m \u001b[32m━━━━━━━━━━━━━━━━━━━━\u001b[0m\u001b[37m\u001b[0m \u001b[1m21s\u001b[0m 667us/step\n",
      "\u001b[1m12890/12890\u001b[0m \u001b[32m━━━━━━━━━━━━━━━━━━━━\u001b[0m\u001b[37m\u001b[0m \u001b[1m9s\u001b[0m 708us/step\n"
     ]
    },
    {
     "data": {
      "text/html": [],
      "text/plain": [
       "<IPython.core.display.HTML object>"
      ]
     },
     "metadata": {},
     "output_type": "display_data"
    },
    {
     "data": {
      "text/html": [
       "<br>    <style><br>        .wandb-row {<br>            display: flex;<br>            flex-direction: row;<br>            flex-wrap: wrap;<br>            justify-content: flex-start;<br>            width: 100%;<br>        }<br>        .wandb-col {<br>            display: flex;<br>            flex-direction: column;<br>            flex-basis: 100%;<br>            flex: 1;<br>            padding: 10px;<br>        }<br>    </style><br><div class=\"wandb-row\"><div class=\"wandb-col\"><h3>Run history:</h3><br/><table class=\"wandb\"><tr><td>Acceptance</td><td>▁</td></tr><tr><td>Max S/sqrt(B)</td><td>▁</td></tr><tr><td>epoch/auc</td><td>▁▅▆▇▇▇▇█████████████████</td></tr><tr><td>epoch/epoch</td><td>▁▁▂▂▂▃▃▃▃▄▄▄▅▅▅▆▆▆▆▇▇▇██</td></tr><tr><td>epoch/learning_rate</td><td>▁▁▁▁▁▁▁▁▁▁▁▁▁▁▁▁▁▁▁▁▁▁▁▁</td></tr><tr><td>epoch/loss</td><td>█▃▃▂▂▂▂▁▁▁▁▁▁▁▁▁▁▁▁▁▁▁▁▁</td></tr><tr><td>epoch/val_auc</td><td>▁▆▄▆▆▆▇▄▇▇▇▆▆▇▆▇▇██▆▆▆▆▇</td></tr><tr><td>epoch/val_loss</td><td>█▅▆▅▄▃▂▄▂▂▂▂▃▂▂▂▁▂▁▂▂▂▂▂</td></tr><tr><td>epoch/val_weighted_auc</td><td>▁▆▄▆▆▆▇▄▇▇▇▆▆▇▆▇▇██▇▆▆▆▇</td></tr><tr><td>epoch/weighted_auc</td><td>▁▅▆▇▇▇▇█████████████████</td></tr><tr><td>final_val_roc_auc</td><td>▁</td></tr><tr><td>nnScore cut</td><td>▁</td></tr></table><br/></div><div class=\"wandb-col\"><h3>Run summary:</h3><br/><table class=\"wandb\"><tr><td>Acceptance</td><td>0.49253</td></tr><tr><td>Max S/sqrt(B)</td><td>2.57913</td></tr><tr><td>epoch/auc</td><td>0.84448</td></tr><tr><td>epoch/epoch</td><td>23</td></tr><tr><td>epoch/learning_rate</td><td>0.00051</td></tr><tr><td>epoch/loss</td><td>0.00085</td></tr><tr><td>epoch/val_auc</td><td>0.8127</td></tr><tr><td>epoch/val_loss</td><td>0.00087</td></tr><tr><td>epoch/val_weighted_auc</td><td>0.8186</td></tr><tr><td>epoch/weighted_auc</td><td>0.85487</td></tr><tr><td>final_val_roc_auc</td><td>0.9757</td></tr><tr><td>nnScore cut</td><td>0.01</td></tr></table><br/></div></div>"
      ],
      "text/plain": [
       "<IPython.core.display.HTML object>"
      ]
     },
     "metadata": {},
     "output_type": "display_data"
    },
    {
     "data": {
      "text/html": [
       " View run <strong style=\"color:#cdcd00\">proud-sweep-6</strong> at: <a href='https://wandb.ai/dlai211/tf-dnn-weighted-classifier/runs/3qzm9qxb' target=\"_blank\">https://wandb.ai/dlai211/tf-dnn-weighted-classifier/runs/3qzm9qxb</a><br> View project at: <a href='https://wandb.ai/dlai211/tf-dnn-weighted-classifier' target=\"_blank\">https://wandb.ai/dlai211/tf-dnn-weighted-classifier</a><br>Synced 5 W&B file(s), 1 media file(s), 0 artifact file(s) and 0 other file(s)"
      ],
      "text/plain": [
       "<IPython.core.display.HTML object>"
      ]
     },
     "metadata": {},
     "output_type": "display_data"
    },
    {
     "data": {
      "text/html": [
       "Find logs at: <code>./wandb/run-20250821_045420-3qzm9qxb/logs</code>"
      ],
      "text/plain": [
       "<IPython.core.display.HTML object>"
      ]
     },
     "metadata": {},
     "output_type": "display_data"
    },
    {
     "name": "stderr",
     "output_type": "stream",
     "text": [
      "\u001b[34m\u001b[1mwandb\u001b[0m: Agent Starting Run: kuiv2c0u with config:\n",
      "\u001b[34m\u001b[1mwandb\u001b[0m: \tbatch_size: 128\n",
      "\u001b[34m\u001b[1mwandb\u001b[0m: \tdropout: 0.2317726804996748\n",
      "\u001b[34m\u001b[1mwandb\u001b[0m: \tepochs: 50\n",
      "\u001b[34m\u001b[1mwandb\u001b[0m: \tlayer_1: 128\n",
      "\u001b[34m\u001b[1mwandb\u001b[0m: \tlayer_2: 256\n",
      "\u001b[34m\u001b[1mwandb\u001b[0m: \tlayer_3: 1536\n",
      "\u001b[34m\u001b[1mwandb\u001b[0m: \tlayer_4: 128\n",
      "\u001b[34m\u001b[1mwandb\u001b[0m: \tlayer_5: 64\n",
      "\u001b[34m\u001b[1mwandb\u001b[0m: \tlr: 0.0007859983717944701\n"
     ]
    },
    {
     "data": {
      "text/html": [
       "Ignoring project 'tf-dnn-weighted-classifier' when running a sweep."
      ],
      "text/plain": [
       "<IPython.core.display.HTML object>"
      ]
     },
     "metadata": {},
     "output_type": "display_data"
    },
    {
     "data": {
      "text/html": [
       "Tracking run with wandb version 0.21.0"
      ],
      "text/plain": [
       "<IPython.core.display.HTML object>"
      ]
     },
     "metadata": {},
     "output_type": "display_data"
    },
    {
     "data": {
      "text/html": [
       "Run data is saved locally in <code>/home/jlai/ML/jet_faking/wandb/run-20250821_050412-kuiv2c0u</code>"
      ],
      "text/plain": [
       "<IPython.core.display.HTML object>"
      ]
     },
     "metadata": {},
     "output_type": "display_data"
    },
    {
     "data": {
      "text/html": [
       "Syncing run <strong><a href='https://wandb.ai/dlai211/tf-dnn-weighted-classifier/runs/kuiv2c0u' target=\"_blank\">glamorous-sweep-7</a></strong> to <a href='https://wandb.ai/dlai211/tf-dnn-weighted-classifier' target=\"_blank\">Weights & Biases</a> (<a href='https://wandb.me/developer-guide' target=\"_blank\">docs</a>)<br>Sweep page: <a href='https://wandb.ai/dlai211/tf-dnn-weighted-classifier/sweeps/rg1dnn5u' target=\"_blank\">https://wandb.ai/dlai211/tf-dnn-weighted-classifier/sweeps/rg1dnn5u</a>"
      ],
      "text/plain": [
       "<IPython.core.display.HTML object>"
      ]
     },
     "metadata": {},
     "output_type": "display_data"
    },
    {
     "data": {
      "text/html": [
       " View project at <a href='https://wandb.ai/dlai211/tf-dnn-weighted-classifier' target=\"_blank\">https://wandb.ai/dlai211/tf-dnn-weighted-classifier</a>"
      ],
      "text/plain": [
       "<IPython.core.display.HTML object>"
      ]
     },
     "metadata": {},
     "output_type": "display_data"
    },
    {
     "data": {
      "text/html": [
       " View sweep at <a href='https://wandb.ai/dlai211/tf-dnn-weighted-classifier/sweeps/rg1dnn5u' target=\"_blank\">https://wandb.ai/dlai211/tf-dnn-weighted-classifier/sweeps/rg1dnn5u</a>"
      ],
      "text/plain": [
       "<IPython.core.display.HTML object>"
      ]
     },
     "metadata": {},
     "output_type": "display_data"
    },
    {
     "data": {
      "text/html": [
       " View run at <a href='https://wandb.ai/dlai211/tf-dnn-weighted-classifier/runs/kuiv2c0u' target=\"_blank\">https://wandb.ai/dlai211/tf-dnn-weighted-classifier/runs/kuiv2c0u</a>"
      ],
      "text/plain": [
       "<IPython.core.display.HTML object>"
      ]
     },
     "metadata": {},
     "output_type": "display_data"
    },
    {
     "name": "stderr",
     "output_type": "stream",
     "text": [
      "/home/jlai/.local/share/mamba/envs/tf-gpu/lib/python3.10/site-packages/keras/src/layers/core/dense.py:93: UserWarning: Do not pass an `input_shape`/`input_dim` argument to a layer. When using Sequential models, prefer using an `Input(shape)` object as the first layer in the model instead.\n",
      "  super().__init__(activity_regularizer=activity_regularizer, **kwargs)\n"
     ]
    },
    {
     "name": "stdout",
     "output_type": "stream",
     "text": [
      "Epoch 1/50\n",
      "\u001b[1m18046/18046\u001b[0m \u001b[32m━━━━━━━━━━━━━━━━━━━━\u001b[0m\u001b[37m\u001b[0m \u001b[1m46s\u001b[0m 2ms/step - auc: 0.7348 - loss: 0.0018 - weighted_auc: 0.7452 - val_auc: 0.6107 - val_loss: 0.0013 - val_weighted_auc: 0.6128\n",
      "Epoch 2/50\n",
      "\u001b[1m18046/18046\u001b[0m \u001b[32m━━━━━━━━━━━━━━━━━━━━\u001b[0m\u001b[37m\u001b[0m \u001b[1m38s\u001b[0m 2ms/step - auc: 0.8182 - loss: 9.4218e-04 - weighted_auc: 0.8247 - val_auc: 0.7596 - val_loss: 9.8490e-04 - val_weighted_auc: 0.7680\n",
      "Epoch 3/50\n",
      "\u001b[1m18046/18046\u001b[0m \u001b[32m━━━━━━━━━━━━━━━━━━━━\u001b[0m\u001b[37m\u001b[0m \u001b[1m38s\u001b[0m 2ms/step - auc: 0.8315 - loss: 9.0789e-04 - weighted_auc: 0.8381 - val_auc: 0.7655 - val_loss: 9.1429e-04 - val_weighted_auc: 0.7745\n",
      "Epoch 4/50\n",
      "\u001b[1m18046/18046\u001b[0m \u001b[32m━━━━━━━━━━━━━━━━━━━━\u001b[0m\u001b[37m\u001b[0m \u001b[1m38s\u001b[0m 2ms/step - auc: 0.8417 - loss: 8.9426e-04 - weighted_auc: 0.8491 - val_auc: 0.7636 - val_loss: 9.6126e-04 - val_weighted_auc: 0.7703\n",
      "Epoch 5/50\n",
      "\u001b[1m18046/18046\u001b[0m \u001b[32m━━━━━━━━━━━━━━━━━━━━\u001b[0m\u001b[37m\u001b[0m \u001b[1m38s\u001b[0m 2ms/step - auc: 0.8374 - loss: 8.9166e-04 - weighted_auc: 0.8439 - val_auc: 0.7582 - val_loss: 9.0220e-04 - val_weighted_auc: 0.7674\n",
      "Epoch 6/50\n",
      "\u001b[1m18046/18046\u001b[0m \u001b[32m━━━━━━━━━━━━━━━━━━━━\u001b[0m\u001b[37m\u001b[0m \u001b[1m38s\u001b[0m 2ms/step - auc: 0.8388 - loss: 8.8394e-04 - weighted_auc: 0.8460 - val_auc: 0.7687 - val_loss: 8.8182e-04 - val_weighted_auc: 0.7762\n",
      "Epoch 7/50\n",
      "\u001b[1m18046/18046\u001b[0m \u001b[32m━━━━━━━━━━━━━━━━━━━━\u001b[0m\u001b[37m\u001b[0m \u001b[1m38s\u001b[0m 2ms/step - auc: 0.8352 - loss: 8.7590e-04 - weighted_auc: 0.8414 - val_auc: 0.7804 - val_loss: 8.6985e-04 - val_weighted_auc: 0.7849\n",
      "Epoch 8/50\n",
      "\u001b[1m18046/18046\u001b[0m \u001b[32m━━━━━━━━━━━━━━━━━━━━\u001b[0m\u001b[37m\u001b[0m \u001b[1m38s\u001b[0m 2ms/step - auc: 0.8413 - loss: 8.8144e-04 - weighted_auc: 0.8492 - val_auc: 0.7829 - val_loss: 8.8613e-04 - val_weighted_auc: 0.7867\n",
      "Epoch 9/50\n",
      "\u001b[1m18046/18046\u001b[0m \u001b[32m━━━━━━━━━━━━━━━━━━━━\u001b[0m\u001b[37m\u001b[0m \u001b[1m39s\u001b[0m 2ms/step - auc: 0.8320 - loss: 8.8128e-04 - weighted_auc: 0.8369 - val_auc: 0.7141 - val_loss: 9.0676e-04 - val_weighted_auc: 0.7202\n",
      "Epoch 10/50\n",
      "\u001b[1m18046/18046\u001b[0m \u001b[32m━━━━━━━━━━━━━━━━━━━━\u001b[0m\u001b[37m\u001b[0m \u001b[1m38s\u001b[0m 2ms/step - auc: 0.8271 - loss: 8.8842e-04 - weighted_auc: 0.8330 - val_auc: 0.7698 - val_loss: 8.6716e-04 - val_weighted_auc: 0.7722\n",
      "Epoch 11/50\n",
      "\u001b[1m18046/18046\u001b[0m \u001b[32m━━━━━━━━━━━━━━━━━━━━\u001b[0m\u001b[37m\u001b[0m \u001b[1m39s\u001b[0m 2ms/step - auc: 0.8396 - loss: 8.8372e-04 - weighted_auc: 0.8443 - val_auc: 0.7941 - val_loss: 8.6022e-04 - val_weighted_auc: 0.7987\n",
      "Epoch 12/50\n",
      "\u001b[1m18046/18046\u001b[0m \u001b[32m━━━━━━━━━━━━━━━━━━━━\u001b[0m\u001b[37m\u001b[0m \u001b[1m39s\u001b[0m 2ms/step - auc: 0.8315 - loss: 8.8107e-04 - weighted_auc: 0.8378 - val_auc: 0.7935 - val_loss: 8.7476e-04 - val_weighted_auc: 0.7993\n",
      "Epoch 13/50\n",
      "\u001b[1m18046/18046\u001b[0m \u001b[32m━━━━━━━━━━━━━━━━━━━━\u001b[0m\u001b[37m\u001b[0m \u001b[1m39s\u001b[0m 2ms/step - auc: 0.8274 - loss: 8.8960e-04 - weighted_auc: 0.8314 - val_auc: 0.8139 - val_loss: 8.5957e-04 - val_weighted_auc: 0.8190\n",
      "Epoch 14/50\n",
      "\u001b[1m18046/18046\u001b[0m \u001b[32m━━━━━━━━━━━━━━━━━━━━\u001b[0m\u001b[37m\u001b[0m \u001b[1m39s\u001b[0m 2ms/step - auc: 0.8311 - loss: 8.7220e-04 - weighted_auc: 0.8386 - val_auc: 0.7907 - val_loss: 8.7331e-04 - val_weighted_auc: 0.7924\n",
      "Epoch 15/50\n",
      "\u001b[1m18046/18046\u001b[0m \u001b[32m━━━━━━━━━━━━━━━━━━━━\u001b[0m\u001b[37m\u001b[0m \u001b[1m39s\u001b[0m 2ms/step - auc: 0.8228 - loss: 8.8680e-04 - weighted_auc: 0.8282 - val_auc: 0.8042 - val_loss: 8.7629e-04 - val_weighted_auc: 0.8069\n",
      "Epoch 16/50\n",
      "\u001b[1m18046/18046\u001b[0m \u001b[32m━━━━━━━━━━━━━━━━━━━━\u001b[0m\u001b[37m\u001b[0m \u001b[1m39s\u001b[0m 2ms/step - auc: 0.8270 - loss: 9.0186e-04 - weighted_auc: 0.8320 - val_auc: 0.7815 - val_loss: 8.6048e-04 - val_weighted_auc: 0.7859\n",
      "Epoch 17/50\n",
      "\u001b[1m18046/18046\u001b[0m \u001b[32m━━━━━━━━━━━━━━━━━━━━\u001b[0m\u001b[37m\u001b[0m \u001b[1m39s\u001b[0m 2ms/step - auc: 0.8240 - loss: 8.8052e-04 - weighted_auc: 0.8296 - val_auc: 0.8247 - val_loss: 8.7376e-04 - val_weighted_auc: 0.8278\n",
      "Epoch 18/50\n",
      "\u001b[1m18046/18046\u001b[0m \u001b[32m━━━━━━━━━━━━━━━━━━━━\u001b[0m\u001b[37m\u001b[0m \u001b[1m39s\u001b[0m 2ms/step - auc: 0.8256 - loss: 8.8863e-04 - weighted_auc: 0.8322 - val_auc: 0.7738 - val_loss: 8.7783e-04 - val_weighted_auc: 0.7780\n",
      "Epoch 19/50\n",
      "\u001b[1m18046/18046\u001b[0m \u001b[32m━━━━━━━━━━━━━━━━━━━━\u001b[0m\u001b[37m\u001b[0m \u001b[1m39s\u001b[0m 2ms/step - auc: 0.8247 - loss: 9.2629e-04 - weighted_auc: 0.8281 - val_auc: 0.8180 - val_loss: 8.6276e-04 - val_weighted_auc: 0.8241\n",
      "Epoch 20/50\n",
      "\u001b[1m18046/18046\u001b[0m \u001b[32m━━━━━━━━━━━━━━━━━━━━\u001b[0m\u001b[37m\u001b[0m \u001b[1m39s\u001b[0m 2ms/step - auc: 0.8250 - loss: 9.3597e-04 - weighted_auc: 0.8335 - val_auc: 0.7894 - val_loss: 8.6322e-04 - val_weighted_auc: 0.7967\n",
      "Epoch 21/50\n",
      "\u001b[1m18046/18046\u001b[0m \u001b[32m━━━━━━━━━━━━━━━━━━━━\u001b[0m\u001b[37m\u001b[0m \u001b[1m39s\u001b[0m 2ms/step - auc: 0.8237 - loss: 9.0246e-04 - weighted_auc: 0.8276 - val_auc: 0.8108 - val_loss: 8.5962e-04 - val_weighted_auc: 0.8155\n",
      "Epoch 22/50\n",
      "\u001b[1m18046/18046\u001b[0m \u001b[32m━━━━━━━━━━━━━━━━━━━━\u001b[0m\u001b[37m\u001b[0m \u001b[1m39s\u001b[0m 2ms/step - auc: 0.8296 - loss: 9.2526e-04 - weighted_auc: 0.8336 - val_auc: 0.8203 - val_loss: 8.7007e-04 - val_weighted_auc: 0.8250\n",
      "\u001b[1m30935/30935\u001b[0m \u001b[32m━━━━━━━━━━━━━━━━━━━━\u001b[0m\u001b[37m\u001b[0m \u001b[1m21s\u001b[0m 683us/step\n",
      "\u001b[1m25780/25780\u001b[0m \u001b[32m━━━━━━━━━━━━━━━━━━━━\u001b[0m\u001b[37m\u001b[0m \u001b[1m17s\u001b[0m 668us/step\n"
     ]
    },
    {
     "data": {
      "text/html": [],
      "text/plain": [
       "<IPython.core.display.HTML object>"
      ]
     },
     "metadata": {},
     "output_type": "display_data"
    },
    {
     "data": {
      "text/html": [
       "<br>    <style><br>        .wandb-row {<br>            display: flex;<br>            flex-direction: row;<br>            flex-wrap: wrap;<br>            justify-content: flex-start;<br>            width: 100%;<br>        }<br>        .wandb-col {<br>            display: flex;<br>            flex-direction: column;<br>            flex-basis: 100%;<br>            flex: 1;<br>            padding: 10px;<br>        }<br>    </style><br><div class=\"wandb-row\"><div class=\"wandb-col\"><h3>Run history:</h3><br/><table class=\"wandb\"><tr><td>Acceptance</td><td>▁</td></tr><tr><td>Max S/sqrt(B)</td><td>▁</td></tr><tr><td>epoch/auc</td><td>▁▆▇███▇█▇▇█▇▆▇▆▆▆▆▆▆▆▆</td></tr><tr><td>epoch/epoch</td><td>▁▁▂▂▂▃▃▃▄▄▄▅▅▅▆▆▆▇▇▇██</td></tr><tr><td>epoch/learning_rate</td><td>▁▁▁▁▁▁▁▁▁▁▁▁▁▁▁▁▁▁▁▁▁▁</td></tr><tr><td>epoch/loss</td><td>█▃▂▂▁▁▁▁▁▁▁▁▁▁▂▂▂▁▃▄▂▃</td></tr><tr><td>epoch/val_auc</td><td>▁▆▆▆▆▆▇▇▄▆▇▇█▇▇▇█▆█▇██</td></tr><tr><td>epoch/val_loss</td><td>█▃▂▃▂▁▁▁▂▁▁▁▁▁▁▁▁▁▁▁▁▁</td></tr><tr><td>epoch/val_weighted_auc</td><td>▁▆▆▆▆▆▇▇▄▆▇▇█▇▇▇█▆█▇██</td></tr><tr><td>epoch/weighted_auc</td><td>▁▆▇███▇█▇▆█▇▆▇▆▆▆▆▆▆▆▆</td></tr><tr><td>final_val_roc_auc</td><td>▁</td></tr><tr><td>nnScore cut</td><td>▁</td></tr></table><br/></div><div class=\"wandb-col\"><h3>Run summary:</h3><br/><table class=\"wandb\"><tr><td>Acceptance</td><td>0.52663</td></tr><tr><td>Max S/sqrt(B)</td><td>2.84756</td></tr><tr><td>epoch/auc</td><td>0.82008</td></tr><tr><td>epoch/epoch</td><td>21</td></tr><tr><td>epoch/learning_rate</td><td>0.00079</td></tr><tr><td>epoch/loss</td><td>0.00096</td></tr><tr><td>epoch/val_auc</td><td>0.82025</td></tr><tr><td>epoch/val_loss</td><td>0.00087</td></tr><tr><td>epoch/val_weighted_auc</td><td>0.82503</td></tr><tr><td>epoch/weighted_auc</td><td>0.8282</td></tr><tr><td>final_val_roc_auc</td><td>0.97337</td></tr><tr><td>nnScore cut</td><td>0.02</td></tr></table><br/></div></div>"
      ],
      "text/plain": [
       "<IPython.core.display.HTML object>"
      ]
     },
     "metadata": {},
     "output_type": "display_data"
    },
    {
     "data": {
      "text/html": [
       " View run <strong style=\"color:#cdcd00\">glamorous-sweep-7</strong> at: <a href='https://wandb.ai/dlai211/tf-dnn-weighted-classifier/runs/kuiv2c0u' target=\"_blank\">https://wandb.ai/dlai211/tf-dnn-weighted-classifier/runs/kuiv2c0u</a><br> View project at: <a href='https://wandb.ai/dlai211/tf-dnn-weighted-classifier' target=\"_blank\">https://wandb.ai/dlai211/tf-dnn-weighted-classifier</a><br>Synced 5 W&B file(s), 1 media file(s), 0 artifact file(s) and 0 other file(s)"
      ],
      "text/plain": [
       "<IPython.core.display.HTML object>"
      ]
     },
     "metadata": {},
     "output_type": "display_data"
    },
    {
     "data": {
      "text/html": [
       "Find logs at: <code>./wandb/run-20250821_050412-kuiv2c0u/logs</code>"
      ],
      "text/plain": [
       "<IPython.core.display.HTML object>"
      ]
     },
     "metadata": {},
     "output_type": "display_data"
    },
    {
     "name": "stderr",
     "output_type": "stream",
     "text": [
      "\u001b[34m\u001b[1mwandb\u001b[0m: Agent Starting Run: v5q8ryvt with config:\n",
      "\u001b[34m\u001b[1mwandb\u001b[0m: \tbatch_size: 256\n",
      "\u001b[34m\u001b[1mwandb\u001b[0m: \tdropout: 0.28072095813143094\n",
      "\u001b[34m\u001b[1mwandb\u001b[0m: \tepochs: 50\n",
      "\u001b[34m\u001b[1mwandb\u001b[0m: \tlayer_1: 64\n",
      "\u001b[34m\u001b[1mwandb\u001b[0m: \tlayer_2: 512\n",
      "\u001b[34m\u001b[1mwandb\u001b[0m: \tlayer_3: 2048\n",
      "\u001b[34m\u001b[1mwandb\u001b[0m: \tlayer_4: 384\n",
      "\u001b[34m\u001b[1mwandb\u001b[0m: \tlayer_5: 32\n",
      "\u001b[34m\u001b[1mwandb\u001b[0m: \tlr: 0.0003287177560100134\n"
     ]
    },
    {
     "data": {
      "text/html": [
       "Ignoring project 'tf-dnn-weighted-classifier' when running a sweep."
      ],
      "text/plain": [
       "<IPython.core.display.HTML object>"
      ]
     },
     "metadata": {},
     "output_type": "display_data"
    },
    {
     "data": {
      "text/html": [
       "Tracking run with wandb version 0.21.0"
      ],
      "text/plain": [
       "<IPython.core.display.HTML object>"
      ]
     },
     "metadata": {},
     "output_type": "display_data"
    },
    {
     "data": {
      "text/html": [
       "Run data is saved locally in <code>/home/jlai/ML/jet_faking/wandb/run-20250821_051941-v5q8ryvt</code>"
      ],
      "text/plain": [
       "<IPython.core.display.HTML object>"
      ]
     },
     "metadata": {},
     "output_type": "display_data"
    },
    {
     "data": {
      "text/html": [
       "Syncing run <strong><a href='https://wandb.ai/dlai211/tf-dnn-weighted-classifier/runs/v5q8ryvt' target=\"_blank\">lyric-sweep-8</a></strong> to <a href='https://wandb.ai/dlai211/tf-dnn-weighted-classifier' target=\"_blank\">Weights & Biases</a> (<a href='https://wandb.me/developer-guide' target=\"_blank\">docs</a>)<br>Sweep page: <a href='https://wandb.ai/dlai211/tf-dnn-weighted-classifier/sweeps/rg1dnn5u' target=\"_blank\">https://wandb.ai/dlai211/tf-dnn-weighted-classifier/sweeps/rg1dnn5u</a>"
      ],
      "text/plain": [
       "<IPython.core.display.HTML object>"
      ]
     },
     "metadata": {},
     "output_type": "display_data"
    },
    {
     "data": {
      "text/html": [
       " View project at <a href='https://wandb.ai/dlai211/tf-dnn-weighted-classifier' target=\"_blank\">https://wandb.ai/dlai211/tf-dnn-weighted-classifier</a>"
      ],
      "text/plain": [
       "<IPython.core.display.HTML object>"
      ]
     },
     "metadata": {},
     "output_type": "display_data"
    },
    {
     "data": {
      "text/html": [
       " View sweep at <a href='https://wandb.ai/dlai211/tf-dnn-weighted-classifier/sweeps/rg1dnn5u' target=\"_blank\">https://wandb.ai/dlai211/tf-dnn-weighted-classifier/sweeps/rg1dnn5u</a>"
      ],
      "text/plain": [
       "<IPython.core.display.HTML object>"
      ]
     },
     "metadata": {},
     "output_type": "display_data"
    },
    {
     "data": {
      "text/html": [
       " View run at <a href='https://wandb.ai/dlai211/tf-dnn-weighted-classifier/runs/v5q8ryvt' target=\"_blank\">https://wandb.ai/dlai211/tf-dnn-weighted-classifier/runs/v5q8ryvt</a>"
      ],
      "text/plain": [
       "<IPython.core.display.HTML object>"
      ]
     },
     "metadata": {},
     "output_type": "display_data"
    },
    {
     "name": "stderr",
     "output_type": "stream",
     "text": [
      "/home/jlai/.local/share/mamba/envs/tf-gpu/lib/python3.10/site-packages/keras/src/layers/core/dense.py:93: UserWarning: Do not pass an `input_shape`/`input_dim` argument to a layer. When using Sequential models, prefer using an `Input(shape)` object as the first layer in the model instead.\n",
      "  super().__init__(activity_regularizer=activity_regularizer, **kwargs)\n"
     ]
    },
    {
     "name": "stdout",
     "output_type": "stream",
     "text": [
      "Epoch 1/50\n",
      "\u001b[1m9023/9023\u001b[0m \u001b[32m━━━━━━━━━━━━━━━━━━━━\u001b[0m\u001b[37m\u001b[0m \u001b[1m32s\u001b[0m 3ms/step - auc: 0.6773 - loss: 0.0027 - weighted_auc: 0.6921 - val_auc: 0.7854 - val_loss: 9.1370e-04 - val_weighted_auc: 0.7989\n",
      "Epoch 2/50\n",
      "\u001b[1m9023/9023\u001b[0m \u001b[32m━━━━━━━━━━━━━━━━━━━━\u001b[0m\u001b[37m\u001b[0m \u001b[1m24s\u001b[0m 3ms/step - auc: 0.7879 - loss: 9.8027e-04 - weighted_auc: 0.7992 - val_auc: 0.7952 - val_loss: 9.0438e-04 - val_weighted_auc: 0.8063\n",
      "Epoch 3/50\n",
      "\u001b[1m9023/9023\u001b[0m \u001b[32m━━━━━━━━━━━━━━━━━━━━\u001b[0m\u001b[37m\u001b[0m \u001b[1m24s\u001b[0m 3ms/step - auc: 0.8070 - loss: 9.4536e-04 - weighted_auc: 0.8190 - val_auc: 0.7876 - val_loss: 9.2466e-04 - val_weighted_auc: 0.7946\n",
      "Epoch 4/50\n",
      "\u001b[1m9023/9023\u001b[0m \u001b[32m━━━━━━━━━━━━━━━━━━━━\u001b[0m\u001b[37m\u001b[0m \u001b[1m24s\u001b[0m 3ms/step - auc: 0.8267 - loss: 9.0009e-04 - weighted_auc: 0.8371 - val_auc: 0.7991 - val_loss: 8.9403e-04 - val_weighted_auc: 0.8076\n",
      "Epoch 5/50\n",
      "\u001b[1m9023/9023\u001b[0m \u001b[32m━━━━━━━━━━━━━━━━━━━━\u001b[0m\u001b[37m\u001b[0m \u001b[1m24s\u001b[0m 3ms/step - auc: 0.8354 - loss: 8.8732e-04 - weighted_auc: 0.8433 - val_auc: 0.7790 - val_loss: 9.1531e-04 - val_weighted_auc: 0.7871\n",
      "Epoch 6/50\n",
      "\u001b[1m9023/9023\u001b[0m \u001b[32m━━━━━━━━━━━━━━━━━━━━\u001b[0m\u001b[37m\u001b[0m \u001b[1m24s\u001b[0m 3ms/step - auc: 0.8367 - loss: 8.7963e-04 - weighted_auc: 0.8444 - val_auc: 0.7934 - val_loss: 8.8548e-04 - val_weighted_auc: 0.8025\n",
      "Epoch 7/50\n",
      "\u001b[1m9023/9023\u001b[0m \u001b[32m━━━━━━━━━━━━━━━━━━━━\u001b[0m\u001b[37m\u001b[0m \u001b[1m24s\u001b[0m 3ms/step - auc: 0.8408 - loss: 8.6322e-04 - weighted_auc: 0.8478 - val_auc: 0.7929 - val_loss: 8.9053e-04 - val_weighted_auc: 0.8000\n",
      "Epoch 8/50\n",
      "\u001b[1m9023/9023\u001b[0m \u001b[32m━━━━━━━━━━━━━━━━━━━━\u001b[0m\u001b[37m\u001b[0m \u001b[1m24s\u001b[0m 3ms/step - auc: 0.8388 - loss: 8.7421e-04 - weighted_auc: 0.8433 - val_auc: 0.7909 - val_loss: 8.6748e-04 - val_weighted_auc: 0.7974\n",
      "Epoch 9/50\n",
      "\u001b[1m9023/9023\u001b[0m \u001b[32m━━━━━━━━━━━━━━━━━━━━\u001b[0m\u001b[37m\u001b[0m \u001b[1m24s\u001b[0m 3ms/step - auc: 0.8384 - loss: 8.6557e-04 - weighted_auc: 0.8464 - val_auc: 0.8150 - val_loss: 8.5350e-04 - val_weighted_auc: 0.8210\n",
      "Epoch 10/50\n",
      "\u001b[1m9023/9023\u001b[0m \u001b[32m━━━━━━━━━━━━━━━━━━━━\u001b[0m\u001b[37m\u001b[0m \u001b[1m24s\u001b[0m 3ms/step - auc: 0.8445 - loss: 8.5754e-04 - weighted_auc: 0.8501 - val_auc: 0.8077 - val_loss: 8.6005e-04 - val_weighted_auc: 0.8125\n",
      "Epoch 11/50\n",
      "\u001b[1m9023/9023\u001b[0m \u001b[32m━━━━━━━━━━━━━━━━━━━━\u001b[0m\u001b[37m\u001b[0m \u001b[1m24s\u001b[0m 3ms/step - auc: 0.8527 - loss: 8.4879e-04 - weighted_auc: 0.8571 - val_auc: 0.7905 - val_loss: 8.6890e-04 - val_weighted_auc: 0.7973\n",
      "Epoch 12/50\n",
      "\u001b[1m9023/9023\u001b[0m \u001b[32m━━━━━━━━━━━━━━━━━━━━\u001b[0m\u001b[37m\u001b[0m \u001b[1m24s\u001b[0m 3ms/step - auc: 0.8450 - loss: 8.4341e-04 - weighted_auc: 0.8508 - val_auc: 0.7992 - val_loss: 8.6351e-04 - val_weighted_auc: 0.8047\n",
      "Epoch 13/50\n",
      "\u001b[1m9023/9023\u001b[0m \u001b[32m━━━━━━━━━━━━━━━━━━━━\u001b[0m\u001b[37m\u001b[0m \u001b[1m24s\u001b[0m 3ms/step - auc: 0.8504 - loss: 8.4146e-04 - weighted_auc: 0.8558 - val_auc: 0.8040 - val_loss: 8.6481e-04 - val_weighted_auc: 0.8097\n",
      "Epoch 14/50\n",
      "\u001b[1m9023/9023\u001b[0m \u001b[32m━━━━━━━━━━━━━━━━━━━━\u001b[0m\u001b[37m\u001b[0m \u001b[1m24s\u001b[0m 3ms/step - auc: 0.8488 - loss: 8.3360e-04 - weighted_auc: 0.8563 - val_auc: 0.8134 - val_loss: 8.5186e-04 - val_weighted_auc: 0.8198\n",
      "\u001b[1m30935/30935\u001b[0m \u001b[32m━━━━━━━━━━━━━━━━━━━━\u001b[0m\u001b[37m\u001b[0m \u001b[1m20s\u001b[0m 652us/step\n",
      "\u001b[1m12890/12890\u001b[0m \u001b[32m━━━━━━━━━━━━━━━━━━━━\u001b[0m\u001b[37m\u001b[0m \u001b[1m10s\u001b[0m 782us/step\n"
     ]
    },
    {
     "data": {
      "text/html": [],
      "text/plain": [
       "<IPython.core.display.HTML object>"
      ]
     },
     "metadata": {},
     "output_type": "display_data"
    },
    {
     "data": {
      "text/html": [
       "<br>    <style><br>        .wandb-row {<br>            display: flex;<br>            flex-direction: row;<br>            flex-wrap: wrap;<br>            justify-content: flex-start;<br>            width: 100%;<br>        }<br>        .wandb-col {<br>            display: flex;<br>            flex-direction: column;<br>            flex-basis: 100%;<br>            flex: 1;<br>            padding: 10px;<br>        }<br>    </style><br><div class=\"wandb-row\"><div class=\"wandb-col\"><h3>Run history:</h3><br/><table class=\"wandb\"><tr><td>Acceptance</td><td>▁</td></tr><tr><td>Max S/sqrt(B)</td><td>▁</td></tr><tr><td>epoch/auc</td><td>▁▅▆▇▇▇▇▇██████</td></tr><tr><td>epoch/epoch</td><td>▁▂▂▃▃▄▄▅▅▆▆▇▇█</td></tr><tr><td>epoch/learning_rate</td><td>▁▁▁▁▁▁▁▁▁▁▁▁▁▁</td></tr><tr><td>epoch/loss</td><td>█▃▃▂▂▂▂▂▁▁▁▁▁▁</td></tr><tr><td>epoch/val_auc</td><td>▂▄▃▅▁▄▄▃█▇▃▅▆█</td></tr><tr><td>epoch/val_loss</td><td>▇▆█▅▇▄▅▃▁▂▃▂▂▁</td></tr><tr><td>epoch/val_weighted_auc</td><td>▃▅▃▅▁▄▄▃█▆▃▅▆█</td></tr><tr><td>epoch/weighted_auc</td><td>▁▅▆▇▇▇▇▇██████</td></tr><tr><td>final_val_roc_auc</td><td>▁</td></tr><tr><td>nnScore cut</td><td>▁</td></tr></table><br/></div><div class=\"wandb-col\"><h3>Run summary:</h3><br/><table class=\"wandb\"><tr><td>Acceptance</td><td>0.5155</td></tr><tr><td>Max S/sqrt(B)</td><td>2.60359</td></tr><tr><td>epoch/auc</td><td>0.8433</td></tr><tr><td>epoch/epoch</td><td>13</td></tr><tr><td>epoch/learning_rate</td><td>0.00033</td></tr><tr><td>epoch/loss</td><td>0.00085</td></tr><tr><td>epoch/val_auc</td><td>0.81342</td></tr><tr><td>epoch/val_loss</td><td>0.00085</td></tr><tr><td>epoch/val_weighted_auc</td><td>0.81981</td></tr><tr><td>epoch/weighted_auc</td><td>0.85343</td></tr><tr><td>final_val_roc_auc</td><td>0.97555</td></tr><tr><td>nnScore cut</td><td>0.01</td></tr></table><br/></div></div>"
      ],
      "text/plain": [
       "<IPython.core.display.HTML object>"
      ]
     },
     "metadata": {},
     "output_type": "display_data"
    },
    {
     "data": {
      "text/html": [
       " View run <strong style=\"color:#cdcd00\">lyric-sweep-8</strong> at: <a href='https://wandb.ai/dlai211/tf-dnn-weighted-classifier/runs/v5q8ryvt' target=\"_blank\">https://wandb.ai/dlai211/tf-dnn-weighted-classifier/runs/v5q8ryvt</a><br> View project at: <a href='https://wandb.ai/dlai211/tf-dnn-weighted-classifier' target=\"_blank\">https://wandb.ai/dlai211/tf-dnn-weighted-classifier</a><br>Synced 5 W&B file(s), 1 media file(s), 0 artifact file(s) and 0 other file(s)"
      ],
      "text/plain": [
       "<IPython.core.display.HTML object>"
      ]
     },
     "metadata": {},
     "output_type": "display_data"
    },
    {
     "data": {
      "text/html": [
       "Find logs at: <code>./wandb/run-20250821_051941-v5q8ryvt/logs</code>"
      ],
      "text/plain": [
       "<IPython.core.display.HTML object>"
      ]
     },
     "metadata": {},
     "output_type": "display_data"
    },
    {
     "name": "stderr",
     "output_type": "stream",
     "text": [
      "\u001b[34m\u001b[1mwandb\u001b[0m: Sweep Agent: Waiting for job.\n",
      "\u001b[34m\u001b[1mwandb\u001b[0m: Job received.\n",
      "\u001b[34m\u001b[1mwandb\u001b[0m: Agent Starting Run: 04iohfl7 with config:\n",
      "\u001b[34m\u001b[1mwandb\u001b[0m: \tbatch_size: 128\n",
      "\u001b[34m\u001b[1mwandb\u001b[0m: \tdropout: 0.27764221367798114\n",
      "\u001b[34m\u001b[1mwandb\u001b[0m: \tepochs: 50\n",
      "\u001b[34m\u001b[1mwandb\u001b[0m: \tlayer_1: 64\n",
      "\u001b[34m\u001b[1mwandb\u001b[0m: \tlayer_2: 384\n",
      "\u001b[34m\u001b[1mwandb\u001b[0m: \tlayer_3: 2048\n",
      "\u001b[34m\u001b[1mwandb\u001b[0m: \tlayer_4: 256\n",
      "\u001b[34m\u001b[1mwandb\u001b[0m: \tlayer_5: 32\n",
      "\u001b[34m\u001b[1mwandb\u001b[0m: \tlr: 0.00010210910778230212\n"
     ]
    },
    {
     "data": {
      "text/html": [
       "Ignoring project 'tf-dnn-weighted-classifier' when running a sweep."
      ],
      "text/plain": [
       "<IPython.core.display.HTML object>"
      ]
     },
     "metadata": {},
     "output_type": "display_data"
    },
    {
     "data": {
      "text/html": [
       "Tracking run with wandb version 0.21.0"
      ],
      "text/plain": [
       "<IPython.core.display.HTML object>"
      ]
     },
     "metadata": {},
     "output_type": "display_data"
    },
    {
     "data": {
      "text/html": [
       "Run data is saved locally in <code>/home/jlai/ML/jet_faking/wandb/run-20250821_052630-04iohfl7</code>"
      ],
      "text/plain": [
       "<IPython.core.display.HTML object>"
      ]
     },
     "metadata": {},
     "output_type": "display_data"
    },
    {
     "data": {
      "text/html": [
       "Syncing run <strong><a href='https://wandb.ai/dlai211/tf-dnn-weighted-classifier/runs/04iohfl7' target=\"_blank\">copper-sweep-9</a></strong> to <a href='https://wandb.ai/dlai211/tf-dnn-weighted-classifier' target=\"_blank\">Weights & Biases</a> (<a href='https://wandb.me/developer-guide' target=\"_blank\">docs</a>)<br>Sweep page: <a href='https://wandb.ai/dlai211/tf-dnn-weighted-classifier/sweeps/rg1dnn5u' target=\"_blank\">https://wandb.ai/dlai211/tf-dnn-weighted-classifier/sweeps/rg1dnn5u</a>"
      ],
      "text/plain": [
       "<IPython.core.display.HTML object>"
      ]
     },
     "metadata": {},
     "output_type": "display_data"
    },
    {
     "data": {
      "text/html": [
       " View project at <a href='https://wandb.ai/dlai211/tf-dnn-weighted-classifier' target=\"_blank\">https://wandb.ai/dlai211/tf-dnn-weighted-classifier</a>"
      ],
      "text/plain": [
       "<IPython.core.display.HTML object>"
      ]
     },
     "metadata": {},
     "output_type": "display_data"
    },
    {
     "data": {
      "text/html": [
       " View sweep at <a href='https://wandb.ai/dlai211/tf-dnn-weighted-classifier/sweeps/rg1dnn5u' target=\"_blank\">https://wandb.ai/dlai211/tf-dnn-weighted-classifier/sweeps/rg1dnn5u</a>"
      ],
      "text/plain": [
       "<IPython.core.display.HTML object>"
      ]
     },
     "metadata": {},
     "output_type": "display_data"
    },
    {
     "data": {
      "text/html": [
       " View run at <a href='https://wandb.ai/dlai211/tf-dnn-weighted-classifier/runs/04iohfl7' target=\"_blank\">https://wandb.ai/dlai211/tf-dnn-weighted-classifier/runs/04iohfl7</a>"
      ],
      "text/plain": [
       "<IPython.core.display.HTML object>"
      ]
     },
     "metadata": {},
     "output_type": "display_data"
    },
    {
     "name": "stderr",
     "output_type": "stream",
     "text": [
      "/home/jlai/.local/share/mamba/envs/tf-gpu/lib/python3.10/site-packages/keras/src/layers/core/dense.py:93: UserWarning: Do not pass an `input_shape`/`input_dim` argument to a layer. When using Sequential models, prefer using an `Input(shape)` object as the first layer in the model instead.\n",
      "  super().__init__(activity_regularizer=activity_regularizer, **kwargs)\n"
     ]
    },
    {
     "name": "stdout",
     "output_type": "stream",
     "text": [
      "Epoch 1/50\n",
      "\u001b[1m18046/18046\u001b[0m \u001b[32m━━━━━━━━━━━━━━━━━━━━\u001b[0m\u001b[37m\u001b[0m \u001b[1m50s\u001b[0m 2ms/step - auc: 0.6354 - loss: 0.0043 - weighted_auc: 0.6544 - val_auc: 0.7945 - val_loss: 9.1021e-04 - val_weighted_auc: 0.8061\n",
      "Epoch 2/50\n",
      "\u001b[1m18046/18046\u001b[0m \u001b[32m━━━━━━━━━━━━━━━━━━━━\u001b[0m\u001b[37m\u001b[0m \u001b[1m41s\u001b[0m 2ms/step - auc: 0.7758 - loss: 9.7676e-04 - weighted_auc: 0.7849 - val_auc: 0.8341 - val_loss: 8.8119e-04 - val_weighted_auc: 0.8438\n",
      "Epoch 3/50\n",
      "\u001b[1m18046/18046\u001b[0m \u001b[32m━━━━━━━━━━━━━━━━━━━━\u001b[0m\u001b[37m\u001b[0m \u001b[1m41s\u001b[0m 2ms/step - auc: 0.7979 - loss: 9.4612e-04 - weighted_auc: 0.8057 - val_auc: 0.8314 - val_loss: 8.8132e-04 - val_weighted_auc: 0.8410\n",
      "Epoch 4/50\n",
      "\u001b[1m18046/18046\u001b[0m \u001b[32m━━━━━━━━━━━━━━━━━━━━\u001b[0m\u001b[37m\u001b[0m \u001b[1m41s\u001b[0m 2ms/step - auc: 0.8121 - loss: 9.2660e-04 - weighted_auc: 0.8196 - val_auc: 0.8222 - val_loss: 8.7143e-04 - val_weighted_auc: 0.8306\n",
      "Epoch 5/50\n",
      "\u001b[1m18046/18046\u001b[0m \u001b[32m━━━━━━━━━━━━━━━━━━━━\u001b[0m\u001b[37m\u001b[0m \u001b[1m41s\u001b[0m 2ms/step - auc: 0.8217 - loss: 9.1471e-04 - weighted_auc: 0.8280 - val_auc: 0.8343 - val_loss: 8.5945e-04 - val_weighted_auc: 0.8430\n",
      "Epoch 6/50\n",
      "\u001b[1m18046/18046\u001b[0m \u001b[32m━━━━━━━━━━━━━━━━━━━━\u001b[0m\u001b[37m\u001b[0m \u001b[1m41s\u001b[0m 2ms/step - auc: 0.8279 - loss: 9.0766e-04 - weighted_auc: 0.8330 - val_auc: 0.8093 - val_loss: 8.7492e-04 - val_weighted_auc: 0.8168\n",
      "Epoch 7/50\n",
      "\u001b[1m18046/18046\u001b[0m \u001b[32m━━━━━━━━━━━━━━━━━━━━\u001b[0m\u001b[37m\u001b[0m \u001b[1m41s\u001b[0m 2ms/step - auc: 0.8262 - loss: 9.0365e-04 - weighted_auc: 0.8338 - val_auc: 0.8527 - val_loss: 8.5653e-04 - val_weighted_auc: 0.8586\n",
      "Epoch 8/50\n",
      "\u001b[1m18046/18046\u001b[0m \u001b[32m━━━━━━━━━━━━━━━━━━━━\u001b[0m\u001b[37m\u001b[0m \u001b[1m41s\u001b[0m 2ms/step - auc: 0.8360 - loss: 8.8606e-04 - weighted_auc: 0.8430 - val_auc: 0.8427 - val_loss: 8.4922e-04 - val_weighted_auc: 0.8486\n",
      "Epoch 9/50\n",
      "\u001b[1m18046/18046\u001b[0m \u001b[32m━━━━━━━━━━━━━━━━━━━━\u001b[0m\u001b[37m\u001b[0m \u001b[1m41s\u001b[0m 2ms/step - auc: 0.8347 - loss: 8.8675e-04 - weighted_auc: 0.8397 - val_auc: 0.8270 - val_loss: 8.5703e-04 - val_weighted_auc: 0.8331\n",
      "Epoch 10/50\n",
      "\u001b[1m18046/18046\u001b[0m \u001b[32m━━━━━━━━━━━━━━━━━━━━\u001b[0m\u001b[37m\u001b[0m \u001b[1m41s\u001b[0m 2ms/step - auc: 0.8380 - loss: 8.7676e-04 - weighted_auc: 0.8462 - val_auc: 0.8415 - val_loss: 8.5305e-04 - val_weighted_auc: 0.8459\n",
      "Epoch 11/50\n",
      "\u001b[1m18046/18046\u001b[0m \u001b[32m━━━━━━━━━━━━━━━━━━━━\u001b[0m\u001b[37m\u001b[0m \u001b[1m41s\u001b[0m 2ms/step - auc: 0.8445 - loss: 8.7530e-04 - weighted_auc: 0.8490 - val_auc: 0.8336 - val_loss: 8.5412e-04 - val_weighted_auc: 0.8397\n",
      "Epoch 12/50\n",
      "\u001b[1m18046/18046\u001b[0m \u001b[32m━━━━━━━━━━━━━━━━━━━━\u001b[0m\u001b[37m\u001b[0m \u001b[1m43s\u001b[0m 2ms/step - auc: 0.8375 - loss: 8.7923e-04 - weighted_auc: 0.8443 - val_auc: 0.8460 - val_loss: 8.4773e-04 - val_weighted_auc: 0.8505\n",
      "\u001b[1m30935/30935\u001b[0m \u001b[32m━━━━━━━━━━━━━━━━━━━━\u001b[0m\u001b[37m\u001b[0m \u001b[1m21s\u001b[0m 662us/step\n",
      "\u001b[1m25780/25780\u001b[0m \u001b[32m━━━━━━━━━━━━━━━━━━━━\u001b[0m\u001b[37m\u001b[0m \u001b[1m18s\u001b[0m 706us/step\n"
     ]
    },
    {
     "data": {
      "text/html": [],
      "text/plain": [
       "<IPython.core.display.HTML object>"
      ]
     },
     "metadata": {},
     "output_type": "display_data"
    },
    {
     "data": {
      "text/html": [
       "<br>    <style><br>        .wandb-row {<br>            display: flex;<br>            flex-direction: row;<br>            flex-wrap: wrap;<br>            justify-content: flex-start;<br>            width: 100%;<br>        }<br>        .wandb-col {<br>            display: flex;<br>            flex-direction: column;<br>            flex-basis: 100%;<br>            flex: 1;<br>            padding: 10px;<br>        }<br>    </style><br><div class=\"wandb-row\"><div class=\"wandb-col\"><h3>Run history:</h3><br/><table class=\"wandb\"><tr><td>Acceptance</td><td>▁</td></tr><tr><td>Max S/sqrt(B)</td><td>▁</td></tr><tr><td>epoch/auc</td><td>▁▅▆▇▇▇▇█████</td></tr><tr><td>epoch/epoch</td><td>▁▂▂▃▄▄▅▅▆▇▇█</td></tr><tr><td>epoch/learning_rate</td><td>▁▁▁▁▁▁▁▁▁▁▁▁</td></tr><tr><td>epoch/loss</td><td>█▂▂▂▁▁▁▁▁▁▁▁</td></tr><tr><td>epoch/val_auc</td><td>▁▆▅▄▆▃█▇▅▇▆▇</td></tr><tr><td>epoch/val_loss</td><td>█▅▅▄▂▄▂▁▂▂▂▁</td></tr><tr><td>epoch/val_weighted_auc</td><td>▁▆▆▄▆▂█▇▅▆▅▇</td></tr><tr><td>epoch/weighted_auc</td><td>▁▅▆▇▇▇██████</td></tr><tr><td>final_val_roc_auc</td><td>▁</td></tr><tr><td>nnScore cut</td><td>▁</td></tr></table><br/></div><div class=\"wandb-col\"><h3>Run summary:</h3><br/><table class=\"wandb\"><tr><td>Acceptance</td><td>0.47451</td></tr><tr><td>Max S/sqrt(B)</td><td>2.89931</td></tr><tr><td>epoch/auc</td><td>0.83652</td></tr><tr><td>epoch/epoch</td><td>11</td></tr><tr><td>epoch/learning_rate</td><td>0.0001</td></tr><tr><td>epoch/loss</td><td>0.00089</td></tr><tr><td>epoch/val_auc</td><td>0.84596</td></tr><tr><td>epoch/val_loss</td><td>0.00085</td></tr><tr><td>epoch/val_weighted_auc</td><td>0.8505</td></tr><tr><td>epoch/weighted_auc</td><td>0.84593</td></tr><tr><td>final_val_roc_auc</td><td>0.97436</td></tr><tr><td>nnScore cut</td><td>0.02</td></tr></table><br/></div></div>"
      ],
      "text/plain": [
       "<IPython.core.display.HTML object>"
      ]
     },
     "metadata": {},
     "output_type": "display_data"
    },
    {
     "data": {
      "text/html": [
       " View run <strong style=\"color:#cdcd00\">copper-sweep-9</strong> at: <a href='https://wandb.ai/dlai211/tf-dnn-weighted-classifier/runs/04iohfl7' target=\"_blank\">https://wandb.ai/dlai211/tf-dnn-weighted-classifier/runs/04iohfl7</a><br> View project at: <a href='https://wandb.ai/dlai211/tf-dnn-weighted-classifier' target=\"_blank\">https://wandb.ai/dlai211/tf-dnn-weighted-classifier</a><br>Synced 5 W&B file(s), 1 media file(s), 0 artifact file(s) and 0 other file(s)"
      ],
      "text/plain": [
       "<IPython.core.display.HTML object>"
      ]
     },
     "metadata": {},
     "output_type": "display_data"
    },
    {
     "data": {
      "text/html": [
       "Find logs at: <code>./wandb/run-20250821_052630-04iohfl7/logs</code>"
      ],
      "text/plain": [
       "<IPython.core.display.HTML object>"
      ]
     },
     "metadata": {},
     "output_type": "display_data"
    },
    {
     "name": "stderr",
     "output_type": "stream",
     "text": [
      "\u001b[34m\u001b[1mwandb\u001b[0m: Agent Starting Run: kfeyadx4 with config:\n",
      "\u001b[34m\u001b[1mwandb\u001b[0m: \tbatch_size: 512\n",
      "\u001b[34m\u001b[1mwandb\u001b[0m: \tdropout: 0.12829198321864133\n",
      "\u001b[34m\u001b[1mwandb\u001b[0m: \tepochs: 50\n",
      "\u001b[34m\u001b[1mwandb\u001b[0m: \tlayer_1: 128\n",
      "\u001b[34m\u001b[1mwandb\u001b[0m: \tlayer_2: 384\n",
      "\u001b[34m\u001b[1mwandb\u001b[0m: \tlayer_3: 1536\n",
      "\u001b[34m\u001b[1mwandb\u001b[0m: \tlayer_4: 256\n",
      "\u001b[34m\u001b[1mwandb\u001b[0m: \tlayer_5: 32\n",
      "\u001b[34m\u001b[1mwandb\u001b[0m: \tlr: 0.0010685451317965391\n"
     ]
    },
    {
     "data": {
      "text/html": [
       "Ignoring project 'tf-dnn-weighted-classifier' when running a sweep."
      ],
      "text/plain": [
       "<IPython.core.display.HTML object>"
      ]
     },
     "metadata": {},
     "output_type": "display_data"
    },
    {
     "data": {
      "text/html": [
       "Tracking run with wandb version 0.21.0"
      ],
      "text/plain": [
       "<IPython.core.display.HTML object>"
      ]
     },
     "metadata": {},
     "output_type": "display_data"
    },
    {
     "data": {
      "text/html": [
       "Run data is saved locally in <code>/home/jlai/ML/jet_faking/wandb/run-20250821_053606-kfeyadx4</code>"
      ],
      "text/plain": [
       "<IPython.core.display.HTML object>"
      ]
     },
     "metadata": {},
     "output_type": "display_data"
    },
    {
     "data": {
      "text/html": [
       "Syncing run <strong><a href='https://wandb.ai/dlai211/tf-dnn-weighted-classifier/runs/kfeyadx4' target=\"_blank\">dazzling-sweep-10</a></strong> to <a href='https://wandb.ai/dlai211/tf-dnn-weighted-classifier' target=\"_blank\">Weights & Biases</a> (<a href='https://wandb.me/developer-guide' target=\"_blank\">docs</a>)<br>Sweep page: <a href='https://wandb.ai/dlai211/tf-dnn-weighted-classifier/sweeps/rg1dnn5u' target=\"_blank\">https://wandb.ai/dlai211/tf-dnn-weighted-classifier/sweeps/rg1dnn5u</a>"
      ],
      "text/plain": [
       "<IPython.core.display.HTML object>"
      ]
     },
     "metadata": {},
     "output_type": "display_data"
    },
    {
     "data": {
      "text/html": [
       " View project at <a href='https://wandb.ai/dlai211/tf-dnn-weighted-classifier' target=\"_blank\">https://wandb.ai/dlai211/tf-dnn-weighted-classifier</a>"
      ],
      "text/plain": [
       "<IPython.core.display.HTML object>"
      ]
     },
     "metadata": {},
     "output_type": "display_data"
    },
    {
     "data": {
      "text/html": [
       " View sweep at <a href='https://wandb.ai/dlai211/tf-dnn-weighted-classifier/sweeps/rg1dnn5u' target=\"_blank\">https://wandb.ai/dlai211/tf-dnn-weighted-classifier/sweeps/rg1dnn5u</a>"
      ],
      "text/plain": [
       "<IPython.core.display.HTML object>"
      ]
     },
     "metadata": {},
     "output_type": "display_data"
    },
    {
     "data": {
      "text/html": [
       " View run at <a href='https://wandb.ai/dlai211/tf-dnn-weighted-classifier/runs/kfeyadx4' target=\"_blank\">https://wandb.ai/dlai211/tf-dnn-weighted-classifier/runs/kfeyadx4</a>"
      ],
      "text/plain": [
       "<IPython.core.display.HTML object>"
      ]
     },
     "metadata": {},
     "output_type": "display_data"
    },
    {
     "name": "stderr",
     "output_type": "stream",
     "text": [
      "/home/jlai/.local/share/mamba/envs/tf-gpu/lib/python3.10/site-packages/keras/src/layers/core/dense.py:93: UserWarning: Do not pass an `input_shape`/`input_dim` argument to a layer. When using Sequential models, prefer using an `Input(shape)` object as the first layer in the model instead.\n",
      "  super().__init__(activity_regularizer=activity_regularizer, **kwargs)\n"
     ]
    },
    {
     "name": "stdout",
     "output_type": "stream",
     "text": [
      "Epoch 1/50\n",
      "\u001b[1m4512/4512\u001b[0m \u001b[32m━━━━━━━━━━━━━━━━━━━━\u001b[0m\u001b[37m\u001b[0m \u001b[1m20s\u001b[0m 4ms/step - auc: 0.7303 - loss: 0.0028 - weighted_auc: 0.7418 - val_auc: 0.7362 - val_loss: 9.7035e-04 - val_weighted_auc: 0.7410\n",
      "Epoch 2/50\n",
      "\u001b[1m4512/4512\u001b[0m \u001b[32m━━━━━━━━━━━━━━━━━━━━\u001b[0m\u001b[37m\u001b[0m \u001b[1m13s\u001b[0m 3ms/step - auc: 0.8137 - loss: 9.1974e-04 - weighted_auc: 0.8249 - val_auc: 0.7413 - val_loss: 9.8700e-04 - val_weighted_auc: 0.7479\n",
      "Epoch 3/50\n",
      "\u001b[1m4512/4512\u001b[0m \u001b[32m━━━━━━━━━━━━━━━━━━━━\u001b[0m\u001b[37m\u001b[0m \u001b[1m12s\u001b[0m 3ms/step - auc: 0.8259 - loss: 8.9392e-04 - weighted_auc: 0.8328 - val_auc: 0.7564 - val_loss: 9.4311e-04 - val_weighted_auc: 0.7644\n",
      "Epoch 4/50\n",
      "\u001b[1m4512/4512\u001b[0m \u001b[32m━━━━━━━━━━━━━━━━━━━━\u001b[0m\u001b[37m\u001b[0m \u001b[1m12s\u001b[0m 3ms/step - auc: 0.8329 - loss: 8.7600e-04 - weighted_auc: 0.8385 - val_auc: 0.7656 - val_loss: 9.0769e-04 - val_weighted_auc: 0.7733\n",
      "Epoch 5/50\n",
      "\u001b[1m4512/4512\u001b[0m \u001b[32m━━━━━━━━━━━━━━━━━━━━\u001b[0m\u001b[37m\u001b[0m \u001b[1m13s\u001b[0m 3ms/step - auc: 0.8421 - loss: 8.6473e-04 - weighted_auc: 0.8502 - val_auc: 0.7842 - val_loss: 9.2393e-04 - val_weighted_auc: 0.7900\n",
      "Epoch 6/50\n",
      "\u001b[1m4512/4512\u001b[0m \u001b[32m━━━━━━━━━━━━━━━━━━━━\u001b[0m\u001b[37m\u001b[0m \u001b[1m13s\u001b[0m 3ms/step - auc: 0.8395 - loss: 8.5456e-04 - weighted_auc: 0.8467 - val_auc: 0.7568 - val_loss: 9.4638e-04 - val_weighted_auc: 0.7632\n",
      "Epoch 7/50\n",
      "\u001b[1m4512/4512\u001b[0m \u001b[32m━━━━━━━━━━━━━━━━━━━━\u001b[0m\u001b[37m\u001b[0m \u001b[1m12s\u001b[0m 3ms/step - auc: 0.8389 - loss: 8.4327e-04 - weighted_auc: 0.8463 - val_auc: 0.7731 - val_loss: 8.9302e-04 - val_weighted_auc: 0.7784\n",
      "Epoch 8/50\n",
      "\u001b[1m4512/4512\u001b[0m \u001b[32m━━━━━━━━━━━━━━━━━━━━\u001b[0m\u001b[37m\u001b[0m \u001b[1m13s\u001b[0m 3ms/step - auc: 0.8374 - loss: 8.4362e-04 - weighted_auc: 0.8459 - val_auc: 0.7754 - val_loss: 8.8420e-04 - val_weighted_auc: 0.7788\n",
      "Epoch 9/50\n",
      "\u001b[1m4512/4512\u001b[0m \u001b[32m━━━━━━━━━━━━━━━━━━━━\u001b[0m\u001b[37m\u001b[0m \u001b[1m13s\u001b[0m 3ms/step - auc: 0.8466 - loss: 8.3597e-04 - weighted_auc: 0.8532 - val_auc: 0.7838 - val_loss: 9.1425e-04 - val_weighted_auc: 0.7899\n",
      "Epoch 10/50\n",
      "\u001b[1m4512/4512\u001b[0m \u001b[32m━━━━━━━━━━━━━━━━━━━━\u001b[0m\u001b[37m\u001b[0m \u001b[1m13s\u001b[0m 3ms/step - auc: 0.8457 - loss: 8.3637e-04 - weighted_auc: 0.8535 - val_auc: 0.7568 - val_loss: 8.7662e-04 - val_weighted_auc: 0.7622\n",
      "\u001b[1m30935/30935\u001b[0m \u001b[32m━━━━━━━━━━━━━━━━━━━━\u001b[0m\u001b[37m\u001b[0m \u001b[1m21s\u001b[0m 675us/step\n",
      "\u001b[1m6445/6445\u001b[0m \u001b[32m━━━━━━━━━━━━━━━━━━━━\u001b[0m\u001b[37m\u001b[0m \u001b[1m6s\u001b[0m 861us/step\n"
     ]
    },
    {
     "data": {
      "text/html": [],
      "text/plain": [
       "<IPython.core.display.HTML object>"
      ]
     },
     "metadata": {},
     "output_type": "display_data"
    },
    {
     "data": {
      "text/html": [
       "<br>    <style><br>        .wandb-row {<br>            display: flex;<br>            flex-direction: row;<br>            flex-wrap: wrap;<br>            justify-content: flex-start;<br>            width: 100%;<br>        }<br>        .wandb-col {<br>            display: flex;<br>            flex-direction: column;<br>            flex-basis: 100%;<br>            flex: 1;<br>            padding: 10px;<br>        }<br>    </style><br><div class=\"wandb-row\"><div class=\"wandb-col\"><h3>Run history:</h3><br/><table class=\"wandb\"><tr><td>Acceptance</td><td>▁</td></tr><tr><td>Max S/sqrt(B)</td><td>▁</td></tr><tr><td>epoch/auc</td><td>▁▅▇▇█▇▇███</td></tr><tr><td>epoch/epoch</td><td>▁▂▃▃▄▅▆▆▇█</td></tr><tr><td>epoch/learning_rate</td><td>▁▁▁▁▁▁▁▁▁▁</td></tr><tr><td>epoch/loss</td><td>█▃▂▂▂▁▁▁▁▁</td></tr><tr><td>epoch/val_auc</td><td>▁▂▄▅█▄▆▇█▄</td></tr><tr><td>epoch/val_loss</td><td>▇█▅▃▄▅▂▁▃▁</td></tr><tr><td>epoch/val_weighted_auc</td><td>▁▂▄▆█▄▆▆█▄</td></tr><tr><td>epoch/weighted_auc</td><td>▁▅▆▇██▇███</td></tr><tr><td>final_val_roc_auc</td><td>▁</td></tr><tr><td>nnScore cut</td><td>▁</td></tr></table><br/></div><div class=\"wandb-col\"><h3>Run summary:</h3><br/><table class=\"wandb\"><tr><td>Acceptance</td><td>0.42732</td></tr><tr><td>Max S/sqrt(B)</td><td>2.83569</td></tr><tr><td>epoch/auc</td><td>0.8431</td></tr><tr><td>epoch/epoch</td><td>9</td></tr><tr><td>epoch/learning_rate</td><td>0.00107</td></tr><tr><td>epoch/loss</td><td>0.00084</td></tr><tr><td>epoch/val_auc</td><td>0.75678</td></tr><tr><td>epoch/val_loss</td><td>0.00088</td></tr><tr><td>epoch/val_weighted_auc</td><td>0.76215</td></tr><tr><td>epoch/weighted_auc</td><td>0.8543</td></tr><tr><td>final_val_roc_auc</td><td>0.97609</td></tr><tr><td>nnScore cut</td><td>0.03</td></tr></table><br/></div></div>"
      ],
      "text/plain": [
       "<IPython.core.display.HTML object>"
      ]
     },
     "metadata": {},
     "output_type": "display_data"
    },
    {
     "data": {
      "text/html": [
       " View run <strong style=\"color:#cdcd00\">dazzling-sweep-10</strong> at: <a href='https://wandb.ai/dlai211/tf-dnn-weighted-classifier/runs/kfeyadx4' target=\"_blank\">https://wandb.ai/dlai211/tf-dnn-weighted-classifier/runs/kfeyadx4</a><br> View project at: <a href='https://wandb.ai/dlai211/tf-dnn-weighted-classifier' target=\"_blank\">https://wandb.ai/dlai211/tf-dnn-weighted-classifier</a><br>Synced 5 W&B file(s), 1 media file(s), 0 artifact file(s) and 0 other file(s)"
      ],
      "text/plain": [
       "<IPython.core.display.HTML object>"
      ]
     },
     "metadata": {},
     "output_type": "display_data"
    },
    {
     "data": {
      "text/html": [
       "Find logs at: <code>./wandb/run-20250821_053606-kfeyadx4/logs</code>"
      ],
      "text/plain": [
       "<IPython.core.display.HTML object>"
      ]
     },
     "metadata": {},
     "output_type": "display_data"
    },
    {
     "name": "stderr",
     "output_type": "stream",
     "text": [
      "\u001b[34m\u001b[1mwandb\u001b[0m: Agent Starting Run: axh4rk8e with config:\n",
      "\u001b[34m\u001b[1mwandb\u001b[0m: \tbatch_size: 256\n",
      "\u001b[34m\u001b[1mwandb\u001b[0m: \tdropout: 0.11816297782973728\n",
      "\u001b[34m\u001b[1mwandb\u001b[0m: \tepochs: 50\n",
      "\u001b[34m\u001b[1mwandb\u001b[0m: \tlayer_1: 64\n",
      "\u001b[34m\u001b[1mwandb\u001b[0m: \tlayer_2: 384\n",
      "\u001b[34m\u001b[1mwandb\u001b[0m: \tlayer_3: 1024\n",
      "\u001b[34m\u001b[1mwandb\u001b[0m: \tlayer_4: 384\n",
      "\u001b[34m\u001b[1mwandb\u001b[0m: \tlayer_5: 32\n",
      "\u001b[34m\u001b[1mwandb\u001b[0m: \tlr: 0.0007256794016886634\n"
     ]
    },
    {
     "data": {
      "text/html": [
       "Ignoring project 'tf-dnn-weighted-classifier' when running a sweep."
      ],
      "text/plain": [
       "<IPython.core.display.HTML object>"
      ]
     },
     "metadata": {},
     "output_type": "display_data"
    },
    {
     "data": {
      "text/html": [
       "Tracking run with wandb version 0.21.0"
      ],
      "text/plain": [
       "<IPython.core.display.HTML object>"
      ]
     },
     "metadata": {},
     "output_type": "display_data"
    },
    {
     "data": {
      "text/html": [
       "Run data is saved locally in <code>/home/jlai/ML/jet_faking/wandb/run-20250821_053912-axh4rk8e</code>"
      ],
      "text/plain": [
       "<IPython.core.display.HTML object>"
      ]
     },
     "metadata": {},
     "output_type": "display_data"
    },
    {
     "data": {
      "text/html": [
       "Syncing run <strong><a href='https://wandb.ai/dlai211/tf-dnn-weighted-classifier/runs/axh4rk8e' target=\"_blank\">worldly-sweep-11</a></strong> to <a href='https://wandb.ai/dlai211/tf-dnn-weighted-classifier' target=\"_blank\">Weights & Biases</a> (<a href='https://wandb.me/developer-guide' target=\"_blank\">docs</a>)<br>Sweep page: <a href='https://wandb.ai/dlai211/tf-dnn-weighted-classifier/sweeps/rg1dnn5u' target=\"_blank\">https://wandb.ai/dlai211/tf-dnn-weighted-classifier/sweeps/rg1dnn5u</a>"
      ],
      "text/plain": [
       "<IPython.core.display.HTML object>"
      ]
     },
     "metadata": {},
     "output_type": "display_data"
    },
    {
     "data": {
      "text/html": [
       " View project at <a href='https://wandb.ai/dlai211/tf-dnn-weighted-classifier' target=\"_blank\">https://wandb.ai/dlai211/tf-dnn-weighted-classifier</a>"
      ],
      "text/plain": [
       "<IPython.core.display.HTML object>"
      ]
     },
     "metadata": {},
     "output_type": "display_data"
    },
    {
     "data": {
      "text/html": [
       " View sweep at <a href='https://wandb.ai/dlai211/tf-dnn-weighted-classifier/sweeps/rg1dnn5u' target=\"_blank\">https://wandb.ai/dlai211/tf-dnn-weighted-classifier/sweeps/rg1dnn5u</a>"
      ],
      "text/plain": [
       "<IPython.core.display.HTML object>"
      ]
     },
     "metadata": {},
     "output_type": "display_data"
    },
    {
     "data": {
      "text/html": [
       " View run at <a href='https://wandb.ai/dlai211/tf-dnn-weighted-classifier/runs/axh4rk8e' target=\"_blank\">https://wandb.ai/dlai211/tf-dnn-weighted-classifier/runs/axh4rk8e</a>"
      ],
      "text/plain": [
       "<IPython.core.display.HTML object>"
      ]
     },
     "metadata": {},
     "output_type": "display_data"
    },
    {
     "name": "stderr",
     "output_type": "stream",
     "text": [
      "/home/jlai/.local/share/mamba/envs/tf-gpu/lib/python3.10/site-packages/keras/src/layers/core/dense.py:93: UserWarning: Do not pass an `input_shape`/`input_dim` argument to a layer. When using Sequential models, prefer using an `Input(shape)` object as the first layer in the model instead.\n",
      "  super().__init__(activity_regularizer=activity_regularizer, **kwargs)\n"
     ]
    },
    {
     "name": "stdout",
     "output_type": "stream",
     "text": [
      "Epoch 1/50\n",
      "\u001b[1m9023/9023\u001b[0m \u001b[32m━━━━━━━━━━━━━━━━━━━━\u001b[0m\u001b[37m\u001b[0m \u001b[1m29s\u001b[0m 3ms/step - auc: 0.7292 - loss: 0.0022 - weighted_auc: 0.7406 - val_auc: 0.7106 - val_loss: 0.0010 - val_weighted_auc: 0.7167\n",
      "Epoch 2/50\n",
      "\u001b[1m9023/9023\u001b[0m \u001b[32m━━━━━━━━━━━━━━━━━━━━\u001b[0m\u001b[37m\u001b[0m \u001b[1m21s\u001b[0m 2ms/step - auc: 0.8164 - loss: 9.0847e-04 - weighted_auc: 0.8245 - val_auc: 0.7764 - val_loss: 9.5000e-04 - val_weighted_auc: 0.7826\n",
      "Epoch 3/50\n",
      "\u001b[1m9023/9023\u001b[0m \u001b[32m━━━━━━━━━━━━━━━━━━━━\u001b[0m\u001b[37m\u001b[0m \u001b[1m21s\u001b[0m 2ms/step - auc: 0.8350 - loss: 8.8533e-04 - weighted_auc: 0.8421 - val_auc: 0.7788 - val_loss: 9.3533e-04 - val_weighted_auc: 0.7864\n",
      "Epoch 4/50\n",
      "\u001b[1m9023/9023\u001b[0m \u001b[32m━━━━━━━━━━━━━━━━━━━━\u001b[0m\u001b[37m\u001b[0m \u001b[1m21s\u001b[0m 2ms/step - auc: 0.8316 - loss: 8.6245e-04 - weighted_auc: 0.8393 - val_auc: 0.7878 - val_loss: 9.0363e-04 - val_weighted_auc: 0.7950\n",
      "Epoch 5/50\n",
      "\u001b[1m9023/9023\u001b[0m \u001b[32m━━━━━━━━━━━━━━━━━━━━\u001b[0m\u001b[37m\u001b[0m \u001b[1m21s\u001b[0m 2ms/step - auc: 0.8449 - loss: 8.4479e-04 - weighted_auc: 0.8511 - val_auc: 0.7798 - val_loss: 9.1684e-04 - val_weighted_auc: 0.7868\n",
      "Epoch 6/50\n",
      "\u001b[1m9023/9023\u001b[0m \u001b[32m━━━━━━━━━━━━━━━━━━━━\u001b[0m\u001b[37m\u001b[0m \u001b[1m21s\u001b[0m 2ms/step - auc: 0.8458 - loss: 8.4345e-04 - weighted_auc: 0.8525 - val_auc: 0.7774 - val_loss: 9.1615e-04 - val_weighted_auc: 0.7837\n",
      "Epoch 7/50\n",
      "\u001b[1m9023/9023\u001b[0m \u001b[32m━━━━━━━━━━━━━━━━━━━━\u001b[0m\u001b[37m\u001b[0m \u001b[1m21s\u001b[0m 2ms/step - auc: 0.8433 - loss: 8.4465e-04 - weighted_auc: 0.8496 - val_auc: 0.7937 - val_loss: 8.7711e-04 - val_weighted_auc: 0.8010\n",
      "Epoch 8/50\n",
      "\u001b[1m9023/9023\u001b[0m \u001b[32m━━━━━━━━━━━━━━━━━━━━\u001b[0m\u001b[37m\u001b[0m \u001b[1m21s\u001b[0m 2ms/step - auc: 0.8436 - loss: 8.3935e-04 - weighted_auc: 0.8499 - val_auc: 0.7914 - val_loss: 8.8068e-04 - val_weighted_auc: 0.7971\n",
      "Epoch 9/50\n",
      "\u001b[1m9023/9023\u001b[0m \u001b[32m━━━━━━━━━━━━━━━━━━━━\u001b[0m\u001b[37m\u001b[0m \u001b[1m21s\u001b[0m 2ms/step - auc: 0.8421 - loss: 8.3458e-04 - weighted_auc: 0.8489 - val_auc: 0.7944 - val_loss: 8.9284e-04 - val_weighted_auc: 0.8019\n",
      "Epoch 10/50\n",
      "\u001b[1m9023/9023\u001b[0m \u001b[32m━━━━━━━━━━━━━━━━━━━━\u001b[0m\u001b[37m\u001b[0m \u001b[1m21s\u001b[0m 2ms/step - auc: 0.8469 - loss: 8.2923e-04 - weighted_auc: 0.8523 - val_auc: 0.8024 - val_loss: 8.8648e-04 - val_weighted_auc: 0.8096\n",
      "Epoch 11/50\n",
      "\u001b[1m9023/9023\u001b[0m \u001b[32m━━━━━━━━━━━━━━━━━━━━\u001b[0m\u001b[37m\u001b[0m \u001b[1m21s\u001b[0m 2ms/step - auc: 0.8482 - loss: 8.2799e-04 - weighted_auc: 0.8539 - val_auc: 0.7832 - val_loss: 8.8750e-04 - val_weighted_auc: 0.7881\n",
      "Epoch 12/50\n",
      "\u001b[1m9023/9023\u001b[0m \u001b[32m━━━━━━━━━━━━━━━━━━━━\u001b[0m\u001b[37m\u001b[0m \u001b[1m21s\u001b[0m 2ms/step - auc: 0.8468 - loss: 8.1787e-04 - weighted_auc: 0.8528 - val_auc: 0.7601 - val_loss: 9.5053e-04 - val_weighted_auc: 0.7663\n",
      "Epoch 13/50\n",
      "\u001b[1m9023/9023\u001b[0m \u001b[32m━━━━━━━━━━━━━━━━━━━━\u001b[0m\u001b[37m\u001b[0m \u001b[1m21s\u001b[0m 2ms/step - auc: 0.8463 - loss: 8.2209e-04 - weighted_auc: 0.8521 - val_auc: 0.7938 - val_loss: 8.6386e-04 - val_weighted_auc: 0.7990\n",
      "Epoch 14/50\n",
      "\u001b[1m9023/9023\u001b[0m \u001b[32m━━━━━━━━━━━━━━━━━━━━\u001b[0m\u001b[37m\u001b[0m \u001b[1m21s\u001b[0m 2ms/step - auc: 0.8437 - loss: 8.1606e-04 - weighted_auc: 0.8502 - val_auc: 0.8008 - val_loss: 8.8267e-04 - val_weighted_auc: 0.8057\n",
      "Epoch 15/50\n",
      "\u001b[1m9023/9023\u001b[0m \u001b[32m━━━━━━━━━━━━━━━━━━━━\u001b[0m\u001b[37m\u001b[0m \u001b[1m21s\u001b[0m 2ms/step - auc: 0.8498 - loss: 8.2024e-04 - weighted_auc: 0.8558 - val_auc: 0.8019 - val_loss: 8.8203e-04 - val_weighted_auc: 0.8080\n",
      "\u001b[1m30935/30935\u001b[0m \u001b[32m━━━━━━━━━━━━━━━━━━━━\u001b[0m\u001b[37m\u001b[0m \u001b[1m22s\u001b[0m 691us/step\n",
      "\u001b[1m12890/12890\u001b[0m \u001b[32m━━━━━━━━━━━━━━━━━━━━\u001b[0m\u001b[37m\u001b[0m \u001b[1m9s\u001b[0m 704us/step\n"
     ]
    },
    {
     "data": {
      "text/html": [],
      "text/plain": [
       "<IPython.core.display.HTML object>"
      ]
     },
     "metadata": {},
     "output_type": "display_data"
    },
    {
     "data": {
      "text/html": [
       "<br>    <style><br>        .wandb-row {<br>            display: flex;<br>            flex-direction: row;<br>            flex-wrap: wrap;<br>            justify-content: flex-start;<br>            width: 100%;<br>        }<br>        .wandb-col {<br>            display: flex;<br>            flex-direction: column;<br>            flex-basis: 100%;<br>            flex: 1;<br>            padding: 10px;<br>        }<br>    </style><br><div class=\"wandb-row\"><div class=\"wandb-col\"><h3>Run history:</h3><br/><table class=\"wandb\"><tr><td>Acceptance</td><td>▁</td></tr><tr><td>Max S/sqrt(B)</td><td>▁</td></tr><tr><td>epoch/auc</td><td>▁▆▇▇▇▇█▇███████</td></tr><tr><td>epoch/epoch</td><td>▁▁▂▃▃▃▄▅▅▅▆▇▇▇█</td></tr><tr><td>epoch/learning_rate</td><td>▁▁▁▁▁▁▁▁▁▁▁▁▁▁▁</td></tr><tr><td>epoch/loss</td><td>█▃▂▂▂▂▂▁▁▁▁▁▁▁▁</td></tr><tr><td>epoch/val_auc</td><td>▁▆▆▇▆▆▇▇▇█▇▅▇██</td></tr><tr><td>epoch/val_loss</td><td>█▅▄▃▃▃▂▂▂▂▂▅▁▂▂</td></tr><tr><td>epoch/val_weighted_auc</td><td>▁▆▆▇▆▆▇▇▇█▆▅▇██</td></tr><tr><td>epoch/weighted_auc</td><td>▁▆▇▇█▇█▇███████</td></tr><tr><td>final_val_roc_auc</td><td>▁</td></tr><tr><td>nnScore cut</td><td>▁</td></tr></table><br/></div><div class=\"wandb-col\"><h3>Run summary:</h3><br/><table class=\"wandb\"><tr><td>Acceptance</td><td>0.5368</td></tr><tr><td>Max S/sqrt(B)</td><td>2.80894</td></tr><tr><td>epoch/auc</td><td>0.8451</td></tr><tr><td>epoch/epoch</td><td>14</td></tr><tr><td>epoch/learning_rate</td><td>0.00073</td></tr><tr><td>epoch/loss</td><td>0.00083</td></tr><tr><td>epoch/val_auc</td><td>0.8019</td></tr><tr><td>epoch/val_loss</td><td>0.00088</td></tr><tr><td>epoch/val_weighted_auc</td><td>0.80802</td></tr><tr><td>epoch/weighted_auc</td><td>0.85369</td></tr><tr><td>final_val_roc_auc</td><td>0.97284</td></tr><tr><td>nnScore cut</td><td>0.01</td></tr></table><br/></div></div>"
      ],
      "text/plain": [
       "<IPython.core.display.HTML object>"
      ]
     },
     "metadata": {},
     "output_type": "display_data"
    },
    {
     "data": {
      "text/html": [
       " View run <strong style=\"color:#cdcd00\">worldly-sweep-11</strong> at: <a href='https://wandb.ai/dlai211/tf-dnn-weighted-classifier/runs/axh4rk8e' target=\"_blank\">https://wandb.ai/dlai211/tf-dnn-weighted-classifier/runs/axh4rk8e</a><br> View project at: <a href='https://wandb.ai/dlai211/tf-dnn-weighted-classifier' target=\"_blank\">https://wandb.ai/dlai211/tf-dnn-weighted-classifier</a><br>Synced 5 W&B file(s), 1 media file(s), 0 artifact file(s) and 0 other file(s)"
      ],
      "text/plain": [
       "<IPython.core.display.HTML object>"
      ]
     },
     "metadata": {},
     "output_type": "display_data"
    },
    {
     "data": {
      "text/html": [
       "Find logs at: <code>./wandb/run-20250821_053912-axh4rk8e/logs</code>"
      ],
      "text/plain": [
       "<IPython.core.display.HTML object>"
      ]
     },
     "metadata": {},
     "output_type": "display_data"
    },
    {
     "name": "stderr",
     "output_type": "stream",
     "text": [
      "\u001b[34m\u001b[1mwandb\u001b[0m: Sweep Agent: Waiting for job.\n",
      "\u001b[34m\u001b[1mwandb\u001b[0m: Job received.\n",
      "\u001b[34m\u001b[1mwandb\u001b[0m: Agent Starting Run: 32bvdnhx with config:\n",
      "\u001b[34m\u001b[1mwandb\u001b[0m: \tbatch_size: 512\n",
      "\u001b[34m\u001b[1mwandb\u001b[0m: \tdropout: 0.1566271921260789\n",
      "\u001b[34m\u001b[1mwandb\u001b[0m: \tepochs: 50\n",
      "\u001b[34m\u001b[1mwandb\u001b[0m: \tlayer_1: 192\n",
      "\u001b[34m\u001b[1mwandb\u001b[0m: \tlayer_2: 512\n",
      "\u001b[34m\u001b[1mwandb\u001b[0m: \tlayer_3: 2048\n",
      "\u001b[34m\u001b[1mwandb\u001b[0m: \tlayer_4: 128\n",
      "\u001b[34m\u001b[1mwandb\u001b[0m: \tlayer_5: 64\n",
      "\u001b[34m\u001b[1mwandb\u001b[0m: \tlr: 0.0006341139209205151\n"
     ]
    },
    {
     "data": {
      "text/html": [
       "Ignoring project 'tf-dnn-weighted-classifier' when running a sweep."
      ],
      "text/plain": [
       "<IPython.core.display.HTML object>"
      ]
     },
     "metadata": {},
     "output_type": "display_data"
    },
    {
     "data": {
      "text/html": [
       "Tracking run with wandb version 0.21.0"
      ],
      "text/plain": [
       "<IPython.core.display.HTML object>"
      ]
     },
     "metadata": {},
     "output_type": "display_data"
    },
    {
     "data": {
      "text/html": [
       "Run data is saved locally in <code>/home/jlai/ML/jet_faking/wandb/run-20250821_054541-32bvdnhx</code>"
      ],
      "text/plain": [
       "<IPython.core.display.HTML object>"
      ]
     },
     "metadata": {},
     "output_type": "display_data"
    },
    {
     "data": {
      "text/html": [
       "Syncing run <strong><a href='https://wandb.ai/dlai211/tf-dnn-weighted-classifier/runs/32bvdnhx' target=\"_blank\">silver-sweep-12</a></strong> to <a href='https://wandb.ai/dlai211/tf-dnn-weighted-classifier' target=\"_blank\">Weights & Biases</a> (<a href='https://wandb.me/developer-guide' target=\"_blank\">docs</a>)<br>Sweep page: <a href='https://wandb.ai/dlai211/tf-dnn-weighted-classifier/sweeps/rg1dnn5u' target=\"_blank\">https://wandb.ai/dlai211/tf-dnn-weighted-classifier/sweeps/rg1dnn5u</a>"
      ],
      "text/plain": [
       "<IPython.core.display.HTML object>"
      ]
     },
     "metadata": {},
     "output_type": "display_data"
    },
    {
     "data": {
      "text/html": [
       " View project at <a href='https://wandb.ai/dlai211/tf-dnn-weighted-classifier' target=\"_blank\">https://wandb.ai/dlai211/tf-dnn-weighted-classifier</a>"
      ],
      "text/plain": [
       "<IPython.core.display.HTML object>"
      ]
     },
     "metadata": {},
     "output_type": "display_data"
    },
    {
     "data": {
      "text/html": [
       " View sweep at <a href='https://wandb.ai/dlai211/tf-dnn-weighted-classifier/sweeps/rg1dnn5u' target=\"_blank\">https://wandb.ai/dlai211/tf-dnn-weighted-classifier/sweeps/rg1dnn5u</a>"
      ],
      "text/plain": [
       "<IPython.core.display.HTML object>"
      ]
     },
     "metadata": {},
     "output_type": "display_data"
    },
    {
     "data": {
      "text/html": [
       " View run at <a href='https://wandb.ai/dlai211/tf-dnn-weighted-classifier/runs/32bvdnhx' target=\"_blank\">https://wandb.ai/dlai211/tf-dnn-weighted-classifier/runs/32bvdnhx</a>"
      ],
      "text/plain": [
       "<IPython.core.display.HTML object>"
      ]
     },
     "metadata": {},
     "output_type": "display_data"
    },
    {
     "name": "stderr",
     "output_type": "stream",
     "text": [
      "/home/jlai/.local/share/mamba/envs/tf-gpu/lib/python3.10/site-packages/keras/src/layers/core/dense.py:93: UserWarning: Do not pass an `input_shape`/`input_dim` argument to a layer. When using Sequential models, prefer using an `Input(shape)` object as the first layer in the model instead.\n",
      "  super().__init__(activity_regularizer=activity_regularizer, **kwargs)\n"
     ]
    },
    {
     "name": "stdout",
     "output_type": "stream",
     "text": [
      "Epoch 1/50\n",
      "\u001b[1m4512/4512\u001b[0m \u001b[32m━━━━━━━━━━━━━━━━━━━━\u001b[0m\u001b[37m\u001b[0m \u001b[1m21s\u001b[0m 4ms/step - auc: 0.7174 - loss: 0.0031 - weighted_auc: 0.7282 - val_auc: 0.7551 - val_loss: 9.5969e-04 - val_weighted_auc: 0.7606\n",
      "Epoch 2/50\n",
      "\u001b[1m4512/4512\u001b[0m \u001b[32m━━━━━━━━━━━━━━━━━━━━\u001b[0m\u001b[37m\u001b[0m \u001b[1m13s\u001b[0m 3ms/step - auc: 0.8049 - loss: 9.1754e-04 - weighted_auc: 0.8127 - val_auc: 0.7752 - val_loss: 9.2472e-04 - val_weighted_auc: 0.7794\n",
      "Epoch 3/50\n",
      "\u001b[1m4512/4512\u001b[0m \u001b[32m━━━━━━━━━━━━━━━━━━━━\u001b[0m\u001b[37m\u001b[0m \u001b[1m13s\u001b[0m 3ms/step - auc: 0.8324 - loss: 8.7285e-04 - weighted_auc: 0.8392 - val_auc: 0.7595 - val_loss: 9.5148e-04 - val_weighted_auc: 0.7653\n",
      "Epoch 4/50\n",
      "\u001b[1m4512/4512\u001b[0m \u001b[32m━━━━━━━━━━━━━━━━━━━━\u001b[0m\u001b[37m\u001b[0m \u001b[1m13s\u001b[0m 3ms/step - auc: 0.8392 - loss: 8.6640e-04 - weighted_auc: 0.8466 - val_auc: 0.7749 - val_loss: 9.2166e-04 - val_weighted_auc: 0.7805\n",
      "Epoch 5/50\n",
      "\u001b[1m4512/4512\u001b[0m \u001b[32m━━━━━━━━━━━━━━━━━━━━\u001b[0m\u001b[37m\u001b[0m \u001b[1m13s\u001b[0m 3ms/step - auc: 0.8433 - loss: 8.5057e-04 - weighted_auc: 0.8498 - val_auc: 0.8006 - val_loss: 8.6440e-04 - val_weighted_auc: 0.8077\n",
      "Epoch 6/50\n",
      "\u001b[1m4512/4512\u001b[0m \u001b[32m━━━━━━━━━━━━━━━━━━━━\u001b[0m\u001b[37m\u001b[0m \u001b[1m13s\u001b[0m 3ms/step - auc: 0.8422 - loss: 8.4698e-04 - weighted_auc: 0.8482 - val_auc: 0.7798 - val_loss: 8.9924e-04 - val_weighted_auc: 0.7840\n",
      "Epoch 7/50\n",
      "\u001b[1m4512/4512\u001b[0m \u001b[32m━━━━━━━━━━━━━━━━━━━━\u001b[0m\u001b[37m\u001b[0m \u001b[1m13s\u001b[0m 3ms/step - auc: 0.8457 - loss: 8.3723e-04 - weighted_auc: 0.8545 - val_auc: 0.7756 - val_loss: 8.8877e-04 - val_weighted_auc: 0.7796\n",
      "Epoch 8/50\n",
      "\u001b[1m4512/4512\u001b[0m \u001b[32m━━━━━━━━━━━━━━━━━━━━\u001b[0m\u001b[37m\u001b[0m \u001b[1m13s\u001b[0m 3ms/step - auc: 0.8413 - loss: 8.3180e-04 - weighted_auc: 0.8489 - val_auc: 0.8038 - val_loss: 8.5852e-04 - val_weighted_auc: 0.8103\n",
      "Epoch 9/50\n",
      "\u001b[1m4512/4512\u001b[0m \u001b[32m━━━━━━━━━━━━━━━━━━━━\u001b[0m\u001b[37m\u001b[0m \u001b[1m13s\u001b[0m 3ms/step - auc: 0.8439 - loss: 8.2428e-04 - weighted_auc: 0.8514 - val_auc: 0.7836 - val_loss: 8.7476e-04 - val_weighted_auc: 0.7891\n",
      "Epoch 10/50\n",
      "\u001b[1m4512/4512\u001b[0m \u001b[32m━━━━━━━━━━━━━━━━━━━━\u001b[0m\u001b[37m\u001b[0m \u001b[1m13s\u001b[0m 3ms/step - auc: 0.8379 - loss: 8.2551e-04 - weighted_auc: 0.8446 - val_auc: 0.8011 - val_loss: 8.5961e-04 - val_weighted_auc: 0.8071\n",
      "Epoch 11/50\n",
      "\u001b[1m4512/4512\u001b[0m \u001b[32m━━━━━━━━━━━━━━━━━━━━\u001b[0m\u001b[37m\u001b[0m \u001b[1m13s\u001b[0m 3ms/step - auc: 0.8525 - loss: 8.1885e-04 - weighted_auc: 0.8580 - val_auc: 0.8037 - val_loss: 8.5322e-04 - val_weighted_auc: 0.8097\n",
      "Epoch 12/50\n",
      "\u001b[1m4512/4512\u001b[0m \u001b[32m━━━━━━━━━━━━━━━━━━━━\u001b[0m\u001b[37m\u001b[0m \u001b[1m13s\u001b[0m 3ms/step - auc: 0.8499 - loss: 8.1471e-04 - weighted_auc: 0.8562 - val_auc: 0.7922 - val_loss: 8.4926e-04 - val_weighted_auc: 0.7972\n",
      "Epoch 13/50\n",
      "\u001b[1m4512/4512\u001b[0m \u001b[32m━━━━━━━━━━━━━━━━━━━━\u001b[0m\u001b[37m\u001b[0m \u001b[1m13s\u001b[0m 3ms/step - auc: 0.8454 - loss: 8.1867e-04 - weighted_auc: 0.8501 - val_auc: 0.8055 - val_loss: 8.5588e-04 - val_weighted_auc: 0.8092\n",
      "\u001b[1m30935/30935\u001b[0m \u001b[32m━━━━━━━━━━━━━━━━━━━━\u001b[0m\u001b[37m\u001b[0m \u001b[1m19s\u001b[0m 621us/step\n",
      "\u001b[1m6445/6445\u001b[0m \u001b[32m━━━━━━━━━━━━━━━━━━━━\u001b[0m\u001b[37m\u001b[0m \u001b[1m6s\u001b[0m 866us/step\n"
     ]
    },
    {
     "data": {
      "text/html": [],
      "text/plain": [
       "<IPython.core.display.HTML object>"
      ]
     },
     "metadata": {},
     "output_type": "display_data"
    },
    {
     "data": {
      "text/html": [
       "<br>    <style><br>        .wandb-row {<br>            display: flex;<br>            flex-direction: row;<br>            flex-wrap: wrap;<br>            justify-content: flex-start;<br>            width: 100%;<br>        }<br>        .wandb-col {<br>            display: flex;<br>            flex-direction: column;<br>            flex-basis: 100%;<br>            flex: 1;<br>            padding: 10px;<br>        }<br>    </style><br><div class=\"wandb-row\"><div class=\"wandb-col\"><h3>Run history:</h3><br/><table class=\"wandb\"><tr><td>Acceptance</td><td>▁</td></tr><tr><td>Max S/sqrt(B)</td><td>▁</td></tr><tr><td>epoch/auc</td><td>▁▅▇▇█████▇███</td></tr><tr><td>epoch/epoch</td><td>▁▂▂▃▃▄▅▅▆▆▇▇█</td></tr><tr><td>epoch/learning_rate</td><td>▁▁▁▁▁▁▁▁▁▁▁▁▁</td></tr><tr><td>epoch/loss</td><td>█▂▂▂▂▁▁▁▁▁▁▁▁</td></tr><tr><td>epoch/val_auc</td><td>▁▄▂▄▇▄▄█▅▇█▆█</td></tr><tr><td>epoch/val_loss</td><td>█▆▇▆▂▄▄▂▃▂▁▁▁</td></tr><tr><td>epoch/val_weighted_auc</td><td>▁▄▂▄█▄▄█▅██▆█</td></tr><tr><td>epoch/weighted_auc</td><td>▁▅▇▇█▇███▇███</td></tr><tr><td>final_val_roc_auc</td><td>▁</td></tr><tr><td>nnScore cut</td><td>▁</td></tr></table><br/></div><div class=\"wandb-col\"><h3>Run summary:</h3><br/><table class=\"wandb\"><tr><td>Acceptance</td><td>0.58098</td></tr><tr><td>Max S/sqrt(B)</td><td>2.81247</td></tr><tr><td>epoch/auc</td><td>0.84468</td></tr><tr><td>epoch/epoch</td><td>12</td></tr><tr><td>epoch/learning_rate</td><td>0.00063</td></tr><tr><td>epoch/loss</td><td>0.00083</td></tr><tr><td>epoch/val_auc</td><td>0.80546</td></tr><tr><td>epoch/val_loss</td><td>0.00086</td></tr><tr><td>epoch/val_weighted_auc</td><td>0.80923</td></tr><tr><td>epoch/weighted_auc</td><td>0.85215</td></tr><tr><td>final_val_roc_auc</td><td>0.97637</td></tr><tr><td>nnScore cut</td><td>0.01</td></tr></table><br/></div></div>"
      ],
      "text/plain": [
       "<IPython.core.display.HTML object>"
      ]
     },
     "metadata": {},
     "output_type": "display_data"
    },
    {
     "data": {
      "text/html": [
       " View run <strong style=\"color:#cdcd00\">silver-sweep-12</strong> at: <a href='https://wandb.ai/dlai211/tf-dnn-weighted-classifier/runs/32bvdnhx' target=\"_blank\">https://wandb.ai/dlai211/tf-dnn-weighted-classifier/runs/32bvdnhx</a><br> View project at: <a href='https://wandb.ai/dlai211/tf-dnn-weighted-classifier' target=\"_blank\">https://wandb.ai/dlai211/tf-dnn-weighted-classifier</a><br>Synced 5 W&B file(s), 1 media file(s), 0 artifact file(s) and 0 other file(s)"
      ],
      "text/plain": [
       "<IPython.core.display.HTML object>"
      ]
     },
     "metadata": {},
     "output_type": "display_data"
    },
    {
     "data": {
      "text/html": [
       "Find logs at: <code>./wandb/run-20250821_054541-32bvdnhx/logs</code>"
      ],
      "text/plain": [
       "<IPython.core.display.HTML object>"
      ]
     },
     "metadata": {},
     "output_type": "display_data"
    },
    {
     "name": "stderr",
     "output_type": "stream",
     "text": [
      "\u001b[34m\u001b[1mwandb\u001b[0m: Agent Starting Run: vg8ugjq1 with config:\n",
      "\u001b[34m\u001b[1mwandb\u001b[0m: \tbatch_size: 768\n",
      "\u001b[34m\u001b[1mwandb\u001b[0m: \tdropout: 0.11218005322944738\n",
      "\u001b[34m\u001b[1mwandb\u001b[0m: \tepochs: 50\n",
      "\u001b[34m\u001b[1mwandb\u001b[0m: \tlayer_1: 128\n",
      "\u001b[34m\u001b[1mwandb\u001b[0m: \tlayer_2: 512\n",
      "\u001b[34m\u001b[1mwandb\u001b[0m: \tlayer_3: 2048\n",
      "\u001b[34m\u001b[1mwandb\u001b[0m: \tlayer_4: 128\n",
      "\u001b[34m\u001b[1mwandb\u001b[0m: \tlayer_5: 32\n",
      "\u001b[34m\u001b[1mwandb\u001b[0m: \tlr: 0.00010745120924681565\n"
     ]
    },
    {
     "data": {
      "text/html": [
       "Ignoring project 'tf-dnn-weighted-classifier' when running a sweep."
      ],
      "text/plain": [
       "<IPython.core.display.HTML object>"
      ]
     },
     "metadata": {},
     "output_type": "display_data"
    },
    {
     "data": {
      "text/html": [
       "Tracking run with wandb version 0.21.0"
      ],
      "text/plain": [
       "<IPython.core.display.HTML object>"
      ]
     },
     "metadata": {},
     "output_type": "display_data"
    },
    {
     "data": {
      "text/html": [
       "Run data is saved locally in <code>/home/jlai/ML/jet_faking/wandb/run-20250821_054928-vg8ugjq1</code>"
      ],
      "text/plain": [
       "<IPython.core.display.HTML object>"
      ]
     },
     "metadata": {},
     "output_type": "display_data"
    },
    {
     "data": {
      "text/html": [
       "Syncing run <strong><a href='https://wandb.ai/dlai211/tf-dnn-weighted-classifier/runs/vg8ugjq1' target=\"_blank\">fast-sweep-13</a></strong> to <a href='https://wandb.ai/dlai211/tf-dnn-weighted-classifier' target=\"_blank\">Weights & Biases</a> (<a href='https://wandb.me/developer-guide' target=\"_blank\">docs</a>)<br>Sweep page: <a href='https://wandb.ai/dlai211/tf-dnn-weighted-classifier/sweeps/rg1dnn5u' target=\"_blank\">https://wandb.ai/dlai211/tf-dnn-weighted-classifier/sweeps/rg1dnn5u</a>"
      ],
      "text/plain": [
       "<IPython.core.display.HTML object>"
      ]
     },
     "metadata": {},
     "output_type": "display_data"
    },
    {
     "data": {
      "text/html": [
       " View project at <a href='https://wandb.ai/dlai211/tf-dnn-weighted-classifier' target=\"_blank\">https://wandb.ai/dlai211/tf-dnn-weighted-classifier</a>"
      ],
      "text/plain": [
       "<IPython.core.display.HTML object>"
      ]
     },
     "metadata": {},
     "output_type": "display_data"
    },
    {
     "data": {
      "text/html": [
       " View sweep at <a href='https://wandb.ai/dlai211/tf-dnn-weighted-classifier/sweeps/rg1dnn5u' target=\"_blank\">https://wandb.ai/dlai211/tf-dnn-weighted-classifier/sweeps/rg1dnn5u</a>"
      ],
      "text/plain": [
       "<IPython.core.display.HTML object>"
      ]
     },
     "metadata": {},
     "output_type": "display_data"
    },
    {
     "data": {
      "text/html": [
       " View run at <a href='https://wandb.ai/dlai211/tf-dnn-weighted-classifier/runs/vg8ugjq1' target=\"_blank\">https://wandb.ai/dlai211/tf-dnn-weighted-classifier/runs/vg8ugjq1</a>"
      ],
      "text/plain": [
       "<IPython.core.display.HTML object>"
      ]
     },
     "metadata": {},
     "output_type": "display_data"
    },
    {
     "name": "stderr",
     "output_type": "stream",
     "text": [
      "/home/jlai/.local/share/mamba/envs/tf-gpu/lib/python3.10/site-packages/keras/src/layers/core/dense.py:93: UserWarning: Do not pass an `input_shape`/`input_dim` argument to a layer. When using Sequential models, prefer using an `Input(shape)` object as the first layer in the model instead.\n",
      "  super().__init__(activity_regularizer=activity_regularizer, **kwargs)\n"
     ]
    },
    {
     "name": "stdout",
     "output_type": "stream",
     "text": [
      "Epoch 1/50\n",
      "\u001b[1m3008/3008\u001b[0m \u001b[32m━━━━━━━━━━━━━━━━━━━━\u001b[0m\u001b[37m\u001b[0m \u001b[1m18s\u001b[0m 4ms/step - auc: 0.6048 - loss: 0.0095 - weighted_auc: 0.6185 - val_auc: 0.8166 - val_loss: 8.8960e-04 - val_weighted_auc: 0.8307\n",
      "Epoch 2/50\n",
      "\u001b[1m3008/3008\u001b[0m \u001b[32m━━━━━━━━━━━━━━━━━━━━\u001b[0m\u001b[37m\u001b[0m \u001b[1m9s\u001b[0m 3ms/step - auc: 0.7894 - loss: 9.2126e-04 - weighted_auc: 0.7986 - val_auc: 0.8052 - val_loss: 8.7319e-04 - val_weighted_auc: 0.8143\n",
      "Epoch 3/50\n",
      "\u001b[1m3008/3008\u001b[0m \u001b[32m━━━━━━━━━━━━━━━━━━━━\u001b[0m\u001b[37m\u001b[0m \u001b[1m9s\u001b[0m 3ms/step - auc: 0.8070 - loss: 8.8241e-04 - weighted_auc: 0.8183 - val_auc: 0.8325 - val_loss: 8.5889e-04 - val_weighted_auc: 0.8411\n",
      "Epoch 4/50\n",
      "\u001b[1m3008/3008\u001b[0m \u001b[32m━━━━━━━━━━━━━━━━━━━━\u001b[0m\u001b[37m\u001b[0m \u001b[1m9s\u001b[0m 3ms/step - auc: 0.8220 - loss: 8.6446e-04 - weighted_auc: 0.8311 - val_auc: 0.8274 - val_loss: 8.5392e-04 - val_weighted_auc: 0.8346\n",
      "Epoch 5/50\n",
      "\u001b[1m3008/3008\u001b[0m \u001b[32m━━━━━━━━━━━━━━━━━━━━\u001b[0m\u001b[37m\u001b[0m \u001b[1m9s\u001b[0m 3ms/step - auc: 0.8289 - loss: 8.5208e-04 - weighted_auc: 0.8370 - val_auc: 0.8376 - val_loss: 8.4708e-04 - val_weighted_auc: 0.8438\n",
      "Epoch 6/50\n",
      "\u001b[1m3008/3008\u001b[0m \u001b[32m━━━━━━━━━━━━━━━━━━━━\u001b[0m\u001b[37m\u001b[0m \u001b[1m9s\u001b[0m 3ms/step - auc: 0.8326 - loss: 8.4864e-04 - weighted_auc: 0.8420 - val_auc: 0.8357 - val_loss: 8.4570e-04 - val_weighted_auc: 0.8439\n",
      "Epoch 7/50\n",
      "\u001b[1m3008/3008\u001b[0m \u001b[32m━━━━━━━━━━━━━━━━━━━━\u001b[0m\u001b[37m\u001b[0m \u001b[1m9s\u001b[0m 3ms/step - auc: 0.8353 - loss: 8.3570e-04 - weighted_auc: 0.8434 - val_auc: 0.8535 - val_loss: 8.4572e-04 - val_weighted_auc: 0.8600\n",
      "Epoch 8/50\n",
      "\u001b[1m3008/3008\u001b[0m \u001b[32m━━━━━━━━━━━━━━━━━━━━\u001b[0m\u001b[37m\u001b[0m \u001b[1m9s\u001b[0m 3ms/step - auc: 0.8355 - loss: 8.4296e-04 - weighted_auc: 0.8422 - val_auc: 0.8531 - val_loss: 8.3990e-04 - val_weighted_auc: 0.8594\n",
      "Epoch 9/50\n",
      "\u001b[1m3008/3008\u001b[0m \u001b[32m━━━━━━━━━━━━━━━━━━━━\u001b[0m\u001b[37m\u001b[0m \u001b[1m9s\u001b[0m 3ms/step - auc: 0.8426 - loss: 8.2948e-04 - weighted_auc: 0.8498 - val_auc: 0.8415 - val_loss: 8.3467e-04 - val_weighted_auc: 0.8472\n",
      "Epoch 10/50\n",
      "\u001b[1m3008/3008\u001b[0m \u001b[32m━━━━━━━━━━━━━━━━━━━━\u001b[0m\u001b[37m\u001b[0m \u001b[1m9s\u001b[0m 3ms/step - auc: 0.8418 - loss: 8.2342e-04 - weighted_auc: 0.8489 - val_auc: 0.8484 - val_loss: 8.3626e-04 - val_weighted_auc: 0.8547\n",
      "Epoch 11/50\n",
      "\u001b[1m3008/3008\u001b[0m \u001b[32m━━━━━━━━━━━━━━━━━━━━\u001b[0m\u001b[37m\u001b[0m \u001b[1m9s\u001b[0m 3ms/step - auc: 0.8472 - loss: 8.2206e-04 - weighted_auc: 0.8554 - val_auc: 0.8540 - val_loss: 8.3279e-04 - val_weighted_auc: 0.8607\n",
      "Epoch 12/50\n",
      "\u001b[1m3008/3008\u001b[0m \u001b[32m━━━━━━━━━━━━━━━━━━━━\u001b[0m\u001b[37m\u001b[0m \u001b[1m9s\u001b[0m 3ms/step - auc: 0.8451 - loss: 8.1483e-04 - weighted_auc: 0.8524 - val_auc: 0.8472 - val_loss: 8.3004e-04 - val_weighted_auc: 0.8539\n",
      "Epoch 13/50\n",
      "\u001b[1m3008/3008\u001b[0m \u001b[32m━━━━━━━━━━━━━━━━━━━━\u001b[0m\u001b[37m\u001b[0m \u001b[1m9s\u001b[0m 3ms/step - auc: 0.8478 - loss: 8.1661e-04 - weighted_auc: 0.8566 - val_auc: 0.8482 - val_loss: 8.3023e-04 - val_weighted_auc: 0.8543\n",
      "Epoch 14/50\n",
      "\u001b[1m3008/3008\u001b[0m \u001b[32m━━━━━━━━━━━━━━━━━━━━\u001b[0m\u001b[37m\u001b[0m \u001b[1m9s\u001b[0m 3ms/step - auc: 0.8490 - loss: 8.1121e-04 - weighted_auc: 0.8551 - val_auc: 0.8506 - val_loss: 8.3329e-04 - val_weighted_auc: 0.8569\n",
      "Epoch 15/50\n",
      "\u001b[1m3008/3008\u001b[0m \u001b[32m━━━━━━━━━━━━━━━━━━━━\u001b[0m\u001b[37m\u001b[0m \u001b[1m9s\u001b[0m 3ms/step - auc: 0.8518 - loss: 8.0172e-04 - weighted_auc: 0.8591 - val_auc: 0.8466 - val_loss: 8.3361e-04 - val_weighted_auc: 0.8535\n",
      "Epoch 16/50\n",
      "\u001b[1m3008/3008\u001b[0m \u001b[32m━━━━━━━━━━━━━━━━━━━━\u001b[0m\u001b[37m\u001b[0m \u001b[1m9s\u001b[0m 3ms/step - auc: 0.8508 - loss: 8.0824e-04 - weighted_auc: 0.8568 - val_auc: 0.8466 - val_loss: 8.2988e-04 - val_weighted_auc: 0.8527\n",
      "\u001b[1m30935/30935\u001b[0m \u001b[32m━━━━━━━━━━━━━━━━━━━━\u001b[0m\u001b[37m\u001b[0m \u001b[1m20s\u001b[0m 638us/step\n",
      "\u001b[1m4297/4297\u001b[0m \u001b[32m━━━━━━━━━━━━━━━━━━━━\u001b[0m\u001b[37m\u001b[0m \u001b[1m5s\u001b[0m 1ms/step\n"
     ]
    },
    {
     "data": {
      "text/html": [],
      "text/plain": [
       "<IPython.core.display.HTML object>"
      ]
     },
     "metadata": {},
     "output_type": "display_data"
    },
    {
     "data": {
      "text/html": [
       "<br>    <style><br>        .wandb-row {<br>            display: flex;<br>            flex-direction: row;<br>            flex-wrap: wrap;<br>            justify-content: flex-start;<br>            width: 100%;<br>        }<br>        .wandb-col {<br>            display: flex;<br>            flex-direction: column;<br>            flex-basis: 100%;<br>            flex: 1;<br>            padding: 10px;<br>        }<br>    </style><br><div class=\"wandb-row\"><div class=\"wandb-col\"><h3>Run history:</h3><br/><table class=\"wandb\"><tr><td>Acceptance</td><td>▁</td></tr><tr><td>Max S/sqrt(B)</td><td>▁</td></tr><tr><td>epoch/auc</td><td>▁▆▆▇▇▇▇▇▇███████</td></tr><tr><td>epoch/epoch</td><td>▁▁▂▂▃▃▄▄▅▅▆▆▇▇██</td></tr><tr><td>epoch/learning_rate</td><td>▁▁▁▁▁▁▁▁▁▁▁▁▁▁▁▁</td></tr><tr><td>epoch/loss</td><td>█▁▁▁▁▁▁▁▁▁▁▁▁▁▁▁</td></tr><tr><td>epoch/val_auc</td><td>▃▁▅▄▆▅██▆▇█▇▇█▇▇</td></tr><tr><td>epoch/val_loss</td><td>█▆▄▄▃▃▃▂▂▂▁▁▁▁▁▁</td></tr><tr><td>epoch/val_weighted_auc</td><td>▃▁▅▄▅▅██▆▇█▇▇▇▇▇</td></tr><tr><td>epoch/weighted_auc</td><td>▁▆▆▇▇▇▇▇▇███████</td></tr><tr><td>final_val_roc_auc</td><td>▁</td></tr><tr><td>nnScore cut</td><td>▁</td></tr></table><br/></div><div class=\"wandb-col\"><h3>Run summary:</h3><br/><table class=\"wandb\"><tr><td>Acceptance</td><td>0.56599</td></tr><tr><td>Max S/sqrt(B)</td><td>2.90547</td></tr><tr><td>epoch/auc</td><td>0.8475</td></tr><tr><td>epoch/epoch</td><td>15</td></tr><tr><td>epoch/learning_rate</td><td>0.00011</td></tr><tr><td>epoch/loss</td><td>0.00082</td></tr><tr><td>epoch/val_auc</td><td>0.84657</td></tr><tr><td>epoch/val_loss</td><td>0.00083</td></tr><tr><td>epoch/val_weighted_auc</td><td>0.85275</td></tr><tr><td>epoch/weighted_auc</td><td>0.85714</td></tr><tr><td>final_val_roc_auc</td><td>0.97682</td></tr><tr><td>nnScore cut</td><td>0.01</td></tr></table><br/></div></div>"
      ],
      "text/plain": [
       "<IPython.core.display.HTML object>"
      ]
     },
     "metadata": {},
     "output_type": "display_data"
    },
    {
     "data": {
      "text/html": [
       " View run <strong style=\"color:#cdcd00\">fast-sweep-13</strong> at: <a href='https://wandb.ai/dlai211/tf-dnn-weighted-classifier/runs/vg8ugjq1' target=\"_blank\">https://wandb.ai/dlai211/tf-dnn-weighted-classifier/runs/vg8ugjq1</a><br> View project at: <a href='https://wandb.ai/dlai211/tf-dnn-weighted-classifier' target=\"_blank\">https://wandb.ai/dlai211/tf-dnn-weighted-classifier</a><br>Synced 5 W&B file(s), 1 media file(s), 0 artifact file(s) and 0 other file(s)"
      ],
      "text/plain": [
       "<IPython.core.display.HTML object>"
      ]
     },
     "metadata": {},
     "output_type": "display_data"
    },
    {
     "data": {
      "text/html": [
       "Find logs at: <code>./wandb/run-20250821_054928-vg8ugjq1/logs</code>"
      ],
      "text/plain": [
       "<IPython.core.display.HTML object>"
      ]
     },
     "metadata": {},
     "output_type": "display_data"
    },
    {
     "name": "stderr",
     "output_type": "stream",
     "text": [
      "\u001b[34m\u001b[1mwandb\u001b[0m: Agent Starting Run: 56623381 with config:\n",
      "\u001b[34m\u001b[1mwandb\u001b[0m: \tbatch_size: 512\n",
      "\u001b[34m\u001b[1mwandb\u001b[0m: \tdropout: 0.24521370908432183\n",
      "\u001b[34m\u001b[1mwandb\u001b[0m: \tepochs: 50\n",
      "\u001b[34m\u001b[1mwandb\u001b[0m: \tlayer_1: 128\n",
      "\u001b[34m\u001b[1mwandb\u001b[0m: \tlayer_2: 512\n",
      "\u001b[34m\u001b[1mwandb\u001b[0m: \tlayer_3: 2048\n",
      "\u001b[34m\u001b[1mwandb\u001b[0m: \tlayer_4: 256\n",
      "\u001b[34m\u001b[1mwandb\u001b[0m: \tlayer_5: 32\n",
      "\u001b[34m\u001b[1mwandb\u001b[0m: \tlr: 0.0023013562548845254\n"
     ]
    },
    {
     "data": {
      "text/html": [
       "Ignoring project 'tf-dnn-weighted-classifier' when running a sweep."
      ],
      "text/plain": [
       "<IPython.core.display.HTML object>"
      ]
     },
     "metadata": {},
     "output_type": "display_data"
    },
    {
     "data": {
      "text/html": [
       "Tracking run with wandb version 0.21.0"
      ],
      "text/plain": [
       "<IPython.core.display.HTML object>"
      ]
     },
     "metadata": {},
     "output_type": "display_data"
    },
    {
     "data": {
      "text/html": [
       "Run data is saved locally in <code>/home/jlai/ML/jet_faking/wandb/run-20250821_055250-56623381</code>"
      ],
      "text/plain": [
       "<IPython.core.display.HTML object>"
      ]
     },
     "metadata": {},
     "output_type": "display_data"
    },
    {
     "data": {
      "text/html": [
       "Syncing run <strong><a href='https://wandb.ai/dlai211/tf-dnn-weighted-classifier/runs/56623381' target=\"_blank\">clear-sweep-14</a></strong> to <a href='https://wandb.ai/dlai211/tf-dnn-weighted-classifier' target=\"_blank\">Weights & Biases</a> (<a href='https://wandb.me/developer-guide' target=\"_blank\">docs</a>)<br>Sweep page: <a href='https://wandb.ai/dlai211/tf-dnn-weighted-classifier/sweeps/rg1dnn5u' target=\"_blank\">https://wandb.ai/dlai211/tf-dnn-weighted-classifier/sweeps/rg1dnn5u</a>"
      ],
      "text/plain": [
       "<IPython.core.display.HTML object>"
      ]
     },
     "metadata": {},
     "output_type": "display_data"
    },
    {
     "data": {
      "text/html": [
       " View project at <a href='https://wandb.ai/dlai211/tf-dnn-weighted-classifier' target=\"_blank\">https://wandb.ai/dlai211/tf-dnn-weighted-classifier</a>"
      ],
      "text/plain": [
       "<IPython.core.display.HTML object>"
      ]
     },
     "metadata": {},
     "output_type": "display_data"
    },
    {
     "data": {
      "text/html": [
       " View sweep at <a href='https://wandb.ai/dlai211/tf-dnn-weighted-classifier/sweeps/rg1dnn5u' target=\"_blank\">https://wandb.ai/dlai211/tf-dnn-weighted-classifier/sweeps/rg1dnn5u</a>"
      ],
      "text/plain": [
       "<IPython.core.display.HTML object>"
      ]
     },
     "metadata": {},
     "output_type": "display_data"
    },
    {
     "data": {
      "text/html": [
       " View run at <a href='https://wandb.ai/dlai211/tf-dnn-weighted-classifier/runs/56623381' target=\"_blank\">https://wandb.ai/dlai211/tf-dnn-weighted-classifier/runs/56623381</a>"
      ],
      "text/plain": [
       "<IPython.core.display.HTML object>"
      ]
     },
     "metadata": {},
     "output_type": "display_data"
    },
    {
     "name": "stderr",
     "output_type": "stream",
     "text": [
      "/home/jlai/.local/share/mamba/envs/tf-gpu/lib/python3.10/site-packages/keras/src/layers/core/dense.py:93: UserWarning: Do not pass an `input_shape`/`input_dim` argument to a layer. When using Sequential models, prefer using an `Input(shape)` object as the first layer in the model instead.\n",
      "  super().__init__(activity_regularizer=activity_regularizer, **kwargs)\n"
     ]
    },
    {
     "name": "stdout",
     "output_type": "stream",
     "text": [
      "Epoch 1/50\n",
      "\u001b[1m4512/4512\u001b[0m \u001b[32m━━━━━━━━━━━━━━━━━━━━\u001b[0m\u001b[37m\u001b[0m \u001b[1m21s\u001b[0m 4ms/step - auc: 0.7234 - loss: 0.0025 - weighted_auc: 0.7340 - val_auc: 0.7565 - val_loss: 0.0011 - val_weighted_auc: 0.7636\n",
      "Epoch 2/50\n",
      "\u001b[1m4512/4512\u001b[0m \u001b[32m━━━━━━━━━━━━━━━━━━━━\u001b[0m\u001b[37m\u001b[0m \u001b[1m13s\u001b[0m 3ms/step - auc: 0.7939 - loss: 0.0010 - weighted_auc: 0.8049 - val_auc: 0.7702 - val_loss: 9.6643e-04 - val_weighted_auc: 0.7777\n",
      "Epoch 3/50\n",
      "\u001b[1m4512/4512\u001b[0m \u001b[32m━━━━━━━━━━━━━━━━━━━━\u001b[0m\u001b[37m\u001b[0m \u001b[1m13s\u001b[0m 3ms/step - auc: 0.8083 - loss: 9.7741e-04 - weighted_auc: 0.8201 - val_auc: 0.7755 - val_loss: 9.4192e-04 - val_weighted_auc: 0.7834\n",
      "Epoch 4/50\n",
      "\u001b[1m4512/4512\u001b[0m \u001b[32m━━━━━━━━━━━━━━━━━━━━\u001b[0m\u001b[37m\u001b[0m \u001b[1m13s\u001b[0m 3ms/step - auc: 0.8333 - loss: 9.2916e-04 - weighted_auc: 0.8402 - val_auc: 0.8020 - val_loss: 9.2449e-04 - val_weighted_auc: 0.8114\n",
      "Epoch 5/50\n",
      "\u001b[1m4512/4512\u001b[0m \u001b[32m━━━━━━━━━━━━━━━━━━━━\u001b[0m\u001b[37m\u001b[0m \u001b[1m13s\u001b[0m 3ms/step - auc: 0.8430 - loss: 9.0391e-04 - weighted_auc: 0.8521 - val_auc: 0.7853 - val_loss: 9.3005e-04 - val_weighted_auc: 0.7933\n",
      "Epoch 6/50\n",
      "\u001b[1m4512/4512\u001b[0m \u001b[32m━━━━━━━━━━━━━━━━━━━━\u001b[0m\u001b[37m\u001b[0m \u001b[1m13s\u001b[0m 3ms/step - auc: 0.8379 - loss: 9.1333e-04 - weighted_auc: 0.8469 - val_auc: 0.7792 - val_loss: 9.2492e-04 - val_weighted_auc: 0.7877\n",
      "Epoch 7/50\n",
      "\u001b[1m4512/4512\u001b[0m \u001b[32m━━━━━━━━━━━━━━━━━━━━\u001b[0m\u001b[37m\u001b[0m \u001b[1m13s\u001b[0m 3ms/step - auc: 0.8360 - loss: 9.1807e-04 - weighted_auc: 0.8474 - val_auc: 0.8088 - val_loss: 9.3223e-04 - val_weighted_auc: 0.8145\n",
      "Epoch 8/50\n",
      "\u001b[1m4512/4512\u001b[0m \u001b[32m━━━━━━━━━━━━━━━━━━━━\u001b[0m\u001b[37m\u001b[0m \u001b[1m13s\u001b[0m 3ms/step - auc: 0.8365 - loss: 9.0654e-04 - weighted_auc: 0.8432 - val_auc: 0.8004 - val_loss: 8.9299e-04 - val_weighted_auc: 0.8067\n",
      "Epoch 9/50\n",
      "\u001b[1m4512/4512\u001b[0m \u001b[32m━━━━━━━━━━━━━━━━━━━━\u001b[0m\u001b[37m\u001b[0m \u001b[1m13s\u001b[0m 3ms/step - auc: 0.8348 - loss: 8.9731e-04 - weighted_auc: 0.8420 - val_auc: 0.7956 - val_loss: 9.1670e-04 - val_weighted_auc: 0.8034\n",
      "Epoch 10/50\n",
      "\u001b[1m4512/4512\u001b[0m \u001b[32m━━━━━━━━━━━━━━━━━━━━\u001b[0m\u001b[37m\u001b[0m \u001b[1m13s\u001b[0m 3ms/step - auc: 0.8379 - loss: 9.0517e-04 - weighted_auc: 0.8437 - val_auc: 0.7976 - val_loss: 9.0342e-04 - val_weighted_auc: 0.8026\n",
      "Epoch 11/50\n",
      "\u001b[1m4512/4512\u001b[0m \u001b[32m━━━━━━━━━━━━━━━━━━━━\u001b[0m\u001b[37m\u001b[0m \u001b[1m13s\u001b[0m 3ms/step - auc: 0.8376 - loss: 8.9592e-04 - weighted_auc: 0.8461 - val_auc: 0.8392 - val_loss: 9.0413e-04 - val_weighted_auc: 0.8457\n",
      "Epoch 12/50\n",
      "\u001b[1m4512/4512\u001b[0m \u001b[32m━━━━━━━━━━━━━━━━━━━━\u001b[0m\u001b[37m\u001b[0m \u001b[1m13s\u001b[0m 3ms/step - auc: 0.8410 - loss: 9.0691e-04 - weighted_auc: 0.8493 - val_auc: 0.8064 - val_loss: 8.7505e-04 - val_weighted_auc: 0.8120\n",
      "Epoch 13/50\n",
      "\u001b[1m4512/4512\u001b[0m \u001b[32m━━━━━━━━━━━━━━━━━━━━\u001b[0m\u001b[37m\u001b[0m \u001b[1m13s\u001b[0m 3ms/step - auc: 0.8380 - loss: 9.0347e-04 - weighted_auc: 0.8471 - val_auc: 0.8315 - val_loss: 8.8643e-04 - val_weighted_auc: 0.8389\n",
      "Epoch 14/50\n",
      "\u001b[1m4512/4512\u001b[0m \u001b[32m━━━━━━━━━━━━━━━━━━━━\u001b[0m\u001b[37m\u001b[0m \u001b[1m13s\u001b[0m 3ms/step - auc: 0.8420 - loss: 8.9210e-04 - weighted_auc: 0.8486 - val_auc: 0.7404 - val_loss: 8.9502e-04 - val_weighted_auc: 0.7459\n",
      "Epoch 15/50\n",
      "\u001b[1m4512/4512\u001b[0m \u001b[32m━━━━━━━━━━━━━━━━━━━━\u001b[0m\u001b[37m\u001b[0m \u001b[1m13s\u001b[0m 3ms/step - auc: 0.8332 - loss: 9.0439e-04 - weighted_auc: 0.8393 - val_auc: 0.8162 - val_loss: 8.8500e-04 - val_weighted_auc: 0.8221\n",
      "Epoch 16/50\n",
      "\u001b[1m4512/4512\u001b[0m \u001b[32m━━━━━━━━━━━━━━━━━━━━\u001b[0m\u001b[37m\u001b[0m \u001b[1m13s\u001b[0m 3ms/step - auc: 0.8355 - loss: 9.0817e-04 - weighted_auc: 0.8417 - val_auc: 0.8425 - val_loss: 8.7588e-04 - val_weighted_auc: 0.8479\n",
      "Epoch 17/50\n",
      "\u001b[1m4512/4512\u001b[0m \u001b[32m━━━━━━━━━━━━━━━━━━━━\u001b[0m\u001b[37m\u001b[0m \u001b[1m13s\u001b[0m 3ms/step - auc: 0.8397 - loss: 8.8629e-04 - weighted_auc: 0.8457 - val_auc: 0.7959 - val_loss: 8.6034e-04 - val_weighted_auc: 0.8035\n",
      "Epoch 18/50\n",
      "\u001b[1m4512/4512\u001b[0m \u001b[32m━━━━━━━━━━━━━━━━━━━━\u001b[0m\u001b[37m\u001b[0m \u001b[1m13s\u001b[0m 3ms/step - auc: 0.8422 - loss: 8.8941e-04 - weighted_auc: 0.8461 - val_auc: 0.7981 - val_loss: 8.9972e-04 - val_weighted_auc: 0.8030\n",
      "Epoch 19/50\n",
      "\u001b[1m4512/4512\u001b[0m \u001b[32m━━━━━━━━━━━━━━━━━━━━\u001b[0m\u001b[37m\u001b[0m \u001b[1m13s\u001b[0m 3ms/step - auc: 0.8363 - loss: 8.8609e-04 - weighted_auc: 0.8441 - val_auc: 0.7901 - val_loss: 8.5903e-04 - val_weighted_auc: 0.7989\n",
      "Epoch 20/50\n",
      "\u001b[1m4512/4512\u001b[0m \u001b[32m━━━━━━━━━━━━━━━━━━━━\u001b[0m\u001b[37m\u001b[0m \u001b[1m13s\u001b[0m 3ms/step - auc: 0.8371 - loss: 8.8480e-04 - weighted_auc: 0.8419 - val_auc: 0.8054 - val_loss: 8.6982e-04 - val_weighted_auc: 0.8114\n",
      "Epoch 21/50\n",
      "\u001b[1m4512/4512\u001b[0m \u001b[32m━━━━━━━━━━━━━━━━━━━━\u001b[0m\u001b[37m\u001b[0m \u001b[1m13s\u001b[0m 3ms/step - auc: 0.8418 - loss: 8.8905e-04 - weighted_auc: 0.8481 - val_auc: 0.7928 - val_loss: 8.8027e-04 - val_weighted_auc: 0.7986\n",
      "\u001b[1m30935/30935\u001b[0m \u001b[32m━━━━━━━━━━━━━━━━━━━━\u001b[0m\u001b[37m\u001b[0m \u001b[1m20s\u001b[0m 649us/step\n",
      "\u001b[1m6445/6445\u001b[0m \u001b[32m━━━━━━━━━━━━━━━━━━━━\u001b[0m\u001b[37m\u001b[0m \u001b[1m6s\u001b[0m 876us/step\n"
     ]
    },
    {
     "data": {
      "text/html": [],
      "text/plain": [
       "<IPython.core.display.HTML object>"
      ]
     },
     "metadata": {},
     "output_type": "display_data"
    },
    {
     "data": {
      "text/html": [
       "<br>    <style><br>        .wandb-row {<br>            display: flex;<br>            flex-direction: row;<br>            flex-wrap: wrap;<br>            justify-content: flex-start;<br>            width: 100%;<br>        }<br>        .wandb-col {<br>            display: flex;<br>            flex-direction: column;<br>            flex-basis: 100%;<br>            flex: 1;<br>            padding: 10px;<br>        }<br>    </style><br><div class=\"wandb-row\"><div class=\"wandb-col\"><h3>Run history:</h3><br/><table class=\"wandb\"><tr><td>Acceptance</td><td>▁</td></tr><tr><td>Max S/sqrt(B)</td><td>▁</td></tr><tr><td>epoch/auc</td><td>▁▄▆▇██▇█▇█▇██▇▇▇▇██▇▇</td></tr><tr><td>epoch/epoch</td><td>▁▁▂▂▂▃▃▃▄▄▅▅▅▆▆▆▇▇▇██</td></tr><tr><td>epoch/learning_rate</td><td>▁▁▁▁▁▁▁▁▁▁▁▁▁▁▁▁▁▁▁▁▁</td></tr><tr><td>epoch/loss</td><td>█▃▂▂▁▁▂▁▁▁▁▁▁▁▁▁▁▁▁▁▁</td></tr><tr><td>epoch/val_auc</td><td>▂▃▃▅▄▄▆▅▅▅█▆▇▁▆█▅▅▄▅▅</td></tr><tr><td>epoch/val_loss</td><td>█▄▄▃▃▃▃▂▃▂▂▂▂▂▂▂▁▂▁▁▂</td></tr><tr><td>epoch/val_weighted_auc</td><td>▂▃▄▅▄▄▆▅▅▅█▆▇▁▆█▅▅▅▆▅</td></tr><tr><td>epoch/weighted_auc</td><td>▁▅▆▇████▇█▇██▇▇▇▇██▇▇</td></tr><tr><td>final_val_roc_auc</td><td>▁</td></tr><tr><td>nnScore cut</td><td>▁</td></tr></table><br/></div><div class=\"wandb-col\"><h3>Run summary:</h3><br/><table class=\"wandb\"><tr><td>Acceptance</td><td>0.55038</td></tr><tr><td>Max S/sqrt(B)</td><td>3.01991</td></tr><tr><td>epoch/auc</td><td>0.83321</td></tr><tr><td>epoch/epoch</td><td>20</td></tr><tr><td>epoch/learning_rate</td><td>0.0023</td></tr><tr><td>epoch/loss</td><td>0.0009</td></tr><tr><td>epoch/val_auc</td><td>0.79284</td></tr><tr><td>epoch/val_loss</td><td>0.00088</td></tr><tr><td>epoch/val_weighted_auc</td><td>0.79855</td></tr><tr><td>epoch/weighted_auc</td><td>0.84251</td></tr><tr><td>final_val_roc_auc</td><td>0.97414</td></tr><tr><td>nnScore cut</td><td>0.02</td></tr></table><br/></div></div>"
      ],
      "text/plain": [
       "<IPython.core.display.HTML object>"
      ]
     },
     "metadata": {},
     "output_type": "display_data"
    },
    {
     "data": {
      "text/html": [
       " View run <strong style=\"color:#cdcd00\">clear-sweep-14</strong> at: <a href='https://wandb.ai/dlai211/tf-dnn-weighted-classifier/runs/56623381' target=\"_blank\">https://wandb.ai/dlai211/tf-dnn-weighted-classifier/runs/56623381</a><br> View project at: <a href='https://wandb.ai/dlai211/tf-dnn-weighted-classifier' target=\"_blank\">https://wandb.ai/dlai211/tf-dnn-weighted-classifier</a><br>Synced 5 W&B file(s), 1 media file(s), 0 artifact file(s) and 0 other file(s)"
      ],
      "text/plain": [
       "<IPython.core.display.HTML object>"
      ]
     },
     "metadata": {},
     "output_type": "display_data"
    },
    {
     "data": {
      "text/html": [
       "Find logs at: <code>./wandb/run-20250821_055250-56623381/logs</code>"
      ],
      "text/plain": [
       "<IPython.core.display.HTML object>"
      ]
     },
     "metadata": {},
     "output_type": "display_data"
    },
    {
     "name": "stderr",
     "output_type": "stream",
     "text": [
      "\u001b[34m\u001b[1mwandb\u001b[0m: Agent Starting Run: peft7tdw with config:\n",
      "\u001b[34m\u001b[1mwandb\u001b[0m: \tbatch_size: 768\n",
      "\u001b[34m\u001b[1mwandb\u001b[0m: \tdropout: 0.14166212352183846\n",
      "\u001b[34m\u001b[1mwandb\u001b[0m: \tepochs: 50\n",
      "\u001b[34m\u001b[1mwandb\u001b[0m: \tlayer_1: 128\n",
      "\u001b[34m\u001b[1mwandb\u001b[0m: \tlayer_2: 384\n",
      "\u001b[34m\u001b[1mwandb\u001b[0m: \tlayer_3: 2048\n",
      "\u001b[34m\u001b[1mwandb\u001b[0m: \tlayer_4: 256\n",
      "\u001b[34m\u001b[1mwandb\u001b[0m: \tlayer_5: 32\n",
      "\u001b[34m\u001b[1mwandb\u001b[0m: \tlr: 0.0002264156409769769\n"
     ]
    },
    {
     "data": {
      "text/html": [
       "Ignoring project 'tf-dnn-weighted-classifier' when running a sweep."
      ],
      "text/plain": [
       "<IPython.core.display.HTML object>"
      ]
     },
     "metadata": {},
     "output_type": "display_data"
    },
    {
     "data": {
      "text/html": [
       "Tracking run with wandb version 0.21.0"
      ],
      "text/plain": [
       "<IPython.core.display.HTML object>"
      ]
     },
     "metadata": {},
     "output_type": "display_data"
    },
    {
     "data": {
      "text/html": [
       "Run data is saved locally in <code>/home/jlai/ML/jet_faking/wandb/run-20250821_055824-peft7tdw</code>"
      ],
      "text/plain": [
       "<IPython.core.display.HTML object>"
      ]
     },
     "metadata": {},
     "output_type": "display_data"
    },
    {
     "data": {
      "text/html": [
       "Syncing run <strong><a href='https://wandb.ai/dlai211/tf-dnn-weighted-classifier/runs/peft7tdw' target=\"_blank\">floral-sweep-15</a></strong> to <a href='https://wandb.ai/dlai211/tf-dnn-weighted-classifier' target=\"_blank\">Weights & Biases</a> (<a href='https://wandb.me/developer-guide' target=\"_blank\">docs</a>)<br>Sweep page: <a href='https://wandb.ai/dlai211/tf-dnn-weighted-classifier/sweeps/rg1dnn5u' target=\"_blank\">https://wandb.ai/dlai211/tf-dnn-weighted-classifier/sweeps/rg1dnn5u</a>"
      ],
      "text/plain": [
       "<IPython.core.display.HTML object>"
      ]
     },
     "metadata": {},
     "output_type": "display_data"
    },
    {
     "data": {
      "text/html": [
       " View project at <a href='https://wandb.ai/dlai211/tf-dnn-weighted-classifier' target=\"_blank\">https://wandb.ai/dlai211/tf-dnn-weighted-classifier</a>"
      ],
      "text/plain": [
       "<IPython.core.display.HTML object>"
      ]
     },
     "metadata": {},
     "output_type": "display_data"
    },
    {
     "data": {
      "text/html": [
       " View sweep at <a href='https://wandb.ai/dlai211/tf-dnn-weighted-classifier/sweeps/rg1dnn5u' target=\"_blank\">https://wandb.ai/dlai211/tf-dnn-weighted-classifier/sweeps/rg1dnn5u</a>"
      ],
      "text/plain": [
       "<IPython.core.display.HTML object>"
      ]
     },
     "metadata": {},
     "output_type": "display_data"
    },
    {
     "data": {
      "text/html": [
       " View run at <a href='https://wandb.ai/dlai211/tf-dnn-weighted-classifier/runs/peft7tdw' target=\"_blank\">https://wandb.ai/dlai211/tf-dnn-weighted-classifier/runs/peft7tdw</a>"
      ],
      "text/plain": [
       "<IPython.core.display.HTML object>"
      ]
     },
     "metadata": {},
     "output_type": "display_data"
    },
    {
     "name": "stderr",
     "output_type": "stream",
     "text": [
      "/home/jlai/.local/share/mamba/envs/tf-gpu/lib/python3.10/site-packages/keras/src/layers/core/dense.py:93: UserWarning: Do not pass an `input_shape`/`input_dim` argument to a layer. When using Sequential models, prefer using an `Input(shape)` object as the first layer in the model instead.\n",
      "  super().__init__(activity_regularizer=activity_regularizer, **kwargs)\n"
     ]
    },
    {
     "name": "stdout",
     "output_type": "stream",
     "text": [
      "Epoch 1/50\n",
      "\u001b[1m3008/3008\u001b[0m \u001b[32m━━━━━━━━━━━━━━━━━━━━\u001b[0m\u001b[37m\u001b[0m \u001b[1m18s\u001b[0m 4ms/step - auc: 0.6459 - loss: 0.0063 - weighted_auc: 0.6555 - val_auc: 0.8198 - val_loss: 8.7830e-04 - val_weighted_auc: 0.8313\n",
      "Epoch 2/50\n",
      "\u001b[1m3008/3008\u001b[0m \u001b[32m━━━━━━━━━━━━━━━━━━━━\u001b[0m\u001b[37m\u001b[0m \u001b[1m9s\u001b[0m 3ms/step - auc: 0.7898 - loss: 9.1664e-04 - weighted_auc: 0.8010 - val_auc: 0.7785 - val_loss: 8.8940e-04 - val_weighted_auc: 0.7864\n",
      "Epoch 3/50\n",
      "\u001b[1m3008/3008\u001b[0m \u001b[32m━━━━━━━━━━━━━━━━━━━━\u001b[0m\u001b[37m\u001b[0m \u001b[1m9s\u001b[0m 3ms/step - auc: 0.8092 - loss: 8.8317e-04 - weighted_auc: 0.8178 - val_auc: 0.8181 - val_loss: 8.5707e-04 - val_weighted_auc: 0.8267\n",
      "Epoch 4/50\n",
      "\u001b[1m3008/3008\u001b[0m \u001b[32m━━━━━━━━━━━━━━━━━━━━\u001b[0m\u001b[37m\u001b[0m \u001b[1m9s\u001b[0m 3ms/step - auc: 0.8243 - loss: 8.7269e-04 - weighted_auc: 0.8332 - val_auc: 0.8248 - val_loss: 8.5171e-04 - val_weighted_auc: 0.8327\n",
      "Epoch 5/50\n",
      "\u001b[1m3008/3008\u001b[0m \u001b[32m━━━━━━━━━━━━━━━━━━━━\u001b[0m\u001b[37m\u001b[0m \u001b[1m9s\u001b[0m 3ms/step - auc: 0.8360 - loss: 8.5669e-04 - weighted_auc: 0.8408 - val_auc: 0.8245 - val_loss: 8.5099e-04 - val_weighted_auc: 0.8315\n",
      "Epoch 6/50\n",
      "\u001b[1m3008/3008\u001b[0m \u001b[32m━━━━━━━━━━━━━━━━━━━━\u001b[0m\u001b[37m\u001b[0m \u001b[1m9s\u001b[0m 3ms/step - auc: 0.8366 - loss: 8.5340e-04 - weighted_auc: 0.8442 - val_auc: 0.8233 - val_loss: 8.4802e-04 - val_weighted_auc: 0.8310\n",
      "Epoch 7/50\n",
      "\u001b[1m3008/3008\u001b[0m \u001b[32m━━━━━━━━━━━━━━━━━━━━\u001b[0m\u001b[37m\u001b[0m \u001b[1m9s\u001b[0m 3ms/step - auc: 0.8406 - loss: 8.3702e-04 - weighted_auc: 0.8462 - val_auc: 0.8283 - val_loss: 8.4100e-04 - val_weighted_auc: 0.8359\n",
      "Epoch 8/50\n",
      "\u001b[1m3008/3008\u001b[0m \u001b[32m━━━━━━━━━━━━━━━━━━━━\u001b[0m\u001b[37m\u001b[0m \u001b[1m9s\u001b[0m 3ms/step - auc: 0.8398 - loss: 8.3751e-04 - weighted_auc: 0.8450 - val_auc: 0.8404 - val_loss: 8.3543e-04 - val_weighted_auc: 0.8473\n",
      "Epoch 9/50\n",
      "\u001b[1m3008/3008\u001b[0m \u001b[32m━━━━━━━━━━━━━━━━━━━━\u001b[0m\u001b[37m\u001b[0m \u001b[1m9s\u001b[0m 3ms/step - auc: 0.8492 - loss: 8.2988e-04 - weighted_auc: 0.8560 - val_auc: 0.8428 - val_loss: 8.3204e-04 - val_weighted_auc: 0.8493\n",
      "Epoch 10/50\n",
      "\u001b[1m3008/3008\u001b[0m \u001b[32m━━━━━━━━━━━━━━━━━━━━\u001b[0m\u001b[37m\u001b[0m \u001b[1m9s\u001b[0m 3ms/step - auc: 0.8444 - loss: 8.2532e-04 - weighted_auc: 0.8504 - val_auc: 0.8453 - val_loss: 8.3172e-04 - val_weighted_auc: 0.8511\n",
      "Epoch 11/50\n",
      "\u001b[1m3008/3008\u001b[0m \u001b[32m━━━━━━━━━━━━━━━━━━━━\u001b[0m\u001b[37m\u001b[0m \u001b[1m9s\u001b[0m 3ms/step - auc: 0.8525 - loss: 8.1851e-04 - weighted_auc: 0.8590 - val_auc: 0.8438 - val_loss: 8.3062e-04 - val_weighted_auc: 0.8491\n",
      "Epoch 12/50\n",
      "\u001b[1m3008/3008\u001b[0m \u001b[32m━━━━━━━━━━━━━━━━━━━━\u001b[0m\u001b[37m\u001b[0m \u001b[1m9s\u001b[0m 3ms/step - auc: 0.8504 - loss: 8.1727e-04 - weighted_auc: 0.8557 - val_auc: 0.8451 - val_loss: 8.2963e-04 - val_weighted_auc: 0.8505\n",
      "Epoch 13/50\n",
      "\u001b[1m3008/3008\u001b[0m \u001b[32m━━━━━━━━━━━━━━━━━━━━\u001b[0m\u001b[37m\u001b[0m \u001b[1m9s\u001b[0m 3ms/step - auc: 0.8513 - loss: 8.1718e-04 - weighted_auc: 0.8544 - val_auc: 0.8364 - val_loss: 8.3562e-04 - val_weighted_auc: 0.8431\n",
      "Epoch 14/50\n",
      "\u001b[1m3008/3008\u001b[0m \u001b[32m━━━━━━━━━━━━━━━━━━━━\u001b[0m\u001b[37m\u001b[0m \u001b[1m9s\u001b[0m 3ms/step - auc: 0.8497 - loss: 8.1147e-04 - weighted_auc: 0.8571 - val_auc: 0.8481 - val_loss: 8.3106e-04 - val_weighted_auc: 0.8542\n",
      "Epoch 15/50\n",
      "\u001b[1m3008/3008\u001b[0m \u001b[32m━━━━━━━━━━━━━━━━━━━━\u001b[0m\u001b[37m\u001b[0m \u001b[1m9s\u001b[0m 3ms/step - auc: 0.8555 - loss: 8.0501e-04 - weighted_auc: 0.8620 - val_auc: 0.8425 - val_loss: 8.3228e-04 - val_weighted_auc: 0.8481\n",
      "Epoch 16/50\n",
      "\u001b[1m3008/3008\u001b[0m \u001b[32m━━━━━━━━━━━━━━━━━━━━\u001b[0m\u001b[37m\u001b[0m \u001b[1m9s\u001b[0m 3ms/step - auc: 0.8563 - loss: 8.0841e-04 - weighted_auc: 0.8616 - val_auc: 0.8388 - val_loss: 8.3510e-04 - val_weighted_auc: 0.8434\n",
      "Epoch 17/50\n",
      "\u001b[1m3008/3008\u001b[0m \u001b[32m━━━━━━━━━━━━━━━━━━━━\u001b[0m\u001b[37m\u001b[0m \u001b[1m9s\u001b[0m 3ms/step - auc: 0.8524 - loss: 8.0452e-04 - weighted_auc: 0.8586 - val_auc: 0.8428 - val_loss: 8.3167e-04 - val_weighted_auc: 0.8478\n",
      "Epoch 18/50\n",
      "\u001b[1m3008/3008\u001b[0m \u001b[32m━━━━━━━━━━━━━━━━━━━━\u001b[0m\u001b[37m\u001b[0m \u001b[1m9s\u001b[0m 3ms/step - auc: 0.8555 - loss: 8.0601e-04 - weighted_auc: 0.8603 - val_auc: 0.8386 - val_loss: 8.3779e-04 - val_weighted_auc: 0.8426\n",
      "Epoch 19/50\n",
      "\u001b[1m3008/3008\u001b[0m \u001b[32m━━━━━━━━━━━━━━━━━━━━\u001b[0m\u001b[37m\u001b[0m \u001b[1m9s\u001b[0m 3ms/step - auc: 0.8559 - loss: 8.0145e-04 - weighted_auc: 0.8637 - val_auc: 0.8401 - val_loss: 8.3435e-04 - val_weighted_auc: 0.8444\n",
      "\u001b[1m30935/30935\u001b[0m \u001b[32m━━━━━━━━━━━━━━━━━━━━\u001b[0m\u001b[37m\u001b[0m \u001b[1m20s\u001b[0m 637us/step\n",
      "\u001b[1m4297/4297\u001b[0m \u001b[32m━━━━━━━━━━━━━━━━━━━━\u001b[0m\u001b[37m\u001b[0m \u001b[1m5s\u001b[0m 1ms/step  \n"
     ]
    },
    {
     "data": {
      "text/html": [],
      "text/plain": [
       "<IPython.core.display.HTML object>"
      ]
     },
     "metadata": {},
     "output_type": "display_data"
    },
    {
     "data": {
      "text/html": [
       "<br>    <style><br>        .wandb-row {<br>            display: flex;<br>            flex-direction: row;<br>            flex-wrap: wrap;<br>            justify-content: flex-start;<br>            width: 100%;<br>        }<br>        .wandb-col {<br>            display: flex;<br>            flex-direction: column;<br>            flex-basis: 100%;<br>            flex: 1;<br>            padding: 10px;<br>        }<br>    </style><br><div class=\"wandb-row\"><div class=\"wandb-col\"><h3>Run history:</h3><br/><table class=\"wandb\"><tr><td>Acceptance</td><td>▁</td></tr><tr><td>Max S/sqrt(B)</td><td>▁</td></tr><tr><td>epoch/auc</td><td>▁▅▆▆▇▇▇▇█▇█████████</td></tr><tr><td>epoch/epoch</td><td>▁▁▂▂▃▃▃▄▄▅▅▅▆▆▆▇▇██</td></tr><tr><td>epoch/learning_rate</td><td>▁▁▁▁▁▁▁▁▁▁▁▁▁▁▁▁▁▁▁</td></tr><tr><td>epoch/loss</td><td>█▂▂▁▁▁▁▁▁▁▁▁▁▁▁▁▁▁▁</td></tr><tr><td>epoch/val_auc</td><td>▅▁▅▆▆▆▆▇▇███▇█▇▇▇▇▇</td></tr><tr><td>epoch/val_loss</td><td>▇█▄▄▄▃▂▂▁▁▁▁▂▁▁▂▁▂▂</td></tr><tr><td>epoch/val_weighted_auc</td><td>▆▁▅▆▆▆▆▇██▇█▇█▇▇▇▇▇</td></tr><tr><td>epoch/weighted_auc</td><td>▁▅▆▇▇▇▇▇█▇█████████</td></tr><tr><td>final_val_roc_auc</td><td>▁</td></tr><tr><td>nnScore cut</td><td>▁</td></tr></table><br/></div><div class=\"wandb-col\"><h3>Run summary:</h3><br/><table class=\"wandb\"><tr><td>Acceptance</td><td>0.69021</td></tr><tr><td>Max S/sqrt(B)</td><td>2.52311</td></tr><tr><td>epoch/auc</td><td>0.85197</td></tr><tr><td>epoch/epoch</td><td>18</td></tr><tr><td>epoch/learning_rate</td><td>0.00023</td></tr><tr><td>epoch/loss</td><td>0.00082</td></tr><tr><td>epoch/val_auc</td><td>0.84006</td></tr><tr><td>epoch/val_loss</td><td>0.00083</td></tr><tr><td>epoch/val_weighted_auc</td><td>0.84436</td></tr><tr><td>epoch/weighted_auc</td><td>0.86214</td></tr><tr><td>final_val_roc_auc</td><td>0.97716</td></tr><tr><td>nnScore cut</td><td>0.01</td></tr></table><br/></div></div>"
      ],
      "text/plain": [
       "<IPython.core.display.HTML object>"
      ]
     },
     "metadata": {},
     "output_type": "display_data"
    },
    {
     "data": {
      "text/html": [
       " View run <strong style=\"color:#cdcd00\">floral-sweep-15</strong> at: <a href='https://wandb.ai/dlai211/tf-dnn-weighted-classifier/runs/peft7tdw' target=\"_blank\">https://wandb.ai/dlai211/tf-dnn-weighted-classifier/runs/peft7tdw</a><br> View project at: <a href='https://wandb.ai/dlai211/tf-dnn-weighted-classifier' target=\"_blank\">https://wandb.ai/dlai211/tf-dnn-weighted-classifier</a><br>Synced 5 W&B file(s), 1 media file(s), 0 artifact file(s) and 0 other file(s)"
      ],
      "text/plain": [
       "<IPython.core.display.HTML object>"
      ]
     },
     "metadata": {},
     "output_type": "display_data"
    },
    {
     "data": {
      "text/html": [
       "Find logs at: <code>./wandb/run-20250821_055824-peft7tdw/logs</code>"
      ],
      "text/plain": [
       "<IPython.core.display.HTML object>"
      ]
     },
     "metadata": {},
     "output_type": "display_data"
    },
    {
     "name": "stderr",
     "output_type": "stream",
     "text": [
      "\u001b[34m\u001b[1mwandb\u001b[0m: Agent Starting Run: ysvvbrx5 with config:\n",
      "\u001b[34m\u001b[1mwandb\u001b[0m: \tbatch_size: 1024\n",
      "\u001b[34m\u001b[1mwandb\u001b[0m: \tdropout: 0.1812376449916875\n",
      "\u001b[34m\u001b[1mwandb\u001b[0m: \tepochs: 50\n",
      "\u001b[34m\u001b[1mwandb\u001b[0m: \tlayer_1: 64\n",
      "\u001b[34m\u001b[1mwandb\u001b[0m: \tlayer_2: 384\n",
      "\u001b[34m\u001b[1mwandb\u001b[0m: \tlayer_3: 2048\n",
      "\u001b[34m\u001b[1mwandb\u001b[0m: \tlayer_4: 128\n",
      "\u001b[34m\u001b[1mwandb\u001b[0m: \tlayer_5: 32\n",
      "\u001b[34m\u001b[1mwandb\u001b[0m: \tlr: 0.00020123329192114464\n"
     ]
    },
    {
     "data": {
      "text/html": [
       "Ignoring project 'tf-dnn-weighted-classifier' when running a sweep."
      ],
      "text/plain": [
       "<IPython.core.display.HTML object>"
      ]
     },
     "metadata": {},
     "output_type": "display_data"
    },
    {
     "data": {
      "text/html": [
       "Tracking run with wandb version 0.21.0"
      ],
      "text/plain": [
       "<IPython.core.display.HTML object>"
      ]
     },
     "metadata": {},
     "output_type": "display_data"
    },
    {
     "data": {
      "text/html": [
       "Run data is saved locally in <code>/home/jlai/ML/jet_faking/wandb/run-20250821_060210-ysvvbrx5</code>"
      ],
      "text/plain": [
       "<IPython.core.display.HTML object>"
      ]
     },
     "metadata": {},
     "output_type": "display_data"
    },
    {
     "data": {
      "text/html": [
       "Syncing run <strong><a href='https://wandb.ai/dlai211/tf-dnn-weighted-classifier/runs/ysvvbrx5' target=\"_blank\">flowing-sweep-16</a></strong> to <a href='https://wandb.ai/dlai211/tf-dnn-weighted-classifier' target=\"_blank\">Weights & Biases</a> (<a href='https://wandb.me/developer-guide' target=\"_blank\">docs</a>)<br>Sweep page: <a href='https://wandb.ai/dlai211/tf-dnn-weighted-classifier/sweeps/rg1dnn5u' target=\"_blank\">https://wandb.ai/dlai211/tf-dnn-weighted-classifier/sweeps/rg1dnn5u</a>"
      ],
      "text/plain": [
       "<IPython.core.display.HTML object>"
      ]
     },
     "metadata": {},
     "output_type": "display_data"
    },
    {
     "data": {
      "text/html": [
       " View project at <a href='https://wandb.ai/dlai211/tf-dnn-weighted-classifier' target=\"_blank\">https://wandb.ai/dlai211/tf-dnn-weighted-classifier</a>"
      ],
      "text/plain": [
       "<IPython.core.display.HTML object>"
      ]
     },
     "metadata": {},
     "output_type": "display_data"
    },
    {
     "data": {
      "text/html": [
       " View sweep at <a href='https://wandb.ai/dlai211/tf-dnn-weighted-classifier/sweeps/rg1dnn5u' target=\"_blank\">https://wandb.ai/dlai211/tf-dnn-weighted-classifier/sweeps/rg1dnn5u</a>"
      ],
      "text/plain": [
       "<IPython.core.display.HTML object>"
      ]
     },
     "metadata": {},
     "output_type": "display_data"
    },
    {
     "data": {
      "text/html": [
       " View run at <a href='https://wandb.ai/dlai211/tf-dnn-weighted-classifier/runs/ysvvbrx5' target=\"_blank\">https://wandb.ai/dlai211/tf-dnn-weighted-classifier/runs/ysvvbrx5</a>"
      ],
      "text/plain": [
       "<IPython.core.display.HTML object>"
      ]
     },
     "metadata": {},
     "output_type": "display_data"
    },
    {
     "name": "stderr",
     "output_type": "stream",
     "text": [
      "/home/jlai/.local/share/mamba/envs/tf-gpu/lib/python3.10/site-packages/keras/src/layers/core/dense.py:93: UserWarning: Do not pass an `input_shape`/`input_dim` argument to a layer. When using Sequential models, prefer using an `Input(shape)` object as the first layer in the model instead.\n",
      "  super().__init__(activity_regularizer=activity_regularizer, **kwargs)\n"
     ]
    },
    {
     "name": "stdout",
     "output_type": "stream",
     "text": [
      "Epoch 1/50\n",
      "\u001b[1m2256/2256\u001b[0m \u001b[32m━━━━━━━━━━━━━━━━━━━━\u001b[0m\u001b[37m\u001b[0m \u001b[1m16s\u001b[0m 5ms/step - auc: 0.5934 - loss: 0.0080 - weighted_auc: 0.6109 - val_auc: 0.8288 - val_loss: 9.1064e-04 - val_weighted_auc: 0.8457\n",
      "Epoch 2/50\n",
      "\u001b[1m2256/2256\u001b[0m \u001b[32m━━━━━━━━━━━━━━━━━━━━\u001b[0m\u001b[37m\u001b[0m \u001b[1m7s\u001b[0m 3ms/step - auc: 0.7782 - loss: 9.5420e-04 - weighted_auc: 0.7874 - val_auc: 0.8443 - val_loss: 9.0100e-04 - val_weighted_auc: 0.8569\n",
      "Epoch 3/50\n",
      "\u001b[1m2256/2256\u001b[0m \u001b[32m━━━━━━━━━━━━━━━━━━━━\u001b[0m\u001b[37m\u001b[0m \u001b[1m7s\u001b[0m 3ms/step - auc: 0.8005 - loss: 9.1694e-04 - weighted_auc: 0.8091 - val_auc: 0.8571 - val_loss: 9.0287e-04 - val_weighted_auc: 0.8690\n",
      "Epoch 4/50\n",
      "\u001b[1m2256/2256\u001b[0m \u001b[32m━━━━━━━━━━━━━━━━━━━━\u001b[0m\u001b[37m\u001b[0m \u001b[1m7s\u001b[0m 3ms/step - auc: 0.8038 - loss: 9.0449e-04 - weighted_auc: 0.8103 - val_auc: 0.8573 - val_loss: 8.6933e-04 - val_weighted_auc: 0.8668\n",
      "Epoch 5/50\n",
      "\u001b[1m2256/2256\u001b[0m \u001b[32m━━━━━━━━━━━━━━━━━━━━\u001b[0m\u001b[37m\u001b[0m \u001b[1m7s\u001b[0m 3ms/step - auc: 0.8143 - loss: 8.9735e-04 - weighted_auc: 0.8207 - val_auc: 0.8660 - val_loss: 8.7425e-04 - val_weighted_auc: 0.8758\n",
      "Epoch 6/50\n",
      "\u001b[1m2256/2256\u001b[0m \u001b[32m━━━━━━━━━━━━━━━━━━━━\u001b[0m\u001b[37m\u001b[0m \u001b[1m7s\u001b[0m 3ms/step - auc: 0.8259 - loss: 8.7521e-04 - weighted_auc: 0.8338 - val_auc: 0.8525 - val_loss: 8.4988e-04 - val_weighted_auc: 0.8600\n",
      "Epoch 7/50\n",
      "\u001b[1m2256/2256\u001b[0m \u001b[32m━━━━━━━━━━━━━━━━━━━━\u001b[0m\u001b[37m\u001b[0m \u001b[1m7s\u001b[0m 3ms/step - auc: 0.8235 - loss: 8.7811e-04 - weighted_auc: 0.8313 - val_auc: 0.8601 - val_loss: 8.4985e-04 - val_weighted_auc: 0.8674\n",
      "Epoch 8/50\n",
      "\u001b[1m2256/2256\u001b[0m \u001b[32m━━━━━━━━━━━━━━━━━━━━\u001b[0m\u001b[37m\u001b[0m \u001b[1m7s\u001b[0m 3ms/step - auc: 0.8315 - loss: 8.6052e-04 - weighted_auc: 0.8412 - val_auc: 0.8531 - val_loss: 8.4645e-04 - val_weighted_auc: 0.8587\n",
      "Epoch 9/50\n",
      "\u001b[1m2256/2256\u001b[0m \u001b[32m━━━━━━━━━━━━━━━━━━━━\u001b[0m\u001b[37m\u001b[0m \u001b[1m7s\u001b[0m 3ms/step - auc: 0.8337 - loss: 8.5749e-04 - weighted_auc: 0.8388 - val_auc: 0.8496 - val_loss: 8.3988e-04 - val_weighted_auc: 0.8547\n",
      "Epoch 10/50\n",
      "\u001b[1m2256/2256\u001b[0m \u001b[32m━━━━━━━━━━━━━━━━━━━━\u001b[0m\u001b[37m\u001b[0m \u001b[1m7s\u001b[0m 3ms/step - auc: 0.8366 - loss: 8.5263e-04 - weighted_auc: 0.8443 - val_auc: 0.8571 - val_loss: 8.3933e-04 - val_weighted_auc: 0.8627\n",
      "\u001b[1m30935/30935\u001b[0m \u001b[32m━━━━━━━━━━━━━━━━━━━━\u001b[0m\u001b[37m\u001b[0m \u001b[1m20s\u001b[0m 655us/step\n",
      "\u001b[1m3223/3223\u001b[0m \u001b[32m━━━━━━━━━━━━━━━━━━━━\u001b[0m\u001b[37m\u001b[0m \u001b[1m4s\u001b[0m 1ms/step\n"
     ]
    },
    {
     "data": {
      "text/html": [],
      "text/plain": [
       "<IPython.core.display.HTML object>"
      ]
     },
     "metadata": {},
     "output_type": "display_data"
    },
    {
     "data": {
      "text/html": [
       "<br>    <style><br>        .wandb-row {<br>            display: flex;<br>            flex-direction: row;<br>            flex-wrap: wrap;<br>            justify-content: flex-start;<br>            width: 100%;<br>        }<br>        .wandb-col {<br>            display: flex;<br>            flex-direction: column;<br>            flex-basis: 100%;<br>            flex: 1;<br>            padding: 10px;<br>        }<br>    </style><br><div class=\"wandb-row\"><div class=\"wandb-col\"><h3>Run history:</h3><br/><table class=\"wandb\"><tr><td>Acceptance</td><td>▁</td></tr><tr><td>Max S/sqrt(B)</td><td>▁</td></tr><tr><td>epoch/auc</td><td>▁▅▆▇▇█████</td></tr><tr><td>epoch/epoch</td><td>▁▂▃▃▄▅▆▆▇█</td></tr><tr><td>epoch/learning_rate</td><td>▁▁▁▁▁▁▁▁▁▁</td></tr><tr><td>epoch/loss</td><td>█▂▁▁▁▁▁▁▁▁</td></tr><tr><td>epoch/val_auc</td><td>▁▄▆▆█▅▇▆▅▆</td></tr><tr><td>epoch/val_loss</td><td>█▇▇▄▄▂▂▂▁▁</td></tr><tr><td>epoch/val_weighted_auc</td><td>▁▄▆▆█▄▆▄▃▅</td></tr><tr><td>epoch/weighted_auc</td><td>▁▅▇▇▇█████</td></tr><tr><td>final_val_roc_auc</td><td>▁</td></tr><tr><td>nnScore cut</td><td>▁</td></tr></table><br/></div><div class=\"wandb-col\"><h3>Run summary:</h3><br/><table class=\"wandb\"><tr><td>Acceptance</td><td>0.45525</td></tr><tr><td>Max S/sqrt(B)</td><td>3.06818</td></tr><tr><td>epoch/auc</td><td>0.8311</td></tr><tr><td>epoch/epoch</td><td>9</td></tr><tr><td>epoch/learning_rate</td><td>0.0002</td></tr><tr><td>epoch/loss</td><td>0.00087</td></tr><tr><td>epoch/val_auc</td><td>0.85709</td></tr><tr><td>epoch/val_loss</td><td>0.00084</td></tr><tr><td>epoch/val_weighted_auc</td><td>0.86272</td></tr><tr><td>epoch/weighted_auc</td><td>0.84166</td></tr><tr><td>final_val_roc_auc</td><td>0.9739</td></tr><tr><td>nnScore cut</td><td>0.03</td></tr></table><br/></div></div>"
      ],
      "text/plain": [
       "<IPython.core.display.HTML object>"
      ]
     },
     "metadata": {},
     "output_type": "display_data"
    },
    {
     "data": {
      "text/html": [
       " View run <strong style=\"color:#cdcd00\">flowing-sweep-16</strong> at: <a href='https://wandb.ai/dlai211/tf-dnn-weighted-classifier/runs/ysvvbrx5' target=\"_blank\">https://wandb.ai/dlai211/tf-dnn-weighted-classifier/runs/ysvvbrx5</a><br> View project at: <a href='https://wandb.ai/dlai211/tf-dnn-weighted-classifier' target=\"_blank\">https://wandb.ai/dlai211/tf-dnn-weighted-classifier</a><br>Synced 5 W&B file(s), 1 media file(s), 0 artifact file(s) and 0 other file(s)"
      ],
      "text/plain": [
       "<IPython.core.display.HTML object>"
      ]
     },
     "metadata": {},
     "output_type": "display_data"
    },
    {
     "data": {
      "text/html": [
       "Find logs at: <code>./wandb/run-20250821_060210-ysvvbrx5/logs</code>"
      ],
      "text/plain": [
       "<IPython.core.display.HTML object>"
      ]
     },
     "metadata": {},
     "output_type": "display_data"
    },
    {
     "name": "stderr",
     "output_type": "stream",
     "text": [
      "\u001b[34m\u001b[1mwandb\u001b[0m: Agent Starting Run: bbd51noo with config:\n",
      "\u001b[34m\u001b[1mwandb\u001b[0m: \tbatch_size: 512\n",
      "\u001b[34m\u001b[1mwandb\u001b[0m: \tdropout: 0.14508773391057153\n",
      "\u001b[34m\u001b[1mwandb\u001b[0m: \tepochs: 50\n",
      "\u001b[34m\u001b[1mwandb\u001b[0m: \tlayer_1: 256\n",
      "\u001b[34m\u001b[1mwandb\u001b[0m: \tlayer_2: 512\n",
      "\u001b[34m\u001b[1mwandb\u001b[0m: \tlayer_3: 2048\n",
      "\u001b[34m\u001b[1mwandb\u001b[0m: \tlayer_4: 256\n",
      "\u001b[34m\u001b[1mwandb\u001b[0m: \tlayer_5: 96\n",
      "\u001b[34m\u001b[1mwandb\u001b[0m: \tlr: 4.682750226648051e-05\n"
     ]
    },
    {
     "data": {
      "text/html": [
       "Ignoring project 'tf-dnn-weighted-classifier' when running a sweep."
      ],
      "text/plain": [
       "<IPython.core.display.HTML object>"
      ]
     },
     "metadata": {},
     "output_type": "display_data"
    },
    {
     "data": {
      "text/html": [
       "Tracking run with wandb version 0.21.0"
      ],
      "text/plain": [
       "<IPython.core.display.HTML object>"
      ]
     },
     "metadata": {},
     "output_type": "display_data"
    },
    {
     "data": {
      "text/html": [
       "Run data is saved locally in <code>/home/jlai/ML/jet_faking/wandb/run-20250821_060417-bbd51noo</code>"
      ],
      "text/plain": [
       "<IPython.core.display.HTML object>"
      ]
     },
     "metadata": {},
     "output_type": "display_data"
    },
    {
     "data": {
      "text/html": [
       "Syncing run <strong><a href='https://wandb.ai/dlai211/tf-dnn-weighted-classifier/runs/bbd51noo' target=\"_blank\">stellar-sweep-17</a></strong> to <a href='https://wandb.ai/dlai211/tf-dnn-weighted-classifier' target=\"_blank\">Weights & Biases</a> (<a href='https://wandb.me/developer-guide' target=\"_blank\">docs</a>)<br>Sweep page: <a href='https://wandb.ai/dlai211/tf-dnn-weighted-classifier/sweeps/rg1dnn5u' target=\"_blank\">https://wandb.ai/dlai211/tf-dnn-weighted-classifier/sweeps/rg1dnn5u</a>"
      ],
      "text/plain": [
       "<IPython.core.display.HTML object>"
      ]
     },
     "metadata": {},
     "output_type": "display_data"
    },
    {
     "data": {
      "text/html": [
       " View project at <a href='https://wandb.ai/dlai211/tf-dnn-weighted-classifier' target=\"_blank\">https://wandb.ai/dlai211/tf-dnn-weighted-classifier</a>"
      ],
      "text/plain": [
       "<IPython.core.display.HTML object>"
      ]
     },
     "metadata": {},
     "output_type": "display_data"
    },
    {
     "data": {
      "text/html": [
       " View sweep at <a href='https://wandb.ai/dlai211/tf-dnn-weighted-classifier/sweeps/rg1dnn5u' target=\"_blank\">https://wandb.ai/dlai211/tf-dnn-weighted-classifier/sweeps/rg1dnn5u</a>"
      ],
      "text/plain": [
       "<IPython.core.display.HTML object>"
      ]
     },
     "metadata": {},
     "output_type": "display_data"
    },
    {
     "data": {
      "text/html": [
       " View run at <a href='https://wandb.ai/dlai211/tf-dnn-weighted-classifier/runs/bbd51noo' target=\"_blank\">https://wandb.ai/dlai211/tf-dnn-weighted-classifier/runs/bbd51noo</a>"
      ],
      "text/plain": [
       "<IPython.core.display.HTML object>"
      ]
     },
     "metadata": {},
     "output_type": "display_data"
    },
    {
     "name": "stderr",
     "output_type": "stream",
     "text": [
      "/home/jlai/.local/share/mamba/envs/tf-gpu/lib/python3.10/site-packages/keras/src/layers/core/dense.py:93: UserWarning: Do not pass an `input_shape`/`input_dim` argument to a layer. When using Sequential models, prefer using an `Input(shape)` object as the first layer in the model instead.\n",
      "  super().__init__(activity_regularizer=activity_regularizer, **kwargs)\n"
     ]
    },
    {
     "name": "stdout",
     "output_type": "stream",
     "text": [
      "Epoch 1/50\n",
      "\u001b[1m4512/4512\u001b[0m \u001b[32m━━━━━━━━━━━━━━━━━━━━\u001b[0m\u001b[37m\u001b[0m \u001b[1m21s\u001b[0m 4ms/step - auc: 0.5707 - loss: 0.0098 - weighted_auc: 0.6028 - val_auc: 0.8310 - val_loss: 8.9613e-04 - val_weighted_auc: 0.8468\n",
      "Epoch 2/50\n",
      "\u001b[1m4512/4512\u001b[0m \u001b[32m━━━━━━━━━━━━━━━━━━━━\u001b[0m\u001b[37m\u001b[0m \u001b[1m13s\u001b[0m 3ms/step - auc: 0.8024 - loss: 8.9107e-04 - weighted_auc: 0.8143 - val_auc: 0.8452 - val_loss: 8.7376e-04 - val_weighted_auc: 0.8565\n",
      "Epoch 3/50\n",
      "\u001b[1m4512/4512\u001b[0m \u001b[32m━━━━━━━━━━━━━━━━━━━━\u001b[0m\u001b[37m\u001b[0m \u001b[1m13s\u001b[0m 3ms/step - auc: 0.8198 - loss: 8.7182e-04 - weighted_auc: 0.8300 - val_auc: 0.8489 - val_loss: 8.6434e-04 - val_weighted_auc: 0.8599\n",
      "Epoch 4/50\n",
      "\u001b[1m4512/4512\u001b[0m \u001b[32m━━━━━━━━━━━━━━━━━━━━\u001b[0m\u001b[37m\u001b[0m \u001b[1m13s\u001b[0m 3ms/step - auc: 0.8243 - loss: 8.5639e-04 - weighted_auc: 0.8347 - val_auc: 0.8448 - val_loss: 8.5652e-04 - val_weighted_auc: 0.8542\n",
      "Epoch 5/50\n",
      "\u001b[1m4512/4512\u001b[0m \u001b[32m━━━━━━━━━━━━━━━━━━━━\u001b[0m\u001b[37m\u001b[0m \u001b[1m13s\u001b[0m 3ms/step - auc: 0.8376 - loss: 8.4081e-04 - weighted_auc: 0.8466 - val_auc: 0.8603 - val_loss: 8.6553e-04 - val_weighted_auc: 0.8706\n",
      "Epoch 6/50\n",
      "\u001b[1m4512/4512\u001b[0m \u001b[32m━━━━━━━━━━━━━━━━━━━━\u001b[0m\u001b[37m\u001b[0m \u001b[1m13s\u001b[0m 3ms/step - auc: 0.8449 - loss: 8.3159e-04 - weighted_auc: 0.8528 - val_auc: 0.8561 - val_loss: 8.6052e-04 - val_weighted_auc: 0.8645\n",
      "Epoch 7/50\n",
      "\u001b[1m4512/4512\u001b[0m \u001b[32m━━━━━━━━━━━━━━━━━━━━\u001b[0m\u001b[37m\u001b[0m \u001b[1m13s\u001b[0m 3ms/step - auc: 0.8381 - loss: 8.3029e-04 - weighted_auc: 0.8440 - val_auc: 0.8519 - val_loss: 8.4644e-04 - val_weighted_auc: 0.8576\n",
      "Epoch 8/50\n",
      "\u001b[1m4512/4512\u001b[0m \u001b[32m━━━━━━━━━━━━━━━━━━━━\u001b[0m\u001b[37m\u001b[0m \u001b[1m13s\u001b[0m 3ms/step - auc: 0.8387 - loss: 8.2593e-04 - weighted_auc: 0.8442 - val_auc: 0.8544 - val_loss: 8.4727e-04 - val_weighted_auc: 0.8607\n",
      "Epoch 9/50\n",
      "\u001b[1m4512/4512\u001b[0m \u001b[32m━━━━━━━━━━━━━━━━━━━━\u001b[0m\u001b[37m\u001b[0m \u001b[1m13s\u001b[0m 3ms/step - auc: 0.8473 - loss: 8.2598e-04 - weighted_auc: 0.8552 - val_auc: 0.8557 - val_loss: 8.4551e-04 - val_weighted_auc: 0.8633\n",
      "Epoch 10/50\n",
      "\u001b[1m4512/4512\u001b[0m \u001b[32m━━━━━━━━━━━━━━━━━━━━\u001b[0m\u001b[37m\u001b[0m \u001b[1m13s\u001b[0m 3ms/step - auc: 0.8508 - loss: 8.1436e-04 - weighted_auc: 0.8581 - val_auc: 0.8480 - val_loss: 8.3813e-04 - val_weighted_auc: 0.8537\n",
      "\u001b[1m30935/30935\u001b[0m \u001b[32m━━━━━━━━━━━━━━━━━━━━\u001b[0m\u001b[37m\u001b[0m \u001b[1m21s\u001b[0m 672us/step\n",
      "\u001b[1m6445/6445\u001b[0m \u001b[32m━━━━━━━━━━━━━━━━━━━━\u001b[0m\u001b[37m\u001b[0m \u001b[1m6s\u001b[0m 935us/step\n"
     ]
    },
    {
     "data": {
      "text/html": [],
      "text/plain": [
       "<IPython.core.display.HTML object>"
      ]
     },
     "metadata": {},
     "output_type": "display_data"
    },
    {
     "data": {
      "text/html": [
       "<br>    <style><br>        .wandb-row {<br>            display: flex;<br>            flex-direction: row;<br>            flex-wrap: wrap;<br>            justify-content: flex-start;<br>            width: 100%;<br>        }<br>        .wandb-col {<br>            display: flex;<br>            flex-direction: column;<br>            flex-basis: 100%;<br>            flex: 1;<br>            padding: 10px;<br>        }<br>    </style><br><div class=\"wandb-row\"><div class=\"wandb-col\"><h3>Run history:</h3><br/><table class=\"wandb\"><tr><td>Acceptance</td><td>▁</td></tr><tr><td>Max S/sqrt(B)</td><td>▁</td></tr><tr><td>epoch/auc</td><td>▁▆▇▇▇█████</td></tr><tr><td>epoch/epoch</td><td>▁▂▃▃▄▅▆▆▇█</td></tr><tr><td>epoch/learning_rate</td><td>▁▁▁▁▁▁▁▁▁▁</td></tr><tr><td>epoch/loss</td><td>█▁▁▁▁▁▁▁▁▁</td></tr><tr><td>epoch/val_auc</td><td>▁▄▅▄█▇▆▇▇▅</td></tr><tr><td>epoch/val_loss</td><td>█▅▄▃▄▄▂▂▂▁</td></tr><tr><td>epoch/val_weighted_auc</td><td>▁▄▅▃█▆▄▅▆▃</td></tr><tr><td>epoch/weighted_auc</td><td>▁▆▇▇▇█████</td></tr><tr><td>final_val_roc_auc</td><td>▁</td></tr><tr><td>nnScore cut</td><td>▁</td></tr></table><br/></div><div class=\"wandb-col\"><h3>Run summary:</h3><br/><table class=\"wandb\"><tr><td>Acceptance</td><td>0.49693</td></tr><tr><td>Max S/sqrt(B)</td><td>2.75632</td></tr><tr><td>epoch/auc</td><td>0.84599</td></tr><tr><td>epoch/epoch</td><td>9</td></tr><tr><td>epoch/learning_rate</td><td>5e-05</td></tr><tr><td>epoch/loss</td><td>0.00083</td></tr><tr><td>epoch/val_auc</td><td>0.84799</td></tr><tr><td>epoch/val_loss</td><td>0.00084</td></tr><tr><td>epoch/val_weighted_auc</td><td>0.85368</td></tr><tr><td>epoch/weighted_auc</td><td>0.85669</td></tr><tr><td>final_val_roc_auc</td><td>0.97533</td></tr><tr><td>nnScore cut</td><td>0.03</td></tr></table><br/></div></div>"
      ],
      "text/plain": [
       "<IPython.core.display.HTML object>"
      ]
     },
     "metadata": {},
     "output_type": "display_data"
    },
    {
     "data": {
      "text/html": [
       " View run <strong style=\"color:#cdcd00\">stellar-sweep-17</strong> at: <a href='https://wandb.ai/dlai211/tf-dnn-weighted-classifier/runs/bbd51noo' target=\"_blank\">https://wandb.ai/dlai211/tf-dnn-weighted-classifier/runs/bbd51noo</a><br> View project at: <a href='https://wandb.ai/dlai211/tf-dnn-weighted-classifier' target=\"_blank\">https://wandb.ai/dlai211/tf-dnn-weighted-classifier</a><br>Synced 5 W&B file(s), 1 media file(s), 0 artifact file(s) and 0 other file(s)"
      ],
      "text/plain": [
       "<IPython.core.display.HTML object>"
      ]
     },
     "metadata": {},
     "output_type": "display_data"
    },
    {
     "data": {
      "text/html": [
       "Find logs at: <code>./wandb/run-20250821_060417-bbd51noo/logs</code>"
      ],
      "text/plain": [
       "<IPython.core.display.HTML object>"
      ]
     },
     "metadata": {},
     "output_type": "display_data"
    },
    {
     "name": "stderr",
     "output_type": "stream",
     "text": [
      "\u001b[34m\u001b[1mwandb\u001b[0m: Sweep Agent: Waiting for job.\n",
      "\u001b[34m\u001b[1mwandb\u001b[0m: Job received.\n",
      "\u001b[34m\u001b[1mwandb\u001b[0m: Agent Starting Run: 0k5dknst with config:\n",
      "\u001b[34m\u001b[1mwandb\u001b[0m: \tbatch_size: 768\n",
      "\u001b[34m\u001b[1mwandb\u001b[0m: \tdropout: 0.1400391954077129\n",
      "\u001b[34m\u001b[1mwandb\u001b[0m: \tepochs: 50\n",
      "\u001b[34m\u001b[1mwandb\u001b[0m: \tlayer_1: 256\n",
      "\u001b[34m\u001b[1mwandb\u001b[0m: \tlayer_2: 256\n",
      "\u001b[34m\u001b[1mwandb\u001b[0m: \tlayer_3: 2048\n",
      "\u001b[34m\u001b[1mwandb\u001b[0m: \tlayer_4: 128\n",
      "\u001b[34m\u001b[1mwandb\u001b[0m: \tlayer_5: 32\n",
      "\u001b[34m\u001b[1mwandb\u001b[0m: \tlr: 5.086937393724696e-05\n"
     ]
    },
    {
     "data": {
      "text/html": [
       "Ignoring project 'tf-dnn-weighted-classifier' when running a sweep."
      ],
      "text/plain": [
       "<IPython.core.display.HTML object>"
      ]
     },
     "metadata": {},
     "output_type": "display_data"
    },
    {
     "data": {
      "text/html": [
       "creating run (0.8s)"
      ],
      "text/plain": [
       "<IPython.core.display.HTML object>"
      ]
     },
     "metadata": {},
     "output_type": "display_data"
    },
    {
     "data": {
      "text/html": [
       "Tracking run with wandb version 0.21.0"
      ],
      "text/plain": [
       "<IPython.core.display.HTML object>"
      ]
     },
     "metadata": {},
     "output_type": "display_data"
    },
    {
     "data": {
      "text/html": [
       "Run data is saved locally in <code>/home/jlai/ML/jet_faking/wandb/run-20250821_060735-0k5dknst</code>"
      ],
      "text/plain": [
       "<IPython.core.display.HTML object>"
      ]
     },
     "metadata": {},
     "output_type": "display_data"
    },
    {
     "data": {
      "text/html": [
       "Syncing run <strong><a href='https://wandb.ai/dlai211/tf-dnn-weighted-classifier/runs/0k5dknst' target=\"_blank\">prime-sweep-18</a></strong> to <a href='https://wandb.ai/dlai211/tf-dnn-weighted-classifier' target=\"_blank\">Weights & Biases</a> (<a href='https://wandb.me/developer-guide' target=\"_blank\">docs</a>)<br>Sweep page: <a href='https://wandb.ai/dlai211/tf-dnn-weighted-classifier/sweeps/rg1dnn5u' target=\"_blank\">https://wandb.ai/dlai211/tf-dnn-weighted-classifier/sweeps/rg1dnn5u</a>"
      ],
      "text/plain": [
       "<IPython.core.display.HTML object>"
      ]
     },
     "metadata": {},
     "output_type": "display_data"
    },
    {
     "data": {
      "text/html": [
       " View project at <a href='https://wandb.ai/dlai211/tf-dnn-weighted-classifier' target=\"_blank\">https://wandb.ai/dlai211/tf-dnn-weighted-classifier</a>"
      ],
      "text/plain": [
       "<IPython.core.display.HTML object>"
      ]
     },
     "metadata": {},
     "output_type": "display_data"
    },
    {
     "data": {
      "text/html": [
       " View sweep at <a href='https://wandb.ai/dlai211/tf-dnn-weighted-classifier/sweeps/rg1dnn5u' target=\"_blank\">https://wandb.ai/dlai211/tf-dnn-weighted-classifier/sweeps/rg1dnn5u</a>"
      ],
      "text/plain": [
       "<IPython.core.display.HTML object>"
      ]
     },
     "metadata": {},
     "output_type": "display_data"
    },
    {
     "data": {
      "text/html": [
       " View run at <a href='https://wandb.ai/dlai211/tf-dnn-weighted-classifier/runs/0k5dknst' target=\"_blank\">https://wandb.ai/dlai211/tf-dnn-weighted-classifier/runs/0k5dknst</a>"
      ],
      "text/plain": [
       "<IPython.core.display.HTML object>"
      ]
     },
     "metadata": {},
     "output_type": "display_data"
    },
    {
     "name": "stderr",
     "output_type": "stream",
     "text": [
      "/home/jlai/.local/share/mamba/envs/tf-gpu/lib/python3.10/site-packages/keras/src/layers/core/dense.py:93: UserWarning: Do not pass an `input_shape`/`input_dim` argument to a layer. When using Sequential models, prefer using an `Input(shape)` object as the first layer in the model instead.\n",
      "  super().__init__(activity_regularizer=activity_regularizer, **kwargs)\n"
     ]
    },
    {
     "name": "stdout",
     "output_type": "stream",
     "text": [
      "Epoch 1/50\n",
      "\u001b[1m3008/3008\u001b[0m \u001b[32m━━━━━━━━━━━━━━━━━━━━\u001b[0m\u001b[37m\u001b[0m \u001b[1m18s\u001b[0m 5ms/step - auc: 0.5147 - loss: 0.0192 - weighted_auc: 0.5482 - val_auc: 0.8090 - val_loss: 9.1481e-04 - val_weighted_auc: 0.8271\n",
      "Epoch 2/50\n",
      "\u001b[1m3008/3008\u001b[0m \u001b[32m━━━━━━━━━━━━━━━━━━━━\u001b[0m\u001b[37m\u001b[0m \u001b[1m9s\u001b[0m 3ms/step - auc: 0.7712 - loss: 9.7289e-04 - weighted_auc: 0.7824 - val_auc: 0.8293 - val_loss: 8.8689e-04 - val_weighted_auc: 0.8431\n",
      "Epoch 3/50\n",
      "\u001b[1m3008/3008\u001b[0m \u001b[32m━━━━━━━━━━━━━━━━━━━━\u001b[0m\u001b[37m\u001b[0m \u001b[1m9s\u001b[0m 3ms/step - auc: 0.7978 - loss: 9.2407e-04 - weighted_auc: 0.8064 - val_auc: 0.8298 - val_loss: 8.7504e-04 - val_weighted_auc: 0.8408\n",
      "Epoch 4/50\n",
      "\u001b[1m3008/3008\u001b[0m \u001b[32m━━━━━━━━━━━━━━━━━━━━\u001b[0m\u001b[37m\u001b[0m \u001b[1m9s\u001b[0m 3ms/step - auc: 0.8056 - loss: 8.8945e-04 - weighted_auc: 0.8141 - val_auc: 0.8411 - val_loss: 8.6502e-04 - val_weighted_auc: 0.8510\n",
      "Epoch 5/50\n",
      "\u001b[1m3008/3008\u001b[0m \u001b[32m━━━━━━━━━━━━━━━━━━━━\u001b[0m\u001b[37m\u001b[0m \u001b[1m9s\u001b[0m 3ms/step - auc: 0.8148 - loss: 8.8161e-04 - weighted_auc: 0.8254 - val_auc: 0.8478 - val_loss: 8.6225e-04 - val_weighted_auc: 0.8569\n",
      "Epoch 6/50\n",
      "\u001b[1m3008/3008\u001b[0m \u001b[32m━━━━━━━━━━━━━━━━━━━━\u001b[0m\u001b[37m\u001b[0m \u001b[1m9s\u001b[0m 3ms/step - auc: 0.8259 - loss: 8.7043e-04 - weighted_auc: 0.8344 - val_auc: 0.8463 - val_loss: 8.5505e-04 - val_weighted_auc: 0.8550\n",
      "Epoch 7/50\n",
      "\u001b[1m3008/3008\u001b[0m \u001b[32m━━━━━━━━━━━━━━━━━━━━\u001b[0m\u001b[37m\u001b[0m \u001b[1m9s\u001b[0m 3ms/step - auc: 0.8340 - loss: 8.5403e-04 - weighted_auc: 0.8413 - val_auc: 0.8532 - val_loss: 8.6245e-04 - val_weighted_auc: 0.8622\n",
      "Epoch 8/50\n",
      "\u001b[1m3008/3008\u001b[0m \u001b[32m━━━━━━━━━━━━━━━━━━━━\u001b[0m\u001b[37m\u001b[0m \u001b[1m9s\u001b[0m 3ms/step - auc: 0.8300 - loss: 8.6035e-04 - weighted_auc: 0.8380 - val_auc: 0.8575 - val_loss: 8.6624e-04 - val_weighted_auc: 0.8660\n",
      "Epoch 9/50\n",
      "\u001b[1m3008/3008\u001b[0m \u001b[32m━━━━━━━━━━━━━━━━━━━━\u001b[0m\u001b[37m\u001b[0m \u001b[1m9s\u001b[0m 3ms/step - auc: 0.8408 - loss: 8.5163e-04 - weighted_auc: 0.8470 - val_auc: 0.8535 - val_loss: 8.5590e-04 - val_weighted_auc: 0.8606\n",
      "Epoch 10/50\n",
      "\u001b[1m3008/3008\u001b[0m \u001b[32m━━━━━━━━━━━━━━━━━━━━\u001b[0m\u001b[37m\u001b[0m \u001b[1m9s\u001b[0m 3ms/step - auc: 0.8387 - loss: 8.3987e-04 - weighted_auc: 0.8459 - val_auc: 0.8594 - val_loss: 8.5429e-04 - val_weighted_auc: 0.8660\n",
      "Epoch 11/50\n",
      "\u001b[1m3008/3008\u001b[0m \u001b[32m━━━━━━━━━━━━━━━━━━━━\u001b[0m\u001b[37m\u001b[0m \u001b[1m9s\u001b[0m 3ms/step - auc: 0.8436 - loss: 8.4007e-04 - weighted_auc: 0.8512 - val_auc: 0.8543 - val_loss: 8.4719e-04 - val_weighted_auc: 0.8614\n",
      "Epoch 12/50\n",
      "\u001b[1m3008/3008\u001b[0m \u001b[32m━━━━━━━━━━━━━━━━━━━━\u001b[0m\u001b[37m\u001b[0m \u001b[1m9s\u001b[0m 3ms/step - auc: 0.8384 - loss: 8.3413e-04 - weighted_auc: 0.8461 - val_auc: 0.8536 - val_loss: 8.4354e-04 - val_weighted_auc: 0.8601\n",
      "Epoch 13/50\n",
      "\u001b[1m3008/3008\u001b[0m \u001b[32m━━━━━━━━━━━━━━━━━━━━\u001b[0m\u001b[37m\u001b[0m \u001b[1m9s\u001b[0m 3ms/step - auc: 0.8442 - loss: 8.3312e-04 - weighted_auc: 0.8520 - val_auc: 0.8583 - val_loss: 8.4256e-04 - val_weighted_auc: 0.8650\n",
      "Epoch 14/50\n",
      "\u001b[1m3008/3008\u001b[0m \u001b[32m━━━━━━━━━━━━━━━━━━━━\u001b[0m\u001b[37m\u001b[0m \u001b[1m9s\u001b[0m 3ms/step - auc: 0.8476 - loss: 8.3106e-04 - weighted_auc: 0.8547 - val_auc: 0.8542 - val_loss: 8.4001e-04 - val_weighted_auc: 0.8606\n",
      "Epoch 15/50\n",
      "\u001b[1m3008/3008\u001b[0m \u001b[32m━━━━━━━━━━━━━━━━━━━━\u001b[0m\u001b[37m\u001b[0m \u001b[1m9s\u001b[0m 3ms/step - auc: 0.8472 - loss: 8.2931e-04 - weighted_auc: 0.8542 - val_auc: 0.8516 - val_loss: 8.3701e-04 - val_weighted_auc: 0.8575\n",
      "\u001b[1m30935/30935\u001b[0m \u001b[32m━━━━━━━━━━━━━━━━━━━━\u001b[0m\u001b[37m\u001b[0m \u001b[1m21s\u001b[0m 668us/step\n",
      "\u001b[1m4297/4297\u001b[0m \u001b[32m━━━━━━━━━━━━━━━━━━━━\u001b[0m\u001b[37m\u001b[0m \u001b[1m4s\u001b[0m 934us/step\n"
     ]
    },
    {
     "data": {
      "text/html": [],
      "text/plain": [
       "<IPython.core.display.HTML object>"
      ]
     },
     "metadata": {},
     "output_type": "display_data"
    },
    {
     "data": {
      "text/html": [
       "<br>    <style><br>        .wandb-row {<br>            display: flex;<br>            flex-direction: row;<br>            flex-wrap: wrap;<br>            justify-content: flex-start;<br>            width: 100%;<br>        }<br>        .wandb-col {<br>            display: flex;<br>            flex-direction: column;<br>            flex-basis: 100%;<br>            flex: 1;<br>            padding: 10px;<br>        }<br>    </style><br><div class=\"wandb-row\"><div class=\"wandb-col\"><h3>Run history:</h3><br/><table class=\"wandb\"><tr><td>Acceptance</td><td>▁</td></tr><tr><td>Max S/sqrt(B)</td><td>▁</td></tr><tr><td>epoch/auc</td><td>▁▆▇▇▇▇█████████</td></tr><tr><td>epoch/epoch</td><td>▁▁▂▃▃▃▄▅▅▅▆▇▇▇█</td></tr><tr><td>epoch/learning_rate</td><td>▁▁▁▁▁▁▁▁▁▁▁▁▁▁▁</td></tr><tr><td>epoch/loss</td><td>█▁▁▁▁▁▁▁▁▁▁▁▁▁▁</td></tr><tr><td>epoch/val_auc</td><td>▁▄▄▅▆▆▇█▇█▇▇█▇▇</td></tr><tr><td>epoch/val_loss</td><td>█▅▄▄▃▃▃▄▃▃▂▂▁▁▁</td></tr><tr><td>epoch/val_weighted_auc</td><td>▁▄▃▅▆▆▇█▇█▇▇█▇▆</td></tr><tr><td>epoch/weighted_auc</td><td>▁▆▇▇▇▇█████████</td></tr><tr><td>final_val_roc_auc</td><td>▁</td></tr><tr><td>nnScore cut</td><td>▁</td></tr></table><br/></div><div class=\"wandb-col\"><h3>Run summary:</h3><br/><table class=\"wandb\"><tr><td>Acceptance</td><td>0.51367</td></tr><tr><td>Max S/sqrt(B)</td><td>2.81193</td></tr><tr><td>epoch/auc</td><td>0.84312</td></tr><tr><td>epoch/epoch</td><td>14</td></tr><tr><td>epoch/learning_rate</td><td>5e-05</td></tr><tr><td>epoch/loss</td><td>0.00084</td></tr><tr><td>epoch/val_auc</td><td>0.85155</td></tr><tr><td>epoch/val_loss</td><td>0.00084</td></tr><tr><td>epoch/val_weighted_auc</td><td>0.85755</td></tr><tr><td>epoch/weighted_auc</td><td>0.85229</td></tr><tr><td>final_val_roc_auc</td><td>0.97568</td></tr><tr><td>nnScore cut</td><td>0.03</td></tr></table><br/></div></div>"
      ],
      "text/plain": [
       "<IPython.core.display.HTML object>"
      ]
     },
     "metadata": {},
     "output_type": "display_data"
    },
    {
     "data": {
      "text/html": [
       " View run <strong style=\"color:#cdcd00\">prime-sweep-18</strong> at: <a href='https://wandb.ai/dlai211/tf-dnn-weighted-classifier/runs/0k5dknst' target=\"_blank\">https://wandb.ai/dlai211/tf-dnn-weighted-classifier/runs/0k5dknst</a><br> View project at: <a href='https://wandb.ai/dlai211/tf-dnn-weighted-classifier' target=\"_blank\">https://wandb.ai/dlai211/tf-dnn-weighted-classifier</a><br>Synced 5 W&B file(s), 1 media file(s), 0 artifact file(s) and 0 other file(s)"
      ],
      "text/plain": [
       "<IPython.core.display.HTML object>"
      ]
     },
     "metadata": {},
     "output_type": "display_data"
    },
    {
     "data": {
      "text/html": [
       "Find logs at: <code>./wandb/run-20250821_060735-0k5dknst/logs</code>"
      ],
      "text/plain": [
       "<IPython.core.display.HTML object>"
      ]
     },
     "metadata": {},
     "output_type": "display_data"
    },
    {
     "name": "stderr",
     "output_type": "stream",
     "text": [
      "\u001b[34m\u001b[1mwandb\u001b[0m: Agent Starting Run: tyx7fu91 with config:\n",
      "\u001b[34m\u001b[1mwandb\u001b[0m: \tbatch_size: 128\n",
      "\u001b[34m\u001b[1mwandb\u001b[0m: \tdropout: 0.1133570479866418\n",
      "\u001b[34m\u001b[1mwandb\u001b[0m: \tepochs: 50\n",
      "\u001b[34m\u001b[1mwandb\u001b[0m: \tlayer_1: 256\n",
      "\u001b[34m\u001b[1mwandb\u001b[0m: \tlayer_2: 384\n",
      "\u001b[34m\u001b[1mwandb\u001b[0m: \tlayer_3: 2048\n",
      "\u001b[34m\u001b[1mwandb\u001b[0m: \tlayer_4: 128\n",
      "\u001b[34m\u001b[1mwandb\u001b[0m: \tlayer_5: 32\n",
      "\u001b[34m\u001b[1mwandb\u001b[0m: \tlr: 0.0011543682995593452\n"
     ]
    },
    {
     "data": {
      "text/html": [
       "Ignoring project 'tf-dnn-weighted-classifier' when running a sweep."
      ],
      "text/plain": [
       "<IPython.core.display.HTML object>"
      ]
     },
     "metadata": {},
     "output_type": "display_data"
    },
    {
     "data": {
      "text/html": [
       "Tracking run with wandb version 0.21.0"
      ],
      "text/plain": [
       "<IPython.core.display.HTML object>"
      ]
     },
     "metadata": {},
     "output_type": "display_data"
    },
    {
     "data": {
      "text/html": [
       "Run data is saved locally in <code>/home/jlai/ML/jet_faking/wandb/run-20250821_061049-tyx7fu91</code>"
      ],
      "text/plain": [
       "<IPython.core.display.HTML object>"
      ]
     },
     "metadata": {},
     "output_type": "display_data"
    },
    {
     "data": {
      "text/html": [
       "Syncing run <strong><a href='https://wandb.ai/dlai211/tf-dnn-weighted-classifier/runs/tyx7fu91' target=\"_blank\">vital-sweep-19</a></strong> to <a href='https://wandb.ai/dlai211/tf-dnn-weighted-classifier' target=\"_blank\">Weights & Biases</a> (<a href='https://wandb.me/developer-guide' target=\"_blank\">docs</a>)<br>Sweep page: <a href='https://wandb.ai/dlai211/tf-dnn-weighted-classifier/sweeps/rg1dnn5u' target=\"_blank\">https://wandb.ai/dlai211/tf-dnn-weighted-classifier/sweeps/rg1dnn5u</a>"
      ],
      "text/plain": [
       "<IPython.core.display.HTML object>"
      ]
     },
     "metadata": {},
     "output_type": "display_data"
    },
    {
     "data": {
      "text/html": [
       " View project at <a href='https://wandb.ai/dlai211/tf-dnn-weighted-classifier' target=\"_blank\">https://wandb.ai/dlai211/tf-dnn-weighted-classifier</a>"
      ],
      "text/plain": [
       "<IPython.core.display.HTML object>"
      ]
     },
     "metadata": {},
     "output_type": "display_data"
    },
    {
     "data": {
      "text/html": [
       " View sweep at <a href='https://wandb.ai/dlai211/tf-dnn-weighted-classifier/sweeps/rg1dnn5u' target=\"_blank\">https://wandb.ai/dlai211/tf-dnn-weighted-classifier/sweeps/rg1dnn5u</a>"
      ],
      "text/plain": [
       "<IPython.core.display.HTML object>"
      ]
     },
     "metadata": {},
     "output_type": "display_data"
    },
    {
     "data": {
      "text/html": [
       " View run at <a href='https://wandb.ai/dlai211/tf-dnn-weighted-classifier/runs/tyx7fu91' target=\"_blank\">https://wandb.ai/dlai211/tf-dnn-weighted-classifier/runs/tyx7fu91</a>"
      ],
      "text/plain": [
       "<IPython.core.display.HTML object>"
      ]
     },
     "metadata": {},
     "output_type": "display_data"
    },
    {
     "name": "stderr",
     "output_type": "stream",
     "text": [
      "/home/jlai/.local/share/mamba/envs/tf-gpu/lib/python3.10/site-packages/keras/src/layers/core/dense.py:93: UserWarning: Do not pass an `input_shape`/`input_dim` argument to a layer. When using Sequential models, prefer using an `Input(shape)` object as the first layer in the model instead.\n",
      "  super().__init__(activity_regularizer=activity_regularizer, **kwargs)\n"
     ]
    },
    {
     "name": "stdout",
     "output_type": "stream",
     "text": [
      "Epoch 1/50\n",
      "\u001b[1m18046/18046\u001b[0m \u001b[32m━━━━━━━━━━━━━━━━━━━━\u001b[0m\u001b[37m\u001b[0m \u001b[1m48s\u001b[0m 2ms/step - auc: 0.7415 - loss: 0.0015 - weighted_auc: 0.7531 - val_auc: 0.5695 - val_loss: 0.0013 - val_weighted_auc: 0.5696\n",
      "Epoch 2/50\n",
      "\u001b[1m18046/18046\u001b[0m \u001b[32m━━━━━━━━━━━━━━━━━━━━\u001b[0m\u001b[37m\u001b[0m \u001b[1m42s\u001b[0m 2ms/step - auc: 0.8199 - loss: 9.2940e-04 - weighted_auc: 0.8285 - val_auc: 0.7211 - val_loss: 0.0010 - val_weighted_auc: 0.7290\n",
      "Epoch 3/50\n",
      "\u001b[1m18046/18046\u001b[0m \u001b[32m━━━━━━━━━━━━━━━━━━━━\u001b[0m\u001b[37m\u001b[0m \u001b[1m42s\u001b[0m 2ms/step - auc: 0.8356 - loss: 8.9685e-04 - weighted_auc: 0.8429 - val_auc: 0.7776 - val_loss: 9.2300e-04 - val_weighted_auc: 0.7855\n",
      "Epoch 4/50\n",
      "\u001b[1m18046/18046\u001b[0m \u001b[32m━━━━━━━━━━━━━━━━━━━━\u001b[0m\u001b[37m\u001b[0m \u001b[1m44s\u001b[0m 2ms/step - auc: 0.8466 - loss: 8.8189e-04 - weighted_auc: 0.8531 - val_auc: 0.7603 - val_loss: 9.4671e-04 - val_weighted_auc: 0.7657\n",
      "Epoch 5/50\n",
      "\u001b[1m18046/18046\u001b[0m \u001b[32m━━━━━━━━━━━━━━━━━━━━\u001b[0m\u001b[37m\u001b[0m \u001b[1m41s\u001b[0m 2ms/step - auc: 0.8460 - loss: 8.8281e-04 - weighted_auc: 0.8533 - val_auc: 0.7726 - val_loss: 9.0026e-04 - val_weighted_auc: 0.7814\n",
      "Epoch 6/50\n",
      "\u001b[1m18046/18046\u001b[0m \u001b[32m━━━━━━━━━━━━━━━━━━━━\u001b[0m\u001b[37m\u001b[0m \u001b[1m41s\u001b[0m 2ms/step - auc: 0.8434 - loss: 8.7848e-04 - weighted_auc: 0.8502 - val_auc: 0.7664 - val_loss: 9.2519e-04 - val_weighted_auc: 0.7727\n",
      "Epoch 7/50\n",
      "\u001b[1m18046/18046\u001b[0m \u001b[32m━━━━━━━━━━━━━━━━━━━━\u001b[0m\u001b[37m\u001b[0m \u001b[1m41s\u001b[0m 2ms/step - auc: 0.8477 - loss: 8.7924e-04 - weighted_auc: 0.8537 - val_auc: 0.7909 - val_loss: 8.7913e-04 - val_weighted_auc: 0.8002\n",
      "Epoch 8/50\n",
      "\u001b[1m18046/18046\u001b[0m \u001b[32m━━━━━━━━━━━━━━━━━━━━\u001b[0m\u001b[37m\u001b[0m \u001b[1m41s\u001b[0m 2ms/step - auc: 0.8407 - loss: 8.7574e-04 - weighted_auc: 0.8472 - val_auc: 0.7289 - val_loss: 9.5718e-04 - val_weighted_auc: 0.7351\n",
      "Epoch 9/50\n",
      "\u001b[1m18046/18046\u001b[0m \u001b[32m━━━━━━━━━━━━━━━━━━━━\u001b[0m\u001b[37m\u001b[0m \u001b[1m40s\u001b[0m 2ms/step - auc: 0.8334 - loss: 8.6785e-04 - weighted_auc: 0.8393 - val_auc: 0.7388 - val_loss: 9.0891e-04 - val_weighted_auc: 0.7430\n",
      "Epoch 10/50\n",
      "\u001b[1m18046/18046\u001b[0m \u001b[32m━━━━━━━━━━━━━━━━━━━━\u001b[0m\u001b[37m\u001b[0m \u001b[1m41s\u001b[0m 2ms/step - auc: 0.8248 - loss: 8.7786e-04 - weighted_auc: 0.8298 - val_auc: 0.7811 - val_loss: 9.1806e-04 - val_weighted_auc: 0.7872\n",
      "Epoch 11/50\n",
      "\u001b[1m18046/18046\u001b[0m \u001b[32m━━━━━━━━━━━━━━━━━━━━\u001b[0m\u001b[37m\u001b[0m \u001b[1m40s\u001b[0m 2ms/step - auc: 0.8230 - loss: 8.7561e-04 - weighted_auc: 0.8287 - val_auc: 0.7617 - val_loss: 9.4806e-04 - val_weighted_auc: 0.7675\n",
      "Epoch 12/50\n",
      "\u001b[1m18046/18046\u001b[0m \u001b[32m━━━━━━━━━━━━━━━━━━━━\u001b[0m\u001b[37m\u001b[0m \u001b[1m41s\u001b[0m 2ms/step - auc: 0.8180 - loss: 8.9052e-04 - weighted_auc: 0.8229 - val_auc: 0.7873 - val_loss: 9.9181e-04 - val_weighted_auc: 0.7951\n",
      "\u001b[1m30935/30935\u001b[0m \u001b[32m━━━━━━━━━━━━━━━━━━━━\u001b[0m\u001b[37m\u001b[0m \u001b[1m20s\u001b[0m 649us/step\n",
      "\u001b[1m25780/25780\u001b[0m \u001b[32m━━━━━━━━━━━━━━━━━━━━\u001b[0m\u001b[37m\u001b[0m \u001b[1m18s\u001b[0m 687us/step\n"
     ]
    },
    {
     "data": {
      "text/html": [],
      "text/plain": [
       "<IPython.core.display.HTML object>"
      ]
     },
     "metadata": {},
     "output_type": "display_data"
    },
    {
     "data": {
      "text/html": [
       "<br>    <style><br>        .wandb-row {<br>            display: flex;<br>            flex-direction: row;<br>            flex-wrap: wrap;<br>            justify-content: flex-start;<br>            width: 100%;<br>        }<br>        .wandb-col {<br>            display: flex;<br>            flex-direction: column;<br>            flex-basis: 100%;<br>            flex: 1;<br>            padding: 10px;<br>        }<br>    </style><br><div class=\"wandb-row\"><div class=\"wandb-col\"><h3>Run history:</h3><br/><table class=\"wandb\"><tr><td>Acceptance</td><td>▁</td></tr><tr><td>Max S/sqrt(B)</td><td>▁</td></tr><tr><td>epoch/auc</td><td>▁▆█████▇▇▅▅▅</td></tr><tr><td>epoch/epoch</td><td>▁▂▂▃▄▄▅▅▆▇▇█</td></tr><tr><td>epoch/learning_rate</td><td>▁▁▁▁▁▁▁▁▁▁▁▁</td></tr><tr><td>epoch/loss</td><td>█▃▂▂▁▁▁▁▁▁▁▁</td></tr><tr><td>epoch/val_auc</td><td>▁▆█▇▇▇█▆▆█▇█</td></tr><tr><td>epoch/val_loss</td><td>█▃▂▂▁▂▁▂▂▂▂▃</td></tr><tr><td>epoch/val_weighted_auc</td><td>▁▆█▇▇▇█▆▆█▇█</td></tr><tr><td>epoch/weighted_auc</td><td>▁▆█████▇▇▅▅▅</td></tr><tr><td>final_val_roc_auc</td><td>▁</td></tr><tr><td>nnScore cut</td><td>▁</td></tr></table><br/></div><div class=\"wandb-col\"><h3>Run summary:</h3><br/><table class=\"wandb\"><tr><td>Acceptance</td><td>0.49526</td></tr><tr><td>Max S/sqrt(B)</td><td>2.89384</td></tr><tr><td>epoch/auc</td><td>0.8156</td></tr><tr><td>epoch/epoch</td><td>11</td></tr><tr><td>epoch/learning_rate</td><td>0.00115</td></tr><tr><td>epoch/loss</td><td>0.0009</td></tr><tr><td>epoch/val_auc</td><td>0.78728</td></tr><tr><td>epoch/val_loss</td><td>0.00099</td></tr><tr><td>epoch/val_weighted_auc</td><td>0.79509</td></tr><tr><td>epoch/weighted_auc</td><td>0.82341</td></tr><tr><td>final_val_roc_auc</td><td>0.97442</td></tr><tr><td>nnScore cut</td><td>0.03</td></tr></table><br/></div></div>"
      ],
      "text/plain": [
       "<IPython.core.display.HTML object>"
      ]
     },
     "metadata": {},
     "output_type": "display_data"
    },
    {
     "data": {
      "text/html": [
       " View run <strong style=\"color:#cdcd00\">vital-sweep-19</strong> at: <a href='https://wandb.ai/dlai211/tf-dnn-weighted-classifier/runs/tyx7fu91' target=\"_blank\">https://wandb.ai/dlai211/tf-dnn-weighted-classifier/runs/tyx7fu91</a><br> View project at: <a href='https://wandb.ai/dlai211/tf-dnn-weighted-classifier' target=\"_blank\">https://wandb.ai/dlai211/tf-dnn-weighted-classifier</a><br>Synced 5 W&B file(s), 1 media file(s), 0 artifact file(s) and 0 other file(s)"
      ],
      "text/plain": [
       "<IPython.core.display.HTML object>"
      ]
     },
     "metadata": {},
     "output_type": "display_data"
    },
    {
     "data": {
      "text/html": [
       "Find logs at: <code>./wandb/run-20250821_061049-tyx7fu91/logs</code>"
      ],
      "text/plain": [
       "<IPython.core.display.HTML object>"
      ]
     },
     "metadata": {},
     "output_type": "display_data"
    },
    {
     "name": "stderr",
     "output_type": "stream",
     "text": [
      "\u001b[34m\u001b[1mwandb\u001b[0m: Agent Starting Run: 8qpilyxj with config:\n",
      "\u001b[34m\u001b[1mwandb\u001b[0m: \tbatch_size: 768\n",
      "\u001b[34m\u001b[1mwandb\u001b[0m: \tdropout: 0.12119454810367004\n",
      "\u001b[34m\u001b[1mwandb\u001b[0m: \tepochs: 50\n",
      "\u001b[34m\u001b[1mwandb\u001b[0m: \tlayer_1: 192\n",
      "\u001b[34m\u001b[1mwandb\u001b[0m: \tlayer_2: 384\n",
      "\u001b[34m\u001b[1mwandb\u001b[0m: \tlayer_3: 2048\n",
      "\u001b[34m\u001b[1mwandb\u001b[0m: \tlayer_4: 128\n",
      "\u001b[34m\u001b[1mwandb\u001b[0m: \tlayer_5: 64\n",
      "\u001b[34m\u001b[1mwandb\u001b[0m: \tlr: 0.0003533937628167673\n"
     ]
    },
    {
     "data": {
      "text/html": [
       "Ignoring project 'tf-dnn-weighted-classifier' when running a sweep."
      ],
      "text/plain": [
       "<IPython.core.display.HTML object>"
      ]
     },
     "metadata": {},
     "output_type": "display_data"
    },
    {
     "data": {
      "text/html": [
       "Tracking run with wandb version 0.21.0"
      ],
      "text/plain": [
       "<IPython.core.display.HTML object>"
      ]
     },
     "metadata": {},
     "output_type": "display_data"
    },
    {
     "data": {
      "text/html": [
       "Run data is saved locally in <code>/home/jlai/ML/jet_faking/wandb/run-20250821_062021-8qpilyxj</code>"
      ],
      "text/plain": [
       "<IPython.core.display.HTML object>"
      ]
     },
     "metadata": {},
     "output_type": "display_data"
    },
    {
     "data": {
      "text/html": [
       "Syncing run <strong><a href='https://wandb.ai/dlai211/tf-dnn-weighted-classifier/runs/8qpilyxj' target=\"_blank\">rose-sweep-20</a></strong> to <a href='https://wandb.ai/dlai211/tf-dnn-weighted-classifier' target=\"_blank\">Weights & Biases</a> (<a href='https://wandb.me/developer-guide' target=\"_blank\">docs</a>)<br>Sweep page: <a href='https://wandb.ai/dlai211/tf-dnn-weighted-classifier/sweeps/rg1dnn5u' target=\"_blank\">https://wandb.ai/dlai211/tf-dnn-weighted-classifier/sweeps/rg1dnn5u</a>"
      ],
      "text/plain": [
       "<IPython.core.display.HTML object>"
      ]
     },
     "metadata": {},
     "output_type": "display_data"
    },
    {
     "data": {
      "text/html": [
       " View project at <a href='https://wandb.ai/dlai211/tf-dnn-weighted-classifier' target=\"_blank\">https://wandb.ai/dlai211/tf-dnn-weighted-classifier</a>"
      ],
      "text/plain": [
       "<IPython.core.display.HTML object>"
      ]
     },
     "metadata": {},
     "output_type": "display_data"
    },
    {
     "data": {
      "text/html": [
       " View sweep at <a href='https://wandb.ai/dlai211/tf-dnn-weighted-classifier/sweeps/rg1dnn5u' target=\"_blank\">https://wandb.ai/dlai211/tf-dnn-weighted-classifier/sweeps/rg1dnn5u</a>"
      ],
      "text/plain": [
       "<IPython.core.display.HTML object>"
      ]
     },
     "metadata": {},
     "output_type": "display_data"
    },
    {
     "data": {
      "text/html": [
       " View run at <a href='https://wandb.ai/dlai211/tf-dnn-weighted-classifier/runs/8qpilyxj' target=\"_blank\">https://wandb.ai/dlai211/tf-dnn-weighted-classifier/runs/8qpilyxj</a>"
      ],
      "text/plain": [
       "<IPython.core.display.HTML object>"
      ]
     },
     "metadata": {},
     "output_type": "display_data"
    },
    {
     "name": "stderr",
     "output_type": "stream",
     "text": [
      "/home/jlai/.local/share/mamba/envs/tf-gpu/lib/python3.10/site-packages/keras/src/layers/core/dense.py:93: UserWarning: Do not pass an `input_shape`/`input_dim` argument to a layer. When using Sequential models, prefer using an `Input(shape)` object as the first layer in the model instead.\n",
      "  super().__init__(activity_regularizer=activity_regularizer, **kwargs)\n"
     ]
    },
    {
     "name": "stdout",
     "output_type": "stream",
     "text": [
      "Epoch 1/50\n",
      "\u001b[1m3008/3008\u001b[0m \u001b[32m━━━━━━━━━━━━━━━━━━━━\u001b[0m\u001b[37m\u001b[0m \u001b[1m17s\u001b[0m 4ms/step - auc: 0.6958 - loss: 0.0054 - weighted_auc: 0.7082 - val_auc: 0.7881 - val_loss: 8.8063e-04 - val_weighted_auc: 0.7998\n",
      "Epoch 2/50\n",
      "\u001b[1m3008/3008\u001b[0m \u001b[32m━━━━━━━━━━━━━━━━━━━━\u001b[0m\u001b[37m\u001b[0m \u001b[1m9s\u001b[0m 3ms/step - auc: 0.8130 - loss: 8.7827e-04 - weighted_auc: 0.8209 - val_auc: 0.7899 - val_loss: 8.7719e-04 - val_weighted_auc: 0.7969\n",
      "Epoch 3/50\n",
      "\u001b[1m3008/3008\u001b[0m \u001b[32m━━━━━━━━━━━━━━━━━━━━\u001b[0m\u001b[37m\u001b[0m \u001b[1m9s\u001b[0m 3ms/step - auc: 0.8246 - loss: 8.6607e-04 - weighted_auc: 0.8334 - val_auc: 0.8023 - val_loss: 8.6556e-04 - val_weighted_auc: 0.8093\n",
      "Epoch 4/50\n",
      "\u001b[1m3008/3008\u001b[0m \u001b[32m━━━━━━━━━━━━━━━━━━━━\u001b[0m\u001b[37m\u001b[0m \u001b[1m9s\u001b[0m 3ms/step - auc: 0.8367 - loss: 8.4857e-04 - weighted_auc: 0.8425 - val_auc: 0.8245 - val_loss: 8.4636e-04 - val_weighted_auc: 0.8313\n",
      "Epoch 5/50\n",
      "\u001b[1m3008/3008\u001b[0m \u001b[32m━━━━━━━━━━━━━━━━━━━━\u001b[0m\u001b[37m\u001b[0m \u001b[1m9s\u001b[0m 3ms/step - auc: 0.8419 - loss: 8.3670e-04 - weighted_auc: 0.8487 - val_auc: 0.8222 - val_loss: 8.5120e-04 - val_weighted_auc: 0.8281\n",
      "Epoch 6/50\n",
      "\u001b[1m3008/3008\u001b[0m \u001b[32m━━━━━━━━━━━━━━━━━━━━\u001b[0m\u001b[37m\u001b[0m \u001b[1m9s\u001b[0m 3ms/step - auc: 0.8430 - loss: 8.3660e-04 - weighted_auc: 0.8503 - val_auc: 0.8185 - val_loss: 8.5400e-04 - val_weighted_auc: 0.8240\n",
      "Epoch 7/50\n",
      "\u001b[1m3008/3008\u001b[0m \u001b[32m━━━━━━━━━━━━━━━━━━━━\u001b[0m\u001b[37m\u001b[0m \u001b[1m9s\u001b[0m 3ms/step - auc: 0.8424 - loss: 8.2878e-04 - weighted_auc: 0.8490 - val_auc: 0.8278 - val_loss: 8.3926e-04 - val_weighted_auc: 0.8327\n",
      "Epoch 8/50\n",
      "\u001b[1m3008/3008\u001b[0m \u001b[32m━━━━━━━━━━━━━━━━━━━━\u001b[0m\u001b[37m\u001b[0m \u001b[1m9s\u001b[0m 3ms/step - auc: 0.8489 - loss: 8.2611e-04 - weighted_auc: 0.8538 - val_auc: 0.8341 - val_loss: 8.3735e-04 - val_weighted_auc: 0.8388\n",
      "Epoch 9/50\n",
      "\u001b[1m3008/3008\u001b[0m \u001b[32m━━━━━━━━━━━━━━━━━━━━\u001b[0m\u001b[37m\u001b[0m \u001b[1m9s\u001b[0m 3ms/step - auc: 0.8515 - loss: 8.1692e-04 - weighted_auc: 0.8590 - val_auc: 0.8183 - val_loss: 8.4839e-04 - val_weighted_auc: 0.8246\n",
      "Epoch 10/50\n",
      "\u001b[1m3008/3008\u001b[0m \u001b[32m━━━━━━━━━━━━━━━━━━━━\u001b[0m\u001b[37m\u001b[0m \u001b[1m9s\u001b[0m 3ms/step - auc: 0.8481 - loss: 8.1515e-04 - weighted_auc: 0.8570 - val_auc: 0.8368 - val_loss: 8.3757e-04 - val_weighted_auc: 0.8427\n",
      "Epoch 11/50\n",
      "\u001b[1m3008/3008\u001b[0m \u001b[32m━━━━━━━━━━━━━━━━━━━━\u001b[0m\u001b[37m\u001b[0m \u001b[1m9s\u001b[0m 3ms/step - auc: 0.8544 - loss: 8.0636e-04 - weighted_auc: 0.8624 - val_auc: 0.8258 - val_loss: 8.4668e-04 - val_weighted_auc: 0.8319\n",
      "Epoch 12/50\n",
      "\u001b[1m3008/3008\u001b[0m \u001b[32m━━━━━━━━━━━━━━━━━━━━\u001b[0m\u001b[37m\u001b[0m \u001b[1m9s\u001b[0m 3ms/step - auc: 0.8535 - loss: 8.0334e-04 - weighted_auc: 0.8594 - val_auc: 0.8307 - val_loss: 8.4289e-04 - val_weighted_auc: 0.8362\n",
      "Epoch 13/50\n",
      "\u001b[1m3008/3008\u001b[0m \u001b[32m━━━━━━━━━━━━━━━━━━━━\u001b[0m\u001b[37m\u001b[0m \u001b[1m9s\u001b[0m 3ms/step - auc: 0.8571 - loss: 8.0150e-04 - weighted_auc: 0.8648 - val_auc: 0.8355 - val_loss: 8.4363e-04 - val_weighted_auc: 0.8413\n",
      "Epoch 14/50\n",
      "\u001b[1m3008/3008\u001b[0m \u001b[32m━━━━━━━━━━━━━━━━━━━━\u001b[0m\u001b[37m\u001b[0m \u001b[1m9s\u001b[0m 3ms/step - auc: 0.8612 - loss: 7.9488e-04 - weighted_auc: 0.8684 - val_auc: 0.8354 - val_loss: 8.4413e-04 - val_weighted_auc: 0.8405\n",
      "Epoch 15/50\n",
      "\u001b[1m3008/3008\u001b[0m \u001b[32m━━━━━━━━━━━━━━━━━━━━\u001b[0m\u001b[37m\u001b[0m \u001b[1m9s\u001b[0m 3ms/step - auc: 0.8554 - loss: 7.8840e-04 - weighted_auc: 0.8628 - val_auc: 0.8391 - val_loss: 8.3795e-04 - val_weighted_auc: 0.8445\n",
      "Epoch 16/50\n",
      "\u001b[1m3008/3008\u001b[0m \u001b[32m━━━━━━━━━━━━━━━━━━━━\u001b[0m\u001b[37m\u001b[0m \u001b[1m9s\u001b[0m 3ms/step - auc: 0.8622 - loss: 7.8550e-04 - weighted_auc: 0.8669 - val_auc: 0.8350 - val_loss: 8.4582e-04 - val_weighted_auc: 0.8401\n",
      "Epoch 17/50\n",
      "\u001b[1m3008/3008\u001b[0m \u001b[32m━━━━━━━━━━━━━━━━━━━━\u001b[0m\u001b[37m\u001b[0m \u001b[1m9s\u001b[0m 3ms/step - auc: 0.8611 - loss: 7.8621e-04 - weighted_auc: 0.8674 - val_auc: 0.8277 - val_loss: 8.5662e-04 - val_weighted_auc: 0.8321\n",
      "Epoch 18/50\n",
      "\u001b[1m3008/3008\u001b[0m \u001b[32m━━━━━━━━━━━━━━━━━━━━\u001b[0m\u001b[37m\u001b[0m \u001b[1m9s\u001b[0m 3ms/step - auc: 0.8524 - loss: 7.8778e-04 - weighted_auc: 0.8598 - val_auc: 0.8251 - val_loss: 8.5838e-04 - val_weighted_auc: 0.8284\n",
      "Epoch 19/50\n",
      "\u001b[1m3008/3008\u001b[0m \u001b[32m━━━━━━━━━━━━━━━━━━━━\u001b[0m\u001b[37m\u001b[0m \u001b[1m9s\u001b[0m 3ms/step - auc: 0.8625 - loss: 7.8404e-04 - weighted_auc: 0.8681 - val_auc: 0.8350 - val_loss: 8.5440e-04 - val_weighted_auc: 0.8398\n",
      "Epoch 20/50\n",
      "\u001b[1m3008/3008\u001b[0m \u001b[32m━━━━━━━━━━━━━━━━━━━━\u001b[0m\u001b[37m\u001b[0m \u001b[1m9s\u001b[0m 3ms/step - auc: 0.8620 - loss: 7.8287e-04 - weighted_auc: 0.8702 - val_auc: 0.8282 - val_loss: 8.5878e-04 - val_weighted_auc: 0.8324\n",
      "\u001b[1m30935/30935\u001b[0m \u001b[32m━━━━━━━━━━━━━━━━━━━━\u001b[0m\u001b[37m\u001b[0m \u001b[1m22s\u001b[0m 690us/step\n",
      "\u001b[1m4297/4297\u001b[0m \u001b[32m━━━━━━━━━━━━━━━━━━━━\u001b[0m\u001b[37m\u001b[0m \u001b[1m5s\u001b[0m 998us/step\n"
     ]
    },
    {
     "data": {
      "text/html": [],
      "text/plain": [
       "<IPython.core.display.HTML object>"
      ]
     },
     "metadata": {},
     "output_type": "display_data"
    },
    {
     "data": {
      "text/html": [
       "<br>    <style><br>        .wandb-row {<br>            display: flex;<br>            flex-direction: row;<br>            flex-wrap: wrap;<br>            justify-content: flex-start;<br>            width: 100%;<br>        }<br>        .wandb-col {<br>            display: flex;<br>            flex-direction: column;<br>            flex-basis: 100%;<br>            flex: 1;<br>            padding: 10px;<br>        }<br>    </style><br><div class=\"wandb-row\"><div class=\"wandb-col\"><h3>Run history:</h3><br/><table class=\"wandb\"><tr><td>Acceptance</td><td>▁</td></tr><tr><td>Max S/sqrt(B)</td><td>▁</td></tr><tr><td>epoch/auc</td><td>▁▅▆▆▆▇▇▇▇▇▇▇████████</td></tr><tr><td>epoch/epoch</td><td>▁▁▂▂▂▃▃▄▄▄▅▅▅▆▆▇▇▇██</td></tr><tr><td>epoch/learning_rate</td><td>▁▁▁▁▁▁▁▁▁▁▁▁▁▁▁▁▁▁▁▁</td></tr><tr><td>epoch/loss</td><td>█▂▂▂▂▁▁▁▁▁▁▁▁▁▁▁▁▁▁▁</td></tr><tr><td>epoch/val_auc</td><td>▁▁▃▆▆▅▆▇▅█▆▇█▇█▇▆▆▇▆</td></tr><tr><td>epoch/val_loss</td><td>█▇▆▂▃▄▁▁▃▁▃▂▂▂▁▂▄▄▄▄</td></tr><tr><td>epoch/val_weighted_auc</td><td>▁▁▃▆▆▅▆▇▅█▆▇█▇█▇▆▆▇▆</td></tr><tr><td>epoch/weighted_auc</td><td>▁▅▆▆▆▇▇▇▇▇▇▇████████</td></tr><tr><td>final_val_roc_auc</td><td>▁</td></tr><tr><td>nnScore cut</td><td>▁</td></tr></table><br/></div><div class=\"wandb-col\"><h3>Run summary:</h3><br/><table class=\"wandb\"><tr><td>Acceptance</td><td>0.53243</td></tr><tr><td>Max S/sqrt(B)</td><td>2.74088</td></tr><tr><td>epoch/auc</td><td>0.85907</td></tr><tr><td>epoch/epoch</td><td>19</td></tr><tr><td>epoch/learning_rate</td><td>0.00035</td></tr><tr><td>epoch/loss</td><td>0.00079</td></tr><tr><td>epoch/val_auc</td><td>0.82815</td></tr><tr><td>epoch/val_loss</td><td>0.00086</td></tr><tr><td>epoch/val_weighted_auc</td><td>0.83244</td></tr><tr><td>epoch/weighted_auc</td><td>0.86925</td></tr><tr><td>final_val_roc_auc</td><td>0.97631</td></tr><tr><td>nnScore cut</td><td>0.01</td></tr></table><br/></div></div>"
      ],
      "text/plain": [
       "<IPython.core.display.HTML object>"
      ]
     },
     "metadata": {},
     "output_type": "display_data"
    },
    {
     "data": {
      "text/html": [
       " View run <strong style=\"color:#cdcd00\">rose-sweep-20</strong> at: <a href='https://wandb.ai/dlai211/tf-dnn-weighted-classifier/runs/8qpilyxj' target=\"_blank\">https://wandb.ai/dlai211/tf-dnn-weighted-classifier/runs/8qpilyxj</a><br> View project at: <a href='https://wandb.ai/dlai211/tf-dnn-weighted-classifier' target=\"_blank\">https://wandb.ai/dlai211/tf-dnn-weighted-classifier</a><br>Synced 5 W&B file(s), 1 media file(s), 0 artifact file(s) and 0 other file(s)"
      ],
      "text/plain": [
       "<IPython.core.display.HTML object>"
      ]
     },
     "metadata": {},
     "output_type": "display_data"
    },
    {
     "data": {
      "text/html": [
       "Find logs at: <code>./wandb/run-20250821_062021-8qpilyxj/logs</code>"
      ],
      "text/plain": [
       "<IPython.core.display.HTML object>"
      ]
     },
     "metadata": {},
     "output_type": "display_data"
    },
    {
     "name": "stderr",
     "output_type": "stream",
     "text": [
      "\u001b[34m\u001b[1mwandb\u001b[0m: Agent Starting Run: 3s5v3kxg with config:\n",
      "\u001b[34m\u001b[1mwandb\u001b[0m: \tbatch_size: 1024\n",
      "\u001b[34m\u001b[1mwandb\u001b[0m: \tdropout: 0.10559997204907816\n",
      "\u001b[34m\u001b[1mwandb\u001b[0m: \tepochs: 50\n",
      "\u001b[34m\u001b[1mwandb\u001b[0m: \tlayer_1: 128\n",
      "\u001b[34m\u001b[1mwandb\u001b[0m: \tlayer_2: 384\n",
      "\u001b[34m\u001b[1mwandb\u001b[0m: \tlayer_3: 2048\n",
      "\u001b[34m\u001b[1mwandb\u001b[0m: \tlayer_4: 384\n",
      "\u001b[34m\u001b[1mwandb\u001b[0m: \tlayer_5: 32\n",
      "\u001b[34m\u001b[1mwandb\u001b[0m: \tlr: 1.6152553440333764e-05\n"
     ]
    },
    {
     "data": {
      "text/html": [
       "Ignoring project 'tf-dnn-weighted-classifier' when running a sweep."
      ],
      "text/plain": [
       "<IPython.core.display.HTML object>"
      ]
     },
     "metadata": {},
     "output_type": "display_data"
    },
    {
     "data": {
      "text/html": [
       "Tracking run with wandb version 0.21.0"
      ],
      "text/plain": [
       "<IPython.core.display.HTML object>"
      ]
     },
     "metadata": {},
     "output_type": "display_data"
    },
    {
     "data": {
      "text/html": [
       "Run data is saved locally in <code>/home/jlai/ML/jet_faking/wandb/run-20250821_062420-3s5v3kxg</code>"
      ],
      "text/plain": [
       "<IPython.core.display.HTML object>"
      ]
     },
     "metadata": {},
     "output_type": "display_data"
    },
    {
     "data": {
      "text/html": [
       "Syncing run <strong><a href='https://wandb.ai/dlai211/tf-dnn-weighted-classifier/runs/3s5v3kxg' target=\"_blank\">gallant-sweep-21</a></strong> to <a href='https://wandb.ai/dlai211/tf-dnn-weighted-classifier' target=\"_blank\">Weights & Biases</a> (<a href='https://wandb.me/developer-guide' target=\"_blank\">docs</a>)<br>Sweep page: <a href='https://wandb.ai/dlai211/tf-dnn-weighted-classifier/sweeps/rg1dnn5u' target=\"_blank\">https://wandb.ai/dlai211/tf-dnn-weighted-classifier/sweeps/rg1dnn5u</a>"
      ],
      "text/plain": [
       "<IPython.core.display.HTML object>"
      ]
     },
     "metadata": {},
     "output_type": "display_data"
    },
    {
     "data": {
      "text/html": [
       " View project at <a href='https://wandb.ai/dlai211/tf-dnn-weighted-classifier' target=\"_blank\">https://wandb.ai/dlai211/tf-dnn-weighted-classifier</a>"
      ],
      "text/plain": [
       "<IPython.core.display.HTML object>"
      ]
     },
     "metadata": {},
     "output_type": "display_data"
    },
    {
     "data": {
      "text/html": [
       " View sweep at <a href='https://wandb.ai/dlai211/tf-dnn-weighted-classifier/sweeps/rg1dnn5u' target=\"_blank\">https://wandb.ai/dlai211/tf-dnn-weighted-classifier/sweeps/rg1dnn5u</a>"
      ],
      "text/plain": [
       "<IPython.core.display.HTML object>"
      ]
     },
     "metadata": {},
     "output_type": "display_data"
    },
    {
     "data": {
      "text/html": [
       " View run at <a href='https://wandb.ai/dlai211/tf-dnn-weighted-classifier/runs/3s5v3kxg' target=\"_blank\">https://wandb.ai/dlai211/tf-dnn-weighted-classifier/runs/3s5v3kxg</a>"
      ],
      "text/plain": [
       "<IPython.core.display.HTML object>"
      ]
     },
     "metadata": {},
     "output_type": "display_data"
    },
    {
     "name": "stderr",
     "output_type": "stream",
     "text": [
      "/home/jlai/.local/share/mamba/envs/tf-gpu/lib/python3.10/site-packages/keras/src/layers/core/dense.py:93: UserWarning: Do not pass an `input_shape`/`input_dim` argument to a layer. When using Sequential models, prefer using an `Input(shape)` object as the first layer in the model instead.\n",
      "  super().__init__(activity_regularizer=activity_regularizer, **kwargs)\n"
     ]
    },
    {
     "name": "stdout",
     "output_type": "stream",
     "text": [
      "Epoch 1/50\n",
      "\u001b[1m2256/2256\u001b[0m \u001b[32m━━━━━━━━━━━━━━━━━━━━\u001b[0m\u001b[37m\u001b[0m \u001b[1m16s\u001b[0m 5ms/step - auc: 0.5216 - loss: 0.0402 - weighted_auc: 0.5586 - val_auc: 0.5027 - val_loss: 0.0011 - val_weighted_auc: 0.5067\n",
      "Epoch 2/50\n",
      "\u001b[1m2256/2256\u001b[0m \u001b[32m━━━━━━━━━━━━━━━━━━━━\u001b[0m\u001b[37m\u001b[0m \u001b[1m8s\u001b[0m 4ms/step - auc: 0.5577 - loss: 0.0012 - weighted_auc: 0.5688 - val_auc: 0.7518 - val_loss: 9.3262e-04 - val_weighted_auc: 0.7729\n",
      "Epoch 3/50\n",
      "\u001b[1m2256/2256\u001b[0m \u001b[32m━━━━━━━━━━━━━━━━━━━━\u001b[0m\u001b[37m\u001b[0m \u001b[1m8s\u001b[0m 4ms/step - auc: 0.7410 - loss: 9.7263e-04 - weighted_auc: 0.7548 - val_auc: 0.8115 - val_loss: 9.0400e-04 - val_weighted_auc: 0.8296\n",
      "Epoch 4/50\n",
      "\u001b[1m2256/2256\u001b[0m \u001b[32m━━━━━━━━━━━━━━━━━━━━\u001b[0m\u001b[37m\u001b[0m \u001b[1m8s\u001b[0m 4ms/step - auc: 0.7813 - loss: 9.2573e-04 - weighted_auc: 0.7928 - val_auc: 0.8189 - val_loss: 8.8799e-04 - val_weighted_auc: 0.8340\n",
      "Epoch 5/50\n",
      "\u001b[1m2256/2256\u001b[0m \u001b[32m━━━━━━━━━━━━━━━━━━━━\u001b[0m\u001b[37m\u001b[0m \u001b[1m8s\u001b[0m 4ms/step - auc: 0.7901 - loss: 9.1168e-04 - weighted_auc: 0.7993 - val_auc: 0.8372 - val_loss: 8.8459e-04 - val_weighted_auc: 0.8501\n",
      "Epoch 6/50\n",
      "\u001b[1m2256/2256\u001b[0m \u001b[32m━━━━━━━━━━━━━━━━━━━━\u001b[0m\u001b[37m\u001b[0m \u001b[1m8s\u001b[0m 4ms/step - auc: 0.8000 - loss: 8.9704e-04 - weighted_auc: 0.8090 - val_auc: 0.8380 - val_loss: 8.7587e-04 - val_weighted_auc: 0.8492\n",
      "Epoch 7/50\n",
      "\u001b[1m2256/2256\u001b[0m \u001b[32m━━━━━━━━━━━━━━━━━━━━\u001b[0m\u001b[37m\u001b[0m \u001b[1m8s\u001b[0m 4ms/step - auc: 0.8023 - loss: 8.9403e-04 - weighted_auc: 0.8119 - val_auc: 0.8404 - val_loss: 8.7458e-04 - val_weighted_auc: 0.8501\n",
      "Epoch 8/50\n",
      "\u001b[1m2256/2256\u001b[0m \u001b[32m━━━━━━━━━━━━━━━━━━━━\u001b[0m\u001b[37m\u001b[0m \u001b[1m8s\u001b[0m 4ms/step - auc: 0.8089 - loss: 8.8144e-04 - weighted_auc: 0.8167 - val_auc: 0.8416 - val_loss: 8.7153e-04 - val_weighted_auc: 0.8509\n",
      "Epoch 9/50\n",
      "\u001b[1m2256/2256\u001b[0m \u001b[32m━━━━━━━━━━━━━━━━━━━━\u001b[0m\u001b[37m\u001b[0m \u001b[1m8s\u001b[0m 4ms/step - auc: 0.8114 - loss: 8.7741e-04 - weighted_auc: 0.8201 - val_auc: 0.8426 - val_loss: 8.6719e-04 - val_weighted_auc: 0.8530\n",
      "Epoch 10/50\n",
      "\u001b[1m2256/2256\u001b[0m \u001b[32m━━━━━━━━━━━━━━━━━━━━\u001b[0m\u001b[37m\u001b[0m \u001b[1m8s\u001b[0m 4ms/step - auc: 0.8211 - loss: 8.7395e-04 - weighted_auc: 0.8279 - val_auc: 0.8488 - val_loss: 8.6876e-04 - val_weighted_auc: 0.8578\n",
      "Epoch 11/50\n",
      "\u001b[1m2256/2256\u001b[0m \u001b[32m━━━━━━━━━━━━━━━━━━━━\u001b[0m\u001b[37m\u001b[0m \u001b[1m8s\u001b[0m 4ms/step - auc: 0.8197 - loss: 8.6887e-04 - weighted_auc: 0.8273 - val_auc: 0.8441 - val_loss: 8.6124e-04 - val_weighted_auc: 0.8528\n",
      "Epoch 12/50\n",
      "\u001b[1m2256/2256\u001b[0m \u001b[32m━━━━━━━━━━━━━━━━━━━━\u001b[0m\u001b[37m\u001b[0m \u001b[1m8s\u001b[0m 4ms/step - auc: 0.8280 - loss: 8.5556e-04 - weighted_auc: 0.8380 - val_auc: 0.8534 - val_loss: 8.6408e-04 - val_weighted_auc: 0.8621\n",
      "Epoch 13/50\n",
      "\u001b[1m2256/2256\u001b[0m \u001b[32m━━━━━━━━━━━━━━━━━━━━\u001b[0m\u001b[37m\u001b[0m \u001b[1m8s\u001b[0m 4ms/step - auc: 0.8333 - loss: 8.5155e-04 - weighted_auc: 0.8414 - val_auc: 0.8512 - val_loss: 8.6128e-04 - val_weighted_auc: 0.8594\n",
      "Epoch 14/50\n",
      "\u001b[1m2256/2256\u001b[0m \u001b[32m━━━━━━━━━━━━━━━━━━━━\u001b[0m\u001b[37m\u001b[0m \u001b[1m8s\u001b[0m 4ms/step - auc: 0.8276 - loss: 8.5424e-04 - weighted_auc: 0.8342 - val_auc: 0.8502 - val_loss: 8.5757e-04 - val_weighted_auc: 0.8582\n",
      "Epoch 15/50\n",
      "\u001b[1m2256/2256\u001b[0m \u001b[32m━━━━━━━━━━━━━━━━━━━━\u001b[0m\u001b[37m\u001b[0m \u001b[1m8s\u001b[0m 4ms/step - auc: 0.8254 - loss: 8.5040e-04 - weighted_auc: 0.8350 - val_auc: 0.8528 - val_loss: 8.5686e-04 - val_weighted_auc: 0.8619\n",
      "Epoch 16/50\n",
      "\u001b[1m2256/2256\u001b[0m \u001b[32m━━━━━━━━━━━━━━━━━━━━\u001b[0m\u001b[37m\u001b[0m \u001b[1m8s\u001b[0m 4ms/step - auc: 0.8304 - loss: 8.4849e-04 - weighted_auc: 0.8411 - val_auc: 0.8484 - val_loss: 8.5574e-04 - val_weighted_auc: 0.8564\n",
      "Epoch 17/50\n",
      "\u001b[1m2256/2256\u001b[0m \u001b[32m━━━━━━━━━━━━━━━━━━━━\u001b[0m\u001b[37m\u001b[0m \u001b[1m8s\u001b[0m 4ms/step - auc: 0.8246 - loss: 8.4877e-04 - weighted_auc: 0.8308 - val_auc: 0.8544 - val_loss: 8.5460e-04 - val_weighted_auc: 0.8625\n",
      "Epoch 18/50\n",
      "\u001b[1m2256/2256\u001b[0m \u001b[32m━━━━━━━━━━━━━━━━━━━━\u001b[0m\u001b[37m\u001b[0m \u001b[1m8s\u001b[0m 4ms/step - auc: 0.8332 - loss: 8.3805e-04 - weighted_auc: 0.8412 - val_auc: 0.8577 - val_loss: 8.6095e-04 - val_weighted_auc: 0.8661\n",
      "Epoch 19/50\n",
      "\u001b[1m2256/2256\u001b[0m \u001b[32m━━━━━━━━━━━━━━━━━━━━\u001b[0m\u001b[37m\u001b[0m \u001b[1m8s\u001b[0m 4ms/step - auc: 0.8365 - loss: 8.3579e-04 - weighted_auc: 0.8445 - val_auc: 0.8562 - val_loss: 8.5271e-04 - val_weighted_auc: 0.8644\n",
      "Epoch 20/50\n",
      "\u001b[1m2256/2256\u001b[0m \u001b[32m━━━━━━━━━━━━━━━━━━━━\u001b[0m\u001b[37m\u001b[0m \u001b[1m8s\u001b[0m 4ms/step - auc: 0.8322 - loss: 8.3843e-04 - weighted_auc: 0.8422 - val_auc: 0.8530 - val_loss: 8.4965e-04 - val_weighted_auc: 0.8617\n",
      "Epoch 21/50\n",
      "\u001b[1m2256/2256\u001b[0m \u001b[32m━━━━━━━━━━━━━━━━━━━━\u001b[0m\u001b[37m\u001b[0m \u001b[1m8s\u001b[0m 4ms/step - auc: 0.8373 - loss: 8.3856e-04 - weighted_auc: 0.8453 - val_auc: 0.8563 - val_loss: 8.5337e-04 - val_weighted_auc: 0.8640\n",
      "Epoch 22/50\n",
      "\u001b[1m2256/2256\u001b[0m \u001b[32m━━━━━━━━━━━━━━━━━━━━\u001b[0m\u001b[37m\u001b[0m \u001b[1m8s\u001b[0m 4ms/step - auc: 0.8376 - loss: 8.3476e-04 - weighted_auc: 0.8458 - val_auc: 0.8605 - val_loss: 8.5564e-04 - val_weighted_auc: 0.8675\n",
      "Epoch 23/50\n",
      "\u001b[1m2256/2256\u001b[0m \u001b[32m━━━━━━━━━━━━━━━━━━━━\u001b[0m\u001b[37m\u001b[0m \u001b[1m8s\u001b[0m 4ms/step - auc: 0.8342 - loss: 8.3473e-04 - weighted_auc: 0.8434 - val_auc: 0.8592 - val_loss: 8.5284e-04 - val_weighted_auc: 0.8673\n",
      "Epoch 24/50\n",
      "\u001b[1m2256/2256\u001b[0m \u001b[32m━━━━━━━━━━━━━━━━━━━━\u001b[0m\u001b[37m\u001b[0m \u001b[1m8s\u001b[0m 4ms/step - auc: 0.8359 - loss: 8.3348e-04 - weighted_auc: 0.8445 - val_auc: 0.8579 - val_loss: 8.4949e-04 - val_weighted_auc: 0.8660\n",
      "Epoch 25/50\n",
      "\u001b[1m2256/2256\u001b[0m \u001b[32m━━━━━━━━━━━━━━━━━━━━\u001b[0m\u001b[37m\u001b[0m \u001b[1m8s\u001b[0m 4ms/step - auc: 0.8408 - loss: 8.2902e-04 - weighted_auc: 0.8469 - val_auc: 0.8616 - val_loss: 8.5386e-04 - val_weighted_auc: 0.8699\n",
      "Epoch 26/50\n",
      "\u001b[1m2256/2256\u001b[0m \u001b[32m━━━━━━━━━━━━━━━━━━━━\u001b[0m\u001b[37m\u001b[0m \u001b[1m8s\u001b[0m 4ms/step - auc: 0.8430 - loss: 8.2498e-04 - weighted_auc: 0.8508 - val_auc: 0.8593 - val_loss: 8.4813e-04 - val_weighted_auc: 0.8671\n",
      "Epoch 27/50\n",
      "\u001b[1m2256/2256\u001b[0m \u001b[32m━━━━━━━━━━━━━━━━━━━━\u001b[0m\u001b[37m\u001b[0m \u001b[1m8s\u001b[0m 4ms/step - auc: 0.8424 - loss: 8.3014e-04 - weighted_auc: 0.8509 - val_auc: 0.8583 - val_loss: 8.4685e-04 - val_weighted_auc: 0.8661\n",
      "Epoch 28/50\n",
      "\u001b[1m2256/2256\u001b[0m \u001b[32m━━━━━━━━━━━━━━━━━━━━\u001b[0m\u001b[37m\u001b[0m \u001b[1m8s\u001b[0m 4ms/step - auc: 0.8394 - loss: 8.2848e-04 - weighted_auc: 0.8459 - val_auc: 0.8590 - val_loss: 8.4757e-04 - val_weighted_auc: 0.8667\n",
      "Epoch 29/50\n",
      "\u001b[1m2256/2256\u001b[0m \u001b[32m━━━━━━━━━━━━━━━━━━━━\u001b[0m\u001b[37m\u001b[0m \u001b[1m8s\u001b[0m 4ms/step - auc: 0.8394 - loss: 8.2463e-04 - weighted_auc: 0.8470 - val_auc: 0.8540 - val_loss: 8.3805e-04 - val_weighted_auc: 0.8617\n",
      "Epoch 30/50\n",
      "\u001b[1m2256/2256\u001b[0m \u001b[32m━━━━━━━━━━━━━━━━━━━━\u001b[0m\u001b[37m\u001b[0m \u001b[1m8s\u001b[0m 4ms/step - auc: 0.8429 - loss: 8.2187e-04 - weighted_auc: 0.8503 - val_auc: 0.8586 - val_loss: 8.4381e-04 - val_weighted_auc: 0.8660\n",
      "\u001b[1m30935/30935\u001b[0m \u001b[32m━━━━━━━━━━━━━━━━━━━━\u001b[0m\u001b[37m\u001b[0m \u001b[1m21s\u001b[0m 657us/step\n",
      "\u001b[1m3223/3223\u001b[0m \u001b[32m━━━━━━━━━━━━━━━━━━━━\u001b[0m\u001b[37m\u001b[0m \u001b[1m4s\u001b[0m 1ms/step\n"
     ]
    },
    {
     "data": {
      "text/html": [],
      "text/plain": [
       "<IPython.core.display.HTML object>"
      ]
     },
     "metadata": {},
     "output_type": "display_data"
    },
    {
     "data": {
      "text/html": [
       "<br>    <style><br>        .wandb-row {<br>            display: flex;<br>            flex-direction: row;<br>            flex-wrap: wrap;<br>            justify-content: flex-start;<br>            width: 100%;<br>        }<br>        .wandb-col {<br>            display: flex;<br>            flex-direction: column;<br>            flex-basis: 100%;<br>            flex: 1;<br>            padding: 10px;<br>        }<br>    </style><br><div class=\"wandb-row\"><div class=\"wandb-col\"><h3>Run history:</h3><br/><table class=\"wandb\"><tr><td>Acceptance</td><td>▁</td></tr><tr><td>Max S/sqrt(B)</td><td>▁</td></tr><tr><td>epoch/auc</td><td>▁▃▆▇▇▇▇▇▇▇████████████████████</td></tr><tr><td>epoch/epoch</td><td>▁▁▁▂▂▂▂▃▃▃▃▄▄▄▄▅▅▅▅▆▆▆▆▇▇▇▇███</td></tr><tr><td>epoch/learning_rate</td><td>▁▁▁▁▁▁▁▁▁▁▁▁▁▁▁▁▁▁▁▁▁▁▁▁▁▁▁▁▁▁</td></tr><tr><td>epoch/loss</td><td>█▁▁▁▁▁▁▁▁▁▁▁▁▁▁▁▁▁▁▁▁▁▁▁▁▁▁▁▁▁</td></tr><tr><td>epoch/val_auc</td><td>▁▆▇▇██████████████████████████</td></tr><tr><td>epoch/val_loss</td><td>█▃▃▂▂▂▂▂▂▂▂▂▂▁▁▁▁▂▁▁▁▁▁▁▁▁▁▁▁▁</td></tr><tr><td>epoch/val_weighted_auc</td><td>▁▆▇▇██████████████████████████</td></tr><tr><td>epoch/weighted_auc</td><td>▁▃▆▇▇▇▇▇▇▇████████████████████</td></tr><tr><td>final_val_roc_auc</td><td>▁</td></tr><tr><td>nnScore cut</td><td>▁</td></tr></table><br/></div><div class=\"wandb-col\"><h3>Run summary:</h3><br/><table class=\"wandb\"><tr><td>Acceptance</td><td>0.51717</td></tr><tr><td>Max S/sqrt(B)</td><td>3.08369</td></tr><tr><td>epoch/auc</td><td>0.83854</td></tr><tr><td>epoch/epoch</td><td>29</td></tr><tr><td>epoch/learning_rate</td><td>2e-05</td></tr><tr><td>epoch/loss</td><td>0.00084</td></tr><tr><td>epoch/val_auc</td><td>0.85857</td></tr><tr><td>epoch/val_loss</td><td>0.00084</td></tr><tr><td>epoch/val_weighted_auc</td><td>0.86604</td></tr><tr><td>epoch/weighted_auc</td><td>0.84912</td></tr><tr><td>final_val_roc_auc</td><td>0.97557</td></tr><tr><td>nnScore cut</td><td>0.02</td></tr></table><br/></div></div>"
      ],
      "text/plain": [
       "<IPython.core.display.HTML object>"
      ]
     },
     "metadata": {},
     "output_type": "display_data"
    },
    {
     "data": {
      "text/html": [
       " View run <strong style=\"color:#cdcd00\">gallant-sweep-21</strong> at: <a href='https://wandb.ai/dlai211/tf-dnn-weighted-classifier/runs/3s5v3kxg' target=\"_blank\">https://wandb.ai/dlai211/tf-dnn-weighted-classifier/runs/3s5v3kxg</a><br> View project at: <a href='https://wandb.ai/dlai211/tf-dnn-weighted-classifier' target=\"_blank\">https://wandb.ai/dlai211/tf-dnn-weighted-classifier</a><br>Synced 5 W&B file(s), 1 media file(s), 0 artifact file(s) and 0 other file(s)"
      ],
      "text/plain": [
       "<IPython.core.display.HTML object>"
      ]
     },
     "metadata": {},
     "output_type": "display_data"
    },
    {
     "data": {
      "text/html": [
       "Find logs at: <code>./wandb/run-20250821_062420-3s5v3kxg/logs</code>"
      ],
      "text/plain": [
       "<IPython.core.display.HTML object>"
      ]
     },
     "metadata": {},
     "output_type": "display_data"
    },
    {
     "name": "stderr",
     "output_type": "stream",
     "text": [
      "\u001b[34m\u001b[1mwandb\u001b[0m: Agent Starting Run: 0f495bqj with config:\n",
      "\u001b[34m\u001b[1mwandb\u001b[0m: \tbatch_size: 512\n",
      "\u001b[34m\u001b[1mwandb\u001b[0m: \tdropout: 0.11470785507832414\n",
      "\u001b[34m\u001b[1mwandb\u001b[0m: \tepochs: 50\n",
      "\u001b[34m\u001b[1mwandb\u001b[0m: \tlayer_1: 256\n",
      "\u001b[34m\u001b[1mwandb\u001b[0m: \tlayer_2: 192\n",
      "\u001b[34m\u001b[1mwandb\u001b[0m: \tlayer_3: 2048\n",
      "\u001b[34m\u001b[1mwandb\u001b[0m: \tlayer_4: 384\n",
      "\u001b[34m\u001b[1mwandb\u001b[0m: \tlayer_5: 32\n",
      "\u001b[34m\u001b[1mwandb\u001b[0m: \tlr: 0.00011106265119211357\n"
     ]
    },
    {
     "data": {
      "text/html": [
       "Ignoring project 'tf-dnn-weighted-classifier' when running a sweep."
      ],
      "text/plain": [
       "<IPython.core.display.HTML object>"
      ]
     },
     "metadata": {},
     "output_type": "display_data"
    },
    {
     "data": {
      "text/html": [
       "Tracking run with wandb version 0.21.0"
      ],
      "text/plain": [
       "<IPython.core.display.HTML object>"
      ]
     },
     "metadata": {},
     "output_type": "display_data"
    },
    {
     "data": {
      "text/html": [
       "Run data is saved locally in <code>/home/jlai/ML/jet_faking/wandb/run-20250821_062918-0f495bqj</code>"
      ],
      "text/plain": [
       "<IPython.core.display.HTML object>"
      ]
     },
     "metadata": {},
     "output_type": "display_data"
    },
    {
     "data": {
      "text/html": [
       "Syncing run <strong><a href='https://wandb.ai/dlai211/tf-dnn-weighted-classifier/runs/0f495bqj' target=\"_blank\">happy-sweep-22</a></strong> to <a href='https://wandb.ai/dlai211/tf-dnn-weighted-classifier' target=\"_blank\">Weights & Biases</a> (<a href='https://wandb.me/developer-guide' target=\"_blank\">docs</a>)<br>Sweep page: <a href='https://wandb.ai/dlai211/tf-dnn-weighted-classifier/sweeps/rg1dnn5u' target=\"_blank\">https://wandb.ai/dlai211/tf-dnn-weighted-classifier/sweeps/rg1dnn5u</a>"
      ],
      "text/plain": [
       "<IPython.core.display.HTML object>"
      ]
     },
     "metadata": {},
     "output_type": "display_data"
    },
    {
     "data": {
      "text/html": [
       " View project at <a href='https://wandb.ai/dlai211/tf-dnn-weighted-classifier' target=\"_blank\">https://wandb.ai/dlai211/tf-dnn-weighted-classifier</a>"
      ],
      "text/plain": [
       "<IPython.core.display.HTML object>"
      ]
     },
     "metadata": {},
     "output_type": "display_data"
    },
    {
     "data": {
      "text/html": [
       " View sweep at <a href='https://wandb.ai/dlai211/tf-dnn-weighted-classifier/sweeps/rg1dnn5u' target=\"_blank\">https://wandb.ai/dlai211/tf-dnn-weighted-classifier/sweeps/rg1dnn5u</a>"
      ],
      "text/plain": [
       "<IPython.core.display.HTML object>"
      ]
     },
     "metadata": {},
     "output_type": "display_data"
    },
    {
     "data": {
      "text/html": [
       " View run at <a href='https://wandb.ai/dlai211/tf-dnn-weighted-classifier/runs/0f495bqj' target=\"_blank\">https://wandb.ai/dlai211/tf-dnn-weighted-classifier/runs/0f495bqj</a>"
      ],
      "text/plain": [
       "<IPython.core.display.HTML object>"
      ]
     },
     "metadata": {},
     "output_type": "display_data"
    },
    {
     "name": "stderr",
     "output_type": "stream",
     "text": [
      "/home/jlai/.local/share/mamba/envs/tf-gpu/lib/python3.10/site-packages/keras/src/layers/core/dense.py:93: UserWarning: Do not pass an `input_shape`/`input_dim` argument to a layer. When using Sequential models, prefer using an `Input(shape)` object as the first layer in the model instead.\n",
      "  super().__init__(activity_regularizer=activity_regularizer, **kwargs)\n"
     ]
    },
    {
     "name": "stdout",
     "output_type": "stream",
     "text": [
      "Epoch 1/50\n",
      "\u001b[1m4512/4512\u001b[0m \u001b[32m━━━━━━━━━━━━━━━━━━━━\u001b[0m\u001b[37m\u001b[0m \u001b[1m21s\u001b[0m 4ms/step - auc: 0.6322 - loss: 0.0070 - weighted_auc: 0.6544 - val_auc: 0.8307 - val_loss: 8.7651e-04 - val_weighted_auc: 0.8433\n",
      "Epoch 2/50\n",
      "\u001b[1m4512/4512\u001b[0m \u001b[32m━━━━━━━━━━━━━━━━━━━━\u001b[0m\u001b[37m\u001b[0m \u001b[1m13s\u001b[0m 3ms/step - auc: 0.8077 - loss: 8.9330e-04 - weighted_auc: 0.8186 - val_auc: 0.8187 - val_loss: 8.6409e-04 - val_weighted_auc: 0.8255\n",
      "Epoch 3/50\n",
      "\u001b[1m4512/4512\u001b[0m \u001b[32m━━━━━━━━━━━━━━━━━━━━\u001b[0m\u001b[37m\u001b[0m \u001b[1m13s\u001b[0m 3ms/step - auc: 0.8171 - loss: 8.7145e-04 - weighted_auc: 0.8248 - val_auc: 0.8182 - val_loss: 8.5990e-04 - val_weighted_auc: 0.8258\n",
      "Epoch 4/50\n",
      "\u001b[1m4512/4512\u001b[0m \u001b[32m━━━━━━━━━━━━━━━━━━━━\u001b[0m\u001b[37m\u001b[0m \u001b[1m13s\u001b[0m 3ms/step - auc: 0.8283 - loss: 8.5756e-04 - weighted_auc: 0.8356 - val_auc: 0.8283 - val_loss: 8.5006e-04 - val_weighted_auc: 0.8344\n",
      "Epoch 5/50\n",
      "\u001b[1m4512/4512\u001b[0m \u001b[32m━━━━━━━━━━━━━━━━━━━━\u001b[0m\u001b[37m\u001b[0m \u001b[1m13s\u001b[0m 3ms/step - auc: 0.8382 - loss: 8.4216e-04 - weighted_auc: 0.8442 - val_auc: 0.8340 - val_loss: 8.4630e-04 - val_weighted_auc: 0.8409\n",
      "Epoch 6/50\n",
      "\u001b[1m4512/4512\u001b[0m \u001b[32m━━━━━━━━━━━━━━━━━━━━\u001b[0m\u001b[37m\u001b[0m \u001b[1m13s\u001b[0m 3ms/step - auc: 0.8401 - loss: 8.3233e-04 - weighted_auc: 0.8472 - val_auc: 0.8222 - val_loss: 8.5202e-04 - val_weighted_auc: 0.8273\n",
      "\u001b[1m30935/30935\u001b[0m \u001b[32m━━━━━━━━━━━━━━━━━━━━\u001b[0m\u001b[37m\u001b[0m \u001b[1m20s\u001b[0m 639us/step\n",
      "\u001b[1m6445/6445\u001b[0m \u001b[32m━━━━━━━━━━━━━━━━━━━━\u001b[0m\u001b[37m\u001b[0m \u001b[1m6s\u001b[0m 867us/step\n"
     ]
    },
    {
     "data": {
      "text/html": [],
      "text/plain": [
       "<IPython.core.display.HTML object>"
      ]
     },
     "metadata": {},
     "output_type": "display_data"
    },
    {
     "data": {
      "text/html": [
       "<br>    <style><br>        .wandb-row {<br>            display: flex;<br>            flex-direction: row;<br>            flex-wrap: wrap;<br>            justify-content: flex-start;<br>            width: 100%;<br>        }<br>        .wandb-col {<br>            display: flex;<br>            flex-direction: column;<br>            flex-basis: 100%;<br>            flex: 1;<br>            padding: 10px;<br>        }<br>    </style><br><div class=\"wandb-row\"><div class=\"wandb-col\"><h3>Run history:</h3><br/><table class=\"wandb\"><tr><td>Acceptance</td><td>▁</td></tr><tr><td>Max S/sqrt(B)</td><td>▁</td></tr><tr><td>epoch/auc</td><td>▁▆▇▇██</td></tr><tr><td>epoch/epoch</td><td>▁▂▄▅▇█</td></tr><tr><td>epoch/learning_rate</td><td>▁▁▁▁▁▁</td></tr><tr><td>epoch/loss</td><td>█▁▁▁▁▁</td></tr><tr><td>epoch/val_auc</td><td>▇▁▁▅█▃</td></tr><tr><td>epoch/val_loss</td><td>█▅▄▂▁▂</td></tr><tr><td>epoch/val_weighted_auc</td><td>█▁▁▄▇▂</td></tr><tr><td>epoch/weighted_auc</td><td>▁▆▇▇██</td></tr><tr><td>final_val_roc_auc</td><td>▁</td></tr><tr><td>nnScore cut</td><td>▁</td></tr></table><br/></div><div class=\"wandb-col\"><h3>Run summary:</h3><br/><table class=\"wandb\"><tr><td>Acceptance</td><td>0.47884</td></tr><tr><td>Max S/sqrt(B)</td><td>2.86733</td></tr><tr><td>epoch/auc</td><td>0.83648</td></tr><tr><td>epoch/epoch</td><td>5</td></tr><tr><td>epoch/learning_rate</td><td>0.00011</td></tr><tr><td>epoch/loss</td><td>0.00085</td></tr><tr><td>epoch/val_auc</td><td>0.82222</td></tr><tr><td>epoch/val_loss</td><td>0.00085</td></tr><tr><td>epoch/val_weighted_auc</td><td>0.82729</td></tr><tr><td>epoch/weighted_auc</td><td>0.84754</td></tr><tr><td>final_val_roc_auc</td><td>0.97175</td></tr><tr><td>nnScore cut</td><td>0.03</td></tr></table><br/></div></div>"
      ],
      "text/plain": [
       "<IPython.core.display.HTML object>"
      ]
     },
     "metadata": {},
     "output_type": "display_data"
    },
    {
     "data": {
      "text/html": [
       " View run <strong style=\"color:#cdcd00\">happy-sweep-22</strong> at: <a href='https://wandb.ai/dlai211/tf-dnn-weighted-classifier/runs/0f495bqj' target=\"_blank\">https://wandb.ai/dlai211/tf-dnn-weighted-classifier/runs/0f495bqj</a><br> View project at: <a href='https://wandb.ai/dlai211/tf-dnn-weighted-classifier' target=\"_blank\">https://wandb.ai/dlai211/tf-dnn-weighted-classifier</a><br>Synced 5 W&B file(s), 1 media file(s), 0 artifact file(s) and 0 other file(s)"
      ],
      "text/plain": [
       "<IPython.core.display.HTML object>"
      ]
     },
     "metadata": {},
     "output_type": "display_data"
    },
    {
     "data": {
      "text/html": [
       "Find logs at: <code>./wandb/run-20250821_062918-0f495bqj/logs</code>"
      ],
      "text/plain": [
       "<IPython.core.display.HTML object>"
      ]
     },
     "metadata": {},
     "output_type": "display_data"
    },
    {
     "name": "stderr",
     "output_type": "stream",
     "text": [
      "\u001b[34m\u001b[1mwandb\u001b[0m: Agent Starting Run: kvxsf5s3 with config:\n",
      "\u001b[34m\u001b[1mwandb\u001b[0m: \tbatch_size: 768\n",
      "\u001b[34m\u001b[1mwandb\u001b[0m: \tdropout: 0.13826157435032857\n",
      "\u001b[34m\u001b[1mwandb\u001b[0m: \tepochs: 50\n",
      "\u001b[34m\u001b[1mwandb\u001b[0m: \tlayer_1: 192\n",
      "\u001b[34m\u001b[1mwandb\u001b[0m: \tlayer_2: 512\n",
      "\u001b[34m\u001b[1mwandb\u001b[0m: \tlayer_3: 2048\n",
      "\u001b[34m\u001b[1mwandb\u001b[0m: \tlayer_4: 256\n",
      "\u001b[34m\u001b[1mwandb\u001b[0m: \tlayer_5: 32\n",
      "\u001b[34m\u001b[1mwandb\u001b[0m: \tlr: 2.0508041665688343e-05\n"
     ]
    },
    {
     "data": {
      "text/html": [
       "Ignoring project 'tf-dnn-weighted-classifier' when running a sweep."
      ],
      "text/plain": [
       "<IPython.core.display.HTML object>"
      ]
     },
     "metadata": {},
     "output_type": "display_data"
    },
    {
     "data": {
      "text/html": [
       "Tracking run with wandb version 0.21.0"
      ],
      "text/plain": [
       "<IPython.core.display.HTML object>"
      ]
     },
     "metadata": {},
     "output_type": "display_data"
    },
    {
     "data": {
      "text/html": [
       "Run data is saved locally in <code>/home/jlai/ML/jet_faking/wandb/run-20250821_063134-kvxsf5s3</code>"
      ],
      "text/plain": [
       "<IPython.core.display.HTML object>"
      ]
     },
     "metadata": {},
     "output_type": "display_data"
    },
    {
     "data": {
      "text/html": [
       "Syncing run <strong><a href='https://wandb.ai/dlai211/tf-dnn-weighted-classifier/runs/kvxsf5s3' target=\"_blank\">wild-sweep-23</a></strong> to <a href='https://wandb.ai/dlai211/tf-dnn-weighted-classifier' target=\"_blank\">Weights & Biases</a> (<a href='https://wandb.me/developer-guide' target=\"_blank\">docs</a>)<br>Sweep page: <a href='https://wandb.ai/dlai211/tf-dnn-weighted-classifier/sweeps/rg1dnn5u' target=\"_blank\">https://wandb.ai/dlai211/tf-dnn-weighted-classifier/sweeps/rg1dnn5u</a>"
      ],
      "text/plain": [
       "<IPython.core.display.HTML object>"
      ]
     },
     "metadata": {},
     "output_type": "display_data"
    },
    {
     "data": {
      "text/html": [
       " View project at <a href='https://wandb.ai/dlai211/tf-dnn-weighted-classifier' target=\"_blank\">https://wandb.ai/dlai211/tf-dnn-weighted-classifier</a>"
      ],
      "text/plain": [
       "<IPython.core.display.HTML object>"
      ]
     },
     "metadata": {},
     "output_type": "display_data"
    },
    {
     "data": {
      "text/html": [
       " View sweep at <a href='https://wandb.ai/dlai211/tf-dnn-weighted-classifier/sweeps/rg1dnn5u' target=\"_blank\">https://wandb.ai/dlai211/tf-dnn-weighted-classifier/sweeps/rg1dnn5u</a>"
      ],
      "text/plain": [
       "<IPython.core.display.HTML object>"
      ]
     },
     "metadata": {},
     "output_type": "display_data"
    },
    {
     "data": {
      "text/html": [
       " View run at <a href='https://wandb.ai/dlai211/tf-dnn-weighted-classifier/runs/kvxsf5s3' target=\"_blank\">https://wandb.ai/dlai211/tf-dnn-weighted-classifier/runs/kvxsf5s3</a>"
      ],
      "text/plain": [
       "<IPython.core.display.HTML object>"
      ]
     },
     "metadata": {},
     "output_type": "display_data"
    },
    {
     "name": "stderr",
     "output_type": "stream",
     "text": [
      "/home/jlai/.local/share/mamba/envs/tf-gpu/lib/python3.10/site-packages/keras/src/layers/core/dense.py:93: UserWarning: Do not pass an `input_shape`/`input_dim` argument to a layer. When using Sequential models, prefer using an `Input(shape)` object as the first layer in the model instead.\n",
      "  super().__init__(activity_regularizer=activity_regularizer, **kwargs)\n"
     ]
    },
    {
     "name": "stdout",
     "output_type": "stream",
     "text": [
      "Epoch 1/50\n",
      "\u001b[1m3008/3008\u001b[0m \u001b[32m━━━━━━━━━━━━━━━━━━━━\u001b[0m\u001b[37m\u001b[0m \u001b[1m18s\u001b[0m 5ms/step - auc: 0.4986 - loss: 0.0317 - weighted_auc: 0.5267 - val_auc: 0.6354 - val_loss: 0.0010 - val_weighted_auc: 0.6447\n",
      "Epoch 2/50\n",
      "\u001b[1m3008/3008\u001b[0m \u001b[32m━━━━━━━━━━━━━━━━━━━━\u001b[0m\u001b[37m\u001b[0m \u001b[1m9s\u001b[0m 3ms/step - auc: 0.6690 - loss: 0.0011 - weighted_auc: 0.6801 - val_auc: 0.8166 - val_loss: 9.0717e-04 - val_weighted_auc: 0.8314\n",
      "Epoch 3/50\n",
      "\u001b[1m3008/3008\u001b[0m \u001b[32m━━━━━━━━━━━━━━━━━━━━\u001b[0m\u001b[37m\u001b[0m \u001b[1m9s\u001b[0m 3ms/step - auc: 0.7830 - loss: 9.3962e-04 - weighted_auc: 0.7911 - val_auc: 0.8299 - val_loss: 8.9125e-04 - val_weighted_auc: 0.8425\n",
      "Epoch 4/50\n",
      "\u001b[1m3008/3008\u001b[0m \u001b[32m━━━━━━━━━━━━━━━━━━━━\u001b[0m\u001b[37m\u001b[0m \u001b[1m9s\u001b[0m 3ms/step - auc: 0.7983 - loss: 9.1034e-04 - weighted_auc: 0.8069 - val_auc: 0.8311 - val_loss: 8.7763e-04 - val_weighted_auc: 0.8419\n",
      "Epoch 5/50\n",
      "\u001b[1m3008/3008\u001b[0m \u001b[32m━━━━━━━━━━━━━━━━━━━━\u001b[0m\u001b[37m\u001b[0m \u001b[1m9s\u001b[0m 3ms/step - auc: 0.8069 - loss: 8.9665e-04 - weighted_auc: 0.8115 - val_auc: 0.8444 - val_loss: 8.7398e-04 - val_weighted_auc: 0.8556\n",
      "Epoch 6/50\n",
      "\u001b[1m3008/3008\u001b[0m \u001b[32m━━━━━━━━━━━━━━━━━━━━\u001b[0m\u001b[37m\u001b[0m \u001b[1m9s\u001b[0m 3ms/step - auc: 0.8086 - loss: 8.8526e-04 - weighted_auc: 0.8174 - val_auc: 0.8515 - val_loss: 8.7493e-04 - val_weighted_auc: 0.8630\n",
      "Epoch 7/50\n",
      "\u001b[1m3008/3008\u001b[0m \u001b[32m━━━━━━━━━━━━━━━━━━━━\u001b[0m\u001b[37m\u001b[0m \u001b[1m9s\u001b[0m 3ms/step - auc: 0.8207 - loss: 8.7171e-04 - weighted_auc: 0.8265 - val_auc: 0.8574 - val_loss: 8.7610e-04 - val_weighted_auc: 0.8688\n",
      "Epoch 8/50\n",
      "\u001b[1m3008/3008\u001b[0m \u001b[32m━━━━━━━━━━━━━━━━━━━━\u001b[0m\u001b[37m\u001b[0m \u001b[1m9s\u001b[0m 3ms/step - auc: 0.8276 - loss: 8.7255e-04 - weighted_auc: 0.8350 - val_auc: 0.8551 - val_loss: 8.6620e-04 - val_weighted_auc: 0.8655\n",
      "Epoch 9/50\n",
      "\u001b[1m3008/3008\u001b[0m \u001b[32m━━━━━━━━━━━━━━━━━━━━\u001b[0m\u001b[37m\u001b[0m \u001b[1m9s\u001b[0m 3ms/step - auc: 0.8227 - loss: 8.7021e-04 - weighted_auc: 0.8317 - val_auc: 0.8604 - val_loss: 8.7104e-04 - val_weighted_auc: 0.8697\n",
      "Epoch 10/50\n",
      "\u001b[1m3008/3008\u001b[0m \u001b[32m━━━━━━━━━━━━━━━━━━━━\u001b[0m\u001b[37m\u001b[0m \u001b[1m10s\u001b[0m 3ms/step - auc: 0.8270 - loss: 8.5950e-04 - weighted_auc: 0.8345 - val_auc: 0.8616 - val_loss: 8.6992e-04 - val_weighted_auc: 0.8705\n",
      "Epoch 11/50\n",
      "\u001b[1m3008/3008\u001b[0m \u001b[32m━━━━━━━━━━━━━━━━━━━━\u001b[0m\u001b[37m\u001b[0m \u001b[1m9s\u001b[0m 3ms/step - auc: 0.8297 - loss: 8.4912e-04 - weighted_auc: 0.8369 - val_auc: 0.8634 - val_loss: 8.6893e-04 - val_weighted_auc: 0.8719\n",
      "Epoch 12/50\n",
      "\u001b[1m3008/3008\u001b[0m \u001b[32m━━━━━━━━━━━━━━━━━━━━\u001b[0m\u001b[37m\u001b[0m \u001b[1m10s\u001b[0m 3ms/step - auc: 0.8297 - loss: 8.4931e-04 - weighted_auc: 0.8380 - val_auc: 0.8604 - val_loss: 8.5823e-04 - val_weighted_auc: 0.8690\n",
      "Epoch 13/50\n",
      "\u001b[1m3008/3008\u001b[0m \u001b[32m━━━━━━━━━━━━━━━━━━━━\u001b[0m\u001b[37m\u001b[0m \u001b[1m10s\u001b[0m 3ms/step - auc: 0.8353 - loss: 8.5063e-04 - weighted_auc: 0.8410 - val_auc: 0.8644 - val_loss: 8.6421e-04 - val_weighted_auc: 0.8732\n",
      "Epoch 14/50\n",
      "\u001b[1m3008/3008\u001b[0m \u001b[32m━━━━━━━━━━━━━━━━━━━━\u001b[0m\u001b[37m\u001b[0m \u001b[1m9s\u001b[0m 3ms/step - auc: 0.8359 - loss: 8.4505e-04 - weighted_auc: 0.8429 - val_auc: 0.8617 - val_loss: 8.6368e-04 - val_weighted_auc: 0.8697\n",
      "Epoch 15/50\n",
      "\u001b[1m3008/3008\u001b[0m \u001b[32m━━━━━━━━━━━━━━━━━━━━\u001b[0m\u001b[37m\u001b[0m \u001b[1m9s\u001b[0m 3ms/step - auc: 0.8390 - loss: 8.4112e-04 - weighted_auc: 0.8459 - val_auc: 0.8645 - val_loss: 8.6192e-04 - val_weighted_auc: 0.8728\n",
      "Epoch 16/50\n",
      "\u001b[1m3008/3008\u001b[0m \u001b[32m━━━━━━━━━━━━━━━━━━━━\u001b[0m\u001b[37m\u001b[0m \u001b[1m9s\u001b[0m 3ms/step - auc: 0.8380 - loss: 8.4106e-04 - weighted_auc: 0.8438 - val_auc: 0.8644 - val_loss: 8.6124e-04 - val_weighted_auc: 0.8720\n",
      "Epoch 17/50\n",
      "\u001b[1m3008/3008\u001b[0m \u001b[32m━━━━━━━━━━━━━━━━━━━━\u001b[0m\u001b[37m\u001b[0m \u001b[1m9s\u001b[0m 3ms/step - auc: 0.8431 - loss: 8.3805e-04 - weighted_auc: 0.8489 - val_auc: 0.8582 - val_loss: 8.5161e-04 - val_weighted_auc: 0.8655\n",
      "Epoch 18/50\n",
      "\u001b[1m3008/3008\u001b[0m \u001b[32m━━━━━━━━━━━━━━━━━━━━\u001b[0m\u001b[37m\u001b[0m \u001b[1m9s\u001b[0m 3ms/step - auc: 0.8393 - loss: 8.3513e-04 - weighted_auc: 0.8459 - val_auc: 0.8678 - val_loss: 8.6296e-04 - val_weighted_auc: 0.8756\n",
      "Epoch 19/50\n",
      "\u001b[1m3008/3008\u001b[0m \u001b[32m━━━━━━━━━━━━━━━━━━━━\u001b[0m\u001b[37m\u001b[0m \u001b[1m9s\u001b[0m 3ms/step - auc: 0.8431 - loss: 8.3152e-04 - weighted_auc: 0.8481 - val_auc: 0.8664 - val_loss: 8.5950e-04 - val_weighted_auc: 0.8737\n",
      "Epoch 20/50\n",
      "\u001b[1m3008/3008\u001b[0m \u001b[32m━━━━━━━━━━━━━━━━━━━━\u001b[0m\u001b[37m\u001b[0m \u001b[1m9s\u001b[0m 3ms/step - auc: 0.8466 - loss: 8.3200e-04 - weighted_auc: 0.8515 - val_auc: 0.8640 - val_loss: 8.5719e-04 - val_weighted_auc: 0.8710\n",
      "Epoch 21/50\n",
      "\u001b[1m3008/3008\u001b[0m \u001b[32m━━━━━━━━━━━━━━━━━━━━\u001b[0m\u001b[37m\u001b[0m \u001b[1m9s\u001b[0m 3ms/step - auc: 0.8471 - loss: 8.2700e-04 - weighted_auc: 0.8545 - val_auc: 0.8640 - val_loss: 8.5608e-04 - val_weighted_auc: 0.8710\n",
      "Epoch 22/50\n",
      "\u001b[1m3008/3008\u001b[0m \u001b[32m━━━━━━━━━━━━━━━━━━━━\u001b[0m\u001b[37m\u001b[0m \u001b[1m9s\u001b[0m 3ms/step - auc: 0.8378 - loss: 8.2579e-04 - weighted_auc: 0.8451 - val_auc: 0.8651 - val_loss: 8.5069e-04 - val_weighted_auc: 0.8716\n",
      "Epoch 23/50\n",
      "\u001b[1m3008/3008\u001b[0m \u001b[32m━━━━━━━━━━━━━━━━━━━━\u001b[0m\u001b[37m\u001b[0m \u001b[1m9s\u001b[0m 3ms/step - auc: 0.8499 - loss: 8.2571e-04 - weighted_auc: 0.8563 - val_auc: 0.8656 - val_loss: 8.5071e-04 - val_weighted_auc: 0.8730\n",
      "\u001b[1m30935/30935\u001b[0m \u001b[32m━━━━━━━━━━━━━━━━━━━━\u001b[0m\u001b[37m\u001b[0m \u001b[1m20s\u001b[0m 653us/step\n",
      "\u001b[1m4297/4297\u001b[0m \u001b[32m━━━━━━━━━━━━━━━━━━━━\u001b[0m\u001b[37m\u001b[0m \u001b[1m5s\u001b[0m 1ms/step\n"
     ]
    },
    {
     "data": {
      "text/html": [],
      "text/plain": [
       "<IPython.core.display.HTML object>"
      ]
     },
     "metadata": {},
     "output_type": "display_data"
    },
    {
     "data": {
      "text/html": [
       "<br>    <style><br>        .wandb-row {<br>            display: flex;<br>            flex-direction: row;<br>            flex-wrap: wrap;<br>            justify-content: flex-start;<br>            width: 100%;<br>        }<br>        .wandb-col {<br>            display: flex;<br>            flex-direction: column;<br>            flex-basis: 100%;<br>            flex: 1;<br>            padding: 10px;<br>        }<br>    </style><br><div class=\"wandb-row\"><div class=\"wandb-col\"><h3>Run history:</h3><br/><table class=\"wandb\"><tr><td>Acceptance</td><td>▁</td></tr><tr><td>Max S/sqrt(B)</td><td>▁</td></tr><tr><td>epoch/auc</td><td>▁▅▇▇▇▇▇█▇▇█████████████</td></tr><tr><td>epoch/epoch</td><td>▁▁▂▂▂▃▃▃▄▄▄▅▅▅▅▆▆▆▇▇▇██</td></tr><tr><td>epoch/learning_rate</td><td>▁▁▁▁▁▁▁▁▁▁▁▁▁▁▁▁▁▁▁▁▁▁▁</td></tr><tr><td>epoch/loss</td><td>█▁▁▁▁▁▁▁▁▁▁▁▁▁▁▁▁▁▁▁▁▁▁</td></tr><tr><td>epoch/val_auc</td><td>▁▆▇▇▇██████████████████</td></tr><tr><td>epoch/val_loss</td><td>█▄▃▂▂▂▂▂▂▂▂▁▂▂▂▁▁▂▁▁▁▁▁</td></tr><tr><td>epoch/val_weighted_auc</td><td>▁▇▇▇▇██████████████████</td></tr><tr><td>epoch/weighted_auc</td><td>▁▅▇▇▇▇▇████████████████</td></tr><tr><td>final_val_roc_auc</td><td>▁</td></tr><tr><td>nnScore cut</td><td>▁</td></tr></table><br/></div><div class=\"wandb-col\"><h3>Run summary:</h3><br/><table class=\"wandb\"><tr><td>Acceptance</td><td>0.47025</td></tr><tr><td>Max S/sqrt(B)</td><td>2.45196</td></tr><tr><td>epoch/auc</td><td>0.84479</td></tr><tr><td>epoch/epoch</td><td>22</td></tr><tr><td>epoch/learning_rate</td><td>2e-05</td></tr><tr><td>epoch/loss</td><td>0.00084</td></tr><tr><td>epoch/val_auc</td><td>0.86557</td></tr><tr><td>epoch/val_loss</td><td>0.00085</td></tr><tr><td>epoch/val_weighted_auc</td><td>0.87298</td></tr><tr><td>epoch/weighted_auc</td><td>0.85417</td></tr><tr><td>final_val_roc_auc</td><td>0.97574</td></tr><tr><td>nnScore cut</td><td>0.02</td></tr></table><br/></div></div>"
      ],
      "text/plain": [
       "<IPython.core.display.HTML object>"
      ]
     },
     "metadata": {},
     "output_type": "display_data"
    },
    {
     "data": {
      "text/html": [
       " View run <strong style=\"color:#cdcd00\">wild-sweep-23</strong> at: <a href='https://wandb.ai/dlai211/tf-dnn-weighted-classifier/runs/kvxsf5s3' target=\"_blank\">https://wandb.ai/dlai211/tf-dnn-weighted-classifier/runs/kvxsf5s3</a><br> View project at: <a href='https://wandb.ai/dlai211/tf-dnn-weighted-classifier' target=\"_blank\">https://wandb.ai/dlai211/tf-dnn-weighted-classifier</a><br>Synced 5 W&B file(s), 1 media file(s), 0 artifact file(s) and 0 other file(s)"
      ],
      "text/plain": [
       "<IPython.core.display.HTML object>"
      ]
     },
     "metadata": {},
     "output_type": "display_data"
    },
    {
     "data": {
      "text/html": [
       "Find logs at: <code>./wandb/run-20250821_063134-kvxsf5s3/logs</code>"
      ],
      "text/plain": [
       "<IPython.core.display.HTML object>"
      ]
     },
     "metadata": {},
     "output_type": "display_data"
    },
    {
     "name": "stderr",
     "output_type": "stream",
     "text": [
      "\u001b[34m\u001b[1mwandb\u001b[0m: Agent Starting Run: h7jijmn5 with config:\n",
      "\u001b[34m\u001b[1mwandb\u001b[0m: \tbatch_size: 512\n",
      "\u001b[34m\u001b[1mwandb\u001b[0m: \tdropout: 0.14861697648973032\n",
      "\u001b[34m\u001b[1mwandb\u001b[0m: \tepochs: 50\n",
      "\u001b[34m\u001b[1mwandb\u001b[0m: \tlayer_1: 192\n",
      "\u001b[34m\u001b[1mwandb\u001b[0m: \tlayer_2: 384\n",
      "\u001b[34m\u001b[1mwandb\u001b[0m: \tlayer_3: 1536\n",
      "\u001b[34m\u001b[1mwandb\u001b[0m: \tlayer_4: 128\n",
      "\u001b[34m\u001b[1mwandb\u001b[0m: \tlayer_5: 32\n",
      "\u001b[34m\u001b[1mwandb\u001b[0m: \tlr: 0.0003404889383535276\n"
     ]
    },
    {
     "data": {
      "text/html": [
       "Ignoring project 'tf-dnn-weighted-classifier' when running a sweep."
      ],
      "text/plain": [
       "<IPython.core.display.HTML object>"
      ]
     },
     "metadata": {},
     "output_type": "display_data"
    },
    {
     "data": {
      "text/html": [
       "Tracking run with wandb version 0.21.0"
      ],
      "text/plain": [
       "<IPython.core.display.HTML object>"
      ]
     },
     "metadata": {},
     "output_type": "display_data"
    },
    {
     "data": {
      "text/html": [
       "Run data is saved locally in <code>/home/jlai/ML/jet_faking/wandb/run-20250821_063611-h7jijmn5</code>"
      ],
      "text/plain": [
       "<IPython.core.display.HTML object>"
      ]
     },
     "metadata": {},
     "output_type": "display_data"
    },
    {
     "data": {
      "text/html": [
       "Syncing run <strong><a href='https://wandb.ai/dlai211/tf-dnn-weighted-classifier/runs/h7jijmn5' target=\"_blank\">distinctive-sweep-24</a></strong> to <a href='https://wandb.ai/dlai211/tf-dnn-weighted-classifier' target=\"_blank\">Weights & Biases</a> (<a href='https://wandb.me/developer-guide' target=\"_blank\">docs</a>)<br>Sweep page: <a href='https://wandb.ai/dlai211/tf-dnn-weighted-classifier/sweeps/rg1dnn5u' target=\"_blank\">https://wandb.ai/dlai211/tf-dnn-weighted-classifier/sweeps/rg1dnn5u</a>"
      ],
      "text/plain": [
       "<IPython.core.display.HTML object>"
      ]
     },
     "metadata": {},
     "output_type": "display_data"
    },
    {
     "data": {
      "text/html": [
       " View project at <a href='https://wandb.ai/dlai211/tf-dnn-weighted-classifier' target=\"_blank\">https://wandb.ai/dlai211/tf-dnn-weighted-classifier</a>"
      ],
      "text/plain": [
       "<IPython.core.display.HTML object>"
      ]
     },
     "metadata": {},
     "output_type": "display_data"
    },
    {
     "data": {
      "text/html": [
       " View sweep at <a href='https://wandb.ai/dlai211/tf-dnn-weighted-classifier/sweeps/rg1dnn5u' target=\"_blank\">https://wandb.ai/dlai211/tf-dnn-weighted-classifier/sweeps/rg1dnn5u</a>"
      ],
      "text/plain": [
       "<IPython.core.display.HTML object>"
      ]
     },
     "metadata": {},
     "output_type": "display_data"
    },
    {
     "data": {
      "text/html": [
       " View run at <a href='https://wandb.ai/dlai211/tf-dnn-weighted-classifier/runs/h7jijmn5' target=\"_blank\">https://wandb.ai/dlai211/tf-dnn-weighted-classifier/runs/h7jijmn5</a>"
      ],
      "text/plain": [
       "<IPython.core.display.HTML object>"
      ]
     },
     "metadata": {},
     "output_type": "display_data"
    },
    {
     "name": "stderr",
     "output_type": "stream",
     "text": [
      "/home/jlai/.local/share/mamba/envs/tf-gpu/lib/python3.10/site-packages/keras/src/layers/core/dense.py:93: UserWarning: Do not pass an `input_shape`/`input_dim` argument to a layer. When using Sequential models, prefer using an `Input(shape)` object as the first layer in the model instead.\n",
      "  super().__init__(activity_regularizer=activity_regularizer, **kwargs)\n"
     ]
    },
    {
     "name": "stdout",
     "output_type": "stream",
     "text": [
      "Epoch 1/50\n",
      "\u001b[1m4512/4512\u001b[0m \u001b[32m━━━━━━━━━━━━━━━━━━━━\u001b[0m\u001b[37m\u001b[0m \u001b[1m20s\u001b[0m 4ms/step - auc: 0.6901 - loss: 0.0037 - weighted_auc: 0.7017 - val_auc: 0.8078 - val_loss: 8.8125e-04 - val_weighted_auc: 0.8168\n",
      "Epoch 2/50\n",
      "\u001b[1m4512/4512\u001b[0m \u001b[32m━━━━━━━━━━━━━━━━━━━━\u001b[0m\u001b[37m\u001b[0m \u001b[1m12s\u001b[0m 3ms/step - auc: 0.8049 - loss: 9.0884e-04 - weighted_auc: 0.8118 - val_auc: 0.8045 - val_loss: 8.8152e-04 - val_weighted_auc: 0.8109\n",
      "Epoch 3/50\n",
      "\u001b[1m4512/4512\u001b[0m \u001b[32m━━━━━━━━━━━━━━━━━━━━\u001b[0m\u001b[37m\u001b[0m \u001b[1m12s\u001b[0m 3ms/step - auc: 0.8211 - loss: 8.8492e-04 - weighted_auc: 0.8291 - val_auc: 0.8132 - val_loss: 8.5839e-04 - val_weighted_auc: 0.8222\n",
      "Epoch 4/50\n",
      "\u001b[1m4512/4512\u001b[0m \u001b[32m━━━━━━━━━━━━━━━━━━━━\u001b[0m\u001b[37m\u001b[0m \u001b[1m12s\u001b[0m 3ms/step - auc: 0.8274 - loss: 8.7747e-04 - weighted_auc: 0.8349 - val_auc: 0.8021 - val_loss: 8.6747e-04 - val_weighted_auc: 0.8087\n",
      "Epoch 5/50\n",
      "\u001b[1m4512/4512\u001b[0m \u001b[32m━━━━━━━━━━━━━━━━━━━━\u001b[0m\u001b[37m\u001b[0m \u001b[1m12s\u001b[0m 3ms/step - auc: 0.8428 - loss: 8.5176e-04 - weighted_auc: 0.8494 - val_auc: 0.8142 - val_loss: 8.5948e-04 - val_weighted_auc: 0.8199\n",
      "Epoch 6/50\n",
      "\u001b[1m4512/4512\u001b[0m \u001b[32m━━━━━━━━━━━━━━━━━━━━\u001b[0m\u001b[37m\u001b[0m \u001b[1m12s\u001b[0m 3ms/step - auc: 0.8418 - loss: 8.4753e-04 - weighted_auc: 0.8480 - val_auc: 0.8110 - val_loss: 8.6867e-04 - val_weighted_auc: 0.8168\n",
      "Epoch 7/50\n",
      "\u001b[1m4512/4512\u001b[0m \u001b[32m━━━━━━━━━━━━━━━━━━━━\u001b[0m\u001b[37m\u001b[0m \u001b[1m12s\u001b[0m 3ms/step - auc: 0.8413 - loss: 8.3583e-04 - weighted_auc: 0.8470 - val_auc: 0.8065 - val_loss: 8.7263e-04 - val_weighted_auc: 0.8119\n",
      "Epoch 8/50\n",
      "\u001b[1m4512/4512\u001b[0m \u001b[32m━━━━━━━━━━━━━━━━━━━━\u001b[0m\u001b[37m\u001b[0m \u001b[1m12s\u001b[0m 3ms/step - auc: 0.8435 - loss: 8.4262e-04 - weighted_auc: 0.8503 - val_auc: 0.8225 - val_loss: 8.4982e-04 - val_weighted_auc: 0.8276\n",
      "Epoch 9/50\n",
      "\u001b[1m4512/4512\u001b[0m \u001b[32m━━━━━━━━━━━━━━━━━━━━\u001b[0m\u001b[37m\u001b[0m \u001b[1m12s\u001b[0m 3ms/step - auc: 0.8472 - loss: 8.3387e-04 - weighted_auc: 0.8553 - val_auc: 0.8200 - val_loss: 8.5793e-04 - val_weighted_auc: 0.8248\n",
      "Epoch 10/50\n",
      "\u001b[1m4512/4512\u001b[0m \u001b[32m━━━━━━━━━━━━━━━━━━━━\u001b[0m\u001b[37m\u001b[0m \u001b[1m12s\u001b[0m 3ms/step - auc: 0.8498 - loss: 8.2808e-04 - weighted_auc: 0.8568 - val_auc: 0.8158 - val_loss: 8.5881e-04 - val_weighted_auc: 0.8193\n",
      "Epoch 11/50\n",
      "\u001b[1m4512/4512\u001b[0m \u001b[32m━━━━━━━━━━━━━━━━━━━━\u001b[0m\u001b[37m\u001b[0m \u001b[1m12s\u001b[0m 3ms/step - auc: 0.8474 - loss: 8.1691e-04 - weighted_auc: 0.8526 - val_auc: 0.8185 - val_loss: 8.4727e-04 - val_weighted_auc: 0.8243\n",
      "Epoch 12/50\n",
      "\u001b[1m4512/4512\u001b[0m \u001b[32m━━━━━━━━━━━━━━━━━━━━\u001b[0m\u001b[37m\u001b[0m \u001b[1m12s\u001b[0m 3ms/step - auc: 0.8566 - loss: 8.2013e-04 - weighted_auc: 0.8608 - val_auc: 0.8275 - val_loss: 8.3847e-04 - val_weighted_auc: 0.8325\n",
      "Epoch 13/50\n",
      "\u001b[1m4512/4512\u001b[0m \u001b[32m━━━━━━━━━━━━━━━━━━━━\u001b[0m\u001b[37m\u001b[0m \u001b[1m12s\u001b[0m 3ms/step - auc: 0.8579 - loss: 8.1614e-04 - weighted_auc: 0.8636 - val_auc: 0.8274 - val_loss: 8.4546e-04 - val_weighted_auc: 0.8326\n",
      "Epoch 14/50\n",
      "\u001b[1m4512/4512\u001b[0m \u001b[32m━━━━━━━━━━━━━━━━━━━━\u001b[0m\u001b[37m\u001b[0m \u001b[1m12s\u001b[0m 3ms/step - auc: 0.8608 - loss: 8.1100e-04 - weighted_auc: 0.8661 - val_auc: 0.8159 - val_loss: 8.5927e-04 - val_weighted_auc: 0.8212\n",
      "Epoch 15/50\n",
      "\u001b[1m4512/4512\u001b[0m \u001b[32m━━━━━━━━━━━━━━━━━━━━\u001b[0m\u001b[37m\u001b[0m \u001b[1m12s\u001b[0m 3ms/step - auc: 0.8524 - loss: 8.0958e-04 - weighted_auc: 0.8569 - val_auc: 0.8220 - val_loss: 8.4984e-04 - val_weighted_auc: 0.8286\n",
      "Epoch 16/50\n",
      "\u001b[1m4512/4512\u001b[0m \u001b[32m━━━━━━━━━━━━━━━━━━━━\u001b[0m\u001b[37m\u001b[0m \u001b[1m12s\u001b[0m 3ms/step - auc: 0.8582 - loss: 8.1365e-04 - weighted_auc: 0.8637 - val_auc: 0.8294 - val_loss: 8.5119e-04 - val_weighted_auc: 0.8352\n",
      "Epoch 17/50\n",
      "\u001b[1m4512/4512\u001b[0m \u001b[32m━━━━━━━━━━━━━━━━━━━━\u001b[0m\u001b[37m\u001b[0m \u001b[1m12s\u001b[0m 3ms/step - auc: 0.8603 - loss: 8.0079e-04 - weighted_auc: 0.8665 - val_auc: 0.8322 - val_loss: 8.4287e-04 - val_weighted_auc: 0.8381\n",
      "Epoch 18/50\n",
      "\u001b[1m4512/4512\u001b[0m \u001b[32m━━━━━━━━━━━━━━━━━━━━\u001b[0m\u001b[37m\u001b[0m \u001b[1m12s\u001b[0m 3ms/step - auc: 0.8630 - loss: 7.9984e-04 - weighted_auc: 0.8694 - val_auc: 0.8188 - val_loss: 8.6754e-04 - val_weighted_auc: 0.8231\n",
      "Epoch 19/50\n",
      "\u001b[1m4512/4512\u001b[0m \u001b[32m━━━━━━━━━━━━━━━━━━━━\u001b[0m\u001b[37m\u001b[0m \u001b[1m12s\u001b[0m 3ms/step - auc: 0.8541 - loss: 8.0556e-04 - weighted_auc: 0.8588 - val_auc: 0.8337 - val_loss: 8.5676e-04 - val_weighted_auc: 0.8388\n",
      "Epoch 20/50\n",
      "\u001b[1m4512/4512\u001b[0m \u001b[32m━━━━━━━━━━━━━━━━━━━━\u001b[0m\u001b[37m\u001b[0m \u001b[1m12s\u001b[0m 3ms/step - auc: 0.8612 - loss: 7.9756e-04 - weighted_auc: 0.8675 - val_auc: 0.8229 - val_loss: 8.6226e-04 - val_weighted_auc: 0.8284\n",
      "Epoch 21/50\n",
      "\u001b[1m4512/4512\u001b[0m \u001b[32m━━━━━━━━━━━━━━━━━━━━\u001b[0m\u001b[37m\u001b[0m \u001b[1m12s\u001b[0m 3ms/step - auc: 0.8628 - loss: 7.9418e-04 - weighted_auc: 0.8698 - val_auc: 0.8273 - val_loss: 8.6199e-04 - val_weighted_auc: 0.8333\n",
      "Epoch 22/50\n",
      "\u001b[1m4512/4512\u001b[0m \u001b[32m━━━━━━━━━━━━━━━━━━━━\u001b[0m\u001b[37m\u001b[0m \u001b[1m12s\u001b[0m 3ms/step - auc: 0.8612 - loss: 7.8610e-04 - weighted_auc: 0.8677 - val_auc: 0.8306 - val_loss: 8.6850e-04 - val_weighted_auc: 0.8352\n",
      "Epoch 23/50\n",
      "\u001b[1m4512/4512\u001b[0m \u001b[32m━━━━━━━━━━━━━━━━━━━━\u001b[0m\u001b[37m\u001b[0m \u001b[1m12s\u001b[0m 3ms/step - auc: 0.8609 - loss: 7.8654e-04 - weighted_auc: 0.8681 - val_auc: 0.8225 - val_loss: 8.7211e-04 - val_weighted_auc: 0.8269\n",
      "Epoch 24/50\n",
      "\u001b[1m4512/4512\u001b[0m \u001b[32m━━━━━━━━━━━━━━━━━━━━\u001b[0m\u001b[37m\u001b[0m \u001b[1m12s\u001b[0m 3ms/step - auc: 0.8643 - loss: 7.8618e-04 - weighted_auc: 0.8721 - val_auc: 0.8244 - val_loss: 8.7449e-04 - val_weighted_auc: 0.8305\n",
      "\u001b[1m30935/30935\u001b[0m \u001b[32m━━━━━━━━━━━━━━━━━━━━\u001b[0m\u001b[37m\u001b[0m \u001b[1m21s\u001b[0m 684us/step\n",
      "\u001b[1m6445/6445\u001b[0m \u001b[32m━━━━━━━━━━━━━━━━━━━━\u001b[0m\u001b[37m\u001b[0m \u001b[1m6s\u001b[0m 836us/step\n"
     ]
    },
    {
     "data": {
      "text/html": [],
      "text/plain": [
       "<IPython.core.display.HTML object>"
      ]
     },
     "metadata": {},
     "output_type": "display_data"
    },
    {
     "data": {
      "text/html": [
       "<br>    <style><br>        .wandb-row {<br>            display: flex;<br>            flex-direction: row;<br>            flex-wrap: wrap;<br>            justify-content: flex-start;<br>            width: 100%;<br>        }<br>        .wandb-col {<br>            display: flex;<br>            flex-direction: column;<br>            flex-basis: 100%;<br>            flex: 1;<br>            padding: 10px;<br>        }<br>    </style><br><div class=\"wandb-row\"><div class=\"wandb-col\"><h3>Run history:</h3><br/><table class=\"wandb\"><tr><td>Acceptance</td><td>▁</td></tr><tr><td>Max S/sqrt(B)</td><td>▁</td></tr><tr><td>epoch/auc</td><td>▁▅▆▆▇▇▇▇▇▇▇▇██▇███▇█████</td></tr><tr><td>epoch/epoch</td><td>▁▁▂▂▂▃▃▃▃▄▄▄▅▅▅▆▆▆▆▇▇▇██</td></tr><tr><td>epoch/learning_rate</td><td>▁▁▁▁▁▁▁▁▁▁▁▁▁▁▁▁▁▁▁▁▁▁▁▁</td></tr><tr><td>epoch/loss</td><td>█▃▂▂▂▂▂▂▂▂▁▁▁▁▁▁▁▁▁▁▁▁▁▁</td></tr><tr><td>epoch/val_auc</td><td>▂▂▃▁▄▃▂▆▅▄▅▇▇▄▅▇█▅█▆▇▇▆▆</td></tr><tr><td>epoch/val_loss</td><td>██▄▆▄▆▇▃▄▄▂▁▂▄▃▃▂▆▄▅▅▆▆▇</td></tr><tr><td>epoch/val_weighted_auc</td><td>▃▂▄▁▄▃▂▅▅▃▅▇▇▄▆▇█▄█▆▇▇▅▆</td></tr><tr><td>epoch/weighted_auc</td><td>▁▄▆▆▇▇▇▇▇▇▇▇██▇▇██▇█████</td></tr><tr><td>final_val_roc_auc</td><td>▁</td></tr><tr><td>nnScore cut</td><td>▁</td></tr></table><br/></div><div class=\"wandb-col\"><h3>Run summary:</h3><br/><table class=\"wandb\"><tr><td>Acceptance</td><td>0.45118</td></tr><tr><td>Max S/sqrt(B)</td><td>2.90608</td></tr><tr><td>epoch/auc</td><td>0.85938</td></tr><tr><td>epoch/epoch</td><td>23</td></tr><tr><td>epoch/learning_rate</td><td>0.00034</td></tr><tr><td>epoch/loss</td><td>0.0008</td></tr><tr><td>epoch/val_auc</td><td>0.82443</td></tr><tr><td>epoch/val_loss</td><td>0.00087</td></tr><tr><td>epoch/val_weighted_auc</td><td>0.83051</td></tr><tr><td>epoch/weighted_auc</td><td>0.86942</td></tr><tr><td>final_val_roc_auc</td><td>0.97469</td></tr><tr><td>nnScore cut</td><td>0.04</td></tr></table><br/></div></div>"
      ],
      "text/plain": [
       "<IPython.core.display.HTML object>"
      ]
     },
     "metadata": {},
     "output_type": "display_data"
    },
    {
     "data": {
      "text/html": [
       " View run <strong style=\"color:#cdcd00\">distinctive-sweep-24</strong> at: <a href='https://wandb.ai/dlai211/tf-dnn-weighted-classifier/runs/h7jijmn5' target=\"_blank\">https://wandb.ai/dlai211/tf-dnn-weighted-classifier/runs/h7jijmn5</a><br> View project at: <a href='https://wandb.ai/dlai211/tf-dnn-weighted-classifier' target=\"_blank\">https://wandb.ai/dlai211/tf-dnn-weighted-classifier</a><br>Synced 5 W&B file(s), 1 media file(s), 0 artifact file(s) and 0 other file(s)"
      ],
      "text/plain": [
       "<IPython.core.display.HTML object>"
      ]
     },
     "metadata": {},
     "output_type": "display_data"
    },
    {
     "data": {
      "text/html": [
       "Find logs at: <code>./wandb/run-20250821_063611-h7jijmn5/logs</code>"
      ],
      "text/plain": [
       "<IPython.core.display.HTML object>"
      ]
     },
     "metadata": {},
     "output_type": "display_data"
    },
    {
     "name": "stderr",
     "output_type": "stream",
     "text": [
      "\u001b[34m\u001b[1mwandb\u001b[0m: Agent Starting Run: khtcma67 with config:\n",
      "\u001b[34m\u001b[1mwandb\u001b[0m: \tbatch_size: 768\n",
      "\u001b[34m\u001b[1mwandb\u001b[0m: \tdropout: 0.11692852394696825\n",
      "\u001b[34m\u001b[1mwandb\u001b[0m: \tepochs: 50\n",
      "\u001b[34m\u001b[1mwandb\u001b[0m: \tlayer_1: 192\n",
      "\u001b[34m\u001b[1mwandb\u001b[0m: \tlayer_2: 512\n",
      "\u001b[34m\u001b[1mwandb\u001b[0m: \tlayer_3: 2048\n",
      "\u001b[34m\u001b[1mwandb\u001b[0m: \tlayer_4: 256\n",
      "\u001b[34m\u001b[1mwandb\u001b[0m: \tlayer_5: 128\n",
      "\u001b[34m\u001b[1mwandb\u001b[0m: \tlr: 8.311700836514408e-05\n"
     ]
    },
    {
     "data": {
      "text/html": [
       "Ignoring project 'tf-dnn-weighted-classifier' when running a sweep."
      ],
      "text/plain": [
       "<IPython.core.display.HTML object>"
      ]
     },
     "metadata": {},
     "output_type": "display_data"
    },
    {
     "data": {
      "text/html": [
       "Tracking run with wandb version 0.21.0"
      ],
      "text/plain": [
       "<IPython.core.display.HTML object>"
      ]
     },
     "metadata": {},
     "output_type": "display_data"
    },
    {
     "data": {
      "text/html": [
       "Run data is saved locally in <code>/home/jlai/ML/jet_faking/wandb/run-20250821_064200-khtcma67</code>"
      ],
      "text/plain": [
       "<IPython.core.display.HTML object>"
      ]
     },
     "metadata": {},
     "output_type": "display_data"
    },
    {
     "data": {
      "text/html": [
       "Syncing run <strong><a href='https://wandb.ai/dlai211/tf-dnn-weighted-classifier/runs/khtcma67' target=\"_blank\">lunar-sweep-25</a></strong> to <a href='https://wandb.ai/dlai211/tf-dnn-weighted-classifier' target=\"_blank\">Weights & Biases</a> (<a href='https://wandb.me/developer-guide' target=\"_blank\">docs</a>)<br>Sweep page: <a href='https://wandb.ai/dlai211/tf-dnn-weighted-classifier/sweeps/rg1dnn5u' target=\"_blank\">https://wandb.ai/dlai211/tf-dnn-weighted-classifier/sweeps/rg1dnn5u</a>"
      ],
      "text/plain": [
       "<IPython.core.display.HTML object>"
      ]
     },
     "metadata": {},
     "output_type": "display_data"
    },
    {
     "data": {
      "text/html": [
       " View project at <a href='https://wandb.ai/dlai211/tf-dnn-weighted-classifier' target=\"_blank\">https://wandb.ai/dlai211/tf-dnn-weighted-classifier</a>"
      ],
      "text/plain": [
       "<IPython.core.display.HTML object>"
      ]
     },
     "metadata": {},
     "output_type": "display_data"
    },
    {
     "data": {
      "text/html": [
       " View sweep at <a href='https://wandb.ai/dlai211/tf-dnn-weighted-classifier/sweeps/rg1dnn5u' target=\"_blank\">https://wandb.ai/dlai211/tf-dnn-weighted-classifier/sweeps/rg1dnn5u</a>"
      ],
      "text/plain": [
       "<IPython.core.display.HTML object>"
      ]
     },
     "metadata": {},
     "output_type": "display_data"
    },
    {
     "data": {
      "text/html": [
       " View run at <a href='https://wandb.ai/dlai211/tf-dnn-weighted-classifier/runs/khtcma67' target=\"_blank\">https://wandb.ai/dlai211/tf-dnn-weighted-classifier/runs/khtcma67</a>"
      ],
      "text/plain": [
       "<IPython.core.display.HTML object>"
      ]
     },
     "metadata": {},
     "output_type": "display_data"
    },
    {
     "name": "stderr",
     "output_type": "stream",
     "text": [
      "/home/jlai/.local/share/mamba/envs/tf-gpu/lib/python3.10/site-packages/keras/src/layers/core/dense.py:93: UserWarning: Do not pass an `input_shape`/`input_dim` argument to a layer. When using Sequential models, prefer using an `Input(shape)` object as the first layer in the model instead.\n",
      "  super().__init__(activity_regularizer=activity_regularizer, **kwargs)\n"
     ]
    },
    {
     "name": "stdout",
     "output_type": "stream",
     "text": [
      "Epoch 1/50\n",
      "\u001b[1m3008/3008\u001b[0m \u001b[32m━━━━━━━━━━━━━━━━━━━━\u001b[0m\u001b[37m\u001b[0m \u001b[1m18s\u001b[0m 5ms/step - auc: 0.5956 - loss: 0.0119 - weighted_auc: 0.6078 - val_auc: 0.8337 - val_loss: 8.8730e-04 - val_weighted_auc: 0.8463\n",
      "Epoch 2/50\n",
      "\u001b[1m3008/3008\u001b[0m \u001b[32m━━━━━━━━━━━━━━━━━━━━\u001b[0m\u001b[37m\u001b[0m \u001b[1m10s\u001b[0m 3ms/step - auc: 0.8082 - loss: 8.7850e-04 - weighted_auc: 0.8196 - val_auc: 0.8404 - val_loss: 8.6449e-04 - val_weighted_auc: 0.8508\n",
      "Epoch 3/50\n",
      "\u001b[1m3008/3008\u001b[0m \u001b[32m━━━━━━━━━━━━━━━━━━━━\u001b[0m\u001b[37m\u001b[0m \u001b[1m9s\u001b[0m 3ms/step - auc: 0.8255 - loss: 8.5640e-04 - weighted_auc: 0.8340 - val_auc: 0.8344 - val_loss: 8.5419e-04 - val_weighted_auc: 0.8441\n",
      "Epoch 4/50\n",
      "\u001b[1m3008/3008\u001b[0m \u001b[32m━━━━━━━━━━━━━━━━━━━━\u001b[0m\u001b[37m\u001b[0m \u001b[1m10s\u001b[0m 3ms/step - auc: 0.8263 - loss: 8.4706e-04 - weighted_auc: 0.8321 - val_auc: 0.8457 - val_loss: 8.5010e-04 - val_weighted_auc: 0.8536\n",
      "Epoch 5/50\n",
      "\u001b[1m3008/3008\u001b[0m \u001b[32m━━━━━━━━━━━━━━━━━━━━\u001b[0m\u001b[37m\u001b[0m \u001b[1m9s\u001b[0m 3ms/step - auc: 0.8415 - loss: 8.3177e-04 - weighted_auc: 0.8472 - val_auc: 0.8521 - val_loss: 8.4481e-04 - val_weighted_auc: 0.8585\n",
      "Epoch 6/50\n",
      "\u001b[1m3008/3008\u001b[0m \u001b[32m━━━━━━━━━━━━━━━━━━━━\u001b[0m\u001b[37m\u001b[0m \u001b[1m10s\u001b[0m 3ms/step - auc: 0.8468 - loss: 8.2442e-04 - weighted_auc: 0.8519 - val_auc: 0.8563 - val_loss: 8.4808e-04 - val_weighted_auc: 0.8627\n",
      "Epoch 7/50\n",
      "\u001b[1m3008/3008\u001b[0m \u001b[32m━━━━━━━━━━━━━━━━━━━━\u001b[0m\u001b[37m\u001b[0m \u001b[1m9s\u001b[0m 3ms/step - auc: 0.8404 - loss: 8.2580e-04 - weighted_auc: 0.8468 - val_auc: 0.8571 - val_loss: 8.4404e-04 - val_weighted_auc: 0.8644\n",
      "Epoch 8/50\n",
      "\u001b[1m3008/3008\u001b[0m \u001b[32m━━━━━━━━━━━━━━━━━━━━\u001b[0m\u001b[37m\u001b[0m \u001b[1m10s\u001b[0m 3ms/step - auc: 0.8480 - loss: 8.1970e-04 - weighted_auc: 0.8530 - val_auc: 0.8583 - val_loss: 8.3986e-04 - val_weighted_auc: 0.8641\n",
      "Epoch 9/50\n",
      "\u001b[1m3008/3008\u001b[0m \u001b[32m━━━━━━━━━━━━━━━━━━━━\u001b[0m\u001b[37m\u001b[0m \u001b[1m9s\u001b[0m 3ms/step - auc: 0.8470 - loss: 8.1011e-04 - weighted_auc: 0.8541 - val_auc: 0.8498 - val_loss: 8.3748e-04 - val_weighted_auc: 0.8554\n",
      "Epoch 10/50\n",
      "\u001b[1m3008/3008\u001b[0m \u001b[32m━━━━━━━━━━━━━━━━━━━━\u001b[0m\u001b[37m\u001b[0m \u001b[1m9s\u001b[0m 3ms/step - auc: 0.8488 - loss: 8.1108e-04 - weighted_auc: 0.8532 - val_auc: 0.8555 - val_loss: 8.3723e-04 - val_weighted_auc: 0.8625\n",
      "Epoch 11/50\n",
      "\u001b[1m3008/3008\u001b[0m \u001b[32m━━━━━━━━━━━━━━━━━━━━\u001b[0m\u001b[37m\u001b[0m \u001b[1m10s\u001b[0m 3ms/step - auc: 0.8525 - loss: 7.9783e-04 - weighted_auc: 0.8588 - val_auc: 0.8578 - val_loss: 8.3933e-04 - val_weighted_auc: 0.8642\n",
      "Epoch 12/50\n",
      "\u001b[1m3008/3008\u001b[0m \u001b[32m━━━━━━━━━━━━━━━━━━━━\u001b[0m\u001b[37m\u001b[0m \u001b[1m10s\u001b[0m 3ms/step - auc: 0.8544 - loss: 7.9708e-04 - weighted_auc: 0.8601 - val_auc: 0.8583 - val_loss: 8.3555e-04 - val_weighted_auc: 0.8650\n",
      "Epoch 13/50\n",
      "\u001b[1m3008/3008\u001b[0m \u001b[32m━━━━━━━━━━━━━━━━━━━━\u001b[0m\u001b[37m\u001b[0m \u001b[1m10s\u001b[0m 3ms/step - auc: 0.8551 - loss: 7.9663e-04 - weighted_auc: 0.8601 - val_auc: 0.8574 - val_loss: 8.3463e-04 - val_weighted_auc: 0.8645\n",
      "Epoch 14/50\n",
      "\u001b[1m3008/3008\u001b[0m \u001b[32m━━━━━━━━━━━━━━━━━━━━\u001b[0m\u001b[37m\u001b[0m \u001b[1m10s\u001b[0m 3ms/step - auc: 0.8568 - loss: 7.9098e-04 - weighted_auc: 0.8618 - val_auc: 0.8589 - val_loss: 8.4168e-04 - val_weighted_auc: 0.8657\n",
      "Epoch 15/50\n",
      "\u001b[1m3008/3008\u001b[0m \u001b[32m━━━━━━━━━━━━━━━━━━━━\u001b[0m\u001b[37m\u001b[0m \u001b[1m9s\u001b[0m 3ms/step - auc: 0.8592 - loss: 7.8934e-04 - weighted_auc: 0.8645 - val_auc: 0.8555 - val_loss: 8.3440e-04 - val_weighted_auc: 0.8627\n",
      "Epoch 16/50\n",
      "\u001b[1m3008/3008\u001b[0m \u001b[32m━━━━━━━━━━━━━━━━━━━━\u001b[0m\u001b[37m\u001b[0m \u001b[1m10s\u001b[0m 3ms/step - auc: 0.8579 - loss: 7.9117e-04 - weighted_auc: 0.8634 - val_auc: 0.8605 - val_loss: 8.4108e-04 - val_weighted_auc: 0.8674\n",
      "Epoch 17/50\n",
      "\u001b[1m3008/3008\u001b[0m \u001b[32m━━━━━━━━━━━━━━━━━━━━\u001b[0m\u001b[37m\u001b[0m \u001b[1m10s\u001b[0m 3ms/step - auc: 0.8592 - loss: 7.8159e-04 - weighted_auc: 0.8655 - val_auc: 0.8598 - val_loss: 8.4060e-04 - val_weighted_auc: 0.8656\n",
      "Epoch 18/50\n",
      "\u001b[1m3008/3008\u001b[0m \u001b[32m━━━━━━━━━━━━━━━━━━━━\u001b[0m\u001b[37m\u001b[0m \u001b[1m10s\u001b[0m 3ms/step - auc: 0.8571 - loss: 7.8265e-04 - weighted_auc: 0.8624 - val_auc: 0.8550 - val_loss: 8.3988e-04 - val_weighted_auc: 0.8626\n",
      "Epoch 19/50\n",
      "\u001b[1m3008/3008\u001b[0m \u001b[32m━━━━━━━━━━━━━━━━━━━━\u001b[0m\u001b[37m\u001b[0m \u001b[1m10s\u001b[0m 3ms/step - auc: 0.8570 - loss: 7.8364e-04 - weighted_auc: 0.8646 - val_auc: 0.8582 - val_loss: 8.4332e-04 - val_weighted_auc: 0.8647\n",
      "Epoch 20/50\n",
      "\u001b[1m3008/3008\u001b[0m \u001b[32m━━━━━━━━━━━━━━━━━━━━\u001b[0m\u001b[37m\u001b[0m \u001b[1m9s\u001b[0m 3ms/step - auc: 0.8596 - loss: 7.8202e-04 - weighted_auc: 0.8668 - val_auc: 0.8535 - val_loss: 8.3646e-04 - val_weighted_auc: 0.8595\n",
      "Epoch 21/50\n",
      "\u001b[1m3008/3008\u001b[0m \u001b[32m━━━━━━━━━━━━━━━━━━━━\u001b[0m\u001b[37m\u001b[0m \u001b[1m10s\u001b[0m 3ms/step - auc: 0.8588 - loss: 7.7532e-04 - weighted_auc: 0.8652 - val_auc: 0.8599 - val_loss: 8.4422e-04 - val_weighted_auc: 0.8667\n",
      "\u001b[1m30935/30935\u001b[0m \u001b[32m━━━━━━━━━━━━━━━━━━━━\u001b[0m\u001b[37m\u001b[0m \u001b[1m20s\u001b[0m 638us/step\n",
      "\u001b[1m4297/4297\u001b[0m \u001b[32m━━━━━━━━━━━━━━━━━━━━\u001b[0m\u001b[37m\u001b[0m \u001b[1m5s\u001b[0m 1ms/step  \n"
     ]
    },
    {
     "data": {
      "text/html": [],
      "text/plain": [
       "<IPython.core.display.HTML object>"
      ]
     },
     "metadata": {},
     "output_type": "display_data"
    },
    {
     "data": {
      "text/html": [
       "<br>    <style><br>        .wandb-row {<br>            display: flex;<br>            flex-direction: row;<br>            flex-wrap: wrap;<br>            justify-content: flex-start;<br>            width: 100%;<br>        }<br>        .wandb-col {<br>            display: flex;<br>            flex-direction: column;<br>            flex-basis: 100%;<br>            flex: 1;<br>            padding: 10px;<br>        }<br>    </style><br><div class=\"wandb-row\"><div class=\"wandb-col\"><h3>Run history:</h3><br/><table class=\"wandb\"><tr><td>Acceptance</td><td>▁</td></tr><tr><td>Max S/sqrt(B)</td><td>▁</td></tr><tr><td>epoch/auc</td><td>▁▆▆▇▇▇▇▇▇▇███████████</td></tr><tr><td>epoch/epoch</td><td>▁▁▂▂▂▃▃▃▄▄▅▅▅▆▆▆▇▇▇██</td></tr><tr><td>epoch/learning_rate</td><td>▁▁▁▁▁▁▁▁▁▁▁▁▁▁▁▁▁▁▁▁▁</td></tr><tr><td>epoch/loss</td><td>█▁▁▁▁▁▁▁▁▁▁▁▁▁▁▁▁▁▁▁▁</td></tr><tr><td>epoch/val_auc</td><td>▁▃▁▄▆▇▇▇▅▇▇▇▇█▇██▇▇▆█</td></tr><tr><td>epoch/val_loss</td><td>█▅▄▃▂▃▂▂▁▁▂▁▁▂▁▂▂▂▂▁▂</td></tr><tr><td>epoch/val_weighted_auc</td><td>▂▃▁▄▅▇▇▇▄▇▇▇▇▇▇█▇▇▇▆█</td></tr><tr><td>epoch/weighted_auc</td><td>▁▆▆▇▇▇▇▇▇▇███████████</td></tr><tr><td>final_val_roc_auc</td><td>▁</td></tr><tr><td>nnScore cut</td><td>▁</td></tr></table><br/></div><div class=\"wandb-col\"><h3>Run summary:</h3><br/><table class=\"wandb\"><tr><td>Acceptance</td><td>0.4574</td></tr><tr><td>Max S/sqrt(B)</td><td>3.01615</td></tr><tr><td>epoch/auc</td><td>0.85823</td></tr><tr><td>epoch/epoch</td><td>20</td></tr><tr><td>epoch/learning_rate</td><td>8e-05</td></tr><tr><td>epoch/loss</td><td>0.00079</td></tr><tr><td>epoch/val_auc</td><td>0.85992</td></tr><tr><td>epoch/val_loss</td><td>0.00084</td></tr><tr><td>epoch/val_weighted_auc</td><td>0.86673</td></tr><tr><td>epoch/weighted_auc</td><td>0.86802</td></tr><tr><td>final_val_roc_auc</td><td>0.97706</td></tr><tr><td>nnScore cut</td><td>0.03</td></tr></table><br/></div></div>"
      ],
      "text/plain": [
       "<IPython.core.display.HTML object>"
      ]
     },
     "metadata": {},
     "output_type": "display_data"
    },
    {
     "data": {
      "text/html": [
       " View run <strong style=\"color:#cdcd00\">lunar-sweep-25</strong> at: <a href='https://wandb.ai/dlai211/tf-dnn-weighted-classifier/runs/khtcma67' target=\"_blank\">https://wandb.ai/dlai211/tf-dnn-weighted-classifier/runs/khtcma67</a><br> View project at: <a href='https://wandb.ai/dlai211/tf-dnn-weighted-classifier' target=\"_blank\">https://wandb.ai/dlai211/tf-dnn-weighted-classifier</a><br>Synced 5 W&B file(s), 1 media file(s), 0 artifact file(s) and 0 other file(s)"
      ],
      "text/plain": [
       "<IPython.core.display.HTML object>"
      ]
     },
     "metadata": {},
     "output_type": "display_data"
    },
    {
     "data": {
      "text/html": [
       "Find logs at: <code>./wandb/run-20250821_064200-khtcma67/logs</code>"
      ],
      "text/plain": [
       "<IPython.core.display.HTML object>"
      ]
     },
     "metadata": {},
     "output_type": "display_data"
    },
    {
     "name": "stderr",
     "output_type": "stream",
     "text": [
      "\u001b[34m\u001b[1mwandb\u001b[0m: Agent Starting Run: yyodmji8 with config:\n",
      "\u001b[34m\u001b[1mwandb\u001b[0m: \tbatch_size: 1024\n",
      "\u001b[34m\u001b[1mwandb\u001b[0m: \tdropout: 0.10622031642167112\n",
      "\u001b[34m\u001b[1mwandb\u001b[0m: \tepochs: 50\n",
      "\u001b[34m\u001b[1mwandb\u001b[0m: \tlayer_1: 64\n",
      "\u001b[34m\u001b[1mwandb\u001b[0m: \tlayer_2: 256\n",
      "\u001b[34m\u001b[1mwandb\u001b[0m: \tlayer_3: 2048\n",
      "\u001b[34m\u001b[1mwandb\u001b[0m: \tlayer_4: 128\n",
      "\u001b[34m\u001b[1mwandb\u001b[0m: \tlayer_5: 128\n",
      "\u001b[34m\u001b[1mwandb\u001b[0m: \tlr: 2.396431998994728e-05\n"
     ]
    },
    {
     "data": {
      "text/html": [
       "Ignoring project 'tf-dnn-weighted-classifier' when running a sweep."
      ],
      "text/plain": [
       "<IPython.core.display.HTML object>"
      ]
     },
     "metadata": {},
     "output_type": "display_data"
    },
    {
     "data": {
      "text/html": [
       "Tracking run with wandb version 0.21.0"
      ],
      "text/plain": [
       "<IPython.core.display.HTML object>"
      ]
     },
     "metadata": {},
     "output_type": "display_data"
    },
    {
     "data": {
      "text/html": [
       "Run data is saved locally in <code>/home/jlai/ML/jet_faking/wandb/run-20250821_064618-yyodmji8</code>"
      ],
      "text/plain": [
       "<IPython.core.display.HTML object>"
      ]
     },
     "metadata": {},
     "output_type": "display_data"
    },
    {
     "data": {
      "text/html": [
       "Syncing run <strong><a href='https://wandb.ai/dlai211/tf-dnn-weighted-classifier/runs/yyodmji8' target=\"_blank\">firm-sweep-26</a></strong> to <a href='https://wandb.ai/dlai211/tf-dnn-weighted-classifier' target=\"_blank\">Weights & Biases</a> (<a href='https://wandb.me/developer-guide' target=\"_blank\">docs</a>)<br>Sweep page: <a href='https://wandb.ai/dlai211/tf-dnn-weighted-classifier/sweeps/rg1dnn5u' target=\"_blank\">https://wandb.ai/dlai211/tf-dnn-weighted-classifier/sweeps/rg1dnn5u</a>"
      ],
      "text/plain": [
       "<IPython.core.display.HTML object>"
      ]
     },
     "metadata": {},
     "output_type": "display_data"
    },
    {
     "data": {
      "text/html": [
       " View project at <a href='https://wandb.ai/dlai211/tf-dnn-weighted-classifier' target=\"_blank\">https://wandb.ai/dlai211/tf-dnn-weighted-classifier</a>"
      ],
      "text/plain": [
       "<IPython.core.display.HTML object>"
      ]
     },
     "metadata": {},
     "output_type": "display_data"
    },
    {
     "data": {
      "text/html": [
       " View sweep at <a href='https://wandb.ai/dlai211/tf-dnn-weighted-classifier/sweeps/rg1dnn5u' target=\"_blank\">https://wandb.ai/dlai211/tf-dnn-weighted-classifier/sweeps/rg1dnn5u</a>"
      ],
      "text/plain": [
       "<IPython.core.display.HTML object>"
      ]
     },
     "metadata": {},
     "output_type": "display_data"
    },
    {
     "data": {
      "text/html": [
       " View run at <a href='https://wandb.ai/dlai211/tf-dnn-weighted-classifier/runs/yyodmji8' target=\"_blank\">https://wandb.ai/dlai211/tf-dnn-weighted-classifier/runs/yyodmji8</a>"
      ],
      "text/plain": [
       "<IPython.core.display.HTML object>"
      ]
     },
     "metadata": {},
     "output_type": "display_data"
    },
    {
     "name": "stderr",
     "output_type": "stream",
     "text": [
      "/home/jlai/.local/share/mamba/envs/tf-gpu/lib/python3.10/site-packages/keras/src/layers/core/dense.py:93: UserWarning: Do not pass an `input_shape`/`input_dim` argument to a layer. When using Sequential models, prefer using an `Input(shape)` object as the first layer in the model instead.\n",
      "  super().__init__(activity_regularizer=activity_regularizer, **kwargs)\n"
     ]
    },
    {
     "name": "stdout",
     "output_type": "stream",
     "text": [
      "Epoch 1/50\n",
      "\u001b[1m2256/2256\u001b[0m \u001b[32m━━━━━━━━━━━━━━━━━━━━\u001b[0m\u001b[37m\u001b[0m \u001b[1m15s\u001b[0m 5ms/step - auc: 0.4662 - loss: 0.0525 - weighted_auc: 0.5280 - val_auc: 0.5037 - val_loss: 0.0011 - val_weighted_auc: 0.5053\n",
      "Epoch 2/50\n",
      "\u001b[1m2256/2256\u001b[0m \u001b[32m━━━━━━━━━━━━━━━━━━━━\u001b[0m\u001b[37m\u001b[0m \u001b[1m7s\u001b[0m 3ms/step - auc: 0.5722 - loss: 0.0011 - weighted_auc: 0.5823 - val_auc: 0.7967 - val_loss: 9.2452e-04 - val_weighted_auc: 0.8127\n",
      "Epoch 3/50\n",
      "\u001b[1m2256/2256\u001b[0m \u001b[32m━━━━━━━━━━━━━━━━━━━━\u001b[0m\u001b[37m\u001b[0m \u001b[1m7s\u001b[0m 3ms/step - auc: 0.7637 - loss: 9.3405e-04 - weighted_auc: 0.7778 - val_auc: 0.8235 - val_loss: 9.0083e-04 - val_weighted_auc: 0.8385\n",
      "Epoch 4/50\n",
      "\u001b[1m2256/2256\u001b[0m \u001b[32m━━━━━━━━━━━━━━━━━━━━\u001b[0m\u001b[37m\u001b[0m \u001b[1m7s\u001b[0m 3ms/step - auc: 0.7883 - loss: 9.0599e-04 - weighted_auc: 0.7979 - val_auc: 0.8320 - val_loss: 8.8918e-04 - val_weighted_auc: 0.8462\n",
      "Epoch 5/50\n",
      "\u001b[1m2256/2256\u001b[0m \u001b[32m━━━━━━━━━━━━━━━━━━━━\u001b[0m\u001b[37m\u001b[0m \u001b[1m7s\u001b[0m 3ms/step - auc: 0.7991 - loss: 8.9366e-04 - weighted_auc: 0.8098 - val_auc: 0.8361 - val_loss: 8.8321e-04 - val_weighted_auc: 0.8503\n",
      "Epoch 6/50\n",
      "\u001b[1m2256/2256\u001b[0m \u001b[32m━━━━━━━━━━━━━━━━━━━━\u001b[0m\u001b[37m\u001b[0m \u001b[1m7s\u001b[0m 3ms/step - auc: 0.8021 - loss: 8.8530e-04 - weighted_auc: 0.8124 - val_auc: 0.8411 - val_loss: 8.8101e-04 - val_weighted_auc: 0.8549\n",
      "Epoch 7/50\n",
      "\u001b[1m2256/2256\u001b[0m \u001b[32m━━━━━━━━━━━━━━━━━━━━\u001b[0m\u001b[37m\u001b[0m \u001b[1m7s\u001b[0m 3ms/step - auc: 0.8101 - loss: 8.7863e-04 - weighted_auc: 0.8182 - val_auc: 0.8484 - val_loss: 8.7820e-04 - val_weighted_auc: 0.8616\n",
      "Epoch 8/50\n",
      "\u001b[1m2256/2256\u001b[0m \u001b[32m━━━━━━━━━━━━━━━━━━━━\u001b[0m\u001b[37m\u001b[0m \u001b[1m7s\u001b[0m 3ms/step - auc: 0.8169 - loss: 8.6937e-04 - weighted_auc: 0.8287 - val_auc: 0.8493 - val_loss: 8.7480e-04 - val_weighted_auc: 0.8618\n",
      "Epoch 9/50\n",
      "\u001b[1m2256/2256\u001b[0m \u001b[32m━━━━━━━━━━━━━━━━━━━━\u001b[0m\u001b[37m\u001b[0m \u001b[1m7s\u001b[0m 3ms/step - auc: 0.8164 - loss: 8.6281e-04 - weighted_auc: 0.8253 - val_auc: 0.8476 - val_loss: 8.7102e-04 - val_weighted_auc: 0.8596\n",
      "Epoch 10/50\n",
      "\u001b[1m2256/2256\u001b[0m \u001b[32m━━━━━━━━━━━━━━━━━━━━\u001b[0m\u001b[37m\u001b[0m \u001b[1m7s\u001b[0m 3ms/step - auc: 0.8153 - loss: 8.6213e-04 - weighted_auc: 0.8233 - val_auc: 0.8511 - val_loss: 8.7011e-04 - val_weighted_auc: 0.8625\n",
      "Epoch 11/50\n",
      "\u001b[1m2256/2256\u001b[0m \u001b[32m━━━━━━━━━━━━━━━━━━━━\u001b[0m\u001b[37m\u001b[0m \u001b[1m7s\u001b[0m 3ms/step - auc: 0.8291 - loss: 8.5610e-04 - weighted_auc: 0.8366 - val_auc: 0.8527 - val_loss: 8.7025e-04 - val_weighted_auc: 0.8636\n",
      "Epoch 12/50\n",
      "\u001b[1m2256/2256\u001b[0m \u001b[32m━━━━━━━━━━━━━━━━━━━━\u001b[0m\u001b[37m\u001b[0m \u001b[1m7s\u001b[0m 3ms/step - auc: 0.8237 - loss: 8.5633e-04 - weighted_auc: 0.8312 - val_auc: 0.8563 - val_loss: 8.6838e-04 - val_weighted_auc: 0.8671\n",
      "Epoch 13/50\n",
      "\u001b[1m2256/2256\u001b[0m \u001b[32m━━━━━━━━━━━━━━━━━━━━\u001b[0m\u001b[37m\u001b[0m \u001b[1m7s\u001b[0m 3ms/step - auc: 0.8334 - loss: 8.4677e-04 - weighted_auc: 0.8414 - val_auc: 0.8499 - val_loss: 8.5964e-04 - val_weighted_auc: 0.8600\n",
      "Epoch 14/50\n",
      "\u001b[1m2256/2256\u001b[0m \u001b[32m━━━━━━━━━━━━━━━━━━━━\u001b[0m\u001b[37m\u001b[0m \u001b[1m7s\u001b[0m 3ms/step - auc: 0.8252 - loss: 8.4835e-04 - weighted_auc: 0.8330 - val_auc: 0.8582 - val_loss: 8.7249e-04 - val_weighted_auc: 0.8695\n",
      "Epoch 15/50\n",
      "\u001b[1m2256/2256\u001b[0m \u001b[32m━━━━━━━━━━━━━━━━━━━━\u001b[0m\u001b[37m\u001b[0m \u001b[1m7s\u001b[0m 3ms/step - auc: 0.8335 - loss: 8.3951e-04 - weighted_auc: 0.8424 - val_auc: 0.8522 - val_loss: 8.5849e-04 - val_weighted_auc: 0.8619\n",
      "Epoch 16/50\n",
      "\u001b[1m2256/2256\u001b[0m \u001b[32m━━━━━━━━━━━━━━━━━━━━\u001b[0m\u001b[37m\u001b[0m \u001b[1m7s\u001b[0m 3ms/step - auc: 0.8348 - loss: 8.3507e-04 - weighted_auc: 0.8451 - val_auc: 0.8483 - val_loss: 8.5498e-04 - val_weighted_auc: 0.8575\n",
      "Epoch 17/50\n",
      "\u001b[1m2256/2256\u001b[0m \u001b[32m━━━━━━━━━━━━━━━━━━━━\u001b[0m\u001b[37m\u001b[0m \u001b[1m7s\u001b[0m 3ms/step - auc: 0.8349 - loss: 8.3433e-04 - weighted_auc: 0.8434 - val_auc: 0.8585 - val_loss: 8.6597e-04 - val_weighted_auc: 0.8682\n",
      "Epoch 18/50\n",
      "\u001b[1m2256/2256\u001b[0m \u001b[32m━━━━━━━━━━━━━━━━━━━━\u001b[0m\u001b[37m\u001b[0m \u001b[1m7s\u001b[0m 3ms/step - auc: 0.8419 - loss: 8.3608e-04 - weighted_auc: 0.8492 - val_auc: 0.8531 - val_loss: 8.5799e-04 - val_weighted_auc: 0.8620\n",
      "Epoch 19/50\n",
      "\u001b[1m2256/2256\u001b[0m \u001b[32m━━━━━━━━━━━━━━━━━━━━\u001b[0m\u001b[37m\u001b[0m \u001b[1m7s\u001b[0m 3ms/step - auc: 0.8342 - loss: 8.3104e-04 - weighted_auc: 0.8446 - val_auc: 0.8551 - val_loss: 8.5518e-04 - val_weighted_auc: 0.8646\n",
      "\u001b[1m30935/30935\u001b[0m \u001b[32m━━━━━━━━━━━━━━━━━━━━\u001b[0m\u001b[37m\u001b[0m \u001b[1m21s\u001b[0m 659us/step\n",
      "\u001b[1m3223/3223\u001b[0m \u001b[32m━━━━━━━━━━━━━━━━━━━━\u001b[0m\u001b[37m\u001b[0m \u001b[1m3s\u001b[0m 989us/step\n"
     ]
    },
    {
     "data": {
      "text/html": [],
      "text/plain": [
       "<IPython.core.display.HTML object>"
      ]
     },
     "metadata": {},
     "output_type": "display_data"
    },
    {
     "data": {
      "text/html": [
       "<br>    <style><br>        .wandb-row {<br>            display: flex;<br>            flex-direction: row;<br>            flex-wrap: wrap;<br>            justify-content: flex-start;<br>            width: 100%;<br>        }<br>        .wandb-col {<br>            display: flex;<br>            flex-direction: column;<br>            flex-basis: 100%;<br>            flex: 1;<br>            padding: 10px;<br>        }<br>    </style><br><div class=\"wandb-row\"><div class=\"wandb-col\"><h3>Run history:</h3><br/><table class=\"wandb\"><tr><td>Acceptance</td><td>▁</td></tr><tr><td>Max S/sqrt(B)</td><td>▁</td></tr><tr><td>epoch/auc</td><td>▁▄▇▇▇▇█████████████</td></tr><tr><td>epoch/epoch</td><td>▁▁▂▂▃▃▃▄▄▅▅▅▆▆▆▇▇██</td></tr><tr><td>epoch/learning_rate</td><td>▁▁▁▁▁▁▁▁▁▁▁▁▁▁▁▁▁▁▁</td></tr><tr><td>epoch/loss</td><td>█▁▁▁▁▁▁▁▁▁▁▁▁▁▁▁▁▁▁</td></tr><tr><td>epoch/val_auc</td><td>▁▇▇▇███████████████</td></tr><tr><td>epoch/val_loss</td><td>█▃▂▂▂▂▂▂▁▁▁▁▁▁▁▁▁▁▁</td></tr><tr><td>epoch/val_weighted_auc</td><td>▁▇▇████████████████</td></tr><tr><td>epoch/weighted_auc</td><td>▁▄▇▇▇▇▇████████████</td></tr><tr><td>final_val_roc_auc</td><td>▁</td></tr><tr><td>nnScore cut</td><td>▁</td></tr></table><br/></div><div class=\"wandb-col\"><h3>Run summary:</h3><br/><table class=\"wandb\"><tr><td>Acceptance</td><td>0.50755</td></tr><tr><td>Max S/sqrt(B)</td><td>3.11598</td></tr><tr><td>epoch/auc</td><td>0.8293</td></tr><tr><td>epoch/epoch</td><td>18</td></tr><tr><td>epoch/learning_rate</td><td>2e-05</td></tr><tr><td>epoch/loss</td><td>0.00085</td></tr><tr><td>epoch/val_auc</td><td>0.85507</td></tr><tr><td>epoch/val_loss</td><td>0.00086</td></tr><tr><td>epoch/val_weighted_auc</td><td>0.86462</td></tr><tr><td>epoch/weighted_auc</td><td>0.84173</td></tr><tr><td>final_val_roc_auc</td><td>0.97236</td></tr><tr><td>nnScore cut</td><td>0.03</td></tr></table><br/></div></div>"
      ],
      "text/plain": [
       "<IPython.core.display.HTML object>"
      ]
     },
     "metadata": {},
     "output_type": "display_data"
    },
    {
     "data": {
      "text/html": [
       " View run <strong style=\"color:#cdcd00\">firm-sweep-26</strong> at: <a href='https://wandb.ai/dlai211/tf-dnn-weighted-classifier/runs/yyodmji8' target=\"_blank\">https://wandb.ai/dlai211/tf-dnn-weighted-classifier/runs/yyodmji8</a><br> View project at: <a href='https://wandb.ai/dlai211/tf-dnn-weighted-classifier' target=\"_blank\">https://wandb.ai/dlai211/tf-dnn-weighted-classifier</a><br>Synced 5 W&B file(s), 1 media file(s), 0 artifact file(s) and 0 other file(s)"
      ],
      "text/plain": [
       "<IPython.core.display.HTML object>"
      ]
     },
     "metadata": {},
     "output_type": "display_data"
    },
    {
     "data": {
      "text/html": [
       "Find logs at: <code>./wandb/run-20250821_064618-yyodmji8/logs</code>"
      ],
      "text/plain": [
       "<IPython.core.display.HTML object>"
      ]
     },
     "metadata": {},
     "output_type": "display_data"
    },
    {
     "name": "stderr",
     "output_type": "stream",
     "text": [
      "\u001b[34m\u001b[1mwandb\u001b[0m: Agent Starting Run: cx19bier with config:\n",
      "\u001b[34m\u001b[1mwandb\u001b[0m: \tbatch_size: 1024\n",
      "\u001b[34m\u001b[1mwandb\u001b[0m: \tdropout: 0.18345728501086145\n",
      "\u001b[34m\u001b[1mwandb\u001b[0m: \tepochs: 50\n",
      "\u001b[34m\u001b[1mwandb\u001b[0m: \tlayer_1: 256\n",
      "\u001b[34m\u001b[1mwandb\u001b[0m: \tlayer_2: 512\n",
      "\u001b[34m\u001b[1mwandb\u001b[0m: \tlayer_3: 1536\n",
      "\u001b[34m\u001b[1mwandb\u001b[0m: \tlayer_4: 128\n",
      "\u001b[34m\u001b[1mwandb\u001b[0m: \tlayer_5: 128\n",
      "\u001b[34m\u001b[1mwandb\u001b[0m: \tlr: 0.0008686180189556678\n"
     ]
    },
    {
     "data": {
      "text/html": [
       "Ignoring project 'tf-dnn-weighted-classifier' when running a sweep."
      ],
      "text/plain": [
       "<IPython.core.display.HTML object>"
      ]
     },
     "metadata": {},
     "output_type": "display_data"
    },
    {
     "data": {
      "text/html": [
       "Tracking run with wandb version 0.21.0"
      ],
      "text/plain": [
       "<IPython.core.display.HTML object>"
      ]
     },
     "metadata": {},
     "output_type": "display_data"
    },
    {
     "data": {
      "text/html": [
       "Run data is saved locally in <code>/home/jlai/ML/jet_faking/wandb/run-20250821_064925-cx19bier</code>"
      ],
      "text/plain": [
       "<IPython.core.display.HTML object>"
      ]
     },
     "metadata": {},
     "output_type": "display_data"
    },
    {
     "data": {
      "text/html": [
       "Syncing run <strong><a href='https://wandb.ai/dlai211/tf-dnn-weighted-classifier/runs/cx19bier' target=\"_blank\">smooth-sweep-27</a></strong> to <a href='https://wandb.ai/dlai211/tf-dnn-weighted-classifier' target=\"_blank\">Weights & Biases</a> (<a href='https://wandb.me/developer-guide' target=\"_blank\">docs</a>)<br>Sweep page: <a href='https://wandb.ai/dlai211/tf-dnn-weighted-classifier/sweeps/rg1dnn5u' target=\"_blank\">https://wandb.ai/dlai211/tf-dnn-weighted-classifier/sweeps/rg1dnn5u</a>"
      ],
      "text/plain": [
       "<IPython.core.display.HTML object>"
      ]
     },
     "metadata": {},
     "output_type": "display_data"
    },
    {
     "data": {
      "text/html": [
       " View project at <a href='https://wandb.ai/dlai211/tf-dnn-weighted-classifier' target=\"_blank\">https://wandb.ai/dlai211/tf-dnn-weighted-classifier</a>"
      ],
      "text/plain": [
       "<IPython.core.display.HTML object>"
      ]
     },
     "metadata": {},
     "output_type": "display_data"
    },
    {
     "data": {
      "text/html": [
       " View sweep at <a href='https://wandb.ai/dlai211/tf-dnn-weighted-classifier/sweeps/rg1dnn5u' target=\"_blank\">https://wandb.ai/dlai211/tf-dnn-weighted-classifier/sweeps/rg1dnn5u</a>"
      ],
      "text/plain": [
       "<IPython.core.display.HTML object>"
      ]
     },
     "metadata": {},
     "output_type": "display_data"
    },
    {
     "data": {
      "text/html": [
       " View run at <a href='https://wandb.ai/dlai211/tf-dnn-weighted-classifier/runs/cx19bier' target=\"_blank\">https://wandb.ai/dlai211/tf-dnn-weighted-classifier/runs/cx19bier</a>"
      ],
      "text/plain": [
       "<IPython.core.display.HTML object>"
      ]
     },
     "metadata": {},
     "output_type": "display_data"
    },
    {
     "name": "stderr",
     "output_type": "stream",
     "text": [
      "/home/jlai/.local/share/mamba/envs/tf-gpu/lib/python3.10/site-packages/keras/src/layers/core/dense.py:93: UserWarning: Do not pass an `input_shape`/`input_dim` argument to a layer. When using Sequential models, prefer using an `Input(shape)` object as the first layer in the model instead.\n",
      "  super().__init__(activity_regularizer=activity_regularizer, **kwargs)\n"
     ]
    },
    {
     "name": "stdout",
     "output_type": "stream",
     "text": [
      "Epoch 1/50\n",
      "\u001b[1m2256/2256\u001b[0m \u001b[32m━━━━━━━━━━━━━━━━━━━━\u001b[0m\u001b[37m\u001b[0m \u001b[1m16s\u001b[0m 5ms/step - auc: 0.7182 - loss: 0.0046 - weighted_auc: 0.7310 - val_auc: 0.7692 - val_loss: 8.8735e-04 - val_weighted_auc: 0.7772\n",
      "Epoch 2/50\n",
      "\u001b[1m2256/2256\u001b[0m \u001b[32m━━━━━━━━━━━━━━━━━━━━\u001b[0m\u001b[37m\u001b[0m \u001b[1m7s\u001b[0m 3ms/step - auc: 0.8079 - loss: 8.9067e-04 - weighted_auc: 0.8183 - val_auc: 0.6961 - val_loss: 9.8666e-04 - val_weighted_auc: 0.6985\n",
      "Epoch 3/50\n",
      "\u001b[1m2256/2256\u001b[0m \u001b[32m━━━━━━━━━━━━━━━━━━━━\u001b[0m\u001b[37m\u001b[0m \u001b[1m7s\u001b[0m 3ms/step - auc: 0.8121 - loss: 8.8922e-04 - weighted_auc: 0.8195 - val_auc: 0.7380 - val_loss: 9.7622e-04 - val_weighted_auc: 0.7423\n",
      "Epoch 4/50\n",
      "\u001b[1m2256/2256\u001b[0m \u001b[32m━━━━━━━━━━━━━━━━━━━━\u001b[0m\u001b[37m\u001b[0m \u001b[1m7s\u001b[0m 3ms/step - auc: 0.8294 - loss: 8.6546e-04 - weighted_auc: 0.8372 - val_auc: 0.7878 - val_loss: 8.9503e-04 - val_weighted_auc: 0.7942\n",
      "Epoch 5/50\n",
      "\u001b[1m2256/2256\u001b[0m \u001b[32m━━━━━━━━━━━━━━━━━━━━\u001b[0m\u001b[37m\u001b[0m \u001b[1m7s\u001b[0m 3ms/step - auc: 0.8328 - loss: 8.6200e-04 - weighted_auc: 0.8396 - val_auc: 0.7994 - val_loss: 8.6848e-04 - val_weighted_auc: 0.8060\n",
      "Epoch 6/50\n",
      "\u001b[1m2256/2256\u001b[0m \u001b[32m━━━━━━━━━━━━━━━━━━━━\u001b[0m\u001b[37m\u001b[0m \u001b[1m7s\u001b[0m 3ms/step - auc: 0.8447 - loss: 8.4615e-04 - weighted_auc: 0.8517 - val_auc: 0.8053 - val_loss: 8.6027e-04 - val_weighted_auc: 0.8107\n",
      "Epoch 7/50\n",
      "\u001b[1m2256/2256\u001b[0m \u001b[32m━━━━━━━━━━━━━━━━━━━━\u001b[0m\u001b[37m\u001b[0m \u001b[1m7s\u001b[0m 3ms/step - auc: 0.8404 - loss: 8.4263e-04 - weighted_auc: 0.8481 - val_auc: 0.7984 - val_loss: 8.6445e-04 - val_weighted_auc: 0.8033\n",
      "Epoch 8/50\n",
      "\u001b[1m2256/2256\u001b[0m \u001b[32m━━━━━━━━━━━━━━━━━━━━\u001b[0m\u001b[37m\u001b[0m \u001b[1m7s\u001b[0m 3ms/step - auc: 0.8460 - loss: 8.3636e-04 - weighted_auc: 0.8520 - val_auc: 0.8020 - val_loss: 8.5540e-04 - val_weighted_auc: 0.8073\n",
      "Epoch 9/50\n",
      "\u001b[1m2256/2256\u001b[0m \u001b[32m━━━━━━━━━━━━━━━━━━━━\u001b[0m\u001b[37m\u001b[0m \u001b[1m7s\u001b[0m 3ms/step - auc: 0.8454 - loss: 8.3127e-04 - weighted_auc: 0.8533 - val_auc: 0.7938 - val_loss: 8.5983e-04 - val_weighted_auc: 0.7996\n",
      "Epoch 10/50\n",
      "\u001b[1m2256/2256\u001b[0m \u001b[32m━━━━━━━━━━━━━━━━━━━━\u001b[0m\u001b[37m\u001b[0m \u001b[1m7s\u001b[0m 3ms/step - auc: 0.8394 - loss: 8.3294e-04 - weighted_auc: 0.8463 - val_auc: 0.8104 - val_loss: 8.4869e-04 - val_weighted_auc: 0.8129\n",
      "Epoch 11/50\n",
      "\u001b[1m2256/2256\u001b[0m \u001b[32m━━━━━━━━━━━━━━━━━━━━\u001b[0m\u001b[37m\u001b[0m \u001b[1m7s\u001b[0m 3ms/step - auc: 0.8449 - loss: 8.2747e-04 - weighted_auc: 0.8491 - val_auc: 0.8149 - val_loss: 8.4610e-04 - val_weighted_auc: 0.8200\n",
      "Epoch 12/50\n",
      "\u001b[1m2256/2256\u001b[0m \u001b[32m━━━━━━━━━━━━━━━━━━━━\u001b[0m\u001b[37m\u001b[0m \u001b[1m7s\u001b[0m 3ms/step - auc: 0.8517 - loss: 8.1653e-04 - weighted_auc: 0.8575 - val_auc: 0.8163 - val_loss: 8.4255e-04 - val_weighted_auc: 0.8205\n",
      "Epoch 13/50\n",
      "\u001b[1m2256/2256\u001b[0m \u001b[32m━━━━━━━━━━━━━━━━━━━━\u001b[0m\u001b[37m\u001b[0m \u001b[1m7s\u001b[0m 3ms/step - auc: 0.8506 - loss: 8.2343e-04 - weighted_auc: 0.8563 - val_auc: 0.7956 - val_loss: 8.5129e-04 - val_weighted_auc: 0.8010\n",
      "Epoch 14/50\n",
      "\u001b[1m2256/2256\u001b[0m \u001b[32m━━━━━━━━━━━━━━━━━━━━\u001b[0m\u001b[37m\u001b[0m \u001b[1m7s\u001b[0m 3ms/step - auc: 0.8443 - loss: 8.1940e-04 - weighted_auc: 0.8513 - val_auc: 0.8122 - val_loss: 8.3980e-04 - val_weighted_auc: 0.8166\n",
      "Epoch 15/50\n",
      "\u001b[1m2256/2256\u001b[0m \u001b[32m━━━━━━━━━━━━━━━━━━━━\u001b[0m\u001b[37m\u001b[0m \u001b[1m7s\u001b[0m 3ms/step - auc: 0.8466 - loss: 8.1764e-04 - weighted_auc: 0.8533 - val_auc: 0.7902 - val_loss: 8.4718e-04 - val_weighted_auc: 0.7946\n",
      "Epoch 16/50\n",
      "\u001b[1m2256/2256\u001b[0m \u001b[32m━━━━━━━━━━━━━━━━━━━━\u001b[0m\u001b[37m\u001b[0m \u001b[1m7s\u001b[0m 3ms/step - auc: 0.8434 - loss: 8.1743e-04 - weighted_auc: 0.8484 - val_auc: 0.8136 - val_loss: 8.3773e-04 - val_weighted_auc: 0.8184\n",
      "Epoch 17/50\n",
      "\u001b[1m2256/2256\u001b[0m \u001b[32m━━━━━━━━━━━━━━━━━━━━\u001b[0m\u001b[37m\u001b[0m \u001b[1m7s\u001b[0m 3ms/step - auc: 0.8482 - loss: 8.1158e-04 - weighted_auc: 0.8555 - val_auc: 0.8136 - val_loss: 8.4122e-04 - val_weighted_auc: 0.8205\n",
      "Epoch 18/50\n",
      "\u001b[1m2256/2256\u001b[0m \u001b[32m━━━━━━━━━━━━━━━━━━━━\u001b[0m\u001b[37m\u001b[0m \u001b[1m7s\u001b[0m 3ms/step - auc: 0.8504 - loss: 8.0984e-04 - weighted_auc: 0.8581 - val_auc: 0.8233 - val_loss: 8.3594e-04 - val_weighted_auc: 0.8299\n",
      "Epoch 19/50\n",
      "\u001b[1m2256/2256\u001b[0m \u001b[32m━━━━━━━━━━━━━━━━━━━━\u001b[0m\u001b[37m\u001b[0m \u001b[1m7s\u001b[0m 3ms/step - auc: 0.8506 - loss: 8.0613e-04 - weighted_auc: 0.8559 - val_auc: 0.8234 - val_loss: 8.3853e-04 - val_weighted_auc: 0.8298\n",
      "Epoch 20/50\n",
      "\u001b[1m2256/2256\u001b[0m \u001b[32m━━━━━━━━━━━━━━━━━━━━\u001b[0m\u001b[37m\u001b[0m \u001b[1m7s\u001b[0m 3ms/step - auc: 0.8485 - loss: 8.1015e-04 - weighted_auc: 0.8556 - val_auc: 0.8211 - val_loss: 8.3863e-04 - val_weighted_auc: 0.8247\n",
      "Epoch 21/50\n",
      "\u001b[1m2256/2256\u001b[0m \u001b[32m━━━━━━━━━━━━━━━━━━━━\u001b[0m\u001b[37m\u001b[0m \u001b[1m7s\u001b[0m 3ms/step - auc: 0.8486 - loss: 8.0776e-04 - weighted_auc: 0.8565 - val_auc: 0.8119 - val_loss: 8.3724e-04 - val_weighted_auc: 0.8175\n",
      "Epoch 22/50\n",
      "\u001b[1m2256/2256\u001b[0m \u001b[32m━━━━━━━━━━━━━━━━━━━━\u001b[0m\u001b[37m\u001b[0m \u001b[1m7s\u001b[0m 3ms/step - auc: 0.8484 - loss: 8.0351e-04 - weighted_auc: 0.8555 - val_auc: 0.8219 - val_loss: 8.3574e-04 - val_weighted_auc: 0.8285\n",
      "Epoch 23/50\n",
      "\u001b[1m2256/2256\u001b[0m \u001b[32m━━━━━━━━━━━━━━━━━━━━\u001b[0m\u001b[37m\u001b[0m \u001b[1m7s\u001b[0m 3ms/step - auc: 0.8494 - loss: 8.0587e-04 - weighted_auc: 0.8555 - val_auc: 0.8360 - val_loss: 8.3176e-04 - val_weighted_auc: 0.8403\n",
      "Epoch 24/50\n",
      "\u001b[1m2256/2256\u001b[0m \u001b[32m━━━━━━━━━━━━━━━━━━━━\u001b[0m\u001b[37m\u001b[0m \u001b[1m7s\u001b[0m 3ms/step - auc: 0.8540 - loss: 7.9931e-04 - weighted_auc: 0.8601 - val_auc: 0.8273 - val_loss: 8.4853e-04 - val_weighted_auc: 0.8332\n",
      "Epoch 25/50\n",
      "\u001b[1m2256/2256\u001b[0m \u001b[32m━━━━━━━━━━━━━━━━━━━━\u001b[0m\u001b[37m\u001b[0m \u001b[1m7s\u001b[0m 3ms/step - auc: 0.8528 - loss: 7.9662e-04 - weighted_auc: 0.8622 - val_auc: 0.8121 - val_loss: 8.4761e-04 - val_weighted_auc: 0.8159\n",
      "Epoch 26/50\n",
      "\u001b[1m2256/2256\u001b[0m \u001b[32m━━━━━━━━━━━━━━━━━━━━\u001b[0m\u001b[37m\u001b[0m \u001b[1m7s\u001b[0m 3ms/step - auc: 0.8506 - loss: 8.0086e-04 - weighted_auc: 0.8563 - val_auc: 0.8332 - val_loss: 8.3573e-04 - val_weighted_auc: 0.8394\n",
      "Epoch 27/50\n",
      "\u001b[1m2256/2256\u001b[0m \u001b[32m━━━━━━━━━━━━━━━━━━━━\u001b[0m\u001b[37m\u001b[0m \u001b[1m7s\u001b[0m 3ms/step - auc: 0.8585 - loss: 7.9803e-04 - weighted_auc: 0.8647 - val_auc: 0.7953 - val_loss: 8.5641e-04 - val_weighted_auc: 0.7994\n",
      "Epoch 28/50\n",
      "\u001b[1m2256/2256\u001b[0m \u001b[32m━━━━━━━━━━━━━━━━━━━━\u001b[0m\u001b[37m\u001b[0m \u001b[1m7s\u001b[0m 3ms/step - auc: 0.8549 - loss: 7.9579e-04 - weighted_auc: 0.8620 - val_auc: 0.8298 - val_loss: 8.5125e-04 - val_weighted_auc: 0.8335\n",
      "\u001b[1m30935/30935\u001b[0m \u001b[32m━━━━━━━━━━━━━━━━━━━━\u001b[0m\u001b[37m\u001b[0m \u001b[1m21s\u001b[0m 673us/step\n",
      "\u001b[1m3223/3223\u001b[0m \u001b[32m━━━━━━━━━━━━━━━━━━━━\u001b[0m\u001b[37m\u001b[0m \u001b[1m4s\u001b[0m 1ms/step\n"
     ]
    },
    {
     "data": {
      "text/html": [],
      "text/plain": [
       "<IPython.core.display.HTML object>"
      ]
     },
     "metadata": {},
     "output_type": "display_data"
    },
    {
     "data": {
      "text/html": [
       "<br>    <style><br>        .wandb-row {<br>            display: flex;<br>            flex-direction: row;<br>            flex-wrap: wrap;<br>            justify-content: flex-start;<br>            width: 100%;<br>        }<br>        .wandb-col {<br>            display: flex;<br>            flex-direction: column;<br>            flex-basis: 100%;<br>            flex: 1;<br>            padding: 10px;<br>        }<br>    </style><br><div class=\"wandb-row\"><div class=\"wandb-col\"><h3>Run history:</h3><br/><table class=\"wandb\"><tr><td>Acceptance</td><td>▁</td></tr><tr><td>Max S/sqrt(B)</td><td>▁</td></tr><tr><td>epoch/auc</td><td>▁▄▅▆▇▇▇▇▇▇▇▇▇▇▇▇▇▇▇▇▇███████</td></tr><tr><td>epoch/epoch</td><td>▁▁▂▂▂▂▃▃▃▃▄▄▄▄▅▅▅▅▆▆▆▆▇▇▇▇██</td></tr><tr><td>epoch/learning_rate</td><td>▁▁▁▁▁▁▁▁▁▁▁▁▁▁▁▁▁▁▁▁▁▁▁▁▁▁▁▁</td></tr><tr><td>epoch/loss</td><td>█▂▂▂▂▂▂▁▁▁▁▁▁▁▁▁▁▁▁▁▁▁▁▁▁▁▁▁</td></tr><tr><td>epoch/val_auc</td><td>▅▁▃▆▆▆▆▆▆▇▇▇▆▇▆▇▇▇▇▇▇▇██▇█▆█</td></tr><tr><td>epoch/val_loss</td><td>▄██▄▃▂▂▂▂▂▂▁▂▁▂▁▁▁▁▁▁▁▁▂▂▁▂▂</td></tr><tr><td>epoch/val_weighted_auc</td><td>▅▁▃▆▆▇▆▆▆▇▇▇▆▇▆▇▇▇▇▇▇▇██▇█▆█</td></tr><tr><td>epoch/weighted_auc</td><td>▁▄▅▆▇▇▇▇▇▇▇▇▇▇▇▇▇▇▇▇▇▇██████</td></tr><tr><td>final_val_roc_auc</td><td>▁</td></tr><tr><td>nnScore cut</td><td>▁</td></tr></table><br/></div><div class=\"wandb-col\"><h3>Run summary:</h3><br/><table class=\"wandb\"><tr><td>Acceptance</td><td>0.57314</td></tr><tr><td>Max S/sqrt(B)</td><td>2.69265</td></tr><tr><td>epoch/auc</td><td>0.8523</td></tr><tr><td>epoch/epoch</td><td>27</td></tr><tr><td>epoch/learning_rate</td><td>0.00087</td></tr><tr><td>epoch/loss</td><td>0.00081</td></tr><tr><td>epoch/val_auc</td><td>0.82978</td></tr><tr><td>epoch/val_loss</td><td>0.00085</td></tr><tr><td>epoch/val_weighted_auc</td><td>0.83346</td></tr><tr><td>epoch/weighted_auc</td><td>0.86277</td></tr><tr><td>final_val_roc_auc</td><td>0.97577</td></tr><tr><td>nnScore cut</td><td>0.02</td></tr></table><br/></div></div>"
      ],
      "text/plain": [
       "<IPython.core.display.HTML object>"
      ]
     },
     "metadata": {},
     "output_type": "display_data"
    },
    {
     "data": {
      "text/html": [
       " View run <strong style=\"color:#cdcd00\">smooth-sweep-27</strong> at: <a href='https://wandb.ai/dlai211/tf-dnn-weighted-classifier/runs/cx19bier' target=\"_blank\">https://wandb.ai/dlai211/tf-dnn-weighted-classifier/runs/cx19bier</a><br> View project at: <a href='https://wandb.ai/dlai211/tf-dnn-weighted-classifier' target=\"_blank\">https://wandb.ai/dlai211/tf-dnn-weighted-classifier</a><br>Synced 5 W&B file(s), 1 media file(s), 0 artifact file(s) and 0 other file(s)"
      ],
      "text/plain": [
       "<IPython.core.display.HTML object>"
      ]
     },
     "metadata": {},
     "output_type": "display_data"
    },
    {
     "data": {
      "text/html": [
       "Find logs at: <code>./wandb/run-20250821_064925-cx19bier/logs</code>"
      ],
      "text/plain": [
       "<IPython.core.display.HTML object>"
      ]
     },
     "metadata": {},
     "output_type": "display_data"
    },
    {
     "name": "stderr",
     "output_type": "stream",
     "text": [
      "\u001b[34m\u001b[1mwandb\u001b[0m: Agent Starting Run: 2ib8nly6 with config:\n",
      "\u001b[34m\u001b[1mwandb\u001b[0m: \tbatch_size: 768\n",
      "\u001b[34m\u001b[1mwandb\u001b[0m: \tdropout: 0.1095024426264356\n",
      "\u001b[34m\u001b[1mwandb\u001b[0m: \tepochs: 50\n",
      "\u001b[34m\u001b[1mwandb\u001b[0m: \tlayer_1: 256\n",
      "\u001b[34m\u001b[1mwandb\u001b[0m: \tlayer_2: 384\n",
      "\u001b[34m\u001b[1mwandb\u001b[0m: \tlayer_3: 2048\n",
      "\u001b[34m\u001b[1mwandb\u001b[0m: \tlayer_4: 256\n",
      "\u001b[34m\u001b[1mwandb\u001b[0m: \tlayer_5: 128\n",
      "\u001b[34m\u001b[1mwandb\u001b[0m: \tlr: 0.00017824136694638917\n"
     ]
    },
    {
     "data": {
      "text/html": [
       "Ignoring project 'tf-dnn-weighted-classifier' when running a sweep."
      ],
      "text/plain": [
       "<IPython.core.display.HTML object>"
      ]
     },
     "metadata": {},
     "output_type": "display_data"
    },
    {
     "data": {
      "text/html": [
       "Tracking run with wandb version 0.21.0"
      ],
      "text/plain": [
       "<IPython.core.display.HTML object>"
      ]
     },
     "metadata": {},
     "output_type": "display_data"
    },
    {
     "data": {
      "text/html": [
       "Run data is saved locally in <code>/home/jlai/ML/jet_faking/wandb/run-20250821_065338-2ib8nly6</code>"
      ],
      "text/plain": [
       "<IPython.core.display.HTML object>"
      ]
     },
     "metadata": {},
     "output_type": "display_data"
    },
    {
     "data": {
      "text/html": [
       "Syncing run <strong><a href='https://wandb.ai/dlai211/tf-dnn-weighted-classifier/runs/2ib8nly6' target=\"_blank\">fluent-sweep-28</a></strong> to <a href='https://wandb.ai/dlai211/tf-dnn-weighted-classifier' target=\"_blank\">Weights & Biases</a> (<a href='https://wandb.me/developer-guide' target=\"_blank\">docs</a>)<br>Sweep page: <a href='https://wandb.ai/dlai211/tf-dnn-weighted-classifier/sweeps/rg1dnn5u' target=\"_blank\">https://wandb.ai/dlai211/tf-dnn-weighted-classifier/sweeps/rg1dnn5u</a>"
      ],
      "text/plain": [
       "<IPython.core.display.HTML object>"
      ]
     },
     "metadata": {},
     "output_type": "display_data"
    },
    {
     "data": {
      "text/html": [
       " View project at <a href='https://wandb.ai/dlai211/tf-dnn-weighted-classifier' target=\"_blank\">https://wandb.ai/dlai211/tf-dnn-weighted-classifier</a>"
      ],
      "text/plain": [
       "<IPython.core.display.HTML object>"
      ]
     },
     "metadata": {},
     "output_type": "display_data"
    },
    {
     "data": {
      "text/html": [
       " View sweep at <a href='https://wandb.ai/dlai211/tf-dnn-weighted-classifier/sweeps/rg1dnn5u' target=\"_blank\">https://wandb.ai/dlai211/tf-dnn-weighted-classifier/sweeps/rg1dnn5u</a>"
      ],
      "text/plain": [
       "<IPython.core.display.HTML object>"
      ]
     },
     "metadata": {},
     "output_type": "display_data"
    },
    {
     "data": {
      "text/html": [
       " View run at <a href='https://wandb.ai/dlai211/tf-dnn-weighted-classifier/runs/2ib8nly6' target=\"_blank\">https://wandb.ai/dlai211/tf-dnn-weighted-classifier/runs/2ib8nly6</a>"
      ],
      "text/plain": [
       "<IPython.core.display.HTML object>"
      ]
     },
     "metadata": {},
     "output_type": "display_data"
    },
    {
     "name": "stderr",
     "output_type": "stream",
     "text": [
      "/home/jlai/.local/share/mamba/envs/tf-gpu/lib/python3.10/site-packages/keras/src/layers/core/dense.py:93: UserWarning: Do not pass an `input_shape`/`input_dim` argument to a layer. When using Sequential models, prefer using an `Input(shape)` object as the first layer in the model instead.\n",
      "  super().__init__(activity_regularizer=activity_regularizer, **kwargs)\n"
     ]
    },
    {
     "name": "stdout",
     "output_type": "stream",
     "text": [
      "Epoch 1/50\n",
      "\u001b[1m3008/3008\u001b[0m \u001b[32m━━━━━━━━━━━━━━━━━━━━\u001b[0m\u001b[37m\u001b[0m \u001b[1m17s\u001b[0m 4ms/step - auc: 0.6644 - loss: 0.0069 - weighted_auc: 0.6777 - val_auc: 0.8147 - val_loss: 8.6494e-04 - val_weighted_auc: 0.8260\n",
      "Epoch 2/50\n",
      "\u001b[1m3008/3008\u001b[0m \u001b[32m━━━━━━━━━━━━━━━━━━━━\u001b[0m\u001b[37m\u001b[0m \u001b[1m9s\u001b[0m 3ms/step - auc: 0.8177 - loss: 8.6897e-04 - weighted_auc: 0.8282 - val_auc: 0.8029 - val_loss: 8.6463e-04 - val_weighted_auc: 0.8117\n",
      "Epoch 3/50\n",
      "\u001b[1m3008/3008\u001b[0m \u001b[32m━━━━━━━━━━━━━━━━━━━━\u001b[0m\u001b[37m\u001b[0m \u001b[1m9s\u001b[0m 3ms/step - auc: 0.8285 - loss: 8.4917e-04 - weighted_auc: 0.8374 - val_auc: 0.8061 - val_loss: 8.6662e-04 - val_weighted_auc: 0.8117\n",
      "Epoch 4/50\n",
      "\u001b[1m3008/3008\u001b[0m \u001b[32m━━━━━━━━━━━━━━━━━━━━\u001b[0m\u001b[37m\u001b[0m \u001b[1m9s\u001b[0m 3ms/step - auc: 0.8298 - loss: 8.4024e-04 - weighted_auc: 0.8376 - val_auc: 0.8332 - val_loss: 8.4727e-04 - val_weighted_auc: 0.8421\n",
      "Epoch 5/50\n",
      "\u001b[1m3008/3008\u001b[0m \u001b[32m━━━━━━━━━━━━━━━━━━━━\u001b[0m\u001b[37m\u001b[0m \u001b[1m9s\u001b[0m 3ms/step - auc: 0.8433 - loss: 8.2667e-04 - weighted_auc: 0.8520 - val_auc: 0.8227 - val_loss: 8.4878e-04 - val_weighted_auc: 0.8283\n",
      "Epoch 6/50\n",
      "\u001b[1m3008/3008\u001b[0m \u001b[32m━━━━━━━━━━━━━━━━━━━━\u001b[0m\u001b[37m\u001b[0m \u001b[1m9s\u001b[0m 3ms/step - auc: 0.8498 - loss: 8.1982e-04 - weighted_auc: 0.8574 - val_auc: 0.8352 - val_loss: 8.3776e-04 - val_weighted_auc: 0.8409\n",
      "Epoch 7/50\n",
      "\u001b[1m3008/3008\u001b[0m \u001b[32m━━━━━━━━━━━━━━━━━━━━\u001b[0m\u001b[37m\u001b[0m \u001b[1m9s\u001b[0m 3ms/step - auc: 0.8477 - loss: 8.2487e-04 - weighted_auc: 0.8546 - val_auc: 0.8343 - val_loss: 8.4035e-04 - val_weighted_auc: 0.8401\n",
      "Epoch 8/50\n",
      "\u001b[1m3008/3008\u001b[0m \u001b[32m━━━━━━━━━━━━━━━━━━━━\u001b[0m\u001b[37m\u001b[0m \u001b[1m9s\u001b[0m 3ms/step - auc: 0.8528 - loss: 8.1118e-04 - weighted_auc: 0.8578 - val_auc: 0.8346 - val_loss: 8.3704e-04 - val_weighted_auc: 0.8387\n",
      "Epoch 9/50\n",
      "\u001b[1m3008/3008\u001b[0m \u001b[32m━━━━━━━━━━━━━━━━━━━━\u001b[0m\u001b[37m\u001b[0m \u001b[1m9s\u001b[0m 3ms/step - auc: 0.8500 - loss: 8.0884e-04 - weighted_auc: 0.8551 - val_auc: 0.8271 - val_loss: 8.4036e-04 - val_weighted_auc: 0.8321\n",
      "\u001b[1m30935/30935\u001b[0m \u001b[32m━━━━━━━━━━━━━━━━━━━━\u001b[0m\u001b[37m\u001b[0m \u001b[1m21s\u001b[0m 658us/step\n",
      "\u001b[1m4297/4297\u001b[0m \u001b[32m━━━━━━━━━━━━━━━━━━━━\u001b[0m\u001b[37m\u001b[0m \u001b[1m5s\u001b[0m 1ms/step\n"
     ]
    },
    {
     "data": {
      "text/html": [],
      "text/plain": [
       "<IPython.core.display.HTML object>"
      ]
     },
     "metadata": {},
     "output_type": "display_data"
    },
    {
     "data": {
      "text/html": [
       "<br>    <style><br>        .wandb-row {<br>            display: flex;<br>            flex-direction: row;<br>            flex-wrap: wrap;<br>            justify-content: flex-start;<br>            width: 100%;<br>        }<br>        .wandb-col {<br>            display: flex;<br>            flex-direction: column;<br>            flex-basis: 100%;<br>            flex: 1;<br>            padding: 10px;<br>        }<br>    </style><br><div class=\"wandb-row\"><div class=\"wandb-col\"><h3>Run history:</h3><br/><table class=\"wandb\"><tr><td>Acceptance</td><td>▁</td></tr><tr><td>Max S/sqrt(B)</td><td>▁</td></tr><tr><td>epoch/auc</td><td>▁▆▇▇▇████</td></tr><tr><td>epoch/epoch</td><td>▁▂▃▄▅▅▆▇█</td></tr><tr><td>epoch/learning_rate</td><td>▁▁▁▁▁▁▁▁▁</td></tr><tr><td>epoch/loss</td><td>█▁▁▁▁▁▁▁▁</td></tr><tr><td>epoch/val_auc</td><td>▄▁▂█▅███▆</td></tr><tr><td>epoch/val_loss</td><td>███▃▄▁▂▁▂</td></tr><tr><td>epoch/val_weighted_auc</td><td>▄▁▁█▅██▇▆</td></tr><tr><td>epoch/weighted_auc</td><td>▁▆▇▇▇████</td></tr><tr><td>final_val_roc_auc</td><td>▁</td></tr><tr><td>nnScore cut</td><td>▁</td></tr></table><br/></div><div class=\"wandb-col\"><h3>Run summary:</h3><br/><table class=\"wandb\"><tr><td>Acceptance</td><td>0.51382</td></tr><tr><td>Max S/sqrt(B)</td><td>3.0334</td></tr><tr><td>epoch/auc</td><td>0.84849</td></tr><tr><td>epoch/epoch</td><td>8</td></tr><tr><td>epoch/learning_rate</td><td>0.00018</td></tr><tr><td>epoch/loss</td><td>0.00082</td></tr><tr><td>epoch/val_auc</td><td>0.82715</td></tr><tr><td>epoch/val_loss</td><td>0.00084</td></tr><tr><td>epoch/val_weighted_auc</td><td>0.83207</td></tr><tr><td>epoch/weighted_auc</td><td>0.85759</td></tr><tr><td>final_val_roc_auc</td><td>0.97522</td></tr><tr><td>nnScore cut</td><td>0.02</td></tr></table><br/></div></div>"
      ],
      "text/plain": [
       "<IPython.core.display.HTML object>"
      ]
     },
     "metadata": {},
     "output_type": "display_data"
    },
    {
     "data": {
      "text/html": [
       " View run <strong style=\"color:#cdcd00\">fluent-sweep-28</strong> at: <a href='https://wandb.ai/dlai211/tf-dnn-weighted-classifier/runs/2ib8nly6' target=\"_blank\">https://wandb.ai/dlai211/tf-dnn-weighted-classifier/runs/2ib8nly6</a><br> View project at: <a href='https://wandb.ai/dlai211/tf-dnn-weighted-classifier' target=\"_blank\">https://wandb.ai/dlai211/tf-dnn-weighted-classifier</a><br>Synced 5 W&B file(s), 1 media file(s), 0 artifact file(s) and 0 other file(s)"
      ],
      "text/plain": [
       "<IPython.core.display.HTML object>"
      ]
     },
     "metadata": {},
     "output_type": "display_data"
    },
    {
     "data": {
      "text/html": [
       "Find logs at: <code>./wandb/run-20250821_065338-2ib8nly6/logs</code>"
      ],
      "text/plain": [
       "<IPython.core.display.HTML object>"
      ]
     },
     "metadata": {},
     "output_type": "display_data"
    },
    {
     "name": "stderr",
     "output_type": "stream",
     "text": [
      "\u001b[34m\u001b[1mwandb\u001b[0m: Agent Starting Run: qc8kjq2j with config:\n",
      "\u001b[34m\u001b[1mwandb\u001b[0m: \tbatch_size: 768\n",
      "\u001b[34m\u001b[1mwandb\u001b[0m: \tdropout: 0.16034934519691735\n",
      "\u001b[34m\u001b[1mwandb\u001b[0m: \tepochs: 50\n",
      "\u001b[34m\u001b[1mwandb\u001b[0m: \tlayer_1: 192\n",
      "\u001b[34m\u001b[1mwandb\u001b[0m: \tlayer_2: 512\n",
      "\u001b[34m\u001b[1mwandb\u001b[0m: \tlayer_3: 2048\n",
      "\u001b[34m\u001b[1mwandb\u001b[0m: \tlayer_4: 128\n",
      "\u001b[34m\u001b[1mwandb\u001b[0m: \tlayer_5: 96\n",
      "\u001b[34m\u001b[1mwandb\u001b[0m: \tlr: 3.479091224963884e-05\n"
     ]
    },
    {
     "data": {
      "text/html": [
       "Ignoring project 'tf-dnn-weighted-classifier' when running a sweep."
      ],
      "text/plain": [
       "<IPython.core.display.HTML object>"
      ]
     },
     "metadata": {},
     "output_type": "display_data"
    },
    {
     "data": {
      "text/html": [
       "Tracking run with wandb version 0.21.0"
      ],
      "text/plain": [
       "<IPython.core.display.HTML object>"
      ]
     },
     "metadata": {},
     "output_type": "display_data"
    },
    {
     "data": {
      "text/html": [
       "Run data is saved locally in <code>/home/jlai/ML/jet_faking/wandb/run-20250821_065600-qc8kjq2j</code>"
      ],
      "text/plain": [
       "<IPython.core.display.HTML object>"
      ]
     },
     "metadata": {},
     "output_type": "display_data"
    },
    {
     "data": {
      "text/html": [
       "Syncing run <strong><a href='https://wandb.ai/dlai211/tf-dnn-weighted-classifier/runs/qc8kjq2j' target=\"_blank\">helpful-sweep-29</a></strong> to <a href='https://wandb.ai/dlai211/tf-dnn-weighted-classifier' target=\"_blank\">Weights & Biases</a> (<a href='https://wandb.me/developer-guide' target=\"_blank\">docs</a>)<br>Sweep page: <a href='https://wandb.ai/dlai211/tf-dnn-weighted-classifier/sweeps/rg1dnn5u' target=\"_blank\">https://wandb.ai/dlai211/tf-dnn-weighted-classifier/sweeps/rg1dnn5u</a>"
      ],
      "text/plain": [
       "<IPython.core.display.HTML object>"
      ]
     },
     "metadata": {},
     "output_type": "display_data"
    },
    {
     "data": {
      "text/html": [
       " View project at <a href='https://wandb.ai/dlai211/tf-dnn-weighted-classifier' target=\"_blank\">https://wandb.ai/dlai211/tf-dnn-weighted-classifier</a>"
      ],
      "text/plain": [
       "<IPython.core.display.HTML object>"
      ]
     },
     "metadata": {},
     "output_type": "display_data"
    },
    {
     "data": {
      "text/html": [
       " View sweep at <a href='https://wandb.ai/dlai211/tf-dnn-weighted-classifier/sweeps/rg1dnn5u' target=\"_blank\">https://wandb.ai/dlai211/tf-dnn-weighted-classifier/sweeps/rg1dnn5u</a>"
      ],
      "text/plain": [
       "<IPython.core.display.HTML object>"
      ]
     },
     "metadata": {},
     "output_type": "display_data"
    },
    {
     "data": {
      "text/html": [
       " View run at <a href='https://wandb.ai/dlai211/tf-dnn-weighted-classifier/runs/qc8kjq2j' target=\"_blank\">https://wandb.ai/dlai211/tf-dnn-weighted-classifier/runs/qc8kjq2j</a>"
      ],
      "text/plain": [
       "<IPython.core.display.HTML object>"
      ]
     },
     "metadata": {},
     "output_type": "display_data"
    },
    {
     "name": "stderr",
     "output_type": "stream",
     "text": [
      "/home/jlai/.local/share/mamba/envs/tf-gpu/lib/python3.10/site-packages/keras/src/layers/core/dense.py:93: UserWarning: Do not pass an `input_shape`/`input_dim` argument to a layer. When using Sequential models, prefer using an `Input(shape)` object as the first layer in the model instead.\n",
      "  super().__init__(activity_regularizer=activity_regularizer, **kwargs)\n"
     ]
    },
    {
     "name": "stdout",
     "output_type": "stream",
     "text": [
      "Epoch 1/50\n",
      "\u001b[1m3008/3008\u001b[0m \u001b[32m━━━━━━━━━━━━━━━━━━━━\u001b[0m\u001b[37m\u001b[0m \u001b[1m18s\u001b[0m 4ms/step - auc: 0.5144 - loss: 0.0246 - weighted_auc: 0.5390 - val_auc: 0.7873 - val_loss: 9.3038e-04 - val_weighted_auc: 0.8047\n",
      "Epoch 2/50\n",
      "\u001b[1m3008/3008\u001b[0m \u001b[32m━━━━━━━━━━━━━━━━━━━━\u001b[0m\u001b[37m\u001b[0m \u001b[1m9s\u001b[0m 3ms/step - auc: 0.7588 - loss: 9.4621e-04 - weighted_auc: 0.7703 - val_auc: 0.8346 - val_loss: 8.9854e-04 - val_weighted_auc: 0.8478\n",
      "Epoch 3/50\n",
      "\u001b[1m3008/3008\u001b[0m \u001b[32m━━━━━━━━━━━━━━━━━━━━\u001b[0m\u001b[37m\u001b[0m \u001b[1m9s\u001b[0m 3ms/step - auc: 0.7977 - loss: 9.0046e-04 - weighted_auc: 0.8063 - val_auc: 0.8444 - val_loss: 8.9094e-04 - val_weighted_auc: 0.8568\n",
      "Epoch 4/50\n",
      "\u001b[1m3008/3008\u001b[0m \u001b[32m━━━━━━━━━━━━━━━━━━━━\u001b[0m\u001b[37m\u001b[0m \u001b[1m9s\u001b[0m 3ms/step - auc: 0.8074 - loss: 8.7757e-04 - weighted_auc: 0.8147 - val_auc: 0.8569 - val_loss: 8.8857e-04 - val_weighted_auc: 0.8682\n",
      "Epoch 5/50\n",
      "\u001b[1m3008/3008\u001b[0m \u001b[32m━━━━━━━━━━━━━━━━━━━━\u001b[0m\u001b[37m\u001b[0m \u001b[1m9s\u001b[0m 3ms/step - auc: 0.8228 - loss: 8.6875e-04 - weighted_auc: 0.8295 - val_auc: 0.8596 - val_loss: 8.8127e-04 - val_weighted_auc: 0.8706\n",
      "Epoch 6/50\n",
      "\u001b[1m3008/3008\u001b[0m \u001b[32m━━━━━━━━━━━━━━━━━━━━\u001b[0m\u001b[37m\u001b[0m \u001b[1m9s\u001b[0m 3ms/step - auc: 0.8254 - loss: 8.5574e-04 - weighted_auc: 0.8331 - val_auc: 0.8591 - val_loss: 8.7602e-04 - val_weighted_auc: 0.8689\n",
      "Epoch 7/50\n",
      "\u001b[1m3008/3008\u001b[0m \u001b[32m━━━━━━━━━━━━━━━━━━━━\u001b[0m\u001b[37m\u001b[0m \u001b[1m9s\u001b[0m 3ms/step - auc: 0.8293 - loss: 8.5314e-04 - weighted_auc: 0.8363 - val_auc: 0.8647 - val_loss: 8.7648e-04 - val_weighted_auc: 0.8743\n",
      "Epoch 8/50\n",
      "\u001b[1m3008/3008\u001b[0m \u001b[32m━━━━━━━━━━━━━━━━━━━━\u001b[0m\u001b[37m\u001b[0m \u001b[1m9s\u001b[0m 3ms/step - auc: 0.8336 - loss: 8.4750e-04 - weighted_auc: 0.8409 - val_auc: 0.8598 - val_loss: 8.6389e-04 - val_weighted_auc: 0.8686\n",
      "Epoch 9/50\n",
      "\u001b[1m3008/3008\u001b[0m \u001b[32m━━━━━━━━━━━━━━━━━━━━\u001b[0m\u001b[37m\u001b[0m \u001b[1m9s\u001b[0m 3ms/step - auc: 0.8313 - loss: 8.4540e-04 - weighted_auc: 0.8387 - val_auc: 0.8698 - val_loss: 8.8114e-04 - val_weighted_auc: 0.8779\n",
      "Epoch 10/50\n",
      "\u001b[1m3008/3008\u001b[0m \u001b[32m━━━━━━━━━━━━━━━━━━━━\u001b[0m\u001b[37m\u001b[0m \u001b[1m9s\u001b[0m 3ms/step - auc: 0.8342 - loss: 8.3787e-04 - weighted_auc: 0.8414 - val_auc: 0.8696 - val_loss: 8.7058e-04 - val_weighted_auc: 0.8770\n",
      "Epoch 11/50\n",
      "\u001b[1m3008/3008\u001b[0m \u001b[32m━━━━━━━━━━━━━━━━━━━━\u001b[0m\u001b[37m\u001b[0m \u001b[1m9s\u001b[0m 3ms/step - auc: 0.8404 - loss: 8.2906e-04 - weighted_auc: 0.8460 - val_auc: 0.8687 - val_loss: 8.7318e-04 - val_weighted_auc: 0.8757\n",
      "Epoch 12/50\n",
      "\u001b[1m3008/3008\u001b[0m \u001b[32m━━━━━━━━━━━━━━━━━━━━\u001b[0m\u001b[37m\u001b[0m \u001b[1m9s\u001b[0m 3ms/step - auc: 0.8417 - loss: 8.2194e-04 - weighted_auc: 0.8481 - val_auc: 0.8695 - val_loss: 8.6954e-04 - val_weighted_auc: 0.8771\n",
      "Epoch 13/50\n",
      "\u001b[1m3008/3008\u001b[0m \u001b[32m━━━━━━━━━━━━━━━━━━━━\u001b[0m\u001b[37m\u001b[0m \u001b[1m9s\u001b[0m 3ms/step - auc: 0.8478 - loss: 8.2526e-04 - weighted_auc: 0.8535 - val_auc: 0.8665 - val_loss: 8.6326e-04 - val_weighted_auc: 0.8737\n",
      "Epoch 14/50\n",
      "\u001b[1m3008/3008\u001b[0m \u001b[32m━━━━━━━━━━━━━━━━━━━━\u001b[0m\u001b[37m\u001b[0m \u001b[1m9s\u001b[0m 3ms/step - auc: 0.8427 - loss: 8.2676e-04 - weighted_auc: 0.8483 - val_auc: 0.8687 - val_loss: 8.6933e-04 - val_weighted_auc: 0.8767\n",
      "\u001b[1m30935/30935\u001b[0m \u001b[32m━━━━━━━━━━━━━━━━━━━━\u001b[0m\u001b[37m\u001b[0m \u001b[1m21s\u001b[0m 663us/step\n",
      "\u001b[1m4297/4297\u001b[0m \u001b[32m━━━━━━━━━━━━━━━━━━━━\u001b[0m\u001b[37m\u001b[0m \u001b[1m5s\u001b[0m 996us/step\n"
     ]
    },
    {
     "data": {
      "text/html": [],
      "text/plain": [
       "<IPython.core.display.HTML object>"
      ]
     },
     "metadata": {},
     "output_type": "display_data"
    },
    {
     "data": {
      "text/html": [
       "<br>    <style><br>        .wandb-row {<br>            display: flex;<br>            flex-direction: row;<br>            flex-wrap: wrap;<br>            justify-content: flex-start;<br>            width: 100%;<br>        }<br>        .wandb-col {<br>            display: flex;<br>            flex-direction: column;<br>            flex-basis: 100%;<br>            flex: 1;<br>            padding: 10px;<br>        }<br>    </style><br><div class=\"wandb-row\"><div class=\"wandb-col\"><h3>Run history:</h3><br/><table class=\"wandb\"><tr><td>Acceptance</td><td>▁</td></tr><tr><td>Max S/sqrt(B)</td><td>▁</td></tr><tr><td>epoch/auc</td><td>▁▆▇▇▇▇████████</td></tr><tr><td>epoch/epoch</td><td>▁▂▂▃▃▄▄▅▅▆▆▇▇█</td></tr><tr><td>epoch/learning_rate</td><td>▁▁▁▁▁▁▁▁▁▁▁▁▁▁</td></tr><tr><td>epoch/loss</td><td>█▁▁▁▁▁▁▁▁▁▁▁▁▁</td></tr><tr><td>epoch/val_auc</td><td>▁▅▆▇▇▇█▇██████</td></tr><tr><td>epoch/val_loss</td><td>█▅▄▄▃▂▂▁▃▂▂▂▁▂</td></tr><tr><td>epoch/val_weighted_auc</td><td>▁▅▆▇▇▇█▇██████</td></tr><tr><td>epoch/weighted_auc</td><td>▁▆▇▇▇█████████</td></tr><tr><td>final_val_roc_auc</td><td>▁</td></tr><tr><td>nnScore cut</td><td>▁</td></tr></table><br/></div><div class=\"wandb-col\"><h3>Run summary:</h3><br/><table class=\"wandb\"><tr><td>Acceptance</td><td>0.47443</td></tr><tr><td>Max S/sqrt(B)</td><td>2.79689</td></tr><tr><td>epoch/auc</td><td>0.83875</td></tr><tr><td>epoch/epoch</td><td>13</td></tr><tr><td>epoch/learning_rate</td><td>3e-05</td></tr><tr><td>epoch/loss</td><td>0.00084</td></tr><tr><td>epoch/val_auc</td><td>0.86871</td></tr><tr><td>epoch/val_loss</td><td>0.00087</td></tr><tr><td>epoch/val_weighted_auc</td><td>0.87673</td></tr><tr><td>epoch/weighted_auc</td><td>0.84819</td></tr><tr><td>final_val_roc_auc</td><td>0.97501</td></tr><tr><td>nnScore cut</td><td>0.02</td></tr></table><br/></div></div>"
      ],
      "text/plain": [
       "<IPython.core.display.HTML object>"
      ]
     },
     "metadata": {},
     "output_type": "display_data"
    },
    {
     "data": {
      "text/html": [
       " View run <strong style=\"color:#cdcd00\">helpful-sweep-29</strong> at: <a href='https://wandb.ai/dlai211/tf-dnn-weighted-classifier/runs/qc8kjq2j' target=\"_blank\">https://wandb.ai/dlai211/tf-dnn-weighted-classifier/runs/qc8kjq2j</a><br> View project at: <a href='https://wandb.ai/dlai211/tf-dnn-weighted-classifier' target=\"_blank\">https://wandb.ai/dlai211/tf-dnn-weighted-classifier</a><br>Synced 5 W&B file(s), 1 media file(s), 0 artifact file(s) and 0 other file(s)"
      ],
      "text/plain": [
       "<IPython.core.display.HTML object>"
      ]
     },
     "metadata": {},
     "output_type": "display_data"
    },
    {
     "data": {
      "text/html": [
       "Find logs at: <code>./wandb/run-20250821_065600-qc8kjq2j/logs</code>"
      ],
      "text/plain": [
       "<IPython.core.display.HTML object>"
      ]
     },
     "metadata": {},
     "output_type": "display_data"
    },
    {
     "name": "stderr",
     "output_type": "stream",
     "text": [
      "\u001b[34m\u001b[1mwandb\u001b[0m: Agent Starting Run: 2wvlfaqt with config:\n",
      "\u001b[34m\u001b[1mwandb\u001b[0m: \tbatch_size: 128\n",
      "\u001b[34m\u001b[1mwandb\u001b[0m: \tdropout: 0.4959396987703528\n",
      "\u001b[34m\u001b[1mwandb\u001b[0m: \tepochs: 50\n",
      "\u001b[34m\u001b[1mwandb\u001b[0m: \tlayer_1: 64\n",
      "\u001b[34m\u001b[1mwandb\u001b[0m: \tlayer_2: 128\n",
      "\u001b[34m\u001b[1mwandb\u001b[0m: \tlayer_3: 1024\n",
      "\u001b[34m\u001b[1mwandb\u001b[0m: \tlayer_4: 128\n",
      "\u001b[34m\u001b[1mwandb\u001b[0m: \tlayer_5: 32\n",
      "\u001b[34m\u001b[1mwandb\u001b[0m: \tlr: 0.0002643216727935454\n"
     ]
    },
    {
     "data": {
      "text/html": [
       "Ignoring project 'tf-dnn-weighted-classifier' when running a sweep."
      ],
      "text/plain": [
       "<IPython.core.display.HTML object>"
      ]
     },
     "metadata": {},
     "output_type": "display_data"
    },
    {
     "data": {
      "text/html": [
       "Tracking run with wandb version 0.21.0"
      ],
      "text/plain": [
       "<IPython.core.display.HTML object>"
      ]
     },
     "metadata": {},
     "output_type": "display_data"
    },
    {
     "data": {
      "text/html": [
       "Run data is saved locally in <code>/home/jlai/ML/jet_faking/wandb/run-20250821_065907-2wvlfaqt</code>"
      ],
      "text/plain": [
       "<IPython.core.display.HTML object>"
      ]
     },
     "metadata": {},
     "output_type": "display_data"
    },
    {
     "data": {
      "text/html": [
       "Syncing run <strong><a href='https://wandb.ai/dlai211/tf-dnn-weighted-classifier/runs/2wvlfaqt' target=\"_blank\">autumn-sweep-30</a></strong> to <a href='https://wandb.ai/dlai211/tf-dnn-weighted-classifier' target=\"_blank\">Weights & Biases</a> (<a href='https://wandb.me/developer-guide' target=\"_blank\">docs</a>)<br>Sweep page: <a href='https://wandb.ai/dlai211/tf-dnn-weighted-classifier/sweeps/rg1dnn5u' target=\"_blank\">https://wandb.ai/dlai211/tf-dnn-weighted-classifier/sweeps/rg1dnn5u</a>"
      ],
      "text/plain": [
       "<IPython.core.display.HTML object>"
      ]
     },
     "metadata": {},
     "output_type": "display_data"
    },
    {
     "data": {
      "text/html": [
       " View project at <a href='https://wandb.ai/dlai211/tf-dnn-weighted-classifier' target=\"_blank\">https://wandb.ai/dlai211/tf-dnn-weighted-classifier</a>"
      ],
      "text/plain": [
       "<IPython.core.display.HTML object>"
      ]
     },
     "metadata": {},
     "output_type": "display_data"
    },
    {
     "data": {
      "text/html": [
       " View sweep at <a href='https://wandb.ai/dlai211/tf-dnn-weighted-classifier/sweeps/rg1dnn5u' target=\"_blank\">https://wandb.ai/dlai211/tf-dnn-weighted-classifier/sweeps/rg1dnn5u</a>"
      ],
      "text/plain": [
       "<IPython.core.display.HTML object>"
      ]
     },
     "metadata": {},
     "output_type": "display_data"
    },
    {
     "data": {
      "text/html": [
       " View run at <a href='https://wandb.ai/dlai211/tf-dnn-weighted-classifier/runs/2wvlfaqt' target=\"_blank\">https://wandb.ai/dlai211/tf-dnn-weighted-classifier/runs/2wvlfaqt</a>"
      ],
      "text/plain": [
       "<IPython.core.display.HTML object>"
      ]
     },
     "metadata": {},
     "output_type": "display_data"
    },
    {
     "name": "stderr",
     "output_type": "stream",
     "text": [
      "/home/jlai/.local/share/mamba/envs/tf-gpu/lib/python3.10/site-packages/keras/src/layers/core/dense.py:93: UserWarning: Do not pass an `input_shape`/`input_dim` argument to a layer. When using Sequential models, prefer using an `Input(shape)` object as the first layer in the model instead.\n",
      "  super().__init__(activity_regularizer=activity_regularizer, **kwargs)\n"
     ]
    },
    {
     "name": "stdout",
     "output_type": "stream",
     "text": [
      "Epoch 1/50\n",
      "\u001b[1m18046/18046\u001b[0m \u001b[32m━━━━━━━━━━━━━━━━━━━━\u001b[0m\u001b[37m\u001b[0m \u001b[1m45s\u001b[0m 2ms/step - auc: 0.6037 - loss: 0.0063 - weighted_auc: 0.6182 - val_auc: 0.7961 - val_loss: 9.4545e-04 - val_weighted_auc: 0.8072\n",
      "Epoch 2/50\n",
      "\u001b[1m18046/18046\u001b[0m \u001b[32m━━━━━━━━━━━━━━━━━━━━\u001b[0m\u001b[37m\u001b[0m \u001b[1m37s\u001b[0m 2ms/step - auc: 0.7503 - loss: 0.0012 - weighted_auc: 0.7611 - val_auc: 0.8271 - val_loss: 9.1849e-04 - val_weighted_auc: 0.8351\n",
      "Epoch 3/50\n",
      "\u001b[1m18046/18046\u001b[0m \u001b[32m━━━━━━━━━━━━━━━━━━━━\u001b[0m\u001b[37m\u001b[0m \u001b[1m37s\u001b[0m 2ms/step - auc: 0.7964 - loss: 0.0011 - weighted_auc: 0.8084 - val_auc: 0.8368 - val_loss: 8.9563e-04 - val_weighted_auc: 0.8458\n",
      "Epoch 4/50\n",
      "\u001b[1m18046/18046\u001b[0m \u001b[32m━━━━━━━━━━━━━━━━━━━━\u001b[0m\u001b[37m\u001b[0m \u001b[1m37s\u001b[0m 2ms/step - auc: 0.8127 - loss: 0.0010 - weighted_auc: 0.8222 - val_auc: 0.8430 - val_loss: 8.8135e-04 - val_weighted_auc: 0.8512\n",
      "Epoch 5/50\n",
      "\u001b[1m18046/18046\u001b[0m \u001b[32m━━━━━━━━━━━━━━━━━━━━\u001b[0m\u001b[37m\u001b[0m \u001b[1m37s\u001b[0m 2ms/step - auc: 0.8313 - loss: 9.7169e-04 - weighted_auc: 0.8403 - val_auc: 0.8476 - val_loss: 9.0034e-04 - val_weighted_auc: 0.8559\n",
      "Epoch 6/50\n",
      "\u001b[1m18046/18046\u001b[0m \u001b[32m━━━━━━━━━━━━━━━━━━━━\u001b[0m\u001b[37m\u001b[0m \u001b[1m37s\u001b[0m 2ms/step - auc: 0.8404 - loss: 9.5353e-04 - weighted_auc: 0.8487 - val_auc: 0.8376 - val_loss: 8.8588e-04 - val_weighted_auc: 0.8431\n",
      "Epoch 7/50\n",
      "\u001b[1m18046/18046\u001b[0m \u001b[32m━━━━━━━━━━━━━━━━━━━━\u001b[0m\u001b[37m\u001b[0m \u001b[1m37s\u001b[0m 2ms/step - auc: 0.8461 - loss: 9.4064e-04 - weighted_auc: 0.8553 - val_auc: 0.8319 - val_loss: 8.9141e-04 - val_weighted_auc: 0.8381\n",
      "Epoch 8/50\n",
      "\u001b[1m18046/18046\u001b[0m \u001b[32m━━━━━━━━━━━━━━━━━━━━\u001b[0m\u001b[37m\u001b[0m \u001b[1m38s\u001b[0m 2ms/step - auc: 0.8453 - loss: 9.2015e-04 - weighted_auc: 0.8530 - val_auc: 0.8419 - val_loss: 8.7729e-04 - val_weighted_auc: 0.8477\n",
      "Epoch 9/50\n",
      "\u001b[1m18046/18046\u001b[0m \u001b[32m━━━━━━━━━━━━━━━━━━━━\u001b[0m\u001b[37m\u001b[0m \u001b[1m38s\u001b[0m 2ms/step - auc: 0.8463 - loss: 9.1722e-04 - weighted_auc: 0.8530 - val_auc: 0.8377 - val_loss: 8.7715e-04 - val_weighted_auc: 0.8446\n",
      "Epoch 10/50\n",
      "\u001b[1m18046/18046\u001b[0m \u001b[32m━━━━━━━━━━━━━━━━━━━━\u001b[0m\u001b[37m\u001b[0m \u001b[1m38s\u001b[0m 2ms/step - auc: 0.8482 - loss: 9.0314e-04 - weighted_auc: 0.8553 - val_auc: 0.8514 - val_loss: 8.6816e-04 - val_weighted_auc: 0.8582\n",
      "Epoch 11/50\n",
      "\u001b[1m18046/18046\u001b[0m \u001b[32m━━━━━━━━━━━━━━━━━━━━\u001b[0m\u001b[37m\u001b[0m \u001b[1m37s\u001b[0m 2ms/step - auc: 0.8495 - loss: 9.0022e-04 - weighted_auc: 0.8578 - val_auc: 0.8290 - val_loss: 8.9366e-04 - val_weighted_auc: 0.8348\n",
      "Epoch 12/50\n",
      "\u001b[1m18046/18046\u001b[0m \u001b[32m━━━━━━━━━━━━━━━━━━━━\u001b[0m\u001b[37m\u001b[0m \u001b[1m37s\u001b[0m 2ms/step - auc: 0.8550 - loss: 9.2098e-04 - weighted_auc: 0.8631 - val_auc: 0.8459 - val_loss: 8.6796e-04 - val_weighted_auc: 0.8505\n",
      "Epoch 13/50\n",
      "\u001b[1m18046/18046\u001b[0m \u001b[32m━━━━━━━━━━━━━━━━━━━━\u001b[0m\u001b[37m\u001b[0m \u001b[1m37s\u001b[0m 2ms/step - auc: 0.8555 - loss: 9.0576e-04 - weighted_auc: 0.8618 - val_auc: 0.8528 - val_loss: 8.7847e-04 - val_weighted_auc: 0.8576\n",
      "Epoch 14/50\n",
      "\u001b[1m18046/18046\u001b[0m \u001b[32m━━━━━━━━━━━━━━━━━━━━\u001b[0m\u001b[37m\u001b[0m \u001b[1m37s\u001b[0m 2ms/step - auc: 0.8547 - loss: 9.0093e-04 - weighted_auc: 0.8599 - val_auc: 0.8528 - val_loss: 8.7825e-04 - val_weighted_auc: 0.8569\n",
      "Epoch 15/50\n",
      "\u001b[1m18046/18046\u001b[0m \u001b[32m━━━━━━━━━━━━━━━━━━━━\u001b[0m\u001b[37m\u001b[0m \u001b[1m37s\u001b[0m 2ms/step - auc: 0.8559 - loss: 9.1103e-04 - weighted_auc: 0.8631 - val_auc: 0.8553 - val_loss: 8.7884e-04 - val_weighted_auc: 0.8599\n",
      "Epoch 16/50\n",
      "\u001b[1m18046/18046\u001b[0m \u001b[32m━━━━━━━━━━━━━━━━━━━━\u001b[0m\u001b[37m\u001b[0m \u001b[1m37s\u001b[0m 2ms/step - auc: 0.8537 - loss: 8.9759e-04 - weighted_auc: 0.8607 - val_auc: 0.8546 - val_loss: 8.6956e-04 - val_weighted_auc: 0.8597\n",
      "Epoch 17/50\n",
      "\u001b[1m18046/18046\u001b[0m \u001b[32m━━━━━━━━━━━━━━━━━━━━\u001b[0m\u001b[37m\u001b[0m \u001b[1m38s\u001b[0m 2ms/step - auc: 0.8510 - loss: 9.0038e-04 - weighted_auc: 0.8553 - val_auc: 0.8601 - val_loss: 8.6689e-04 - val_weighted_auc: 0.8655\n",
      "Epoch 18/50\n",
      "\u001b[1m18046/18046\u001b[0m \u001b[32m━━━━━━━━━━━━━━━━━━━━\u001b[0m\u001b[37m\u001b[0m \u001b[1m37s\u001b[0m 2ms/step - auc: 0.8559 - loss: 9.0204e-04 - weighted_auc: 0.8623 - val_auc: 0.8570 - val_loss: 8.7987e-04 - val_weighted_auc: 0.8620\n",
      "Epoch 19/50\n",
      "\u001b[1m18046/18046\u001b[0m \u001b[32m━━━━━━━━━━━━━━━━━━━━\u001b[0m\u001b[37m\u001b[0m \u001b[1m37s\u001b[0m 2ms/step - auc: 0.8510 - loss: 9.1082e-04 - weighted_auc: 0.8571 - val_auc: 0.8581 - val_loss: 8.7876e-04 - val_weighted_auc: 0.8620\n",
      "Epoch 20/50\n",
      "\u001b[1m18046/18046\u001b[0m \u001b[32m━━━━━━━━━━━━━━━━━━━━\u001b[0m\u001b[37m\u001b[0m \u001b[1m38s\u001b[0m 2ms/step - auc: 0.8513 - loss: 8.9211e-04 - weighted_auc: 0.8569 - val_auc: 0.8617 - val_loss: 8.7644e-04 - val_weighted_auc: 0.8665\n",
      "Epoch 21/50\n",
      "\u001b[1m18046/18046\u001b[0m \u001b[32m━━━━━━━━━━━━━━━━━━━━\u001b[0m\u001b[37m\u001b[0m \u001b[1m38s\u001b[0m 2ms/step - auc: 0.8477 - loss: 9.0723e-04 - weighted_auc: 0.8528 - val_auc: 0.8566 - val_loss: 8.7622e-04 - val_weighted_auc: 0.8621\n",
      "Epoch 22/50\n",
      "\u001b[1m18046/18046\u001b[0m \u001b[32m━━━━━━━━━━━━━━━━━━━━\u001b[0m\u001b[37m\u001b[0m \u001b[1m38s\u001b[0m 2ms/step - auc: 0.8522 - loss: 9.1294e-04 - weighted_auc: 0.8577 - val_auc: 0.8699 - val_loss: 8.8959e-04 - val_weighted_auc: 0.8766\n",
      "Epoch 23/50\n",
      "\u001b[1m18046/18046\u001b[0m \u001b[32m━━━━━━━━━━━━━━━━━━━━\u001b[0m\u001b[37m\u001b[0m \u001b[1m38s\u001b[0m 2ms/step - auc: 0.8454 - loss: 8.9884e-04 - weighted_auc: 0.8524 - val_auc: 0.8584 - val_loss: 8.8455e-04 - val_weighted_auc: 0.8645\n",
      "Epoch 24/50\n",
      "\u001b[1m18046/18046\u001b[0m \u001b[32m━━━━━━━━━━━━━━━━━━━━\u001b[0m\u001b[37m\u001b[0m \u001b[1m38s\u001b[0m 2ms/step - auc: 0.8457 - loss: 8.9985e-04 - weighted_auc: 0.8519 - val_auc: 0.8591 - val_loss: 8.8102e-04 - val_weighted_auc: 0.8646\n",
      "Epoch 25/50\n",
      "\u001b[1m18046/18046\u001b[0m \u001b[32m━━━━━━━━━━━━━━━━━━━━\u001b[0m\u001b[37m\u001b[0m \u001b[1m38s\u001b[0m 2ms/step - auc: 0.8466 - loss: 9.0930e-04 - weighted_auc: 0.8530 - val_auc: 0.8566 - val_loss: 8.8356e-04 - val_weighted_auc: 0.8604\n",
      "Epoch 26/50\n",
      "\u001b[1m18046/18046\u001b[0m \u001b[32m━━━━━━━━━━━━━━━━━━━━\u001b[0m\u001b[37m\u001b[0m \u001b[1m38s\u001b[0m 2ms/step - auc: 0.8454 - loss: 9.0441e-04 - weighted_auc: 0.8529 - val_auc: 0.8758 - val_loss: 8.9040e-04 - val_weighted_auc: 0.8806\n",
      "Epoch 27/50\n",
      "\u001b[1m18046/18046\u001b[0m \u001b[32m━━━━━━━━━━━━━━━━━━━━\u001b[0m\u001b[37m\u001b[0m \u001b[1m38s\u001b[0m 2ms/step - auc: 0.8458 - loss: 9.2407e-04 - weighted_auc: 0.8508 - val_auc: 0.8555 - val_loss: 8.8978e-04 - val_weighted_auc: 0.8612\n",
      "Epoch 28/50\n",
      "\u001b[1m18046/18046\u001b[0m \u001b[32m━━━━━━━━━━━━━━━━━━━━\u001b[0m\u001b[37m\u001b[0m \u001b[1m37s\u001b[0m 2ms/step - auc: 0.8472 - loss: 9.0774e-04 - weighted_auc: 0.8527 - val_auc: 0.8594 - val_loss: 8.8976e-04 - val_weighted_auc: 0.8646\n",
      "Epoch 29/50\n",
      "\u001b[1m18046/18046\u001b[0m \u001b[32m━━━━━━━━━━━━━━━━━━━━\u001b[0m\u001b[37m\u001b[0m \u001b[1m38s\u001b[0m 2ms/step - auc: 0.8469 - loss: 9.2013e-04 - weighted_auc: 0.8528 - val_auc: 0.8724 - val_loss: 9.4672e-04 - val_weighted_auc: 0.8767\n",
      "Epoch 30/50\n",
      "\u001b[1m18046/18046\u001b[0m \u001b[32m━━━━━━━━━━━━━━━━━━━━\u001b[0m\u001b[37m\u001b[0m \u001b[1m38s\u001b[0m 2ms/step - auc: 0.8478 - loss: 8.9426e-04 - weighted_auc: 0.8538 - val_auc: 0.8539 - val_loss: 8.8467e-04 - val_weighted_auc: 0.8579\n",
      "Epoch 31/50\n",
      "\u001b[1m18046/18046\u001b[0m \u001b[32m━━━━━━━━━━━━━━━━━━━━\u001b[0m\u001b[37m\u001b[0m \u001b[1m38s\u001b[0m 2ms/step - auc: 0.8425 - loss: 9.1749e-04 - weighted_auc: 0.8503 - val_auc: 0.8693 - val_loss: 9.1821e-04 - val_weighted_auc: 0.8743\n",
      "\u001b[1m30935/30935\u001b[0m \u001b[32m━━━━━━━━━━━━━━━━━━━━\u001b[0m\u001b[37m\u001b[0m \u001b[1m21s\u001b[0m 679us/step\n",
      "\u001b[1m25780/25780\u001b[0m \u001b[32m━━━━━━━━━━━━━━━━━━━━\u001b[0m\u001b[37m\u001b[0m \u001b[1m18s\u001b[0m 699us/step\n"
     ]
    },
    {
     "data": {
      "text/html": [],
      "text/plain": [
       "<IPython.core.display.HTML object>"
      ]
     },
     "metadata": {},
     "output_type": "display_data"
    },
    {
     "data": {
      "text/html": [
       "<br>    <style><br>        .wandb-row {<br>            display: flex;<br>            flex-direction: row;<br>            flex-wrap: wrap;<br>            justify-content: flex-start;<br>            width: 100%;<br>        }<br>        .wandb-col {<br>            display: flex;<br>            flex-direction: column;<br>            flex-basis: 100%;<br>            flex: 1;<br>            padding: 10px;<br>        }<br>    </style><br><div class=\"wandb-row\"><div class=\"wandb-col\"><h3>Run history:</h3><br/><table class=\"wandb\"><tr><td>Acceptance</td><td>▁</td></tr><tr><td>Max S/sqrt(B)</td><td>▁</td></tr><tr><td>epoch/auc</td><td>▁▅▆▇▇▇████████████████████████▇</td></tr><tr><td>epoch/epoch</td><td>▁▁▁▂▂▂▂▃▃▃▃▄▄▄▄▅▅▅▅▅▆▆▆▆▇▇▇▇███</td></tr><tr><td>epoch/learning_rate</td><td>▁▁▁▁▁▁▁▁▁▁▁▁▁▁▁▁▁▁▁▁▁▁▁▁▁▁▁▁▁▁▁</td></tr><tr><td>epoch/loss</td><td>█▂▂▂▁▁▁▁▁▁▁▁▁▁▁▁▁▁▁▁▁▁▁▁▁▁▁▁▁▁▁</td></tr><tr><td>epoch/val_auc</td><td>▁▄▅▅▆▅▄▅▅▆▄▅▆▆▆▆▇▆▆▇▆▇▆▇▆█▆▇█▆▇</td></tr><tr><td>epoch/val_loss</td><td>█▆▄▂▄▃▃▂▂▁▃▁▂▂▂▁▁▂▂▂▂▃▃▂▂▃▃▃█▃▅</td></tr><tr><td>epoch/val_weighted_auc</td><td>▁▄▅▅▆▄▄▅▅▆▄▅▆▆▆▆▇▆▆▇▆█▆▆▆█▆▆█▆▇</td></tr><tr><td>epoch/weighted_auc</td><td>▁▅▆▇▇█████████████████████████▇</td></tr><tr><td>final_val_roc_auc</td><td>▁</td></tr><tr><td>nnScore cut</td><td>▁</td></tr></table><br/></div><div class=\"wandb-col\"><h3>Run summary:</h3><br/><table class=\"wandb\"><tr><td>Acceptance</td><td>0.46292</td></tr><tr><td>Max S/sqrt(B)</td><td>2.82219</td></tr><tr><td>epoch/auc</td><td>0.83543</td></tr><tr><td>epoch/epoch</td><td>30</td></tr><tr><td>epoch/learning_rate</td><td>0.00026</td></tr><tr><td>epoch/loss</td><td>0.00095</td></tr><tr><td>epoch/val_auc</td><td>0.86929</td></tr><tr><td>epoch/val_loss</td><td>0.00092</td></tr><tr><td>epoch/val_weighted_auc</td><td>0.87427</td></tr><tr><td>epoch/weighted_auc</td><td>0.84618</td></tr><tr><td>final_val_roc_auc</td><td>0.97487</td></tr><tr><td>nnScore cut</td><td>0.04</td></tr></table><br/></div></div>"
      ],
      "text/plain": [
       "<IPython.core.display.HTML object>"
      ]
     },
     "metadata": {},
     "output_type": "display_data"
    },
    {
     "data": {
      "text/html": [
       " View run <strong style=\"color:#cdcd00\">autumn-sweep-30</strong> at: <a href='https://wandb.ai/dlai211/tf-dnn-weighted-classifier/runs/2wvlfaqt' target=\"_blank\">https://wandb.ai/dlai211/tf-dnn-weighted-classifier/runs/2wvlfaqt</a><br> View project at: <a href='https://wandb.ai/dlai211/tf-dnn-weighted-classifier' target=\"_blank\">https://wandb.ai/dlai211/tf-dnn-weighted-classifier</a><br>Synced 5 W&B file(s), 1 media file(s), 0 artifact file(s) and 0 other file(s)"
      ],
      "text/plain": [
       "<IPython.core.display.HTML object>"
      ]
     },
     "metadata": {},
     "output_type": "display_data"
    },
    {
     "data": {
      "text/html": [
       "Find logs at: <code>./wandb/run-20250821_065907-2wvlfaqt/logs</code>"
      ],
      "text/plain": [
       "<IPython.core.display.HTML object>"
      ]
     },
     "metadata": {},
     "output_type": "display_data"
    },
    {
     "name": "stderr",
     "output_type": "stream",
     "text": [
      "\u001b[34m\u001b[1mwandb\u001b[0m: Agent Starting Run: 8pw42ei4 with config:\n",
      "\u001b[34m\u001b[1mwandb\u001b[0m: \tbatch_size: 128\n",
      "\u001b[34m\u001b[1mwandb\u001b[0m: \tdropout: 0.46803108011522576\n",
      "\u001b[34m\u001b[1mwandb\u001b[0m: \tepochs: 50\n",
      "\u001b[34m\u001b[1mwandb\u001b[0m: \tlayer_1: 64\n",
      "\u001b[34m\u001b[1mwandb\u001b[0m: \tlayer_2: 128\n",
      "\u001b[34m\u001b[1mwandb\u001b[0m: \tlayer_3: 512\n",
      "\u001b[34m\u001b[1mwandb\u001b[0m: \tlayer_4: 128\n",
      "\u001b[34m\u001b[1mwandb\u001b[0m: \tlayer_5: 32\n",
      "\u001b[34m\u001b[1mwandb\u001b[0m: \tlr: 0.00011339964909438786\n"
     ]
    },
    {
     "data": {
      "text/html": [
       "Ignoring project 'tf-dnn-weighted-classifier' when running a sweep."
      ],
      "text/plain": [
       "<IPython.core.display.HTML object>"
      ]
     },
     "metadata": {},
     "output_type": "display_data"
    },
    {
     "data": {
      "text/html": [
       "Tracking run with wandb version 0.21.0"
      ],
      "text/plain": [
       "<IPython.core.display.HTML object>"
      ]
     },
     "metadata": {},
     "output_type": "display_data"
    },
    {
     "data": {
      "text/html": [
       "Run data is saved locally in <code>/home/jlai/ML/jet_faking/wandb/run-20250821_071945-8pw42ei4</code>"
      ],
      "text/plain": [
       "<IPython.core.display.HTML object>"
      ]
     },
     "metadata": {},
     "output_type": "display_data"
    },
    {
     "data": {
      "text/html": [
       "Syncing run <strong><a href='https://wandb.ai/dlai211/tf-dnn-weighted-classifier/runs/8pw42ei4' target=\"_blank\">stellar-sweep-31</a></strong> to <a href='https://wandb.ai/dlai211/tf-dnn-weighted-classifier' target=\"_blank\">Weights & Biases</a> (<a href='https://wandb.me/developer-guide' target=\"_blank\">docs</a>)<br>Sweep page: <a href='https://wandb.ai/dlai211/tf-dnn-weighted-classifier/sweeps/rg1dnn5u' target=\"_blank\">https://wandb.ai/dlai211/tf-dnn-weighted-classifier/sweeps/rg1dnn5u</a>"
      ],
      "text/plain": [
       "<IPython.core.display.HTML object>"
      ]
     },
     "metadata": {},
     "output_type": "display_data"
    },
    {
     "data": {
      "text/html": [
       " View project at <a href='https://wandb.ai/dlai211/tf-dnn-weighted-classifier' target=\"_blank\">https://wandb.ai/dlai211/tf-dnn-weighted-classifier</a>"
      ],
      "text/plain": [
       "<IPython.core.display.HTML object>"
      ]
     },
     "metadata": {},
     "output_type": "display_data"
    },
    {
     "data": {
      "text/html": [
       " View sweep at <a href='https://wandb.ai/dlai211/tf-dnn-weighted-classifier/sweeps/rg1dnn5u' target=\"_blank\">https://wandb.ai/dlai211/tf-dnn-weighted-classifier/sweeps/rg1dnn5u</a>"
      ],
      "text/plain": [
       "<IPython.core.display.HTML object>"
      ]
     },
     "metadata": {},
     "output_type": "display_data"
    },
    {
     "data": {
      "text/html": [
       " View run at <a href='https://wandb.ai/dlai211/tf-dnn-weighted-classifier/runs/8pw42ei4' target=\"_blank\">https://wandb.ai/dlai211/tf-dnn-weighted-classifier/runs/8pw42ei4</a>"
      ],
      "text/plain": [
       "<IPython.core.display.HTML object>"
      ]
     },
     "metadata": {},
     "output_type": "display_data"
    },
    {
     "name": "stderr",
     "output_type": "stream",
     "text": [
      "/home/jlai/.local/share/mamba/envs/tf-gpu/lib/python3.10/site-packages/keras/src/layers/core/dense.py:93: UserWarning: Do not pass an `input_shape`/`input_dim` argument to a layer. When using Sequential models, prefer using an `Input(shape)` object as the first layer in the model instead.\n",
      "  super().__init__(activity_regularizer=activity_regularizer, **kwargs)\n"
     ]
    },
    {
     "name": "stdout",
     "output_type": "stream",
     "text": [
      "Epoch 1/50\n",
      "\u001b[1m18046/18046\u001b[0m \u001b[32m━━━━━━━━━━━━━━━━━━━━\u001b[0m\u001b[37m\u001b[0m \u001b[1m43s\u001b[0m 2ms/step - auc: 0.5438 - loss: 0.0130 - weighted_auc: 0.5666 - val_auc: 0.8335 - val_loss: 9.6742e-04 - val_weighted_auc: 0.8498\n",
      "Epoch 2/50\n",
      "\u001b[1m18046/18046\u001b[0m \u001b[32m━━━━━━━━━━━━━━━━━━━━\u001b[0m\u001b[37m\u001b[0m \u001b[1m36s\u001b[0m 2ms/step - auc: 0.7247 - loss: 0.0012 - weighted_auc: 0.7351 - val_auc: 0.8557 - val_loss: 9.1388e-04 - val_weighted_auc: 0.8692\n",
      "Epoch 3/50\n",
      "\u001b[1m18046/18046\u001b[0m \u001b[32m━━━━━━━━━━━━━━━━━━━━\u001b[0m\u001b[37m\u001b[0m \u001b[1m36s\u001b[0m 2ms/step - auc: 0.7686 - loss: 0.0011 - weighted_auc: 0.7801 - val_auc: 0.8599 - val_loss: 8.9026e-04 - val_weighted_auc: 0.8701\n",
      "Epoch 4/50\n",
      "\u001b[1m18046/18046\u001b[0m \u001b[32m━━━━━━━━━━━━━━━━━━━━\u001b[0m\u001b[37m\u001b[0m \u001b[1m35s\u001b[0m 2ms/step - auc: 0.7848 - loss: 0.0010 - weighted_auc: 0.7939 - val_auc: 0.8503 - val_loss: 8.6557e-04 - val_weighted_auc: 0.8588\n",
      "Epoch 5/50\n",
      "\u001b[1m18046/18046\u001b[0m \u001b[32m━━━━━━━━━━━━━━━━━━━━\u001b[0m\u001b[37m\u001b[0m \u001b[1m36s\u001b[0m 2ms/step - auc: 0.8092 - loss: 9.9419e-04 - weighted_auc: 0.8173 - val_auc: 0.8628 - val_loss: 8.7423e-04 - val_weighted_auc: 0.8712\n",
      "Epoch 6/50\n",
      "\u001b[1m18046/18046\u001b[0m \u001b[32m━━━━━━━━━━━━━━━━━━━━\u001b[0m\u001b[37m\u001b[0m \u001b[1m36s\u001b[0m 2ms/step - auc: 0.8181 - loss: 9.8795e-04 - weighted_auc: 0.8279 - val_auc: 0.8651 - val_loss: 8.7177e-04 - val_weighted_auc: 0.8730\n",
      "Epoch 7/50\n",
      "\u001b[1m18046/18046\u001b[0m \u001b[32m━━━━━━━━━━━━━━━━━━━━\u001b[0m\u001b[37m\u001b[0m \u001b[1m36s\u001b[0m 2ms/step - auc: 0.8261 - loss: 9.7321e-04 - weighted_auc: 0.8335 - val_auc: 0.8736 - val_loss: 8.7193e-04 - val_weighted_auc: 0.8820\n",
      "Epoch 8/50\n",
      "\u001b[1m18046/18046\u001b[0m \u001b[32m━━━━━━━━━━━━━━━━━━━━\u001b[0m\u001b[37m\u001b[0m \u001b[1m36s\u001b[0m 2ms/step - auc: 0.8302 - loss: 9.4783e-04 - weighted_auc: 0.8381 - val_auc: 0.8748 - val_loss: 8.7275e-04 - val_weighted_auc: 0.8826\n",
      "Epoch 9/50\n",
      "\u001b[1m18046/18046\u001b[0m \u001b[32m━━━━━━━━━━━━━━━━━━━━\u001b[0m\u001b[37m\u001b[0m \u001b[1m36s\u001b[0m 2ms/step - auc: 0.8367 - loss: 9.5737e-04 - weighted_auc: 0.8441 - val_auc: 0.8678 - val_loss: 8.6404e-04 - val_weighted_auc: 0.8746\n",
      "Epoch 10/50\n",
      "\u001b[1m18046/18046\u001b[0m \u001b[32m━━━━━━━━━━━━━━━━━━━━\u001b[0m\u001b[37m\u001b[0m \u001b[1m37s\u001b[0m 2ms/step - auc: 0.8418 - loss: 9.2499e-04 - weighted_auc: 0.8481 - val_auc: 0.8783 - val_loss: 8.7400e-04 - val_weighted_auc: 0.8859\n",
      "Epoch 11/50\n",
      "\u001b[1m18046/18046\u001b[0m \u001b[32m━━━━━━━━━━━━━━━━━━━━\u001b[0m\u001b[37m\u001b[0m \u001b[1m37s\u001b[0m 2ms/step - auc: 0.8369 - loss: 9.2074e-04 - weighted_auc: 0.8460 - val_auc: 0.8655 - val_loss: 8.6347e-04 - val_weighted_auc: 0.8723\n",
      "Epoch 12/50\n",
      "\u001b[1m18046/18046\u001b[0m \u001b[32m━━━━━━━━━━━━━━━━━━━━\u001b[0m\u001b[37m\u001b[0m \u001b[1m37s\u001b[0m 2ms/step - auc: 0.8422 - loss: 9.2742e-04 - weighted_auc: 0.8507 - val_auc: 0.8701 - val_loss: 8.6055e-04 - val_weighted_auc: 0.8771\n",
      "Epoch 13/50\n",
      "\u001b[1m18046/18046\u001b[0m \u001b[32m━━━━━━━━━━━━━━━━━━━━\u001b[0m\u001b[37m\u001b[0m \u001b[1m37s\u001b[0m 2ms/step - auc: 0.8512 - loss: 9.0240e-04 - weighted_auc: 0.8592 - val_auc: 0.8565 - val_loss: 8.5948e-04 - val_weighted_auc: 0.8617\n",
      "Epoch 14/50\n",
      "\u001b[1m18046/18046\u001b[0m \u001b[32m━━━━━━━━━━━━━━━━━━━━\u001b[0m\u001b[37m\u001b[0m \u001b[1m38s\u001b[0m 2ms/step - auc: 0.8504 - loss: 8.9226e-04 - weighted_auc: 0.8592 - val_auc: 0.8615 - val_loss: 8.6189e-04 - val_weighted_auc: 0.8678\n",
      "Epoch 15/50\n",
      "\u001b[1m18046/18046\u001b[0m \u001b[32m━━━━━━━━━━━━━━━━━━━━\u001b[0m\u001b[37m\u001b[0m \u001b[1m37s\u001b[0m 2ms/step - auc: 0.8484 - loss: 9.0020e-04 - weighted_auc: 0.8548 - val_auc: 0.8692 - val_loss: 8.5934e-04 - val_weighted_auc: 0.8758\n",
      "\u001b[1m30935/30935\u001b[0m \u001b[32m━━━━━━━━━━━━━━━━━━━━\u001b[0m\u001b[37m\u001b[0m \u001b[1m21s\u001b[0m 677us/step\n",
      "\u001b[1m25780/25780\u001b[0m \u001b[32m━━━━━━━━━━━━━━━━━━━━\u001b[0m\u001b[37m\u001b[0m \u001b[1m18s\u001b[0m 700us/step\n"
     ]
    },
    {
     "data": {
      "text/html": [],
      "text/plain": [
       "<IPython.core.display.HTML object>"
      ]
     },
     "metadata": {},
     "output_type": "display_data"
    },
    {
     "data": {
      "text/html": [
       "<br>    <style><br>        .wandb-row {<br>            display: flex;<br>            flex-direction: row;<br>            flex-wrap: wrap;<br>            justify-content: flex-start;<br>            width: 100%;<br>        }<br>        .wandb-col {<br>            display: flex;<br>            flex-direction: column;<br>            flex-basis: 100%;<br>            flex: 1;<br>            padding: 10px;<br>        }<br>    </style><br><div class=\"wandb-row\"><div class=\"wandb-col\"><h3>Run history:</h3><br/><table class=\"wandb\"><tr><td>Acceptance</td><td>▁</td></tr><tr><td>Max S/sqrt(B)</td><td>▁</td></tr><tr><td>epoch/auc</td><td>▁▅▆▆▇▇▇████████</td></tr><tr><td>epoch/epoch</td><td>▁▁▂▃▃▃▄▅▅▅▆▇▇▇█</td></tr><tr><td>epoch/learning_rate</td><td>▁▁▁▁▁▁▁▁▁▁▁▁▁▁▁</td></tr><tr><td>epoch/loss</td><td>█▂▁▁▁▁▁▁▁▁▁▁▁▁▁</td></tr><tr><td>epoch/val_auc</td><td>▁▄▅▄▆▆▇▇▆█▆▇▅▅▇</td></tr><tr><td>epoch/val_loss</td><td>█▅▃▁▂▂▂▂▁▂▁▁▁▁▁</td></tr><tr><td>epoch/val_weighted_auc</td><td>▁▅▅▃▅▅▇▇▆█▅▆▃▄▆</td></tr><tr><td>epoch/weighted_auc</td><td>▁▅▆▆▇▇▇████████</td></tr><tr><td>final_val_roc_auc</td><td>▁</td></tr><tr><td>nnScore cut</td><td>▁</td></tr></table><br/></div><div class=\"wandb-col\"><h3>Run summary:</h3><br/><table class=\"wandb\"><tr><td>Acceptance</td><td>0.63361</td></tr><tr><td>Max S/sqrt(B)</td><td>2.77242</td></tr><tr><td>epoch/auc</td><td>0.84315</td></tr><tr><td>epoch/epoch</td><td>14</td></tr><tr><td>epoch/learning_rate</td><td>0.00011</td></tr><tr><td>epoch/loss</td><td>0.00092</td></tr><tr><td>epoch/val_auc</td><td>0.86922</td></tr><tr><td>epoch/val_loss</td><td>0.00086</td></tr><tr><td>epoch/val_weighted_auc</td><td>0.87584</td></tr><tr><td>epoch/weighted_auc</td><td>0.85367</td></tr><tr><td>final_val_roc_auc</td><td>0.9738</td></tr><tr><td>nnScore cut</td><td>0.01</td></tr></table><br/></div></div>"
      ],
      "text/plain": [
       "<IPython.core.display.HTML object>"
      ]
     },
     "metadata": {},
     "output_type": "display_data"
    },
    {
     "data": {
      "text/html": [
       " View run <strong style=\"color:#cdcd00\">stellar-sweep-31</strong> at: <a href='https://wandb.ai/dlai211/tf-dnn-weighted-classifier/runs/8pw42ei4' target=\"_blank\">https://wandb.ai/dlai211/tf-dnn-weighted-classifier/runs/8pw42ei4</a><br> View project at: <a href='https://wandb.ai/dlai211/tf-dnn-weighted-classifier' target=\"_blank\">https://wandb.ai/dlai211/tf-dnn-weighted-classifier</a><br>Synced 5 W&B file(s), 1 media file(s), 0 artifact file(s) and 0 other file(s)"
      ],
      "text/plain": [
       "<IPython.core.display.HTML object>"
      ]
     },
     "metadata": {},
     "output_type": "display_data"
    },
    {
     "data": {
      "text/html": [
       "Find logs at: <code>./wandb/run-20250821_071945-8pw42ei4/logs</code>"
      ],
      "text/plain": [
       "<IPython.core.display.HTML object>"
      ]
     },
     "metadata": {},
     "output_type": "display_data"
    },
    {
     "name": "stderr",
     "output_type": "stream",
     "text": [
      "\u001b[34m\u001b[1mwandb\u001b[0m: Agent Starting Run: s18to708 with config:\n",
      "\u001b[34m\u001b[1mwandb\u001b[0m: \tbatch_size: 1024\n",
      "\u001b[34m\u001b[1mwandb\u001b[0m: \tdropout: 0.15896853888691564\n",
      "\u001b[34m\u001b[1mwandb\u001b[0m: \tepochs: 50\n",
      "\u001b[34m\u001b[1mwandb\u001b[0m: \tlayer_1: 256\n",
      "\u001b[34m\u001b[1mwandb\u001b[0m: \tlayer_2: 512\n",
      "\u001b[34m\u001b[1mwandb\u001b[0m: \tlayer_3: 2048\n",
      "\u001b[34m\u001b[1mwandb\u001b[0m: \tlayer_4: 128\n",
      "\u001b[34m\u001b[1mwandb\u001b[0m: \tlayer_5: 128\n",
      "\u001b[34m\u001b[1mwandb\u001b[0m: \tlr: 0.006628615610646879\n"
     ]
    },
    {
     "data": {
      "text/html": [
       "Ignoring project 'tf-dnn-weighted-classifier' when running a sweep."
      ],
      "text/plain": [
       "<IPython.core.display.HTML object>"
      ]
     },
     "metadata": {},
     "output_type": "display_data"
    },
    {
     "data": {
      "text/html": [
       "Tracking run with wandb version 0.21.0"
      ],
      "text/plain": [
       "<IPython.core.display.HTML object>"
      ]
     },
     "metadata": {},
     "output_type": "display_data"
    },
    {
     "data": {
      "text/html": [
       "Run data is saved locally in <code>/home/jlai/ML/jet_faking/wandb/run-20250821_073007-s18to708</code>"
      ],
      "text/plain": [
       "<IPython.core.display.HTML object>"
      ]
     },
     "metadata": {},
     "output_type": "display_data"
    },
    {
     "data": {
      "text/html": [
       "Syncing run <strong><a href='https://wandb.ai/dlai211/tf-dnn-weighted-classifier/runs/s18to708' target=\"_blank\">dark-sweep-32</a></strong> to <a href='https://wandb.ai/dlai211/tf-dnn-weighted-classifier' target=\"_blank\">Weights & Biases</a> (<a href='https://wandb.me/developer-guide' target=\"_blank\">docs</a>)<br>Sweep page: <a href='https://wandb.ai/dlai211/tf-dnn-weighted-classifier/sweeps/rg1dnn5u' target=\"_blank\">https://wandb.ai/dlai211/tf-dnn-weighted-classifier/sweeps/rg1dnn5u</a>"
      ],
      "text/plain": [
       "<IPython.core.display.HTML object>"
      ]
     },
     "metadata": {},
     "output_type": "display_data"
    },
    {
     "data": {
      "text/html": [
       " View project at <a href='https://wandb.ai/dlai211/tf-dnn-weighted-classifier' target=\"_blank\">https://wandb.ai/dlai211/tf-dnn-weighted-classifier</a>"
      ],
      "text/plain": [
       "<IPython.core.display.HTML object>"
      ]
     },
     "metadata": {},
     "output_type": "display_data"
    },
    {
     "data": {
      "text/html": [
       " View sweep at <a href='https://wandb.ai/dlai211/tf-dnn-weighted-classifier/sweeps/rg1dnn5u' target=\"_blank\">https://wandb.ai/dlai211/tf-dnn-weighted-classifier/sweeps/rg1dnn5u</a>"
      ],
      "text/plain": [
       "<IPython.core.display.HTML object>"
      ]
     },
     "metadata": {},
     "output_type": "display_data"
    },
    {
     "data": {
      "text/html": [
       " View run at <a href='https://wandb.ai/dlai211/tf-dnn-weighted-classifier/runs/s18to708' target=\"_blank\">https://wandb.ai/dlai211/tf-dnn-weighted-classifier/runs/s18to708</a>"
      ],
      "text/plain": [
       "<IPython.core.display.HTML object>"
      ]
     },
     "metadata": {},
     "output_type": "display_data"
    },
    {
     "name": "stderr",
     "output_type": "stream",
     "text": [
      "/home/jlai/.local/share/mamba/envs/tf-gpu/lib/python3.10/site-packages/keras/src/layers/core/dense.py:93: UserWarning: Do not pass an `input_shape`/`input_dim` argument to a layer. When using Sequential models, prefer using an `Input(shape)` object as the first layer in the model instead.\n",
      "  super().__init__(activity_regularizer=activity_regularizer, **kwargs)\n"
     ]
    },
    {
     "name": "stdout",
     "output_type": "stream",
     "text": [
      "Epoch 1/50\n",
      "\u001b[1m2256/2256\u001b[0m \u001b[32m━━━━━━━━━━━━━━━━━━━━\u001b[0m\u001b[37m\u001b[0m \u001b[1m16s\u001b[0m 5ms/step - auc: 0.7230 - loss: 0.0034 - weighted_auc: 0.7341 - val_auc: 0.7692 - val_loss: 9.1951e-04 - val_weighted_auc: 0.7812\n",
      "Epoch 2/50\n",
      "\u001b[1m2256/2256\u001b[0m \u001b[32m━━━━━━━━━━━━━━━━━━━━\u001b[0m\u001b[37m\u001b[0m \u001b[1m8s\u001b[0m 3ms/step - auc: 0.7910 - loss: 9.9213e-04 - weighted_auc: 0.8033 - val_auc: 0.6768 - val_loss: 0.0011 - val_weighted_auc: 0.6812\n",
      "Epoch 3/50\n",
      "\u001b[1m2256/2256\u001b[0m \u001b[32m━━━━━━━━━━━━━━━━━━━━\u001b[0m\u001b[37m\u001b[0m \u001b[1m8s\u001b[0m 3ms/step - auc: 0.7877 - loss: 0.0010 - weighted_auc: 0.7982 - val_auc: 0.7067 - val_loss: 0.0012 - val_weighted_auc: 0.7123\n",
      "Epoch 4/50\n",
      "\u001b[1m2256/2256\u001b[0m \u001b[32m━━━━━━━━━━━━━━━━━━━━\u001b[0m\u001b[37m\u001b[0m \u001b[1m8s\u001b[0m 3ms/step - auc: 0.8237 - loss: 9.7264e-04 - weighted_auc: 0.8334 - val_auc: 0.7835 - val_loss: 8.8319e-04 - val_weighted_auc: 0.8024\n",
      "Epoch 5/50\n",
      "\u001b[1m2256/2256\u001b[0m \u001b[32m━━━━━━━━━━━━━━━━━━━━\u001b[0m\u001b[37m\u001b[0m \u001b[1m8s\u001b[0m 3ms/step - auc: 0.8083 - loss: 9.5980e-04 - weighted_auc: 0.8213 - val_auc: 0.7479 - val_loss: 9.9248e-04 - val_weighted_auc: 0.7540\n",
      "Epoch 6/50\n",
      "\u001b[1m2256/2256\u001b[0m \u001b[32m━━━━━━━━━━━━━━━━━━━━\u001b[0m\u001b[37m\u001b[0m \u001b[1m8s\u001b[0m 3ms/step - auc: 0.8056 - loss: 9.9068e-04 - weighted_auc: 0.8148 - val_auc: 0.7649 - val_loss: 9.1826e-04 - val_weighted_auc: 0.7784\n",
      "Epoch 7/50\n",
      "\u001b[1m2256/2256\u001b[0m \u001b[32m━━━━━━━━━━━━━━━━━━━━\u001b[0m\u001b[37m\u001b[0m \u001b[1m8s\u001b[0m 3ms/step - auc: 0.8013 - loss: 9.9462e-04 - weighted_auc: 0.8121 - val_auc: 0.7690 - val_loss: 8.8794e-04 - val_weighted_auc: 0.7812\n",
      "Epoch 8/50\n",
      "\u001b[1m2256/2256\u001b[0m \u001b[32m━━━━━━━━━━━━━━━━━━━━\u001b[0m\u001b[37m\u001b[0m \u001b[1m8s\u001b[0m 3ms/step - auc: 0.8180 - loss: 9.9027e-04 - weighted_auc: 0.8299 - val_auc: 0.8635 - val_loss: 9.2635e-04 - val_weighted_auc: 0.8812\n",
      "Epoch 9/50\n",
      "\u001b[1m2256/2256\u001b[0m \u001b[32m━━━━━━━━━━━━━━━━━━━━\u001b[0m\u001b[37m\u001b[0m \u001b[1m8s\u001b[0m 3ms/step - auc: 0.6449 - loss: 0.0013 - weighted_auc: 0.6517 - val_auc: 0.5000 - val_loss: 0.0011 - val_weighted_auc: 0.5000\n",
      "Epoch 10/50\n",
      "\u001b[1m2256/2256\u001b[0m \u001b[32m━━━━━━━━━━━━━━━━━━━━\u001b[0m\u001b[37m\u001b[0m \u001b[1m8s\u001b[0m 3ms/step - auc: 0.4999 - loss: 0.0013 - weighted_auc: 0.5000 - val_auc: 0.5000 - val_loss: 0.0013 - val_weighted_auc: 0.5000\n",
      "Epoch 11/50\n",
      "\u001b[1m2256/2256\u001b[0m \u001b[32m━━━━━━━━━━━━━━━━━━━━\u001b[0m\u001b[37m\u001b[0m \u001b[1m8s\u001b[0m 3ms/step - auc: 0.5001 - loss: 0.0013 - weighted_auc: 0.5001 - val_auc: 0.5000 - val_loss: 0.0011 - val_weighted_auc: 0.5000\n",
      "Epoch 12/50\n",
      "\u001b[1m2256/2256\u001b[0m \u001b[32m━━━━━━━━━━━━━━━━━━━━\u001b[0m\u001b[37m\u001b[0m \u001b[1m8s\u001b[0m 3ms/step - auc: 0.4999 - loss: 0.0015 - weighted_auc: 0.5000 - val_auc: 0.5000 - val_loss: 0.0011 - val_weighted_auc: 0.5000\n",
      "Epoch 13/50\n",
      "\u001b[1m2256/2256\u001b[0m \u001b[32m━━━━━━━━━━━━━━━━━━━━\u001b[0m\u001b[37m\u001b[0m \u001b[1m8s\u001b[0m 3ms/step - auc: 0.5064 - loss: 0.0015 - weighted_auc: 0.5069 - val_auc: 0.5000 - val_loss: 0.0010 - val_weighted_auc: 0.5000\n",
      "\u001b[1m30935/30935\u001b[0m \u001b[32m━━━━━━━━━━━━━━━━━━━━\u001b[0m\u001b[37m\u001b[0m \u001b[1m20s\u001b[0m 643us/step\n",
      "\u001b[1m3223/3223\u001b[0m \u001b[32m━━━━━━━━━━━━━━━━━━━━\u001b[0m\u001b[37m\u001b[0m \u001b[1m4s\u001b[0m 1ms/step\n"
     ]
    },
    {
     "data": {
      "text/html": [],
      "text/plain": [
       "<IPython.core.display.HTML object>"
      ]
     },
     "metadata": {},
     "output_type": "display_data"
    },
    {
     "data": {
      "text/html": [
       "<br>    <style><br>        .wandb-row {<br>            display: flex;<br>            flex-direction: row;<br>            flex-wrap: wrap;<br>            justify-content: flex-start;<br>            width: 100%;<br>        }<br>        .wandb-col {<br>            display: flex;<br>            flex-direction: column;<br>            flex-basis: 100%;<br>            flex: 1;<br>            padding: 10px;<br>        }<br>    </style><br><div class=\"wandb-row\"><div class=\"wandb-col\"><h3>Run history:</h3><br/><table class=\"wandb\"><tr><td>Acceptance</td><td>▁</td></tr><tr><td>Max S/sqrt(B)</td><td>▁</td></tr><tr><td>epoch/auc</td><td>▇▇████▇▇▃▁▁▁▂</td></tr><tr><td>epoch/epoch</td><td>▁▂▂▃▃▄▅▅▆▆▇▇█</td></tr><tr><td>epoch/learning_rate</td><td>▁▁▁▁▁▁▁▁▁▁▁▁▁</td></tr><tr><td>epoch/loss</td><td>▃▁▁▁▁▁▁▂▄▇▃█▄</td></tr><tr><td>epoch/val_auc</td><td>▆▄▅▆▆▆▆█▁▁▁▁▁</td></tr><tr><td>epoch/val_loss</td><td>▂▄▆▁▃▂▁▂▄█▅▅▃</td></tr><tr><td>epoch/val_weighted_auc</td><td>▆▄▅▇▆▆▆█▁▁▁▁▁</td></tr><tr><td>epoch/weighted_auc</td><td>▇▇████▇▇▃▁▁▁▂</td></tr><tr><td>final_val_roc_auc</td><td>▁</td></tr><tr><td>nnScore cut</td><td>▁</td></tr></table><br/></div><div class=\"wandb-col\"><h3>Run summary:</h3><br/><table class=\"wandb\"><tr><td>Acceptance</td><td>0.54915</td></tr><tr><td>Max S/sqrt(B)</td><td>2.78869</td></tr><tr><td>epoch/auc</td><td>0.53244</td></tr><tr><td>epoch/epoch</td><td>12</td></tr><tr><td>epoch/learning_rate</td><td>0.00663</td></tr><tr><td>epoch/loss</td><td>0.00138</td></tr><tr><td>epoch/val_auc</td><td>0.5</td></tr><tr><td>epoch/val_loss</td><td>0.00102</td></tr><tr><td>epoch/val_weighted_auc</td><td>0.5</td></tr><tr><td>epoch/weighted_auc</td><td>0.53364</td></tr><tr><td>final_val_roc_auc</td><td>0.9665</td></tr><tr><td>nnScore cut</td><td>0.02</td></tr></table><br/></div></div>"
      ],
      "text/plain": [
       "<IPython.core.display.HTML object>"
      ]
     },
     "metadata": {},
     "output_type": "display_data"
    },
    {
     "data": {
      "text/html": [
       " View run <strong style=\"color:#cdcd00\">dark-sweep-32</strong> at: <a href='https://wandb.ai/dlai211/tf-dnn-weighted-classifier/runs/s18to708' target=\"_blank\">https://wandb.ai/dlai211/tf-dnn-weighted-classifier/runs/s18to708</a><br> View project at: <a href='https://wandb.ai/dlai211/tf-dnn-weighted-classifier' target=\"_blank\">https://wandb.ai/dlai211/tf-dnn-weighted-classifier</a><br>Synced 5 W&B file(s), 1 media file(s), 0 artifact file(s) and 0 other file(s)"
      ],
      "text/plain": [
       "<IPython.core.display.HTML object>"
      ]
     },
     "metadata": {},
     "output_type": "display_data"
    },
    {
     "data": {
      "text/html": [
       "Find logs at: <code>./wandb/run-20250821_073007-s18to708/logs</code>"
      ],
      "text/plain": [
       "<IPython.core.display.HTML object>"
      ]
     },
     "metadata": {},
     "output_type": "display_data"
    },
    {
     "name": "stderr",
     "output_type": "stream",
     "text": [
      "\u001b[34m\u001b[1mwandb\u001b[0m: Sweep Agent: Waiting for job.\n",
      "\u001b[34m\u001b[1mwandb\u001b[0m: Job received.\n",
      "\u001b[34m\u001b[1mwandb\u001b[0m: Agent Starting Run: nysh3u0b with config:\n",
      "\u001b[34m\u001b[1mwandb\u001b[0m: \tbatch_size: 1024\n",
      "\u001b[34m\u001b[1mwandb\u001b[0m: \tdropout: 0.1069295335830136\n",
      "\u001b[34m\u001b[1mwandb\u001b[0m: \tepochs: 50\n",
      "\u001b[34m\u001b[1mwandb\u001b[0m: \tlayer_1: 128\n",
      "\u001b[34m\u001b[1mwandb\u001b[0m: \tlayer_2: 512\n",
      "\u001b[34m\u001b[1mwandb\u001b[0m: \tlayer_3: 2048\n",
      "\u001b[34m\u001b[1mwandb\u001b[0m: \tlayer_4: 256\n",
      "\u001b[34m\u001b[1mwandb\u001b[0m: \tlayer_5: 32\n",
      "\u001b[34m\u001b[1mwandb\u001b[0m: \tlr: 0.0012509111043762656\n"
     ]
    },
    {
     "data": {
      "text/html": [
       "Ignoring project 'tf-dnn-weighted-classifier' when running a sweep."
      ],
      "text/plain": [
       "<IPython.core.display.HTML object>"
      ]
     },
     "metadata": {},
     "output_type": "display_data"
    },
    {
     "data": {
      "text/html": [
       "Tracking run with wandb version 0.21.0"
      ],
      "text/plain": [
       "<IPython.core.display.HTML object>"
      ]
     },
     "metadata": {},
     "output_type": "display_data"
    },
    {
     "data": {
      "text/html": [
       "Run data is saved locally in <code>/home/jlai/ML/jet_faking/wandb/run-20250821_073308-nysh3u0b</code>"
      ],
      "text/plain": [
       "<IPython.core.display.HTML object>"
      ]
     },
     "metadata": {},
     "output_type": "display_data"
    },
    {
     "data": {
      "text/html": [
       "Syncing run <strong><a href='https://wandb.ai/dlai211/tf-dnn-weighted-classifier/runs/nysh3u0b' target=\"_blank\">happy-sweep-33</a></strong> to <a href='https://wandb.ai/dlai211/tf-dnn-weighted-classifier' target=\"_blank\">Weights & Biases</a> (<a href='https://wandb.me/developer-guide' target=\"_blank\">docs</a>)<br>Sweep page: <a href='https://wandb.ai/dlai211/tf-dnn-weighted-classifier/sweeps/rg1dnn5u' target=\"_blank\">https://wandb.ai/dlai211/tf-dnn-weighted-classifier/sweeps/rg1dnn5u</a>"
      ],
      "text/plain": [
       "<IPython.core.display.HTML object>"
      ]
     },
     "metadata": {},
     "output_type": "display_data"
    },
    {
     "data": {
      "text/html": [
       " View project at <a href='https://wandb.ai/dlai211/tf-dnn-weighted-classifier' target=\"_blank\">https://wandb.ai/dlai211/tf-dnn-weighted-classifier</a>"
      ],
      "text/plain": [
       "<IPython.core.display.HTML object>"
      ]
     },
     "metadata": {},
     "output_type": "display_data"
    },
    {
     "data": {
      "text/html": [
       " View sweep at <a href='https://wandb.ai/dlai211/tf-dnn-weighted-classifier/sweeps/rg1dnn5u' target=\"_blank\">https://wandb.ai/dlai211/tf-dnn-weighted-classifier/sweeps/rg1dnn5u</a>"
      ],
      "text/plain": [
       "<IPython.core.display.HTML object>"
      ]
     },
     "metadata": {},
     "output_type": "display_data"
    },
    {
     "data": {
      "text/html": [
       " View run at <a href='https://wandb.ai/dlai211/tf-dnn-weighted-classifier/runs/nysh3u0b' target=\"_blank\">https://wandb.ai/dlai211/tf-dnn-weighted-classifier/runs/nysh3u0b</a>"
      ],
      "text/plain": [
       "<IPython.core.display.HTML object>"
      ]
     },
     "metadata": {},
     "output_type": "display_data"
    },
    {
     "name": "stderr",
     "output_type": "stream",
     "text": [
      "/home/jlai/.local/share/mamba/envs/tf-gpu/lib/python3.10/site-packages/keras/src/layers/core/dense.py:93: UserWarning: Do not pass an `input_shape`/`input_dim` argument to a layer. When using Sequential models, prefer using an `Input(shape)` object as the first layer in the model instead.\n",
      "  super().__init__(activity_regularizer=activity_regularizer, **kwargs)\n"
     ]
    },
    {
     "name": "stdout",
     "output_type": "stream",
     "text": [
      "Epoch 1/50\n",
      "\u001b[1m2256/2256\u001b[0m \u001b[32m━━━━━━━━━━━━━━━━━━━━\u001b[0m\u001b[37m\u001b[0m \u001b[1m18s\u001b[0m 5ms/step - auc: 0.7310 - loss: 0.0037 - weighted_auc: 0.7394 - val_auc: 0.7182 - val_loss: 9.6194e-04 - val_weighted_auc: 0.7227\n",
      "Epoch 2/50\n",
      "\u001b[1m2256/2256\u001b[0m \u001b[32m━━━━━━━━━━━━━━━━━━━━\u001b[0m\u001b[37m\u001b[0m \u001b[1m8s\u001b[0m 4ms/step - auc: 0.8102 - loss: 8.9731e-04 - weighted_auc: 0.8203 - val_auc: 0.7885 - val_loss: 8.7627e-04 - val_weighted_auc: 0.7969\n",
      "Epoch 3/50\n",
      "\u001b[1m2256/2256\u001b[0m \u001b[32m━━━━━━━━━━━━━━━━━━━━\u001b[0m\u001b[37m\u001b[0m \u001b[1m8s\u001b[0m 3ms/step - auc: 0.8183 - loss: 8.9829e-04 - weighted_auc: 0.8270 - val_auc: 0.7581 - val_loss: 9.3104e-04 - val_weighted_auc: 0.7642\n",
      "Epoch 4/50\n",
      "\u001b[1m2256/2256\u001b[0m \u001b[32m━━━━━━━━━━━━━━━━━━━━\u001b[0m\u001b[37m\u001b[0m \u001b[1m8s\u001b[0m 3ms/step - auc: 0.8236 - loss: 8.8677e-04 - weighted_auc: 0.8312 - val_auc: 0.7857 - val_loss: 8.8644e-04 - val_weighted_auc: 0.7922\n",
      "Epoch 5/50\n",
      "\u001b[1m2256/2256\u001b[0m \u001b[32m━━━━━━━━━━━━━━━━━━━━\u001b[0m\u001b[37m\u001b[0m \u001b[1m8s\u001b[0m 4ms/step - auc: 0.8380 - loss: 8.7050e-04 - weighted_auc: 0.8447 - val_auc: 0.7878 - val_loss: 8.8454e-04 - val_weighted_auc: 0.7944\n",
      "Epoch 6/50\n",
      "\u001b[1m2256/2256\u001b[0m \u001b[32m━━━━━━━━━━━━━━━━━━━━\u001b[0m\u001b[37m\u001b[0m \u001b[1m8s\u001b[0m 3ms/step - auc: 0.8379 - loss: 8.6799e-04 - weighted_auc: 0.8447 - val_auc: 0.8028 - val_loss: 8.5836e-04 - val_weighted_auc: 0.8088\n",
      "Epoch 7/50\n",
      "\u001b[1m2256/2256\u001b[0m \u001b[32m━━━━━━━━━━━━━━━━━━━━\u001b[0m\u001b[37m\u001b[0m \u001b[1m8s\u001b[0m 3ms/step - auc: 0.8397 - loss: 8.5269e-04 - weighted_auc: 0.8479 - val_auc: 0.8214 - val_loss: 8.4567e-04 - val_weighted_auc: 0.8260\n",
      "Epoch 8/50\n",
      "\u001b[1m2256/2256\u001b[0m \u001b[32m━━━━━━━━━━━━━━━━━━━━\u001b[0m\u001b[37m\u001b[0m \u001b[1m8s\u001b[0m 4ms/step - auc: 0.8411 - loss: 8.3589e-04 - weighted_auc: 0.8475 - val_auc: 0.8021 - val_loss: 8.6551e-04 - val_weighted_auc: 0.8087\n",
      "Epoch 9/50\n",
      "\u001b[1m2256/2256\u001b[0m \u001b[32m━━━━━━━━━━━━━━━━━━━━\u001b[0m\u001b[37m\u001b[0m \u001b[1m8s\u001b[0m 3ms/step - auc: 0.8476 - loss: 8.3090e-04 - weighted_auc: 0.8541 - val_auc: 0.8065 - val_loss: 8.5135e-04 - val_weighted_auc: 0.8134\n",
      "Epoch 10/50\n",
      "\u001b[1m2256/2256\u001b[0m \u001b[32m━━━━━━━━━━━━━━━━━━━━\u001b[0m\u001b[37m\u001b[0m \u001b[1m8s\u001b[0m 4ms/step - auc: 0.8495 - loss: 8.2968e-04 - weighted_auc: 0.8553 - val_auc: 0.7929 - val_loss: 8.7113e-04 - val_weighted_auc: 0.7984\n",
      "Epoch 11/50\n",
      "\u001b[1m2256/2256\u001b[0m \u001b[32m━━━━━━━━━━━━━━━━━━━━\u001b[0m\u001b[37m\u001b[0m \u001b[1m8s\u001b[0m 4ms/step - auc: 0.8447 - loss: 8.2271e-04 - weighted_auc: 0.8518 - val_auc: 0.8099 - val_loss: 8.5630e-04 - val_weighted_auc: 0.8173\n",
      "Epoch 12/50\n",
      "\u001b[1m2256/2256\u001b[0m \u001b[32m━━━━━━━━━━━━━━━━━━━━\u001b[0m\u001b[37m\u001b[0m \u001b[1m8s\u001b[0m 4ms/step - auc: 0.8482 - loss: 8.1586e-04 - weighted_auc: 0.8561 - val_auc: 0.8295 - val_loss: 8.5722e-04 - val_weighted_auc: 0.8348\n",
      "Epoch 13/50\n",
      "\u001b[1m2256/2256\u001b[0m \u001b[32m━━━━━━━━━━━━━━━━━━━━\u001b[0m\u001b[37m\u001b[0m \u001b[1m8s\u001b[0m 3ms/step - auc: 0.8496 - loss: 8.2069e-04 - weighted_auc: 0.8578 - val_auc: 0.8183 - val_loss: 8.4562e-04 - val_weighted_auc: 0.8246\n",
      "Epoch 14/50\n",
      "\u001b[1m2256/2256\u001b[0m \u001b[32m━━━━━━━━━━━━━━━━━━━━\u001b[0m\u001b[37m\u001b[0m \u001b[1m8s\u001b[0m 4ms/step - auc: 0.8482 - loss: 8.1372e-04 - weighted_auc: 0.8543 - val_auc: 0.8246 - val_loss: 8.4742e-04 - val_weighted_auc: 0.8309\n",
      "Epoch 15/50\n",
      "\u001b[1m2256/2256\u001b[0m \u001b[32m━━━━━━━━━━━━━━━━━━━━\u001b[0m\u001b[37m\u001b[0m \u001b[1m8s\u001b[0m 4ms/step - auc: 0.8500 - loss: 8.1004e-04 - weighted_auc: 0.8576 - val_auc: 0.8128 - val_loss: 8.5212e-04 - val_weighted_auc: 0.8184\n",
      "Epoch 16/50\n",
      "\u001b[1m2256/2256\u001b[0m \u001b[32m━━━━━━━━━━━━━━━━━━━━\u001b[0m\u001b[37m\u001b[0m \u001b[1m8s\u001b[0m 3ms/step - auc: 0.8519 - loss: 8.1238e-04 - weighted_auc: 0.8580 - val_auc: 0.8230 - val_loss: 8.4545e-04 - val_weighted_auc: 0.8286\n",
      "Epoch 17/50\n",
      "\u001b[1m2256/2256\u001b[0m \u001b[32m━━━━━━━━━━━━━━━━━━━━\u001b[0m\u001b[37m\u001b[0m \u001b[1m8s\u001b[0m 4ms/step - auc: 0.8571 - loss: 8.0643e-04 - weighted_auc: 0.8639 - val_auc: 0.8025 - val_loss: 8.4822e-04 - val_weighted_auc: 0.8071\n",
      "\u001b[1m30935/30935\u001b[0m \u001b[32m━━━━━━━━━━━━━━━━━━━━\u001b[0m\u001b[37m\u001b[0m \u001b[1m20s\u001b[0m 647us/step\n",
      "\u001b[1m3223/3223\u001b[0m \u001b[32m━━━━━━━━━━━━━━━━━━━━\u001b[0m\u001b[37m\u001b[0m \u001b[1m4s\u001b[0m 1ms/step\n"
     ]
    },
    {
     "data": {
      "text/html": [],
      "text/plain": [
       "<IPython.core.display.HTML object>"
      ]
     },
     "metadata": {},
     "output_type": "display_data"
    },
    {
     "data": {
      "text/html": [
       "<br>    <style><br>        .wandb-row {<br>            display: flex;<br>            flex-direction: row;<br>            flex-wrap: wrap;<br>            justify-content: flex-start;<br>            width: 100%;<br>        }<br>        .wandb-col {<br>            display: flex;<br>            flex-direction: column;<br>            flex-basis: 100%;<br>            flex: 1;<br>            padding: 10px;<br>        }<br>    </style><br><div class=\"wandb-row\"><div class=\"wandb-col\"><h3>Run history:</h3><br/><table class=\"wandb\"><tr><td>Acceptance</td><td>▁</td></tr><tr><td>Max S/sqrt(B)</td><td>▁</td></tr><tr><td>epoch/auc</td><td>▁▅▅▆▇▇▇▇▇▇▇██████</td></tr><tr><td>epoch/epoch</td><td>▁▁▂▂▃▃▄▄▅▅▅▆▆▇▇██</td></tr><tr><td>epoch/learning_rate</td><td>▁▁▁▁▁▁▁▁▁▁▁▁▁▁▁▁▁</td></tr><tr><td>epoch/loss</td><td>█▂▂▂▂▂▂▁▁▁▁▁▁▁▁▁▁</td></tr><tr><td>epoch/val_auc</td><td>▁▅▄▅▅▆▇▆▇▆▇█▇█▇█▆</td></tr><tr><td>epoch/val_loss</td><td>█▃▆▃▃▂▁▂▁▃▂▂▁▁▁▁▁</td></tr><tr><td>epoch/val_weighted_auc</td><td>▁▆▄▅▅▆▇▆▇▆▇█▇█▇█▆</td></tr><tr><td>epoch/weighted_auc</td><td>▁▅▆▆▇▇▇▇▇▇▇██████</td></tr><tr><td>final_val_roc_auc</td><td>▁</td></tr><tr><td>nnScore cut</td><td>▁</td></tr></table><br/></div><div class=\"wandb-col\"><h3>Run summary:</h3><br/><table class=\"wandb\"><tr><td>Acceptance</td><td>1</td></tr><tr><td>Max S/sqrt(B)</td><td>0.32308</td></tr><tr><td>epoch/auc</td><td>0.84881</td></tr><tr><td>epoch/epoch</td><td>16</td></tr><tr><td>epoch/learning_rate</td><td>0.00125</td></tr><tr><td>epoch/loss</td><td>0.00082</td></tr><tr><td>epoch/val_auc</td><td>0.80245</td></tr><tr><td>epoch/val_loss</td><td>0.00085</td></tr><tr><td>epoch/val_weighted_auc</td><td>0.80713</td></tr><tr><td>epoch/weighted_auc</td><td>0.85938</td></tr><tr><td>final_val_roc_auc</td><td>0.9732</td></tr><tr><td>nnScore cut</td><td>0</td></tr></table><br/></div></div>"
      ],
      "text/plain": [
       "<IPython.core.display.HTML object>"
      ]
     },
     "metadata": {},
     "output_type": "display_data"
    },
    {
     "data": {
      "text/html": [
       " View run <strong style=\"color:#cdcd00\">happy-sweep-33</strong> at: <a href='https://wandb.ai/dlai211/tf-dnn-weighted-classifier/runs/nysh3u0b' target=\"_blank\">https://wandb.ai/dlai211/tf-dnn-weighted-classifier/runs/nysh3u0b</a><br> View project at: <a href='https://wandb.ai/dlai211/tf-dnn-weighted-classifier' target=\"_blank\">https://wandb.ai/dlai211/tf-dnn-weighted-classifier</a><br>Synced 5 W&B file(s), 1 media file(s), 0 artifact file(s) and 0 other file(s)"
      ],
      "text/plain": [
       "<IPython.core.display.HTML object>"
      ]
     },
     "metadata": {},
     "output_type": "display_data"
    },
    {
     "data": {
      "text/html": [
       "Find logs at: <code>./wandb/run-20250821_073308-nysh3u0b/logs</code>"
      ],
      "text/plain": [
       "<IPython.core.display.HTML object>"
      ]
     },
     "metadata": {},
     "output_type": "display_data"
    },
    {
     "name": "stderr",
     "output_type": "stream",
     "text": [
      "\u001b[34m\u001b[1mwandb\u001b[0m: Agent Starting Run: jd8wi2up with config:\n",
      "\u001b[34m\u001b[1mwandb\u001b[0m: \tbatch_size: 1024\n",
      "\u001b[34m\u001b[1mwandb\u001b[0m: \tdropout: 0.1604398066689522\n",
      "\u001b[34m\u001b[1mwandb\u001b[0m: \tepochs: 50\n",
      "\u001b[34m\u001b[1mwandb\u001b[0m: \tlayer_1: 256\n",
      "\u001b[34m\u001b[1mwandb\u001b[0m: \tlayer_2: 512\n",
      "\u001b[34m\u001b[1mwandb\u001b[0m: \tlayer_3: 1536\n",
      "\u001b[34m\u001b[1mwandb\u001b[0m: \tlayer_4: 128\n",
      "\u001b[34m\u001b[1mwandb\u001b[0m: \tlayer_5: 96\n",
      "\u001b[34m\u001b[1mwandb\u001b[0m: \tlr: 4.165264141253463e-05\n"
     ]
    },
    {
     "data": {
      "text/html": [
       "Ignoring project 'tf-dnn-weighted-classifier' when running a sweep."
      ],
      "text/plain": [
       "<IPython.core.display.HTML object>"
      ]
     },
     "metadata": {},
     "output_type": "display_data"
    },
    {
     "data": {
      "text/html": [
       "Tracking run with wandb version 0.21.0"
      ],
      "text/plain": [
       "<IPython.core.display.HTML object>"
      ]
     },
     "metadata": {},
     "output_type": "display_data"
    },
    {
     "data": {
      "text/html": [
       "Run data is saved locally in <code>/home/jlai/ML/jet_faking/wandb/run-20250821_073620-jd8wi2up</code>"
      ],
      "text/plain": [
       "<IPython.core.display.HTML object>"
      ]
     },
     "metadata": {},
     "output_type": "display_data"
    },
    {
     "data": {
      "text/html": [
       "Syncing run <strong><a href='https://wandb.ai/dlai211/tf-dnn-weighted-classifier/runs/jd8wi2up' target=\"_blank\">eternal-sweep-34</a></strong> to <a href='https://wandb.ai/dlai211/tf-dnn-weighted-classifier' target=\"_blank\">Weights & Biases</a> (<a href='https://wandb.me/developer-guide' target=\"_blank\">docs</a>)<br>Sweep page: <a href='https://wandb.ai/dlai211/tf-dnn-weighted-classifier/sweeps/rg1dnn5u' target=\"_blank\">https://wandb.ai/dlai211/tf-dnn-weighted-classifier/sweeps/rg1dnn5u</a>"
      ],
      "text/plain": [
       "<IPython.core.display.HTML object>"
      ]
     },
     "metadata": {},
     "output_type": "display_data"
    },
    {
     "data": {
      "text/html": [
       " View project at <a href='https://wandb.ai/dlai211/tf-dnn-weighted-classifier' target=\"_blank\">https://wandb.ai/dlai211/tf-dnn-weighted-classifier</a>"
      ],
      "text/plain": [
       "<IPython.core.display.HTML object>"
      ]
     },
     "metadata": {},
     "output_type": "display_data"
    },
    {
     "data": {
      "text/html": [
       " View sweep at <a href='https://wandb.ai/dlai211/tf-dnn-weighted-classifier/sweeps/rg1dnn5u' target=\"_blank\">https://wandb.ai/dlai211/tf-dnn-weighted-classifier/sweeps/rg1dnn5u</a>"
      ],
      "text/plain": [
       "<IPython.core.display.HTML object>"
      ]
     },
     "metadata": {},
     "output_type": "display_data"
    },
    {
     "data": {
      "text/html": [
       " View run at <a href='https://wandb.ai/dlai211/tf-dnn-weighted-classifier/runs/jd8wi2up' target=\"_blank\">https://wandb.ai/dlai211/tf-dnn-weighted-classifier/runs/jd8wi2up</a>"
      ],
      "text/plain": [
       "<IPython.core.display.HTML object>"
      ]
     },
     "metadata": {},
     "output_type": "display_data"
    },
    {
     "name": "stderr",
     "output_type": "stream",
     "text": [
      "/home/jlai/.local/share/mamba/envs/tf-gpu/lib/python3.10/site-packages/keras/src/layers/core/dense.py:93: UserWarning: Do not pass an `input_shape`/`input_dim` argument to a layer. When using Sequential models, prefer using an `Input(shape)` object as the first layer in the model instead.\n",
      "  super().__init__(activity_regularizer=activity_regularizer, **kwargs)\n"
     ]
    },
    {
     "name": "stdout",
     "output_type": "stream",
     "text": [
      "Epoch 1/50\n",
      "\u001b[1m2256/2256\u001b[0m \u001b[32m━━━━━━━━━━━━━━━━━━━━\u001b[0m\u001b[37m\u001b[0m \u001b[1m16s\u001b[0m 5ms/step - auc: 0.4797 - loss: 0.0310 - weighted_auc: 0.5279 - val_auc: 0.7771 - val_loss: 9.2635e-04 - val_weighted_auc: 0.8032\n",
      "Epoch 2/50\n",
      "\u001b[1m2256/2256\u001b[0m \u001b[32m━━━━━━━━━━━━━━━━━━━━\u001b[0m\u001b[37m\u001b[0m \u001b[1m7s\u001b[0m 3ms/step - auc: 0.7514 - loss: 9.4974e-04 - weighted_auc: 0.7673 - val_auc: 0.8268 - val_loss: 8.9558e-04 - val_weighted_auc: 0.8431\n",
      "Epoch 3/50\n",
      "\u001b[1m2256/2256\u001b[0m \u001b[32m━━━━━━━━━━━━━━━━━━━━\u001b[0m\u001b[37m\u001b[0m \u001b[1m7s\u001b[0m 3ms/step - auc: 0.7909 - loss: 9.0129e-04 - weighted_auc: 0.8009 - val_auc: 0.8415 - val_loss: 8.8468e-04 - val_weighted_auc: 0.8550\n",
      "Epoch 4/50\n",
      "\u001b[1m2256/2256\u001b[0m \u001b[32m━━━━━━━━━━━━━━━━━━━━\u001b[0m\u001b[37m\u001b[0m \u001b[1m7s\u001b[0m 3ms/step - auc: 0.8143 - loss: 8.8504e-04 - weighted_auc: 0.8244 - val_auc: 0.8480 - val_loss: 8.7871e-04 - val_weighted_auc: 0.8579\n",
      "Epoch 5/50\n",
      "\u001b[1m2256/2256\u001b[0m \u001b[32m━━━━━━━━━━━━━━━━━━━━\u001b[0m\u001b[37m\u001b[0m \u001b[1m7s\u001b[0m 3ms/step - auc: 0.8160 - loss: 8.7154e-04 - weighted_auc: 0.8251 - val_auc: 0.8560 - val_loss: 8.7621e-04 - val_weighted_auc: 0.8664\n",
      "Epoch 6/50\n",
      "\u001b[1m2256/2256\u001b[0m \u001b[32m━━━━━━━━━━━━━━━━━━━━\u001b[0m\u001b[37m\u001b[0m \u001b[1m7s\u001b[0m 3ms/step - auc: 0.8245 - loss: 8.5733e-04 - weighted_auc: 0.8335 - val_auc: 0.8594 - val_loss: 8.7654e-04 - val_weighted_auc: 0.8699\n",
      "Epoch 7/50\n",
      "\u001b[1m2256/2256\u001b[0m \u001b[32m━━━━━━━━━━━━━━━━━━━━\u001b[0m\u001b[37m\u001b[0m \u001b[1m7s\u001b[0m 3ms/step - auc: 0.8322 - loss: 8.4993e-04 - weighted_auc: 0.8413 - val_auc: 0.8622 - val_loss: 8.7916e-04 - val_weighted_auc: 0.8724\n",
      "Epoch 8/50\n",
      "\u001b[1m2256/2256\u001b[0m \u001b[32m━━━━━━━━━━━━━━━━━━━━\u001b[0m\u001b[37m\u001b[0m \u001b[1m7s\u001b[0m 3ms/step - auc: 0.8237 - loss: 8.5260e-04 - weighted_auc: 0.8308 - val_auc: 0.8626 - val_loss: 8.7430e-04 - val_weighted_auc: 0.8725\n",
      "Epoch 9/50\n",
      "\u001b[1m2256/2256\u001b[0m \u001b[32m━━━━━━━━━━━━━━━━━━━━\u001b[0m\u001b[37m\u001b[0m \u001b[1m7s\u001b[0m 3ms/step - auc: 0.8365 - loss: 8.3956e-04 - weighted_auc: 0.8442 - val_auc: 0.8646 - val_loss: 8.7719e-04 - val_weighted_auc: 0.8740\n",
      "Epoch 10/50\n",
      "\u001b[1m2256/2256\u001b[0m \u001b[32m━━━━━━━━━━━━━━━━━━━━\u001b[0m\u001b[37m\u001b[0m \u001b[1m7s\u001b[0m 3ms/step - auc: 0.8379 - loss: 8.3737e-04 - weighted_auc: 0.8466 - val_auc: 0.8660 - val_loss: 8.6804e-04 - val_weighted_auc: 0.8743\n",
      "Epoch 11/50\n",
      "\u001b[1m2256/2256\u001b[0m \u001b[32m━━━━━━━━━━━━━━━━━━━━\u001b[0m\u001b[37m\u001b[0m \u001b[1m7s\u001b[0m 3ms/step - auc: 0.8486 - loss: 8.2846e-04 - weighted_auc: 0.8570 - val_auc: 0.8589 - val_loss: 8.5533e-04 - val_weighted_auc: 0.8675\n",
      "Epoch 12/50\n",
      "\u001b[1m2256/2256\u001b[0m \u001b[32m━━━━━━━━━━━━━━━━━━━━\u001b[0m\u001b[37m\u001b[0m \u001b[1m7s\u001b[0m 3ms/step - auc: 0.8412 - loss: 8.2860e-04 - weighted_auc: 0.8479 - val_auc: 0.8591 - val_loss: 8.5876e-04 - val_weighted_auc: 0.8678\n",
      "Epoch 13/50\n",
      "\u001b[1m2256/2256\u001b[0m \u001b[32m━━━━━━━━━━━━━━━━━━━━\u001b[0m\u001b[37m\u001b[0m \u001b[1m7s\u001b[0m 3ms/step - auc: 0.8455 - loss: 8.2691e-04 - weighted_auc: 0.8519 - val_auc: 0.8601 - val_loss: 8.5473e-04 - val_weighted_auc: 0.8681\n",
      "Epoch 14/50\n",
      "\u001b[1m2256/2256\u001b[0m \u001b[32m━━━━━━━━━━━━━━━━━━━━\u001b[0m\u001b[37m\u001b[0m \u001b[1m7s\u001b[0m 3ms/step - auc: 0.8409 - loss: 8.2524e-04 - weighted_auc: 0.8472 - val_auc: 0.8662 - val_loss: 8.6728e-04 - val_weighted_auc: 0.8740\n",
      "Epoch 15/50\n",
      "\u001b[1m2256/2256\u001b[0m \u001b[32m━━━━━━━━━━━━━━━━━━━━\u001b[0m\u001b[37m\u001b[0m \u001b[1m8s\u001b[0m 3ms/step - auc: 0.8489 - loss: 8.2216e-04 - weighted_auc: 0.8568 - val_auc: 0.8705 - val_loss: 8.6745e-04 - val_weighted_auc: 0.8793\n",
      "Epoch 16/50\n",
      "\u001b[1m2256/2256\u001b[0m \u001b[32m━━━━━━━━━━━━━━━━━━━━\u001b[0m\u001b[37m\u001b[0m \u001b[1m7s\u001b[0m 3ms/step - auc: 0.8461 - loss: 8.1509e-04 - weighted_auc: 0.8525 - val_auc: 0.8601 - val_loss: 8.4704e-04 - val_weighted_auc: 0.8670\n",
      "Epoch 17/50\n",
      "\u001b[1m2256/2256\u001b[0m \u001b[32m━━━━━━━━━━━━━━━━━━━━\u001b[0m\u001b[37m\u001b[0m \u001b[1m7s\u001b[0m 3ms/step - auc: 0.8458 - loss: 8.1460e-04 - weighted_auc: 0.8535 - val_auc: 0.8639 - val_loss: 8.5214e-04 - val_weighted_auc: 0.8702\n",
      "Epoch 18/50\n",
      "\u001b[1m2256/2256\u001b[0m \u001b[32m━━━━━━━━━━━━━━━━━━━━\u001b[0m\u001b[37m\u001b[0m \u001b[1m7s\u001b[0m 3ms/step - auc: 0.8455 - loss: 8.2176e-04 - weighted_auc: 0.8525 - val_auc: 0.8613 - val_loss: 8.4408e-04 - val_weighted_auc: 0.8674\n",
      "Epoch 19/50\n",
      "\u001b[1m2256/2256\u001b[0m \u001b[32m━━━━━━━━━━━━━━━━━━━━\u001b[0m\u001b[37m\u001b[0m \u001b[1m8s\u001b[0m 3ms/step - auc: 0.8547 - loss: 8.0776e-04 - weighted_auc: 0.8610 - val_auc: 0.8691 - val_loss: 8.5605e-04 - val_weighted_auc: 0.8761\n",
      "Epoch 20/50\n",
      "\u001b[1m2256/2256\u001b[0m \u001b[32m━━━━━━━━━━━━━━━━━━━━\u001b[0m\u001b[37m\u001b[0m \u001b[1m8s\u001b[0m 3ms/step - auc: 0.8509 - loss: 8.0825e-04 - weighted_auc: 0.8578 - val_auc: 0.8656 - val_loss: 8.4205e-04 - val_weighted_auc: 0.8721\n",
      "\u001b[1m30935/30935\u001b[0m \u001b[32m━━━━━━━━━━━━━━━━━━━━\u001b[0m\u001b[37m\u001b[0m \u001b[1m21s\u001b[0m 678us/step\n",
      "\u001b[1m3223/3223\u001b[0m \u001b[32m━━━━━━━━━━━━━━━━━━━━\u001b[0m\u001b[37m\u001b[0m \u001b[1m4s\u001b[0m 1ms/step\n"
     ]
    },
    {
     "data": {
      "text/html": [],
      "text/plain": [
       "<IPython.core.display.HTML object>"
      ]
     },
     "metadata": {},
     "output_type": "display_data"
    },
    {
     "data": {
      "text/html": [
       "<br>    <style><br>        .wandb-row {<br>            display: flex;<br>            flex-direction: row;<br>            flex-wrap: wrap;<br>            justify-content: flex-start;<br>            width: 100%;<br>        }<br>        .wandb-col {<br>            display: flex;<br>            flex-direction: column;<br>            flex-basis: 100%;<br>            flex: 1;<br>            padding: 10px;<br>        }<br>    </style><br><div class=\"wandb-row\"><div class=\"wandb-col\"><h3>Run history:</h3><br/><table class=\"wandb\"><tr><td>Acceptance</td><td>▁</td></tr><tr><td>Max S/sqrt(B)</td><td>▁</td></tr><tr><td>epoch/auc</td><td>▁▆▇▇▇▇▇▇████████████</td></tr><tr><td>epoch/epoch</td><td>▁▁▂▂▂▃▃▄▄▄▅▅▅▆▆▇▇▇██</td></tr><tr><td>epoch/learning_rate</td><td>▁▁▁▁▁▁▁▁▁▁▁▁▁▁▁▁▁▁▁▁</td></tr><tr><td>epoch/loss</td><td>█▁▁▁▁▁▁▁▁▁▁▁▁▁▁▁▁▁▁▁</td></tr><tr><td>epoch/val_auc</td><td>▁▅▆▆▇▇▇▇██▇▇▇██▇█▇██</td></tr><tr><td>epoch/val_loss</td><td>█▅▅▄▄▄▄▄▄▃▂▂▂▃▃▁▂▁▂▁</td></tr><tr><td>epoch/val_weighted_auc</td><td>▁▅▆▆▇▇▇▇██▇▇▇██▇▇▇█▇</td></tr><tr><td>epoch/weighted_auc</td><td>▁▆▇▇▇▇█▇████████████</td></tr><tr><td>final_val_roc_auc</td><td>▁</td></tr><tr><td>nnScore cut</td><td>▁</td></tr></table><br/></div><div class=\"wandb-col\"><h3>Run summary:</h3><br/><table class=\"wandb\"><tr><td>Acceptance</td><td>0.55586</td></tr><tr><td>Max S/sqrt(B)</td><td>2.88037</td></tr><tr><td>epoch/auc</td><td>0.84636</td></tr><tr><td>epoch/epoch</td><td>19</td></tr><tr><td>epoch/learning_rate</td><td>4e-05</td></tr><tr><td>epoch/loss</td><td>0.00082</td></tr><tr><td>epoch/val_auc</td><td>0.8656</td></tr><tr><td>epoch/val_loss</td><td>0.00084</td></tr><tr><td>epoch/val_weighted_auc</td><td>0.87213</td></tr><tr><td>epoch/weighted_auc</td><td>0.85596</td></tr><tr><td>final_val_roc_auc</td><td>0.976</td></tr><tr><td>nnScore cut</td><td>0.02</td></tr></table><br/></div></div>"
      ],
      "text/plain": [
       "<IPython.core.display.HTML object>"
      ]
     },
     "metadata": {},
     "output_type": "display_data"
    },
    {
     "data": {
      "text/html": [
       " View run <strong style=\"color:#cdcd00\">eternal-sweep-34</strong> at: <a href='https://wandb.ai/dlai211/tf-dnn-weighted-classifier/runs/jd8wi2up' target=\"_blank\">https://wandb.ai/dlai211/tf-dnn-weighted-classifier/runs/jd8wi2up</a><br> View project at: <a href='https://wandb.ai/dlai211/tf-dnn-weighted-classifier' target=\"_blank\">https://wandb.ai/dlai211/tf-dnn-weighted-classifier</a><br>Synced 5 W&B file(s), 1 media file(s), 0 artifact file(s) and 0 other file(s)"
      ],
      "text/plain": [
       "<IPython.core.display.HTML object>"
      ]
     },
     "metadata": {},
     "output_type": "display_data"
    },
    {
     "data": {
      "text/html": [
       "Find logs at: <code>./wandb/run-20250821_073620-jd8wi2up/logs</code>"
      ],
      "text/plain": [
       "<IPython.core.display.HTML object>"
      ]
     },
     "metadata": {},
     "output_type": "display_data"
    },
    {
     "name": "stderr",
     "output_type": "stream",
     "text": [
      "\u001b[34m\u001b[1mwandb\u001b[0m: Agent Starting Run: 5d0utqde with config:\n",
      "\u001b[34m\u001b[1mwandb\u001b[0m: \tbatch_size: 1024\n",
      "\u001b[34m\u001b[1mwandb\u001b[0m: \tdropout: 0.1643701582678895\n",
      "\u001b[34m\u001b[1mwandb\u001b[0m: \tepochs: 50\n",
      "\u001b[34m\u001b[1mwandb\u001b[0m: \tlayer_1: 256\n",
      "\u001b[34m\u001b[1mwandb\u001b[0m: \tlayer_2: 384\n",
      "\u001b[34m\u001b[1mwandb\u001b[0m: \tlayer_3: 768\n",
      "\u001b[34m\u001b[1mwandb\u001b[0m: \tlayer_4: 128\n",
      "\u001b[34m\u001b[1mwandb\u001b[0m: \tlayer_5: 96\n",
      "\u001b[34m\u001b[1mwandb\u001b[0m: \tlr: 0.00028715571029362934\n"
     ]
    },
    {
     "data": {
      "text/html": [
       "Ignoring project 'tf-dnn-weighted-classifier' when running a sweep."
      ],
      "text/plain": [
       "<IPython.core.display.HTML object>"
      ]
     },
     "metadata": {},
     "output_type": "display_data"
    },
    {
     "data": {
      "text/html": [
       "Tracking run with wandb version 0.21.0"
      ],
      "text/plain": [
       "<IPython.core.display.HTML object>"
      ]
     },
     "metadata": {},
     "output_type": "display_data"
    },
    {
     "data": {
      "text/html": [
       "Run data is saved locally in <code>/home/jlai/ML/jet_faking/wandb/run-20250821_073940-5d0utqde</code>"
      ],
      "text/plain": [
       "<IPython.core.display.HTML object>"
      ]
     },
     "metadata": {},
     "output_type": "display_data"
    },
    {
     "data": {
      "text/html": [
       "Syncing run <strong><a href='https://wandb.ai/dlai211/tf-dnn-weighted-classifier/runs/5d0utqde' target=\"_blank\">eager-sweep-35</a></strong> to <a href='https://wandb.ai/dlai211/tf-dnn-weighted-classifier' target=\"_blank\">Weights & Biases</a> (<a href='https://wandb.me/developer-guide' target=\"_blank\">docs</a>)<br>Sweep page: <a href='https://wandb.ai/dlai211/tf-dnn-weighted-classifier/sweeps/rg1dnn5u' target=\"_blank\">https://wandb.ai/dlai211/tf-dnn-weighted-classifier/sweeps/rg1dnn5u</a>"
      ],
      "text/plain": [
       "<IPython.core.display.HTML object>"
      ]
     },
     "metadata": {},
     "output_type": "display_data"
    },
    {
     "data": {
      "text/html": [
       " View project at <a href='https://wandb.ai/dlai211/tf-dnn-weighted-classifier' target=\"_blank\">https://wandb.ai/dlai211/tf-dnn-weighted-classifier</a>"
      ],
      "text/plain": [
       "<IPython.core.display.HTML object>"
      ]
     },
     "metadata": {},
     "output_type": "display_data"
    },
    {
     "data": {
      "text/html": [
       " View sweep at <a href='https://wandb.ai/dlai211/tf-dnn-weighted-classifier/sweeps/rg1dnn5u' target=\"_blank\">https://wandb.ai/dlai211/tf-dnn-weighted-classifier/sweeps/rg1dnn5u</a>"
      ],
      "text/plain": [
       "<IPython.core.display.HTML object>"
      ]
     },
     "metadata": {},
     "output_type": "display_data"
    },
    {
     "data": {
      "text/html": [
       " View run at <a href='https://wandb.ai/dlai211/tf-dnn-weighted-classifier/runs/5d0utqde' target=\"_blank\">https://wandb.ai/dlai211/tf-dnn-weighted-classifier/runs/5d0utqde</a>"
      ],
      "text/plain": [
       "<IPython.core.display.HTML object>"
      ]
     },
     "metadata": {},
     "output_type": "display_data"
    },
    {
     "name": "stderr",
     "output_type": "stream",
     "text": [
      "/home/jlai/.local/share/mamba/envs/tf-gpu/lib/python3.10/site-packages/keras/src/layers/core/dense.py:93: UserWarning: Do not pass an `input_shape`/`input_dim` argument to a layer. When using Sequential models, prefer using an `Input(shape)` object as the first layer in the model instead.\n",
      "  super().__init__(activity_regularizer=activity_regularizer, **kwargs)\n"
     ]
    },
    {
     "name": "stdout",
     "output_type": "stream",
     "text": [
      "Epoch 1/50\n",
      "\u001b[1m2256/2256\u001b[0m \u001b[32m━━━━━━━━━━━━━━━━━━━━\u001b[0m\u001b[37m\u001b[0m \u001b[1m15s\u001b[0m 5ms/step - auc: 0.6316 - loss: 0.0105 - weighted_auc: 0.6479 - val_auc: 0.8321 - val_loss: 8.7834e-04 - val_weighted_auc: 0.8458\n",
      "Epoch 2/50\n",
      "\u001b[1m2256/2256\u001b[0m \u001b[32m━━━━━━━━━━━━━━━━━━━━\u001b[0m\u001b[37m\u001b[0m \u001b[1m6s\u001b[0m 3ms/step - auc: 0.8067 - loss: 8.8777e-04 - weighted_auc: 0.8190 - val_auc: 0.8029 - val_loss: 8.6344e-04 - val_weighted_auc: 0.8136\n",
      "Epoch 3/50\n",
      "\u001b[1m2256/2256\u001b[0m \u001b[32m━━━━━━━━━━━━━━━━━━━━\u001b[0m\u001b[37m\u001b[0m \u001b[1m7s\u001b[0m 3ms/step - auc: 0.8114 - loss: 8.6428e-04 - weighted_auc: 0.8228 - val_auc: 0.8086 - val_loss: 8.6767e-04 - val_weighted_auc: 0.8162\n",
      "Epoch 4/50\n",
      "\u001b[1m2256/2256\u001b[0m \u001b[32m━━━━━━━━━━━━━━━━━━━━\u001b[0m\u001b[37m\u001b[0m \u001b[1m6s\u001b[0m 3ms/step - auc: 0.8235 - loss: 8.5997e-04 - weighted_auc: 0.8314 - val_auc: 0.8293 - val_loss: 8.4562e-04 - val_weighted_auc: 0.8355\n",
      "Epoch 5/50\n",
      "\u001b[1m2256/2256\u001b[0m \u001b[32m━━━━━━━━━━━━━━━━━━━━\u001b[0m\u001b[37m\u001b[0m \u001b[1m7s\u001b[0m 3ms/step - auc: 0.8360 - loss: 8.4656e-04 - weighted_auc: 0.8427 - val_auc: 0.8298 - val_loss: 8.4010e-04 - val_weighted_auc: 0.8351\n",
      "Epoch 6/50\n",
      "\u001b[1m2256/2256\u001b[0m \u001b[32m━━━━━━━━━━━━━━━━━━━━\u001b[0m\u001b[37m\u001b[0m \u001b[1m7s\u001b[0m 3ms/step - auc: 0.8394 - loss: 8.3065e-04 - weighted_auc: 0.8463 - val_auc: 0.8309 - val_loss: 8.3977e-04 - val_weighted_auc: 0.8380\n",
      "\u001b[1m30935/30935\u001b[0m \u001b[32m━━━━━━━━━━━━━━━━━━━━\u001b[0m\u001b[37m\u001b[0m \u001b[1m21s\u001b[0m 684us/step\n",
      "\u001b[1m3223/3223\u001b[0m \u001b[32m━━━━━━━━━━━━━━━━━━━━\u001b[0m\u001b[37m\u001b[0m \u001b[1m3s\u001b[0m 902us/step\n"
     ]
    },
    {
     "data": {
      "text/html": [],
      "text/plain": [
       "<IPython.core.display.HTML object>"
      ]
     },
     "metadata": {},
     "output_type": "display_data"
    },
    {
     "data": {
      "text/html": [
       "<br>    <style><br>        .wandb-row {<br>            display: flex;<br>            flex-direction: row;<br>            flex-wrap: wrap;<br>            justify-content: flex-start;<br>            width: 100%;<br>        }<br>        .wandb-col {<br>            display: flex;<br>            flex-direction: column;<br>            flex-basis: 100%;<br>            flex: 1;<br>            padding: 10px;<br>        }<br>    </style><br><div class=\"wandb-row\"><div class=\"wandb-col\"><h3>Run history:</h3><br/><table class=\"wandb\"><tr><td>Acceptance</td><td>▁</td></tr><tr><td>Max S/sqrt(B)</td><td>▁</td></tr><tr><td>epoch/auc</td><td>▁▆▇▇██</td></tr><tr><td>epoch/epoch</td><td>▁▂▄▅▇█</td></tr><tr><td>epoch/learning_rate</td><td>▁▁▁▁▁▁</td></tr><tr><td>epoch/loss</td><td>█▁▁▁▁▁</td></tr><tr><td>epoch/val_auc</td><td>█▁▂▇▇█</td></tr><tr><td>epoch/val_loss</td><td>█▅▆▂▁▁</td></tr><tr><td>epoch/val_weighted_auc</td><td>█▁▂▆▆▆</td></tr><tr><td>epoch/weighted_auc</td><td>▁▆▇▇██</td></tr><tr><td>final_val_roc_auc</td><td>▁</td></tr><tr><td>nnScore cut</td><td>▁</td></tr></table><br/></div><div class=\"wandb-col\"><h3>Run summary:</h3><br/><table class=\"wandb\"><tr><td>Acceptance</td><td>0.54091</td></tr><tr><td>Max S/sqrt(B)</td><td>2.91578</td></tr><tr><td>epoch/auc</td><td>0.83773</td></tr><tr><td>epoch/epoch</td><td>5</td></tr><tr><td>epoch/learning_rate</td><td>0.00029</td></tr><tr><td>epoch/loss</td><td>0.00084</td></tr><tr><td>epoch/val_auc</td><td>0.83088</td></tr><tr><td>epoch/val_loss</td><td>0.00084</td></tr><tr><td>epoch/val_weighted_auc</td><td>0.83801</td></tr><tr><td>epoch/weighted_auc</td><td>0.84813</td></tr><tr><td>final_val_roc_auc</td><td>0.97149</td></tr><tr><td>nnScore cut</td><td>0.03</td></tr></table><br/></div></div>"
      ],
      "text/plain": [
       "<IPython.core.display.HTML object>"
      ]
     },
     "metadata": {},
     "output_type": "display_data"
    },
    {
     "data": {
      "text/html": [
       " View run <strong style=\"color:#cdcd00\">eager-sweep-35</strong> at: <a href='https://wandb.ai/dlai211/tf-dnn-weighted-classifier/runs/5d0utqde' target=\"_blank\">https://wandb.ai/dlai211/tf-dnn-weighted-classifier/runs/5d0utqde</a><br> View project at: <a href='https://wandb.ai/dlai211/tf-dnn-weighted-classifier' target=\"_blank\">https://wandb.ai/dlai211/tf-dnn-weighted-classifier</a><br>Synced 5 W&B file(s), 1 media file(s), 0 artifact file(s) and 0 other file(s)"
      ],
      "text/plain": [
       "<IPython.core.display.HTML object>"
      ]
     },
     "metadata": {},
     "output_type": "display_data"
    },
    {
     "data": {
      "text/html": [
       "Find logs at: <code>./wandb/run-20250821_073940-5d0utqde/logs</code>"
      ],
      "text/plain": [
       "<IPython.core.display.HTML object>"
      ]
     },
     "metadata": {},
     "output_type": "display_data"
    },
    {
     "name": "stderr",
     "output_type": "stream",
     "text": [
      "\u001b[34m\u001b[1mwandb\u001b[0m: Agent Starting Run: nbfdyehx with config:\n",
      "\u001b[34m\u001b[1mwandb\u001b[0m: \tbatch_size: 768\n",
      "\u001b[34m\u001b[1mwandb\u001b[0m: \tdropout: 0.2687019195933214\n",
      "\u001b[34m\u001b[1mwandb\u001b[0m: \tepochs: 50\n",
      "\u001b[34m\u001b[1mwandb\u001b[0m: \tlayer_1: 128\n",
      "\u001b[34m\u001b[1mwandb\u001b[0m: \tlayer_2: 512\n",
      "\u001b[34m\u001b[1mwandb\u001b[0m: \tlayer_3: 2048\n",
      "\u001b[34m\u001b[1mwandb\u001b[0m: \tlayer_4: 384\n",
      "\u001b[34m\u001b[1mwandb\u001b[0m: \tlayer_5: 64\n",
      "\u001b[34m\u001b[1mwandb\u001b[0m: \tlr: 3.436608771374779e-05\n"
     ]
    },
    {
     "data": {
      "text/html": [
       "Ignoring project 'tf-dnn-weighted-classifier' when running a sweep."
      ],
      "text/plain": [
       "<IPython.core.display.HTML object>"
      ]
     },
     "metadata": {},
     "output_type": "display_data"
    },
    {
     "data": {
      "text/html": [
       "Tracking run with wandb version 0.21.0"
      ],
      "text/plain": [
       "<IPython.core.display.HTML object>"
      ]
     },
     "metadata": {},
     "output_type": "display_data"
    },
    {
     "data": {
      "text/html": [
       "Run data is saved locally in <code>/home/jlai/ML/jet_faking/wandb/run-20250821_074116-nbfdyehx</code>"
      ],
      "text/plain": [
       "<IPython.core.display.HTML object>"
      ]
     },
     "metadata": {},
     "output_type": "display_data"
    },
    {
     "data": {
      "text/html": [
       "Syncing run <strong><a href='https://wandb.ai/dlai211/tf-dnn-weighted-classifier/runs/nbfdyehx' target=\"_blank\">different-sweep-36</a></strong> to <a href='https://wandb.ai/dlai211/tf-dnn-weighted-classifier' target=\"_blank\">Weights & Biases</a> (<a href='https://wandb.me/developer-guide' target=\"_blank\">docs</a>)<br>Sweep page: <a href='https://wandb.ai/dlai211/tf-dnn-weighted-classifier/sweeps/rg1dnn5u' target=\"_blank\">https://wandb.ai/dlai211/tf-dnn-weighted-classifier/sweeps/rg1dnn5u</a>"
      ],
      "text/plain": [
       "<IPython.core.display.HTML object>"
      ]
     },
     "metadata": {},
     "output_type": "display_data"
    },
    {
     "data": {
      "text/html": [
       " View project at <a href='https://wandb.ai/dlai211/tf-dnn-weighted-classifier' target=\"_blank\">https://wandb.ai/dlai211/tf-dnn-weighted-classifier</a>"
      ],
      "text/plain": [
       "<IPython.core.display.HTML object>"
      ]
     },
     "metadata": {},
     "output_type": "display_data"
    },
    {
     "data": {
      "text/html": [
       " View sweep at <a href='https://wandb.ai/dlai211/tf-dnn-weighted-classifier/sweeps/rg1dnn5u' target=\"_blank\">https://wandb.ai/dlai211/tf-dnn-weighted-classifier/sweeps/rg1dnn5u</a>"
      ],
      "text/plain": [
       "<IPython.core.display.HTML object>"
      ]
     },
     "metadata": {},
     "output_type": "display_data"
    },
    {
     "data": {
      "text/html": [
       " View run at <a href='https://wandb.ai/dlai211/tf-dnn-weighted-classifier/runs/nbfdyehx' target=\"_blank\">https://wandb.ai/dlai211/tf-dnn-weighted-classifier/runs/nbfdyehx</a>"
      ],
      "text/plain": [
       "<IPython.core.display.HTML object>"
      ]
     },
     "metadata": {},
     "output_type": "display_data"
    },
    {
     "name": "stderr",
     "output_type": "stream",
     "text": [
      "/home/jlai/.local/share/mamba/envs/tf-gpu/lib/python3.10/site-packages/keras/src/layers/core/dense.py:93: UserWarning: Do not pass an `input_shape`/`input_dim` argument to a layer. When using Sequential models, prefer using an `Input(shape)` object as the first layer in the model instead.\n",
      "  super().__init__(activity_regularizer=activity_regularizer, **kwargs)\n"
     ]
    },
    {
     "name": "stdout",
     "output_type": "stream",
     "text": [
      "Epoch 1/50\n",
      "\u001b[1m3008/3008\u001b[0m \u001b[32m━━━━━━━━━━━━━━━━━━━━\u001b[0m\u001b[37m\u001b[0m \u001b[1m18s\u001b[0m 5ms/step - auc: 0.5266 - loss: 0.0173 - weighted_auc: 0.5506 - val_auc: 0.7350 - val_loss: 9.6651e-04 - val_weighted_auc: 0.7544\n",
      "Epoch 2/50\n",
      "\u001b[1m3008/3008\u001b[0m \u001b[32m━━━━━━━━━━━━━━━━━━━━\u001b[0m\u001b[37m\u001b[0m \u001b[1m10s\u001b[0m 3ms/step - auc: 0.6755 - loss: 0.0011 - weighted_auc: 0.6904 - val_auc: 0.8420 - val_loss: 9.4340e-04 - val_weighted_auc: 0.8587\n",
      "Epoch 3/50\n",
      "\u001b[1m3008/3008\u001b[0m \u001b[32m━━━━━━━━━━━━━━━━━━━━\u001b[0m\u001b[37m\u001b[0m \u001b[1m10s\u001b[0m 3ms/step - auc: 0.7644 - loss: 9.5783e-04 - weighted_auc: 0.7766 - val_auc: 0.8520 - val_loss: 9.2674e-04 - val_weighted_auc: 0.8651\n",
      "Epoch 4/50\n",
      "\u001b[1m3008/3008\u001b[0m \u001b[32m━━━━━━━━━━━━━━━━━━━━\u001b[0m\u001b[37m\u001b[0m \u001b[1m10s\u001b[0m 3ms/step - auc: 0.7789 - loss: 9.2594e-04 - weighted_auc: 0.7885 - val_auc: 0.8573 - val_loss: 9.1717e-04 - val_weighted_auc: 0.8697\n",
      "Epoch 5/50\n",
      "\u001b[1m3008/3008\u001b[0m \u001b[32m━━━━━━━━━━━━━━━━━━━━\u001b[0m\u001b[37m\u001b[0m \u001b[1m10s\u001b[0m 3ms/step - auc: 0.7857 - loss: 9.1821e-04 - weighted_auc: 0.7960 - val_auc: 0.8717 - val_loss: 9.4553e-04 - val_weighted_auc: 0.8836\n",
      "Epoch 6/50\n",
      "\u001b[1m3008/3008\u001b[0m \u001b[32m━━━━━━━━━━━━━━━━━━━━\u001b[0m\u001b[37m\u001b[0m \u001b[1m10s\u001b[0m 3ms/step - auc: 0.8016 - loss: 8.9876e-04 - weighted_auc: 0.8112 - val_auc: 0.8702 - val_loss: 9.3519e-04 - val_weighted_auc: 0.8823\n",
      "Epoch 7/50\n",
      "\u001b[1m3008/3008\u001b[0m \u001b[32m━━━━━━━━━━━━━━━━━━━━\u001b[0m\u001b[37m\u001b[0m \u001b[1m10s\u001b[0m 3ms/step - auc: 0.8005 - loss: 8.9846e-04 - weighted_auc: 0.8100 - val_auc: 0.8719 - val_loss: 9.4112e-04 - val_weighted_auc: 0.8844\n",
      "Epoch 8/50\n",
      "\u001b[1m3008/3008\u001b[0m \u001b[32m━━━━━━━━━━━━━━━━━━━━\u001b[0m\u001b[37m\u001b[0m \u001b[1m10s\u001b[0m 3ms/step - auc: 0.8069 - loss: 8.8475e-04 - weighted_auc: 0.8186 - val_auc: 0.8755 - val_loss: 9.3722e-04 - val_weighted_auc: 0.8874\n",
      "Epoch 9/50\n",
      "\u001b[1m3008/3008\u001b[0m \u001b[32m━━━━━━━━━━━━━━━━━━━━\u001b[0m\u001b[37m\u001b[0m \u001b[1m10s\u001b[0m 3ms/step - auc: 0.8070 - loss: 8.8129e-04 - weighted_auc: 0.8133 - val_auc: 0.8738 - val_loss: 9.1989e-04 - val_weighted_auc: 0.8850\n",
      "Epoch 10/50\n",
      "\u001b[1m3008/3008\u001b[0m \u001b[32m━━━━━━━━━━━━━━━━━━━━\u001b[0m\u001b[37m\u001b[0m \u001b[1m10s\u001b[0m 3ms/step - auc: 0.8170 - loss: 8.7355e-04 - weighted_auc: 0.8247 - val_auc: 0.8727 - val_loss: 9.1569e-04 - val_weighted_auc: 0.8833\n",
      "Epoch 11/50\n",
      "\u001b[1m3008/3008\u001b[0m \u001b[32m━━━━━━━━━━━━━━━━━━━━\u001b[0m\u001b[37m\u001b[0m \u001b[1m10s\u001b[0m 3ms/step - auc: 0.8207 - loss: 8.6721e-04 - weighted_auc: 0.8292 - val_auc: 0.8710 - val_loss: 9.0563e-04 - val_weighted_auc: 0.8811\n",
      "Epoch 12/50\n",
      "\u001b[1m3008/3008\u001b[0m \u001b[32m━━━━━━━━━━━━━━━━━━━━\u001b[0m\u001b[37m\u001b[0m \u001b[1m10s\u001b[0m 3ms/step - auc: 0.8212 - loss: 8.6458e-04 - weighted_auc: 0.8319 - val_auc: 0.8785 - val_loss: 9.1720e-04 - val_weighted_auc: 0.8884\n",
      "Epoch 13/50\n",
      "\u001b[1m3008/3008\u001b[0m \u001b[32m━━━━━━━━━━━━━━━━━━━━\u001b[0m\u001b[37m\u001b[0m \u001b[1m10s\u001b[0m 3ms/step - auc: 0.8241 - loss: 8.6276e-04 - weighted_auc: 0.8344 - val_auc: 0.8776 - val_loss: 9.1028e-04 - val_weighted_auc: 0.8878\n",
      "Epoch 14/50\n",
      "\u001b[1m3008/3008\u001b[0m \u001b[32m━━━━━━━━━━━━━━━━━━━━\u001b[0m\u001b[37m\u001b[0m \u001b[1m10s\u001b[0m 3ms/step - auc: 0.8337 - loss: 8.5115e-04 - weighted_auc: 0.8438 - val_auc: 0.8752 - val_loss: 8.9305e-04 - val_weighted_auc: 0.8846\n",
      "Epoch 15/50\n",
      "\u001b[1m3008/3008\u001b[0m \u001b[32m━━━━━━━━━━━━━━━━━━━━\u001b[0m\u001b[37m\u001b[0m \u001b[1m10s\u001b[0m 3ms/step - auc: 0.8304 - loss: 8.5583e-04 - weighted_auc: 0.8380 - val_auc: 0.8788 - val_loss: 9.1919e-04 - val_weighted_auc: 0.8886\n",
      "Epoch 16/50\n",
      "\u001b[1m3008/3008\u001b[0m \u001b[32m━━━━━━━━━━━━━━━━━━━━\u001b[0m\u001b[37m\u001b[0m \u001b[1m10s\u001b[0m 3ms/step - auc: 0.8357 - loss: 8.4814e-04 - weighted_auc: 0.8462 - val_auc: 0.8771 - val_loss: 8.9376e-04 - val_weighted_auc: 0.8868\n",
      "Epoch 17/50\n",
      "\u001b[1m3008/3008\u001b[0m \u001b[32m━━━━━━━━━━━━━━━━━━━━\u001b[0m\u001b[37m\u001b[0m \u001b[1m10s\u001b[0m 3ms/step - auc: 0.8292 - loss: 8.4936e-04 - weighted_auc: 0.8367 - val_auc: 0.8769 - val_loss: 8.9918e-04 - val_weighted_auc: 0.8864\n",
      "Epoch 18/50\n",
      "\u001b[1m3008/3008\u001b[0m \u001b[32m━━━━━━━━━━━━━━━━━━━━\u001b[0m\u001b[37m\u001b[0m \u001b[1m10s\u001b[0m 3ms/step - auc: 0.8354 - loss: 8.4790e-04 - weighted_auc: 0.8409 - val_auc: 0.8727 - val_loss: 8.8043e-04 - val_weighted_auc: 0.8816\n",
      "Epoch 19/50\n",
      "\u001b[1m3008/3008\u001b[0m \u001b[32m━━━━━━━━━━━━━━━━━━━━\u001b[0m\u001b[37m\u001b[0m \u001b[1m10s\u001b[0m 3ms/step - auc: 0.8349 - loss: 8.4820e-04 - weighted_auc: 0.8427 - val_auc: 0.8804 - val_loss: 9.0124e-04 - val_weighted_auc: 0.8897\n",
      "Epoch 20/50\n",
      "\u001b[1m3008/3008\u001b[0m \u001b[32m━━━━━━━━━━━━━━━━━━━━\u001b[0m\u001b[37m\u001b[0m \u001b[1m10s\u001b[0m 3ms/step - auc: 0.8394 - loss: 8.4020e-04 - weighted_auc: 0.8472 - val_auc: 0.8806 - val_loss: 9.1002e-04 - val_weighted_auc: 0.8902\n",
      "Epoch 21/50\n",
      "\u001b[1m3008/3008\u001b[0m \u001b[32m━━━━━━━━━━━━━━━━━━━━\u001b[0m\u001b[37m\u001b[0m \u001b[1m10s\u001b[0m 3ms/step - auc: 0.8443 - loss: 8.3894e-04 - weighted_auc: 0.8510 - val_auc: 0.8778 - val_loss: 8.9892e-04 - val_weighted_auc: 0.8869\n",
      "Epoch 22/50\n",
      "\u001b[1m3008/3008\u001b[0m \u001b[32m━━━━━━━━━━━━━━━━━━━━\u001b[0m\u001b[37m\u001b[0m \u001b[1m10s\u001b[0m 3ms/step - auc: 0.8388 - loss: 8.3963e-04 - weighted_auc: 0.8454 - val_auc: 0.8839 - val_loss: 9.1003e-04 - val_weighted_auc: 0.8924\n",
      "Epoch 23/50\n",
      "\u001b[1m3008/3008\u001b[0m \u001b[32m━━━━━━━━━━━━━━━━━━━━\u001b[0m\u001b[37m\u001b[0m \u001b[1m10s\u001b[0m 3ms/step - auc: 0.8432 - loss: 8.3500e-04 - weighted_auc: 0.8505 - val_auc: 0.8772 - val_loss: 8.8407e-04 - val_weighted_auc: 0.8858\n",
      "Epoch 24/50\n",
      "\u001b[1m3008/3008\u001b[0m \u001b[32m━━━━━━━━━━━━━━━━━━━━\u001b[0m\u001b[37m\u001b[0m \u001b[1m10s\u001b[0m 3ms/step - auc: 0.8426 - loss: 8.3745e-04 - weighted_auc: 0.8504 - val_auc: 0.8743 - val_loss: 8.7639e-04 - val_weighted_auc: 0.8827\n",
      "Epoch 25/50\n",
      "\u001b[1m3008/3008\u001b[0m \u001b[32m━━━━━━━━━━━━━━━━━━━━\u001b[0m\u001b[37m\u001b[0m \u001b[1m10s\u001b[0m 3ms/step - auc: 0.8452 - loss: 8.3340e-04 - weighted_auc: 0.8538 - val_auc: 0.8759 - val_loss: 8.8000e-04 - val_weighted_auc: 0.8843\n",
      "Epoch 26/50\n",
      "\u001b[1m3008/3008\u001b[0m \u001b[32m━━━━━━━━━━━━━━━━━━━━\u001b[0m\u001b[37m\u001b[0m \u001b[1m10s\u001b[0m 3ms/step - auc: 0.8370 - loss: 8.3463e-04 - weighted_auc: 0.8448 - val_auc: 0.8813 - val_loss: 8.8939e-04 - val_weighted_auc: 0.8897\n",
      "Epoch 27/50\n",
      "\u001b[1m3008/3008\u001b[0m \u001b[32m━━━━━━━━━━━━━━━━━━━━\u001b[0m\u001b[37m\u001b[0m \u001b[1m10s\u001b[0m 3ms/step - auc: 0.8397 - loss: 8.2895e-04 - weighted_auc: 0.8465 - val_auc: 0.8735 - val_loss: 8.6821e-04 - val_weighted_auc: 0.8817\n",
      "\u001b[1m30935/30935\u001b[0m \u001b[32m━━━━━━━━━━━━━━━━━━━━\u001b[0m\u001b[37m\u001b[0m \u001b[1m22s\u001b[0m 707us/step\n",
      "\u001b[1m4297/4297\u001b[0m \u001b[32m━━━━━━━━━━━━━━━━━━━━\u001b[0m\u001b[37m\u001b[0m \u001b[1m5s\u001b[0m 1ms/step\n"
     ]
    },
    {
     "data": {
      "text/html": [],
      "text/plain": [
       "<IPython.core.display.HTML object>"
      ]
     },
     "metadata": {},
     "output_type": "display_data"
    },
    {
     "data": {
      "text/html": [
       "<br>    <style><br>        .wandb-row {<br>            display: flex;<br>            flex-direction: row;<br>            flex-wrap: wrap;<br>            justify-content: flex-start;<br>            width: 100%;<br>        }<br>        .wandb-col {<br>            display: flex;<br>            flex-direction: column;<br>            flex-basis: 100%;<br>            flex: 1;<br>            padding: 10px;<br>        }<br>    </style><br><div class=\"wandb-row\"><div class=\"wandb-col\"><h3>Run history:</h3><br/><table class=\"wandb\"><tr><td>Acceptance</td><td>▁</td></tr><tr><td>Max S/sqrt(B)</td><td>▁</td></tr><tr><td>epoch/auc</td><td>▁▅▆▇▇▇▇▇▇▇▇████████████████</td></tr><tr><td>epoch/epoch</td><td>▁▁▂▂▂▂▃▃▃▃▄▄▄▅▅▅▅▆▆▆▆▇▇▇▇██</td></tr><tr><td>epoch/learning_rate</td><td>▁▁▁▁▁▁▁▁▁▁▁▁▁▁▁▁▁▁▁▁▁▁▁▁▁▁▁</td></tr><tr><td>epoch/loss</td><td>█▁▁▁▁▁▁▁▁▁▁▁▁▁▁▁▁▁▁▁▁▁▁▁▁▁▁</td></tr><tr><td>epoch/val_auc</td><td>▁▆▆▇▇▇▇██▇▇██████▇█████████</td></tr><tr><td>epoch/val_loss</td><td>█▆▅▄▇▆▆▆▅▄▄▄▄▃▅▃▃▂▃▄▃▄▂▂▂▃▁</td></tr><tr><td>epoch/val_weighted_auc</td><td>▁▆▇▇█▇████▇██████▇████████▇</td></tr><tr><td>epoch/weighted_auc</td><td>▁▅▆▇▇▇▇▇▇▇█████████████████</td></tr><tr><td>final_val_roc_auc</td><td>▁</td></tr><tr><td>nnScore cut</td><td>▁</td></tr></table><br/></div><div class=\"wandb-col\"><h3>Run summary:</h3><br/><table class=\"wandb\"><tr><td>Acceptance</td><td>0.63454</td></tr><tr><td>Max S/sqrt(B)</td><td>2.42627</td></tr><tr><td>epoch/auc</td><td>0.83604</td></tr><tr><td>epoch/epoch</td><td>26</td></tr><tr><td>epoch/learning_rate</td><td>3e-05</td></tr><tr><td>epoch/loss</td><td>0.00085</td></tr><tr><td>epoch/val_auc</td><td>0.87353</td></tr><tr><td>epoch/val_loss</td><td>0.00087</td></tr><tr><td>epoch/val_weighted_auc</td><td>0.88172</td></tr><tr><td>epoch/weighted_auc</td><td>0.84614</td></tr><tr><td>final_val_roc_auc</td><td>0.97512</td></tr><tr><td>nnScore cut</td><td>0.01</td></tr></table><br/></div></div>"
      ],
      "text/plain": [
       "<IPython.core.display.HTML object>"
      ]
     },
     "metadata": {},
     "output_type": "display_data"
    },
    {
     "data": {
      "text/html": [
       " View run <strong style=\"color:#cdcd00\">different-sweep-36</strong> at: <a href='https://wandb.ai/dlai211/tf-dnn-weighted-classifier/runs/nbfdyehx' target=\"_blank\">https://wandb.ai/dlai211/tf-dnn-weighted-classifier/runs/nbfdyehx</a><br> View project at: <a href='https://wandb.ai/dlai211/tf-dnn-weighted-classifier' target=\"_blank\">https://wandb.ai/dlai211/tf-dnn-weighted-classifier</a><br>Synced 5 W&B file(s), 1 media file(s), 0 artifact file(s) and 0 other file(s)"
      ],
      "text/plain": [
       "<IPython.core.display.HTML object>"
      ]
     },
     "metadata": {},
     "output_type": "display_data"
    },
    {
     "data": {
      "text/html": [
       "Find logs at: <code>./wandb/run-20250821_074116-nbfdyehx/logs</code>"
      ],
      "text/plain": [
       "<IPython.core.display.HTML object>"
      ]
     },
     "metadata": {},
     "output_type": "display_data"
    },
    {
     "name": "stderr",
     "output_type": "stream",
     "text": [
      "\u001b[34m\u001b[1mwandb\u001b[0m: Agent Starting Run: ryf1oajb with config:\n",
      "\u001b[34m\u001b[1mwandb\u001b[0m: \tbatch_size: 768\n",
      "\u001b[34m\u001b[1mwandb\u001b[0m: \tdropout: 0.16297006927723667\n",
      "\u001b[34m\u001b[1mwandb\u001b[0m: \tepochs: 50\n",
      "\u001b[34m\u001b[1mwandb\u001b[0m: \tlayer_1: 192\n",
      "\u001b[34m\u001b[1mwandb\u001b[0m: \tlayer_2: 512\n",
      "\u001b[34m\u001b[1mwandb\u001b[0m: \tlayer_3: 2048\n",
      "\u001b[34m\u001b[1mwandb\u001b[0m: \tlayer_4: 512\n",
      "\u001b[34m\u001b[1mwandb\u001b[0m: \tlayer_5: 128\n",
      "\u001b[34m\u001b[1mwandb\u001b[0m: \tlr: 3.332840656099446e-05\n"
     ]
    },
    {
     "data": {
      "text/html": [
       "Ignoring project 'tf-dnn-weighted-classifier' when running a sweep."
      ],
      "text/plain": [
       "<IPython.core.display.HTML object>"
      ]
     },
     "metadata": {},
     "output_type": "display_data"
    },
    {
     "data": {
      "text/html": [
       "Tracking run with wandb version 0.21.0"
      ],
      "text/plain": [
       "<IPython.core.display.HTML object>"
      ]
     },
     "metadata": {},
     "output_type": "display_data"
    },
    {
     "data": {
      "text/html": [
       "Run data is saved locally in <code>/home/jlai/ML/jet_faking/wandb/run-20250821_074650-ryf1oajb</code>"
      ],
      "text/plain": [
       "<IPython.core.display.HTML object>"
      ]
     },
     "metadata": {},
     "output_type": "display_data"
    },
    {
     "data": {
      "text/html": [
       "Syncing run <strong><a href='https://wandb.ai/dlai211/tf-dnn-weighted-classifier/runs/ryf1oajb' target=\"_blank\">leafy-sweep-37</a></strong> to <a href='https://wandb.ai/dlai211/tf-dnn-weighted-classifier' target=\"_blank\">Weights & Biases</a> (<a href='https://wandb.me/developer-guide' target=\"_blank\">docs</a>)<br>Sweep page: <a href='https://wandb.ai/dlai211/tf-dnn-weighted-classifier/sweeps/rg1dnn5u' target=\"_blank\">https://wandb.ai/dlai211/tf-dnn-weighted-classifier/sweeps/rg1dnn5u</a>"
      ],
      "text/plain": [
       "<IPython.core.display.HTML object>"
      ]
     },
     "metadata": {},
     "output_type": "display_data"
    },
    {
     "data": {
      "text/html": [
       " View project at <a href='https://wandb.ai/dlai211/tf-dnn-weighted-classifier' target=\"_blank\">https://wandb.ai/dlai211/tf-dnn-weighted-classifier</a>"
      ],
      "text/plain": [
       "<IPython.core.display.HTML object>"
      ]
     },
     "metadata": {},
     "output_type": "display_data"
    },
    {
     "data": {
      "text/html": [
       " View sweep at <a href='https://wandb.ai/dlai211/tf-dnn-weighted-classifier/sweeps/rg1dnn5u' target=\"_blank\">https://wandb.ai/dlai211/tf-dnn-weighted-classifier/sweeps/rg1dnn5u</a>"
      ],
      "text/plain": [
       "<IPython.core.display.HTML object>"
      ]
     },
     "metadata": {},
     "output_type": "display_data"
    },
    {
     "data": {
      "text/html": [
       " View run at <a href='https://wandb.ai/dlai211/tf-dnn-weighted-classifier/runs/ryf1oajb' target=\"_blank\">https://wandb.ai/dlai211/tf-dnn-weighted-classifier/runs/ryf1oajb</a>"
      ],
      "text/plain": [
       "<IPython.core.display.HTML object>"
      ]
     },
     "metadata": {},
     "output_type": "display_data"
    },
    {
     "name": "stderr",
     "output_type": "stream",
     "text": [
      "/home/jlai/.local/share/mamba/envs/tf-gpu/lib/python3.10/site-packages/keras/src/layers/core/dense.py:93: UserWarning: Do not pass an `input_shape`/`input_dim` argument to a layer. When using Sequential models, prefer using an `Input(shape)` object as the first layer in the model instead.\n",
      "  super().__init__(activity_regularizer=activity_regularizer, **kwargs)\n"
     ]
    },
    {
     "name": "stdout",
     "output_type": "stream",
     "text": [
      "Epoch 1/50\n",
      "\u001b[1m3008/3008\u001b[0m \u001b[32m━━━━━━━━━━━━━━━━━━━━\u001b[0m\u001b[37m\u001b[0m \u001b[1m19s\u001b[0m 5ms/step - auc: 0.5117 - loss: 0.0192 - weighted_auc: 0.5338 - val_auc: 0.8209 - val_loss: 9.3777e-04 - val_weighted_auc: 0.8402\n",
      "Epoch 2/50\n",
      "\u001b[1m3008/3008\u001b[0m \u001b[32m━━━━━━━━━━━━━━━━━━━━\u001b[0m\u001b[37m\u001b[0m \u001b[1m11s\u001b[0m 4ms/step - auc: 0.7754 - loss: 9.1800e-04 - weighted_auc: 0.7883 - val_auc: 0.8487 - val_loss: 9.0826e-04 - val_weighted_auc: 0.8621\n",
      "Epoch 3/50\n",
      "\u001b[1m3008/3008\u001b[0m \u001b[32m━━━━━━━━━━━━━━━━━━━━\u001b[0m\u001b[37m\u001b[0m \u001b[1m11s\u001b[0m 3ms/step - auc: 0.8074 - loss: 8.8455e-04 - weighted_auc: 0.8170 - val_auc: 0.8517 - val_loss: 8.9455e-04 - val_weighted_auc: 0.8644\n",
      "Epoch 4/50\n",
      "\u001b[1m3008/3008\u001b[0m \u001b[32m━━━━━━━━━━━━━━━━━━━━\u001b[0m\u001b[37m\u001b[0m \u001b[1m11s\u001b[0m 4ms/step - auc: 0.8124 - loss: 8.6601e-04 - weighted_auc: 0.8216 - val_auc: 0.8580 - val_loss: 8.9000e-04 - val_weighted_auc: 0.8690\n",
      "Epoch 5/50\n",
      "\u001b[1m3008/3008\u001b[0m \u001b[32m━━━━━━━━━━━━━━━━━━━━\u001b[0m\u001b[37m\u001b[0m \u001b[1m11s\u001b[0m 4ms/step - auc: 0.8300 - loss: 8.5575e-04 - weighted_auc: 0.8372 - val_auc: 0.8659 - val_loss: 8.9615e-04 - val_weighted_auc: 0.8767\n",
      "Epoch 6/50\n",
      "\u001b[1m3008/3008\u001b[0m \u001b[32m━━━━━━━━━━━━━━━━━━━━\u001b[0m\u001b[37m\u001b[0m \u001b[1m11s\u001b[0m 4ms/step - auc: 0.8356 - loss: 8.5004e-04 - weighted_auc: 0.8430 - val_auc: 0.8662 - val_loss: 8.8827e-04 - val_weighted_auc: 0.8756\n",
      "Epoch 7/50\n",
      "\u001b[1m3008/3008\u001b[0m \u001b[32m━━━━━━━━━━━━━━━━━━━━\u001b[0m\u001b[37m\u001b[0m \u001b[1m11s\u001b[0m 3ms/step - auc: 0.8261 - loss: 8.5030e-04 - weighted_auc: 0.8318 - val_auc: 0.8685 - val_loss: 8.8387e-04 - val_weighted_auc: 0.8778\n",
      "Epoch 8/50\n",
      "\u001b[1m3008/3008\u001b[0m \u001b[32m━━━━━━━━━━━━━━━━━━━━\u001b[0m\u001b[37m\u001b[0m \u001b[1m11s\u001b[0m 4ms/step - auc: 0.8443 - loss: 8.3906e-04 - weighted_auc: 0.8502 - val_auc: 0.8627 - val_loss: 8.6696e-04 - val_weighted_auc: 0.8715\n",
      "Epoch 9/50\n",
      "\u001b[1m3008/3008\u001b[0m \u001b[32m━━━━━━━━━━━━━━━━━━━━\u001b[0m\u001b[37m\u001b[0m \u001b[1m11s\u001b[0m 4ms/step - auc: 0.8366 - loss: 8.3468e-04 - weighted_auc: 0.8431 - val_auc: 0.8706 - val_loss: 8.8056e-04 - val_weighted_auc: 0.8789\n",
      "Epoch 10/50\n",
      "\u001b[1m3008/3008\u001b[0m \u001b[32m━━━━━━━━━━━━━━━━━━━━\u001b[0m\u001b[37m\u001b[0m \u001b[1m11s\u001b[0m 4ms/step - auc: 0.8392 - loss: 8.3126e-04 - weighted_auc: 0.8453 - val_auc: 0.8705 - val_loss: 8.7626e-04 - val_weighted_auc: 0.8781\n",
      "Epoch 11/50\n",
      "\u001b[1m3008/3008\u001b[0m \u001b[32m━━━━━━━━━━━━━━━━━━━━\u001b[0m\u001b[37m\u001b[0m \u001b[1m11s\u001b[0m 4ms/step - auc: 0.8415 - loss: 8.2165e-04 - weighted_auc: 0.8461 - val_auc: 0.8707 - val_loss: 8.8189e-04 - val_weighted_auc: 0.8780\n",
      "Epoch 12/50\n",
      "\u001b[1m3008/3008\u001b[0m \u001b[32m━━━━━━━━━━━━━━━━━━━━\u001b[0m\u001b[37m\u001b[0m \u001b[1m11s\u001b[0m 4ms/step - auc: 0.8457 - loss: 8.1610e-04 - weighted_auc: 0.8532 - val_auc: 0.8715 - val_loss: 8.7306e-04 - val_weighted_auc: 0.8791\n",
      "Epoch 13/50\n",
      "\u001b[1m3008/3008\u001b[0m \u001b[32m━━━━━━━━━━━━━━━━━━━━\u001b[0m\u001b[37m\u001b[0m \u001b[1m11s\u001b[0m 4ms/step - auc: 0.8478 - loss: 8.1887e-04 - weighted_auc: 0.8531 - val_auc: 0.8686 - val_loss: 8.6441e-04 - val_weighted_auc: 0.8764\n",
      "Epoch 14/50\n",
      "\u001b[1m3008/3008\u001b[0m \u001b[32m━━━━━━━━━━━━━━━━━━━━\u001b[0m\u001b[37m\u001b[0m \u001b[1m11s\u001b[0m 3ms/step - auc: 0.8469 - loss: 8.1520e-04 - weighted_auc: 0.8528 - val_auc: 0.8714 - val_loss: 8.6969e-04 - val_weighted_auc: 0.8789\n",
      "Epoch 15/50\n",
      "\u001b[1m3008/3008\u001b[0m \u001b[32m━━━━━━━━━━━━━━━━━━━━\u001b[0m\u001b[37m\u001b[0m \u001b[1m11s\u001b[0m 4ms/step - auc: 0.8513 - loss: 8.0925e-04 - weighted_auc: 0.8594 - val_auc: 0.8731 - val_loss: 8.7278e-04 - val_weighted_auc: 0.8806\n",
      "Epoch 16/50\n",
      "\u001b[1m3008/3008\u001b[0m \u001b[32m━━━━━━━━━━━━━━━━━━━━\u001b[0m\u001b[37m\u001b[0m \u001b[1m11s\u001b[0m 4ms/step - auc: 0.8508 - loss: 8.1250e-04 - weighted_auc: 0.8556 - val_auc: 0.8765 - val_loss: 8.8551e-04 - val_weighted_auc: 0.8831\n",
      "Epoch 17/50\n",
      "\u001b[1m3008/3008\u001b[0m \u001b[32m━━━━━━━━━━━━━━━━━━━━\u001b[0m\u001b[37m\u001b[0m \u001b[1m11s\u001b[0m 4ms/step - auc: 0.8501 - loss: 8.0341e-04 - weighted_auc: 0.8557 - val_auc: 0.8762 - val_loss: 8.7203e-04 - val_weighted_auc: 0.8830\n",
      "Epoch 18/50\n",
      "\u001b[1m3008/3008\u001b[0m \u001b[32m━━━━━━━━━━━━━━━━━━━━\u001b[0m\u001b[37m\u001b[0m \u001b[1m11s\u001b[0m 4ms/step - auc: 0.8516 - loss: 8.0807e-04 - weighted_auc: 0.8577 - val_auc: 0.8753 - val_loss: 8.6811e-04 - val_weighted_auc: 0.8825\n",
      "Epoch 19/50\n",
      "\u001b[1m3008/3008\u001b[0m \u001b[32m━━━━━━━━━━━━━━━━━━━━\u001b[0m\u001b[37m\u001b[0m \u001b[1m11s\u001b[0m 4ms/step - auc: 0.8540 - loss: 8.0536e-04 - weighted_auc: 0.8609 - val_auc: 0.8714 - val_loss: 8.5834e-04 - val_weighted_auc: 0.8786\n",
      "Epoch 20/50\n",
      "\u001b[1m3008/3008\u001b[0m \u001b[32m━━━━━━━━━━━━━━━━━━━━\u001b[0m\u001b[37m\u001b[0m \u001b[1m11s\u001b[0m 4ms/step - auc: 0.8524 - loss: 8.0924e-04 - weighted_auc: 0.8587 - val_auc: 0.8725 - val_loss: 8.6180e-04 - val_weighted_auc: 0.8792\n",
      "Epoch 21/50\n",
      "\u001b[1m3008/3008\u001b[0m \u001b[32m━━━━━━━━━━━━━━━━━━━━\u001b[0m\u001b[37m\u001b[0m \u001b[1m11s\u001b[0m 4ms/step - auc: 0.8562 - loss: 8.0098e-04 - weighted_auc: 0.8614 - val_auc: 0.8730 - val_loss: 8.6312e-04 - val_weighted_auc: 0.8792\n",
      "\u001b[1m30935/30935\u001b[0m \u001b[32m━━━━━━━━━━━━━━━━━━━━\u001b[0m\u001b[37m\u001b[0m \u001b[1m21s\u001b[0m 664us/step\n",
      "\u001b[1m4297/4297\u001b[0m \u001b[32m━━━━━━━━━━━━━━━━━━━━\u001b[0m\u001b[37m\u001b[0m \u001b[1m5s\u001b[0m 1ms/step\n"
     ]
    },
    {
     "data": {
      "text/html": [],
      "text/plain": [
       "<IPython.core.display.HTML object>"
      ]
     },
     "metadata": {},
     "output_type": "display_data"
    },
    {
     "data": {
      "text/html": [
       "<br>    <style><br>        .wandb-row {<br>            display: flex;<br>            flex-direction: row;<br>            flex-wrap: wrap;<br>            justify-content: flex-start;<br>            width: 100%;<br>        }<br>        .wandb-col {<br>            display: flex;<br>            flex-direction: column;<br>            flex-basis: 100%;<br>            flex: 1;<br>            padding: 10px;<br>        }<br>    </style><br><div class=\"wandb-row\"><div class=\"wandb-col\"><h3>Run history:</h3><br/><table class=\"wandb\"><tr><td>Acceptance</td><td>▁</td></tr><tr><td>Max S/sqrt(B)</td><td>▁</td></tr><tr><td>epoch/auc</td><td>▁▆▇▇▇█▇██████████████</td></tr><tr><td>epoch/epoch</td><td>▁▁▂▂▂▃▃▃▄▄▅▅▅▆▆▆▇▇▇██</td></tr><tr><td>epoch/learning_rate</td><td>▁▁▁▁▁▁▁▁▁▁▁▁▁▁▁▁▁▁▁▁▁</td></tr><tr><td>epoch/loss</td><td>█▁▁▁▁▁▁▁▁▁▁▁▁▁▁▁▁▁▁▁▁</td></tr><tr><td>epoch/val_auc</td><td>▁▅▅▆▇▇▇▆▇▇▇▇▇▇████▇▇█</td></tr><tr><td>epoch/val_loss</td><td>█▅▄▄▄▄▃▂▃▃▃▂▂▂▂▃▂▂▁▁▁</td></tr><tr><td>epoch/val_weighted_auc</td><td>▁▅▅▆▇▇▇▆▇▇▇▇▇▇████▇▇▇</td></tr><tr><td>epoch/weighted_auc</td><td>▁▆▇▇▇█▇██████████████</td></tr><tr><td>final_val_roc_auc</td><td>▁</td></tr><tr><td>nnScore cut</td><td>▁</td></tr></table><br/></div><div class=\"wandb-col\"><h3>Run summary:</h3><br/><table class=\"wandb\"><tr><td>Acceptance</td><td>0.48047</td></tr><tr><td>Max S/sqrt(B)</td><td>2.92421</td></tr><tr><td>epoch/auc</td><td>0.8507</td></tr><tr><td>epoch/epoch</td><td>20</td></tr><tr><td>epoch/learning_rate</td><td>3e-05</td></tr><tr><td>epoch/loss</td><td>0.00081</td></tr><tr><td>epoch/val_auc</td><td>0.87295</td></tr><tr><td>epoch/val_loss</td><td>0.00086</td></tr><tr><td>epoch/val_weighted_auc</td><td>0.87917</td></tr><tr><td>epoch/weighted_auc</td><td>0.8594</td></tr><tr><td>final_val_roc_auc</td><td>0.97588</td></tr><tr><td>nnScore cut</td><td>0.04</td></tr></table><br/></div></div>"
      ],
      "text/plain": [
       "<IPython.core.display.HTML object>"
      ]
     },
     "metadata": {},
     "output_type": "display_data"
    },
    {
     "data": {
      "text/html": [
       " View run <strong style=\"color:#cdcd00\">leafy-sweep-37</strong> at: <a href='https://wandb.ai/dlai211/tf-dnn-weighted-classifier/runs/ryf1oajb' target=\"_blank\">https://wandb.ai/dlai211/tf-dnn-weighted-classifier/runs/ryf1oajb</a><br> View project at: <a href='https://wandb.ai/dlai211/tf-dnn-weighted-classifier' target=\"_blank\">https://wandb.ai/dlai211/tf-dnn-weighted-classifier</a><br>Synced 5 W&B file(s), 1 media file(s), 0 artifact file(s) and 0 other file(s)"
      ],
      "text/plain": [
       "<IPython.core.display.HTML object>"
      ]
     },
     "metadata": {},
     "output_type": "display_data"
    },
    {
     "data": {
      "text/html": [
       "Find logs at: <code>./wandb/run-20250821_074650-ryf1oajb/logs</code>"
      ],
      "text/plain": [
       "<IPython.core.display.HTML object>"
      ]
     },
     "metadata": {},
     "output_type": "display_data"
    },
    {
     "name": "stderr",
     "output_type": "stream",
     "text": [
      "\u001b[34m\u001b[1mwandb\u001b[0m: Agent Starting Run: d4f6anbv with config:\n",
      "\u001b[34m\u001b[1mwandb\u001b[0m: \tbatch_size: 256\n",
      "\u001b[34m\u001b[1mwandb\u001b[0m: \tdropout: 0.16110612281401493\n",
      "\u001b[34m\u001b[1mwandb\u001b[0m: \tepochs: 50\n",
      "\u001b[34m\u001b[1mwandb\u001b[0m: \tlayer_1: 256\n",
      "\u001b[34m\u001b[1mwandb\u001b[0m: \tlayer_2: 512\n",
      "\u001b[34m\u001b[1mwandb\u001b[0m: \tlayer_3: 2048\n",
      "\u001b[34m\u001b[1mwandb\u001b[0m: \tlayer_4: 384\n",
      "\u001b[34m\u001b[1mwandb\u001b[0m: \tlayer_5: 128\n",
      "\u001b[34m\u001b[1mwandb\u001b[0m: \tlr: 7.299337659594495e-05\n"
     ]
    },
    {
     "data": {
      "text/html": [
       "Ignoring project 'tf-dnn-weighted-classifier' when running a sweep."
      ],
      "text/plain": [
       "<IPython.core.display.HTML object>"
      ]
     },
     "metadata": {},
     "output_type": "display_data"
    },
    {
     "data": {
      "text/html": [
       "Tracking run with wandb version 0.21.0"
      ],
      "text/plain": [
       "<IPython.core.display.HTML object>"
      ]
     },
     "metadata": {},
     "output_type": "display_data"
    },
    {
     "data": {
      "text/html": [
       "Run data is saved locally in <code>/home/jlai/ML/jet_faking/wandb/run-20250821_075132-d4f6anbv</code>"
      ],
      "text/plain": [
       "<IPython.core.display.HTML object>"
      ]
     },
     "metadata": {},
     "output_type": "display_data"
    },
    {
     "data": {
      "text/html": [
       "Syncing run <strong><a href='https://wandb.ai/dlai211/tf-dnn-weighted-classifier/runs/d4f6anbv' target=\"_blank\">hearty-sweep-38</a></strong> to <a href='https://wandb.ai/dlai211/tf-dnn-weighted-classifier' target=\"_blank\">Weights & Biases</a> (<a href='https://wandb.me/developer-guide' target=\"_blank\">docs</a>)<br>Sweep page: <a href='https://wandb.ai/dlai211/tf-dnn-weighted-classifier/sweeps/rg1dnn5u' target=\"_blank\">https://wandb.ai/dlai211/tf-dnn-weighted-classifier/sweeps/rg1dnn5u</a>"
      ],
      "text/plain": [
       "<IPython.core.display.HTML object>"
      ]
     },
     "metadata": {},
     "output_type": "display_data"
    },
    {
     "data": {
      "text/html": [
       " View project at <a href='https://wandb.ai/dlai211/tf-dnn-weighted-classifier' target=\"_blank\">https://wandb.ai/dlai211/tf-dnn-weighted-classifier</a>"
      ],
      "text/plain": [
       "<IPython.core.display.HTML object>"
      ]
     },
     "metadata": {},
     "output_type": "display_data"
    },
    {
     "data": {
      "text/html": [
       " View sweep at <a href='https://wandb.ai/dlai211/tf-dnn-weighted-classifier/sweeps/rg1dnn5u' target=\"_blank\">https://wandb.ai/dlai211/tf-dnn-weighted-classifier/sweeps/rg1dnn5u</a>"
      ],
      "text/plain": [
       "<IPython.core.display.HTML object>"
      ]
     },
     "metadata": {},
     "output_type": "display_data"
    },
    {
     "data": {
      "text/html": [
       " View run at <a href='https://wandb.ai/dlai211/tf-dnn-weighted-classifier/runs/d4f6anbv' target=\"_blank\">https://wandb.ai/dlai211/tf-dnn-weighted-classifier/runs/d4f6anbv</a>"
      ],
      "text/plain": [
       "<IPython.core.display.HTML object>"
      ]
     },
     "metadata": {},
     "output_type": "display_data"
    },
    {
     "name": "stderr",
     "output_type": "stream",
     "text": [
      "/home/jlai/.local/share/mamba/envs/tf-gpu/lib/python3.10/site-packages/keras/src/layers/core/dense.py:93: UserWarning: Do not pass an `input_shape`/`input_dim` argument to a layer. When using Sequential models, prefer using an `Input(shape)` object as the first layer in the model instead.\n",
      "  super().__init__(activity_regularizer=activity_regularizer, **kwargs)\n"
     ]
    },
    {
     "name": "stdout",
     "output_type": "stream",
     "text": [
      "Epoch 1/50\n",
      "\u001b[1m9023/9023\u001b[0m \u001b[32m━━━━━━━━━━━━━━━━━━━━\u001b[0m\u001b[37m\u001b[0m \u001b[1m33s\u001b[0m 3ms/step - auc: 0.6551 - loss: 0.0058 - weighted_auc: 0.6734 - val_auc: 0.7830 - val_loss: 8.9030e-04 - val_weighted_auc: 0.7925\n",
      "Epoch 2/50\n",
      "\u001b[1m9023/9023\u001b[0m \u001b[32m━━━━━━━━━━━━━━━━━━━━\u001b[0m\u001b[37m\u001b[0m \u001b[1m24s\u001b[0m 3ms/step - auc: 0.8077 - loss: 8.8327e-04 - weighted_auc: 0.8159 - val_auc: 0.8133 - val_loss: 8.6378e-04 - val_weighted_auc: 0.8212\n",
      "Epoch 3/50\n",
      "\u001b[1m9023/9023\u001b[0m \u001b[32m━━━━━━━━━━━━━━━━━━━━\u001b[0m\u001b[37m\u001b[0m \u001b[1m25s\u001b[0m 3ms/step - auc: 0.8254 - loss: 8.5820e-04 - weighted_auc: 0.8327 - val_auc: 0.8351 - val_loss: 8.5104e-04 - val_weighted_auc: 0.8412\n",
      "Epoch 4/50\n",
      "\u001b[1m9023/9023\u001b[0m \u001b[32m━━━━━━━━━━━━━━━━━━━━\u001b[0m\u001b[37m\u001b[0m \u001b[1m25s\u001b[0m 3ms/step - auc: 0.8396 - loss: 8.4383e-04 - weighted_auc: 0.8471 - val_auc: 0.8219 - val_loss: 8.5949e-04 - val_weighted_auc: 0.8283\n",
      "Epoch 5/50\n",
      "\u001b[1m9023/9023\u001b[0m \u001b[32m━━━━━━━━━━━━━━━━━━━━\u001b[0m\u001b[37m\u001b[0m \u001b[1m25s\u001b[0m 3ms/step - auc: 0.8424 - loss: 8.2950e-04 - weighted_auc: 0.8504 - val_auc: 0.8303 - val_loss: 8.4652e-04 - val_weighted_auc: 0.8355\n",
      "Epoch 6/50\n",
      "\u001b[1m9023/9023\u001b[0m \u001b[32m━━━━━━━━━━━━━━━━━━━━\u001b[0m\u001b[37m\u001b[0m \u001b[1m24s\u001b[0m 3ms/step - auc: 0.8444 - loss: 8.2742e-04 - weighted_auc: 0.8522 - val_auc: 0.8274 - val_loss: 8.4151e-04 - val_weighted_auc: 0.8331\n",
      "Epoch 7/50\n",
      "\u001b[1m9023/9023\u001b[0m \u001b[32m━━━━━━━━━━━━━━━━━━━━\u001b[0m\u001b[37m\u001b[0m \u001b[1m24s\u001b[0m 3ms/step - auc: 0.8456 - loss: 8.2442e-04 - weighted_auc: 0.8527 - val_auc: 0.8268 - val_loss: 8.4005e-04 - val_weighted_auc: 0.8328\n",
      "Epoch 8/50\n",
      "\u001b[1m9023/9023\u001b[0m \u001b[32m━━━━━━━━━━━━━━━━━━━━\u001b[0m\u001b[37m\u001b[0m \u001b[1m25s\u001b[0m 3ms/step - auc: 0.8491 - loss: 8.1510e-04 - weighted_auc: 0.8544 - val_auc: 0.8315 - val_loss: 8.3944e-04 - val_weighted_auc: 0.8380\n",
      "\u001b[1m30935/30935\u001b[0m \u001b[32m━━━━━━━━━━━━━━━━━━━━\u001b[0m\u001b[37m\u001b[0m \u001b[1m21s\u001b[0m 656us/step\n",
      "\u001b[1m12890/12890\u001b[0m \u001b[32m━━━━━━━━━━━━━━━━━━━━\u001b[0m\u001b[37m\u001b[0m \u001b[1m10s\u001b[0m 758us/step\n"
     ]
    },
    {
     "data": {
      "text/html": [],
      "text/plain": [
       "<IPython.core.display.HTML object>"
      ]
     },
     "metadata": {},
     "output_type": "display_data"
    },
    {
     "data": {
      "text/html": [
       "<br>    <style><br>        .wandb-row {<br>            display: flex;<br>            flex-direction: row;<br>            flex-wrap: wrap;<br>            justify-content: flex-start;<br>            width: 100%;<br>        }<br>        .wandb-col {<br>            display: flex;<br>            flex-direction: column;<br>            flex-basis: 100%;<br>            flex: 1;<br>            padding: 10px;<br>        }<br>    </style><br><div class=\"wandb-row\"><div class=\"wandb-col\"><h3>Run history:</h3><br/><table class=\"wandb\"><tr><td>Acceptance</td><td>▁</td></tr><tr><td>Max S/sqrt(B)</td><td>▁</td></tr><tr><td>epoch/auc</td><td>▁▅▇▇████</td></tr><tr><td>epoch/epoch</td><td>▁▂▃▄▅▆▇█</td></tr><tr><td>epoch/learning_rate</td><td>▁▁▁▁▁▁▁▁</td></tr><tr><td>epoch/loss</td><td>█▂▁▁▁▁▁▁</td></tr><tr><td>epoch/val_auc</td><td>▁▅█▆▇▇▇█</td></tr><tr><td>epoch/val_loss</td><td>█▄▃▄▂▁▁▁</td></tr><tr><td>epoch/val_weighted_auc</td><td>▁▅█▆▇▇▇█</td></tr><tr><td>epoch/weighted_auc</td><td>▁▆▇▇████</td></tr><tr><td>final_val_roc_auc</td><td>▁</td></tr><tr><td>nnScore cut</td><td>▁</td></tr></table><br/></div><div class=\"wandb-col\"><h3>Run summary:</h3><br/><table class=\"wandb\"><tr><td>Acceptance</td><td>0.49678</td></tr><tr><td>Max S/sqrt(B)</td><td>2.94525</td></tr><tr><td>epoch/auc</td><td>0.84698</td></tr><tr><td>epoch/epoch</td><td>7</td></tr><tr><td>epoch/learning_rate</td><td>7e-05</td></tr><tr><td>epoch/loss</td><td>0.00083</td></tr><tr><td>epoch/val_auc</td><td>0.83148</td></tr><tr><td>epoch/val_loss</td><td>0.00084</td></tr><tr><td>epoch/val_weighted_auc</td><td>0.83804</td></tr><tr><td>epoch/weighted_auc</td><td>0.85628</td></tr><tr><td>final_val_roc_auc</td><td>0.97444</td></tr><tr><td>nnScore cut</td><td>0.04</td></tr></table><br/></div></div>"
      ],
      "text/plain": [
       "<IPython.core.display.HTML object>"
      ]
     },
     "metadata": {},
     "output_type": "display_data"
    },
    {
     "data": {
      "text/html": [
       " View run <strong style=\"color:#cdcd00\">hearty-sweep-38</strong> at: <a href='https://wandb.ai/dlai211/tf-dnn-weighted-classifier/runs/d4f6anbv' target=\"_blank\">https://wandb.ai/dlai211/tf-dnn-weighted-classifier/runs/d4f6anbv</a><br> View project at: <a href='https://wandb.ai/dlai211/tf-dnn-weighted-classifier' target=\"_blank\">https://wandb.ai/dlai211/tf-dnn-weighted-classifier</a><br>Synced 5 W&B file(s), 1 media file(s), 0 artifact file(s) and 0 other file(s)"
      ],
      "text/plain": [
       "<IPython.core.display.HTML object>"
      ]
     },
     "metadata": {},
     "output_type": "display_data"
    },
    {
     "data": {
      "text/html": [
       "Find logs at: <code>./wandb/run-20250821_075132-d4f6anbv/logs</code>"
      ],
      "text/plain": [
       "<IPython.core.display.HTML object>"
      ]
     },
     "metadata": {},
     "output_type": "display_data"
    },
    {
     "name": "stderr",
     "output_type": "stream",
     "text": [
      "\u001b[34m\u001b[1mwandb\u001b[0m: Agent Starting Run: illkbgzr with config:\n",
      "\u001b[34m\u001b[1mwandb\u001b[0m: \tbatch_size: 512\n",
      "\u001b[34m\u001b[1mwandb\u001b[0m: \tdropout: 0.10544955284979211\n",
      "\u001b[34m\u001b[1mwandb\u001b[0m: \tepochs: 50\n",
      "\u001b[34m\u001b[1mwandb\u001b[0m: \tlayer_1: 128\n",
      "\u001b[34m\u001b[1mwandb\u001b[0m: \tlayer_2: 512\n",
      "\u001b[34m\u001b[1mwandb\u001b[0m: \tlayer_3: 1536\n",
      "\u001b[34m\u001b[1mwandb\u001b[0m: \tlayer_4: 256\n",
      "\u001b[34m\u001b[1mwandb\u001b[0m: \tlayer_5: 128\n",
      "\u001b[34m\u001b[1mwandb\u001b[0m: \tlr: 9.935598039711588e-05\n"
     ]
    },
    {
     "data": {
      "text/html": [
       "Ignoring project 'tf-dnn-weighted-classifier' when running a sweep."
      ],
      "text/plain": [
       "<IPython.core.display.HTML object>"
      ]
     },
     "metadata": {},
     "output_type": "display_data"
    },
    {
     "data": {
      "text/html": [
       "Tracking run with wandb version 0.21.0"
      ],
      "text/plain": [
       "<IPython.core.display.HTML object>"
      ]
     },
     "metadata": {},
     "output_type": "display_data"
    },
    {
     "data": {
      "text/html": [
       "Run data is saved locally in <code>/home/jlai/ML/jet_faking/wandb/run-20250821_075555-illkbgzr</code>"
      ],
      "text/plain": [
       "<IPython.core.display.HTML object>"
      ]
     },
     "metadata": {},
     "output_type": "display_data"
    },
    {
     "data": {
      "text/html": [
       "Syncing run <strong><a href='https://wandb.ai/dlai211/tf-dnn-weighted-classifier/runs/illkbgzr' target=\"_blank\">dutiful-sweep-39</a></strong> to <a href='https://wandb.ai/dlai211/tf-dnn-weighted-classifier' target=\"_blank\">Weights & Biases</a> (<a href='https://wandb.me/developer-guide' target=\"_blank\">docs</a>)<br>Sweep page: <a href='https://wandb.ai/dlai211/tf-dnn-weighted-classifier/sweeps/rg1dnn5u' target=\"_blank\">https://wandb.ai/dlai211/tf-dnn-weighted-classifier/sweeps/rg1dnn5u</a>"
      ],
      "text/plain": [
       "<IPython.core.display.HTML object>"
      ]
     },
     "metadata": {},
     "output_type": "display_data"
    },
    {
     "data": {
      "text/html": [
       " View project at <a href='https://wandb.ai/dlai211/tf-dnn-weighted-classifier' target=\"_blank\">https://wandb.ai/dlai211/tf-dnn-weighted-classifier</a>"
      ],
      "text/plain": [
       "<IPython.core.display.HTML object>"
      ]
     },
     "metadata": {},
     "output_type": "display_data"
    },
    {
     "data": {
      "text/html": [
       " View sweep at <a href='https://wandb.ai/dlai211/tf-dnn-weighted-classifier/sweeps/rg1dnn5u' target=\"_blank\">https://wandb.ai/dlai211/tf-dnn-weighted-classifier/sweeps/rg1dnn5u</a>"
      ],
      "text/plain": [
       "<IPython.core.display.HTML object>"
      ]
     },
     "metadata": {},
     "output_type": "display_data"
    },
    {
     "data": {
      "text/html": [
       " View run at <a href='https://wandb.ai/dlai211/tf-dnn-weighted-classifier/runs/illkbgzr' target=\"_blank\">https://wandb.ai/dlai211/tf-dnn-weighted-classifier/runs/illkbgzr</a>"
      ],
      "text/plain": [
       "<IPython.core.display.HTML object>"
      ]
     },
     "metadata": {},
     "output_type": "display_data"
    },
    {
     "name": "stderr",
     "output_type": "stream",
     "text": [
      "/home/jlai/.local/share/mamba/envs/tf-gpu/lib/python3.10/site-packages/keras/src/layers/core/dense.py:93: UserWarning: Do not pass an `input_shape`/`input_dim` argument to a layer. When using Sequential models, prefer using an `Input(shape)` object as the first layer in the model instead.\n",
      "  super().__init__(activity_regularizer=activity_regularizer, **kwargs)\n"
     ]
    },
    {
     "name": "stdout",
     "output_type": "stream",
     "text": [
      "Epoch 1/50\n",
      "\u001b[1m4512/4512\u001b[0m \u001b[32m━━━━━━━━━━━━━━━━━━━━\u001b[0m\u001b[37m\u001b[0m \u001b[1m21s\u001b[0m 4ms/step - auc: 0.6319 - loss: 0.0071 - weighted_auc: 0.6451 - val_auc: 0.8048 - val_loss: 8.7649e-04 - val_weighted_auc: 0.8151\n",
      "Epoch 2/50\n",
      "\u001b[1m4512/4512\u001b[0m \u001b[32m━━━━━━━━━━━━━━━━━━━━\u001b[0m\u001b[37m\u001b[0m \u001b[1m13s\u001b[0m 3ms/step - auc: 0.8005 - loss: 8.7683e-04 - weighted_auc: 0.8099 - val_auc: 0.8019 - val_loss: 8.7163e-04 - val_weighted_auc: 0.8111\n",
      "Epoch 3/50\n",
      "\u001b[1m4512/4512\u001b[0m \u001b[32m━━━━━━━━━━━━━━━━━━━━\u001b[0m\u001b[37m\u001b[0m \u001b[1m13s\u001b[0m 3ms/step - auc: 0.8252 - loss: 8.5517e-04 - weighted_auc: 0.8330 - val_auc: 0.8209 - val_loss: 8.5295e-04 - val_weighted_auc: 0.8285\n",
      "Epoch 4/50\n",
      "\u001b[1m4512/4512\u001b[0m \u001b[32m━━━━━━━━━━━━━━━━━━━━\u001b[0m\u001b[37m\u001b[0m \u001b[1m13s\u001b[0m 3ms/step - auc: 0.8358 - loss: 8.3795e-04 - weighted_auc: 0.8430 - val_auc: 0.8329 - val_loss: 8.4501e-04 - val_weighted_auc: 0.8411\n",
      "Epoch 5/50\n",
      "\u001b[1m4512/4512\u001b[0m \u001b[32m━━━━━━━━━━━━━━━━━━━━\u001b[0m\u001b[37m\u001b[0m \u001b[1m13s\u001b[0m 3ms/step - auc: 0.8388 - loss: 8.3248e-04 - weighted_auc: 0.8450 - val_auc: 0.8371 - val_loss: 8.4000e-04 - val_weighted_auc: 0.8439\n",
      "Epoch 6/50\n",
      "\u001b[1m4512/4512\u001b[0m \u001b[32m━━━━━━━━━━━━━━━━━━━━\u001b[0m\u001b[37m\u001b[0m \u001b[1m13s\u001b[0m 3ms/step - auc: 0.8459 - loss: 8.2348e-04 - weighted_auc: 0.8523 - val_auc: 0.8374 - val_loss: 8.3768e-04 - val_weighted_auc: 0.8428\n",
      "Epoch 7/50\n",
      "\u001b[1m4512/4512\u001b[0m \u001b[32m━━━━━━━━━━━━━━━━━━━━\u001b[0m\u001b[37m\u001b[0m \u001b[1m13s\u001b[0m 3ms/step - auc: 0.8423 - loss: 8.2361e-04 - weighted_auc: 0.8499 - val_auc: 0.8465 - val_loss: 8.3433e-04 - val_weighted_auc: 0.8526\n",
      "Epoch 8/50\n",
      "\u001b[1m4512/4512\u001b[0m \u001b[32m━━━━━━━━━━━━━━━━━━━━\u001b[0m\u001b[37m\u001b[0m \u001b[1m13s\u001b[0m 3ms/step - auc: 0.8460 - loss: 8.1166e-04 - weighted_auc: 0.8522 - val_auc: 0.8367 - val_loss: 8.3436e-04 - val_weighted_auc: 0.8446\n",
      "Epoch 9/50\n",
      "\u001b[1m4512/4512\u001b[0m \u001b[32m━━━━━━━━━━━━━━━━━━━━\u001b[0m\u001b[37m\u001b[0m \u001b[1m13s\u001b[0m 3ms/step - auc: 0.8482 - loss: 8.1220e-04 - weighted_auc: 0.8551 - val_auc: 0.8384 - val_loss: 8.3211e-04 - val_weighted_auc: 0.8445\n",
      "Epoch 10/50\n",
      "\u001b[1m4512/4512\u001b[0m \u001b[32m━━━━━━━━━━━━━━━━━━━━\u001b[0m\u001b[37m\u001b[0m \u001b[1m13s\u001b[0m 3ms/step - auc: 0.8479 - loss: 8.0520e-04 - weighted_auc: 0.8553 - val_auc: 0.8411 - val_loss: 8.3191e-04 - val_weighted_auc: 0.8474\n",
      "Epoch 11/50\n",
      "\u001b[1m4512/4512\u001b[0m \u001b[32m━━━━━━━━━━━━━━━━━━━━\u001b[0m\u001b[37m\u001b[0m \u001b[1m13s\u001b[0m 3ms/step - auc: 0.8535 - loss: 7.9984e-04 - weighted_auc: 0.8599 - val_auc: 0.8424 - val_loss: 8.3336e-04 - val_weighted_auc: 0.8477\n",
      "Epoch 12/50\n",
      "\u001b[1m4512/4512\u001b[0m \u001b[32m━━━━━━━━━━━━━━━━━━━━\u001b[0m\u001b[37m\u001b[0m \u001b[1m13s\u001b[0m 3ms/step - auc: 0.8512 - loss: 7.9675e-04 - weighted_auc: 0.8583 - val_auc: 0.8444 - val_loss: 8.3084e-04 - val_weighted_auc: 0.8501\n",
      "\u001b[1m30935/30935\u001b[0m \u001b[32m━━━━━━━━━━━━━━━━━━━━\u001b[0m\u001b[37m\u001b[0m \u001b[1m20s\u001b[0m 651us/step\n",
      "\u001b[1m6445/6445\u001b[0m \u001b[32m━━━━━━━━━━━━━━━━━━━━\u001b[0m\u001b[37m\u001b[0m \u001b[1m6s\u001b[0m 885us/step\n"
     ]
    },
    {
     "data": {
      "text/html": [],
      "text/plain": [
       "<IPython.core.display.HTML object>"
      ]
     },
     "metadata": {},
     "output_type": "display_data"
    },
    {
     "data": {
      "text/html": [
       "<br>    <style><br>        .wandb-row {<br>            display: flex;<br>            flex-direction: row;<br>            flex-wrap: wrap;<br>            justify-content: flex-start;<br>            width: 100%;<br>        }<br>        .wandb-col {<br>            display: flex;<br>            flex-direction: column;<br>            flex-basis: 100%;<br>            flex: 1;<br>            padding: 10px;<br>        }<br>    </style><br><div class=\"wandb-row\"><div class=\"wandb-col\"><h3>Run history:</h3><br/><table class=\"wandb\"><tr><td>Acceptance</td><td>▁</td></tr><tr><td>Max S/sqrt(B)</td><td>▁</td></tr><tr><td>epoch/auc</td><td>▁▅▇▇▇▇██████</td></tr><tr><td>epoch/epoch</td><td>▁▂▂▃▄▄▅▅▆▇▇█</td></tr><tr><td>epoch/learning_rate</td><td>▁▁▁▁▁▁▁▁▁▁▁▁</td></tr><tr><td>epoch/loss</td><td>█▂▁▁▁▁▁▁▁▁▁▁</td></tr><tr><td>epoch/val_auc</td><td>▁▁▄▆▇▇█▆▇▇▇█</td></tr><tr><td>epoch/val_loss</td><td>█▇▄▃▂▂▂▂▁▁▁▁</td></tr><tr><td>epoch/val_weighted_auc</td><td>▂▁▄▆▇▆█▇▇▇▇█</td></tr><tr><td>epoch/weighted_auc</td><td>▁▅▇▇▇███████</td></tr><tr><td>final_val_roc_auc</td><td>▁</td></tr><tr><td>nnScore cut</td><td>▁</td></tr></table><br/></div><div class=\"wandb-col\"><h3>Run summary:</h3><br/><table class=\"wandb\"><tr><td>Acceptance</td><td>0.47842</td></tr><tr><td>Max S/sqrt(B)</td><td>2.79076</td></tr><tr><td>epoch/auc</td><td>0.84949</td></tr><tr><td>epoch/epoch</td><td>11</td></tr><tr><td>epoch/learning_rate</td><td>0.0001</td></tr><tr><td>epoch/loss</td><td>0.00081</td></tr><tr><td>epoch/val_auc</td><td>0.84436</td></tr><tr><td>epoch/val_loss</td><td>0.00083</td></tr><tr><td>epoch/val_weighted_auc</td><td>0.85014</td></tr><tr><td>epoch/weighted_auc</td><td>0.85923</td></tr><tr><td>final_val_roc_auc</td><td>0.97602</td></tr><tr><td>nnScore cut</td><td>0.02</td></tr></table><br/></div></div>"
      ],
      "text/plain": [
       "<IPython.core.display.HTML object>"
      ]
     },
     "metadata": {},
     "output_type": "display_data"
    },
    {
     "data": {
      "text/html": [
       " View run <strong style=\"color:#cdcd00\">dutiful-sweep-39</strong> at: <a href='https://wandb.ai/dlai211/tf-dnn-weighted-classifier/runs/illkbgzr' target=\"_blank\">https://wandb.ai/dlai211/tf-dnn-weighted-classifier/runs/illkbgzr</a><br> View project at: <a href='https://wandb.ai/dlai211/tf-dnn-weighted-classifier' target=\"_blank\">https://wandb.ai/dlai211/tf-dnn-weighted-classifier</a><br>Synced 5 W&B file(s), 1 media file(s), 0 artifact file(s) and 0 other file(s)"
      ],
      "text/plain": [
       "<IPython.core.display.HTML object>"
      ]
     },
     "metadata": {},
     "output_type": "display_data"
    },
    {
     "data": {
      "text/html": [
       "Find logs at: <code>./wandb/run-20250821_075555-illkbgzr/logs</code>"
      ],
      "text/plain": [
       "<IPython.core.display.HTML object>"
      ]
     },
     "metadata": {},
     "output_type": "display_data"
    },
    {
     "name": "stderr",
     "output_type": "stream",
     "text": [
      "\u001b[34m\u001b[1mwandb\u001b[0m: Sweep Agent: Waiting for job.\n",
      "\u001b[34m\u001b[1mwandb\u001b[0m: Job received.\n",
      "\u001b[34m\u001b[1mwandb\u001b[0m: Agent Starting Run: 440citpq with config:\n",
      "\u001b[34m\u001b[1mwandb\u001b[0m: \tbatch_size: 512\n",
      "\u001b[34m\u001b[1mwandb\u001b[0m: \tdropout: 0.13101787745727994\n",
      "\u001b[34m\u001b[1mwandb\u001b[0m: \tepochs: 50\n",
      "\u001b[34m\u001b[1mwandb\u001b[0m: \tlayer_1: 192\n",
      "\u001b[34m\u001b[1mwandb\u001b[0m: \tlayer_2: 384\n",
      "\u001b[34m\u001b[1mwandb\u001b[0m: \tlayer_3: 2048\n",
      "\u001b[34m\u001b[1mwandb\u001b[0m: \tlayer_4: 384\n",
      "\u001b[34m\u001b[1mwandb\u001b[0m: \tlayer_5: 64\n",
      "\u001b[34m\u001b[1mwandb\u001b[0m: \tlr: 0.0003694503293784758\n"
     ]
    },
    {
     "data": {
      "text/html": [
       "Ignoring project 'tf-dnn-weighted-classifier' when running a sweep."
      ],
      "text/plain": [
       "<IPython.core.display.HTML object>"
      ]
     },
     "metadata": {},
     "output_type": "display_data"
    },
    {
     "data": {
      "text/html": [
       "Tracking run with wandb version 0.21.0"
      ],
      "text/plain": [
       "<IPython.core.display.HTML object>"
      ]
     },
     "metadata": {},
     "output_type": "display_data"
    },
    {
     "data": {
      "text/html": [
       "Run data is saved locally in <code>/home/jlai/ML/jet_faking/wandb/run-20250821_075937-440citpq</code>"
      ],
      "text/plain": [
       "<IPython.core.display.HTML object>"
      ]
     },
     "metadata": {},
     "output_type": "display_data"
    },
    {
     "data": {
      "text/html": [
       "Syncing run <strong><a href='https://wandb.ai/dlai211/tf-dnn-weighted-classifier/runs/440citpq' target=\"_blank\">dry-sweep-40</a></strong> to <a href='https://wandb.ai/dlai211/tf-dnn-weighted-classifier' target=\"_blank\">Weights & Biases</a> (<a href='https://wandb.me/developer-guide' target=\"_blank\">docs</a>)<br>Sweep page: <a href='https://wandb.ai/dlai211/tf-dnn-weighted-classifier/sweeps/rg1dnn5u' target=\"_blank\">https://wandb.ai/dlai211/tf-dnn-weighted-classifier/sweeps/rg1dnn5u</a>"
      ],
      "text/plain": [
       "<IPython.core.display.HTML object>"
      ]
     },
     "metadata": {},
     "output_type": "display_data"
    },
    {
     "data": {
      "text/html": [
       " View project at <a href='https://wandb.ai/dlai211/tf-dnn-weighted-classifier' target=\"_blank\">https://wandb.ai/dlai211/tf-dnn-weighted-classifier</a>"
      ],
      "text/plain": [
       "<IPython.core.display.HTML object>"
      ]
     },
     "metadata": {},
     "output_type": "display_data"
    },
    {
     "data": {
      "text/html": [
       " View sweep at <a href='https://wandb.ai/dlai211/tf-dnn-weighted-classifier/sweeps/rg1dnn5u' target=\"_blank\">https://wandb.ai/dlai211/tf-dnn-weighted-classifier/sweeps/rg1dnn5u</a>"
      ],
      "text/plain": [
       "<IPython.core.display.HTML object>"
      ]
     },
     "metadata": {},
     "output_type": "display_data"
    },
    {
     "data": {
      "text/html": [
       " View run at <a href='https://wandb.ai/dlai211/tf-dnn-weighted-classifier/runs/440citpq' target=\"_blank\">https://wandb.ai/dlai211/tf-dnn-weighted-classifier/runs/440citpq</a>"
      ],
      "text/plain": [
       "<IPython.core.display.HTML object>"
      ]
     },
     "metadata": {},
     "output_type": "display_data"
    },
    {
     "name": "stderr",
     "output_type": "stream",
     "text": [
      "/home/jlai/.local/share/mamba/envs/tf-gpu/lib/python3.10/site-packages/keras/src/layers/core/dense.py:93: UserWarning: Do not pass an `input_shape`/`input_dim` argument to a layer. When using Sequential models, prefer using an `Input(shape)` object as the first layer in the model instead.\n",
      "  super().__init__(activity_regularizer=activity_regularizer, **kwargs)\n"
     ]
    },
    {
     "name": "stdout",
     "output_type": "stream",
     "text": [
      "Epoch 1/50\n",
      "\u001b[1m4512/4512\u001b[0m \u001b[32m━━━━━━━━━━━━━━━━━━━━\u001b[0m\u001b[37m\u001b[0m \u001b[1m21s\u001b[0m 4ms/step - auc: 0.7137 - loss: 0.0031 - weighted_auc: 0.7237 - val_auc: 0.7563 - val_loss: 9.3867e-04 - val_weighted_auc: 0.7611\n",
      "Epoch 2/50\n",
      "\u001b[1m4512/4512\u001b[0m \u001b[32m━━━━━━━━━━━━━━━━━━━━\u001b[0m\u001b[37m\u001b[0m \u001b[1m13s\u001b[0m 3ms/step - auc: 0.8128 - loss: 8.8904e-04 - weighted_auc: 0.8197 - val_auc: 0.7725 - val_loss: 9.1780e-04 - val_weighted_auc: 0.7793\n",
      "Epoch 3/50\n",
      "\u001b[1m4512/4512\u001b[0m \u001b[32m━━━━━━━━━━━━━━━━━━━━\u001b[0m\u001b[37m\u001b[0m \u001b[1m13s\u001b[0m 3ms/step - auc: 0.8325 - loss: 8.5954e-04 - weighted_auc: 0.8395 - val_auc: 0.7823 - val_loss: 8.9999e-04 - val_weighted_auc: 0.7903\n",
      "Epoch 4/50\n",
      "\u001b[1m4512/4512\u001b[0m \u001b[32m━━━━━━━━━━━━━━━━━━━━\u001b[0m\u001b[37m\u001b[0m \u001b[1m13s\u001b[0m 3ms/step - auc: 0.8360 - loss: 8.5074e-04 - weighted_auc: 0.8448 - val_auc: 0.7969 - val_loss: 8.7756e-04 - val_weighted_auc: 0.8044\n",
      "Epoch 5/50\n",
      "\u001b[1m4512/4512\u001b[0m \u001b[32m━━━━━━━━━━━━━━━━━━━━\u001b[0m\u001b[37m\u001b[0m \u001b[1m13s\u001b[0m 3ms/step - auc: 0.8418 - loss: 8.4192e-04 - weighted_auc: 0.8476 - val_auc: 0.7907 - val_loss: 8.7857e-04 - val_weighted_auc: 0.7978\n",
      "Epoch 6/50\n",
      "\u001b[1m4512/4512\u001b[0m \u001b[32m━━━━━━━━━━━━━━━━━━━━\u001b[0m\u001b[37m\u001b[0m \u001b[1m13s\u001b[0m 3ms/step - auc: 0.8443 - loss: 8.3756e-04 - weighted_auc: 0.8497 - val_auc: 0.7931 - val_loss: 8.8815e-04 - val_weighted_auc: 0.7991\n",
      "Epoch 7/50\n",
      "\u001b[1m4512/4512\u001b[0m \u001b[32m━━━━━━━━━━━━━━━━━━━━\u001b[0m\u001b[37m\u001b[0m \u001b[1m13s\u001b[0m 3ms/step - auc: 0.8465 - loss: 8.3031e-04 - weighted_auc: 0.8529 - val_auc: 0.7693 - val_loss: 9.2295e-04 - val_weighted_auc: 0.7744\n",
      "Epoch 8/50\n",
      "\u001b[1m4512/4512\u001b[0m \u001b[32m━━━━━━━━━━━━━━━━━━━━\u001b[0m\u001b[37m\u001b[0m \u001b[1m13s\u001b[0m 3ms/step - auc: 0.8481 - loss: 8.2430e-04 - weighted_auc: 0.8547 - val_auc: 0.8026 - val_loss: 8.6519e-04 - val_weighted_auc: 0.8079\n",
      "Epoch 9/50\n",
      "\u001b[1m4512/4512\u001b[0m \u001b[32m━━━━━━━━━━━━━━━━━━━━\u001b[0m\u001b[37m\u001b[0m \u001b[1m13s\u001b[0m 3ms/step - auc: 0.8525 - loss: 8.1877e-04 - weighted_auc: 0.8584 - val_auc: 0.7969 - val_loss: 8.7265e-04 - val_weighted_auc: 0.8011\n",
      "Epoch 10/50\n",
      "\u001b[1m4512/4512\u001b[0m \u001b[32m━━━━━━━━━━━━━━━━━━━━\u001b[0m\u001b[37m\u001b[0m \u001b[1m13s\u001b[0m 3ms/step - auc: 0.8514 - loss: 8.1536e-04 - weighted_auc: 0.8587 - val_auc: 0.8007 - val_loss: 8.7098e-04 - val_weighted_auc: 0.8048\n",
      "Epoch 11/50\n",
      "\u001b[1m4512/4512\u001b[0m \u001b[32m━━━━━━━━━━━━━━━━━━━━\u001b[0m\u001b[37m\u001b[0m \u001b[1m13s\u001b[0m 3ms/step - auc: 0.8542 - loss: 8.1066e-04 - weighted_auc: 0.8608 - val_auc: 0.8070 - val_loss: 8.7008e-04 - val_weighted_auc: 0.8114\n",
      "Epoch 12/50\n",
      "\u001b[1m4512/4512\u001b[0m \u001b[32m━━━━━━━━━━━━━━━━━━━━\u001b[0m\u001b[37m\u001b[0m \u001b[1m13s\u001b[0m 3ms/step - auc: 0.8516 - loss: 8.0571e-04 - weighted_auc: 0.8569 - val_auc: 0.7947 - val_loss: 8.8254e-04 - val_weighted_auc: 0.7988\n",
      "Epoch 13/50\n",
      "\u001b[1m4512/4512\u001b[0m \u001b[32m━━━━━━━━━━━━━━━━━━━━\u001b[0m\u001b[37m\u001b[0m \u001b[1m13s\u001b[0m 3ms/step - auc: 0.8509 - loss: 8.0860e-04 - weighted_auc: 0.8573 - val_auc: 0.8031 - val_loss: 8.6659e-04 - val_weighted_auc: 0.8074\n",
      "Epoch 14/50\n",
      "\u001b[1m4512/4512\u001b[0m \u001b[32m━━━━━━━━━━━━━━━━━━━━\u001b[0m\u001b[37m\u001b[0m \u001b[1m13s\u001b[0m 3ms/step - auc: 0.8562 - loss: 8.0039e-04 - weighted_auc: 0.8621 - val_auc: 0.8005 - val_loss: 8.8600e-04 - val_weighted_auc: 0.8044\n",
      "Epoch 15/50\n",
      "\u001b[1m4512/4512\u001b[0m \u001b[32m━━━━━━━━━━━━━━━━━━━━\u001b[0m\u001b[37m\u001b[0m \u001b[1m13s\u001b[0m 3ms/step - auc: 0.8554 - loss: 8.0542e-04 - weighted_auc: 0.8641 - val_auc: 0.8130 - val_loss: 8.6792e-04 - val_weighted_auc: 0.8169\n",
      "Epoch 16/50\n",
      "\u001b[1m4512/4512\u001b[0m \u001b[32m━━━━━━━━━━━━━━━━━━━━\u001b[0m\u001b[37m\u001b[0m \u001b[1m13s\u001b[0m 3ms/step - auc: 0.8572 - loss: 7.9968e-04 - weighted_auc: 0.8645 - val_auc: 0.8144 - val_loss: 8.5810e-04 - val_weighted_auc: 0.8193\n",
      "Epoch 17/50\n",
      "\u001b[1m4512/4512\u001b[0m \u001b[32m━━━━━━━━━━━━━━━━━━━━\u001b[0m\u001b[37m\u001b[0m \u001b[1m13s\u001b[0m 3ms/step - auc: 0.8577 - loss: 7.9263e-04 - weighted_auc: 0.8636 - val_auc: 0.8216 - val_loss: 8.6020e-04 - val_weighted_auc: 0.8255\n",
      "Epoch 18/50\n",
      "\u001b[1m4512/4512\u001b[0m \u001b[32m━━━━━━━━━━━━━━━━━━━━\u001b[0m\u001b[37m\u001b[0m \u001b[1m13s\u001b[0m 3ms/step - auc: 0.8561 - loss: 7.8724e-04 - weighted_auc: 0.8633 - val_auc: 0.8122 - val_loss: 8.7486e-04 - val_weighted_auc: 0.8145\n",
      "Epoch 19/50\n",
      "\u001b[1m4512/4512\u001b[0m \u001b[32m━━━━━━━━━━━━━━━━━━━━\u001b[0m\u001b[37m\u001b[0m \u001b[1m13s\u001b[0m 3ms/step - auc: 0.8615 - loss: 7.8564e-04 - weighted_auc: 0.8662 - val_auc: 0.8156 - val_loss: 8.6796e-04 - val_weighted_auc: 0.8198\n",
      "Epoch 20/50\n",
      "\u001b[1m4512/4512\u001b[0m \u001b[32m━━━━━━━━━━━━━━━━━━━━\u001b[0m\u001b[37m\u001b[0m \u001b[1m13s\u001b[0m 3ms/step - auc: 0.8518 - loss: 7.8536e-04 - weighted_auc: 0.8586 - val_auc: 0.8049 - val_loss: 8.8217e-04 - val_weighted_auc: 0.8089\n",
      "Epoch 21/50\n",
      "\u001b[1m4512/4512\u001b[0m \u001b[32m━━━━━━━━━━━━━━━━━━━━\u001b[0m\u001b[37m\u001b[0m \u001b[1m13s\u001b[0m 3ms/step - auc: 0.8582 - loss: 7.8380e-04 - weighted_auc: 0.8653 - val_auc: 0.8070 - val_loss: 8.8306e-04 - val_weighted_auc: 0.8107\n",
      "Epoch 22/50\n",
      "\u001b[1m4512/4512\u001b[0m \u001b[32m━━━━━━━━━━━━━━━━━━━━\u001b[0m\u001b[37m\u001b[0m \u001b[1m13s\u001b[0m 3ms/step - auc: 0.8618 - loss: 7.7856e-04 - weighted_auc: 0.8665 - val_auc: 0.8080 - val_loss: 8.9769e-04 - val_weighted_auc: 0.8117\n",
      "\u001b[1m30935/30935\u001b[0m \u001b[32m━━━━━━━━━━━━━━━━━━━━\u001b[0m\u001b[37m\u001b[0m \u001b[1m21s\u001b[0m 665us/step\n",
      "\u001b[1m6445/6445\u001b[0m \u001b[32m━━━━━━━━━━━━━━━━━━━━\u001b[0m\u001b[37m\u001b[0m \u001b[1m6s\u001b[0m 913us/step\n"
     ]
    },
    {
     "data": {
      "text/html": [],
      "text/plain": [
       "<IPython.core.display.HTML object>"
      ]
     },
     "metadata": {},
     "output_type": "display_data"
    },
    {
     "data": {
      "text/html": [
       "<br>    <style><br>        .wandb-row {<br>            display: flex;<br>            flex-direction: row;<br>            flex-wrap: wrap;<br>            justify-content: flex-start;<br>            width: 100%;<br>        }<br>        .wandb-col {<br>            display: flex;<br>            flex-direction: column;<br>            flex-basis: 100%;<br>            flex: 1;<br>            padding: 10px;<br>        }<br>    </style><br><div class=\"wandb-row\"><div class=\"wandb-col\"><h3>Run history:</h3><br/><table class=\"wandb\"><tr><td>Acceptance</td><td>▁</td></tr><tr><td>Max S/sqrt(B)</td><td>▁</td></tr><tr><td>epoch/auc</td><td>▁▅▆▆▇▇▇▇▇▇▇▇▇▇▇███████</td></tr><tr><td>epoch/epoch</td><td>▁▁▂▂▂▃▃▃▄▄▄▅▅▅▆▆▆▇▇▇██</td></tr><tr><td>epoch/learning_rate</td><td>▁▁▁▁▁▁▁▁▁▁▁▁▁▁▁▁▁▁▁▁▁▁</td></tr><tr><td>epoch/loss</td><td>█▃▂▂▂▂▂▂▂▂▁▁▁▁▁▁▁▁▁▁▁▁</td></tr><tr><td>epoch/val_auc</td><td>▁▃▄▅▅▅▂▆▅▆▆▅▆▆▇▇█▇▇▆▆▇</td></tr><tr><td>epoch/val_loss</td><td>█▆▅▃▃▄▇▂▂▂▂▃▂▃▂▁▁▂▂▃▃▄</td></tr><tr><td>epoch/val_weighted_auc</td><td>▁▃▄▆▅▅▂▆▅▆▆▅▆▆▇▇█▇▇▆▆▇</td></tr><tr><td>epoch/weighted_auc</td><td>▁▅▆▆▇▇▇▇▇▇▇▇▇█████████</td></tr><tr><td>final_val_roc_auc</td><td>▁</td></tr><tr><td>nnScore cut</td><td>▁</td></tr></table><br/></div><div class=\"wandb-col\"><h3>Run summary:</h3><br/><table class=\"wandb\"><tr><td>Acceptance</td><td>0.51474</td></tr><tr><td>Max S/sqrt(B)</td><td>2.95016</td></tr><tr><td>epoch/auc</td><td>0.85778</td></tr><tr><td>epoch/epoch</td><td>21</td></tr><tr><td>epoch/learning_rate</td><td>0.00037</td></tr><tr><td>epoch/loss</td><td>0.00079</td></tr><tr><td>epoch/val_auc</td><td>0.80802</td></tr><tr><td>epoch/val_loss</td><td>0.0009</td></tr><tr><td>epoch/val_weighted_auc</td><td>0.81175</td></tr><tr><td>epoch/weighted_auc</td><td>0.86714</td></tr><tr><td>final_val_roc_auc</td><td>0.9758</td></tr><tr><td>nnScore cut</td><td>0.02</td></tr></table><br/></div></div>"
      ],
      "text/plain": [
       "<IPython.core.display.HTML object>"
      ]
     },
     "metadata": {},
     "output_type": "display_data"
    },
    {
     "data": {
      "text/html": [
       " View run <strong style=\"color:#cdcd00\">dry-sweep-40</strong> at: <a href='https://wandb.ai/dlai211/tf-dnn-weighted-classifier/runs/440citpq' target=\"_blank\">https://wandb.ai/dlai211/tf-dnn-weighted-classifier/runs/440citpq</a><br> View project at: <a href='https://wandb.ai/dlai211/tf-dnn-weighted-classifier' target=\"_blank\">https://wandb.ai/dlai211/tf-dnn-weighted-classifier</a><br>Synced 5 W&B file(s), 1 media file(s), 0 artifact file(s) and 0 other file(s)"
      ],
      "text/plain": [
       "<IPython.core.display.HTML object>"
      ]
     },
     "metadata": {},
     "output_type": "display_data"
    },
    {
     "data": {
      "text/html": [
       "Find logs at: <code>./wandb/run-20250821_075937-440citpq/logs</code>"
      ],
      "text/plain": [
       "<IPython.core.display.HTML object>"
      ]
     },
     "metadata": {},
     "output_type": "display_data"
    },
    {
     "name": "stderr",
     "output_type": "stream",
     "text": [
      "\u001b[34m\u001b[1mwandb\u001b[0m: Agent Starting Run: 12noefjd with config:\n",
      "\u001b[34m\u001b[1mwandb\u001b[0m: \tbatch_size: 768\n",
      "\u001b[34m\u001b[1mwandb\u001b[0m: \tdropout: 0.10418728590529844\n",
      "\u001b[34m\u001b[1mwandb\u001b[0m: \tepochs: 50\n",
      "\u001b[34m\u001b[1mwandb\u001b[0m: \tlayer_1: 192\n",
      "\u001b[34m\u001b[1mwandb\u001b[0m: \tlayer_2: 512\n",
      "\u001b[34m\u001b[1mwandb\u001b[0m: \tlayer_3: 2048\n",
      "\u001b[34m\u001b[1mwandb\u001b[0m: \tlayer_4: 384\n",
      "\u001b[34m\u001b[1mwandb\u001b[0m: \tlayer_5: 96\n",
      "\u001b[34m\u001b[1mwandb\u001b[0m: \tlr: 3.924512388674803e-05\n"
     ]
    },
    {
     "data": {
      "text/html": [
       "Ignoring project 'tf-dnn-weighted-classifier' when running a sweep."
      ],
      "text/plain": [
       "<IPython.core.display.HTML object>"
      ]
     },
     "metadata": {},
     "output_type": "display_data"
    },
    {
     "data": {
      "text/html": [
       "Tracking run with wandb version 0.21.0"
      ],
      "text/plain": [
       "<IPython.core.display.HTML object>"
      ]
     },
     "metadata": {},
     "output_type": "display_data"
    },
    {
     "data": {
      "text/html": [
       "Run data is saved locally in <code>/home/jlai/ML/jet_faking/wandb/run-20250821_080531-12noefjd</code>"
      ],
      "text/plain": [
       "<IPython.core.display.HTML object>"
      ]
     },
     "metadata": {},
     "output_type": "display_data"
    },
    {
     "data": {
      "text/html": [
       "Syncing run <strong><a href='https://wandb.ai/dlai211/tf-dnn-weighted-classifier/runs/12noefjd' target=\"_blank\">gentle-sweep-41</a></strong> to <a href='https://wandb.ai/dlai211/tf-dnn-weighted-classifier' target=\"_blank\">Weights & Biases</a> (<a href='https://wandb.me/developer-guide' target=\"_blank\">docs</a>)<br>Sweep page: <a href='https://wandb.ai/dlai211/tf-dnn-weighted-classifier/sweeps/rg1dnn5u' target=\"_blank\">https://wandb.ai/dlai211/tf-dnn-weighted-classifier/sweeps/rg1dnn5u</a>"
      ],
      "text/plain": [
       "<IPython.core.display.HTML object>"
      ]
     },
     "metadata": {},
     "output_type": "display_data"
    },
    {
     "data": {
      "text/html": [
       " View project at <a href='https://wandb.ai/dlai211/tf-dnn-weighted-classifier' target=\"_blank\">https://wandb.ai/dlai211/tf-dnn-weighted-classifier</a>"
      ],
      "text/plain": [
       "<IPython.core.display.HTML object>"
      ]
     },
     "metadata": {},
     "output_type": "display_data"
    },
    {
     "data": {
      "text/html": [
       " View sweep at <a href='https://wandb.ai/dlai211/tf-dnn-weighted-classifier/sweeps/rg1dnn5u' target=\"_blank\">https://wandb.ai/dlai211/tf-dnn-weighted-classifier/sweeps/rg1dnn5u</a>"
      ],
      "text/plain": [
       "<IPython.core.display.HTML object>"
      ]
     },
     "metadata": {},
     "output_type": "display_data"
    },
    {
     "data": {
      "text/html": [
       " View run at <a href='https://wandb.ai/dlai211/tf-dnn-weighted-classifier/runs/12noefjd' target=\"_blank\">https://wandb.ai/dlai211/tf-dnn-weighted-classifier/runs/12noefjd</a>"
      ],
      "text/plain": [
       "<IPython.core.display.HTML object>"
      ]
     },
     "metadata": {},
     "output_type": "display_data"
    },
    {
     "name": "stderr",
     "output_type": "stream",
     "text": [
      "/home/jlai/.local/share/mamba/envs/tf-gpu/lib/python3.10/site-packages/keras/src/layers/core/dense.py:93: UserWarning: Do not pass an `input_shape`/`input_dim` argument to a layer. When using Sequential models, prefer using an `Input(shape)` object as the first layer in the model instead.\n",
      "  super().__init__(activity_regularizer=activity_regularizer, **kwargs)\n"
     ]
    },
    {
     "name": "stdout",
     "output_type": "stream",
     "text": [
      "Epoch 1/50\n",
      "\u001b[1m3008/3008\u001b[0m \u001b[32m━━━━━━━━━━━━━━━━━━━━\u001b[0m\u001b[37m\u001b[0m \u001b[1m19s\u001b[0m 5ms/step - auc: 0.5400 - loss: 0.0184 - weighted_auc: 0.5575 - val_auc: 0.8212 - val_loss: 9.0644e-04 - val_weighted_auc: 0.8371\n",
      "Epoch 2/50\n",
      "\u001b[1m3008/3008\u001b[0m \u001b[32m━━━━━━━━━━━━━━━━━━━━\u001b[0m\u001b[37m\u001b[0m \u001b[1m10s\u001b[0m 3ms/step - auc: 0.8007 - loss: 8.9296e-04 - weighted_auc: 0.8081 - val_auc: 0.8372 - val_loss: 8.7911e-04 - val_weighted_auc: 0.8494\n",
      "Epoch 3/50\n",
      "\u001b[1m3008/3008\u001b[0m \u001b[32m━━━━━━━━━━━━━━━━━━━━\u001b[0m\u001b[37m\u001b[0m \u001b[1m10s\u001b[0m 3ms/step - auc: 0.8160 - loss: 8.7104e-04 - weighted_auc: 0.8240 - val_auc: 0.8389 - val_loss: 8.6602e-04 - val_weighted_auc: 0.8495\n",
      "Epoch 4/50\n",
      "\u001b[1m3008/3008\u001b[0m \u001b[32m━━━━━━━━━━━━━━━━━━━━\u001b[0m\u001b[37m\u001b[0m \u001b[1m10s\u001b[0m 3ms/step - auc: 0.8244 - loss: 8.5208e-04 - weighted_auc: 0.8307 - val_auc: 0.8505 - val_loss: 8.6104e-04 - val_weighted_auc: 0.8606\n",
      "Epoch 5/50\n",
      "\u001b[1m3008/3008\u001b[0m \u001b[32m━━━━━━━━━━━━━━━━━━━━\u001b[0m\u001b[37m\u001b[0m \u001b[1m10s\u001b[0m 3ms/step - auc: 0.8335 - loss: 8.4361e-04 - weighted_auc: 0.8410 - val_auc: 0.8561 - val_loss: 8.5871e-04 - val_weighted_auc: 0.8662\n",
      "Epoch 6/50\n",
      "\u001b[1m3008/3008\u001b[0m \u001b[32m━━━━━━━━━━━━━━━━━━━━\u001b[0m\u001b[37m\u001b[0m \u001b[1m10s\u001b[0m 3ms/step - auc: 0.8380 - loss: 8.3432e-04 - weighted_auc: 0.8438 - val_auc: 0.8580 - val_loss: 8.6156e-04 - val_weighted_auc: 0.8676\n",
      "Epoch 7/50\n",
      "\u001b[1m3008/3008\u001b[0m \u001b[32m━━━━━━━━━━━━━━━━━━━━\u001b[0m\u001b[37m\u001b[0m \u001b[1m10s\u001b[0m 3ms/step - auc: 0.8356 - loss: 8.3030e-04 - weighted_auc: 0.8410 - val_auc: 0.8611 - val_loss: 8.5650e-04 - val_weighted_auc: 0.8697\n",
      "Epoch 8/50\n",
      "\u001b[1m3008/3008\u001b[0m \u001b[32m━━━━━━━━━━━━━━━━━━━━\u001b[0m\u001b[37m\u001b[0m \u001b[1m10s\u001b[0m 3ms/step - auc: 0.8468 - loss: 8.2324e-04 - weighted_auc: 0.8520 - val_auc: 0.8552 - val_loss: 8.4569e-04 - val_weighted_auc: 0.8623\n",
      "Epoch 9/50\n",
      "\u001b[1m3008/3008\u001b[0m \u001b[32m━━━━━━━━━━━━━━━━━━━━\u001b[0m\u001b[37m\u001b[0m \u001b[1m10s\u001b[0m 3ms/step - auc: 0.8454 - loss: 8.2367e-04 - weighted_auc: 0.8522 - val_auc: 0.8589 - val_loss: 8.4919e-04 - val_weighted_auc: 0.8665\n",
      "Epoch 10/50\n",
      "\u001b[1m3008/3008\u001b[0m \u001b[32m━━━━━━━━━━━━━━━━━━━━\u001b[0m\u001b[37m\u001b[0m \u001b[1m10s\u001b[0m 3ms/step - auc: 0.8444 - loss: 8.1921e-04 - weighted_auc: 0.8501 - val_auc: 0.8588 - val_loss: 8.4734e-04 - val_weighted_auc: 0.8659\n",
      "Epoch 11/50\n",
      "\u001b[1m3008/3008\u001b[0m \u001b[32m━━━━━━━━━━━━━━━━━━━━\u001b[0m\u001b[37m\u001b[0m \u001b[1m10s\u001b[0m 3ms/step - auc: 0.8510 - loss: 8.0858e-04 - weighted_auc: 0.8568 - val_auc: 0.8568 - val_loss: 8.4601e-04 - val_weighted_auc: 0.8631\n",
      "Epoch 12/50\n",
      "\u001b[1m3008/3008\u001b[0m \u001b[32m━━━━━━━━━━━━━━━━━━━━\u001b[0m\u001b[37m\u001b[0m \u001b[1m10s\u001b[0m 3ms/step - auc: 0.8507 - loss: 8.0686e-04 - weighted_auc: 0.8551 - val_auc: 0.8634 - val_loss: 8.5258e-04 - val_weighted_auc: 0.8706\n",
      "Epoch 13/50\n",
      "\u001b[1m3008/3008\u001b[0m \u001b[32m━━━━━━━━━━━━━━━━━━━━\u001b[0m\u001b[37m\u001b[0m \u001b[1m10s\u001b[0m 3ms/step - auc: 0.8541 - loss: 8.0351e-04 - weighted_auc: 0.8612 - val_auc: 0.8565 - val_loss: 8.3768e-04 - val_weighted_auc: 0.8636\n",
      "Epoch 14/50\n",
      "\u001b[1m3008/3008\u001b[0m \u001b[32m━━━━━━━━━━━━━━━━━━━━\u001b[0m\u001b[37m\u001b[0m \u001b[1m11s\u001b[0m 3ms/step - auc: 0.8499 - loss: 8.0929e-04 - weighted_auc: 0.8568 - val_auc: 0.8644 - val_loss: 8.5594e-04 - val_weighted_auc: 0.8711\n",
      "Epoch 15/50\n",
      "\u001b[1m3008/3008\u001b[0m \u001b[32m━━━━━━━━━━━━━━━━━━━━\u001b[0m\u001b[37m\u001b[0m \u001b[1m10s\u001b[0m 3ms/step - auc: 0.8546 - loss: 8.0567e-04 - weighted_auc: 0.8605 - val_auc: 0.8628 - val_loss: 8.4722e-04 - val_weighted_auc: 0.8693\n",
      "Epoch 16/50\n",
      "\u001b[1m3008/3008\u001b[0m \u001b[32m━━━━━━━━━━━━━━━━━━━━\u001b[0m\u001b[37m\u001b[0m \u001b[1m10s\u001b[0m 3ms/step - auc: 0.8530 - loss: 8.0066e-04 - weighted_auc: 0.8585 - val_auc: 0.8632 - val_loss: 8.5030e-04 - val_weighted_auc: 0.8693\n",
      "Epoch 17/50\n",
      "\u001b[1m3008/3008\u001b[0m \u001b[32m━━━━━━━━━━━━━━━━━━━━\u001b[0m\u001b[37m\u001b[0m \u001b[1m10s\u001b[0m 3ms/step - auc: 0.8515 - loss: 7.9568e-04 - weighted_auc: 0.8577 - val_auc: 0.8625 - val_loss: 8.4281e-04 - val_weighted_auc: 0.8687\n",
      "Epoch 18/50\n",
      "\u001b[1m3008/3008\u001b[0m \u001b[32m━━━━━━━━━━━━━━━━━━━━\u001b[0m\u001b[37m\u001b[0m \u001b[1m10s\u001b[0m 3ms/step - auc: 0.8551 - loss: 7.9637e-04 - weighted_auc: 0.8608 - val_auc: 0.8630 - val_loss: 8.4399e-04 - val_weighted_auc: 0.8702\n",
      "Epoch 19/50\n",
      "\u001b[1m3008/3008\u001b[0m \u001b[32m━━━━━━━━━━━━━━━━━━━━\u001b[0m\u001b[37m\u001b[0m \u001b[1m10s\u001b[0m 3ms/step - auc: 0.8579 - loss: 7.9363e-04 - weighted_auc: 0.8648 - val_auc: 0.8627 - val_loss: 8.4564e-04 - val_weighted_auc: 0.8687\n",
      "\u001b[1m30935/30935\u001b[0m \u001b[32m━━━━━━━━━━━━━━━━━━━━\u001b[0m\u001b[37m\u001b[0m \u001b[1m20s\u001b[0m 636us/step\n",
      "\u001b[1m4297/4297\u001b[0m \u001b[32m━━━━━━━━━━━━━━━━━━━━\u001b[0m\u001b[37m\u001b[0m \u001b[1m5s\u001b[0m 1ms/step\n"
     ]
    },
    {
     "data": {
      "text/html": [],
      "text/plain": [
       "<IPython.core.display.HTML object>"
      ]
     },
     "metadata": {},
     "output_type": "display_data"
    },
    {
     "data": {
      "text/html": [
       "<br>    <style><br>        .wandb-row {<br>            display: flex;<br>            flex-direction: row;<br>            flex-wrap: wrap;<br>            justify-content: flex-start;<br>            width: 100%;<br>        }<br>        .wandb-col {<br>            display: flex;<br>            flex-direction: column;<br>            flex-basis: 100%;<br>            flex: 1;<br>            padding: 10px;<br>        }<br>    </style><br><div class=\"wandb-row\"><div class=\"wandb-col\"><h3>Run history:</h3><br/><table class=\"wandb\"><tr><td>Acceptance</td><td>▁</td></tr><tr><td>Max S/sqrt(B)</td><td>▁</td></tr><tr><td>epoch/auc</td><td>▁▆▇▇▇▇▇████████████</td></tr><tr><td>epoch/epoch</td><td>▁▁▂▂▃▃▃▄▄▅▅▅▆▆▆▇▇██</td></tr><tr><td>epoch/learning_rate</td><td>▁▁▁▁▁▁▁▁▁▁▁▁▁▁▁▁▁▁▁</td></tr><tr><td>epoch/loss</td><td>█▁▁▁▁▁▁▁▁▁▁▁▁▁▁▁▁▁▁</td></tr><tr><td>epoch/val_auc</td><td>▁▄▄▆▇▇▇▇▇▇▇█▇██████</td></tr><tr><td>epoch/val_loss</td><td>█▅▄▃▃▃▃▂▂▂▂▃▁▃▂▂▂▂▂</td></tr><tr><td>epoch/val_weighted_auc</td><td>▁▄▄▆▇▇█▆▇▇▆█▆██████</td></tr><tr><td>epoch/weighted_auc</td><td>▁▆▇▇▇▇▇████████████</td></tr><tr><td>final_val_roc_auc</td><td>▁</td></tr><tr><td>nnScore cut</td><td>▁</td></tr></table><br/></div><div class=\"wandb-col\"><h3>Run summary:</h3><br/><table class=\"wandb\"><tr><td>Acceptance</td><td>0.52917</td></tr><tr><td>Max S/sqrt(B)</td><td>3.05602</td></tr><tr><td>epoch/auc</td><td>0.85296</td></tr><tr><td>epoch/epoch</td><td>18</td></tr><tr><td>epoch/learning_rate</td><td>4e-05</td></tr><tr><td>epoch/loss</td><td>0.0008</td></tr><tr><td>epoch/val_auc</td><td>0.86267</td></tr><tr><td>epoch/val_loss</td><td>0.00085</td></tr><tr><td>epoch/val_weighted_auc</td><td>0.8687</td></tr><tr><td>epoch/weighted_auc</td><td>0.86305</td></tr><tr><td>final_val_roc_auc</td><td>0.97571</td></tr><tr><td>nnScore cut</td><td>0.02</td></tr></table><br/></div></div>"
      ],
      "text/plain": [
       "<IPython.core.display.HTML object>"
      ]
     },
     "metadata": {},
     "output_type": "display_data"
    },
    {
     "data": {
      "text/html": [
       " View run <strong style=\"color:#cdcd00\">gentle-sweep-41</strong> at: <a href='https://wandb.ai/dlai211/tf-dnn-weighted-classifier/runs/12noefjd' target=\"_blank\">https://wandb.ai/dlai211/tf-dnn-weighted-classifier/runs/12noefjd</a><br> View project at: <a href='https://wandb.ai/dlai211/tf-dnn-weighted-classifier' target=\"_blank\">https://wandb.ai/dlai211/tf-dnn-weighted-classifier</a><br>Synced 5 W&B file(s), 1 media file(s), 0 artifact file(s) and 0 other file(s)"
      ],
      "text/plain": [
       "<IPython.core.display.HTML object>"
      ]
     },
     "metadata": {},
     "output_type": "display_data"
    },
    {
     "data": {
      "text/html": [
       "Find logs at: <code>./wandb/run-20250821_080531-12noefjd/logs</code>"
      ],
      "text/plain": [
       "<IPython.core.display.HTML object>"
      ]
     },
     "metadata": {},
     "output_type": "display_data"
    },
    {
     "name": "stderr",
     "output_type": "stream",
     "text": [
      "\u001b[34m\u001b[1mwandb\u001b[0m: Agent Starting Run: xwtxia93 with config:\n",
      "\u001b[34m\u001b[1mwandb\u001b[0m: \tbatch_size: 512\n",
      "\u001b[34m\u001b[1mwandb\u001b[0m: \tdropout: 0.10915129209939356\n",
      "\u001b[34m\u001b[1mwandb\u001b[0m: \tepochs: 50\n",
      "\u001b[34m\u001b[1mwandb\u001b[0m: \tlayer_1: 128\n",
      "\u001b[34m\u001b[1mwandb\u001b[0m: \tlayer_2: 512\n",
      "\u001b[34m\u001b[1mwandb\u001b[0m: \tlayer_3: 2048\n",
      "\u001b[34m\u001b[1mwandb\u001b[0m: \tlayer_4: 128\n",
      "\u001b[34m\u001b[1mwandb\u001b[0m: \tlayer_5: 32\n",
      "\u001b[34m\u001b[1mwandb\u001b[0m: \tlr: 0.0033280729634248864\n"
     ]
    },
    {
     "data": {
      "text/html": [
       "Ignoring project 'tf-dnn-weighted-classifier' when running a sweep."
      ],
      "text/plain": [
       "<IPython.core.display.HTML object>"
      ]
     },
     "metadata": {},
     "output_type": "display_data"
    },
    {
     "data": {
      "text/html": [
       "Tracking run with wandb version 0.21.0"
      ],
      "text/plain": [
       "<IPython.core.display.HTML object>"
      ]
     },
     "metadata": {},
     "output_type": "display_data"
    },
    {
     "data": {
      "text/html": [
       "Run data is saved locally in <code>/home/jlai/ML/jet_faking/wandb/run-20250821_080943-xwtxia93</code>"
      ],
      "text/plain": [
       "<IPython.core.display.HTML object>"
      ]
     },
     "metadata": {},
     "output_type": "display_data"
    },
    {
     "data": {
      "text/html": [
       "Syncing run <strong><a href='https://wandb.ai/dlai211/tf-dnn-weighted-classifier/runs/xwtxia93' target=\"_blank\">rural-sweep-42</a></strong> to <a href='https://wandb.ai/dlai211/tf-dnn-weighted-classifier' target=\"_blank\">Weights & Biases</a> (<a href='https://wandb.me/developer-guide' target=\"_blank\">docs</a>)<br>Sweep page: <a href='https://wandb.ai/dlai211/tf-dnn-weighted-classifier/sweeps/rg1dnn5u' target=\"_blank\">https://wandb.ai/dlai211/tf-dnn-weighted-classifier/sweeps/rg1dnn5u</a>"
      ],
      "text/plain": [
       "<IPython.core.display.HTML object>"
      ]
     },
     "metadata": {},
     "output_type": "display_data"
    },
    {
     "data": {
      "text/html": [
       " View project at <a href='https://wandb.ai/dlai211/tf-dnn-weighted-classifier' target=\"_blank\">https://wandb.ai/dlai211/tf-dnn-weighted-classifier</a>"
      ],
      "text/plain": [
       "<IPython.core.display.HTML object>"
      ]
     },
     "metadata": {},
     "output_type": "display_data"
    },
    {
     "data": {
      "text/html": [
       " View sweep at <a href='https://wandb.ai/dlai211/tf-dnn-weighted-classifier/sweeps/rg1dnn5u' target=\"_blank\">https://wandb.ai/dlai211/tf-dnn-weighted-classifier/sweeps/rg1dnn5u</a>"
      ],
      "text/plain": [
       "<IPython.core.display.HTML object>"
      ]
     },
     "metadata": {},
     "output_type": "display_data"
    },
    {
     "data": {
      "text/html": [
       " View run at <a href='https://wandb.ai/dlai211/tf-dnn-weighted-classifier/runs/xwtxia93' target=\"_blank\">https://wandb.ai/dlai211/tf-dnn-weighted-classifier/runs/xwtxia93</a>"
      ],
      "text/plain": [
       "<IPython.core.display.HTML object>"
      ]
     },
     "metadata": {},
     "output_type": "display_data"
    },
    {
     "name": "stderr",
     "output_type": "stream",
     "text": [
      "/home/jlai/.local/share/mamba/envs/tf-gpu/lib/python3.10/site-packages/keras/src/layers/core/dense.py:93: UserWarning: Do not pass an `input_shape`/`input_dim` argument to a layer. When using Sequential models, prefer using an `Input(shape)` object as the first layer in the model instead.\n",
      "  super().__init__(activity_regularizer=activity_regularizer, **kwargs)\n"
     ]
    },
    {
     "name": "stdout",
     "output_type": "stream",
     "text": [
      "Epoch 1/50\n",
      "\u001b[1m4512/4512\u001b[0m \u001b[32m━━━━━━━━━━━━━━━━━━━━\u001b[0m\u001b[37m\u001b[0m \u001b[1m20s\u001b[0m 4ms/step - auc: 0.7438 - loss: 0.0024 - weighted_auc: 0.7516 - val_auc: 0.7866 - val_loss: 9.1635e-04 - val_weighted_auc: 0.7988\n",
      "Epoch 2/50\n",
      "\u001b[1m4512/4512\u001b[0m \u001b[32m━━━━━━━━━━━━━━━━━━━━\u001b[0m\u001b[37m\u001b[0m \u001b[1m13s\u001b[0m 3ms/step - auc: 0.8046 - loss: 9.6235e-04 - weighted_auc: 0.8139 - val_auc: 0.6887 - val_loss: 0.0011 - val_weighted_auc: 0.6955\n",
      "Epoch 3/50\n",
      "\u001b[1m4512/4512\u001b[0m \u001b[32m━━━━━━━━━━━━━━━━━━━━\u001b[0m\u001b[37m\u001b[0m \u001b[1m13s\u001b[0m 3ms/step - auc: 0.8188 - loss: 9.1314e-04 - weighted_auc: 0.8287 - val_auc: 0.7580 - val_loss: 9.5276e-04 - val_weighted_auc: 0.7637\n",
      "Epoch 4/50\n",
      "\u001b[1m4512/4512\u001b[0m \u001b[32m━━━━━━━━━━━━━━━━━━━━\u001b[0m\u001b[37m\u001b[0m \u001b[1m13s\u001b[0m 3ms/step - auc: 0.8317 - loss: 8.9955e-04 - weighted_auc: 0.8412 - val_auc: 0.7688 - val_loss: 9.2810e-04 - val_weighted_auc: 0.7793\n",
      "Epoch 5/50\n",
      "\u001b[1m4512/4512\u001b[0m \u001b[32m━━━━━━━━━━━━━━━━━━━━\u001b[0m\u001b[37m\u001b[0m \u001b[1m13s\u001b[0m 3ms/step - auc: 0.8361 - loss: 8.9172e-04 - weighted_auc: 0.8460 - val_auc: 0.7767 - val_loss: 8.9511e-04 - val_weighted_auc: 0.7829\n",
      "Epoch 6/50\n",
      "\u001b[1m4512/4512\u001b[0m \u001b[32m━━━━━━━━━━━━━━━━━━━━\u001b[0m\u001b[37m\u001b[0m \u001b[1m13s\u001b[0m 3ms/step - auc: 0.8236 - loss: 8.7615e-04 - weighted_auc: 0.8320 - val_auc: 0.7963 - val_loss: 8.9136e-04 - val_weighted_auc: 0.8042\n",
      "Epoch 7/50\n",
      "\u001b[1m4512/4512\u001b[0m \u001b[32m━━━━━━━━━━━━━━━━━━━━\u001b[0m\u001b[37m\u001b[0m \u001b[1m13s\u001b[0m 3ms/step - auc: 0.8200 - loss: 8.8324e-04 - weighted_auc: 0.8288 - val_auc: 0.7409 - val_loss: 9.0387e-04 - val_weighted_auc: 0.7501\n",
      "Epoch 8/50\n",
      "\u001b[1m4512/4512\u001b[0m \u001b[32m━━━━━━━━━━━━━━━━━━━━\u001b[0m\u001b[37m\u001b[0m \u001b[1m13s\u001b[0m 3ms/step - auc: 0.8311 - loss: 8.6209e-04 - weighted_auc: 0.8415 - val_auc: 0.8194 - val_loss: 8.7686e-04 - val_weighted_auc: 0.8269\n",
      "Epoch 9/50\n",
      "\u001b[1m4512/4512\u001b[0m \u001b[32m━━━━━━━━━━━━━━━━━━━━\u001b[0m\u001b[37m\u001b[0m \u001b[1m13s\u001b[0m 3ms/step - auc: 0.8197 - loss: 8.8608e-04 - weighted_auc: 0.8288 - val_auc: 0.7791 - val_loss: 8.7784e-04 - val_weighted_auc: 0.7879\n",
      "Epoch 10/50\n",
      "\u001b[1m4512/4512\u001b[0m \u001b[32m━━━━━━━━━━━━━━━━━━━━\u001b[0m\u001b[37m\u001b[0m \u001b[1m13s\u001b[0m 3ms/step - auc: 0.8197 - loss: 8.6626e-04 - weighted_auc: 0.8253 - val_auc: 0.7939 - val_loss: 8.6923e-04 - val_weighted_auc: 0.8024\n",
      "Epoch 11/50\n",
      "\u001b[1m4512/4512\u001b[0m \u001b[32m━━━━━━━━━━━━━━━━━━━━\u001b[0m\u001b[37m\u001b[0m \u001b[1m13s\u001b[0m 3ms/step - auc: 0.8085 - loss: 8.7090e-04 - weighted_auc: 0.8166 - val_auc: 0.7775 - val_loss: 9.2079e-04 - val_weighted_auc: 0.7827\n",
      "Epoch 12/50\n",
      "\u001b[1m4512/4512\u001b[0m \u001b[32m━━━━━━━━━━━━━━━━━━━━\u001b[0m\u001b[37m\u001b[0m \u001b[1m13s\u001b[0m 3ms/step - auc: 0.8107 - loss: 8.8290e-04 - weighted_auc: 0.8193 - val_auc: 0.8142 - val_loss: 8.7245e-04 - val_weighted_auc: 0.8231\n",
      "Epoch 13/50\n",
      "\u001b[1m4512/4512\u001b[0m \u001b[32m━━━━━━━━━━━━━━━━━━━━\u001b[0m\u001b[37m\u001b[0m \u001b[1m13s\u001b[0m 3ms/step - auc: 0.8284 - loss: 8.7575e-04 - weighted_auc: 0.8349 - val_auc: 0.8147 - val_loss: 9.0561e-04 - val_weighted_auc: 0.8263\n",
      "\u001b[1m30935/30935\u001b[0m \u001b[32m━━━━━━━━━━━━━━━━━━━━\u001b[0m\u001b[37m\u001b[0m \u001b[1m20s\u001b[0m 656us/step\n",
      "\u001b[1m6445/6445\u001b[0m \u001b[32m━━━━━━━━━━━━━━━━━━━━\u001b[0m\u001b[37m\u001b[0m \u001b[1m6s\u001b[0m 880us/step\n"
     ]
    },
    {
     "data": {
      "text/html": [],
      "text/plain": [
       "<IPython.core.display.HTML object>"
      ]
     },
     "metadata": {},
     "output_type": "display_data"
    },
    {
     "data": {
      "text/html": [
       "<br>    <style><br>        .wandb-row {<br>            display: flex;<br>            flex-direction: row;<br>            flex-wrap: wrap;<br>            justify-content: flex-start;<br>            width: 100%;<br>        }<br>        .wandb-col {<br>            display: flex;<br>            flex-direction: column;<br>            flex-basis: 100%;<br>            flex: 1;<br>            padding: 10px;<br>        }<br>    </style><br><div class=\"wandb-row\"><div class=\"wandb-col\"><h3>Run history:</h3><br/><table class=\"wandb\"><tr><td>Acceptance</td><td>▁</td></tr><tr><td>Max S/sqrt(B)</td><td>▁</td></tr><tr><td>epoch/auc</td><td>▁▆▇██▆▆▇▆▆▆▅▆</td></tr><tr><td>epoch/epoch</td><td>▁▂▂▃▃▄▅▅▆▆▇▇█</td></tr><tr><td>epoch/learning_rate</td><td>▁▁▁▁▁▁▁▁▁▁▁▁▁</td></tr><tr><td>epoch/loss</td><td>█▃▂▁▁▁▁▁▁▁▁▁▁</td></tr><tr><td>epoch/val_auc</td><td>▆▁▅▅▆▇▄█▆▇▆██</td></tr><tr><td>epoch/val_loss</td><td>▂█▄▃▂▂▂▁▁▁▃▁▂</td></tr><tr><td>epoch/val_weighted_auc</td><td>▆▁▅▅▆▇▄█▆▇▆██</td></tr><tr><td>epoch/weighted_auc</td><td>▁▆▇██▆▆▇▆▆▆▅▅</td></tr><tr><td>final_val_roc_auc</td><td>▁</td></tr><tr><td>nnScore cut</td><td>▁</td></tr></table><br/></div><div class=\"wandb-col\"><h3>Run summary:</h3><br/><table class=\"wandb\"><tr><td>Acceptance</td><td>0.513</td></tr><tr><td>Max S/sqrt(B)</td><td>2.97281</td></tr><tr><td>epoch/auc</td><td>0.81088</td></tr><tr><td>epoch/epoch</td><td>12</td></tr><tr><td>epoch/learning_rate</td><td>0.00333</td></tr><tr><td>epoch/loss</td><td>0.00091</td></tr><tr><td>epoch/val_auc</td><td>0.81468</td></tr><tr><td>epoch/val_loss</td><td>0.00091</td></tr><tr><td>epoch/val_weighted_auc</td><td>0.82629</td></tr><tr><td>epoch/weighted_auc</td><td>0.82202</td></tr><tr><td>final_val_roc_auc</td><td>0.97493</td></tr><tr><td>nnScore cut</td><td>0.03</td></tr></table><br/></div></div>"
      ],
      "text/plain": [
       "<IPython.core.display.HTML object>"
      ]
     },
     "metadata": {},
     "output_type": "display_data"
    },
    {
     "data": {
      "text/html": [
       " View run <strong style=\"color:#cdcd00\">rural-sweep-42</strong> at: <a href='https://wandb.ai/dlai211/tf-dnn-weighted-classifier/runs/xwtxia93' target=\"_blank\">https://wandb.ai/dlai211/tf-dnn-weighted-classifier/runs/xwtxia93</a><br> View project at: <a href='https://wandb.ai/dlai211/tf-dnn-weighted-classifier' target=\"_blank\">https://wandb.ai/dlai211/tf-dnn-weighted-classifier</a><br>Synced 5 W&B file(s), 1 media file(s), 0 artifact file(s) and 0 other file(s)"
      ],
      "text/plain": [
       "<IPython.core.display.HTML object>"
      ]
     },
     "metadata": {},
     "output_type": "display_data"
    },
    {
     "data": {
      "text/html": [
       "Find logs at: <code>./wandb/run-20250821_080943-xwtxia93/logs</code>"
      ],
      "text/plain": [
       "<IPython.core.display.HTML object>"
      ]
     },
     "metadata": {},
     "output_type": "display_data"
    },
    {
     "name": "stderr",
     "output_type": "stream",
     "text": [
      "\u001b[34m\u001b[1mwandb\u001b[0m: Agent Starting Run: ugeeo3x8 with config:\n",
      "\u001b[34m\u001b[1mwandb\u001b[0m: \tbatch_size: 128\n",
      "\u001b[34m\u001b[1mwandb\u001b[0m: \tdropout: 0.4964906060252976\n",
      "\u001b[34m\u001b[1mwandb\u001b[0m: \tepochs: 50\n",
      "\u001b[34m\u001b[1mwandb\u001b[0m: \tlayer_1: 64\n",
      "\u001b[34m\u001b[1mwandb\u001b[0m: \tlayer_2: 128\n",
      "\u001b[34m\u001b[1mwandb\u001b[0m: \tlayer_3: 1536\n",
      "\u001b[34m\u001b[1mwandb\u001b[0m: \tlayer_4: 128\n",
      "\u001b[34m\u001b[1mwandb\u001b[0m: \tlayer_5: 128\n",
      "\u001b[34m\u001b[1mwandb\u001b[0m: \tlr: 2.950203515423997e-05\n"
     ]
    },
    {
     "data": {
      "text/html": [
       "Ignoring project 'tf-dnn-weighted-classifier' when running a sweep."
      ],
      "text/plain": [
       "<IPython.core.display.HTML object>"
      ]
     },
     "metadata": {},
     "output_type": "display_data"
    },
    {
     "data": {
      "text/html": [
       "Tracking run with wandb version 0.21.0"
      ],
      "text/plain": [
       "<IPython.core.display.HTML object>"
      ]
     },
     "metadata": {},
     "output_type": "display_data"
    },
    {
     "data": {
      "text/html": [
       "Run data is saved locally in <code>/home/jlai/ML/jet_faking/wandb/run-20250821_081331-ugeeo3x8</code>"
      ],
      "text/plain": [
       "<IPython.core.display.HTML object>"
      ]
     },
     "metadata": {},
     "output_type": "display_data"
    },
    {
     "data": {
      "text/html": [
       "Syncing run <strong><a href='https://wandb.ai/dlai211/tf-dnn-weighted-classifier/runs/ugeeo3x8' target=\"_blank\">eternal-sweep-43</a></strong> to <a href='https://wandb.ai/dlai211/tf-dnn-weighted-classifier' target=\"_blank\">Weights & Biases</a> (<a href='https://wandb.me/developer-guide' target=\"_blank\">docs</a>)<br>Sweep page: <a href='https://wandb.ai/dlai211/tf-dnn-weighted-classifier/sweeps/rg1dnn5u' target=\"_blank\">https://wandb.ai/dlai211/tf-dnn-weighted-classifier/sweeps/rg1dnn5u</a>"
      ],
      "text/plain": [
       "<IPython.core.display.HTML object>"
      ]
     },
     "metadata": {},
     "output_type": "display_data"
    },
    {
     "data": {
      "text/html": [
       " View project at <a href='https://wandb.ai/dlai211/tf-dnn-weighted-classifier' target=\"_blank\">https://wandb.ai/dlai211/tf-dnn-weighted-classifier</a>"
      ],
      "text/plain": [
       "<IPython.core.display.HTML object>"
      ]
     },
     "metadata": {},
     "output_type": "display_data"
    },
    {
     "data": {
      "text/html": [
       " View sweep at <a href='https://wandb.ai/dlai211/tf-dnn-weighted-classifier/sweeps/rg1dnn5u' target=\"_blank\">https://wandb.ai/dlai211/tf-dnn-weighted-classifier/sweeps/rg1dnn5u</a>"
      ],
      "text/plain": [
       "<IPython.core.display.HTML object>"
      ]
     },
     "metadata": {},
     "output_type": "display_data"
    },
    {
     "data": {
      "text/html": [
       " View run at <a href='https://wandb.ai/dlai211/tf-dnn-weighted-classifier/runs/ugeeo3x8' target=\"_blank\">https://wandb.ai/dlai211/tf-dnn-weighted-classifier/runs/ugeeo3x8</a>"
      ],
      "text/plain": [
       "<IPython.core.display.HTML object>"
      ]
     },
     "metadata": {},
     "output_type": "display_data"
    },
    {
     "name": "stderr",
     "output_type": "stream",
     "text": [
      "/home/jlai/.local/share/mamba/envs/tf-gpu/lib/python3.10/site-packages/keras/src/layers/core/dense.py:93: UserWarning: Do not pass an `input_shape`/`input_dim` argument to a layer. When using Sequential models, prefer using an `Input(shape)` object as the first layer in the model instead.\n",
      "  super().__init__(activity_regularizer=activity_regularizer, **kwargs)\n"
     ]
    },
    {
     "name": "stdout",
     "output_type": "stream",
     "text": [
      "Epoch 1/50\n",
      "\u001b[1m18046/18046\u001b[0m \u001b[32m━━━━━━━━━━━━━━━━━━━━\u001b[0m\u001b[37m\u001b[0m \u001b[1m45s\u001b[0m 2ms/step - auc: 0.5120 - loss: 0.0282 - weighted_auc: 0.5524 - val_auc: 0.8708 - val_loss: 0.0012 - val_weighted_auc: 0.8915\n",
      "Epoch 2/50\n",
      "\u001b[1m18046/18046\u001b[0m \u001b[32m━━━━━━━━━━━━━━━━━━━━\u001b[0m\u001b[37m\u001b[0m \u001b[1m37s\u001b[0m 2ms/step - auc: 0.6750 - loss: 0.0011 - weighted_auc: 0.6853 - val_auc: 0.8903 - val_loss: 0.0014 - val_weighted_auc: 0.9111\n",
      "Epoch 3/50\n",
      "\u001b[1m18046/18046\u001b[0m \u001b[32m━━━━━━━━━━━━━━━━━━━━\u001b[0m\u001b[37m\u001b[0m \u001b[1m37s\u001b[0m 2ms/step - auc: 0.7207 - loss: 0.0010 - weighted_auc: 0.7345 - val_auc: 0.8957 - val_loss: 0.0013 - val_weighted_auc: 0.9154\n",
      "Epoch 4/50\n",
      "\u001b[1m18046/18046\u001b[0m \u001b[32m━━━━━━━━━━━━━━━━━━━━\u001b[0m\u001b[37m\u001b[0m \u001b[1m37s\u001b[0m 2ms/step - auc: 0.7451 - loss: 0.0010 - weighted_auc: 0.7575 - val_auc: 0.8977 - val_loss: 0.0013 - val_weighted_auc: 0.9158\n",
      "Epoch 5/50\n",
      "\u001b[1m18046/18046\u001b[0m \u001b[32m━━━━━━━━━━━━━━━━━━━━\u001b[0m\u001b[37m\u001b[0m \u001b[1m37s\u001b[0m 2ms/step - auc: 0.7688 - loss: 9.8134e-04 - weighted_auc: 0.7806 - val_auc: 0.8999 - val_loss: 0.0012 - val_weighted_auc: 0.9170\n",
      "Epoch 6/50\n",
      "\u001b[1m18046/18046\u001b[0m \u001b[32m━━━━━━━━━━━━━━━━━━━━\u001b[0m\u001b[37m\u001b[0m \u001b[1m37s\u001b[0m 2ms/step - auc: 0.7793 - loss: 9.6278e-04 - weighted_auc: 0.7917 - val_auc: 0.9042 - val_loss: 0.0014 - val_weighted_auc: 0.9220\n",
      "Epoch 7/50\n",
      "\u001b[1m18046/18046\u001b[0m \u001b[32m━━━━━━━━━━━━━━━━━━━━\u001b[0m\u001b[37m\u001b[0m \u001b[1m38s\u001b[0m 2ms/step - auc: 0.7876 - loss: 9.6327e-04 - weighted_auc: 0.7987 - val_auc: 0.9032 - val_loss: 0.0013 - val_weighted_auc: 0.9205\n",
      "Epoch 8/50\n",
      "\u001b[1m18046/18046\u001b[0m \u001b[32m━━━━━━━━━━━━━━━━━━━━\u001b[0m\u001b[37m\u001b[0m \u001b[1m39s\u001b[0m 2ms/step - auc: 0.7869 - loss: 9.4654e-04 - weighted_auc: 0.7986 - val_auc: 0.9096 - val_loss: 0.0014 - val_weighted_auc: 0.9273\n",
      "Epoch 9/50\n",
      "\u001b[1m18046/18046\u001b[0m \u001b[32m━━━━━━━━━━━━━━━━━━━━\u001b[0m\u001b[37m\u001b[0m \u001b[1m39s\u001b[0m 2ms/step - auc: 0.8036 - loss: 9.3699e-04 - weighted_auc: 0.8146 - val_auc: 0.9107 - val_loss: 0.0013 - val_weighted_auc: 0.9275\n",
      "Epoch 10/50\n",
      "\u001b[1m18046/18046\u001b[0m \u001b[32m━━━━━━━━━━━━━━━━━━━━\u001b[0m\u001b[37m\u001b[0m \u001b[1m38s\u001b[0m 2ms/step - auc: 0.8076 - loss: 9.2686e-04 - weighted_auc: 0.8197 - val_auc: 0.9044 - val_loss: 0.0012 - val_weighted_auc: 0.9199\n",
      "Epoch 11/50\n",
      "\u001b[1m18046/18046\u001b[0m \u001b[32m━━━━━━━━━━━━━━━━━━━━\u001b[0m\u001b[37m\u001b[0m \u001b[1m39s\u001b[0m 2ms/step - auc: 0.8157 - loss: 9.1668e-04 - weighted_auc: 0.8275 - val_auc: 0.9077 - val_loss: 0.0012 - val_weighted_auc: 0.9219\n",
      "Epoch 12/50\n",
      "\u001b[1m18046/18046\u001b[0m \u001b[32m━━━━━━━━━━━━━━━━━━━━\u001b[0m\u001b[37m\u001b[0m \u001b[1m38s\u001b[0m 2ms/step - auc: 0.8140 - loss: 9.1610e-04 - weighted_auc: 0.8240 - val_auc: 0.9206 - val_loss: 0.0014 - val_weighted_auc: 0.9354\n",
      "Epoch 13/50\n",
      "\u001b[1m18046/18046\u001b[0m \u001b[32m━━━━━━━━━━━━━━━━━━━━\u001b[0m\u001b[37m\u001b[0m \u001b[1m39s\u001b[0m 2ms/step - auc: 0.8263 - loss: 9.0889e-04 - weighted_auc: 0.8355 - val_auc: 0.9148 - val_loss: 0.0013 - val_weighted_auc: 0.9275\n",
      "Epoch 14/50\n",
      "\u001b[1m18046/18046\u001b[0m \u001b[32m━━━━━━━━━━━━━━━━━━━━\u001b[0m\u001b[37m\u001b[0m \u001b[1m38s\u001b[0m 2ms/step - auc: 0.8178 - loss: 9.0185e-04 - weighted_auc: 0.8253 - val_auc: 0.9173 - val_loss: 0.0013 - val_weighted_auc: 0.9304\n",
      "Epoch 15/50\n",
      "\u001b[1m18046/18046\u001b[0m \u001b[32m━━━━━━━━━━━━━━━━━━━━\u001b[0m\u001b[37m\u001b[0m \u001b[1m39s\u001b[0m 2ms/step - auc: 0.8235 - loss: 9.0870e-04 - weighted_auc: 0.8297 - val_auc: 0.9169 - val_loss: 0.0013 - val_weighted_auc: 0.9284\n",
      "Epoch 16/50\n",
      "\u001b[1m18046/18046\u001b[0m \u001b[32m━━━━━━━━━━━━━━━━━━━━\u001b[0m\u001b[37m\u001b[0m \u001b[1m38s\u001b[0m 2ms/step - auc: 0.8252 - loss: 9.0577e-04 - weighted_auc: 0.8324 - val_auc: 0.9200 - val_loss: 0.0013 - val_weighted_auc: 0.9313\n",
      "Epoch 17/50\n",
      "\u001b[1m18046/18046\u001b[0m \u001b[32m━━━━━━━━━━━━━━━━━━━━\u001b[0m\u001b[37m\u001b[0m \u001b[1m37s\u001b[0m 2ms/step - auc: 0.8259 - loss: 9.0043e-04 - weighted_auc: 0.8338 - val_auc: 0.9193 - val_loss: 0.0013 - val_weighted_auc: 0.9305\n",
      "\u001b[1m30935/30935\u001b[0m \u001b[32m━━━━━━━━━━━━━━━━━━━━\u001b[0m\u001b[37m\u001b[0m \u001b[1m21s\u001b[0m 672us/step\n",
      "\u001b[1m25780/25780\u001b[0m \u001b[32m━━━━━━━━━━━━━━━━━━━━\u001b[0m\u001b[37m\u001b[0m \u001b[1m17s\u001b[0m 664us/step\n"
     ]
    },
    {
     "data": {
      "text/html": [],
      "text/plain": [
       "<IPython.core.display.HTML object>"
      ]
     },
     "metadata": {},
     "output_type": "display_data"
    },
    {
     "data": {
      "text/html": [
       "<br>    <style><br>        .wandb-row {<br>            display: flex;<br>            flex-direction: row;<br>            flex-wrap: wrap;<br>            justify-content: flex-start;<br>            width: 100%;<br>        }<br>        .wandb-col {<br>            display: flex;<br>            flex-direction: column;<br>            flex-basis: 100%;<br>            flex: 1;<br>            padding: 10px;<br>        }<br>    </style><br><div class=\"wandb-row\"><div class=\"wandb-col\"><h3>Run history:</h3><br/><table class=\"wandb\"><tr><td>Acceptance</td><td>▁</td></tr><tr><td>Max S/sqrt(B)</td><td>▁</td></tr><tr><td>epoch/auc</td><td>▁▄▆▆▇▇▇▇▇▇███████</td></tr><tr><td>epoch/epoch</td><td>▁▁▂▂▃▃▄▄▅▅▅▆▆▇▇██</td></tr><tr><td>epoch/learning_rate</td><td>▁▁▁▁▁▁▁▁▁▁▁▁▁▁▁▁▁</td></tr><tr><td>epoch/loss</td><td>█▁▁▁▁▁▁▁▁▁▁▁▁▁▁▁▁</td></tr><tr><td>epoch/val_auc</td><td>▁▄▄▅▅▆▆▆▇▆▆█▇█▇██</td></tr><tr><td>epoch/val_loss</td><td>▁▇▅▃▂▇▃▇▆▁▂█▄▃▃▄▄</td></tr><tr><td>epoch/val_weighted_auc</td><td>▁▄▅▅▅▆▆▇▇▆▆█▇▇▇▇▇</td></tr><tr><td>epoch/weighted_auc</td><td>▁▄▆▆▇▇▇▇▇▇███████</td></tr><tr><td>final_val_roc_auc</td><td>▁</td></tr><tr><td>nnScore cut</td><td>▁</td></tr></table><br/></div><div class=\"wandb-col\"><h3>Run summary:</h3><br/><table class=\"wandb\"><tr><td>Acceptance</td><td>0.47577</td></tr><tr><td>Max S/sqrt(B)</td><td>2.70381</td></tr><tr><td>epoch/auc</td><td>0.82487</td></tr><tr><td>epoch/epoch</td><td>16</td></tr><tr><td>epoch/learning_rate</td><td>3e-05</td></tr><tr><td>epoch/loss</td><td>0.00091</td></tr><tr><td>epoch/val_auc</td><td>0.91931</td></tr><tr><td>epoch/val_loss</td><td>0.00129</td></tr><tr><td>epoch/val_weighted_auc</td><td>0.93048</td></tr><tr><td>epoch/weighted_auc</td><td>0.83625</td></tr><tr><td>final_val_roc_auc</td><td>0.97002</td></tr><tr><td>nnScore cut</td><td>0.02</td></tr></table><br/></div></div>"
      ],
      "text/plain": [
       "<IPython.core.display.HTML object>"
      ]
     },
     "metadata": {},
     "output_type": "display_data"
    },
    {
     "data": {
      "text/html": [
       " View run <strong style=\"color:#cdcd00\">eternal-sweep-43</strong> at: <a href='https://wandb.ai/dlai211/tf-dnn-weighted-classifier/runs/ugeeo3x8' target=\"_blank\">https://wandb.ai/dlai211/tf-dnn-weighted-classifier/runs/ugeeo3x8</a><br> View project at: <a href='https://wandb.ai/dlai211/tf-dnn-weighted-classifier' target=\"_blank\">https://wandb.ai/dlai211/tf-dnn-weighted-classifier</a><br>Synced 5 W&B file(s), 1 media file(s), 0 artifact file(s) and 0 other file(s)"
      ],
      "text/plain": [
       "<IPython.core.display.HTML object>"
      ]
     },
     "metadata": {},
     "output_type": "display_data"
    },
    {
     "data": {
      "text/html": [
       "Find logs at: <code>./wandb/run-20250821_081331-ugeeo3x8/logs</code>"
      ],
      "text/plain": [
       "<IPython.core.display.HTML object>"
      ]
     },
     "metadata": {},
     "output_type": "display_data"
    },
    {
     "name": "stderr",
     "output_type": "stream",
     "text": [
      "\u001b[34m\u001b[1mwandb\u001b[0m: Agent Starting Run: aw78x7bf with config:\n",
      "\u001b[34m\u001b[1mwandb\u001b[0m: \tbatch_size: 512\n",
      "\u001b[34m\u001b[1mwandb\u001b[0m: \tdropout: 0.3266565418224774\n",
      "\u001b[34m\u001b[1mwandb\u001b[0m: \tepochs: 50\n",
      "\u001b[34m\u001b[1mwandb\u001b[0m: \tlayer_1: 128\n",
      "\u001b[34m\u001b[1mwandb\u001b[0m: \tlayer_2: 512\n",
      "\u001b[34m\u001b[1mwandb\u001b[0m: \tlayer_3: 2048\n",
      "\u001b[34m\u001b[1mwandb\u001b[0m: \tlayer_4: 128\n",
      "\u001b[34m\u001b[1mwandb\u001b[0m: \tlayer_5: 32\n",
      "\u001b[34m\u001b[1mwandb\u001b[0m: \tlr: 2.78276793039531e-05\n"
     ]
    },
    {
     "data": {
      "text/html": [
       "Ignoring project 'tf-dnn-weighted-classifier' when running a sweep."
      ],
      "text/plain": [
       "<IPython.core.display.HTML object>"
      ]
     },
     "metadata": {},
     "output_type": "display_data"
    },
    {
     "data": {
      "text/html": [
       "Tracking run with wandb version 0.21.0"
      ],
      "text/plain": [
       "<IPython.core.display.HTML object>"
      ]
     },
     "metadata": {},
     "output_type": "display_data"
    },
    {
     "data": {
      "text/html": [
       "Run data is saved locally in <code>/home/jlai/ML/jet_faking/wandb/run-20250821_082532-aw78x7bf</code>"
      ],
      "text/plain": [
       "<IPython.core.display.HTML object>"
      ]
     },
     "metadata": {},
     "output_type": "display_data"
    },
    {
     "data": {
      "text/html": [
       "Syncing run <strong><a href='https://wandb.ai/dlai211/tf-dnn-weighted-classifier/runs/aw78x7bf' target=\"_blank\">charmed-sweep-44</a></strong> to <a href='https://wandb.ai/dlai211/tf-dnn-weighted-classifier' target=\"_blank\">Weights & Biases</a> (<a href='https://wandb.me/developer-guide' target=\"_blank\">docs</a>)<br>Sweep page: <a href='https://wandb.ai/dlai211/tf-dnn-weighted-classifier/sweeps/rg1dnn5u' target=\"_blank\">https://wandb.ai/dlai211/tf-dnn-weighted-classifier/sweeps/rg1dnn5u</a>"
      ],
      "text/plain": [
       "<IPython.core.display.HTML object>"
      ]
     },
     "metadata": {},
     "output_type": "display_data"
    },
    {
     "data": {
      "text/html": [
       " View project at <a href='https://wandb.ai/dlai211/tf-dnn-weighted-classifier' target=\"_blank\">https://wandb.ai/dlai211/tf-dnn-weighted-classifier</a>"
      ],
      "text/plain": [
       "<IPython.core.display.HTML object>"
      ]
     },
     "metadata": {},
     "output_type": "display_data"
    },
    {
     "data": {
      "text/html": [
       " View sweep at <a href='https://wandb.ai/dlai211/tf-dnn-weighted-classifier/sweeps/rg1dnn5u' target=\"_blank\">https://wandb.ai/dlai211/tf-dnn-weighted-classifier/sweeps/rg1dnn5u</a>"
      ],
      "text/plain": [
       "<IPython.core.display.HTML object>"
      ]
     },
     "metadata": {},
     "output_type": "display_data"
    },
    {
     "data": {
      "text/html": [
       " View run at <a href='https://wandb.ai/dlai211/tf-dnn-weighted-classifier/runs/aw78x7bf' target=\"_blank\">https://wandb.ai/dlai211/tf-dnn-weighted-classifier/runs/aw78x7bf</a>"
      ],
      "text/plain": [
       "<IPython.core.display.HTML object>"
      ]
     },
     "metadata": {},
     "output_type": "display_data"
    },
    {
     "name": "stderr",
     "output_type": "stream",
     "text": [
      "/home/jlai/.local/share/mamba/envs/tf-gpu/lib/python3.10/site-packages/keras/src/layers/core/dense.py:93: UserWarning: Do not pass an `input_shape`/`input_dim` argument to a layer. When using Sequential models, prefer using an `Input(shape)` object as the first layer in the model instead.\n",
      "  super().__init__(activity_regularizer=activity_regularizer, **kwargs)\n"
     ]
    },
    {
     "name": "stdout",
     "output_type": "stream",
     "text": [
      "Epoch 1/50\n",
      "\u001b[1m4512/4512\u001b[0m \u001b[32m━━━━━━━━━━━━━━━━━━━━\u001b[0m\u001b[37m\u001b[0m \u001b[1m20s\u001b[0m 4ms/step - auc: 0.5245 - loss: 0.0260 - weighted_auc: 0.5495 - val_auc: 0.6306 - val_loss: 0.0010 - val_weighted_auc: 0.6416\n",
      "Epoch 2/50\n",
      "\u001b[1m4512/4512\u001b[0m \u001b[32m━━━━━━━━━━━━━━━━━━━━\u001b[0m\u001b[37m\u001b[0m \u001b[1m13s\u001b[0m 3ms/step - auc: 0.6313 - loss: 0.0013 - weighted_auc: 0.6472 - val_auc: 0.8186 - val_loss: 9.6566e-04 - val_weighted_auc: 0.8370\n",
      "Epoch 3/50\n",
      "\u001b[1m4512/4512\u001b[0m \u001b[32m━━━━━━━━━━━━━━━━━━━━\u001b[0m\u001b[37m\u001b[0m \u001b[1m13s\u001b[0m 3ms/step - auc: 0.7228 - loss: 0.0011 - weighted_auc: 0.7371 - val_auc: 0.8373 - val_loss: 9.3992e-04 - val_weighted_auc: 0.8509\n",
      "Epoch 4/50\n",
      "\u001b[1m4512/4512\u001b[0m \u001b[32m━━━━━━━━━━━━━━━━━━━━\u001b[0m\u001b[37m\u001b[0m \u001b[1m13s\u001b[0m 3ms/step - auc: 0.7508 - loss: 0.0010 - weighted_auc: 0.7626 - val_auc: 0.8399 - val_loss: 9.3838e-04 - val_weighted_auc: 0.8528\n",
      "Epoch 5/50\n",
      "\u001b[1m4512/4512\u001b[0m \u001b[32m━━━━━━━━━━━━━━━━━━━━\u001b[0m\u001b[37m\u001b[0m \u001b[1m13s\u001b[0m 3ms/step - auc: 0.7647 - loss: 0.0010 - weighted_auc: 0.7801 - val_auc: 0.8338 - val_loss: 9.2895e-04 - val_weighted_auc: 0.8460\n",
      "Epoch 6/50\n",
      "\u001b[1m4512/4512\u001b[0m \u001b[32m━━━━━━━━━━━━━━━━━━━━\u001b[0m\u001b[37m\u001b[0m \u001b[1m13s\u001b[0m 3ms/step - auc: 0.7749 - loss: 9.8976e-04 - weighted_auc: 0.7869 - val_auc: 0.8549 - val_loss: 9.4195e-04 - val_weighted_auc: 0.8662\n",
      "Epoch 7/50\n",
      "\u001b[1m4512/4512\u001b[0m \u001b[32m━━━━━━━━━━━━━━━━━━━━\u001b[0m\u001b[37m\u001b[0m \u001b[1m13s\u001b[0m 3ms/step - auc: 0.7787 - loss: 9.8222e-04 - weighted_auc: 0.7891 - val_auc: 0.8603 - val_loss: 9.3064e-04 - val_weighted_auc: 0.8711\n",
      "Epoch 8/50\n",
      "\u001b[1m4512/4512\u001b[0m \u001b[32m━━━━━━━━━━━━━━━━━━━━\u001b[0m\u001b[37m\u001b[0m \u001b[1m13s\u001b[0m 3ms/step - auc: 0.7790 - loss: 9.8679e-04 - weighted_auc: 0.7869 - val_auc: 0.8647 - val_loss: 9.2335e-04 - val_weighted_auc: 0.8761\n",
      "Epoch 9/50\n",
      "\u001b[1m4512/4512\u001b[0m \u001b[32m━━━━━━━━━━━━━━━━━━━━\u001b[0m\u001b[37m\u001b[0m \u001b[1m13s\u001b[0m 3ms/step - auc: 0.7864 - loss: 9.7511e-04 - weighted_auc: 0.7965 - val_auc: 0.8595 - val_loss: 9.0608e-04 - val_weighted_auc: 0.8698\n",
      "Epoch 10/50\n",
      "\u001b[1m4512/4512\u001b[0m \u001b[32m━━━━━━━━━━━━━━━━━━━━\u001b[0m\u001b[37m\u001b[0m \u001b[1m13s\u001b[0m 3ms/step - auc: 0.7888 - loss: 9.6025e-04 - weighted_auc: 0.7969 - val_auc: 0.8633 - val_loss: 9.1048e-04 - val_weighted_auc: 0.8734\n",
      "Epoch 11/50\n",
      "\u001b[1m4512/4512\u001b[0m \u001b[32m━━━━━━━━━━━━━━━━━━━━\u001b[0m\u001b[37m\u001b[0m \u001b[1m13s\u001b[0m 3ms/step - auc: 0.7924 - loss: 9.4529e-04 - weighted_auc: 0.8010 - val_auc: 0.8671 - val_loss: 9.0841e-04 - val_weighted_auc: 0.8780\n",
      "Epoch 12/50\n",
      "\u001b[1m4512/4512\u001b[0m \u001b[32m━━━━━━━━━━━━━━━━━━━━\u001b[0m\u001b[37m\u001b[0m \u001b[1m13s\u001b[0m 3ms/step - auc: 0.8017 - loss: 9.5274e-04 - weighted_auc: 0.8116 - val_auc: 0.8713 - val_loss: 9.2106e-04 - val_weighted_auc: 0.8829\n",
      "Epoch 13/50\n",
      "\u001b[1m4512/4512\u001b[0m \u001b[32m━━━━━━━━━━━━━━━━━━━━\u001b[0m\u001b[37m\u001b[0m \u001b[1m13s\u001b[0m 3ms/step - auc: 0.8072 - loss: 9.3995e-04 - weighted_auc: 0.8130 - val_auc: 0.8566 - val_loss: 8.8515e-04 - val_weighted_auc: 0.8660\n",
      "Epoch 14/50\n",
      "\u001b[1m4512/4512\u001b[0m \u001b[32m━━━━━━━━━━━━━━━━━━━━\u001b[0m\u001b[37m\u001b[0m \u001b[1m13s\u001b[0m 3ms/step - auc: 0.8023 - loss: 9.4035e-04 - weighted_auc: 0.8102 - val_auc: 0.8651 - val_loss: 8.9063e-04 - val_weighted_auc: 0.8764\n",
      "Epoch 15/50\n",
      "\u001b[1m4512/4512\u001b[0m \u001b[32m━━━━━━━━━━━━━━━━━━━━\u001b[0m\u001b[37m\u001b[0m \u001b[1m13s\u001b[0m 3ms/step - auc: 0.8039 - loss: 9.2672e-04 - weighted_auc: 0.8125 - val_auc: 0.8703 - val_loss: 8.9246e-04 - val_weighted_auc: 0.8805\n",
      "Epoch 16/50\n",
      "\u001b[1m4512/4512\u001b[0m \u001b[32m━━━━━━━━━━━━━━━━━━━━\u001b[0m\u001b[37m\u001b[0m \u001b[1m13s\u001b[0m 3ms/step - auc: 0.8171 - loss: 9.1239e-04 - weighted_auc: 0.8229 - val_auc: 0.8685 - val_loss: 8.9176e-04 - val_weighted_auc: 0.8780\n",
      "Epoch 17/50\n",
      "\u001b[1m4512/4512\u001b[0m \u001b[32m━━━━━━━━━━━━━━━━━━━━\u001b[0m\u001b[37m\u001b[0m \u001b[1m13s\u001b[0m 3ms/step - auc: 0.8135 - loss: 9.3202e-04 - weighted_auc: 0.8226 - val_auc: 0.8715 - val_loss: 8.8865e-04 - val_weighted_auc: 0.8806\n",
      "\u001b[1m30935/30935\u001b[0m \u001b[32m━━━━━━━━━━━━━━━━━━━━\u001b[0m\u001b[37m\u001b[0m \u001b[1m22s\u001b[0m 702us/step\n",
      "\u001b[1m6445/6445\u001b[0m \u001b[32m━━━━━━━━━━━━━━━━━━━━\u001b[0m\u001b[37m\u001b[0m \u001b[1m6s\u001b[0m 883us/step\n"
     ]
    },
    {
     "data": {
      "text/html": [],
      "text/plain": [
       "<IPython.core.display.HTML object>"
      ]
     },
     "metadata": {},
     "output_type": "display_data"
    },
    {
     "data": {
      "text/html": [
       "<br>    <style><br>        .wandb-row {<br>            display: flex;<br>            flex-direction: row;<br>            flex-wrap: wrap;<br>            justify-content: flex-start;<br>            width: 100%;<br>        }<br>        .wandb-col {<br>            display: flex;<br>            flex-direction: column;<br>            flex-basis: 100%;<br>            flex: 1;<br>            padding: 10px;<br>        }<br>    </style><br><div class=\"wandb-row\"><div class=\"wandb-col\"><h3>Run history:</h3><br/><table class=\"wandb\"><tr><td>Acceptance</td><td>▁</td></tr><tr><td>Max S/sqrt(B)</td><td>▁</td></tr><tr><td>epoch/auc</td><td>▁▄▆▇▇▇▇▇▇▇▇██████</td></tr><tr><td>epoch/epoch</td><td>▁▁▂▂▃▃▄▄▅▅▅▆▆▇▇██</td></tr><tr><td>epoch/learning_rate</td><td>▁▁▁▁▁▁▁▁▁▁▁▁▁▁▁▁▁</td></tr><tr><td>epoch/loss</td><td>█▁▁▁▁▁▁▁▁▁▁▁▁▁▁▁▁</td></tr><tr><td>epoch/val_auc</td><td>▁▆▇▇▇████████████</td></tr><tr><td>epoch/val_loss</td><td>█▅▄▄▃▄▃▃▂▂▂▃▁▁▁▁▁</td></tr><tr><td>epoch/val_weighted_auc</td><td>▁▇▇▇▇████████████</td></tr><tr><td>epoch/weighted_auc</td><td>▁▅▆▇▇▇▇▇▇▇▇██████</td></tr><tr><td>final_val_roc_auc</td><td>▁</td></tr><tr><td>nnScore cut</td><td>▁</td></tr></table><br/></div><div class=\"wandb-col\"><h3>Run summary:</h3><br/><table class=\"wandb\"><tr><td>Acceptance</td><td>0.48697</td></tr><tr><td>Max S/sqrt(B)</td><td>2.59341</td></tr><tr><td>epoch/auc</td><td>0.81207</td></tr><tr><td>epoch/epoch</td><td>16</td></tr><tr><td>epoch/learning_rate</td><td>3e-05</td></tr><tr><td>epoch/loss</td><td>0.00095</td></tr><tr><td>epoch/val_auc</td><td>0.87148</td></tr><tr><td>epoch/val_loss</td><td>0.00089</td></tr><tr><td>epoch/val_weighted_auc</td><td>0.88063</td></tr><tr><td>epoch/weighted_auc</td><td>0.82293</td></tr><tr><td>final_val_roc_auc</td><td>0.97395</td></tr><tr><td>nnScore cut</td><td>0.04</td></tr></table><br/></div></div>"
      ],
      "text/plain": [
       "<IPython.core.display.HTML object>"
      ]
     },
     "metadata": {},
     "output_type": "display_data"
    },
    {
     "data": {
      "text/html": [
       " View run <strong style=\"color:#cdcd00\">charmed-sweep-44</strong> at: <a href='https://wandb.ai/dlai211/tf-dnn-weighted-classifier/runs/aw78x7bf' target=\"_blank\">https://wandb.ai/dlai211/tf-dnn-weighted-classifier/runs/aw78x7bf</a><br> View project at: <a href='https://wandb.ai/dlai211/tf-dnn-weighted-classifier' target=\"_blank\">https://wandb.ai/dlai211/tf-dnn-weighted-classifier</a><br>Synced 5 W&B file(s), 1 media file(s), 0 artifact file(s) and 0 other file(s)"
      ],
      "text/plain": [
       "<IPython.core.display.HTML object>"
      ]
     },
     "metadata": {},
     "output_type": "display_data"
    },
    {
     "data": {
      "text/html": [
       "Find logs at: <code>./wandb/run-20250821_082532-aw78x7bf/logs</code>"
      ],
      "text/plain": [
       "<IPython.core.display.HTML object>"
      ]
     },
     "metadata": {},
     "output_type": "display_data"
    },
    {
     "name": "stderr",
     "output_type": "stream",
     "text": [
      "\u001b[34m\u001b[1mwandb\u001b[0m: Sweep Agent: Waiting for job.\n",
      "\u001b[34m\u001b[1mwandb\u001b[0m: Job received.\n",
      "\u001b[34m\u001b[1mwandb\u001b[0m: Agent Starting Run: 3mdtzn1f with config:\n",
      "\u001b[34m\u001b[1mwandb\u001b[0m: \tbatch_size: 1024\n",
      "\u001b[34m\u001b[1mwandb\u001b[0m: \tdropout: 0.14685292490564927\n",
      "\u001b[34m\u001b[1mwandb\u001b[0m: \tepochs: 50\n",
      "\u001b[34m\u001b[1mwandb\u001b[0m: \tlayer_1: 192\n",
      "\u001b[34m\u001b[1mwandb\u001b[0m: \tlayer_2: 384\n",
      "\u001b[34m\u001b[1mwandb\u001b[0m: \tlayer_3: 2048\n",
      "\u001b[34m\u001b[1mwandb\u001b[0m: \tlayer_4: 256\n",
      "\u001b[34m\u001b[1mwandb\u001b[0m: \tlayer_5: 32\n",
      "\u001b[34m\u001b[1mwandb\u001b[0m: \tlr: 6.508563749102362e-05\n"
     ]
    },
    {
     "data": {
      "text/html": [
       "Ignoring project 'tf-dnn-weighted-classifier' when running a sweep."
      ],
      "text/plain": [
       "<IPython.core.display.HTML object>"
      ]
     },
     "metadata": {},
     "output_type": "display_data"
    },
    {
     "data": {
      "text/html": [
       "Tracking run with wandb version 0.21.0"
      ],
      "text/plain": [
       "<IPython.core.display.HTML object>"
      ]
     },
     "metadata": {},
     "output_type": "display_data"
    },
    {
     "data": {
      "text/html": [
       "Run data is saved locally in <code>/home/jlai/ML/jet_faking/wandb/run-20250821_083048-3mdtzn1f</code>"
      ],
      "text/plain": [
       "<IPython.core.display.HTML object>"
      ]
     },
     "metadata": {},
     "output_type": "display_data"
    },
    {
     "data": {
      "text/html": [
       "Syncing run <strong><a href='https://wandb.ai/dlai211/tf-dnn-weighted-classifier/runs/3mdtzn1f' target=\"_blank\">rare-sweep-45</a></strong> to <a href='https://wandb.ai/dlai211/tf-dnn-weighted-classifier' target=\"_blank\">Weights & Biases</a> (<a href='https://wandb.me/developer-guide' target=\"_blank\">docs</a>)<br>Sweep page: <a href='https://wandb.ai/dlai211/tf-dnn-weighted-classifier/sweeps/rg1dnn5u' target=\"_blank\">https://wandb.ai/dlai211/tf-dnn-weighted-classifier/sweeps/rg1dnn5u</a>"
      ],
      "text/plain": [
       "<IPython.core.display.HTML object>"
      ]
     },
     "metadata": {},
     "output_type": "display_data"
    },
    {
     "data": {
      "text/html": [
       " View project at <a href='https://wandb.ai/dlai211/tf-dnn-weighted-classifier' target=\"_blank\">https://wandb.ai/dlai211/tf-dnn-weighted-classifier</a>"
      ],
      "text/plain": [
       "<IPython.core.display.HTML object>"
      ]
     },
     "metadata": {},
     "output_type": "display_data"
    },
    {
     "data": {
      "text/html": [
       " View sweep at <a href='https://wandb.ai/dlai211/tf-dnn-weighted-classifier/sweeps/rg1dnn5u' target=\"_blank\">https://wandb.ai/dlai211/tf-dnn-weighted-classifier/sweeps/rg1dnn5u</a>"
      ],
      "text/plain": [
       "<IPython.core.display.HTML object>"
      ]
     },
     "metadata": {},
     "output_type": "display_data"
    },
    {
     "data": {
      "text/html": [
       " View run at <a href='https://wandb.ai/dlai211/tf-dnn-weighted-classifier/runs/3mdtzn1f' target=\"_blank\">https://wandb.ai/dlai211/tf-dnn-weighted-classifier/runs/3mdtzn1f</a>"
      ],
      "text/plain": [
       "<IPython.core.display.HTML object>"
      ]
     },
     "metadata": {},
     "output_type": "display_data"
    },
    {
     "name": "stderr",
     "output_type": "stream",
     "text": [
      "/home/jlai/.local/share/mamba/envs/tf-gpu/lib/python3.10/site-packages/keras/src/layers/core/dense.py:93: UserWarning: Do not pass an `input_shape`/`input_dim` argument to a layer. When using Sequential models, prefer using an `Input(shape)` object as the first layer in the model instead.\n",
      "  super().__init__(activity_regularizer=activity_regularizer, **kwargs)\n"
     ]
    },
    {
     "name": "stdout",
     "output_type": "stream",
     "text": [
      "Epoch 1/50\n",
      "\u001b[1m2256/2256\u001b[0m \u001b[32m━━━━━━━━━━━━━━━━━━━━\u001b[0m\u001b[37m\u001b[0m \u001b[1m16s\u001b[0m 5ms/step - auc: 0.5290 - loss: 0.0176 - weighted_auc: 0.5449 - val_auc: 0.8167 - val_loss: 9.2489e-04 - val_weighted_auc: 0.8329\n",
      "Epoch 2/50\n",
      "\u001b[1m2256/2256\u001b[0m \u001b[32m━━━━━━━━━━━━━━━━━━━━\u001b[0m\u001b[37m\u001b[0m \u001b[1m8s\u001b[0m 3ms/step - auc: 0.7767 - loss: 9.4366e-04 - weighted_auc: 0.7874 - val_auc: 0.8305 - val_loss: 9.0240e-04 - val_weighted_auc: 0.8417\n",
      "Epoch 3/50\n",
      "\u001b[1m2256/2256\u001b[0m \u001b[32m━━━━━━━━━━━━━━━━━━━━\u001b[0m\u001b[37m\u001b[0m \u001b[1m8s\u001b[0m 3ms/step - auc: 0.8011 - loss: 9.1499e-04 - weighted_auc: 0.8099 - val_auc: 0.8522 - val_loss: 8.9603e-04 - val_weighted_auc: 0.8642\n",
      "Epoch 4/50\n",
      "\u001b[1m2256/2256\u001b[0m \u001b[32m━━━━━━━━━━━━━━━━━━━━\u001b[0m\u001b[37m\u001b[0m \u001b[1m8s\u001b[0m 3ms/step - auc: 0.8120 - loss: 8.9011e-04 - weighted_auc: 0.8205 - val_auc: 0.8534 - val_loss: 8.8065e-04 - val_weighted_auc: 0.8634\n",
      "Epoch 5/50\n",
      "\u001b[1m2256/2256\u001b[0m \u001b[32m━━━━━━━━━━━━━━━━━━━━\u001b[0m\u001b[37m\u001b[0m \u001b[1m7s\u001b[0m 3ms/step - auc: 0.8203 - loss: 8.8161e-04 - weighted_auc: 0.8271 - val_auc: 0.8597 - val_loss: 8.8314e-04 - val_weighted_auc: 0.8691\n",
      "Epoch 6/50\n",
      "\u001b[1m2256/2256\u001b[0m \u001b[32m━━━━━━━━━━━━━━━━━━━━\u001b[0m\u001b[37m\u001b[0m \u001b[1m8s\u001b[0m 3ms/step - auc: 0.8189 - loss: 8.7628e-04 - weighted_auc: 0.8257 - val_auc: 0.8617 - val_loss: 8.7701e-04 - val_weighted_auc: 0.8712\n",
      "Epoch 7/50\n",
      "\u001b[1m2256/2256\u001b[0m \u001b[32m━━━━━━━━━━━━━━━━━━━━\u001b[0m\u001b[37m\u001b[0m \u001b[1m8s\u001b[0m 3ms/step - auc: 0.8306 - loss: 8.6353e-04 - weighted_auc: 0.8359 - val_auc: 0.8688 - val_loss: 8.8433e-04 - val_weighted_auc: 0.8770\n",
      "Epoch 8/50\n",
      "\u001b[1m2256/2256\u001b[0m \u001b[32m━━━━━━━━━━━━━━━━━━━━\u001b[0m\u001b[37m\u001b[0m \u001b[1m8s\u001b[0m 3ms/step - auc: 0.8359 - loss: 8.4862e-04 - weighted_auc: 0.8429 - val_auc: 0.8648 - val_loss: 8.7141e-04 - val_weighted_auc: 0.8732\n",
      "Epoch 9/50\n",
      "\u001b[1m2256/2256\u001b[0m \u001b[32m━━━━━━━━━━━━━━━━━━━━\u001b[0m\u001b[37m\u001b[0m \u001b[1m8s\u001b[0m 3ms/step - auc: 0.8372 - loss: 8.4069e-04 - weighted_auc: 0.8429 - val_auc: 0.8624 - val_loss: 8.7214e-04 - val_weighted_auc: 0.8711\n",
      "Epoch 10/50\n",
      "\u001b[1m2256/2256\u001b[0m \u001b[32m━━━━━━━━━━━━━━━━━━━━\u001b[0m\u001b[37m\u001b[0m \u001b[1m8s\u001b[0m 3ms/step - auc: 0.8375 - loss: 8.4642e-04 - weighted_auc: 0.8441 - val_auc: 0.8611 - val_loss: 8.5443e-04 - val_weighted_auc: 0.8680\n",
      "Epoch 11/50\n",
      "\u001b[1m2256/2256\u001b[0m \u001b[32m━━━━━━━━━━━━━━━━━━━━\u001b[0m\u001b[37m\u001b[0m \u001b[1m8s\u001b[0m 3ms/step - auc: 0.8445 - loss: 8.3450e-04 - weighted_auc: 0.8493 - val_auc: 0.8634 - val_loss: 8.5605e-04 - val_weighted_auc: 0.8707\n",
      "Epoch 12/50\n",
      "\u001b[1m2256/2256\u001b[0m \u001b[32m━━━━━━━━━━━━━━━━━━━━\u001b[0m\u001b[37m\u001b[0m \u001b[1m8s\u001b[0m 3ms/step - auc: 0.8489 - loss: 8.2721e-04 - weighted_auc: 0.8565 - val_auc: 0.8618 - val_loss: 8.5415e-04 - val_weighted_auc: 0.8679\n",
      "\u001b[1m30935/30935\u001b[0m \u001b[32m━━━━━━━━━━━━━━━━━━━━\u001b[0m\u001b[37m\u001b[0m \u001b[1m22s\u001b[0m 696us/step\n",
      "\u001b[1m3223/3223\u001b[0m \u001b[32m━━━━━━━━━━━━━━━━━━━━\u001b[0m\u001b[37m\u001b[0m \u001b[1m4s\u001b[0m 1ms/step\n"
     ]
    },
    {
     "data": {
      "text/html": [],
      "text/plain": [
       "<IPython.core.display.HTML object>"
      ]
     },
     "metadata": {},
     "output_type": "display_data"
    },
    {
     "data": {
      "text/html": [
       "<br>    <style><br>        .wandb-row {<br>            display: flex;<br>            flex-direction: row;<br>            flex-wrap: wrap;<br>            justify-content: flex-start;<br>            width: 100%;<br>        }<br>        .wandb-col {<br>            display: flex;<br>            flex-direction: column;<br>            flex-basis: 100%;<br>            flex: 1;<br>            padding: 10px;<br>        }<br>    </style><br><div class=\"wandb-row\"><div class=\"wandb-col\"><h3>Run history:</h3><br/><table class=\"wandb\"><tr><td>Acceptance</td><td>▁</td></tr><tr><td>Max S/sqrt(B)</td><td>▁</td></tr><tr><td>epoch/auc</td><td>▁▆▇▇▇▇██████</td></tr><tr><td>epoch/epoch</td><td>▁▂▂▃▄▄▅▅▆▇▇█</td></tr><tr><td>epoch/learning_rate</td><td>▁▁▁▁▁▁▁▁▁▁▁▁</td></tr><tr><td>epoch/loss</td><td>█▁▁▁▁▁▁▁▁▁▁▁</td></tr><tr><td>epoch/val_auc</td><td>▁▃▆▆▇▇█▇▇▇▇▇</td></tr><tr><td>epoch/val_loss</td><td>█▆▅▄▄▃▄▃▃▁▁▁</td></tr><tr><td>epoch/val_weighted_auc</td><td>▁▂▆▆▇▇█▇▇▇▇▇</td></tr><tr><td>epoch/weighted_auc</td><td>▁▆▇▇▇▇██████</td></tr><tr><td>final_val_roc_auc</td><td>▁</td></tr><tr><td>nnScore cut</td><td>▁</td></tr></table><br/></div><div class=\"wandb-col\"><h3>Run summary:</h3><br/><table class=\"wandb\"><tr><td>Acceptance</td><td>0.45937</td></tr><tr><td>Max S/sqrt(B)</td><td>2.65289</td></tr><tr><td>epoch/auc</td><td>0.84223</td></tr><tr><td>epoch/epoch</td><td>11</td></tr><tr><td>epoch/learning_rate</td><td>7e-05</td></tr><tr><td>epoch/loss</td><td>0.00084</td></tr><tr><td>epoch/val_auc</td><td>0.86182</td></tr><tr><td>epoch/val_loss</td><td>0.00085</td></tr><tr><td>epoch/val_weighted_auc</td><td>0.86791</td></tr><tr><td>epoch/weighted_auc</td><td>0.85318</td></tr><tr><td>final_val_roc_auc</td><td>0.97498</td></tr><tr><td>nnScore cut</td><td>0.04</td></tr></table><br/></div></div>"
      ],
      "text/plain": [
       "<IPython.core.display.HTML object>"
      ]
     },
     "metadata": {},
     "output_type": "display_data"
    },
    {
     "data": {
      "text/html": [
       " View run <strong style=\"color:#cdcd00\">rare-sweep-45</strong> at: <a href='https://wandb.ai/dlai211/tf-dnn-weighted-classifier/runs/3mdtzn1f' target=\"_blank\">https://wandb.ai/dlai211/tf-dnn-weighted-classifier/runs/3mdtzn1f</a><br> View project at: <a href='https://wandb.ai/dlai211/tf-dnn-weighted-classifier' target=\"_blank\">https://wandb.ai/dlai211/tf-dnn-weighted-classifier</a><br>Synced 5 W&B file(s), 1 media file(s), 0 artifact file(s) and 0 other file(s)"
      ],
      "text/plain": [
       "<IPython.core.display.HTML object>"
      ]
     },
     "metadata": {},
     "output_type": "display_data"
    },
    {
     "data": {
      "text/html": [
       "Find logs at: <code>./wandb/run-20250821_083048-3mdtzn1f/logs</code>"
      ],
      "text/plain": [
       "<IPython.core.display.HTML object>"
      ]
     },
     "metadata": {},
     "output_type": "display_data"
    },
    {
     "name": "stderr",
     "output_type": "stream",
     "text": [
      "\u001b[34m\u001b[1mwandb\u001b[0m: Agent Starting Run: drl3xfxn with config:\n",
      "\u001b[34m\u001b[1mwandb\u001b[0m: \tbatch_size: 512\n",
      "\u001b[34m\u001b[1mwandb\u001b[0m: \tdropout: 0.10113235286200124\n",
      "\u001b[34m\u001b[1mwandb\u001b[0m: \tepochs: 50\n",
      "\u001b[34m\u001b[1mwandb\u001b[0m: \tlayer_1: 128\n",
      "\u001b[34m\u001b[1mwandb\u001b[0m: \tlayer_2: 512\n",
      "\u001b[34m\u001b[1mwandb\u001b[0m: \tlayer_3: 2048\n",
      "\u001b[34m\u001b[1mwandb\u001b[0m: \tlayer_4: 128\n",
      "\u001b[34m\u001b[1mwandb\u001b[0m: \tlayer_5: 64\n",
      "\u001b[34m\u001b[1mwandb\u001b[0m: \tlr: 2.6105289040730432e-05\n"
     ]
    },
    {
     "data": {
      "text/html": [
       "Ignoring project 'tf-dnn-weighted-classifier' when running a sweep."
      ],
      "text/plain": [
       "<IPython.core.display.HTML object>"
      ]
     },
     "metadata": {},
     "output_type": "display_data"
    },
    {
     "data": {
      "text/html": [
       "Tracking run with wandb version 0.21.0"
      ],
      "text/plain": [
       "<IPython.core.display.HTML object>"
      ]
     },
     "metadata": {},
     "output_type": "display_data"
    },
    {
     "data": {
      "text/html": [
       "Run data is saved locally in <code>/home/jlai/ML/jet_faking/wandb/run-20250821_083317-drl3xfxn</code>"
      ],
      "text/plain": [
       "<IPython.core.display.HTML object>"
      ]
     },
     "metadata": {},
     "output_type": "display_data"
    },
    {
     "data": {
      "text/html": [
       "Syncing run <strong><a href='https://wandb.ai/dlai211/tf-dnn-weighted-classifier/runs/drl3xfxn' target=\"_blank\">fragrant-sweep-46</a></strong> to <a href='https://wandb.ai/dlai211/tf-dnn-weighted-classifier' target=\"_blank\">Weights & Biases</a> (<a href='https://wandb.me/developer-guide' target=\"_blank\">docs</a>)<br>Sweep page: <a href='https://wandb.ai/dlai211/tf-dnn-weighted-classifier/sweeps/rg1dnn5u' target=\"_blank\">https://wandb.ai/dlai211/tf-dnn-weighted-classifier/sweeps/rg1dnn5u</a>"
      ],
      "text/plain": [
       "<IPython.core.display.HTML object>"
      ]
     },
     "metadata": {},
     "output_type": "display_data"
    },
    {
     "data": {
      "text/html": [
       " View project at <a href='https://wandb.ai/dlai211/tf-dnn-weighted-classifier' target=\"_blank\">https://wandb.ai/dlai211/tf-dnn-weighted-classifier</a>"
      ],
      "text/plain": [
       "<IPython.core.display.HTML object>"
      ]
     },
     "metadata": {},
     "output_type": "display_data"
    },
    {
     "data": {
      "text/html": [
       " View sweep at <a href='https://wandb.ai/dlai211/tf-dnn-weighted-classifier/sweeps/rg1dnn5u' target=\"_blank\">https://wandb.ai/dlai211/tf-dnn-weighted-classifier/sweeps/rg1dnn5u</a>"
      ],
      "text/plain": [
       "<IPython.core.display.HTML object>"
      ]
     },
     "metadata": {},
     "output_type": "display_data"
    },
    {
     "data": {
      "text/html": [
       " View run at <a href='https://wandb.ai/dlai211/tf-dnn-weighted-classifier/runs/drl3xfxn' target=\"_blank\">https://wandb.ai/dlai211/tf-dnn-weighted-classifier/runs/drl3xfxn</a>"
      ],
      "text/plain": [
       "<IPython.core.display.HTML object>"
      ]
     },
     "metadata": {},
     "output_type": "display_data"
    },
    {
     "name": "stderr",
     "output_type": "stream",
     "text": [
      "/home/jlai/.local/share/mamba/envs/tf-gpu/lib/python3.10/site-packages/keras/src/layers/core/dense.py:93: UserWarning: Do not pass an `input_shape`/`input_dim` argument to a layer. When using Sequential models, prefer using an `Input(shape)` object as the first layer in the model instead.\n",
      "  super().__init__(activity_regularizer=activity_regularizer, **kwargs)\n"
     ]
    },
    {
     "name": "stdout",
     "output_type": "stream",
     "text": [
      "Epoch 1/50\n",
      "\u001b[1m4512/4512\u001b[0m \u001b[32m━━━━━━━━━━━━━━━━━━━━\u001b[0m\u001b[37m\u001b[0m \u001b[1m21s\u001b[0m 4ms/step - auc: 0.5337 - loss: 0.0243 - weighted_auc: 0.5596 - val_auc: 0.7690 - val_loss: 9.1710e-04 - val_weighted_auc: 0.7870\n",
      "Epoch 2/50\n",
      "\u001b[1m4512/4512\u001b[0m \u001b[32m━━━━━━━━━━━━━━━━━━━━\u001b[0m\u001b[37m\u001b[0m \u001b[1m13s\u001b[0m 3ms/step - auc: 0.7741 - loss: 9.2916e-04 - weighted_auc: 0.7873 - val_auc: 0.8194 - val_loss: 8.8487e-04 - val_weighted_auc: 0.8321\n",
      "Epoch 3/50\n",
      "\u001b[1m4512/4512\u001b[0m \u001b[32m━━━━━━━━━━━━━━━━━━━━\u001b[0m\u001b[37m\u001b[0m \u001b[1m13s\u001b[0m 3ms/step - auc: 0.8010 - loss: 8.9340e-04 - weighted_auc: 0.8095 - val_auc: 0.8265 - val_loss: 8.7036e-04 - val_weighted_auc: 0.8361\n",
      "Epoch 4/50\n",
      "\u001b[1m4512/4512\u001b[0m \u001b[32m━━━━━━━━━━━━━━━━━━━━\u001b[0m\u001b[37m\u001b[0m \u001b[1m13s\u001b[0m 3ms/step - auc: 0.8172 - loss: 8.6883e-04 - weighted_auc: 0.8249 - val_auc: 0.8290 - val_loss: 8.6351e-04 - val_weighted_auc: 0.8385\n",
      "Epoch 5/50\n",
      "\u001b[1m4512/4512\u001b[0m \u001b[32m━━━━━━━━━━━━━━━━━━━━\u001b[0m\u001b[37m\u001b[0m \u001b[1m13s\u001b[0m 3ms/step - auc: 0.8176 - loss: 8.6123e-04 - weighted_auc: 0.8243 - val_auc: 0.8364 - val_loss: 8.6039e-04 - val_weighted_auc: 0.8443\n",
      "Epoch 6/50\n",
      "\u001b[1m4512/4512\u001b[0m \u001b[32m━━━━━━━━━━━━━━━━━━━━\u001b[0m\u001b[37m\u001b[0m \u001b[1m13s\u001b[0m 3ms/step - auc: 0.8281 - loss: 8.5580e-04 - weighted_auc: 0.8380 - val_auc: 0.8437 - val_loss: 8.5509e-04 - val_weighted_auc: 0.8515\n",
      "Epoch 7/50\n",
      "\u001b[1m4512/4512\u001b[0m \u001b[32m━━━━━━━━━━━━━━━━━━━━\u001b[0m\u001b[37m\u001b[0m \u001b[1m13s\u001b[0m 3ms/step - auc: 0.8297 - loss: 8.5027e-04 - weighted_auc: 0.8362 - val_auc: 0.8461 - val_loss: 8.5466e-04 - val_weighted_auc: 0.8533\n",
      "Epoch 8/50\n",
      "\u001b[1m4512/4512\u001b[0m \u001b[32m━━━━━━━━━━━━━━━━━━━━\u001b[0m\u001b[37m\u001b[0m \u001b[1m13s\u001b[0m 3ms/step - auc: 0.8339 - loss: 8.3458e-04 - weighted_auc: 0.8430 - val_auc: 0.8550 - val_loss: 8.5454e-04 - val_weighted_auc: 0.8627\n",
      "Epoch 9/50\n",
      "\u001b[1m4512/4512\u001b[0m \u001b[32m━━━━━━━━━━━━━━━━━━━━\u001b[0m\u001b[37m\u001b[0m \u001b[1m13s\u001b[0m 3ms/step - auc: 0.8365 - loss: 8.3664e-04 - weighted_auc: 0.8445 - val_auc: 0.8520 - val_loss: 8.4904e-04 - val_weighted_auc: 0.8588\n",
      "Epoch 10/50\n",
      "\u001b[1m4512/4512\u001b[0m \u001b[32m━━━━━━━━━━━━━━━━━━━━\u001b[0m\u001b[37m\u001b[0m \u001b[1m13s\u001b[0m 3ms/step - auc: 0.8337 - loss: 8.3763e-04 - weighted_auc: 0.8419 - val_auc: 0.8515 - val_loss: 8.4669e-04 - val_weighted_auc: 0.8579\n",
      "Epoch 11/50\n",
      "\u001b[1m4512/4512\u001b[0m \u001b[32m━━━━━━━━━━━━━━━━━━━━\u001b[0m\u001b[37m\u001b[0m \u001b[1m13s\u001b[0m 3ms/step - auc: 0.8428 - loss: 8.2848e-04 - weighted_auc: 0.8492 - val_auc: 0.8489 - val_loss: 8.4216e-04 - val_weighted_auc: 0.8555\n",
      "Epoch 12/50\n",
      "\u001b[1m4512/4512\u001b[0m \u001b[32m━━━━━━━━━━━━━━━━━━━━\u001b[0m\u001b[37m\u001b[0m \u001b[1m13s\u001b[0m 3ms/step - auc: 0.8401 - loss: 8.1984e-04 - weighted_auc: 0.8483 - val_auc: 0.8543 - val_loss: 8.4516e-04 - val_weighted_auc: 0.8621\n",
      "Epoch 13/50\n",
      "\u001b[1m4512/4512\u001b[0m \u001b[32m━━━━━━━━━━━━━━━━━━━━\u001b[0m\u001b[37m\u001b[0m \u001b[1m13s\u001b[0m 3ms/step - auc: 0.8356 - loss: 8.2059e-04 - weighted_auc: 0.8425 - val_auc: 0.8499 - val_loss: 8.3997e-04 - val_weighted_auc: 0.8561\n",
      "\u001b[1m30935/30935\u001b[0m \u001b[32m━━━━━━━━━━━━━━━━━━━━\u001b[0m\u001b[37m\u001b[0m \u001b[1m21s\u001b[0m 665us/step\n",
      "\u001b[1m6445/6445\u001b[0m \u001b[32m━━━━━━━━━━━━━━━━━━━━\u001b[0m\u001b[37m\u001b[0m \u001b[1m6s\u001b[0m 856us/step\n"
     ]
    },
    {
     "data": {
      "text/html": [],
      "text/plain": [
       "<IPython.core.display.HTML object>"
      ]
     },
     "metadata": {},
     "output_type": "display_data"
    },
    {
     "data": {
      "text/html": [
       "<br>    <style><br>        .wandb-row {<br>            display: flex;<br>            flex-direction: row;<br>            flex-wrap: wrap;<br>            justify-content: flex-start;<br>            width: 100%;<br>        }<br>        .wandb-col {<br>            display: flex;<br>            flex-direction: column;<br>            flex-basis: 100%;<br>            flex: 1;<br>            padding: 10px;<br>        }<br>    </style><br><div class=\"wandb-row\"><div class=\"wandb-col\"><h3>Run history:</h3><br/><table class=\"wandb\"><tr><td>Acceptance</td><td>▁</td></tr><tr><td>Max S/sqrt(B)</td><td>▁</td></tr><tr><td>epoch/auc</td><td>▁▆▇▇▇████████</td></tr><tr><td>epoch/epoch</td><td>▁▂▂▃▃▄▅▅▆▆▇▇█</td></tr><tr><td>epoch/learning_rate</td><td>▁▁▁▁▁▁▁▁▁▁▁▁▁</td></tr><tr><td>epoch/loss</td><td>█▁▁▁▁▁▁▁▁▁▁▁▁</td></tr><tr><td>epoch/val_auc</td><td>▁▅▆▆▆▇▇██████</td></tr><tr><td>epoch/val_loss</td><td>█▅▄▃▃▂▂▂▂▂▁▁▁</td></tr><tr><td>epoch/val_weighted_auc</td><td>▁▅▆▆▆▇▇███▇█▇</td></tr><tr><td>epoch/weighted_auc</td><td>▁▆▇▇▇████████</td></tr><tr><td>final_val_roc_auc</td><td>▁</td></tr><tr><td>nnScore cut</td><td>▁</td></tr></table><br/></div><div class=\"wandb-col\"><h3>Run summary:</h3><br/><table class=\"wandb\"><tr><td>Acceptance</td><td>0.47043</td></tr><tr><td>Max S/sqrt(B)</td><td>2.82179</td></tr><tr><td>epoch/auc</td><td>0.83556</td></tr><tr><td>epoch/epoch</td><td>12</td></tr><tr><td>epoch/learning_rate</td><td>3e-05</td></tr><tr><td>epoch/loss</td><td>0.00083</td></tr><tr><td>epoch/val_auc</td><td>0.84986</td></tr><tr><td>epoch/val_loss</td><td>0.00084</td></tr><tr><td>epoch/val_weighted_auc</td><td>0.85608</td></tr><tr><td>epoch/weighted_auc</td><td>0.84631</td></tr><tr><td>final_val_roc_auc</td><td>0.975</td></tr><tr><td>nnScore cut</td><td>0.04</td></tr></table><br/></div></div>"
      ],
      "text/plain": [
       "<IPython.core.display.HTML object>"
      ]
     },
     "metadata": {},
     "output_type": "display_data"
    },
    {
     "data": {
      "text/html": [
       " View run <strong style=\"color:#cdcd00\">fragrant-sweep-46</strong> at: <a href='https://wandb.ai/dlai211/tf-dnn-weighted-classifier/runs/drl3xfxn' target=\"_blank\">https://wandb.ai/dlai211/tf-dnn-weighted-classifier/runs/drl3xfxn</a><br> View project at: <a href='https://wandb.ai/dlai211/tf-dnn-weighted-classifier' target=\"_blank\">https://wandb.ai/dlai211/tf-dnn-weighted-classifier</a><br>Synced 5 W&B file(s), 1 media file(s), 0 artifact file(s) and 0 other file(s)"
      ],
      "text/plain": [
       "<IPython.core.display.HTML object>"
      ]
     },
     "metadata": {},
     "output_type": "display_data"
    },
    {
     "data": {
      "text/html": [
       "Find logs at: <code>./wandb/run-20250821_083317-drl3xfxn/logs</code>"
      ],
      "text/plain": [
       "<IPython.core.display.HTML object>"
      ]
     },
     "metadata": {},
     "output_type": "display_data"
    },
    {
     "name": "stderr",
     "output_type": "stream",
     "text": [
      "\u001b[34m\u001b[1mwandb\u001b[0m: Agent Starting Run: 7pd5vmo3 with config:\n",
      "\u001b[34m\u001b[1mwandb\u001b[0m: \tbatch_size: 1024\n",
      "\u001b[34m\u001b[1mwandb\u001b[0m: \tdropout: 0.12405042545539752\n",
      "\u001b[34m\u001b[1mwandb\u001b[0m: \tepochs: 50\n",
      "\u001b[34m\u001b[1mwandb\u001b[0m: \tlayer_1: 256\n",
      "\u001b[34m\u001b[1mwandb\u001b[0m: \tlayer_2: 512\n",
      "\u001b[34m\u001b[1mwandb\u001b[0m: \tlayer_3: 2048\n",
      "\u001b[34m\u001b[1mwandb\u001b[0m: \tlayer_4: 256\n",
      "\u001b[34m\u001b[1mwandb\u001b[0m: \tlayer_5: 128\n",
      "\u001b[34m\u001b[1mwandb\u001b[0m: \tlr: 0.00011712637835258725\n"
     ]
    },
    {
     "data": {
      "text/html": [
       "Ignoring project 'tf-dnn-weighted-classifier' when running a sweep."
      ],
      "text/plain": [
       "<IPython.core.display.HTML object>"
      ]
     },
     "metadata": {},
     "output_type": "display_data"
    },
    {
     "data": {
      "text/html": [
       "Tracking run with wandb version 0.21.0"
      ],
      "text/plain": [
       "<IPython.core.display.HTML object>"
      ]
     },
     "metadata": {},
     "output_type": "display_data"
    },
    {
     "data": {
      "text/html": [
       "Run data is saved locally in <code>/home/jlai/ML/jet_faking/wandb/run-20250821_083705-7pd5vmo3</code>"
      ],
      "text/plain": [
       "<IPython.core.display.HTML object>"
      ]
     },
     "metadata": {},
     "output_type": "display_data"
    },
    {
     "data": {
      "text/html": [
       "Syncing run <strong><a href='https://wandb.ai/dlai211/tf-dnn-weighted-classifier/runs/7pd5vmo3' target=\"_blank\">hardy-sweep-47</a></strong> to <a href='https://wandb.ai/dlai211/tf-dnn-weighted-classifier' target=\"_blank\">Weights & Biases</a> (<a href='https://wandb.me/developer-guide' target=\"_blank\">docs</a>)<br>Sweep page: <a href='https://wandb.ai/dlai211/tf-dnn-weighted-classifier/sweeps/rg1dnn5u' target=\"_blank\">https://wandb.ai/dlai211/tf-dnn-weighted-classifier/sweeps/rg1dnn5u</a>"
      ],
      "text/plain": [
       "<IPython.core.display.HTML object>"
      ]
     },
     "metadata": {},
     "output_type": "display_data"
    },
    {
     "data": {
      "text/html": [
       " View project at <a href='https://wandb.ai/dlai211/tf-dnn-weighted-classifier' target=\"_blank\">https://wandb.ai/dlai211/tf-dnn-weighted-classifier</a>"
      ],
      "text/plain": [
       "<IPython.core.display.HTML object>"
      ]
     },
     "metadata": {},
     "output_type": "display_data"
    },
    {
     "data": {
      "text/html": [
       " View sweep at <a href='https://wandb.ai/dlai211/tf-dnn-weighted-classifier/sweeps/rg1dnn5u' target=\"_blank\">https://wandb.ai/dlai211/tf-dnn-weighted-classifier/sweeps/rg1dnn5u</a>"
      ],
      "text/plain": [
       "<IPython.core.display.HTML object>"
      ]
     },
     "metadata": {},
     "output_type": "display_data"
    },
    {
     "data": {
      "text/html": [
       " View run at <a href='https://wandb.ai/dlai211/tf-dnn-weighted-classifier/runs/7pd5vmo3' target=\"_blank\">https://wandb.ai/dlai211/tf-dnn-weighted-classifier/runs/7pd5vmo3</a>"
      ],
      "text/plain": [
       "<IPython.core.display.HTML object>"
      ]
     },
     "metadata": {},
     "output_type": "display_data"
    },
    {
     "name": "stderr",
     "output_type": "stream",
     "text": [
      "/home/jlai/.local/share/mamba/envs/tf-gpu/lib/python3.10/site-packages/keras/src/layers/core/dense.py:93: UserWarning: Do not pass an `input_shape`/`input_dim` argument to a layer. When using Sequential models, prefer using an `Input(shape)` object as the first layer in the model instead.\n",
      "  super().__init__(activity_regularizer=activity_regularizer, **kwargs)\n"
     ]
    },
    {
     "name": "stdout",
     "output_type": "stream",
     "text": [
      "Epoch 1/50\n",
      "\u001b[1m2256/2256\u001b[0m \u001b[32m━━━━━━━━━━━━━━━━━━━━\u001b[0m\u001b[37m\u001b[0m \u001b[1m16s\u001b[0m 5ms/step - auc: 0.6012 - loss: 0.0108 - weighted_auc: 0.6182 - val_auc: 0.8416 - val_loss: 8.8870e-04 - val_weighted_auc: 0.8556\n",
      "Epoch 2/50\n",
      "\u001b[1m2256/2256\u001b[0m \u001b[32m━━━━━━━━━━━━━━━━━━━━\u001b[0m\u001b[37m\u001b[0m \u001b[1m8s\u001b[0m 4ms/step - auc: 0.8145 - loss: 8.7481e-04 - weighted_auc: 0.8241 - val_auc: 0.8478 - val_loss: 8.7436e-04 - val_weighted_auc: 0.8592\n",
      "Epoch 3/50\n",
      "\u001b[1m2256/2256\u001b[0m \u001b[32m━━━━━━━━━━━━━━━━━━━━\u001b[0m\u001b[37m\u001b[0m \u001b[1m8s\u001b[0m 4ms/step - auc: 0.8230 - loss: 8.5771e-04 - weighted_auc: 0.8313 - val_auc: 0.8336 - val_loss: 8.5329e-04 - val_weighted_auc: 0.8420\n",
      "Epoch 4/50\n",
      "\u001b[1m2256/2256\u001b[0m \u001b[32m━━━━━━━━━━━━━━━━━━━━\u001b[0m\u001b[37m\u001b[0m \u001b[1m8s\u001b[0m 4ms/step - auc: 0.8344 - loss: 8.4134e-04 - weighted_auc: 0.8423 - val_auc: 0.8395 - val_loss: 8.4887e-04 - val_weighted_auc: 0.8468\n",
      "Epoch 5/50\n",
      "\u001b[1m2256/2256\u001b[0m \u001b[32m━━━━━━━━━━━━━━━━━━━━\u001b[0m\u001b[37m\u001b[0m \u001b[1m8s\u001b[0m 4ms/step - auc: 0.8380 - loss: 8.3365e-04 - weighted_auc: 0.8450 - val_auc: 0.8468 - val_loss: 8.4302e-04 - val_weighted_auc: 0.8535\n",
      "Epoch 6/50\n",
      "\u001b[1m2256/2256\u001b[0m \u001b[32m━━━━━━━━━━━━━━━━━━━━\u001b[0m\u001b[37m\u001b[0m \u001b[1m8s\u001b[0m 4ms/step - auc: 0.8483 - loss: 8.2799e-04 - weighted_auc: 0.8556 - val_auc: 0.8510 - val_loss: 8.4342e-04 - val_weighted_auc: 0.8583\n",
      "Epoch 7/50\n",
      "\u001b[1m2256/2256\u001b[0m \u001b[32m━━━━━━━━━━━━━━━━━━━━\u001b[0m\u001b[37m\u001b[0m \u001b[1m8s\u001b[0m 4ms/step - auc: 0.8463 - loss: 8.1885e-04 - weighted_auc: 0.8529 - val_auc: 0.8478 - val_loss: 8.4119e-04 - val_weighted_auc: 0.8535\n",
      "\u001b[1m30935/30935\u001b[0m \u001b[32m━━━━━━━━━━━━━━━━━━━━\u001b[0m\u001b[37m\u001b[0m \u001b[1m20s\u001b[0m 628us/step\n",
      "\u001b[1m3223/3223\u001b[0m \u001b[32m━━━━━━━━━━━━━━━━━━━━\u001b[0m\u001b[37m\u001b[0m \u001b[1m4s\u001b[0m 1ms/step\n"
     ]
    },
    {
     "data": {
      "text/html": [],
      "text/plain": [
       "<IPython.core.display.HTML object>"
      ]
     },
     "metadata": {},
     "output_type": "display_data"
    },
    {
     "data": {
      "text/html": [
       "<br>    <style><br>        .wandb-row {<br>            display: flex;<br>            flex-direction: row;<br>            flex-wrap: wrap;<br>            justify-content: flex-start;<br>            width: 100%;<br>        }<br>        .wandb-col {<br>            display: flex;<br>            flex-direction: column;<br>            flex-basis: 100%;<br>            flex: 1;<br>            padding: 10px;<br>        }<br>    </style><br><div class=\"wandb-row\"><div class=\"wandb-col\"><h3>Run history:</h3><br/><table class=\"wandb\"><tr><td>Acceptance</td><td>▁</td></tr><tr><td>Max S/sqrt(B)</td><td>▁</td></tr><tr><td>epoch/auc</td><td>▁▆▇▇███</td></tr><tr><td>epoch/epoch</td><td>▁▂▃▅▆▇█</td></tr><tr><td>epoch/learning_rate</td><td>▁▁▁▁▁▁▁</td></tr><tr><td>epoch/loss</td><td>█▁▁▁▁▁▁</td></tr><tr><td>epoch/val_auc</td><td>▄▇▁▃▆█▇</td></tr><tr><td>epoch/val_loss</td><td>█▆▃▂▁▁▁</td></tr><tr><td>epoch/val_weighted_auc</td><td>▇█▁▃▆█▆</td></tr><tr><td>epoch/weighted_auc</td><td>▁▆▇▇███</td></tr><tr><td>final_val_roc_auc</td><td>▁</td></tr><tr><td>nnScore cut</td><td>▁</td></tr></table><br/></div><div class=\"wandb-col\"><h3>Run summary:</h3><br/><table class=\"wandb\"><tr><td>Acceptance</td><td>0.53735</td></tr><tr><td>Max S/sqrt(B)</td><td>2.7747</td></tr><tr><td>epoch/auc</td><td>0.83957</td></tr><tr><td>epoch/epoch</td><td>6</td></tr><tr><td>epoch/learning_rate</td><td>0.00012</td></tr><tr><td>epoch/loss</td><td>0.00083</td></tr><tr><td>epoch/val_auc</td><td>0.84782</td></tr><tr><td>epoch/val_loss</td><td>0.00084</td></tr><tr><td>epoch/val_weighted_auc</td><td>0.85349</td></tr><tr><td>epoch/weighted_auc</td><td>0.85145</td></tr><tr><td>final_val_roc_auc</td><td>0.97239</td></tr><tr><td>nnScore cut</td><td>0.02</td></tr></table><br/></div></div>"
      ],
      "text/plain": [
       "<IPython.core.display.HTML object>"
      ]
     },
     "metadata": {},
     "output_type": "display_data"
    },
    {
     "data": {
      "text/html": [
       " View run <strong style=\"color:#cdcd00\">hardy-sweep-47</strong> at: <a href='https://wandb.ai/dlai211/tf-dnn-weighted-classifier/runs/7pd5vmo3' target=\"_blank\">https://wandb.ai/dlai211/tf-dnn-weighted-classifier/runs/7pd5vmo3</a><br> View project at: <a href='https://wandb.ai/dlai211/tf-dnn-weighted-classifier' target=\"_blank\">https://wandb.ai/dlai211/tf-dnn-weighted-classifier</a><br>Synced 5 W&B file(s), 1 media file(s), 0 artifact file(s) and 0 other file(s)"
      ],
      "text/plain": [
       "<IPython.core.display.HTML object>"
      ]
     },
     "metadata": {},
     "output_type": "display_data"
    },
    {
     "data": {
      "text/html": [
       "Find logs at: <code>./wandb/run-20250821_083705-7pd5vmo3/logs</code>"
      ],
      "text/plain": [
       "<IPython.core.display.HTML object>"
      ]
     },
     "metadata": {},
     "output_type": "display_data"
    },
    {
     "name": "stderr",
     "output_type": "stream",
     "text": [
      "\u001b[34m\u001b[1mwandb\u001b[0m: Agent Starting Run: 6jh2bpox with config:\n",
      "\u001b[34m\u001b[1mwandb\u001b[0m: \tbatch_size: 768\n",
      "\u001b[34m\u001b[1mwandb\u001b[0m: \tdropout: 0.1327317092188404\n",
      "\u001b[34m\u001b[1mwandb\u001b[0m: \tepochs: 50\n",
      "\u001b[34m\u001b[1mwandb\u001b[0m: \tlayer_1: 64\n",
      "\u001b[34m\u001b[1mwandb\u001b[0m: \tlayer_2: 512\n",
      "\u001b[34m\u001b[1mwandb\u001b[0m: \tlayer_3: 2048\n",
      "\u001b[34m\u001b[1mwandb\u001b[0m: \tlayer_4: 512\n",
      "\u001b[34m\u001b[1mwandb\u001b[0m: \tlayer_5: 96\n",
      "\u001b[34m\u001b[1mwandb\u001b[0m: \tlr: 3.8461407963433194e-05\n"
     ]
    },
    {
     "data": {
      "text/html": [
       "Ignoring project 'tf-dnn-weighted-classifier' when running a sweep."
      ],
      "text/plain": [
       "<IPython.core.display.HTML object>"
      ]
     },
     "metadata": {},
     "output_type": "display_data"
    },
    {
     "data": {
      "text/html": [
       "Tracking run with wandb version 0.21.0"
      ],
      "text/plain": [
       "<IPython.core.display.HTML object>"
      ]
     },
     "metadata": {},
     "output_type": "display_data"
    },
    {
     "data": {
      "text/html": [
       "Run data is saved locally in <code>/home/jlai/ML/jet_faking/wandb/run-20250821_083855-6jh2bpox</code>"
      ],
      "text/plain": [
       "<IPython.core.display.HTML object>"
      ]
     },
     "metadata": {},
     "output_type": "display_data"
    },
    {
     "data": {
      "text/html": [
       "Syncing run <strong><a href='https://wandb.ai/dlai211/tf-dnn-weighted-classifier/runs/6jh2bpox' target=\"_blank\">upbeat-sweep-48</a></strong> to <a href='https://wandb.ai/dlai211/tf-dnn-weighted-classifier' target=\"_blank\">Weights & Biases</a> (<a href='https://wandb.me/developer-guide' target=\"_blank\">docs</a>)<br>Sweep page: <a href='https://wandb.ai/dlai211/tf-dnn-weighted-classifier/sweeps/rg1dnn5u' target=\"_blank\">https://wandb.ai/dlai211/tf-dnn-weighted-classifier/sweeps/rg1dnn5u</a>"
      ],
      "text/plain": [
       "<IPython.core.display.HTML object>"
      ]
     },
     "metadata": {},
     "output_type": "display_data"
    },
    {
     "data": {
      "text/html": [
       " View project at <a href='https://wandb.ai/dlai211/tf-dnn-weighted-classifier' target=\"_blank\">https://wandb.ai/dlai211/tf-dnn-weighted-classifier</a>"
      ],
      "text/plain": [
       "<IPython.core.display.HTML object>"
      ]
     },
     "metadata": {},
     "output_type": "display_data"
    },
    {
     "data": {
      "text/html": [
       " View sweep at <a href='https://wandb.ai/dlai211/tf-dnn-weighted-classifier/sweeps/rg1dnn5u' target=\"_blank\">https://wandb.ai/dlai211/tf-dnn-weighted-classifier/sweeps/rg1dnn5u</a>"
      ],
      "text/plain": [
       "<IPython.core.display.HTML object>"
      ]
     },
     "metadata": {},
     "output_type": "display_data"
    },
    {
     "data": {
      "text/html": [
       " View run at <a href='https://wandb.ai/dlai211/tf-dnn-weighted-classifier/runs/6jh2bpox' target=\"_blank\">https://wandb.ai/dlai211/tf-dnn-weighted-classifier/runs/6jh2bpox</a>"
      ],
      "text/plain": [
       "<IPython.core.display.HTML object>"
      ]
     },
     "metadata": {},
     "output_type": "display_data"
    },
    {
     "name": "stderr",
     "output_type": "stream",
     "text": [
      "/home/jlai/.local/share/mamba/envs/tf-gpu/lib/python3.10/site-packages/keras/src/layers/core/dense.py:93: UserWarning: Do not pass an `input_shape`/`input_dim` argument to a layer. When using Sequential models, prefer using an `Input(shape)` object as the first layer in the model instead.\n",
      "  super().__init__(activity_regularizer=activity_regularizer, **kwargs)\n"
     ]
    },
    {
     "name": "stdout",
     "output_type": "stream",
     "text": [
      "Epoch 1/50\n",
      "\u001b[1m3008/3008\u001b[0m \u001b[32m━━━━━━━━━━━━━━━━━━━━\u001b[0m\u001b[37m\u001b[0m \u001b[1m19s\u001b[0m 5ms/step - auc: 0.5275 - loss: 0.0165 - weighted_auc: 0.5606 - val_auc: 0.8156 - val_loss: 9.3452e-04 - val_weighted_auc: 0.8300\n",
      "Epoch 2/50\n",
      "\u001b[1m3008/3008\u001b[0m \u001b[32m━━━━━━━━━━━━━━━━━━━━\u001b[0m\u001b[37m\u001b[0m \u001b[1m11s\u001b[0m 4ms/step - auc: 0.7675 - loss: 9.3364e-04 - weighted_auc: 0.7781 - val_auc: 0.8363 - val_loss: 8.9978e-04 - val_weighted_auc: 0.8518\n",
      "Epoch 3/50\n",
      "\u001b[1m3008/3008\u001b[0m \u001b[32m━━━━━━━━━━━━━━━━━━━━\u001b[0m\u001b[37m\u001b[0m \u001b[1m11s\u001b[0m 3ms/step - auc: 0.7847 - loss: 9.0654e-04 - weighted_auc: 0.7947 - val_auc: 0.8419 - val_loss: 8.9490e-04 - val_weighted_auc: 0.8561\n",
      "Epoch 4/50\n",
      "\u001b[1m3008/3008\u001b[0m \u001b[32m━━━━━━━━━━━━━━━━━━━━\u001b[0m\u001b[37m\u001b[0m \u001b[1m10s\u001b[0m 3ms/step - auc: 0.8084 - loss: 8.8366e-04 - weighted_auc: 0.8169 - val_auc: 0.8592 - val_loss: 9.0894e-04 - val_weighted_auc: 0.8732\n",
      "Epoch 5/50\n",
      "\u001b[1m3008/3008\u001b[0m \u001b[32m━━━━━━━━━━━━━━━━━━━━\u001b[0m\u001b[37m\u001b[0m \u001b[1m11s\u001b[0m 3ms/step - auc: 0.8149 - loss: 8.6685e-04 - weighted_auc: 0.8248 - val_auc: 0.8512 - val_loss: 8.8146e-04 - val_weighted_auc: 0.8631\n",
      "Epoch 6/50\n",
      "\u001b[1m3008/3008\u001b[0m \u001b[32m━━━━━━━━━━━━━━━━━━━━\u001b[0m\u001b[37m\u001b[0m \u001b[1m11s\u001b[0m 3ms/step - auc: 0.8116 - loss: 8.6429e-04 - weighted_auc: 0.8226 - val_auc: 0.8542 - val_loss: 8.8442e-04 - val_weighted_auc: 0.8661\n",
      "Epoch 7/50\n",
      "\u001b[1m3008/3008\u001b[0m \u001b[32m━━━━━━━━━━━━━━━━━━━━\u001b[0m\u001b[37m\u001b[0m \u001b[1m10s\u001b[0m 3ms/step - auc: 0.8231 - loss: 8.5106e-04 - weighted_auc: 0.8324 - val_auc: 0.8571 - val_loss: 8.6927e-04 - val_weighted_auc: 0.8675\n",
      "Epoch 8/50\n",
      "\u001b[1m3008/3008\u001b[0m \u001b[32m━━━━━━━━━━━━━━━━━━━━\u001b[0m\u001b[37m\u001b[0m \u001b[1m10s\u001b[0m 3ms/step - auc: 0.8256 - loss: 8.4890e-04 - weighted_auc: 0.8321 - val_auc: 0.8580 - val_loss: 8.6867e-04 - val_weighted_auc: 0.8680\n",
      "Epoch 9/50\n",
      "\u001b[1m3008/3008\u001b[0m \u001b[32m━━━━━━━━━━━━━━━━━━━━\u001b[0m\u001b[37m\u001b[0m \u001b[1m11s\u001b[0m 3ms/step - auc: 0.8297 - loss: 8.4667e-04 - weighted_auc: 0.8361 - val_auc: 0.8586 - val_loss: 8.6462e-04 - val_weighted_auc: 0.8685\n",
      "\u001b[1m30935/30935\u001b[0m \u001b[32m━━━━━━━━━━━━━━━━━━━━\u001b[0m\u001b[37m\u001b[0m \u001b[1m21s\u001b[0m 664us/step\n",
      "\u001b[1m4297/4297\u001b[0m \u001b[32m━━━━━━━━━━━━━━━━━━━━\u001b[0m\u001b[37m\u001b[0m \u001b[1m5s\u001b[0m 1ms/step\n"
     ]
    },
    {
     "data": {
      "text/html": [],
      "text/plain": [
       "<IPython.core.display.HTML object>"
      ]
     },
     "metadata": {},
     "output_type": "display_data"
    },
    {
     "data": {
      "text/html": [
       "<br>    <style><br>        .wandb-row {<br>            display: flex;<br>            flex-direction: row;<br>            flex-wrap: wrap;<br>            justify-content: flex-start;<br>            width: 100%;<br>        }<br>        .wandb-col {<br>            display: flex;<br>            flex-direction: column;<br>            flex-basis: 100%;<br>            flex: 1;<br>            padding: 10px;<br>        }<br>    </style><br><div class=\"wandb-row\"><div class=\"wandb-col\"><h3>Run history:</h3><br/><table class=\"wandb\"><tr><td>Acceptance</td><td>▁</td></tr><tr><td>Max S/sqrt(B)</td><td>▁</td></tr><tr><td>epoch/auc</td><td>▁▆▇▇█████</td></tr><tr><td>epoch/epoch</td><td>▁▂▃▄▅▅▆▇█</td></tr><tr><td>epoch/learning_rate</td><td>▁▁▁▁▁▁▁▁▁</td></tr><tr><td>epoch/loss</td><td>█▁▁▁▁▁▁▁▁</td></tr><tr><td>epoch/val_auc</td><td>▁▄▅█▇▇███</td></tr><tr><td>epoch/val_loss</td><td>█▅▄▅▃▃▁▁▁</td></tr><tr><td>epoch/val_weighted_auc</td><td>▁▅▅█▆▇▇▇▇</td></tr><tr><td>epoch/weighted_auc</td><td>▁▆▇▇█████</td></tr><tr><td>final_val_roc_auc</td><td>▁</td></tr><tr><td>nnScore cut</td><td>▁</td></tr></table><br/></div><div class=\"wandb-col\"><h3>Run summary:</h3><br/><table class=\"wandb\"><tr><td>Acceptance</td><td>0.54692</td></tr><tr><td>Max S/sqrt(B)</td><td>2.58796</td></tr><tr><td>epoch/auc</td><td>0.82492</td></tr><tr><td>epoch/epoch</td><td>8</td></tr><tr><td>epoch/learning_rate</td><td>4e-05</td></tr><tr><td>epoch/loss</td><td>0.00086</td></tr><tr><td>epoch/val_auc</td><td>0.85863</td></tr><tr><td>epoch/val_loss</td><td>0.00086</td></tr><tr><td>epoch/val_weighted_auc</td><td>0.8685</td></tr><tr><td>epoch/weighted_auc</td><td>0.83464</td></tr><tr><td>final_val_roc_auc</td><td>0.97084</td></tr><tr><td>nnScore cut</td><td>0.02</td></tr></table><br/></div></div>"
      ],
      "text/plain": [
       "<IPython.core.display.HTML object>"
      ]
     },
     "metadata": {},
     "output_type": "display_data"
    },
    {
     "data": {
      "text/html": [
       " View run <strong style=\"color:#cdcd00\">upbeat-sweep-48</strong> at: <a href='https://wandb.ai/dlai211/tf-dnn-weighted-classifier/runs/6jh2bpox' target=\"_blank\">https://wandb.ai/dlai211/tf-dnn-weighted-classifier/runs/6jh2bpox</a><br> View project at: <a href='https://wandb.ai/dlai211/tf-dnn-weighted-classifier' target=\"_blank\">https://wandb.ai/dlai211/tf-dnn-weighted-classifier</a><br>Synced 5 W&B file(s), 1 media file(s), 0 artifact file(s) and 0 other file(s)"
      ],
      "text/plain": [
       "<IPython.core.display.HTML object>"
      ]
     },
     "metadata": {},
     "output_type": "display_data"
    },
    {
     "data": {
      "text/html": [
       "Find logs at: <code>./wandb/run-20250821_083855-6jh2bpox/logs</code>"
      ],
      "text/plain": [
       "<IPython.core.display.HTML object>"
      ]
     },
     "metadata": {},
     "output_type": "display_data"
    },
    {
     "name": "stderr",
     "output_type": "stream",
     "text": [
      "\u001b[34m\u001b[1mwandb\u001b[0m: Agent Starting Run: cqie4gbs with config:\n",
      "\u001b[34m\u001b[1mwandb\u001b[0m: \tbatch_size: 768\n",
      "\u001b[34m\u001b[1mwandb\u001b[0m: \tdropout: 0.11517573893356556\n",
      "\u001b[34m\u001b[1mwandb\u001b[0m: \tepochs: 50\n",
      "\u001b[34m\u001b[1mwandb\u001b[0m: \tlayer_1: 256\n",
      "\u001b[34m\u001b[1mwandb\u001b[0m: \tlayer_2: 512\n",
      "\u001b[34m\u001b[1mwandb\u001b[0m: \tlayer_3: 2048\n",
      "\u001b[34m\u001b[1mwandb\u001b[0m: \tlayer_4: 128\n",
      "\u001b[34m\u001b[1mwandb\u001b[0m: \tlayer_5: 128\n",
      "\u001b[34m\u001b[1mwandb\u001b[0m: \tlr: 5.7794856139176205e-05\n"
     ]
    },
    {
     "data": {
      "text/html": [
       "Ignoring project 'tf-dnn-weighted-classifier' when running a sweep."
      ],
      "text/plain": [
       "<IPython.core.display.HTML object>"
      ]
     },
     "metadata": {},
     "output_type": "display_data"
    },
    {
     "data": {
      "text/html": [
       "Tracking run with wandb version 0.21.0"
      ],
      "text/plain": [
       "<IPython.core.display.HTML object>"
      ]
     },
     "metadata": {},
     "output_type": "display_data"
    },
    {
     "data": {
      "text/html": [
       "Run data is saved locally in <code>/home/jlai/ML/jet_faking/wandb/run-20250821_084127-cqie4gbs</code>"
      ],
      "text/plain": [
       "<IPython.core.display.HTML object>"
      ]
     },
     "metadata": {},
     "output_type": "display_data"
    },
    {
     "data": {
      "text/html": [
       "Syncing run <strong><a href='https://wandb.ai/dlai211/tf-dnn-weighted-classifier/runs/cqie4gbs' target=\"_blank\">stellar-sweep-49</a></strong> to <a href='https://wandb.ai/dlai211/tf-dnn-weighted-classifier' target=\"_blank\">Weights & Biases</a> (<a href='https://wandb.me/developer-guide' target=\"_blank\">docs</a>)<br>Sweep page: <a href='https://wandb.ai/dlai211/tf-dnn-weighted-classifier/sweeps/rg1dnn5u' target=\"_blank\">https://wandb.ai/dlai211/tf-dnn-weighted-classifier/sweeps/rg1dnn5u</a>"
      ],
      "text/plain": [
       "<IPython.core.display.HTML object>"
      ]
     },
     "metadata": {},
     "output_type": "display_data"
    },
    {
     "data": {
      "text/html": [
       " View project at <a href='https://wandb.ai/dlai211/tf-dnn-weighted-classifier' target=\"_blank\">https://wandb.ai/dlai211/tf-dnn-weighted-classifier</a>"
      ],
      "text/plain": [
       "<IPython.core.display.HTML object>"
      ]
     },
     "metadata": {},
     "output_type": "display_data"
    },
    {
     "data": {
      "text/html": [
       " View sweep at <a href='https://wandb.ai/dlai211/tf-dnn-weighted-classifier/sweeps/rg1dnn5u' target=\"_blank\">https://wandb.ai/dlai211/tf-dnn-weighted-classifier/sweeps/rg1dnn5u</a>"
      ],
      "text/plain": [
       "<IPython.core.display.HTML object>"
      ]
     },
     "metadata": {},
     "output_type": "display_data"
    },
    {
     "data": {
      "text/html": [
       " View run at <a href='https://wandb.ai/dlai211/tf-dnn-weighted-classifier/runs/cqie4gbs' target=\"_blank\">https://wandb.ai/dlai211/tf-dnn-weighted-classifier/runs/cqie4gbs</a>"
      ],
      "text/plain": [
       "<IPython.core.display.HTML object>"
      ]
     },
     "metadata": {},
     "output_type": "display_data"
    },
    {
     "name": "stderr",
     "output_type": "stream",
     "text": [
      "/home/jlai/.local/share/mamba/envs/tf-gpu/lib/python3.10/site-packages/keras/src/layers/core/dense.py:93: UserWarning: Do not pass an `input_shape`/`input_dim` argument to a layer. When using Sequential models, prefer using an `Input(shape)` object as the first layer in the model instead.\n",
      "  super().__init__(activity_regularizer=activity_regularizer, **kwargs)\n"
     ]
    },
    {
     "name": "stdout",
     "output_type": "stream",
     "text": [
      "Epoch 1/50\n",
      "\u001b[1m3008/3008\u001b[0m \u001b[32m━━━━━━━━━━━━━━━━━━━━\u001b[0m\u001b[37m\u001b[0m \u001b[1m17s\u001b[0m 4ms/step - auc: 0.5556 - loss: 0.0186 - weighted_auc: 0.5866 - val_auc: 0.8103 - val_loss: 8.9154e-04 - val_weighted_auc: 0.8273\n",
      "Epoch 2/50\n",
      "\u001b[1m3008/3008\u001b[0m \u001b[32m━━━━━━━━━━━━━━━━━━━━\u001b[0m\u001b[37m\u001b[0m \u001b[1m9s\u001b[0m 3ms/step - auc: 0.8017 - loss: 8.8998e-04 - weighted_auc: 0.8127 - val_auc: 0.8351 - val_loss: 8.7198e-04 - val_weighted_auc: 0.8479\n",
      "Epoch 3/50\n",
      "\u001b[1m3008/3008\u001b[0m \u001b[32m━━━━━━━━━━━━━━━━━━━━\u001b[0m\u001b[37m\u001b[0m \u001b[1m9s\u001b[0m 3ms/step - auc: 0.8116 - loss: 8.7099e-04 - weighted_auc: 0.8203 - val_auc: 0.8394 - val_loss: 8.6016e-04 - val_weighted_auc: 0.8500\n",
      "Epoch 4/50\n",
      "\u001b[1m3008/3008\u001b[0m \u001b[32m━━━━━━━━━━━━━━━━━━━━\u001b[0m\u001b[37m\u001b[0m \u001b[1m9s\u001b[0m 3ms/step - auc: 0.8250 - loss: 8.5228e-04 - weighted_auc: 0.8336 - val_auc: 0.8495 - val_loss: 8.5325e-04 - val_weighted_auc: 0.8595\n",
      "Epoch 5/50\n",
      "\u001b[1m3008/3008\u001b[0m \u001b[32m━━━━━━━━━━━━━━━━━━━━\u001b[0m\u001b[37m\u001b[0m \u001b[1m9s\u001b[0m 3ms/step - auc: 0.8318 - loss: 8.3720e-04 - weighted_auc: 0.8424 - val_auc: 0.8573 - val_loss: 8.5457e-04 - val_weighted_auc: 0.8667\n",
      "Epoch 6/50\n",
      "\u001b[1m3008/3008\u001b[0m \u001b[32m━━━━━━━━━━━━━━━━━━━━\u001b[0m\u001b[37m\u001b[0m \u001b[1m9s\u001b[0m 3ms/step - auc: 0.8419 - loss: 8.3145e-04 - weighted_auc: 0.8510 - val_auc: 0.8532 - val_loss: 8.4910e-04 - val_weighted_auc: 0.8619\n",
      "Epoch 7/50\n",
      "\u001b[1m3008/3008\u001b[0m \u001b[32m━━━━━━━━━━━━━━━━━━━━\u001b[0m\u001b[37m\u001b[0m \u001b[1m9s\u001b[0m 3ms/step - auc: 0.8411 - loss: 8.2784e-04 - weighted_auc: 0.8493 - val_auc: 0.8564 - val_loss: 8.5171e-04 - val_weighted_auc: 0.8643\n",
      "Epoch 8/50\n",
      "\u001b[1m3008/3008\u001b[0m \u001b[32m━━━━━━━━━━━━━━━━━━━━\u001b[0m\u001b[37m\u001b[0m \u001b[1m9s\u001b[0m 3ms/step - auc: 0.8473 - loss: 8.1983e-04 - weighted_auc: 0.8553 - val_auc: 0.8557 - val_loss: 8.4776e-04 - val_weighted_auc: 0.8631\n",
      "Epoch 9/50\n",
      "\u001b[1m3008/3008\u001b[0m \u001b[32m━━━━━━━━━━━━━━━━━━━━\u001b[0m\u001b[37m\u001b[0m \u001b[1m9s\u001b[0m 3ms/step - auc: 0.8456 - loss: 8.1887e-04 - weighted_auc: 0.8531 - val_auc: 0.8536 - val_loss: 8.4384e-04 - val_weighted_auc: 0.8606\n",
      "Epoch 10/50\n",
      "\u001b[1m3008/3008\u001b[0m \u001b[32m━━━━━━━━━━━━━━━━━━━━\u001b[0m\u001b[37m\u001b[0m \u001b[1m9s\u001b[0m 3ms/step - auc: 0.8497 - loss: 8.1132e-04 - weighted_auc: 0.8575 - val_auc: 0.8518 - val_loss: 8.4461e-04 - val_weighted_auc: 0.8589\n",
      "\u001b[1m30935/30935\u001b[0m \u001b[32m━━━━━━━━━━━━━━━━━━━━\u001b[0m\u001b[37m\u001b[0m \u001b[1m21s\u001b[0m 685us/step\n",
      "\u001b[1m4297/4297\u001b[0m \u001b[32m━━━━━━━━━━━━━━━━━━━━\u001b[0m\u001b[37m\u001b[0m \u001b[1m4s\u001b[0m 987us/step\n"
     ]
    },
    {
     "data": {
      "text/html": [],
      "text/plain": [
       "<IPython.core.display.HTML object>"
      ]
     },
     "metadata": {},
     "output_type": "display_data"
    },
    {
     "data": {
      "text/html": [
       "<br>    <style><br>        .wandb-row {<br>            display: flex;<br>            flex-direction: row;<br>            flex-wrap: wrap;<br>            justify-content: flex-start;<br>            width: 100%;<br>        }<br>        .wandb-col {<br>            display: flex;<br>            flex-direction: column;<br>            flex-basis: 100%;<br>            flex: 1;<br>            padding: 10px;<br>        }<br>    </style><br><div class=\"wandb-row\"><div class=\"wandb-col\"><h3>Run history:</h3><br/><table class=\"wandb\"><tr><td>Acceptance</td><td>▁</td></tr><tr><td>Max S/sqrt(B)</td><td>▁</td></tr><tr><td>epoch/auc</td><td>▁▆▇▇▇█████</td></tr><tr><td>epoch/epoch</td><td>▁▂▃▃▄▅▆▆▇█</td></tr><tr><td>epoch/learning_rate</td><td>▁▁▁▁▁▁▁▁▁▁</td></tr><tr><td>epoch/loss</td><td>█▁▁▁▁▁▁▁▁▁</td></tr><tr><td>epoch/val_auc</td><td>▁▅▅▇█▇██▇▇</td></tr><tr><td>epoch/val_loss</td><td>█▅▃▂▃▂▂▂▁▁</td></tr><tr><td>epoch/val_weighted_auc</td><td>▁▅▅▇█▇█▇▇▇</td></tr><tr><td>epoch/weighted_auc</td><td>▁▆▇▇▇█████</td></tr><tr><td>final_val_roc_auc</td><td>▁</td></tr><tr><td>nnScore cut</td><td>▁</td></tr></table><br/></div><div class=\"wandb-col\"><h3>Run summary:</h3><br/><table class=\"wandb\"><tr><td>Acceptance</td><td>0.59166</td></tr><tr><td>Max S/sqrt(B)</td><td>2.52664</td></tr><tr><td>epoch/auc</td><td>0.84473</td></tr><tr><td>epoch/epoch</td><td>9</td></tr><tr><td>epoch/learning_rate</td><td>6e-05</td></tr><tr><td>epoch/loss</td><td>0.00082</td></tr><tr><td>epoch/val_auc</td><td>0.85179</td></tr><tr><td>epoch/val_loss</td><td>0.00084</td></tr><tr><td>epoch/val_weighted_auc</td><td>0.85889</td></tr><tr><td>epoch/weighted_auc</td><td>0.85587</td></tr><tr><td>final_val_roc_auc</td><td>0.97507</td></tr><tr><td>nnScore cut</td><td>0.02</td></tr></table><br/></div></div>"
      ],
      "text/plain": [
       "<IPython.core.display.HTML object>"
      ]
     },
     "metadata": {},
     "output_type": "display_data"
    },
    {
     "data": {
      "text/html": [
       " View run <strong style=\"color:#cdcd00\">stellar-sweep-49</strong> at: <a href='https://wandb.ai/dlai211/tf-dnn-weighted-classifier/runs/cqie4gbs' target=\"_blank\">https://wandb.ai/dlai211/tf-dnn-weighted-classifier/runs/cqie4gbs</a><br> View project at: <a href='https://wandb.ai/dlai211/tf-dnn-weighted-classifier' target=\"_blank\">https://wandb.ai/dlai211/tf-dnn-weighted-classifier</a><br>Synced 5 W&B file(s), 1 media file(s), 0 artifact file(s) and 0 other file(s)"
      ],
      "text/plain": [
       "<IPython.core.display.HTML object>"
      ]
     },
     "metadata": {},
     "output_type": "display_data"
    },
    {
     "data": {
      "text/html": [
       "Find logs at: <code>./wandb/run-20250821_084127-cqie4gbs/logs</code>"
      ],
      "text/plain": [
       "<IPython.core.display.HTML object>"
      ]
     },
     "metadata": {},
     "output_type": "display_data"
    },
    {
     "name": "stderr",
     "output_type": "stream",
     "text": [
      "\u001b[34m\u001b[1mwandb\u001b[0m: Agent Starting Run: 2demq1me with config:\n",
      "\u001b[34m\u001b[1mwandb\u001b[0m: \tbatch_size: 512\n",
      "\u001b[34m\u001b[1mwandb\u001b[0m: \tdropout: 0.16805088177222938\n",
      "\u001b[34m\u001b[1mwandb\u001b[0m: \tepochs: 50\n",
      "\u001b[34m\u001b[1mwandb\u001b[0m: \tlayer_1: 192\n",
      "\u001b[34m\u001b[1mwandb\u001b[0m: \tlayer_2: 512\n",
      "\u001b[34m\u001b[1mwandb\u001b[0m: \tlayer_3: 2048\n",
      "\u001b[34m\u001b[1mwandb\u001b[0m: \tlayer_4: 384\n",
      "\u001b[34m\u001b[1mwandb\u001b[0m: \tlayer_5: 32\n",
      "\u001b[34m\u001b[1mwandb\u001b[0m: \tlr: 4.031018287746324e-05\n"
     ]
    },
    {
     "data": {
      "text/html": [
       "Ignoring project 'tf-dnn-weighted-classifier' when running a sweep."
      ],
      "text/plain": [
       "<IPython.core.display.HTML object>"
      ]
     },
     "metadata": {},
     "output_type": "display_data"
    },
    {
     "data": {
      "text/html": [
       "Tracking run with wandb version 0.21.0"
      ],
      "text/plain": [
       "<IPython.core.display.HTML object>"
      ]
     },
     "metadata": {},
     "output_type": "display_data"
    },
    {
     "data": {
      "text/html": [
       "Run data is saved locally in <code>/home/jlai/ML/jet_faking/wandb/run-20250821_084400-2demq1me</code>"
      ],
      "text/plain": [
       "<IPython.core.display.HTML object>"
      ]
     },
     "metadata": {},
     "output_type": "display_data"
    },
    {
     "data": {
      "text/html": [
       "Syncing run <strong><a href='https://wandb.ai/dlai211/tf-dnn-weighted-classifier/runs/2demq1me' target=\"_blank\">floral-sweep-50</a></strong> to <a href='https://wandb.ai/dlai211/tf-dnn-weighted-classifier' target=\"_blank\">Weights & Biases</a> (<a href='https://wandb.me/developer-guide' target=\"_blank\">docs</a>)<br>Sweep page: <a href='https://wandb.ai/dlai211/tf-dnn-weighted-classifier/sweeps/rg1dnn5u' target=\"_blank\">https://wandb.ai/dlai211/tf-dnn-weighted-classifier/sweeps/rg1dnn5u</a>"
      ],
      "text/plain": [
       "<IPython.core.display.HTML object>"
      ]
     },
     "metadata": {},
     "output_type": "display_data"
    },
    {
     "data": {
      "text/html": [
       " View project at <a href='https://wandb.ai/dlai211/tf-dnn-weighted-classifier' target=\"_blank\">https://wandb.ai/dlai211/tf-dnn-weighted-classifier</a>"
      ],
      "text/plain": [
       "<IPython.core.display.HTML object>"
      ]
     },
     "metadata": {},
     "output_type": "display_data"
    },
    {
     "data": {
      "text/html": [
       " View sweep at <a href='https://wandb.ai/dlai211/tf-dnn-weighted-classifier/sweeps/rg1dnn5u' target=\"_blank\">https://wandb.ai/dlai211/tf-dnn-weighted-classifier/sweeps/rg1dnn5u</a>"
      ],
      "text/plain": [
       "<IPython.core.display.HTML object>"
      ]
     },
     "metadata": {},
     "output_type": "display_data"
    },
    {
     "data": {
      "text/html": [
       " View run at <a href='https://wandb.ai/dlai211/tf-dnn-weighted-classifier/runs/2demq1me' target=\"_blank\">https://wandb.ai/dlai211/tf-dnn-weighted-classifier/runs/2demq1me</a>"
      ],
      "text/plain": [
       "<IPython.core.display.HTML object>"
      ]
     },
     "metadata": {},
     "output_type": "display_data"
    },
    {
     "name": "stderr",
     "output_type": "stream",
     "text": [
      "/home/jlai/.local/share/mamba/envs/tf-gpu/lib/python3.10/site-packages/keras/src/layers/core/dense.py:93: UserWarning: Do not pass an `input_shape`/`input_dim` argument to a layer. When using Sequential models, prefer using an `Input(shape)` object as the first layer in the model instead.\n",
      "  super().__init__(activity_regularizer=activity_regularizer, **kwargs)\n"
     ]
    },
    {
     "name": "stdout",
     "output_type": "stream",
     "text": [
      "Epoch 1/50\n",
      "\u001b[1m4512/4512\u001b[0m \u001b[32m━━━━━━━━━━━━━━━━━━━━\u001b[0m\u001b[37m\u001b[0m \u001b[1m22s\u001b[0m 4ms/step - auc: 0.5520 - loss: 0.0128 - weighted_auc: 0.5695 - val_auc: 0.8374 - val_loss: 9.2450e-04 - val_weighted_auc: 0.8517\n",
      "Epoch 2/50\n",
      "\u001b[1m4512/4512\u001b[0m \u001b[32m━━━━━━━━━━━━━━━━━━━━\u001b[0m\u001b[37m\u001b[0m \u001b[1m13s\u001b[0m 3ms/step - auc: 0.7884 - loss: 9.4263e-04 - weighted_auc: 0.7972 - val_auc: 0.8462 - val_loss: 8.9435e-04 - val_weighted_auc: 0.8578\n",
      "Epoch 3/50\n",
      "\u001b[1m4512/4512\u001b[0m \u001b[32m━━━━━━━━━━━━━━━━━━━━\u001b[0m\u001b[37m\u001b[0m \u001b[1m13s\u001b[0m 3ms/step - auc: 0.7981 - loss: 9.1340e-04 - weighted_auc: 0.8061 - val_auc: 0.8556 - val_loss: 8.8389e-04 - val_weighted_auc: 0.8667\n",
      "Epoch 4/50\n",
      "\u001b[1m4512/4512\u001b[0m \u001b[32m━━━━━━━━━━━━━━━━━━━━\u001b[0m\u001b[37m\u001b[0m \u001b[1m13s\u001b[0m 3ms/step - auc: 0.8096 - loss: 9.0622e-04 - weighted_auc: 0.8158 - val_auc: 0.8557 - val_loss: 8.7552e-04 - val_weighted_auc: 0.8660\n",
      "Epoch 5/50\n",
      "\u001b[1m4512/4512\u001b[0m \u001b[32m━━━━━━━━━━━━━━━━━━━━\u001b[0m\u001b[37m\u001b[0m \u001b[1m13s\u001b[0m 3ms/step - auc: 0.8230 - loss: 8.8029e-04 - weighted_auc: 0.8297 - val_auc: 0.8573 - val_loss: 8.8549e-04 - val_weighted_auc: 0.8667\n",
      "Epoch 6/50\n",
      "\u001b[1m4512/4512\u001b[0m \u001b[32m━━━━━━━━━━━━━━━━━━━━\u001b[0m\u001b[37m\u001b[0m \u001b[1m13s\u001b[0m 3ms/step - auc: 0.8172 - loss: 8.7571e-04 - weighted_auc: 0.8233 - val_auc: 0.8648 - val_loss: 8.7800e-04 - val_weighted_auc: 0.8733\n",
      "Epoch 7/50\n",
      "\u001b[1m4512/4512\u001b[0m \u001b[32m━━━━━━━━━━━━━━━━━━━━\u001b[0m\u001b[37m\u001b[0m \u001b[1m13s\u001b[0m 3ms/step - auc: 0.8276 - loss: 8.5911e-04 - weighted_auc: 0.8341 - val_auc: 0.8545 - val_loss: 8.6138e-04 - val_weighted_auc: 0.8624\n",
      "Epoch 8/50\n",
      "\u001b[1m4512/4512\u001b[0m \u001b[32m━━━━━━━━━━━━━━━━━━━━\u001b[0m\u001b[37m\u001b[0m \u001b[1m14s\u001b[0m 3ms/step - auc: 0.8265 - loss: 8.6680e-04 - weighted_auc: 0.8336 - val_auc: 0.8652 - val_loss: 8.6917e-04 - val_weighted_auc: 0.8714\n",
      "Epoch 9/50\n",
      "\u001b[1m4512/4512\u001b[0m \u001b[32m━━━━━━━━━━━━━━━━━━━━\u001b[0m\u001b[37m\u001b[0m \u001b[1m13s\u001b[0m 3ms/step - auc: 0.8367 - loss: 8.5241e-04 - weighted_auc: 0.8439 - val_auc: 0.8596 - val_loss: 8.5351e-04 - val_weighted_auc: 0.8670\n",
      "Epoch 10/50\n",
      "\u001b[1m4512/4512\u001b[0m \u001b[32m━━━━━━━━━━━━━━━━━━━━\u001b[0m\u001b[37m\u001b[0m \u001b[1m13s\u001b[0m 3ms/step - auc: 0.8274 - loss: 8.4892e-04 - weighted_auc: 0.8332 - val_auc: 0.8591 - val_loss: 8.5419e-04 - val_weighted_auc: 0.8654\n",
      "Epoch 11/50\n",
      "\u001b[1m4512/4512\u001b[0m \u001b[32m━━━━━━━━━━━━━━━━━━━━\u001b[0m\u001b[37m\u001b[0m \u001b[1m13s\u001b[0m 3ms/step - auc: 0.8415 - loss: 8.3662e-04 - weighted_auc: 0.8462 - val_auc: 0.8607 - val_loss: 8.5481e-04 - val_weighted_auc: 0.8676\n",
      "\u001b[1m30935/30935\u001b[0m \u001b[32m━━━━━━━━━━━━━━━━━━━━\u001b[0m\u001b[37m\u001b[0m \u001b[1m20s\u001b[0m 656us/step\n",
      "\u001b[1m6445/6445\u001b[0m \u001b[32m━━━━━━━━━━━━━━━━━━━━\u001b[0m\u001b[37m\u001b[0m \u001b[1m6s\u001b[0m 905us/step\n"
     ]
    },
    {
     "data": {
      "text/html": [],
      "text/plain": [
       "<IPython.core.display.HTML object>"
      ]
     },
     "metadata": {},
     "output_type": "display_data"
    },
    {
     "data": {
      "text/html": [
       "<br>    <style><br>        .wandb-row {<br>            display: flex;<br>            flex-direction: row;<br>            flex-wrap: wrap;<br>            justify-content: flex-start;<br>            width: 100%;<br>        }<br>        .wandb-col {<br>            display: flex;<br>            flex-direction: column;<br>            flex-basis: 100%;<br>            flex: 1;<br>            padding: 10px;<br>        }<br>    </style><br><div class=\"wandb-row\"><div class=\"wandb-col\"><h3>Run history:</h3><br/><table class=\"wandb\"><tr><td>Acceptance</td><td>▁</td></tr><tr><td>Max S/sqrt(B)</td><td>▁</td></tr><tr><td>epoch/auc</td><td>▁▆▇▇▇▇█████</td></tr><tr><td>epoch/epoch</td><td>▁▂▂▃▄▅▅▆▇▇█</td></tr><tr><td>epoch/learning_rate</td><td>▁▁▁▁▁▁▁▁▁▁▁</td></tr><tr><td>epoch/loss</td><td>█▁▁▁▁▁▁▁▁▁▁</td></tr><tr><td>epoch/val_auc</td><td>▁▃▆▆▆█▅█▇▆▇</td></tr><tr><td>epoch/val_loss</td><td>█▅▄▃▄▃▂▃▁▁▁</td></tr><tr><td>epoch/val_weighted_auc</td><td>▁▃▆▆▆█▄▇▆▅▆</td></tr><tr><td>epoch/weighted_auc</td><td>▁▆▇▇▇▇█████</td></tr><tr><td>final_val_roc_auc</td><td>▁</td></tr><tr><td>nnScore cut</td><td>▁</td></tr></table><br/></div><div class=\"wandb-col\"><h3>Run summary:</h3><br/><table class=\"wandb\"><tr><td>Acceptance</td><td>0.56847</td></tr><tr><td>Max S/sqrt(B)</td><td>2.77103</td></tr><tr><td>epoch/auc</td><td>0.8349</td></tr><tr><td>epoch/epoch</td><td>10</td></tr><tr><td>epoch/learning_rate</td><td>4e-05</td></tr><tr><td>epoch/loss</td><td>0.00086</td></tr><tr><td>epoch/val_auc</td><td>0.86069</td></tr><tr><td>epoch/val_loss</td><td>0.00085</td></tr><tr><td>epoch/val_weighted_auc</td><td>0.86757</td></tr><tr><td>epoch/weighted_auc</td><td>0.84462</td></tr><tr><td>final_val_roc_auc</td><td>0.97478</td></tr><tr><td>nnScore cut</td><td>0.02</td></tr></table><br/></div></div>"
      ],
      "text/plain": [
       "<IPython.core.display.HTML object>"
      ]
     },
     "metadata": {},
     "output_type": "display_data"
    },
    {
     "data": {
      "text/html": [
       " View run <strong style=\"color:#cdcd00\">floral-sweep-50</strong> at: <a href='https://wandb.ai/dlai211/tf-dnn-weighted-classifier/runs/2demq1me' target=\"_blank\">https://wandb.ai/dlai211/tf-dnn-weighted-classifier/runs/2demq1me</a><br> View project at: <a href='https://wandb.ai/dlai211/tf-dnn-weighted-classifier' target=\"_blank\">https://wandb.ai/dlai211/tf-dnn-weighted-classifier</a><br>Synced 5 W&B file(s), 1 media file(s), 0 artifact file(s) and 0 other file(s)"
      ],
      "text/plain": [
       "<IPython.core.display.HTML object>"
      ]
     },
     "metadata": {},
     "output_type": "display_data"
    },
    {
     "data": {
      "text/html": [
       "Find logs at: <code>./wandb/run-20250821_084400-2demq1me/logs</code>"
      ],
      "text/plain": [
       "<IPython.core.display.HTML object>"
      ]
     },
     "metadata": {},
     "output_type": "display_data"
    }
   ],
   "source": [
    "sweep_config = {\n",
    "    'method': 'bayes',\n",
    "    'metric': {\n",
    "        'name': 'final_val_roc_auc',\n",
    "        'goal': 'maximize'\n",
    "    },\n",
    "    'parameters': {\n",
    "        'lr': {\n",
    "            'distribution': 'log_uniform_values',\n",
    "            'min': 1e-5,\n",
    "            'max': 1e-2\n",
    "        },\n",
    "        'batch_size': {\n",
    "            'values': [128, 256, 512, 768, 1024]\n",
    "        },\n",
    "        'dropout': {\n",
    "            'distribution': 'uniform',\n",
    "            'min': 0.1,\n",
    "            'max': 0.5\n",
    "        },\n",
    "        'layer_1': {\n",
    "            'values': [64, 128, 192, 256]\n",
    "        },\n",
    "        'layer_2': {\n",
    "            'values': [128, 192, 256, 384, 512]\n",
    "        },\n",
    "        'layer_3': {\n",
    "            'values': [512, 768, 1024, 1536, 2048]\n",
    "        },\n",
    "        'layer_4': {\n",
    "            'values': [128, 256, 384, 512]\n",
    "        },\n",
    "        'layer_5': {\n",
    "            'values': [32, 64, 96, 128]\n",
    "        },\n",
    "        'epochs': {\n",
    "            'value': 50\n",
    "        }\n",
    "    }\n",
    "}\n",
    "\n",
    "def compute_significance(df, score_column=\"bdtscore\", cut=0.01):\n",
    "    sig = df[(df[\"label\"] == 1) & (df[score_column] >= cut)][\"weights\"].sum()\n",
    "    bkg = df[(df[\"label\"] == 0) & (df[score_column] >= cut)][\"weights\"].sum()\n",
    "    return sig / np.sqrt(bkg) if bkg > 0 else 0, sig/df[(df[\"label\"] == 1)][\"weights\"].sum()\n",
    "\n",
    "def train():\n",
    "    seed = 42\n",
    "    random.seed(seed)\n",
    "    np.random.seed(seed)\n",
    "    tf.random.set_seed(seed)\n",
    "    wandb.init(project=\"tf-dnn-weighted-classifier\")\n",
    "    config = wandb.config\n",
    "\n",
    "    model = Sequential()\n",
    "    model.add(Dense(config.layer_1, activation='relu', input_shape=(X_train.shape[1],)))\n",
    "    model.add(Dropout(config.dropout))\n",
    "    model.add(Dense(config.layer_2, activation='relu'))\n",
    "    model.add(Dropout(config.dropout))\n",
    "    model.add(Dense(config.layer_3, activation='relu'))\n",
    "    model.add(Dropout(config.dropout))\n",
    "    model.add(Dense(config.layer_4, activation='relu'))\n",
    "    model.add(Dropout(config.dropout))\n",
    "    model.add(Dense(config.layer_5, activation='relu'))\n",
    "    model.add(Dropout(config.dropout))\n",
    "    model.add(Dense(1, activation='sigmoid'))\n",
    "\n",
    "    model.compile(\n",
    "        optimizer=tf.keras.optimizers.Adam(learning_rate=config.lr),\n",
    "        loss=\"binary_crossentropy\",\n",
    "        metrics=[\n",
    "            tf.keras.metrics.AUC(name=\"auc\"),\n",
    "        ],\n",
    "        weighted_metrics=[\n",
    "            tf.keras.metrics.AUC(name=\"weighted_auc\")\n",
    "        ]\n",
    "    )\n",
    "\n",
    "    early_stop = EarlyStopping(\n",
    "        monitor=\"val_weighted_auc\",\n",
    "        patience=5,\n",
    "        mode=\"max\",\n",
    "        restore_best_weights=True\n",
    "    )\n",
    "\n",
    "    history = model.fit(\n",
    "        X_train, y_train,\n",
    "        validation_data=(X_test, y_test, w_test),\n",
    "        sample_weight=w_train,\n",
    "        epochs=config.epochs,\n",
    "        batch_size=config.batch_size,\n",
    "        callbacks=[early_stop, WandbMetricsLogger()],\n",
    "        verbose=1\n",
    "    )\n",
    "\n",
    "    probs = model.predict(X_test).ravel()\n",
    "    auc = roc_auc_score(y_test, probs, sample_weight=w_test)\n",
    "    fpr, tpr, _ = roc_curve(y_test, probs, sample_weight=w_test)\n",
    "\n",
    "    wandb.log({\"final_val_roc_auc\": auc})\n",
    "    plt.figure(figsize=(6, 6))\n",
    "    plt.plot(fpr, tpr, label=f\"AUC = {auc:.3f}\")\n",
    "    plt.plot([0, 1], [0, 1], \"k--\")\n",
    "    plt.xlabel(\"FPR\")\n",
    "    plt.ylabel(\"TPR\")\n",
    "    plt.legend()\n",
    "    wandb.log({\"ROC Curve\": wandb.Image(plt)})\n",
    "    plt.close()\n",
    "\n",
    "    X_scaled_array = np.asarray(X_scaled)\n",
    "    nn_scores = model.predict(X_scaled_array, batch_size=config.batch_size).flatten()  # shape: (n_samples,)\n",
    "    \n",
    "    df_tmp = df_ml_input.copy()\n",
    "    df_ml_input['nn_scores'] = nn_scores\n",
    "\n",
    "    best_significance, best_acceptance, best_cut = 0, 0, 0\n",
    "    for cut in np.arange(0, 0.15, 0.01):\n",
    "        sig, acc = compute_significance(df_tmp, score_column=\"nn_scores\", cut=cut)\n",
    "        if sig > best_significance:\n",
    "            best_significance = sig\n",
    "            best_acceptance = acc\n",
    "            best_cut = cut\n",
    "\n",
    "    wandb.log({\n",
    "        \"Max S/sqrt(B)\": best_significance,\n",
    "        \"Acceptance\": best_acceptance,\n",
    "        \"nnScore cut\": best_cut\n",
    "    })\n",
    "    \n",
    "    wandb.finish()\n",
    "\n",
    "sweep_id = wandb.sweep(sweep_config, project=\"tf-dnn-weighted-classifier\")\n",
    "wandb.agent(sweep_id, function=train, count=50) "
   ]
  },
  {
   "cell_type": "code",
   "execution_count": 6,
   "id": "3329569f-f799-498e-829c-0c1c500cc9a3",
   "metadata": {},
   "outputs": [
    {
     "data": {
      "text/html": [
       "Changes to your `wandb` environment variables will be ignored because your `wandb` session has already started. For more information on how to modify your settings with `wandb.init()` arguments, please refer to <a href='https://wandb.me/wandb-init' target=\"_blank\">the W&B docs</a>."
      ],
      "text/plain": [
       "<IPython.core.display.HTML object>"
      ]
     },
     "metadata": {},
     "output_type": "display_data"
    },
    {
     "data": {
      "text/html": [
       "Ignoring project 'tf-dnn-weighted-classifier' when running a sweep."
      ],
      "text/plain": [
       "<IPython.core.display.HTML object>"
      ]
     },
     "metadata": {},
     "output_type": "display_data"
    },
    {
     "data": {
      "text/html": [
       "Waiting for wandb.init()..."
      ],
      "text/plain": [
       "<IPython.core.display.HTML object>"
      ]
     },
     "metadata": {},
     "output_type": "display_data"
    },
    {
     "ename": "KeyboardInterrupt",
     "evalue": "",
     "output_type": "error",
     "traceback": [
      "\u001b[0;31m---------------------------------------------------------------------------\u001b[0m",
      "\u001b[0;31mKeyboardInterrupt\u001b[0m                         Traceback (most recent call last)",
      "Cell \u001b[0;32mIn[6], line 1\u001b[0m\n\u001b[0;32m----> 1\u001b[0m \u001b[43mwandb\u001b[49m\u001b[38;5;241;43m.\u001b[39;49m\u001b[43minit\u001b[49m\u001b[43m(\u001b[49m\u001b[43mproject\u001b[49m\u001b[38;5;241;43m=\u001b[39;49m\u001b[38;5;124;43m\"\u001b[39;49m\u001b[38;5;124;43mtf-dnn-weighted-classifier\u001b[39;49m\u001b[38;5;124;43m\"\u001b[39;49m\u001b[43m,\u001b[49m\u001b[43m \u001b[49m\u001b[43mconfig\u001b[49m\u001b[38;5;241;43m=\u001b[39;49m\u001b[43m{\u001b[49m\n\u001b[1;32m      2\u001b[0m \u001b[43m    \u001b[49m\u001b[38;5;124;43m\"\u001b[39;49m\u001b[38;5;124;43mepochs\u001b[39;49m\u001b[38;5;124;43m\"\u001b[39;49m\u001b[43m:\u001b[49m\u001b[43m \u001b[49m\u001b[38;5;241;43m30\u001b[39;49m\u001b[43m,\u001b[49m\n\u001b[1;32m      3\u001b[0m \u001b[43m    \u001b[49m\u001b[38;5;124;43m\"\u001b[39;49m\u001b[38;5;124;43mbatch_size\u001b[39;49m\u001b[38;5;124;43m\"\u001b[39;49m\u001b[43m:\u001b[49m\u001b[43m \u001b[49m\u001b[38;5;241;43m256\u001b[39;49m\u001b[43m,\u001b[49m\n\u001b[1;32m      4\u001b[0m \u001b[43m    \u001b[49m\u001b[38;5;124;43m\"\u001b[39;49m\u001b[38;5;124;43mlr\u001b[39;49m\u001b[38;5;124;43m\"\u001b[39;49m\u001b[43m:\u001b[49m\u001b[43m \u001b[49m\u001b[38;5;241;43m0.0003140646406495\u001b[39;49m\u001b[43m,\u001b[49m\n\u001b[1;32m      5\u001b[0m \u001b[43m    \u001b[49m\u001b[38;5;124;43m\"\u001b[39;49m\u001b[38;5;124;43mhidden_layers\u001b[39;49m\u001b[38;5;124;43m\"\u001b[39;49m\u001b[43m:\u001b[49m\u001b[43m \u001b[49m\u001b[43m[\u001b[49m\u001b[38;5;241;43m128\u001b[39;49m\u001b[43m,\u001b[49m\u001b[43m \u001b[49m\u001b[38;5;241;43m512\u001b[39;49m\u001b[43m,\u001b[49m\u001b[43m \u001b[49m\u001b[38;5;241;43m512\u001b[39;49m\u001b[43m,\u001b[49m\u001b[43m \u001b[49m\u001b[38;5;241;43m512\u001b[39;49m\u001b[43m,\u001b[49m\u001b[43m \u001b[49m\u001b[38;5;241;43m128\u001b[39;49m\u001b[43m]\u001b[49m\u001b[43m,\u001b[49m\n\u001b[1;32m      6\u001b[0m \u001b[43m    \u001b[49m\u001b[38;5;124;43m\"\u001b[39;49m\u001b[38;5;124;43mdropout\u001b[39;49m\u001b[38;5;124;43m\"\u001b[39;49m\u001b[43m:\u001b[49m\u001b[43m \u001b[49m\u001b[38;5;241;43m0.48318062844\u001b[39;49m\u001b[43m,\u001b[49m\n\u001b[1;32m      7\u001b[0m \u001b[43m    \u001b[49m\u001b[38;5;124;43m\"\u001b[39;49m\u001b[38;5;124;43mearly_stopping_patience\u001b[39;49m\u001b[38;5;124;43m\"\u001b[39;49m\u001b[43m:\u001b[49m\u001b[43m \u001b[49m\u001b[38;5;241;43m5\u001b[39;49m\n\u001b[1;32m      8\u001b[0m \u001b[43m}\u001b[49m\u001b[43m)\u001b[49m\n\u001b[1;32m      9\u001b[0m config \u001b[38;5;241m=\u001b[39m wandb\u001b[38;5;241m.\u001b[39mconfig\n\u001b[1;32m     12\u001b[0m model \u001b[38;5;241m=\u001b[39m Sequential()\n",
      "File \u001b[0;32m~/.local/share/mamba/envs/tf-gpu/lib/python3.10/site-packages/wandb/sdk/wandb_init.py:1606\u001b[0m, in \u001b[0;36minit\u001b[0;34m(entity, project, dir, id, name, notes, tags, config, config_exclude_keys, config_include_keys, allow_val_change, group, job_type, mode, force, anonymous, reinit, resume, resume_from, fork_from, save_code, tensorboard, sync_tensorboard, monitor_gym, settings)\u001b[0m\n\u001b[1;32m   1603\u001b[0m         \u001b[38;5;28;01mif\u001b[39;00m run_settings\u001b[38;5;241m.\u001b[39mx_server_side_derived_summary:\n\u001b[1;32m   1604\u001b[0m             init_telemetry\u001b[38;5;241m.\u001b[39mfeature\u001b[38;5;241m.\u001b[39mserver_side_derived_summary \u001b[38;5;241m=\u001b[39m \u001b[38;5;28;01mTrue\u001b[39;00m\n\u001b[0;32m-> 1606\u001b[0m         \u001b[38;5;28;01mreturn\u001b[39;00m \u001b[43mwi\u001b[49m\u001b[38;5;241;43m.\u001b[39;49m\u001b[43minit\u001b[49m\u001b[43m(\u001b[49m\u001b[43mrun_settings\u001b[49m\u001b[43m,\u001b[49m\u001b[43m \u001b[49m\u001b[43mrun_config\u001b[49m\u001b[43m,\u001b[49m\u001b[43m \u001b[49m\u001b[43mrun_printer\u001b[49m\u001b[43m)\u001b[49m\n\u001b[1;32m   1608\u001b[0m \u001b[38;5;28;01mexcept\u001b[39;00m \u001b[38;5;167;01mKeyboardInterrupt\u001b[39;00m \u001b[38;5;28;01mas\u001b[39;00m e:\n\u001b[1;32m   1609\u001b[0m     \u001b[38;5;28;01mif\u001b[39;00m wl:\n",
      "File \u001b[0;32m~/.local/share/mamba/envs/tf-gpu/lib/python3.10/site-packages/wandb/sdk/wandb_init.py:996\u001b[0m, in \u001b[0;36m_WandbInit.init\u001b[0;34m(self, settings, config, run_printer)\u001b[0m\n\u001b[1;32m    990\u001b[0m         \u001b[38;5;28;01mawait\u001b[39;00m progress\u001b[38;5;241m.\u001b[39mloop_printing_operation_stats(\n\u001b[1;32m    991\u001b[0m             progress_printer,\n\u001b[1;32m    992\u001b[0m             backend\u001b[38;5;241m.\u001b[39minterface,\n\u001b[1;32m    993\u001b[0m         )\n\u001b[1;32m    995\u001b[0m \u001b[38;5;28;01mtry\u001b[39;00m:\n\u001b[0;32m--> 996\u001b[0m     result \u001b[38;5;241m=\u001b[39m \u001b[43mwait_with_progress\u001b[49m\u001b[43m(\u001b[49m\n\u001b[1;32m    997\u001b[0m \u001b[43m        \u001b[49m\u001b[43mrun_init_handle\u001b[49m\u001b[43m,\u001b[49m\n\u001b[1;32m    998\u001b[0m \u001b[43m        \u001b[49m\u001b[43mtimeout\u001b[49m\u001b[38;5;241;43m=\u001b[39;49m\u001b[43mtimeout\u001b[49m\u001b[43m,\u001b[49m\n\u001b[1;32m    999\u001b[0m \u001b[43m        \u001b[49m\u001b[43mprogress_after\u001b[49m\u001b[38;5;241;43m=\u001b[39;49m\u001b[38;5;241;43m1\u001b[39;49m\u001b[43m,\u001b[49m\n\u001b[1;32m   1000\u001b[0m \u001b[43m        \u001b[49m\u001b[43mdisplay_progress\u001b[49m\u001b[38;5;241;43m=\u001b[39;49m\u001b[43mdisplay_init_message\u001b[49m\u001b[43m,\u001b[49m\n\u001b[1;32m   1001\u001b[0m \u001b[43m    \u001b[49m\u001b[43m)\u001b[49m\n\u001b[1;32m   1003\u001b[0m \u001b[38;5;28;01mexcept\u001b[39;00m \u001b[38;5;167;01mTimeoutError\u001b[39;00m:\n\u001b[1;32m   1004\u001b[0m     run_init_handle\u001b[38;5;241m.\u001b[39mcancel(backend\u001b[38;5;241m.\u001b[39minterface)\n",
      "File \u001b[0;32m~/.local/share/mamba/envs/tf-gpu/lib/python3.10/site-packages/wandb/sdk/mailbox/wait_with_progress.py:24\u001b[0m, in \u001b[0;36mwait_with_progress\u001b[0;34m(handle, timeout, progress_after, display_progress)\u001b[0m\n\u001b[1;32m     13\u001b[0m \u001b[38;5;28;01mdef\u001b[39;00m\u001b[38;5;250m \u001b[39m\u001b[38;5;21mwait_with_progress\u001b[39m(\n\u001b[1;32m     14\u001b[0m     handle: MailboxHandle[_T],\n\u001b[1;32m     15\u001b[0m     \u001b[38;5;241m*\u001b[39m,\n\u001b[0;32m   (...)\u001b[0m\n\u001b[1;32m     18\u001b[0m     display_progress: Callable[[], Coroutine[Any, Any, \u001b[38;5;28;01mNone\u001b[39;00m]],\n\u001b[1;32m     19\u001b[0m ) \u001b[38;5;241m-\u001b[39m\u001b[38;5;241m>\u001b[39m _T:\n\u001b[1;32m     20\u001b[0m \u001b[38;5;250m    \u001b[39m\u001b[38;5;124;03m\"\"\"Wait for a handle, possibly displaying progress to the user.\u001b[39;00m\n\u001b[1;32m     21\u001b[0m \n\u001b[1;32m     22\u001b[0m \u001b[38;5;124;03m    Equivalent to passing a single handle to `wait_all_with_progress`.\u001b[39;00m\n\u001b[1;32m     23\u001b[0m \u001b[38;5;124;03m    \"\"\"\u001b[39;00m\n\u001b[0;32m---> 24\u001b[0m     \u001b[38;5;28;01mreturn\u001b[39;00m \u001b[43mwait_all_with_progress\u001b[49m\u001b[43m(\u001b[49m\n\u001b[1;32m     25\u001b[0m \u001b[43m        \u001b[49m\u001b[43m[\u001b[49m\u001b[43mhandle\u001b[49m\u001b[43m]\u001b[49m\u001b[43m,\u001b[49m\n\u001b[1;32m     26\u001b[0m \u001b[43m        \u001b[49m\u001b[43mtimeout\u001b[49m\u001b[38;5;241;43m=\u001b[39;49m\u001b[43mtimeout\u001b[49m\u001b[43m,\u001b[49m\n\u001b[1;32m     27\u001b[0m \u001b[43m        \u001b[49m\u001b[43mprogress_after\u001b[49m\u001b[38;5;241;43m=\u001b[39;49m\u001b[43mprogress_after\u001b[49m\u001b[43m,\u001b[49m\n\u001b[1;32m     28\u001b[0m \u001b[43m        \u001b[49m\u001b[43mdisplay_progress\u001b[49m\u001b[38;5;241;43m=\u001b[39;49m\u001b[43mdisplay_progress\u001b[49m\u001b[43m,\u001b[49m\n\u001b[1;32m     29\u001b[0m \u001b[43m    \u001b[49m\u001b[43m)\u001b[49m[\u001b[38;5;241m0\u001b[39m]\n",
      "File \u001b[0;32m~/.local/share/mamba/envs/tf-gpu/lib/python3.10/site-packages/wandb/sdk/mailbox/wait_with_progress.py:87\u001b[0m, in \u001b[0;36mwait_all_with_progress\u001b[0;34m(handle_list, timeout, progress_after, display_progress)\u001b[0m\n\u001b[1;32m     80\u001b[0m             remaining_timeout \u001b[38;5;241m=\u001b[39m \u001b[38;5;28;01mNone\u001b[39;00m\n\u001b[1;32m     82\u001b[0m         \u001b[38;5;28;01mreturn\u001b[39;00m \u001b[38;5;28;01mawait\u001b[39;00m _wait_handles_async(\n\u001b[1;32m     83\u001b[0m             handle_list,\n\u001b[1;32m     84\u001b[0m             timeout\u001b[38;5;241m=\u001b[39mremaining_timeout,\n\u001b[1;32m     85\u001b[0m         )\n\u001b[0;32m---> 87\u001b[0m \u001b[38;5;28;01mreturn\u001b[39;00m \u001b[43masyncio_compat\u001b[49m\u001b[38;5;241;43m.\u001b[39;49m\u001b[43mrun\u001b[49m\u001b[43m(\u001b[49m\u001b[43mprogress_loop_with_timeout\u001b[49m\u001b[43m)\u001b[49m\n",
      "File \u001b[0;32m~/.local/share/mamba/envs/tf-gpu/lib/python3.10/site-packages/wandb/sdk/lib/asyncio_compat.py:30\u001b[0m, in \u001b[0;36mrun\u001b[0;34m(fn)\u001b[0m\n\u001b[1;32m     27\u001b[0m future \u001b[38;5;241m=\u001b[39m executor\u001b[38;5;241m.\u001b[39msubmit(runner\u001b[38;5;241m.\u001b[39mrun, fn)\n\u001b[1;32m     29\u001b[0m \u001b[38;5;28;01mtry\u001b[39;00m:\n\u001b[0;32m---> 30\u001b[0m     \u001b[38;5;28;01mreturn\u001b[39;00m \u001b[43mfuture\u001b[49m\u001b[38;5;241;43m.\u001b[39;49m\u001b[43mresult\u001b[49m\u001b[43m(\u001b[49m\u001b[43m)\u001b[49m\n\u001b[1;32m     32\u001b[0m \u001b[38;5;28;01mfinally\u001b[39;00m:\n\u001b[1;32m     33\u001b[0m     runner\u001b[38;5;241m.\u001b[39mcancel()\n",
      "File \u001b[0;32m~/.local/share/mamba/envs/tf-gpu/lib/python3.10/concurrent/futures/_base.py:453\u001b[0m, in \u001b[0;36mFuture.result\u001b[0;34m(self, timeout)\u001b[0m\n\u001b[1;32m    450\u001b[0m \u001b[38;5;28;01melif\u001b[39;00m \u001b[38;5;28mself\u001b[39m\u001b[38;5;241m.\u001b[39m_state \u001b[38;5;241m==\u001b[39m FINISHED:\n\u001b[1;32m    451\u001b[0m     \u001b[38;5;28;01mreturn\u001b[39;00m \u001b[38;5;28mself\u001b[39m\u001b[38;5;241m.\u001b[39m__get_result()\n\u001b[0;32m--> 453\u001b[0m \u001b[38;5;28;43mself\u001b[39;49m\u001b[38;5;241;43m.\u001b[39;49m\u001b[43m_condition\u001b[49m\u001b[38;5;241;43m.\u001b[39;49m\u001b[43mwait\u001b[49m\u001b[43m(\u001b[49m\u001b[43mtimeout\u001b[49m\u001b[43m)\u001b[49m\n\u001b[1;32m    455\u001b[0m \u001b[38;5;28;01mif\u001b[39;00m \u001b[38;5;28mself\u001b[39m\u001b[38;5;241m.\u001b[39m_state \u001b[38;5;129;01min\u001b[39;00m [CANCELLED, CANCELLED_AND_NOTIFIED]:\n\u001b[1;32m    456\u001b[0m     \u001b[38;5;28;01mraise\u001b[39;00m CancelledError()\n",
      "File \u001b[0;32m~/.local/share/mamba/envs/tf-gpu/lib/python3.10/threading.py:320\u001b[0m, in \u001b[0;36mCondition.wait\u001b[0;34m(self, timeout)\u001b[0m\n\u001b[1;32m    318\u001b[0m \u001b[38;5;28;01mtry\u001b[39;00m:    \u001b[38;5;66;03m# restore state no matter what (e.g., KeyboardInterrupt)\u001b[39;00m\n\u001b[1;32m    319\u001b[0m     \u001b[38;5;28;01mif\u001b[39;00m timeout \u001b[38;5;129;01mis\u001b[39;00m \u001b[38;5;28;01mNone\u001b[39;00m:\n\u001b[0;32m--> 320\u001b[0m         \u001b[43mwaiter\u001b[49m\u001b[38;5;241;43m.\u001b[39;49m\u001b[43macquire\u001b[49m\u001b[43m(\u001b[49m\u001b[43m)\u001b[49m\n\u001b[1;32m    321\u001b[0m         gotit \u001b[38;5;241m=\u001b[39m \u001b[38;5;28;01mTrue\u001b[39;00m\n\u001b[1;32m    322\u001b[0m     \u001b[38;5;28;01melse\u001b[39;00m:\n",
      "\u001b[0;31mKeyboardInterrupt\u001b[0m: "
     ]
    }
   ],
   "source": [
    "wandb.init(project=\"tf-dnn-weighted-classifier\", config={\n",
    "    \"epochs\": 30,\n",
    "    \"batch_size\": 256,\n",
    "    \"lr\": 0.0003140646406495,\n",
    "    \"hidden_layers\": [128, 512, 512, 512, 128],\n",
    "    \"dropout\": 0.48318062844,\n",
    "    \"early_stopping_patience\": 5\n",
    "})\n",
    "config = wandb.config\n",
    "\n",
    "\n",
    "model = Sequential()\n",
    "model.add(Dense(config.hidden_layers[0], activation='relu', input_shape=(X_train.shape[1],)))\n",
    "model.add(Dropout(config.dropout))\n",
    "for h in config.hidden_layers[1:]:\n",
    "    model.add(Dense(h, activation='relu'))\n",
    "    model.add(Dropout(config.dropout))\n",
    "model.add(Dense(1, activation='sigmoid'))\n",
    "\n",
    "optimizer = tf.keras.optimizers.Adam(learning_rate=config.lr)\n",
    "model.compile(\n",
    "    optimizer=\"adam\",\n",
    "    loss=\"binary_crossentropy\",\n",
    "    metrics=[\n",
    "        tf.keras.metrics.AUC(name=\"auc\", curve=\"ROC\", from_logits=False)\n",
    "    ],\n",
    "    weighted_metrics=[\n",
    "        tf.keras.metrics.AUC(name=\"weighted_auc\", curve=\"ROC\", from_logits=False)\n",
    "    ]\n",
    ")\n",
    "\n",
    "\n",
    "early_stop = EarlyStopping(monitor='val_weighted_auc', patience=config.early_stopping_patience,\n",
    "                           mode='max', restore_best_weights=True, verbose=1)\n",
    "\n",
    "history = model.fit(\n",
    "    X_train, y_train,\n",
    "    validation_data=(X_test, y_test, w_test),\n",
    "    sample_weight=w_train,\n",
    "    epochs=config.epochs,\n",
    "    batch_size=config.batch_size,\n",
    "    callbacks=[early_stop, WandbMetricsLogger()],\n",
    "    verbose=1\n",
    ")\n",
    "\n",
    "probs = model.predict(X_test).ravel()\n",
    "auc = roc_auc_score(y_test, probs, sample_weight=w_test)\n",
    "fpr, tpr, _ = roc_curve(y_test, probs, sample_weight=w_test)\n",
    "\n",
    "wandb.log({\"final_val_roc_auc\": auc})\n",
    "\n",
    "plt.figure(figsize=(8, 8))\n",
    "plt.plot(fpr, tpr, label=f\"AUC = {auc:.3f}\")\n",
    "plt.plot([0, 1], [0, 1], \"k--\")\n",
    "plt.xlabel(\"False Positive Rate\")\n",
    "plt.ylabel(\"True Positive Rate\")\n",
    "plt.title(\"ROC Curve\")\n",
    "plt.legend()\n",
    "plt.grid()\n",
    "wandb.log({\"ROC Curve\": wandb.Image(plt)})\n",
    "plt.show()\n",
    "\n",
    "wandb.finish()"
   ]
  },
  {
   "cell_type": "code",
   "execution_count": 7,
   "id": "25b26b74-8a87-4372-babb-760085c96713",
   "metadata": {},
   "outputs": [
    {
     "name": "stdout",
     "output_type": "stream",
     "text": [
      "\u001b[1m2319/2319\u001b[0m \u001b[32m━━━━━━━━━━━━━━━━━━━━\u001b[0m\u001b[37m\u001b[0m \u001b[1m2s\u001b[0m 933us/step\n"
     ]
    }
   ],
   "source": [
    "X_scaled_array = np.asarray(X_scaled)\n",
    "nn_scores = model.predict(X_scaled_array, batch_size=1024).flatten()  # shape: (n_samples,)\n",
    "\n",
    "df_ml_input['nn_scores'] = nn_scores"
   ]
  },
  {
   "cell_type": "code",
   "execution_count": 8,
   "id": "27267449-b32e-40b3-b830-9b678d02e682",
   "metadata": {},
   "outputs": [
    {
     "name": "stdout",
     "output_type": "stream",
     "text": [
      "Saved plot to significance_nn_scores_lowercut.png\n"
     ]
    },
    {
     "data": {
      "image/png": "[encoded data removed]",
      "text/plain": [
       "<Figure size 800x1000 with 2 Axes>"
      ]
     },
     "metadata": {},
     "output_type": "display_data"
    }
   ],
   "source": [
    "def binomial_significance(s, b):\n",
    "    return s / np.sqrt(b) if b > 0 else 0\n",
    "\n",
    "def s_over_sb(s, b):\n",
    "    return s / np.sqrt(s + b) if (s + b) > 0 else 0\n",
    "\n",
    "def s_over_s1p3b(s, b):\n",
    "    return s / np.sqrt(s + 1.3 * b) if (s + 1.3 * b) > 0 else 0\n",
    "\n",
    "def scan_significance(df, cut_var=\"nn_scores\", cut_type=\"lowercut\", cuts=np.arange(0, 0.71, 0.01)):\n",
    "    sig_sqrtb = []\n",
    "    sig_sqrt_sb = []\n",
    "    sig_sqrt_s1p3b = []\n",
    "    sig_zbi = []\n",
    "\n",
    "    sigacc_sqrtb = []\n",
    "    sigacc_sqrt_sb = []\n",
    "    sigacc_sqrt_s1p3b = []\n",
    "    sigacc_zbi = []\n",
    "\n",
    "    acc_values = []\n",
    "\n",
    "    df_sig = df[df[\"label\"] == 1]\n",
    "    df_bkg = df[df[\"label\"] == 0]\n",
    "    total_sig_weight = df_sig[\"weights\"].sum()\n",
    "\n",
    "    for cut in cuts:\n",
    "        if cut_type == \"lowercut\":\n",
    "            sig_cut = df_sig[df_sig[cut_var] >= cut]\n",
    "            bkg_cut = df_bkg[df_bkg[cut_var] >= cut]\n",
    "        elif cut_type == \"uppercut\":\n",
    "            sig_cut = df_sig[df_sig[cut_var] <= cut]\n",
    "            bkg_cut = df_bkg[df_bkg[cut_var] <= cut]\n",
    "        else:\n",
    "            raise ValueError(\"Invalid cut type\")\n",
    "\n",
    "        s = sig_cut[\"weights\"].sum()\n",
    "        b = bkg_cut[\"weights\"].sum()\n",
    "        acceptance = s / total_sig_weight if total_sig_weight > 0 else 0\n",
    "\n",
    "        # Compute significance\n",
    "        sig1 = binomial_significance(s, b)\n",
    "        sig2 = s_over_sb(s, b)\n",
    "        sig3 = s_over_s1p3b(s, b)\n",
    "        sig4 = zbi(s, b)\n",
    "\n",
    "        sig_sqrtb.append(sig1)\n",
    "        sig_sqrt_sb.append(sig2)\n",
    "        sig_sqrt_s1p3b.append(sig3)\n",
    "        sig_zbi.append(sig4)\n",
    "\n",
    "        sigacc_sqrtb.append(sig1 * acceptance)\n",
    "        sigacc_sqrt_sb.append(sig2 * acceptance)\n",
    "        sigacc_sqrt_s1p3b.append(sig3 * acceptance)\n",
    "        sigacc_zbi.append(sig4 * acceptance)\n",
    "\n",
    "        acc_values.append(acceptance * 100)\n",
    "\n",
    "    return cuts, acc_values, sig_sqrtb, sig_sqrt_sb, sig_sqrt_s1p3b, sig_zbi, \\\n",
    "           sigacc_sqrtb, sigacc_sqrt_sb, sigacc_sqrt_s1p3b, sigacc_zbi\n",
    "\n",
    "\n",
    "def plot_significance(cuts, acc, sig1, sig2, sig3, sig4,\n",
    "                      sigacc1, sigacc2, sigacc3, sigacc4,\n",
    "                      cut_var, cut_type, save_path):\n",
    "\n",
    "    fig, (ax1, ax2) = plt.subplots(2, 1, figsize=(8, 10), sharex=True)\n",
    "\n",
    "    # Plot Significance\n",
    "    ax1.plot(cuts, sig1, marker='o', label='S/√B')\n",
    "    ax1.plot(cuts, sig2, marker='s', label='S/√(S+B)')\n",
    "    ax1.plot(cuts, sig3, marker='^', label='S/√(S+1.3B)')\n",
    "    ax1.plot(cuts, sig4, marker='x', label='ZBi')\n",
    "\n",
    "    ax1.set_ylabel('Significance')\n",
    "    ax1.set_title(f'Significance vs. {cut_var} ({cut_type})')\n",
    "    ax1.grid(True)\n",
    "    ax1.legend()\n",
    "\n",
    "    # Plot Significance × Acceptance\n",
    "    ax2.plot(cuts, sigacc1, marker='o', label='(S/√B) × Acc')\n",
    "    ax2.plot(cuts, sigacc2, marker='s', label='(S/√(S+B)) × Acc')\n",
    "    ax2.plot(cuts, sigacc3, marker='^', label='(S/√(S+1.3B)) × Acc')\n",
    "    ax2.plot(cuts, sigacc4, marker='x', label='ZBi × Acc')\n",
    "\n",
    "    for i, txt in enumerate(acc):\n",
    "        ax2.text(cuts[i], sigacc1[i], f'{txt:.1f}%', fontsize=8, color='purple', ha='right', va='bottom')\n",
    "\n",
    "    ax2.set_xlabel(f'{cut_var} Cut')\n",
    "    ax2.set_ylabel('Significance × Acceptance')\n",
    "    ax2.set_title(f'Significance × Acceptance vs. {cut_var} ({cut_type})')\n",
    "    ax2.grid(True)\n",
    "    ax2.legend()\n",
    "    ax2.xaxis.set_major_formatter(FormatStrFormatter('%.2f'))\n",
    "    ax2.set_xticks(cuts)\n",
    "    ax2.set_xticklabels(cuts, rotation=45, ha='right')\n",
    "\n",
    "    plt.tight_layout()\n",
    "    plt.savefig(save_path)\n",
    "    print(f\"Saved plot to {save_path}\")\n",
    "    plt.show()\n",
    "\n",
    "\n",
    "cut_var = \"nn_scores\"\n",
    "cut_type = \"lowercut\"\n",
    "cut_values = np.arange(0, 0.31, 0.01)\n",
    "\n",
    "(cuts, acc, sig1, sig2, sig3, sig4,\n",
    " sigacc1, sigacc2, sigacc3, sigacc4) = scan_significance(df_ml_input, cut_var, cut_type, cut_values)\n",
    "\n",
    "plot_significance(\n",
    "    cuts, acc, sig1, sig2, sig3, sig4,\n",
    "    sigacc1, sigacc2, sigacc3, sigacc4,\n",
    "    cut_var=cut_var,\n",
    "    cut_type=cut_type,\n",
    "    save_path=f\"significance_{cut_var}_{cut_type}.png\"\n",
    ")\n"
   ]
  },
  {
   "cell_type": "code",
   "execution_count": null,
   "id": "057513a1-70d7-498e-b1ac-bdec60ea5de2",
   "metadata": {},
   "outputs": [],
   "source": []
  }
 ],
 "metadata": {
  "kernelspec": {
   "display_name": "tensorflow-gpu",
   "language": "python",
   "name": "tf-gpu"
  },
  "language_info": {
   "codemirror_mode": {
    "name": "ipython",
    "version": 3
   },
   "file_extension": ".py",
   "mimetype": "text/x-python",
   "name": "python",
   "nbconvert_exporter": "python",
   "pygments_lexer": "ipython3",
   "version": "3.10.18"
  }
 },
 "nbformat": 4,
 "nbformat_minor": 5
}
