{
 "cells": [
  {
   "cell_type": "code",
   "execution_count": 1,
   "id": "1bf449f1-0f2a-4a8b-badb-cebd30ea9173",
   "metadata": {},
   "outputs": [],
   "source": [
    "import numpy as np\n",
    "import pandas as pd\n",
    "import matplotlib.pyplot as plt\n",
    "from tqdm import tqdm\n",
    "import seaborn as sns\n",
    "import uproot, os, logging, json, random, wandb, shap\n",
    "import awkward as ak\n",
    "# import torch\n",
    "from sklearn.metrics import roc_curve, roc_auc_score, auc, accuracy_score, log_loss\n",
    "from sklearn.model_selection import train_test_split\n",
    "from xgboost import XGBClassifier\n",
    "from sklearn.model_selection import RandomizedSearchCV, GridSearchCV, train_test_split\n",
    "from sklearn.impute import SimpleImputer\n",
    "from sklearn.preprocessing import StandardScaler\n",
    "from scipy.stats import randint, uniform\n",
    "from matplotlib.ticker import FormatStrFormatter\n",
    "from collections import Counter\n",
    "\n",
    "# ML model\n",
    "from sklearn.model_selection import train_test_split, RandomizedSearchCV\n",
    "from sklearn.metrics import roc_auc_score, roc_curve, log_loss, accuracy_score\n",
    "from sklearn.neural_network import MLPClassifier\n",
    "from sklearn.linear_model import LogisticRegression\n",
    "from sklearn.ensemble import RandomForestClassifier\n",
    "from xgboost import XGBClassifier\n",
    "from lightgbm import LGBMClassifier\n",
    "\n",
    "# Config\n",
    "from bdt_config import sample_dict, zbi, getVarDict\n",
    "from bdt_config import Vars, Vars2, Vars3, Vars_drop, Vars_plot\n",
    "from bdt_config import variables, ntuple_name, ntuple_name_BDT\n",
    "\n",
    "# Set up plot defaults\n",
    "import matplotlib as mpl\n",
    "mpl.rcParams['figure.figsize'] = 12.0,8.0  # Roughly 11 cm wde by 8 cm high\n",
    "mpl.rcParams['font.size'] = 14.0 # Use 14 point font\n",
    "sns.set(style=\"whitegrid\")\n",
    "\n",
    "# Check for gpu\n",
    "# torch.cuda.is_available()"
   ]
  },
  {
   "cell_type": "code",
   "execution_count": 2,
   "id": "4bf567f9-ad51-4490-b4c3-ceed0a482af1",
   "metadata": {},
   "outputs": [
    {
     "data": {
      "text/html": [
       "<div>\n",
       "<style scoped>\n",
       "    .dataframe tbody tr th:only-of-type {\n",
       "        vertical-align: middle;\n",
       "    }\n",
       "\n",
       "    .dataframe tbody tr th {\n",
       "        vertical-align: top;\n",
       "    }\n",
       "\n",
       "    .dataframe thead th {\n",
       "        text-align: right;\n",
       "    }\n",
       "</style>\n",
       "<table border=\"1\" class=\"dataframe\">\n",
       "  <thead>\n",
       "    <tr style=\"text-align: right;\">\n",
       "      <th></th>\n",
       "      <th>balance</th>\n",
       "      <th>VertexBDTScore</th>\n",
       "      <th>dmet</th>\n",
       "      <th>dphi_jj</th>\n",
       "      <th>dphi_met_central_jet</th>\n",
       "      <th>dphi_met_phterm</th>\n",
       "      <th>dphi_met_ph</th>\n",
       "      <th>dphi_met_jetterm</th>\n",
       "      <th>dphi_phterm_jetterm</th>\n",
       "      <th>dphi_ph_centraljet1</th>\n",
       "      <th>...</th>\n",
       "      <th>metsigres</th>\n",
       "      <th>met</th>\n",
       "      <th>met_noJVT</th>\n",
       "      <th>metplusph</th>\n",
       "      <th>failJVT_jet_pt1</th>\n",
       "      <th>softerm</th>\n",
       "      <th>n_jet_central</th>\n",
       "      <th>mt</th>\n",
       "      <th>weights</th>\n",
       "      <th>label</th>\n",
       "    </tr>\n",
       "  </thead>\n",
       "  <tbody>\n",
       "    <tr>\n",
       "      <th>count</th>\n",
       "      <td>3.299733e+06</td>\n",
       "      <td>3.299733e+06</td>\n",
       "      <td>3.299733e+06</td>\n",
       "      <td>3.299733e+06</td>\n",
       "      <td>3.299733e+06</td>\n",
       "      <td>3.299733e+06</td>\n",
       "      <td>3.299733e+06</td>\n",
       "      <td>3.299733e+06</td>\n",
       "      <td>3.299733e+06</td>\n",
       "      <td>3.299733e+06</td>\n",
       "      <td>...</td>\n",
       "      <td>3.299733e+06</td>\n",
       "      <td>3.299733e+06</td>\n",
       "      <td>3.299733e+06</td>\n",
       "      <td>3.299733e+06</td>\n",
       "      <td>3.299733e+06</td>\n",
       "      <td>3.299733e+06</td>\n",
       "      <td>3.299733e+06</td>\n",
       "      <td>3.299733e+06</td>\n",
       "      <td>3.299733e+06</td>\n",
       "      <td>3.299733e+06</td>\n",
       "    </tr>\n",
       "    <tr>\n",
       "      <th>mean</th>\n",
       "      <td>-1.745489e+02</td>\n",
       "      <td>1.251438e-01</td>\n",
       "      <td>-1.663472e+03</td>\n",
       "      <td>-4.654471e+02</td>\n",
       "      <td>-1.848742e+02</td>\n",
       "      <td>4.027364e-01</td>\n",
       "      <td>2.738863e+00</td>\n",
       "      <td>-1.317202e+02</td>\n",
       "      <td>-1.313245e+02</td>\n",
       "      <td>-1.842713e+02</td>\n",
       "      <td>...</td>\n",
       "      <td>2.709180e+04</td>\n",
       "      <td>1.947991e+05</td>\n",
       "      <td>1.931356e+05</td>\n",
       "      <td>8.173447e+05</td>\n",
       "      <td>8.082155e+03</td>\n",
       "      <td>9.400769e+03</td>\n",
       "      <td>1.752871e+00</td>\n",
       "      <td>5.145135e+02</td>\n",
       "      <td>6.037499e-01</td>\n",
       "      <td>1.390112e-03</td>\n",
       "    </tr>\n",
       "    <tr>\n",
       "      <th>std</th>\n",
       "      <td>3.835393e+02</td>\n",
       "      <td>1.348625e-01</td>\n",
       "      <td>1.103691e+04</td>\n",
       "      <td>4.990919e+02</td>\n",
       "      <td>3.894295e+02</td>\n",
       "      <td>6.314438e-01</td>\n",
       "      <td>6.313107e-01</td>\n",
       "      <td>3.400961e+02</td>\n",
       "      <td>3.402509e+02</td>\n",
       "      <td>3.897176e+02</td>\n",
       "      <td>...</td>\n",
       "      <td>2.307818e+04</td>\n",
       "      <td>1.623949e+05</td>\n",
       "      <td>1.632818e+05</td>\n",
       "      <td>8.139494e+05</td>\n",
       "      <td>1.485037e+04</td>\n",
       "      <td>5.880428e+03</td>\n",
       "      <td>1.232225e+00</td>\n",
       "      <td>3.809920e+02</td>\n",
       "      <td>7.646898e+00</td>\n",
       "      <td>3.725829e-02</td>\n",
       "    </tr>\n",
       "    <tr>\n",
       "      <th>min</th>\n",
       "      <td>-9.990000e+02</td>\n",
       "      <td>-3.265468e-01</td>\n",
       "      <td>-1.712589e+05</td>\n",
       "      <td>-9.990000e+02</td>\n",
       "      <td>-9.990000e+02</td>\n",
       "      <td>0.000000e+00</td>\n",
       "      <td>1.167295e-02</td>\n",
       "      <td>-9.990000e+02</td>\n",
       "      <td>-9.990000e+02</td>\n",
       "      <td>-9.990000e+02</td>\n",
       "      <td>...</td>\n",
       "      <td>8.526343e+03</td>\n",
       "      <td>1.000000e+05</td>\n",
       "      <td>2.001940e+03</td>\n",
       "      <td>1.500329e+05</td>\n",
       "      <td>-9.990000e+02</td>\n",
       "      <td>0.000000e+00</td>\n",
       "      <td>0.000000e+00</td>\n",
       "      <td>1.000004e+02</td>\n",
       "      <td>-9.143369e+01</td>\n",
       "      <td>0.000000e+00</td>\n",
       "    </tr>\n",
       "    <tr>\n",
       "      <th>25%</th>\n",
       "      <td>9.546858e-01</td>\n",
       "      <td>8.068899e-03</td>\n",
       "      <td>0.000000e+00</td>\n",
       "      <td>-9.990000e+02</td>\n",
       "      <td>4.369926e-02</td>\n",
       "      <td>5.094965e-02</td>\n",
       "      <td>2.728096e+00</td>\n",
       "      <td>2.204334e-01</td>\n",
       "      <td>5.477069e-01</td>\n",
       "      <td>3.878704e-01</td>\n",
       "      <td>...</td>\n",
       "      <td>1.057160e+04</td>\n",
       "      <td>1.177408e+05</td>\n",
       "      <td>1.162434e+05</td>\n",
       "      <td>2.738635e+05</td>\n",
       "      <td>-9.990000e+02</td>\n",
       "      <td>4.993511e+03</td>\n",
       "      <td>1.000000e+00</td>\n",
       "      <td>2.392391e+02</td>\n",
       "      <td>1.026595e-04</td>\n",
       "      <td>0.000000e+00</td>\n",
       "    </tr>\n",
       "    <tr>\n",
       "      <th>50%</th>\n",
       "      <td>1.283851e+00</td>\n",
       "      <td>1.647640e-01</td>\n",
       "      <td>0.000000e+00</td>\n",
       "      <td>1.517193e-01</td>\n",
       "      <td>4.694079e-01</td>\n",
       "      <td>1.503438e-01</td>\n",
       "      <td>2.991172e+00</td>\n",
       "      <td>1.017702e+00</td>\n",
       "      <td>2.089735e+00</td>\n",
       "      <td>2.023582e+00</td>\n",
       "      <td>...</td>\n",
       "      <td>1.767059e+04</td>\n",
       "      <td>1.480967e+05</td>\n",
       "      <td>1.473863e+05</td>\n",
       "      <td>4.551331e+05</td>\n",
       "      <td>-9.990000e+02</td>\n",
       "      <td>8.329055e+03</td>\n",
       "      <td>2.000000e+00</td>\n",
       "      <td>3.804795e+02</td>\n",
       "      <td>1.174600e-02</td>\n",
       "      <td>0.000000e+00</td>\n",
       "    </tr>\n",
       "    <tr>\n",
       "      <th>75%</th>\n",
       "      <td>2.922425e+00</td>\n",
       "      <td>2.371679e-01</td>\n",
       "      <td>0.000000e+00</td>\n",
       "      <td>1.378248e+00</td>\n",
       "      <td>2.476912e+00</td>\n",
       "      <td>4.133940e-01</td>\n",
       "      <td>3.090613e+00</td>\n",
       "      <td>2.863652e+00</td>\n",
       "      <td>3.105098e+00</td>\n",
       "      <td>3.039348e+00</td>\n",
       "      <td>...</td>\n",
       "      <td>3.643209e+04</td>\n",
       "      <td>2.160463e+05</td>\n",
       "      <td>2.158321e+05</td>\n",
       "      <td>1.013744e+06</td>\n",
       "      <td>2.159741e+04</td>\n",
       "      <td>1.265224e+04</td>\n",
       "      <td>3.000000e+00</td>\n",
       "      <td>6.762628e+02</td>\n",
       "      <td>5.386639e-02</td>\n",
       "      <td>0.000000e+00</td>\n",
       "    </tr>\n",
       "    <tr>\n",
       "      <th>max</th>\n",
       "      <td>2.663229e+02</td>\n",
       "      <td>4.375860e-01</td>\n",
       "      <td>1.246841e+05</td>\n",
       "      <td>3.141591e+00</td>\n",
       "      <td>3.141592e+00</td>\n",
       "      <td>3.141593e+00</td>\n",
       "      <td>3.141593e+00</td>\n",
       "      <td>3.141593e+00</td>\n",
       "      <td>3.141593e+00</td>\n",
       "      <td>3.141592e+00</td>\n",
       "      <td>...</td>\n",
       "      <td>6.173285e+06</td>\n",
       "      <td>1.470684e+08</td>\n",
       "      <td>1.470684e+08</td>\n",
       "      <td>1.490961e+08</td>\n",
       "      <td>5.999986e+04</td>\n",
       "      <td>1.022158e+05</td>\n",
       "      <td>4.000000e+00</td>\n",
       "      <td>7.007911e+03</td>\n",
       "      <td>1.221239e+04</td>\n",
       "      <td>1.000000e+00</td>\n",
       "    </tr>\n",
       "  </tbody>\n",
       "</table>\n",
       "<p>8 rows × 29 columns</p>\n",
       "</div>"
      ],
      "text/plain": [
       "            balance  VertexBDTScore          dmet       dphi_jj  \\\n",
       "count  3.299733e+06    3.299733e+06  3.299733e+06  3.299733e+06   \n",
       "mean  -1.745489e+02    1.251438e-01 -1.663472e+03 -4.654471e+02   \n",
       "std    3.835393e+02    1.348625e-01  1.103691e+04  4.990919e+02   \n",
       "min   -9.990000e+02   -3.265468e-01 -1.712589e+05 -9.990000e+02   \n",
       "25%    9.546858e-01    8.068899e-03  0.000000e+00 -9.990000e+02   \n",
       "50%    1.283851e+00    1.647640e-01  0.000000e+00  1.517193e-01   \n",
       "75%    2.922425e+00    2.371679e-01  0.000000e+00  1.378248e+00   \n",
       "max    2.663229e+02    4.375860e-01  1.246841e+05  3.141591e+00   \n",
       "\n",
       "       dphi_met_central_jet  dphi_met_phterm   dphi_met_ph  dphi_met_jetterm  \\\n",
       "count          3.299733e+06     3.299733e+06  3.299733e+06      3.299733e+06   \n",
       "mean          -1.848742e+02     4.027364e-01  2.738863e+00     -1.317202e+02   \n",
       "std            3.894295e+02     6.314438e-01  6.313107e-01      3.400961e+02   \n",
       "min           -9.990000e+02     0.000000e+00  1.167295e-02     -9.990000e+02   \n",
       "25%            4.369926e-02     5.094965e-02  2.728096e+00      2.204334e-01   \n",
       "50%            4.694079e-01     1.503438e-01  2.991172e+00      1.017702e+00   \n",
       "75%            2.476912e+00     4.133940e-01  3.090613e+00      2.863652e+00   \n",
       "max            3.141592e+00     3.141593e+00  3.141593e+00      3.141593e+00   \n",
       "\n",
       "       dphi_phterm_jetterm  dphi_ph_centraljet1  ...     metsigres  \\\n",
       "count         3.299733e+06         3.299733e+06  ...  3.299733e+06   \n",
       "mean         -1.313245e+02        -1.842713e+02  ...  2.709180e+04   \n",
       "std           3.402509e+02         3.897176e+02  ...  2.307818e+04   \n",
       "min          -9.990000e+02        -9.990000e+02  ...  8.526343e+03   \n",
       "25%           5.477069e-01         3.878704e-01  ...  1.057160e+04   \n",
       "50%           2.089735e+00         2.023582e+00  ...  1.767059e+04   \n",
       "75%           3.105098e+00         3.039348e+00  ...  3.643209e+04   \n",
       "max           3.141593e+00         3.141592e+00  ...  6.173285e+06   \n",
       "\n",
       "                met     met_noJVT     metplusph  failJVT_jet_pt1  \\\n",
       "count  3.299733e+06  3.299733e+06  3.299733e+06     3.299733e+06   \n",
       "mean   1.947991e+05  1.931356e+05  8.173447e+05     8.082155e+03   \n",
       "std    1.623949e+05  1.632818e+05  8.139494e+05     1.485037e+04   \n",
       "min    1.000000e+05  2.001940e+03  1.500329e+05    -9.990000e+02   \n",
       "25%    1.177408e+05  1.162434e+05  2.738635e+05    -9.990000e+02   \n",
       "50%    1.480967e+05  1.473863e+05  4.551331e+05    -9.990000e+02   \n",
       "75%    2.160463e+05  2.158321e+05  1.013744e+06     2.159741e+04   \n",
       "max    1.470684e+08  1.470684e+08  1.490961e+08     5.999986e+04   \n",
       "\n",
       "            softerm  n_jet_central            mt       weights         label  \n",
       "count  3.299733e+06   3.299733e+06  3.299733e+06  3.299733e+06  3.299733e+06  \n",
       "mean   9.400769e+03   1.752871e+00  5.145135e+02  6.037499e-01  1.390112e-03  \n",
       "std    5.880428e+03   1.232225e+00  3.809920e+02  7.646898e+00  3.725829e-02  \n",
       "min    0.000000e+00   0.000000e+00  1.000004e+02 -9.143369e+01  0.000000e+00  \n",
       "25%    4.993511e+03   1.000000e+00  2.392391e+02  1.026595e-04  0.000000e+00  \n",
       "50%    8.329055e+03   2.000000e+00  3.804795e+02  1.174600e-02  0.000000e+00  \n",
       "75%    1.265224e+04   3.000000e+00  6.762628e+02  5.386639e-02  0.000000e+00  \n",
       "max    1.022158e+05   4.000000e+00  7.007911e+03  1.221239e+04  1.000000e+00  \n",
       "\n",
       "[8 rows x 29 columns]"
      ]
     },
     "execution_count": 2,
     "metadata": {},
     "output_type": "execute_result"
    }
   ],
   "source": [
    "path = '/data/jlai/ntups/csv/jet_faking_BDT_input_basic3.csv'\n",
    "df = pd.read_csv(path)\n",
    "df.describe()"
   ]
  },
  {
   "cell_type": "code",
   "execution_count": 3,
   "id": "2ba6ef59-a75c-416c-af14-5b57a08aee88",
   "metadata": {},
   "outputs": [],
   "source": [
    "Vars2 = ['dphi_met_phterm', 'metsig', 'VertexBDTScore', 'dphi_met_central_jet', 'dmet', 'jetterm', 'balance',  'weights', 'label', 'process']\n",
    "Vars3 = ['ph_eta', 'ph_pt']"
   ]
  },
  {
   "cell_type": "code",
   "execution_count": 4,
   "id": "4cc99ada-386f-467b-ad44-07ccaeb9740e",
   "metadata": {},
   "outputs": [
    {
     "name": "stdout",
     "output_type": "stream",
     "text": [
      "Number of event with negative weights : 218306\n"
     ]
    },
    {
     "data": {
      "text/html": [
       "<div>\n",
       "<style scoped>\n",
       "    .dataframe tbody tr th:only-of-type {\n",
       "        vertical-align: middle;\n",
       "    }\n",
       "\n",
       "    .dataframe tbody tr th {\n",
       "        vertical-align: top;\n",
       "    }\n",
       "\n",
       "    .dataframe thead th {\n",
       "        text-align: right;\n",
       "    }\n",
       "</style>\n",
       "<table border=\"1\" class=\"dataframe\">\n",
       "  <thead>\n",
       "    <tr style=\"text-align: right;\">\n",
       "      <th></th>\n",
       "      <th>dphi_met_phterm</th>\n",
       "      <th>metsig</th>\n",
       "      <th>VertexBDTScore</th>\n",
       "      <th>dphi_met_central_jet</th>\n",
       "      <th>dmet</th>\n",
       "      <th>jetterm</th>\n",
       "      <th>balance</th>\n",
       "      <th>weights</th>\n",
       "      <th>label</th>\n",
       "      <th>ph_eta</th>\n",
       "      <th>ph_pt</th>\n",
       "    </tr>\n",
       "  </thead>\n",
       "  <tbody>\n",
       "    <tr>\n",
       "      <th>count</th>\n",
       "      <td>3.299733e+06</td>\n",
       "      <td>3.299733e+06</td>\n",
       "      <td>3.299733e+06</td>\n",
       "      <td>2.685312e+06</td>\n",
       "      <td>3.299732e+06</td>\n",
       "      <td>3.299733e+06</td>\n",
       "      <td>2.712769e+06</td>\n",
       "      <td>3.299733e+06</td>\n",
       "      <td>3.299733e+06</td>\n",
       "      <td>3.299733e+06</td>\n",
       "      <td>3.299733e+06</td>\n",
       "    </tr>\n",
       "    <tr>\n",
       "      <th>mean</th>\n",
       "      <td>4.027364e-01</td>\n",
       "      <td>1.190690e+01</td>\n",
       "      <td>1.251438e-01</td>\n",
       "      <td>1.404322e+00</td>\n",
       "      <td>-1.663472e+03</td>\n",
       "      <td>5.232991e+05</td>\n",
       "      <td>3.838187e+00</td>\n",
       "      <td>6.196378e-01</td>\n",
       "      <td>1.390112e-03</td>\n",
       "      <td>4.619389e+00</td>\n",
       "      <td>5.638744e-06</td>\n",
       "    </tr>\n",
       "    <tr>\n",
       "      <th>std</th>\n",
       "      <td>6.314438e-01</td>\n",
       "      <td>1.038910e+01</td>\n",
       "      <td>1.348625e-01</td>\n",
       "      <td>1.176454e+00</td>\n",
       "      <td>1.103691e+04</td>\n",
       "      <td>7.927709e+05</td>\n",
       "      <td>6.130255e+00</td>\n",
       "      <td>7.645627e+00</td>\n",
       "      <td>3.725829e-02</td>\n",
       "      <td>4.657088e+02</td>\n",
       "      <td>4.934680e-06</td>\n",
       "    </tr>\n",
       "    <tr>\n",
       "      <th>min</th>\n",
       "      <td>0.000000e+00</td>\n",
       "      <td>2.269695e-01</td>\n",
       "      <td>-3.265468e-01</td>\n",
       "      <td>1.192093e-07</td>\n",
       "      <td>-1.712589e+05</td>\n",
       "      <td>0.000000e+00</td>\n",
       "      <td>3.173358e-02</td>\n",
       "      <td>0.000000e+00</td>\n",
       "      <td>0.000000e+00</td>\n",
       "      <td>3.966429e-01</td>\n",
       "      <td>1.995369e-07</td>\n",
       "    </tr>\n",
       "    <tr>\n",
       "      <th>25%</th>\n",
       "      <td>5.094965e-02</td>\n",
       "      <td>3.802686e+00</td>\n",
       "      <td>8.068899e-03</td>\n",
       "      <td>1.804473e-01</td>\n",
       "      <td>0.000000e+00</td>\n",
       "      <td>3.469025e+04</td>\n",
       "      <td>1.127429e+00</td>\n",
       "      <td>1.428430e-03</td>\n",
       "      <td>0.000000e+00</td>\n",
       "      <td>7.511125e-01</td>\n",
       "      <td>1.213521e-06</td>\n",
       "    </tr>\n",
       "    <tr>\n",
       "      <th>50%</th>\n",
       "      <td>1.503438e-01</td>\n",
       "      <td>1.024574e+01</td>\n",
       "      <td>1.647640e-01</td>\n",
       "      <td>1.257375e+00</td>\n",
       "      <td>0.000000e+00</td>\n",
       "      <td>1.292316e+05</td>\n",
       "      <td>1.535997e+00</td>\n",
       "      <td>1.519263e-02</td>\n",
       "      <td>0.000000e+00</td>\n",
       "      <td>1.271312e+00</td>\n",
       "      <td>4.487454e-06</td>\n",
       "    </tr>\n",
       "    <tr>\n",
       "      <th>75%</th>\n",
       "      <td>4.133940e-01</td>\n",
       "      <td>1.590387e+01</td>\n",
       "      <td>2.371679e-01</td>\n",
       "      <td>2.651747e+00</td>\n",
       "      <td>0.000000e+00</td>\n",
       "      <td>6.824688e+05</td>\n",
       "      <td>3.771265e+00</td>\n",
       "      <td>6.219316e-02</td>\n",
       "      <td>0.000000e+00</td>\n",
       "      <td>2.644231e+00</td>\n",
       "      <td>8.563076e-06</td>\n",
       "    </tr>\n",
       "    <tr>\n",
       "      <th>max</th>\n",
       "      <td>3.141593e+00</td>\n",
       "      <td>2.823775e+02</td>\n",
       "      <td>4.375860e-01</td>\n",
       "      <td>3.141592e+00</td>\n",
       "      <td>1.246841e+05</td>\n",
       "      <td>5.019984e+06</td>\n",
       "      <td>2.663229e+02</td>\n",
       "      <td>1.221239e+04</td>\n",
       "      <td>1.000000e+00</td>\n",
       "      <td>8.314374e+05</td>\n",
       "      <td>1.999992e-05</td>\n",
       "    </tr>\n",
       "  </tbody>\n",
       "</table>\n",
       "</div>"
      ],
      "text/plain": [
       "       dphi_met_phterm        metsig  VertexBDTScore  dphi_met_central_jet  \\\n",
       "count     3.299733e+06  3.299733e+06    3.299733e+06          2.685312e+06   \n",
       "mean      4.027364e-01  1.190690e+01    1.251438e-01          1.404322e+00   \n",
       "std       6.314438e-01  1.038910e+01    1.348625e-01          1.176454e+00   \n",
       "min       0.000000e+00  2.269695e-01   -3.265468e-01          1.192093e-07   \n",
       "25%       5.094965e-02  3.802686e+00    8.068899e-03          1.804473e-01   \n",
       "50%       1.503438e-01  1.024574e+01    1.647640e-01          1.257375e+00   \n",
       "75%       4.133940e-01  1.590387e+01    2.371679e-01          2.651747e+00   \n",
       "max       3.141593e+00  2.823775e+02    4.375860e-01          3.141592e+00   \n",
       "\n",
       "               dmet       jetterm       balance       weights         label  \\\n",
       "count  3.299732e+06  3.299733e+06  2.712769e+06  3.299733e+06  3.299733e+06   \n",
       "mean  -1.663472e+03  5.232991e+05  3.838187e+00  6.196378e-01  1.390112e-03   \n",
       "std    1.103691e+04  7.927709e+05  6.130255e+00  7.645627e+00  3.725829e-02   \n",
       "min   -1.712589e+05  0.000000e+00  3.173358e-02  0.000000e+00  0.000000e+00   \n",
       "25%    0.000000e+00  3.469025e+04  1.127429e+00  1.428430e-03  0.000000e+00   \n",
       "50%    0.000000e+00  1.292316e+05  1.535997e+00  1.519263e-02  0.000000e+00   \n",
       "75%    0.000000e+00  6.824688e+05  3.771265e+00  6.219316e-02  0.000000e+00   \n",
       "max    1.246841e+05  5.019984e+06  2.663229e+02  1.221239e+04  1.000000e+00   \n",
       "\n",
       "             ph_eta         ph_pt  \n",
       "count  3.299733e+06  3.299733e+06  \n",
       "mean   4.619389e+00  5.638744e-06  \n",
       "std    4.657088e+02  4.934680e-06  \n",
       "min    3.966429e-01  1.995369e-07  \n",
       "25%    7.511125e-01  1.213521e-06  \n",
       "50%    1.271312e+00  4.487454e-06  \n",
       "75%    2.644231e+00  8.563076e-06  \n",
       "max    8.314374e+05  1.999992e-05  "
      ]
     },
     "metadata": {},
     "output_type": "display_data"
    },
    {
     "name": "stdout",
     "output_type": "stream",
     "text": [
      "Number of nan in each variable: \n",
      "dphi_met_phterm              0\n",
      "metsig                       0\n",
      "VertexBDTScore               0\n",
      "dphi_met_central_jet    614421\n",
      "dmet                         1\n",
      "jetterm                      0\n",
      "balance                 586964\n",
      "weights                      0\n",
      "label                        0\n",
      "process                      0\n",
      "ph_eta                       0\n",
      "ph_pt                        0\n",
      "dtype: int64\n",
      "random number:  32\n"
     ]
    }
   ],
   "source": [
    "# === Data Perparation ===\n",
    "df_Vars2 = df[Vars2].copy()\n",
    "df_Vars3 = df[Vars3].copy()\n",
    "\n",
    "df_Vars3.replace(-999, np.nan, inplace=True)\n",
    "df_Vars3_inverted = 1 / df_Vars3.replace({0: np.nan})  # Avoid division by zero\n",
    "\n",
    "df_ml_input = pd.concat([df_Vars2, df_Vars3_inverted], axis=1)\n",
    "df_ml_input.replace(-999, np.nan, inplace=True)\n",
    "print(\"Number of event with negative weights :\", np.sum(df_ml_input.weights < 0))\n",
    "df_ml_input[\"weights\"] = df_ml_input[\"weights\"].abs() # some of the weights are negative\n",
    "\n",
    "display(df_ml_input.describe())\n",
    "\n",
    "print(\"Number of nan in each variable: \")\n",
    "print(df_ml_input.isna().sum())\n",
    "\n",
    "# Define X (features) and y (labels)\n",
    "# Vars_drop = ['weights', 'label', 'process']\n",
    "X = df_ml_input.drop(Vars_drop, axis=1)\n",
    "y = df_ml_input['label']\n",
    "weights = df_ml_input['weights']\n",
    "\n",
    "random_num = random.randint(1, 100)\n",
    "print(\"random number: \", random_num)\n",
    "\n",
    "X_train, X_test, y_train, y_test, sw_train, sw_test = train_test_split(\n",
    "    X, y, weights, test_size=0.3, random_state=random_num, stratify=y)"
   ]
  },
  {
   "cell_type": "code",
   "execution_count": 5,
   "id": "a5a47188-25d3-4920-8183-43cd3bbffcb3",
   "metadata": {},
   "outputs": [
    {
     "data": {
      "image/png": "[encoded data removed]",
      "text/plain": [
       "<Figure size 1200x1000 with 2 Axes>"
      ]
     },
     "metadata": {},
     "output_type": "display_data"
    }
   ],
   "source": [
    "corr_features = df_ml_input.drop(Vars_drop, axis=1)\n",
    "corr_matrix = corr_features.corr()\n",
    "\n",
    "# Plot correlation heatmap\n",
    "plt.figure(figsize=(12, 10))\n",
    "sns.heatmap(corr_matrix, annot=True, fmt='.2f', cmap='coolwarm', center=0, \n",
    "            square=True, linewidths=0.5, cbar_kws={\"shrink\": 0.8})\n",
    "plt.title(\"Correlation Matrix of Input Variables\")\n",
    "plt.tight_layout()\n",
    "plt.savefig(\"correlation_matrix.png\")\n",
    "plt.show()\n"
   ]
  },
  {
   "cell_type": "code",
   "execution_count": 5,
   "id": "f05165b3-a58a-4e1d-9145-e61a1b1f18cc",
   "metadata": {},
   "outputs": [],
   "source": [
    "# === Sweep Config ===\n",
    "sweep_config = {\n",
    "    \"method\": \"random\", # \"bayes\" or \"random\"\n",
    "    \"metric\": {\"name\": \"Test ROC AUC\", \"goal\": \"maximize\"},\n",
    "    \"parameters\": {\n",
    "        \"max_depth\": {\"min\": 3, \"max\": 10, \"distribution\": \"int_uniform\"},\n",
    "        \"learning_rate\": {\"min\": 0.0001, \"max\": 0.1},\n",
    "        \"n_estimators\": {\"min\": 100, \"max\": 900, \"distribution\": \"int_uniform\"},\n",
    "        \"subsample\": {\"min\": 0.2, \"max\": 0.8},\n",
    "        \"gamma\": {\"min\": 0.1, \"max\": 1.0}\n",
    "    }\n",
    "}\n",
    "def compute_significance(df, score_column=\"bdtscore\", cut=0.01):\n",
    "    sig = df[(df[\"label\"] == 1) & (df[score_column] >= cut)][\"weights\"].sum()\n",
    "    bkg = df[(df[\"label\"] == 0) & (df[score_column] >= cut)][\"weights\"].sum()\n",
    "    return sig / np.sqrt(bkg) if bkg > 0 else 0, sig/df[(df[\"label\"] == 1)][\"weights\"].sum()\n",
    "\n",
    "def sweep_train():\n",
    "    with wandb.init() as run:\n",
    "        config = run.config\n",
    "\n",
    "        model = XGBClassifier(\n",
    "            tree_method='hist',\n",
    "            device='cuda',\n",
    "            max_depth=config.max_depth,\n",
    "            learning_rate=config.learning_rate,\n",
    "            n_estimators=config.n_estimators,\n",
    "            subsample=config.subsample,\n",
    "            gamma=config.gamma,\n",
    "            early_stopping_rounds=10,\n",
    "            eval_metric=['logloss', 'error', 'auc'],\n",
    "            missing=np.nan,\n",
    "            random_state=random_num\n",
    "        )\n",
    "\n",
    "        model.fit(\n",
    "            X_train, y_train,\n",
    "            sample_weight=sw_train,\n",
    "            eval_set=[(X_train, y_train), (X_test, y_test)],\n",
    "            sample_weight_eval_set=[sw_train, sw_test],\n",
    "            verbose=False\n",
    "        )\n",
    "\n",
    "        y_test_pred = model.predict_proba(X_test.to_numpy())[:, 1]\n",
    "        test_auc = roc_auc_score(y_test, y_test_pred, sample_weight=sw_test)\n",
    "\n",
    "        df_tmp = df_ml_input.copy()\n",
    "        df_tmp[\"bdtscore2\"] = model.predict_proba(df_ml_input.drop(Vars_drop, axis=1))[:, 1]\n",
    "\n",
    "        best_significance = 0\n",
    "        best_acceptance = 0\n",
    "        best_cut = 0\n",
    "        for cut in np.arange(0, 0.15, 0.01):\n",
    "            sig, acc = compute_significance(df_tmp, score_column=\"bdtscore2\", cut=cut)\n",
    "            if sig > best_significance:\n",
    "                best_significance = sig\n",
    "                best_acceptance = acc\n",
    "                best_cut = cut\n",
    "\n",
    "        wandb.log({\n",
    "            \"Test ROC AUC\": test_auc,\n",
    "            \"Max S/sqrt(B)\": best_significance,\n",
    "            \"Acceptance\": best_acceptance,\n",
    "            \"bdtscore2 cut\": best_cut\n",
    "        })\n",
    "\n",
    "        results = model.evals_result()\n",
    "        train_loss = results['validation_0']['logloss']\n",
    "        test_loss = results['validation_1']['logloss']\n",
    "\n",
    "        for i, (train_l, test_l) in enumerate(zip(train_loss, test_loss)):\n",
    "            wandb.log({\n",
    "                \"train_logloss\": train_l,\n",
    "                \"test_logloss\": test_l,\n",
    "                \"iteration\": i\n",
    "            })"
   ]
  },
  {
   "cell_type": "code",
   "execution_count": 6,
   "id": "fa7625f7-0330-45e2-9195-ad3caeca1a3c",
   "metadata": {
    "scrolled": true
   },
   "outputs": [
    {
     "name": "stdout",
     "output_type": "stream",
     "text": [
      "Create sweep with ID: woe18qc0\n",
      "Sweep URL: https://wandb.ai/dlai211/Dark_ph_BDT_Sweep_Reduced/sweeps/woe18qc0\n"
     ]
    },
    {
     "name": "stderr",
     "output_type": "stream",
     "text": [
      "\u001b[34m\u001b[1mwandb\u001b[0m: Agent Starting Run: 8uob1mnu with config:\n",
      "\u001b[34m\u001b[1mwandb\u001b[0m: \tgamma: 0.5516550258106904\n",
      "\u001b[34m\u001b[1mwandb\u001b[0m: \tlearning_rate: 0.09759831378454108\n",
      "\u001b[34m\u001b[1mwandb\u001b[0m: \tmax_depth: 5\n",
      "\u001b[34m\u001b[1mwandb\u001b[0m: \tn_estimators: 767\n",
      "\u001b[34m\u001b[1mwandb\u001b[0m: \tsubsample: 0.4678014418413931\n",
      "\u001b[34m\u001b[1mwandb\u001b[0m: Currently logged in as: \u001b[33mdlai211\u001b[0m to \u001b[32mhttps://api.wandb.ai\u001b[0m. Use \u001b[1m`wandb login --relogin`\u001b[0m to force relogin\n"
     ]
    },
    {
     "data": {
      "text/html": [
       "Tracking run with wandb version 0.21.0"
      ],
      "text/plain": [
       "<IPython.core.display.HTML object>"
      ]
     },
     "metadata": {},
     "output_type": "display_data"
    },
    {
     "data": {
      "text/html": [
       "Run data is saved locally in <code>/home/jlai/ML/jet_faking/wandb/run-20250819_174623-8uob1mnu</code>"
      ],
      "text/plain": [
       "<IPython.core.display.HTML object>"
      ]
     },
     "metadata": {},
     "output_type": "display_data"
    },
    {
     "data": {
      "text/html": [
       "Syncing run <strong><a href='https://wandb.ai/dlai211/Dark_ph_BDT_Sweep_Reduced/runs/8uob1mnu' target=\"_blank\">resilient-sweep-1</a></strong> to <a href='https://wandb.ai/dlai211/Dark_ph_BDT_Sweep_Reduced' target=\"_blank\">Weights & Biases</a> (<a href='https://wandb.me/developer-guide' target=\"_blank\">docs</a>)<br>Sweep page: <a href='https://wandb.ai/dlai211/Dark_ph_BDT_Sweep_Reduced/sweeps/woe18qc0' target=\"_blank\">https://wandb.ai/dlai211/Dark_ph_BDT_Sweep_Reduced/sweeps/woe18qc0</a>"
      ],
      "text/plain": [
       "<IPython.core.display.HTML object>"
      ]
     },
     "metadata": {},
     "output_type": "display_data"
    },
    {
     "data": {
      "text/html": [
       " View project at <a href='https://wandb.ai/dlai211/Dark_ph_BDT_Sweep_Reduced' target=\"_blank\">https://wandb.ai/dlai211/Dark_ph_BDT_Sweep_Reduced</a>"
      ],
      "text/plain": [
       "<IPython.core.display.HTML object>"
      ]
     },
     "metadata": {},
     "output_type": "display_data"
    },
    {
     "data": {
      "text/html": [
       " View sweep at <a href='https://wandb.ai/dlai211/Dark_ph_BDT_Sweep_Reduced/sweeps/woe18qc0' target=\"_blank\">https://wandb.ai/dlai211/Dark_ph_BDT_Sweep_Reduced/sweeps/woe18qc0</a>"
      ],
      "text/plain": [
       "<IPython.core.display.HTML object>"
      ]
     },
     "metadata": {},
     "output_type": "display_data"
    },
    {
     "data": {
      "text/html": [
       " View run at <a href='https://wandb.ai/dlai211/Dark_ph_BDT_Sweep_Reduced/runs/8uob1mnu' target=\"_blank\">https://wandb.ai/dlai211/Dark_ph_BDT_Sweep_Reduced/runs/8uob1mnu</a>"
      ],
      "text/plain": [
       "<IPython.core.display.HTML object>"
      ]
     },
     "metadata": {},
     "output_type": "display_data"
    },
    {
     "name": "stderr",
     "output_type": "stream",
     "text": [
      "[17:46:25] WARNING: /workspace/src/common/error_msg.cc:58: Falling back to prediction using DMatrix due to mismatched devices. This might lead to higher memory usage and slower performance. XGBoost is running on: cuda:0, while the input data is on: cpu.\n",
      "Potential solutions:\n",
      "- Use a data structure that matches the device ordinal in the booster.\n",
      "- Set the device for booster before call to inplace_predict.\n",
      "\n",
      "This warning will only be shown once.\n",
      "\n"
     ]
    },
    {
     "data": {
      "text/html": [],
      "text/plain": [
       "<IPython.core.display.HTML object>"
      ]
     },
     "metadata": {},
     "output_type": "display_data"
    },
    {
     "data": {
      "text/html": [
       "<br>    <style><br>        .wandb-row {<br>            display: flex;<br>            flex-direction: row;<br>            flex-wrap: wrap;<br>            justify-content: flex-start;<br>            width: 100%;<br>        }<br>        .wandb-col {<br>            display: flex;<br>            flex-direction: column;<br>            flex-basis: 100%;<br>            flex: 1;<br>            padding: 10px;<br>        }<br>    </style><br><div class=\"wandb-row\"><div class=\"wandb-col\"><h3>Run history:</h3><br/><table class=\"wandb\"><tr><td>Acceptance</td><td>▁</td></tr><tr><td>Max S/sqrt(B)</td><td>▁</td></tr><tr><td>Test ROC AUC</td><td>▁</td></tr><tr><td>bdtscore2 cut</td><td>▁</td></tr><tr><td>iteration</td><td>▁▁▁▁▁▂▂▂▂▂▂▂▂▃▃▃▃▃▃▃▄▄▄▄▅▅▅▅▅▅▆▆▆▇▇▇▇███</td></tr><tr><td>test_logloss</td><td>█▇▆▄▃▂▂▂▂▂▂▁▁▁▁▁▁▁▁▁▁▁▁▁▁▁▁▁▁▁▁▁▁▁▁▁▁▁▁▁</td></tr><tr><td>train_logloss</td><td>█▇▆▆▅▄▄▄▃▃▂▂▂▂▂▁▁▁▁▁▁▁▁▁▁▁▁▁▁▁▁▁▁▁▁▁▁▁▁▁</td></tr></table><br/></div><div class=\"wandb-col\"><h3>Run summary:</h3><br/><table class=\"wandb\"><tr><td>Acceptance</td><td>0.64163</td></tr><tr><td>Max S/sqrt(B)</td><td>2.28058</td></tr><tr><td>Test ROC AUC</td><td>0.86693</td></tr><tr><td>bdtscore2 cut</td><td>0.03</td></tr><tr><td>iteration</td><td>96</td></tr><tr><td>test_logloss</td><td>0.04796</td></tr><tr><td>train_logloss</td><td>0.04269</td></tr></table><br/></div></div>"
      ],
      "text/plain": [
       "<IPython.core.display.HTML object>"
      ]
     },
     "metadata": {},
     "output_type": "display_data"
    },
    {
     "data": {
      "text/html": [
       " View run <strong style=\"color:#cdcd00\">resilient-sweep-1</strong> at: <a href='https://wandb.ai/dlai211/Dark_ph_BDT_Sweep_Reduced/runs/8uob1mnu' target=\"_blank\">https://wandb.ai/dlai211/Dark_ph_BDT_Sweep_Reduced/runs/8uob1mnu</a><br> View project at: <a href='https://wandb.ai/dlai211/Dark_ph_BDT_Sweep_Reduced' target=\"_blank\">https://wandb.ai/dlai211/Dark_ph_BDT_Sweep_Reduced</a><br>Synced 5 W&B file(s), 0 media file(s), 0 artifact file(s) and 0 other file(s)"
      ],
      "text/plain": [
       "<IPython.core.display.HTML object>"
      ]
     },
     "metadata": {},
     "output_type": "display_data"
    },
    {
     "data": {
      "text/html": [
       "Find logs at: <code>./wandb/run-20250819_174623-8uob1mnu/logs</code>"
      ],
      "text/plain": [
       "<IPython.core.display.HTML object>"
      ]
     },
     "metadata": {},
     "output_type": "display_data"
    },
    {
     "name": "stderr",
     "output_type": "stream",
     "text": [
      "\u001b[34m\u001b[1mwandb\u001b[0m: Agent Starting Run: rb4honvq with config:\n",
      "\u001b[34m\u001b[1mwandb\u001b[0m: \tgamma: 0.6047576141602546\n",
      "\u001b[34m\u001b[1mwandb\u001b[0m: \tlearning_rate: 0.012512516883774557\n",
      "\u001b[34m\u001b[1mwandb\u001b[0m: \tmax_depth: 8\n",
      "\u001b[34m\u001b[1mwandb\u001b[0m: \tn_estimators: 760\n",
      "\u001b[34m\u001b[1mwandb\u001b[0m: \tsubsample: 0.6753332272614427\n"
     ]
    },
    {
     "data": {
      "text/html": [
       "Tracking run with wandb version 0.21.0"
      ],
      "text/plain": [
       "<IPython.core.display.HTML object>"
      ]
     },
     "metadata": {},
     "output_type": "display_data"
    },
    {
     "data": {
      "text/html": [
       "Run data is saved locally in <code>/home/jlai/ML/jet_faking/wandb/run-20250819_174628-rb4honvq</code>"
      ],
      "text/plain": [
       "<IPython.core.display.HTML object>"
      ]
     },
     "metadata": {},
     "output_type": "display_data"
    },
    {
     "data": {
      "text/html": [
       "Syncing run <strong><a href='https://wandb.ai/dlai211/Dark_ph_BDT_Sweep_Reduced/runs/rb4honvq' target=\"_blank\">valiant-sweep-2</a></strong> to <a href='https://wandb.ai/dlai211/Dark_ph_BDT_Sweep_Reduced' target=\"_blank\">Weights & Biases</a> (<a href='https://wandb.me/developer-guide' target=\"_blank\">docs</a>)<br>Sweep page: <a href='https://wandb.ai/dlai211/Dark_ph_BDT_Sweep_Reduced/sweeps/woe18qc0' target=\"_blank\">https://wandb.ai/dlai211/Dark_ph_BDT_Sweep_Reduced/sweeps/woe18qc0</a>"
      ],
      "text/plain": [
       "<IPython.core.display.HTML object>"
      ]
     },
     "metadata": {},
     "output_type": "display_data"
    },
    {
     "data": {
      "text/html": [
       " View project at <a href='https://wandb.ai/dlai211/Dark_ph_BDT_Sweep_Reduced' target=\"_blank\">https://wandb.ai/dlai211/Dark_ph_BDT_Sweep_Reduced</a>"
      ],
      "text/plain": [
       "<IPython.core.display.HTML object>"
      ]
     },
     "metadata": {},
     "output_type": "display_data"
    },
    {
     "data": {
      "text/html": [
       " View sweep at <a href='https://wandb.ai/dlai211/Dark_ph_BDT_Sweep_Reduced/sweeps/woe18qc0' target=\"_blank\">https://wandb.ai/dlai211/Dark_ph_BDT_Sweep_Reduced/sweeps/woe18qc0</a>"
      ],
      "text/plain": [
       "<IPython.core.display.HTML object>"
      ]
     },
     "metadata": {},
     "output_type": "display_data"
    },
    {
     "data": {
      "text/html": [
       " View run at <a href='https://wandb.ai/dlai211/Dark_ph_BDT_Sweep_Reduced/runs/rb4honvq' target=\"_blank\">https://wandb.ai/dlai211/Dark_ph_BDT_Sweep_Reduced/runs/rb4honvq</a>"
      ],
      "text/plain": [
       "<IPython.core.display.HTML object>"
      ]
     },
     "metadata": {},
     "output_type": "display_data"
    },
    {
     "data": {
      "text/html": [],
      "text/plain": [
       "<IPython.core.display.HTML object>"
      ]
     },
     "metadata": {},
     "output_type": "display_data"
    },
    {
     "data": {
      "text/html": [
       "<br>    <style><br>        .wandb-row {<br>            display: flex;<br>            flex-direction: row;<br>            flex-wrap: wrap;<br>            justify-content: flex-start;<br>            width: 100%;<br>        }<br>        .wandb-col {<br>            display: flex;<br>            flex-direction: column;<br>            flex-basis: 100%;<br>            flex: 1;<br>            padding: 10px;<br>        }<br>    </style><br><div class=\"wandb-row\"><div class=\"wandb-col\"><h3>Run history:</h3><br/><table class=\"wandb\"><tr><td>Acceptance</td><td>▁</td></tr><tr><td>Max S/sqrt(B)</td><td>▁</td></tr><tr><td>Test ROC AUC</td><td>▁</td></tr><tr><td>bdtscore2 cut</td><td>▁</td></tr><tr><td>iteration</td><td>▁▁▁▁▁▂▂▂▂▂▃▃▃▃▃▄▄▄▄▅▅▅▅▅▅▆▆▆▆▇▇▇▇▇▇▇████</td></tr><tr><td>test_logloss</td><td>█▇▇▆▅▅▅▅▄▄▃▃▃▃▃▃▂▂▂▂▂▂▂▂▂▁▁▁▁▁▁▁▁▁▁▁▁▁▁▁</td></tr><tr><td>train_logloss</td><td>██▇▇▇▆▆▆▅▅▅▅▄▄▄▄▃▃▃▃▃▃▃▃▂▂▂▂▁▁▁▁▁▁▁▁▁▁▁▁</td></tr></table><br/></div><div class=\"wandb-col\"><h3>Run summary:</h3><br/><table class=\"wandb\"><tr><td>Acceptance</td><td>0.66764</td></tr><tr><td>Max S/sqrt(B)</td><td>2.1537</td></tr><tr><td>Test ROC AUC</td><td>0.86002</td></tr><tr><td>bdtscore2 cut</td><td>0.03</td></tr><tr><td>iteration</td><td>246</td></tr><tr><td>test_logloss</td><td>0.0518</td></tr><tr><td>train_logloss</td><td>0.04822</td></tr></table><br/></div></div>"
      ],
      "text/plain": [
       "<IPython.core.display.HTML object>"
      ]
     },
     "metadata": {},
     "output_type": "display_data"
    },
    {
     "data": {
      "text/html": [
       " View run <strong style=\"color:#cdcd00\">valiant-sweep-2</strong> at: <a href='https://wandb.ai/dlai211/Dark_ph_BDT_Sweep_Reduced/runs/rb4honvq' target=\"_blank\">https://wandb.ai/dlai211/Dark_ph_BDT_Sweep_Reduced/runs/rb4honvq</a><br> View project at: <a href='https://wandb.ai/dlai211/Dark_ph_BDT_Sweep_Reduced' target=\"_blank\">https://wandb.ai/dlai211/Dark_ph_BDT_Sweep_Reduced</a><br>Synced 5 W&B file(s), 0 media file(s), 0 artifact file(s) and 0 other file(s)"
      ],
      "text/plain": [
       "<IPython.core.display.HTML object>"
      ]
     },
     "metadata": {},
     "output_type": "display_data"
    },
    {
     "data": {
      "text/html": [
       "Find logs at: <code>./wandb/run-20250819_174628-rb4honvq/logs</code>"
      ],
      "text/plain": [
       "<IPython.core.display.HTML object>"
      ]
     },
     "metadata": {},
     "output_type": "display_data"
    },
    {
     "name": "stderr",
     "output_type": "stream",
     "text": [
      "\u001b[34m\u001b[1mwandb\u001b[0m: Agent Starting Run: q0nq1y5i with config:\n",
      "\u001b[34m\u001b[1mwandb\u001b[0m: \tgamma: 0.44842854429917256\n",
      "\u001b[34m\u001b[1mwandb\u001b[0m: \tlearning_rate: 0.06104563476441883\n",
      "\u001b[34m\u001b[1mwandb\u001b[0m: \tmax_depth: 8\n",
      "\u001b[34m\u001b[1mwandb\u001b[0m: \tn_estimators: 669\n",
      "\u001b[34m\u001b[1mwandb\u001b[0m: \tsubsample: 0.3655242048689097\n"
     ]
    },
    {
     "data": {
      "text/html": [
       "Tracking run with wandb version 0.21.0"
      ],
      "text/plain": [
       "<IPython.core.display.HTML object>"
      ]
     },
     "metadata": {},
     "output_type": "display_data"
    },
    {
     "data": {
      "text/html": [
       "Run data is saved locally in <code>/home/jlai/ML/jet_faking/wandb/run-20250819_174634-q0nq1y5i</code>"
      ],
      "text/plain": [
       "<IPython.core.display.HTML object>"
      ]
     },
     "metadata": {},
     "output_type": "display_data"
    },
    {
     "data": {
      "text/html": [
       "Syncing run <strong><a href='https://wandb.ai/dlai211/Dark_ph_BDT_Sweep_Reduced/runs/q0nq1y5i' target=\"_blank\">peach-sweep-3</a></strong> to <a href='https://wandb.ai/dlai211/Dark_ph_BDT_Sweep_Reduced' target=\"_blank\">Weights & Biases</a> (<a href='https://wandb.me/developer-guide' target=\"_blank\">docs</a>)<br>Sweep page: <a href='https://wandb.ai/dlai211/Dark_ph_BDT_Sweep_Reduced/sweeps/woe18qc0' target=\"_blank\">https://wandb.ai/dlai211/Dark_ph_BDT_Sweep_Reduced/sweeps/woe18qc0</a>"
      ],
      "text/plain": [
       "<IPython.core.display.HTML object>"
      ]
     },
     "metadata": {},
     "output_type": "display_data"
    },
    {
     "data": {
      "text/html": [
       " View project at <a href='https://wandb.ai/dlai211/Dark_ph_BDT_Sweep_Reduced' target=\"_blank\">https://wandb.ai/dlai211/Dark_ph_BDT_Sweep_Reduced</a>"
      ],
      "text/plain": [
       "<IPython.core.display.HTML object>"
      ]
     },
     "metadata": {},
     "output_type": "display_data"
    },
    {
     "data": {
      "text/html": [
       " View sweep at <a href='https://wandb.ai/dlai211/Dark_ph_BDT_Sweep_Reduced/sweeps/woe18qc0' target=\"_blank\">https://wandb.ai/dlai211/Dark_ph_BDT_Sweep_Reduced/sweeps/woe18qc0</a>"
      ],
      "text/plain": [
       "<IPython.core.display.HTML object>"
      ]
     },
     "metadata": {},
     "output_type": "display_data"
    },
    {
     "data": {
      "text/html": [
       " View run at <a href='https://wandb.ai/dlai211/Dark_ph_BDT_Sweep_Reduced/runs/q0nq1y5i' target=\"_blank\">https://wandb.ai/dlai211/Dark_ph_BDT_Sweep_Reduced/runs/q0nq1y5i</a>"
      ],
      "text/plain": [
       "<IPython.core.display.HTML object>"
      ]
     },
     "metadata": {},
     "output_type": "display_data"
    },
    {
     "data": {
      "text/html": [],
      "text/plain": [
       "<IPython.core.display.HTML object>"
      ]
     },
     "metadata": {},
     "output_type": "display_data"
    },
    {
     "data": {
      "text/html": [
       "<br>    <style><br>        .wandb-row {<br>            display: flex;<br>            flex-direction: row;<br>            flex-wrap: wrap;<br>            justify-content: flex-start;<br>            width: 100%;<br>        }<br>        .wandb-col {<br>            display: flex;<br>            flex-direction: column;<br>            flex-basis: 100%;<br>            flex: 1;<br>            padding: 10px;<br>        }<br>    </style><br><div class=\"wandb-row\"><div class=\"wandb-col\"><h3>Run history:</h3><br/><table class=\"wandb\"><tr><td>Acceptance</td><td>▁</td></tr><tr><td>Max S/sqrt(B)</td><td>▁</td></tr><tr><td>Test ROC AUC</td><td>▁</td></tr><tr><td>bdtscore2 cut</td><td>▁</td></tr><tr><td>iteration</td><td>▁▁▁▁▁▂▂▂▂▂▃▃▃▃▃▃▃▄▄▄▄▅▅▅▅▅▆▆▆▆▆▆▇▇▇▇▇▇██</td></tr><tr><td>test_logloss</td><td>██▇▇▆▅▅▅▄▄▃▃▃▃▂▂▂▂▂▂▂▂▁▁▁▁▁▁▁▁▁▁▁▁▁▁▁▁▁▁</td></tr><tr><td>train_logloss</td><td>██▇▆▅▄▄▄▃▃▃▃▃▂▂▂▂▂▂▂▂▂▁▁▁▁▁▁▁▁▁▁▁▁▁▁▁▁▁▁</td></tr></table><br/></div><div class=\"wandb-col\"><h3>Run summary:</h3><br/><table class=\"wandb\"><tr><td>Acceptance</td><td>0.63026</td></tr><tr><td>Max S/sqrt(B)</td><td>2.13987</td></tr><tr><td>Test ROC AUC</td><td>0.86168</td></tr><tr><td>bdtscore2 cut</td><td>0.03</td></tr><tr><td>iteration</td><td>72</td></tr><tr><td>test_logloss</td><td>0.04913</td></tr><tr><td>train_logloss</td><td>0.04527</td></tr></table><br/></div></div>"
      ],
      "text/plain": [
       "<IPython.core.display.HTML object>"
      ]
     },
     "metadata": {},
     "output_type": "display_data"
    },
    {
     "data": {
      "text/html": [
       " View run <strong style=\"color:#cdcd00\">peach-sweep-3</strong> at: <a href='https://wandb.ai/dlai211/Dark_ph_BDT_Sweep_Reduced/runs/q0nq1y5i' target=\"_blank\">https://wandb.ai/dlai211/Dark_ph_BDT_Sweep_Reduced/runs/q0nq1y5i</a><br> View project at: <a href='https://wandb.ai/dlai211/Dark_ph_BDT_Sweep_Reduced' target=\"_blank\">https://wandb.ai/dlai211/Dark_ph_BDT_Sweep_Reduced</a><br>Synced 5 W&B file(s), 0 media file(s), 0 artifact file(s) and 0 other file(s)"
      ],
      "text/plain": [
       "<IPython.core.display.HTML object>"
      ]
     },
     "metadata": {},
     "output_type": "display_data"
    },
    {
     "data": {
      "text/html": [
       "Find logs at: <code>./wandb/run-20250819_174634-q0nq1y5i/logs</code>"
      ],
      "text/plain": [
       "<IPython.core.display.HTML object>"
      ]
     },
     "metadata": {},
     "output_type": "display_data"
    },
    {
     "name": "stderr",
     "output_type": "stream",
     "text": [
      "\u001b[34m\u001b[1mwandb\u001b[0m: Agent Starting Run: 2ozk2o98 with config:\n",
      "\u001b[34m\u001b[1mwandb\u001b[0m: \tgamma: 0.2722526787098477\n",
      "\u001b[34m\u001b[1mwandb\u001b[0m: \tlearning_rate: 0.08030108498868223\n",
      "\u001b[34m\u001b[1mwandb\u001b[0m: \tmax_depth: 6\n",
      "\u001b[34m\u001b[1mwandb\u001b[0m: \tn_estimators: 709\n",
      "\u001b[34m\u001b[1mwandb\u001b[0m: \tsubsample: 0.559984880467703\n"
     ]
    },
    {
     "data": {
      "text/html": [
       "Tracking run with wandb version 0.21.0"
      ],
      "text/plain": [
       "<IPython.core.display.HTML object>"
      ]
     },
     "metadata": {},
     "output_type": "display_data"
    },
    {
     "data": {
      "text/html": [
       "Run data is saved locally in <code>/home/jlai/ML/jet_faking/wandb/run-20250819_174639-2ozk2o98</code>"
      ],
      "text/plain": [
       "<IPython.core.display.HTML object>"
      ]
     },
     "metadata": {},
     "output_type": "display_data"
    },
    {
     "data": {
      "text/html": [
       "Syncing run <strong><a href='https://wandb.ai/dlai211/Dark_ph_BDT_Sweep_Reduced/runs/2ozk2o98' target=\"_blank\">playful-sweep-4</a></strong> to <a href='https://wandb.ai/dlai211/Dark_ph_BDT_Sweep_Reduced' target=\"_blank\">Weights & Biases</a> (<a href='https://wandb.me/developer-guide' target=\"_blank\">docs</a>)<br>Sweep page: <a href='https://wandb.ai/dlai211/Dark_ph_BDT_Sweep_Reduced/sweeps/woe18qc0' target=\"_blank\">https://wandb.ai/dlai211/Dark_ph_BDT_Sweep_Reduced/sweeps/woe18qc0</a>"
      ],
      "text/plain": [
       "<IPython.core.display.HTML object>"
      ]
     },
     "metadata": {},
     "output_type": "display_data"
    },
    {
     "data": {
      "text/html": [
       " View project at <a href='https://wandb.ai/dlai211/Dark_ph_BDT_Sweep_Reduced' target=\"_blank\">https://wandb.ai/dlai211/Dark_ph_BDT_Sweep_Reduced</a>"
      ],
      "text/plain": [
       "<IPython.core.display.HTML object>"
      ]
     },
     "metadata": {},
     "output_type": "display_data"
    },
    {
     "data": {
      "text/html": [
       " View sweep at <a href='https://wandb.ai/dlai211/Dark_ph_BDT_Sweep_Reduced/sweeps/woe18qc0' target=\"_blank\">https://wandb.ai/dlai211/Dark_ph_BDT_Sweep_Reduced/sweeps/woe18qc0</a>"
      ],
      "text/plain": [
       "<IPython.core.display.HTML object>"
      ]
     },
     "metadata": {},
     "output_type": "display_data"
    },
    {
     "data": {
      "text/html": [
       " View run at <a href='https://wandb.ai/dlai211/Dark_ph_BDT_Sweep_Reduced/runs/2ozk2o98' target=\"_blank\">https://wandb.ai/dlai211/Dark_ph_BDT_Sweep_Reduced/runs/2ozk2o98</a>"
      ],
      "text/plain": [
       "<IPython.core.display.HTML object>"
      ]
     },
     "metadata": {},
     "output_type": "display_data"
    },
    {
     "data": {
      "text/html": [],
      "text/plain": [
       "<IPython.core.display.HTML object>"
      ]
     },
     "metadata": {},
     "output_type": "display_data"
    },
    {
     "data": {
      "text/html": [
       "<br>    <style><br>        .wandb-row {<br>            display: flex;<br>            flex-direction: row;<br>            flex-wrap: wrap;<br>            justify-content: flex-start;<br>            width: 100%;<br>        }<br>        .wandb-col {<br>            display: flex;<br>            flex-direction: column;<br>            flex-basis: 100%;<br>            flex: 1;<br>            padding: 10px;<br>        }<br>    </style><br><div class=\"wandb-row\"><div class=\"wandb-col\"><h3>Run history:</h3><br/><table class=\"wandb\"><tr><td>Acceptance</td><td>▁</td></tr><tr><td>Max S/sqrt(B)</td><td>▁</td></tr><tr><td>Test ROC AUC</td><td>▁</td></tr><tr><td>bdtscore2 cut</td><td>▁</td></tr><tr><td>iteration</td><td>▁▁▁▁▂▂▂▂▂▂▂▃▃▃▃▃▃▄▄▄▄▅▅▅▅▅▅▅▅▅▆▆▆▇▇▇▇▇██</td></tr><tr><td>test_logloss</td><td>█▇▄▃▃▂▂▂▂▂▁▁▁▁▁▁▁▁▁▁▁▁▁▁▁▁▁▁▁▁▁▁▁▁▁▁▁▁▁▁</td></tr><tr><td>train_logloss</td><td>█▇▆▅▄▄▃▃▃▃▂▂▂▂▂▁▁▁▁▁▁▁▁▁▁▁▁▁▁▁▁▁▁▁▁▁▁▁▁▁</td></tr></table><br/></div><div class=\"wandb-col\"><h3>Run summary:</h3><br/><table class=\"wandb\"><tr><td>Acceptance</td><td>0.34504</td></tr><tr><td>Max S/sqrt(B)</td><td>2.70775</td></tr><tr><td>Test ROC AUC</td><td>0.87916</td></tr><tr><td>bdtscore2 cut</td><td>0.09</td></tr><tr><td>iteration</td><td>126</td></tr><tr><td>test_logloss</td><td>0.04732</td></tr><tr><td>train_logloss</td><td>0.03908</td></tr></table><br/></div></div>"
      ],
      "text/plain": [
       "<IPython.core.display.HTML object>"
      ]
     },
     "metadata": {},
     "output_type": "display_data"
    },
    {
     "data": {
      "text/html": [
       " View run <strong style=\"color:#cdcd00\">playful-sweep-4</strong> at: <a href='https://wandb.ai/dlai211/Dark_ph_BDT_Sweep_Reduced/runs/2ozk2o98' target=\"_blank\">https://wandb.ai/dlai211/Dark_ph_BDT_Sweep_Reduced/runs/2ozk2o98</a><br> View project at: <a href='https://wandb.ai/dlai211/Dark_ph_BDT_Sweep_Reduced' target=\"_blank\">https://wandb.ai/dlai211/Dark_ph_BDT_Sweep_Reduced</a><br>Synced 5 W&B file(s), 0 media file(s), 0 artifact file(s) and 0 other file(s)"
      ],
      "text/plain": [
       "<IPython.core.display.HTML object>"
      ]
     },
     "metadata": {},
     "output_type": "display_data"
    },
    {
     "data": {
      "text/html": [
       "Find logs at: <code>./wandb/run-20250819_174639-2ozk2o98/logs</code>"
      ],
      "text/plain": [
       "<IPython.core.display.HTML object>"
      ]
     },
     "metadata": {},
     "output_type": "display_data"
    },
    {
     "name": "stderr",
     "output_type": "stream",
     "text": [
      "\u001b[34m\u001b[1mwandb\u001b[0m: Agent Starting Run: zx5145gk with config:\n",
      "\u001b[34m\u001b[1mwandb\u001b[0m: \tgamma: 0.7638007798774422\n",
      "\u001b[34m\u001b[1mwandb\u001b[0m: \tlearning_rate: 0.03340937864956991\n",
      "\u001b[34m\u001b[1mwandb\u001b[0m: \tmax_depth: 3\n",
      "\u001b[34m\u001b[1mwandb\u001b[0m: \tn_estimators: 197\n",
      "\u001b[34m\u001b[1mwandb\u001b[0m: \tsubsample: 0.4123465322872291\n"
     ]
    },
    {
     "data": {
      "text/html": [
       "Tracking run with wandb version 0.21.0"
      ],
      "text/plain": [
       "<IPython.core.display.HTML object>"
      ]
     },
     "metadata": {},
     "output_type": "display_data"
    },
    {
     "data": {
      "text/html": [
       "Run data is saved locally in <code>/home/jlai/ML/jet_faking/wandb/run-20250819_174645-zx5145gk</code>"
      ],
      "text/plain": [
       "<IPython.core.display.HTML object>"
      ]
     },
     "metadata": {},
     "output_type": "display_data"
    },
    {
     "data": {
      "text/html": [
       "Syncing run <strong><a href='https://wandb.ai/dlai211/Dark_ph_BDT_Sweep_Reduced/runs/zx5145gk' target=\"_blank\">sweepy-sweep-5</a></strong> to <a href='https://wandb.ai/dlai211/Dark_ph_BDT_Sweep_Reduced' target=\"_blank\">Weights & Biases</a> (<a href='https://wandb.me/developer-guide' target=\"_blank\">docs</a>)<br>Sweep page: <a href='https://wandb.ai/dlai211/Dark_ph_BDT_Sweep_Reduced/sweeps/woe18qc0' target=\"_blank\">https://wandb.ai/dlai211/Dark_ph_BDT_Sweep_Reduced/sweeps/woe18qc0</a>"
      ],
      "text/plain": [
       "<IPython.core.display.HTML object>"
      ]
     },
     "metadata": {},
     "output_type": "display_data"
    },
    {
     "data": {
      "text/html": [
       " View project at <a href='https://wandb.ai/dlai211/Dark_ph_BDT_Sweep_Reduced' target=\"_blank\">https://wandb.ai/dlai211/Dark_ph_BDT_Sweep_Reduced</a>"
      ],
      "text/plain": [
       "<IPython.core.display.HTML object>"
      ]
     },
     "metadata": {},
     "output_type": "display_data"
    },
    {
     "data": {
      "text/html": [
       " View sweep at <a href='https://wandb.ai/dlai211/Dark_ph_BDT_Sweep_Reduced/sweeps/woe18qc0' target=\"_blank\">https://wandb.ai/dlai211/Dark_ph_BDT_Sweep_Reduced/sweeps/woe18qc0</a>"
      ],
      "text/plain": [
       "<IPython.core.display.HTML object>"
      ]
     },
     "metadata": {},
     "output_type": "display_data"
    },
    {
     "data": {
      "text/html": [
       " View run at <a href='https://wandb.ai/dlai211/Dark_ph_BDT_Sweep_Reduced/runs/zx5145gk' target=\"_blank\">https://wandb.ai/dlai211/Dark_ph_BDT_Sweep_Reduced/runs/zx5145gk</a>"
      ],
      "text/plain": [
       "<IPython.core.display.HTML object>"
      ]
     },
     "metadata": {},
     "output_type": "display_data"
    },
    {
     "data": {
      "text/html": [],
      "text/plain": [
       "<IPython.core.display.HTML object>"
      ]
     },
     "metadata": {},
     "output_type": "display_data"
    },
    {
     "data": {
      "text/html": [
       "<br>    <style><br>        .wandb-row {<br>            display: flex;<br>            flex-direction: row;<br>            flex-wrap: wrap;<br>            justify-content: flex-start;<br>            width: 100%;<br>        }<br>        .wandb-col {<br>            display: flex;<br>            flex-direction: column;<br>            flex-basis: 100%;<br>            flex: 1;<br>            padding: 10px;<br>        }<br>    </style><br><div class=\"wandb-row\"><div class=\"wandb-col\"><h3>Run history:</h3><br/><table class=\"wandb\"><tr><td>Acceptance</td><td>▁</td></tr><tr><td>Max S/sqrt(B)</td><td>▁</td></tr><tr><td>Test ROC AUC</td><td>▁</td></tr><tr><td>bdtscore2 cut</td><td>▁</td></tr><tr><td>iteration</td><td>▁▁▁▂▂▂▂▂▂▂▃▃▃▃▃▄▄▄▄▄▅▅▅▅▅▅▅▆▆▆▆▇▇▇▇█████</td></tr><tr><td>test_logloss</td><td>██▇▇▆▅▄▃▃▃▂▂▂▂▂▂▂▂▂▂▂▁▁▁▁▁▁▁▁▁▁▁▁▁▁▁▁▁▁▁</td></tr><tr><td>train_logloss</td><td>█▇▇▆▆▅▅▄▃▃▂▂▂▂▂▂▂▂▂▂▁▁▁▁▁▁▁▁▁▁▁▁▁▁▁▁▁▁▁▁</td></tr></table><br/></div><div class=\"wandb-col\"><h3>Run summary:</h3><br/><table class=\"wandb\"><tr><td>Acceptance</td><td>0.59268</td></tr><tr><td>Max S/sqrt(B)</td><td>2.06613</td></tr><tr><td>Test ROC AUC</td><td>0.85986</td></tr><tr><td>bdtscore2 cut</td><td>0.03</td></tr><tr><td>iteration</td><td>180</td></tr><tr><td>test_logloss</td><td>0.04855</td></tr><tr><td>train_logloss</td><td>0.04564</td></tr></table><br/></div></div>"
      ],
      "text/plain": [
       "<IPython.core.display.HTML object>"
      ]
     },
     "metadata": {},
     "output_type": "display_data"
    },
    {
     "data": {
      "text/html": [
       " View run <strong style=\"color:#cdcd00\">sweepy-sweep-5</strong> at: <a href='https://wandb.ai/dlai211/Dark_ph_BDT_Sweep_Reduced/runs/zx5145gk' target=\"_blank\">https://wandb.ai/dlai211/Dark_ph_BDT_Sweep_Reduced/runs/zx5145gk</a><br> View project at: <a href='https://wandb.ai/dlai211/Dark_ph_BDT_Sweep_Reduced' target=\"_blank\">https://wandb.ai/dlai211/Dark_ph_BDT_Sweep_Reduced</a><br>Synced 5 W&B file(s), 0 media file(s), 0 artifact file(s) and 0 other file(s)"
      ],
      "text/plain": [
       "<IPython.core.display.HTML object>"
      ]
     },
     "metadata": {},
     "output_type": "display_data"
    },
    {
     "data": {
      "text/html": [
       "Find logs at: <code>./wandb/run-20250819_174645-zx5145gk/logs</code>"
      ],
      "text/plain": [
       "<IPython.core.display.HTML object>"
      ]
     },
     "metadata": {},
     "output_type": "display_data"
    },
    {
     "name": "stderr",
     "output_type": "stream",
     "text": [
      "\u001b[34m\u001b[1mwandb\u001b[0m: Agent Starting Run: iyw9kwsr with config:\n",
      "\u001b[34m\u001b[1mwandb\u001b[0m: \tgamma: 0.5924766172684811\n",
      "\u001b[34m\u001b[1mwandb\u001b[0m: \tlearning_rate: 0.08781765947963176\n",
      "\u001b[34m\u001b[1mwandb\u001b[0m: \tmax_depth: 4\n",
      "\u001b[34m\u001b[1mwandb\u001b[0m: \tn_estimators: 324\n",
      "\u001b[34m\u001b[1mwandb\u001b[0m: \tsubsample: 0.31607199807996367\n"
     ]
    },
    {
     "data": {
      "text/html": [
       "Tracking run with wandb version 0.21.0"
      ],
      "text/plain": [
       "<IPython.core.display.HTML object>"
      ]
     },
     "metadata": {},
     "output_type": "display_data"
    },
    {
     "data": {
      "text/html": [
       "Run data is saved locally in <code>/home/jlai/ML/jet_faking/wandb/run-20250819_174649-iyw9kwsr</code>"
      ],
      "text/plain": [
       "<IPython.core.display.HTML object>"
      ]
     },
     "metadata": {},
     "output_type": "display_data"
    },
    {
     "data": {
      "text/html": [
       "Syncing run <strong><a href='https://wandb.ai/dlai211/Dark_ph_BDT_Sweep_Reduced/runs/iyw9kwsr' target=\"_blank\">true-sweep-6</a></strong> to <a href='https://wandb.ai/dlai211/Dark_ph_BDT_Sweep_Reduced' target=\"_blank\">Weights & Biases</a> (<a href='https://wandb.me/developer-guide' target=\"_blank\">docs</a>)<br>Sweep page: <a href='https://wandb.ai/dlai211/Dark_ph_BDT_Sweep_Reduced/sweeps/woe18qc0' target=\"_blank\">https://wandb.ai/dlai211/Dark_ph_BDT_Sweep_Reduced/sweeps/woe18qc0</a>"
      ],
      "text/plain": [
       "<IPython.core.display.HTML object>"
      ]
     },
     "metadata": {},
     "output_type": "display_data"
    },
    {
     "data": {
      "text/html": [
       " View project at <a href='https://wandb.ai/dlai211/Dark_ph_BDT_Sweep_Reduced' target=\"_blank\">https://wandb.ai/dlai211/Dark_ph_BDT_Sweep_Reduced</a>"
      ],
      "text/plain": [
       "<IPython.core.display.HTML object>"
      ]
     },
     "metadata": {},
     "output_type": "display_data"
    },
    {
     "data": {
      "text/html": [
       " View sweep at <a href='https://wandb.ai/dlai211/Dark_ph_BDT_Sweep_Reduced/sweeps/woe18qc0' target=\"_blank\">https://wandb.ai/dlai211/Dark_ph_BDT_Sweep_Reduced/sweeps/woe18qc0</a>"
      ],
      "text/plain": [
       "<IPython.core.display.HTML object>"
      ]
     },
     "metadata": {},
     "output_type": "display_data"
    },
    {
     "data": {
      "text/html": [
       " View run at <a href='https://wandb.ai/dlai211/Dark_ph_BDT_Sweep_Reduced/runs/iyw9kwsr' target=\"_blank\">https://wandb.ai/dlai211/Dark_ph_BDT_Sweep_Reduced/runs/iyw9kwsr</a>"
      ],
      "text/plain": [
       "<IPython.core.display.HTML object>"
      ]
     },
     "metadata": {},
     "output_type": "display_data"
    },
    {
     "data": {
      "text/html": [],
      "text/plain": [
       "<IPython.core.display.HTML object>"
      ]
     },
     "metadata": {},
     "output_type": "display_data"
    },
    {
     "data": {
      "text/html": [
       "<br>    <style><br>        .wandb-row {<br>            display: flex;<br>            flex-direction: row;<br>            flex-wrap: wrap;<br>            justify-content: flex-start;<br>            width: 100%;<br>        }<br>        .wandb-col {<br>            display: flex;<br>            flex-direction: column;<br>            flex-basis: 100%;<br>            flex: 1;<br>            padding: 10px;<br>        }<br>    </style><br><div class=\"wandb-row\"><div class=\"wandb-col\"><h3>Run history:</h3><br/><table class=\"wandb\"><tr><td>Acceptance</td><td>▁</td></tr><tr><td>Max S/sqrt(B)</td><td>▁</td></tr><tr><td>Test ROC AUC</td><td>▁</td></tr><tr><td>bdtscore2 cut</td><td>▁</td></tr><tr><td>iteration</td><td>▁▁▁▁▂▂▂▂▂▃▃▃▃▃▄▄▄▄▄▄▅▅▅▅▅▅▆▆▆▆▆▇▇▇▇▇████</td></tr><tr><td>test_logloss</td><td>█▇▇▆▆▅▅▄▄▄▃▃▃▃▂▂▂▂▂▂▂▂▂▂▁▁▁▁▁▁▁▁▁▁▁▁▁▁▁▁</td></tr><tr><td>train_logloss</td><td>█▇▇▆▆▅▅▄▄▄▃▃▃▃▂▂▂▂▂▂▂▂▂▂▁▁▁▁▁▁▁▁▁▁▁▁▁▁▁▁</td></tr></table><br/></div><div class=\"wandb-col\"><h3>Run summary:</h3><br/><table class=\"wandb\"><tr><td>Acceptance</td><td>0.62553</td></tr><tr><td>Max S/sqrt(B)</td><td>1.99257</td></tr><tr><td>Test ROC AUC</td><td>0.85441</td></tr><tr><td>bdtscore2 cut</td><td>0.03</td></tr><tr><td>iteration</td><td>45</td></tr><tr><td>test_logloss</td><td>0.05006</td></tr><tr><td>train_logloss</td><td>0.04763</td></tr></table><br/></div></div>"
      ],
      "text/plain": [
       "<IPython.core.display.HTML object>"
      ]
     },
     "metadata": {},
     "output_type": "display_data"
    },
    {
     "data": {
      "text/html": [
       " View run <strong style=\"color:#cdcd00\">true-sweep-6</strong> at: <a href='https://wandb.ai/dlai211/Dark_ph_BDT_Sweep_Reduced/runs/iyw9kwsr' target=\"_blank\">https://wandb.ai/dlai211/Dark_ph_BDT_Sweep_Reduced/runs/iyw9kwsr</a><br> View project at: <a href='https://wandb.ai/dlai211/Dark_ph_BDT_Sweep_Reduced' target=\"_blank\">https://wandb.ai/dlai211/Dark_ph_BDT_Sweep_Reduced</a><br>Synced 5 W&B file(s), 0 media file(s), 0 artifact file(s) and 0 other file(s)"
      ],
      "text/plain": [
       "<IPython.core.display.HTML object>"
      ]
     },
     "metadata": {},
     "output_type": "display_data"
    },
    {
     "data": {
      "text/html": [
       "Find logs at: <code>./wandb/run-20250819_174649-iyw9kwsr/logs</code>"
      ],
      "text/plain": [
       "<IPython.core.display.HTML object>"
      ]
     },
     "metadata": {},
     "output_type": "display_data"
    },
    {
     "name": "stderr",
     "output_type": "stream",
     "text": [
      "\u001b[34m\u001b[1mwandb\u001b[0m: Agent Starting Run: 5d0y03rm with config:\n",
      "\u001b[34m\u001b[1mwandb\u001b[0m: \tgamma: 0.13667113191097968\n",
      "\u001b[34m\u001b[1mwandb\u001b[0m: \tlearning_rate: 0.048017175247289205\n",
      "\u001b[34m\u001b[1mwandb\u001b[0m: \tmax_depth: 4\n",
      "\u001b[34m\u001b[1mwandb\u001b[0m: \tn_estimators: 599\n",
      "\u001b[34m\u001b[1mwandb\u001b[0m: \tsubsample: 0.6444853717471064\n"
     ]
    },
    {
     "data": {
      "text/html": [
       "Tracking run with wandb version 0.21.0"
      ],
      "text/plain": [
       "<IPython.core.display.HTML object>"
      ]
     },
     "metadata": {},
     "output_type": "display_data"
    },
    {
     "data": {
      "text/html": [
       "Run data is saved locally in <code>/home/jlai/ML/jet_faking/wandb/run-20250819_174655-5d0y03rm</code>"
      ],
      "text/plain": [
       "<IPython.core.display.HTML object>"
      ]
     },
     "metadata": {},
     "output_type": "display_data"
    },
    {
     "data": {
      "text/html": [
       "Syncing run <strong><a href='https://wandb.ai/dlai211/Dark_ph_BDT_Sweep_Reduced/runs/5d0y03rm' target=\"_blank\">silvery-sweep-7</a></strong> to <a href='https://wandb.ai/dlai211/Dark_ph_BDT_Sweep_Reduced' target=\"_blank\">Weights & Biases</a> (<a href='https://wandb.me/developer-guide' target=\"_blank\">docs</a>)<br>Sweep page: <a href='https://wandb.ai/dlai211/Dark_ph_BDT_Sweep_Reduced/sweeps/woe18qc0' target=\"_blank\">https://wandb.ai/dlai211/Dark_ph_BDT_Sweep_Reduced/sweeps/woe18qc0</a>"
      ],
      "text/plain": [
       "<IPython.core.display.HTML object>"
      ]
     },
     "metadata": {},
     "output_type": "display_data"
    },
    {
     "data": {
      "text/html": [
       " View project at <a href='https://wandb.ai/dlai211/Dark_ph_BDT_Sweep_Reduced' target=\"_blank\">https://wandb.ai/dlai211/Dark_ph_BDT_Sweep_Reduced</a>"
      ],
      "text/plain": [
       "<IPython.core.display.HTML object>"
      ]
     },
     "metadata": {},
     "output_type": "display_data"
    },
    {
     "data": {
      "text/html": [
       " View sweep at <a href='https://wandb.ai/dlai211/Dark_ph_BDT_Sweep_Reduced/sweeps/woe18qc0' target=\"_blank\">https://wandb.ai/dlai211/Dark_ph_BDT_Sweep_Reduced/sweeps/woe18qc0</a>"
      ],
      "text/plain": [
       "<IPython.core.display.HTML object>"
      ]
     },
     "metadata": {},
     "output_type": "display_data"
    },
    {
     "data": {
      "text/html": [
       " View run at <a href='https://wandb.ai/dlai211/Dark_ph_BDT_Sweep_Reduced/runs/5d0y03rm' target=\"_blank\">https://wandb.ai/dlai211/Dark_ph_BDT_Sweep_Reduced/runs/5d0y03rm</a>"
      ],
      "text/plain": [
       "<IPython.core.display.HTML object>"
      ]
     },
     "metadata": {},
     "output_type": "display_data"
    },
    {
     "data": {
      "text/html": [],
      "text/plain": [
       "<IPython.core.display.HTML object>"
      ]
     },
     "metadata": {},
     "output_type": "display_data"
    },
    {
     "data": {
      "text/html": [
       "<br>    <style><br>        .wandb-row {<br>            display: flex;<br>            flex-direction: row;<br>            flex-wrap: wrap;<br>            justify-content: flex-start;<br>            width: 100%;<br>        }<br>        .wandb-col {<br>            display: flex;<br>            flex-direction: column;<br>            flex-basis: 100%;<br>            flex: 1;<br>            padding: 10px;<br>        }<br>    </style><br><div class=\"wandb-row\"><div class=\"wandb-col\"><h3>Run history:</h3><br/><table class=\"wandb\"><tr><td>Acceptance</td><td>▁</td></tr><tr><td>Max S/sqrt(B)</td><td>▁</td></tr><tr><td>Test ROC AUC</td><td>▁</td></tr><tr><td>bdtscore2 cut</td><td>▁</td></tr><tr><td>iteration</td><td>▁▁▂▂▂▂▂▃▃▃▃▃▃▄▄▄▄▄▄▄▅▅▅▅▆▆▆▆▆▇▇▇▇▇▇▇████</td></tr><tr><td>test_logloss</td><td>█▃▃▂▂▁▁▁▁▁▁▁▁▁▁▁▁▁▁▁▁▁▁▁▁▁▁▁▁▁▁▁▁▁▁▁▁▁▁▁</td></tr><tr><td>train_logloss</td><td>█▅▄▄▃▂▂▂▂▂▁▁▁▁▁▁▁▁▁▁▁▁▁▁▁▁▁▁▁▁▁▁▁▁▁▁▁▁▁▁</td></tr></table><br/></div><div class=\"wandb-col\"><h3>Run summary:</h3><br/><table class=\"wandb\"><tr><td>Acceptance</td><td>0.61876</td></tr><tr><td>Max S/sqrt(B)</td><td>2.47101</td></tr><tr><td>Test ROC AUC</td><td>0.87212</td></tr><tr><td>bdtscore2 cut</td><td>0.04</td></tr><tr><td>iteration</td><td>273</td></tr><tr><td>test_logloss</td><td>0.04778</td></tr><tr><td>train_logloss</td><td>0.03994</td></tr></table><br/></div></div>"
      ],
      "text/plain": [
       "<IPython.core.display.HTML object>"
      ]
     },
     "metadata": {},
     "output_type": "display_data"
    },
    {
     "data": {
      "text/html": [
       " View run <strong style=\"color:#cdcd00\">silvery-sweep-7</strong> at: <a href='https://wandb.ai/dlai211/Dark_ph_BDT_Sweep_Reduced/runs/5d0y03rm' target=\"_blank\">https://wandb.ai/dlai211/Dark_ph_BDT_Sweep_Reduced/runs/5d0y03rm</a><br> View project at: <a href='https://wandb.ai/dlai211/Dark_ph_BDT_Sweep_Reduced' target=\"_blank\">https://wandb.ai/dlai211/Dark_ph_BDT_Sweep_Reduced</a><br>Synced 5 W&B file(s), 0 media file(s), 0 artifact file(s) and 0 other file(s)"
      ],
      "text/plain": [
       "<IPython.core.display.HTML object>"
      ]
     },
     "metadata": {},
     "output_type": "display_data"
    },
    {
     "data": {
      "text/html": [
       "Find logs at: <code>./wandb/run-20250819_174655-5d0y03rm/logs</code>"
      ],
      "text/plain": [
       "<IPython.core.display.HTML object>"
      ]
     },
     "metadata": {},
     "output_type": "display_data"
    },
    {
     "name": "stderr",
     "output_type": "stream",
     "text": [
      "\u001b[34m\u001b[1mwandb\u001b[0m: Agent Starting Run: qpoyi54o with config:\n",
      "\u001b[34m\u001b[1mwandb\u001b[0m: \tgamma: 0.7143804628855575\n",
      "\u001b[34m\u001b[1mwandb\u001b[0m: \tlearning_rate: 0.02758077503060729\n",
      "\u001b[34m\u001b[1mwandb\u001b[0m: \tmax_depth: 3\n",
      "\u001b[34m\u001b[1mwandb\u001b[0m: \tn_estimators: 398\n",
      "\u001b[34m\u001b[1mwandb\u001b[0m: \tsubsample: 0.5475109393031854\n"
     ]
    },
    {
     "data": {
      "text/html": [
       "Tracking run with wandb version 0.21.0"
      ],
      "text/plain": [
       "<IPython.core.display.HTML object>"
      ]
     },
     "metadata": {},
     "output_type": "display_data"
    },
    {
     "data": {
      "text/html": [
       "Run data is saved locally in <code>/home/jlai/ML/jet_faking/wandb/run-20250819_174700-qpoyi54o</code>"
      ],
      "text/plain": [
       "<IPython.core.display.HTML object>"
      ]
     },
     "metadata": {},
     "output_type": "display_data"
    },
    {
     "data": {
      "text/html": [
       "Syncing run <strong><a href='https://wandb.ai/dlai211/Dark_ph_BDT_Sweep_Reduced/runs/qpoyi54o' target=\"_blank\">ancient-sweep-8</a></strong> to <a href='https://wandb.ai/dlai211/Dark_ph_BDT_Sweep_Reduced' target=\"_blank\">Weights & Biases</a> (<a href='https://wandb.me/developer-guide' target=\"_blank\">docs</a>)<br>Sweep page: <a href='https://wandb.ai/dlai211/Dark_ph_BDT_Sweep_Reduced/sweeps/woe18qc0' target=\"_blank\">https://wandb.ai/dlai211/Dark_ph_BDT_Sweep_Reduced/sweeps/woe18qc0</a>"
      ],
      "text/plain": [
       "<IPython.core.display.HTML object>"
      ]
     },
     "metadata": {},
     "output_type": "display_data"
    },
    {
     "data": {
      "text/html": [
       " View project at <a href='https://wandb.ai/dlai211/Dark_ph_BDT_Sweep_Reduced' target=\"_blank\">https://wandb.ai/dlai211/Dark_ph_BDT_Sweep_Reduced</a>"
      ],
      "text/plain": [
       "<IPython.core.display.HTML object>"
      ]
     },
     "metadata": {},
     "output_type": "display_data"
    },
    {
     "data": {
      "text/html": [
       " View sweep at <a href='https://wandb.ai/dlai211/Dark_ph_BDT_Sweep_Reduced/sweeps/woe18qc0' target=\"_blank\">https://wandb.ai/dlai211/Dark_ph_BDT_Sweep_Reduced/sweeps/woe18qc0</a>"
      ],
      "text/plain": [
       "<IPython.core.display.HTML object>"
      ]
     },
     "metadata": {},
     "output_type": "display_data"
    },
    {
     "data": {
      "text/html": [
       " View run at <a href='https://wandb.ai/dlai211/Dark_ph_BDT_Sweep_Reduced/runs/qpoyi54o' target=\"_blank\">https://wandb.ai/dlai211/Dark_ph_BDT_Sweep_Reduced/runs/qpoyi54o</a>"
      ],
      "text/plain": [
       "<IPython.core.display.HTML object>"
      ]
     },
     "metadata": {},
     "output_type": "display_data"
    },
    {
     "data": {
      "text/html": [],
      "text/plain": [
       "<IPython.core.display.HTML object>"
      ]
     },
     "metadata": {},
     "output_type": "display_data"
    },
    {
     "data": {
      "text/html": [
       "<br>    <style><br>        .wandb-row {<br>            display: flex;<br>            flex-direction: row;<br>            flex-wrap: wrap;<br>            justify-content: flex-start;<br>            width: 100%;<br>        }<br>        .wandb-col {<br>            display: flex;<br>            flex-direction: column;<br>            flex-basis: 100%;<br>            flex: 1;<br>            padding: 10px;<br>        }<br>    </style><br><div class=\"wandb-row\"><div class=\"wandb-col\"><h3>Run history:</h3><br/><table class=\"wandb\"><tr><td>Acceptance</td><td>▁</td></tr><tr><td>Max S/sqrt(B)</td><td>▁</td></tr><tr><td>Test ROC AUC</td><td>▁</td></tr><tr><td>bdtscore2 cut</td><td>▁</td></tr><tr><td>iteration</td><td>▁▁▁▁▂▂▂▂▂▂▃▃▃▃▄▄▄▄▄▄▅▅▅▅▅▅▆▆▆▆▇▇▇▇▇▇▇▇██</td></tr><tr><td>test_logloss</td><td>█▇▆▅▅▄▄▃▂▂▂▂▂▂▂▁▁▁▁▁▁▁▁▁▁▁▁▁▁▁▁▁▁▁▁▁▁▁▁▁</td></tr><tr><td>train_logloss</td><td>██▇▇▄▃▃▃▃▃▃▂▂▂▂▂▂▁▁▁▁▁▁▁▁▁▁▁▁▁▁▁▁▁▁▁▁▁▁▁</td></tr></table><br/></div><div class=\"wandb-col\"><h3>Run summary:</h3><br/><table class=\"wandb\"><tr><td>Acceptance</td><td>0.6051</td></tr><tr><td>Max S/sqrt(B)</td><td>2.1063</td></tr><tr><td>Test ROC AUC</td><td>0.86094</td></tr><tr><td>bdtscore2 cut</td><td>0.03</td></tr><tr><td>iteration</td><td>244</td></tr><tr><td>test_logloss</td><td>0.04833</td></tr><tr><td>train_logloss</td><td>0.04499</td></tr></table><br/></div></div>"
      ],
      "text/plain": [
       "<IPython.core.display.HTML object>"
      ]
     },
     "metadata": {},
     "output_type": "display_data"
    },
    {
     "data": {
      "text/html": [
       " View run <strong style=\"color:#cdcd00\">ancient-sweep-8</strong> at: <a href='https://wandb.ai/dlai211/Dark_ph_BDT_Sweep_Reduced/runs/qpoyi54o' target=\"_blank\">https://wandb.ai/dlai211/Dark_ph_BDT_Sweep_Reduced/runs/qpoyi54o</a><br> View project at: <a href='https://wandb.ai/dlai211/Dark_ph_BDT_Sweep_Reduced' target=\"_blank\">https://wandb.ai/dlai211/Dark_ph_BDT_Sweep_Reduced</a><br>Synced 5 W&B file(s), 0 media file(s), 0 artifact file(s) and 0 other file(s)"
      ],
      "text/plain": [
       "<IPython.core.display.HTML object>"
      ]
     },
     "metadata": {},
     "output_type": "display_data"
    },
    {
     "data": {
      "text/html": [
       "Find logs at: <code>./wandb/run-20250819_174700-qpoyi54o/logs</code>"
      ],
      "text/plain": [
       "<IPython.core.display.HTML object>"
      ]
     },
     "metadata": {},
     "output_type": "display_data"
    },
    {
     "name": "stderr",
     "output_type": "stream",
     "text": [
      "\u001b[34m\u001b[1mwandb\u001b[0m: Agent Starting Run: p89872v5 with config:\n",
      "\u001b[34m\u001b[1mwandb\u001b[0m: \tgamma: 0.1575907924557775\n",
      "\u001b[34m\u001b[1mwandb\u001b[0m: \tlearning_rate: 0.017435048066789034\n",
      "\u001b[34m\u001b[1mwandb\u001b[0m: \tmax_depth: 4\n",
      "\u001b[34m\u001b[1mwandb\u001b[0m: \tn_estimators: 668\n",
      "\u001b[34m\u001b[1mwandb\u001b[0m: \tsubsample: 0.5360666862810437\n"
     ]
    },
    {
     "data": {
      "text/html": [
       "Tracking run with wandb version 0.21.0"
      ],
      "text/plain": [
       "<IPython.core.display.HTML object>"
      ]
     },
     "metadata": {},
     "output_type": "display_data"
    },
    {
     "data": {
      "text/html": [
       "Run data is saved locally in <code>/home/jlai/ML/jet_faking/wandb/run-20250819_174705-p89872v5</code>"
      ],
      "text/plain": [
       "<IPython.core.display.HTML object>"
      ]
     },
     "metadata": {},
     "output_type": "display_data"
    },
    {
     "data": {
      "text/html": [
       "Syncing run <strong><a href='https://wandb.ai/dlai211/Dark_ph_BDT_Sweep_Reduced/runs/p89872v5' target=\"_blank\">glorious-sweep-9</a></strong> to <a href='https://wandb.ai/dlai211/Dark_ph_BDT_Sweep_Reduced' target=\"_blank\">Weights & Biases</a> (<a href='https://wandb.me/developer-guide' target=\"_blank\">docs</a>)<br>Sweep page: <a href='https://wandb.ai/dlai211/Dark_ph_BDT_Sweep_Reduced/sweeps/woe18qc0' target=\"_blank\">https://wandb.ai/dlai211/Dark_ph_BDT_Sweep_Reduced/sweeps/woe18qc0</a>"
      ],
      "text/plain": [
       "<IPython.core.display.HTML object>"
      ]
     },
     "metadata": {},
     "output_type": "display_data"
    },
    {
     "data": {
      "text/html": [
       " View project at <a href='https://wandb.ai/dlai211/Dark_ph_BDT_Sweep_Reduced' target=\"_blank\">https://wandb.ai/dlai211/Dark_ph_BDT_Sweep_Reduced</a>"
      ],
      "text/plain": [
       "<IPython.core.display.HTML object>"
      ]
     },
     "metadata": {},
     "output_type": "display_data"
    },
    {
     "data": {
      "text/html": [
       " View sweep at <a href='https://wandb.ai/dlai211/Dark_ph_BDT_Sweep_Reduced/sweeps/woe18qc0' target=\"_blank\">https://wandb.ai/dlai211/Dark_ph_BDT_Sweep_Reduced/sweeps/woe18qc0</a>"
      ],
      "text/plain": [
       "<IPython.core.display.HTML object>"
      ]
     },
     "metadata": {},
     "output_type": "display_data"
    },
    {
     "data": {
      "text/html": [
       " View run at <a href='https://wandb.ai/dlai211/Dark_ph_BDT_Sweep_Reduced/runs/p89872v5' target=\"_blank\">https://wandb.ai/dlai211/Dark_ph_BDT_Sweep_Reduced/runs/p89872v5</a>"
      ],
      "text/plain": [
       "<IPython.core.display.HTML object>"
      ]
     },
     "metadata": {},
     "output_type": "display_data"
    },
    {
     "data": {
      "text/html": [],
      "text/plain": [
       "<IPython.core.display.HTML object>"
      ]
     },
     "metadata": {},
     "output_type": "display_data"
    },
    {
     "data": {
      "text/html": [
       "<br>    <style><br>        .wandb-row {<br>            display: flex;<br>            flex-direction: row;<br>            flex-wrap: wrap;<br>            justify-content: flex-start;<br>            width: 100%;<br>        }<br>        .wandb-col {<br>            display: flex;<br>            flex-direction: column;<br>            flex-basis: 100%;<br>            flex: 1;<br>            padding: 10px;<br>        }<br>    </style><br><div class=\"wandb-row\"><div class=\"wandb-col\"><h3>Run history:</h3><br/><table class=\"wandb\"><tr><td>Acceptance</td><td>▁</td></tr><tr><td>Max S/sqrt(B)</td><td>▁</td></tr><tr><td>Test ROC AUC</td><td>▁</td></tr><tr><td>bdtscore2 cut</td><td>▁</td></tr><tr><td>iteration</td><td>▁▁▁▂▂▂▂▃▃▃▃▄▄▄▄▅▅▅▅▅▆▆▆▆▇▇▇▇███</td></tr><tr><td>test_logloss</td><td>██▇▇▇▇▆▆▆▅▅▅▅▄▄▄▄▄▃▃▃▃▂▂▂▂▂▂▁▁▁</td></tr><tr><td>train_logloss</td><td>██▇▇▇▇▆▆▆▅▅▅▅▄▄▄▄▄▃▃▃▃▂▂▂▂▂▂▁▁▁</td></tr></table><br/></div><div class=\"wandb-col\"><h3>Run summary:</h3><br/><table class=\"wandb\"><tr><td>Acceptance</td><td>0.84596</td></tr><tr><td>Max S/sqrt(B)</td><td>1.68154</td></tr><tr><td>Test ROC AUC</td><td>0.82616</td></tr><tr><td>bdtscore2 cut</td><td>0.09</td></tr><tr><td>iteration</td><td>30</td></tr><tr><td>test_logloss</td><td>0.10534</td></tr><tr><td>train_logloss</td><td>0.10474</td></tr></table><br/></div></div>"
      ],
      "text/plain": [
       "<IPython.core.display.HTML object>"
      ]
     },
     "metadata": {},
     "output_type": "display_data"
    },
    {
     "data": {
      "text/html": [
       " View run <strong style=\"color:#cdcd00\">glorious-sweep-9</strong> at: <a href='https://wandb.ai/dlai211/Dark_ph_BDT_Sweep_Reduced/runs/p89872v5' target=\"_blank\">https://wandb.ai/dlai211/Dark_ph_BDT_Sweep_Reduced/runs/p89872v5</a><br> View project at: <a href='https://wandb.ai/dlai211/Dark_ph_BDT_Sweep_Reduced' target=\"_blank\">https://wandb.ai/dlai211/Dark_ph_BDT_Sweep_Reduced</a><br>Synced 5 W&B file(s), 0 media file(s), 0 artifact file(s) and 0 other file(s)"
      ],
      "text/plain": [
       "<IPython.core.display.HTML object>"
      ]
     },
     "metadata": {},
     "output_type": "display_data"
    },
    {
     "data": {
      "text/html": [
       "Find logs at: <code>./wandb/run-20250819_174705-p89872v5/logs</code>"
      ],
      "text/plain": [
       "<IPython.core.display.HTML object>"
      ]
     },
     "metadata": {},
     "output_type": "display_data"
    },
    {
     "name": "stderr",
     "output_type": "stream",
     "text": [
      "\u001b[34m\u001b[1mwandb\u001b[0m: Agent Starting Run: ugg3hih2 with config:\n",
      "\u001b[34m\u001b[1mwandb\u001b[0m: \tgamma: 0.16427463028483225\n",
      "\u001b[34m\u001b[1mwandb\u001b[0m: \tlearning_rate: 0.0935957709806474\n",
      "\u001b[34m\u001b[1mwandb\u001b[0m: \tmax_depth: 4\n",
      "\u001b[34m\u001b[1mwandb\u001b[0m: \tn_estimators: 345\n",
      "\u001b[34m\u001b[1mwandb\u001b[0m: \tsubsample: 0.6439670364054807\n"
     ]
    },
    {
     "data": {
      "text/html": [
       "Tracking run with wandb version 0.21.0"
      ],
      "text/plain": [
       "<IPython.core.display.HTML object>"
      ]
     },
     "metadata": {},
     "output_type": "display_data"
    },
    {
     "data": {
      "text/html": [
       "Run data is saved locally in <code>/home/jlai/ML/jet_faking/wandb/run-20250819_174710-ugg3hih2</code>"
      ],
      "text/plain": [
       "<IPython.core.display.HTML object>"
      ]
     },
     "metadata": {},
     "output_type": "display_data"
    },
    {
     "data": {
      "text/html": [
       "Syncing run <strong><a href='https://wandb.ai/dlai211/Dark_ph_BDT_Sweep_Reduced/runs/ugg3hih2' target=\"_blank\">rose-sweep-10</a></strong> to <a href='https://wandb.ai/dlai211/Dark_ph_BDT_Sweep_Reduced' target=\"_blank\">Weights & Biases</a> (<a href='https://wandb.me/developer-guide' target=\"_blank\">docs</a>)<br>Sweep page: <a href='https://wandb.ai/dlai211/Dark_ph_BDT_Sweep_Reduced/sweeps/woe18qc0' target=\"_blank\">https://wandb.ai/dlai211/Dark_ph_BDT_Sweep_Reduced/sweeps/woe18qc0</a>"
      ],
      "text/plain": [
       "<IPython.core.display.HTML object>"
      ]
     },
     "metadata": {},
     "output_type": "display_data"
    },
    {
     "data": {
      "text/html": [
       " View project at <a href='https://wandb.ai/dlai211/Dark_ph_BDT_Sweep_Reduced' target=\"_blank\">https://wandb.ai/dlai211/Dark_ph_BDT_Sweep_Reduced</a>"
      ],
      "text/plain": [
       "<IPython.core.display.HTML object>"
      ]
     },
     "metadata": {},
     "output_type": "display_data"
    },
    {
     "data": {
      "text/html": [
       " View sweep at <a href='https://wandb.ai/dlai211/Dark_ph_BDT_Sweep_Reduced/sweeps/woe18qc0' target=\"_blank\">https://wandb.ai/dlai211/Dark_ph_BDT_Sweep_Reduced/sweeps/woe18qc0</a>"
      ],
      "text/plain": [
       "<IPython.core.display.HTML object>"
      ]
     },
     "metadata": {},
     "output_type": "display_data"
    },
    {
     "data": {
      "text/html": [
       " View run at <a href='https://wandb.ai/dlai211/Dark_ph_BDT_Sweep_Reduced/runs/ugg3hih2' target=\"_blank\">https://wandb.ai/dlai211/Dark_ph_BDT_Sweep_Reduced/runs/ugg3hih2</a>"
      ],
      "text/plain": [
       "<IPython.core.display.HTML object>"
      ]
     },
     "metadata": {},
     "output_type": "display_data"
    },
    {
     "data": {
      "text/html": [],
      "text/plain": [
       "<IPython.core.display.HTML object>"
      ]
     },
     "metadata": {},
     "output_type": "display_data"
    },
    {
     "data": {
      "text/html": [
       "<br>    <style><br>        .wandb-row {<br>            display: flex;<br>            flex-direction: row;<br>            flex-wrap: wrap;<br>            justify-content: flex-start;<br>            width: 100%;<br>        }<br>        .wandb-col {<br>            display: flex;<br>            flex-direction: column;<br>            flex-basis: 100%;<br>            flex: 1;<br>            padding: 10px;<br>        }<br>    </style><br><div class=\"wandb-row\"><div class=\"wandb-col\"><h3>Run history:</h3><br/><table class=\"wandb\"><tr><td>Acceptance</td><td>▁</td></tr><tr><td>Max S/sqrt(B)</td><td>▁</td></tr><tr><td>Test ROC AUC</td><td>▁</td></tr><tr><td>bdtscore2 cut</td><td>▁</td></tr><tr><td>iteration</td><td>▁▂▂▂▂▂▂▂▂▃▃▃▃▃▃▃▃▄▄▄▄▅▅▅▅▅▅▅▅▆▆▇▇▇▇▇▇▇██</td></tr><tr><td>test_logloss</td><td>█▇▅▄▄▂▂▂▂▂▁▁▁▁▁▁▁▁▁▁▁▁▁▁▁▁▁▁▁▁▁▁▁▁▁▁▁▁▁▁</td></tr><tr><td>train_logloss</td><td>█▇▆▆▅▃▂▂▂▂▂▁▁▁▁▁▁▁▁▁▁▁▁▁▁▁▁▁▁▁▁▁▁▁▁▁▁▁▁▁</td></tr></table><br/></div><div class=\"wandb-col\"><h3>Run summary:</h3><br/><table class=\"wandb\"><tr><td>Acceptance</td><td>0.54932</td></tr><tr><td>Max S/sqrt(B)</td><td>2.56911</td></tr><tr><td>Test ROC AUC</td><td>0.87394</td></tr><tr><td>bdtscore2 cut</td><td>0.05</td></tr><tr><td>iteration</td><td>168</td></tr><tr><td>test_logloss</td><td>0.04757</td></tr><tr><td>train_logloss</td><td>0.03907</td></tr></table><br/></div></div>"
      ],
      "text/plain": [
       "<IPython.core.display.HTML object>"
      ]
     },
     "metadata": {},
     "output_type": "display_data"
    },
    {
     "data": {
      "text/html": [
       " View run <strong style=\"color:#cdcd00\">rose-sweep-10</strong> at: <a href='https://wandb.ai/dlai211/Dark_ph_BDT_Sweep_Reduced/runs/ugg3hih2' target=\"_blank\">https://wandb.ai/dlai211/Dark_ph_BDT_Sweep_Reduced/runs/ugg3hih2</a><br> View project at: <a href='https://wandb.ai/dlai211/Dark_ph_BDT_Sweep_Reduced' target=\"_blank\">https://wandb.ai/dlai211/Dark_ph_BDT_Sweep_Reduced</a><br>Synced 5 W&B file(s), 0 media file(s), 0 artifact file(s) and 0 other file(s)"
      ],
      "text/plain": [
       "<IPython.core.display.HTML object>"
      ]
     },
     "metadata": {},
     "output_type": "display_data"
    },
    {
     "data": {
      "text/html": [
       "Find logs at: <code>./wandb/run-20250819_174710-ugg3hih2/logs</code>"
      ],
      "text/plain": [
       "<IPython.core.display.HTML object>"
      ]
     },
     "metadata": {},
     "output_type": "display_data"
    },
    {
     "name": "stderr",
     "output_type": "stream",
     "text": [
      "\u001b[34m\u001b[1mwandb\u001b[0m: Sweep Agent: Waiting for job.\n",
      "\u001b[34m\u001b[1mwandb\u001b[0m: Job received.\n",
      "\u001b[34m\u001b[1mwandb\u001b[0m: Agent Starting Run: 4ph4fz1u with config:\n",
      "\u001b[34m\u001b[1mwandb\u001b[0m: \tgamma: 0.8001921955368684\n",
      "\u001b[34m\u001b[1mwandb\u001b[0m: \tlearning_rate: 0.07429652114962636\n",
      "\u001b[34m\u001b[1mwandb\u001b[0m: \tmax_depth: 8\n",
      "\u001b[34m\u001b[1mwandb\u001b[0m: \tn_estimators: 410\n",
      "\u001b[34m\u001b[1mwandb\u001b[0m: \tsubsample: 0.3275335223712582\n"
     ]
    },
    {
     "data": {
      "text/html": [
       "Tracking run with wandb version 0.21.0"
      ],
      "text/plain": [
       "<IPython.core.display.HTML object>"
      ]
     },
     "metadata": {},
     "output_type": "display_data"
    },
    {
     "data": {
      "text/html": [
       "Run data is saved locally in <code>/home/jlai/ML/jet_faking/wandb/run-20250819_174742-4ph4fz1u</code>"
      ],
      "text/plain": [
       "<IPython.core.display.HTML object>"
      ]
     },
     "metadata": {},
     "output_type": "display_data"
    },
    {
     "data": {
      "text/html": [
       "Syncing run <strong><a href='https://wandb.ai/dlai211/Dark_ph_BDT_Sweep_Reduced/runs/4ph4fz1u' target=\"_blank\">effortless-sweep-11</a></strong> to <a href='https://wandb.ai/dlai211/Dark_ph_BDT_Sweep_Reduced' target=\"_blank\">Weights & Biases</a> (<a href='https://wandb.me/developer-guide' target=\"_blank\">docs</a>)<br>Sweep page: <a href='https://wandb.ai/dlai211/Dark_ph_BDT_Sweep_Reduced/sweeps/woe18qc0' target=\"_blank\">https://wandb.ai/dlai211/Dark_ph_BDT_Sweep_Reduced/sweeps/woe18qc0</a>"
      ],
      "text/plain": [
       "<IPython.core.display.HTML object>"
      ]
     },
     "metadata": {},
     "output_type": "display_data"
    },
    {
     "data": {
      "text/html": [
       " View project at <a href='https://wandb.ai/dlai211/Dark_ph_BDT_Sweep_Reduced' target=\"_blank\">https://wandb.ai/dlai211/Dark_ph_BDT_Sweep_Reduced</a>"
      ],
      "text/plain": [
       "<IPython.core.display.HTML object>"
      ]
     },
     "metadata": {},
     "output_type": "display_data"
    },
    {
     "data": {
      "text/html": [
       " View sweep at <a href='https://wandb.ai/dlai211/Dark_ph_BDT_Sweep_Reduced/sweeps/woe18qc0' target=\"_blank\">https://wandb.ai/dlai211/Dark_ph_BDT_Sweep_Reduced/sweeps/woe18qc0</a>"
      ],
      "text/plain": [
       "<IPython.core.display.HTML object>"
      ]
     },
     "metadata": {},
     "output_type": "display_data"
    },
    {
     "data": {
      "text/html": [
       " View run at <a href='https://wandb.ai/dlai211/Dark_ph_BDT_Sweep_Reduced/runs/4ph4fz1u' target=\"_blank\">https://wandb.ai/dlai211/Dark_ph_BDT_Sweep_Reduced/runs/4ph4fz1u</a>"
      ],
      "text/plain": [
       "<IPython.core.display.HTML object>"
      ]
     },
     "metadata": {},
     "output_type": "display_data"
    },
    {
     "data": {
      "text/html": [],
      "text/plain": [
       "<IPython.core.display.HTML object>"
      ]
     },
     "metadata": {},
     "output_type": "display_data"
    },
    {
     "data": {
      "text/html": [
       "<br>    <style><br>        .wandb-row {<br>            display: flex;<br>            flex-direction: row;<br>            flex-wrap: wrap;<br>            justify-content: flex-start;<br>            width: 100%;<br>        }<br>        .wandb-col {<br>            display: flex;<br>            flex-direction: column;<br>            flex-basis: 100%;<br>            flex: 1;<br>            padding: 10px;<br>        }<br>    </style><br><div class=\"wandb-row\"><div class=\"wandb-col\"><h3>Run history:</h3><br/><table class=\"wandb\"><tr><td>Acceptance</td><td>▁</td></tr><tr><td>Max S/sqrt(B)</td><td>▁</td></tr><tr><td>Test ROC AUC</td><td>▁</td></tr><tr><td>bdtscore2 cut</td><td>▁</td></tr><tr><td>iteration</td><td>▁▁▁▁▁▂▂▂▂▂▂▂▃▃▃▃▃▃▄▄▄▄▅▅▅▅▅▆▆▆▆▆▇▇▇▇████</td></tr><tr><td>test_logloss</td><td>█▇▆▆▅▃▃▃▃▂▁▁▁▁▁▁▁▁▁▁▁▁▁▁▁▁▁▁▁▁▁▁▁▁▁▁▁▁▁▁</td></tr><tr><td>train_logloss</td><td>█▆▆▅▄▄▃▂▂▂▂▂▂▂▂▁▁▁▁▁▁▁▁▁▁▁▁▁▁▁▁▁▁▁▁▁▁▁▁▁</td></tr></table><br/></div><div class=\"wandb-col\"><h3>Run summary:</h3><br/><table class=\"wandb\"><tr><td>Acceptance</td><td>0.57429</td></tr><tr><td>Max S/sqrt(B)</td><td>2.14019</td></tr><tr><td>Test ROC AUC</td><td>0.86358</td></tr><tr><td>bdtscore2 cut</td><td>0.03</td></tr><tr><td>iteration</td><td>146</td></tr><tr><td>test_logloss</td><td>0.0482</td></tr><tr><td>train_logloss</td><td>0.04418</td></tr></table><br/></div></div>"
      ],
      "text/plain": [
       "<IPython.core.display.HTML object>"
      ]
     },
     "metadata": {},
     "output_type": "display_data"
    },
    {
     "data": {
      "text/html": [
       " View run <strong style=\"color:#cdcd00\">effortless-sweep-11</strong> at: <a href='https://wandb.ai/dlai211/Dark_ph_BDT_Sweep_Reduced/runs/4ph4fz1u' target=\"_blank\">https://wandb.ai/dlai211/Dark_ph_BDT_Sweep_Reduced/runs/4ph4fz1u</a><br> View project at: <a href='https://wandb.ai/dlai211/Dark_ph_BDT_Sweep_Reduced' target=\"_blank\">https://wandb.ai/dlai211/Dark_ph_BDT_Sweep_Reduced</a><br>Synced 5 W&B file(s), 0 media file(s), 0 artifact file(s) and 0 other file(s)"
      ],
      "text/plain": [
       "<IPython.core.display.HTML object>"
      ]
     },
     "metadata": {},
     "output_type": "display_data"
    },
    {
     "data": {
      "text/html": [
       "Find logs at: <code>./wandb/run-20250819_174742-4ph4fz1u/logs</code>"
      ],
      "text/plain": [
       "<IPython.core.display.HTML object>"
      ]
     },
     "metadata": {},
     "output_type": "display_data"
    },
    {
     "name": "stderr",
     "output_type": "stream",
     "text": [
      "\u001b[34m\u001b[1mwandb\u001b[0m: Agent Starting Run: pkjojgt8 with config:\n",
      "\u001b[34m\u001b[1mwandb\u001b[0m: \tgamma: 0.8262413516957655\n",
      "\u001b[34m\u001b[1mwandb\u001b[0m: \tlearning_rate: 0.08661730040500193\n",
      "\u001b[34m\u001b[1mwandb\u001b[0m: \tmax_depth: 7\n",
      "\u001b[34m\u001b[1mwandb\u001b[0m: \tn_estimators: 750\n",
      "\u001b[34m\u001b[1mwandb\u001b[0m: \tsubsample: 0.5921085151620966\n"
     ]
    },
    {
     "data": {
      "text/html": [
       "Tracking run with wandb version 0.21.0"
      ],
      "text/plain": [
       "<IPython.core.display.HTML object>"
      ]
     },
     "metadata": {},
     "output_type": "display_data"
    },
    {
     "data": {
      "text/html": [
       "Run data is saved locally in <code>/home/jlai/ML/jet_faking/wandb/run-20250819_174748-pkjojgt8</code>"
      ],
      "text/plain": [
       "<IPython.core.display.HTML object>"
      ]
     },
     "metadata": {},
     "output_type": "display_data"
    },
    {
     "data": {
      "text/html": [
       "Syncing run <strong><a href='https://wandb.ai/dlai211/Dark_ph_BDT_Sweep_Reduced/runs/pkjojgt8' target=\"_blank\">magic-sweep-12</a></strong> to <a href='https://wandb.ai/dlai211/Dark_ph_BDT_Sweep_Reduced' target=\"_blank\">Weights & Biases</a> (<a href='https://wandb.me/developer-guide' target=\"_blank\">docs</a>)<br>Sweep page: <a href='https://wandb.ai/dlai211/Dark_ph_BDT_Sweep_Reduced/sweeps/woe18qc0' target=\"_blank\">https://wandb.ai/dlai211/Dark_ph_BDT_Sweep_Reduced/sweeps/woe18qc0</a>"
      ],
      "text/plain": [
       "<IPython.core.display.HTML object>"
      ]
     },
     "metadata": {},
     "output_type": "display_data"
    },
    {
     "data": {
      "text/html": [
       " View project at <a href='https://wandb.ai/dlai211/Dark_ph_BDT_Sweep_Reduced' target=\"_blank\">https://wandb.ai/dlai211/Dark_ph_BDT_Sweep_Reduced</a>"
      ],
      "text/plain": [
       "<IPython.core.display.HTML object>"
      ]
     },
     "metadata": {},
     "output_type": "display_data"
    },
    {
     "data": {
      "text/html": [
       " View sweep at <a href='https://wandb.ai/dlai211/Dark_ph_BDT_Sweep_Reduced/sweeps/woe18qc0' target=\"_blank\">https://wandb.ai/dlai211/Dark_ph_BDT_Sweep_Reduced/sweeps/woe18qc0</a>"
      ],
      "text/plain": [
       "<IPython.core.display.HTML object>"
      ]
     },
     "metadata": {},
     "output_type": "display_data"
    },
    {
     "data": {
      "text/html": [
       " View run at <a href='https://wandb.ai/dlai211/Dark_ph_BDT_Sweep_Reduced/runs/pkjojgt8' target=\"_blank\">https://wandb.ai/dlai211/Dark_ph_BDT_Sweep_Reduced/runs/pkjojgt8</a>"
      ],
      "text/plain": [
       "<IPython.core.display.HTML object>"
      ]
     },
     "metadata": {},
     "output_type": "display_data"
    },
    {
     "data": {
      "text/html": [],
      "text/plain": [
       "<IPython.core.display.HTML object>"
      ]
     },
     "metadata": {},
     "output_type": "display_data"
    },
    {
     "data": {
      "text/html": [
       "<br>    <style><br>        .wandb-row {<br>            display: flex;<br>            flex-direction: row;<br>            flex-wrap: wrap;<br>            justify-content: flex-start;<br>            width: 100%;<br>        }<br>        .wandb-col {<br>            display: flex;<br>            flex-direction: column;<br>            flex-basis: 100%;<br>            flex: 1;<br>            padding: 10px;<br>        }<br>    </style><br><div class=\"wandb-row\"><div class=\"wandb-col\"><h3>Run history:</h3><br/><table class=\"wandb\"><tr><td>Acceptance</td><td>▁</td></tr><tr><td>Max S/sqrt(B)</td><td>▁</td></tr><tr><td>Test ROC AUC</td><td>▁</td></tr><tr><td>bdtscore2 cut</td><td>▁</td></tr><tr><td>iteration</td><td>▁▁▂▂▂▂▂▂▂▃▃▃▃▃▃▄▄▄▅▅▅▅▅▆▆▆▆▆▆▆▇▇▇▇▇▇████</td></tr><tr><td>test_logloss</td><td>█▇▇▆▆▄▄▃▃▃▂▂▂▂▂▂▂▂▁▁▁▁▁▁▁▁▁▁▁▁▁▁▁▁▁▁▁▁▁▁</td></tr><tr><td>train_logloss</td><td>█▇▇▆▅▃▃▃▃▂▂▂▂▂▂▁▁▁▁▁▁▁▁▁▁▁▁▁▁▁▁▁▁▁▁▁▁▁▁▁</td></tr></table><br/></div><div class=\"wandb-col\"><h3>Run summary:</h3><br/><table class=\"wandb\"><tr><td>Acceptance</td><td>0.58872</td></tr><tr><td>Max S/sqrt(B)</td><td>2.15318</td></tr><tr><td>Test ROC AUC</td><td>0.86487</td></tr><tr><td>bdtscore2 cut</td><td>0.03</td></tr><tr><td>iteration</td><td>83</td></tr><tr><td>test_logloss</td><td>0.04805</td></tr><tr><td>train_logloss</td><td>0.04381</td></tr></table><br/></div></div>"
      ],
      "text/plain": [
       "<IPython.core.display.HTML object>"
      ]
     },
     "metadata": {},
     "output_type": "display_data"
    },
    {
     "data": {
      "text/html": [
       " View run <strong style=\"color:#cdcd00\">magic-sweep-12</strong> at: <a href='https://wandb.ai/dlai211/Dark_ph_BDT_Sweep_Reduced/runs/pkjojgt8' target=\"_blank\">https://wandb.ai/dlai211/Dark_ph_BDT_Sweep_Reduced/runs/pkjojgt8</a><br> View project at: <a href='https://wandb.ai/dlai211/Dark_ph_BDT_Sweep_Reduced' target=\"_blank\">https://wandb.ai/dlai211/Dark_ph_BDT_Sweep_Reduced</a><br>Synced 5 W&B file(s), 0 media file(s), 0 artifact file(s) and 0 other file(s)"
      ],
      "text/plain": [
       "<IPython.core.display.HTML object>"
      ]
     },
     "metadata": {},
     "output_type": "display_data"
    },
    {
     "data": {
      "text/html": [
       "Find logs at: <code>./wandb/run-20250819_174748-pkjojgt8/logs</code>"
      ],
      "text/plain": [
       "<IPython.core.display.HTML object>"
      ]
     },
     "metadata": {},
     "output_type": "display_data"
    },
    {
     "name": "stderr",
     "output_type": "stream",
     "text": [
      "\u001b[34m\u001b[1mwandb\u001b[0m: Agent Starting Run: wnv29t1t with config:\n",
      "\u001b[34m\u001b[1mwandb\u001b[0m: \tgamma: 0.3863817143326701\n",
      "\u001b[34m\u001b[1mwandb\u001b[0m: \tlearning_rate: 0.03834963457116602\n",
      "\u001b[34m\u001b[1mwandb\u001b[0m: \tmax_depth: 5\n",
      "\u001b[34m\u001b[1mwandb\u001b[0m: \tn_estimators: 267\n",
      "\u001b[34m\u001b[1mwandb\u001b[0m: \tsubsample: 0.41974520946428895\n"
     ]
    },
    {
     "data": {
      "text/html": [
       "Tracking run with wandb version 0.21.0"
      ],
      "text/plain": [
       "<IPython.core.display.HTML object>"
      ]
     },
     "metadata": {},
     "output_type": "display_data"
    },
    {
     "data": {
      "text/html": [
       "Run data is saved locally in <code>/home/jlai/ML/jet_faking/wandb/run-20250819_174754-wnv29t1t</code>"
      ],
      "text/plain": [
       "<IPython.core.display.HTML object>"
      ]
     },
     "metadata": {},
     "output_type": "display_data"
    },
    {
     "data": {
      "text/html": [
       "Syncing run <strong><a href='https://wandb.ai/dlai211/Dark_ph_BDT_Sweep_Reduced/runs/wnv29t1t' target=\"_blank\">faithful-sweep-13</a></strong> to <a href='https://wandb.ai/dlai211/Dark_ph_BDT_Sweep_Reduced' target=\"_blank\">Weights & Biases</a> (<a href='https://wandb.me/developer-guide' target=\"_blank\">docs</a>)<br>Sweep page: <a href='https://wandb.ai/dlai211/Dark_ph_BDT_Sweep_Reduced/sweeps/woe18qc0' target=\"_blank\">https://wandb.ai/dlai211/Dark_ph_BDT_Sweep_Reduced/sweeps/woe18qc0</a>"
      ],
      "text/plain": [
       "<IPython.core.display.HTML object>"
      ]
     },
     "metadata": {},
     "output_type": "display_data"
    },
    {
     "data": {
      "text/html": [
       " View project at <a href='https://wandb.ai/dlai211/Dark_ph_BDT_Sweep_Reduced' target=\"_blank\">https://wandb.ai/dlai211/Dark_ph_BDT_Sweep_Reduced</a>"
      ],
      "text/plain": [
       "<IPython.core.display.HTML object>"
      ]
     },
     "metadata": {},
     "output_type": "display_data"
    },
    {
     "data": {
      "text/html": [
       " View sweep at <a href='https://wandb.ai/dlai211/Dark_ph_BDT_Sweep_Reduced/sweeps/woe18qc0' target=\"_blank\">https://wandb.ai/dlai211/Dark_ph_BDT_Sweep_Reduced/sweeps/woe18qc0</a>"
      ],
      "text/plain": [
       "<IPython.core.display.HTML object>"
      ]
     },
     "metadata": {},
     "output_type": "display_data"
    },
    {
     "data": {
      "text/html": [
       " View run at <a href='https://wandb.ai/dlai211/Dark_ph_BDT_Sweep_Reduced/runs/wnv29t1t' target=\"_blank\">https://wandb.ai/dlai211/Dark_ph_BDT_Sweep_Reduced/runs/wnv29t1t</a>"
      ],
      "text/plain": [
       "<IPython.core.display.HTML object>"
      ]
     },
     "metadata": {},
     "output_type": "display_data"
    },
    {
     "data": {
      "text/html": [],
      "text/plain": [
       "<IPython.core.display.HTML object>"
      ]
     },
     "metadata": {},
     "output_type": "display_data"
    },
    {
     "data": {
      "text/html": [
       "<br>    <style><br>        .wandb-row {<br>            display: flex;<br>            flex-direction: row;<br>            flex-wrap: wrap;<br>            justify-content: flex-start;<br>            width: 100%;<br>        }<br>        .wandb-col {<br>            display: flex;<br>            flex-direction: column;<br>            flex-basis: 100%;<br>            flex: 1;<br>            padding: 10px;<br>        }<br>    </style><br><div class=\"wandb-row\"><div class=\"wandb-col\"><h3>Run history:</h3><br/><table class=\"wandb\"><tr><td>Acceptance</td><td>▁</td></tr><tr><td>Max S/sqrt(B)</td><td>▁</td></tr><tr><td>Test ROC AUC</td><td>▁</td></tr><tr><td>bdtscore2 cut</td><td>▁</td></tr><tr><td>iteration</td><td>▁▁▁▁▁▂▂▂▂▂▃▃▃▃▃▄▄▄▄▄▄▅▅▅▅▅▅▅▅▆▆▆▆▇▇▇▇▇██</td></tr><tr><td>test_logloss</td><td>█▇▇▇▆▄▄▃▃▃▂▂▂▂▂▂▂▂▂▁▁▁▁▁▁▁▁▁▁▁▁▁▁▁▁▁▁▁▁▁</td></tr><tr><td>train_logloss</td><td>█▇▇▇▇▅▄▄▃▃▃▃▃▃▂▂▂▂▂▂▂▂▂▂▁▁▁▁▁▁▁▁▁▁▁▁▁▁▁▁</td></tr></table><br/></div><div class=\"wandb-col\"><h3>Run summary:</h3><br/><table class=\"wandb\"><tr><td>Acceptance</td><td>0.62719</td></tr><tr><td>Max S/sqrt(B)</td><td>2.18189</td></tr><tr><td>Test ROC AUC</td><td>0.86709</td></tr><tr><td>bdtscore2 cut</td><td>0.03</td></tr><tr><td>iteration</td><td>146</td></tr><tr><td>test_logloss</td><td>0.04821</td></tr><tr><td>train_logloss</td><td>0.04415</td></tr></table><br/></div></div>"
      ],
      "text/plain": [
       "<IPython.core.display.HTML object>"
      ]
     },
     "metadata": {},
     "output_type": "display_data"
    },
    {
     "data": {
      "text/html": [
       " View run <strong style=\"color:#cdcd00\">faithful-sweep-13</strong> at: <a href='https://wandb.ai/dlai211/Dark_ph_BDT_Sweep_Reduced/runs/wnv29t1t' target=\"_blank\">https://wandb.ai/dlai211/Dark_ph_BDT_Sweep_Reduced/runs/wnv29t1t</a><br> View project at: <a href='https://wandb.ai/dlai211/Dark_ph_BDT_Sweep_Reduced' target=\"_blank\">https://wandb.ai/dlai211/Dark_ph_BDT_Sweep_Reduced</a><br>Synced 5 W&B file(s), 0 media file(s), 0 artifact file(s) and 0 other file(s)"
      ],
      "text/plain": [
       "<IPython.core.display.HTML object>"
      ]
     },
     "metadata": {},
     "output_type": "display_data"
    },
    {
     "data": {
      "text/html": [
       "Find logs at: <code>./wandb/run-20250819_174754-wnv29t1t/logs</code>"
      ],
      "text/plain": [
       "<IPython.core.display.HTML object>"
      ]
     },
     "metadata": {},
     "output_type": "display_data"
    },
    {
     "name": "stderr",
     "output_type": "stream",
     "text": [
      "\u001b[34m\u001b[1mwandb\u001b[0m: Agent Starting Run: m6obcdn5 with config:\n",
      "\u001b[34m\u001b[1mwandb\u001b[0m: \tgamma: 0.8949422289878639\n",
      "\u001b[34m\u001b[1mwandb\u001b[0m: \tlearning_rate: 0.04968490388608154\n",
      "\u001b[34m\u001b[1mwandb\u001b[0m: \tmax_depth: 6\n",
      "\u001b[34m\u001b[1mwandb\u001b[0m: \tn_estimators: 320\n",
      "\u001b[34m\u001b[1mwandb\u001b[0m: \tsubsample: 0.5114836270451206\n"
     ]
    },
    {
     "data": {
      "text/html": [
       "Tracking run with wandb version 0.21.0"
      ],
      "text/plain": [
       "<IPython.core.display.HTML object>"
      ]
     },
     "metadata": {},
     "output_type": "display_data"
    },
    {
     "data": {
      "text/html": [
       "Run data is saved locally in <code>/home/jlai/ML/jet_faking/wandb/run-20250819_174759-m6obcdn5</code>"
      ],
      "text/plain": [
       "<IPython.core.display.HTML object>"
      ]
     },
     "metadata": {},
     "output_type": "display_data"
    },
    {
     "data": {
      "text/html": [
       "Syncing run <strong><a href='https://wandb.ai/dlai211/Dark_ph_BDT_Sweep_Reduced/runs/m6obcdn5' target=\"_blank\">curious-sweep-14</a></strong> to <a href='https://wandb.ai/dlai211/Dark_ph_BDT_Sweep_Reduced' target=\"_blank\">Weights & Biases</a> (<a href='https://wandb.me/developer-guide' target=\"_blank\">docs</a>)<br>Sweep page: <a href='https://wandb.ai/dlai211/Dark_ph_BDT_Sweep_Reduced/sweeps/woe18qc0' target=\"_blank\">https://wandb.ai/dlai211/Dark_ph_BDT_Sweep_Reduced/sweeps/woe18qc0</a>"
      ],
      "text/plain": [
       "<IPython.core.display.HTML object>"
      ]
     },
     "metadata": {},
     "output_type": "display_data"
    },
    {
     "data": {
      "text/html": [
       " View project at <a href='https://wandb.ai/dlai211/Dark_ph_BDT_Sweep_Reduced' target=\"_blank\">https://wandb.ai/dlai211/Dark_ph_BDT_Sweep_Reduced</a>"
      ],
      "text/plain": [
       "<IPython.core.display.HTML object>"
      ]
     },
     "metadata": {},
     "output_type": "display_data"
    },
    {
     "data": {
      "text/html": [
       " View sweep at <a href='https://wandb.ai/dlai211/Dark_ph_BDT_Sweep_Reduced/sweeps/woe18qc0' target=\"_blank\">https://wandb.ai/dlai211/Dark_ph_BDT_Sweep_Reduced/sweeps/woe18qc0</a>"
      ],
      "text/plain": [
       "<IPython.core.display.HTML object>"
      ]
     },
     "metadata": {},
     "output_type": "display_data"
    },
    {
     "data": {
      "text/html": [
       " View run at <a href='https://wandb.ai/dlai211/Dark_ph_BDT_Sweep_Reduced/runs/m6obcdn5' target=\"_blank\">https://wandb.ai/dlai211/Dark_ph_BDT_Sweep_Reduced/runs/m6obcdn5</a>"
      ],
      "text/plain": [
       "<IPython.core.display.HTML object>"
      ]
     },
     "metadata": {},
     "output_type": "display_data"
    },
    {
     "data": {
      "text/html": [],
      "text/plain": [
       "<IPython.core.display.HTML object>"
      ]
     },
     "metadata": {},
     "output_type": "display_data"
    },
    {
     "data": {
      "text/html": [
       "<br>    <style><br>        .wandb-row {<br>            display: flex;<br>            flex-direction: row;<br>            flex-wrap: wrap;<br>            justify-content: flex-start;<br>            width: 100%;<br>        }<br>        .wandb-col {<br>            display: flex;<br>            flex-direction: column;<br>            flex-basis: 100%;<br>            flex: 1;<br>            padding: 10px;<br>        }<br>    </style><br><div class=\"wandb-row\"><div class=\"wandb-col\"><h3>Run history:</h3><br/><table class=\"wandb\"><tr><td>Acceptance</td><td>▁</td></tr><tr><td>Max S/sqrt(B)</td><td>▁</td></tr><tr><td>Test ROC AUC</td><td>▁</td></tr><tr><td>bdtscore2 cut</td><td>▁</td></tr><tr><td>iteration</td><td>▁▁▁▁▂▂▂▂▂▃▃▃▃▃▄▄▄▄▄▅▅▅▅▅▅▅▅▆▆▆▆▆▆▇▇▇▇███</td></tr><tr><td>test_logloss</td><td>█▇▇▆▆▄▃▂▂▂▂▁▁▁▁▁▁▁▁▁▁▁▁▁▁▁▁▁▁▁▁▁▁▁▁▁▁▁▁▁</td></tr><tr><td>train_logloss</td><td>█▇▆▅▄▃▃▂▂▂▂▂▂▂▁▁▁▁▁▁▁▁▁▁▁▁▁▁▁▁▁▁▁▁▁▁▁▁▁▁</td></tr></table><br/></div><div class=\"wandb-col\"><h3>Run summary:</h3><br/><table class=\"wandb\"><tr><td>Acceptance</td><td>0.58764</td></tr><tr><td>Max S/sqrt(B)</td><td>2.14483</td></tr><tr><td>Test ROC AUC</td><td>0.86519</td></tr><tr><td>bdtscore2 cut</td><td>0.03</td></tr><tr><td>iteration</td><td>156</td></tr><tr><td>test_logloss</td><td>0.04805</td></tr><tr><td>train_logloss</td><td>0.04416</td></tr></table><br/></div></div>"
      ],
      "text/plain": [
       "<IPython.core.display.HTML object>"
      ]
     },
     "metadata": {},
     "output_type": "display_data"
    },
    {
     "data": {
      "text/html": [
       " View run <strong style=\"color:#cdcd00\">curious-sweep-14</strong> at: <a href='https://wandb.ai/dlai211/Dark_ph_BDT_Sweep_Reduced/runs/m6obcdn5' target=\"_blank\">https://wandb.ai/dlai211/Dark_ph_BDT_Sweep_Reduced/runs/m6obcdn5</a><br> View project at: <a href='https://wandb.ai/dlai211/Dark_ph_BDT_Sweep_Reduced' target=\"_blank\">https://wandb.ai/dlai211/Dark_ph_BDT_Sweep_Reduced</a><br>Synced 5 W&B file(s), 0 media file(s), 0 artifact file(s) and 0 other file(s)"
      ],
      "text/plain": [
       "<IPython.core.display.HTML object>"
      ]
     },
     "metadata": {},
     "output_type": "display_data"
    },
    {
     "data": {
      "text/html": [
       "Find logs at: <code>./wandb/run-20250819_174759-m6obcdn5/logs</code>"
      ],
      "text/plain": [
       "<IPython.core.display.HTML object>"
      ]
     },
     "metadata": {},
     "output_type": "display_data"
    },
    {
     "name": "stderr",
     "output_type": "stream",
     "text": [
      "\u001b[34m\u001b[1mwandb\u001b[0m: Agent Starting Run: a22ht4l4 with config:\n",
      "\u001b[34m\u001b[1mwandb\u001b[0m: \tgamma: 0.5025377800377705\n",
      "\u001b[34m\u001b[1mwandb\u001b[0m: \tlearning_rate: 0.06944105432329192\n",
      "\u001b[34m\u001b[1mwandb\u001b[0m: \tmax_depth: 4\n",
      "\u001b[34m\u001b[1mwandb\u001b[0m: \tn_estimators: 180\n",
      "\u001b[34m\u001b[1mwandb\u001b[0m: \tsubsample: 0.34115236072997634\n"
     ]
    },
    {
     "data": {
      "text/html": [
       "Tracking run with wandb version 0.21.0"
      ],
      "text/plain": [
       "<IPython.core.display.HTML object>"
      ]
     },
     "metadata": {},
     "output_type": "display_data"
    },
    {
     "data": {
      "text/html": [
       "Run data is saved locally in <code>/home/jlai/ML/jet_faking/wandb/run-20250819_174804-a22ht4l4</code>"
      ],
      "text/plain": [
       "<IPython.core.display.HTML object>"
      ]
     },
     "metadata": {},
     "output_type": "display_data"
    },
    {
     "data": {
      "text/html": [
       "Syncing run <strong><a href='https://wandb.ai/dlai211/Dark_ph_BDT_Sweep_Reduced/runs/a22ht4l4' target=\"_blank\">toasty-sweep-15</a></strong> to <a href='https://wandb.ai/dlai211/Dark_ph_BDT_Sweep_Reduced' target=\"_blank\">Weights & Biases</a> (<a href='https://wandb.me/developer-guide' target=\"_blank\">docs</a>)<br>Sweep page: <a href='https://wandb.ai/dlai211/Dark_ph_BDT_Sweep_Reduced/sweeps/woe18qc0' target=\"_blank\">https://wandb.ai/dlai211/Dark_ph_BDT_Sweep_Reduced/sweeps/woe18qc0</a>"
      ],
      "text/plain": [
       "<IPython.core.display.HTML object>"
      ]
     },
     "metadata": {},
     "output_type": "display_data"
    },
    {
     "data": {
      "text/html": [
       " View project at <a href='https://wandb.ai/dlai211/Dark_ph_BDT_Sweep_Reduced' target=\"_blank\">https://wandb.ai/dlai211/Dark_ph_BDT_Sweep_Reduced</a>"
      ],
      "text/plain": [
       "<IPython.core.display.HTML object>"
      ]
     },
     "metadata": {},
     "output_type": "display_data"
    },
    {
     "data": {
      "text/html": [
       " View sweep at <a href='https://wandb.ai/dlai211/Dark_ph_BDT_Sweep_Reduced/sweeps/woe18qc0' target=\"_blank\">https://wandb.ai/dlai211/Dark_ph_BDT_Sweep_Reduced/sweeps/woe18qc0</a>"
      ],
      "text/plain": [
       "<IPython.core.display.HTML object>"
      ]
     },
     "metadata": {},
     "output_type": "display_data"
    },
    {
     "data": {
      "text/html": [
       " View run at <a href='https://wandb.ai/dlai211/Dark_ph_BDT_Sweep_Reduced/runs/a22ht4l4' target=\"_blank\">https://wandb.ai/dlai211/Dark_ph_BDT_Sweep_Reduced/runs/a22ht4l4</a>"
      ],
      "text/plain": [
       "<IPython.core.display.HTML object>"
      ]
     },
     "metadata": {},
     "output_type": "display_data"
    },
    {
     "data": {
      "text/html": [],
      "text/plain": [
       "<IPython.core.display.HTML object>"
      ]
     },
     "metadata": {},
     "output_type": "display_data"
    },
    {
     "data": {
      "text/html": [
       "<br>    <style><br>        .wandb-row {<br>            display: flex;<br>            flex-direction: row;<br>            flex-wrap: wrap;<br>            justify-content: flex-start;<br>            width: 100%;<br>        }<br>        .wandb-col {<br>            display: flex;<br>            flex-direction: column;<br>            flex-basis: 100%;<br>            flex: 1;<br>            padding: 10px;<br>        }<br>    </style><br><div class=\"wandb-row\"><div class=\"wandb-col\"><h3>Run history:</h3><br/><table class=\"wandb\"><tr><td>Acceptance</td><td>▁</td></tr><tr><td>Max S/sqrt(B)</td><td>▁</td></tr><tr><td>Test ROC AUC</td><td>▁</td></tr><tr><td>bdtscore2 cut</td><td>▁</td></tr><tr><td>iteration</td><td>▁▁▁▁▁▂▂▂▂▂▃▄▄▄▄▄▄▄▄▅▅▅▅▅▆▆▆▆▆▆▇▇▇▇▇▇▇███</td></tr><tr><td>test_logloss</td><td>█▇▆▅▄▄▂▂▂▂▂▂▂▂▁▁▁▁▁▁▁▁▁▁▁▁▁▁▁▁▁▁▁▁▁▁▁▁▁▁</td></tr><tr><td>train_logloss</td><td>█▇▄▄▄▃▃▃▂▂▂▂▁▁▁▁▁▁▁▁▁▁▁▁▁▁▁▁▁▁▁▁▁▁▁▁▁▁▁▁</td></tr></table><br/></div><div class=\"wandb-col\"><h3>Run summary:</h3><br/><table class=\"wandb\"><tr><td>Acceptance</td><td>0.63288</td></tr><tr><td>Max S/sqrt(B)</td><td>2.24922</td></tr><tr><td>Test ROC AUC</td><td>0.87202</td></tr><tr><td>bdtscore2 cut</td><td>0.03</td></tr><tr><td>iteration</td><td>154</td></tr><tr><td>test_logloss</td><td>0.04754</td></tr><tr><td>train_logloss</td><td>0.04317</td></tr></table><br/></div></div>"
      ],
      "text/plain": [
       "<IPython.core.display.HTML object>"
      ]
     },
     "metadata": {},
     "output_type": "display_data"
    },
    {
     "data": {
      "text/html": [
       " View run <strong style=\"color:#cdcd00\">toasty-sweep-15</strong> at: <a href='https://wandb.ai/dlai211/Dark_ph_BDT_Sweep_Reduced/runs/a22ht4l4' target=\"_blank\">https://wandb.ai/dlai211/Dark_ph_BDT_Sweep_Reduced/runs/a22ht4l4</a><br> View project at: <a href='https://wandb.ai/dlai211/Dark_ph_BDT_Sweep_Reduced' target=\"_blank\">https://wandb.ai/dlai211/Dark_ph_BDT_Sweep_Reduced</a><br>Synced 5 W&B file(s), 0 media file(s), 0 artifact file(s) and 0 other file(s)"
      ],
      "text/plain": [
       "<IPython.core.display.HTML object>"
      ]
     },
     "metadata": {},
     "output_type": "display_data"
    },
    {
     "data": {
      "text/html": [
       "Find logs at: <code>./wandb/run-20250819_174804-a22ht4l4/logs</code>"
      ],
      "text/plain": [
       "<IPython.core.display.HTML object>"
      ]
     },
     "metadata": {},
     "output_type": "display_data"
    },
    {
     "name": "stderr",
     "output_type": "stream",
     "text": [
      "\u001b[34m\u001b[1mwandb\u001b[0m: Agent Starting Run: vib7q3jo with config:\n",
      "\u001b[34m\u001b[1mwandb\u001b[0m: \tgamma: 0.5461491207666914\n",
      "\u001b[34m\u001b[1mwandb\u001b[0m: \tlearning_rate: 0.02386027228407448\n",
      "\u001b[34m\u001b[1mwandb\u001b[0m: \tmax_depth: 5\n",
      "\u001b[34m\u001b[1mwandb\u001b[0m: \tn_estimators: 810\n",
      "\u001b[34m\u001b[1mwandb\u001b[0m: \tsubsample: 0.5101752851630419\n"
     ]
    },
    {
     "data": {
      "text/html": [
       "Tracking run with wandb version 0.21.0"
      ],
      "text/plain": [
       "<IPython.core.display.HTML object>"
      ]
     },
     "metadata": {},
     "output_type": "display_data"
    },
    {
     "data": {
      "text/html": [
       "Run data is saved locally in <code>/home/jlai/ML/jet_faking/wandb/run-20250819_174809-vib7q3jo</code>"
      ],
      "text/plain": [
       "<IPython.core.display.HTML object>"
      ]
     },
     "metadata": {},
     "output_type": "display_data"
    },
    {
     "data": {
      "text/html": [
       "Syncing run <strong><a href='https://wandb.ai/dlai211/Dark_ph_BDT_Sweep_Reduced/runs/vib7q3jo' target=\"_blank\">serene-sweep-16</a></strong> to <a href='https://wandb.ai/dlai211/Dark_ph_BDT_Sweep_Reduced' target=\"_blank\">Weights & Biases</a> (<a href='https://wandb.me/developer-guide' target=\"_blank\">docs</a>)<br>Sweep page: <a href='https://wandb.ai/dlai211/Dark_ph_BDT_Sweep_Reduced/sweeps/woe18qc0' target=\"_blank\">https://wandb.ai/dlai211/Dark_ph_BDT_Sweep_Reduced/sweeps/woe18qc0</a>"
      ],
      "text/plain": [
       "<IPython.core.display.HTML object>"
      ]
     },
     "metadata": {},
     "output_type": "display_data"
    },
    {
     "data": {
      "text/html": [
       " View project at <a href='https://wandb.ai/dlai211/Dark_ph_BDT_Sweep_Reduced' target=\"_blank\">https://wandb.ai/dlai211/Dark_ph_BDT_Sweep_Reduced</a>"
      ],
      "text/plain": [
       "<IPython.core.display.HTML object>"
      ]
     },
     "metadata": {},
     "output_type": "display_data"
    },
    {
     "data": {
      "text/html": [
       " View sweep at <a href='https://wandb.ai/dlai211/Dark_ph_BDT_Sweep_Reduced/sweeps/woe18qc0' target=\"_blank\">https://wandb.ai/dlai211/Dark_ph_BDT_Sweep_Reduced/sweeps/woe18qc0</a>"
      ],
      "text/plain": [
       "<IPython.core.display.HTML object>"
      ]
     },
     "metadata": {},
     "output_type": "display_data"
    },
    {
     "data": {
      "text/html": [
       " View run at <a href='https://wandb.ai/dlai211/Dark_ph_BDT_Sweep_Reduced/runs/vib7q3jo' target=\"_blank\">https://wandb.ai/dlai211/Dark_ph_BDT_Sweep_Reduced/runs/vib7q3jo</a>"
      ],
      "text/plain": [
       "<IPython.core.display.HTML object>"
      ]
     },
     "metadata": {},
     "output_type": "display_data"
    },
    {
     "data": {
      "text/html": [],
      "text/plain": [
       "<IPython.core.display.HTML object>"
      ]
     },
     "metadata": {},
     "output_type": "display_data"
    },
    {
     "data": {
      "text/html": [
       "<br>    <style><br>        .wandb-row {<br>            display: flex;<br>            flex-direction: row;<br>            flex-wrap: wrap;<br>            justify-content: flex-start;<br>            width: 100%;<br>        }<br>        .wandb-col {<br>            display: flex;<br>            flex-direction: column;<br>            flex-basis: 100%;<br>            flex: 1;<br>            padding: 10px;<br>        }<br>    </style><br><div class=\"wandb-row\"><div class=\"wandb-col\"><h3>Run history:</h3><br/><table class=\"wandb\"><tr><td>Acceptance</td><td>▁</td></tr><tr><td>Max S/sqrt(B)</td><td>▁</td></tr><tr><td>Test ROC AUC</td><td>▁</td></tr><tr><td>bdtscore2 cut</td><td>▁</td></tr><tr><td>iteration</td><td>▁▁▁▂▂▂▂▂▂▂▃▃▃▃▃▄▄▄▅▅▅▅▅▅▅▆▆▆▆▆▆▇▇▇▇▇▇███</td></tr><tr><td>test_logloss</td><td>█▇▇▆▅▄▃▃▃▃▂▂▂▂▂▂▂▂▂▂▁▁▁▁▁▁▁▁▁▁▁▁▁▁▁▁▁▁▁▁</td></tr><tr><td>train_logloss</td><td>█▇▇▇▆▅▅▅▅▄▄▄▃▃▃▃▃▃▃▃▂▂▂▂▂▂▂▂▁▁▁▁▁▁▁▁▁▁▁▁</td></tr></table><br/></div><div class=\"wandb-col\"><h3>Run summary:</h3><br/><table class=\"wandb\"><tr><td>Acceptance</td><td>0.61394</td></tr><tr><td>Max S/sqrt(B)</td><td>2.11929</td></tr><tr><td>Test ROC AUC</td><td>0.86275</td></tr><tr><td>bdtscore2 cut</td><td>0.03</td></tr><tr><td>iteration</td><td>191</td></tr><tr><td>test_logloss</td><td>0.04898</td></tr><tr><td>train_logloss</td><td>0.04535</td></tr></table><br/></div></div>"
      ],
      "text/plain": [
       "<IPython.core.display.HTML object>"
      ]
     },
     "metadata": {},
     "output_type": "display_data"
    },
    {
     "data": {
      "text/html": [
       " View run <strong style=\"color:#cdcd00\">serene-sweep-16</strong> at: <a href='https://wandb.ai/dlai211/Dark_ph_BDT_Sweep_Reduced/runs/vib7q3jo' target=\"_blank\">https://wandb.ai/dlai211/Dark_ph_BDT_Sweep_Reduced/runs/vib7q3jo</a><br> View project at: <a href='https://wandb.ai/dlai211/Dark_ph_BDT_Sweep_Reduced' target=\"_blank\">https://wandb.ai/dlai211/Dark_ph_BDT_Sweep_Reduced</a><br>Synced 5 W&B file(s), 0 media file(s), 0 artifact file(s) and 0 other file(s)"
      ],
      "text/plain": [
       "<IPython.core.display.HTML object>"
      ]
     },
     "metadata": {},
     "output_type": "display_data"
    },
    {
     "data": {
      "text/html": [
       "Find logs at: <code>./wandb/run-20250819_174809-vib7q3jo/logs</code>"
      ],
      "text/plain": [
       "<IPython.core.display.HTML object>"
      ]
     },
     "metadata": {},
     "output_type": "display_data"
    },
    {
     "name": "stderr",
     "output_type": "stream",
     "text": [
      "\u001b[34m\u001b[1mwandb\u001b[0m: Agent Starting Run: 6ibqz9z2 with config:\n",
      "\u001b[34m\u001b[1mwandb\u001b[0m: \tgamma: 0.7566450733832677\n",
      "\u001b[34m\u001b[1mwandb\u001b[0m: \tlearning_rate: 0.009408222828077474\n",
      "\u001b[34m\u001b[1mwandb\u001b[0m: \tmax_depth: 7\n",
      "\u001b[34m\u001b[1mwandb\u001b[0m: \tn_estimators: 446\n",
      "\u001b[34m\u001b[1mwandb\u001b[0m: \tsubsample: 0.31761111908689554\n"
     ]
    },
    {
     "data": {
      "text/html": [
       "Tracking run with wandb version 0.21.0"
      ],
      "text/plain": [
       "<IPython.core.display.HTML object>"
      ]
     },
     "metadata": {},
     "output_type": "display_data"
    },
    {
     "data": {
      "text/html": [
       "Run data is saved locally in <code>/home/jlai/ML/jet_faking/wandb/run-20250819_174815-6ibqz9z2</code>"
      ],
      "text/plain": [
       "<IPython.core.display.HTML object>"
      ]
     },
     "metadata": {},
     "output_type": "display_data"
    },
    {
     "data": {
      "text/html": [
       "Syncing run <strong><a href='https://wandb.ai/dlai211/Dark_ph_BDT_Sweep_Reduced/runs/6ibqz9z2' target=\"_blank\">hardy-sweep-17</a></strong> to <a href='https://wandb.ai/dlai211/Dark_ph_BDT_Sweep_Reduced' target=\"_blank\">Weights & Biases</a> (<a href='https://wandb.me/developer-guide' target=\"_blank\">docs</a>)<br>Sweep page: <a href='https://wandb.ai/dlai211/Dark_ph_BDT_Sweep_Reduced/sweeps/woe18qc0' target=\"_blank\">https://wandb.ai/dlai211/Dark_ph_BDT_Sweep_Reduced/sweeps/woe18qc0</a>"
      ],
      "text/plain": [
       "<IPython.core.display.HTML object>"
      ]
     },
     "metadata": {},
     "output_type": "display_data"
    },
    {
     "data": {
      "text/html": [
       " View project at <a href='https://wandb.ai/dlai211/Dark_ph_BDT_Sweep_Reduced' target=\"_blank\">https://wandb.ai/dlai211/Dark_ph_BDT_Sweep_Reduced</a>"
      ],
      "text/plain": [
       "<IPython.core.display.HTML object>"
      ]
     },
     "metadata": {},
     "output_type": "display_data"
    },
    {
     "data": {
      "text/html": [
       " View sweep at <a href='https://wandb.ai/dlai211/Dark_ph_BDT_Sweep_Reduced/sweeps/woe18qc0' target=\"_blank\">https://wandb.ai/dlai211/Dark_ph_BDT_Sweep_Reduced/sweeps/woe18qc0</a>"
      ],
      "text/plain": [
       "<IPython.core.display.HTML object>"
      ]
     },
     "metadata": {},
     "output_type": "display_data"
    },
    {
     "data": {
      "text/html": [
       " View run at <a href='https://wandb.ai/dlai211/Dark_ph_BDT_Sweep_Reduced/runs/6ibqz9z2' target=\"_blank\">https://wandb.ai/dlai211/Dark_ph_BDT_Sweep_Reduced/runs/6ibqz9z2</a>"
      ],
      "text/plain": [
       "<IPython.core.display.HTML object>"
      ]
     },
     "metadata": {},
     "output_type": "display_data"
    },
    {
     "data": {
      "text/html": [],
      "text/plain": [
       "<IPython.core.display.HTML object>"
      ]
     },
     "metadata": {},
     "output_type": "display_data"
    },
    {
     "data": {
      "text/html": [
       "<br>    <style><br>        .wandb-row {<br>            display: flex;<br>            flex-direction: row;<br>            flex-wrap: wrap;<br>            justify-content: flex-start;<br>            width: 100%;<br>        }<br>        .wandb-col {<br>            display: flex;<br>            flex-direction: column;<br>            flex-basis: 100%;<br>            flex: 1;<br>            padding: 10px;<br>        }<br>    </style><br><div class=\"wandb-row\"><div class=\"wandb-col\"><h3>Run history:</h3><br/><table class=\"wandb\"><tr><td>Acceptance</td><td>▁</td></tr><tr><td>Max S/sqrt(B)</td><td>▁</td></tr><tr><td>Test ROC AUC</td><td>▁</td></tr><tr><td>bdtscore2 cut</td><td>▁</td></tr><tr><td>iteration</td><td>▁▁▁▁▂▂▂▂▂▂▃▃▃▃▃▄▄▄▄▅▅▅▅▅▅▆▆▆▆▆▇▇▇▇▇▇████</td></tr><tr><td>test_logloss</td><td>████▇▇▇▆▆▆▅▅▅▅▅▄▄▄▄▄▄▃▃▃▃▃▃▃▃▃▂▂▂▂▂▁▁▁▁▁</td></tr><tr><td>train_logloss</td><td>████▇▇▇▆▆▆▅▅▅▅▅▄▄▄▄▄▄▃▃▃▃▃▃▃▂▂▂▂▂▂▂▂▂▁▁▁</td></tr></table><br/></div><div class=\"wandb-col\"><h3>Run summary:</h3><br/><table class=\"wandb\"><tr><td>Acceptance</td><td>0.33212</td></tr><tr><td>Max S/sqrt(B)</td><td>1.68143</td></tr><tr><td>Test ROC AUC</td><td>0.81614</td></tr><tr><td>bdtscore2 cut</td><td>0.08</td></tr><tr><td>iteration</td><td>86</td></tr><tr><td>test_logloss</td><td>0.09077</td></tr><tr><td>train_logloss</td><td>0.09006</td></tr></table><br/></div></div>"
      ],
      "text/plain": [
       "<IPython.core.display.HTML object>"
      ]
     },
     "metadata": {},
     "output_type": "display_data"
    },
    {
     "data": {
      "text/html": [
       " View run <strong style=\"color:#cdcd00\">hardy-sweep-17</strong> at: <a href='https://wandb.ai/dlai211/Dark_ph_BDT_Sweep_Reduced/runs/6ibqz9z2' target=\"_blank\">https://wandb.ai/dlai211/Dark_ph_BDT_Sweep_Reduced/runs/6ibqz9z2</a><br> View project at: <a href='https://wandb.ai/dlai211/Dark_ph_BDT_Sweep_Reduced' target=\"_blank\">https://wandb.ai/dlai211/Dark_ph_BDT_Sweep_Reduced</a><br>Synced 5 W&B file(s), 0 media file(s), 0 artifact file(s) and 0 other file(s)"
      ],
      "text/plain": [
       "<IPython.core.display.HTML object>"
      ]
     },
     "metadata": {},
     "output_type": "display_data"
    },
    {
     "data": {
      "text/html": [
       "Find logs at: <code>./wandb/run-20250819_174815-6ibqz9z2/logs</code>"
      ],
      "text/plain": [
       "<IPython.core.display.HTML object>"
      ]
     },
     "metadata": {},
     "output_type": "display_data"
    },
    {
     "name": "stderr",
     "output_type": "stream",
     "text": [
      "\u001b[34m\u001b[1mwandb\u001b[0m: Agent Starting Run: uq4pbdjq with config:\n",
      "\u001b[34m\u001b[1mwandb\u001b[0m: \tgamma: 0.9610919544035016\n",
      "\u001b[34m\u001b[1mwandb\u001b[0m: \tlearning_rate: 0.007501510380506965\n",
      "\u001b[34m\u001b[1mwandb\u001b[0m: \tmax_depth: 4\n",
      "\u001b[34m\u001b[1mwandb\u001b[0m: \tn_estimators: 587\n",
      "\u001b[34m\u001b[1mwandb\u001b[0m: \tsubsample: 0.4152543125306163\n"
     ]
    },
    {
     "data": {
      "text/html": [
       "Tracking run with wandb version 0.21.0"
      ],
      "text/plain": [
       "<IPython.core.display.HTML object>"
      ]
     },
     "metadata": {},
     "output_type": "display_data"
    },
    {
     "data": {
      "text/html": [
       "Run data is saved locally in <code>/home/jlai/ML/jet_faking/wandb/run-20250819_174821-uq4pbdjq</code>"
      ],
      "text/plain": [
       "<IPython.core.display.HTML object>"
      ]
     },
     "metadata": {},
     "output_type": "display_data"
    },
    {
     "data": {
      "text/html": [
       "Syncing run <strong><a href='https://wandb.ai/dlai211/Dark_ph_BDT_Sweep_Reduced/runs/uq4pbdjq' target=\"_blank\">dry-sweep-18</a></strong> to <a href='https://wandb.ai/dlai211/Dark_ph_BDT_Sweep_Reduced' target=\"_blank\">Weights & Biases</a> (<a href='https://wandb.me/developer-guide' target=\"_blank\">docs</a>)<br>Sweep page: <a href='https://wandb.ai/dlai211/Dark_ph_BDT_Sweep_Reduced/sweeps/woe18qc0' target=\"_blank\">https://wandb.ai/dlai211/Dark_ph_BDT_Sweep_Reduced/sweeps/woe18qc0</a>"
      ],
      "text/plain": [
       "<IPython.core.display.HTML object>"
      ]
     },
     "metadata": {},
     "output_type": "display_data"
    },
    {
     "data": {
      "text/html": [
       " View project at <a href='https://wandb.ai/dlai211/Dark_ph_BDT_Sweep_Reduced' target=\"_blank\">https://wandb.ai/dlai211/Dark_ph_BDT_Sweep_Reduced</a>"
      ],
      "text/plain": [
       "<IPython.core.display.HTML object>"
      ]
     },
     "metadata": {},
     "output_type": "display_data"
    },
    {
     "data": {
      "text/html": [
       " View sweep at <a href='https://wandb.ai/dlai211/Dark_ph_BDT_Sweep_Reduced/sweeps/woe18qc0' target=\"_blank\">https://wandb.ai/dlai211/Dark_ph_BDT_Sweep_Reduced/sweeps/woe18qc0</a>"
      ],
      "text/plain": [
       "<IPython.core.display.HTML object>"
      ]
     },
     "metadata": {},
     "output_type": "display_data"
    },
    {
     "data": {
      "text/html": [
       " View run at <a href='https://wandb.ai/dlai211/Dark_ph_BDT_Sweep_Reduced/runs/uq4pbdjq' target=\"_blank\">https://wandb.ai/dlai211/Dark_ph_BDT_Sweep_Reduced/runs/uq4pbdjq</a>"
      ],
      "text/plain": [
       "<IPython.core.display.HTML object>"
      ]
     },
     "metadata": {},
     "output_type": "display_data"
    },
    {
     "data": {
      "text/html": [],
      "text/plain": [
       "<IPython.core.display.HTML object>"
      ]
     },
     "metadata": {},
     "output_type": "display_data"
    },
    {
     "data": {
      "text/html": [
       "<br>    <style><br>        .wandb-row {<br>            display: flex;<br>            flex-direction: row;<br>            flex-wrap: wrap;<br>            justify-content: flex-start;<br>            width: 100%;<br>        }<br>        .wandb-col {<br>            display: flex;<br>            flex-direction: column;<br>            flex-basis: 100%;<br>            flex: 1;<br>            padding: 10px;<br>        }<br>    </style><br><div class=\"wandb-row\"><div class=\"wandb-col\"><h3>Run history:</h3><br/><table class=\"wandb\"><tr><td>Acceptance</td><td>▁</td></tr><tr><td>Max S/sqrt(B)</td><td>▁</td></tr><tr><td>Test ROC AUC</td><td>▁</td></tr><tr><td>bdtscore2 cut</td><td>▁</td></tr><tr><td>iteration</td><td>▁▁▁▂▂▂▂▂▃▃▃▃▃▃▄▄▄▄▄▅▅▅▅▅▆▆▆▆▆▆▇▇▇▇▇███</td></tr><tr><td>test_logloss</td><td>███▇▇▇▇▆▆▆▆▆▅▅▅▅▅▄▄▄▄▄▄▃▃▃▃▃▃▂▂▂▂▂▁▁▁▁</td></tr><tr><td>train_logloss</td><td>███▇▇▇▇▆▆▆▆▆▅▅▅▅▅▅▄▄▄▄▄▃▃▃▃▃▃▂▂▂▂▂▁▁▁▁</td></tr></table><br/></div><div class=\"wandb-col\"><h3>Run summary:</h3><br/><table class=\"wandb\"><tr><td>Acceptance</td><td>1</td></tr><tr><td>Max S/sqrt(B)</td><td>1.0773</td></tr><tr><td>Test ROC AUC</td><td>0.80579</td></tr><tr><td>bdtscore2 cut</td><td>0</td></tr><tr><td>iteration</td><td>37</td></tr><tr><td>test_logloss</td><td>0.12404</td></tr><tr><td>train_logloss</td><td>0.12379</td></tr></table><br/></div></div>"
      ],
      "text/plain": [
       "<IPython.core.display.HTML object>"
      ]
     },
     "metadata": {},
     "output_type": "display_data"
    },
    {
     "data": {
      "text/html": [
       " View run <strong style=\"color:#cdcd00\">dry-sweep-18</strong> at: <a href='https://wandb.ai/dlai211/Dark_ph_BDT_Sweep_Reduced/runs/uq4pbdjq' target=\"_blank\">https://wandb.ai/dlai211/Dark_ph_BDT_Sweep_Reduced/runs/uq4pbdjq</a><br> View project at: <a href='https://wandb.ai/dlai211/Dark_ph_BDT_Sweep_Reduced' target=\"_blank\">https://wandb.ai/dlai211/Dark_ph_BDT_Sweep_Reduced</a><br>Synced 5 W&B file(s), 0 media file(s), 0 artifact file(s) and 0 other file(s)"
      ],
      "text/plain": [
       "<IPython.core.display.HTML object>"
      ]
     },
     "metadata": {},
     "output_type": "display_data"
    },
    {
     "data": {
      "text/html": [
       "Find logs at: <code>./wandb/run-20250819_174821-uq4pbdjq/logs</code>"
      ],
      "text/plain": [
       "<IPython.core.display.HTML object>"
      ]
     },
     "metadata": {},
     "output_type": "display_data"
    },
    {
     "name": "stderr",
     "output_type": "stream",
     "text": [
      "\u001b[34m\u001b[1mwandb\u001b[0m: Agent Starting Run: xnp5ej15 with config:\n",
      "\u001b[34m\u001b[1mwandb\u001b[0m: \tgamma: 0.4260733398681048\n",
      "\u001b[34m\u001b[1mwandb\u001b[0m: \tlearning_rate: 0.034799487291591956\n",
      "\u001b[34m\u001b[1mwandb\u001b[0m: \tmax_depth: 7\n",
      "\u001b[34m\u001b[1mwandb\u001b[0m: \tn_estimators: 203\n",
      "\u001b[34m\u001b[1mwandb\u001b[0m: \tsubsample: 0.3684611670750856\n"
     ]
    },
    {
     "data": {
      "text/html": [
       "Tracking run with wandb version 0.21.0"
      ],
      "text/plain": [
       "<IPython.core.display.HTML object>"
      ]
     },
     "metadata": {},
     "output_type": "display_data"
    },
    {
     "data": {
      "text/html": [
       "Run data is saved locally in <code>/home/jlai/ML/jet_faking/wandb/run-20250819_174826-xnp5ej15</code>"
      ],
      "text/plain": [
       "<IPython.core.display.HTML object>"
      ]
     },
     "metadata": {},
     "output_type": "display_data"
    },
    {
     "data": {
      "text/html": [
       "Syncing run <strong><a href='https://wandb.ai/dlai211/Dark_ph_BDT_Sweep_Reduced/runs/xnp5ej15' target=\"_blank\">copper-sweep-19</a></strong> to <a href='https://wandb.ai/dlai211/Dark_ph_BDT_Sweep_Reduced' target=\"_blank\">Weights & Biases</a> (<a href='https://wandb.me/developer-guide' target=\"_blank\">docs</a>)<br>Sweep page: <a href='https://wandb.ai/dlai211/Dark_ph_BDT_Sweep_Reduced/sweeps/woe18qc0' target=\"_blank\">https://wandb.ai/dlai211/Dark_ph_BDT_Sweep_Reduced/sweeps/woe18qc0</a>"
      ],
      "text/plain": [
       "<IPython.core.display.HTML object>"
      ]
     },
     "metadata": {},
     "output_type": "display_data"
    },
    {
     "data": {
      "text/html": [
       " View project at <a href='https://wandb.ai/dlai211/Dark_ph_BDT_Sweep_Reduced' target=\"_blank\">https://wandb.ai/dlai211/Dark_ph_BDT_Sweep_Reduced</a>"
      ],
      "text/plain": [
       "<IPython.core.display.HTML object>"
      ]
     },
     "metadata": {},
     "output_type": "display_data"
    },
    {
     "data": {
      "text/html": [
       " View sweep at <a href='https://wandb.ai/dlai211/Dark_ph_BDT_Sweep_Reduced/sweeps/woe18qc0' target=\"_blank\">https://wandb.ai/dlai211/Dark_ph_BDT_Sweep_Reduced/sweeps/woe18qc0</a>"
      ],
      "text/plain": [
       "<IPython.core.display.HTML object>"
      ]
     },
     "metadata": {},
     "output_type": "display_data"
    },
    {
     "data": {
      "text/html": [
       " View run at <a href='https://wandb.ai/dlai211/Dark_ph_BDT_Sweep_Reduced/runs/xnp5ej15' target=\"_blank\">https://wandb.ai/dlai211/Dark_ph_BDT_Sweep_Reduced/runs/xnp5ej15</a>"
      ],
      "text/plain": [
       "<IPython.core.display.HTML object>"
      ]
     },
     "metadata": {},
     "output_type": "display_data"
    },
    {
     "data": {
      "text/html": [],
      "text/plain": [
       "<IPython.core.display.HTML object>"
      ]
     },
     "metadata": {},
     "output_type": "display_data"
    },
    {
     "data": {
      "text/html": [
       "<br>    <style><br>        .wandb-row {<br>            display: flex;<br>            flex-direction: row;<br>            flex-wrap: wrap;<br>            justify-content: flex-start;<br>            width: 100%;<br>        }<br>        .wandb-col {<br>            display: flex;<br>            flex-direction: column;<br>            flex-basis: 100%;<br>            flex: 1;<br>            padding: 10px;<br>        }<br>    </style><br><div class=\"wandb-row\"><div class=\"wandb-col\"><h3>Run history:</h3><br/><table class=\"wandb\"><tr><td>Acceptance</td><td>▁</td></tr><tr><td>Max S/sqrt(B)</td><td>▁</td></tr><tr><td>Test ROC AUC</td><td>▁</td></tr><tr><td>bdtscore2 cut</td><td>▁</td></tr><tr><td>iteration</td><td>▁▁▁▂▂▂▂▂▂▂▃▃▃▃▃▄▄▄▄▄▄▅▅▅▅▅▅▆▆▆▆▆▇▇▇▇▇███</td></tr><tr><td>test_logloss</td><td>█▆▅▄▄▄▄▃▃▃▂▂▂▂▂▂▁▁▁▁▁▁▁▁▁▁▁▁▁▁▁▁▁▁▁▁▁▁▁▁</td></tr><tr><td>train_logloss</td><td>██▆▆▆▅▅▄▄▃▃▃▂▂▂▂▂▂▂▂▂▁▁▁▁▁▁▁▁▁▁▁▁▁▁▁▁▁▁▁</td></tr></table><br/></div><div class=\"wandb-col\"><h3>Run summary:</h3><br/><table class=\"wandb\"><tr><td>Acceptance</td><td>0.54249</td></tr><tr><td>Max S/sqrt(B)</td><td>2.30611</td></tr><tr><td>Test ROC AUC</td><td>0.86853</td></tr><tr><td>bdtscore2 cut</td><td>0.04</td></tr><tr><td>iteration</td><td>202</td></tr><tr><td>test_logloss</td><td>0.04796</td></tr><tr><td>train_logloss</td><td>0.04273</td></tr></table><br/></div></div>"
      ],
      "text/plain": [
       "<IPython.core.display.HTML object>"
      ]
     },
     "metadata": {},
     "output_type": "display_data"
    },
    {
     "data": {
      "text/html": [
       " View run <strong style=\"color:#cdcd00\">copper-sweep-19</strong> at: <a href='https://wandb.ai/dlai211/Dark_ph_BDT_Sweep_Reduced/runs/xnp5ej15' target=\"_blank\">https://wandb.ai/dlai211/Dark_ph_BDT_Sweep_Reduced/runs/xnp5ej15</a><br> View project at: <a href='https://wandb.ai/dlai211/Dark_ph_BDT_Sweep_Reduced' target=\"_blank\">https://wandb.ai/dlai211/Dark_ph_BDT_Sweep_Reduced</a><br>Synced 5 W&B file(s), 0 media file(s), 0 artifact file(s) and 0 other file(s)"
      ],
      "text/plain": [
       "<IPython.core.display.HTML object>"
      ]
     },
     "metadata": {},
     "output_type": "display_data"
    },
    {
     "data": {
      "text/html": [
       "Find logs at: <code>./wandb/run-20250819_174826-xnp5ej15/logs</code>"
      ],
      "text/plain": [
       "<IPython.core.display.HTML object>"
      ]
     },
     "metadata": {},
     "output_type": "display_data"
    },
    {
     "name": "stderr",
     "output_type": "stream",
     "text": [
      "\u001b[34m\u001b[1mwandb\u001b[0m: Agent Starting Run: uqq4291j with config:\n",
      "\u001b[34m\u001b[1mwandb\u001b[0m: \tgamma: 0.7317294560716909\n",
      "\u001b[34m\u001b[1mwandb\u001b[0m: \tlearning_rate: 0.0890518250932374\n",
      "\u001b[34m\u001b[1mwandb\u001b[0m: \tmax_depth: 5\n",
      "\u001b[34m\u001b[1mwandb\u001b[0m: \tn_estimators: 239\n",
      "\u001b[34m\u001b[1mwandb\u001b[0m: \tsubsample: 0.3643434177755258\n"
     ]
    },
    {
     "data": {
      "text/html": [
       "Tracking run with wandb version 0.21.0"
      ],
      "text/plain": [
       "<IPython.core.display.HTML object>"
      ]
     },
     "metadata": {},
     "output_type": "display_data"
    },
    {
     "data": {
      "text/html": [
       "Run data is saved locally in <code>/home/jlai/ML/jet_faking/wandb/run-20250819_174831-uqq4291j</code>"
      ],
      "text/plain": [
       "<IPython.core.display.HTML object>"
      ]
     },
     "metadata": {},
     "output_type": "display_data"
    },
    {
     "data": {
      "text/html": [
       "Syncing run <strong><a href='https://wandb.ai/dlai211/Dark_ph_BDT_Sweep_Reduced/runs/uqq4291j' target=\"_blank\">sleek-sweep-20</a></strong> to <a href='https://wandb.ai/dlai211/Dark_ph_BDT_Sweep_Reduced' target=\"_blank\">Weights & Biases</a> (<a href='https://wandb.me/developer-guide' target=\"_blank\">docs</a>)<br>Sweep page: <a href='https://wandb.ai/dlai211/Dark_ph_BDT_Sweep_Reduced/sweeps/woe18qc0' target=\"_blank\">https://wandb.ai/dlai211/Dark_ph_BDT_Sweep_Reduced/sweeps/woe18qc0</a>"
      ],
      "text/plain": [
       "<IPython.core.display.HTML object>"
      ]
     },
     "metadata": {},
     "output_type": "display_data"
    },
    {
     "data": {
      "text/html": [
       " View project at <a href='https://wandb.ai/dlai211/Dark_ph_BDT_Sweep_Reduced' target=\"_blank\">https://wandb.ai/dlai211/Dark_ph_BDT_Sweep_Reduced</a>"
      ],
      "text/plain": [
       "<IPython.core.display.HTML object>"
      ]
     },
     "metadata": {},
     "output_type": "display_data"
    },
    {
     "data": {
      "text/html": [
       " View sweep at <a href='https://wandb.ai/dlai211/Dark_ph_BDT_Sweep_Reduced/sweeps/woe18qc0' target=\"_blank\">https://wandb.ai/dlai211/Dark_ph_BDT_Sweep_Reduced/sweeps/woe18qc0</a>"
      ],
      "text/plain": [
       "<IPython.core.display.HTML object>"
      ]
     },
     "metadata": {},
     "output_type": "display_data"
    },
    {
     "data": {
      "text/html": [
       " View run at <a href='https://wandb.ai/dlai211/Dark_ph_BDT_Sweep_Reduced/runs/uqq4291j' target=\"_blank\">https://wandb.ai/dlai211/Dark_ph_BDT_Sweep_Reduced/runs/uqq4291j</a>"
      ],
      "text/plain": [
       "<IPython.core.display.HTML object>"
      ]
     },
     "metadata": {},
     "output_type": "display_data"
    },
    {
     "data": {
      "text/html": [],
      "text/plain": [
       "<IPython.core.display.HTML object>"
      ]
     },
     "metadata": {},
     "output_type": "display_data"
    },
    {
     "data": {
      "text/html": [
       "<br>    <style><br>        .wandb-row {<br>            display: flex;<br>            flex-direction: row;<br>            flex-wrap: wrap;<br>            justify-content: flex-start;<br>            width: 100%;<br>        }<br>        .wandb-col {<br>            display: flex;<br>            flex-direction: column;<br>            flex-basis: 100%;<br>            flex: 1;<br>            padding: 10px;<br>        }<br>    </style><br><div class=\"wandb-row\"><div class=\"wandb-col\"><h3>Run history:</h3><br/><table class=\"wandb\"><tr><td>Acceptance</td><td>▁</td></tr><tr><td>Max S/sqrt(B)</td><td>▁</td></tr><tr><td>Test ROC AUC</td><td>▁</td></tr><tr><td>bdtscore2 cut</td><td>▁</td></tr><tr><td>iteration</td><td>▁▁▁▁▁▂▂▂▂▂▂▂▃▃▃▃▄▄▄▄▄▅▅▅▅▆▆▆▆▆▆▆▆▇▇▇▇███</td></tr><tr><td>test_logloss</td><td>█▇▇▅▅▄▄▃▃▂▂▂▁▁▁▁▁▁▁▁▁▁▁▁▁▁▁▁▁▁▁▁▁▁▁▁▁▁▁▁</td></tr><tr><td>train_logloss</td><td>█▅▅▄▃▃▃▂▂▂▂▂▂▁▁▁▁▁▁▁▁▁▁▁▁▁▁▁▁▁▁▁▁▁▁▁▁▁▁▁</td></tr></table><br/></div><div class=\"wandb-col\"><h3>Run summary:</h3><br/><table class=\"wandb\"><tr><td>Acceptance</td><td>0.58931</td></tr><tr><td>Max S/sqrt(B)</td><td>2.18466</td></tr><tr><td>Test ROC AUC</td><td>0.86742</td></tr><tr><td>bdtscore2 cut</td><td>0.03</td></tr><tr><td>iteration</td><td>103</td></tr><tr><td>test_logloss</td><td>0.04803</td></tr><tr><td>train_logloss</td><td>0.04422</td></tr></table><br/></div></div>"
      ],
      "text/plain": [
       "<IPython.core.display.HTML object>"
      ]
     },
     "metadata": {},
     "output_type": "display_data"
    },
    {
     "data": {
      "text/html": [
       " View run <strong style=\"color:#cdcd00\">sleek-sweep-20</strong> at: <a href='https://wandb.ai/dlai211/Dark_ph_BDT_Sweep_Reduced/runs/uqq4291j' target=\"_blank\">https://wandb.ai/dlai211/Dark_ph_BDT_Sweep_Reduced/runs/uqq4291j</a><br> View project at: <a href='https://wandb.ai/dlai211/Dark_ph_BDT_Sweep_Reduced' target=\"_blank\">https://wandb.ai/dlai211/Dark_ph_BDT_Sweep_Reduced</a><br>Synced 5 W&B file(s), 0 media file(s), 0 artifact file(s) and 0 other file(s)"
      ],
      "text/plain": [
       "<IPython.core.display.HTML object>"
      ]
     },
     "metadata": {},
     "output_type": "display_data"
    },
    {
     "data": {
      "text/html": [
       "Find logs at: <code>./wandb/run-20250819_174831-uqq4291j/logs</code>"
      ],
      "text/plain": [
       "<IPython.core.display.HTML object>"
      ]
     },
     "metadata": {},
     "output_type": "display_data"
    },
    {
     "name": "stderr",
     "output_type": "stream",
     "text": [
      "\u001b[34m\u001b[1mwandb\u001b[0m: Sweep Agent: Waiting for job.\n",
      "\u001b[34m\u001b[1mwandb\u001b[0m: Job received.\n",
      "\u001b[34m\u001b[1mwandb\u001b[0m: Agent Starting Run: hyy3bq1m with config:\n",
      "\u001b[34m\u001b[1mwandb\u001b[0m: \tgamma: 0.4242399117324309\n",
      "\u001b[34m\u001b[1mwandb\u001b[0m: \tlearning_rate: 0.05080192593296952\n",
      "\u001b[34m\u001b[1mwandb\u001b[0m: \tmax_depth: 7\n",
      "\u001b[34m\u001b[1mwandb\u001b[0m: \tn_estimators: 783\n",
      "\u001b[34m\u001b[1mwandb\u001b[0m: \tsubsample: 0.4974235479129599\n"
     ]
    },
    {
     "data": {
      "text/html": [
       "Tracking run with wandb version 0.21.0"
      ],
      "text/plain": [
       "<IPython.core.display.HTML object>"
      ]
     },
     "metadata": {},
     "output_type": "display_data"
    },
    {
     "data": {
      "text/html": [
       "Run data is saved locally in <code>/home/jlai/ML/jet_faking/wandb/run-20250819_174853-hyy3bq1m</code>"
      ],
      "text/plain": [
       "<IPython.core.display.HTML object>"
      ]
     },
     "metadata": {},
     "output_type": "display_data"
    },
    {
     "data": {
      "text/html": [
       "Syncing run <strong><a href='https://wandb.ai/dlai211/Dark_ph_BDT_Sweep_Reduced/runs/hyy3bq1m' target=\"_blank\">eager-sweep-21</a></strong> to <a href='https://wandb.ai/dlai211/Dark_ph_BDT_Sweep_Reduced' target=\"_blank\">Weights & Biases</a> (<a href='https://wandb.me/developer-guide' target=\"_blank\">docs</a>)<br>Sweep page: <a href='https://wandb.ai/dlai211/Dark_ph_BDT_Sweep_Reduced/sweeps/woe18qc0' target=\"_blank\">https://wandb.ai/dlai211/Dark_ph_BDT_Sweep_Reduced/sweeps/woe18qc0</a>"
      ],
      "text/plain": [
       "<IPython.core.display.HTML object>"
      ]
     },
     "metadata": {},
     "output_type": "display_data"
    },
    {
     "data": {
      "text/html": [
       " View project at <a href='https://wandb.ai/dlai211/Dark_ph_BDT_Sweep_Reduced' target=\"_blank\">https://wandb.ai/dlai211/Dark_ph_BDT_Sweep_Reduced</a>"
      ],
      "text/plain": [
       "<IPython.core.display.HTML object>"
      ]
     },
     "metadata": {},
     "output_type": "display_data"
    },
    {
     "data": {
      "text/html": [
       " View sweep at <a href='https://wandb.ai/dlai211/Dark_ph_BDT_Sweep_Reduced/sweeps/woe18qc0' target=\"_blank\">https://wandb.ai/dlai211/Dark_ph_BDT_Sweep_Reduced/sweeps/woe18qc0</a>"
      ],
      "text/plain": [
       "<IPython.core.display.HTML object>"
      ]
     },
     "metadata": {},
     "output_type": "display_data"
    },
    {
     "data": {
      "text/html": [
       " View run at <a href='https://wandb.ai/dlai211/Dark_ph_BDT_Sweep_Reduced/runs/hyy3bq1m' target=\"_blank\">https://wandb.ai/dlai211/Dark_ph_BDT_Sweep_Reduced/runs/hyy3bq1m</a>"
      ],
      "text/plain": [
       "<IPython.core.display.HTML object>"
      ]
     },
     "metadata": {},
     "output_type": "display_data"
    },
    {
     "data": {
      "text/html": [],
      "text/plain": [
       "<IPython.core.display.HTML object>"
      ]
     },
     "metadata": {},
     "output_type": "display_data"
    },
    {
     "data": {
      "text/html": [
       "<br>    <style><br>        .wandb-row {<br>            display: flex;<br>            flex-direction: row;<br>            flex-wrap: wrap;<br>            justify-content: flex-start;<br>            width: 100%;<br>        }<br>        .wandb-col {<br>            display: flex;<br>            flex-direction: column;<br>            flex-basis: 100%;<br>            flex: 1;<br>            padding: 10px;<br>        }<br>    </style><br><div class=\"wandb-row\"><div class=\"wandb-col\"><h3>Run history:</h3><br/><table class=\"wandb\"><tr><td>Acceptance</td><td>▁</td></tr><tr><td>Max S/sqrt(B)</td><td>▁</td></tr><tr><td>Test ROC AUC</td><td>▁</td></tr><tr><td>bdtscore2 cut</td><td>▁</td></tr><tr><td>iteration</td><td>▁▁▂▂▂▂▃▃▃▃▄▄▄▄▄▄▄▄▄▅▅▅▅▅▅▅▆▆▆▆▆▆▆▇▇▇████</td></tr><tr><td>test_logloss</td><td>█▇▆▅▅▅▄▄▃▃▃▃▂▂▂▂▁▁▁▁▁▁▁▁▁▁▁▁▁▁▁▁▁▁▁▁▁▁▁▁</td></tr><tr><td>train_logloss</td><td>█▆▅▅▄▃▃▃▃▃▂▂▂▂▂▂▂▂▂▂▁▁▁▁▁▁▁▁▁▁▁▁▁▁▁▁▁▁▁▁</td></tr></table><br/></div><div class=\"wandb-col\"><h3>Run summary:</h3><br/><table class=\"wandb\"><tr><td>Acceptance</td><td>0.39098</td></tr><tr><td>Max S/sqrt(B)</td><td>2.48607</td></tr><tr><td>Test ROC AUC</td><td>0.87286</td></tr><tr><td>bdtscore2 cut</td><td>0.07</td></tr><tr><td>iteration</td><td>154</td></tr><tr><td>test_logloss</td><td>0.04765</td></tr><tr><td>train_logloss</td><td>0.04093</td></tr></table><br/></div></div>"
      ],
      "text/plain": [
       "<IPython.core.display.HTML object>"
      ]
     },
     "metadata": {},
     "output_type": "display_data"
    },
    {
     "data": {
      "text/html": [
       " View run <strong style=\"color:#cdcd00\">eager-sweep-21</strong> at: <a href='https://wandb.ai/dlai211/Dark_ph_BDT_Sweep_Reduced/runs/hyy3bq1m' target=\"_blank\">https://wandb.ai/dlai211/Dark_ph_BDT_Sweep_Reduced/runs/hyy3bq1m</a><br> View project at: <a href='https://wandb.ai/dlai211/Dark_ph_BDT_Sweep_Reduced' target=\"_blank\">https://wandb.ai/dlai211/Dark_ph_BDT_Sweep_Reduced</a><br>Synced 5 W&B file(s), 0 media file(s), 0 artifact file(s) and 0 other file(s)"
      ],
      "text/plain": [
       "<IPython.core.display.HTML object>"
      ]
     },
     "metadata": {},
     "output_type": "display_data"
    },
    {
     "data": {
      "text/html": [
       "Find logs at: <code>./wandb/run-20250819_174853-hyy3bq1m/logs</code>"
      ],
      "text/plain": [
       "<IPython.core.display.HTML object>"
      ]
     },
     "metadata": {},
     "output_type": "display_data"
    },
    {
     "name": "stderr",
     "output_type": "stream",
     "text": [
      "\u001b[34m\u001b[1mwandb\u001b[0m: Agent Starting Run: k2nhocka with config:\n",
      "\u001b[34m\u001b[1mwandb\u001b[0m: \tgamma: 0.3620601008043647\n",
      "\u001b[34m\u001b[1mwandb\u001b[0m: \tlearning_rate: 0.05036737067092782\n",
      "\u001b[34m\u001b[1mwandb\u001b[0m: \tmax_depth: 9\n",
      "\u001b[34m\u001b[1mwandb\u001b[0m: \tn_estimators: 693\n",
      "\u001b[34m\u001b[1mwandb\u001b[0m: \tsubsample: 0.44187593560005617\n"
     ]
    },
    {
     "data": {
      "text/html": [
       "Tracking run with wandb version 0.21.0"
      ],
      "text/plain": [
       "<IPython.core.display.HTML object>"
      ]
     },
     "metadata": {},
     "output_type": "display_data"
    },
    {
     "data": {
      "text/html": [
       "Run data is saved locally in <code>/home/jlai/ML/jet_faking/wandb/run-20250819_174859-k2nhocka</code>"
      ],
      "text/plain": [
       "<IPython.core.display.HTML object>"
      ]
     },
     "metadata": {},
     "output_type": "display_data"
    },
    {
     "data": {
      "text/html": [
       "Syncing run <strong><a href='https://wandb.ai/dlai211/Dark_ph_BDT_Sweep_Reduced/runs/k2nhocka' target=\"_blank\">rare-sweep-22</a></strong> to <a href='https://wandb.ai/dlai211/Dark_ph_BDT_Sweep_Reduced' target=\"_blank\">Weights & Biases</a> (<a href='https://wandb.me/developer-guide' target=\"_blank\">docs</a>)<br>Sweep page: <a href='https://wandb.ai/dlai211/Dark_ph_BDT_Sweep_Reduced/sweeps/woe18qc0' target=\"_blank\">https://wandb.ai/dlai211/Dark_ph_BDT_Sweep_Reduced/sweeps/woe18qc0</a>"
      ],
      "text/plain": [
       "<IPython.core.display.HTML object>"
      ]
     },
     "metadata": {},
     "output_type": "display_data"
    },
    {
     "data": {
      "text/html": [
       " View project at <a href='https://wandb.ai/dlai211/Dark_ph_BDT_Sweep_Reduced' target=\"_blank\">https://wandb.ai/dlai211/Dark_ph_BDT_Sweep_Reduced</a>"
      ],
      "text/plain": [
       "<IPython.core.display.HTML object>"
      ]
     },
     "metadata": {},
     "output_type": "display_data"
    },
    {
     "data": {
      "text/html": [
       " View sweep at <a href='https://wandb.ai/dlai211/Dark_ph_BDT_Sweep_Reduced/sweeps/woe18qc0' target=\"_blank\">https://wandb.ai/dlai211/Dark_ph_BDT_Sweep_Reduced/sweeps/woe18qc0</a>"
      ],
      "text/plain": [
       "<IPython.core.display.HTML object>"
      ]
     },
     "metadata": {},
     "output_type": "display_data"
    },
    {
     "data": {
      "text/html": [
       " View run at <a href='https://wandb.ai/dlai211/Dark_ph_BDT_Sweep_Reduced/runs/k2nhocka' target=\"_blank\">https://wandb.ai/dlai211/Dark_ph_BDT_Sweep_Reduced/runs/k2nhocka</a>"
      ],
      "text/plain": [
       "<IPython.core.display.HTML object>"
      ]
     },
     "metadata": {},
     "output_type": "display_data"
    },
    {
     "data": {
      "text/html": [],
      "text/plain": [
       "<IPython.core.display.HTML object>"
      ]
     },
     "metadata": {},
     "output_type": "display_data"
    },
    {
     "data": {
      "text/html": [
       "<br>    <style><br>        .wandb-row {<br>            display: flex;<br>            flex-direction: row;<br>            flex-wrap: wrap;<br>            justify-content: flex-start;<br>            width: 100%;<br>        }<br>        .wandb-col {<br>            display: flex;<br>            flex-direction: column;<br>            flex-basis: 100%;<br>            flex: 1;<br>            padding: 10px;<br>        }<br>    </style><br><div class=\"wandb-row\"><div class=\"wandb-col\"><h3>Run history:</h3><br/><table class=\"wandb\"><tr><td>Acceptance</td><td>▁</td></tr><tr><td>Max S/sqrt(B)</td><td>▁</td></tr><tr><td>Test ROC AUC</td><td>▁</td></tr><tr><td>bdtscore2 cut</td><td>▁</td></tr><tr><td>iteration</td><td>▁▁▁▁▂▂▂▂▂▃▃▃▃▃▃▃▃▄▄▄▄▄▄▅▅▅▆▆▆▆▆▇▇▇▇▇▇███</td></tr><tr><td>test_logloss</td><td>██▇▇▅▄▄▄▃▃▃▂▂▂▂▂▂▂▁▁▁▁▁▁▁▁▁▁▁▁▁▁▁▁▁▁▁▁▁▁</td></tr><tr><td>train_logloss</td><td>██▇▆▅▄▄▄▃▃▂▂▂▂▂▂▂▂▁▁▁▁▁▁▁▁▁▁▁▁▁▁▁▁▁▁▁▁▁▁</td></tr></table><br/></div><div class=\"wandb-col\"><h3>Run summary:</h3><br/><table class=\"wandb\"><tr><td>Acceptance</td><td>0.67303</td></tr><tr><td>Max S/sqrt(B)</td><td>2.4045</td></tr><tr><td>Test ROC AUC</td><td>0.87245</td></tr><tr><td>bdtscore2 cut</td><td>0.03</td></tr><tr><td>iteration</td><td>130</td></tr><tr><td>test_logloss</td><td>0.04777</td></tr><tr><td>train_logloss</td><td>0.04162</td></tr></table><br/></div></div>"
      ],
      "text/plain": [
       "<IPython.core.display.HTML object>"
      ]
     },
     "metadata": {},
     "output_type": "display_data"
    },
    {
     "data": {
      "text/html": [
       " View run <strong style=\"color:#cdcd00\">rare-sweep-22</strong> at: <a href='https://wandb.ai/dlai211/Dark_ph_BDT_Sweep_Reduced/runs/k2nhocka' target=\"_blank\">https://wandb.ai/dlai211/Dark_ph_BDT_Sweep_Reduced/runs/k2nhocka</a><br> View project at: <a href='https://wandb.ai/dlai211/Dark_ph_BDT_Sweep_Reduced' target=\"_blank\">https://wandb.ai/dlai211/Dark_ph_BDT_Sweep_Reduced</a><br>Synced 5 W&B file(s), 0 media file(s), 0 artifact file(s) and 0 other file(s)"
      ],
      "text/plain": [
       "<IPython.core.display.HTML object>"
      ]
     },
     "metadata": {},
     "output_type": "display_data"
    },
    {
     "data": {
      "text/html": [
       "Find logs at: <code>./wandb/run-20250819_174859-k2nhocka/logs</code>"
      ],
      "text/plain": [
       "<IPython.core.display.HTML object>"
      ]
     },
     "metadata": {},
     "output_type": "display_data"
    },
    {
     "name": "stderr",
     "output_type": "stream",
     "text": [
      "\u001b[34m\u001b[1mwandb\u001b[0m: Agent Starting Run: pdueknx5 with config:\n",
      "\u001b[34m\u001b[1mwandb\u001b[0m: \tgamma: 0.3751109047044842\n",
      "\u001b[34m\u001b[1mwandb\u001b[0m: \tlearning_rate: 0.06686346059693257\n",
      "\u001b[34m\u001b[1mwandb\u001b[0m: \tmax_depth: 3\n",
      "\u001b[34m\u001b[1mwandb\u001b[0m: \tn_estimators: 349\n",
      "\u001b[34m\u001b[1mwandb\u001b[0m: \tsubsample: 0.2609742767050372\n"
     ]
    },
    {
     "data": {
      "text/html": [
       "Tracking run with wandb version 0.21.0"
      ],
      "text/plain": [
       "<IPython.core.display.HTML object>"
      ]
     },
     "metadata": {},
     "output_type": "display_data"
    },
    {
     "data": {
      "text/html": [
       "Run data is saved locally in <code>/home/jlai/ML/jet_faking/wandb/run-20250819_174904-pdueknx5</code>"
      ],
      "text/plain": [
       "<IPython.core.display.HTML object>"
      ]
     },
     "metadata": {},
     "output_type": "display_data"
    },
    {
     "data": {
      "text/html": [
       "Syncing run <strong><a href='https://wandb.ai/dlai211/Dark_ph_BDT_Sweep_Reduced/runs/pdueknx5' target=\"_blank\">warm-sweep-23</a></strong> to <a href='https://wandb.ai/dlai211/Dark_ph_BDT_Sweep_Reduced' target=\"_blank\">Weights & Biases</a> (<a href='https://wandb.me/developer-guide' target=\"_blank\">docs</a>)<br>Sweep page: <a href='https://wandb.ai/dlai211/Dark_ph_BDT_Sweep_Reduced/sweeps/woe18qc0' target=\"_blank\">https://wandb.ai/dlai211/Dark_ph_BDT_Sweep_Reduced/sweeps/woe18qc0</a>"
      ],
      "text/plain": [
       "<IPython.core.display.HTML object>"
      ]
     },
     "metadata": {},
     "output_type": "display_data"
    },
    {
     "data": {
      "text/html": [
       " View project at <a href='https://wandb.ai/dlai211/Dark_ph_BDT_Sweep_Reduced' target=\"_blank\">https://wandb.ai/dlai211/Dark_ph_BDT_Sweep_Reduced</a>"
      ],
      "text/plain": [
       "<IPython.core.display.HTML object>"
      ]
     },
     "metadata": {},
     "output_type": "display_data"
    },
    {
     "data": {
      "text/html": [
       " View sweep at <a href='https://wandb.ai/dlai211/Dark_ph_BDT_Sweep_Reduced/sweeps/woe18qc0' target=\"_blank\">https://wandb.ai/dlai211/Dark_ph_BDT_Sweep_Reduced/sweeps/woe18qc0</a>"
      ],
      "text/plain": [
       "<IPython.core.display.HTML object>"
      ]
     },
     "metadata": {},
     "output_type": "display_data"
    },
    {
     "data": {
      "text/html": [
       " View run at <a href='https://wandb.ai/dlai211/Dark_ph_BDT_Sweep_Reduced/runs/pdueknx5' target=\"_blank\">https://wandb.ai/dlai211/Dark_ph_BDT_Sweep_Reduced/runs/pdueknx5</a>"
      ],
      "text/plain": [
       "<IPython.core.display.HTML object>"
      ]
     },
     "metadata": {},
     "output_type": "display_data"
    },
    {
     "data": {
      "text/html": [],
      "text/plain": [
       "<IPython.core.display.HTML object>"
      ]
     },
     "metadata": {},
     "output_type": "display_data"
    },
    {
     "data": {
      "text/html": [
       "<br>    <style><br>        .wandb-row {<br>            display: flex;<br>            flex-direction: row;<br>            flex-wrap: wrap;<br>            justify-content: flex-start;<br>            width: 100%;<br>        }<br>        .wandb-col {<br>            display: flex;<br>            flex-direction: column;<br>            flex-basis: 100%;<br>            flex: 1;<br>            padding: 10px;<br>        }<br>    </style><br><div class=\"wandb-row\"><div class=\"wandb-col\"><h3>Run history:</h3><br/><table class=\"wandb\"><tr><td>Acceptance</td><td>▁</td></tr><tr><td>Max S/sqrt(B)</td><td>▁</td></tr><tr><td>Test ROC AUC</td><td>▁</td></tr><tr><td>bdtscore2 cut</td><td>▁</td></tr><tr><td>iteration</td><td>▁▁▂▂▂▂▂▂▂▂▃▃▄▄▄▄▄▄▄▄▅▅▅▅▅▆▆▆▆▆▆▆▇▇▇▇▇███</td></tr><tr><td>test_logloss</td><td>█▇▆▅▄▃▃▃▃▂▂▂▂▂▂▁▁▁▁▁▁▁▁▁▁▁▁▁▁▁▁▁▁▁▁▁▁▁▁▁</td></tr><tr><td>train_logloss</td><td>██▇▅▄▃▃▃▂▂▂▂▂▂▂▁▁▁▁▁▁▁▁▁▁▁▁▁▁▁▁▁▁▁▁▁▁▁▁▁</td></tr></table><br/></div><div class=\"wandb-col\"><h3>Run summary:</h3><br/><table class=\"wandb\"><tr><td>Acceptance</td><td>0.6077</td></tr><tr><td>Max S/sqrt(B)</td><td>2.08598</td></tr><tr><td>Test ROC AUC</td><td>0.86274</td></tr><tr><td>bdtscore2 cut</td><td>0.03</td></tr><tr><td>iteration</td><td>129</td></tr><tr><td>test_logloss</td><td>0.0484</td></tr><tr><td>train_logloss</td><td>0.04481</td></tr></table><br/></div></div>"
      ],
      "text/plain": [
       "<IPython.core.display.HTML object>"
      ]
     },
     "metadata": {},
     "output_type": "display_data"
    },
    {
     "data": {
      "text/html": [
       " View run <strong style=\"color:#cdcd00\">warm-sweep-23</strong> at: <a href='https://wandb.ai/dlai211/Dark_ph_BDT_Sweep_Reduced/runs/pdueknx5' target=\"_blank\">https://wandb.ai/dlai211/Dark_ph_BDT_Sweep_Reduced/runs/pdueknx5</a><br> View project at: <a href='https://wandb.ai/dlai211/Dark_ph_BDT_Sweep_Reduced' target=\"_blank\">https://wandb.ai/dlai211/Dark_ph_BDT_Sweep_Reduced</a><br>Synced 5 W&B file(s), 0 media file(s), 0 artifact file(s) and 0 other file(s)"
      ],
      "text/plain": [
       "<IPython.core.display.HTML object>"
      ]
     },
     "metadata": {},
     "output_type": "display_data"
    },
    {
     "data": {
      "text/html": [
       "Find logs at: <code>./wandb/run-20250819_174904-pdueknx5/logs</code>"
      ],
      "text/plain": [
       "<IPython.core.display.HTML object>"
      ]
     },
     "metadata": {},
     "output_type": "display_data"
    },
    {
     "name": "stderr",
     "output_type": "stream",
     "text": [
      "\u001b[34m\u001b[1mwandb\u001b[0m: Agent Starting Run: ppk1x3dm with config:\n",
      "\u001b[34m\u001b[1mwandb\u001b[0m: \tgamma: 0.9757936935488556\n",
      "\u001b[34m\u001b[1mwandb\u001b[0m: \tlearning_rate: 0.04390921237686908\n",
      "\u001b[34m\u001b[1mwandb\u001b[0m: \tmax_depth: 4\n",
      "\u001b[34m\u001b[1mwandb\u001b[0m: \tn_estimators: 348\n",
      "\u001b[34m\u001b[1mwandb\u001b[0m: \tsubsample: 0.4115055292604487\n"
     ]
    },
    {
     "data": {
      "text/html": [
       "Tracking run with wandb version 0.21.0"
      ],
      "text/plain": [
       "<IPython.core.display.HTML object>"
      ]
     },
     "metadata": {},
     "output_type": "display_data"
    },
    {
     "data": {
      "text/html": [
       "Run data is saved locally in <code>/home/jlai/ML/jet_faking/wandb/run-20250819_174909-ppk1x3dm</code>"
      ],
      "text/plain": [
       "<IPython.core.display.HTML object>"
      ]
     },
     "metadata": {},
     "output_type": "display_data"
    },
    {
     "data": {
      "text/html": [
       "Syncing run <strong><a href='https://wandb.ai/dlai211/Dark_ph_BDT_Sweep_Reduced/runs/ppk1x3dm' target=\"_blank\">daily-sweep-24</a></strong> to <a href='https://wandb.ai/dlai211/Dark_ph_BDT_Sweep_Reduced' target=\"_blank\">Weights & Biases</a> (<a href='https://wandb.me/developer-guide' target=\"_blank\">docs</a>)<br>Sweep page: <a href='https://wandb.ai/dlai211/Dark_ph_BDT_Sweep_Reduced/sweeps/woe18qc0' target=\"_blank\">https://wandb.ai/dlai211/Dark_ph_BDT_Sweep_Reduced/sweeps/woe18qc0</a>"
      ],
      "text/plain": [
       "<IPython.core.display.HTML object>"
      ]
     },
     "metadata": {},
     "output_type": "display_data"
    },
    {
     "data": {
      "text/html": [
       " View project at <a href='https://wandb.ai/dlai211/Dark_ph_BDT_Sweep_Reduced' target=\"_blank\">https://wandb.ai/dlai211/Dark_ph_BDT_Sweep_Reduced</a>"
      ],
      "text/plain": [
       "<IPython.core.display.HTML object>"
      ]
     },
     "metadata": {},
     "output_type": "display_data"
    },
    {
     "data": {
      "text/html": [
       " View sweep at <a href='https://wandb.ai/dlai211/Dark_ph_BDT_Sweep_Reduced/sweeps/woe18qc0' target=\"_blank\">https://wandb.ai/dlai211/Dark_ph_BDT_Sweep_Reduced/sweeps/woe18qc0</a>"
      ],
      "text/plain": [
       "<IPython.core.display.HTML object>"
      ]
     },
     "metadata": {},
     "output_type": "display_data"
    },
    {
     "data": {
      "text/html": [
       " View run at <a href='https://wandb.ai/dlai211/Dark_ph_BDT_Sweep_Reduced/runs/ppk1x3dm' target=\"_blank\">https://wandb.ai/dlai211/Dark_ph_BDT_Sweep_Reduced/runs/ppk1x3dm</a>"
      ],
      "text/plain": [
       "<IPython.core.display.HTML object>"
      ]
     },
     "metadata": {},
     "output_type": "display_data"
    },
    {
     "data": {
      "text/html": [],
      "text/plain": [
       "<IPython.core.display.HTML object>"
      ]
     },
     "metadata": {},
     "output_type": "display_data"
    },
    {
     "data": {
      "text/html": [
       "<br>    <style><br>        .wandb-row {<br>            display: flex;<br>            flex-direction: row;<br>            flex-wrap: wrap;<br>            justify-content: flex-start;<br>            width: 100%;<br>        }<br>        .wandb-col {<br>            display: flex;<br>            flex-direction: column;<br>            flex-basis: 100%;<br>            flex: 1;<br>            padding: 10px;<br>        }<br>    </style><br><div class=\"wandb-row\"><div class=\"wandb-col\"><h3>Run history:</h3><br/><table class=\"wandb\"><tr><td>Acceptance</td><td>▁</td></tr><tr><td>Max S/sqrt(B)</td><td>▁</td></tr><tr><td>Test ROC AUC</td><td>▁</td></tr><tr><td>bdtscore2 cut</td><td>▁</td></tr><tr><td>iteration</td><td>▁▁▁▂▂▂▂▂▂▂▃▃▃▄▄▄▄▄▄▄▅▅▅▅▅▆▆▆▆▆▇▇▇▇▇▇▇▇▇█</td></tr><tr><td>test_logloss</td><td>█▇▆▅▄▄▃▃▃▃▂▂▂▂▂▂▂▂▂▁▁▁▁▁▁▁▁▁▁▁▁▁▁▁▁▁▁▁▁▁</td></tr><tr><td>train_logloss</td><td>██▆▆▆▅▅▄▄▄▃▃▃▂▂▂▂▂▂▁▁▁▁▁▁▁▁▁▁▁▁▁▁▁▁▁▁▁▁▁</td></tr></table><br/></div><div class=\"wandb-col\"><h3>Run summary:</h3><br/><table class=\"wandb\"><tr><td>Acceptance</td><td>0.5735</td></tr><tr><td>Max S/sqrt(B)</td><td>2.03613</td></tr><tr><td>Test ROC AUC</td><td>0.85911</td></tr><tr><td>bdtscore2 cut</td><td>0.03</td></tr><tr><td>iteration</td><td>129</td></tr><tr><td>test_logloss</td><td>0.04875</td></tr><tr><td>train_logloss</td><td>0.04574</td></tr></table><br/></div></div>"
      ],
      "text/plain": [
       "<IPython.core.display.HTML object>"
      ]
     },
     "metadata": {},
     "output_type": "display_data"
    },
    {
     "data": {
      "text/html": [
       " View run <strong style=\"color:#cdcd00\">daily-sweep-24</strong> at: <a href='https://wandb.ai/dlai211/Dark_ph_BDT_Sweep_Reduced/runs/ppk1x3dm' target=\"_blank\">https://wandb.ai/dlai211/Dark_ph_BDT_Sweep_Reduced/runs/ppk1x3dm</a><br> View project at: <a href='https://wandb.ai/dlai211/Dark_ph_BDT_Sweep_Reduced' target=\"_blank\">https://wandb.ai/dlai211/Dark_ph_BDT_Sweep_Reduced</a><br>Synced 5 W&B file(s), 0 media file(s), 0 artifact file(s) and 0 other file(s)"
      ],
      "text/plain": [
       "<IPython.core.display.HTML object>"
      ]
     },
     "metadata": {},
     "output_type": "display_data"
    },
    {
     "data": {
      "text/html": [
       "Find logs at: <code>./wandb/run-20250819_174909-ppk1x3dm/logs</code>"
      ],
      "text/plain": [
       "<IPython.core.display.HTML object>"
      ]
     },
     "metadata": {},
     "output_type": "display_data"
    },
    {
     "name": "stderr",
     "output_type": "stream",
     "text": [
      "\u001b[34m\u001b[1mwandb\u001b[0m: Agent Starting Run: xa11amoa with config:\n",
      "\u001b[34m\u001b[1mwandb\u001b[0m: \tgamma: 0.35575453324121586\n",
      "\u001b[34m\u001b[1mwandb\u001b[0m: \tlearning_rate: 0.033982151554040614\n",
      "\u001b[34m\u001b[1mwandb\u001b[0m: \tmax_depth: 5\n",
      "\u001b[34m\u001b[1mwandb\u001b[0m: \tn_estimators: 742\n",
      "\u001b[34m\u001b[1mwandb\u001b[0m: \tsubsample: 0.3625141550254684\n"
     ]
    },
    {
     "data": {
      "text/html": [
       "Tracking run with wandb version 0.21.0"
      ],
      "text/plain": [
       "<IPython.core.display.HTML object>"
      ]
     },
     "metadata": {},
     "output_type": "display_data"
    },
    {
     "data": {
      "text/html": [
       "Run data is saved locally in <code>/home/jlai/ML/jet_faking/wandb/run-20250819_174915-xa11amoa</code>"
      ],
      "text/plain": [
       "<IPython.core.display.HTML object>"
      ]
     },
     "metadata": {},
     "output_type": "display_data"
    },
    {
     "data": {
      "text/html": [
       "Syncing run <strong><a href='https://wandb.ai/dlai211/Dark_ph_BDT_Sweep_Reduced/runs/xa11amoa' target=\"_blank\">hearty-sweep-25</a></strong> to <a href='https://wandb.ai/dlai211/Dark_ph_BDT_Sweep_Reduced' target=\"_blank\">Weights & Biases</a> (<a href='https://wandb.me/developer-guide' target=\"_blank\">docs</a>)<br>Sweep page: <a href='https://wandb.ai/dlai211/Dark_ph_BDT_Sweep_Reduced/sweeps/woe18qc0' target=\"_blank\">https://wandb.ai/dlai211/Dark_ph_BDT_Sweep_Reduced/sweeps/woe18qc0</a>"
      ],
      "text/plain": [
       "<IPython.core.display.HTML object>"
      ]
     },
     "metadata": {},
     "output_type": "display_data"
    },
    {
     "data": {
      "text/html": [
       " View project at <a href='https://wandb.ai/dlai211/Dark_ph_BDT_Sweep_Reduced' target=\"_blank\">https://wandb.ai/dlai211/Dark_ph_BDT_Sweep_Reduced</a>"
      ],
      "text/plain": [
       "<IPython.core.display.HTML object>"
      ]
     },
     "metadata": {},
     "output_type": "display_data"
    },
    {
     "data": {
      "text/html": [
       " View sweep at <a href='https://wandb.ai/dlai211/Dark_ph_BDT_Sweep_Reduced/sweeps/woe18qc0' target=\"_blank\">https://wandb.ai/dlai211/Dark_ph_BDT_Sweep_Reduced/sweeps/woe18qc0</a>"
      ],
      "text/plain": [
       "<IPython.core.display.HTML object>"
      ]
     },
     "metadata": {},
     "output_type": "display_data"
    },
    {
     "data": {
      "text/html": [
       " View run at <a href='https://wandb.ai/dlai211/Dark_ph_BDT_Sweep_Reduced/runs/xa11amoa' target=\"_blank\">https://wandb.ai/dlai211/Dark_ph_BDT_Sweep_Reduced/runs/xa11amoa</a>"
      ],
      "text/plain": [
       "<IPython.core.display.HTML object>"
      ]
     },
     "metadata": {},
     "output_type": "display_data"
    },
    {
     "data": {
      "text/html": [],
      "text/plain": [
       "<IPython.core.display.HTML object>"
      ]
     },
     "metadata": {},
     "output_type": "display_data"
    },
    {
     "data": {
      "text/html": [
       "<br>    <style><br>        .wandb-row {<br>            display: flex;<br>            flex-direction: row;<br>            flex-wrap: wrap;<br>            justify-content: flex-start;<br>            width: 100%;<br>        }<br>        .wandb-col {<br>            display: flex;<br>            flex-direction: column;<br>            flex-basis: 100%;<br>            flex: 1;<br>            padding: 10px;<br>        }<br>    </style><br><div class=\"wandb-row\"><div class=\"wandb-col\"><h3>Run history:</h3><br/><table class=\"wandb\"><tr><td>Acceptance</td><td>▁</td></tr><tr><td>Max S/sqrt(B)</td><td>▁</td></tr><tr><td>Test ROC AUC</td><td>▁</td></tr><tr><td>bdtscore2 cut</td><td>▁</td></tr><tr><td>iteration</td><td>▁▁▁▁▂▂▂▂▂▃▃▃▃▃▄▄▄▄▄▄▅▅▅▅▅▅▆▆▆▆▆▇▇▇▇▇████</td></tr><tr><td>test_logloss</td><td>██▇▇▇▆▆▆▅▅▅▅▅▄▄▄▄▄▃▃▃▃▃▃▂▂▂▂▂▂▂▂▂▁▁▁▁▁▁▁</td></tr><tr><td>train_logloss</td><td>██▇▇▇▆▆▆▅▅▅▅▅▄▄▄▄▄▃▃▃▃▃▃▂▂▂▂▂▂▂▂▂▁▁▁▁▁▁▁</td></tr></table><br/></div><div class=\"wandb-col\"><h3>Run summary:</h3><br/><table class=\"wandb\"><tr><td>Acceptance</td><td>0.49779</td></tr><tr><td>Max S/sqrt(B)</td><td>1.86477</td></tr><tr><td>Test ROC AUC</td><td>0.8359</td></tr><tr><td>bdtscore2 cut</td><td>0.06</td></tr><tr><td>iteration</td><td>45</td></tr><tr><td>test_logloss</td><td>0.06749</td></tr><tr><td>train_logloss</td><td>0.06592</td></tr></table><br/></div></div>"
      ],
      "text/plain": [
       "<IPython.core.display.HTML object>"
      ]
     },
     "metadata": {},
     "output_type": "display_data"
    },
    {
     "data": {
      "text/html": [
       " View run <strong style=\"color:#cdcd00\">hearty-sweep-25</strong> at: <a href='https://wandb.ai/dlai211/Dark_ph_BDT_Sweep_Reduced/runs/xa11amoa' target=\"_blank\">https://wandb.ai/dlai211/Dark_ph_BDT_Sweep_Reduced/runs/xa11amoa</a><br> View project at: <a href='https://wandb.ai/dlai211/Dark_ph_BDT_Sweep_Reduced' target=\"_blank\">https://wandb.ai/dlai211/Dark_ph_BDT_Sweep_Reduced</a><br>Synced 5 W&B file(s), 0 media file(s), 0 artifact file(s) and 0 other file(s)"
      ],
      "text/plain": [
       "<IPython.core.display.HTML object>"
      ]
     },
     "metadata": {},
     "output_type": "display_data"
    },
    {
     "data": {
      "text/html": [
       "Find logs at: <code>./wandb/run-20250819_174915-xa11amoa/logs</code>"
      ],
      "text/plain": [
       "<IPython.core.display.HTML object>"
      ]
     },
     "metadata": {},
     "output_type": "display_data"
    },
    {
     "name": "stderr",
     "output_type": "stream",
     "text": [
      "\u001b[34m\u001b[1mwandb\u001b[0m: Agent Starting Run: o4juyu2e with config:\n",
      "\u001b[34m\u001b[1mwandb\u001b[0m: \tgamma: 0.6688346043084666\n",
      "\u001b[34m\u001b[1mwandb\u001b[0m: \tlearning_rate: 0.07859150309890743\n",
      "\u001b[34m\u001b[1mwandb\u001b[0m: \tmax_depth: 9\n",
      "\u001b[34m\u001b[1mwandb\u001b[0m: \tn_estimators: 611\n",
      "\u001b[34m\u001b[1mwandb\u001b[0m: \tsubsample: 0.6890984804695232\n"
     ]
    },
    {
     "data": {
      "text/html": [
       "Tracking run with wandb version 0.21.0"
      ],
      "text/plain": [
       "<IPython.core.display.HTML object>"
      ]
     },
     "metadata": {},
     "output_type": "display_data"
    },
    {
     "data": {
      "text/html": [
       "Run data is saved locally in <code>/home/jlai/ML/jet_faking/wandb/run-20250819_174919-o4juyu2e</code>"
      ],
      "text/plain": [
       "<IPython.core.display.HTML object>"
      ]
     },
     "metadata": {},
     "output_type": "display_data"
    },
    {
     "data": {
      "text/html": [
       "Syncing run <strong><a href='https://wandb.ai/dlai211/Dark_ph_BDT_Sweep_Reduced/runs/o4juyu2e' target=\"_blank\">jolly-sweep-26</a></strong> to <a href='https://wandb.ai/dlai211/Dark_ph_BDT_Sweep_Reduced' target=\"_blank\">Weights & Biases</a> (<a href='https://wandb.me/developer-guide' target=\"_blank\">docs</a>)<br>Sweep page: <a href='https://wandb.ai/dlai211/Dark_ph_BDT_Sweep_Reduced/sweeps/woe18qc0' target=\"_blank\">https://wandb.ai/dlai211/Dark_ph_BDT_Sweep_Reduced/sweeps/woe18qc0</a>"
      ],
      "text/plain": [
       "<IPython.core.display.HTML object>"
      ]
     },
     "metadata": {},
     "output_type": "display_data"
    },
    {
     "data": {
      "text/html": [
       " View project at <a href='https://wandb.ai/dlai211/Dark_ph_BDT_Sweep_Reduced' target=\"_blank\">https://wandb.ai/dlai211/Dark_ph_BDT_Sweep_Reduced</a>"
      ],
      "text/plain": [
       "<IPython.core.display.HTML object>"
      ]
     },
     "metadata": {},
     "output_type": "display_data"
    },
    {
     "data": {
      "text/html": [
       " View sweep at <a href='https://wandb.ai/dlai211/Dark_ph_BDT_Sweep_Reduced/sweeps/woe18qc0' target=\"_blank\">https://wandb.ai/dlai211/Dark_ph_BDT_Sweep_Reduced/sweeps/woe18qc0</a>"
      ],
      "text/plain": [
       "<IPython.core.display.HTML object>"
      ]
     },
     "metadata": {},
     "output_type": "display_data"
    },
    {
     "data": {
      "text/html": [
       " View run at <a href='https://wandb.ai/dlai211/Dark_ph_BDT_Sweep_Reduced/runs/o4juyu2e' target=\"_blank\">https://wandb.ai/dlai211/Dark_ph_BDT_Sweep_Reduced/runs/o4juyu2e</a>"
      ],
      "text/plain": [
       "<IPython.core.display.HTML object>"
      ]
     },
     "metadata": {},
     "output_type": "display_data"
    },
    {
     "data": {
      "text/html": [],
      "text/plain": [
       "<IPython.core.display.HTML object>"
      ]
     },
     "metadata": {},
     "output_type": "display_data"
    },
    {
     "data": {
      "text/html": [
       "<br>    <style><br>        .wandb-row {<br>            display: flex;<br>            flex-direction: row;<br>            flex-wrap: wrap;<br>            justify-content: flex-start;<br>            width: 100%;<br>        }<br>        .wandb-col {<br>            display: flex;<br>            flex-direction: column;<br>            flex-basis: 100%;<br>            flex: 1;<br>            padding: 10px;<br>        }<br>    </style><br><div class=\"wandb-row\"><div class=\"wandb-col\"><h3>Run history:</h3><br/><table class=\"wandb\"><tr><td>Acceptance</td><td>▁</td></tr><tr><td>Max S/sqrt(B)</td><td>▁</td></tr><tr><td>Test ROC AUC</td><td>▁</td></tr><tr><td>bdtscore2 cut</td><td>▁</td></tr><tr><td>iteration</td><td>▁▁▁▂▂▂▂▂▃▃▃▃▃▃▃▄▄▄▄▄▅▅▅▅▅▅▅▆▆▆▆▆▆▇▇▇▇▇▇█</td></tr><tr><td>test_logloss</td><td>█▆▆▅▅▃▃▃▃▂▂▂▂▂▂▁▁▁▁▁▁▁▁▁▁▁▁▁▁▁▁▁▁▁▁▁▁▁▁▁</td></tr><tr><td>train_logloss</td><td>█▅▅▄▄▄▃▃▃▃▂▂▂▂▂▂▂▂▂▂▁▁▁▁▁▁▁▁▁▁▁▁▁▁▁▁▁▁▁▁</td></tr></table><br/></div><div class=\"wandb-col\"><h3>Run summary:</h3><br/><table class=\"wandb\"><tr><td>Acceptance</td><td>0.6279</td></tr><tr><td>Max S/sqrt(B)</td><td>2.24363</td></tr><tr><td>Test ROC AUC</td><td>0.86978</td></tr><tr><td>bdtscore2 cut</td><td>0.03</td></tr><tr><td>iteration</td><td>72</td></tr><tr><td>test_logloss</td><td>0.0481</td></tr><tr><td>train_logloss</td><td>0.04319</td></tr></table><br/></div></div>"
      ],
      "text/plain": [
       "<IPython.core.display.HTML object>"
      ]
     },
     "metadata": {},
     "output_type": "display_data"
    },
    {
     "data": {
      "text/html": [
       " View run <strong style=\"color:#cdcd00\">jolly-sweep-26</strong> at: <a href='https://wandb.ai/dlai211/Dark_ph_BDT_Sweep_Reduced/runs/o4juyu2e' target=\"_blank\">https://wandb.ai/dlai211/Dark_ph_BDT_Sweep_Reduced/runs/o4juyu2e</a><br> View project at: <a href='https://wandb.ai/dlai211/Dark_ph_BDT_Sweep_Reduced' target=\"_blank\">https://wandb.ai/dlai211/Dark_ph_BDT_Sweep_Reduced</a><br>Synced 5 W&B file(s), 0 media file(s), 0 artifact file(s) and 0 other file(s)"
      ],
      "text/plain": [
       "<IPython.core.display.HTML object>"
      ]
     },
     "metadata": {},
     "output_type": "display_data"
    },
    {
     "data": {
      "text/html": [
       "Find logs at: <code>./wandb/run-20250819_174919-o4juyu2e/logs</code>"
      ],
      "text/plain": [
       "<IPython.core.display.HTML object>"
      ]
     },
     "metadata": {},
     "output_type": "display_data"
    },
    {
     "name": "stderr",
     "output_type": "stream",
     "text": [
      "\u001b[34m\u001b[1mwandb\u001b[0m: Agent Starting Run: e6vz3igv with config:\n",
      "\u001b[34m\u001b[1mwandb\u001b[0m: \tgamma: 0.1732846930786211\n",
      "\u001b[34m\u001b[1mwandb\u001b[0m: \tlearning_rate: 0.07635917919440896\n",
      "\u001b[34m\u001b[1mwandb\u001b[0m: \tmax_depth: 8\n",
      "\u001b[34m\u001b[1mwandb\u001b[0m: \tn_estimators: 182\n",
      "\u001b[34m\u001b[1mwandb\u001b[0m: \tsubsample: 0.4847766658424605\n"
     ]
    },
    {
     "data": {
      "text/html": [
       "Tracking run with wandb version 0.21.0"
      ],
      "text/plain": [
       "<IPython.core.display.HTML object>"
      ]
     },
     "metadata": {},
     "output_type": "display_data"
    },
    {
     "data": {
      "text/html": [
       "Run data is saved locally in <code>/home/jlai/ML/jet_faking/wandb/run-20250819_174925-e6vz3igv</code>"
      ],
      "text/plain": [
       "<IPython.core.display.HTML object>"
      ]
     },
     "metadata": {},
     "output_type": "display_data"
    },
    {
     "data": {
      "text/html": [
       "Syncing run <strong><a href='https://wandb.ai/dlai211/Dark_ph_BDT_Sweep_Reduced/runs/e6vz3igv' target=\"_blank\">fresh-sweep-27</a></strong> to <a href='https://wandb.ai/dlai211/Dark_ph_BDT_Sweep_Reduced' target=\"_blank\">Weights & Biases</a> (<a href='https://wandb.me/developer-guide' target=\"_blank\">docs</a>)<br>Sweep page: <a href='https://wandb.ai/dlai211/Dark_ph_BDT_Sweep_Reduced/sweeps/woe18qc0' target=\"_blank\">https://wandb.ai/dlai211/Dark_ph_BDT_Sweep_Reduced/sweeps/woe18qc0</a>"
      ],
      "text/plain": [
       "<IPython.core.display.HTML object>"
      ]
     },
     "metadata": {},
     "output_type": "display_data"
    },
    {
     "data": {
      "text/html": [
       " View project at <a href='https://wandb.ai/dlai211/Dark_ph_BDT_Sweep_Reduced' target=\"_blank\">https://wandb.ai/dlai211/Dark_ph_BDT_Sweep_Reduced</a>"
      ],
      "text/plain": [
       "<IPython.core.display.HTML object>"
      ]
     },
     "metadata": {},
     "output_type": "display_data"
    },
    {
     "data": {
      "text/html": [
       " View sweep at <a href='https://wandb.ai/dlai211/Dark_ph_BDT_Sweep_Reduced/sweeps/woe18qc0' target=\"_blank\">https://wandb.ai/dlai211/Dark_ph_BDT_Sweep_Reduced/sweeps/woe18qc0</a>"
      ],
      "text/plain": [
       "<IPython.core.display.HTML object>"
      ]
     },
     "metadata": {},
     "output_type": "display_data"
    },
    {
     "data": {
      "text/html": [
       " View run at <a href='https://wandb.ai/dlai211/Dark_ph_BDT_Sweep_Reduced/runs/e6vz3igv' target=\"_blank\">https://wandb.ai/dlai211/Dark_ph_BDT_Sweep_Reduced/runs/e6vz3igv</a>"
      ],
      "text/plain": [
       "<IPython.core.display.HTML object>"
      ]
     },
     "metadata": {},
     "output_type": "display_data"
    },
    {
     "data": {
      "text/html": [],
      "text/plain": [
       "<IPython.core.display.HTML object>"
      ]
     },
     "metadata": {},
     "output_type": "display_data"
    },
    {
     "data": {
      "text/html": [
       "<br>    <style><br>        .wandb-row {<br>            display: flex;<br>            flex-direction: row;<br>            flex-wrap: wrap;<br>            justify-content: flex-start;<br>            width: 100%;<br>        }<br>        .wandb-col {<br>            display: flex;<br>            flex-direction: column;<br>            flex-basis: 100%;<br>            flex: 1;<br>            padding: 10px;<br>        }<br>    </style><br><div class=\"wandb-row\"><div class=\"wandb-col\"><h3>Run history:</h3><br/><table class=\"wandb\"><tr><td>Acceptance</td><td>▁</td></tr><tr><td>Max S/sqrt(B)</td><td>▁</td></tr><tr><td>Test ROC AUC</td><td>▁</td></tr><tr><td>bdtscore2 cut</td><td>▁</td></tr><tr><td>iteration</td><td>▁▁▁▂▂▂▂▂▂▃▃▃▃▃▃▄▄▄▄▄▄▄▅▅▅▅▅▆▆▆▆▆▇▇▇▇▇▇██</td></tr><tr><td>test_logloss</td><td>█▇▆▆▅▄▄▃▃▂▂▂▂▂▁▁▁▁▁▁▁▁▁▁▁▁▁▁▁▁▁▁▁▁▁▁▁▁▁▁</td></tr><tr><td>train_logloss</td><td>█▇▇▆▆▅▄▄▄▄▃▃▃▂▂▂▂▂▂▁▁▁▁▁▁▁▁▁▁▁▁▁▁▁▁▁▁▁▁▁</td></tr></table><br/></div><div class=\"wandb-col\"><h3>Run summary:</h3><br/><table class=\"wandb\"><tr><td>Acceptance</td><td>0.16645</td></tr><tr><td>Max S/sqrt(B)</td><td>2.67261</td></tr><tr><td>Test ROC AUC</td><td>0.874</td></tr><tr><td>bdtscore2 cut</td><td>0.14</td></tr><tr><td>iteration</td><td>100</td></tr><tr><td>test_logloss</td><td>0.04771</td></tr><tr><td>train_logloss</td><td>0.03965</td></tr></table><br/></div></div>"
      ],
      "text/plain": [
       "<IPython.core.display.HTML object>"
      ]
     },
     "metadata": {},
     "output_type": "display_data"
    },
    {
     "data": {
      "text/html": [
       " View run <strong style=\"color:#cdcd00\">fresh-sweep-27</strong> at: <a href='https://wandb.ai/dlai211/Dark_ph_BDT_Sweep_Reduced/runs/e6vz3igv' target=\"_blank\">https://wandb.ai/dlai211/Dark_ph_BDT_Sweep_Reduced/runs/e6vz3igv</a><br> View project at: <a href='https://wandb.ai/dlai211/Dark_ph_BDT_Sweep_Reduced' target=\"_blank\">https://wandb.ai/dlai211/Dark_ph_BDT_Sweep_Reduced</a><br>Synced 5 W&B file(s), 0 media file(s), 0 artifact file(s) and 0 other file(s)"
      ],
      "text/plain": [
       "<IPython.core.display.HTML object>"
      ]
     },
     "metadata": {},
     "output_type": "display_data"
    },
    {
     "data": {
      "text/html": [
       "Find logs at: <code>./wandb/run-20250819_174925-e6vz3igv/logs</code>"
      ],
      "text/plain": [
       "<IPython.core.display.HTML object>"
      ]
     },
     "metadata": {},
     "output_type": "display_data"
    },
    {
     "name": "stderr",
     "output_type": "stream",
     "text": [
      "\u001b[34m\u001b[1mwandb\u001b[0m: Agent Starting Run: gzd5ig5z with config:\n",
      "\u001b[34m\u001b[1mwandb\u001b[0m: \tgamma: 0.9240777726680468\n",
      "\u001b[34m\u001b[1mwandb\u001b[0m: \tlearning_rate: 0.01819341194024871\n",
      "\u001b[34m\u001b[1mwandb\u001b[0m: \tmax_depth: 9\n",
      "\u001b[34m\u001b[1mwandb\u001b[0m: \tn_estimators: 674\n",
      "\u001b[34m\u001b[1mwandb\u001b[0m: \tsubsample: 0.6363257354738159\n"
     ]
    },
    {
     "data": {
      "text/html": [
       "Tracking run with wandb version 0.21.0"
      ],
      "text/plain": [
       "<IPython.core.display.HTML object>"
      ]
     },
     "metadata": {},
     "output_type": "display_data"
    },
    {
     "data": {
      "text/html": [
       "Run data is saved locally in <code>/home/jlai/ML/jet_faking/wandb/run-20250819_174931-gzd5ig5z</code>"
      ],
      "text/plain": [
       "<IPython.core.display.HTML object>"
      ]
     },
     "metadata": {},
     "output_type": "display_data"
    },
    {
     "data": {
      "text/html": [
       "Syncing run <strong><a href='https://wandb.ai/dlai211/Dark_ph_BDT_Sweep_Reduced/runs/gzd5ig5z' target=\"_blank\">sparkling-sweep-28</a></strong> to <a href='https://wandb.ai/dlai211/Dark_ph_BDT_Sweep_Reduced' target=\"_blank\">Weights & Biases</a> (<a href='https://wandb.me/developer-guide' target=\"_blank\">docs</a>)<br>Sweep page: <a href='https://wandb.ai/dlai211/Dark_ph_BDT_Sweep_Reduced/sweeps/woe18qc0' target=\"_blank\">https://wandb.ai/dlai211/Dark_ph_BDT_Sweep_Reduced/sweeps/woe18qc0</a>"
      ],
      "text/plain": [
       "<IPython.core.display.HTML object>"
      ]
     },
     "metadata": {},
     "output_type": "display_data"
    },
    {
     "data": {
      "text/html": [
       " View project at <a href='https://wandb.ai/dlai211/Dark_ph_BDT_Sweep_Reduced' target=\"_blank\">https://wandb.ai/dlai211/Dark_ph_BDT_Sweep_Reduced</a>"
      ],
      "text/plain": [
       "<IPython.core.display.HTML object>"
      ]
     },
     "metadata": {},
     "output_type": "display_data"
    },
    {
     "data": {
      "text/html": [
       " View sweep at <a href='https://wandb.ai/dlai211/Dark_ph_BDT_Sweep_Reduced/sweeps/woe18qc0' target=\"_blank\">https://wandb.ai/dlai211/Dark_ph_BDT_Sweep_Reduced/sweeps/woe18qc0</a>"
      ],
      "text/plain": [
       "<IPython.core.display.HTML object>"
      ]
     },
     "metadata": {},
     "output_type": "display_data"
    },
    {
     "data": {
      "text/html": [
       " View run at <a href='https://wandb.ai/dlai211/Dark_ph_BDT_Sweep_Reduced/runs/gzd5ig5z' target=\"_blank\">https://wandb.ai/dlai211/Dark_ph_BDT_Sweep_Reduced/runs/gzd5ig5z</a>"
      ],
      "text/plain": [
       "<IPython.core.display.HTML object>"
      ]
     },
     "metadata": {},
     "output_type": "display_data"
    },
    {
     "data": {
      "text/html": [],
      "text/plain": [
       "<IPython.core.display.HTML object>"
      ]
     },
     "metadata": {},
     "output_type": "display_data"
    },
    {
     "data": {
      "text/html": [
       "<br>    <style><br>        .wandb-row {<br>            display: flex;<br>            flex-direction: row;<br>            flex-wrap: wrap;<br>            justify-content: flex-start;<br>            width: 100%;<br>        }<br>        .wandb-col {<br>            display: flex;<br>            flex-direction: column;<br>            flex-basis: 100%;<br>            flex: 1;<br>            padding: 10px;<br>        }<br>    </style><br><div class=\"wandb-row\"><div class=\"wandb-col\"><h3>Run history:</h3><br/><table class=\"wandb\"><tr><td>Acceptance</td><td>▁</td></tr><tr><td>Max S/sqrt(B)</td><td>▁</td></tr><tr><td>Test ROC AUC</td><td>▁</td></tr><tr><td>bdtscore2 cut</td><td>▁</td></tr><tr><td>iteration</td><td>▁▁▁▁▁▂▂▂▂▂▂▃▃▃▃▃▃▄▄▄▅▅▅▅▅▆▆▆▆▇▇▇▇▇▇▇▇▇██</td></tr><tr><td>test_logloss</td><td>█▇▇▇▅▄▄▄▃▃▃▃▃▃▃▂▂▂▂▂▂▂▂▂▁▁▁▁▁▁▁▁▁▁▁▁▁▁▁▁</td></tr><tr><td>train_logloss</td><td>█▇▇▆▅▅▄▄▄▄▃▃▃▃▃▂▂▂▂▂▂▂▂▂▂▁▁▁▁▁▁▁▁▁▁▁▁▁▁▁</td></tr></table><br/></div><div class=\"wandb-col\"><h3>Run summary:</h3><br/><table class=\"wandb\"><tr><td>Acceptance</td><td>0.60729</td></tr><tr><td>Max S/sqrt(B)</td><td>2.14082</td></tr><tr><td>Test ROC AUC</td><td>0.85968</td></tr><tr><td>bdtscore2 cut</td><td>0.03</td></tr><tr><td>iteration</td><td>241</td></tr><tr><td>test_logloss</td><td>0.04916</td></tr><tr><td>train_logloss</td><td>0.04553</td></tr></table><br/></div></div>"
      ],
      "text/plain": [
       "<IPython.core.display.HTML object>"
      ]
     },
     "metadata": {},
     "output_type": "display_data"
    },
    {
     "data": {
      "text/html": [
       " View run <strong style=\"color:#cdcd00\">sparkling-sweep-28</strong> at: <a href='https://wandb.ai/dlai211/Dark_ph_BDT_Sweep_Reduced/runs/gzd5ig5z' target=\"_blank\">https://wandb.ai/dlai211/Dark_ph_BDT_Sweep_Reduced/runs/gzd5ig5z</a><br> View project at: <a href='https://wandb.ai/dlai211/Dark_ph_BDT_Sweep_Reduced' target=\"_blank\">https://wandb.ai/dlai211/Dark_ph_BDT_Sweep_Reduced</a><br>Synced 5 W&B file(s), 0 media file(s), 0 artifact file(s) and 0 other file(s)"
      ],
      "text/plain": [
       "<IPython.core.display.HTML object>"
      ]
     },
     "metadata": {},
     "output_type": "display_data"
    },
    {
     "data": {
      "text/html": [
       "Find logs at: <code>./wandb/run-20250819_174931-gzd5ig5z/logs</code>"
      ],
      "text/plain": [
       "<IPython.core.display.HTML object>"
      ]
     },
     "metadata": {},
     "output_type": "display_data"
    },
    {
     "name": "stderr",
     "output_type": "stream",
     "text": [
      "\u001b[34m\u001b[1mwandb\u001b[0m: Agent Starting Run: dn87huat with config:\n",
      "\u001b[34m\u001b[1mwandb\u001b[0m: \tgamma: 0.3000996518235308\n",
      "\u001b[34m\u001b[1mwandb\u001b[0m: \tlearning_rate: 0.06800234635313401\n",
      "\u001b[34m\u001b[1mwandb\u001b[0m: \tmax_depth: 6\n",
      "\u001b[34m\u001b[1mwandb\u001b[0m: \tn_estimators: 100\n",
      "\u001b[34m\u001b[1mwandb\u001b[0m: \tsubsample: 0.26148511338603075\n"
     ]
    },
    {
     "data": {
      "text/html": [
       "Tracking run with wandb version 0.21.0"
      ],
      "text/plain": [
       "<IPython.core.display.HTML object>"
      ]
     },
     "metadata": {},
     "output_type": "display_data"
    },
    {
     "data": {
      "text/html": [
       "Run data is saved locally in <code>/home/jlai/ML/jet_faking/wandb/run-20250819_174935-dn87huat</code>"
      ],
      "text/plain": [
       "<IPython.core.display.HTML object>"
      ]
     },
     "metadata": {},
     "output_type": "display_data"
    },
    {
     "data": {
      "text/html": [
       "Syncing run <strong><a href='https://wandb.ai/dlai211/Dark_ph_BDT_Sweep_Reduced/runs/dn87huat' target=\"_blank\">light-sweep-29</a></strong> to <a href='https://wandb.ai/dlai211/Dark_ph_BDT_Sweep_Reduced' target=\"_blank\">Weights & Biases</a> (<a href='https://wandb.me/developer-guide' target=\"_blank\">docs</a>)<br>Sweep page: <a href='https://wandb.ai/dlai211/Dark_ph_BDT_Sweep_Reduced/sweeps/woe18qc0' target=\"_blank\">https://wandb.ai/dlai211/Dark_ph_BDT_Sweep_Reduced/sweeps/woe18qc0</a>"
      ],
      "text/plain": [
       "<IPython.core.display.HTML object>"
      ]
     },
     "metadata": {},
     "output_type": "display_data"
    },
    {
     "data": {
      "text/html": [
       " View project at <a href='https://wandb.ai/dlai211/Dark_ph_BDT_Sweep_Reduced' target=\"_blank\">https://wandb.ai/dlai211/Dark_ph_BDT_Sweep_Reduced</a>"
      ],
      "text/plain": [
       "<IPython.core.display.HTML object>"
      ]
     },
     "metadata": {},
     "output_type": "display_data"
    },
    {
     "data": {
      "text/html": [
       " View sweep at <a href='https://wandb.ai/dlai211/Dark_ph_BDT_Sweep_Reduced/sweeps/woe18qc0' target=\"_blank\">https://wandb.ai/dlai211/Dark_ph_BDT_Sweep_Reduced/sweeps/woe18qc0</a>"
      ],
      "text/plain": [
       "<IPython.core.display.HTML object>"
      ]
     },
     "metadata": {},
     "output_type": "display_data"
    },
    {
     "data": {
      "text/html": [
       " View run at <a href='https://wandb.ai/dlai211/Dark_ph_BDT_Sweep_Reduced/runs/dn87huat' target=\"_blank\">https://wandb.ai/dlai211/Dark_ph_BDT_Sweep_Reduced/runs/dn87huat</a>"
      ],
      "text/plain": [
       "<IPython.core.display.HTML object>"
      ]
     },
     "metadata": {},
     "output_type": "display_data"
    },
    {
     "data": {
      "text/html": [],
      "text/plain": [
       "<IPython.core.display.HTML object>"
      ]
     },
     "metadata": {},
     "output_type": "display_data"
    },
    {
     "data": {
      "text/html": [
       "<br>    <style><br>        .wandb-row {<br>            display: flex;<br>            flex-direction: row;<br>            flex-wrap: wrap;<br>            justify-content: flex-start;<br>            width: 100%;<br>        }<br>        .wandb-col {<br>            display: flex;<br>            flex-direction: column;<br>            flex-basis: 100%;<br>            flex: 1;<br>            padding: 10px;<br>        }<br>    </style><br><div class=\"wandb-row\"><div class=\"wandb-col\"><h3>Run history:</h3><br/><table class=\"wandb\"><tr><td>Acceptance</td><td>▁</td></tr><tr><td>Max S/sqrt(B)</td><td>▁</td></tr><tr><td>Test ROC AUC</td><td>▁</td></tr><tr><td>bdtscore2 cut</td><td>▁</td></tr><tr><td>iteration</td><td>▁▁▁▂▂▂▂▂▂▃▃▃▃▃▃▄▄▄▄▄▅▅▅▅▅▅▆▆▆▆▆▆▇▇▇▇▇▇██</td></tr><tr><td>test_logloss</td><td>█▇▇▆▆▆▅▅▅▄▄▄▄▃▃▃▃▃▃▂▂▂▂▂▂▂▂▂▁▁▁▁▁▁▁▁▁▁▁▁</td></tr><tr><td>train_logloss</td><td>█▇▇▇▆▆▅▅▅▄▄▄▄▃▃▃▃▃▃▂▂▂▂▂▂▂▂▂▂▁▁▁▁▁▁▁▁▁▁▁</td></tr></table><br/></div><div class=\"wandb-col\"><h3>Run summary:</h3><br/><table class=\"wandb\"><tr><td>Acceptance</td><td>0.5801</td></tr><tr><td>Max S/sqrt(B)</td><td>1.96349</td></tr><tr><td>Test ROC AUC</td><td>0.84594</td></tr><tr><td>bdtscore2 cut</td><td>0.04</td></tr><tr><td>iteration</td><td>41</td></tr><tr><td>test_logloss</td><td>0.05404</td></tr><tr><td>train_logloss</td><td>0.05134</td></tr></table><br/></div></div>"
      ],
      "text/plain": [
       "<IPython.core.display.HTML object>"
      ]
     },
     "metadata": {},
     "output_type": "display_data"
    },
    {
     "data": {
      "text/html": [
       " View run <strong style=\"color:#cdcd00\">light-sweep-29</strong> at: <a href='https://wandb.ai/dlai211/Dark_ph_BDT_Sweep_Reduced/runs/dn87huat' target=\"_blank\">https://wandb.ai/dlai211/Dark_ph_BDT_Sweep_Reduced/runs/dn87huat</a><br> View project at: <a href='https://wandb.ai/dlai211/Dark_ph_BDT_Sweep_Reduced' target=\"_blank\">https://wandb.ai/dlai211/Dark_ph_BDT_Sweep_Reduced</a><br>Synced 5 W&B file(s), 0 media file(s), 0 artifact file(s) and 0 other file(s)"
      ],
      "text/plain": [
       "<IPython.core.display.HTML object>"
      ]
     },
     "metadata": {},
     "output_type": "display_data"
    },
    {
     "data": {
      "text/html": [
       "Find logs at: <code>./wandb/run-20250819_174935-dn87huat/logs</code>"
      ],
      "text/plain": [
       "<IPython.core.display.HTML object>"
      ]
     },
     "metadata": {},
     "output_type": "display_data"
    },
    {
     "name": "stderr",
     "output_type": "stream",
     "text": [
      "\u001b[34m\u001b[1mwandb\u001b[0m: Agent Starting Run: odpkgouu with config:\n",
      "\u001b[34m\u001b[1mwandb\u001b[0m: \tgamma: 0.4899917969308401\n",
      "\u001b[34m\u001b[1mwandb\u001b[0m: \tlearning_rate: 0.052970402138732976\n",
      "\u001b[34m\u001b[1mwandb\u001b[0m: \tmax_depth: 8\n",
      "\u001b[34m\u001b[1mwandb\u001b[0m: \tn_estimators: 151\n",
      "\u001b[34m\u001b[1mwandb\u001b[0m: \tsubsample: 0.3678620967212211\n"
     ]
    },
    {
     "data": {
      "text/html": [
       "Tracking run with wandb version 0.21.0"
      ],
      "text/plain": [
       "<IPython.core.display.HTML object>"
      ]
     },
     "metadata": {},
     "output_type": "display_data"
    },
    {
     "data": {
      "text/html": [
       "Run data is saved locally in <code>/home/jlai/ML/jet_faking/wandb/run-20250819_174941-odpkgouu</code>"
      ],
      "text/plain": [
       "<IPython.core.display.HTML object>"
      ]
     },
     "metadata": {},
     "output_type": "display_data"
    },
    {
     "data": {
      "text/html": [
       "Syncing run <strong><a href='https://wandb.ai/dlai211/Dark_ph_BDT_Sweep_Reduced/runs/odpkgouu' target=\"_blank\">fancy-sweep-30</a></strong> to <a href='https://wandb.ai/dlai211/Dark_ph_BDT_Sweep_Reduced' target=\"_blank\">Weights & Biases</a> (<a href='https://wandb.me/developer-guide' target=\"_blank\">docs</a>)<br>Sweep page: <a href='https://wandb.ai/dlai211/Dark_ph_BDT_Sweep_Reduced/sweeps/woe18qc0' target=\"_blank\">https://wandb.ai/dlai211/Dark_ph_BDT_Sweep_Reduced/sweeps/woe18qc0</a>"
      ],
      "text/plain": [
       "<IPython.core.display.HTML object>"
      ]
     },
     "metadata": {},
     "output_type": "display_data"
    },
    {
     "data": {
      "text/html": [
       " View project at <a href='https://wandb.ai/dlai211/Dark_ph_BDT_Sweep_Reduced' target=\"_blank\">https://wandb.ai/dlai211/Dark_ph_BDT_Sweep_Reduced</a>"
      ],
      "text/plain": [
       "<IPython.core.display.HTML object>"
      ]
     },
     "metadata": {},
     "output_type": "display_data"
    },
    {
     "data": {
      "text/html": [
       " View sweep at <a href='https://wandb.ai/dlai211/Dark_ph_BDT_Sweep_Reduced/sweeps/woe18qc0' target=\"_blank\">https://wandb.ai/dlai211/Dark_ph_BDT_Sweep_Reduced/sweeps/woe18qc0</a>"
      ],
      "text/plain": [
       "<IPython.core.display.HTML object>"
      ]
     },
     "metadata": {},
     "output_type": "display_data"
    },
    {
     "data": {
      "text/html": [
       " View run at <a href='https://wandb.ai/dlai211/Dark_ph_BDT_Sweep_Reduced/runs/odpkgouu' target=\"_blank\">https://wandb.ai/dlai211/Dark_ph_BDT_Sweep_Reduced/runs/odpkgouu</a>"
      ],
      "text/plain": [
       "<IPython.core.display.HTML object>"
      ]
     },
     "metadata": {},
     "output_type": "display_data"
    },
    {
     "data": {
      "text/html": [],
      "text/plain": [
       "<IPython.core.display.HTML object>"
      ]
     },
     "metadata": {},
     "output_type": "display_data"
    },
    {
     "data": {
      "text/html": [
       "<br>    <style><br>        .wandb-row {<br>            display: flex;<br>            flex-direction: row;<br>            flex-wrap: wrap;<br>            justify-content: flex-start;<br>            width: 100%;<br>        }<br>        .wandb-col {<br>            display: flex;<br>            flex-direction: column;<br>            flex-basis: 100%;<br>            flex: 1;<br>            padding: 10px;<br>        }<br>    </style><br><div class=\"wandb-row\"><div class=\"wandb-col\"><h3>Run history:</h3><br/><table class=\"wandb\"><tr><td>Acceptance</td><td>▁</td></tr><tr><td>Max S/sqrt(B)</td><td>▁</td></tr><tr><td>Test ROC AUC</td><td>▁</td></tr><tr><td>bdtscore2 cut</td><td>▁</td></tr><tr><td>iteration</td><td>▁▁▂▂▂▂▂▂▃▃▃▃▃▄▄▄▄▅▅▅▅▅▅▅▅▆▆▆▆▆▆▇▇▇▇▇████</td></tr><tr><td>test_logloss</td><td>█▇▇▆▅▃▂▂▂▂▂▂▂▂▁▁▁▁▁▁▁▁▁▁▁▁▁▁▁▁▁▁▁▁▁▁▁▁▁▁</td></tr><tr><td>train_logloss</td><td>██▇▅▄▃▃▃▂▂▂▂▂▂▁▁▁▁▁▁▁▁▁▁▁▁▁▁▁▁▁▁▁▁▁▁▁▁▁▁</td></tr></table><br/></div><div class=\"wandb-col\"><h3>Run summary:</h3><br/><table class=\"wandb\"><tr><td>Acceptance</td><td>0.63754</td></tr><tr><td>Max S/sqrt(B)</td><td>2.29257</td></tr><tr><td>Test ROC AUC</td><td>0.86763</td></tr><tr><td>bdtscore2 cut</td><td>0.03</td></tr><tr><td>iteration</td><td>147</td></tr><tr><td>test_logloss</td><td>0.04786</td></tr><tr><td>train_logloss</td><td>0.04268</td></tr></table><br/></div></div>"
      ],
      "text/plain": [
       "<IPython.core.display.HTML object>"
      ]
     },
     "metadata": {},
     "output_type": "display_data"
    },
    {
     "data": {
      "text/html": [
       " View run <strong style=\"color:#cdcd00\">fancy-sweep-30</strong> at: <a href='https://wandb.ai/dlai211/Dark_ph_BDT_Sweep_Reduced/runs/odpkgouu' target=\"_blank\">https://wandb.ai/dlai211/Dark_ph_BDT_Sweep_Reduced/runs/odpkgouu</a><br> View project at: <a href='https://wandb.ai/dlai211/Dark_ph_BDT_Sweep_Reduced' target=\"_blank\">https://wandb.ai/dlai211/Dark_ph_BDT_Sweep_Reduced</a><br>Synced 5 W&B file(s), 0 media file(s), 0 artifact file(s) and 0 other file(s)"
      ],
      "text/plain": [
       "<IPython.core.display.HTML object>"
      ]
     },
     "metadata": {},
     "output_type": "display_data"
    },
    {
     "data": {
      "text/html": [
       "Find logs at: <code>./wandb/run-20250819_174941-odpkgouu/logs</code>"
      ],
      "text/plain": [
       "<IPython.core.display.HTML object>"
      ]
     },
     "metadata": {},
     "output_type": "display_data"
    }
   ],
   "source": [
    "# === Run Sweep ===\n",
    "sweep_id = wandb.sweep(sweep_config, project=\"Dark_ph_BDT_Sweep_Reduced\")\n",
    "wandb.agent(sweep_id, function=sweep_train, count=30)"
   ]
  },
  {
   "cell_type": "code",
   "execution_count": 6,
   "id": "27be4a26-e87e-4648-bcf5-56467c575604",
   "metadata": {},
   "outputs": [
    {
     "name": "stdout",
     "output_type": "stream",
     "text": [
      "[0]\tvalidation_0-logloss:0.11612\tvalidation_0-error:0.00022\tvalidation_0-auc:0.73907\n",
      "[1]\tvalidation_0-logloss:0.10583\tvalidation_0-error:0.00022\tvalidation_0-auc:0.77807\n",
      "[2]\tvalidation_0-logloss:0.09652\tvalidation_0-error:0.00022\tvalidation_0-auc:0.80811\n",
      "[3]\tvalidation_0-logloss:0.08807\tvalidation_0-error:0.00022\tvalidation_0-auc:0.80811\n",
      "[4]\tvalidation_0-logloss:0.08041\tvalidation_0-error:0.00022\tvalidation_0-auc:0.85301\n",
      "[5]\tvalidation_0-logloss:0.07344\tvalidation_0-error:0.00022\tvalidation_0-auc:0.85320\n",
      "[6]\tvalidation_0-logloss:0.06711\tvalidation_0-error:0.00022\tvalidation_0-auc:0.85311\n",
      "[7]\tvalidation_0-logloss:0.06136\tvalidation_0-error:0.00022\tvalidation_0-auc:0.85335\n",
      "[8]\tvalidation_0-logloss:0.05612\tvalidation_0-error:0.00022\tvalidation_0-auc:0.85321\n",
      "[9]\tvalidation_0-logloss:0.05135\tvalidation_0-error:0.00022\tvalidation_0-auc:0.85318\n",
      "[10]\tvalidation_0-logloss:0.04700\tvalidation_0-error:0.00022\tvalidation_0-auc:0.85324\n",
      "[11]\tvalidation_0-logloss:0.04304\tvalidation_0-error:0.00022\tvalidation_0-auc:0.85334\n",
      "[12]\tvalidation_0-logloss:0.03943\tvalidation_0-error:0.00022\tvalidation_0-auc:0.85367\n",
      "[13]\tvalidation_0-logloss:0.03614\tvalidation_0-error:0.00022\tvalidation_0-auc:0.85386\n",
      "[14]\tvalidation_0-logloss:0.03314\tvalidation_0-error:0.00022\tvalidation_0-auc:0.86781\n",
      "[15]\tvalidation_0-logloss:0.03040\tvalidation_0-error:0.00022\tvalidation_0-auc:0.86797\n",
      "[16]\tvalidation_0-logloss:0.02789\tvalidation_0-error:0.00022\tvalidation_0-auc:0.86810\n",
      "[17]\tvalidation_0-logloss:0.02561\tvalidation_0-error:0.00022\tvalidation_0-auc:0.87338\n",
      "[18]\tvalidation_0-logloss:0.02352\tvalidation_0-error:0.00022\tvalidation_0-auc:0.87340\n",
      "[19]\tvalidation_0-logloss:0.02161\tvalidation_0-error:0.00022\tvalidation_0-auc:0.88718\n",
      "[20]\tvalidation_0-logloss:0.01987\tvalidation_0-error:0.00022\tvalidation_0-auc:0.88733\n",
      "[21]\tvalidation_0-logloss:0.01828\tvalidation_0-error:0.00022\tvalidation_0-auc:0.88754\n",
      "[22]\tvalidation_0-logloss:0.01683\tvalidation_0-error:0.00022\tvalidation_0-auc:0.88753\n",
      "[23]\tvalidation_0-logloss:0.01550\tvalidation_0-error:0.00022\tvalidation_0-auc:0.88764\n",
      "[24]\tvalidation_0-logloss:0.01428\tvalidation_0-error:0.00022\tvalidation_0-auc:0.88769\n",
      "[25]\tvalidation_0-logloss:0.01318\tvalidation_0-error:0.00022\tvalidation_0-auc:0.88775\n",
      "[26]\tvalidation_0-logloss:0.01216\tvalidation_0-error:0.00022\tvalidation_0-auc:0.88775\n",
      "[27]\tvalidation_0-logloss:0.01123\tvalidation_0-error:0.00022\tvalidation_0-auc:0.88776\n",
      "[28]\tvalidation_0-logloss:0.01038\tvalidation_0-error:0.00022\tvalidation_0-auc:0.88777\n",
      "[29]\tvalidation_0-logloss:0.00961\tvalidation_0-error:0.00022\tvalidation_0-auc:0.88780\n",
      "[30]\tvalidation_0-logloss:0.00890\tvalidation_0-error:0.00022\tvalidation_0-auc:0.88785\n",
      "[31]\tvalidation_0-logloss:0.00825\tvalidation_0-error:0.00022\tvalidation_0-auc:0.90140\n",
      "[32]\tvalidation_0-logloss:0.00766\tvalidation_0-error:0.00022\tvalidation_0-auc:0.90141\n",
      "[33]\tvalidation_0-logloss:0.00711\tvalidation_0-error:0.00022\tvalidation_0-auc:0.90141\n",
      "[34]\tvalidation_0-logloss:0.00662\tvalidation_0-error:0.00022\tvalidation_0-auc:0.90144\n",
      "[35]\tvalidation_0-logloss:0.00616\tvalidation_0-error:0.00022\tvalidation_0-auc:0.90667\n",
      "[36]\tvalidation_0-logloss:0.00575\tvalidation_0-error:0.00022\tvalidation_0-auc:0.90664\n",
      "[37]\tvalidation_0-logloss:0.00537\tvalidation_0-error:0.00022\tvalidation_0-auc:0.90889\n",
      "[38]\tvalidation_0-logloss:0.00502\tvalidation_0-error:0.00022\tvalidation_0-auc:0.90904\n",
      "[39]\tvalidation_0-logloss:0.00471\tvalidation_0-error:0.00022\tvalidation_0-auc:0.90915\n",
      "[40]\tvalidation_0-logloss:0.00442\tvalidation_0-error:0.00022\tvalidation_0-auc:0.90916\n",
      "[41]\tvalidation_0-logloss:0.00415\tvalidation_0-error:0.00022\tvalidation_0-auc:0.90924\n",
      "[42]\tvalidation_0-logloss:0.00391\tvalidation_0-error:0.00022\tvalidation_0-auc:0.90927\n",
      "[43]\tvalidation_0-logloss:0.00369\tvalidation_0-error:0.00022\tvalidation_0-auc:0.90936\n",
      "[44]\tvalidation_0-logloss:0.00348\tvalidation_0-error:0.00022\tvalidation_0-auc:0.91224\n",
      "[45]\tvalidation_0-logloss:0.00330\tvalidation_0-error:0.00022\tvalidation_0-auc:0.91231\n",
      "[46]\tvalidation_0-logloss:0.00313\tvalidation_0-error:0.00022\tvalidation_0-auc:0.91239\n",
      "[47]\tvalidation_0-logloss:0.00297\tvalidation_0-error:0.00022\tvalidation_0-auc:0.91242\n",
      "[48]\tvalidation_0-logloss:0.00283\tvalidation_0-error:0.00022\tvalidation_0-auc:0.91247\n",
      "[49]\tvalidation_0-logloss:0.00270\tvalidation_0-error:0.00022\tvalidation_0-auc:0.91257\n",
      "[50]\tvalidation_0-logloss:0.00258\tvalidation_0-error:0.00022\tvalidation_0-auc:0.91263\n",
      "[51]\tvalidation_0-logloss:0.00248\tvalidation_0-error:0.00022\tvalidation_0-auc:0.91268\n",
      "[52]\tvalidation_0-logloss:0.00238\tvalidation_0-error:0.00022\tvalidation_0-auc:0.91765\n",
      "[53]\tvalidation_0-logloss:0.00229\tvalidation_0-error:0.00022\tvalidation_0-auc:0.91780\n",
      "[54]\tvalidation_0-logloss:0.00221\tvalidation_0-error:0.00022\tvalidation_0-auc:0.91792\n",
      "[55]\tvalidation_0-logloss:0.00213\tvalidation_0-error:0.00022\tvalidation_0-auc:0.91802\n",
      "[56]\tvalidation_0-logloss:0.00206\tvalidation_0-error:0.00022\tvalidation_0-auc:0.91813\n",
      "[57]\tvalidation_0-logloss:0.00200\tvalidation_0-error:0.00022\tvalidation_0-auc:0.92113\n",
      "[58]\tvalidation_0-logloss:0.00194\tvalidation_0-error:0.00022\tvalidation_0-auc:0.92113\n",
      "[59]\tvalidation_0-logloss:0.00189\tvalidation_0-error:0.00022\tvalidation_0-auc:0.92954\n",
      "[60]\tvalidation_0-logloss:0.00184\tvalidation_0-error:0.00022\tvalidation_0-auc:0.92959\n",
      "[61]\tvalidation_0-logloss:0.00180\tvalidation_0-error:0.00022\tvalidation_0-auc:0.92968\n",
      "[62]\tvalidation_0-logloss:0.00176\tvalidation_0-error:0.00022\tvalidation_0-auc:0.92967\n",
      "[63]\tvalidation_0-logloss:0.00172\tvalidation_0-error:0.00022\tvalidation_0-auc:0.93000\n",
      "[64]\tvalidation_0-logloss:0.00169\tvalidation_0-error:0.00022\tvalidation_0-auc:0.94780\n",
      "[65]\tvalidation_0-logloss:0.00166\tvalidation_0-error:0.00022\tvalidation_0-auc:0.94782\n",
      "[66]\tvalidation_0-logloss:0.00163\tvalidation_0-error:0.00022\tvalidation_0-auc:0.95527\n",
      "[67]\tvalidation_0-logloss:0.00160\tvalidation_0-error:0.00022\tvalidation_0-auc:0.95790\n",
      "[68]\tvalidation_0-logloss:0.00158\tvalidation_0-error:0.00022\tvalidation_0-auc:0.96026\n",
      "[69]\tvalidation_0-logloss:0.00156\tvalidation_0-error:0.00022\tvalidation_0-auc:0.96051\n",
      "[70]\tvalidation_0-logloss:0.00154\tvalidation_0-error:0.00022\tvalidation_0-auc:0.96196\n",
      "[71]\tvalidation_0-logloss:0.00152\tvalidation_0-error:0.00022\tvalidation_0-auc:0.96221\n",
      "[72]\tvalidation_0-logloss:0.00150\tvalidation_0-error:0.00022\tvalidation_0-auc:0.96242\n",
      "[73]\tvalidation_0-logloss:0.00149\tvalidation_0-error:0.00022\tvalidation_0-auc:0.96323\n",
      "[74]\tvalidation_0-logloss:0.00147\tvalidation_0-error:0.00022\tvalidation_0-auc:0.96329\n",
      "[75]\tvalidation_0-logloss:0.00146\tvalidation_0-error:0.00022\tvalidation_0-auc:0.96389\n",
      "[76]\tvalidation_0-logloss:0.00145\tvalidation_0-error:0.00022\tvalidation_0-auc:0.96407\n",
      "[77]\tvalidation_0-logloss:0.00144\tvalidation_0-error:0.00022\tvalidation_0-auc:0.96431\n",
      "[78]\tvalidation_0-logloss:0.00143\tvalidation_0-error:0.00022\tvalidation_0-auc:0.96412\n",
      "[79]\tvalidation_0-logloss:0.00142\tvalidation_0-error:0.00022\tvalidation_0-auc:0.96421\n",
      "[80]\tvalidation_0-logloss:0.00141\tvalidation_0-error:0.00022\tvalidation_0-auc:0.96470\n",
      "[81]\tvalidation_0-logloss:0.00141\tvalidation_0-error:0.00022\tvalidation_0-auc:0.96536\n",
      "[82]\tvalidation_0-logloss:0.00140\tvalidation_0-error:0.00022\tvalidation_0-auc:0.96542\n",
      "[83]\tvalidation_0-logloss:0.00139\tvalidation_0-error:0.00022\tvalidation_0-auc:0.96573\n",
      "[84]\tvalidation_0-logloss:0.00139\tvalidation_0-error:0.00022\tvalidation_0-auc:0.96580\n",
      "[85]\tvalidation_0-logloss:0.00138\tvalidation_0-error:0.00022\tvalidation_0-auc:0.96625\n",
      "[86]\tvalidation_0-logloss:0.00138\tvalidation_0-error:0.00022\tvalidation_0-auc:0.96628\n",
      "[87]\tvalidation_0-logloss:0.00137\tvalidation_0-error:0.00022\tvalidation_0-auc:0.96752\n",
      "[88]\tvalidation_0-logloss:0.00137\tvalidation_0-error:0.00022\tvalidation_0-auc:0.96796\n",
      "[89]\tvalidation_0-logloss:0.00136\tvalidation_0-error:0.00022\tvalidation_0-auc:0.96823\n",
      "[90]\tvalidation_0-logloss:0.00136\tvalidation_0-error:0.00022\tvalidation_0-auc:0.96871\n",
      "[91]\tvalidation_0-logloss:0.00136\tvalidation_0-error:0.00022\tvalidation_0-auc:0.96865\n",
      "[92]\tvalidation_0-logloss:0.00135\tvalidation_0-error:0.00022\tvalidation_0-auc:0.96913\n",
      "[93]\tvalidation_0-logloss:0.00135\tvalidation_0-error:0.00022\tvalidation_0-auc:0.96962\n",
      "[94]\tvalidation_0-logloss:0.00135\tvalidation_0-error:0.00022\tvalidation_0-auc:0.96993\n",
      "[95]\tvalidation_0-logloss:0.00134\tvalidation_0-error:0.00022\tvalidation_0-auc:0.97016\n",
      "[96]\tvalidation_0-logloss:0.00134\tvalidation_0-error:0.00022\tvalidation_0-auc:0.97012\n",
      "[97]\tvalidation_0-logloss:0.00134\tvalidation_0-error:0.00022\tvalidation_0-auc:0.97003\n",
      "[98]\tvalidation_0-logloss:0.00134\tvalidation_0-error:0.00022\tvalidation_0-auc:0.97017\n",
      "[99]\tvalidation_0-logloss:0.00134\tvalidation_0-error:0.00022\tvalidation_0-auc:0.97055\n",
      "[100]\tvalidation_0-logloss:0.00134\tvalidation_0-error:0.00022\tvalidation_0-auc:0.97096\n",
      "[101]\tvalidation_0-logloss:0.00133\tvalidation_0-error:0.00022\tvalidation_0-auc:0.97117\n",
      "[102]\tvalidation_0-logloss:0.00133\tvalidation_0-error:0.00022\tvalidation_0-auc:0.97142\n",
      "[103]\tvalidation_0-logloss:0.00133\tvalidation_0-error:0.00022\tvalidation_0-auc:0.97160\n",
      "[104]\tvalidation_0-logloss:0.00133\tvalidation_0-error:0.00022\tvalidation_0-auc:0.97182\n",
      "[105]\tvalidation_0-logloss:0.00133\tvalidation_0-error:0.00022\tvalidation_0-auc:0.97178\n",
      "[106]\tvalidation_0-logloss:0.00133\tvalidation_0-error:0.00022\tvalidation_0-auc:0.97197\n",
      "[107]\tvalidation_0-logloss:0.00132\tvalidation_0-error:0.00022\tvalidation_0-auc:0.97210\n",
      "[108]\tvalidation_0-logloss:0.00132\tvalidation_0-error:0.00022\tvalidation_0-auc:0.97230\n",
      "[109]\tvalidation_0-logloss:0.00132\tvalidation_0-error:0.00022\tvalidation_0-auc:0.97264\n",
      "[110]\tvalidation_0-logloss:0.00132\tvalidation_0-error:0.00022\tvalidation_0-auc:0.97269\n",
      "[111]\tvalidation_0-logloss:0.00132\tvalidation_0-error:0.00022\tvalidation_0-auc:0.97263\n",
      "[112]\tvalidation_0-logloss:0.00132\tvalidation_0-error:0.00022\tvalidation_0-auc:0.97287\n",
      "[113]\tvalidation_0-logloss:0.00132\tvalidation_0-error:0.00022\tvalidation_0-auc:0.97282\n",
      "[114]\tvalidation_0-logloss:0.00132\tvalidation_0-error:0.00022\tvalidation_0-auc:0.97284\n",
      "[115]\tvalidation_0-logloss:0.00132\tvalidation_0-error:0.00022\tvalidation_0-auc:0.97289\n",
      "[116]\tvalidation_0-logloss:0.00132\tvalidation_0-error:0.00022\tvalidation_0-auc:0.97291\n",
      "[117]\tvalidation_0-logloss:0.00132\tvalidation_0-error:0.00022\tvalidation_0-auc:0.97319\n",
      "[118]\tvalidation_0-logloss:0.00131\tvalidation_0-error:0.00022\tvalidation_0-auc:0.97329\n",
      "[119]\tvalidation_0-logloss:0.00131\tvalidation_0-error:0.00022\tvalidation_0-auc:0.97333\n",
      "[120]\tvalidation_0-logloss:0.00131\tvalidation_0-error:0.00022\tvalidation_0-auc:0.97331\n",
      "[121]\tvalidation_0-logloss:0.00131\tvalidation_0-error:0.00022\tvalidation_0-auc:0.97342\n",
      "[122]\tvalidation_0-logloss:0.00131\tvalidation_0-error:0.00022\tvalidation_0-auc:0.97341\n",
      "[123]\tvalidation_0-logloss:0.00131\tvalidation_0-error:0.00022\tvalidation_0-auc:0.97346\n",
      "[124]\tvalidation_0-logloss:0.00131\tvalidation_0-error:0.00022\tvalidation_0-auc:0.97362\n",
      "[125]\tvalidation_0-logloss:0.00131\tvalidation_0-error:0.00022\tvalidation_0-auc:0.97360\n",
      "[126]\tvalidation_0-logloss:0.00131\tvalidation_0-error:0.00022\tvalidation_0-auc:0.97355\n",
      "[127]\tvalidation_0-logloss:0.00131\tvalidation_0-error:0.00022\tvalidation_0-auc:0.97354\n",
      "[128]\tvalidation_0-logloss:0.00131\tvalidation_0-error:0.00022\tvalidation_0-auc:0.97374\n",
      "[129]\tvalidation_0-logloss:0.00131\tvalidation_0-error:0.00022\tvalidation_0-auc:0.97380\n",
      "[130]\tvalidation_0-logloss:0.00131\tvalidation_0-error:0.00022\tvalidation_0-auc:0.97374\n",
      "[131]\tvalidation_0-logloss:0.00131\tvalidation_0-error:0.00022\tvalidation_0-auc:0.97376\n",
      "[132]\tvalidation_0-logloss:0.00131\tvalidation_0-error:0.00022\tvalidation_0-auc:0.97380\n",
      "[133]\tvalidation_0-logloss:0.00131\tvalidation_0-error:0.00022\tvalidation_0-auc:0.97384\n",
      "[134]\tvalidation_0-logloss:0.00131\tvalidation_0-error:0.00022\tvalidation_0-auc:0.97380\n",
      "[135]\tvalidation_0-logloss:0.00130\tvalidation_0-error:0.00022\tvalidation_0-auc:0.97399\n",
      "[136]\tvalidation_0-logloss:0.00130\tvalidation_0-error:0.00022\tvalidation_0-auc:0.97406\n",
      "[137]\tvalidation_0-logloss:0.00130\tvalidation_0-error:0.00022\tvalidation_0-auc:0.97411\n",
      "[138]\tvalidation_0-logloss:0.00130\tvalidation_0-error:0.00022\tvalidation_0-auc:0.97413\n",
      "[139]\tvalidation_0-logloss:0.00130\tvalidation_0-error:0.00022\tvalidation_0-auc:0.97415\n",
      "[140]\tvalidation_0-logloss:0.00130\tvalidation_0-error:0.00022\tvalidation_0-auc:0.97416\n",
      "[141]\tvalidation_0-logloss:0.00130\tvalidation_0-error:0.00022\tvalidation_0-auc:0.97427\n",
      "[142]\tvalidation_0-logloss:0.00130\tvalidation_0-error:0.00022\tvalidation_0-auc:0.97434\n",
      "[143]\tvalidation_0-logloss:0.00130\tvalidation_0-error:0.00022\tvalidation_0-auc:0.97448\n",
      "[144]\tvalidation_0-logloss:0.00130\tvalidation_0-error:0.00022\tvalidation_0-auc:0.97452\n",
      "[145]\tvalidation_0-logloss:0.00130\tvalidation_0-error:0.00022\tvalidation_0-auc:0.97470\n",
      "[146]\tvalidation_0-logloss:0.00130\tvalidation_0-error:0.00022\tvalidation_0-auc:0.97472\n",
      "[147]\tvalidation_0-logloss:0.00130\tvalidation_0-error:0.00022\tvalidation_0-auc:0.97472\n",
      "[148]\tvalidation_0-logloss:0.00130\tvalidation_0-error:0.00022\tvalidation_0-auc:0.97471\n",
      "[149]\tvalidation_0-logloss:0.00130\tvalidation_0-error:0.00022\tvalidation_0-auc:0.97479\n",
      "[150]\tvalidation_0-logloss:0.00130\tvalidation_0-error:0.00022\tvalidation_0-auc:0.97483\n",
      "[151]\tvalidation_0-logloss:0.00130\tvalidation_0-error:0.00022\tvalidation_0-auc:0.97484\n",
      "[152]\tvalidation_0-logloss:0.00130\tvalidation_0-error:0.00022\tvalidation_0-auc:0.97489\n",
      "[153]\tvalidation_0-logloss:0.00130\tvalidation_0-error:0.00022\tvalidation_0-auc:0.97495\n",
      "[154]\tvalidation_0-logloss:0.00130\tvalidation_0-error:0.00022\tvalidation_0-auc:0.97495\n",
      "[155]\tvalidation_0-logloss:0.00130\tvalidation_0-error:0.00022\tvalidation_0-auc:0.97493\n",
      "[156]\tvalidation_0-logloss:0.00130\tvalidation_0-error:0.00022\tvalidation_0-auc:0.97493\n",
      "[157]\tvalidation_0-logloss:0.00130\tvalidation_0-error:0.00022\tvalidation_0-auc:0.97501\n",
      "[158]\tvalidation_0-logloss:0.00130\tvalidation_0-error:0.00022\tvalidation_0-auc:0.97506\n",
      "[159]\tvalidation_0-logloss:0.00130\tvalidation_0-error:0.00022\tvalidation_0-auc:0.97514\n",
      "[160]\tvalidation_0-logloss:0.00130\tvalidation_0-error:0.00022\tvalidation_0-auc:0.97514\n",
      "[161]\tvalidation_0-logloss:0.00130\tvalidation_0-error:0.00022\tvalidation_0-auc:0.97514\n",
      "[162]\tvalidation_0-logloss:0.00130\tvalidation_0-error:0.00022\tvalidation_0-auc:0.97518\n",
      "[163]\tvalidation_0-logloss:0.00130\tvalidation_0-error:0.00022\tvalidation_0-auc:0.97518\n",
      "[164]\tvalidation_0-logloss:0.00130\tvalidation_0-error:0.00022\tvalidation_0-auc:0.97521\n",
      "[165]\tvalidation_0-logloss:0.00130\tvalidation_0-error:0.00022\tvalidation_0-auc:0.97520\n",
      "[166]\tvalidation_0-logloss:0.00130\tvalidation_0-error:0.00022\tvalidation_0-auc:0.97516\n",
      "[167]\tvalidation_0-logloss:0.00129\tvalidation_0-error:0.00022\tvalidation_0-auc:0.97516\n",
      "[168]\tvalidation_0-logloss:0.00129\tvalidation_0-error:0.00022\tvalidation_0-auc:0.97513\n",
      "[169]\tvalidation_0-logloss:0.00130\tvalidation_0-error:0.00022\tvalidation_0-auc:0.97510\n",
      "[170]\tvalidation_0-logloss:0.00130\tvalidation_0-error:0.00022\tvalidation_0-auc:0.97510\n",
      "[171]\tvalidation_0-logloss:0.00130\tvalidation_0-error:0.00022\tvalidation_0-auc:0.97505\n",
      "[172]\tvalidation_0-logloss:0.00130\tvalidation_0-error:0.00022\tvalidation_0-auc:0.97506\n",
      "[173]\tvalidation_0-logloss:0.00130\tvalidation_0-error:0.00022\tvalidation_0-auc:0.97507\n"
     ]
    },
    {
     "name": "stderr",
     "output_type": "stream",
     "text": [
      "[20:52:03] WARNING: /workspace/src/common/error_msg.cc:58: Falling back to prediction using DMatrix due to mismatched devices. This might lead to higher memory usage and slower performance. XGBoost is running on: cuda:0, while the input data is on: cpu.\n",
      "Potential solutions:\n",
      "- Use a data structure that matches the device ordinal in the booster.\n",
      "- Set the device for booster before call to inplace_predict.\n",
      "\n",
      "This warning will only be shown once.\n",
      "\n"
     ]
    },
    {
     "name": "stdout",
     "output_type": "stream",
     "text": [
      "Test ROC AUC: 0.9752\n"
     ]
    }
   ],
   "source": [
    "\n",
    "# === Model with best parameters ===\n",
    "model = XGBClassifier(\n",
    "    tree_method='hist',\n",
    "    device='cuda',\n",
    "    max_depth=4,\n",
    "    learning_rate=0.08799,\n",
    "    n_estimators=851,\n",
    "    subsample=0.5738,\n",
    "    gamma=0.1709,\n",
    "    eval_metric=['logloss', 'error', 'auc'],\n",
    "    early_stopping_rounds=10,\n",
    "    missing=np.nan\n",
    ")\n",
    "\n",
    "model.fit(\n",
    "    X_train, y_train,\n",
    "    sample_weight=sw_train,\n",
    "    eval_set=[(X_test, y_test)],\n",
    "    sample_weight_eval_set=[sw_test],\n",
    "    verbose=True\n",
    ")\n",
    "\n",
    "# === Evaluation ===\n",
    "y_test_pred_proba = model.predict_proba(X_test)[:, 1]\n",
    "Auc = roc_auc_score(y_test, y_test_pred_proba, sample_weight=sw_test)\n",
    "df_output = df_ml_input.copy()\n",
    "df_output[\"MLBDTScore\"] = model.predict_proba(df_ml_input.drop(Vars_drop, axis=1))[:, 1]\n",
    "df[\"MLBDTScore\"] = model.predict_proba(df_ml_input.drop(Vars_drop, axis=1))[:, 1]\n",
    "print(f\"Test ROC AUC: {Auc:.4f}\")\n",
    "\n"
   ]
  },
  {
   "cell_type": "code",
   "execution_count": 10,
   "id": "f9c079e8-844f-4219-bea2-89b7e8124f9c",
   "metadata": {},
   "outputs": [
    {
     "data": {
      "image/png": "[encoded data removed]",
      "text/plain": [
       "<Figure size 700x700 with 1 Axes>"
      ]
     },
     "metadata": {},
     "output_type": "display_data"
    },
    {
     "data": {
      "image/png": "[encoded data removed]",
      "text/plain": [
       "<Figure size 800x500 with 1 Axes>"
      ]
     },
     "metadata": {},
     "output_type": "display_data"
    }
   ],
   "source": [
    "fpr, tpr, _ = roc_curve(y_test, y_test_pred_proba, sample_weight=sw_test)\n",
    "plt.figure(figsize=(7, 7))\n",
    "plt.plot(fpr, tpr, label=\"ROC (AUC = {:.3f})\".format(roc_auc_score(y_test, y_test_pred_proba, sample_weight=sw_test)))\n",
    "plt.plot([0, 1], [0, 1], 'k--')\n",
    "plt.xlabel(\"False Positive Rate\")\n",
    "plt.ylabel(\"True Positive Rate\")\n",
    "plt.title(\"ROC Curve\")\n",
    "plt.legend()\n",
    "plt.grid(True)\n",
    "plt.tight_layout()\n",
    "\n",
    "# plt.savefig(\"roc_randomsearch.png\")\n",
    "plt.show()\n",
    "\n",
    "importances = model.feature_importances_\n",
    "indices = np.argsort(importances)\n",
    "selected_columns = df_ml_input.drop(Vars_drop, axis=1).columns\n",
    "\n",
    "plt.figure(figsize=(8, 5))\n",
    "bars = plt.barh(range(len(selected_columns)), importances[indices], align='center')\n",
    "\n",
    "# Set y-ticks with feature names\n",
    "plt.yticks(range(len(selected_columns)), [selected_columns[i] for i in indices])\n",
    "plt.xlabel('Importance')\n",
    "plt.title('Feature Importances from the BDT')\n",
    "\n",
    "# Annotate each bar with the importance value\n",
    "for i, bar in enumerate(bars):\n",
    "    width = bar.get_width()\n",
    "    plt.text(width + 0.001, bar.get_y() + bar.get_height()/2,\n",
    "             f'{width:.3f}', va='center', fontsize=8)\n",
    "plt.tight_layout()\n",
    "# plt.savefig(\"feature_importance.png\")\n",
    "plt.show()"
   ]
  },
  {
   "cell_type": "code",
   "execution_count": 11,
   "id": "cbc48a1c-3f0f-4029-8fae-775082403385",
   "metadata": {},
   "outputs": [],
   "source": [
    "# save the dataframe to csv file\n",
    "# df.to_csv(\"/data/jlai/ntups/bdt_output/bdt_0mu.csv\", index=False)\n",
    "\n",
    "# save the model\n",
    "# model.save_model(\"/data/jlai/ntups/bdt_output/bdt_0mu_model.json\")"
   ]
  },
  {
   "cell_type": "code",
   "execution_count": 7,
   "id": "0c5f51db-9c0b-4523-aa0f-865df6637978",
   "metadata": {},
   "outputs": [
    {
     "name": "stdout",
     "output_type": "stream",
     "text": [
      "Max S/√B: 3.364, Acceptance: 39.66407210465558 %\n"
     ]
    }
   ],
   "source": [
    "def compute_significance(df, cut=0.5):\n",
    "    s = df[(df[\"label\"] == 1) & (df[\"MLBDTScore\"] >= cut)][\"weights\"].sum()\n",
    "    b = df[(df[\"label\"] == 0) & (df[\"MLBDTScore\"] >= cut)][\"weights\"].sum()\n",
    "    return s / np.sqrt(b) if b > 0 else 0, s/df[(df['label'] == 1)]['weights'].sum()\n",
    "\n",
    "max_sig, acceptance = max(compute_significance(df_output, cut) for cut in np.arange(0.0, 0.15, 0.01))\n",
    "print(f\"Max S/√B: {max_sig:.3f}, Acceptance: {acceptance*100} %\")\n"
   ]
  },
  {
   "cell_type": "code",
   "execution_count": 18,
   "id": "fa00530e-68e9-42c4-bedb-3375efe00e70",
   "metadata": {},
   "outputs": [
    {
     "name": "stdout",
     "output_type": "stream",
     "text": [
      "Wgamma 1229.3306238077896\n",
      "Wjets 1043.0932798391664\n",
      "Zgamma 620.0659641425243\n",
      "Zjets 1.7932129578985037\n",
      "data23 104.25924129232561\n",
      "gammajet_direct 24.460201606363942\n",
      "ggHyyd 198.86900221462167\n"
     ]
    }
   ],
   "source": [
    "ntuple_names = np.unique(df_output['process'])\n",
    "for i in range(len(ntuple_names)):\n",
    "    process = ntuple_names[i]\n",
    "    df_tmp = df_output[df_output.process == process]\n",
    "    df_tmp = df_tmp.replace(np.nan, -999)\n",
    "    df_tmp = df_tmp[df_tmp.MLBDTScore > 0.03]\n",
    "    print(process, sum(df_tmp['weights']))"
   ]
  },
  {
   "cell_type": "code",
   "execution_count": 19,
   "id": "6011e4c3-44ad-4bce-b5c9-2756a58b5b96",
   "metadata": {},
   "outputs": [
    {
     "name": "stdout",
     "output_type": "stream",
     "text": [
      "Saved plot to significance_MLBDTScore_lowercut.png\n"
     ]
    },
    {
     "data": {
      "image/png": "[encoded data removed]",
      "text/plain": [
       "<Figure size 800x1000 with 2 Axes>"
      ]
     },
     "metadata": {},
     "output_type": "display_data"
    }
   ],
   "source": [
    "def binomial_significance(s, b):\n",
    "    return s / np.sqrt(b) if b > 0 else 0\n",
    "\n",
    "def s_over_sb(s, b):\n",
    "    return s / np.sqrt(s + b) if (s + b) > 0 else 0\n",
    "\n",
    "def s_over_s1p3b(s, b):\n",
    "    return s / np.sqrt(s + 1.3 * b) if (s + 1.3 * b) > 0 else 0\n",
    "\n",
    "def scan_significance(df, cut_var=\"MLBDTScore\", cut_type=\"lowercut\", cuts=np.arange(0, 0.71, 0.01)):\n",
    "    sig_sqrtb = []\n",
    "    sig_sqrt_sb = []\n",
    "    sig_sqrt_s1p3b = []\n",
    "    sig_zbi = []\n",
    "\n",
    "    sigacc_sqrtb = []\n",
    "    sigacc_sqrt_sb = []\n",
    "    sigacc_sqrt_s1p3b = []\n",
    "    sigacc_zbi = []\n",
    "\n",
    "    acc_values = []\n",
    "\n",
    "    df_sig = df[df[\"label\"] == 1]\n",
    "    df_bkg = df[df[\"label\"] == 0]\n",
    "    total_sig_weight = df_sig[\"weights\"].sum()\n",
    "\n",
    "    for cut in cuts:\n",
    "        if cut_type == \"lowercut\":\n",
    "            sig_cut = df_sig[df_sig[cut_var] >= cut]\n",
    "            bkg_cut = df_bkg[df_bkg[cut_var] >= cut]\n",
    "        elif cut_type == \"uppercut\":\n",
    "            sig_cut = df_sig[df_sig[cut_var] <= cut]\n",
    "            bkg_cut = df_bkg[df_bkg[cut_var] <= cut]\n",
    "        else:\n",
    "            raise ValueError(\"Invalid cut type\")\n",
    "\n",
    "        s = sig_cut[\"weights\"].sum()\n",
    "        b = bkg_cut[\"weights\"].sum()\n",
    "        acceptance = s / total_sig_weight if total_sig_weight > 0 else 0\n",
    "\n",
    "        # Compute significance\n",
    "        sig1 = binomial_significance(s, b)\n",
    "        sig2 = s_over_sb(s, b)\n",
    "        sig3 = s_over_s1p3b(s, b)\n",
    "        sig4 = zbi(s, b)\n",
    "\n",
    "        sig_sqrtb.append(sig1)\n",
    "        sig_sqrt_sb.append(sig2)\n",
    "        sig_sqrt_s1p3b.append(sig3)\n",
    "        sig_zbi.append(sig4)\n",
    "\n",
    "        sigacc_sqrtb.append(sig1 * acceptance)\n",
    "        sigacc_sqrt_sb.append(sig2 * acceptance)\n",
    "        sigacc_sqrt_s1p3b.append(sig3 * acceptance)\n",
    "        sigacc_zbi.append(sig4 * acceptance)\n",
    "\n",
    "        acc_values.append(acceptance * 100)\n",
    "\n",
    "    return cuts, acc_values, sig_sqrtb, sig_sqrt_sb, sig_sqrt_s1p3b, sig_zbi, \\\n",
    "           sigacc_sqrtb, sigacc_sqrt_sb, sigacc_sqrt_s1p3b, sigacc_zbi\n",
    "\n",
    "\n",
    "def plot_significance(cuts, acc, sig1, sig2, sig3, sig4,\n",
    "                      sigacc1, sigacc2, sigacc3, sigacc4,\n",
    "                      cut_var, cut_type, save_path):\n",
    "\n",
    "    fig, (ax1, ax2) = plt.subplots(2, 1, figsize=(8, 10), sharex=True)\n",
    "\n",
    "    # Plot Significance\n",
    "    ax1.plot(cuts, sig1, marker='o', label='S/√B')\n",
    "    ax1.plot(cuts, sig2, marker='s', label='S/√(S+B)')\n",
    "    ax1.plot(cuts, sig3, marker='^', label='S/√(S+1.3B)')\n",
    "    ax1.plot(cuts, sig4, marker='x', label='ZBi')\n",
    "\n",
    "    ax1.set_ylabel('Significance')\n",
    "    ax1.set_title(f'Significance vs. {cut_var} ({cut_type})')\n",
    "    ax1.grid(True)\n",
    "    ax1.legend()\n",
    "\n",
    "    # Plot Significance × Acceptance\n",
    "    ax2.plot(cuts, sigacc1, marker='o', label='(S/√B) × Acc')\n",
    "    ax2.plot(cuts, sigacc2, marker='s', label='(S/√(S+B)) × Acc')\n",
    "    ax2.plot(cuts, sigacc3, marker='^', label='(S/√(S+1.3B)) × Acc')\n",
    "    ax2.plot(cuts, sigacc4, marker='x', label='ZBi × Acc')\n",
    "\n",
    "    for i, txt in enumerate(acc):\n",
    "        ax2.text(cuts[i], sigacc1[i], f'{txt:.1f}%', fontsize=8, color='purple', ha='right', va='bottom')\n",
    "\n",
    "    ax2.set_xlabel(f'{cut_var} Cut')\n",
    "    ax2.set_ylabel('Significance × Acceptance')\n",
    "    ax2.set_title(f'Significance × Acceptance vs. {cut_var} ({cut_type})')\n",
    "    ax2.grid(True)\n",
    "    ax2.legend()\n",
    "    ax2.xaxis.set_major_formatter(FormatStrFormatter('%.2f'))\n",
    "    ax2.set_xticks(cuts)\n",
    "    ax2.set_xticklabels(cuts, rotation=45, ha='right')\n",
    "\n",
    "    plt.tight_layout()\n",
    "    plt.savefig(save_path)\n",
    "    print(f\"Saved plot to {save_path}\")\n",
    "    plt.show()\n",
    "\n",
    "\n",
    "cut_var = \"MLBDTScore\"\n",
    "cut_type = \"lowercut\"\n",
    "cut_values = np.arange(0, 0.4 + 3e-12, 0.01)\n",
    "\n",
    "(cuts, acc, sig1, sig2, sig3, sig4,\n",
    " sigacc1, sigacc2, sigacc3, sigacc4) = scan_significance(df_output, cut_var, cut_type, cut_values)\n",
    "\n",
    "plot_significance(\n",
    "    cuts, acc, sig1, sig2, sig3, sig4,\n",
    "    sigacc1, sigacc2, sigacc3, sigacc4,\n",
    "    cut_var=cut_var,\n",
    "    cut_type=cut_type,\n",
    "    save_path=f\"significance_{cut_var}_{cut_type}.png\"\n",
    ")\n"
   ]
  },
  {
   "cell_type": "code",
   "execution_count": 8,
   "id": "1ade9c75-988b-4644-a2f9-4c5957880d38",
   "metadata": {},
   "outputs": [
    {
     "data": {
      "text/html": [
       "<div>\n",
       "<style scoped>\n",
       "    .dataframe tbody tr th:only-of-type {\n",
       "        vertical-align: middle;\n",
       "    }\n",
       "\n",
       "    .dataframe tbody tr th {\n",
       "        vertical-align: top;\n",
       "    }\n",
       "\n",
       "    .dataframe thead th {\n",
       "        text-align: right;\n",
       "    }\n",
       "</style>\n",
       "<table border=\"1\" class=\"dataframe\">\n",
       "  <thead>\n",
       "    <tr style=\"text-align: right;\">\n",
       "      <th></th>\n",
       "      <th>dphi_met_phterm</th>\n",
       "      <th>metsig</th>\n",
       "      <th>VertexBDTScore</th>\n",
       "      <th>dphi_met_central_jet</th>\n",
       "      <th>dmet</th>\n",
       "      <th>jetterm</th>\n",
       "      <th>balance</th>\n",
       "      <th>weights</th>\n",
       "      <th>label</th>\n",
       "      <th>process</th>\n",
       "      <th>ph_eta</th>\n",
       "      <th>ph_pt</th>\n",
       "      <th>MLBDTScore</th>\n",
       "    </tr>\n",
       "  </thead>\n",
       "  <tbody>\n",
       "    <tr>\n",
       "      <th>0</th>\n",
       "      <td>0.938348</td>\n",
       "      <td>2.761993</td>\n",
       "      <td>0.131412</td>\n",
       "      <td>1.307934</td>\n",
       "      <td>0.000</td>\n",
       "      <td>84722.190</td>\n",
       "      <td>3.382770</td>\n",
       "      <td>0.074079</td>\n",
       "      <td>1</td>\n",
       "      <td>ggHyyd</td>\n",
       "      <td>1.116581</td>\n",
       "      <td>0.000015</td>\n",
       "      <td>0.000513</td>\n",
       "    </tr>\n",
       "    <tr>\n",
       "      <th>1</th>\n",
       "      <td>1.180506</td>\n",
       "      <td>8.542773</td>\n",
       "      <td>0.151073</td>\n",
       "      <td>2.712346</td>\n",
       "      <td>0.000</td>\n",
       "      <td>86744.400</td>\n",
       "      <td>1.784722</td>\n",
       "      <td>0.116076</td>\n",
       "      <td>1</td>\n",
       "      <td>ggHyyd</td>\n",
       "      <td>7.054524</td>\n",
       "      <td>0.000019</td>\n",
       "      <td>0.044589</td>\n",
       "    </tr>\n",
       "    <tr>\n",
       "      <th>2</th>\n",
       "      <td>1.881112</td>\n",
       "      <td>6.480173</td>\n",
       "      <td>0.326790</td>\n",
       "      <td>2.255124</td>\n",
       "      <td>0.000</td>\n",
       "      <td>186978.030</td>\n",
       "      <td>1.122666</td>\n",
       "      <td>0.119337</td>\n",
       "      <td>1</td>\n",
       "      <td>ggHyyd</td>\n",
       "      <td>0.618951</td>\n",
       "      <td>0.000008</td>\n",
       "      <td>0.014108</td>\n",
       "    </tr>\n",
       "    <tr>\n",
       "      <th>3</th>\n",
       "      <td>1.852292</td>\n",
       "      <td>5.958667</td>\n",
       "      <td>0.267467</td>\n",
       "      <td>2.601409</td>\n",
       "      <td>0.000</td>\n",
       "      <td>176778.980</td>\n",
       "      <td>0.756231</td>\n",
       "      <td>0.115276</td>\n",
       "      <td>1</td>\n",
       "      <td>ggHyyd</td>\n",
       "      <td>0.500710</td>\n",
       "      <td>0.000015</td>\n",
       "      <td>0.004003</td>\n",
       "    </tr>\n",
       "    <tr>\n",
       "      <th>4</th>\n",
       "      <td>0.323595</td>\n",
       "      <td>2.547094</td>\n",
       "      <td>0.189026</td>\n",
       "      <td>1.626958</td>\n",
       "      <td>0.000</td>\n",
       "      <td>49163.324</td>\n",
       "      <td>1.266329</td>\n",
       "      <td>0.119649</td>\n",
       "      <td>1</td>\n",
       "      <td>ggHyyd</td>\n",
       "      <td>0.438361</td>\n",
       "      <td>0.000011</td>\n",
       "      <td>0.000029</td>\n",
       "    </tr>\n",
       "    <tr>\n",
       "      <th>...</th>\n",
       "      <td>...</td>\n",
       "      <td>...</td>\n",
       "      <td>...</td>\n",
       "      <td>...</td>\n",
       "      <td>...</td>\n",
       "      <td>...</td>\n",
       "      <td>...</td>\n",
       "      <td>...</td>\n",
       "      <td>...</td>\n",
       "      <td>...</td>\n",
       "      <td>...</td>\n",
       "      <td>...</td>\n",
       "      <td>...</td>\n",
       "    </tr>\n",
       "    <tr>\n",
       "      <th>3299728</th>\n",
       "      <td>0.086615</td>\n",
       "      <td>3.856843</td>\n",
       "      <td>0.021344</td>\n",
       "      <td>NaN</td>\n",
       "      <td>20045.516</td>\n",
       "      <td>58980.720</td>\n",
       "      <td>7.581804</td>\n",
       "      <td>11.211798</td>\n",
       "      <td>0</td>\n",
       "      <td>data23</td>\n",
       "      <td>0.901728</td>\n",
       "      <td>0.000014</td>\n",
       "      <td>0.000021</td>\n",
       "    </tr>\n",
       "    <tr>\n",
       "      <th>3299729</th>\n",
       "      <td>0.132232</td>\n",
       "      <td>2.750353</td>\n",
       "      <td>-0.046651</td>\n",
       "      <td>NaN</td>\n",
       "      <td>-23196.453</td>\n",
       "      <td>75701.836</td>\n",
       "      <td>4.419554</td>\n",
       "      <td>11.578539</td>\n",
       "      <td>0</td>\n",
       "      <td>data23</td>\n",
       "      <td>0.425681</td>\n",
       "      <td>0.000013</td>\n",
       "      <td>0.000003</td>\n",
       "    </tr>\n",
       "    <tr>\n",
       "      <th>3299730</th>\n",
       "      <td>0.190657</td>\n",
       "      <td>16.823483</td>\n",
       "      <td>0.218955</td>\n",
       "      <td>NaN</td>\n",
       "      <td>0.000</td>\n",
       "      <td>218678.190</td>\n",
       "      <td>2.965068</td>\n",
       "      <td>10.425924</td>\n",
       "      <td>0</td>\n",
       "      <td>data23</td>\n",
       "      <td>0.553796</td>\n",
       "      <td>0.000006</td>\n",
       "      <td>0.000003</td>\n",
       "    </tr>\n",
       "    <tr>\n",
       "      <th>3299731</th>\n",
       "      <td>0.179639</td>\n",
       "      <td>3.404925</td>\n",
       "      <td>-0.055574</td>\n",
       "      <td>2.473053</td>\n",
       "      <td>0.000</td>\n",
       "      <td>19826.225</td>\n",
       "      <td>4.414888</td>\n",
       "      <td>11.578539</td>\n",
       "      <td>0</td>\n",
       "      <td>data23</td>\n",
       "      <td>0.476878</td>\n",
       "      <td>0.000009</td>\n",
       "      <td>0.000011</td>\n",
       "    </tr>\n",
       "    <tr>\n",
       "      <th>3299732</th>\n",
       "      <td>0.095203</td>\n",
       "      <td>2.040283</td>\n",
       "      <td>-0.193532</td>\n",
       "      <td>1.277311</td>\n",
       "      <td>-53237.695</td>\n",
       "      <td>57924.860</td>\n",
       "      <td>2.571077</td>\n",
       "      <td>10.425924</td>\n",
       "      <td>0</td>\n",
       "      <td>data23</td>\n",
       "      <td>0.600207</td>\n",
       "      <td>0.000014</td>\n",
       "      <td>0.000002</td>\n",
       "    </tr>\n",
       "  </tbody>\n",
       "</table>\n",
       "<p>3299733 rows × 13 columns</p>\n",
       "</div>"
      ],
      "text/plain": [
       "         dphi_met_phterm     metsig  VertexBDTScore  dphi_met_central_jet  \\\n",
       "0               0.938348   2.761993        0.131412              1.307934   \n",
       "1               1.180506   8.542773        0.151073              2.712346   \n",
       "2               1.881112   6.480173        0.326790              2.255124   \n",
       "3               1.852292   5.958667        0.267467              2.601409   \n",
       "4               0.323595   2.547094        0.189026              1.626958   \n",
       "...                  ...        ...             ...                   ...   \n",
       "3299728         0.086615   3.856843        0.021344                   NaN   \n",
       "3299729         0.132232   2.750353       -0.046651                   NaN   \n",
       "3299730         0.190657  16.823483        0.218955                   NaN   \n",
       "3299731         0.179639   3.404925       -0.055574              2.473053   \n",
       "3299732         0.095203   2.040283       -0.193532              1.277311   \n",
       "\n",
       "              dmet     jetterm   balance    weights  label process    ph_eta  \\\n",
       "0            0.000   84722.190  3.382770   0.074079      1  ggHyyd  1.116581   \n",
       "1            0.000   86744.400  1.784722   0.116076      1  ggHyyd  7.054524   \n",
       "2            0.000  186978.030  1.122666   0.119337      1  ggHyyd  0.618951   \n",
       "3            0.000  176778.980  0.756231   0.115276      1  ggHyyd  0.500710   \n",
       "4            0.000   49163.324  1.266329   0.119649      1  ggHyyd  0.438361   \n",
       "...            ...         ...       ...        ...    ...     ...       ...   \n",
       "3299728  20045.516   58980.720  7.581804  11.211798      0  data23  0.901728   \n",
       "3299729 -23196.453   75701.836  4.419554  11.578539      0  data23  0.425681   \n",
       "3299730      0.000  218678.190  2.965068  10.425924      0  data23  0.553796   \n",
       "3299731      0.000   19826.225  4.414888  11.578539      0  data23  0.476878   \n",
       "3299732 -53237.695   57924.860  2.571077  10.425924      0  data23  0.600207   \n",
       "\n",
       "            ph_pt  MLBDTScore  \n",
       "0        0.000015    0.000513  \n",
       "1        0.000019    0.044589  \n",
       "2        0.000008    0.014108  \n",
       "3        0.000015    0.004003  \n",
       "4        0.000011    0.000029  \n",
       "...           ...         ...  \n",
       "3299728  0.000014    0.000021  \n",
       "3299729  0.000013    0.000003  \n",
       "3299730  0.000006    0.000003  \n",
       "3299731  0.000009    0.000011  \n",
       "3299732  0.000014    0.000002  \n",
       "\n",
       "[3299733 rows x 13 columns]"
      ]
     },
     "execution_count": 8,
     "metadata": {},
     "output_type": "execute_result"
    }
   ],
   "source": [
    "df_output"
   ]
  },
  {
   "cell_type": "code",
   "execution_count": 37,
   "id": "d12edaa0-1d2b-421a-8254-0757994d94ce",
   "metadata": {},
   "outputs": [
    {
     "data": {
      "text/html": [
       "<div>\n",
       "<style scoped>\n",
       "    .dataframe tbody tr th:only-of-type {\n",
       "        vertical-align: middle;\n",
       "    }\n",
       "\n",
       "    .dataframe tbody tr th {\n",
       "        vertical-align: top;\n",
       "    }\n",
       "\n",
       "    .dataframe thead th {\n",
       "        text-align: right;\n",
       "    }\n",
       "</style>\n",
       "<table border=\"1\" class=\"dataframe\">\n",
       "  <thead>\n",
       "    <tr style=\"text-align: right;\">\n",
       "      <th></th>\n",
       "      <th>balance</th>\n",
       "      <th>VertexBDTScore</th>\n",
       "      <th>dmet</th>\n",
       "      <th>dphi_jj</th>\n",
       "      <th>dphi_met_central_jet</th>\n",
       "      <th>dphi_met_phterm</th>\n",
       "      <th>dphi_met_ph</th>\n",
       "      <th>dphi_met_jetterm</th>\n",
       "      <th>dphi_phterm_jetterm</th>\n",
       "      <th>dphi_ph_centraljet1</th>\n",
       "      <th>...</th>\n",
       "      <th>met_noJVT</th>\n",
       "      <th>metplusph</th>\n",
       "      <th>failJVT_jet_pt1</th>\n",
       "      <th>softerm</th>\n",
       "      <th>n_jet_central</th>\n",
       "      <th>mt</th>\n",
       "      <th>weights</th>\n",
       "      <th>process</th>\n",
       "      <th>label</th>\n",
       "      <th>MLBDTScore</th>\n",
       "    </tr>\n",
       "  </thead>\n",
       "  <tbody>\n",
       "    <tr>\n",
       "      <th>0</th>\n",
       "      <td>3.382770</td>\n",
       "      <td>0.131412</td>\n",
       "      <td>0.000</td>\n",
       "      <td>-999.000000</td>\n",
       "      <td>1.307934</td>\n",
       "      <td>0.938348</td>\n",
       "      <td>2.203245</td>\n",
       "      <td>0.664073</td>\n",
       "      <td>1.602420</td>\n",
       "      <td>2.772006</td>\n",
       "      <td>...</td>\n",
       "      <td>106920.875</td>\n",
       "      <td>171646.17</td>\n",
       "      <td>21859.162109</td>\n",
       "      <td>1942.6106</td>\n",
       "      <td>1</td>\n",
       "      <td>148.40038</td>\n",
       "      <td>0.074079</td>\n",
       "      <td>ggHyyd</td>\n",
       "      <td>1</td>\n",
       "      <td>2.276703e-04</td>\n",
       "    </tr>\n",
       "    <tr>\n",
       "      <th>1</th>\n",
       "      <td>1.784722</td>\n",
       "      <td>0.151073</td>\n",
       "      <td>0.000</td>\n",
       "      <td>-999.000000</td>\n",
       "      <td>2.712346</td>\n",
       "      <td>1.180506</td>\n",
       "      <td>1.961087</td>\n",
       "      <td>0.429247</td>\n",
       "      <td>1.609753</td>\n",
       "      <td>1.609753</td>\n",
       "      <td>...</td>\n",
       "      <td>102183.560</td>\n",
       "      <td>154814.61</td>\n",
       "      <td>-999.000000</td>\n",
       "      <td>12993.3780</td>\n",
       "      <td>1</td>\n",
       "      <td>121.85350</td>\n",
       "      <td>0.116076</td>\n",
       "      <td>ggHyyd</td>\n",
       "      <td>1</td>\n",
       "      <td>5.275241e-02</td>\n",
       "    </tr>\n",
       "    <tr>\n",
       "      <th>2</th>\n",
       "      <td>1.122666</td>\n",
       "      <td>0.326790</td>\n",
       "      <td>0.000</td>\n",
       "      <td>0.313718</td>\n",
       "      <td>2.255124</td>\n",
       "      <td>1.881112</td>\n",
       "      <td>1.260481</td>\n",
       "      <td>0.642131</td>\n",
       "      <td>2.523243</td>\n",
       "      <td>2.767581</td>\n",
       "      <td>...</td>\n",
       "      <td>113106.060</td>\n",
       "      <td>235372.84</td>\n",
       "      <td>-999.000000</td>\n",
       "      <td>4500.8604</td>\n",
       "      <td>3</td>\n",
       "      <td>138.60928</td>\n",
       "      <td>0.119337</td>\n",
       "      <td>ggHyyd</td>\n",
       "      <td>1</td>\n",
       "      <td>1.244310e-02</td>\n",
       "    </tr>\n",
       "    <tr>\n",
       "      <th>3</th>\n",
       "      <td>0.756231</td>\n",
       "      <td>0.267467</td>\n",
       "      <td>0.000</td>\n",
       "      <td>2.166679</td>\n",
       "      <td>2.601409</td>\n",
       "      <td>1.852292</td>\n",
       "      <td>1.289300</td>\n",
       "      <td>0.349927</td>\n",
       "      <td>2.202219</td>\n",
       "      <td>2.392476</td>\n",
       "      <td>...</td>\n",
       "      <td>131013.914</td>\n",
       "      <td>197134.22</td>\n",
       "      <td>33962.769531</td>\n",
       "      <td>16936.4980</td>\n",
       "      <td>3</td>\n",
       "      <td>111.85926</td>\n",
       "      <td>0.115276</td>\n",
       "      <td>ggHyyd</td>\n",
       "      <td>1</td>\n",
       "      <td>3.407549e-03</td>\n",
       "    </tr>\n",
       "    <tr>\n",
       "      <th>4</th>\n",
       "      <td>1.266329</td>\n",
       "      <td>0.189026</td>\n",
       "      <td>0.000</td>\n",
       "      <td>2.670413</td>\n",
       "      <td>1.626958</td>\n",
       "      <td>0.323595</td>\n",
       "      <td>2.817998</td>\n",
       "      <td>0.546473</td>\n",
       "      <td>0.870069</td>\n",
       "      <td>1.838230</td>\n",
       "      <td>...</td>\n",
       "      <td>125378.336</td>\n",
       "      <td>213597.25</td>\n",
       "      <td>-999.000000</td>\n",
       "      <td>2516.5588</td>\n",
       "      <td>2</td>\n",
       "      <td>207.59293</td>\n",
       "      <td>0.119649</td>\n",
       "      <td>ggHyyd</td>\n",
       "      <td>1</td>\n",
       "      <td>1.078138e-05</td>\n",
       "    </tr>\n",
       "    <tr>\n",
       "      <th>...</th>\n",
       "      <td>...</td>\n",
       "      <td>...</td>\n",
       "      <td>...</td>\n",
       "      <td>...</td>\n",
       "      <td>...</td>\n",
       "      <td>...</td>\n",
       "      <td>...</td>\n",
       "      <td>...</td>\n",
       "      <td>...</td>\n",
       "      <td>...</td>\n",
       "      <td>...</td>\n",
       "      <td>...</td>\n",
       "      <td>...</td>\n",
       "      <td>...</td>\n",
       "      <td>...</td>\n",
       "      <td>...</td>\n",
       "      <td>...</td>\n",
       "      <td>...</td>\n",
       "      <td>...</td>\n",
       "      <td>...</td>\n",
       "      <td>...</td>\n",
       "    </tr>\n",
       "    <tr>\n",
       "      <th>3299728</th>\n",
       "      <td>7.581804</td>\n",
       "      <td>0.021344</td>\n",
       "      <td>20045.516</td>\n",
       "      <td>-999.000000</td>\n",
       "      <td>-999.000000</td>\n",
       "      <td>0.086615</td>\n",
       "      <td>3.054977</td>\n",
       "      <td>0.144932</td>\n",
       "      <td>0.231547</td>\n",
       "      <td>-999.000000</td>\n",
       "      <td>...</td>\n",
       "      <td>156691.400</td>\n",
       "      <td>207548.94</td>\n",
       "      <td>25537.773438</td>\n",
       "      <td>8009.5220</td>\n",
       "      <td>1</td>\n",
       "      <td>196.67690</td>\n",
       "      <td>11.211798</td>\n",
       "      <td>data23</td>\n",
       "      <td>0</td>\n",
       "      <td>7.327521e-06</td>\n",
       "    </tr>\n",
       "    <tr>\n",
       "      <th>3299729</th>\n",
       "      <td>4.419554</td>\n",
       "      <td>-0.046651</td>\n",
       "      <td>-23196.453</td>\n",
       "      <td>-999.000000</td>\n",
       "      <td>-999.000000</td>\n",
       "      <td>0.132232</td>\n",
       "      <td>3.009361</td>\n",
       "      <td>0.261050</td>\n",
       "      <td>0.393281</td>\n",
       "      <td>-999.000000</td>\n",
       "      <td>...</td>\n",
       "      <td>125404.670</td>\n",
       "      <td>225048.72</td>\n",
       "      <td>23714.308594</td>\n",
       "      <td>9464.1780</td>\n",
       "      <td>1</td>\n",
       "      <td>212.70273</td>\n",
       "      <td>11.578539</td>\n",
       "      <td>data23</td>\n",
       "      <td>0</td>\n",
       "      <td>7.437374e-07</td>\n",
       "    </tr>\n",
       "    <tr>\n",
       "      <th>3299730</th>\n",
       "      <td>2.965068</td>\n",
       "      <td>0.218955</td>\n",
       "      <td>0.000</td>\n",
       "      <td>-999.000000</td>\n",
       "      <td>-999.000000</td>\n",
       "      <td>0.190657</td>\n",
       "      <td>2.950936</td>\n",
       "      <td>0.153479</td>\n",
       "      <td>0.344136</td>\n",
       "      <td>-999.000000</td>\n",
       "      <td>...</td>\n",
       "      <td>388933.000</td>\n",
       "      <td>544819.90</td>\n",
       "      <td>-999.000000</td>\n",
       "      <td>20142.2170</td>\n",
       "      <td>1</td>\n",
       "      <td>490.22546</td>\n",
       "      <td>10.425924</td>\n",
       "      <td>data23</td>\n",
       "      <td>0</td>\n",
       "      <td>2.111725e-07</td>\n",
       "    </tr>\n",
       "    <tr>\n",
       "      <th>3299731</th>\n",
       "      <td>4.414888</td>\n",
       "      <td>-0.055574</td>\n",
       "      <td>0.000</td>\n",
       "      <td>2.633032</td>\n",
       "      <td>2.473053</td>\n",
       "      <td>0.179639</td>\n",
       "      <td>2.961954</td>\n",
       "      <td>2.039606</td>\n",
       "      <td>2.219245</td>\n",
       "      <td>0.488901</td>\n",
       "      <td>...</td>\n",
       "      <td>100550.080</td>\n",
       "      <td>209262.25</td>\n",
       "      <td>-999.000000</td>\n",
       "      <td>3081.4370</td>\n",
       "      <td>2</td>\n",
       "      <td>208.26012</td>\n",
       "      <td>11.578539</td>\n",
       "      <td>data23</td>\n",
       "      <td>0</td>\n",
       "      <td>5.023901e-06</td>\n",
       "    </tr>\n",
       "    <tr>\n",
       "      <th>3299732</th>\n",
       "      <td>2.571077</td>\n",
       "      <td>-0.193532</td>\n",
       "      <td>-53237.695</td>\n",
       "      <td>3.141548</td>\n",
       "      <td>1.277311</td>\n",
       "      <td>0.095203</td>\n",
       "      <td>3.046390</td>\n",
       "      <td>0.116053</td>\n",
       "      <td>0.211255</td>\n",
       "      <td>1.769079</td>\n",
       "      <td>...</td>\n",
       "      <td>77920.480</td>\n",
       "      <td>202349.12</td>\n",
       "      <td>40216.167969</td>\n",
       "      <td>2755.0234</td>\n",
       "      <td>3</td>\n",
       "      <td>193.04025</td>\n",
       "      <td>10.425924</td>\n",
       "      <td>data23</td>\n",
       "      <td>0</td>\n",
       "      <td>1.986839e-06</td>\n",
       "    </tr>\n",
       "  </tbody>\n",
       "</table>\n",
       "<p>3299733 rows × 31 columns</p>\n",
       "</div>"
      ],
      "text/plain": [
       "          balance  VertexBDTScore       dmet     dphi_jj  \\\n",
       "0        3.382770        0.131412      0.000 -999.000000   \n",
       "1        1.784722        0.151073      0.000 -999.000000   \n",
       "2        1.122666        0.326790      0.000    0.313718   \n",
       "3        0.756231        0.267467      0.000    2.166679   \n",
       "4        1.266329        0.189026      0.000    2.670413   \n",
       "...           ...             ...        ...         ...   \n",
       "3299728  7.581804        0.021344  20045.516 -999.000000   \n",
       "3299729  4.419554       -0.046651 -23196.453 -999.000000   \n",
       "3299730  2.965068        0.218955      0.000 -999.000000   \n",
       "3299731  4.414888       -0.055574      0.000    2.633032   \n",
       "3299732  2.571077       -0.193532 -53237.695    3.141548   \n",
       "\n",
       "         dphi_met_central_jet  dphi_met_phterm  dphi_met_ph  dphi_met_jetterm  \\\n",
       "0                    1.307934         0.938348     2.203245          0.664073   \n",
       "1                    2.712346         1.180506     1.961087          0.429247   \n",
       "2                    2.255124         1.881112     1.260481          0.642131   \n",
       "3                    2.601409         1.852292     1.289300          0.349927   \n",
       "4                    1.626958         0.323595     2.817998          0.546473   \n",
       "...                       ...              ...          ...               ...   \n",
       "3299728           -999.000000         0.086615     3.054977          0.144932   \n",
       "3299729           -999.000000         0.132232     3.009361          0.261050   \n",
       "3299730           -999.000000         0.190657     2.950936          0.153479   \n",
       "3299731              2.473053         0.179639     2.961954          2.039606   \n",
       "3299732              1.277311         0.095203     3.046390          0.116053   \n",
       "\n",
       "         dphi_phterm_jetterm  dphi_ph_centraljet1  ...   met_noJVT  metplusph  \\\n",
       "0                   1.602420             2.772006  ...  106920.875  171646.17   \n",
       "1                   1.609753             1.609753  ...  102183.560  154814.61   \n",
       "2                   2.523243             2.767581  ...  113106.060  235372.84   \n",
       "3                   2.202219             2.392476  ...  131013.914  197134.22   \n",
       "4                   0.870069             1.838230  ...  125378.336  213597.25   \n",
       "...                      ...                  ...  ...         ...        ...   \n",
       "3299728             0.231547          -999.000000  ...  156691.400  207548.94   \n",
       "3299729             0.393281          -999.000000  ...  125404.670  225048.72   \n",
       "3299730             0.344136          -999.000000  ...  388933.000  544819.90   \n",
       "3299731             2.219245             0.488901  ...  100550.080  209262.25   \n",
       "3299732             0.211255             1.769079  ...   77920.480  202349.12   \n",
       "\n",
       "         failJVT_jet_pt1     softerm  n_jet_central         mt    weights  \\\n",
       "0           21859.162109   1942.6106              1  148.40038   0.074079   \n",
       "1            -999.000000  12993.3780              1  121.85350   0.116076   \n",
       "2            -999.000000   4500.8604              3  138.60928   0.119337   \n",
       "3           33962.769531  16936.4980              3  111.85926   0.115276   \n",
       "4            -999.000000   2516.5588              2  207.59293   0.119649   \n",
       "...                  ...         ...            ...        ...        ...   \n",
       "3299728     25537.773438   8009.5220              1  196.67690  11.211798   \n",
       "3299729     23714.308594   9464.1780              1  212.70273  11.578539   \n",
       "3299730      -999.000000  20142.2170              1  490.22546  10.425924   \n",
       "3299731      -999.000000   3081.4370              2  208.26012  11.578539   \n",
       "3299732     40216.167969   2755.0234              3  193.04025  10.425924   \n",
       "\n",
       "         process  label    MLBDTScore  \n",
       "0         ggHyyd      1  2.276703e-04  \n",
       "1         ggHyyd      1  5.275241e-02  \n",
       "2         ggHyyd      1  1.244310e-02  \n",
       "3         ggHyyd      1  3.407549e-03  \n",
       "4         ggHyyd      1  1.078138e-05  \n",
       "...          ...    ...           ...  \n",
       "3299728   data23      0  7.327521e-06  \n",
       "3299729   data23      0  7.437374e-07  \n",
       "3299730   data23      0  2.111725e-07  \n",
       "3299731   data23      0  5.023901e-06  \n",
       "3299732   data23      0  1.986839e-06  \n",
       "\n",
       "[3299733 rows x 31 columns]"
      ]
     },
     "execution_count": 37,
     "metadata": {},
     "output_type": "execute_result"
    }
   ],
   "source": [
    "df"
   ]
  },
  {
   "cell_type": "code",
   "execution_count": 12,
   "id": "ec7c3ccc-932c-4c93-934e-592c23c1ac8c",
   "metadata": {},
   "outputs": [
    {
     "name": "stdout",
     "output_type": "stream",
     "text": [
      "3299733 3299733\n",
      "True\n",
      "False\n",
      "0.0\n"
     ]
    }
   ],
   "source": [
    "print(len(df), len(df_ml_input))                         # must match\n",
    "print((df.index == df_ml_input.index).all())             # should be True\n",
    "print(df[['weights','label']].equals(df_output[['weights','label']]))\n",
    "# Compare score alignment (only meaningful if indices match)\n",
    "print(np.nanmax(np.abs(df['MLBDTScore'] - df_output['MLBDTScore'])))\n"
   ]
  },
  {
   "cell_type": "code",
   "execution_count": 13,
   "id": "e0868355-b0b1-4c6f-b1c6-9dc617538ae7",
   "metadata": {},
   "outputs": [
    {
     "name": "stdout",
     "output_type": "stream",
     "text": [
      "df S= 183.2171527768392 B= 2249.0721449542984 S/sqrt(B)= 3.863353394922298\n",
      "df_output S= 183.2171527768392 B= 2966.9085099428617 S/sqrt(B)= 3.363675196162161\n"
     ]
    }
   ],
   "source": [
    "for name, d in [('df', df), ('df_output', df_output)]:\n",
    "    m = d['MLBDTScore'] >= 0.03\n",
    "    S = d.loc[m & (d['label']==1), 'weights'].sum()\n",
    "    B = d.loc[m & (d['label']==0), 'weights'].sum()\n",
    "    print(name, 'S=', S, 'B=', B, 'S/sqrt(B)=', S/np.sqrt(B) if B>0 else 0)\n"
   ]
  },
  {
   "cell_type": "code",
   "execution_count": 11,
   "id": "f8573660-4bca-491e-86f7-1f01427a341f",
   "metadata": {},
   "outputs": [
    {
     "name": "stdout",
     "output_type": "stream",
     "text": [
      "3.863353394922298\n",
      "3.363675196162161\n"
     ]
    }
   ],
   "source": [
    "df_tmp4 = df.copy()\n",
    "df_tmp4 = df_tmp4[df_tmp4.MLBDTScore >= 0.03]\n",
    "print(df_tmp4[df_tmp4.label == 1].weights.sum() / np.sqrt(df_tmp4[df_tmp4.label == 0].weights.sum()))\n",
    "\n",
    "\n",
    "df_tmp4 = df_output.copy()\n",
    "df_tmp4 = df_tmp4[df_tmp4.MLBDTScore >= 0.03]\n",
    "print(df_tmp4[df_tmp4.label == 1].weights.sum() / np.sqrt(df_tmp4[df_tmp4.label == 0].weights.sum()))"
   ]
  },
  {
   "cell_type": "code",
   "execution_count": null,
   "id": "14953775-d845-4701-a031-f6dd48fdbf9e",
   "metadata": {},
   "outputs": [],
   "source": [
    "for "
   ]
  },
  {
   "cell_type": "code",
   "execution_count": 32,
   "id": "bc8f8c01-c08a-4957-a9a7-d29363a54dd2",
   "metadata": {},
   "outputs": [
    {
     "data": {
      "text/html": [
       "<div>\n",
       "<style scoped>\n",
       "    .dataframe tbody tr th:only-of-type {\n",
       "        vertical-align: middle;\n",
       "    }\n",
       "\n",
       "    .dataframe tbody tr th {\n",
       "        vertical-align: top;\n",
       "    }\n",
       "\n",
       "    .dataframe thead th {\n",
       "        text-align: right;\n",
       "    }\n",
       "</style>\n",
       "<table border=\"1\" class=\"dataframe\">\n",
       "  <thead>\n",
       "    <tr style=\"text-align: right;\">\n",
       "      <th></th>\n",
       "      <th>dphi_met_phterm</th>\n",
       "      <th>metsig</th>\n",
       "      <th>VertexBDTScore</th>\n",
       "      <th>dphi_met_central_jet</th>\n",
       "      <th>dmet</th>\n",
       "      <th>jetterm</th>\n",
       "      <th>balance</th>\n",
       "      <th>weights</th>\n",
       "      <th>label</th>\n",
       "      <th>process</th>\n",
       "      <th>ph_eta</th>\n",
       "      <th>ph_pt</th>\n",
       "      <th>MLBDTScore</th>\n",
       "    </tr>\n",
       "  </thead>\n",
       "  <tbody>\n",
       "    <tr>\n",
       "      <th>0</th>\n",
       "      <td>0.938348</td>\n",
       "      <td>2.761993</td>\n",
       "      <td>0.131412</td>\n",
       "      <td>1.307934</td>\n",
       "      <td>0.000</td>\n",
       "      <td>84722.190</td>\n",
       "      <td>3.382770</td>\n",
       "      <td>0.074079</td>\n",
       "      <td>1</td>\n",
       "      <td>ggHyyd</td>\n",
       "      <td>1.116581</td>\n",
       "      <td>0.000015</td>\n",
       "      <td>2.276703e-04</td>\n",
       "    </tr>\n",
       "    <tr>\n",
       "      <th>1</th>\n",
       "      <td>1.180506</td>\n",
       "      <td>8.542773</td>\n",
       "      <td>0.151073</td>\n",
       "      <td>2.712346</td>\n",
       "      <td>0.000</td>\n",
       "      <td>86744.400</td>\n",
       "      <td>1.784722</td>\n",
       "      <td>0.116076</td>\n",
       "      <td>1</td>\n",
       "      <td>ggHyyd</td>\n",
       "      <td>7.054524</td>\n",
       "      <td>0.000019</td>\n",
       "      <td>5.275241e-02</td>\n",
       "    </tr>\n",
       "    <tr>\n",
       "      <th>2</th>\n",
       "      <td>1.881112</td>\n",
       "      <td>6.480173</td>\n",
       "      <td>0.326790</td>\n",
       "      <td>2.255124</td>\n",
       "      <td>0.000</td>\n",
       "      <td>186978.030</td>\n",
       "      <td>1.122666</td>\n",
       "      <td>0.119337</td>\n",
       "      <td>1</td>\n",
       "      <td>ggHyyd</td>\n",
       "      <td>0.618951</td>\n",
       "      <td>0.000008</td>\n",
       "      <td>1.244310e-02</td>\n",
       "    </tr>\n",
       "    <tr>\n",
       "      <th>3</th>\n",
       "      <td>1.852292</td>\n",
       "      <td>5.958667</td>\n",
       "      <td>0.267467</td>\n",
       "      <td>2.601409</td>\n",
       "      <td>0.000</td>\n",
       "      <td>176778.980</td>\n",
       "      <td>0.756231</td>\n",
       "      <td>0.115276</td>\n",
       "      <td>1</td>\n",
       "      <td>ggHyyd</td>\n",
       "      <td>0.500710</td>\n",
       "      <td>0.000015</td>\n",
       "      <td>3.407549e-03</td>\n",
       "    </tr>\n",
       "    <tr>\n",
       "      <th>4</th>\n",
       "      <td>0.323595</td>\n",
       "      <td>2.547094</td>\n",
       "      <td>0.189026</td>\n",
       "      <td>1.626958</td>\n",
       "      <td>0.000</td>\n",
       "      <td>49163.324</td>\n",
       "      <td>1.266329</td>\n",
       "      <td>0.119649</td>\n",
       "      <td>1</td>\n",
       "      <td>ggHyyd</td>\n",
       "      <td>0.438361</td>\n",
       "      <td>0.000011</td>\n",
       "      <td>1.078138e-05</td>\n",
       "    </tr>\n",
       "    <tr>\n",
       "      <th>...</th>\n",
       "      <td>...</td>\n",
       "      <td>...</td>\n",
       "      <td>...</td>\n",
       "      <td>...</td>\n",
       "      <td>...</td>\n",
       "      <td>...</td>\n",
       "      <td>...</td>\n",
       "      <td>...</td>\n",
       "      <td>...</td>\n",
       "      <td>...</td>\n",
       "      <td>...</td>\n",
       "      <td>...</td>\n",
       "      <td>...</td>\n",
       "    </tr>\n",
       "    <tr>\n",
       "      <th>3299728</th>\n",
       "      <td>0.086615</td>\n",
       "      <td>3.856843</td>\n",
       "      <td>0.021344</td>\n",
       "      <td>NaN</td>\n",
       "      <td>20045.516</td>\n",
       "      <td>58980.720</td>\n",
       "      <td>7.581804</td>\n",
       "      <td>11.211798</td>\n",
       "      <td>0</td>\n",
       "      <td>data23</td>\n",
       "      <td>0.901728</td>\n",
       "      <td>0.000014</td>\n",
       "      <td>7.327521e-06</td>\n",
       "    </tr>\n",
       "    <tr>\n",
       "      <th>3299729</th>\n",
       "      <td>0.132232</td>\n",
       "      <td>2.750353</td>\n",
       "      <td>-0.046651</td>\n",
       "      <td>NaN</td>\n",
       "      <td>-23196.453</td>\n",
       "      <td>75701.836</td>\n",
       "      <td>4.419554</td>\n",
       "      <td>11.578539</td>\n",
       "      <td>0</td>\n",
       "      <td>data23</td>\n",
       "      <td>0.425681</td>\n",
       "      <td>0.000013</td>\n",
       "      <td>7.437374e-07</td>\n",
       "    </tr>\n",
       "    <tr>\n",
       "      <th>3299730</th>\n",
       "      <td>0.190657</td>\n",
       "      <td>16.823483</td>\n",
       "      <td>0.218955</td>\n",
       "      <td>NaN</td>\n",
       "      <td>0.000</td>\n",
       "      <td>218678.190</td>\n",
       "      <td>2.965068</td>\n",
       "      <td>10.425924</td>\n",
       "      <td>0</td>\n",
       "      <td>data23</td>\n",
       "      <td>0.553796</td>\n",
       "      <td>0.000006</td>\n",
       "      <td>2.111725e-07</td>\n",
       "    </tr>\n",
       "    <tr>\n",
       "      <th>3299731</th>\n",
       "      <td>0.179639</td>\n",
       "      <td>3.404925</td>\n",
       "      <td>-0.055574</td>\n",
       "      <td>2.473053</td>\n",
       "      <td>0.000</td>\n",
       "      <td>19826.225</td>\n",
       "      <td>4.414888</td>\n",
       "      <td>11.578539</td>\n",
       "      <td>0</td>\n",
       "      <td>data23</td>\n",
       "      <td>0.476878</td>\n",
       "      <td>0.000009</td>\n",
       "      <td>5.023901e-06</td>\n",
       "    </tr>\n",
       "    <tr>\n",
       "      <th>3299732</th>\n",
       "      <td>0.095203</td>\n",
       "      <td>2.040283</td>\n",
       "      <td>-0.193532</td>\n",
       "      <td>1.277311</td>\n",
       "      <td>-53237.695</td>\n",
       "      <td>57924.860</td>\n",
       "      <td>2.571077</td>\n",
       "      <td>10.425924</td>\n",
       "      <td>0</td>\n",
       "      <td>data23</td>\n",
       "      <td>0.600207</td>\n",
       "      <td>0.000014</td>\n",
       "      <td>1.986839e-06</td>\n",
       "    </tr>\n",
       "  </tbody>\n",
       "</table>\n",
       "<p>3299733 rows × 13 columns</p>\n",
       "</div>"
      ],
      "text/plain": [
       "         dphi_met_phterm     metsig  VertexBDTScore  dphi_met_central_jet  \\\n",
       "0               0.938348   2.761993        0.131412              1.307934   \n",
       "1               1.180506   8.542773        0.151073              2.712346   \n",
       "2               1.881112   6.480173        0.326790              2.255124   \n",
       "3               1.852292   5.958667        0.267467              2.601409   \n",
       "4               0.323595   2.547094        0.189026              1.626958   \n",
       "...                  ...        ...             ...                   ...   \n",
       "3299728         0.086615   3.856843        0.021344                   NaN   \n",
       "3299729         0.132232   2.750353       -0.046651                   NaN   \n",
       "3299730         0.190657  16.823483        0.218955                   NaN   \n",
       "3299731         0.179639   3.404925       -0.055574              2.473053   \n",
       "3299732         0.095203   2.040283       -0.193532              1.277311   \n",
       "\n",
       "              dmet     jetterm   balance    weights  label process    ph_eta  \\\n",
       "0            0.000   84722.190  3.382770   0.074079      1  ggHyyd  1.116581   \n",
       "1            0.000   86744.400  1.784722   0.116076      1  ggHyyd  7.054524   \n",
       "2            0.000  186978.030  1.122666   0.119337      1  ggHyyd  0.618951   \n",
       "3            0.000  176778.980  0.756231   0.115276      1  ggHyyd  0.500710   \n",
       "4            0.000   49163.324  1.266329   0.119649      1  ggHyyd  0.438361   \n",
       "...            ...         ...       ...        ...    ...     ...       ...   \n",
       "3299728  20045.516   58980.720  7.581804  11.211798      0  data23  0.901728   \n",
       "3299729 -23196.453   75701.836  4.419554  11.578539      0  data23  0.425681   \n",
       "3299730      0.000  218678.190  2.965068  10.425924      0  data23  0.553796   \n",
       "3299731      0.000   19826.225  4.414888  11.578539      0  data23  0.476878   \n",
       "3299732 -53237.695   57924.860  2.571077  10.425924      0  data23  0.600207   \n",
       "\n",
       "            ph_pt    MLBDTScore  \n",
       "0        0.000015  2.276703e-04  \n",
       "1        0.000019  5.275241e-02  \n",
       "2        0.000008  1.244310e-02  \n",
       "3        0.000015  3.407549e-03  \n",
       "4        0.000011  1.078138e-05  \n",
       "...           ...           ...  \n",
       "3299728  0.000014  7.327521e-06  \n",
       "3299729  0.000013  7.437374e-07  \n",
       "3299730  0.000006  2.111725e-07  \n",
       "3299731  0.000009  5.023901e-06  \n",
       "3299732  0.000014  1.986839e-06  \n",
       "\n",
       "[3299733 rows x 13 columns]"
      ]
     },
     "execution_count": 32,
     "metadata": {},
     "output_type": "execute_result"
    }
   ],
   "source": [
    "df_output"
   ]
  },
  {
   "cell_type": "code",
   "execution_count": 22,
   "id": "239efd5c-9351-4d12-80fe-df8df4064094",
   "metadata": {},
   "outputs": [],
   "source": [
    "df.to_csv('/data/jlai/ntups/csv/bdt_output_reduced.csv', index=False)"
   ]
  },
  {
   "cell_type": "code",
   "execution_count": 23,
   "id": "40f5f62c-5c50-44ca-949a-22489d1634b8",
   "metadata": {},
   "outputs": [
    {
     "data": {
      "text/html": [
       "<div>\n",
       "<style scoped>\n",
       "    .dataframe tbody tr th:only-of-type {\n",
       "        vertical-align: middle;\n",
       "    }\n",
       "\n",
       "    .dataframe tbody tr th {\n",
       "        vertical-align: top;\n",
       "    }\n",
       "\n",
       "    .dataframe thead th {\n",
       "        text-align: right;\n",
       "    }\n",
       "</style>\n",
       "<table border=\"1\" class=\"dataframe\">\n",
       "  <thead>\n",
       "    <tr style=\"text-align: right;\">\n",
       "      <th></th>\n",
       "      <th>balance</th>\n",
       "      <th>VertexBDTScore</th>\n",
       "      <th>dmet</th>\n",
       "      <th>dphi_jj</th>\n",
       "      <th>dphi_met_central_jet</th>\n",
       "      <th>dphi_met_phterm</th>\n",
       "      <th>dphi_met_ph</th>\n",
       "      <th>dphi_met_jetterm</th>\n",
       "      <th>dphi_phterm_jetterm</th>\n",
       "      <th>dphi_ph_centraljet1</th>\n",
       "      <th>...</th>\n",
       "      <th>met_noJVT</th>\n",
       "      <th>metplusph</th>\n",
       "      <th>failJVT_jet_pt1</th>\n",
       "      <th>softerm</th>\n",
       "      <th>n_jet_central</th>\n",
       "      <th>mt</th>\n",
       "      <th>weights</th>\n",
       "      <th>process</th>\n",
       "      <th>label</th>\n",
       "      <th>MLBDTScore</th>\n",
       "    </tr>\n",
       "  </thead>\n",
       "  <tbody>\n",
       "    <tr>\n",
       "      <th>0</th>\n",
       "      <td>3.382770</td>\n",
       "      <td>0.131412</td>\n",
       "      <td>0.000</td>\n",
       "      <td>-999.000000</td>\n",
       "      <td>1.307934</td>\n",
       "      <td>0.938348</td>\n",
       "      <td>2.203245</td>\n",
       "      <td>0.664073</td>\n",
       "      <td>1.602420</td>\n",
       "      <td>2.772006</td>\n",
       "      <td>...</td>\n",
       "      <td>106920.875</td>\n",
       "      <td>171646.17</td>\n",
       "      <td>21859.162109</td>\n",
       "      <td>1942.6106</td>\n",
       "      <td>1</td>\n",
       "      <td>148.40038</td>\n",
       "      <td>0.074079</td>\n",
       "      <td>ggHyyd</td>\n",
       "      <td>1</td>\n",
       "      <td>2.276703e-04</td>\n",
       "    </tr>\n",
       "    <tr>\n",
       "      <th>1</th>\n",
       "      <td>1.784722</td>\n",
       "      <td>0.151073</td>\n",
       "      <td>0.000</td>\n",
       "      <td>-999.000000</td>\n",
       "      <td>2.712346</td>\n",
       "      <td>1.180506</td>\n",
       "      <td>1.961087</td>\n",
       "      <td>0.429247</td>\n",
       "      <td>1.609753</td>\n",
       "      <td>1.609753</td>\n",
       "      <td>...</td>\n",
       "      <td>102183.560</td>\n",
       "      <td>154814.61</td>\n",
       "      <td>-999.000000</td>\n",
       "      <td>12993.3780</td>\n",
       "      <td>1</td>\n",
       "      <td>121.85350</td>\n",
       "      <td>0.116076</td>\n",
       "      <td>ggHyyd</td>\n",
       "      <td>1</td>\n",
       "      <td>5.275241e-02</td>\n",
       "    </tr>\n",
       "    <tr>\n",
       "      <th>2</th>\n",
       "      <td>1.122666</td>\n",
       "      <td>0.326790</td>\n",
       "      <td>0.000</td>\n",
       "      <td>0.313718</td>\n",
       "      <td>2.255124</td>\n",
       "      <td>1.881112</td>\n",
       "      <td>1.260481</td>\n",
       "      <td>0.642131</td>\n",
       "      <td>2.523243</td>\n",
       "      <td>2.767581</td>\n",
       "      <td>...</td>\n",
       "      <td>113106.060</td>\n",
       "      <td>235372.84</td>\n",
       "      <td>-999.000000</td>\n",
       "      <td>4500.8604</td>\n",
       "      <td>3</td>\n",
       "      <td>138.60928</td>\n",
       "      <td>0.119337</td>\n",
       "      <td>ggHyyd</td>\n",
       "      <td>1</td>\n",
       "      <td>1.244310e-02</td>\n",
       "    </tr>\n",
       "    <tr>\n",
       "      <th>3</th>\n",
       "      <td>0.756231</td>\n",
       "      <td>0.267467</td>\n",
       "      <td>0.000</td>\n",
       "      <td>2.166679</td>\n",
       "      <td>2.601409</td>\n",
       "      <td>1.852292</td>\n",
       "      <td>1.289300</td>\n",
       "      <td>0.349927</td>\n",
       "      <td>2.202219</td>\n",
       "      <td>2.392476</td>\n",
       "      <td>...</td>\n",
       "      <td>131013.914</td>\n",
       "      <td>197134.22</td>\n",
       "      <td>33962.769531</td>\n",
       "      <td>16936.4980</td>\n",
       "      <td>3</td>\n",
       "      <td>111.85926</td>\n",
       "      <td>0.115276</td>\n",
       "      <td>ggHyyd</td>\n",
       "      <td>1</td>\n",
       "      <td>3.407549e-03</td>\n",
       "    </tr>\n",
       "    <tr>\n",
       "      <th>4</th>\n",
       "      <td>1.266329</td>\n",
       "      <td>0.189026</td>\n",
       "      <td>0.000</td>\n",
       "      <td>2.670413</td>\n",
       "      <td>1.626958</td>\n",
       "      <td>0.323595</td>\n",
       "      <td>2.817998</td>\n",
       "      <td>0.546473</td>\n",
       "      <td>0.870069</td>\n",
       "      <td>1.838230</td>\n",
       "      <td>...</td>\n",
       "      <td>125378.336</td>\n",
       "      <td>213597.25</td>\n",
       "      <td>-999.000000</td>\n",
       "      <td>2516.5588</td>\n",
       "      <td>2</td>\n",
       "      <td>207.59293</td>\n",
       "      <td>0.119649</td>\n",
       "      <td>ggHyyd</td>\n",
       "      <td>1</td>\n",
       "      <td>1.078138e-05</td>\n",
       "    </tr>\n",
       "    <tr>\n",
       "      <th>...</th>\n",
       "      <td>...</td>\n",
       "      <td>...</td>\n",
       "      <td>...</td>\n",
       "      <td>...</td>\n",
       "      <td>...</td>\n",
       "      <td>...</td>\n",
       "      <td>...</td>\n",
       "      <td>...</td>\n",
       "      <td>...</td>\n",
       "      <td>...</td>\n",
       "      <td>...</td>\n",
       "      <td>...</td>\n",
       "      <td>...</td>\n",
       "      <td>...</td>\n",
       "      <td>...</td>\n",
       "      <td>...</td>\n",
       "      <td>...</td>\n",
       "      <td>...</td>\n",
       "      <td>...</td>\n",
       "      <td>...</td>\n",
       "      <td>...</td>\n",
       "    </tr>\n",
       "    <tr>\n",
       "      <th>3299728</th>\n",
       "      <td>7.581804</td>\n",
       "      <td>0.021344</td>\n",
       "      <td>20045.516</td>\n",
       "      <td>-999.000000</td>\n",
       "      <td>-999.000000</td>\n",
       "      <td>0.086615</td>\n",
       "      <td>3.054977</td>\n",
       "      <td>0.144932</td>\n",
       "      <td>0.231547</td>\n",
       "      <td>-999.000000</td>\n",
       "      <td>...</td>\n",
       "      <td>156691.400</td>\n",
       "      <td>207548.94</td>\n",
       "      <td>25537.773438</td>\n",
       "      <td>8009.5220</td>\n",
       "      <td>1</td>\n",
       "      <td>196.67690</td>\n",
       "      <td>11.211798</td>\n",
       "      <td>data23</td>\n",
       "      <td>0</td>\n",
       "      <td>7.327521e-06</td>\n",
       "    </tr>\n",
       "    <tr>\n",
       "      <th>3299729</th>\n",
       "      <td>4.419554</td>\n",
       "      <td>-0.046651</td>\n",
       "      <td>-23196.453</td>\n",
       "      <td>-999.000000</td>\n",
       "      <td>-999.000000</td>\n",
       "      <td>0.132232</td>\n",
       "      <td>3.009361</td>\n",
       "      <td>0.261050</td>\n",
       "      <td>0.393281</td>\n",
       "      <td>-999.000000</td>\n",
       "      <td>...</td>\n",
       "      <td>125404.670</td>\n",
       "      <td>225048.72</td>\n",
       "      <td>23714.308594</td>\n",
       "      <td>9464.1780</td>\n",
       "      <td>1</td>\n",
       "      <td>212.70273</td>\n",
       "      <td>11.578539</td>\n",
       "      <td>data23</td>\n",
       "      <td>0</td>\n",
       "      <td>7.437374e-07</td>\n",
       "    </tr>\n",
       "    <tr>\n",
       "      <th>3299730</th>\n",
       "      <td>2.965068</td>\n",
       "      <td>0.218955</td>\n",
       "      <td>0.000</td>\n",
       "      <td>-999.000000</td>\n",
       "      <td>-999.000000</td>\n",
       "      <td>0.190657</td>\n",
       "      <td>2.950936</td>\n",
       "      <td>0.153479</td>\n",
       "      <td>0.344136</td>\n",
       "      <td>-999.000000</td>\n",
       "      <td>...</td>\n",
       "      <td>388933.000</td>\n",
       "      <td>544819.90</td>\n",
       "      <td>-999.000000</td>\n",
       "      <td>20142.2170</td>\n",
       "      <td>1</td>\n",
       "      <td>490.22546</td>\n",
       "      <td>10.425924</td>\n",
       "      <td>data23</td>\n",
       "      <td>0</td>\n",
       "      <td>2.111725e-07</td>\n",
       "    </tr>\n",
       "    <tr>\n",
       "      <th>3299731</th>\n",
       "      <td>4.414888</td>\n",
       "      <td>-0.055574</td>\n",
       "      <td>0.000</td>\n",
       "      <td>2.633032</td>\n",
       "      <td>2.473053</td>\n",
       "      <td>0.179639</td>\n",
       "      <td>2.961954</td>\n",
       "      <td>2.039606</td>\n",
       "      <td>2.219245</td>\n",
       "      <td>0.488901</td>\n",
       "      <td>...</td>\n",
       "      <td>100550.080</td>\n",
       "      <td>209262.25</td>\n",
       "      <td>-999.000000</td>\n",
       "      <td>3081.4370</td>\n",
       "      <td>2</td>\n",
       "      <td>208.26012</td>\n",
       "      <td>11.578539</td>\n",
       "      <td>data23</td>\n",
       "      <td>0</td>\n",
       "      <td>5.023901e-06</td>\n",
       "    </tr>\n",
       "    <tr>\n",
       "      <th>3299732</th>\n",
       "      <td>2.571077</td>\n",
       "      <td>-0.193532</td>\n",
       "      <td>-53237.695</td>\n",
       "      <td>3.141548</td>\n",
       "      <td>1.277311</td>\n",
       "      <td>0.095203</td>\n",
       "      <td>3.046390</td>\n",
       "      <td>0.116053</td>\n",
       "      <td>0.211255</td>\n",
       "      <td>1.769079</td>\n",
       "      <td>...</td>\n",
       "      <td>77920.480</td>\n",
       "      <td>202349.12</td>\n",
       "      <td>40216.167969</td>\n",
       "      <td>2755.0234</td>\n",
       "      <td>3</td>\n",
       "      <td>193.04025</td>\n",
       "      <td>10.425924</td>\n",
       "      <td>data23</td>\n",
       "      <td>0</td>\n",
       "      <td>1.986839e-06</td>\n",
       "    </tr>\n",
       "  </tbody>\n",
       "</table>\n",
       "<p>3299733 rows × 31 columns</p>\n",
       "</div>"
      ],
      "text/plain": [
       "          balance  VertexBDTScore       dmet     dphi_jj  \\\n",
       "0        3.382770        0.131412      0.000 -999.000000   \n",
       "1        1.784722        0.151073      0.000 -999.000000   \n",
       "2        1.122666        0.326790      0.000    0.313718   \n",
       "3        0.756231        0.267467      0.000    2.166679   \n",
       "4        1.266329        0.189026      0.000    2.670413   \n",
       "...           ...             ...        ...         ...   \n",
       "3299728  7.581804        0.021344  20045.516 -999.000000   \n",
       "3299729  4.419554       -0.046651 -23196.453 -999.000000   \n",
       "3299730  2.965068        0.218955      0.000 -999.000000   \n",
       "3299731  4.414888       -0.055574      0.000    2.633032   \n",
       "3299732  2.571077       -0.193532 -53237.695    3.141548   \n",
       "\n",
       "         dphi_met_central_jet  dphi_met_phterm  dphi_met_ph  dphi_met_jetterm  \\\n",
       "0                    1.307934         0.938348     2.203245          0.664073   \n",
       "1                    2.712346         1.180506     1.961087          0.429247   \n",
       "2                    2.255124         1.881112     1.260481          0.642131   \n",
       "3                    2.601409         1.852292     1.289300          0.349927   \n",
       "4                    1.626958         0.323595     2.817998          0.546473   \n",
       "...                       ...              ...          ...               ...   \n",
       "3299728           -999.000000         0.086615     3.054977          0.144932   \n",
       "3299729           -999.000000         0.132232     3.009361          0.261050   \n",
       "3299730           -999.000000         0.190657     2.950936          0.153479   \n",
       "3299731              2.473053         0.179639     2.961954          2.039606   \n",
       "3299732              1.277311         0.095203     3.046390          0.116053   \n",
       "\n",
       "         dphi_phterm_jetterm  dphi_ph_centraljet1  ...   met_noJVT  metplusph  \\\n",
       "0                   1.602420             2.772006  ...  106920.875  171646.17   \n",
       "1                   1.609753             1.609753  ...  102183.560  154814.61   \n",
       "2                   2.523243             2.767581  ...  113106.060  235372.84   \n",
       "3                   2.202219             2.392476  ...  131013.914  197134.22   \n",
       "4                   0.870069             1.838230  ...  125378.336  213597.25   \n",
       "...                      ...                  ...  ...         ...        ...   \n",
       "3299728             0.231547          -999.000000  ...  156691.400  207548.94   \n",
       "3299729             0.393281          -999.000000  ...  125404.670  225048.72   \n",
       "3299730             0.344136          -999.000000  ...  388933.000  544819.90   \n",
       "3299731             2.219245             0.488901  ...  100550.080  209262.25   \n",
       "3299732             0.211255             1.769079  ...   77920.480  202349.12   \n",
       "\n",
       "         failJVT_jet_pt1     softerm  n_jet_central         mt    weights  \\\n",
       "0           21859.162109   1942.6106              1  148.40038   0.074079   \n",
       "1            -999.000000  12993.3780              1  121.85350   0.116076   \n",
       "2            -999.000000   4500.8604              3  138.60928   0.119337   \n",
       "3           33962.769531  16936.4980              3  111.85926   0.115276   \n",
       "4            -999.000000   2516.5588              2  207.59293   0.119649   \n",
       "...                  ...         ...            ...        ...        ...   \n",
       "3299728     25537.773438   8009.5220              1  196.67690  11.211798   \n",
       "3299729     23714.308594   9464.1780              1  212.70273  11.578539   \n",
       "3299730      -999.000000  20142.2170              1  490.22546  10.425924   \n",
       "3299731      -999.000000   3081.4370              2  208.26012  11.578539   \n",
       "3299732     40216.167969   2755.0234              3  193.04025  10.425924   \n",
       "\n",
       "         process  label    MLBDTScore  \n",
       "0         ggHyyd      1  2.276703e-04  \n",
       "1         ggHyyd      1  5.275241e-02  \n",
       "2         ggHyyd      1  1.244310e-02  \n",
       "3         ggHyyd      1  3.407549e-03  \n",
       "4         ggHyyd      1  1.078138e-05  \n",
       "...          ...    ...           ...  \n",
       "3299728   data23      0  7.327521e-06  \n",
       "3299729   data23      0  7.437374e-07  \n",
       "3299730   data23      0  2.111725e-07  \n",
       "3299731   data23      0  5.023901e-06  \n",
       "3299732   data23      0  1.986839e-06  \n",
       "\n",
       "[3299733 rows x 31 columns]"
      ]
     },
     "execution_count": 23,
     "metadata": {},
     "output_type": "execute_result"
    }
   ],
   "source": [
    "df"
   ]
  }
 ],
 "metadata": {
  "kernelspec": {
   "display_name": "Python 3 (ipykernel)",
   "language": "python",
   "name": "python3"
  },
  "language_info": {
   "codemirror_mode": {
    "name": "ipython",
    "version": 3
   },
   "file_extension": ".py",
   "mimetype": "text/x-python",
   "name": "python",
   "nbconvert_exporter": "python",
   "pygments_lexer": "ipython3",
   "version": "3.8.10"
  }
 },
 "nbformat": 4,
 "nbformat_minor": 5
}
