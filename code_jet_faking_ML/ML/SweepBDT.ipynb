{
 "cells": [
  {
   "cell_type": "code",
   "execution_count": 1,
   "id": "1bf449f1-0f2a-4a8b-badb-cebd30ea9173",
   "metadata": {},
   "outputs": [],
   "source": [
    "import numpy as np\n",
    "import pandas as pd\n",
    "import matplotlib.pyplot as plt\n",
    "from tqdm import tqdm\n",
    "import seaborn as sns\n",
    "import uproot, os, logging, json, random, wandb, shap\n",
    "import awkward as ak\n",
    "# import torch\n",
    "from sklearn.metrics import roc_curve, roc_auc_score, auc, accuracy_score, log_loss\n",
    "from sklearn.model_selection import train_test_split\n",
    "from xgboost import XGBClassifier\n",
    "from sklearn.model_selection import RandomizedSearchCV, GridSearchCV, train_test_split\n",
    "from sklearn.impute import SimpleImputer\n",
    "from sklearn.preprocessing import StandardScaler\n",
    "from scipy.stats import randint, uniform\n",
    "from matplotlib.ticker import FormatStrFormatter\n",
    "from collections import Counter\n",
    "\n",
    "# ML model\n",
    "from sklearn.model_selection import train_test_split, RandomizedSearchCV\n",
    "from sklearn.metrics import roc_auc_score, roc_curve, log_loss, accuracy_score\n",
    "from sklearn.neural_network import MLPClassifier\n",
    "from sklearn.linear_model import LogisticRegression\n",
    "from sklearn.ensemble import RandomForestClassifier\n",
    "from xgboost import XGBClassifier\n",
    "from lightgbm import LGBMClassifier\n",
    "\n",
    "# Config\n",
    "from bdt_config import sample_dict, zbi, getVarDict\n",
    "from bdt_config import Vars, Vars2, Vars3, Vars_drop, Vars_plot\n",
    "from bdt_config import variables, ntuple_name, ntuple_name_BDT\n",
    "\n",
    "# Set up plot defaults\n",
    "import matplotlib as mpl\n",
    "mpl.rcParams['figure.figsize'] = 12.0,8.0  # Roughly 11 cm wde by 8 cm high\n",
    "mpl.rcParams['font.size'] = 14.0 # Use 14 point font\n",
    "sns.set(style=\"whitegrid\")\n",
    "\n",
    "# Check for gpu\n",
    "# torch.cuda.is_available()"
   ]
  },
  {
   "cell_type": "code",
   "execution_count": 2,
   "id": "4bf567f9-ad51-4490-b4c3-ceed0a482af1",
   "metadata": {},
   "outputs": [
    {
     "data": {
      "text/html": [
       "<div>\n",
       "<style scoped>\n",
       "    .dataframe tbody tr th:only-of-type {\n",
       "        vertical-align: middle;\n",
       "    }\n",
       "\n",
       "    .dataframe tbody tr th {\n",
       "        vertical-align: top;\n",
       "    }\n",
       "\n",
       "    .dataframe thead th {\n",
       "        text-align: right;\n",
       "    }\n",
       "</style>\n",
       "<table border=\"1\" class=\"dataframe\">\n",
       "  <thead>\n",
       "    <tr style=\"text-align: right;\">\n",
       "      <th></th>\n",
       "      <th>balance</th>\n",
       "      <th>VertexBDTScore</th>\n",
       "      <th>dmet</th>\n",
       "      <th>dphi_jj</th>\n",
       "      <th>dphi_met_central_jet</th>\n",
       "      <th>dphi_met_phterm</th>\n",
       "      <th>dphi_met_ph</th>\n",
       "      <th>dphi_met_jetterm</th>\n",
       "      <th>dphi_phterm_jetterm</th>\n",
       "      <th>dphi_ph_centraljet1</th>\n",
       "      <th>...</th>\n",
       "      <th>metsigres</th>\n",
       "      <th>met</th>\n",
       "      <th>met_noJVT</th>\n",
       "      <th>metplusph</th>\n",
       "      <th>failJVT_jet_pt1</th>\n",
       "      <th>softerm</th>\n",
       "      <th>n_jet_central</th>\n",
       "      <th>mt</th>\n",
       "      <th>weights</th>\n",
       "      <th>label</th>\n",
       "    </tr>\n",
       "  </thead>\n",
       "  <tbody>\n",
       "    <tr>\n",
       "      <th>count</th>\n",
       "      <td>3.299733e+06</td>\n",
       "      <td>3.299733e+06</td>\n",
       "      <td>3.299733e+06</td>\n",
       "      <td>3.299733e+06</td>\n",
       "      <td>3.299733e+06</td>\n",
       "      <td>3.299733e+06</td>\n",
       "      <td>3.299733e+06</td>\n",
       "      <td>3.299733e+06</td>\n",
       "      <td>3.299733e+06</td>\n",
       "      <td>3.299733e+06</td>\n",
       "      <td>...</td>\n",
       "      <td>3.299733e+06</td>\n",
       "      <td>3.299733e+06</td>\n",
       "      <td>3.299733e+06</td>\n",
       "      <td>3.299733e+06</td>\n",
       "      <td>3.299733e+06</td>\n",
       "      <td>3.299733e+06</td>\n",
       "      <td>3.299733e+06</td>\n",
       "      <td>3.299733e+06</td>\n",
       "      <td>3.299733e+06</td>\n",
       "      <td>3.299733e+06</td>\n",
       "    </tr>\n",
       "    <tr>\n",
       "      <th>mean</th>\n",
       "      <td>-1.745489e+02</td>\n",
       "      <td>1.251438e-01</td>\n",
       "      <td>-1.663472e+03</td>\n",
       "      <td>-4.654471e+02</td>\n",
       "      <td>-1.848742e+02</td>\n",
       "      <td>4.027364e-01</td>\n",
       "      <td>2.738863e+00</td>\n",
       "      <td>-1.317202e+02</td>\n",
       "      <td>-1.313245e+02</td>\n",
       "      <td>-1.842713e+02</td>\n",
       "      <td>...</td>\n",
       "      <td>2.709180e+04</td>\n",
       "      <td>1.947991e+05</td>\n",
       "      <td>1.931356e+05</td>\n",
       "      <td>8.173447e+05</td>\n",
       "      <td>8.082155e+03</td>\n",
       "      <td>9.400769e+03</td>\n",
       "      <td>1.752871e+00</td>\n",
       "      <td>5.145135e+02</td>\n",
       "      <td>6.037499e-01</td>\n",
       "      <td>1.390112e-03</td>\n",
       "    </tr>\n",
       "    <tr>\n",
       "      <th>std</th>\n",
       "      <td>3.835393e+02</td>\n",
       "      <td>1.348625e-01</td>\n",
       "      <td>1.103691e+04</td>\n",
       "      <td>4.990919e+02</td>\n",
       "      <td>3.894295e+02</td>\n",
       "      <td>6.314438e-01</td>\n",
       "      <td>6.313107e-01</td>\n",
       "      <td>3.400961e+02</td>\n",
       "      <td>3.402509e+02</td>\n",
       "      <td>3.897176e+02</td>\n",
       "      <td>...</td>\n",
       "      <td>2.307818e+04</td>\n",
       "      <td>1.623949e+05</td>\n",
       "      <td>1.632818e+05</td>\n",
       "      <td>8.139494e+05</td>\n",
       "      <td>1.485037e+04</td>\n",
       "      <td>5.880428e+03</td>\n",
       "      <td>1.232225e+00</td>\n",
       "      <td>3.809920e+02</td>\n",
       "      <td>7.646898e+00</td>\n",
       "      <td>3.725829e-02</td>\n",
       "    </tr>\n",
       "    <tr>\n",
       "      <th>min</th>\n",
       "      <td>-9.990000e+02</td>\n",
       "      <td>-3.265468e-01</td>\n",
       "      <td>-1.712589e+05</td>\n",
       "      <td>-9.990000e+02</td>\n",
       "      <td>-9.990000e+02</td>\n",
       "      <td>0.000000e+00</td>\n",
       "      <td>1.167295e-02</td>\n",
       "      <td>-9.990000e+02</td>\n",
       "      <td>-9.990000e+02</td>\n",
       "      <td>-9.990000e+02</td>\n",
       "      <td>...</td>\n",
       "      <td>8.526343e+03</td>\n",
       "      <td>1.000000e+05</td>\n",
       "      <td>2.001940e+03</td>\n",
       "      <td>1.500329e+05</td>\n",
       "      <td>-9.990000e+02</td>\n",
       "      <td>0.000000e+00</td>\n",
       "      <td>0.000000e+00</td>\n",
       "      <td>1.000004e+02</td>\n",
       "      <td>-9.143369e+01</td>\n",
       "      <td>0.000000e+00</td>\n",
       "    </tr>\n",
       "    <tr>\n",
       "      <th>25%</th>\n",
       "      <td>9.546858e-01</td>\n",
       "      <td>8.068899e-03</td>\n",
       "      <td>0.000000e+00</td>\n",
       "      <td>-9.990000e+02</td>\n",
       "      <td>4.369926e-02</td>\n",
       "      <td>5.094965e-02</td>\n",
       "      <td>2.728096e+00</td>\n",
       "      <td>2.204334e-01</td>\n",
       "      <td>5.477069e-01</td>\n",
       "      <td>3.878704e-01</td>\n",
       "      <td>...</td>\n",
       "      <td>1.057160e+04</td>\n",
       "      <td>1.177408e+05</td>\n",
       "      <td>1.162434e+05</td>\n",
       "      <td>2.738635e+05</td>\n",
       "      <td>-9.990000e+02</td>\n",
       "      <td>4.993511e+03</td>\n",
       "      <td>1.000000e+00</td>\n",
       "      <td>2.392391e+02</td>\n",
       "      <td>1.026595e-04</td>\n",
       "      <td>0.000000e+00</td>\n",
       "    </tr>\n",
       "    <tr>\n",
       "      <th>50%</th>\n",
       "      <td>1.283851e+00</td>\n",
       "      <td>1.647640e-01</td>\n",
       "      <td>0.000000e+00</td>\n",
       "      <td>1.517193e-01</td>\n",
       "      <td>4.694079e-01</td>\n",
       "      <td>1.503438e-01</td>\n",
       "      <td>2.991172e+00</td>\n",
       "      <td>1.017702e+00</td>\n",
       "      <td>2.089735e+00</td>\n",
       "      <td>2.023582e+00</td>\n",
       "      <td>...</td>\n",
       "      <td>1.767059e+04</td>\n",
       "      <td>1.480967e+05</td>\n",
       "      <td>1.473863e+05</td>\n",
       "      <td>4.551331e+05</td>\n",
       "      <td>-9.990000e+02</td>\n",
       "      <td>8.329055e+03</td>\n",
       "      <td>2.000000e+00</td>\n",
       "      <td>3.804795e+02</td>\n",
       "      <td>1.174600e-02</td>\n",
       "      <td>0.000000e+00</td>\n",
       "    </tr>\n",
       "    <tr>\n",
       "      <th>75%</th>\n",
       "      <td>2.922425e+00</td>\n",
       "      <td>2.371679e-01</td>\n",
       "      <td>0.000000e+00</td>\n",
       "      <td>1.378248e+00</td>\n",
       "      <td>2.476912e+00</td>\n",
       "      <td>4.133940e-01</td>\n",
       "      <td>3.090613e+00</td>\n",
       "      <td>2.863652e+00</td>\n",
       "      <td>3.105098e+00</td>\n",
       "      <td>3.039348e+00</td>\n",
       "      <td>...</td>\n",
       "      <td>3.643209e+04</td>\n",
       "      <td>2.160463e+05</td>\n",
       "      <td>2.158321e+05</td>\n",
       "      <td>1.013744e+06</td>\n",
       "      <td>2.159741e+04</td>\n",
       "      <td>1.265224e+04</td>\n",
       "      <td>3.000000e+00</td>\n",
       "      <td>6.762628e+02</td>\n",
       "      <td>5.386639e-02</td>\n",
       "      <td>0.000000e+00</td>\n",
       "    </tr>\n",
       "    <tr>\n",
       "      <th>max</th>\n",
       "      <td>2.663229e+02</td>\n",
       "      <td>4.375860e-01</td>\n",
       "      <td>1.246841e+05</td>\n",
       "      <td>3.141591e+00</td>\n",
       "      <td>3.141592e+00</td>\n",
       "      <td>3.141593e+00</td>\n",
       "      <td>3.141593e+00</td>\n",
       "      <td>3.141593e+00</td>\n",
       "      <td>3.141593e+00</td>\n",
       "      <td>3.141592e+00</td>\n",
       "      <td>...</td>\n",
       "      <td>6.173285e+06</td>\n",
       "      <td>1.470684e+08</td>\n",
       "      <td>1.470684e+08</td>\n",
       "      <td>1.490961e+08</td>\n",
       "      <td>5.999986e+04</td>\n",
       "      <td>1.022158e+05</td>\n",
       "      <td>4.000000e+00</td>\n",
       "      <td>7.007911e+03</td>\n",
       "      <td>1.221239e+04</td>\n",
       "      <td>1.000000e+00</td>\n",
       "    </tr>\n",
       "  </tbody>\n",
       "</table>\n",
       "<p>8 rows × 29 columns</p>\n",
       "</div>"
      ],
      "text/plain": [
       "            balance  VertexBDTScore          dmet       dphi_jj  \\\n",
       "count  3.299733e+06    3.299733e+06  3.299733e+06  3.299733e+06   \n",
       "mean  -1.745489e+02    1.251438e-01 -1.663472e+03 -4.654471e+02   \n",
       "std    3.835393e+02    1.348625e-01  1.103691e+04  4.990919e+02   \n",
       "min   -9.990000e+02   -3.265468e-01 -1.712589e+05 -9.990000e+02   \n",
       "25%    9.546858e-01    8.068899e-03  0.000000e+00 -9.990000e+02   \n",
       "50%    1.283851e+00    1.647640e-01  0.000000e+00  1.517193e-01   \n",
       "75%    2.922425e+00    2.371679e-01  0.000000e+00  1.378248e+00   \n",
       "max    2.663229e+02    4.375860e-01  1.246841e+05  3.141591e+00   \n",
       "\n",
       "       dphi_met_central_jet  dphi_met_phterm   dphi_met_ph  dphi_met_jetterm  \\\n",
       "count          3.299733e+06     3.299733e+06  3.299733e+06      3.299733e+06   \n",
       "mean          -1.848742e+02     4.027364e-01  2.738863e+00     -1.317202e+02   \n",
       "std            3.894295e+02     6.314438e-01  6.313107e-01      3.400961e+02   \n",
       "min           -9.990000e+02     0.000000e+00  1.167295e-02     -9.990000e+02   \n",
       "25%            4.369926e-02     5.094965e-02  2.728096e+00      2.204334e-01   \n",
       "50%            4.694079e-01     1.503438e-01  2.991172e+00      1.017702e+00   \n",
       "75%            2.476912e+00     4.133940e-01  3.090613e+00      2.863652e+00   \n",
       "max            3.141592e+00     3.141593e+00  3.141593e+00      3.141593e+00   \n",
       "\n",
       "       dphi_phterm_jetterm  dphi_ph_centraljet1  ...     metsigres  \\\n",
       "count         3.299733e+06         3.299733e+06  ...  3.299733e+06   \n",
       "mean         -1.313245e+02        -1.842713e+02  ...  2.709180e+04   \n",
       "std           3.402509e+02         3.897176e+02  ...  2.307818e+04   \n",
       "min          -9.990000e+02        -9.990000e+02  ...  8.526343e+03   \n",
       "25%           5.477069e-01         3.878704e-01  ...  1.057160e+04   \n",
       "50%           2.089735e+00         2.023582e+00  ...  1.767059e+04   \n",
       "75%           3.105098e+00         3.039348e+00  ...  3.643209e+04   \n",
       "max           3.141593e+00         3.141592e+00  ...  6.173285e+06   \n",
       "\n",
       "                met     met_noJVT     metplusph  failJVT_jet_pt1  \\\n",
       "count  3.299733e+06  3.299733e+06  3.299733e+06     3.299733e+06   \n",
       "mean   1.947991e+05  1.931356e+05  8.173447e+05     8.082155e+03   \n",
       "std    1.623949e+05  1.632818e+05  8.139494e+05     1.485037e+04   \n",
       "min    1.000000e+05  2.001940e+03  1.500329e+05    -9.990000e+02   \n",
       "25%    1.177408e+05  1.162434e+05  2.738635e+05    -9.990000e+02   \n",
       "50%    1.480967e+05  1.473863e+05  4.551331e+05    -9.990000e+02   \n",
       "75%    2.160463e+05  2.158321e+05  1.013744e+06     2.159741e+04   \n",
       "max    1.470684e+08  1.470684e+08  1.490961e+08     5.999986e+04   \n",
       "\n",
       "            softerm  n_jet_central            mt       weights         label  \n",
       "count  3.299733e+06   3.299733e+06  3.299733e+06  3.299733e+06  3.299733e+06  \n",
       "mean   9.400769e+03   1.752871e+00  5.145135e+02  6.037499e-01  1.390112e-03  \n",
       "std    5.880428e+03   1.232225e+00  3.809920e+02  7.646898e+00  3.725829e-02  \n",
       "min    0.000000e+00   0.000000e+00  1.000004e+02 -9.143369e+01  0.000000e+00  \n",
       "25%    4.993511e+03   1.000000e+00  2.392391e+02  1.026595e-04  0.000000e+00  \n",
       "50%    8.329055e+03   2.000000e+00  3.804795e+02  1.174600e-02  0.000000e+00  \n",
       "75%    1.265224e+04   3.000000e+00  6.762628e+02  5.386639e-02  0.000000e+00  \n",
       "max    1.022158e+05   4.000000e+00  7.007911e+03  1.221239e+04  1.000000e+00  \n",
       "\n",
       "[8 rows x 29 columns]"
      ]
     },
     "execution_count": 2,
     "metadata": {},
     "output_type": "execute_result"
    }
   ],
   "source": [
    "path = '/data/jlai/ntups/csv/jet_faking_BDT_input_basic3.csv'\n",
    "df = pd.read_csv(path)\n",
    "df.describe()"
   ]
  },
  {
   "cell_type": "code",
   "execution_count": 8,
   "id": "4cc99ada-386f-467b-ad44-07ccaeb9740e",
   "metadata": {},
   "outputs": [
    {
     "name": "stdout",
     "output_type": "stream",
     "text": [
      "Number of event with negative weights : 218306\n"
     ]
    },
    {
     "data": {
      "text/html": [
       "<div>\n",
       "<style scoped>\n",
       "    .dataframe tbody tr th:only-of-type {\n",
       "        vertical-align: middle;\n",
       "    }\n",
       "\n",
       "    .dataframe tbody tr th {\n",
       "        vertical-align: top;\n",
       "    }\n",
       "\n",
       "    .dataframe thead th {\n",
       "        text-align: right;\n",
       "    }\n",
       "</style>\n",
       "<table border=\"1\" class=\"dataframe\">\n",
       "  <thead>\n",
       "    <tr style=\"text-align: right;\">\n",
       "      <th></th>\n",
       "      <th>balance</th>\n",
       "      <th>VertexBDTScore</th>\n",
       "      <th>dmet</th>\n",
       "      <th>dphi_jj</th>\n",
       "      <th>dphi_met_central_jet</th>\n",
       "      <th>dphi_met_phterm</th>\n",
       "      <th>dphi_phterm_jetterm</th>\n",
       "      <th>ph_phi</th>\n",
       "      <th>jet_central_eta</th>\n",
       "      <th>jet_central_pt2</th>\n",
       "      <th>jetterm</th>\n",
       "      <th>metsig</th>\n",
       "      <th>metsigres</th>\n",
       "      <th>met_noJVT</th>\n",
       "      <th>softerm</th>\n",
       "      <th>n_jet_central</th>\n",
       "      <th>weights</th>\n",
       "      <th>label</th>\n",
       "      <th>ph_eta</th>\n",
       "      <th>ph_pt</th>\n",
       "    </tr>\n",
       "  </thead>\n",
       "  <tbody>\n",
       "    <tr>\n",
       "      <th>count</th>\n",
       "      <td>2.712769e+06</td>\n",
       "      <td>3.299733e+06</td>\n",
       "      <td>3.299732e+06</td>\n",
       "      <td>1.759863e+06</td>\n",
       "      <td>2.685312e+06</td>\n",
       "      <td>3.299733e+06</td>\n",
       "      <td>2.859950e+06</td>\n",
       "      <td>3.299733e+06</td>\n",
       "      <td>2.712769e+06</td>\n",
       "      <td>1.759863e+06</td>\n",
       "      <td>3.299733e+06</td>\n",
       "      <td>3.299733e+06</td>\n",
       "      <td>3.299733e+06</td>\n",
       "      <td>3.299733e+06</td>\n",
       "      <td>3.299733e+06</td>\n",
       "      <td>3.299733e+06</td>\n",
       "      <td>3.299733e+06</td>\n",
       "      <td>3.299733e+06</td>\n",
       "      <td>3.299733e+06</td>\n",
       "      <td>3.299733e+06</td>\n",
       "    </tr>\n",
       "    <tr>\n",
       "      <th>mean</th>\n",
       "      <td>3.838187e+00</td>\n",
       "      <td>1.251438e-01</td>\n",
       "      <td>-1.663472e+03</td>\n",
       "      <td>1.408597e+00</td>\n",
       "      <td>1.404322e+00</td>\n",
       "      <td>4.027364e-01</td>\n",
       "      <td>2.100537e+00</td>\n",
       "      <td>-2.322857e-03</td>\n",
       "      <td>1.122273e-03</td>\n",
       "      <td>1.301373e+05</td>\n",
       "      <td>5.232991e+05</td>\n",
       "      <td>1.190690e+01</td>\n",
       "      <td>2.709180e+04</td>\n",
       "      <td>1.931356e+05</td>\n",
       "      <td>9.400769e+03</td>\n",
       "      <td>1.752871e+00</td>\n",
       "      <td>6.196378e-01</td>\n",
       "      <td>1.390112e-03</td>\n",
       "      <td>4.619389e+00</td>\n",
       "      <td>5.638744e-06</td>\n",
       "    </tr>\n",
       "    <tr>\n",
       "      <th>std</th>\n",
       "      <td>6.130255e+00</td>\n",
       "      <td>1.348625e-01</td>\n",
       "      <td>1.103691e+04</td>\n",
       "      <td>9.495103e-01</td>\n",
       "      <td>1.176454e+00</td>\n",
       "      <td>6.314438e-01</td>\n",
       "      <td>1.085866e+00</td>\n",
       "      <td>1.819052e+00</td>\n",
       "      <td>1.077024e+00</td>\n",
       "      <td>1.853047e+05</td>\n",
       "      <td>7.927709e+05</td>\n",
       "      <td>1.038910e+01</td>\n",
       "      <td>2.307818e+04</td>\n",
       "      <td>1.632818e+05</td>\n",
       "      <td>5.880428e+03</td>\n",
       "      <td>1.232225e+00</td>\n",
       "      <td>7.645627e+00</td>\n",
       "      <td>3.725829e-02</td>\n",
       "      <td>4.657088e+02</td>\n",
       "      <td>4.934680e-06</td>\n",
       "    </tr>\n",
       "    <tr>\n",
       "      <th>min</th>\n",
       "      <td>3.173358e-02</td>\n",
       "      <td>-3.265468e-01</td>\n",
       "      <td>-1.712589e+05</td>\n",
       "      <td>9.537907e-07</td>\n",
       "      <td>1.192093e-07</td>\n",
       "      <td>0.000000e+00</td>\n",
       "      <td>0.000000e+00</td>\n",
       "      <td>-3.141592e+00</td>\n",
       "      <td>-2.499994e+00</td>\n",
       "      <td>2.000003e+04</td>\n",
       "      <td>0.000000e+00</td>\n",
       "      <td>2.269695e-01</td>\n",
       "      <td>8.526343e+03</td>\n",
       "      <td>2.001940e+03</td>\n",
       "      <td>0.000000e+00</td>\n",
       "      <td>0.000000e+00</td>\n",
       "      <td>0.000000e+00</td>\n",
       "      <td>0.000000e+00</td>\n",
       "      <td>3.966429e-01</td>\n",
       "      <td>1.995369e-07</td>\n",
       "    </tr>\n",
       "    <tr>\n",
       "      <th>25%</th>\n",
       "      <td>1.127429e+00</td>\n",
       "      <td>8.068899e-03</td>\n",
       "      <td>0.000000e+00</td>\n",
       "      <td>5.465004e-01</td>\n",
       "      <td>1.804473e-01</td>\n",
       "      <td>5.094965e-02</td>\n",
       "      <td>1.077754e+00</td>\n",
       "      <td>-1.578759e+00</td>\n",
       "      <td>-7.428238e-01</td>\n",
       "      <td>3.167094e+04</td>\n",
       "      <td>3.469025e+04</td>\n",
       "      <td>3.802686e+00</td>\n",
       "      <td>1.057160e+04</td>\n",
       "      <td>1.162434e+05</td>\n",
       "      <td>4.993511e+03</td>\n",
       "      <td>1.000000e+00</td>\n",
       "      <td>1.428430e-03</td>\n",
       "      <td>0.000000e+00</td>\n",
       "      <td>7.511125e-01</td>\n",
       "      <td>1.213521e-06</td>\n",
       "    </tr>\n",
       "    <tr>\n",
       "      <th>50%</th>\n",
       "      <td>1.535997e+00</td>\n",
       "      <td>1.647640e-01</td>\n",
       "      <td>0.000000e+00</td>\n",
       "      <td>1.263772e+00</td>\n",
       "      <td>1.257375e+00</td>\n",
       "      <td>1.503438e-01</td>\n",
       "      <td>2.536042e+00</td>\n",
       "      <td>-6.129133e-03</td>\n",
       "      <td>-1.606467e-03</td>\n",
       "      <td>6.061452e+04</td>\n",
       "      <td>1.292316e+05</td>\n",
       "      <td>1.024574e+01</td>\n",
       "      <td>1.767059e+04</td>\n",
       "      <td>1.473863e+05</td>\n",
       "      <td>8.329055e+03</td>\n",
       "      <td>2.000000e+00</td>\n",
       "      <td>1.519263e-02</td>\n",
       "      <td>0.000000e+00</td>\n",
       "      <td>1.271312e+00</td>\n",
       "      <td>4.487454e-06</td>\n",
       "    </tr>\n",
       "    <tr>\n",
       "      <th>75%</th>\n",
       "      <td>3.771265e+00</td>\n",
       "      <td>2.371679e-01</td>\n",
       "      <td>0.000000e+00</td>\n",
       "      <td>2.256267e+00</td>\n",
       "      <td>2.651747e+00</td>\n",
       "      <td>4.133940e-01</td>\n",
       "      <td>3.115461e+00</td>\n",
       "      <td>1.571243e+00</td>\n",
       "      <td>7.461343e-01</td>\n",
       "      <td>1.416852e+05</td>\n",
       "      <td>6.824688e+05</td>\n",
       "      <td>1.590387e+01</td>\n",
       "      <td>3.643209e+04</td>\n",
       "      <td>2.158321e+05</td>\n",
       "      <td>1.265224e+04</td>\n",
       "      <td>3.000000e+00</td>\n",
       "      <td>6.219316e-02</td>\n",
       "      <td>0.000000e+00</td>\n",
       "      <td>2.644231e+00</td>\n",
       "      <td>8.563076e-06</td>\n",
       "    </tr>\n",
       "    <tr>\n",
       "      <th>max</th>\n",
       "      <td>2.663229e+02</td>\n",
       "      <td>4.375860e-01</td>\n",
       "      <td>1.246841e+05</td>\n",
       "      <td>3.141591e+00</td>\n",
       "      <td>3.141592e+00</td>\n",
       "      <td>3.141593e+00</td>\n",
       "      <td>3.141593e+00</td>\n",
       "      <td>3.141584e+00</td>\n",
       "      <td>2.499999e+00</td>\n",
       "      <td>3.397636e+06</td>\n",
       "      <td>5.019984e+06</td>\n",
       "      <td>2.823775e+02</td>\n",
       "      <td>6.173285e+06</td>\n",
       "      <td>1.470684e+08</td>\n",
       "      <td>1.022158e+05</td>\n",
       "      <td>4.000000e+00</td>\n",
       "      <td>1.221239e+04</td>\n",
       "      <td>1.000000e+00</td>\n",
       "      <td>8.314374e+05</td>\n",
       "      <td>1.999992e-05</td>\n",
       "    </tr>\n",
       "  </tbody>\n",
       "</table>\n",
       "</div>"
      ],
      "text/plain": [
       "            balance  VertexBDTScore          dmet       dphi_jj  \\\n",
       "count  2.712769e+06    3.299733e+06  3.299732e+06  1.759863e+06   \n",
       "mean   3.838187e+00    1.251438e-01 -1.663472e+03  1.408597e+00   \n",
       "std    6.130255e+00    1.348625e-01  1.103691e+04  9.495103e-01   \n",
       "min    3.173358e-02   -3.265468e-01 -1.712589e+05  9.537907e-07   \n",
       "25%    1.127429e+00    8.068899e-03  0.000000e+00  5.465004e-01   \n",
       "50%    1.535997e+00    1.647640e-01  0.000000e+00  1.263772e+00   \n",
       "75%    3.771265e+00    2.371679e-01  0.000000e+00  2.256267e+00   \n",
       "max    2.663229e+02    4.375860e-01  1.246841e+05  3.141591e+00   \n",
       "\n",
       "       dphi_met_central_jet  dphi_met_phterm  dphi_phterm_jetterm  \\\n",
       "count          2.685312e+06     3.299733e+06         2.859950e+06   \n",
       "mean           1.404322e+00     4.027364e-01         2.100537e+00   \n",
       "std            1.176454e+00     6.314438e-01         1.085866e+00   \n",
       "min            1.192093e-07     0.000000e+00         0.000000e+00   \n",
       "25%            1.804473e-01     5.094965e-02         1.077754e+00   \n",
       "50%            1.257375e+00     1.503438e-01         2.536042e+00   \n",
       "75%            2.651747e+00     4.133940e-01         3.115461e+00   \n",
       "max            3.141592e+00     3.141593e+00         3.141593e+00   \n",
       "\n",
       "             ph_phi  jet_central_eta  jet_central_pt2       jetterm  \\\n",
       "count  3.299733e+06     2.712769e+06     1.759863e+06  3.299733e+06   \n",
       "mean  -2.322857e-03     1.122273e-03     1.301373e+05  5.232991e+05   \n",
       "std    1.819052e+00     1.077024e+00     1.853047e+05  7.927709e+05   \n",
       "min   -3.141592e+00    -2.499994e+00     2.000003e+04  0.000000e+00   \n",
       "25%   -1.578759e+00    -7.428238e-01     3.167094e+04  3.469025e+04   \n",
       "50%   -6.129133e-03    -1.606467e-03     6.061452e+04  1.292316e+05   \n",
       "75%    1.571243e+00     7.461343e-01     1.416852e+05  6.824688e+05   \n",
       "max    3.141584e+00     2.499999e+00     3.397636e+06  5.019984e+06   \n",
       "\n",
       "             metsig     metsigres     met_noJVT       softerm  n_jet_central  \\\n",
       "count  3.299733e+06  3.299733e+06  3.299733e+06  3.299733e+06   3.299733e+06   \n",
       "mean   1.190690e+01  2.709180e+04  1.931356e+05  9.400769e+03   1.752871e+00   \n",
       "std    1.038910e+01  2.307818e+04  1.632818e+05  5.880428e+03   1.232225e+00   \n",
       "min    2.269695e-01  8.526343e+03  2.001940e+03  0.000000e+00   0.000000e+00   \n",
       "25%    3.802686e+00  1.057160e+04  1.162434e+05  4.993511e+03   1.000000e+00   \n",
       "50%    1.024574e+01  1.767059e+04  1.473863e+05  8.329055e+03   2.000000e+00   \n",
       "75%    1.590387e+01  3.643209e+04  2.158321e+05  1.265224e+04   3.000000e+00   \n",
       "max    2.823775e+02  6.173285e+06  1.470684e+08  1.022158e+05   4.000000e+00   \n",
       "\n",
       "            weights         label        ph_eta         ph_pt  \n",
       "count  3.299733e+06  3.299733e+06  3.299733e+06  3.299733e+06  \n",
       "mean   6.196378e-01  1.390112e-03  4.619389e+00  5.638744e-06  \n",
       "std    7.645627e+00  3.725829e-02  4.657088e+02  4.934680e-06  \n",
       "min    0.000000e+00  0.000000e+00  3.966429e-01  1.995369e-07  \n",
       "25%    1.428430e-03  0.000000e+00  7.511125e-01  1.213521e-06  \n",
       "50%    1.519263e-02  0.000000e+00  1.271312e+00  4.487454e-06  \n",
       "75%    6.219316e-02  0.000000e+00  2.644231e+00  8.563076e-06  \n",
       "max    1.221239e+04  1.000000e+00  8.314374e+05  1.999992e-05  "
      ]
     },
     "metadata": {},
     "output_type": "display_data"
    },
    {
     "name": "stdout",
     "output_type": "stream",
     "text": [
      "Number of nan in each variable: \n",
      "balance                  586964\n",
      "VertexBDTScore                0\n",
      "dmet                          1\n",
      "dphi_jj                 1539870\n",
      "dphi_met_central_jet     614421\n",
      "dphi_met_phterm               0\n",
      "dphi_phterm_jetterm      439783\n",
      "ph_phi                        0\n",
      "jet_central_eta          586964\n",
      "jet_central_pt2         1539870\n",
      "jetterm                       0\n",
      "metsig                        0\n",
      "metsigres                     0\n",
      "met_noJVT                     0\n",
      "softerm                       0\n",
      "n_jet_central                 0\n",
      "weights                       0\n",
      "label                         0\n",
      "process                       0\n",
      "ph_eta                        0\n",
      "ph_pt                         0\n",
      "dtype: int64\n",
      "random number:  43\n"
     ]
    }
   ],
   "source": [
    "# === Data Perparation ===\n",
    "df_Vars2 = df[Vars2].copy()\n",
    "df_Vars3 = df[Vars3].copy()\n",
    "\n",
    "df_Vars3.replace(-999, np.nan, inplace=True)\n",
    "df_Vars3_inverted = 1 / df_Vars3.replace({0: np.nan})  # Avoid division by zero\n",
    "\n",
    "df_ml_input = pd.concat([df_Vars2, df_Vars3_inverted], axis=1)\n",
    "df_ml_input.replace(-999, np.nan, inplace=True)\n",
    "print(\"Number of event with negative weights :\", np.sum(df_ml_input.weights < 0))\n",
    "df_ml_input[\"weights\"] = df_ml_input[\"weights\"].abs() # some of the weights are negative\n",
    "\n",
    "display(df_ml_input.describe())\n",
    "\n",
    "print(\"Number of nan in each variable: \")\n",
    "print(df_ml_input.isna().sum())\n",
    "\n",
    "# Define X (features) and y (labels)\n",
    "# Vars_drop = ['weights', 'label', 'process']\n",
    "X = df_ml_input.drop(Vars_drop, axis=1)\n",
    "y = df_ml_input['label']\n",
    "weights = df_ml_input['weights']\n",
    "\n",
    "random_num = random.randint(1, 100)\n",
    "print(\"random number: \", random_num)\n",
    "\n",
    "X_train, X_test, y_train, y_test, sw_train, sw_test = train_test_split(\n",
    "    X, y, weights, test_size=0.3, random_state=random_num, stratify=y)"
   ]
  },
  {
   "cell_type": "code",
   "execution_count": 4,
   "id": "a45c1cea-f014-4321-be19-d04b3a2c49d1",
   "metadata": {},
   "outputs": [
    {
     "data": {
      "image/png": "[encoded data removed]",
      "text/plain": [
       "<Figure size 1200x1000 with 2 Axes>"
      ]
     },
     "metadata": {},
     "output_type": "display_data"
    }
   ],
   "source": [
    "corr_features = df_ml_input.drop(Vars_drop, axis=1)\n",
    "corr_matrix = corr_features.corr()\n",
    "\n",
    "# Plot correlation heatmap\n",
    "plt.figure(figsize=(12, 10))\n",
    "sns.heatmap(corr_matrix, annot=True, fmt='.2f', cmap='coolwarm', center=0, \n",
    "            square=True, linewidths=0.5, cbar_kws={\"shrink\": 0.8})\n",
    "plt.title(\"Correlation Matrix of Input Variables\")\n",
    "plt.tight_layout()\n",
    "plt.savefig(\"correlation_matrix.png\")\n",
    "plt.show()"
   ]
  },
  {
   "cell_type": "code",
   "execution_count": 9,
   "id": "f05165b3-a58a-4e1d-9145-e61a1b1f18cc",
   "metadata": {},
   "outputs": [],
   "source": [
    "# === Sweep Config ===\n",
    "sweep_config = {\n",
    "    \"method\": \"random\", # \"bayes\" or \"random\"\n",
    "    \"metric\": {\"name\": \"Test ROC AUC\", \"goal\": \"maximize\"},\n",
    "    \"parameters\": {\n",
    "        \"max_depth\": {\"min\": 3, \"max\": 10, \"distribution\": \"int_uniform\"},\n",
    "        \"learning_rate\": {\"min\": 0.0001, \"max\": 0.1},\n",
    "        \"n_estimators\": {\"min\": 100, \"max\": 900, \"distribution\": \"int_uniform\"},\n",
    "        \"subsample\": {\"min\": 0.2, \"max\": 0.8},\n",
    "        \"gamma\": {\"min\": 0.1, \"max\": 1.0}\n",
    "    }\n",
    "}\n",
    "def compute_significance(df, score_column=\"bdtscore\", cut=0.01):\n",
    "    sig = df[(df[\"label\"] == 1) & (df[score_column] >= cut)][\"weights\"].sum()\n",
    "    bkg = df[(df[\"label\"] == 0) & (df[score_column] >= cut)][\"weights\"].sum()\n",
    "    return sig / np.sqrt(bkg) if bkg > 0 else 0, sig/df[(df[\"label\"] == 1)][\"weights\"].sum()\n",
    "\n",
    "def sweep_train():\n",
    "    with wandb.init() as run:\n",
    "        config = run.config\n",
    "\n",
    "        model = XGBClassifier(\n",
    "            tree_method='hist',\n",
    "            device='cuda',\n",
    "            max_depth=config.max_depth,\n",
    "            learning_rate=config.learning_rate,\n",
    "            n_estimators=config.n_estimators,\n",
    "            subsample=config.subsample,\n",
    "            gamma=config.gamma,\n",
    "            early_stopping_rounds=10,\n",
    "            eval_metric=['logloss', 'error', 'auc'],\n",
    "            missing=np.nan,\n",
    "            random_state=random_num\n",
    "        )\n",
    "\n",
    "        model.fit(\n",
    "            X_train, y_train,\n",
    "            sample_weight=sw_train,\n",
    "            eval_set=[(X_train, y_train), (X_test, y_test)],\n",
    "            sample_weight_eval_set=[sw_train, sw_test],\n",
    "            verbose=False\n",
    "        )\n",
    "\n",
    "        y_test_pred = model.predict_proba(X_test.to_numpy())[:, 1]\n",
    "        test_auc = roc_auc_score(y_test, y_test_pred, sample_weight=sw_test)\n",
    "\n",
    "        df_tmp = df_ml_input.copy()\n",
    "        df_tmp[\"bdtscore2\"] = model.predict_proba(df_ml_input.drop(Vars_drop, axis=1))[:, 1]\n",
    "\n",
    "        best_significance = 0\n",
    "        best_acceptance = 0\n",
    "        best_cut = 0\n",
    "        for cut in np.arange(0, 0.15, 0.01):\n",
    "            sig, acc = compute_significance(df_tmp, score_column=\"bdtscore2\", cut=cut)\n",
    "            if sig > best_significance:\n",
    "                best_significance = sig\n",
    "                best_acceptance = acc\n",
    "                best_cut = cut\n",
    "\n",
    "        wandb.log({\n",
    "            \"Test ROC AUC\": test_auc,\n",
    "            \"Max S/sqrt(B)\": best_significance,\n",
    "            \"Acceptance\": best_acceptance,\n",
    "            \"bdtscore2 cut\": best_cut\n",
    "        })\n",
    "\n",
    "        results = model.evals_result()\n",
    "        train_loss = results['validation_0']['logloss']\n",
    "        test_loss = results['validation_1']['logloss']\n",
    "\n",
    "        for i, (train_l, test_l) in enumerate(zip(train_loss, test_loss)):\n",
    "            wandb.log({\n",
    "                \"train_logloss\": train_l,\n",
    "                \"test_logloss\": test_l,\n",
    "                \"iteration\": i\n",
    "            })"
   ]
  },
  {
   "cell_type": "code",
   "execution_count": 10,
   "id": "fa7625f7-0330-45e2-9195-ad3caeca1a3c",
   "metadata": {
    "scrolled": true
   },
   "outputs": [
    {
     "name": "stdout",
     "output_type": "stream",
     "text": [
      "Create sweep with ID: 4roma3zu\n",
      "Sweep URL: https://wandb.ai/dlai211/Dark_ph_BDT_Sweep/sweeps/4roma3zu\n"
     ]
    },
    {
     "name": "stderr",
     "output_type": "stream",
     "text": [
      "\u001b[34m\u001b[1mwandb\u001b[0m: Agent Starting Run: ir7s30o9 with config:\n",
      "\u001b[34m\u001b[1mwandb\u001b[0m: \tgamma: 0.7295231194016211\n",
      "\u001b[34m\u001b[1mwandb\u001b[0m: \tlearning_rate: 0.016440533666955068\n",
      "\u001b[34m\u001b[1mwandb\u001b[0m: \tmax_depth: 9\n",
      "\u001b[34m\u001b[1mwandb\u001b[0m: \tn_estimators: 522\n",
      "\u001b[34m\u001b[1mwandb\u001b[0m: \tsubsample: 0.4118730288268229\n",
      "\u001b[34m\u001b[1mwandb\u001b[0m: Currently logged in as: \u001b[33mdlai211\u001b[0m to \u001b[32mhttps://api.wandb.ai\u001b[0m. Use \u001b[1m`wandb login --relogin`\u001b[0m to force relogin\n"
     ]
    },
    {
     "data": {
      "text/html": [
       "Tracking run with wandb version 0.21.0"
      ],
      "text/plain": [
       "<IPython.core.display.HTML object>"
      ]
     },
     "metadata": {},
     "output_type": "display_data"
    },
    {
     "data": {
      "text/html": [
       "Run data is saved locally in <code>/home/jlai/ML/jet_faking/wandb/run-20250819_041147-ir7s30o9</code>"
      ],
      "text/plain": [
       "<IPython.core.display.HTML object>"
      ]
     },
     "metadata": {},
     "output_type": "display_data"
    },
    {
     "data": {
      "text/html": [
       "Syncing run <strong><a href='https://wandb.ai/dlai211/Dark_ph_BDT_Sweep/runs/ir7s30o9' target=\"_blank\">grateful-sweep-1</a></strong> to <a href='https://wandb.ai/dlai211/Dark_ph_BDT_Sweep' target=\"_blank\">Weights & Biases</a> (<a href='https://wandb.me/developer-guide' target=\"_blank\">docs</a>)<br>Sweep page: <a href='https://wandb.ai/dlai211/Dark_ph_BDT_Sweep/sweeps/4roma3zu' target=\"_blank\">https://wandb.ai/dlai211/Dark_ph_BDT_Sweep/sweeps/4roma3zu</a>"
      ],
      "text/plain": [
       "<IPython.core.display.HTML object>"
      ]
     },
     "metadata": {},
     "output_type": "display_data"
    },
    {
     "data": {
      "text/html": [
       " View project at <a href='https://wandb.ai/dlai211/Dark_ph_BDT_Sweep' target=\"_blank\">https://wandb.ai/dlai211/Dark_ph_BDT_Sweep</a>"
      ],
      "text/plain": [
       "<IPython.core.display.HTML object>"
      ]
     },
     "metadata": {},
     "output_type": "display_data"
    },
    {
     "data": {
      "text/html": [
       " View sweep at <a href='https://wandb.ai/dlai211/Dark_ph_BDT_Sweep/sweeps/4roma3zu' target=\"_blank\">https://wandb.ai/dlai211/Dark_ph_BDT_Sweep/sweeps/4roma3zu</a>"
      ],
      "text/plain": [
       "<IPython.core.display.HTML object>"
      ]
     },
     "metadata": {},
     "output_type": "display_data"
    },
    {
     "data": {
      "text/html": [
       " View run at <a href='https://wandb.ai/dlai211/Dark_ph_BDT_Sweep/runs/ir7s30o9' target=\"_blank\">https://wandb.ai/dlai211/Dark_ph_BDT_Sweep/runs/ir7s30o9</a>"
      ],
      "text/plain": [
       "<IPython.core.display.HTML object>"
      ]
     },
     "metadata": {},
     "output_type": "display_data"
    },
    {
     "name": "stderr",
     "output_type": "stream",
     "text": [
      "[04:11:57] WARNING: /workspace/src/common/error_msg.cc:58: Falling back to prediction using DMatrix due to mismatched devices. This might lead to higher memory usage and slower performance. XGBoost is running on: cuda:0, while the input data is on: cpu.\n",
      "Potential solutions:\n",
      "- Use a data structure that matches the device ordinal in the booster.\n",
      "- Set the device for booster before call to inplace_predict.\n",
      "\n",
      "This warning will only be shown once.\n",
      "\n"
     ]
    },
    {
     "data": {
      "text/html": [],
      "text/plain": [
       "<IPython.core.display.HTML object>"
      ]
     },
     "metadata": {},
     "output_type": "display_data"
    },
    {
     "data": {
      "text/html": [
       "<br>    <style><br>        .wandb-row {<br>            display: flex;<br>            flex-direction: row;<br>            flex-wrap: wrap;<br>            justify-content: flex-start;<br>            width: 100%;<br>        }<br>        .wandb-col {<br>            display: flex;<br>            flex-direction: column;<br>            flex-basis: 100%;<br>            flex: 1;<br>            padding: 10px;<br>        }<br>    </style><br><div class=\"wandb-row\"><div class=\"wandb-col\"><h3>Run history:</h3><br/><table class=\"wandb\"><tr><td>Acceptance</td><td>▁</td></tr><tr><td>Max S/sqrt(B)</td><td>▁</td></tr><tr><td>Test ROC AUC</td><td>▁</td></tr><tr><td>bdtscore2 cut</td><td>▁</td></tr><tr><td>iteration</td><td>▁▁▁▁▁▂▂▂▂▂▂▂▂▂▂▃▃▃▃▄▄▅▅▅▅▅▅▅▅▆▆▆▆▆▇▇▇▇██</td></tr><tr><td>test_logloss</td><td>█▄▄▃▃▂▂▂▂▁▁▁▁▁▁▁▁▁▁▁▁▁▁▁▁▁▁▁▁▁▁▁▁▁▁▁▁▁▁▁</td></tr><tr><td>train_logloss</td><td>█▆▆▅▃▂▂▂▂▂▂▁▁▁▁▁▁▁▁▁▁▁▁▁▁▁▁▁▁▁▁▁▁▁▁▁▁▁▁▁</td></tr></table><br/></div><div class=\"wandb-col\"><h3>Run summary:</h3><br/><table class=\"wandb\"><tr><td>Acceptance</td><td>0.40818</td></tr><tr><td>Max S/sqrt(B)</td><td>3.56287</td></tr><tr><td>Test ROC AUC</td><td>0.97587</td></tr><tr><td>bdtscore2 cut</td><td>0.03</td></tr><tr><td>iteration</td><td>521</td></tr><tr><td>test_logloss</td><td>0.00134</td></tr><tr><td>train_logloss</td><td>0.00124</td></tr></table><br/></div></div>"
      ],
      "text/plain": [
       "<IPython.core.display.HTML object>"
      ]
     },
     "metadata": {},
     "output_type": "display_data"
    },
    {
     "data": {
      "text/html": [
       " View run <strong style=\"color:#cdcd00\">grateful-sweep-1</strong> at: <a href='https://wandb.ai/dlai211/Dark_ph_BDT_Sweep/runs/ir7s30o9' target=\"_blank\">https://wandb.ai/dlai211/Dark_ph_BDT_Sweep/runs/ir7s30o9</a><br> View project at: <a href='https://wandb.ai/dlai211/Dark_ph_BDT_Sweep' target=\"_blank\">https://wandb.ai/dlai211/Dark_ph_BDT_Sweep</a><br>Synced 5 W&B file(s), 0 media file(s), 0 artifact file(s) and 0 other file(s)"
      ],
      "text/plain": [
       "<IPython.core.display.HTML object>"
      ]
     },
     "metadata": {},
     "output_type": "display_data"
    },
    {
     "data": {
      "text/html": [
       "Find logs at: <code>./wandb/run-20250819_041147-ir7s30o9/logs</code>"
      ],
      "text/plain": [
       "<IPython.core.display.HTML object>"
      ]
     },
     "metadata": {},
     "output_type": "display_data"
    },
    {
     "name": "stderr",
     "output_type": "stream",
     "text": [
      "\u001b[34m\u001b[1mwandb\u001b[0m: Agent Starting Run: 4p451twz with config:\n",
      "\u001b[34m\u001b[1mwandb\u001b[0m: \tgamma: 0.5110263956745352\n",
      "\u001b[34m\u001b[1mwandb\u001b[0m: \tlearning_rate: 0.08567303173385153\n",
      "\u001b[34m\u001b[1mwandb\u001b[0m: \tmax_depth: 10\n",
      "\u001b[34m\u001b[1mwandb\u001b[0m: \tn_estimators: 387\n",
      "\u001b[34m\u001b[1mwandb\u001b[0m: \tsubsample: 0.25465289661410395\n"
     ]
    },
    {
     "data": {
      "text/html": [
       "Tracking run with wandb version 0.21.0"
      ],
      "text/plain": [
       "<IPython.core.display.HTML object>"
      ]
     },
     "metadata": {},
     "output_type": "display_data"
    },
    {
     "data": {
      "text/html": [
       "Run data is saved locally in <code>/home/jlai/ML/jet_faking/wandb/run-20250819_041202-4p451twz</code>"
      ],
      "text/plain": [
       "<IPython.core.display.HTML object>"
      ]
     },
     "metadata": {},
     "output_type": "display_data"
    },
    {
     "data": {
      "text/html": [
       "Syncing run <strong><a href='https://wandb.ai/dlai211/Dark_ph_BDT_Sweep/runs/4p451twz' target=\"_blank\">firm-sweep-2</a></strong> to <a href='https://wandb.ai/dlai211/Dark_ph_BDT_Sweep' target=\"_blank\">Weights & Biases</a> (<a href='https://wandb.me/developer-guide' target=\"_blank\">docs</a>)<br>Sweep page: <a href='https://wandb.ai/dlai211/Dark_ph_BDT_Sweep/sweeps/4roma3zu' target=\"_blank\">https://wandb.ai/dlai211/Dark_ph_BDT_Sweep/sweeps/4roma3zu</a>"
      ],
      "text/plain": [
       "<IPython.core.display.HTML object>"
      ]
     },
     "metadata": {},
     "output_type": "display_data"
    },
    {
     "data": {
      "text/html": [
       " View project at <a href='https://wandb.ai/dlai211/Dark_ph_BDT_Sweep' target=\"_blank\">https://wandb.ai/dlai211/Dark_ph_BDT_Sweep</a>"
      ],
      "text/plain": [
       "<IPython.core.display.HTML object>"
      ]
     },
     "metadata": {},
     "output_type": "display_data"
    },
    {
     "data": {
      "text/html": [
       " View sweep at <a href='https://wandb.ai/dlai211/Dark_ph_BDT_Sweep/sweeps/4roma3zu' target=\"_blank\">https://wandb.ai/dlai211/Dark_ph_BDT_Sweep/sweeps/4roma3zu</a>"
      ],
      "text/plain": [
       "<IPython.core.display.HTML object>"
      ]
     },
     "metadata": {},
     "output_type": "display_data"
    },
    {
     "data": {
      "text/html": [
       " View run at <a href='https://wandb.ai/dlai211/Dark_ph_BDT_Sweep/runs/4p451twz' target=\"_blank\">https://wandb.ai/dlai211/Dark_ph_BDT_Sweep/runs/4p451twz</a>"
      ],
      "text/plain": [
       "<IPython.core.display.HTML object>"
      ]
     },
     "metadata": {},
     "output_type": "display_data"
    },
    {
     "data": {
      "text/html": [],
      "text/plain": [
       "<IPython.core.display.HTML object>"
      ]
     },
     "metadata": {},
     "output_type": "display_data"
    },
    {
     "data": {
      "text/html": [
       "<br>    <style><br>        .wandb-row {<br>            display: flex;<br>            flex-direction: row;<br>            flex-wrap: wrap;<br>            justify-content: flex-start;<br>            width: 100%;<br>        }<br>        .wandb-col {<br>            display: flex;<br>            flex-direction: column;<br>            flex-basis: 100%;<br>            flex: 1;<br>            padding: 10px;<br>        }<br>    </style><br><div class=\"wandb-row\"><div class=\"wandb-col\"><h3>Run history:</h3><br/><table class=\"wandb\"><tr><td>Acceptance</td><td>▁</td></tr><tr><td>Max S/sqrt(B)</td><td>▁</td></tr><tr><td>Test ROC AUC</td><td>▁</td></tr><tr><td>bdtscore2 cut</td><td>▁</td></tr><tr><td>iteration</td><td>▁▁▁▁▁▂▂▂▂▃▃▃▃▃▃▄▄▄▄▅▅▅▅▅▅▆▆▆▆▆▇▇▇▇▇▇▇███</td></tr><tr><td>test_logloss</td><td>█▅▅▃▂▂▂▁▁▁▁▁▁▁▁▁▁▁▁▁▁▁▁▁▁▁▁▁▁▁▁▁▁▁▁▁▁▁▁▁</td></tr><tr><td>train_logloss</td><td>█▅▅▅▄▃▂▂▂▂▁▁▁▁▁▁▁▁▁▁▁▁▁▁▁▁▁▁▁▁▁▁▁▁▁▁▁▁▁▁</td></tr></table><br/></div><div class=\"wandb-col\"><h3>Run summary:</h3><br/><table class=\"wandb\"><tr><td>Acceptance</td><td>0.39771</td></tr><tr><td>Max S/sqrt(B)</td><td>4.07372</td></tr><tr><td>Test ROC AUC</td><td>0.98178</td></tr><tr><td>bdtscore2 cut</td><td>0.04</td></tr><tr><td>iteration</td><td>191</td></tr><tr><td>test_logloss</td><td>0.00133</td></tr><tr><td>train_logloss</td><td>0.00114</td></tr></table><br/></div></div>"
      ],
      "text/plain": [
       "<IPython.core.display.HTML object>"
      ]
     },
     "metadata": {},
     "output_type": "display_data"
    },
    {
     "data": {
      "text/html": [
       " View run <strong style=\"color:#cdcd00\">firm-sweep-2</strong> at: <a href='https://wandb.ai/dlai211/Dark_ph_BDT_Sweep/runs/4p451twz' target=\"_blank\">https://wandb.ai/dlai211/Dark_ph_BDT_Sweep/runs/4p451twz</a><br> View project at: <a href='https://wandb.ai/dlai211/Dark_ph_BDT_Sweep' target=\"_blank\">https://wandb.ai/dlai211/Dark_ph_BDT_Sweep</a><br>Synced 5 W&B file(s), 0 media file(s), 0 artifact file(s) and 0 other file(s)"
      ],
      "text/plain": [
       "<IPython.core.display.HTML object>"
      ]
     },
     "metadata": {},
     "output_type": "display_data"
    },
    {
     "data": {
      "text/html": [
       "Find logs at: <code>./wandb/run-20250819_041202-4p451twz/logs</code>"
      ],
      "text/plain": [
       "<IPython.core.display.HTML object>"
      ]
     },
     "metadata": {},
     "output_type": "display_data"
    },
    {
     "name": "stderr",
     "output_type": "stream",
     "text": [
      "\u001b[34m\u001b[1mwandb\u001b[0m: Agent Starting Run: xleyg4sy with config:\n",
      "\u001b[34m\u001b[1mwandb\u001b[0m: \tgamma: 0.7297429379229654\n",
      "\u001b[34m\u001b[1mwandb\u001b[0m: \tlearning_rate: 0.05996951655518031\n",
      "\u001b[34m\u001b[1mwandb\u001b[0m: \tmax_depth: 6\n",
      "\u001b[34m\u001b[1mwandb\u001b[0m: \tn_estimators: 526\n",
      "\u001b[34m\u001b[1mwandb\u001b[0m: \tsubsample: 0.5849993734924908\n"
     ]
    },
    {
     "data": {
      "text/html": [
       "Tracking run with wandb version 0.21.0"
      ],
      "text/plain": [
       "<IPython.core.display.HTML object>"
      ]
     },
     "metadata": {},
     "output_type": "display_data"
    },
    {
     "data": {
      "text/html": [
       "Run data is saved locally in <code>/home/jlai/ML/jet_faking/wandb/run-20250819_041213-xleyg4sy</code>"
      ],
      "text/plain": [
       "<IPython.core.display.HTML object>"
      ]
     },
     "metadata": {},
     "output_type": "display_data"
    },
    {
     "data": {
      "text/html": [
       "Syncing run <strong><a href='https://wandb.ai/dlai211/Dark_ph_BDT_Sweep/runs/xleyg4sy' target=\"_blank\">dashing-sweep-3</a></strong> to <a href='https://wandb.ai/dlai211/Dark_ph_BDT_Sweep' target=\"_blank\">Weights & Biases</a> (<a href='https://wandb.me/developer-guide' target=\"_blank\">docs</a>)<br>Sweep page: <a href='https://wandb.ai/dlai211/Dark_ph_BDT_Sweep/sweeps/4roma3zu' target=\"_blank\">https://wandb.ai/dlai211/Dark_ph_BDT_Sweep/sweeps/4roma3zu</a>"
      ],
      "text/plain": [
       "<IPython.core.display.HTML object>"
      ]
     },
     "metadata": {},
     "output_type": "display_data"
    },
    {
     "data": {
      "text/html": [
       " View project at <a href='https://wandb.ai/dlai211/Dark_ph_BDT_Sweep' target=\"_blank\">https://wandb.ai/dlai211/Dark_ph_BDT_Sweep</a>"
      ],
      "text/plain": [
       "<IPython.core.display.HTML object>"
      ]
     },
     "metadata": {},
     "output_type": "display_data"
    },
    {
     "data": {
      "text/html": [
       " View sweep at <a href='https://wandb.ai/dlai211/Dark_ph_BDT_Sweep/sweeps/4roma3zu' target=\"_blank\">https://wandb.ai/dlai211/Dark_ph_BDT_Sweep/sweeps/4roma3zu</a>"
      ],
      "text/plain": [
       "<IPython.core.display.HTML object>"
      ]
     },
     "metadata": {},
     "output_type": "display_data"
    },
    {
     "data": {
      "text/html": [
       " View run at <a href='https://wandb.ai/dlai211/Dark_ph_BDT_Sweep/runs/xleyg4sy' target=\"_blank\">https://wandb.ai/dlai211/Dark_ph_BDT_Sweep/runs/xleyg4sy</a>"
      ],
      "text/plain": [
       "<IPython.core.display.HTML object>"
      ]
     },
     "metadata": {},
     "output_type": "display_data"
    },
    {
     "data": {
      "text/html": [],
      "text/plain": [
       "<IPython.core.display.HTML object>"
      ]
     },
     "metadata": {},
     "output_type": "display_data"
    },
    {
     "data": {
      "text/html": [
       "<br>    <style><br>        .wandb-row {<br>            display: flex;<br>            flex-direction: row;<br>            flex-wrap: wrap;<br>            justify-content: flex-start;<br>            width: 100%;<br>        }<br>        .wandb-col {<br>            display: flex;<br>            flex-direction: column;<br>            flex-basis: 100%;<br>            flex: 1;<br>            padding: 10px;<br>        }<br>    </style><br><div class=\"wandb-row\"><div class=\"wandb-col\"><h3>Run history:</h3><br/><table class=\"wandb\"><tr><td>Acceptance</td><td>▁</td></tr><tr><td>Max S/sqrt(B)</td><td>▁</td></tr><tr><td>Test ROC AUC</td><td>▁</td></tr><tr><td>bdtscore2 cut</td><td>▁</td></tr><tr><td>iteration</td><td>▁▁▂▂▂▃▃▃▄▄▄▄▄▄▄▅▅▅▅▅▅▆▆▆▆▆▆▆▆▆▆▆▇▇▇▇▇███</td></tr><tr><td>test_logloss</td><td>█▃▃▃▂▂▂▁▁▁▁▁▁▁▁▁▁▁▁▁▁▁▁▁▁▁▁▁▁▁▁▁▁▁▁▁▁▁▁▁</td></tr><tr><td>train_logloss</td><td>██▆▆▄▂▂▁▁▁▁▁▁▁▁▁▁▁▁▁▁▁▁▁▁▁▁▁▁▁▁▁▁▁▁▁▁▁▁▁</td></tr></table><br/></div><div class=\"wandb-col\"><h3>Run summary:</h3><br/><table class=\"wandb\"><tr><td>Acceptance</td><td>0.37538</td></tr><tr><td>Max S/sqrt(B)</td><td>3.69137</td></tr><tr><td>Test ROC AUC</td><td>0.98199</td></tr><tr><td>bdtscore2 cut</td><td>0.04</td></tr><tr><td>iteration</td><td>340</td></tr><tr><td>test_logloss</td><td>0.00131</td></tr><tr><td>train_logloss</td><td>0.00117</td></tr></table><br/></div></div>"
      ],
      "text/plain": [
       "<IPython.core.display.HTML object>"
      ]
     },
     "metadata": {},
     "output_type": "display_data"
    },
    {
     "data": {
      "text/html": [
       " View run <strong style=\"color:#cdcd00\">dashing-sweep-3</strong> at: <a href='https://wandb.ai/dlai211/Dark_ph_BDT_Sweep/runs/xleyg4sy' target=\"_blank\">https://wandb.ai/dlai211/Dark_ph_BDT_Sweep/runs/xleyg4sy</a><br> View project at: <a href='https://wandb.ai/dlai211/Dark_ph_BDT_Sweep' target=\"_blank\">https://wandb.ai/dlai211/Dark_ph_BDT_Sweep</a><br>Synced 5 W&B file(s), 0 media file(s), 0 artifact file(s) and 0 other file(s)"
      ],
      "text/plain": [
       "<IPython.core.display.HTML object>"
      ]
     },
     "metadata": {},
     "output_type": "display_data"
    },
    {
     "data": {
      "text/html": [
       "Find logs at: <code>./wandb/run-20250819_041213-xleyg4sy/logs</code>"
      ],
      "text/plain": [
       "<IPython.core.display.HTML object>"
      ]
     },
     "metadata": {},
     "output_type": "display_data"
    },
    {
     "name": "stderr",
     "output_type": "stream",
     "text": [
      "\u001b[34m\u001b[1mwandb\u001b[0m: Agent Starting Run: 3oq5m703 with config:\n",
      "\u001b[34m\u001b[1mwandb\u001b[0m: \tgamma: 0.5897098513453489\n",
      "\u001b[34m\u001b[1mwandb\u001b[0m: \tlearning_rate: 0.062274621082789514\n",
      "\u001b[34m\u001b[1mwandb\u001b[0m: \tmax_depth: 7\n",
      "\u001b[34m\u001b[1mwandb\u001b[0m: \tn_estimators: 108\n",
      "\u001b[34m\u001b[1mwandb\u001b[0m: \tsubsample: 0.7542408854155553\n"
     ]
    },
    {
     "data": {
      "text/html": [
       "Tracking run with wandb version 0.21.0"
      ],
      "text/plain": [
       "<IPython.core.display.HTML object>"
      ]
     },
     "metadata": {},
     "output_type": "display_data"
    },
    {
     "data": {
      "text/html": [
       "Run data is saved locally in <code>/home/jlai/ML/jet_faking/wandb/run-20250819_041228-3oq5m703</code>"
      ],
      "text/plain": [
       "<IPython.core.display.HTML object>"
      ]
     },
     "metadata": {},
     "output_type": "display_data"
    },
    {
     "data": {
      "text/html": [
       "Syncing run <strong><a href='https://wandb.ai/dlai211/Dark_ph_BDT_Sweep/runs/3oq5m703' target=\"_blank\">worldly-sweep-4</a></strong> to <a href='https://wandb.ai/dlai211/Dark_ph_BDT_Sweep' target=\"_blank\">Weights & Biases</a> (<a href='https://wandb.me/developer-guide' target=\"_blank\">docs</a>)<br>Sweep page: <a href='https://wandb.ai/dlai211/Dark_ph_BDT_Sweep/sweeps/4roma3zu' target=\"_blank\">https://wandb.ai/dlai211/Dark_ph_BDT_Sweep/sweeps/4roma3zu</a>"
      ],
      "text/plain": [
       "<IPython.core.display.HTML object>"
      ]
     },
     "metadata": {},
     "output_type": "display_data"
    },
    {
     "data": {
      "text/html": [
       " View project at <a href='https://wandb.ai/dlai211/Dark_ph_BDT_Sweep' target=\"_blank\">https://wandb.ai/dlai211/Dark_ph_BDT_Sweep</a>"
      ],
      "text/plain": [
       "<IPython.core.display.HTML object>"
      ]
     },
     "metadata": {},
     "output_type": "display_data"
    },
    {
     "data": {
      "text/html": [
       " View sweep at <a href='https://wandb.ai/dlai211/Dark_ph_BDT_Sweep/sweeps/4roma3zu' target=\"_blank\">https://wandb.ai/dlai211/Dark_ph_BDT_Sweep/sweeps/4roma3zu</a>"
      ],
      "text/plain": [
       "<IPython.core.display.HTML object>"
      ]
     },
     "metadata": {},
     "output_type": "display_data"
    },
    {
     "data": {
      "text/html": [
       " View run at <a href='https://wandb.ai/dlai211/Dark_ph_BDT_Sweep/runs/3oq5m703' target=\"_blank\">https://wandb.ai/dlai211/Dark_ph_BDT_Sweep/runs/3oq5m703</a>"
      ],
      "text/plain": [
       "<IPython.core.display.HTML object>"
      ]
     },
     "metadata": {},
     "output_type": "display_data"
    },
    {
     "data": {
      "text/html": [],
      "text/plain": [
       "<IPython.core.display.HTML object>"
      ]
     },
     "metadata": {},
     "output_type": "display_data"
    },
    {
     "data": {
      "text/html": [
       "<br>    <style><br>        .wandb-row {<br>            display: flex;<br>            flex-direction: row;<br>            flex-wrap: wrap;<br>            justify-content: flex-start;<br>            width: 100%;<br>        }<br>        .wandb-col {<br>            display: flex;<br>            flex-direction: column;<br>            flex-basis: 100%;<br>            flex: 1;<br>            padding: 10px;<br>        }<br>    </style><br><div class=\"wandb-row\"><div class=\"wandb-col\"><h3>Run history:</h3><br/><table class=\"wandb\"><tr><td>Acceptance</td><td>▁</td></tr><tr><td>Max S/sqrt(B)</td><td>▁</td></tr><tr><td>Test ROC AUC</td><td>▁</td></tr><tr><td>bdtscore2 cut</td><td>▁</td></tr><tr><td>iteration</td><td>▁▁▁▁▁▂▂▂▂▂▂▃▃▃▃▃▄▄▄▄▄▄▄▅▅▅▅▅▅▅▆▆▆▆▇▇▇▇▇█</td></tr><tr><td>test_logloss</td><td>█▇▄▄▃▂▂▂▂▂▂▂▂▁▁▁▁▁▁▁▁▁▁▁▁▁▁▁▁▁▁▁▁▁▁▁▁▁▁▁</td></tr><tr><td>train_logloss</td><td>██▇▅▅▄▄▃▃▃▃▂▂▂▂▁▁▁▁▁▁▁▁▁▁▁▁▁▁▁▁▁▁▁▁▁▁▁▁▁</td></tr></table><br/></div><div class=\"wandb-col\"><h3>Run summary:</h3><br/><table class=\"wandb\"><tr><td>Acceptance</td><td>0.39372</td></tr><tr><td>Max S/sqrt(B)</td><td>3.35697</td></tr><tr><td>Test ROC AUC</td><td>0.9679</td></tr><tr><td>bdtscore2 cut</td><td>0.03</td></tr><tr><td>iteration</td><td>107</td></tr><tr><td>test_logloss</td><td>0.00144</td></tr><tr><td>train_logloss</td><td>0.00137</td></tr></table><br/></div></div>"
      ],
      "text/plain": [
       "<IPython.core.display.HTML object>"
      ]
     },
     "metadata": {},
     "output_type": "display_data"
    },
    {
     "data": {
      "text/html": [
       " View run <strong style=\"color:#cdcd00\">worldly-sweep-4</strong> at: <a href='https://wandb.ai/dlai211/Dark_ph_BDT_Sweep/runs/3oq5m703' target=\"_blank\">https://wandb.ai/dlai211/Dark_ph_BDT_Sweep/runs/3oq5m703</a><br> View project at: <a href='https://wandb.ai/dlai211/Dark_ph_BDT_Sweep' target=\"_blank\">https://wandb.ai/dlai211/Dark_ph_BDT_Sweep</a><br>Synced 5 W&B file(s), 0 media file(s), 0 artifact file(s) and 0 other file(s)"
      ],
      "text/plain": [
       "<IPython.core.display.HTML object>"
      ]
     },
     "metadata": {},
     "output_type": "display_data"
    },
    {
     "data": {
      "text/html": [
       "Find logs at: <code>./wandb/run-20250819_041228-3oq5m703/logs</code>"
      ],
      "text/plain": [
       "<IPython.core.display.HTML object>"
      ]
     },
     "metadata": {},
     "output_type": "display_data"
    },
    {
     "name": "stderr",
     "output_type": "stream",
     "text": [
      "\u001b[34m\u001b[1mwandb\u001b[0m: Agent Starting Run: jq9068k4 with config:\n",
      "\u001b[34m\u001b[1mwandb\u001b[0m: \tgamma: 0.11262448170718772\n",
      "\u001b[34m\u001b[1mwandb\u001b[0m: \tlearning_rate: 0.0247712454377178\n",
      "\u001b[34m\u001b[1mwandb\u001b[0m: \tmax_depth: 8\n",
      "\u001b[34m\u001b[1mwandb\u001b[0m: \tn_estimators: 563\n",
      "\u001b[34m\u001b[1mwandb\u001b[0m: \tsubsample: 0.7105202078179467\n"
     ]
    },
    {
     "data": {
      "text/html": [
       "Tracking run with wandb version 0.21.0"
      ],
      "text/plain": [
       "<IPython.core.display.HTML object>"
      ]
     },
     "metadata": {},
     "output_type": "display_data"
    },
    {
     "data": {
      "text/html": [
       "Run data is saved locally in <code>/home/jlai/ML/jet_faking/wandb/run-20250819_041238-jq9068k4</code>"
      ],
      "text/plain": [
       "<IPython.core.display.HTML object>"
      ]
     },
     "metadata": {},
     "output_type": "display_data"
    },
    {
     "data": {
      "text/html": [
       "Syncing run <strong><a href='https://wandb.ai/dlai211/Dark_ph_BDT_Sweep/runs/jq9068k4' target=\"_blank\">azure-sweep-5</a></strong> to <a href='https://wandb.ai/dlai211/Dark_ph_BDT_Sweep' target=\"_blank\">Weights & Biases</a> (<a href='https://wandb.me/developer-guide' target=\"_blank\">docs</a>)<br>Sweep page: <a href='https://wandb.ai/dlai211/Dark_ph_BDT_Sweep/sweeps/4roma3zu' target=\"_blank\">https://wandb.ai/dlai211/Dark_ph_BDT_Sweep/sweeps/4roma3zu</a>"
      ],
      "text/plain": [
       "<IPython.core.display.HTML object>"
      ]
     },
     "metadata": {},
     "output_type": "display_data"
    },
    {
     "data": {
      "text/html": [
       " View project at <a href='https://wandb.ai/dlai211/Dark_ph_BDT_Sweep' target=\"_blank\">https://wandb.ai/dlai211/Dark_ph_BDT_Sweep</a>"
      ],
      "text/plain": [
       "<IPython.core.display.HTML object>"
      ]
     },
     "metadata": {},
     "output_type": "display_data"
    },
    {
     "data": {
      "text/html": [
       " View sweep at <a href='https://wandb.ai/dlai211/Dark_ph_BDT_Sweep/sweeps/4roma3zu' target=\"_blank\">https://wandb.ai/dlai211/Dark_ph_BDT_Sweep/sweeps/4roma3zu</a>"
      ],
      "text/plain": [
       "<IPython.core.display.HTML object>"
      ]
     },
     "metadata": {},
     "output_type": "display_data"
    },
    {
     "data": {
      "text/html": [
       " View run at <a href='https://wandb.ai/dlai211/Dark_ph_BDT_Sweep/runs/jq9068k4' target=\"_blank\">https://wandb.ai/dlai211/Dark_ph_BDT_Sweep/runs/jq9068k4</a>"
      ],
      "text/plain": [
       "<IPython.core.display.HTML object>"
      ]
     },
     "metadata": {},
     "output_type": "display_data"
    },
    {
     "data": {
      "text/html": [],
      "text/plain": [
       "<IPython.core.display.HTML object>"
      ]
     },
     "metadata": {},
     "output_type": "display_data"
    },
    {
     "data": {
      "text/html": [
       "<br>    <style><br>        .wandb-row {<br>            display: flex;<br>            flex-direction: row;<br>            flex-wrap: wrap;<br>            justify-content: flex-start;<br>            width: 100%;<br>        }<br>        .wandb-col {<br>            display: flex;<br>            flex-direction: column;<br>            flex-basis: 100%;<br>            flex: 1;<br>            padding: 10px;<br>        }<br>    </style><br><div class=\"wandb-row\"><div class=\"wandb-col\"><h3>Run history:</h3><br/><table class=\"wandb\"><tr><td>Acceptance</td><td>▁</td></tr><tr><td>Max S/sqrt(B)</td><td>▁</td></tr><tr><td>Test ROC AUC</td><td>▁</td></tr><tr><td>bdtscore2 cut</td><td>▁</td></tr><tr><td>iteration</td><td>▁▁▁▂▂▂▂▂▂▃▃▃▃▃▄▄▄▅▅▅▅▅▅▅▅▆▆▆▆▆▆▇▇▇▇▇▇███</td></tr><tr><td>test_logloss</td><td>█▇▅▅▅▃▃▃▃▃▂▂▂▂▂▁▁▁▁▁▁▁▁▁▁▁▁▁▁▁▁▁▁▁▁▁▁▁▁▁</td></tr><tr><td>train_logloss</td><td>██▇▇▇▅▅▅▄▄▄▄▃▃▃▃▂▂▂▂▂▁▁▁▁▁▁▁▁▁▁▁▁▁▁▁▁▁▁▁</td></tr></table><br/></div><div class=\"wandb-col\"><h3>Run summary:</h3><br/><table class=\"wandb\"><tr><td>Acceptance</td><td>0.41397</td></tr><tr><td>Max S/sqrt(B)</td><td>3.49875</td></tr><tr><td>Test ROC AUC</td><td>0.9651</td></tr><tr><td>bdtscore2 cut</td><td>0.03</td></tr><tr><td>iteration</td><td>211</td></tr><tr><td>test_logloss</td><td>0.00189</td></tr><tr><td>train_logloss</td><td>0.0018</td></tr></table><br/></div></div>"
      ],
      "text/plain": [
       "<IPython.core.display.HTML object>"
      ]
     },
     "metadata": {},
     "output_type": "display_data"
    },
    {
     "data": {
      "text/html": [
       " View run <strong style=\"color:#cdcd00\">azure-sweep-5</strong> at: <a href='https://wandb.ai/dlai211/Dark_ph_BDT_Sweep/runs/jq9068k4' target=\"_blank\">https://wandb.ai/dlai211/Dark_ph_BDT_Sweep/runs/jq9068k4</a><br> View project at: <a href='https://wandb.ai/dlai211/Dark_ph_BDT_Sweep' target=\"_blank\">https://wandb.ai/dlai211/Dark_ph_BDT_Sweep</a><br>Synced 5 W&B file(s), 0 media file(s), 0 artifact file(s) and 0 other file(s)"
      ],
      "text/plain": [
       "<IPython.core.display.HTML object>"
      ]
     },
     "metadata": {},
     "output_type": "display_data"
    },
    {
     "data": {
      "text/html": [
       "Find logs at: <code>./wandb/run-20250819_041238-jq9068k4/logs</code>"
      ],
      "text/plain": [
       "<IPython.core.display.HTML object>"
      ]
     },
     "metadata": {},
     "output_type": "display_data"
    },
    {
     "name": "stderr",
     "output_type": "stream",
     "text": [
      "\u001b[34m\u001b[1mwandb\u001b[0m: Agent Starting Run: a4f9tdc4 with config:\n",
      "\u001b[34m\u001b[1mwandb\u001b[0m: \tgamma: 0.41640495000600775\n",
      "\u001b[34m\u001b[1mwandb\u001b[0m: \tlearning_rate: 0.03578432379574722\n",
      "\u001b[34m\u001b[1mwandb\u001b[0m: \tmax_depth: 10\n",
      "\u001b[34m\u001b[1mwandb\u001b[0m: \tn_estimators: 121\n",
      "\u001b[34m\u001b[1mwandb\u001b[0m: \tsubsample: 0.5152966244560816\n"
     ]
    },
    {
     "data": {
      "text/html": [
       "Tracking run with wandb version 0.21.0"
      ],
      "text/plain": [
       "<IPython.core.display.HTML object>"
      ]
     },
     "metadata": {},
     "output_type": "display_data"
    },
    {
     "data": {
      "text/html": [
       "Run data is saved locally in <code>/home/jlai/ML/jet_faking/wandb/run-20250819_041248-a4f9tdc4</code>"
      ],
      "text/plain": [
       "<IPython.core.display.HTML object>"
      ]
     },
     "metadata": {},
     "output_type": "display_data"
    },
    {
     "data": {
      "text/html": [
       "Syncing run <strong><a href='https://wandb.ai/dlai211/Dark_ph_BDT_Sweep/runs/a4f9tdc4' target=\"_blank\">true-sweep-6</a></strong> to <a href='https://wandb.ai/dlai211/Dark_ph_BDT_Sweep' target=\"_blank\">Weights & Biases</a> (<a href='https://wandb.me/developer-guide' target=\"_blank\">docs</a>)<br>Sweep page: <a href='https://wandb.ai/dlai211/Dark_ph_BDT_Sweep/sweeps/4roma3zu' target=\"_blank\">https://wandb.ai/dlai211/Dark_ph_BDT_Sweep/sweeps/4roma3zu</a>"
      ],
      "text/plain": [
       "<IPython.core.display.HTML object>"
      ]
     },
     "metadata": {},
     "output_type": "display_data"
    },
    {
     "data": {
      "text/html": [
       " View project at <a href='https://wandb.ai/dlai211/Dark_ph_BDT_Sweep' target=\"_blank\">https://wandb.ai/dlai211/Dark_ph_BDT_Sweep</a>"
      ],
      "text/plain": [
       "<IPython.core.display.HTML object>"
      ]
     },
     "metadata": {},
     "output_type": "display_data"
    },
    {
     "data": {
      "text/html": [
       " View sweep at <a href='https://wandb.ai/dlai211/Dark_ph_BDT_Sweep/sweeps/4roma3zu' target=\"_blank\">https://wandb.ai/dlai211/Dark_ph_BDT_Sweep/sweeps/4roma3zu</a>"
      ],
      "text/plain": [
       "<IPython.core.display.HTML object>"
      ]
     },
     "metadata": {},
     "output_type": "display_data"
    },
    {
     "data": {
      "text/html": [
       " View run at <a href='https://wandb.ai/dlai211/Dark_ph_BDT_Sweep/runs/a4f9tdc4' target=\"_blank\">https://wandb.ai/dlai211/Dark_ph_BDT_Sweep/runs/a4f9tdc4</a>"
      ],
      "text/plain": [
       "<IPython.core.display.HTML object>"
      ]
     },
     "metadata": {},
     "output_type": "display_data"
    },
    {
     "data": {
      "text/html": [],
      "text/plain": [
       "<IPython.core.display.HTML object>"
      ]
     },
     "metadata": {},
     "output_type": "display_data"
    },
    {
     "data": {
      "text/html": [
       "<br>    <style><br>        .wandb-row {<br>            display: flex;<br>            flex-direction: row;<br>            flex-wrap: wrap;<br>            justify-content: flex-start;<br>            width: 100%;<br>        }<br>        .wandb-col {<br>            display: flex;<br>            flex-direction: column;<br>            flex-basis: 100%;<br>            flex: 1;<br>            padding: 10px;<br>        }<br>    </style><br><div class=\"wandb-row\"><div class=\"wandb-col\"><h3>Run history:</h3><br/><table class=\"wandb\"><tr><td>Acceptance</td><td>▁</td></tr><tr><td>Max S/sqrt(B)</td><td>▁</td></tr><tr><td>Test ROC AUC</td><td>▁</td></tr><tr><td>bdtscore2 cut</td><td>▁</td></tr><tr><td>iteration</td><td>▁▁▁▁▂▂▂▂▃▃▃▄▄▄▄▄▄▅▅▅▅▅▅▅▅▅▆▆▆▆▆▆▇▇▇▇▇▇██</td></tr><tr><td>test_logloss</td><td>██▇▇▇▅▅▅▄▄▄▄▃▃▃▃▃▃▃▂▂▂▂▂▂▂▁▁▁▁▁▁▁▁▁▁▁▁▁▁</td></tr><tr><td>train_logloss</td><td>██▆▆▅▄▄▄▄▃▃▃▃▂▂▂▂▂▂▂▂▂▁▁▁▁▁▁▁▁▁▁▁▁▁▁▁▁▁▁</td></tr></table><br/></div><div class=\"wandb-col\"><h3>Run summary:</h3><br/><table class=\"wandb\"><tr><td>Acceptance</td><td>0.40296</td></tr><tr><td>Max S/sqrt(B)</td><td>3.52527</td></tr><tr><td>Test ROC AUC</td><td>0.93138</td></tr><tr><td>bdtscore2 cut</td><td>0.03</td></tr><tr><td>iteration</td><td>120</td></tr><tr><td>test_logloss</td><td>0.0028</td></tr><tr><td>train_logloss</td><td>0.00272</td></tr></table><br/></div></div>"
      ],
      "text/plain": [
       "<IPython.core.display.HTML object>"
      ]
     },
     "metadata": {},
     "output_type": "display_data"
    },
    {
     "data": {
      "text/html": [
       " View run <strong style=\"color:#cdcd00\">true-sweep-6</strong> at: <a href='https://wandb.ai/dlai211/Dark_ph_BDT_Sweep/runs/a4f9tdc4' target=\"_blank\">https://wandb.ai/dlai211/Dark_ph_BDT_Sweep/runs/a4f9tdc4</a><br> View project at: <a href='https://wandb.ai/dlai211/Dark_ph_BDT_Sweep' target=\"_blank\">https://wandb.ai/dlai211/Dark_ph_BDT_Sweep</a><br>Synced 5 W&B file(s), 0 media file(s), 0 artifact file(s) and 0 other file(s)"
      ],
      "text/plain": [
       "<IPython.core.display.HTML object>"
      ]
     },
     "metadata": {},
     "output_type": "display_data"
    },
    {
     "data": {
      "text/html": [
       "Find logs at: <code>./wandb/run-20250819_041248-a4f9tdc4/logs</code>"
      ],
      "text/plain": [
       "<IPython.core.display.HTML object>"
      ]
     },
     "metadata": {},
     "output_type": "display_data"
    },
    {
     "name": "stderr",
     "output_type": "stream",
     "text": [
      "\u001b[34m\u001b[1mwandb\u001b[0m: Agent Starting Run: arxarpy5 with config:\n",
      "\u001b[34m\u001b[1mwandb\u001b[0m: \tgamma: 0.6971110695107021\n",
      "\u001b[34m\u001b[1mwandb\u001b[0m: \tlearning_rate: 0.09652394623143389\n",
      "\u001b[34m\u001b[1mwandb\u001b[0m: \tmax_depth: 5\n",
      "\u001b[34m\u001b[1mwandb\u001b[0m: \tn_estimators: 394\n",
      "\u001b[34m\u001b[1mwandb\u001b[0m: \tsubsample: 0.6706576862799946\n"
     ]
    },
    {
     "data": {
      "text/html": [
       "Tracking run with wandb version 0.21.0"
      ],
      "text/plain": [
       "<IPython.core.display.HTML object>"
      ]
     },
     "metadata": {},
     "output_type": "display_data"
    },
    {
     "data": {
      "text/html": [
       "Run data is saved locally in <code>/home/jlai/ML/jet_faking/wandb/run-20250819_041258-arxarpy5</code>"
      ],
      "text/plain": [
       "<IPython.core.display.HTML object>"
      ]
     },
     "metadata": {},
     "output_type": "display_data"
    },
    {
     "data": {
      "text/html": [
       "Syncing run <strong><a href='https://wandb.ai/dlai211/Dark_ph_BDT_Sweep/runs/arxarpy5' target=\"_blank\">spring-sweep-7</a></strong> to <a href='https://wandb.ai/dlai211/Dark_ph_BDT_Sweep' target=\"_blank\">Weights & Biases</a> (<a href='https://wandb.me/developer-guide' target=\"_blank\">docs</a>)<br>Sweep page: <a href='https://wandb.ai/dlai211/Dark_ph_BDT_Sweep/sweeps/4roma3zu' target=\"_blank\">https://wandb.ai/dlai211/Dark_ph_BDT_Sweep/sweeps/4roma3zu</a>"
      ],
      "text/plain": [
       "<IPython.core.display.HTML object>"
      ]
     },
     "metadata": {},
     "output_type": "display_data"
    },
    {
     "data": {
      "text/html": [
       " View project at <a href='https://wandb.ai/dlai211/Dark_ph_BDT_Sweep' target=\"_blank\">https://wandb.ai/dlai211/Dark_ph_BDT_Sweep</a>"
      ],
      "text/plain": [
       "<IPython.core.display.HTML object>"
      ]
     },
     "metadata": {},
     "output_type": "display_data"
    },
    {
     "data": {
      "text/html": [
       " View sweep at <a href='https://wandb.ai/dlai211/Dark_ph_BDT_Sweep/sweeps/4roma3zu' target=\"_blank\">https://wandb.ai/dlai211/Dark_ph_BDT_Sweep/sweeps/4roma3zu</a>"
      ],
      "text/plain": [
       "<IPython.core.display.HTML object>"
      ]
     },
     "metadata": {},
     "output_type": "display_data"
    },
    {
     "data": {
      "text/html": [
       " View run at <a href='https://wandb.ai/dlai211/Dark_ph_BDT_Sweep/runs/arxarpy5' target=\"_blank\">https://wandb.ai/dlai211/Dark_ph_BDT_Sweep/runs/arxarpy5</a>"
      ],
      "text/plain": [
       "<IPython.core.display.HTML object>"
      ]
     },
     "metadata": {},
     "output_type": "display_data"
    },
    {
     "data": {
      "text/html": [],
      "text/plain": [
       "<IPython.core.display.HTML object>"
      ]
     },
     "metadata": {},
     "output_type": "display_data"
    },
    {
     "data": {
      "text/html": [
       "<br>    <style><br>        .wandb-row {<br>            display: flex;<br>            flex-direction: row;<br>            flex-wrap: wrap;<br>            justify-content: flex-start;<br>            width: 100%;<br>        }<br>        .wandb-col {<br>            display: flex;<br>            flex-direction: column;<br>            flex-basis: 100%;<br>            flex: 1;<br>            padding: 10px;<br>        }<br>    </style><br><div class=\"wandb-row\"><div class=\"wandb-col\"><h3>Run history:</h3><br/><table class=\"wandb\"><tr><td>Acceptance</td><td>▁</td></tr><tr><td>Max S/sqrt(B)</td><td>▁</td></tr><tr><td>Test ROC AUC</td><td>▁</td></tr><tr><td>bdtscore2 cut</td><td>▁</td></tr><tr><td>iteration</td><td>▁▁▁▁▁▂▂▂▂▂▂▂▃▃▃▃▃▃▃▃▃▄▄▄▄▄▅▅▅▅▅▅▆▆▆▇▇███</td></tr><tr><td>test_logloss</td><td>█▆▃▂▂▂▁▁▁▁▁▁▁▁▁▁▁▁▁▁▁▁▁▁▁▁▁▁▁▁▁▁▁▁▁▁▁▁▁▁</td></tr><tr><td>train_logloss</td><td>█▄▄▄▄▂▂▁▁▁▁▁▁▁▁▁▁▁▁▁▁▁▁▁▁▁▁▁▁▁▁▁▁▁▁▁▁▁▁▁</td></tr></table><br/></div><div class=\"wandb-col\"><h3>Run summary:</h3><br/><table class=\"wandb\"><tr><td>Acceptance</td><td>0.44125</td></tr><tr><td>Max S/sqrt(B)</td><td>3.56671</td></tr><tr><td>Test ROC AUC</td><td>0.98192</td></tr><tr><td>bdtscore2 cut</td><td>0.03</td></tr><tr><td>iteration</td><td>234</td></tr><tr><td>test_logloss</td><td>0.00131</td></tr><tr><td>train_logloss</td><td>0.00118</td></tr></table><br/></div></div>"
      ],
      "text/plain": [
       "<IPython.core.display.HTML object>"
      ]
     },
     "metadata": {},
     "output_type": "display_data"
    },
    {
     "data": {
      "text/html": [
       " View run <strong style=\"color:#cdcd00\">spring-sweep-7</strong> at: <a href='https://wandb.ai/dlai211/Dark_ph_BDT_Sweep/runs/arxarpy5' target=\"_blank\">https://wandb.ai/dlai211/Dark_ph_BDT_Sweep/runs/arxarpy5</a><br> View project at: <a href='https://wandb.ai/dlai211/Dark_ph_BDT_Sweep' target=\"_blank\">https://wandb.ai/dlai211/Dark_ph_BDT_Sweep</a><br>Synced 5 W&B file(s), 0 media file(s), 0 artifact file(s) and 0 other file(s)"
      ],
      "text/plain": [
       "<IPython.core.display.HTML object>"
      ]
     },
     "metadata": {},
     "output_type": "display_data"
    },
    {
     "data": {
      "text/html": [
       "Find logs at: <code>./wandb/run-20250819_041258-arxarpy5/logs</code>"
      ],
      "text/plain": [
       "<IPython.core.display.HTML object>"
      ]
     },
     "metadata": {},
     "output_type": "display_data"
    },
    {
     "name": "stderr",
     "output_type": "stream",
     "text": [
      "\u001b[34m\u001b[1mwandb\u001b[0m: Agent Starting Run: 44xplgn8 with config:\n",
      "\u001b[34m\u001b[1mwandb\u001b[0m: \tgamma: 0.14856410149796925\n",
      "\u001b[34m\u001b[1mwandb\u001b[0m: \tlearning_rate: 0.027346262841852504\n",
      "\u001b[34m\u001b[1mwandb\u001b[0m: \tmax_depth: 6\n",
      "\u001b[34m\u001b[1mwandb\u001b[0m: \tn_estimators: 407\n",
      "\u001b[34m\u001b[1mwandb\u001b[0m: \tsubsample: 0.4424151975219636\n"
     ]
    },
    {
     "data": {
      "text/html": [
       "Tracking run with wandb version 0.21.0"
      ],
      "text/plain": [
       "<IPython.core.display.HTML object>"
      ]
     },
     "metadata": {},
     "output_type": "display_data"
    },
    {
     "data": {
      "text/html": [
       "Run data is saved locally in <code>/home/jlai/ML/jet_faking/wandb/run-20250819_041314-44xplgn8</code>"
      ],
      "text/plain": [
       "<IPython.core.display.HTML object>"
      ]
     },
     "metadata": {},
     "output_type": "display_data"
    },
    {
     "data": {
      "text/html": [
       "Syncing run <strong><a href='https://wandb.ai/dlai211/Dark_ph_BDT_Sweep/runs/44xplgn8' target=\"_blank\">bright-sweep-8</a></strong> to <a href='https://wandb.ai/dlai211/Dark_ph_BDT_Sweep' target=\"_blank\">Weights & Biases</a> (<a href='https://wandb.me/developer-guide' target=\"_blank\">docs</a>)<br>Sweep page: <a href='https://wandb.ai/dlai211/Dark_ph_BDT_Sweep/sweeps/4roma3zu' target=\"_blank\">https://wandb.ai/dlai211/Dark_ph_BDT_Sweep/sweeps/4roma3zu</a>"
      ],
      "text/plain": [
       "<IPython.core.display.HTML object>"
      ]
     },
     "metadata": {},
     "output_type": "display_data"
    },
    {
     "data": {
      "text/html": [
       " View project at <a href='https://wandb.ai/dlai211/Dark_ph_BDT_Sweep' target=\"_blank\">https://wandb.ai/dlai211/Dark_ph_BDT_Sweep</a>"
      ],
      "text/plain": [
       "<IPython.core.display.HTML object>"
      ]
     },
     "metadata": {},
     "output_type": "display_data"
    },
    {
     "data": {
      "text/html": [
       " View sweep at <a href='https://wandb.ai/dlai211/Dark_ph_BDT_Sweep/sweeps/4roma3zu' target=\"_blank\">https://wandb.ai/dlai211/Dark_ph_BDT_Sweep/sweeps/4roma3zu</a>"
      ],
      "text/plain": [
       "<IPython.core.display.HTML object>"
      ]
     },
     "metadata": {},
     "output_type": "display_data"
    },
    {
     "data": {
      "text/html": [
       " View run at <a href='https://wandb.ai/dlai211/Dark_ph_BDT_Sweep/runs/44xplgn8' target=\"_blank\">https://wandb.ai/dlai211/Dark_ph_BDT_Sweep/runs/44xplgn8</a>"
      ],
      "text/plain": [
       "<IPython.core.display.HTML object>"
      ]
     },
     "metadata": {},
     "output_type": "display_data"
    },
    {
     "data": {
      "text/html": [],
      "text/plain": [
       "<IPython.core.display.HTML object>"
      ]
     },
     "metadata": {},
     "output_type": "display_data"
    },
    {
     "data": {
      "text/html": [
       "<br>    <style><br>        .wandb-row {<br>            display: flex;<br>            flex-direction: row;<br>            flex-wrap: wrap;<br>            justify-content: flex-start;<br>            width: 100%;<br>        }<br>        .wandb-col {<br>            display: flex;<br>            flex-direction: column;<br>            flex-basis: 100%;<br>            flex: 1;<br>            padding: 10px;<br>        }<br>    </style><br><div class=\"wandb-row\"><div class=\"wandb-col\"><h3>Run history:</h3><br/><table class=\"wandb\"><tr><td>Acceptance</td><td>▁</td></tr><tr><td>Max S/sqrt(B)</td><td>▁</td></tr><tr><td>Test ROC AUC</td><td>▁</td></tr><tr><td>bdtscore2 cut</td><td>▁</td></tr><tr><td>iteration</td><td>▁▁▁▁▁▁▂▂▂▂▂▃▃▃▃▃▃▄▄▄▄▄▄▄▄▅▅▅▅▅▆▆▆▆▆▇▇▇▇█</td></tr><tr><td>test_logloss</td><td>██▇▆▆▅▅▅▄▄▄▃▃▃▃▂▂▂▂▂▂▁▁▁▁▁▁▁▁▁▁▁▁▁▁▁▁▁▁▁</td></tr><tr><td>train_logloss</td><td>██▇▇▆▅▅▄▄▄▃▃▃▃▃▂▂▂▂▂▂▂▂▂▂▁▁▁▁▁▁▁▁▁▁▁▁▁▁▁</td></tr></table><br/></div><div class=\"wandb-col\"><h3>Run summary:</h3><br/><table class=\"wandb\"><tr><td>Acceptance</td><td>0.37326</td></tr><tr><td>Max S/sqrt(B)</td><td>3.2422</td></tr><tr><td>Test ROC AUC</td><td>0.95938</td></tr><tr><td>bdtscore2 cut</td><td>0.03</td></tr><tr><td>iteration</td><td>207</td></tr><tr><td>test_logloss</td><td>0.00169</td></tr><tr><td>train_logloss</td><td>0.00163</td></tr></table><br/></div></div>"
      ],
      "text/plain": [
       "<IPython.core.display.HTML object>"
      ]
     },
     "metadata": {},
     "output_type": "display_data"
    },
    {
     "data": {
      "text/html": [
       " View run <strong style=\"color:#cdcd00\">bright-sweep-8</strong> at: <a href='https://wandb.ai/dlai211/Dark_ph_BDT_Sweep/runs/44xplgn8' target=\"_blank\">https://wandb.ai/dlai211/Dark_ph_BDT_Sweep/runs/44xplgn8</a><br> View project at: <a href='https://wandb.ai/dlai211/Dark_ph_BDT_Sweep' target=\"_blank\">https://wandb.ai/dlai211/Dark_ph_BDT_Sweep</a><br>Synced 5 W&B file(s), 0 media file(s), 0 artifact file(s) and 0 other file(s)"
      ],
      "text/plain": [
       "<IPython.core.display.HTML object>"
      ]
     },
     "metadata": {},
     "output_type": "display_data"
    },
    {
     "data": {
      "text/html": [
       "Find logs at: <code>./wandb/run-20250819_041314-44xplgn8/logs</code>"
      ],
      "text/plain": [
       "<IPython.core.display.HTML object>"
      ]
     },
     "metadata": {},
     "output_type": "display_data"
    },
    {
     "name": "stderr",
     "output_type": "stream",
     "text": [
      "\u001b[34m\u001b[1mwandb\u001b[0m: Agent Starting Run: ptbm4y5r with config:\n",
      "\u001b[34m\u001b[1mwandb\u001b[0m: \tgamma: 0.7545162530968177\n",
      "\u001b[34m\u001b[1mwandb\u001b[0m: \tlearning_rate: 0.08407313779759155\n",
      "\u001b[34m\u001b[1mwandb\u001b[0m: \tmax_depth: 10\n",
      "\u001b[34m\u001b[1mwandb\u001b[0m: \tn_estimators: 589\n",
      "\u001b[34m\u001b[1mwandb\u001b[0m: \tsubsample: 0.4629394415337328\n"
     ]
    },
    {
     "data": {
      "text/html": [
       "Tracking run with wandb version 0.21.0"
      ],
      "text/plain": [
       "<IPython.core.display.HTML object>"
      ]
     },
     "metadata": {},
     "output_type": "display_data"
    },
    {
     "data": {
      "text/html": [
       "Run data is saved locally in <code>/home/jlai/ML/jet_faking/wandb/run-20250819_041324-ptbm4y5r</code>"
      ],
      "text/plain": [
       "<IPython.core.display.HTML object>"
      ]
     },
     "metadata": {},
     "output_type": "display_data"
    },
    {
     "data": {
      "text/html": [
       "Syncing run <strong><a href='https://wandb.ai/dlai211/Dark_ph_BDT_Sweep/runs/ptbm4y5r' target=\"_blank\">driven-sweep-9</a></strong> to <a href='https://wandb.ai/dlai211/Dark_ph_BDT_Sweep' target=\"_blank\">Weights & Biases</a> (<a href='https://wandb.me/developer-guide' target=\"_blank\">docs</a>)<br>Sweep page: <a href='https://wandb.ai/dlai211/Dark_ph_BDT_Sweep/sweeps/4roma3zu' target=\"_blank\">https://wandb.ai/dlai211/Dark_ph_BDT_Sweep/sweeps/4roma3zu</a>"
      ],
      "text/plain": [
       "<IPython.core.display.HTML object>"
      ]
     },
     "metadata": {},
     "output_type": "display_data"
    },
    {
     "data": {
      "text/html": [
       " View project at <a href='https://wandb.ai/dlai211/Dark_ph_BDT_Sweep' target=\"_blank\">https://wandb.ai/dlai211/Dark_ph_BDT_Sweep</a>"
      ],
      "text/plain": [
       "<IPython.core.display.HTML object>"
      ]
     },
     "metadata": {},
     "output_type": "display_data"
    },
    {
     "data": {
      "text/html": [
       " View sweep at <a href='https://wandb.ai/dlai211/Dark_ph_BDT_Sweep/sweeps/4roma3zu' target=\"_blank\">https://wandb.ai/dlai211/Dark_ph_BDT_Sweep/sweeps/4roma3zu</a>"
      ],
      "text/plain": [
       "<IPython.core.display.HTML object>"
      ]
     },
     "metadata": {},
     "output_type": "display_data"
    },
    {
     "data": {
      "text/html": [
       " View run at <a href='https://wandb.ai/dlai211/Dark_ph_BDT_Sweep/runs/ptbm4y5r' target=\"_blank\">https://wandb.ai/dlai211/Dark_ph_BDT_Sweep/runs/ptbm4y5r</a>"
      ],
      "text/plain": [
       "<IPython.core.display.HTML object>"
      ]
     },
     "metadata": {},
     "output_type": "display_data"
    },
    {
     "data": {
      "text/html": [],
      "text/plain": [
       "<IPython.core.display.HTML object>"
      ]
     },
     "metadata": {},
     "output_type": "display_data"
    },
    {
     "data": {
      "text/html": [
       "<br>    <style><br>        .wandb-row {<br>            display: flex;<br>            flex-direction: row;<br>            flex-wrap: wrap;<br>            justify-content: flex-start;<br>            width: 100%;<br>        }<br>        .wandb-col {<br>            display: flex;<br>            flex-direction: column;<br>            flex-basis: 100%;<br>            flex: 1;<br>            padding: 10px;<br>        }<br>    </style><br><div class=\"wandb-row\"><div class=\"wandb-col\"><h3>Run history:</h3><br/><table class=\"wandb\"><tr><td>Acceptance</td><td>▁</td></tr><tr><td>Max S/sqrt(B)</td><td>▁</td></tr><tr><td>Test ROC AUC</td><td>▁</td></tr><tr><td>bdtscore2 cut</td><td>▁</td></tr><tr><td>iteration</td><td>▁▁▁▁▂▂▂▂▂▂▃▃▃▃▃▄▄▄▄▄▄▄▅▅▅▆▆▆▆▆▆▇▇▇▇█████</td></tr><tr><td>test_logloss</td><td>█▆▆▅▅▂▁▁▁▁▁▁▁▁▁▁▁▁▁▁▁▁▁▁▁▁▁▁▁▁▁▁▁▁▁▁▁▁▁▁</td></tr><tr><td>train_logloss</td><td>█▇▆▂▂▁▁▁▁▁▁▁▁▁▁▁▁▁▁▁▁▁▁▁▁▁▁▁▁▁▁▁▁▁▁▁▁▁▁▁</td></tr></table><br/></div><div class=\"wandb-col\"><h3>Run summary:</h3><br/><table class=\"wandb\"><tr><td>Acceptance</td><td>0.2936</td></tr><tr><td>Max S/sqrt(B)</td><td>3.9735</td></tr><tr><td>Test ROC AUC</td><td>0.9821</td></tr><tr><td>bdtscore2 cut</td><td>0.06</td></tr><tr><td>iteration</td><td>263</td></tr><tr><td>test_logloss</td><td>0.00132</td></tr><tr><td>train_logloss</td><td>0.00114</td></tr></table><br/></div></div>"
      ],
      "text/plain": [
       "<IPython.core.display.HTML object>"
      ]
     },
     "metadata": {},
     "output_type": "display_data"
    },
    {
     "data": {
      "text/html": [
       " View run <strong style=\"color:#cdcd00\">driven-sweep-9</strong> at: <a href='https://wandb.ai/dlai211/Dark_ph_BDT_Sweep/runs/ptbm4y5r' target=\"_blank\">https://wandb.ai/dlai211/Dark_ph_BDT_Sweep/runs/ptbm4y5r</a><br> View project at: <a href='https://wandb.ai/dlai211/Dark_ph_BDT_Sweep' target=\"_blank\">https://wandb.ai/dlai211/Dark_ph_BDT_Sweep</a><br>Synced 5 W&B file(s), 0 media file(s), 0 artifact file(s) and 0 other file(s)"
      ],
      "text/plain": [
       "<IPython.core.display.HTML object>"
      ]
     },
     "metadata": {},
     "output_type": "display_data"
    },
    {
     "data": {
      "text/html": [
       "Find logs at: <code>./wandb/run-20250819_041324-ptbm4y5r/logs</code>"
      ],
      "text/plain": [
       "<IPython.core.display.HTML object>"
      ]
     },
     "metadata": {},
     "output_type": "display_data"
    },
    {
     "name": "stderr",
     "output_type": "stream",
     "text": [
      "\u001b[34m\u001b[1mwandb\u001b[0m: Sweep Agent: Waiting for job.\n",
      "\u001b[34m\u001b[1mwandb\u001b[0m: Job received.\n",
      "\u001b[34m\u001b[1mwandb\u001b[0m: Agent Starting Run: 498l50io with config:\n",
      "\u001b[34m\u001b[1mwandb\u001b[0m: \tgamma: 0.8448439187245426\n",
      "\u001b[34m\u001b[1mwandb\u001b[0m: \tlearning_rate: 0.005290983368683429\n",
      "\u001b[34m\u001b[1mwandb\u001b[0m: \tmax_depth: 5\n",
      "\u001b[34m\u001b[1mwandb\u001b[0m: \tn_estimators: 164\n",
      "\u001b[34m\u001b[1mwandb\u001b[0m: \tsubsample: 0.6399570631623249\n"
     ]
    },
    {
     "data": {
      "text/html": [
       "Tracking run with wandb version 0.21.0"
      ],
      "text/plain": [
       "<IPython.core.display.HTML object>"
      ]
     },
     "metadata": {},
     "output_type": "display_data"
    },
    {
     "data": {
      "text/html": [
       "Run data is saved locally in <code>/home/jlai/ML/jet_faking/wandb/run-20250819_041345-498l50io</code>"
      ],
      "text/plain": [
       "<IPython.core.display.HTML object>"
      ]
     },
     "metadata": {},
     "output_type": "display_data"
    },
    {
     "data": {
      "text/html": [
       "Syncing run <strong><a href='https://wandb.ai/dlai211/Dark_ph_BDT_Sweep/runs/498l50io' target=\"_blank\">deft-sweep-10</a></strong> to <a href='https://wandb.ai/dlai211/Dark_ph_BDT_Sweep' target=\"_blank\">Weights & Biases</a> (<a href='https://wandb.me/developer-guide' target=\"_blank\">docs</a>)<br>Sweep page: <a href='https://wandb.ai/dlai211/Dark_ph_BDT_Sweep/sweeps/4roma3zu' target=\"_blank\">https://wandb.ai/dlai211/Dark_ph_BDT_Sweep/sweeps/4roma3zu</a>"
      ],
      "text/plain": [
       "<IPython.core.display.HTML object>"
      ]
     },
     "metadata": {},
     "output_type": "display_data"
    },
    {
     "data": {
      "text/html": [
       " View project at <a href='https://wandb.ai/dlai211/Dark_ph_BDT_Sweep' target=\"_blank\">https://wandb.ai/dlai211/Dark_ph_BDT_Sweep</a>"
      ],
      "text/plain": [
       "<IPython.core.display.HTML object>"
      ]
     },
     "metadata": {},
     "output_type": "display_data"
    },
    {
     "data": {
      "text/html": [
       " View sweep at <a href='https://wandb.ai/dlai211/Dark_ph_BDT_Sweep/sweeps/4roma3zu' target=\"_blank\">https://wandb.ai/dlai211/Dark_ph_BDT_Sweep/sweeps/4roma3zu</a>"
      ],
      "text/plain": [
       "<IPython.core.display.HTML object>"
      ]
     },
     "metadata": {},
     "output_type": "display_data"
    },
    {
     "data": {
      "text/html": [
       " View run at <a href='https://wandb.ai/dlai211/Dark_ph_BDT_Sweep/runs/498l50io' target=\"_blank\">https://wandb.ai/dlai211/Dark_ph_BDT_Sweep/runs/498l50io</a>"
      ],
      "text/plain": [
       "<IPython.core.display.HTML object>"
      ]
     },
     "metadata": {},
     "output_type": "display_data"
    },
    {
     "data": {
      "text/html": [],
      "text/plain": [
       "<IPython.core.display.HTML object>"
      ]
     },
     "metadata": {},
     "output_type": "display_data"
    },
    {
     "data": {
      "text/html": [
       "<br>    <style><br>        .wandb-row {<br>            display: flex;<br>            flex-direction: row;<br>            flex-wrap: wrap;<br>            justify-content: flex-start;<br>            width: 100%;<br>        }<br>        .wandb-col {<br>            display: flex;<br>            flex-direction: column;<br>            flex-basis: 100%;<br>            flex: 1;<br>            padding: 10px;<br>        }<br>    </style><br><div class=\"wandb-row\"><div class=\"wandb-col\"><h3>Run history:</h3><br/><table class=\"wandb\"><tr><td>Acceptance</td><td>▁</td></tr><tr><td>Max S/sqrt(B)</td><td>▁</td></tr><tr><td>Test ROC AUC</td><td>▁</td></tr><tr><td>bdtscore2 cut</td><td>▁</td></tr><tr><td>iteration</td><td>▁▁▁▁▂▂▂▂▂▃▃▃▃▃▄▄▄▄▄▄▅▅▅▅▅▅▆▆▆▆▆▇▇▇▇▇████</td></tr><tr><td>test_logloss</td><td>███▇▇▇▇▇▆▆▆▆▆▆▅▅▅▅▅▄▄▄▄▄▃▃▃▃▃▃▂▂▂▂▂▂▁▁▁▁</td></tr><tr><td>train_logloss</td><td>███▇▇▇▇▇▆▆▆▆▆▆▅▅▅▅▅▄▄▄▄▄▃▃▃▃▃▃▂▂▂▂▂▂▁▁▁▁</td></tr></table><br/></div><div class=\"wandb-col\"><h3>Run summary:</h3><br/><table class=\"wandb\"><tr><td>Acceptance</td><td>0.47028</td></tr><tr><td>Max S/sqrt(B)</td><td>2.25866</td></tr><tr><td>Test ROC AUC</td><td>0.82204</td></tr><tr><td>bdtscore2 cut</td><td>0.1</td></tr><tr><td>iteration</td><td>45</td></tr><tr><td>test_logloss</td><td>0.09875</td></tr><tr><td>train_logloss</td><td>0.09874</td></tr></table><br/></div></div>"
      ],
      "text/plain": [
       "<IPython.core.display.HTML object>"
      ]
     },
     "metadata": {},
     "output_type": "display_data"
    },
    {
     "data": {
      "text/html": [
       " View run <strong style=\"color:#cdcd00\">deft-sweep-10</strong> at: <a href='https://wandb.ai/dlai211/Dark_ph_BDT_Sweep/runs/498l50io' target=\"_blank\">https://wandb.ai/dlai211/Dark_ph_BDT_Sweep/runs/498l50io</a><br> View project at: <a href='https://wandb.ai/dlai211/Dark_ph_BDT_Sweep' target=\"_blank\">https://wandb.ai/dlai211/Dark_ph_BDT_Sweep</a><br>Synced 5 W&B file(s), 0 media file(s), 0 artifact file(s) and 0 other file(s)"
      ],
      "text/plain": [
       "<IPython.core.display.HTML object>"
      ]
     },
     "metadata": {},
     "output_type": "display_data"
    },
    {
     "data": {
      "text/html": [
       "Find logs at: <code>./wandb/run-20250819_041345-498l50io/logs</code>"
      ],
      "text/plain": [
       "<IPython.core.display.HTML object>"
      ]
     },
     "metadata": {},
     "output_type": "display_data"
    },
    {
     "name": "stderr",
     "output_type": "stream",
     "text": [
      "\u001b[34m\u001b[1mwandb\u001b[0m: Agent Starting Run: jls0vone with config:\n",
      "\u001b[34m\u001b[1mwandb\u001b[0m: \tgamma: 0.32484279275714967\n",
      "\u001b[34m\u001b[1mwandb\u001b[0m: \tlearning_rate: 0.03408890146927908\n",
      "\u001b[34m\u001b[1mwandb\u001b[0m: \tmax_depth: 3\n",
      "\u001b[34m\u001b[1mwandb\u001b[0m: \tn_estimators: 717\n",
      "\u001b[34m\u001b[1mwandb\u001b[0m: \tsubsample: 0.598039089685586\n"
     ]
    },
    {
     "data": {
      "text/html": [
       "Tracking run with wandb version 0.21.0"
      ],
      "text/plain": [
       "<IPython.core.display.HTML object>"
      ]
     },
     "metadata": {},
     "output_type": "display_data"
    },
    {
     "data": {
      "text/html": [
       "Run data is saved locally in <code>/home/jlai/ML/jet_faking/wandb/run-20250819_041355-jls0vone</code>"
      ],
      "text/plain": [
       "<IPython.core.display.HTML object>"
      ]
     },
     "metadata": {},
     "output_type": "display_data"
    },
    {
     "data": {
      "text/html": [
       "Syncing run <strong><a href='https://wandb.ai/dlai211/Dark_ph_BDT_Sweep/runs/jls0vone' target=\"_blank\">absurd-sweep-11</a></strong> to <a href='https://wandb.ai/dlai211/Dark_ph_BDT_Sweep' target=\"_blank\">Weights & Biases</a> (<a href='https://wandb.me/developer-guide' target=\"_blank\">docs</a>)<br>Sweep page: <a href='https://wandb.ai/dlai211/Dark_ph_BDT_Sweep/sweeps/4roma3zu' target=\"_blank\">https://wandb.ai/dlai211/Dark_ph_BDT_Sweep/sweeps/4roma3zu</a>"
      ],
      "text/plain": [
       "<IPython.core.display.HTML object>"
      ]
     },
     "metadata": {},
     "output_type": "display_data"
    },
    {
     "data": {
      "text/html": [
       " View project at <a href='https://wandb.ai/dlai211/Dark_ph_BDT_Sweep' target=\"_blank\">https://wandb.ai/dlai211/Dark_ph_BDT_Sweep</a>"
      ],
      "text/plain": [
       "<IPython.core.display.HTML object>"
      ]
     },
     "metadata": {},
     "output_type": "display_data"
    },
    {
     "data": {
      "text/html": [
       " View sweep at <a href='https://wandb.ai/dlai211/Dark_ph_BDT_Sweep/sweeps/4roma3zu' target=\"_blank\">https://wandb.ai/dlai211/Dark_ph_BDT_Sweep/sweeps/4roma3zu</a>"
      ],
      "text/plain": [
       "<IPython.core.display.HTML object>"
      ]
     },
     "metadata": {},
     "output_type": "display_data"
    },
    {
     "data": {
      "text/html": [
       " View run at <a href='https://wandb.ai/dlai211/Dark_ph_BDT_Sweep/runs/jls0vone' target=\"_blank\">https://wandb.ai/dlai211/Dark_ph_BDT_Sweep/runs/jls0vone</a>"
      ],
      "text/plain": [
       "<IPython.core.display.HTML object>"
      ]
     },
     "metadata": {},
     "output_type": "display_data"
    },
    {
     "data": {
      "text/html": [],
      "text/plain": [
       "<IPython.core.display.HTML object>"
      ]
     },
     "metadata": {},
     "output_type": "display_data"
    },
    {
     "data": {
      "text/html": [
       "<br>    <style><br>        .wandb-row {<br>            display: flex;<br>            flex-direction: row;<br>            flex-wrap: wrap;<br>            justify-content: flex-start;<br>            width: 100%;<br>        }<br>        .wandb-col {<br>            display: flex;<br>            flex-direction: column;<br>            flex-basis: 100%;<br>            flex: 1;<br>            padding: 10px;<br>        }<br>    </style><br><div class=\"wandb-row\"><div class=\"wandb-col\"><h3>Run history:</h3><br/><table class=\"wandb\"><tr><td>Acceptance</td><td>▁</td></tr><tr><td>Max S/sqrt(B)</td><td>▁</td></tr><tr><td>Test ROC AUC</td><td>▁</td></tr><tr><td>bdtscore2 cut</td><td>▁</td></tr><tr><td>iteration</td><td>▁▁▁▂▂▂▂▂▃▃▄▄▄▄▄▄▄▅▅▅▅▅▅▅▆▆▆▆▆▇▇▇▇▇▇▇████</td></tr><tr><td>test_logloss</td><td>█▆▅▄▄▃▃▂▂▁▁▁▁▁▁▁▁▁▁▁▁▁▁▁▁▁▁▁▁▁▁▁▁▁▁▁▁▁▁▁</td></tr><tr><td>train_logloss</td><td>█▄▄▃▂▁▁▁▁▁▁▁▁▁▁▁▁▁▁▁▁▁▁▁▁▁▁▁▁▁▁▁▁▁▁▁▁▁▁▁</td></tr></table><br/></div><div class=\"wandb-col\"><h3>Run summary:</h3><br/><table class=\"wandb\"><tr><td>Acceptance</td><td>0.40133</td></tr><tr><td>Max S/sqrt(B)</td><td>3.37598</td></tr><tr><td>Test ROC AUC</td><td>0.98139</td></tr><tr><td>bdtscore2 cut</td><td>0.03</td></tr><tr><td>iteration</td><td>617</td></tr><tr><td>test_logloss</td><td>0.0013</td></tr><tr><td>train_logloss</td><td>0.00123</td></tr></table><br/></div></div>"
      ],
      "text/plain": [
       "<IPython.core.display.HTML object>"
      ]
     },
     "metadata": {},
     "output_type": "display_data"
    },
    {
     "data": {
      "text/html": [
       " View run <strong style=\"color:#cdcd00\">absurd-sweep-11</strong> at: <a href='https://wandb.ai/dlai211/Dark_ph_BDT_Sweep/runs/jls0vone' target=\"_blank\">https://wandb.ai/dlai211/Dark_ph_BDT_Sweep/runs/jls0vone</a><br> View project at: <a href='https://wandb.ai/dlai211/Dark_ph_BDT_Sweep' target=\"_blank\">https://wandb.ai/dlai211/Dark_ph_BDT_Sweep</a><br>Synced 5 W&B file(s), 0 media file(s), 0 artifact file(s) and 0 other file(s)"
      ],
      "text/plain": [
       "<IPython.core.display.HTML object>"
      ]
     },
     "metadata": {},
     "output_type": "display_data"
    },
    {
     "data": {
      "text/html": [
       "Find logs at: <code>./wandb/run-20250819_041355-jls0vone/logs</code>"
      ],
      "text/plain": [
       "<IPython.core.display.HTML object>"
      ]
     },
     "metadata": {},
     "output_type": "display_data"
    },
    {
     "name": "stderr",
     "output_type": "stream",
     "text": [
      "\u001b[34m\u001b[1mwandb\u001b[0m: Agent Starting Run: y1iinxfs with config:\n",
      "\u001b[34m\u001b[1mwandb\u001b[0m: \tgamma: 0.9679131243570812\n",
      "\u001b[34m\u001b[1mwandb\u001b[0m: \tlearning_rate: 0.021863316132388805\n",
      "\u001b[34m\u001b[1mwandb\u001b[0m: \tmax_depth: 8\n",
      "\u001b[34m\u001b[1mwandb\u001b[0m: \tn_estimators: 196\n",
      "\u001b[34m\u001b[1mwandb\u001b[0m: \tsubsample: 0.4629470608075296\n"
     ]
    },
    {
     "data": {
      "text/html": [
       "Tracking run with wandb version 0.21.0"
      ],
      "text/plain": [
       "<IPython.core.display.HTML object>"
      ]
     },
     "metadata": {},
     "output_type": "display_data"
    },
    {
     "data": {
      "text/html": [
       "Run data is saved locally in <code>/home/jlai/ML/jet_faking/wandb/run-20250819_041410-y1iinxfs</code>"
      ],
      "text/plain": [
       "<IPython.core.display.HTML object>"
      ]
     },
     "metadata": {},
     "output_type": "display_data"
    },
    {
     "data": {
      "text/html": [
       "Syncing run <strong><a href='https://wandb.ai/dlai211/Dark_ph_BDT_Sweep/runs/y1iinxfs' target=\"_blank\">sweepy-sweep-12</a></strong> to <a href='https://wandb.ai/dlai211/Dark_ph_BDT_Sweep' target=\"_blank\">Weights & Biases</a> (<a href='https://wandb.me/developer-guide' target=\"_blank\">docs</a>)<br>Sweep page: <a href='https://wandb.ai/dlai211/Dark_ph_BDT_Sweep/sweeps/4roma3zu' target=\"_blank\">https://wandb.ai/dlai211/Dark_ph_BDT_Sweep/sweeps/4roma3zu</a>"
      ],
      "text/plain": [
       "<IPython.core.display.HTML object>"
      ]
     },
     "metadata": {},
     "output_type": "display_data"
    },
    {
     "data": {
      "text/html": [
       " View project at <a href='https://wandb.ai/dlai211/Dark_ph_BDT_Sweep' target=\"_blank\">https://wandb.ai/dlai211/Dark_ph_BDT_Sweep</a>"
      ],
      "text/plain": [
       "<IPython.core.display.HTML object>"
      ]
     },
     "metadata": {},
     "output_type": "display_data"
    },
    {
     "data": {
      "text/html": [
       " View sweep at <a href='https://wandb.ai/dlai211/Dark_ph_BDT_Sweep/sweeps/4roma3zu' target=\"_blank\">https://wandb.ai/dlai211/Dark_ph_BDT_Sweep/sweeps/4roma3zu</a>"
      ],
      "text/plain": [
       "<IPython.core.display.HTML object>"
      ]
     },
     "metadata": {},
     "output_type": "display_data"
    },
    {
     "data": {
      "text/html": [
       " View run at <a href='https://wandb.ai/dlai211/Dark_ph_BDT_Sweep/runs/y1iinxfs' target=\"_blank\">https://wandb.ai/dlai211/Dark_ph_BDT_Sweep/runs/y1iinxfs</a>"
      ],
      "text/plain": [
       "<IPython.core.display.HTML object>"
      ]
     },
     "metadata": {},
     "output_type": "display_data"
    },
    {
     "data": {
      "text/html": [],
      "text/plain": [
       "<IPython.core.display.HTML object>"
      ]
     },
     "metadata": {},
     "output_type": "display_data"
    },
    {
     "data": {
      "text/html": [
       "<br>    <style><br>        .wandb-row {<br>            display: flex;<br>            flex-direction: row;<br>            flex-wrap: wrap;<br>            justify-content: flex-start;<br>            width: 100%;<br>        }<br>        .wandb-col {<br>            display: flex;<br>            flex-direction: column;<br>            flex-basis: 100%;<br>            flex: 1;<br>            padding: 10px;<br>        }<br>    </style><br><div class=\"wandb-row\"><div class=\"wandb-col\"><h3>Run history:</h3><br/><table class=\"wandb\"><tr><td>Acceptance</td><td>▁</td></tr><tr><td>Max S/sqrt(B)</td><td>▁</td></tr><tr><td>Test ROC AUC</td><td>▁</td></tr><tr><td>bdtscore2 cut</td><td>▁</td></tr><tr><td>iteration</td><td>▁▁▁▂▂▂▂▂▃▃▃▃▄▄▄▄▄▄▄▄▅▅▅▅▅▅▆▆▆▆▇▇▇▇▇▇████</td></tr><tr><td>test_logloss</td><td>█▇▇▇▆▅▅▄▃▃▂▂▂▂▂▂▂▂▁▁▁▁▁▁▁▁▁▁▁▁▁▁▁▁▁▁▁▁▁▁</td></tr><tr><td>train_logloss</td><td>█▇▇▆▅▅▅▅▅▄▄▄▃▃▃▂▂▂▂▂▂▂▁▁▁▁▁▁▁▁▁▁▁▁▁▁▁▁▁▁</td></tr></table><br/></div><div class=\"wandb-col\"><h3>Run summary:</h3><br/><table class=\"wandb\"><tr><td>Acceptance</td><td>0.35575</td></tr><tr><td>Max S/sqrt(B)</td><td>3.23059</td></tr><tr><td>Test ROC AUC</td><td>0.92327</td></tr><tr><td>bdtscore2 cut</td><td>0.03</td></tr><tr><td>iteration</td><td>195</td></tr><tr><td>test_logloss</td><td>0.00288</td></tr><tr><td>train_logloss</td><td>0.00282</td></tr></table><br/></div></div>"
      ],
      "text/plain": [
       "<IPython.core.display.HTML object>"
      ]
     },
     "metadata": {},
     "output_type": "display_data"
    },
    {
     "data": {
      "text/html": [
       " View run <strong style=\"color:#cdcd00\">sweepy-sweep-12</strong> at: <a href='https://wandb.ai/dlai211/Dark_ph_BDT_Sweep/runs/y1iinxfs' target=\"_blank\">https://wandb.ai/dlai211/Dark_ph_BDT_Sweep/runs/y1iinxfs</a><br> View project at: <a href='https://wandb.ai/dlai211/Dark_ph_BDT_Sweep' target=\"_blank\">https://wandb.ai/dlai211/Dark_ph_BDT_Sweep</a><br>Synced 5 W&B file(s), 0 media file(s), 0 artifact file(s) and 0 other file(s)"
      ],
      "text/plain": [
       "<IPython.core.display.HTML object>"
      ]
     },
     "metadata": {},
     "output_type": "display_data"
    },
    {
     "data": {
      "text/html": [
       "Find logs at: <code>./wandb/run-20250819_041410-y1iinxfs/logs</code>"
      ],
      "text/plain": [
       "<IPython.core.display.HTML object>"
      ]
     },
     "metadata": {},
     "output_type": "display_data"
    },
    {
     "name": "stderr",
     "output_type": "stream",
     "text": [
      "\u001b[34m\u001b[1mwandb\u001b[0m: Agent Starting Run: r3bks91x with config:\n",
      "\u001b[34m\u001b[1mwandb\u001b[0m: \tgamma: 0.366039747745059\n",
      "\u001b[34m\u001b[1mwandb\u001b[0m: \tlearning_rate: 0.0004352252607626844\n",
      "\u001b[34m\u001b[1mwandb\u001b[0m: \tmax_depth: 6\n",
      "\u001b[34m\u001b[1mwandb\u001b[0m: \tn_estimators: 408\n",
      "\u001b[34m\u001b[1mwandb\u001b[0m: \tsubsample: 0.32991012154031496\n"
     ]
    },
    {
     "data": {
      "text/html": [
       "Tracking run with wandb version 0.21.0"
      ],
      "text/plain": [
       "<IPython.core.display.HTML object>"
      ]
     },
     "metadata": {},
     "output_type": "display_data"
    },
    {
     "data": {
      "text/html": [
       "Run data is saved locally in <code>/home/jlai/ML/jet_faking/wandb/run-20250819_041420-r3bks91x</code>"
      ],
      "text/plain": [
       "<IPython.core.display.HTML object>"
      ]
     },
     "metadata": {},
     "output_type": "display_data"
    },
    {
     "data": {
      "text/html": [
       "Syncing run <strong><a href='https://wandb.ai/dlai211/Dark_ph_BDT_Sweep/runs/r3bks91x' target=\"_blank\">visionary-sweep-13</a></strong> to <a href='https://wandb.ai/dlai211/Dark_ph_BDT_Sweep' target=\"_blank\">Weights & Biases</a> (<a href='https://wandb.me/developer-guide' target=\"_blank\">docs</a>)<br>Sweep page: <a href='https://wandb.ai/dlai211/Dark_ph_BDT_Sweep/sweeps/4roma3zu' target=\"_blank\">https://wandb.ai/dlai211/Dark_ph_BDT_Sweep/sweeps/4roma3zu</a>"
      ],
      "text/plain": [
       "<IPython.core.display.HTML object>"
      ]
     },
     "metadata": {},
     "output_type": "display_data"
    },
    {
     "data": {
      "text/html": [
       " View project at <a href='https://wandb.ai/dlai211/Dark_ph_BDT_Sweep' target=\"_blank\">https://wandb.ai/dlai211/Dark_ph_BDT_Sweep</a>"
      ],
      "text/plain": [
       "<IPython.core.display.HTML object>"
      ]
     },
     "metadata": {},
     "output_type": "display_data"
    },
    {
     "data": {
      "text/html": [
       " View sweep at <a href='https://wandb.ai/dlai211/Dark_ph_BDT_Sweep/sweeps/4roma3zu' target=\"_blank\">https://wandb.ai/dlai211/Dark_ph_BDT_Sweep/sweeps/4roma3zu</a>"
      ],
      "text/plain": [
       "<IPython.core.display.HTML object>"
      ]
     },
     "metadata": {},
     "output_type": "display_data"
    },
    {
     "data": {
      "text/html": [
       " View run at <a href='https://wandb.ai/dlai211/Dark_ph_BDT_Sweep/runs/r3bks91x' target=\"_blank\">https://wandb.ai/dlai211/Dark_ph_BDT_Sweep/runs/r3bks91x</a>"
      ],
      "text/plain": [
       "<IPython.core.display.HTML object>"
      ]
     },
     "metadata": {},
     "output_type": "display_data"
    },
    {
     "data": {
      "text/html": [],
      "text/plain": [
       "<IPython.core.display.HTML object>"
      ]
     },
     "metadata": {},
     "output_type": "display_data"
    },
    {
     "data": {
      "text/html": [
       "<br>    <style><br>        .wandb-row {<br>            display: flex;<br>            flex-direction: row;<br>            flex-wrap: wrap;<br>            justify-content: flex-start;<br>            width: 100%;<br>        }<br>        .wandb-col {<br>            display: flex;<br>            flex-direction: column;<br>            flex-basis: 100%;<br>            flex: 1;<br>            padding: 10px;<br>        }<br>    </style><br><div class=\"wandb-row\"><div class=\"wandb-col\"><h3>Run history:</h3><br/><table class=\"wandb\"><tr><td>Acceptance</td><td>▁</td></tr><tr><td>Max S/sqrt(B)</td><td>▁</td></tr><tr><td>Test ROC AUC</td><td>▁</td></tr><tr><td>bdtscore2 cut</td><td>▁</td></tr><tr><td>iteration</td><td>▁▁▂▂▂▂▃▃▃▄▄▄▅▅▅▅▆▆▆▇▇▇▇██</td></tr><tr><td>test_logloss</td><td>██▇▇▇▇▆▆▆▅▅▅▄▄▄▄▃▃▃▂▂▂▂▁▁</td></tr><tr><td>train_logloss</td><td>██▇▇▇▇▆▆▆▅▅▅▄▄▄▄▃▃▃▂▂▂▂▁▁</td></tr></table><br/></div><div class=\"wandb-col\"><h3>Run summary:</h3><br/><table class=\"wandb\"><tr><td>Acceptance</td><td>1</td></tr><tr><td>Max S/sqrt(B)</td><td>0.32308</td></tr><tr><td>Test ROC AUC</td><td>0.8221</td></tr><tr><td>bdtscore2 cut</td><td>0</td></tr><tr><td>iteration</td><td>24</td></tr><tr><td>test_logloss</td><td>0.12603</td></tr><tr><td>train_logloss</td><td>0.12603</td></tr></table><br/></div></div>"
      ],
      "text/plain": [
       "<IPython.core.display.HTML object>"
      ]
     },
     "metadata": {},
     "output_type": "display_data"
    },
    {
     "data": {
      "text/html": [
       " View run <strong style=\"color:#cdcd00\">visionary-sweep-13</strong> at: <a href='https://wandb.ai/dlai211/Dark_ph_BDT_Sweep/runs/r3bks91x' target=\"_blank\">https://wandb.ai/dlai211/Dark_ph_BDT_Sweep/runs/r3bks91x</a><br> View project at: <a href='https://wandb.ai/dlai211/Dark_ph_BDT_Sweep' target=\"_blank\">https://wandb.ai/dlai211/Dark_ph_BDT_Sweep</a><br>Synced 5 W&B file(s), 0 media file(s), 0 artifact file(s) and 0 other file(s)"
      ],
      "text/plain": [
       "<IPython.core.display.HTML object>"
      ]
     },
     "metadata": {},
     "output_type": "display_data"
    },
    {
     "data": {
      "text/html": [
       "Find logs at: <code>./wandb/run-20250819_041420-r3bks91x/logs</code>"
      ],
      "text/plain": [
       "<IPython.core.display.HTML object>"
      ]
     },
     "metadata": {},
     "output_type": "display_data"
    },
    {
     "name": "stderr",
     "output_type": "stream",
     "text": [
      "\u001b[34m\u001b[1mwandb\u001b[0m: Agent Starting Run: 6nn6fr0n with config:\n",
      "\u001b[34m\u001b[1mwandb\u001b[0m: \tgamma: 0.6772043666193893\n",
      "\u001b[34m\u001b[1mwandb\u001b[0m: \tlearning_rate: 0.08440446472968509\n",
      "\u001b[34m\u001b[1mwandb\u001b[0m: \tmax_depth: 8\n",
      "\u001b[34m\u001b[1mwandb\u001b[0m: \tn_estimators: 522\n",
      "\u001b[34m\u001b[1mwandb\u001b[0m: \tsubsample: 0.3697821764841173\n"
     ]
    },
    {
     "data": {
      "text/html": [
       "Tracking run with wandb version 0.21.0"
      ],
      "text/plain": [
       "<IPython.core.display.HTML object>"
      ]
     },
     "metadata": {},
     "output_type": "display_data"
    },
    {
     "data": {
      "text/html": [
       "Run data is saved locally in <code>/home/jlai/ML/jet_faking/wandb/run-20250819_041430-6nn6fr0n</code>"
      ],
      "text/plain": [
       "<IPython.core.display.HTML object>"
      ]
     },
     "metadata": {},
     "output_type": "display_data"
    },
    {
     "data": {
      "text/html": [
       "Syncing run <strong><a href='https://wandb.ai/dlai211/Dark_ph_BDT_Sweep/runs/6nn6fr0n' target=\"_blank\">glowing-sweep-14</a></strong> to <a href='https://wandb.ai/dlai211/Dark_ph_BDT_Sweep' target=\"_blank\">Weights & Biases</a> (<a href='https://wandb.me/developer-guide' target=\"_blank\">docs</a>)<br>Sweep page: <a href='https://wandb.ai/dlai211/Dark_ph_BDT_Sweep/sweeps/4roma3zu' target=\"_blank\">https://wandb.ai/dlai211/Dark_ph_BDT_Sweep/sweeps/4roma3zu</a>"
      ],
      "text/plain": [
       "<IPython.core.display.HTML object>"
      ]
     },
     "metadata": {},
     "output_type": "display_data"
    },
    {
     "data": {
      "text/html": [
       " View project at <a href='https://wandb.ai/dlai211/Dark_ph_BDT_Sweep' target=\"_blank\">https://wandb.ai/dlai211/Dark_ph_BDT_Sweep</a>"
      ],
      "text/plain": [
       "<IPython.core.display.HTML object>"
      ]
     },
     "metadata": {},
     "output_type": "display_data"
    },
    {
     "data": {
      "text/html": [
       " View sweep at <a href='https://wandb.ai/dlai211/Dark_ph_BDT_Sweep/sweeps/4roma3zu' target=\"_blank\">https://wandb.ai/dlai211/Dark_ph_BDT_Sweep/sweeps/4roma3zu</a>"
      ],
      "text/plain": [
       "<IPython.core.display.HTML object>"
      ]
     },
     "metadata": {},
     "output_type": "display_data"
    },
    {
     "data": {
      "text/html": [
       " View run at <a href='https://wandb.ai/dlai211/Dark_ph_BDT_Sweep/runs/6nn6fr0n' target=\"_blank\">https://wandb.ai/dlai211/Dark_ph_BDT_Sweep/runs/6nn6fr0n</a>"
      ],
      "text/plain": [
       "<IPython.core.display.HTML object>"
      ]
     },
     "metadata": {},
     "output_type": "display_data"
    },
    {
     "data": {
      "text/html": [],
      "text/plain": [
       "<IPython.core.display.HTML object>"
      ]
     },
     "metadata": {},
     "output_type": "display_data"
    },
    {
     "data": {
      "text/html": [
       "<br>    <style><br>        .wandb-row {<br>            display: flex;<br>            flex-direction: row;<br>            flex-wrap: wrap;<br>            justify-content: flex-start;<br>            width: 100%;<br>        }<br>        .wandb-col {<br>            display: flex;<br>            flex-direction: column;<br>            flex-basis: 100%;<br>            flex: 1;<br>            padding: 10px;<br>        }<br>    </style><br><div class=\"wandb-row\"><div class=\"wandb-col\"><h3>Run history:</h3><br/><table class=\"wandb\"><tr><td>Acceptance</td><td>▁</td></tr><tr><td>Max S/sqrt(B)</td><td>▁</td></tr><tr><td>Test ROC AUC</td><td>▁</td></tr><tr><td>bdtscore2 cut</td><td>▁</td></tr><tr><td>iteration</td><td>▁▁▁▁▁▂▂▂▂▂▂▂▂▂▂▃▃▃▃▃▄▄▄▄▄▅▅▅▅▅▆▇▇▇▇▇▇▇▇█</td></tr><tr><td>test_logloss</td><td>█▆▅▄▄▂▂▁▁▁▁▁▁▁▁▁▁▁▁▁▁▁▁▁▁▁▁▁▁▁▁▁▁▁▁▁▁▁▁▁</td></tr><tr><td>train_logloss</td><td>█▃▃▂▂▁▁▁▁▁▁▁▁▁▁▁▁▁▁▁▁▁▁▁▁▁▁▁▁▁▁▁▁▁▁▁▁▁▁▁</td></tr></table><br/></div><div class=\"wandb-col\"><h3>Run summary:</h3><br/><table class=\"wandb\"><tr><td>Acceptance</td><td>0.33295</td></tr><tr><td>Max S/sqrt(B)</td><td>3.87435</td></tr><tr><td>Test ROC AUC</td><td>0.98216</td></tr><tr><td>bdtscore2 cut</td><td>0.05</td></tr><tr><td>iteration</td><td>204</td></tr><tr><td>test_logloss</td><td>0.00132</td></tr><tr><td>train_logloss</td><td>0.00115</td></tr></table><br/></div></div>"
      ],
      "text/plain": [
       "<IPython.core.display.HTML object>"
      ]
     },
     "metadata": {},
     "output_type": "display_data"
    },
    {
     "data": {
      "text/html": [
       " View run <strong style=\"color:#cdcd00\">glowing-sweep-14</strong> at: <a href='https://wandb.ai/dlai211/Dark_ph_BDT_Sweep/runs/6nn6fr0n' target=\"_blank\">https://wandb.ai/dlai211/Dark_ph_BDT_Sweep/runs/6nn6fr0n</a><br> View project at: <a href='https://wandb.ai/dlai211/Dark_ph_BDT_Sweep' target=\"_blank\">https://wandb.ai/dlai211/Dark_ph_BDT_Sweep</a><br>Synced 5 W&B file(s), 0 media file(s), 0 artifact file(s) and 0 other file(s)"
      ],
      "text/plain": [
       "<IPython.core.display.HTML object>"
      ]
     },
     "metadata": {},
     "output_type": "display_data"
    },
    {
     "data": {
      "text/html": [
       "Find logs at: <code>./wandb/run-20250819_041430-6nn6fr0n/logs</code>"
      ],
      "text/plain": [
       "<IPython.core.display.HTML object>"
      ]
     },
     "metadata": {},
     "output_type": "display_data"
    },
    {
     "name": "stderr",
     "output_type": "stream",
     "text": [
      "\u001b[34m\u001b[1mwandb\u001b[0m: Agent Starting Run: 2dm0gp8j with config:\n",
      "\u001b[34m\u001b[1mwandb\u001b[0m: \tgamma: 0.3965881012219671\n",
      "\u001b[34m\u001b[1mwandb\u001b[0m: \tlearning_rate: 0.008137192833182282\n",
      "\u001b[34m\u001b[1mwandb\u001b[0m: \tmax_depth: 4\n",
      "\u001b[34m\u001b[1mwandb\u001b[0m: \tn_estimators: 599\n",
      "\u001b[34m\u001b[1mwandb\u001b[0m: \tsubsample: 0.6594182463275438\n"
     ]
    },
    {
     "data": {
      "text/html": [
       "Tracking run with wandb version 0.21.0"
      ],
      "text/plain": [
       "<IPython.core.display.HTML object>"
      ]
     },
     "metadata": {},
     "output_type": "display_data"
    },
    {
     "data": {
      "text/html": [
       "Run data is saved locally in <code>/home/jlai/ML/jet_faking/wandb/run-20250819_041441-2dm0gp8j</code>"
      ],
      "text/plain": [
       "<IPython.core.display.HTML object>"
      ]
     },
     "metadata": {},
     "output_type": "display_data"
    },
    {
     "data": {
      "text/html": [
       "Syncing run <strong><a href='https://wandb.ai/dlai211/Dark_ph_BDT_Sweep/runs/2dm0gp8j' target=\"_blank\">robust-sweep-15</a></strong> to <a href='https://wandb.ai/dlai211/Dark_ph_BDT_Sweep' target=\"_blank\">Weights & Biases</a> (<a href='https://wandb.me/developer-guide' target=\"_blank\">docs</a>)<br>Sweep page: <a href='https://wandb.ai/dlai211/Dark_ph_BDT_Sweep/sweeps/4roma3zu' target=\"_blank\">https://wandb.ai/dlai211/Dark_ph_BDT_Sweep/sweeps/4roma3zu</a>"
      ],
      "text/plain": [
       "<IPython.core.display.HTML object>"
      ]
     },
     "metadata": {},
     "output_type": "display_data"
    },
    {
     "data": {
      "text/html": [
       " View project at <a href='https://wandb.ai/dlai211/Dark_ph_BDT_Sweep' target=\"_blank\">https://wandb.ai/dlai211/Dark_ph_BDT_Sweep</a>"
      ],
      "text/plain": [
       "<IPython.core.display.HTML object>"
      ]
     },
     "metadata": {},
     "output_type": "display_data"
    },
    {
     "data": {
      "text/html": [
       " View sweep at <a href='https://wandb.ai/dlai211/Dark_ph_BDT_Sweep/sweeps/4roma3zu' target=\"_blank\">https://wandb.ai/dlai211/Dark_ph_BDT_Sweep/sweeps/4roma3zu</a>"
      ],
      "text/plain": [
       "<IPython.core.display.HTML object>"
      ]
     },
     "metadata": {},
     "output_type": "display_data"
    },
    {
     "data": {
      "text/html": [
       " View run at <a href='https://wandb.ai/dlai211/Dark_ph_BDT_Sweep/runs/2dm0gp8j' target=\"_blank\">https://wandb.ai/dlai211/Dark_ph_BDT_Sweep/runs/2dm0gp8j</a>"
      ],
      "text/plain": [
       "<IPython.core.display.HTML object>"
      ]
     },
     "metadata": {},
     "output_type": "display_data"
    },
    {
     "data": {
      "text/html": [],
      "text/plain": [
       "<IPython.core.display.HTML object>"
      ]
     },
     "metadata": {},
     "output_type": "display_data"
    },
    {
     "data": {
      "text/html": [
       "<br>    <style><br>        .wandb-row {<br>            display: flex;<br>            flex-direction: row;<br>            flex-wrap: wrap;<br>            justify-content: flex-start;<br>            width: 100%;<br>        }<br>        .wandb-col {<br>            display: flex;<br>            flex-direction: column;<br>            flex-basis: 100%;<br>            flex: 1;<br>            padding: 10px;<br>        }<br>    </style><br><div class=\"wandb-row\"><div class=\"wandb-col\"><h3>Run history:</h3><br/><table class=\"wandb\"><tr><td>Acceptance</td><td>▁</td></tr><tr><td>Max S/sqrt(B)</td><td>▁</td></tr><tr><td>Test ROC AUC</td><td>▁</td></tr><tr><td>bdtscore2 cut</td><td>▁</td></tr><tr><td>iteration</td><td>▁▁▁▂▂▂▂▂▂▃▃▃▃▃▃▄▄▄▄▄▅▅▅▅▅▅▆▆▆▆▆▆▇▇▇▇▇▇██</td></tr><tr><td>test_logloss</td><td>███▇▇▇▇▇▆▆▆▆▆▅▅▅▅▅▅▄▄▄▄▄▃▃▃▃▃▃▂▂▂▂▂▂▂▁▁▁</td></tr><tr><td>train_logloss</td><td>███▇▇▇▇▇▆▆▆▆▆▅▅▅▅▅▅▄▄▄▄▄▃▃▃▃▃▃▂▂▂▂▂▂▂▁▁▁</td></tr></table><br/></div><div class=\"wandb-col\"><h3>Run summary:</h3><br/><table class=\"wandb\"><tr><td>Acceptance</td><td>0.23058</td></tr><tr><td>Max S/sqrt(B)</td><td>2.18751</td></tr><tr><td>Test ROC AUC</td><td>0.87996</td></tr><tr><td>bdtscore2 cut</td><td>0.1</td></tr><tr><td>iteration</td><td>41</td></tr><tr><td>test_logloss</td><td>0.08916</td></tr><tr><td>train_logloss</td><td>0.08915</td></tr></table><br/></div></div>"
      ],
      "text/plain": [
       "<IPython.core.display.HTML object>"
      ]
     },
     "metadata": {},
     "output_type": "display_data"
    },
    {
     "data": {
      "text/html": [
       " View run <strong style=\"color:#cdcd00\">robust-sweep-15</strong> at: <a href='https://wandb.ai/dlai211/Dark_ph_BDT_Sweep/runs/2dm0gp8j' target=\"_blank\">https://wandb.ai/dlai211/Dark_ph_BDT_Sweep/runs/2dm0gp8j</a><br> View project at: <a href='https://wandb.ai/dlai211/Dark_ph_BDT_Sweep' target=\"_blank\">https://wandb.ai/dlai211/Dark_ph_BDT_Sweep</a><br>Synced 5 W&B file(s), 0 media file(s), 0 artifact file(s) and 0 other file(s)"
      ],
      "text/plain": [
       "<IPython.core.display.HTML object>"
      ]
     },
     "metadata": {},
     "output_type": "display_data"
    },
    {
     "data": {
      "text/html": [
       "Find logs at: <code>./wandb/run-20250819_041441-2dm0gp8j/logs</code>"
      ],
      "text/plain": [
       "<IPython.core.display.HTML object>"
      ]
     },
     "metadata": {},
     "output_type": "display_data"
    },
    {
     "name": "stderr",
     "output_type": "stream",
     "text": [
      "\u001b[34m\u001b[1mwandb\u001b[0m: Agent Starting Run: 26hvbqz0 with config:\n",
      "\u001b[34m\u001b[1mwandb\u001b[0m: \tgamma: 0.26134736419093796\n",
      "\u001b[34m\u001b[1mwandb\u001b[0m: \tlearning_rate: 0.06108946089372827\n",
      "\u001b[34m\u001b[1mwandb\u001b[0m: \tmax_depth: 5\n",
      "\u001b[34m\u001b[1mwandb\u001b[0m: \tn_estimators: 413\n",
      "\u001b[34m\u001b[1mwandb\u001b[0m: \tsubsample: 0.7631680787621375\n"
     ]
    },
    {
     "data": {
      "text/html": [
       "Tracking run with wandb version 0.21.0"
      ],
      "text/plain": [
       "<IPython.core.display.HTML object>"
      ]
     },
     "metadata": {},
     "output_type": "display_data"
    },
    {
     "data": {
      "text/html": [
       "Run data is saved locally in <code>/home/jlai/ML/jet_faking/wandb/run-20250819_041451-26hvbqz0</code>"
      ],
      "text/plain": [
       "<IPython.core.display.HTML object>"
      ]
     },
     "metadata": {},
     "output_type": "display_data"
    },
    {
     "data": {
      "text/html": [
       "Syncing run <strong><a href='https://wandb.ai/dlai211/Dark_ph_BDT_Sweep/runs/26hvbqz0' target=\"_blank\">effortless-sweep-16</a></strong> to <a href='https://wandb.ai/dlai211/Dark_ph_BDT_Sweep' target=\"_blank\">Weights & Biases</a> (<a href='https://wandb.me/developer-guide' target=\"_blank\">docs</a>)<br>Sweep page: <a href='https://wandb.ai/dlai211/Dark_ph_BDT_Sweep/sweeps/4roma3zu' target=\"_blank\">https://wandb.ai/dlai211/Dark_ph_BDT_Sweep/sweeps/4roma3zu</a>"
      ],
      "text/plain": [
       "<IPython.core.display.HTML object>"
      ]
     },
     "metadata": {},
     "output_type": "display_data"
    },
    {
     "data": {
      "text/html": [
       " View project at <a href='https://wandb.ai/dlai211/Dark_ph_BDT_Sweep' target=\"_blank\">https://wandb.ai/dlai211/Dark_ph_BDT_Sweep</a>"
      ],
      "text/plain": [
       "<IPython.core.display.HTML object>"
      ]
     },
     "metadata": {},
     "output_type": "display_data"
    },
    {
     "data": {
      "text/html": [
       " View sweep at <a href='https://wandb.ai/dlai211/Dark_ph_BDT_Sweep/sweeps/4roma3zu' target=\"_blank\">https://wandb.ai/dlai211/Dark_ph_BDT_Sweep/sweeps/4roma3zu</a>"
      ],
      "text/plain": [
       "<IPython.core.display.HTML object>"
      ]
     },
     "metadata": {},
     "output_type": "display_data"
    },
    {
     "data": {
      "text/html": [
       " View run at <a href='https://wandb.ai/dlai211/Dark_ph_BDT_Sweep/runs/26hvbqz0' target=\"_blank\">https://wandb.ai/dlai211/Dark_ph_BDT_Sweep/runs/26hvbqz0</a>"
      ],
      "text/plain": [
       "<IPython.core.display.HTML object>"
      ]
     },
     "metadata": {},
     "output_type": "display_data"
    },
    {
     "data": {
      "text/html": [],
      "text/plain": [
       "<IPython.core.display.HTML object>"
      ]
     },
     "metadata": {},
     "output_type": "display_data"
    },
    {
     "data": {
      "text/html": [
       "<br>    <style><br>        .wandb-row {<br>            display: flex;<br>            flex-direction: row;<br>            flex-wrap: wrap;<br>            justify-content: flex-start;<br>            width: 100%;<br>        }<br>        .wandb-col {<br>            display: flex;<br>            flex-direction: column;<br>            flex-basis: 100%;<br>            flex: 1;<br>            padding: 10px;<br>        }<br>    </style><br><div class=\"wandb-row\"><div class=\"wandb-col\"><h3>Run history:</h3><br/><table class=\"wandb\"><tr><td>Acceptance</td><td>▁</td></tr><tr><td>Max S/sqrt(B)</td><td>▁</td></tr><tr><td>Test ROC AUC</td><td>▁</td></tr><tr><td>bdtscore2 cut</td><td>▁</td></tr><tr><td>iteration</td><td>▁▂▂▂▂▃▃▃▃▃▄▄▄▄▄▅▅▅▅▅▅▅▅▆▆▆▆▆▆▇▇▇▇▇▇█████</td></tr><tr><td>test_logloss</td><td>█▇▆▆▅▃▃▃▃▂▁▁▁▁▁▁▁▁▁▁▁▁▁▁▁▁▁▁▁▁▁▁▁▁▁▁▁▁▁▁</td></tr><tr><td>train_logloss</td><td>█▇▅▂▂▁▁▁▁▁▁▁▁▁▁▁▁▁▁▁▁▁▁▁▁▁▁▁▁▁▁▁▁▁▁▁▁▁▁▁</td></tr></table><br/></div><div class=\"wandb-col\"><h3>Run summary:</h3><br/><table class=\"wandb\"><tr><td>Acceptance</td><td>0.4621</td></tr><tr><td>Max S/sqrt(B)</td><td>3.75862</td></tr><tr><td>Test ROC AUC</td><td>0.9825</td></tr><tr><td>bdtscore2 cut</td><td>0.03</td></tr><tr><td>iteration</td><td>329</td></tr><tr><td>test_logloss</td><td>0.0013</td></tr><tr><td>train_logloss</td><td>0.00115</td></tr></table><br/></div></div>"
      ],
      "text/plain": [
       "<IPython.core.display.HTML object>"
      ]
     },
     "metadata": {},
     "output_type": "display_data"
    },
    {
     "data": {
      "text/html": [
       " View run <strong style=\"color:#cdcd00\">effortless-sweep-16</strong> at: <a href='https://wandb.ai/dlai211/Dark_ph_BDT_Sweep/runs/26hvbqz0' target=\"_blank\">https://wandb.ai/dlai211/Dark_ph_BDT_Sweep/runs/26hvbqz0</a><br> View project at: <a href='https://wandb.ai/dlai211/Dark_ph_BDT_Sweep' target=\"_blank\">https://wandb.ai/dlai211/Dark_ph_BDT_Sweep</a><br>Synced 5 W&B file(s), 0 media file(s), 0 artifact file(s) and 0 other file(s)"
      ],
      "text/plain": [
       "<IPython.core.display.HTML object>"
      ]
     },
     "metadata": {},
     "output_type": "display_data"
    },
    {
     "data": {
      "text/html": [
       "Find logs at: <code>./wandb/run-20250819_041451-26hvbqz0/logs</code>"
      ],
      "text/plain": [
       "<IPython.core.display.HTML object>"
      ]
     },
     "metadata": {},
     "output_type": "display_data"
    },
    {
     "name": "stderr",
     "output_type": "stream",
     "text": [
      "\u001b[34m\u001b[1mwandb\u001b[0m: Agent Starting Run: hv2i38aq with config:\n",
      "\u001b[34m\u001b[1mwandb\u001b[0m: \tgamma: 0.6214407837243945\n",
      "\u001b[34m\u001b[1mwandb\u001b[0m: \tlearning_rate: 0.08982796818062108\n",
      "\u001b[34m\u001b[1mwandb\u001b[0m: \tmax_depth: 4\n",
      "\u001b[34m\u001b[1mwandb\u001b[0m: \tn_estimators: 665\n",
      "\u001b[34m\u001b[1mwandb\u001b[0m: \tsubsample: 0.39348391835361335\n"
     ]
    },
    {
     "data": {
      "text/html": [
       "Tracking run with wandb version 0.21.0"
      ],
      "text/plain": [
       "<IPython.core.display.HTML object>"
      ]
     },
     "metadata": {},
     "output_type": "display_data"
    },
    {
     "data": {
      "text/html": [
       "Run data is saved locally in <code>/home/jlai/ML/jet_faking/wandb/run-20250819_041506-hv2i38aq</code>"
      ],
      "text/plain": [
       "<IPython.core.display.HTML object>"
      ]
     },
     "metadata": {},
     "output_type": "display_data"
    },
    {
     "data": {
      "text/html": [
       "Syncing run <strong><a href='https://wandb.ai/dlai211/Dark_ph_BDT_Sweep/runs/hv2i38aq' target=\"_blank\">dulcet-sweep-17</a></strong> to <a href='https://wandb.ai/dlai211/Dark_ph_BDT_Sweep' target=\"_blank\">Weights & Biases</a> (<a href='https://wandb.me/developer-guide' target=\"_blank\">docs</a>)<br>Sweep page: <a href='https://wandb.ai/dlai211/Dark_ph_BDT_Sweep/sweeps/4roma3zu' target=\"_blank\">https://wandb.ai/dlai211/Dark_ph_BDT_Sweep/sweeps/4roma3zu</a>"
      ],
      "text/plain": [
       "<IPython.core.display.HTML object>"
      ]
     },
     "metadata": {},
     "output_type": "display_data"
    },
    {
     "data": {
      "text/html": [
       " View project at <a href='https://wandb.ai/dlai211/Dark_ph_BDT_Sweep' target=\"_blank\">https://wandb.ai/dlai211/Dark_ph_BDT_Sweep</a>"
      ],
      "text/plain": [
       "<IPython.core.display.HTML object>"
      ]
     },
     "metadata": {},
     "output_type": "display_data"
    },
    {
     "data": {
      "text/html": [
       " View sweep at <a href='https://wandb.ai/dlai211/Dark_ph_BDT_Sweep/sweeps/4roma3zu' target=\"_blank\">https://wandb.ai/dlai211/Dark_ph_BDT_Sweep/sweeps/4roma3zu</a>"
      ],
      "text/plain": [
       "<IPython.core.display.HTML object>"
      ]
     },
     "metadata": {},
     "output_type": "display_data"
    },
    {
     "data": {
      "text/html": [
       " View run at <a href='https://wandb.ai/dlai211/Dark_ph_BDT_Sweep/runs/hv2i38aq' target=\"_blank\">https://wandb.ai/dlai211/Dark_ph_BDT_Sweep/runs/hv2i38aq</a>"
      ],
      "text/plain": [
       "<IPython.core.display.HTML object>"
      ]
     },
     "metadata": {},
     "output_type": "display_data"
    },
    {
     "data": {
      "text/html": [],
      "text/plain": [
       "<IPython.core.display.HTML object>"
      ]
     },
     "metadata": {},
     "output_type": "display_data"
    },
    {
     "data": {
      "text/html": [
       "<br>    <style><br>        .wandb-row {<br>            display: flex;<br>            flex-direction: row;<br>            flex-wrap: wrap;<br>            justify-content: flex-start;<br>            width: 100%;<br>        }<br>        .wandb-col {<br>            display: flex;<br>            flex-direction: column;<br>            flex-basis: 100%;<br>            flex: 1;<br>            padding: 10px;<br>        }<br>    </style><br><div class=\"wandb-row\"><div class=\"wandb-col\"><h3>Run history:</h3><br/><table class=\"wandb\"><tr><td>Acceptance</td><td>▁</td></tr><tr><td>Max S/sqrt(B)</td><td>▁</td></tr><tr><td>Test ROC AUC</td><td>▁</td></tr><tr><td>bdtscore2 cut</td><td>▁</td></tr><tr><td>iteration</td><td>▁▁▂▂▂▂▂▂▃▃▃▃▃▃▃▄▄▄▄▅▅▅▅▅▅▆▆▆▆▆▇▇▇▇▇█████</td></tr><tr><td>test_logloss</td><td>█▃▂▂▁▁▁▁▁▁▁▁▁▁▁▁▁▁▁▁▁▁▁▁▁▁▁▁▁▁▁▁▁▁▁▁▁▁▁▁</td></tr><tr><td>train_logloss</td><td>█▆▄▄▂▁▁▁▁▁▁▁▁▁▁▁▁▁▁▁▁▁▁▁▁▁▁▁▁▁▁▁▁▁▁▁▁▁▁▁</td></tr></table><br/></div><div class=\"wandb-col\"><h3>Run summary:</h3><br/><table class=\"wandb\"><tr><td>Acceptance</td><td>0.42235</td></tr><tr><td>Max S/sqrt(B)</td><td>3.50788</td></tr><tr><td>Test ROC AUC</td><td>0.98184</td></tr><tr><td>bdtscore2 cut</td><td>0.03</td></tr><tr><td>iteration</td><td>243</td></tr><tr><td>test_logloss</td><td>0.0013</td></tr><tr><td>train_logloss</td><td>0.0012</td></tr></table><br/></div></div>"
      ],
      "text/plain": [
       "<IPython.core.display.HTML object>"
      ]
     },
     "metadata": {},
     "output_type": "display_data"
    },
    {
     "data": {
      "text/html": [
       " View run <strong style=\"color:#cdcd00\">dulcet-sweep-17</strong> at: <a href='https://wandb.ai/dlai211/Dark_ph_BDT_Sweep/runs/hv2i38aq' target=\"_blank\">https://wandb.ai/dlai211/Dark_ph_BDT_Sweep/runs/hv2i38aq</a><br> View project at: <a href='https://wandb.ai/dlai211/Dark_ph_BDT_Sweep' target=\"_blank\">https://wandb.ai/dlai211/Dark_ph_BDT_Sweep</a><br>Synced 5 W&B file(s), 0 media file(s), 0 artifact file(s) and 0 other file(s)"
      ],
      "text/plain": [
       "<IPython.core.display.HTML object>"
      ]
     },
     "metadata": {},
     "output_type": "display_data"
    },
    {
     "data": {
      "text/html": [
       "Find logs at: <code>./wandb/run-20250819_041506-hv2i38aq/logs</code>"
      ],
      "text/plain": [
       "<IPython.core.display.HTML object>"
      ]
     },
     "metadata": {},
     "output_type": "display_data"
    },
    {
     "name": "stderr",
     "output_type": "stream",
     "text": [
      "\u001b[34m\u001b[1mwandb\u001b[0m: Agent Starting Run: o78vex5w with config:\n",
      "\u001b[34m\u001b[1mwandb\u001b[0m: \tgamma: 0.3604796001217553\n",
      "\u001b[34m\u001b[1mwandb\u001b[0m: \tlearning_rate: 0.03251267387161683\n",
      "\u001b[34m\u001b[1mwandb\u001b[0m: \tmax_depth: 4\n",
      "\u001b[34m\u001b[1mwandb\u001b[0m: \tn_estimators: 524\n",
      "\u001b[34m\u001b[1mwandb\u001b[0m: \tsubsample: 0.77488839995751\n"
     ]
    },
    {
     "data": {
      "text/html": [
       "Tracking run with wandb version 0.21.0"
      ],
      "text/plain": [
       "<IPython.core.display.HTML object>"
      ]
     },
     "metadata": {},
     "output_type": "display_data"
    },
    {
     "data": {
      "text/html": [
       "Run data is saved locally in <code>/home/jlai/ML/jet_faking/wandb/run-20250819_041516-o78vex5w</code>"
      ],
      "text/plain": [
       "<IPython.core.display.HTML object>"
      ]
     },
     "metadata": {},
     "output_type": "display_data"
    },
    {
     "data": {
      "text/html": [
       "Syncing run <strong><a href='https://wandb.ai/dlai211/Dark_ph_BDT_Sweep/runs/o78vex5w' target=\"_blank\">soft-sweep-18</a></strong> to <a href='https://wandb.ai/dlai211/Dark_ph_BDT_Sweep' target=\"_blank\">Weights & Biases</a> (<a href='https://wandb.me/developer-guide' target=\"_blank\">docs</a>)<br>Sweep page: <a href='https://wandb.ai/dlai211/Dark_ph_BDT_Sweep/sweeps/4roma3zu' target=\"_blank\">https://wandb.ai/dlai211/Dark_ph_BDT_Sweep/sweeps/4roma3zu</a>"
      ],
      "text/plain": [
       "<IPython.core.display.HTML object>"
      ]
     },
     "metadata": {},
     "output_type": "display_data"
    },
    {
     "data": {
      "text/html": [
       " View project at <a href='https://wandb.ai/dlai211/Dark_ph_BDT_Sweep' target=\"_blank\">https://wandb.ai/dlai211/Dark_ph_BDT_Sweep</a>"
      ],
      "text/plain": [
       "<IPython.core.display.HTML object>"
      ]
     },
     "metadata": {},
     "output_type": "display_data"
    },
    {
     "data": {
      "text/html": [
       " View sweep at <a href='https://wandb.ai/dlai211/Dark_ph_BDT_Sweep/sweeps/4roma3zu' target=\"_blank\">https://wandb.ai/dlai211/Dark_ph_BDT_Sweep/sweeps/4roma3zu</a>"
      ],
      "text/plain": [
       "<IPython.core.display.HTML object>"
      ]
     },
     "metadata": {},
     "output_type": "display_data"
    },
    {
     "data": {
      "text/html": [
       " View run at <a href='https://wandb.ai/dlai211/Dark_ph_BDT_Sweep/runs/o78vex5w' target=\"_blank\">https://wandb.ai/dlai211/Dark_ph_BDT_Sweep/runs/o78vex5w</a>"
      ],
      "text/plain": [
       "<IPython.core.display.HTML object>"
      ]
     },
     "metadata": {},
     "output_type": "display_data"
    },
    {
     "data": {
      "text/html": [],
      "text/plain": [
       "<IPython.core.display.HTML object>"
      ]
     },
     "metadata": {},
     "output_type": "display_data"
    },
    {
     "data": {
      "text/html": [
       "<br>    <style><br>        .wandb-row {<br>            display: flex;<br>            flex-direction: row;<br>            flex-wrap: wrap;<br>            justify-content: flex-start;<br>            width: 100%;<br>        }<br>        .wandb-col {<br>            display: flex;<br>            flex-direction: column;<br>            flex-basis: 100%;<br>            flex: 1;<br>            padding: 10px;<br>        }<br>    </style><br><div class=\"wandb-row\"><div class=\"wandb-col\"><h3>Run history:</h3><br/><table class=\"wandb\"><tr><td>Acceptance</td><td>▁</td></tr><tr><td>Max S/sqrt(B)</td><td>▁</td></tr><tr><td>Test ROC AUC</td><td>▁</td></tr><tr><td>bdtscore2 cut</td><td>▁</td></tr><tr><td>iteration</td><td>▁▁▂▂▂▃▃▃▃▃▃▃▃▃▃▄▄▄▄▄▄▄▄▅▅▆▆▆▆▆▇▇▇▇▇▇▇▇▇█</td></tr><tr><td>test_logloss</td><td>█▆▄▃▂▂▂▂▂▂▁▁▁▁▁▁▁▁▁▁▁▁▁▁▁▁▁▁▁▁▁▁▁▁▁▁▁▁▁▁</td></tr><tr><td>train_logloss</td><td>█▇▆▅▄▂▂▂▁▁▁▁▁▁▁▁▁▁▁▁▁▁▁▁▁▁▁▁▁▁▁▁▁▁▁▁▁▁▁▁</td></tr></table><br/></div><div class=\"wandb-col\"><h3>Run summary:</h3><br/><table class=\"wandb\"><tr><td>Acceptance</td><td>0.41672</td></tr><tr><td>Max S/sqrt(B)</td><td>3.42759</td></tr><tr><td>Test ROC AUC</td><td>0.98188</td></tr><tr><td>bdtscore2 cut</td><td>0.03</td></tr><tr><td>iteration</td><td>523</td></tr><tr><td>test_logloss</td><td>0.0013</td></tr><tr><td>train_logloss</td><td>0.00122</td></tr></table><br/></div></div>"
      ],
      "text/plain": [
       "<IPython.core.display.HTML object>"
      ]
     },
     "metadata": {},
     "output_type": "display_data"
    },
    {
     "data": {
      "text/html": [
       " View run <strong style=\"color:#cdcd00\">soft-sweep-18</strong> at: <a href='https://wandb.ai/dlai211/Dark_ph_BDT_Sweep/runs/o78vex5w' target=\"_blank\">https://wandb.ai/dlai211/Dark_ph_BDT_Sweep/runs/o78vex5w</a><br> View project at: <a href='https://wandb.ai/dlai211/Dark_ph_BDT_Sweep' target=\"_blank\">https://wandb.ai/dlai211/Dark_ph_BDT_Sweep</a><br>Synced 5 W&B file(s), 0 media file(s), 0 artifact file(s) and 0 other file(s)"
      ],
      "text/plain": [
       "<IPython.core.display.HTML object>"
      ]
     },
     "metadata": {},
     "output_type": "display_data"
    },
    {
     "data": {
      "text/html": [
       "Find logs at: <code>./wandb/run-20250819_041516-o78vex5w/logs</code>"
      ],
      "text/plain": [
       "<IPython.core.display.HTML object>"
      ]
     },
     "metadata": {},
     "output_type": "display_data"
    },
    {
     "name": "stderr",
     "output_type": "stream",
     "text": [
      "\u001b[34m\u001b[1mwandb\u001b[0m: Agent Starting Run: piumbfht with config:\n",
      "\u001b[34m\u001b[1mwandb\u001b[0m: \tgamma: 0.1365443885218716\n",
      "\u001b[34m\u001b[1mwandb\u001b[0m: \tlearning_rate: 0.08074826561211794\n",
      "\u001b[34m\u001b[1mwandb\u001b[0m: \tmax_depth: 4\n",
      "\u001b[34m\u001b[1mwandb\u001b[0m: \tn_estimators: 711\n",
      "\u001b[34m\u001b[1mwandb\u001b[0m: \tsubsample: 0.7927418019103043\n"
     ]
    },
    {
     "data": {
      "text/html": [
       "Tracking run with wandb version 0.21.0"
      ],
      "text/plain": [
       "<IPython.core.display.HTML object>"
      ]
     },
     "metadata": {},
     "output_type": "display_data"
    },
    {
     "data": {
      "text/html": [
       "Run data is saved locally in <code>/home/jlai/ML/jet_faking/wandb/run-20250819_041532-piumbfht</code>"
      ],
      "text/plain": [
       "<IPython.core.display.HTML object>"
      ]
     },
     "metadata": {},
     "output_type": "display_data"
    },
    {
     "data": {
      "text/html": [
       "Syncing run <strong><a href='https://wandb.ai/dlai211/Dark_ph_BDT_Sweep/runs/piumbfht' target=\"_blank\">drawn-sweep-19</a></strong> to <a href='https://wandb.ai/dlai211/Dark_ph_BDT_Sweep' target=\"_blank\">Weights & Biases</a> (<a href='https://wandb.me/developer-guide' target=\"_blank\">docs</a>)<br>Sweep page: <a href='https://wandb.ai/dlai211/Dark_ph_BDT_Sweep/sweeps/4roma3zu' target=\"_blank\">https://wandb.ai/dlai211/Dark_ph_BDT_Sweep/sweeps/4roma3zu</a>"
      ],
      "text/plain": [
       "<IPython.core.display.HTML object>"
      ]
     },
     "metadata": {},
     "output_type": "display_data"
    },
    {
     "data": {
      "text/html": [
       " View project at <a href='https://wandb.ai/dlai211/Dark_ph_BDT_Sweep' target=\"_blank\">https://wandb.ai/dlai211/Dark_ph_BDT_Sweep</a>"
      ],
      "text/plain": [
       "<IPython.core.display.HTML object>"
      ]
     },
     "metadata": {},
     "output_type": "display_data"
    },
    {
     "data": {
      "text/html": [
       " View sweep at <a href='https://wandb.ai/dlai211/Dark_ph_BDT_Sweep/sweeps/4roma3zu' target=\"_blank\">https://wandb.ai/dlai211/Dark_ph_BDT_Sweep/sweeps/4roma3zu</a>"
      ],
      "text/plain": [
       "<IPython.core.display.HTML object>"
      ]
     },
     "metadata": {},
     "output_type": "display_data"
    },
    {
     "data": {
      "text/html": [
       " View run at <a href='https://wandb.ai/dlai211/Dark_ph_BDT_Sweep/runs/piumbfht' target=\"_blank\">https://wandb.ai/dlai211/Dark_ph_BDT_Sweep/runs/piumbfht</a>"
      ],
      "text/plain": [
       "<IPython.core.display.HTML object>"
      ]
     },
     "metadata": {},
     "output_type": "display_data"
    },
    {
     "data": {
      "text/html": [],
      "text/plain": [
       "<IPython.core.display.HTML object>"
      ]
     },
     "metadata": {},
     "output_type": "display_data"
    },
    {
     "data": {
      "text/html": [
       "<br>    <style><br>        .wandb-row {<br>            display: flex;<br>            flex-direction: row;<br>            flex-wrap: wrap;<br>            justify-content: flex-start;<br>            width: 100%;<br>        }<br>        .wandb-col {<br>            display: flex;<br>            flex-direction: column;<br>            flex-basis: 100%;<br>            flex: 1;<br>            padding: 10px;<br>        }<br>    </style><br><div class=\"wandb-row\"><div class=\"wandb-col\"><h3>Run history:</h3><br/><table class=\"wandb\"><tr><td>Acceptance</td><td>▁</td></tr><tr><td>Max S/sqrt(B)</td><td>▁</td></tr><tr><td>Test ROC AUC</td><td>▁</td></tr><tr><td>bdtscore2 cut</td><td>▁</td></tr><tr><td>iteration</td><td>▁▁▁▂▂▂▂▂▂▃▃▃▃▃▃▄▄▄▄▄▅▅▅▅▆▆▆▆▆▆▇▇▇▇▇▇▇███</td></tr><tr><td>test_logloss</td><td>█▆▅▃▃▁▁▁▁▁▁▁▁▁▁▁▁▁▁▁▁▁▁▁▁▁▁▁▁▁▁▁▁▁▁▁▁▁▁▁</td></tr><tr><td>train_logloss</td><td>█▅▃▃▂▁▁▁▁▁▁▁▁▁▁▁▁▁▁▁▁▁▁▁▁▁▁▁▁▁▁▁▁▁▁▁▁▁▁▁</td></tr></table><br/></div><div class=\"wandb-col\"><h3>Run summary:</h3><br/><table class=\"wandb\"><tr><td>Acceptance</td><td>0.44708</td></tr><tr><td>Max S/sqrt(B)</td><td>3.67394</td></tr><tr><td>Test ROC AUC</td><td>0.98211</td></tr><tr><td>bdtscore2 cut</td><td>0.03</td></tr><tr><td>iteration</td><td>302</td></tr><tr><td>test_logloss</td><td>0.0013</td></tr><tr><td>train_logloss</td><td>0.00117</td></tr></table><br/></div></div>"
      ],
      "text/plain": [
       "<IPython.core.display.HTML object>"
      ]
     },
     "metadata": {},
     "output_type": "display_data"
    },
    {
     "data": {
      "text/html": [
       " View run <strong style=\"color:#cdcd00\">drawn-sweep-19</strong> at: <a href='https://wandb.ai/dlai211/Dark_ph_BDT_Sweep/runs/piumbfht' target=\"_blank\">https://wandb.ai/dlai211/Dark_ph_BDT_Sweep/runs/piumbfht</a><br> View project at: <a href='https://wandb.ai/dlai211/Dark_ph_BDT_Sweep' target=\"_blank\">https://wandb.ai/dlai211/Dark_ph_BDT_Sweep</a><br>Synced 5 W&B file(s), 0 media file(s), 0 artifact file(s) and 0 other file(s)"
      ],
      "text/plain": [
       "<IPython.core.display.HTML object>"
      ]
     },
     "metadata": {},
     "output_type": "display_data"
    },
    {
     "data": {
      "text/html": [
       "Find logs at: <code>./wandb/run-20250819_041532-piumbfht/logs</code>"
      ],
      "text/plain": [
       "<IPython.core.display.HTML object>"
      ]
     },
     "metadata": {},
     "output_type": "display_data"
    },
    {
     "name": "stderr",
     "output_type": "stream",
     "text": [
      "\u001b[34m\u001b[1mwandb\u001b[0m: Agent Starting Run: ux1rkz6v with config:\n",
      "\u001b[34m\u001b[1mwandb\u001b[0m: \tgamma: 0.7220525381164177\n",
      "\u001b[34m\u001b[1mwandb\u001b[0m: \tlearning_rate: 0.001238284417465457\n",
      "\u001b[34m\u001b[1mwandb\u001b[0m: \tmax_depth: 5\n",
      "\u001b[34m\u001b[1mwandb\u001b[0m: \tn_estimators: 110\n",
      "\u001b[34m\u001b[1mwandb\u001b[0m: \tsubsample: 0.41129836526517727\n"
     ]
    },
    {
     "data": {
      "text/html": [
       "Tracking run with wandb version 0.21.0"
      ],
      "text/plain": [
       "<IPython.core.display.HTML object>"
      ]
     },
     "metadata": {},
     "output_type": "display_data"
    },
    {
     "data": {
      "text/html": [
       "Run data is saved locally in <code>/home/jlai/ML/jet_faking/wandb/run-20250819_041548-ux1rkz6v</code>"
      ],
      "text/plain": [
       "<IPython.core.display.HTML object>"
      ]
     },
     "metadata": {},
     "output_type": "display_data"
    },
    {
     "data": {
      "text/html": [
       "Syncing run <strong><a href='https://wandb.ai/dlai211/Dark_ph_BDT_Sweep/runs/ux1rkz6v' target=\"_blank\">dauntless-sweep-20</a></strong> to <a href='https://wandb.ai/dlai211/Dark_ph_BDT_Sweep' target=\"_blank\">Weights & Biases</a> (<a href='https://wandb.me/developer-guide' target=\"_blank\">docs</a>)<br>Sweep page: <a href='https://wandb.ai/dlai211/Dark_ph_BDT_Sweep/sweeps/4roma3zu' target=\"_blank\">https://wandb.ai/dlai211/Dark_ph_BDT_Sweep/sweeps/4roma3zu</a>"
      ],
      "text/plain": [
       "<IPython.core.display.HTML object>"
      ]
     },
     "metadata": {},
     "output_type": "display_data"
    },
    {
     "data": {
      "text/html": [
       " View project at <a href='https://wandb.ai/dlai211/Dark_ph_BDT_Sweep' target=\"_blank\">https://wandb.ai/dlai211/Dark_ph_BDT_Sweep</a>"
      ],
      "text/plain": [
       "<IPython.core.display.HTML object>"
      ]
     },
     "metadata": {},
     "output_type": "display_data"
    },
    {
     "data": {
      "text/html": [
       " View sweep at <a href='https://wandb.ai/dlai211/Dark_ph_BDT_Sweep/sweeps/4roma3zu' target=\"_blank\">https://wandb.ai/dlai211/Dark_ph_BDT_Sweep/sweeps/4roma3zu</a>"
      ],
      "text/plain": [
       "<IPython.core.display.HTML object>"
      ]
     },
     "metadata": {},
     "output_type": "display_data"
    },
    {
     "data": {
      "text/html": [
       " View run at <a href='https://wandb.ai/dlai211/Dark_ph_BDT_Sweep/runs/ux1rkz6v' target=\"_blank\">https://wandb.ai/dlai211/Dark_ph_BDT_Sweep/runs/ux1rkz6v</a>"
      ],
      "text/plain": [
       "<IPython.core.display.HTML object>"
      ]
     },
     "metadata": {},
     "output_type": "display_data"
    },
    {
     "data": {
      "text/html": [],
      "text/plain": [
       "<IPython.core.display.HTML object>"
      ]
     },
     "metadata": {},
     "output_type": "display_data"
    },
    {
     "data": {
      "text/html": [
       "<br>    <style><br>        .wandb-row {<br>            display: flex;<br>            flex-direction: row;<br>            flex-wrap: wrap;<br>            justify-content: flex-start;<br>            width: 100%;<br>        }<br>        .wandb-col {<br>            display: flex;<br>            flex-direction: column;<br>            flex-basis: 100%;<br>            flex: 1;<br>            padding: 10px;<br>        }<br>    </style><br><div class=\"wandb-row\"><div class=\"wandb-col\"><h3>Run history:</h3><br/><table class=\"wandb\"><tr><td>Acceptance</td><td>▁</td></tr><tr><td>Max S/sqrt(B)</td><td>▁</td></tr><tr><td>Test ROC AUC</td><td>▁</td></tr><tr><td>bdtscore2 cut</td><td>▁</td></tr><tr><td>iteration</td><td>▁▁▁▂▂▂▂▂▂▂▃▃▃▃▃▃▄▄▄▄▄▄▄▅▅▅▅▅▅▅▆▆▆▆▆▇▇▇██</td></tr><tr><td>test_logloss</td><td>████▇▇▇▇▇▆▆▆▆▅▅▅▅▅▄▄▄▄▄▄▄▃▃▃▃▃▂▂▂▂▂▁▁▁▁▁</td></tr><tr><td>train_logloss</td><td>████▇▇▇▇▇▇▇▆▆▆▆▅▅▅▅▅▄▄▄▄▄▃▃▃▃▃▂▂▂▂▂▂▂▂▁▁</td></tr></table><br/></div><div class=\"wandb-col\"><h3>Run summary:</h3><br/><table class=\"wandb\"><tr><td>Acceptance</td><td>1</td></tr><tr><td>Max S/sqrt(B)</td><td>0.32308</td></tr><tr><td>Test ROC AUC</td><td>0.82222</td></tr><tr><td>bdtscore2 cut</td><td>0</td></tr><tr><td>iteration</td><td>70</td></tr><tr><td>test_logloss</td><td>0.1162</td></tr><tr><td>train_logloss</td><td>0.11619</td></tr></table><br/></div></div>"
      ],
      "text/plain": [
       "<IPython.core.display.HTML object>"
      ]
     },
     "metadata": {},
     "output_type": "display_data"
    },
    {
     "data": {
      "text/html": [
       " View run <strong style=\"color:#cdcd00\">dauntless-sweep-20</strong> at: <a href='https://wandb.ai/dlai211/Dark_ph_BDT_Sweep/runs/ux1rkz6v' target=\"_blank\">https://wandb.ai/dlai211/Dark_ph_BDT_Sweep/runs/ux1rkz6v</a><br> View project at: <a href='https://wandb.ai/dlai211/Dark_ph_BDT_Sweep' target=\"_blank\">https://wandb.ai/dlai211/Dark_ph_BDT_Sweep</a><br>Synced 5 W&B file(s), 0 media file(s), 0 artifact file(s) and 0 other file(s)"
      ],
      "text/plain": [
       "<IPython.core.display.HTML object>"
      ]
     },
     "metadata": {},
     "output_type": "display_data"
    },
    {
     "data": {
      "text/html": [
       "Find logs at: <code>./wandb/run-20250819_041548-ux1rkz6v/logs</code>"
      ],
      "text/plain": [
       "<IPython.core.display.HTML object>"
      ]
     },
     "metadata": {},
     "output_type": "display_data"
    },
    {
     "name": "stderr",
     "output_type": "stream",
     "text": [
      "\u001b[34m\u001b[1mwandb\u001b[0m: Sweep Agent: Waiting for job.\n",
      "\u001b[34m\u001b[1mwandb\u001b[0m: Job received.\n",
      "\u001b[34m\u001b[1mwandb\u001b[0m: Agent Starting Run: 4z181ur4 with config:\n",
      "\u001b[34m\u001b[1mwandb\u001b[0m: \tgamma: 0.19362103676957032\n",
      "\u001b[34m\u001b[1mwandb\u001b[0m: \tlearning_rate: 0.0974573422907678\n",
      "\u001b[34m\u001b[1mwandb\u001b[0m: \tmax_depth: 7\n",
      "\u001b[34m\u001b[1mwandb\u001b[0m: \tn_estimators: 863\n",
      "\u001b[34m\u001b[1mwandb\u001b[0m: \tsubsample: 0.20185111469613093\n"
     ]
    },
    {
     "data": {
      "text/html": [
       "Tracking run with wandb version 0.21.0"
      ],
      "text/plain": [
       "<IPython.core.display.HTML object>"
      ]
     },
     "metadata": {},
     "output_type": "display_data"
    },
    {
     "data": {
      "text/html": [
       "Run data is saved locally in <code>/home/jlai/ML/jet_faking/wandb/run-20250819_041608-4z181ur4</code>"
      ],
      "text/plain": [
       "<IPython.core.display.HTML object>"
      ]
     },
     "metadata": {},
     "output_type": "display_data"
    },
    {
     "data": {
      "text/html": [
       "Syncing run <strong><a href='https://wandb.ai/dlai211/Dark_ph_BDT_Sweep/runs/4z181ur4' target=\"_blank\">glamorous-sweep-21</a></strong> to <a href='https://wandb.ai/dlai211/Dark_ph_BDT_Sweep' target=\"_blank\">Weights & Biases</a> (<a href='https://wandb.me/developer-guide' target=\"_blank\">docs</a>)<br>Sweep page: <a href='https://wandb.ai/dlai211/Dark_ph_BDT_Sweep/sweeps/4roma3zu' target=\"_blank\">https://wandb.ai/dlai211/Dark_ph_BDT_Sweep/sweeps/4roma3zu</a>"
      ],
      "text/plain": [
       "<IPython.core.display.HTML object>"
      ]
     },
     "metadata": {},
     "output_type": "display_data"
    },
    {
     "data": {
      "text/html": [
       " View project at <a href='https://wandb.ai/dlai211/Dark_ph_BDT_Sweep' target=\"_blank\">https://wandb.ai/dlai211/Dark_ph_BDT_Sweep</a>"
      ],
      "text/plain": [
       "<IPython.core.display.HTML object>"
      ]
     },
     "metadata": {},
     "output_type": "display_data"
    },
    {
     "data": {
      "text/html": [
       " View sweep at <a href='https://wandb.ai/dlai211/Dark_ph_BDT_Sweep/sweeps/4roma3zu' target=\"_blank\">https://wandb.ai/dlai211/Dark_ph_BDT_Sweep/sweeps/4roma3zu</a>"
      ],
      "text/plain": [
       "<IPython.core.display.HTML object>"
      ]
     },
     "metadata": {},
     "output_type": "display_data"
    },
    {
     "data": {
      "text/html": [
       " View run at <a href='https://wandb.ai/dlai211/Dark_ph_BDT_Sweep/runs/4z181ur4' target=\"_blank\">https://wandb.ai/dlai211/Dark_ph_BDT_Sweep/runs/4z181ur4</a>"
      ],
      "text/plain": [
       "<IPython.core.display.HTML object>"
      ]
     },
     "metadata": {},
     "output_type": "display_data"
    },
    {
     "data": {
      "text/html": [],
      "text/plain": [
       "<IPython.core.display.HTML object>"
      ]
     },
     "metadata": {},
     "output_type": "display_data"
    },
    {
     "data": {
      "text/html": [
       "<br>    <style><br>        .wandb-row {<br>            display: flex;<br>            flex-direction: row;<br>            flex-wrap: wrap;<br>            justify-content: flex-start;<br>            width: 100%;<br>        }<br>        .wandb-col {<br>            display: flex;<br>            flex-direction: column;<br>            flex-basis: 100%;<br>            flex: 1;<br>            padding: 10px;<br>        }<br>    </style><br><div class=\"wandb-row\"><div class=\"wandb-col\"><h3>Run history:</h3><br/><table class=\"wandb\"><tr><td>Acceptance</td><td>▁</td></tr><tr><td>Max S/sqrt(B)</td><td>▁</td></tr><tr><td>Test ROC AUC</td><td>▁</td></tr><tr><td>bdtscore2 cut</td><td>▁</td></tr><tr><td>iteration</td><td>▁▁▁▁▁▂▂▂▃▃▃▃▃▃▃▄▄▄▄▅▅▅▅▅▅▆▆▆▇▇▇▇▇▇██████</td></tr><tr><td>test_logloss</td><td>█▇▄▃▃▃▂▂▂▁▁▁▁▁▁▁▁▁▁▁▁▁▁▁▁▁▁▁▁▁▁▁▁▁▁▁▁▁▁▁</td></tr><tr><td>train_logloss</td><td>█▆▅▄▄▃▂▁▁▁▁▁▁▁▁▁▁▁▁▁▁▁▁▁▁▁▁▁▁▁▁▁▁▁▁▁▁▁▁▁</td></tr></table><br/></div><div class=\"wandb-col\"><h3>Run summary:</h3><br/><table class=\"wandb\"><tr><td>Acceptance</td><td>0.21262</td></tr><tr><td>Max S/sqrt(B)</td><td>3.79057</td></tr><tr><td>Test ROC AUC</td><td>0.98075</td></tr><tr><td>bdtscore2 cut</td><td>0.08</td></tr><tr><td>iteration</td><td>193</td></tr><tr><td>test_logloss</td><td>0.00135</td></tr><tr><td>train_logloss</td><td>0.00115</td></tr></table><br/></div></div>"
      ],
      "text/plain": [
       "<IPython.core.display.HTML object>"
      ]
     },
     "metadata": {},
     "output_type": "display_data"
    },
    {
     "data": {
      "text/html": [
       " View run <strong style=\"color:#cdcd00\">glamorous-sweep-21</strong> at: <a href='https://wandb.ai/dlai211/Dark_ph_BDT_Sweep/runs/4z181ur4' target=\"_blank\">https://wandb.ai/dlai211/Dark_ph_BDT_Sweep/runs/4z181ur4</a><br> View project at: <a href='https://wandb.ai/dlai211/Dark_ph_BDT_Sweep' target=\"_blank\">https://wandb.ai/dlai211/Dark_ph_BDT_Sweep</a><br>Synced 5 W&B file(s), 0 media file(s), 0 artifact file(s) and 0 other file(s)"
      ],
      "text/plain": [
       "<IPython.core.display.HTML object>"
      ]
     },
     "metadata": {},
     "output_type": "display_data"
    },
    {
     "data": {
      "text/html": [
       "Find logs at: <code>./wandb/run-20250819_041608-4z181ur4/logs</code>"
      ],
      "text/plain": [
       "<IPython.core.display.HTML object>"
      ]
     },
     "metadata": {},
     "output_type": "display_data"
    },
    {
     "name": "stderr",
     "output_type": "stream",
     "text": [
      "\u001b[34m\u001b[1mwandb\u001b[0m: Agent Starting Run: 78oy0c6v with config:\n",
      "\u001b[34m\u001b[1mwandb\u001b[0m: \tgamma: 0.11387514681221096\n",
      "\u001b[34m\u001b[1mwandb\u001b[0m: \tlearning_rate: 0.08024956287541685\n",
      "\u001b[34m\u001b[1mwandb\u001b[0m: \tmax_depth: 6\n",
      "\u001b[34m\u001b[1mwandb\u001b[0m: \tn_estimators: 832\n",
      "\u001b[34m\u001b[1mwandb\u001b[0m: \tsubsample: 0.40118943924770534\n"
     ]
    },
    {
     "data": {
      "text/html": [
       "Tracking run with wandb version 0.21.0"
      ],
      "text/plain": [
       "<IPython.core.display.HTML object>"
      ]
     },
     "metadata": {},
     "output_type": "display_data"
    },
    {
     "data": {
      "text/html": [
       "Run data is saved locally in <code>/home/jlai/ML/jet_faking/wandb/run-20250819_041618-78oy0c6v</code>"
      ],
      "text/plain": [
       "<IPython.core.display.HTML object>"
      ]
     },
     "metadata": {},
     "output_type": "display_data"
    },
    {
     "data": {
      "text/html": [
       "Syncing run <strong><a href='https://wandb.ai/dlai211/Dark_ph_BDT_Sweep/runs/78oy0c6v' target=\"_blank\">royal-sweep-22</a></strong> to <a href='https://wandb.ai/dlai211/Dark_ph_BDT_Sweep' target=\"_blank\">Weights & Biases</a> (<a href='https://wandb.me/developer-guide' target=\"_blank\">docs</a>)<br>Sweep page: <a href='https://wandb.ai/dlai211/Dark_ph_BDT_Sweep/sweeps/4roma3zu' target=\"_blank\">https://wandb.ai/dlai211/Dark_ph_BDT_Sweep/sweeps/4roma3zu</a>"
      ],
      "text/plain": [
       "<IPython.core.display.HTML object>"
      ]
     },
     "metadata": {},
     "output_type": "display_data"
    },
    {
     "data": {
      "text/html": [
       " View project at <a href='https://wandb.ai/dlai211/Dark_ph_BDT_Sweep' target=\"_blank\">https://wandb.ai/dlai211/Dark_ph_BDT_Sweep</a>"
      ],
      "text/plain": [
       "<IPython.core.display.HTML object>"
      ]
     },
     "metadata": {},
     "output_type": "display_data"
    },
    {
     "data": {
      "text/html": [
       " View sweep at <a href='https://wandb.ai/dlai211/Dark_ph_BDT_Sweep/sweeps/4roma3zu' target=\"_blank\">https://wandb.ai/dlai211/Dark_ph_BDT_Sweep/sweeps/4roma3zu</a>"
      ],
      "text/plain": [
       "<IPython.core.display.HTML object>"
      ]
     },
     "metadata": {},
     "output_type": "display_data"
    },
    {
     "data": {
      "text/html": [
       " View run at <a href='https://wandb.ai/dlai211/Dark_ph_BDT_Sweep/runs/78oy0c6v' target=\"_blank\">https://wandb.ai/dlai211/Dark_ph_BDT_Sweep/runs/78oy0c6v</a>"
      ],
      "text/plain": [
       "<IPython.core.display.HTML object>"
      ]
     },
     "metadata": {},
     "output_type": "display_data"
    },
    {
     "data": {
      "text/html": [],
      "text/plain": [
       "<IPython.core.display.HTML object>"
      ]
     },
     "metadata": {},
     "output_type": "display_data"
    },
    {
     "data": {
      "text/html": [
       "<br>    <style><br>        .wandb-row {<br>            display: flex;<br>            flex-direction: row;<br>            flex-wrap: wrap;<br>            justify-content: flex-start;<br>            width: 100%;<br>        }<br>        .wandb-col {<br>            display: flex;<br>            flex-direction: column;<br>            flex-basis: 100%;<br>            flex: 1;<br>            padding: 10px;<br>        }<br>    </style><br><div class=\"wandb-row\"><div class=\"wandb-col\"><h3>Run history:</h3><br/><table class=\"wandb\"><tr><td>Acceptance</td><td>▁</td></tr><tr><td>Max S/sqrt(B)</td><td>▁</td></tr><tr><td>Test ROC AUC</td><td>▁</td></tr><tr><td>bdtscore2 cut</td><td>▁</td></tr><tr><td>iteration</td><td>▁▁▁▁▂▂▂▂▂▃▃▃▃▄▄▄▄▄▅▅▅▅▆▆▆▆▆▆▇▇▇▇▇▇▇▇████</td></tr><tr><td>test_logloss</td><td>█▇▅▃▃▂▂▁▁▁▁▁▁▁▁▁▁▁▁▁▁▁▁▁▁▁▁▁▁▁▁▁▁▁▁▁▁▁▁▁</td></tr><tr><td>train_logloss</td><td>█▇▄▁▁▁▁▁▁▁▁▁▁▁▁▁▁▁▁▁▁▁▁▁▁▁▁▁▁▁▁▁▁▁▁▁▁▁▁▁</td></tr></table><br/></div><div class=\"wandb-col\"><h3>Run summary:</h3><br/><table class=\"wandb\"><tr><td>Acceptance</td><td>0.37661</td></tr><tr><td>Max S/sqrt(B)</td><td>3.7189</td></tr><tr><td>Test ROC AUC</td><td>0.98202</td></tr><tr><td>bdtscore2 cut</td><td>0.04</td></tr><tr><td>iteration</td><td>196</td></tr><tr><td>test_logloss</td><td>0.00132</td></tr><tr><td>train_logloss</td><td>0.00116</td></tr></table><br/></div></div>"
      ],
      "text/plain": [
       "<IPython.core.display.HTML object>"
      ]
     },
     "metadata": {},
     "output_type": "display_data"
    },
    {
     "data": {
      "text/html": [
       " View run <strong style=\"color:#cdcd00\">royal-sweep-22</strong> at: <a href='https://wandb.ai/dlai211/Dark_ph_BDT_Sweep/runs/78oy0c6v' target=\"_blank\">https://wandb.ai/dlai211/Dark_ph_BDT_Sweep/runs/78oy0c6v</a><br> View project at: <a href='https://wandb.ai/dlai211/Dark_ph_BDT_Sweep' target=\"_blank\">https://wandb.ai/dlai211/Dark_ph_BDT_Sweep</a><br>Synced 5 W&B file(s), 0 media file(s), 0 artifact file(s) and 0 other file(s)"
      ],
      "text/plain": [
       "<IPython.core.display.HTML object>"
      ]
     },
     "metadata": {},
     "output_type": "display_data"
    },
    {
     "data": {
      "text/html": [
       "Find logs at: <code>./wandb/run-20250819_041618-78oy0c6v/logs</code>"
      ],
      "text/plain": [
       "<IPython.core.display.HTML object>"
      ]
     },
     "metadata": {},
     "output_type": "display_data"
    },
    {
     "name": "stderr",
     "output_type": "stream",
     "text": [
      "\u001b[34m\u001b[1mwandb\u001b[0m: Agent Starting Run: uk16a58b with config:\n",
      "\u001b[34m\u001b[1mwandb\u001b[0m: \tgamma: 0.45709231701029984\n",
      "\u001b[34m\u001b[1mwandb\u001b[0m: \tlearning_rate: 0.010855375027645954\n",
      "\u001b[34m\u001b[1mwandb\u001b[0m: \tmax_depth: 10\n",
      "\u001b[34m\u001b[1mwandb\u001b[0m: \tn_estimators: 569\n",
      "\u001b[34m\u001b[1mwandb\u001b[0m: \tsubsample: 0.6314330576148617\n"
     ]
    },
    {
     "data": {
      "text/html": [
       "Tracking run with wandb version 0.21.0"
      ],
      "text/plain": [
       "<IPython.core.display.HTML object>"
      ]
     },
     "metadata": {},
     "output_type": "display_data"
    },
    {
     "data": {
      "text/html": [
       "Run data is saved locally in <code>/home/jlai/ML/jet_faking/wandb/run-20250819_041628-uk16a58b</code>"
      ],
      "text/plain": [
       "<IPython.core.display.HTML object>"
      ]
     },
     "metadata": {},
     "output_type": "display_data"
    },
    {
     "data": {
      "text/html": [
       "Syncing run <strong><a href='https://wandb.ai/dlai211/Dark_ph_BDT_Sweep/runs/uk16a58b' target=\"_blank\">glamorous-sweep-23</a></strong> to <a href='https://wandb.ai/dlai211/Dark_ph_BDT_Sweep' target=\"_blank\">Weights & Biases</a> (<a href='https://wandb.me/developer-guide' target=\"_blank\">docs</a>)<br>Sweep page: <a href='https://wandb.ai/dlai211/Dark_ph_BDT_Sweep/sweeps/4roma3zu' target=\"_blank\">https://wandb.ai/dlai211/Dark_ph_BDT_Sweep/sweeps/4roma3zu</a>"
      ],
      "text/plain": [
       "<IPython.core.display.HTML object>"
      ]
     },
     "metadata": {},
     "output_type": "display_data"
    },
    {
     "data": {
      "text/html": [
       " View project at <a href='https://wandb.ai/dlai211/Dark_ph_BDT_Sweep' target=\"_blank\">https://wandb.ai/dlai211/Dark_ph_BDT_Sweep</a>"
      ],
      "text/plain": [
       "<IPython.core.display.HTML object>"
      ]
     },
     "metadata": {},
     "output_type": "display_data"
    },
    {
     "data": {
      "text/html": [
       " View sweep at <a href='https://wandb.ai/dlai211/Dark_ph_BDT_Sweep/sweeps/4roma3zu' target=\"_blank\">https://wandb.ai/dlai211/Dark_ph_BDT_Sweep/sweeps/4roma3zu</a>"
      ],
      "text/plain": [
       "<IPython.core.display.HTML object>"
      ]
     },
     "metadata": {},
     "output_type": "display_data"
    },
    {
     "data": {
      "text/html": [
       " View run at <a href='https://wandb.ai/dlai211/Dark_ph_BDT_Sweep/runs/uk16a58b' target=\"_blank\">https://wandb.ai/dlai211/Dark_ph_BDT_Sweep/runs/uk16a58b</a>"
      ],
      "text/plain": [
       "<IPython.core.display.HTML object>"
      ]
     },
     "metadata": {},
     "output_type": "display_data"
    },
    {
     "data": {
      "text/html": [],
      "text/plain": [
       "<IPython.core.display.HTML object>"
      ]
     },
     "metadata": {},
     "output_type": "display_data"
    },
    {
     "data": {
      "text/html": [
       "<br>    <style><br>        .wandb-row {<br>            display: flex;<br>            flex-direction: row;<br>            flex-wrap: wrap;<br>            justify-content: flex-start;<br>            width: 100%;<br>        }<br>        .wandb-col {<br>            display: flex;<br>            flex-direction: column;<br>            flex-basis: 100%;<br>            flex: 1;<br>            padding: 10px;<br>        }<br>    </style><br><div class=\"wandb-row\"><div class=\"wandb-col\"><h3>Run history:</h3><br/><table class=\"wandb\"><tr><td>Acceptance</td><td>▁</td></tr><tr><td>Max S/sqrt(B)</td><td>▁</td></tr><tr><td>Test ROC AUC</td><td>▁</td></tr><tr><td>bdtscore2 cut</td><td>▁</td></tr><tr><td>iteration</td><td>▁▁▁▂▂▂▂▂▂▃▃▃▃▃▃▄▄▄▄▄▅▅▅▅▅▅▆▆▆▆▆▆▇▇▇▇▇▇██</td></tr><tr><td>test_logloss</td><td>███▇▇▇▇▇▆▆▆▆▆▅▅▅▅▅▄▄▄▄▄▃▃▃▃▃▃▃▂▂▂▂▂▂▂▁▁▁</td></tr><tr><td>train_logloss</td><td>███▇▇▇▇▇▆▆▆▆▆▅▅▅▅▅▄▄▄▄▄▃▃▃▃▃▃▃▂▂▂▂▂▂▂▁▁▁</td></tr></table><br/></div><div class=\"wandb-col\"><h3>Run summary:</h3><br/><table class=\"wandb\"><tr><td>Acceptance</td><td>0.31509</td></tr><tr><td>Max S/sqrt(B)</td><td>2.54946</td></tr><tr><td>Test ROC AUC</td><td>0.88055</td></tr><tr><td>bdtscore2 cut</td><td>0.09</td></tr><tr><td>iteration</td><td>41</td></tr><tr><td>test_logloss</td><td>0.07926</td></tr><tr><td>train_logloss</td><td>0.07924</td></tr></table><br/></div></div>"
      ],
      "text/plain": [
       "<IPython.core.display.HTML object>"
      ]
     },
     "metadata": {},
     "output_type": "display_data"
    },
    {
     "data": {
      "text/html": [
       " View run <strong style=\"color:#cdcd00\">glamorous-sweep-23</strong> at: <a href='https://wandb.ai/dlai211/Dark_ph_BDT_Sweep/runs/uk16a58b' target=\"_blank\">https://wandb.ai/dlai211/Dark_ph_BDT_Sweep/runs/uk16a58b</a><br> View project at: <a href='https://wandb.ai/dlai211/Dark_ph_BDT_Sweep' target=\"_blank\">https://wandb.ai/dlai211/Dark_ph_BDT_Sweep</a><br>Synced 5 W&B file(s), 0 media file(s), 0 artifact file(s) and 0 other file(s)"
      ],
      "text/plain": [
       "<IPython.core.display.HTML object>"
      ]
     },
     "metadata": {},
     "output_type": "display_data"
    },
    {
     "data": {
      "text/html": [
       "Find logs at: <code>./wandb/run-20250819_041628-uk16a58b/logs</code>"
      ],
      "text/plain": [
       "<IPython.core.display.HTML object>"
      ]
     },
     "metadata": {},
     "output_type": "display_data"
    },
    {
     "name": "stderr",
     "output_type": "stream",
     "text": [
      "\u001b[34m\u001b[1mwandb\u001b[0m: Agent Starting Run: ndii7swh with config:\n",
      "\u001b[34m\u001b[1mwandb\u001b[0m: \tgamma: 0.3365626143932774\n",
      "\u001b[34m\u001b[1mwandb\u001b[0m: \tlearning_rate: 0.0565465749146791\n",
      "\u001b[34m\u001b[1mwandb\u001b[0m: \tmax_depth: 3\n",
      "\u001b[34m\u001b[1mwandb\u001b[0m: \tn_estimators: 544\n",
      "\u001b[34m\u001b[1mwandb\u001b[0m: \tsubsample: 0.3893446159475963\n"
     ]
    },
    {
     "data": {
      "text/html": [
       "Tracking run with wandb version 0.21.0"
      ],
      "text/plain": [
       "<IPython.core.display.HTML object>"
      ]
     },
     "metadata": {},
     "output_type": "display_data"
    },
    {
     "data": {
      "text/html": [
       "Run data is saved locally in <code>/home/jlai/ML/jet_faking/wandb/run-20250819_041638-ndii7swh</code>"
      ],
      "text/plain": [
       "<IPython.core.display.HTML object>"
      ]
     },
     "metadata": {},
     "output_type": "display_data"
    },
    {
     "data": {
      "text/html": [
       "Syncing run <strong><a href='https://wandb.ai/dlai211/Dark_ph_BDT_Sweep/runs/ndii7swh' target=\"_blank\">olive-sweep-24</a></strong> to <a href='https://wandb.ai/dlai211/Dark_ph_BDT_Sweep' target=\"_blank\">Weights & Biases</a> (<a href='https://wandb.me/developer-guide' target=\"_blank\">docs</a>)<br>Sweep page: <a href='https://wandb.ai/dlai211/Dark_ph_BDT_Sweep/sweeps/4roma3zu' target=\"_blank\">https://wandb.ai/dlai211/Dark_ph_BDT_Sweep/sweeps/4roma3zu</a>"
      ],
      "text/plain": [
       "<IPython.core.display.HTML object>"
      ]
     },
     "metadata": {},
     "output_type": "display_data"
    },
    {
     "data": {
      "text/html": [
       " View project at <a href='https://wandb.ai/dlai211/Dark_ph_BDT_Sweep' target=\"_blank\">https://wandb.ai/dlai211/Dark_ph_BDT_Sweep</a>"
      ],
      "text/plain": [
       "<IPython.core.display.HTML object>"
      ]
     },
     "metadata": {},
     "output_type": "display_data"
    },
    {
     "data": {
      "text/html": [
       " View sweep at <a href='https://wandb.ai/dlai211/Dark_ph_BDT_Sweep/sweeps/4roma3zu' target=\"_blank\">https://wandb.ai/dlai211/Dark_ph_BDT_Sweep/sweeps/4roma3zu</a>"
      ],
      "text/plain": [
       "<IPython.core.display.HTML object>"
      ]
     },
     "metadata": {},
     "output_type": "display_data"
    },
    {
     "data": {
      "text/html": [
       " View run at <a href='https://wandb.ai/dlai211/Dark_ph_BDT_Sweep/runs/ndii7swh' target=\"_blank\">https://wandb.ai/dlai211/Dark_ph_BDT_Sweep/runs/ndii7swh</a>"
      ],
      "text/plain": [
       "<IPython.core.display.HTML object>"
      ]
     },
     "metadata": {},
     "output_type": "display_data"
    },
    {
     "data": {
      "text/html": [],
      "text/plain": [
       "<IPython.core.display.HTML object>"
      ]
     },
     "metadata": {},
     "output_type": "display_data"
    },
    {
     "data": {
      "text/html": [
       "<br>    <style><br>        .wandb-row {<br>            display: flex;<br>            flex-direction: row;<br>            flex-wrap: wrap;<br>            justify-content: flex-start;<br>            width: 100%;<br>        }<br>        .wandb-col {<br>            display: flex;<br>            flex-direction: column;<br>            flex-basis: 100%;<br>            flex: 1;<br>            padding: 10px;<br>        }<br>    </style><br><div class=\"wandb-row\"><div class=\"wandb-col\"><h3>Run history:</h3><br/><table class=\"wandb\"><tr><td>Acceptance</td><td>▁</td></tr><tr><td>Max S/sqrt(B)</td><td>▁</td></tr><tr><td>Test ROC AUC</td><td>▁</td></tr><tr><td>bdtscore2 cut</td><td>▁</td></tr><tr><td>iteration</td><td>▁▁▁▂▂▂▂▂▂▂▃▃▃▃▄▄▄▄▄▄▅▅▅▅▅▅▅▅▅▆▆▆▆▆▇▇▇▇▇█</td></tr><tr><td>test_logloss</td><td>█▆▃▂▁▁▁▁▁▁▁▁▁▁▁▁▁▁▁▁▁▁▁▁▁▁▁▁▁▁▁▁▁▁▁▁▁▁▁▁</td></tr><tr><td>train_logloss</td><td>█▂▂▂▁▁▁▁▁▁▁▁▁▁▁▁▁▁▁▁▁▁▁▁▁▁▁▁▁▁▁▁▁▁▁▁▁▁▁▁</td></tr></table><br/></div><div class=\"wandb-col\"><h3>Run summary:</h3><br/><table class=\"wandb\"><tr><td>Acceptance</td><td>0.39079</td></tr><tr><td>Max S/sqrt(B)</td><td>3.30272</td></tr><tr><td>Test ROC AUC</td><td>0.98105</td></tr><tr><td>bdtscore2 cut</td><td>0.03</td></tr><tr><td>iteration</td><td>357</td></tr><tr><td>test_logloss</td><td>0.00131</td></tr><tr><td>train_logloss</td><td>0.00124</td></tr></table><br/></div></div>"
      ],
      "text/plain": [
       "<IPython.core.display.HTML object>"
      ]
     },
     "metadata": {},
     "output_type": "display_data"
    },
    {
     "data": {
      "text/html": [
       " View run <strong style=\"color:#cdcd00\">olive-sweep-24</strong> at: <a href='https://wandb.ai/dlai211/Dark_ph_BDT_Sweep/runs/ndii7swh' target=\"_blank\">https://wandb.ai/dlai211/Dark_ph_BDT_Sweep/runs/ndii7swh</a><br> View project at: <a href='https://wandb.ai/dlai211/Dark_ph_BDT_Sweep' target=\"_blank\">https://wandb.ai/dlai211/Dark_ph_BDT_Sweep</a><br>Synced 5 W&B file(s), 0 media file(s), 0 artifact file(s) and 0 other file(s)"
      ],
      "text/plain": [
       "<IPython.core.display.HTML object>"
      ]
     },
     "metadata": {},
     "output_type": "display_data"
    },
    {
     "data": {
      "text/html": [
       "Find logs at: <code>./wandb/run-20250819_041638-ndii7swh/logs</code>"
      ],
      "text/plain": [
       "<IPython.core.display.HTML object>"
      ]
     },
     "metadata": {},
     "output_type": "display_data"
    },
    {
     "name": "stderr",
     "output_type": "stream",
     "text": [
      "\u001b[34m\u001b[1mwandb\u001b[0m: Agent Starting Run: dgsxdgac with config:\n",
      "\u001b[34m\u001b[1mwandb\u001b[0m: \tgamma: 0.9663264392655284\n",
      "\u001b[34m\u001b[1mwandb\u001b[0m: \tlearning_rate: 0.07606832815667852\n",
      "\u001b[34m\u001b[1mwandb\u001b[0m: \tmax_depth: 5\n",
      "\u001b[34m\u001b[1mwandb\u001b[0m: \tn_estimators: 429\n",
      "\u001b[34m\u001b[1mwandb\u001b[0m: \tsubsample: 0.5715896264403381\n"
     ]
    },
    {
     "data": {
      "text/html": [
       "Tracking run with wandb version 0.21.0"
      ],
      "text/plain": [
       "<IPython.core.display.HTML object>"
      ]
     },
     "metadata": {},
     "output_type": "display_data"
    },
    {
     "data": {
      "text/html": [
       "Run data is saved locally in <code>/home/jlai/ML/jet_faking/wandb/run-20250819_041653-dgsxdgac</code>"
      ],
      "text/plain": [
       "<IPython.core.display.HTML object>"
      ]
     },
     "metadata": {},
     "output_type": "display_data"
    },
    {
     "data": {
      "text/html": [
       "Syncing run <strong><a href='https://wandb.ai/dlai211/Dark_ph_BDT_Sweep/runs/dgsxdgac' target=\"_blank\">desert-sweep-25</a></strong> to <a href='https://wandb.ai/dlai211/Dark_ph_BDT_Sweep' target=\"_blank\">Weights & Biases</a> (<a href='https://wandb.me/developer-guide' target=\"_blank\">docs</a>)<br>Sweep page: <a href='https://wandb.ai/dlai211/Dark_ph_BDT_Sweep/sweeps/4roma3zu' target=\"_blank\">https://wandb.ai/dlai211/Dark_ph_BDT_Sweep/sweeps/4roma3zu</a>"
      ],
      "text/plain": [
       "<IPython.core.display.HTML object>"
      ]
     },
     "metadata": {},
     "output_type": "display_data"
    },
    {
     "data": {
      "text/html": [
       " View project at <a href='https://wandb.ai/dlai211/Dark_ph_BDT_Sweep' target=\"_blank\">https://wandb.ai/dlai211/Dark_ph_BDT_Sweep</a>"
      ],
      "text/plain": [
       "<IPython.core.display.HTML object>"
      ]
     },
     "metadata": {},
     "output_type": "display_data"
    },
    {
     "data": {
      "text/html": [
       " View sweep at <a href='https://wandb.ai/dlai211/Dark_ph_BDT_Sweep/sweeps/4roma3zu' target=\"_blank\">https://wandb.ai/dlai211/Dark_ph_BDT_Sweep/sweeps/4roma3zu</a>"
      ],
      "text/plain": [
       "<IPython.core.display.HTML object>"
      ]
     },
     "metadata": {},
     "output_type": "display_data"
    },
    {
     "data": {
      "text/html": [
       " View run at <a href='https://wandb.ai/dlai211/Dark_ph_BDT_Sweep/runs/dgsxdgac' target=\"_blank\">https://wandb.ai/dlai211/Dark_ph_BDT_Sweep/runs/dgsxdgac</a>"
      ],
      "text/plain": [
       "<IPython.core.display.HTML object>"
      ]
     },
     "metadata": {},
     "output_type": "display_data"
    },
    {
     "data": {
      "text/html": [],
      "text/plain": [
       "<IPython.core.display.HTML object>"
      ]
     },
     "metadata": {},
     "output_type": "display_data"
    },
    {
     "data": {
      "text/html": [
       "<br>    <style><br>        .wandb-row {<br>            display: flex;<br>            flex-direction: row;<br>            flex-wrap: wrap;<br>            justify-content: flex-start;<br>            width: 100%;<br>        }<br>        .wandb-col {<br>            display: flex;<br>            flex-direction: column;<br>            flex-basis: 100%;<br>            flex: 1;<br>            padding: 10px;<br>        }<br>    </style><br><div class=\"wandb-row\"><div class=\"wandb-col\"><h3>Run history:</h3><br/><table class=\"wandb\"><tr><td>Acceptance</td><td>▁</td></tr><tr><td>Max S/sqrt(B)</td><td>▁</td></tr><tr><td>Test ROC AUC</td><td>▁</td></tr><tr><td>bdtscore2 cut</td><td>▁</td></tr><tr><td>iteration</td><td>▁▁▁▁▁▁▂▂▂▂▂▂▃▃▃▃▃▄▄▄▄▅▅▅▅▆▆▇▇▇▇▇▇▇▇█████</td></tr><tr><td>test_logloss</td><td>█▇▅▂▂▂▁▁▁▁▁▁▁▁▁▁▁▁▁▁▁▁▁▁▁▁▁▁▁▁▁▁▁▁▁▁▁▁▁▁</td></tr><tr><td>train_logloss</td><td>█▇▅▄▄▂▂▁▁▁▁▁▁▁▁▁▁▁▁▁▁▁▁▁▁▁▁▁▁▁▁▁▁▁▁▁▁▁▁▁</td></tr></table><br/></div><div class=\"wandb-col\"><h3>Run summary:</h3><br/><table class=\"wandb\"><tr><td>Acceptance</td><td>0.4122</td></tr><tr><td>Max S/sqrt(B)</td><td>3.39238</td></tr><tr><td>Test ROC AUC</td><td>0.98168</td></tr><tr><td>bdtscore2 cut</td><td>0.03</td></tr><tr><td>iteration</td><td>250</td></tr><tr><td>test_logloss</td><td>0.00131</td></tr><tr><td>train_logloss</td><td>0.00122</td></tr></table><br/></div></div>"
      ],
      "text/plain": [
       "<IPython.core.display.HTML object>"
      ]
     },
     "metadata": {},
     "output_type": "display_data"
    },
    {
     "data": {
      "text/html": [
       " View run <strong style=\"color:#cdcd00\">desert-sweep-25</strong> at: <a href='https://wandb.ai/dlai211/Dark_ph_BDT_Sweep/runs/dgsxdgac' target=\"_blank\">https://wandb.ai/dlai211/Dark_ph_BDT_Sweep/runs/dgsxdgac</a><br> View project at: <a href='https://wandb.ai/dlai211/Dark_ph_BDT_Sweep' target=\"_blank\">https://wandb.ai/dlai211/Dark_ph_BDT_Sweep</a><br>Synced 5 W&B file(s), 0 media file(s), 0 artifact file(s) and 0 other file(s)"
      ],
      "text/plain": [
       "<IPython.core.display.HTML object>"
      ]
     },
     "metadata": {},
     "output_type": "display_data"
    },
    {
     "data": {
      "text/html": [
       "Find logs at: <code>./wandb/run-20250819_041653-dgsxdgac/logs</code>"
      ],
      "text/plain": [
       "<IPython.core.display.HTML object>"
      ]
     },
     "metadata": {},
     "output_type": "display_data"
    },
    {
     "name": "stderr",
     "output_type": "stream",
     "text": [
      "\u001b[34m\u001b[1mwandb\u001b[0m: Agent Starting Run: c5kbymof with config:\n",
      "\u001b[34m\u001b[1mwandb\u001b[0m: \tgamma: 0.244994318972978\n",
      "\u001b[34m\u001b[1mwandb\u001b[0m: \tlearning_rate: 0.08532882586130976\n",
      "\u001b[34m\u001b[1mwandb\u001b[0m: \tmax_depth: 9\n",
      "\u001b[34m\u001b[1mwandb\u001b[0m: \tn_estimators: 675\n",
      "\u001b[34m\u001b[1mwandb\u001b[0m: \tsubsample: 0.534277773177686\n"
     ]
    },
    {
     "data": {
      "text/html": [
       "Tracking run with wandb version 0.21.0"
      ],
      "text/plain": [
       "<IPython.core.display.HTML object>"
      ]
     },
     "metadata": {},
     "output_type": "display_data"
    },
    {
     "data": {
      "text/html": [
       "Run data is saved locally in <code>/home/jlai/ML/jet_faking/wandb/run-20250819_041704-c5kbymof</code>"
      ],
      "text/plain": [
       "<IPython.core.display.HTML object>"
      ]
     },
     "metadata": {},
     "output_type": "display_data"
    },
    {
     "data": {
      "text/html": [
       "Syncing run <strong><a href='https://wandb.ai/dlai211/Dark_ph_BDT_Sweep/runs/c5kbymof' target=\"_blank\">wild-sweep-26</a></strong> to <a href='https://wandb.ai/dlai211/Dark_ph_BDT_Sweep' target=\"_blank\">Weights & Biases</a> (<a href='https://wandb.me/developer-guide' target=\"_blank\">docs</a>)<br>Sweep page: <a href='https://wandb.ai/dlai211/Dark_ph_BDT_Sweep/sweeps/4roma3zu' target=\"_blank\">https://wandb.ai/dlai211/Dark_ph_BDT_Sweep/sweeps/4roma3zu</a>"
      ],
      "text/plain": [
       "<IPython.core.display.HTML object>"
      ]
     },
     "metadata": {},
     "output_type": "display_data"
    },
    {
     "data": {
      "text/html": [
       " View project at <a href='https://wandb.ai/dlai211/Dark_ph_BDT_Sweep' target=\"_blank\">https://wandb.ai/dlai211/Dark_ph_BDT_Sweep</a>"
      ],
      "text/plain": [
       "<IPython.core.display.HTML object>"
      ]
     },
     "metadata": {},
     "output_type": "display_data"
    },
    {
     "data": {
      "text/html": [
       " View sweep at <a href='https://wandb.ai/dlai211/Dark_ph_BDT_Sweep/sweeps/4roma3zu' target=\"_blank\">https://wandb.ai/dlai211/Dark_ph_BDT_Sweep/sweeps/4roma3zu</a>"
      ],
      "text/plain": [
       "<IPython.core.display.HTML object>"
      ]
     },
     "metadata": {},
     "output_type": "display_data"
    },
    {
     "data": {
      "text/html": [
       " View run at <a href='https://wandb.ai/dlai211/Dark_ph_BDT_Sweep/runs/c5kbymof' target=\"_blank\">https://wandb.ai/dlai211/Dark_ph_BDT_Sweep/runs/c5kbymof</a>"
      ],
      "text/plain": [
       "<IPython.core.display.HTML object>"
      ]
     },
     "metadata": {},
     "output_type": "display_data"
    },
    {
     "data": {
      "text/html": [],
      "text/plain": [
       "<IPython.core.display.HTML object>"
      ]
     },
     "metadata": {},
     "output_type": "display_data"
    },
    {
     "data": {
      "text/html": [
       "<br>    <style><br>        .wandb-row {<br>            display: flex;<br>            flex-direction: row;<br>            flex-wrap: wrap;<br>            justify-content: flex-start;<br>            width: 100%;<br>        }<br>        .wandb-col {<br>            display: flex;<br>            flex-direction: column;<br>            flex-basis: 100%;<br>            flex: 1;<br>            padding: 10px;<br>        }<br>    </style><br><div class=\"wandb-row\"><div class=\"wandb-col\"><h3>Run history:</h3><br/><table class=\"wandb\"><tr><td>Acceptance</td><td>▁</td></tr><tr><td>Max S/sqrt(B)</td><td>▁</td></tr><tr><td>Test ROC AUC</td><td>▁</td></tr><tr><td>bdtscore2 cut</td><td>▁</td></tr><tr><td>iteration</td><td>▁▁▁▂▂▂▂▂▂▃▃▃▃▄▄▄▄▄▄▄▅▅▅▅▅▆▆▆▆▆▇▇▇▇▇▇▇███</td></tr><tr><td>test_logloss</td><td>█▇▄▄▄▃▁▁▁▁▁▁▁▁▁▁▁▁▁▁▁▁▁▁▁▁▁▁▁▁▁▁▁▁▁▁▁▁▁▁</td></tr><tr><td>train_logloss</td><td>█▆▅▅▄▃▃▂▂▂▂▁▁▁▁▁▁▁▁▁▁▁▁▁▁▁▁▁▁▁▁▁▁▁▁▁▁▁▁▁</td></tr></table><br/></div><div class=\"wandb-col\"><h3>Run summary:</h3><br/><table class=\"wandb\"><tr><td>Acceptance</td><td>0.21721</td></tr><tr><td>Max S/sqrt(B)</td><td>5.14795</td></tr><tr><td>Test ROC AUC</td><td>0.98231</td></tr><tr><td>bdtscore2 cut</td><td>0.1</td></tr><tr><td>iteration</td><td>187</td></tr><tr><td>test_logloss</td><td>0.00133</td></tr><tr><td>train_logloss</td><td>0.00104</td></tr></table><br/></div></div>"
      ],
      "text/plain": [
       "<IPython.core.display.HTML object>"
      ]
     },
     "metadata": {},
     "output_type": "display_data"
    },
    {
     "data": {
      "text/html": [
       " View run <strong style=\"color:#cdcd00\">wild-sweep-26</strong> at: <a href='https://wandb.ai/dlai211/Dark_ph_BDT_Sweep/runs/c5kbymof' target=\"_blank\">https://wandb.ai/dlai211/Dark_ph_BDT_Sweep/runs/c5kbymof</a><br> View project at: <a href='https://wandb.ai/dlai211/Dark_ph_BDT_Sweep' target=\"_blank\">https://wandb.ai/dlai211/Dark_ph_BDT_Sweep</a><br>Synced 5 W&B file(s), 0 media file(s), 0 artifact file(s) and 0 other file(s)"
      ],
      "text/plain": [
       "<IPython.core.display.HTML object>"
      ]
     },
     "metadata": {},
     "output_type": "display_data"
    },
    {
     "data": {
      "text/html": [
       "Find logs at: <code>./wandb/run-20250819_041704-c5kbymof/logs</code>"
      ],
      "text/plain": [
       "<IPython.core.display.HTML object>"
      ]
     },
     "metadata": {},
     "output_type": "display_data"
    },
    {
     "name": "stderr",
     "output_type": "stream",
     "text": [
      "\u001b[34m\u001b[1mwandb\u001b[0m: Agent Starting Run: 339li7y1 with config:\n",
      "\u001b[34m\u001b[1mwandb\u001b[0m: \tgamma: 0.7452387310105151\n",
      "\u001b[34m\u001b[1mwandb\u001b[0m: \tlearning_rate: 0.09289171977860192\n",
      "\u001b[34m\u001b[1mwandb\u001b[0m: \tmax_depth: 5\n",
      "\u001b[34m\u001b[1mwandb\u001b[0m: \tn_estimators: 284\n",
      "\u001b[34m\u001b[1mwandb\u001b[0m: \tsubsample: 0.27762591352627064\n"
     ]
    },
    {
     "data": {
      "text/html": [
       "Tracking run with wandb version 0.21.0"
      ],
      "text/plain": [
       "<IPython.core.display.HTML object>"
      ]
     },
     "metadata": {},
     "output_type": "display_data"
    },
    {
     "data": {
      "text/html": [
       "Run data is saved locally in <code>/home/jlai/ML/jet_faking/wandb/run-20250819_041714-339li7y1</code>"
      ],
      "text/plain": [
       "<IPython.core.display.HTML object>"
      ]
     },
     "metadata": {},
     "output_type": "display_data"
    },
    {
     "data": {
      "text/html": [
       "Syncing run <strong><a href='https://wandb.ai/dlai211/Dark_ph_BDT_Sweep/runs/339li7y1' target=\"_blank\">zesty-sweep-27</a></strong> to <a href='https://wandb.ai/dlai211/Dark_ph_BDT_Sweep' target=\"_blank\">Weights & Biases</a> (<a href='https://wandb.me/developer-guide' target=\"_blank\">docs</a>)<br>Sweep page: <a href='https://wandb.ai/dlai211/Dark_ph_BDT_Sweep/sweeps/4roma3zu' target=\"_blank\">https://wandb.ai/dlai211/Dark_ph_BDT_Sweep/sweeps/4roma3zu</a>"
      ],
      "text/plain": [
       "<IPython.core.display.HTML object>"
      ]
     },
     "metadata": {},
     "output_type": "display_data"
    },
    {
     "data": {
      "text/html": [
       " View project at <a href='https://wandb.ai/dlai211/Dark_ph_BDT_Sweep' target=\"_blank\">https://wandb.ai/dlai211/Dark_ph_BDT_Sweep</a>"
      ],
      "text/plain": [
       "<IPython.core.display.HTML object>"
      ]
     },
     "metadata": {},
     "output_type": "display_data"
    },
    {
     "data": {
      "text/html": [
       " View sweep at <a href='https://wandb.ai/dlai211/Dark_ph_BDT_Sweep/sweeps/4roma3zu' target=\"_blank\">https://wandb.ai/dlai211/Dark_ph_BDT_Sweep/sweeps/4roma3zu</a>"
      ],
      "text/plain": [
       "<IPython.core.display.HTML object>"
      ]
     },
     "metadata": {},
     "output_type": "display_data"
    },
    {
     "data": {
      "text/html": [
       " View run at <a href='https://wandb.ai/dlai211/Dark_ph_BDT_Sweep/runs/339li7y1' target=\"_blank\">https://wandb.ai/dlai211/Dark_ph_BDT_Sweep/runs/339li7y1</a>"
      ],
      "text/plain": [
       "<IPython.core.display.HTML object>"
      ]
     },
     "metadata": {},
     "output_type": "display_data"
    },
    {
     "data": {
      "text/html": [],
      "text/plain": [
       "<IPython.core.display.HTML object>"
      ]
     },
     "metadata": {},
     "output_type": "display_data"
    },
    {
     "data": {
      "text/html": [
       "<br>    <style><br>        .wandb-row {<br>            display: flex;<br>            flex-direction: row;<br>            flex-wrap: wrap;<br>            justify-content: flex-start;<br>            width: 100%;<br>        }<br>        .wandb-col {<br>            display: flex;<br>            flex-direction: column;<br>            flex-basis: 100%;<br>            flex: 1;<br>            padding: 10px;<br>        }<br>    </style><br><div class=\"wandb-row\"><div class=\"wandb-col\"><h3>Run history:</h3><br/><table class=\"wandb\"><tr><td>Acceptance</td><td>▁</td></tr><tr><td>Max S/sqrt(B)</td><td>▁</td></tr><tr><td>Test ROC AUC</td><td>▁</td></tr><tr><td>bdtscore2 cut</td><td>▁</td></tr><tr><td>iteration</td><td>▁▁▂▂▂▂▂▃▃▃▃▃▃▃▄▄▄▄▄▄▅▅▅▅▅▅▆▆▆▆▆▆▆▇▇▇▇▇▇█</td></tr><tr><td>test_logloss</td><td>█▇▇▄▃▃▂▂▁▁▁▁▁▁▁▁▁▁▁▁▁▁▁▁▁▁▁▁▁▁▁▁▁▁▁▁▁▁▁▁</td></tr><tr><td>train_logloss</td><td>█▅▄▃▂▂▂▁▁▁▁▁▁▁▁▁▁▁▁▁▁▁▁▁▁▁▁▁▁▁▁▁▁▁▁▁▁▁▁▁</td></tr></table><br/></div><div class=\"wandb-col\"><h3>Run summary:</h3><br/><table class=\"wandb\"><tr><td>Acceptance</td><td>0.38577</td></tr><tr><td>Max S/sqrt(B)</td><td>3.27147</td></tr><tr><td>Test ROC AUC</td><td>0.97936</td></tr><tr><td>bdtscore2 cut</td><td>0.03</td></tr><tr><td>iteration</td><td>143</td></tr><tr><td>test_logloss</td><td>0.00133</td></tr><tr><td>train_logloss</td><td>0.00124</td></tr></table><br/></div></div>"
      ],
      "text/plain": [
       "<IPython.core.display.HTML object>"
      ]
     },
     "metadata": {},
     "output_type": "display_data"
    },
    {
     "data": {
      "text/html": [
       " View run <strong style=\"color:#cdcd00\">zesty-sweep-27</strong> at: <a href='https://wandb.ai/dlai211/Dark_ph_BDT_Sweep/runs/339li7y1' target=\"_blank\">https://wandb.ai/dlai211/Dark_ph_BDT_Sweep/runs/339li7y1</a><br> View project at: <a href='https://wandb.ai/dlai211/Dark_ph_BDT_Sweep' target=\"_blank\">https://wandb.ai/dlai211/Dark_ph_BDT_Sweep</a><br>Synced 5 W&B file(s), 0 media file(s), 0 artifact file(s) and 0 other file(s)"
      ],
      "text/plain": [
       "<IPython.core.display.HTML object>"
      ]
     },
     "metadata": {},
     "output_type": "display_data"
    },
    {
     "data": {
      "text/html": [
       "Find logs at: <code>./wandb/run-20250819_041714-339li7y1/logs</code>"
      ],
      "text/plain": [
       "<IPython.core.display.HTML object>"
      ]
     },
     "metadata": {},
     "output_type": "display_data"
    },
    {
     "name": "stderr",
     "output_type": "stream",
     "text": [
      "\u001b[34m\u001b[1mwandb\u001b[0m: Agent Starting Run: 3f4fzaf9 with config:\n",
      "\u001b[34m\u001b[1mwandb\u001b[0m: \tgamma: 0.4156018180613925\n",
      "\u001b[34m\u001b[1mwandb\u001b[0m: \tlearning_rate: 0.009053468088411102\n",
      "\u001b[34m\u001b[1mwandb\u001b[0m: \tmax_depth: 7\n",
      "\u001b[34m\u001b[1mwandb\u001b[0m: \tn_estimators: 680\n",
      "\u001b[34m\u001b[1mwandb\u001b[0m: \tsubsample: 0.5177318631558826\n"
     ]
    },
    {
     "data": {
      "text/html": [
       "Tracking run with wandb version 0.21.0"
      ],
      "text/plain": [
       "<IPython.core.display.HTML object>"
      ]
     },
     "metadata": {},
     "output_type": "display_data"
    },
    {
     "data": {
      "text/html": [
       "Run data is saved locally in <code>/home/jlai/ML/jet_faking/wandb/run-20250819_041725-3f4fzaf9</code>"
      ],
      "text/plain": [
       "<IPython.core.display.HTML object>"
      ]
     },
     "metadata": {},
     "output_type": "display_data"
    },
    {
     "data": {
      "text/html": [
       "Syncing run <strong><a href='https://wandb.ai/dlai211/Dark_ph_BDT_Sweep/runs/3f4fzaf9' target=\"_blank\">smooth-sweep-28</a></strong> to <a href='https://wandb.ai/dlai211/Dark_ph_BDT_Sweep' target=\"_blank\">Weights & Biases</a> (<a href='https://wandb.me/developer-guide' target=\"_blank\">docs</a>)<br>Sweep page: <a href='https://wandb.ai/dlai211/Dark_ph_BDT_Sweep/sweeps/4roma3zu' target=\"_blank\">https://wandb.ai/dlai211/Dark_ph_BDT_Sweep/sweeps/4roma3zu</a>"
      ],
      "text/plain": [
       "<IPython.core.display.HTML object>"
      ]
     },
     "metadata": {},
     "output_type": "display_data"
    },
    {
     "data": {
      "text/html": [
       " View project at <a href='https://wandb.ai/dlai211/Dark_ph_BDT_Sweep' target=\"_blank\">https://wandb.ai/dlai211/Dark_ph_BDT_Sweep</a>"
      ],
      "text/plain": [
       "<IPython.core.display.HTML object>"
      ]
     },
     "metadata": {},
     "output_type": "display_data"
    },
    {
     "data": {
      "text/html": [
       " View sweep at <a href='https://wandb.ai/dlai211/Dark_ph_BDT_Sweep/sweeps/4roma3zu' target=\"_blank\">https://wandb.ai/dlai211/Dark_ph_BDT_Sweep/sweeps/4roma3zu</a>"
      ],
      "text/plain": [
       "<IPython.core.display.HTML object>"
      ]
     },
     "metadata": {},
     "output_type": "display_data"
    },
    {
     "data": {
      "text/html": [
       " View run at <a href='https://wandb.ai/dlai211/Dark_ph_BDT_Sweep/runs/3f4fzaf9' target=\"_blank\">https://wandb.ai/dlai211/Dark_ph_BDT_Sweep/runs/3f4fzaf9</a>"
      ],
      "text/plain": [
       "<IPython.core.display.HTML object>"
      ]
     },
     "metadata": {},
     "output_type": "display_data"
    },
    {
     "data": {
      "text/html": [],
      "text/plain": [
       "<IPython.core.display.HTML object>"
      ]
     },
     "metadata": {},
     "output_type": "display_data"
    },
    {
     "data": {
      "text/html": [
       "<br>    <style><br>        .wandb-row {<br>            display: flex;<br>            flex-direction: row;<br>            flex-wrap: wrap;<br>            justify-content: flex-start;<br>            width: 100%;<br>        }<br>        .wandb-col {<br>            display: flex;<br>            flex-direction: column;<br>            flex-basis: 100%;<br>            flex: 1;<br>            padding: 10px;<br>        }<br>    </style><br><div class=\"wandb-row\"><div class=\"wandb-col\"><h3>Run history:</h3><br/><table class=\"wandb\"><tr><td>Acceptance</td><td>▁</td></tr><tr><td>Max S/sqrt(B)</td><td>▁</td></tr><tr><td>Test ROC AUC</td><td>▁</td></tr><tr><td>bdtscore2 cut</td><td>▁</td></tr><tr><td>iteration</td><td>▁▁▁▁▂▂▂▂▂▂▃▃▃▃▃▄▄▅▅▅▆▆▆▆▆▆▆▆▆▆▇▇▇▇▇▇▇▇██</td></tr><tr><td>test_logloss</td><td>███▇▆▅▅▄▄▄▃▃▃▃▃▃▂▂▂▂▂▂▂▂▂▁▁▁▁▁▁▁▁▁▁▁▁▁▁▁</td></tr><tr><td>train_logloss</td><td>█▇▆▆▄▃▃▃▃▂▂▂▂▂▁▁▁▁▁▁▁▁▁▁▁▁▁▁▁▁▁▁▁▁▁▁▁▁▁▁</td></tr></table><br/></div><div class=\"wandb-col\"><h3>Run summary:</h3><br/><table class=\"wandb\"><tr><td>Acceptance</td><td>0.38019</td></tr><tr><td>Max S/sqrt(B)</td><td>3.31182</td></tr><tr><td>Test ROC AUC</td><td>0.96608</td></tr><tr><td>bdtscore2 cut</td><td>0.03</td></tr><tr><td>iteration</td><td>643</td></tr><tr><td>test_logloss</td><td>0.00164</td></tr><tr><td>train_logloss</td><td>0.00157</td></tr></table><br/></div></div>"
      ],
      "text/plain": [
       "<IPython.core.display.HTML object>"
      ]
     },
     "metadata": {},
     "output_type": "display_data"
    },
    {
     "data": {
      "text/html": [
       " View run <strong style=\"color:#cdcd00\">smooth-sweep-28</strong> at: <a href='https://wandb.ai/dlai211/Dark_ph_BDT_Sweep/runs/3f4fzaf9' target=\"_blank\">https://wandb.ai/dlai211/Dark_ph_BDT_Sweep/runs/3f4fzaf9</a><br> View project at: <a href='https://wandb.ai/dlai211/Dark_ph_BDT_Sweep' target=\"_blank\">https://wandb.ai/dlai211/Dark_ph_BDT_Sweep</a><br>Synced 5 W&B file(s), 0 media file(s), 0 artifact file(s) and 0 other file(s)"
      ],
      "text/plain": [
       "<IPython.core.display.HTML object>"
      ]
     },
     "metadata": {},
     "output_type": "display_data"
    },
    {
     "data": {
      "text/html": [
       "Find logs at: <code>./wandb/run-20250819_041725-3f4fzaf9/logs</code>"
      ],
      "text/plain": [
       "<IPython.core.display.HTML object>"
      ]
     },
     "metadata": {},
     "output_type": "display_data"
    },
    {
     "name": "stderr",
     "output_type": "stream",
     "text": [
      "\u001b[34m\u001b[1mwandb\u001b[0m: Agent Starting Run: q0cyyovw with config:\n",
      "\u001b[34m\u001b[1mwandb\u001b[0m: \tgamma: 0.22406635841461764\n",
      "\u001b[34m\u001b[1mwandb\u001b[0m: \tlearning_rate: 0.03881143239240125\n",
      "\u001b[34m\u001b[1mwandb\u001b[0m: \tmax_depth: 3\n",
      "\u001b[34m\u001b[1mwandb\u001b[0m: \tn_estimators: 739\n",
      "\u001b[34m\u001b[1mwandb\u001b[0m: \tsubsample: 0.32486664711539165\n"
     ]
    },
    {
     "data": {
      "text/html": [
       "Tracking run with wandb version 0.21.0"
      ],
      "text/plain": [
       "<IPython.core.display.HTML object>"
      ]
     },
     "metadata": {},
     "output_type": "display_data"
    },
    {
     "data": {
      "text/html": [
       "Run data is saved locally in <code>/home/jlai/ML/jet_faking/wandb/run-20250819_041739-q0cyyovw</code>"
      ],
      "text/plain": [
       "<IPython.core.display.HTML object>"
      ]
     },
     "metadata": {},
     "output_type": "display_data"
    },
    {
     "data": {
      "text/html": [
       "Syncing run <strong><a href='https://wandb.ai/dlai211/Dark_ph_BDT_Sweep/runs/q0cyyovw' target=\"_blank\">ruby-sweep-29</a></strong> to <a href='https://wandb.ai/dlai211/Dark_ph_BDT_Sweep' target=\"_blank\">Weights & Biases</a> (<a href='https://wandb.me/developer-guide' target=\"_blank\">docs</a>)<br>Sweep page: <a href='https://wandb.ai/dlai211/Dark_ph_BDT_Sweep/sweeps/4roma3zu' target=\"_blank\">https://wandb.ai/dlai211/Dark_ph_BDT_Sweep/sweeps/4roma3zu</a>"
      ],
      "text/plain": [
       "<IPython.core.display.HTML object>"
      ]
     },
     "metadata": {},
     "output_type": "display_data"
    },
    {
     "data": {
      "text/html": [
       " View project at <a href='https://wandb.ai/dlai211/Dark_ph_BDT_Sweep' target=\"_blank\">https://wandb.ai/dlai211/Dark_ph_BDT_Sweep</a>"
      ],
      "text/plain": [
       "<IPython.core.display.HTML object>"
      ]
     },
     "metadata": {},
     "output_type": "display_data"
    },
    {
     "data": {
      "text/html": [
       " View sweep at <a href='https://wandb.ai/dlai211/Dark_ph_BDT_Sweep/sweeps/4roma3zu' target=\"_blank\">https://wandb.ai/dlai211/Dark_ph_BDT_Sweep/sweeps/4roma3zu</a>"
      ],
      "text/plain": [
       "<IPython.core.display.HTML object>"
      ]
     },
     "metadata": {},
     "output_type": "display_data"
    },
    {
     "data": {
      "text/html": [
       " View run at <a href='https://wandb.ai/dlai211/Dark_ph_BDT_Sweep/runs/q0cyyovw' target=\"_blank\">https://wandb.ai/dlai211/Dark_ph_BDT_Sweep/runs/q0cyyovw</a>"
      ],
      "text/plain": [
       "<IPython.core.display.HTML object>"
      ]
     },
     "metadata": {},
     "output_type": "display_data"
    },
    {
     "data": {
      "text/html": [],
      "text/plain": [
       "<IPython.core.display.HTML object>"
      ]
     },
     "metadata": {},
     "output_type": "display_data"
    },
    {
     "data": {
      "text/html": [
       "<br>    <style><br>        .wandb-row {<br>            display: flex;<br>            flex-direction: row;<br>            flex-wrap: wrap;<br>            justify-content: flex-start;<br>            width: 100%;<br>        }<br>        .wandb-col {<br>            display: flex;<br>            flex-direction: column;<br>            flex-basis: 100%;<br>            flex: 1;<br>            padding: 10px;<br>        }<br>    </style><br><div class=\"wandb-row\"><div class=\"wandb-col\"><h3>Run history:</h3><br/><table class=\"wandb\"><tr><td>Acceptance</td><td>▁</td></tr><tr><td>Max S/sqrt(B)</td><td>▁</td></tr><tr><td>Test ROC AUC</td><td>▁</td></tr><tr><td>bdtscore2 cut</td><td>▁</td></tr><tr><td>iteration</td><td>▁▁▁▁▁▂▂▂▂▂▂▃▃▃▃▄▄▄▄▄▄▅▅▅▅▆▆▆▆▆▇▇▇▇▇▇▇▇██</td></tr><tr><td>test_logloss</td><td>█▄▃▂▁▁▁▁▁▁▁▁▁▁▁▁▁▁▁▁▁▁▁▁▁▁▁▁▁▁▁▁▁▁▁▁▁▁▁▁</td></tr><tr><td>train_logloss</td><td>█▆▅▄▄▁▁▁▁▁▁▁▁▁▁▁▁▁▁▁▁▁▁▁▁▁▁▁▁▁▁▁▁▁▁▁▁▁▁▁</td></tr></table><br/></div><div class=\"wandb-col\"><h3>Run summary:</h3><br/><table class=\"wandb\"><tr><td>Acceptance</td><td>0.39589</td></tr><tr><td>Max S/sqrt(B)</td><td>3.3413</td></tr><tr><td>Test ROC AUC</td><td>0.98052</td></tr><tr><td>bdtscore2 cut</td><td>0.03</td></tr><tr><td>iteration</td><td>529</td></tr><tr><td>test_logloss</td><td>0.00131</td></tr><tr><td>train_logloss</td><td>0.00124</td></tr></table><br/></div></div>"
      ],
      "text/plain": [
       "<IPython.core.display.HTML object>"
      ]
     },
     "metadata": {},
     "output_type": "display_data"
    },
    {
     "data": {
      "text/html": [
       " View run <strong style=\"color:#cdcd00\">ruby-sweep-29</strong> at: <a href='https://wandb.ai/dlai211/Dark_ph_BDT_Sweep/runs/q0cyyovw' target=\"_blank\">https://wandb.ai/dlai211/Dark_ph_BDT_Sweep/runs/q0cyyovw</a><br> View project at: <a href='https://wandb.ai/dlai211/Dark_ph_BDT_Sweep' target=\"_blank\">https://wandb.ai/dlai211/Dark_ph_BDT_Sweep</a><br>Synced 5 W&B file(s), 0 media file(s), 0 artifact file(s) and 0 other file(s)"
      ],
      "text/plain": [
       "<IPython.core.display.HTML object>"
      ]
     },
     "metadata": {},
     "output_type": "display_data"
    },
    {
     "data": {
      "text/html": [
       "Find logs at: <code>./wandb/run-20250819_041739-q0cyyovw/logs</code>"
      ],
      "text/plain": [
       "<IPython.core.display.HTML object>"
      ]
     },
     "metadata": {},
     "output_type": "display_data"
    },
    {
     "name": "stderr",
     "output_type": "stream",
     "text": [
      "\u001b[34m\u001b[1mwandb\u001b[0m: Agent Starting Run: 64ebwxi1 with config:\n",
      "\u001b[34m\u001b[1mwandb\u001b[0m: \tgamma: 0.35851802110981656\n",
      "\u001b[34m\u001b[1mwandb\u001b[0m: \tlearning_rate: 0.022101766879790947\n",
      "\u001b[34m\u001b[1mwandb\u001b[0m: \tmax_depth: 7\n",
      "\u001b[34m\u001b[1mwandb\u001b[0m: \tn_estimators: 357\n",
      "\u001b[34m\u001b[1mwandb\u001b[0m: \tsubsample: 0.7708128217358765\n"
     ]
    },
    {
     "data": {
      "text/html": [
       "Tracking run with wandb version 0.21.0"
      ],
      "text/plain": [
       "<IPython.core.display.HTML object>"
      ]
     },
     "metadata": {},
     "output_type": "display_data"
    },
    {
     "data": {
      "text/html": [
       "Run data is saved locally in <code>/home/jlai/ML/jet_faking/wandb/run-20250819_041755-64ebwxi1</code>"
      ],
      "text/plain": [
       "<IPython.core.display.HTML object>"
      ]
     },
     "metadata": {},
     "output_type": "display_data"
    },
    {
     "data": {
      "text/html": [
       "Syncing run <strong><a href='https://wandb.ai/dlai211/Dark_ph_BDT_Sweep/runs/64ebwxi1' target=\"_blank\">rosy-sweep-30</a></strong> to <a href='https://wandb.ai/dlai211/Dark_ph_BDT_Sweep' target=\"_blank\">Weights & Biases</a> (<a href='https://wandb.me/developer-guide' target=\"_blank\">docs</a>)<br>Sweep page: <a href='https://wandb.ai/dlai211/Dark_ph_BDT_Sweep/sweeps/4roma3zu' target=\"_blank\">https://wandb.ai/dlai211/Dark_ph_BDT_Sweep/sweeps/4roma3zu</a>"
      ],
      "text/plain": [
       "<IPython.core.display.HTML object>"
      ]
     },
     "metadata": {},
     "output_type": "display_data"
    },
    {
     "data": {
      "text/html": [
       " View project at <a href='https://wandb.ai/dlai211/Dark_ph_BDT_Sweep' target=\"_blank\">https://wandb.ai/dlai211/Dark_ph_BDT_Sweep</a>"
      ],
      "text/plain": [
       "<IPython.core.display.HTML object>"
      ]
     },
     "metadata": {},
     "output_type": "display_data"
    },
    {
     "data": {
      "text/html": [
       " View sweep at <a href='https://wandb.ai/dlai211/Dark_ph_BDT_Sweep/sweeps/4roma3zu' target=\"_blank\">https://wandb.ai/dlai211/Dark_ph_BDT_Sweep/sweeps/4roma3zu</a>"
      ],
      "text/plain": [
       "<IPython.core.display.HTML object>"
      ]
     },
     "metadata": {},
     "output_type": "display_data"
    },
    {
     "data": {
      "text/html": [
       " View run at <a href='https://wandb.ai/dlai211/Dark_ph_BDT_Sweep/runs/64ebwxi1' target=\"_blank\">https://wandb.ai/dlai211/Dark_ph_BDT_Sweep/runs/64ebwxi1</a>"
      ],
      "text/plain": [
       "<IPython.core.display.HTML object>"
      ]
     },
     "metadata": {},
     "output_type": "display_data"
    },
    {
     "data": {
      "text/html": [],
      "text/plain": [
       "<IPython.core.display.HTML object>"
      ]
     },
     "metadata": {},
     "output_type": "display_data"
    },
    {
     "data": {
      "text/html": [
       "<br>    <style><br>        .wandb-row {<br>            display: flex;<br>            flex-direction: row;<br>            flex-wrap: wrap;<br>            justify-content: flex-start;<br>            width: 100%;<br>        }<br>        .wandb-col {<br>            display: flex;<br>            flex-direction: column;<br>            flex-basis: 100%;<br>            flex: 1;<br>            padding: 10px;<br>        }<br>    </style><br><div class=\"wandb-row\"><div class=\"wandb-col\"><h3>Run history:</h3><br/><table class=\"wandb\"><tr><td>Acceptance</td><td>▁</td></tr><tr><td>Max S/sqrt(B)</td><td>▁</td></tr><tr><td>Test ROC AUC</td><td>▁</td></tr><tr><td>bdtscore2 cut</td><td>▁</td></tr><tr><td>iteration</td><td>▁▁▁▁▂▂▂▂▂▃▃▃▃▄▄▄▄▄▅▅▅▅▆▆▆▆▆▆▆▆▇▇▇▇▇▇████</td></tr><tr><td>test_logloss</td><td>█▇▇▇▅▅▅▅▃▃▃▃▃▃▂▂▂▂▁▁▁▁▁▁▁▁▁▁▁▁▁▁▁▁▁▁▁▁▁▁</td></tr><tr><td>train_logloss</td><td>█▆▅▅▄▃▃▃▂▂▂▂▂▂▂▁▁▁▁▁▁▁▁▁▁▁▁▁▁▁▁▁▁▁▁▁▁▁▁▁</td></tr></table><br/></div><div class=\"wandb-col\"><h3>Run summary:</h3><br/><table class=\"wandb\"><tr><td>Acceptance</td><td>0.40975</td></tr><tr><td>Max S/sqrt(B)</td><td>3.44836</td></tr><tr><td>Test ROC AUC</td><td>0.97551</td></tr><tr><td>bdtscore2 cut</td><td>0.03</td></tr><tr><td>iteration</td><td>356</td></tr><tr><td>test_logloss</td><td>0.00135</td></tr><tr><td>train_logloss</td><td>0.00126</td></tr></table><br/></div></div>"
      ],
      "text/plain": [
       "<IPython.core.display.HTML object>"
      ]
     },
     "metadata": {},
     "output_type": "display_data"
    },
    {
     "data": {
      "text/html": [
       " View run <strong style=\"color:#cdcd00\">rosy-sweep-30</strong> at: <a href='https://wandb.ai/dlai211/Dark_ph_BDT_Sweep/runs/64ebwxi1' target=\"_blank\">https://wandb.ai/dlai211/Dark_ph_BDT_Sweep/runs/64ebwxi1</a><br> View project at: <a href='https://wandb.ai/dlai211/Dark_ph_BDT_Sweep' target=\"_blank\">https://wandb.ai/dlai211/Dark_ph_BDT_Sweep</a><br>Synced 5 W&B file(s), 0 media file(s), 0 artifact file(s) and 0 other file(s)"
      ],
      "text/plain": [
       "<IPython.core.display.HTML object>"
      ]
     },
     "metadata": {},
     "output_type": "display_data"
    },
    {
     "data": {
      "text/html": [
       "Find logs at: <code>./wandb/run-20250819_041755-64ebwxi1/logs</code>"
      ],
      "text/plain": [
       "<IPython.core.display.HTML object>"
      ]
     },
     "metadata": {},
     "output_type": "display_data"
    }
   ],
   "source": [
    "# === Run Sweep ===\n",
    "sweep_id = wandb.sweep(sweep_config, project=\"Dark_ph_BDT_Sweep\")\n",
    "wandb.agent(sweep_id, function=sweep_train, count=30)"
   ]
  },
  {
   "cell_type": "code",
   "execution_count": 32,
   "id": "27be4a26-e87e-4648-bcf5-56467c575604",
   "metadata": {},
   "outputs": [
    {
     "name": "stdout",
     "output_type": "stream",
     "text": [
      "[0]\tvalidation_0-logloss:0.11641\tvalidation_0-error:0.00023\tvalidation_0-auc:0.82375\n",
      "[1]\tvalidation_0-logloss:0.10636\tvalidation_0-error:0.00023\tvalidation_0-auc:0.82442\n",
      "[2]\tvalidation_0-logloss:0.09724\tvalidation_0-error:0.00023\tvalidation_0-auc:0.82460\n",
      "[3]\tvalidation_0-logloss:0.08894\tvalidation_0-error:0.00023\tvalidation_0-auc:0.84203\n",
      "[4]\tvalidation_0-logloss:0.08139\tvalidation_0-error:0.00023\tvalidation_0-auc:0.84203\n",
      "[5]\tvalidation_0-logloss:0.07452\tvalidation_0-error:0.00023\tvalidation_0-auc:0.84206\n",
      "[6]\tvalidation_0-logloss:0.06826\tvalidation_0-error:0.00023\tvalidation_0-auc:0.84204\n",
      "[7]\tvalidation_0-logloss:0.06255\tvalidation_0-error:0.00023\tvalidation_0-auc:0.84205\n",
      "[8]\tvalidation_0-logloss:0.05734\tvalidation_0-error:0.00023\tvalidation_0-auc:0.84205\n"
     ]
    },
    {
     "name": "stderr",
     "output_type": "stream",
     "text": [
      "[17:49:41] WARNING: /workspace/src/learner.cc:740: \n",
      "Parameters: { \"use_label_encoder\" } are not used.\n",
      "\n"
     ]
    },
    {
     "name": "stdout",
     "output_type": "stream",
     "text": [
      "[9]\tvalidation_0-logloss:0.05258\tvalidation_0-error:0.00023\tvalidation_0-auc:0.84211\n",
      "[10]\tvalidation_0-logloss:0.04824\tvalidation_0-error:0.00023\tvalidation_0-auc:0.84203\n",
      "[11]\tvalidation_0-logloss:0.04428\tvalidation_0-error:0.00023\tvalidation_0-auc:0.84197\n",
      "[12]\tvalidation_0-logloss:0.04065\tvalidation_0-error:0.00023\tvalidation_0-auc:0.84221\n",
      "[13]\tvalidation_0-logloss:0.03734\tvalidation_0-error:0.00023\tvalidation_0-auc:0.84220\n",
      "[14]\tvalidation_0-logloss:0.03431\tvalidation_0-error:0.00023\tvalidation_0-auc:0.84219\n",
      "[15]\tvalidation_0-logloss:0.03154\tvalidation_0-error:0.00023\tvalidation_0-auc:0.84227\n",
      "[16]\tvalidation_0-logloss:0.02900\tvalidation_0-error:0.00023\tvalidation_0-auc:0.84228\n",
      "[17]\tvalidation_0-logloss:0.02668\tvalidation_0-error:0.00023\tvalidation_0-auc:0.84227\n",
      "[18]\tvalidation_0-logloss:0.02456\tvalidation_0-error:0.00023\tvalidation_0-auc:0.84236\n",
      "[19]\tvalidation_0-logloss:0.02261\tvalidation_0-error:0.00023\tvalidation_0-auc:0.84233\n",
      "[20]\tvalidation_0-logloss:0.02083\tvalidation_0-error:0.00023\tvalidation_0-auc:0.84237\n",
      "[21]\tvalidation_0-logloss:0.01920\tvalidation_0-error:0.00023\tvalidation_0-auc:0.84245\n",
      "[22]\tvalidation_0-logloss:0.01771\tvalidation_0-error:0.00023\tvalidation_0-auc:0.84267\n",
      "[23]\tvalidation_0-logloss:0.01634\tvalidation_0-error:0.00023\tvalidation_0-auc:0.84270\n",
      "[24]\tvalidation_0-logloss:0.01508\tvalidation_0-error:0.00023\tvalidation_0-auc:0.84288\n",
      "[25]\tvalidation_0-logloss:0.01394\tvalidation_0-error:0.00023\tvalidation_0-auc:0.84294\n",
      "[26]\tvalidation_0-logloss:0.01288\tvalidation_0-error:0.00023\tvalidation_0-auc:0.84296\n",
      "[27]\tvalidation_0-logloss:0.01192\tvalidation_0-error:0.00023\tvalidation_0-auc:0.84303\n",
      "[28]\tvalidation_0-logloss:0.01103\tvalidation_0-error:0.00023\tvalidation_0-auc:0.85830\n",
      "[29]\tvalidation_0-logloss:0.01022\tvalidation_0-error:0.00023\tvalidation_0-auc:0.85848\n",
      "[30]\tvalidation_0-logloss:0.00948\tvalidation_0-error:0.00023\tvalidation_0-auc:0.88188\n",
      "[31]\tvalidation_0-logloss:0.00880\tvalidation_0-error:0.00023\tvalidation_0-auc:0.88223\n",
      "[32]\tvalidation_0-logloss:0.00817\tvalidation_0-error:0.00023\tvalidation_0-auc:0.89900\n",
      "[33]\tvalidation_0-logloss:0.00760\tvalidation_0-error:0.00023\tvalidation_0-auc:0.89921\n",
      "[34]\tvalidation_0-logloss:0.00707\tvalidation_0-error:0.00023\tvalidation_0-auc:0.89930\n",
      "[35]\tvalidation_0-logloss:0.00659\tvalidation_0-error:0.00023\tvalidation_0-auc:0.89940\n",
      "[36]\tvalidation_0-logloss:0.00615\tvalidation_0-error:0.00023\tvalidation_0-auc:0.90287\n",
      "[37]\tvalidation_0-logloss:0.00574\tvalidation_0-error:0.00023\tvalidation_0-auc:0.90291\n",
      "[38]\tvalidation_0-logloss:0.00537\tvalidation_0-error:0.00023\tvalidation_0-auc:0.90295\n",
      "[39]\tvalidation_0-logloss:0.00503\tvalidation_0-error:0.00023\tvalidation_0-auc:0.91683\n",
      "[40]\tvalidation_0-logloss:0.00472\tvalidation_0-error:0.00023\tvalidation_0-auc:0.91699\n",
      "[41]\tvalidation_0-logloss:0.00443\tvalidation_0-error:0.00023\tvalidation_0-auc:0.91702\n",
      "[42]\tvalidation_0-logloss:0.00417\tvalidation_0-error:0.00023\tvalidation_0-auc:0.91701\n",
      "[43]\tvalidation_0-logloss:0.00393\tvalidation_0-error:0.00023\tvalidation_0-auc:0.91713\n",
      "[44]\tvalidation_0-logloss:0.00371\tvalidation_0-error:0.00023\tvalidation_0-auc:0.91717\n",
      "[45]\tvalidation_0-logloss:0.00351\tvalidation_0-error:0.00023\tvalidation_0-auc:0.91719\n",
      "[46]\tvalidation_0-logloss:0.00332\tvalidation_0-error:0.00023\tvalidation_0-auc:0.91717\n",
      "[47]\tvalidation_0-logloss:0.00315\tvalidation_0-error:0.00023\tvalidation_0-auc:0.91724\n",
      "[48]\tvalidation_0-logloss:0.00300\tvalidation_0-error:0.00023\tvalidation_0-auc:0.91732\n",
      "[49]\tvalidation_0-logloss:0.00285\tvalidation_0-error:0.00023\tvalidation_0-auc:0.91736\n",
      "[50]\tvalidation_0-logloss:0.00272\tvalidation_0-error:0.00023\tvalidation_0-auc:0.91742\n",
      "[51]\tvalidation_0-logloss:0.00260\tvalidation_0-error:0.00023\tvalidation_0-auc:0.91746\n",
      "[52]\tvalidation_0-logloss:0.00249\tvalidation_0-error:0.00023\tvalidation_0-auc:0.91749\n",
      "[53]\tvalidation_0-logloss:0.00239\tvalidation_0-error:0.00023\tvalidation_0-auc:0.91750\n",
      "[54]\tvalidation_0-logloss:0.00230\tvalidation_0-error:0.00023\tvalidation_0-auc:0.91760\n",
      "[55]\tvalidation_0-logloss:0.00222\tvalidation_0-error:0.00023\tvalidation_0-auc:0.91761\n",
      "[56]\tvalidation_0-logloss:0.00214\tvalidation_0-error:0.00023\tvalidation_0-auc:0.91772\n",
      "[57]\tvalidation_0-logloss:0.00207\tvalidation_0-error:0.00023\tvalidation_0-auc:0.92791\n",
      "[58]\tvalidation_0-logloss:0.00200\tvalidation_0-error:0.00023\tvalidation_0-auc:0.92792\n",
      "[59]\tvalidation_0-logloss:0.00194\tvalidation_0-error:0.00023\tvalidation_0-auc:0.93385\n",
      "[60]\tvalidation_0-logloss:0.00189\tvalidation_0-error:0.00023\tvalidation_0-auc:0.93386\n",
      "[61]\tvalidation_0-logloss:0.00184\tvalidation_0-error:0.00023\tvalidation_0-auc:0.93391\n",
      "[62]\tvalidation_0-logloss:0.00180\tvalidation_0-error:0.00023\tvalidation_0-auc:0.93409\n",
      "[63]\tvalidation_0-logloss:0.00175\tvalidation_0-error:0.00023\tvalidation_0-auc:0.93411\n",
      "[64]\tvalidation_0-logloss:0.00172\tvalidation_0-error:0.00023\tvalidation_0-auc:0.93405\n",
      "[65]\tvalidation_0-logloss:0.00168\tvalidation_0-error:0.00023\tvalidation_0-auc:0.93405\n",
      "[66]\tvalidation_0-logloss:0.00165\tvalidation_0-error:0.00023\tvalidation_0-auc:0.93425\n",
      "[67]\tvalidation_0-logloss:0.00162\tvalidation_0-error:0.00023\tvalidation_0-auc:0.93430\n",
      "[68]\tvalidation_0-logloss:0.00159\tvalidation_0-error:0.00023\tvalidation_0-auc:0.93428\n",
      "[69]\tvalidation_0-logloss:0.00157\tvalidation_0-error:0.00023\tvalidation_0-auc:0.95715\n",
      "[70]\tvalidation_0-logloss:0.00155\tvalidation_0-error:0.00023\tvalidation_0-auc:0.95704\n",
      "[71]\tvalidation_0-logloss:0.00153\tvalidation_0-error:0.00023\tvalidation_0-auc:0.95700\n",
      "[72]\tvalidation_0-logloss:0.00151\tvalidation_0-error:0.00023\tvalidation_0-auc:0.95698\n",
      "[73]\tvalidation_0-logloss:0.00149\tvalidation_0-error:0.00023\tvalidation_0-auc:0.95705\n",
      "[74]\tvalidation_0-logloss:0.00148\tvalidation_0-error:0.00023\tvalidation_0-auc:0.95712\n",
      "[75]\tvalidation_0-logloss:0.00146\tvalidation_0-error:0.00023\tvalidation_0-auc:0.96460\n",
      "[76]\tvalidation_0-logloss:0.00145\tvalidation_0-error:0.00023\tvalidation_0-auc:0.96451\n",
      "[77]\tvalidation_0-logloss:0.00144\tvalidation_0-error:0.00023\tvalidation_0-auc:0.96609\n",
      "[78]\tvalidation_0-logloss:0.00142\tvalidation_0-error:0.00023\tvalidation_0-auc:0.96604\n",
      "[79]\tvalidation_0-logloss:0.00142\tvalidation_0-error:0.00023\tvalidation_0-auc:0.96577\n",
      "[80]\tvalidation_0-logloss:0.00141\tvalidation_0-error:0.00023\tvalidation_0-auc:0.96589\n",
      "[81]\tvalidation_0-logloss:0.00140\tvalidation_0-error:0.00023\tvalidation_0-auc:0.96575\n",
      "[82]\tvalidation_0-logloss:0.00139\tvalidation_0-error:0.00023\tvalidation_0-auc:0.96636\n",
      "[83]\tvalidation_0-logloss:0.00138\tvalidation_0-error:0.00023\tvalidation_0-auc:0.96693\n",
      "[84]\tvalidation_0-logloss:0.00137\tvalidation_0-error:0.00023\tvalidation_0-auc:0.97007\n",
      "[85]\tvalidation_0-logloss:0.00137\tvalidation_0-error:0.00023\tvalidation_0-auc:0.97035\n",
      "[86]\tvalidation_0-logloss:0.00136\tvalidation_0-error:0.00023\tvalidation_0-auc:0.97085\n",
      "[87]\tvalidation_0-logloss:0.00136\tvalidation_0-error:0.00023\tvalidation_0-auc:0.97170\n",
      "[88]\tvalidation_0-logloss:0.00135\tvalidation_0-error:0.00023\tvalidation_0-auc:0.97165\n",
      "[89]\tvalidation_0-logloss:0.00135\tvalidation_0-error:0.00023\tvalidation_0-auc:0.97140\n",
      "[90]\tvalidation_0-logloss:0.00134\tvalidation_0-error:0.00023\tvalidation_0-auc:0.97269\n",
      "[91]\tvalidation_0-logloss:0.00134\tvalidation_0-error:0.00023\tvalidation_0-auc:0.97310\n",
      "[92]\tvalidation_0-logloss:0.00133\tvalidation_0-error:0.00023\tvalidation_0-auc:0.97378\n",
      "[93]\tvalidation_0-logloss:0.00133\tvalidation_0-error:0.00023\tvalidation_0-auc:0.97384\n",
      "[94]\tvalidation_0-logloss:0.00133\tvalidation_0-error:0.00023\tvalidation_0-auc:0.97410\n",
      "[95]\tvalidation_0-logloss:0.00133\tvalidation_0-error:0.00023\tvalidation_0-auc:0.97441\n",
      "[96]\tvalidation_0-logloss:0.00132\tvalidation_0-error:0.00023\tvalidation_0-auc:0.97457\n",
      "[97]\tvalidation_0-logloss:0.00132\tvalidation_0-error:0.00023\tvalidation_0-auc:0.97543\n",
      "[98]\tvalidation_0-logloss:0.00132\tvalidation_0-error:0.00023\tvalidation_0-auc:0.97598\n",
      "[99]\tvalidation_0-logloss:0.00131\tvalidation_0-error:0.00023\tvalidation_0-auc:0.97635\n",
      "[100]\tvalidation_0-logloss:0.00131\tvalidation_0-error:0.00023\tvalidation_0-auc:0.97694\n",
      "[101]\tvalidation_0-logloss:0.00131\tvalidation_0-error:0.00023\tvalidation_0-auc:0.97694\n",
      "[102]\tvalidation_0-logloss:0.00131\tvalidation_0-error:0.00023\tvalidation_0-auc:0.97709\n",
      "[103]\tvalidation_0-logloss:0.00131\tvalidation_0-error:0.00023\tvalidation_0-auc:0.97741\n",
      "[104]\tvalidation_0-logloss:0.00131\tvalidation_0-error:0.00023\tvalidation_0-auc:0.97756\n",
      "[105]\tvalidation_0-logloss:0.00131\tvalidation_0-error:0.00023\tvalidation_0-auc:0.97774\n",
      "[106]\tvalidation_0-logloss:0.00130\tvalidation_0-error:0.00023\tvalidation_0-auc:0.97786\n",
      "[107]\tvalidation_0-logloss:0.00130\tvalidation_0-error:0.00023\tvalidation_0-auc:0.97801\n",
      "[108]\tvalidation_0-logloss:0.00130\tvalidation_0-error:0.00023\tvalidation_0-auc:0.97802\n",
      "[109]\tvalidation_0-logloss:0.00130\tvalidation_0-error:0.00023\tvalidation_0-auc:0.97819\n",
      "[110]\tvalidation_0-logloss:0.00130\tvalidation_0-error:0.00023\tvalidation_0-auc:0.97822\n",
      "[111]\tvalidation_0-logloss:0.00130\tvalidation_0-error:0.00023\tvalidation_0-auc:0.97825\n",
      "[112]\tvalidation_0-logloss:0.00130\tvalidation_0-error:0.00023\tvalidation_0-auc:0.97809\n",
      "[113]\tvalidation_0-logloss:0.00130\tvalidation_0-error:0.00023\tvalidation_0-auc:0.97829\n",
      "[114]\tvalidation_0-logloss:0.00130\tvalidation_0-error:0.00023\tvalidation_0-auc:0.97838\n",
      "[115]\tvalidation_0-logloss:0.00130\tvalidation_0-error:0.00023\tvalidation_0-auc:0.97849\n",
      "[116]\tvalidation_0-logloss:0.00130\tvalidation_0-error:0.00023\tvalidation_0-auc:0.97897\n",
      "[117]\tvalidation_0-logloss:0.00130\tvalidation_0-error:0.00023\tvalidation_0-auc:0.97906\n",
      "[118]\tvalidation_0-logloss:0.00130\tvalidation_0-error:0.00023\tvalidation_0-auc:0.97918\n",
      "[119]\tvalidation_0-logloss:0.00130\tvalidation_0-error:0.00023\tvalidation_0-auc:0.97925\n",
      "[120]\tvalidation_0-logloss:0.00129\tvalidation_0-error:0.00023\tvalidation_0-auc:0.97939\n",
      "[121]\tvalidation_0-logloss:0.00129\tvalidation_0-error:0.00023\tvalidation_0-auc:0.97954\n",
      "[122]\tvalidation_0-logloss:0.00129\tvalidation_0-error:0.00023\tvalidation_0-auc:0.97942\n",
      "[123]\tvalidation_0-logloss:0.00129\tvalidation_0-error:0.00023\tvalidation_0-auc:0.97942\n",
      "[124]\tvalidation_0-logloss:0.00129\tvalidation_0-error:0.00023\tvalidation_0-auc:0.97945\n",
      "[125]\tvalidation_0-logloss:0.00129\tvalidation_0-error:0.00023\tvalidation_0-auc:0.97967\n",
      "[126]\tvalidation_0-logloss:0.00129\tvalidation_0-error:0.00023\tvalidation_0-auc:0.97964\n",
      "[127]\tvalidation_0-logloss:0.00129\tvalidation_0-error:0.00023\tvalidation_0-auc:0.97973\n",
      "[128]\tvalidation_0-logloss:0.00129\tvalidation_0-error:0.00023\tvalidation_0-auc:0.97972\n",
      "[129]\tvalidation_0-logloss:0.00129\tvalidation_0-error:0.00023\tvalidation_0-auc:0.97977\n",
      "[130]\tvalidation_0-logloss:0.00129\tvalidation_0-error:0.00023\tvalidation_0-auc:0.97976\n",
      "[131]\tvalidation_0-logloss:0.00129\tvalidation_0-error:0.00023\tvalidation_0-auc:0.97971\n",
      "[132]\tvalidation_0-logloss:0.00129\tvalidation_0-error:0.00023\tvalidation_0-auc:0.97968\n",
      "[133]\tvalidation_0-logloss:0.00129\tvalidation_0-error:0.00023\tvalidation_0-auc:0.97979\n",
      "[134]\tvalidation_0-logloss:0.00129\tvalidation_0-error:0.00023\tvalidation_0-auc:0.97998\n",
      "[135]\tvalidation_0-logloss:0.00129\tvalidation_0-error:0.00023\tvalidation_0-auc:0.97988\n",
      "[136]\tvalidation_0-logloss:0.00129\tvalidation_0-error:0.00023\tvalidation_0-auc:0.98003\n",
      "[137]\tvalidation_0-logloss:0.00129\tvalidation_0-error:0.00023\tvalidation_0-auc:0.98008\n",
      "[138]\tvalidation_0-logloss:0.00129\tvalidation_0-error:0.00023\tvalidation_0-auc:0.98021\n",
      "[139]\tvalidation_0-logloss:0.00129\tvalidation_0-error:0.00023\tvalidation_0-auc:0.98024\n",
      "[140]\tvalidation_0-logloss:0.00129\tvalidation_0-error:0.00023\tvalidation_0-auc:0.98030\n",
      "[141]\tvalidation_0-logloss:0.00129\tvalidation_0-error:0.00023\tvalidation_0-auc:0.98021\n",
      "[142]\tvalidation_0-logloss:0.00129\tvalidation_0-error:0.00023\tvalidation_0-auc:0.98023\n",
      "[143]\tvalidation_0-logloss:0.00129\tvalidation_0-error:0.00023\tvalidation_0-auc:0.98027\n",
      "[144]\tvalidation_0-logloss:0.00129\tvalidation_0-error:0.00023\tvalidation_0-auc:0.98031\n",
      "[145]\tvalidation_0-logloss:0.00129\tvalidation_0-error:0.00023\tvalidation_0-auc:0.98045\n",
      "[146]\tvalidation_0-logloss:0.00129\tvalidation_0-error:0.00023\tvalidation_0-auc:0.98054\n",
      "[147]\tvalidation_0-logloss:0.00129\tvalidation_0-error:0.00023\tvalidation_0-auc:0.98060\n",
      "[148]\tvalidation_0-logloss:0.00129\tvalidation_0-error:0.00023\tvalidation_0-auc:0.98066\n",
      "[149]\tvalidation_0-logloss:0.00129\tvalidation_0-error:0.00023\tvalidation_0-auc:0.98074\n",
      "[150]\tvalidation_0-logloss:0.00129\tvalidation_0-error:0.00023\tvalidation_0-auc:0.98066\n",
      "[151]\tvalidation_0-logloss:0.00129\tvalidation_0-error:0.00023\tvalidation_0-auc:0.98064\n",
      "[152]\tvalidation_0-logloss:0.00129\tvalidation_0-error:0.00023\tvalidation_0-auc:0.98071\n",
      "[153]\tvalidation_0-logloss:0.00129\tvalidation_0-error:0.00023\tvalidation_0-auc:0.98073\n",
      "[154]\tvalidation_0-logloss:0.00129\tvalidation_0-error:0.00023\tvalidation_0-auc:0.98072\n",
      "[155]\tvalidation_0-logloss:0.00129\tvalidation_0-error:0.00023\tvalidation_0-auc:0.98066\n",
      "[156]\tvalidation_0-logloss:0.00129\tvalidation_0-error:0.00023\tvalidation_0-auc:0.98065\n",
      "[157]\tvalidation_0-logloss:0.00129\tvalidation_0-error:0.00023\tvalidation_0-auc:0.98060\n",
      "[158]\tvalidation_0-logloss:0.00129\tvalidation_0-error:0.00023\tvalidation_0-auc:0.98058\n",
      "[159]\tvalidation_0-logloss:0.00129\tvalidation_0-error:0.00023\tvalidation_0-auc:0.98060\n",
      "Test ROC AUC: 0.9807\n"
     ]
    }
   ],
   "source": [
    "\n",
    "# === Model with best parameters ===\n",
    "model = XGBClassifier(\n",
    "    tree_method='hist',\n",
    "    device='cuda',\n",
    "    max_depth=10,\n",
    "    learning_rate=0.08567,\n",
    "    n_estimators=387,\n",
    "    subsample=0.2547,\n",
    "    gamma=0.511,\n",
    "    early_stopping_rounds=10,\n",
    "    eval_metric=['logloss', 'error', 'auc'],\n",
    "    use_label_encoder=False,\n",
    "    missing=np.nan\n",
    ")\n",
    "\n",
    "model.fit(\n",
    "    X_train, y_train,\n",
    "    sample_weight=sw_train,\n",
    "    eval_set=[(X_test, y_test)],\n",
    "    sample_weight_eval_set=[sw_test],\n",
    "    verbose=True\n",
    ")\n",
    "\n",
    "# === Evaluation ===\n",
    "y_test_pred_proba = model.predict_proba(X_test)[:, 1]\n",
    "Auc = roc_auc_score(y_test, y_test_pred_proba, sample_weight=sw_test)\n",
    "df_output = df_ml_input.copy()\n",
    "df_output[\"MLBDTScore\"] = model.predict_proba(df_ml_input.drop(Vars_drop, axis=1))[:, 1]\n",
    "df[\"MLBDTScore\"] = model.predict_proba(df_ml_input.drop(Vars_drop, axis=1))[:, 1]\n",
    "print(f\"Test ROC AUC: {Auc:.4f}\")\n",
    "\n",
    "# save the dataframe to csv file\n",
    "# df.to_csv(\"/data/jlai/ntups/bdt_output/bdt_0mu.csv\", index=False)\n",
    "\n",
    "# save the model\n",
    "# model.save_model(\"/data/jlai/ntups/bdt_output/bdt_0mu_model.json\")"
   ]
  },
  {
   "cell_type": "code",
   "execution_count": 33,
   "id": "86452ed7-2b55-47c8-b8e8-c90f1456ce51",
   "metadata": {},
   "outputs": [
    {
     "data": {
      "image/png": "[encoded data removed]",
      "text/plain": [
       "<Figure size 700x700 with 1 Axes>"
      ]
     },
     "metadata": {},
     "output_type": "display_data"
    },
    {
     "data": {
      "image/png": "[encoded data removed]",
      "text/plain": [
       "<Figure size 800x500 with 1 Axes>"
      ]
     },
     "metadata": {},
     "output_type": "display_data"
    }
   ],
   "source": [
    "fpr, tpr, _ = roc_curve(y_test, y_test_pred_proba, sample_weight=sw_test)\n",
    "plt.figure(figsize=(7, 7))\n",
    "plt.plot(fpr, tpr, label=\"ROC (AUC = {:.3f})\".format(roc_auc_score(y_test, y_test_pred_proba, sample_weight=sw_test)))\n",
    "plt.plot([0, 1], [0, 1], 'k--')\n",
    "plt.xlabel(\"False Positive Rate\")\n",
    "plt.ylabel(\"True Positive Rate\")\n",
    "plt.title(\"ROC Curve\")\n",
    "plt.legend()\n",
    "plt.grid(True)\n",
    "plt.tight_layout()\n",
    "\n",
    "# plt.savefig(\"roc_randomsearch.png\")\n",
    "plt.show()\n",
    "\n",
    "importances = model.feature_importances_\n",
    "indices = np.argsort(importances)\n",
    "selected_columns = df_ml_input.drop(Vars_drop, axis=1).columns\n",
    "\n",
    "plt.figure(figsize=(8, 5))\n",
    "bars = plt.barh(range(len(selected_columns)), importances[indices], align='center')\n",
    "\n",
    "# Set y-ticks with feature names\n",
    "plt.yticks(range(len(selected_columns)), [selected_columns[i] for i in indices])\n",
    "plt.xlabel('Importance')\n",
    "plt.title('Feature Importances from the BDT')\n",
    "\n",
    "# Annotate each bar with the importance value\n",
    "for i, bar in enumerate(bars):\n",
    "    width = bar.get_width()\n",
    "    plt.text(width + 0.001, bar.get_y() + bar.get_height()/2,\n",
    "             f'{width:.3f}', va='center', fontsize=8)\n",
    "plt.tight_layout()\n",
    "# plt.savefig(\"feature_importance.png\")\n",
    "plt.show()"
   ]
  },
  {
   "cell_type": "code",
   "execution_count": 36,
   "id": "0c5f51db-9c0b-4523-aa0f-865df6637978",
   "metadata": {},
   "outputs": [
    {
     "name": "stdout",
     "output_type": "stream",
     "text": [
      "Max S/√B: 4.003, Acceptance: 38.11868675216264 %\n"
     ]
    }
   ],
   "source": [
    "def compute_significance(df, cut=0.5):\n",
    "    s = df[(df[\"label\"] == 1) & (df[\"MLBDTScore\"] >= cut)][\"weights\"].sum()\n",
    "    b = df[(df[\"label\"] == 0) & (df[\"MLBDTScore\"] >= cut)][\"weights\"].sum()\n",
    "    return s / np.sqrt(b) if b > 0 else 0, s/df[(df['label'] == 1)]['weights'].sum()\n",
    "\n",
    "max_sig, acceptance = max(compute_significance(df_output, cut) for cut in np.arange(0.0, 0.15, 0.01))\n",
    "print(f\"Max S/√B: {max_sig:.3f}, Acceptance: {acceptance*100} %\")"
   ]
  },
  {
   "cell_type": "code",
   "execution_count": 13,
   "id": "ec7f4e86-8f52-41f6-b62b-41a9fbc0f66a",
   "metadata": {},
   "outputs": [
    {
     "name": "stdout",
     "output_type": "stream",
     "text": [
      "Wgamma 789.6597103356083\n",
      "Wjets 675.8530084242116\n",
      "Zgamma 420.4914626049809\n",
      "Zjets 1.4754961619473759\n",
      "data23 41.703696516930236\n",
      "gammajet_direct 5.8786821963088585\n",
      "ggHyyd 176.07867482430558\n"
     ]
    }
   ],
   "source": [
    "ntuple_names = np.unique(df_output['process'])\n",
    "for i in range(len(ntuple_names)):\n",
    "    process = ntuple_names[i]\n",
    "    df_tmp = df_output[df_output.process == process]\n",
    "    df_tmp = df_tmp.replace(np.nan, -999)\n",
    "    df_tmp = df_tmp[df_tmp.MLBDTScore > 0.04]\n",
    "    print(process, sum(df_tmp['weights']))"
   ]
  },
  {
   "cell_type": "code",
   "execution_count": 38,
   "id": "6011e4c3-44ad-4bce-b5c9-2756a58b5b96",
   "metadata": {},
   "outputs": [
    {
     "name": "stdout",
     "output_type": "stream",
     "text": [
      "Saved plot to significance_MLBDTScore_lowercut.png\n"
     ]
    },
    {
     "data": {
      "image/png": "[encoded data removed]",
      "text/plain": [
       "<Figure size 800x1000 with 2 Axes>"
      ]
     },
     "metadata": {},
     "output_type": "display_data"
    }
   ],
   "source": [
    "def binomial_significance(s, b):\n",
    "    return s / np.sqrt(b) if b > 0 else 0\n",
    "\n",
    "def s_over_sb(s, b):\n",
    "    return s / np.sqrt(s + b) if (s + b) > 0 else 0\n",
    "\n",
    "def s_over_s1p3b(s, b):\n",
    "    return s / np.sqrt(s + 1.3 * b) if (s + 1.3 * b) > 0 else 0\n",
    "\n",
    "def scan_significance(df, cut_var=\"MLBDTScore\", cut_type=\"lowercut\", cuts=np.arange(0, 0.71, 0.01)):\n",
    "    sig_sqrtb = []\n",
    "    sig_sqrt_sb = []\n",
    "    sig_sqrt_s1p3b = []\n",
    "    sig_zbi = []\n",
    "\n",
    "    sigacc_sqrtb = []\n",
    "    sigacc_sqrt_sb = []\n",
    "    sigacc_sqrt_s1p3b = []\n",
    "    sigacc_zbi = []\n",
    "\n",
    "    acc_values = []\n",
    "\n",
    "    df_sig = df[df[\"label\"] == 1]\n",
    "    df_bkg = df[df[\"label\"] == 0]\n",
    "    total_sig_weight = df_sig[\"weights\"].sum()\n",
    "\n",
    "    for cut in cuts:\n",
    "        if cut_type == \"lowercut\":\n",
    "            sig_cut = df_sig[df_sig[cut_var] >= cut]\n",
    "            bkg_cut = df_bkg[df_bkg[cut_var] >= cut]\n",
    "        elif cut_type == \"uppercut\":\n",
    "            sig_cut = df_sig[df_sig[cut_var] <= cut]\n",
    "            bkg_cut = df_bkg[df_bkg[cut_var] <= cut]\n",
    "        else:\n",
    "            raise ValueError(\"Invalid cut type\")\n",
    "\n",
    "        s = sig_cut[\"weights\"].sum()\n",
    "        b = bkg_cut[\"weights\"].sum()\n",
    "        acceptance = s / total_sig_weight if total_sig_weight > 0 else 0\n",
    "\n",
    "        # Compute significance\n",
    "        sig1 = binomial_significance(s, b)\n",
    "        sig2 = s_over_sb(s, b)\n",
    "        sig3 = s_over_s1p3b(s, b)\n",
    "        sig4 = zbi(s, b)\n",
    "\n",
    "        sig_sqrtb.append(sig1)\n",
    "        sig_sqrt_sb.append(sig2)\n",
    "        sig_sqrt_s1p3b.append(sig3)\n",
    "        sig_zbi.append(sig4)\n",
    "\n",
    "        sigacc_sqrtb.append(sig1 * acceptance)\n",
    "        sigacc_sqrt_sb.append(sig2 * acceptance)\n",
    "        sigacc_sqrt_s1p3b.append(sig3 * acceptance)\n",
    "        sigacc_zbi.append(sig4 * acceptance)\n",
    "\n",
    "        acc_values.append(acceptance * 100)\n",
    "\n",
    "    return cuts, acc_values, sig_sqrtb, sig_sqrt_sb, sig_sqrt_s1p3b, sig_zbi, \\\n",
    "           sigacc_sqrtb, sigacc_sqrt_sb, sigacc_sqrt_s1p3b, sigacc_zbi\n",
    "\n",
    "\n",
    "def plot_significance(cuts, acc, sig1, sig2, sig3, sig4,\n",
    "                      sigacc1, sigacc2, sigacc3, sigacc4,\n",
    "                      cut_var, cut_type, save_path):\n",
    "\n",
    "    fig, (ax1, ax2) = plt.subplots(2, 1, figsize=(8, 10), sharex=True)\n",
    "\n",
    "    # Plot Significance\n",
    "    ax1.plot(cuts, sig1, marker='o', label='S/√B')\n",
    "    ax1.plot(cuts, sig2, marker='s', label='S/√(S+B)')\n",
    "    ax1.plot(cuts, sig3, marker='^', label='S/√(S+1.3B)')\n",
    "    ax1.plot(cuts, sig4, marker='x', label='ZBi')\n",
    "\n",
    "    ax1.set_ylabel('Significance')\n",
    "    ax1.set_title(f'Significance vs. {cut_var} ({cut_type})')\n",
    "    ax1.grid(True)\n",
    "    ax1.legend()\n",
    "\n",
    "    # Plot Significance × Acceptance\n",
    "    ax2.plot(cuts, sigacc1, marker='o', label='(S/√B) × Acc')\n",
    "    ax2.plot(cuts, sigacc2, marker='s', label='(S/√(S+B)) × Acc')\n",
    "    ax2.plot(cuts, sigacc3, marker='^', label='(S/√(S+1.3B)) × Acc')\n",
    "    ax2.plot(cuts, sigacc4, marker='x', label='ZBi × Acc')\n",
    "\n",
    "    for i, txt in enumerate(acc):\n",
    "        ax2.text(cuts[i], sigacc1[i], f'{txt:.1f}%', fontsize=8, color='purple', ha='right', va='bottom')\n",
    "\n",
    "    ax2.set_xlabel(f'{cut_var} Cut')\n",
    "    ax2.set_ylabel('Significance × Acceptance')\n",
    "    ax2.set_title(f'Significance × Acceptance vs. {cut_var} ({cut_type})')\n",
    "    ax2.grid(True)\n",
    "    ax2.legend()\n",
    "    ax2.xaxis.set_major_formatter(FormatStrFormatter('%.2f'))\n",
    "    ax2.set_xticks(cuts)\n",
    "    ax2.set_xticklabels(cuts, rotation=45, ha='right')\n",
    "\n",
    "    plt.tight_layout()\n",
    "    plt.savefig(save_path)\n",
    "    print(f\"Saved plot to {save_path}\")\n",
    "    plt.show()\n",
    "\n",
    "\n",
    "cut_var = \"MLBDTScore\"\n",
    "cut_type = \"lowercut\"\n",
    "cut_values = np.arange(0, 0.4 + 3e-12, 0.01)\n",
    "\n",
    "(cuts, acc, sig1, sig2, sig3, sig4,\n",
    " sigacc1, sigacc2, sigacc3, sigacc4) = scan_significance(df_output, cut_var, cut_type, cut_values)\n",
    "\n",
    "plot_significance(\n",
    "    cuts, acc, sig1, sig2, sig3, sig4,\n",
    "    sigacc1, sigacc2, sigacc3, sigacc4,\n",
    "    cut_var=cut_var,\n",
    "    cut_type=cut_type,\n",
    "    save_path=f\"significance_{cut_var}_{cut_type}.png\"\n",
    ")\n"
   ]
  },
  {
   "cell_type": "code",
   "execution_count": 45,
   "id": "3ccdd16d-9234-44fb-b59f-90aed329ab64",
   "metadata": {},
   "outputs": [
    {
     "name": "stdout",
     "output_type": "stream",
     "text": [
      "================================================================================\n",
      "[DEBUG] Variable: mt | Preselection: MLBDTScore >= 0.04\n",
      "================================================================================\n",
      "\n",
      "[Per-process stats after preselection & finite filtering]\n",
      "           Wgamma | n=   4321 | sum_w=     609.352 | sum_w2=     349.178 | neg_w=   391 | nonfinite_dropped=   0 | x∈[100.07932, 536.988]\n",
      "            Wjets | n=   1462 | sum_w=     468.683 | sum_w2=     710.092 | neg_w=   177 | nonfinite_dropped=   0 | x∈[100.001015, 342.97833]\n",
      "           Zgamma | n=   6614 | sum_w=     326.863 | sum_w2=     68.0212 | neg_w=   435 | nonfinite_dropped=   0 | x∈[100.01464, 629.2625]\n",
      "            Zjets | n=     15 | sum_w=      1.4755 | sum_w2=    0.384216 | neg_w=     0 | nonfinite_dropped=   0 | x∈[100.43417, 136.46017]\n",
      "           data23 | n=      4 | sum_w=     41.7037 | sum_w2=      437.27 | neg_w=     0 | nonfinite_dropped=   0 | x∈[100.79901, 131.10966]\n",
      "  gammajet_direct | n=    164 | sum_w=     5.87868 | sum_w2=     15.9993 | neg_w=     0 | nonfinite_dropped=   0 | x∈[100.84532, 940.4442]\n",
      "           ggHyyd | n=   1684 | sum_w=     176.079 | sum_w2=     20.6467 | neg_w=     0 | nonfinite_dropped=   0 | x∈[100.00724, 212.13152]\n",
      "\n",
      "[Merged stats]\n",
      "  Signal: n=1684, sum_w=176.079, neg_w=0\n",
      "  Bkg   : n=12580, sum_w=1453.96, neg_w=1003\n",
      "\n",
      "[Bin edges]\n",
      "  nbins=15, edges[0]=0.0, edges[-1]=300.0\n",
      "\n",
      "[First few bin contents]\n",
      "  bin   0: S=           0 | B=           0\n",
      "  bin   1: S=           0 | B=           0\n",
      "  bin   2: S=           0 | B=           0\n",
      "  bin   3: S=           0 | B=           0\n",
      "  bin   4: S=           0 | B=           0\n",
      "  bin   5: S=     92.2334 | B=     880.881\n",
      "  bin   6: S=     74.3103 | B=     463.333\n",
      "  bin   7: S=     9.33136 | B=     86.9241\n",
      "  bin   8: S=           0 | B=     12.8509\n",
      "  bin   9: S=   0.0922492 | B=     5.76227\n",
      "\n",
      "[Problematic bin indices]\n",
      "  B<=0 bins          : [0, 1, 2, 3, 4]\n",
      "  S+B<=0 bins        : [0, 1, 2, 3, 4]\n",
      "  S+1.3B<=0 bins     : [0, 1, 2, 3, 4]\n",
      "\n",
      "[Per-bin significance (first few)]\n",
      "  bin   0: S/√B=         0 | S/√(S+B)=         0 | S/√(S+1.3B)=         0\n",
      "  bin   1: S/√B=         0 | S/√(S+B)=         0 | S/√(S+1.3B)=         0\n",
      "  bin   2: S/√B=         0 | S/√(S+B)=         0 | S/√(S+1.3B)=         0\n",
      "  bin   3: S/√B=         0 | S/√(S+B)=         0 | S/√(S+1.3B)=         0\n",
      "  bin   4: S/√B=         0 | S/√(S+B)=         0 | S/√(S+1.3B)=         0\n",
      "  bin   5: S/√B=   3.10763 | S/√(S+B)=   2.95669 | S/√(S+1.3B)=   2.62203\n",
      "  bin   6: S/√B=   3.45225 | S/√(S+B)=    3.2048 | S/√(S+1.3B)=   2.85673\n",
      "  bin   7: S/√B=   1.00086 | S/√(S+B)=  0.951114 | S/√(S+1.3B)=  0.843672\n",
      "  bin   8: S/√B=         0 | S/√(S+B)=         0 | S/√(S+1.3B)=         0\n",
      "  bin   9: S/√B= 0.0384296 | S/√(S+B)= 0.0381256 | S/√(S+1.3B)= 0.0334994\n",
      "\n",
      "[Totals]\n",
      "  totS=176.079, totB=1453.76\n",
      "  S/√B=4.61807 | S/√(S+B)=4.36148 | S/√(S+1.3B)=3.87387 | ZBi=0.192728\n",
      "  [WARN] ROC failed: x is neither increasing nor decreasing : [0.00000000e+00 7.32109837e-08 7.48472344e-08 ... 9.99622130e-01\n",
      " 9.99622130e-01 1.00000000e+00].\n",
      "\n",
      "[Log-scale OK?] False (requires all stacked B > 0)\n",
      "================================================================================\n"
     ]
    }
   ],
   "source": [
    "import numpy as np\n",
    "\n",
    "def debug_one_var(\n",
    "    var_name,\n",
    "    signal_name='ggHyyd',\n",
    "    pre_cut_var='MLBDTScore',\n",
    "    pre_cut_thr=0.04,\n",
    "    sigma_b_frac=0.3\n",
    "):\n",
    "    print(\"=\"*80)\n",
    "    print(f\"[DEBUG] Variable: {var_name} | Preselection: {pre_cut_var} >= {pre_cut_thr}\")\n",
    "    print(\"=\"*80)\n",
    "\n",
    "    # Collect arrays per process\n",
    "    bg_values, bg_weights, bg_labels = [], [], []\n",
    "    sig_values, sig_weights = [], []\n",
    "    all_proc_stats = []\n",
    "\n",
    "    for process in ntuple_names:\n",
    "        df_tmp = df[df.process == process]\n",
    "        if pre_cut_var in df_tmp.columns:\n",
    "            df_tmp = df_tmp[df_tmp[pre_cut_var] >= pre_cut_thr]\n",
    "\n",
    "        if var_name not in df_tmp.columns:\n",
    "            print(f\"  [WARN] {var_name} not in dataframe for process {process}; skipping.\")\n",
    "            continue\n",
    "\n",
    "        x = df_tmp[var_name].to_numpy()\n",
    "        w = df_tmp['weights'].to_numpy()\n",
    "\n",
    "        # Finite mask\n",
    "        finite_mask = np.isfinite(x) & np.isfinite(w)\n",
    "        n_nonfinite = x.size - finite_mask.sum()\n",
    "\n",
    "        x = x[finite_mask].astype(np.float64, copy=False)\n",
    "        w = w[finite_mask].astype(np.float64, copy=False)\n",
    "\n",
    "        n_neg_w = (w < 0).sum()\n",
    "        sum_w = w.sum()\n",
    "        sum_w2 = (w**2).sum()\n",
    "        x_min = np.nanmin(x) if x.size else np.nan\n",
    "        x_max = np.nanmax(x) if x.size else np.nan\n",
    "\n",
    "        all_proc_stats.append({\n",
    "            \"process\": process,\n",
    "            \"n_events\": x.size,\n",
    "            \"sum_w\": float(sum_w),\n",
    "            \"sum_w2\": float(sum_w2),\n",
    "            \"n_neg_w\": int(n_neg_w),\n",
    "            \"n_nonfinite_dropped\": int(n_nonfinite),\n",
    "            \"x_min\": float(x_min) if np.isfinite(x_min) else x_min,\n",
    "            \"x_max\": float(x_max) if np.isfinite(x_max) else x_max,\n",
    "        })\n",
    "\n",
    "        if process == signal_name:\n",
    "            sig_values.append(x)\n",
    "            sig_weights.append(w)\n",
    "        else:\n",
    "            bg_values.append(x)\n",
    "            bg_weights.append(w)\n",
    "            bg_labels.append(sample_dict.get(process, {}).get('legend', process))\n",
    "\n",
    "    # Print per-process summary\n",
    "    print(\"\\n[Per-process stats after preselection & finite filtering]\")\n",
    "    for s in all_proc_stats:\n",
    "        print(f\"  {s['process']:>15} | n={s['n_events']:>7} | sum_w={s['sum_w']:>12.6g} \"\n",
    "              f\"| sum_w2={s['sum_w2']:>12.6g} | neg_w={s['n_neg_w']:>6} \"\n",
    "              f\"| nonfinite_dropped={s['n_nonfinite_dropped']:>4} \"\n",
    "              f\"| x∈[{s['x_min']}, {s['x_max']}]\")\n",
    "\n",
    "    # Flatten\n",
    "    sig_all = np.concatenate(sig_values) if sig_values else np.array([], dtype=np.float64)\n",
    "    sig_wts = np.concatenate(sig_weights) if sig_weights else np.array([], dtype=np.float64)\n",
    "    bg_all  = np.concatenate(bg_values)  if bg_values  else np.array([], dtype=np.float64)\n",
    "    bg_wts  = np.concatenate(bg_weights) if bg_weights else np.array([], dtype=np.float64)\n",
    "\n",
    "    print(\"\\n[Merged stats]\")\n",
    "    print(f\"  Signal: n={sig_all.size}, sum_w={sig_wts.sum():.6g}, neg_w={(sig_wts<0).sum()}\")\n",
    "    print(f\"  Bkg   : n={bg_all.size}, sum_w={bg_wts.sum():.6g}, neg_w={(bg_wts<0).sum()}\")\n",
    "\n",
    "    # Load binning from your var config\n",
    "    var_cfg = getVarDict(signal_name, signal_name, var_name=var_name)\n",
    "    if var_name not in var_cfg:\n",
    "        print(f\"[ERROR] getVarDict did not return config for {var_name}. Got keys: {list(var_cfg.keys())}\")\n",
    "        return\n",
    "\n",
    "    bins_cfg = var_cfg[var_name]['bins']\n",
    "    # Robust bins: allow int or edges\n",
    "    if np.isscalar(bins_cfg):\n",
    "        if sig_all.size + bg_all.size:\n",
    "            lo = np.nanmin(np.concatenate([sig_all, bg_all])) if (sig_all.size and bg_all.size) else (\n",
    "                 np.nanmin(sig_all) if sig_all.size else np.nanmin(bg_all))\n",
    "            hi = np.nanmax(np.concatenate([sig_all, bg_all])) if (sig_all.size and bg_all.size) else (\n",
    "                 np.nanmax(sig_all) if sig_all.size else np.nanmax(bg_all))\n",
    "            if not np.isfinite(lo) or not np.isfinite(hi) or lo == hi:\n",
    "                lo, hi = 0.0, 1.0\n",
    "        else:\n",
    "            lo, hi = 0.0, 1.0\n",
    "        bins = np.linspace(lo, hi, int(bins_cfg)+1)\n",
    "    else:\n",
    "        bins = np.asarray(bins_cfg, dtype=float)\n",
    "\n",
    "    print(\"\\n[Bin edges]\")\n",
    "    print(f\"  nbins={len(bins)-1}, edges[0]={bins[0]}, edges[-1]={bins[-1]}\")\n",
    "\n",
    "    # Histograms\n",
    "    S_counts, _ = np.histogram(sig_all, bins=bins, weights=sig_wts)\n",
    "    B_counts, _ = np.histogram(bg_all,  bins=bins, weights=bg_wts)\n",
    "\n",
    "    # Quick peek at first few bins\n",
    "    show = min(10, len(S_counts))\n",
    "    print(\"\\n[First few bin contents]\")\n",
    "    for i in range(show):\n",
    "        print(f\"  bin {i:>3}: S={S_counts[i]:>12.6g} | B={B_counts[i]:>12.6g}\")\n",
    "\n",
    "    # Problematic bins\n",
    "    idx_B_le0 = np.where(B_counts <= 0)[0]\n",
    "    idx_SB_le0 = np.where(S_counts + B_counts <= 0)[0]\n",
    "    idx_S1p3B_le0 = np.where(S_counts + 1.3*B_counts <= 0)[0]\n",
    "\n",
    "    print(\"\\n[Problematic bin indices]\")\n",
    "    print(f\"  B<=0 bins          : {idx_B_le0.tolist()}\")\n",
    "    print(f\"  S+B<=0 bins        : {idx_SB_le0.tolist()}\")\n",
    "    print(f\"  S+1.3B<=0 bins     : {idx_S1p3B_le0.tolist()}\")\n",
    "\n",
    "    # Significance (safe)\n",
    "    S_pos = np.clip(S_counts, 0.0, None)\n",
    "    B_pos = np.clip(B_counts, 0.0, None)\n",
    "\n",
    "    with np.errstate(divide='ignore', invalid='ignore'):\n",
    "        sig_simple = np.where(B_pos > 0, S_pos/np.sqrt(B_pos), 0.0)\n",
    "        sig_spb    = np.where(S_pos + B_pos > 0, S_pos/np.sqrt(S_pos + B_pos), 0.0)\n",
    "        sig_s1p3b  = np.where(S_pos + 1.3*B_pos > 0, S_pos/np.sqrt(S_pos + 1.3*B_pos), 0.0)\n",
    "\n",
    "    print(\"\\n[Per-bin significance (first few)]\")\n",
    "    for i in range(show):\n",
    "        print(f\"  bin {i:>3}: S/√B={sig_simple[i]:>10.6g} | S/√(S+B)={sig_spb[i]:>10.6g} | S/√(S+1.3B)={sig_s1p3b[i]:>10.6g}\")\n",
    "\n",
    "    # Totals\n",
    "    totS = float(np.nansum(S_pos))\n",
    "    totB = float(np.nansum(B_pos))\n",
    "\n",
    "    def safe_zbi(S, B, frac):\n",
    "        try:\n",
    "            return float(zbi(S, B, sigma_b_frac=frac))\n",
    "        except Exception as e:\n",
    "            print(f\"  [WARN] zbi failed with S={S}, B={B}: {e}\")\n",
    "            return float(\"nan\")\n",
    "\n",
    "    tot_sig_sqrtB     = (totS/np.sqrt(totB))                  if totB > 0 else 0.0\n",
    "    tot_sig_sqrtSB    = (totS/np.sqrt(totS + totB))           if (totS + totB) > 0 else 0.0\n",
    "    tot_sig_sqrtS1p3B = (totS/np.sqrt(totS + 1.3*totB))       if (totS + 1.3*totB) > 0 else 0.0\n",
    "    tot_zbi           = safe_zbi(totS, max(totB, 0.0), sigma_b_frac)\n",
    "\n",
    "    print(\"\\n[Totals]\")\n",
    "    print(f\"  totS={totS:.6g}, totB={totB:.6g}\")\n",
    "    print(f\"  S/√B={tot_sig_sqrtB:.6g} | S/√(S+B)={tot_sig_sqrtSB:.6g} | S/√(S+1.3B)={tot_sig_sqrtS1p3B:.6g} | ZBi={tot_zbi:.6g}\")\n",
    "\n",
    "    # ROC (only if both sides exist)\n",
    "    if sig_all.size > 0 and bg_all.size > 0:\n",
    "        y_true = np.concatenate([np.ones(sig_all.size, dtype=int), np.zeros(bg_all.size, dtype=int)])\n",
    "        y_scores = np.concatenate([sig_all, bg_all])\n",
    "        y_wts = np.concatenate([sig_wts, bg_wts])\n",
    "\n",
    "        # Filter non-finite\n",
    "        m = np.isfinite(y_scores) & np.isfinite(y_wts)\n",
    "        y_true = y_true[m]; y_scores = y_scores[m]; y_wts = y_wts[m]\n",
    "\n",
    "        try:\n",
    "            from sklearn.metrics import roc_curve, auc\n",
    "            fpr, tpr, _ = roc_curve(y_true, y_scores, sample_weight=y_wts)\n",
    "            roc_auc = auc(fpr, tpr)\n",
    "            print(\"\\n[ROC]\")\n",
    "            print(f\"  n_points={fpr.size}, AUC={roc_auc:.6g}, \"\n",
    "                  f\"scores∈[{np.nanmin(y_scores):.6g}, {np.nanmax(y_scores):.6g}]\")\n",
    "        except Exception as e:\n",
    "            print(f\"  [WARN] ROC failed: {e}\")\n",
    "    else:\n",
    "        print(\"\\n[ROC] Skipped (empty signal or background after preselection).\")\n",
    "\n",
    "    # Log-scale feasibility (stacked background must be >0 per bin)\n",
    "    can_log = (B_counts.size > 0) and np.all(np.isfinite(B_counts)) and np.all(B_counts > 0)\n",
    "    print(f\"\\n[Log-scale OK?] {can_log} (requires all stacked B > 0)\")\n",
    "    print(\"=\"*80)\n",
    "\n",
    "# ---- HOW TO RUN (example) ----\n",
    "# debug_one_var(\"balance\")     # replace with the variable that triggered warnings\n",
    "debug_one_var(\"mt\")"
   ]
  },
  {
   "cell_type": "code",
   "execution_count": 47,
   "id": "5fd00872-000a-49bf-a864-ef76e333e06d",
   "metadata": {},
   "outputs": [
    {
     "name": "stderr",
     "output_type": "stream",
     "text": [
      "divide by zero encountered in divide\n",
      "invalid value encountered in divide\n",
      "invalid value encountered in divide\n",
      "invalid value encountered in divide\n"
     ]
    },
    {
     "name": "stdout",
     "output_type": "stream",
     "text": [
      "successfully saved to /data/jlai/dark_photon/jets_faking_photons/lumi135/mc23d_bdt0mucut/balance_nodijet.png\n",
      "successfully saved to /data/jlai/dark_photon/jets_faking_photons/lumi135/mc23d_bdt0mucut/roc_curve_balance.png\n"
     ]
    },
    {
     "name": "stderr",
     "output_type": "stream",
     "text": [
      "invalid value encountered in divide\n",
      "invalid value encountered in divide\n",
      "invalid value encountered in divide\n"
     ]
    },
    {
     "name": "stdout",
     "output_type": "stream",
     "text": [
      "successfully saved to /data/jlai/dark_photon/jets_faking_photons/lumi135/mc23d_bdt0mucut/dmet_nodijet.png\n",
      "successfully saved to /data/jlai/dark_photon/jets_faking_photons/lumi135/mc23d_bdt0mucut/roc_curve_dmet.png\n"
     ]
    },
    {
     "name": "stderr",
     "output_type": "stream",
     "text": [
      "invalid value encountered in divide\n",
      "invalid value encountered in divide\n",
      "invalid value encountered in divide\n"
     ]
    },
    {
     "name": "stdout",
     "output_type": "stream",
     "text": [
      "successfully saved to /data/jlai/dark_photon/jets_faking_photons/lumi135/mc23d_bdt0mucut/dphi_jj_nodijet.png\n",
      "successfully saved to /data/jlai/dark_photon/jets_faking_photons/lumi135/mc23d_bdt0mucut/roc_curve_dphi_jj.png\n"
     ]
    },
    {
     "name": "stderr",
     "output_type": "stream",
     "text": [
      "invalid value encountered in divide\n",
      "invalid value encountered in divide\n",
      "invalid value encountered in divide\n"
     ]
    },
    {
     "name": "stdout",
     "output_type": "stream",
     "text": [
      "successfully saved to /data/jlai/dark_photon/jets_faking_photons/lumi135/mc23d_bdt0mucut/dphi_met_central_jet_nodijet.png\n",
      "successfully saved to /data/jlai/dark_photon/jets_faking_photons/lumi135/mc23d_bdt0mucut/roc_curve_dphi_met_central_jet.png\n"
     ]
    },
    {
     "name": "stderr",
     "output_type": "stream",
     "text": [
      "invalid value encountered in divide\n",
      "invalid value encountered in divide\n",
      "invalid value encountered in divide\n"
     ]
    },
    {
     "name": "stdout",
     "output_type": "stream",
     "text": [
      "successfully saved to /data/jlai/dark_photon/jets_faking_photons/lumi135/mc23d_bdt0mucut/dphi_met_phterm_nodijet.png\n",
      "successfully saved to /data/jlai/dark_photon/jets_faking_photons/lumi135/mc23d_bdt0mucut/roc_curve_dphi_met_phterm.png\n"
     ]
    },
    {
     "name": "stderr",
     "output_type": "stream",
     "text": [
      "invalid value encountered in divide\n",
      "invalid value encountered in divide\n",
      "invalid value encountered in divide\n"
     ]
    },
    {
     "name": "stdout",
     "output_type": "stream",
     "text": [
      "successfully saved to /data/jlai/dark_photon/jets_faking_photons/lumi135/mc23d_bdt0mucut/dphi_met_ph_nodijet.png\n",
      "successfully saved to /data/jlai/dark_photon/jets_faking_photons/lumi135/mc23d_bdt0mucut/roc_curve_dphi_met_ph.png\n"
     ]
    },
    {
     "name": "stderr",
     "output_type": "stream",
     "text": [
      "invalid value encountered in divide\n",
      "invalid value encountered in divide\n",
      "invalid value encountered in divide\n"
     ]
    },
    {
     "name": "stdout",
     "output_type": "stream",
     "text": [
      "successfully saved to /data/jlai/dark_photon/jets_faking_photons/lumi135/mc23d_bdt0mucut/dphi_met_jetterm_nodijet.png\n",
      "successfully saved to /data/jlai/dark_photon/jets_faking_photons/lumi135/mc23d_bdt0mucut/roc_curve_dphi_met_jetterm.png\n"
     ]
    },
    {
     "name": "stderr",
     "output_type": "stream",
     "text": [
      "invalid value encountered in divide\n",
      "invalid value encountered in divide\n",
      "invalid value encountered in divide\n"
     ]
    },
    {
     "name": "stdout",
     "output_type": "stream",
     "text": [
      "successfully saved to /data/jlai/dark_photon/jets_faking_photons/lumi135/mc23d_bdt0mucut/dphi_phterm_jetterm_nodijet.png\n",
      "successfully saved to /data/jlai/dark_photon/jets_faking_photons/lumi135/mc23d_bdt0mucut/roc_curve_dphi_phterm_jetterm.png\n"
     ]
    },
    {
     "name": "stderr",
     "output_type": "stream",
     "text": [
      "invalid value encountered in divide\n",
      "invalid value encountered in divide\n",
      "invalid value encountered in divide\n"
     ]
    },
    {
     "name": "stdout",
     "output_type": "stream",
     "text": [
      "successfully saved to /data/jlai/dark_photon/jets_faking_photons/lumi135/mc23d_bdt0mucut/dphi_ph_centraljet1_nodijet.png\n",
      "successfully saved to /data/jlai/dark_photon/jets_faking_photons/lumi135/mc23d_bdt0mucut/roc_curve_dphi_ph_centraljet1.png\n"
     ]
    },
    {
     "name": "stderr",
     "output_type": "stream",
     "text": [
      "invalid value encountered in divide\n",
      "invalid value encountered in divide\n",
      "invalid value encountered in divide\n"
     ]
    },
    {
     "name": "stdout",
     "output_type": "stream",
     "text": [
      "successfully saved to /data/jlai/dark_photon/jets_faking_photons/lumi135/mc23d_bdt0mucut/ph_pt_nodijet.png\n",
      "successfully saved to /data/jlai/dark_photon/jets_faking_photons/lumi135/mc23d_bdt0mucut/roc_curve_ph_pt.png\n"
     ]
    },
    {
     "name": "stderr",
     "output_type": "stream",
     "text": [
      "invalid value encountered in divide\n",
      "invalid value encountered in divide\n",
      "invalid value encountered in divide\n"
     ]
    },
    {
     "name": "stdout",
     "output_type": "stream",
     "text": [
      "successfully saved to /data/jlai/dark_photon/jets_faking_photons/lumi135/mc23d_bdt0mucut/ph_eta_nodijet.png\n",
      "successfully saved to /data/jlai/dark_photon/jets_faking_photons/lumi135/mc23d_bdt0mucut/roc_curve_ph_eta.png\n"
     ]
    },
    {
     "name": "stderr",
     "output_type": "stream",
     "text": [
      "invalid value encountered in divide\n",
      "invalid value encountered in divide\n",
      "invalid value encountered in divide\n"
     ]
    },
    {
     "name": "stdout",
     "output_type": "stream",
     "text": [
      "successfully saved to /data/jlai/dark_photon/jets_faking_photons/lumi135/mc23d_bdt0mucut/ph_phi_nodijet.png\n",
      "successfully saved to /data/jlai/dark_photon/jets_faking_photons/lumi135/mc23d_bdt0mucut/roc_curve_ph_phi.png\n"
     ]
    },
    {
     "name": "stderr",
     "output_type": "stream",
     "text": [
      "invalid value encountered in divide\n",
      "invalid value encountered in divide\n",
      "invalid value encountered in divide\n"
     ]
    },
    {
     "name": "stdout",
     "output_type": "stream",
     "text": [
      "successfully saved to /data/jlai/dark_photon/jets_faking_photons/lumi135/mc23d_bdt0mucut/jet_central_eta_nodijet.png\n",
      "successfully saved to /data/jlai/dark_photon/jets_faking_photons/lumi135/mc23d_bdt0mucut/roc_curve_jet_central_eta.png\n"
     ]
    },
    {
     "name": "stderr",
     "output_type": "stream",
     "text": [
      "invalid value encountered in divide\n",
      "invalid value encountered in divide\n",
      "invalid value encountered in divide\n"
     ]
    },
    {
     "name": "stdout",
     "output_type": "stream",
     "text": [
      "successfully saved to /data/jlai/dark_photon/jets_faking_photons/lumi135/mc23d_bdt0mucut/jet_central_pt1_nodijet.png\n",
      "successfully saved to /data/jlai/dark_photon/jets_faking_photons/lumi135/mc23d_bdt0mucut/roc_curve_jet_central_pt1.png\n"
     ]
    },
    {
     "name": "stderr",
     "output_type": "stream",
     "text": [
      "invalid value encountered in divide\n",
      "invalid value encountered in divide\n",
      "invalid value encountered in divide\n"
     ]
    },
    {
     "name": "stdout",
     "output_type": "stream",
     "text": [
      "successfully saved to /data/jlai/dark_photon/jets_faking_photons/lumi135/mc23d_bdt0mucut/jet_central_pt2_nodijet.png\n",
      "successfully saved to /data/jlai/dark_photon/jets_faking_photons/lumi135/mc23d_bdt0mucut/roc_curve_jet_central_pt2.png\n"
     ]
    },
    {
     "name": "stderr",
     "output_type": "stream",
     "text": [
      "invalid value encountered in divide\n",
      "invalid value encountered in divide\n",
      "invalid value encountered in divide\n"
     ]
    },
    {
     "name": "stdout",
     "output_type": "stream",
     "text": [
      "successfully saved to /data/jlai/dark_photon/jets_faking_photons/lumi135/mc23d_bdt0mucut/jetterm_nodijet.png\n",
      "successfully saved to /data/jlai/dark_photon/jets_faking_photons/lumi135/mc23d_bdt0mucut/roc_curve_jetterm.png\n"
     ]
    },
    {
     "name": "stderr",
     "output_type": "stream",
     "text": [
      "invalid value encountered in divide\n",
      "invalid value encountered in divide\n",
      "invalid value encountered in divide\n"
     ]
    },
    {
     "name": "stdout",
     "output_type": "stream",
     "text": [
      "successfully saved to /data/jlai/dark_photon/jets_faking_photons/lumi135/mc23d_bdt0mucut/jetterm_sumet_nodijet.png\n",
      "successfully saved to /data/jlai/dark_photon/jets_faking_photons/lumi135/mc23d_bdt0mucut/roc_curve_jetterm_sumet.png\n"
     ]
    },
    {
     "name": "stderr",
     "output_type": "stream",
     "text": [
      "invalid value encountered in divide\n",
      "invalid value encountered in divide\n",
      "invalid value encountered in divide\n"
     ]
    },
    {
     "name": "stdout",
     "output_type": "stream",
     "text": [
      "successfully saved to /data/jlai/dark_photon/jets_faking_photons/lumi135/mc23d_bdt0mucut/metsig_nodijet.png\n",
      "successfully saved to /data/jlai/dark_photon/jets_faking_photons/lumi135/mc23d_bdt0mucut/roc_curve_metsig.png\n"
     ]
    },
    {
     "name": "stderr",
     "output_type": "stream",
     "text": [
      "invalid value encountered in divide\n",
      "invalid value encountered in divide\n",
      "invalid value encountered in divide\n"
     ]
    },
    {
     "name": "stdout",
     "output_type": "stream",
     "text": [
      "successfully saved to /data/jlai/dark_photon/jets_faking_photons/lumi135/mc23d_bdt0mucut/metsigres_nodijet.png\n",
      "successfully saved to /data/jlai/dark_photon/jets_faking_photons/lumi135/mc23d_bdt0mucut/roc_curve_metsigres.png\n"
     ]
    },
    {
     "name": "stderr",
     "output_type": "stream",
     "text": [
      "invalid value encountered in divide\n",
      "invalid value encountered in divide\n",
      "invalid value encountered in divide\n"
     ]
    },
    {
     "name": "stdout",
     "output_type": "stream",
     "text": [
      "successfully saved to /data/jlai/dark_photon/jets_faking_photons/lumi135/mc23d_bdt0mucut/met_nodijet.png\n",
      "successfully saved to /data/jlai/dark_photon/jets_faking_photons/lumi135/mc23d_bdt0mucut/roc_curve_met.png\n"
     ]
    },
    {
     "name": "stderr",
     "output_type": "stream",
     "text": [
      "invalid value encountered in divide\n",
      "invalid value encountered in divide\n",
      "invalid value encountered in divide\n"
     ]
    },
    {
     "name": "stdout",
     "output_type": "stream",
     "text": [
      "successfully saved to /data/jlai/dark_photon/jets_faking_photons/lumi135/mc23d_bdt0mucut/met_noJVT_nodijet.png\n",
      "successfully saved to /data/jlai/dark_photon/jets_faking_photons/lumi135/mc23d_bdt0mucut/roc_curve_met_noJVT.png\n"
     ]
    },
    {
     "name": "stderr",
     "output_type": "stream",
     "text": [
      "invalid value encountered in divide\n",
      "invalid value encountered in divide\n",
      "invalid value encountered in divide\n"
     ]
    },
    {
     "name": "stdout",
     "output_type": "stream",
     "text": [
      "successfully saved to /data/jlai/dark_photon/jets_faking_photons/lumi135/mc23d_bdt0mucut/metplusph_nodijet.png\n",
      "successfully saved to /data/jlai/dark_photon/jets_faking_photons/lumi135/mc23d_bdt0mucut/roc_curve_metplusph.png\n",
      "successfully saved to /data/jlai/dark_photon/jets_faking_photons/lumi135/mc23d_bdt0mucut/failJVT_jet_pt1_nodijet.png\n",
      "successfully saved to /data/jlai/dark_photon/jets_faking_photons/lumi135/mc23d_bdt0mucut/roc_curve_failJVT_jet_pt1.png\n"
     ]
    },
    {
     "name": "stderr",
     "output_type": "stream",
     "text": [
      "invalid value encountered in divide\n",
      "invalid value encountered in divide\n",
      "invalid value encountered in divide\n"
     ]
    },
    {
     "name": "stdout",
     "output_type": "stream",
     "text": [
      "successfully saved to /data/jlai/dark_photon/jets_faking_photons/lumi135/mc23d_bdt0mucut/softerm_nodijet.png\n",
      "successfully saved to /data/jlai/dark_photon/jets_faking_photons/lumi135/mc23d_bdt0mucut/roc_curve_softerm.png\n"
     ]
    },
    {
     "name": "stderr",
     "output_type": "stream",
     "text": [
      "invalid value encountered in divide\n",
      "invalid value encountered in divide\n",
      "invalid value encountered in divide\n"
     ]
    },
    {
     "name": "stdout",
     "output_type": "stream",
     "text": [
      "successfully saved to /data/jlai/dark_photon/jets_faking_photons/lumi135/mc23d_bdt0mucut/n_jet_central_nodijet.png\n",
      "successfully saved to /data/jlai/dark_photon/jets_faking_photons/lumi135/mc23d_bdt0mucut/roc_curve_n_jet_central.png\n"
     ]
    },
    {
     "name": "stderr",
     "output_type": "stream",
     "text": [
      "invalid value encountered in divide\n",
      "invalid value encountered in divide\n",
      "invalid value encountered in divide\n"
     ]
    },
    {
     "name": "stdout",
     "output_type": "stream",
     "text": [
      "successfully saved to /data/jlai/dark_photon/jets_faking_photons/lumi135/mc23d_bdt0mucut/mt_nodijet.png\n",
      "successfully saved to /data/jlai/dark_photon/jets_faking_photons/lumi135/mc23d_bdt0mucut/roc_curve_mt.png\n"
     ]
    }
   ],
   "source": [
    "from sklearn.metrics import roc_curve, roc_auc_score, auc, accuracy_score, log_loss\n",
    "\n",
    "signal_name = 'ggHyyd'  # Define signal dataset\n",
    "cut_name = 'bdt0mu'\n",
    "corr_features = df.drop(Vars_drop, axis=1)\n",
    "\n",
    "for cut_var_tmp in corr_features.columns:\n",
    "# for cut_var_tmp in ['mt']:\n",
    "    var_config = getVarDict(signal_name, 'ggHyyd', var_name=cut_var_tmp)\n",
    "    \n",
    "    for var in var_config:\n",
    "        # print(var)\n",
    "        bg_values = []     \n",
    "        bg_weights = []    \n",
    "        bg_colors = []     \n",
    "        bg_labels = []     \n",
    "    \n",
    "        signal_values = [] \n",
    "        signal_weights = []\n",
    "        signal_color = None \n",
    "        signal_label = None\n",
    "    \n",
    "        for j in range(len(ntuple_names)):\n",
    "            process = ntuple_names[j]\n",
    "            df_tmp = df[df.process == process]\n",
    "            df_tmp = df_tmp[df_tmp.MLBDTScore >= 0.04]\n",
    "            \n",
    "            x = df_tmp[var]\n",
    "            bins = var_config[var]['bins'] \n",
    "            # weights = df_tmp['weights']\n",
    "            weights = abs(df_tmp['weights'])\n",
    "            \n",
    "            sample_info = sample_dict[process]\n",
    "            color = sample_info['color']\n",
    "            legend = sample_info['legend']\n",
    "    \n",
    "            \n",
    "            if process == signal_name:  # signal\n",
    "                signal_values.append(x)\n",
    "                signal_weights.append(weights)\n",
    "                signal_color = color\n",
    "                signal_label = legend\n",
    "            else:   # background\n",
    "                bg_values.append(x)\n",
    "                bg_weights.append(weights)\n",
    "                bg_colors.append(color)\n",
    "                bg_labels.append(legend)\n",
    "    \n",
    "        fig, (ax_top, ax_bot) = plt.subplots(2, 1, figsize=(12, 13), gridspec_kw={'height_ratios': [9, 4]})\n",
    "    \n",
    "        ax_top.hist(bg_values, bins=bins, weights=bg_weights, color=bg_colors,\n",
    "                    label=bg_labels, stacked=True)\n",
    "    \n",
    "        ax_top.hist(signal_values, bins=bins, weights=signal_weights, color=signal_color,\n",
    "                    label=signal_label, histtype='step', linewidth=2)\n",
    "    \n",
    "        signal_all = np.concatenate(signal_values) if len(signal_values) > 0 else np.array([])\n",
    "        signal_weights_all = np.concatenate(signal_weights) if len(signal_weights) > 0 else np.array([])\n",
    "    \n",
    "        # Add error bar for signal (top plot)\n",
    "        if len(signal_all) > 0:\n",
    "            signal_counts, bin_edges = np.histogram(signal_all, bins=bins, weights=signal_weights_all)\n",
    "            sum_weights_sq, _ = np.histogram(signal_all, bins=bins, weights=signal_weights_all**2)\n",
    "            bin_centers = (bin_edges[:-1] + bin_edges[1:]) / 2\n",
    "            signal_errors = np.sqrt(sum_weights_sq)  # Poisson error sqrt(N)\n",
    "    \n",
    "            ax_top.errorbar(bin_centers, signal_counts, yerr=signal_errors, fmt='.', linewidth=2,\n",
    "                            color=signal_color, capsize=0)\n",
    "    \n",
    "        ax_top.set_yscale('log')\n",
    "        ax_top.set_ylim(0.0001, 1e11)\n",
    "        ax_top.set_xlim(bins[0], bins[-1])\n",
    "        ax_top.minorticks_on()\n",
    "        ax_top.grid(True, which=\"both\", linestyle=\"--\", linewidth=0.5)\n",
    "        ax_top.set_ylabel(\"Events\")\n",
    "        ax_top.legend(ncol=2)\n",
    "        # ax_top.set_title(\"vtx_sumPt distribution\")\n",
    "    \n",
    "        bg_all = np.concatenate(bg_values) if len(bg_values) > 0 else np.array([])\n",
    "        bg_weights_all = np.concatenate(bg_weights) if len(bg_weights) > 0 else np.array([])\n",
    "    \n",
    "        # Compute the weighted histogram counts using np.histogram\n",
    "        S_counts, _ = np.histogram(signal_all, bins=bins, weights=signal_weights_all)\n",
    "        B_counts, _ = np.histogram(bg_all, bins=bins, weights=bg_weights_all)     \n",
    "    \n",
    "        # Compute per-bin significance\n",
    "        sig_simple = np.zeros_like(S_counts, dtype=float)\n",
    "        sig_s_plus_b = np.zeros_like(S_counts, dtype=float)\n",
    "        sig_s_plus_1p3b = np.zeros_like(S_counts, dtype=float)\n",
    "    \n",
    "        sqrt_B = np.sqrt(B_counts)\n",
    "        sqrt_SplusB = np.sqrt(S_counts + B_counts)\n",
    "        sqrt_Splus1p3B = np.sqrt(S_counts + 1.3 * B_counts)\n",
    "    \n",
    "        # Avoid division by zero safely\n",
    "        sig_simple = np.where(B_counts > 0, S_counts / sqrt_B, 0)\n",
    "        sig_s_plus_b = np.where((S_counts + B_counts) > 0, S_counts / sqrt_SplusB, 0)\n",
    "        sig_s_plus_1p3b = np.where((S_counts + 1.3 * B_counts) > 0, S_counts / sqrt_Splus1p3B, 0)\n",
    "    \n",
    "        # Add Binomial ExpZ per bin\n",
    "        zbi_per_bin = np.array([\n",
    "            zbi(S_counts[i], B_counts[i], sigma_b_frac=0.3)\n",
    "            for i in range(len(S_counts))\n",
    "        ])\n",
    "    \n",
    "        # Compute the bin centers for plotting\n",
    "        bin_centers = 0.5 * (bins[:-1] + bins[1:])\n",
    "    \n",
    "        # Compute the total significance: total S / sqrt(total B)\n",
    "        total_signal = np.sum(S_counts)\n",
    "        total_bkg = np.sum(B_counts)\n",
    "    \n",
    "        if total_bkg > 0:\n",
    "            total_sig_simple = total_signal / np.sqrt(total_bkg)\n",
    "            total_sig_s_plus_b = total_signal / np.sqrt(total_signal + total_bkg)\n",
    "            total_sig_s_plus_1p3b = total_signal / np.sqrt(total_signal + 1.3 * total_bkg)\n",
    "            total_sig_binomial = zbi(total_signal, total_bkg, sigma_b_frac=0.3)\n",
    "        else:\n",
    "            total_sig_simple = total_sig_s_plus_b = total_sig_s_plus_1p3b = total_sig_binomial = 0\n",
    "    \n",
    "        # --- Plot all significance curves ---\n",
    "        ax_bot.step(bin_centers, sig_simple, where='mid', color='chocolate', linewidth=2,\n",
    "                    label=f\"S/√B = {total_sig_simple:.4f}\")\n",
    "        ax_bot.step(bin_centers, sig_s_plus_b, where='mid', color='tomato', linewidth=2,\n",
    "                    label=f\"S/√(S+B) = {total_sig_s_plus_b:.4f}\")\n",
    "        ax_bot.step(bin_centers, sig_s_plus_1p3b, where='mid', color='orange', linewidth=2,\n",
    "                    label=f\"S/√(S+1.3B) = {total_sig_s_plus_1p3b:.4f}\")\n",
    "        ax_bot.step(bin_centers, zbi_per_bin, where='mid', color='plum', linewidth=2,\n",
    "                    label=f\"Binomial ExpZ = {total_sig_binomial:.4f}\")\n",
    "    \n",
    "        ax_bot.set_xlabel(var_config[var]['title'])\n",
    "        # ax_bot.set_xticks(np.linspace(bins[0], bins[-1], 11))\n",
    "        ax_bot.set_ylabel(\"Significance\")\n",
    "        ax_bot.set_ylim(-0.8, 2)\n",
    "        ax_top.set_xlim(bins[0], bins[-1])\n",
    "    \n",
    "        # Do not set a title on the bottom plot.\n",
    "        ax_bot.set_title(\"\")\n",
    "    \n",
    "        # Draw a legend with purple text.\n",
    "        leg = ax_bot.legend()\n",
    "        for text in leg.get_texts():\n",
    "            text.set_color('purple')\n",
    "    \n",
    "        plt.xlim(bins[0], bins[-1])\n",
    "        plt.tight_layout()\n",
    "        plt.savefig(f\"/data/jlai/dark_photon/jets_faking_photons/lumi135/mc23d_{cut_name}cut/{var}_nodijet.png\")\n",
    "        print(f\"successfully saved to /data/jlai/dark_photon/jets_faking_photons/lumi135/mc23d_{cut_name}cut/{var}_nodijet.png\")\n",
    "        plt.close()\n",
    "        # plt.show()\n",
    "    \n",
    "        y_true = np.concatenate([np.ones_like(signal_all), np.zeros_like(bg_all)])\n",
    "        # Use the vtx_sumPt values as the classifier output.\n",
    "        y_scores = np.concatenate([signal_all, bg_all])\n",
    "        # Combine the weights for all events.\n",
    "        y_weights = np.concatenate([signal_weights_all, bg_weights_all])\n",
    "    \n",
    "        # Compute the weighted ROC curve.\n",
    "        fpr, tpr, thresholds = roc_curve(y_true, y_scores, sample_weight=y_weights)\n",
    "        sorted_indices = np.argsort(fpr)\n",
    "        fpr_sorted = fpr[sorted_indices]\n",
    "        tpr_sorted = tpr[sorted_indices]\n",
    "    \n",
    "        roc_auc = auc(fpr_sorted, tpr_sorted)\n",
    "    \n",
    "        # Create a new figure for the ROC curve.\n",
    "        plt.figure(figsize=(8, 8))\n",
    "        plt.plot(fpr, tpr, lw=2, color='red', label=f'ROC curve (AUC = {roc_auc:.5f})')\n",
    "        plt.plot([0, 1], [0, 1], linestyle='--', color='gray', label='Random chance')\n",
    "        plt.xlabel(\"False Positive Rate\")\n",
    "        plt.ylabel(\"True Positive Rate\")\n",
    "        plt.title(f\"ROC Curve for {var}\")\n",
    "        plt.legend(loc=\"lower right\")\n",
    "        plt.grid(True, which=\"both\", linestyle=\"--\", linewidth=0.5)\n",
    "        plt.tight_layout()    \n",
    "        plt.savefig(f\"/data/jlai/dark_photon/jets_faking_photons/lumi135/mc23d_{cut_name}cut/roc_curve_{var}.png\")\n",
    "        print(f\"successfully saved to /data/jlai/dark_photon/jets_faking_photons/lumi135/mc23d_{cut_name}cut/roc_curve_{var}.png\")\n",
    "        plt.close()\n",
    "        # plt.show()\n"
   ]
  }
 ],
 "metadata": {
  "kernelspec": {
   "display_name": "Python 3 (ipykernel)",
   "language": "python",
   "name": "python3"
  },
  "language_info": {
   "codemirror_mode": {
    "name": "ipython",
    "version": 3
   },
   "file_extension": ".py",
   "mimetype": "text/x-python",
   "name": "python",
   "nbconvert_exporter": "python",
   "pygments_lexer": "ipython3",
   "version": "3.8.10"
  }
 },
 "nbformat": 4,
 "nbformat_minor": 5
}
